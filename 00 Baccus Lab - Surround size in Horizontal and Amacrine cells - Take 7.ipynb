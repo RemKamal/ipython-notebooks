{
 "metadata": {
  "name": "",
  "signature": "sha256:6d7b2dd4ba5a92f6c3fdb47bafc53384a24e2e74704b19f135559e25e9b48334"
 },
 "nbformat": 3,
 "nbformat_minor": 0,
 "worksheets": [
  {
   "cells": [
    {
     "cell_type": "code",
     "collapsed": false,
     "input": [
      "import numpy as np\n",
      "import brewer2mpl\n",
      "from math import tanh\n",
      "from scipy.optimize import minimize\n",
      "from scipy.interpolate import interp1d\n",
      "import time\n",
      "#from datetime import datetime"
     ],
     "language": "python",
     "metadata": {},
     "outputs": [],
     "prompt_number": 1
    },
    {
     "cell_type": "code",
     "collapsed": false,
     "input": [
      "cd .."
     ],
     "language": "python",
     "metadata": {},
     "outputs": [
      {
       "output_type": "stream",
       "stream": "stdout",
       "text": [
        "/home/lane\n"
       ]
      }
     ],
     "prompt_number": 2
    },
    {
     "cell_type": "code",
     "collapsed": false,
     "input": [
      "cd information-theory-toolbox/"
     ],
     "language": "python",
     "metadata": {},
     "outputs": [
      {
       "output_type": "stream",
       "stream": "stdout",
       "text": [
        "/home/lane/information-theory-toolbox\n"
       ]
      }
     ],
     "prompt_number": 3
    },
    {
     "cell_type": "code",
     "collapsed": false,
     "input": [
      "from info_theory_functions import *"
     ],
     "language": "python",
     "metadata": {},
     "outputs": [],
     "prompt_number": 4
    },
    {
     "cell_type": "code",
     "collapsed": false,
     "input": [
      "cd .."
     ],
     "language": "python",
     "metadata": {},
     "outputs": [
      {
       "output_type": "stream",
       "stream": "stdout",
       "text": [
        "/home/lane\n"
       ]
      }
     ],
     "prompt_number": 5
    },
    {
     "cell_type": "code",
     "collapsed": false,
     "input": [
      "cd iPython_notebooks/"
     ],
     "language": "python",
     "metadata": {},
     "outputs": [
      {
       "output_type": "stream",
       "stream": "stdout",
       "text": [
        "/home/lane/iPython_notebooks\n"
       ]
      }
     ],
     "prompt_number": 6
    },
    {
     "cell_type": "markdown",
     "metadata": {},
     "source": [
      "# Functions"
     ]
    },
    {
     "cell_type": "code",
     "collapsed": false,
     "input": [
      "def nonlinearity(x,K=1.,g=1.,theta=0.,mode='sigmoid',normalized=False):\n",
      "    if normalized:\n",
      "        if mode == 'sigmoid':\n",
      "            n = K/(1+np.exp(-g*(x - theta)))\n",
      "        elif mode == 'tanh':\n",
      "            if type(x)==list or type(x)==numpy.ndarray:\n",
      "                n = [g*tanh(a-theta) + K - g for a in x]\n",
      "            else:\n",
      "                n = g*tanh(x-theta) + K - g\n",
      "        return np.array(n)/np.sqrt(np.var(np.array(n)))\n",
      "    else:\n",
      "        if mode == 'sigmoid':\n",
      "            return K/(1+np.exp(-g*(x - theta)))\n",
      "        elif mode == 'tanh':\n",
      "            if type(x)==list or type(x)==numpy.ndarray:\n",
      "                return [g*tanh(a-theta) + K - g for a in x]\n",
      "            else:\n",
      "                return g*tanh(x-theta) + K - g"
     ],
     "language": "python",
     "metadata": {},
     "outputs": [],
     "prompt_number": 7
    },
    {
     "cell_type": "code",
     "collapsed": false,
     "input": [
      "def gaussian(xs=np.linspace(-5,5,50),sigma=1.,mu=0.):\n",
      "     return np.array([(1./(2.*pi*sigma**2))*np.exp((-(x-mu)**2.)/(2.*sigma**2)) for x in xs])"
     ],
     "language": "python",
     "metadata": {},
     "outputs": [],
     "prompt_number": 8
    },
    {
     "cell_type": "code",
     "collapsed": false,
     "input": [
      "def center_1d(center_scale=1.,center_width=1.,surround_width=2.,xs_num=50):\n",
      "    xs_all=np.linspace(-5,5,xs_num)\n",
      "    center = gaussian(xs=xs_all,sigma=center_width,mu=0.)\n",
      "    center = center/np.sum(center)\n",
      "    return center    "
     ],
     "language": "python",
     "metadata": {},
     "outputs": [],
     "prompt_number": 78
    },
    {
     "cell_type": "code",
     "collapsed": false,
     "input": [
      "def surround_1d(center_scale=1.,center_width=1.,surround_width=2.,xs_num=50):\n",
      "    '''ratio = integral of surround/integral of center\n",
      "       center_scale = integral of center\n",
      "       center_width = variance of the center gaussian\n",
      "       surround_width = variance of the surround gaussian\n",
      "       xs = the number of points computed'''\n",
      "    xs_all=np.linspace(-5,5,xs_num)\n",
      "    surround = gaussian(xs=xs_all,sigma=surround_width,mu=0.)\n",
      "    surround = surround/np.sum(surround)\n",
      "    return surround"
     ],
     "language": "python",
     "metadata": {},
     "outputs": [],
     "prompt_number": 79
    },
    {
     "cell_type": "code",
     "collapsed": false,
     "input": [
      "def spatial_filter_2d(c_scale=1.,c_width=1.,s_width=2.,xs_num=50):\n",
      "    xs = np.linspace(-5,5,xs_num)\n",
      "    S = surround_1d(center_scale=c_scale,center_width=c_width,surround_width=s_width,xs_num=xs_num)\n",
      "    C = center_1d(center_scale=c_scale,center_width=c_width,surround_width=s_width,xs_num=xs_num)\n",
      "    S_2d = zeros((len(S),len(S)))\n",
      "    C_2d = zeros((len(C),len(C)))\n",
      "    for idx,x in enumerate(xs):\n",
      "        for idy,y in enumerate(xs):\n",
      "            S_2d[idx,idy] = S[np.min([int(np.sqrt((idx-np.floor(len(xs)/2.))**2 \n",
      "                                                     + (idy-np.floor(len(xs)/2.))**2) + np.floor(len(xs)/2.)), len(xs)-1])]\n",
      "            C_2d[idx,idy] = C[np.min([int(np.sqrt((idx-np.floor(len(xs)/2.))**2 \n",
      "                                                     + (idy-np.floor(len(xs)/2.))**2) + np.floor(len(xs)/2.)), len(xs)-1])]\n",
      "    # Make all surrounds have same peak sensitivity of 1.\n",
      "    S_2d = S_2d/np.max(S_2d)\n",
      "    # Make center have same integral as surround\n",
      "    C_2d = (np.sum(S_2d)/np.sum(C_2d))*C_2d\n",
      "    X = C_2d - S_2d\n",
      "    \n",
      "    return X/np.sqrt(np.var(X))"
     ],
     "language": "python",
     "metadata": {},
     "outputs": [],
     "prompt_number": 80
    },
    {
     "cell_type": "markdown",
     "metadata": {},
     "source": [
      "#### It seems from the interaction below that we can just fix the ratio for the time being, and then verify later that scale doesn't affect the results."
     ]
    },
    {
     "cell_type": "code",
     "collapsed": false,
     "input": [
      "from IPython.html.widgets import interact, interactive, fixed\n",
      "from IPython.html import widgets\n",
      "\n",
      "bmap = brewer2mpl.get_map('Greys','sequential',8,reverse=True).mpl_colormap\n",
      "def f(y,z,w):\n",
      "    fig = gcf()\n",
      "    fig.set_size_inches((10,3))\n",
      "    \n",
      "    subplot(1,2,1)\n",
      "    X_2d = spatial_filter_2d(c_scale=y,c_width=z,s_width=w,xs_num=15)\n",
      "    imshow(X_2d,cmap=bmap,interpolation='nearest')\n",
      "    colorbar()\n",
      "    \n",
      "    subplot(1,2,2)\n",
      "    plot(X_2d[len(X_2d)/2,:],'k')\n",
      "    print \"Variance is %f, sum is %f\" % (np.var(X_2d),np.sum(X_2d))\n",
      "\n",
      "blah = interact(f,y=50.,z=0.25,w=1.)"
     ],
     "language": "python",
     "metadata": {},
     "outputs": [
      {
       "output_type": "stream",
       "stream": "stdout",
       "text": [
        "Variance is 1.000000, sum is 0.000000\n"
       ]
      },
      {
       "metadata": {},
       "output_type": "display_data",
       "png": "[encoded data removed]",
       "text": [
        "<matplotlib.figure.Figure at 0x96d4990>"
       ]
      },
      {
       "output_type": "stream",
       "stream": "stdout",
       "text": [
        "\r"
       ]
      },
      {
       "output_type": "stream",
       "stream": "stderr",
       "text": [
        "\r"
       ]
      }
     ],
     "prompt_number": 82
    },
    {
     "cell_type": "markdown",
     "metadata": {},
     "source": [
      "## Natural images"
     ]
    },
    {
     "cell_type": "code",
     "collapsed": false,
     "input": [
      "import array\n",
      "from PIL import Image\n",
      "import glob, os"
     ],
     "language": "python",
     "metadata": {},
     "outputs": [],
     "prompt_number": 15
    },
    {
     "cell_type": "code",
     "collapsed": false,
     "input": [
      "cd ~/Natural_images/imc"
     ],
     "language": "python",
     "metadata": {},
     "outputs": [
      {
       "output_type": "stream",
       "stream": "stdout",
       "text": [
        "/home/lane/Natural_images/imc\n"
       ]
      }
     ],
     "prompt_number": 16
    },
    {
     "cell_type": "code",
     "collapsed": false,
     "input": [
      "def linear_prediction_natural(stimulus,sfilter,posx=0,posy=0):\n",
      "    '''stimulus is space x 1 or space x space\n",
      "       full_filter is space x time\n",
      "    '''\n",
      "    if shape(stimulus)[0] > shape(sfilter)[0]:\n",
      "        padded_spatial_filter = zeros((shape(stimulus)[0],shape(stimulus)[1]))\n",
      "        if posx > shape(stimulus)[0]:\n",
      "            print('posx is larger than spatial extent of stimulus')\n",
      "        if posy > shape(stimulus)[1]:\n",
      "            print('posy is larger than spatial extent of stimulus')\n",
      "        remainder_x = np.min([shape(stimulus)[0] - posx, shape(sfilter)[0]])\n",
      "        remainder_y = np.min([shape(stimulus)[1] - posy, shape(sfilter)[1]])\n",
      "        padded_spatial_filter[posx:posx+remainder_x,posy:posy+remainder_y] = sfilter[0:remainder_x,0:remainder_y]\n",
      "        sfilter = padded_spatial_filter\n",
      "\n",
      "    if shape(stimulus)[0] < shape(sfilter)[0]:\n",
      "        msg = 'Filter is too large; stim shape is (%d,%d), filter shape is (%d,%d)' % (shape(stimulus)[0],shape(stimulus)[1],\n",
      "                                                                                       shape(sfilter)[0],shape(sfilter)[1])\n",
      "        print(msg)\n",
      "\n",
      "    return np.sum(stimulus*sfilter)"
     ],
     "language": "python",
     "metadata": {},
     "outputs": [],
     "prompt_number": 17
    },
    {
     "cell_type": "code",
     "collapsed": false,
     "input": [
      "def lnl_natural(stimulus,s_width1,s_width2,c_scale1=50.,c_scale2=50.,c_width1=0.25,c_width2=0.25,numSubunits=16,\n",
      "        noise_model='after-nonlinearity',\n",
      "        xs_size1=16,xs_size2=16):\n",
      "    \n",
      "    SNR = 100.\n",
      "    \n",
      "    # NORMALIZE STIMULUS\n",
      "    stimulus = stimulus/np.sqrt(np.var(stimulus))\n",
      "    stimulus = stimulus - np.mean(stimulus)\n",
      "    \n",
      "    # CREATE FILTERS\n",
      "    X_2d1 = spatial_filter_2d(c_scale=c_scale1,c_width=c_width1,s_width=s_width1,xs_num=xs_size1)\n",
      "    X_2d2 = spatial_filter_2d(c_scale=c_scale2,c_width=c_width2,s_width=s_width2,xs_num=xs_size2)\n",
      "    \n",
      "    # DETERMINE SPACING OF L-N SUBUNITS\n",
      "    spacing_x = np.linspace(0,shape(stimulus)[0],numSubunits+2)\n",
      "    spacing_x = spacing_x[1:-1].astype(int)\n",
      "    spacing_y = np.linspace(0,shape(stimulus)[1],numSubunits+2)\n",
      "    spacing_y = spacing_y[1:-1].astype(int)\n",
      "    \n",
      "    # MAKE NONLINEARITY BE CDF OF FILTERED STANDARD GAUSSIAN\n",
      "    nSamples = 1000\n",
      "    num_bins = 50\n",
      "    pad_interpolation = 100\n",
      "    tmp = randn(xs_size1,xs_size1,nSamples)\n",
      "    fil = np.array([np.sum(tmp[:,:,t]*X_2d1) for t in xrange(nSamples)])\n",
      "    counts, bin_edges = numpy.histogram(fil, bins=num_bins, normed=True)\n",
      "    cdf = numpy.cumsum(counts)\n",
      "    cdf = cdf/np.max(cdf)\n",
      "    cdf = np.insert(cdf,0,np.zeros(pad_interpolation,))\n",
      "    cdf = np.append(cdf,np.ones(pad_interpolation))\n",
      "    \n",
      "    arrange_back = np.array(range(pad_interpolation-1)[::-1])+1\n",
      "    arrange_forw = np.array(range(pad_interpolation))+1\n",
      "    bin_edges = np.insert(bin_edges,0,bin_edges[0]*np.ones(pad_interpolation-1)-arrange_back*(bin_edges[1]-bin_edges[0]))\n",
      "    bin_edges = np.append(bin_edges,bin_edges[-1]*np.ones(pad_interpolation)+arrange_forw*(bin_edges[-1]-bin_edges[-2]))\n",
      "    nonlinear = interp1d(bin_edges,cdf)\n",
      "\n",
      "    # FILTER STIMULUS\n",
      "    ls = [linear_prediction_natural(stimulus,sfilter=X_2d1,posx=i,posy=j) for i in spacing_x for j in spacing_y]\n",
      "    \n",
      "    # TAKE NONLINEAR TRANSFORMATION OF FILTER OUTPUT\n",
      "    if noise_model == 'after-nonlinearity':\n",
      "        ns = [nonlinear(l) + np.sqrt(1./SNR)*randn(1) for l in ls]\n",
      "    else:\n",
      "        ns = [nonlinear(l) for l in ls]\n",
      "    \n",
      "    # FILTER NONLINEAR OUTPUT\n",
      "    rs = linear_prediction_natural(np.array(ns),sfilter=X_2d2,posx=0,posy=0)\n",
      "    \n",
      "    return ls,ns,rs"
     ],
     "language": "python",
     "metadata": {},
     "outputs": [],
     "prompt_number": 26
    },
    {
     "cell_type": "markdown",
     "metadata": {},
     "source": [
      "## Investigate parameter space for natural images"
     ]
    },
    {
     "cell_type": "code",
     "collapsed": false,
     "input": [
      "# Surround width (starting now at 0.3 (compared to center width of 0.25), so that the surround doesn't become the center)\n",
      "s_width  = np.linspace(0.3,6,10)"
     ],
     "language": "python",
     "metadata": {},
     "outputs": [],
     "prompt_number": 19
    },
    {
     "cell_type": "markdown",
     "metadata": {},
     "source": [
      "#### Get image data"
     ]
    },
    {
     "cell_type": "code",
     "collapsed": false,
     "input": [
      "from os import listdir\n",
      "from os.path import isfile, join\n",
      "import os"
     ],
     "language": "python",
     "metadata": {},
     "outputs": [],
     "prompt_number": 20
    },
    {
     "cell_type": "code",
     "collapsed": false,
     "input": [
      "curr_dir = os.getcwd()\n",
      "allfiles = [f for f in listdir(curr_dir) if isfile(join(curr_dir,f)) and '.imc' in f]"
     ],
     "language": "python",
     "metadata": {},
     "outputs": [],
     "prompt_number": 21
    },
    {
     "cell_type": "code",
     "collapsed": false,
     "input": [
      "numImages = 20\n",
      "curr_dir  = os.getcwd()\n",
      "allfiles  = [f for f in listdir(curr_dir) if isfile(join(curr_dir,f)) and '.imc' in f]\n",
      "names     = allfiles[:numImages]\n",
      "\n",
      "img_patches = []\n",
      "patch_size = 16\n",
      "for im in names:\n",
      "    fin = open( im, 'rb' )\n",
      "    s = fin.read()\n",
      "    fin.close()\n",
      "    arr = array.array('H', s)\n",
      "    arr.byteswap()\n",
      "    img = numpy.array(arr, dtype='uint16').reshape(1024,1536)\n",
      "    img_center = [shape(img)[0]/2,shape(img)[1]/2]\n",
      "    img_patch = img[img_center[0]:img_center[0]+patch_size,img_center[1]:img_center[1]+patch_size]\n",
      "    img_patch = img_patch/np.sqrt(np.var(img_patch))\n",
      "    img_patches.append(img_patch - np.mean(img_patch))"
     ],
     "language": "python",
     "metadata": {},
     "outputs": [],
     "prompt_number": 24
    },
    {
     "cell_type": "code",
     "collapsed": false,
     "input": [
      "I = zeros((len(s_width),len(s_width)))\n",
      "H_rs = zeros((len(s_width),len(s_width)))\n",
      "H_r_s_avg = zeros((len(s_width),len(s_width)))\n",
      "rss = []\n",
      "for ids1,s1 in enumerate(s_width):\n",
      "    for ids2,s2 in enumerate(s_width):\n",
      "        start = time.time()                     \n",
      "        iterations = 80\n",
      "        output     = zeros((numImages,iterations))\n",
      "\n",
      "        for idi in xrange(numImages):\n",
      "            for it in xrange(iterations):\n",
      "                ls,ns,output[idi,it] = lnl_natural(img_patches[idi],\n",
      "                                                   s_width1=s1,\n",
      "                                                   s_width2=s2)\n",
      "\n",
      "        nBins = 10\n",
      "        # pad binning in off-chance that output has zero entropy\n",
      "        binning = np.linspace(np.min(output)-10e-5,np.max(output)+10e-5,nBins+1)\n",
      "\n",
      "        H_r = entropy(output.flat,Bins=[binning])\n",
      "        H_r_s = []\n",
      "        for s in xrange(int(numImages)):\n",
      "            H_r_s.append(entropy(output[s,:],Bins=[binning]))\n",
      "        I[ids1,ids2] = H_r - np.mean(H_r_s)\n",
      "        H_rs[ids1,ids2] = H_r\n",
      "        H_r_s_avg[ids1,ids2] = np.mean(H_r_s)\n",
      "\n",
      "        msg = 'Current sweep is (%d,%d) of (%d,%d).' % (ids1,ids2,len(s_width)-1,len(s_width)-1)\n",
      "        print msg,' It took', time.time()-start, 'seconds.'        "
     ],
     "language": "python",
     "metadata": {},
     "outputs": []
    },
    {
     "cell_type": "markdown",
     "metadata": {},
     "source": [
      "### Visualize results"
     ]
    },
    {
     "cell_type": "code",
     "collapsed": false,
     "input": [
      "fig = gcf()\n",
      "fig.set_size_inches((16,10))\n",
      "\n",
      "bmap = brewer2mpl.get_map('RdYlBu','diverging',8,reverse=True).mpl_colormap\n",
      "\n",
      "\n",
      "imshow(I[::-1,:],interpolation='nearest',cmap=bmap, extent=[s_width[0],s_width[-1],s_width[0],s_width[-1]])\n",
      "colorbar()\n",
      "ylabel('small - Filter 1 size - large',fontsize=14)\n",
      "xlabel('small - Filter 2 size - large',fontsize=14)"
     ],
     "language": "python",
     "metadata": {},
     "outputs": [
      {
       "metadata": {},
       "output_type": "pyout",
       "prompt_number": 36,
       "text": [
        "<matplotlib.text.Text at 0x46d2450>"
       ]
      },
      {
       "metadata": {},
       "output_type": "display_data",
       "png": "[encoded data removed]",
       "text": [
        "<matplotlib.figure.Figure at 0x4d03cd0>"
       ]
      }
     ],
     "prompt_number": 36
    },
    {
     "cell_type": "markdown",
     "metadata": {},
     "source": [
      "There's something very funky going on with extent; adding extent to imshow just flipped the matrix across the x axis"
     ]
    },
    {
     "cell_type": "markdown",
     "metadata": {},
     "source": [
      "Now the graph above is correct."
     ]
    },
    {
     "cell_type": "code",
     "collapsed": false,
     "input": [
      "I"
     ],
     "language": "python",
     "metadata": {},
     "outputs": [
      {
       "metadata": {},
       "output_type": "pyout",
       "prompt_number": 30,
       "text": [
        "array([[ 0.        ,  0.75140494,  2.01805698,  1.9995935 ,  1.98854309,\n",
        "         1.9727463 ,  2.00076341,  1.98055897,  1.99193449,  2.01990594],\n",
        "       [ 0.        ,  0.78168464,  2.14470572,  2.16119075,  2.13198054,\n",
        "         2.18768142,  2.15736575,  2.19205278,  2.1470334 ,  2.14217726],\n",
        "       [ 0.        ,  0.74219589,  2.25404317,  2.19189124,  2.20941478,\n",
        "         2.20685248,  2.22202106,  2.21198713,  2.18874563,  2.21363514],\n",
        "       [ 0.        ,  0.69112887,  2.22968155,  2.15419613,  2.19432303,\n",
        "         2.19296479,  2.21308244,  2.19212324,  2.19661083,  2.18745031],\n",
        "       [ 0.        ,  0.73906107,  2.15117986,  2.16881462,  2.17186037,\n",
        "         2.15561654,  2.14462543,  2.14016595,  2.15426917,  2.15980574],\n",
        "       [ 0.        ,  0.7168216 ,  2.13630455,  2.20592845,  2.13770146,\n",
        "         2.14813577,  2.16120716,  2.19058384,  2.16432275,  2.14673949],\n",
        "       [ 0.        ,  0.79986655,  2.22824038,  2.22531938,  2.21807567,\n",
        "         2.25654608,  2.23223541,  2.16211385,  2.12732425,  2.23721677],\n",
        "       [ 0.        ,  0.74651205,  2.27780065,  2.23561845,  2.22510701,\n",
        "         2.15796923,  2.28294046,  2.26065027,  2.23460716,  2.16275437],\n",
        "       [ 0.        ,  0.74726719,  2.28429808,  2.24940676,  2.26295891,\n",
        "         2.27749756,  2.27494957,  2.19067297,  2.30951944,  2.23545054],\n",
        "       [ 0.        ,  0.73811921,  2.26440852,  2.29829084,  2.28214916,\n",
        "         2.24058377,  2.25608116,  2.24292481,  2.25764785,  2.24230375]])"
       ]
      }
     ],
     "prompt_number": 30
    },
    {
     "cell_type": "code",
     "collapsed": false,
     "input": [
      "I[5,0]"
     ],
     "language": "python",
     "metadata": {},
     "outputs": [
      {
       "metadata": {},
       "output_type": "pyout",
       "prompt_number": 35,
       "text": [
        "0.0"
       ]
      }
     ],
     "prompt_number": 35
    },
    {
     "cell_type": "code",
     "collapsed": false,
     "input": [
      "fig = gcf()\n",
      "fig.set_size_inches((16,10))\n",
      "\n",
      "bmap = brewer2mpl.get_map('RdYlBu','diverging',8,reverse=True).mpl_colormap\n",
      "\n",
      "subplot(1,2,1)\n",
      "imshow(H_rs[::-1,:],interpolation='nearest',cmap=bmap,extent=[s_width[0],s_width[-1],s_width[0],s_width[-1]])\n",
      "colorbar()\n",
      "ylabel('small - Filter 1 size - large',fontsize=14)\n",
      "xlabel('small - Filter 2 size - large',fontsize=14)\n",
      "\n",
      "subplot(1,2,2)\n",
      "imshow(H_r_s_avg[::-1,:],interpolation='nearest',cmap=bmap,extent=[s_width[0],s_width[-1],s_width[0],s_width[-1]])\n",
      "colorbar()\n",
      "ylabel('small - Filter 1 size - large',fontsize=14)\n",
      "xlabel('small - Filter 2 size - large',fontsize=14)"
     ],
     "language": "python",
     "metadata": {},
     "outputs": [
      {
       "metadata": {},
       "output_type": "pyout",
       "prompt_number": 40,
       "text": [
        "<matplotlib.text.Text at 0x7078310>"
       ]
      },
      {
       "metadata": {},
       "output_type": "display_data",
       "png": "[encoded data removed]",
       "text": [
        "<matplotlib.figure.Figure at 0x69cbf50>"
       ]
      }
     ],
     "prompt_number": 40
    },
    {
     "cell_type": "code",
     "collapsed": false,
     "input": [
      "s_width"
     ],
     "language": "python",
     "metadata": {},
     "outputs": [
      {
       "metadata": {},
       "output_type": "pyout",
       "prompt_number": 41,
       "text": [
        "array([ 0.3       ,  0.93333333,  1.56666667,  2.2       ,  2.83333333,\n",
        "        3.46666667,  4.1       ,  4.73333333,  5.36666667,  6.        ])"
       ]
      }
     ],
     "prompt_number": 41
    },
    {
     "cell_type": "code",
     "collapsed": false,
     "input": [
      "WhyZero = spatial_filter_2d(c_scale=50.,c_width=.25,s_width=s_width[0],xs_num=16)"
     ],
     "language": "python",
     "metadata": {},
     "outputs": [],
     "prompt_number": 42
    },
    {
     "cell_type": "code",
     "collapsed": false,
     "input": [
      "imshow(WhyZero,interpolation='nearest',cmap=bmap)\n",
      "colorbar()"
     ],
     "language": "python",
     "metadata": {},
     "outputs": [
      {
       "metadata": {},
       "output_type": "pyout",
       "prompt_number": 44,
       "text": [
        "<matplotlib.colorbar.Colorbar instance at 0x78a47a0>"
       ]
      },
      {
       "metadata": {},
       "output_type": "display_data",
       "png": "[encoded data removed]",
       "text": [
        "<matplotlib.figure.Figure at 0x7ce4910>"
       ]
      }
     ],
     "prompt_number": 44
    },
    {
     "cell_type": "code",
     "collapsed": false,
     "input": [
      "var(WhyZero)"
     ],
     "language": "python",
     "metadata": {},
     "outputs": [
      {
       "metadata": {},
       "output_type": "pyout",
       "prompt_number": 45,
       "text": [
        "1.1199861721833584e-05"
       ]
      }
     ],
     "prompt_number": 45
    },
    {
     "cell_type": "code",
     "collapsed": false,
     "input": [
      "np.var(spatial_filter_2d(c_scale=50.,c_width=.25,s_width=s_width[6],xs_num=16))"
     ],
     "language": "python",
     "metadata": {},
     "outputs": [
      {
       "metadata": {},
       "output_type": "pyout",
       "prompt_number": 51,
       "text": [
        "97.347943310573427"
       ]
      }
     ],
     "prompt_number": 51
    },
    {
     "cell_type": "code",
     "collapsed": false,
     "input": [
      "ControlForVar = WhyZero/np.var(WhyZero)"
     ],
     "language": "python",
     "metadata": {},
     "outputs": [],
     "prompt_number": 52
    },
    {
     "cell_type": "code",
     "collapsed": false,
     "input": [
      "np.sum(ControlForVar)"
     ],
     "language": "python",
     "metadata": {},
     "outputs": [
      {
       "metadata": {},
       "output_type": "pyout",
       "prompt_number": 53,
       "text": [
        "-1.2732779451616874e-10"
       ]
      }
     ],
     "prompt_number": 53
    },
    {
     "cell_type": "code",
     "collapsed": false,
     "input": [
      "imshow(ControlForVar,interpolation='nearest',cmap=bmap)\n",
      "colorbar()"
     ],
     "language": "python",
     "metadata": {},
     "outputs": [
      {
       "metadata": {},
       "output_type": "pyout",
       "prompt_number": 54,
       "text": [
        "<matplotlib.colorbar.Colorbar instance at 0x8070ea8>"
       ]
      },
      {
       "metadata": {},
       "output_type": "display_data",
       "png": "[encoded data removed]",
       "text": [
        "<matplotlib.figure.Figure at 0x7b06190>"
       ]
      }
     ],
     "prompt_number": 54
    },
    {
     "cell_type": "code",
     "collapsed": false,
     "input": [
      "ls,ns,tmp = lnl_natural(img_patches[0],s_width1=s_width[4],s_width2=s_width[0])"
     ],
     "language": "python",
     "metadata": {},
     "outputs": [],
     "prompt_number": 55
    },
    {
     "cell_type": "code",
     "collapsed": false,
     "input": [
      "tmp"
     ],
     "language": "python",
     "metadata": {},
     "outputs": [
      {
       "metadata": {},
       "output_type": "pyout",
       "prompt_number": 56,
       "text": [
        "-8.1178926142044159e-60"
       ]
      }
     ],
     "prompt_number": 56
    },
    {
     "cell_type": "code",
     "collapsed": false,
     "input": [
      "ns"
     ],
     "language": "python",
     "metadata": {},
     "outputs": [
      {
       "metadata": {},
       "output_type": "pyout",
       "prompt_number": 58,
       "text": [
        "[array([ 0.46063882]),\n",
        " array([ 0.62860192]),\n",
        " array([ 0.37593908]),\n",
        " array([ 0.61880625]),\n",
        " array([ 0.57726222]),\n",
        " array([ 0.52462807]),\n",
        " array([ 0.48546134]),\n",
        " array([ 0.70988186]),\n",
        " array([ 0.6798189]),\n",
        " array([ 0.62736215]),\n",
        " array([ 0.7629883]),\n",
        " array([ 0.53581096]),\n",
        " array([ 0.62337677]),\n",
        " array([ 0.5438814]),\n",
        " array([ 0.5893172]),\n",
        " array([ 0.37713812]),\n",
        " array([ 0.5268363]),\n",
        " array([ 0.48507211]),\n",
        " array([ 0.38954901]),\n",
        " array([ 0.43749651]),\n",
        " array([ 0.50378225]),\n",
        " array([ 0.59794774]),\n",
        " array([ 0.54186912]),\n",
        " array([ 0.41279986]),\n",
        " array([ 0.33366456]),\n",
        " array([ 0.51209635]),\n",
        " array([ 0.65169193]),\n",
        " array([ 0.71724952]),\n",
        " array([ 0.57503361]),\n",
        " array([ 0.49401028]),\n",
        " array([ 0.47988312]),\n",
        " array([ 0.35951355]),\n",
        " array([ 0.47042725]),\n",
        " array([ 0.57068595]),\n",
        " array([ 0.48348801]),\n",
        " array([ 0.53625007]),\n",
        " array([ 0.52744125]),\n",
        " array([ 0.5399777]),\n",
        " array([ 0.5409392]),\n",
        " array([ 0.53974497]),\n",
        " array([ 0.54269174]),\n",
        " array([ 0.67200508]),\n",
        " array([ 0.59194309]),\n",
        " array([ 0.56747379]),\n",
        " array([ 0.50539412]),\n",
        " array([ 0.50743443]),\n",
        " array([ 0.61847279]),\n",
        " array([ 0.66888718]),\n",
        " array([ 0.72096229]),\n",
        " array([ 0.65126903]),\n",
        " array([ 0.49842275]),\n",
        " array([ 0.68219792]),\n",
        " array([ 0.51871687]),\n",
        " array([ 0.58890554]),\n",
        " array([ 0.55498513]),\n",
        " array([ 0.56908276]),\n",
        " array([ 0.43638867]),\n",
        " array([ 0.42219685]),\n",
        " array([ 0.48111951]),\n",
        " array([ 0.54161667]),\n",
        " array([ 0.59167503]),\n",
        " array([ 0.47070094]),\n",
        " array([ 0.42251104]),\n",
        " array([ 0.70213941]),\n",
        " array([ 0.68510595]),\n",
        " array([ 0.66518468]),\n",
        " array([ 0.57136717]),\n",
        " array([ 0.56170429]),\n",
        " array([ 0.41597934]),\n",
        " array([ 0.40895622]),\n",
        " array([ 0.46019986]),\n",
        " array([ 0.34231636]),\n",
        " array([ 0.50168718]),\n",
        " array([ 0.50626644]),\n",
        " array([ 0.73263429]),\n",
        " array([ 0.49953352]),\n",
        " array([ 0.55236769]),\n",
        " array([ 0.452908]),\n",
        " array([ 0.58699516]),\n",
        " array([ 0.29075035]),\n",
        " array([ 0.4834566]),\n",
        " array([ 0.48504779]),\n",
        " array([ 0.53960558]),\n",
        " array([ 0.50922827]),\n",
        " array([ 0.6923175]),\n",
        " array([ 0.59034787]),\n",
        " array([ 0.65559901]),\n",
        " array([ 0.46291571]),\n",
        " array([ 0.59070826]),\n",
        " array([ 0.60977711]),\n",
        " array([ 0.59881296]),\n",
        " array([ 0.70603638]),\n",
        " array([ 0.62960059]),\n",
        " array([ 0.53016217]),\n",
        " array([ 0.80978492]),\n",
        " array([ 0.57955279]),\n",
        " array([ 0.64319562]),\n",
        " array([ 0.58890014]),\n",
        " array([ 0.64993701]),\n",
        " array([ 0.48647504]),\n",
        " array([ 0.39520626]),\n",
        " array([ 0.57934995]),\n",
        " array([ 0.60214242]),\n",
        " array([ 0.54437664]),\n",
        " array([ 0.70599851]),\n",
        " array([ 0.59076176]),\n",
        " array([ 0.53089106]),\n",
        " array([ 0.52543231]),\n",
        " array([ 0.64173091]),\n",
        " array([ 0.59885547]),\n",
        " array([ 0.65138528]),\n",
        " array([ 0.68141751]),\n",
        " array([ 0.44332744]),\n",
        " array([ 0.68626314]),\n",
        " array([ 0.44915245]),\n",
        " array([ 0.63223899]),\n",
        " array([ 0.56702544]),\n",
        " array([ 0.38053062]),\n",
        " array([ 0.53195113]),\n",
        " array([ 0.45581015]),\n",
        " array([ 0.56040043]),\n",
        " array([ 0.56325898]),\n",
        " array([ 0.64506248]),\n",
        " array([ 0.43224151]),\n",
        " array([ 0.63051084]),\n",
        " array([ 0.60756569]),\n",
        " array([ 0.46479117]),\n",
        " array([ 0.61239351]),\n",
        " array([ 0.51458539]),\n",
        " array([ 0.40497177]),\n",
        " array([ 0.53168394]),\n",
        " array([ 0.60327354]),\n",
        " array([ 0.55597551]),\n",
        " array([ 0.44487911]),\n",
        " array([ 0.59863194]),\n",
        " array([ 0.4487062]),\n",
        " array([ 0.65799401]),\n",
        " array([ 0.50345262]),\n",
        " array([ 0.53149565]),\n",
        " array([ 0.44051943]),\n",
        " array([ 0.48954448]),\n",
        " array([ 0.73004972]),\n",
        " array([ 0.53116359]),\n",
        " array([ 0.49056675]),\n",
        " array([ 0.57597612]),\n",
        " array([ 0.51526545]),\n",
        " array([ 0.52150899]),\n",
        " array([ 0.48527202]),\n",
        " array([ 0.53263795]),\n",
        " array([ 0.33993452]),\n",
        " array([ 0.52772068]),\n",
        " array([ 0.65136215]),\n",
        " array([ 0.49344544]),\n",
        " array([ 0.61969853]),\n",
        " array([ 0.6608569]),\n",
        " array([ 0.61422062]),\n",
        " array([ 0.47022722]),\n",
        " array([ 0.55849474]),\n",
        " array([ 0.56684059]),\n",
        " array([ 0.42750773]),\n",
        " array([ 0.54749]),\n",
        " array([ 0.65133666]),\n",
        " array([ 0.4757016]),\n",
        " array([ 0.696735]),\n",
        " array([ 0.48772559]),\n",
        " array([ 0.67259599]),\n",
        " array([ 0.5427677]),\n",
        " array([ 0.55473829]),\n",
        " array([ 0.65537456]),\n",
        " array([ 0.55490521]),\n",
        " array([ 0.55386069]),\n",
        " array([ 0.47792013]),\n",
        " array([ 0.51196966]),\n",
        " array([ 0.64570926]),\n",
        " array([ 0.54025082]),\n",
        " array([ 0.60182936]),\n",
        " array([ 0.66686133]),\n",
        " array([ 0.49247321]),\n",
        " array([ 0.67530577]),\n",
        " array([ 0.42334331]),\n",
        " array([ 0.50725649]),\n",
        " array([ 0.5098522]),\n",
        " array([ 0.61402491]),\n",
        " array([ 0.65651841]),\n",
        " array([ 0.43895719]),\n",
        " array([ 0.63238848]),\n",
        " array([ 0.55213247]),\n",
        " array([ 0.57938491]),\n",
        " array([ 0.56614249]),\n",
        " array([ 0.44974208]),\n",
        " array([ 0.33866488]),\n",
        " array([ 0.57530096]),\n",
        " array([ 0.51605634]),\n",
        " array([ 0.69318056]),\n",
        " array([ 0.53511528]),\n",
        " array([ 0.54277625]),\n",
        " array([ 0.62513336]),\n",
        " array([ 0.59012815]),\n",
        " array([ 0.44018178]),\n",
        " array([ 0.52510102]),\n",
        " array([ 0.63823864]),\n",
        " array([ 0.6070223]),\n",
        " array([ 0.5335681]),\n",
        " array([ 0.5231001]),\n",
        " array([ 0.65142854]),\n",
        " array([ 0.70244717]),\n",
        " array([ 0.45310809]),\n",
        " array([ 0.58057692]),\n",
        " array([ 0.55727838]),\n",
        " array([ 0.60323858]),\n",
        " array([ 0.49379145]),\n",
        " array([ 0.60383326]),\n",
        " array([ 0.39039083]),\n",
        " array([ 0.55877594]),\n",
        " array([ 0.52428183]),\n",
        " array([ 0.58229102]),\n",
        " array([ 0.62700566]),\n",
        " array([ 0.43306408]),\n",
        " array([ 0.61239841]),\n",
        " array([ 0.45007719]),\n",
        " array([ 0.69198219]),\n",
        " array([ 0.67850607]),\n",
        " array([ 0.49002225]),\n",
        " array([ 0.65463063]),\n",
        " array([ 0.73916309]),\n",
        " array([ 0.57737998]),\n",
        " array([ 0.68296564]),\n",
        " array([ 0.63336768]),\n",
        " array([ 0.62224645]),\n",
        " array([ 0.53390613]),\n",
        " array([ 0.60719001]),\n",
        " array([ 0.55751836]),\n",
        " array([ 0.44049848]),\n",
        " array([ 0.48141163]),\n",
        " array([ 0.62436557]),\n",
        " array([ 0.53784041]),\n",
        " array([ 0.40712322]),\n",
        " array([ 0.46137912]),\n",
        " array([ 0.47565007]),\n",
        " array([ 0.62025622]),\n",
        " array([ 0.582381]),\n",
        " array([ 0.41141843]),\n",
        " array([ 0.59141061]),\n",
        " array([ 0.54036769]),\n",
        " array([ 0.51211555]),\n",
        " array([ 0.55216753]),\n",
        " array([ 0.52796376]),\n",
        " array([ 0.65409344]),\n",
        " array([ 0.63643205]),\n",
        " array([ 0.55635227]),\n",
        " array([ 0.50706538]),\n",
        " array([ 0.56074758]),\n",
        " array([ 0.7509441]),\n",
        " array([ 0.58806135]),\n",
        " array([ 0.75014737]),\n",
        " array([ 0.36133184])]"
       ]
      }
     ],
     "prompt_number": 58
    },
    {
     "cell_type": "code",
     "collapsed": false,
     "input": [
      "Test1 = spatial_filter_2d(c_scale=50.,c_width=.25,s_width=s_width[0],xs_num=16)\n",
      "Test2 = spatial_filter_2d(c_scale=50.,c_width=.25,s_width=s_width[1],xs_num=16)\n",
      "Test3 = spatial_filter_2d(c_scale=50.,c_width=.25,s_width=s_width[2],xs_num=16)\n",
      "Test4 = spatial_filter_2d(c_scale=50.,c_width=.25,s_width=s_width[-1],xs_num=16)"
     ],
     "language": "python",
     "metadata": {},
     "outputs": [],
     "prompt_number": 59
    },
    {
     "cell_type": "code",
     "collapsed": false,
     "input": [
      "(sum(Test1),sum(Test2),sum(Test3),sum(Test4))"
     ],
     "language": "python",
     "metadata": {},
     "outputs": [
      {
       "metadata": {},
       "output_type": "pyout",
       "prompt_number": 60,
       "text": [
        "(-1.430842609446034e-15,\n",
        " 3.040314649886168e-14,\n",
        " -1.2051123987610879e-14,\n",
        " -6.8811623066267202e-13)"
       ]
      }
     ],
     "prompt_number": 60
    },
    {
     "cell_type": "code",
     "collapsed": false,
     "input": [
      "(sum(Test1/np.sqrt(np.var(Test1))),sum(Test2/np.sqrt(np.var(Test2))),sum(Test3/np.sqrt(np.var(Test3))),sum(Test4/np.sqrt(np.var(Test4))))"
     ],
     "language": "python",
     "metadata": {},
     "outputs": [
      {
       "metadata": {},
       "output_type": "pyout",
       "prompt_number": 71,
       "text": [
        "(-4.3321670262864575e-13,\n",
        " 4.5835277457853931e-14,\n",
        " -2.1352711265798519e-14,\n",
        " -4.4228509743504674e-14)"
       ]
      }
     ],
     "prompt_number": 71
    },
    {
     "cell_type": "code",
     "collapsed": false,
     "input": [
      "imshow(Test2/np.sqrt(np.var(Test2)),interpolation='nearest',cmap=bmap)\n",
      "colorbar()"
     ],
     "language": "python",
     "metadata": {},
     "outputs": [
      {
       "metadata": {},
       "output_type": "pyout",
       "prompt_number": 72,
       "text": [
        "<matplotlib.colorbar.Colorbar instance at 0x8e0ae60>"
       ]
      },
      {
       "metadata": {},
       "output_type": "display_data",
       "png": "[encoded data removed]",
       "text": [
        "<matplotlib.figure.Figure at 0x4a37510>"
       ]
      }
     ],
     "prompt_number": 72
    },
    {
     "cell_type": "code",
     "collapsed": false,
     "input": [
      "imshow(Test3/np.sqrt(np.var(Test3)),interpolation='nearest',cmap=bmap)\n",
      "colorbar()"
     ],
     "language": "python",
     "metadata": {},
     "outputs": [
      {
       "metadata": {},
       "output_type": "pyout",
       "prompt_number": 73,
       "text": [
        "<matplotlib.colorbar.Colorbar instance at 0x94065a8>"
       ]
      },
      {
       "metadata": {},
       "output_type": "display_data",
       "png": "[encoded data removed]",
       "text": [
        "<matplotlib.figure.Figure at 0x8d74210>"
       ]
      }
     ],
     "prompt_number": 73
    },
    {
     "cell_type": "code",
     "collapsed": false,
     "input": [
      "imshow(Test4/np.sqrt(np.var(Test4)),interpolation='nearest',cmap=bmap)\n",
      "colorbar()"
     ],
     "language": "python",
     "metadata": {},
     "outputs": [
      {
       "metadata": {},
       "output_type": "pyout",
       "prompt_number": 74,
       "text": [
        "<matplotlib.colorbar.Colorbar instance at 0x96bac68>"
       ]
      },
      {
       "metadata": {},
       "output_type": "display_data",
       "png": "[encoded data removed]",
       "text": [
        "<matplotlib.figure.Figure at 0x8e17990>"
       ]
      }
     ],
     "prompt_number": 74
    },
    {
     "cell_type": "code",
     "collapsed": false,
     "input": [
      "Test4/np.sqrt(np.var(Test4))"
     ],
     "language": "python",
     "metadata": {},
     "outputs": [
      {
       "metadata": {},
       "output_type": "pyout",
       "prompt_number": 75,
       "text": [
        "array([[ -0.05612568,  -0.05612568,  -0.05612568,  -0.05612568,\n",
        "         -0.05612568,  -0.05612568,  -0.05612568,  -0.05612568,\n",
        "         -0.05612568,  -0.05612568,  -0.05612568,  -0.05612568,\n",
        "         -0.05612568,  -0.05612568,  -0.05612568,  -0.05612568],\n",
        "       [ -0.05612568,  -0.05612568,  -0.05612568,  -0.05612568,\n",
        "         -0.05612568,  -0.05612568,  -0.05612568,  -0.05612568,\n",
        "         -0.05612568,  -0.05612568,  -0.05612568,  -0.05612568,\n",
        "         -0.05612568,  -0.05612568,  -0.05612568,  -0.05612568],\n",
        "       [ -0.05612568,  -0.05612568,  -0.05612568,  -0.05612568,\n",
        "         -0.05612568,  -0.0611918 ,  -0.0611918 ,  -0.0611918 ,\n",
        "         -0.0611918 ,  -0.0611918 ,  -0.0611918 ,  -0.0611918 ,\n",
        "         -0.05612568,  -0.05612568,  -0.05612568,  -0.05612568],\n",
        "       [ -0.05612568,  -0.05612568,  -0.05612568,  -0.05612568,\n",
        "         -0.0611918 ,  -0.06589663,  -0.06589663,  -0.06589663,\n",
        "         -0.06589663,  -0.06589663,  -0.06589663,  -0.06589663,\n",
        "         -0.0611918 ,  -0.05612568,  -0.05612568,  -0.05612568],\n",
        "       [ -0.05612568,  -0.05612568,  -0.05612568,  -0.0611918 ,\n",
        "         -0.06589663,  -0.06589663,  -0.07009249,  -0.07009249,\n",
        "         -0.07009249,  -0.07009249,  -0.07009249,  -0.06589663,\n",
        "         -0.06589663,  -0.0611918 ,  -0.05612568,  -0.05612568],\n",
        "       [ -0.05612568,  -0.05612568,  -0.0611918 ,  -0.06589663,\n",
        "         -0.06589663,  -0.07009249,  -0.07364074,  -0.07364074,\n",
        "         -0.07364074,  -0.07364074,  -0.07364074,  -0.07009249,\n",
        "         -0.06589663,  -0.06589663,  -0.0611918 ,  -0.05612568],\n",
        "       [ -0.05612568,  -0.05612568,  -0.0611918 ,  -0.06589663,\n",
        "         -0.07009249,  -0.07364074,  -0.0764193 ,  -0.0764193 ,\n",
        "         -0.0764193 ,  -0.0764193 ,  -0.0764193 ,  -0.07364074,\n",
        "         -0.07009249,  -0.06589663,  -0.0611918 ,  -0.05612568],\n",
        "       [ -0.05612568,  -0.05612568,  -0.0611918 ,  -0.06589663,\n",
        "         -0.07009249,  -0.07364074,  -0.0764193 ,  -0.06523501,\n",
        "         -0.06523501,  -0.06523501,  -0.0764193 ,  -0.07364074,\n",
        "         -0.07009249,  -0.06589663,  -0.0611918 ,  -0.05612568],\n",
        "       [ -0.05612568,  -0.05612568,  -0.0611918 ,  -0.06589663,\n",
        "         -0.07009249,  -0.07364074,  -0.0764193 ,  -0.06523501,\n",
        "         15.96834343,  -0.06523501,  -0.0764193 ,  -0.07364074,\n",
        "         -0.07009249,  -0.06589663,  -0.0611918 ,  -0.05612568],\n",
        "       [ -0.05612568,  -0.05612568,  -0.0611918 ,  -0.06589663,\n",
        "         -0.07009249,  -0.07364074,  -0.0764193 ,  -0.06523501,\n",
        "         -0.06523501,  -0.06523501,  -0.0764193 ,  -0.07364074,\n",
        "         -0.07009249,  -0.06589663,  -0.0611918 ,  -0.05612568],\n",
        "       [ -0.05612568,  -0.05612568,  -0.0611918 ,  -0.06589663,\n",
        "         -0.07009249,  -0.07364074,  -0.0764193 ,  -0.0764193 ,\n",
        "         -0.0764193 ,  -0.0764193 ,  -0.0764193 ,  -0.07364074,\n",
        "         -0.07009249,  -0.06589663,  -0.0611918 ,  -0.05612568],\n",
        "       [ -0.05612568,  -0.05612568,  -0.0611918 ,  -0.06589663,\n",
        "         -0.06589663,  -0.07009249,  -0.07364074,  -0.07364074,\n",
        "         -0.07364074,  -0.07364074,  -0.07364074,  -0.07009249,\n",
        "         -0.06589663,  -0.06589663,  -0.0611918 ,  -0.05612568],\n",
        "       [ -0.05612568,  -0.05612568,  -0.05612568,  -0.0611918 ,\n",
        "         -0.06589663,  -0.06589663,  -0.07009249,  -0.07009249,\n",
        "         -0.07009249,  -0.07009249,  -0.07009249,  -0.06589663,\n",
        "         -0.06589663,  -0.0611918 ,  -0.05612568,  -0.05612568],\n",
        "       [ -0.05612568,  -0.05612568,  -0.05612568,  -0.05612568,\n",
        "         -0.0611918 ,  -0.06589663,  -0.06589663,  -0.06589663,\n",
        "         -0.06589663,  -0.06589663,  -0.06589663,  -0.06589663,\n",
        "         -0.0611918 ,  -0.05612568,  -0.05612568,  -0.05612568],\n",
        "       [ -0.05612568,  -0.05612568,  -0.05612568,  -0.05612568,\n",
        "         -0.05612568,  -0.0611918 ,  -0.0611918 ,  -0.0611918 ,\n",
        "         -0.0611918 ,  -0.0611918 ,  -0.0611918 ,  -0.0611918 ,\n",
        "         -0.05612568,  -0.05612568,  -0.05612568,  -0.05612568],\n",
        "       [ -0.05612568,  -0.05612568,  -0.05612568,  -0.05612568,\n",
        "         -0.05612568,  -0.05612568,  -0.05612568,  -0.05612568,\n",
        "         -0.05612568,  -0.05612568,  -0.05612568,  -0.05612568,\n",
        "         -0.05612568,  -0.05612568,  -0.05612568,  -0.05612568]])"
       ]
      }
     ],
     "prompt_number": 75
    },
    {
     "cell_type": "code",
     "collapsed": false,
     "input": [],
     "language": "python",
     "metadata": {},
     "outputs": []
    }
   ],
   "metadata": {}
  }
 ]
}