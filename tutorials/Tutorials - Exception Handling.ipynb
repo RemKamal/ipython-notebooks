{
 "metadata": {
  "name": ""
 },
 "nbformat": 3,
 "nbformat_minor": 0,
 "worksheets": [
  {
   "cells": [
    {
     "cell_type": "markdown",
     "metadata": {},
     "source": [
      "# Exception Handling basics\n",
      "I wasted a lot of time taking stabs in the dark at how to figure out the exception handling requirements.\n",
      "\n",
      "reformat.py has a section where, if the length of a row does not match the length of the header, two things are required:\n",
      "\n",
      "1. \"raise a BadDataError exception\" - which is defined in common.py **AND**\n",
      "2. write a message to `stderr`\n",
      "\n",
      "I flailed around with a lot of bad guesses at how to do this. \n",
      "Eventually I dug out a Python book and really dug into how to do exception handling correctly. I had seen exception handling in Java, but of course Python does things in its own special way."
     ]
    },
    {
     "cell_type": "code",
     "collapsed": false,
     "input": [
      "# In this block I create a user-defined \"Exception\" by creating this class called \"Bummer\".\n",
      "# This is analogous to the BadDataException class created in common.py\n",
      "# ...though of course to use the one defined in common.py you have to refer to it as common.BadDataException\n",
      "class Bummer(Exception):\n",
      "    pass"
     ],
     "language": "python",
     "metadata": {},
     "outputs": [],
     "prompt_number": 24
    },
    {
     "cell_type": "code",
     "collapsed": false,
     "input": [
      "# Here is a function that checks if the lengths of two things are equal (could be lists, strings, whatev...)\n",
      "# If equal, it does nothing\n",
      "# If not equal, it \"raises\" a \"Bummer Exception\"\n",
      "# See the next cell to see what happens if you dont' \"Handle\" that exception\n",
      "def _checklen(thing1, thing2):\n",
      "    if len(thing1) == len(thing2):\n",
      "        pass\n",
      "    else:\n",
      "        raise Bummer()"
     ],
     "language": "python",
     "metadata": {},
     "outputs": [],
     "prompt_number": 50
    },
    {
     "cell_type": "code",
     "collapsed": false,
     "input": [
      "# Here, I run _checklen on two things that I know will be okay\n",
      "a = \"dog\"\n",
      "b = \"cat\"\n",
      "_checklen(a,b)\n",
      "print (\"Look, I can do something else now\")"
     ],
     "language": "python",
     "metadata": {},
     "outputs": [
      {
       "output_type": "stream",
       "stream": "stdout",
       "text": [
        "Look, I can do something else now\n"
       ]
      }
     ],
     "prompt_number": 51
    },
    {
     "cell_type": "code",
     "collapsed": false,
     "input": [
      "# now I run _checklen on two things that I know will fail\n",
      "# As you can see, the \"Bummer\" exception raised by _checklen() causes Python to crash and burn\n",
      "# Also, note that the print statement never gets executed, because the Bummer exception causes everything to blow up first\n",
      "c = [\"house\", \"mouse\", \"spouse\"]\n",
      "d = [\"fine\", \"swine\"]\n",
      "\n",
      "_checklen(c,d)\n",
      "\n",
      "print (\"Look, I can do something else now\")"
     ],
     "language": "python",
     "metadata": {},
     "outputs": [
      {
       "ename": "Bummer",
       "evalue": "",
       "output_type": "pyerr",
       "traceback": [
        "\u001b[0;31m---------------------------------------------------------------------------\u001b[0m\n\u001b[0;31mBummer\u001b[0m                                    Traceback (most recent call last)",
        "\u001b[0;32m<ipython-input-52-c40f53d373e0>\u001b[0m in \u001b[0;36m<module>\u001b[0;34m()\u001b[0m\n\u001b[1;32m      5\u001b[0m \u001b[0md\u001b[0m \u001b[0;34m=\u001b[0m \u001b[0;34m[\u001b[0m\u001b[0;34m\"fine\"\u001b[0m\u001b[0;34m,\u001b[0m \u001b[0;34m\"swine\"\u001b[0m\u001b[0;34m]\u001b[0m\u001b[0;34m\u001b[0m\u001b[0m\n\u001b[1;32m      6\u001b[0m \u001b[0;34m\u001b[0m\u001b[0m\n\u001b[0;32m----> 7\u001b[0;31m \u001b[0m_checklen\u001b[0m\u001b[0;34m(\u001b[0m\u001b[0mc\u001b[0m\u001b[0;34m,\u001b[0m\u001b[0md\u001b[0m\u001b[0;34m)\u001b[0m\u001b[0;34m\u001b[0m\u001b[0m\n\u001b[0m\u001b[1;32m      8\u001b[0m \u001b[0;34m\u001b[0m\u001b[0m\n\u001b[1;32m      9\u001b[0m \u001b[0;32mprint\u001b[0m \u001b[0;34m(\u001b[0m\u001b[0;34m\"Look, I can do something else now\"\u001b[0m\u001b[0;34m)\u001b[0m\u001b[0;34m\u001b[0m\u001b[0m\n",
        "\u001b[0;32m<ipython-input-50-5e6da0b12ab8>\u001b[0m in \u001b[0;36m_checklen\u001b[0;34m(thing1, thing2)\u001b[0m\n\u001b[1;32m      7\u001b[0m         \u001b[0;32mpass\u001b[0m\u001b[0;34m\u001b[0m\u001b[0m\n\u001b[1;32m      8\u001b[0m     \u001b[0;32melse\u001b[0m\u001b[0;34m:\u001b[0m\u001b[0;34m\u001b[0m\u001b[0m\n\u001b[0;32m----> 9\u001b[0;31m         \u001b[0;32mraise\u001b[0m \u001b[0mBummer\u001b[0m\u001b[0;34m(\u001b[0m\u001b[0;34m)\u001b[0m\u001b[0;34m\u001b[0m\u001b[0m\n\u001b[0m",
        "\u001b[0;31mBummer\u001b[0m: "
       ]
      }
     ],
     "prompt_number": 52
    },
    {
     "cell_type": "code",
     "collapsed": false,
     "input": [
      "# By \"handling the exception\" we can make Python both raise the exception AND not crash and burn\n",
      "# the \"try / except\" syntax is the way\n",
      "# Try making e and f have equal lengths too...\n",
      "e = [1, 2, 5]\n",
      "f = [10, 11, 12, 15]\n",
      "\n",
      "try:\n",
      "    _checklen(e,f)\n",
      "except:\n",
      "    print(\"Oops - those things are not of equal length\")\n",
      "\n",
      "print(\"and now I am doing something else\")"
     ],
     "language": "python",
     "metadata": {},
     "outputs": [
      {
       "output_type": "stream",
       "stream": "stdout",
       "text": [
        "Oops - those things are not of equal length\n",
        "and now I am doing something else\n"
       ]
      }
     ],
     "prompt_number": 53
    },
    {
     "cell_type": "markdown",
     "metadata": {},
     "source": [
      "# OK, now on to fancier stuff"
     ]
    },
    {
     "cell_type": "code",
     "collapsed": false,
     "input": [
      "# Here is the length checking function again, but this time....\n",
      "# ... if it produces a Bummer exception, it sends along a message that explains what the problem is.\n",
      "# Note I gave this version of the function a different name: _checklen_with_message()\n",
      "def _checklen_with_message(thing1, thing2):\n",
      "    if len(thing1) == len(thing2):\n",
      "        pass\n",
      "    else:\n",
      "        msg = \"%s and %s are not of equal length. That is a bummer.\" % (thing1, thing2)\n",
      "        raise Bummer(msg)"
     ],
     "language": "python",
     "metadata": {},
     "outputs": [],
     "prompt_number": 54
    },
    {
     "cell_type": "code",
     "collapsed": false,
     "input": [
      "# Now let's see what happens\n",
      "# I will feed the new _checklen_with_message() function something I know will fail\n",
      "# Notice the syntax for how to grab the Bummer exception, get the message that it passed up, and print that message\n",
      "\n",
      "g = [\"cats\", \"dogs\", \"people\"]\n",
      "h = [\"flannel\", \"wool\"]\n",
      "\n",
      "try:\n",
      "    _checklen_with_message(g,h)\n",
      "except Bummer as b:\n",
      "    print(b)\n",
      "    \n",
      "print(\"and now I am doing something else\")"
     ],
     "language": "python",
     "metadata": {},
     "outputs": [
      {
       "output_type": "stream",
       "stream": "stdout",
       "text": [
        "['cats', 'dogs', 'people'] and ['flannel', 'wool'] are not of equal length. That is a bummer.\n",
        "and now I am doing something else\n"
       ]
      }
     ],
     "prompt_number": 55
    },
    {
     "cell_type": "markdown",
     "metadata": {},
     "source": [
      "----\n",
      "Now to part of the assignment: How to write that error message to `stdout`"
     ]
    },
    {
     "cell_type": "code",
     "collapsed": false,
     "input": [
      "# Same code, but notice the syntax to write something to the `stdout` stream is:\n",
      "# sys.stderr.write()\n",
      "# ...also note that you have to import sys somewhere in the chain before you try this or it will fail\n",
      "#\n",
      "# You can tell in the iPython Notebook that it has written to stderr instead of stdout because the message has a red background.\n",
      "#\n",
      "# Oh, and also note that I have to \"coerce\" b into a string or else Python will not let you write it to stderr...\n",
      "\n",
      "i = [1, 4, 2]\n",
      "j = [9, 8, 7, 6, 5, 4]\n",
      "\n",
      "try:\n",
      "    _checklen_with_message(j,i)\n",
      "except Bummer as b:\n",
      "    import sys\n",
      "    b_as_a_string = str(b)\n",
      "    sys.stderr.write(b_as_a_string)\n",
      "    \n",
      "print(\"and now I am doing something else\")"
     ],
     "language": "python",
     "metadata": {},
     "outputs": [
      {
       "output_type": "stream",
       "stream": "stdout",
       "text": [
        "and now I am doing something else\n"
       ]
      },
      {
       "output_type": "stream",
       "stream": "stderr",
       "text": [
        "[9, 8, 7, 6, 5, 4] and [1, 4, 2] are not of equal length. That is a bummer."
       ]
      }
     ],
     "prompt_number": 48
    },
    {
     "cell_type": "markdown",
     "metadata": {},
     "source": [
      "------\n",
      "# Passing exeptions up the food chain\n",
      "\n",
      "So here is the other requirement: to \"raise\" the exception up to higher modules.\n",
      "I think there is a general exception handling concept that the best thing to do about any exceptions you encounter is just raise them up to higher modules and let them deal with it. \n",
      "\n",
      "So here I create a higher module and \n",
      "1. have the middle module write to stderr and\n",
      "2. have the middle module pass the buck by raising the exception and\n",
      "3. have the top module catch the exception ultimately\n",
      "\n",
      "**I am starting from scratch here, with a new user-defined exception that I am calling \"Drat\"**\n",
      "    "
     ]
    },
    {
     "cell_type": "code",
     "collapsed": false,
     "input": [
      "# This is the exception class\n",
      "# ANALOG is one of the exception classes defined in common.py\n",
      "class Drat(Exception):\n",
      "    pass"
     ],
     "language": "python",
     "metadata": {},
     "outputs": [],
     "prompt_number": 49
    },
    {
     "cell_type": "markdown",
     "metadata": {},
     "source": [
      "### This is the low level function"
     ]
    },
    {
     "cell_type": "code",
     "collapsed": false,
     "input": [
      "# This is the lowest level function.\n",
      "# ANALOG is like one of the modules we are writing\n",
      "# If either argument is equal to zero, it raises a \"Drat\" exception\n",
      "# otherwise it does nothing\n",
      "def low_level_function(arg1, arg2) :\n",
      "    problem_list = []\n",
      "    if arg1 ==0:\n",
      "        problem_list.append(\"First argument is zero. \")\n",
      "    if arg2 ==0:\n",
      "        problem_list.append(\"Second argument is zero.\")\n",
      "        \n",
      "    if len(problem_list)==0:\n",
      "        pass\n",
      "    else:\n",
      "        problem_string = \" \".join(problem_list)    # Python syntax can be hard to get used to... for me anyway.\n",
      "        # print(problem_string)                    # used from my own testing\n",
      "        raise Drat(problem_string)"
     ],
     "language": "python",
     "metadata": {},
     "outputs": [],
     "prompt_number": 70
    },
    {
     "cell_type": "code",
     "collapsed": false,
     "input": [
      "# just checking that low-level function works....\n",
      "low_level_function(2,3)\n",
      "low_level_function(1,0)\n",
      "low_level_function(0,\"pie\")\n",
      "low_level_function(\"0\",7)\n",
      "low_level_function(0,0)"
     ],
     "language": "python",
     "metadata": {},
     "outputs": [
      {
       "ename": "Drat",
       "evalue": "Second argument is zero.",
       "output_type": "pyerr",
       "traceback": [
        "\u001b[0;31m---------------------------------------------------------------------------\u001b[0m\n\u001b[0;31mDrat\u001b[0m                                      Traceback (most recent call last)",
        "\u001b[0;32m<ipython-input-68-11c546fb47dd>\u001b[0m in \u001b[0;36m<module>\u001b[0;34m()\u001b[0m\n\u001b[1;32m      1\u001b[0m \u001b[0;31m# just checking that low-level function works....\u001b[0m\u001b[0;34m\u001b[0m\u001b[0;34m\u001b[0m\u001b[0m\n\u001b[1;32m      2\u001b[0m \u001b[0mlow_level_function\u001b[0m\u001b[0;34m(\u001b[0m\u001b[0;36m2\u001b[0m\u001b[0;34m,\u001b[0m\u001b[0;36m3\u001b[0m\u001b[0;34m)\u001b[0m\u001b[0;34m\u001b[0m\u001b[0m\n\u001b[0;32m----> 3\u001b[0;31m \u001b[0mlow_level_function\u001b[0m\u001b[0;34m(\u001b[0m\u001b[0;36m1\u001b[0m\u001b[0;34m,\u001b[0m\u001b[0;36m0\u001b[0m\u001b[0;34m)\u001b[0m\u001b[0;34m\u001b[0m\u001b[0m\n\u001b[0m\u001b[1;32m      4\u001b[0m \u001b[0mlow_level_function\u001b[0m\u001b[0;34m(\u001b[0m\u001b[0;36m0\u001b[0m\u001b[0;34m,\u001b[0m\u001b[0;34m\"pie\"\u001b[0m\u001b[0;34m)\u001b[0m\u001b[0;34m\u001b[0m\u001b[0m\n\u001b[1;32m      5\u001b[0m \u001b[0mlow_level_function\u001b[0m\u001b[0;34m(\u001b[0m\u001b[0;34m\"0\"\u001b[0m\u001b[0;34m,\u001b[0m\u001b[0;36m7\u001b[0m\u001b[0;34m)\u001b[0m\u001b[0;34m\u001b[0m\u001b[0m\n",
        "\u001b[0;32m<ipython-input-67-bf2329187255>\u001b[0m in \u001b[0;36mlow_level_function\u001b[0;34m(arg1, arg2)\u001b[0m\n\u001b[1;32m     15\u001b[0m         \u001b[0mproblem_string\u001b[0m \u001b[0;34m=\u001b[0m \u001b[0;34m\" \"\u001b[0m\u001b[0;34m.\u001b[0m\u001b[0mjoin\u001b[0m\u001b[0;34m(\u001b[0m\u001b[0mproblem_list\u001b[0m\u001b[0;34m)\u001b[0m    \u001b[0;31m# Python syntax can be hard to get used to... for me anyway.\u001b[0m\u001b[0;34m\u001b[0m\u001b[0m\n\u001b[1;32m     16\u001b[0m         \u001b[0;32mprint\u001b[0m\u001b[0;34m(\u001b[0m\u001b[0mproblem_string\u001b[0m\u001b[0;34m)\u001b[0m\u001b[0;34m\u001b[0m\u001b[0m\n\u001b[0;32m---> 17\u001b[0;31m         \u001b[0;32mraise\u001b[0m \u001b[0mDrat\u001b[0m\u001b[0;34m(\u001b[0m\u001b[0mproblem_string\u001b[0m\u001b[0;34m)\u001b[0m\u001b[0;34m\u001b[0m\u001b[0m\n\u001b[0m",
        "\u001b[0;31mDrat\u001b[0m: Second argument is zero."
       ]
      },
      {
       "output_type": "stream",
       "stream": "stdout",
       "text": [
        "Second argument is zero.\n"
       ]
      }
     ],
     "prompt_number": 68
    },
    {
     "cell_type": "markdown",
     "metadata": {},
     "source": [
      "### This is the mid-level function\n",
      "It calls on low_level_function()\n",
      "If not problem, it prints a pointless message\n",
      "If the low_level_function() raises a Drat exception then the mid-level function will:\n",
      "  1. pring the exception message\n",
      "  2. write the Drat exception message to stderr\n",
      "  3. raise the exception up the food chain.\n",
      "\n",
      "NOTE that running this mid-level function alone will cause a crash-and-burn because the exception is raised.\n",
      "SEE the next cell for how that gets resolved\n",
      "\n",
      "Also note that the next two cells set up the \"data set\" for the midlevel function to work on\n"
     ]
    },
    {
     "cell_type": "code",
     "collapsed": false,
     "input": [
      "k = [3,2]     # pretend this is \"the first record\" of the fake data set\n",
      "l = [4,0]     # pretend this is the second record (and it has a \"Drat\" error in it)\n",
      "m = [7,\"pie\"] # fake third record...\n",
      "\n",
      "fake_data_set = [k,l,m]"
     ],
     "language": "python",
     "metadata": {},
     "outputs": [],
     "prompt_number": 107
    },
    {
     "cell_type": "code",
     "collapsed": false,
     "input": [
      "for row_index, row in enumerate(fake_data_set):\n",
      "    print row_index\n",
      "    print row"
     ],
     "language": "python",
     "metadata": {},
     "outputs": [
      {
       "output_type": "stream",
       "stream": "stdout",
       "text": [
        "0\n",
        "[3, 2]\n",
        "1\n",
        "[4, 0]\n",
        "2\n",
        "[7, 'pie']\n"
       ]
      }
     ],
     "prompt_number": 108
    },
    {
     "cell_type": "code",
     "collapsed": false,
     "input": [
      "# OK, now define the midlevel function...\n",
      "# I have commented out the \"raise\" statement in the last line so that the next cell will work\n",
      "# See below for the \"real\" version of the midlevel function\n",
      "\n",
      "def mid_level_function_for_demonstration(f):\n",
      "\n",
      "    for row_index, row in enumerate(f):\n",
      "        # print(row_index,row)\n",
      "        try:\n",
      "            low_level_function(row[0], row[1])\n",
      "            print(\"All is well, I can write record number %d out to the .csv file\" % (row_index + 1))\n",
      "        except Drat as d:\n",
      "            import sys\n",
      "            d_as_a_string = str(d)           # coerce exception message to a string\n",
      "            sys.stderr.write(d_as_a_string)  # Write exception message to stderr\n",
      "            # raise                            "
     ],
     "language": "python",
     "metadata": {},
     "outputs": [],
     "prompt_number": 123
    },
    {
     "cell_type": "code",
     "collapsed": false,
     "input": [
      "mid_level_function_for_demonstration(fake_data_set)"
     ],
     "language": "python",
     "metadata": {},
     "outputs": [
      {
       "output_type": "stream",
       "stream": "stdout",
       "text": [
        "All is well, I can write record number 1 out to the .csv file\n",
        "All is well, I can write record number 3 out to the .csv file\n"
       ]
      },
      {
       "output_type": "stream",
       "stream": "stderr",
       "text": [
        "Second argument is zero."
       ]
      }
     ],
     "prompt_number": 124
    },
    {
     "cell_type": "code",
     "collapsed": false,
     "input": [
      "# This is the real version of the midlevel function - it has the active \"raise\" statement in the last line\n",
      "\n",
      "def mid_level_function(f):\n",
      "\n",
      "    for row_index, row in enumerate(f):\n",
      "        # print(row_index,row)\n",
      "        try:\n",
      "            low_level_function(row[0], row[1])\n",
      "            print(\"All is well, I can write record number %d out to the .csv file\" % (row_index + 1))\n",
      "        except Drat as d:\n",
      "            import sys\n",
      "            d_as_a_string = str(d)           # coerce exception message to a string\n",
      "            sys.stderr.write(d_as_a_string)  # Write exception message to stderr\n",
      "            raise Drat(d)   "
     ],
     "language": "python",
     "metadata": {},
     "outputs": [],
     "prompt_number": 138
    },
    {
     "cell_type": "code",
     "collapsed": false,
     "input": [
      "# Now define the high level function\n",
      "# This is like main, or like the test utility\n",
      "\n",
      "def high_level_function(data_in):\n",
      "    # pass the data in in its entirety to the mid-level function\n",
      "    # using the try/except\n",
      "    \n",
      "    try:\n",
      "         mid_level_function(data_in)\n",
      "    except:\n",
      "        print(\"Oh dear, we have an error somewhere along the way\")\n",
      "        pass"
     ],
     "language": "python",
     "metadata": {},
     "outputs": [],
     "prompt_number": 139
    },
    {
     "cell_type": "code",
     "collapsed": false,
     "input": [
      "# now run the high level function on the fake data\n",
      "high_level_function(fake_data_set)"
     ],
     "language": "python",
     "metadata": {},
     "outputs": [
      {
       "output_type": "stream",
       "stream": "stdout",
       "text": [
        "All is well, I can write record number 1 out to the .csv file\n",
        "Oh dear, we have an error somewhere along the way\n"
       ]
      },
      {
       "output_type": "stream",
       "stream": "stderr",
       "text": [
        "Second argument is zero."
       ]
      }
     ],
     "prompt_number": 140
    },
    {
     "cell_type": "markdown",
     "metadata": {},
     "source": [
      "## My (Lane's) implementation"
     ]
    },
    {
     "cell_type": "code",
     "collapsed": false,
     "input": [
      "import smtplib"
     ],
     "language": "python",
     "metadata": {},
     "outputs": [],
     "prompt_number": 2
    },
    {
     "cell_type": "code",
     "collapsed": false,
     "input": [
      "try:\n",
      "    yoda = 2*x\n",
      "except:\n",
      "    print sys.exc_info()[0]\n",
      "    d = str(sys.exc_info()[0])         # coerce exception message to a string   \n",
      "    \n",
      "    ## Text me when you're done\n",
      "    to = 'lanemcintosh@gmail.com' #insert reciever email address (can be same as sender)\n",
      "    gmail_user = 'mcintoshlane@gmail.com' #your gmail sender address\n",
      "    gmail_pwd = 'hansolo8chewy' #your gmail password\n",
      "    smtpserver = smtplib.SMTP(\"smtp.gmail.com\",587) #the technical stuff\n",
      "    smtpserver.ehlo() #the technical stuff\n",
      "    smtpserver.starttls() #the technical stuff\n",
      "    smtpserver.ehlo #the technical stuff\n",
      "    smtpserver.login(gmail_user, gmail_pwd) #the technical stuff\n",
      "    header = 'To:' + to + '\\n' + 'From: ' + gmail_user + '\\n' + 'Subject:Error in Local Kaggle iPython Notebook \\n'\n",
      "    msg = header + '\\n' + 'Bummer :(' + '\\n' + str(d) #The completion message\n",
      "    smtpserver.sendmail(gmail_user, to, msg) #Sending the mail\n",
      "    smtpserver.close() #closing the mailserver connection\n",
      "    "
     ],
     "language": "python",
     "metadata": {},
     "outputs": [
      {
       "output_type": "stream",
       "stream": "stdout",
       "text": [
        "<type 'exceptions.NameError'>\n"
       ]
      }
     ],
     "prompt_number": 3
    },
    {
     "cell_type": "code",
     "collapsed": false,
     "input": [
      "yoda = 2*x"
     ],
     "language": "python",
     "metadata": {},
     "outputs": [
      {
       "ename": "NameError",
       "evalue": "name 'x' is not defined",
       "output_type": "pyerr",
       "traceback": [
        "\u001b[0;31m---------------------------------------------------------------------------\u001b[0m\n\u001b[0;31mNameError\u001b[0m                                 Traceback (most recent call last)",
        "\u001b[0;32m<ipython-input-4-6e60007cb953>\u001b[0m in \u001b[0;36m<module>\u001b[0;34m()\u001b[0m\n\u001b[0;32m----> 1\u001b[0;31m \u001b[0myoda\u001b[0m \u001b[0;34m=\u001b[0m \u001b[0;36m2\u001b[0m\u001b[0;34m*\u001b[0m\u001b[0mx\u001b[0m\u001b[0;34m\u001b[0m\u001b[0m\n\u001b[0m",
        "\u001b[0;31mNameError\u001b[0m: name 'x' is not defined"
       ]
      }
     ],
     "prompt_number": 4
    },
    {
     "cell_type": "code",
     "collapsed": false,
     "input": [
      "import traceback\n",
      "import sys\n",
      "\n",
      "def trace_except(sysexecinfo, smessage = ''):\n",
      "   \"\"\" Trace exceptions \"\"\"\n",
      "   exc_type, exc_value, exc_traceback = sysexecinfo\n",
      "   i, j = (traceback.extract_tb(exc_traceback, 1))[0][0:2]\n",
      "   k = (traceback.format_exception_only(exc_type, exc_value))[0]\n",
      "   #trace('E:'+ 'Err : ' + smessage + k + i + ', ligne ' + str(j))\n",
      "   return k"
     ],
     "language": "python",
     "metadata": {},
     "outputs": [],
     "prompt_number": 10
    },
    {
     "cell_type": "markdown",
     "metadata": {},
     "source": [
      "## This is the definition to use\n",
      "in conjunction with  \n",
      "\n",
      "import sys  \n",
      "sysexecinfo = sys.exc_info()"
     ]
    },
    {
     "cell_type": "code",
     "collapsed": false,
     "input": [
      "def emailWhenError(sysexecinfo):\n",
      "    import traceback\n",
      "    import smtplib\n",
      "    \n",
      "    \"\"\" Trace exceptions \"\"\"\n",
      "    exc_type, exc_value, exc_traceback = sysexecinfo\n",
      "    i, j = (traceback.extract_tb(exc_traceback, 1))[0][0:2]\n",
      "    k = (traceback.format_exception_only(exc_type, exc_value))[0]\n",
      "    \n",
      "    ## Text me when you're done\n",
      "    to = 'lanemcintosh@gmail.com' #insert reciever email address (can be same as sender)\n",
      "    gmail_user = 'mcintoshlane@gmail.com' #your gmail sender address\n",
      "    gmail_pwd = 'hansolo8chewy' #your gmail password\n",
      "    smtpserver = smtplib.SMTP(\"smtp.gmail.com\",587) #the technical stuff\n",
      "    smtpserver.ehlo() #the technical stuff\n",
      "    smtpserver.starttls() #the technical stuff\n",
      "    smtpserver.ehlo #the technical stuff\n",
      "    smtpserver.login(gmail_user, gmail_pwd) #the technical stuff\n",
      "    header = 'To:' + to + '\\n' + 'From: ' + gmail_user + '\\n' + 'Subject:Error in Local Kaggle iPython Notebook \\n'\n",
      "    msg = header + '\\n' + 'Bummer :(' + '\\n' + str(k) #The completion message\n",
      "    smtpserver.sendmail(gmail_user, to, msg) #Sending the mail\n",
      "    smtpserver.close() #closing the mailserver connection\n",
      "    \n",
      "    "
     ],
     "language": "python",
     "metadata": {},
     "outputs": [],
     "prompt_number": 18
    },
    {
     "cell_type": "code",
     "collapsed": false,
     "input": [
      "import sys\n",
      "\n",
      "try:\n",
      "    yoda = 2*x\n",
      "except:\n",
      "    emailWhenError(sys.exc_info())"
     ],
     "language": "python",
     "metadata": {},
     "outputs": [],
     "prompt_number": 23
    },
    {
     "cell_type": "code",
     "collapsed": false,
     "input": [
      "import sys\n",
      "\n",
      "try:\n",
      "    yoda = 2*x\n",
      "except:\n",
      "    import traceback\n",
      "    import smtplib\n",
      "    \n",
      "    sysexecinfo = sys.exc_info()\n",
      "    \n",
      "    \"\"\" Trace exceptions \"\"\"\n",
      "    exc_type, exc_value, exc_traceback = sysexecinfo\n",
      "    i, j = (traceback.extract_tb(exc_traceback, 1))[0][0:2]\n",
      "    k = (traceback.format_exception_only(exc_type, exc_value))[0]\n",
      "    \n",
      "    ## Text me when you're done\n",
      "    to = 'lanemcintosh@gmail.com' #insert reciever email address (can be same as sender)\n",
      "    gmail_user = 'mcintoshlane@gmail.com' #your gmail sender address\n",
      "    gmail_pwd = 'hansolo8chewy' #your gmail password\n",
      "    smtpserver = smtplib.SMTP(\"smtp.gmail.com\",587) #the technical stuff\n",
      "    smtpserver.ehlo() #the technical stuff\n",
      "    smtpserver.starttls() #the technical stuff\n",
      "    smtpserver.ehlo #the technical stuff\n",
      "    smtpserver.login(gmail_user, gmail_pwd) #the technical stuff\n",
      "    header = 'To:' + to + '\\n' + 'From: ' + gmail_user + '\\n' + 'Subject:Error in Local Kaggle iPython Notebook \\n'\n",
      "    msg = header + '\\n' + 'Bummer :(' + '\\n' + str(k) #The completion message\n",
      "    smtpserver.sendmail(gmail_user, to, msg) #Sending the mail\n",
      "    smtpserver.close() #closing the mailserver connection"
     ],
     "language": "python",
     "metadata": {},
     "outputs": [],
     "prompt_number": 21
    },
    {
     "cell_type": "code",
     "collapsed": false,
     "input": [],
     "language": "python",
     "metadata": {},
     "outputs": []
    }
   ],
   "metadata": {}
  }
 ]
}