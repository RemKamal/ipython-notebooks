{
 "metadata": {
  "name": "",
  "signature": "sha256:e44e81a68f22f35c76ee525cbafb32f7967d623e31d5aacb0f7babbb73bf8298"
 },
 "nbformat": 3,
 "nbformat_minor": 0,
 "worksheets": [
  {
   "cells": [
    {
     "cell_type": "markdown",
     "metadata": {},
     "source": [
      "## Replicating Srinivasan 1982 result of deriving predictive filter that minimizes the linear mean-squared error  \n",
      "\n",
      "Ported from Matlab."
     ]
    },
    {
     "cell_type": "code",
     "collapsed": false,
     "input": [
      "import numpy as np\n",
      "import brewer2mpl"
     ],
     "language": "python",
     "metadata": {},
     "outputs": [],
     "prompt_number": 1
    },
    {
     "cell_type": "code",
     "collapsed": false,
     "input": [
      "M = 1.0;    # signal mean\n",
      "S = 0.03;   # signal s.d.\n",
      "N = 0.003;  # noise s.d.\n",
      "D = 0.01;   # space/time constant\n",
      "\n",
      "# space or time axis\n",
      "x     = range(-5,5+1)\n",
      "x_hat = [xi for xi in x if (abs(xi) > 0)]\n",
      "\n",
      "autocorr = lambda x: M**2 + S**2 * exp(-abs(x)/D)\n",
      "\n",
      "R   = zeros((len(x_hat),len(x_hat)))\n",
      "idi = 1\n",
      "for i in x_hat[:-1]:\n",
      "    idj = 1;\n",
      "    for j in x_hat[:-1]:\n",
      "        if i != j:\n",
      "            R[idi,idj] = autocorr(i - j);\n",
      "        else:\n",
      "            R[idi,idj] = M**2 + S**2 + N**2\n",
      "        idj = idj + 1\n",
      "    idi = idi + 1\n",
      "\n",
      "R_0 = zeros((len(x_hat),1))\n",
      "idi = 1;\n",
      "for i in x_hat[:-1]:\n",
      "    R_0[idi] = autocorr(i);\n",
      "    idi = idi + 1;\n",
      "\n",
      "\n",
      "h_inh = np.dot(np.linalg.inv(R),R_0)\n",
      "h = ones(len(x),1);\n",
      "h[1:len(x_hat)/2] = -h_inh[1:len(x_hat)/2];\n",
      "h[len(x_hat)/2+2:end] = -h_inh[len(x_hat)/2 + 1:];\n",
      "\n",
      "\n",
      "fig = gcf()\n",
      "fig.set_size_inches((10,5))\n",
      "subplot(131)\n",
      "bar(x,h,'k')\n",
      "title('Predictive Coding Filter')\n",
      "ylim([-0.4, 1.2])\n",
      "\n",
      "subplot(132)\n",
      "bar(x_hat,h_inh,'k')\n",
      "title('Optimal linear mean-square estimator')\n",
      "\n",
      "\n",
      "subplot(133)\n",
      "imagesc(R)\n",
      "colormap(cmap)\n",
      "colorbar()\n",
      "title('Autocorrelation over space')\n",
      "\n",
      "figure; imagesc(R); colormap(cmap); colorbar(); title('Autocorrelation over space')\n",
      "figureHandle = gcf;\n",
      "%# make all text in the figure to size 14 and bold\n",
      "set(findall(figureHandle,'type','text'),'fontSize',14,'fontWeight','bold')\n"
     ],
     "language": "python",
     "metadata": {},
     "outputs": [
      {
       "ename": "LinAlgError",
       "evalue": "Singular matrix",
       "output_type": "pyerr",
       "traceback": [
        "\u001b[1;31m---------------------------------------------------------------------------\u001b[0m\n\u001b[1;31mLinAlgError\u001b[0m                               Traceback (most recent call last)",
        "\u001b[1;32m<ipython-input-54-1d93b18ae4b3>\u001b[0m in \u001b[0;36m<module>\u001b[1;34m()\u001b[0m\n\u001b[0;32m     29\u001b[0m \u001b[1;33m\u001b[0m\u001b[0m\n\u001b[0;32m     30\u001b[0m \u001b[1;33m\u001b[0m\u001b[0m\n\u001b[1;32m---> 31\u001b[1;33m \u001b[0mh_inh\u001b[0m \u001b[1;33m=\u001b[0m \u001b[0mnp\u001b[0m\u001b[1;33m.\u001b[0m\u001b[0mdot\u001b[0m\u001b[1;33m(\u001b[0m\u001b[0mnp\u001b[0m\u001b[1;33m.\u001b[0m\u001b[0mlinalg\u001b[0m\u001b[1;33m.\u001b[0m\u001b[0minv\u001b[0m\u001b[1;33m(\u001b[0m\u001b[0mR\u001b[0m\u001b[1;33m)\u001b[0m\u001b[1;33m,\u001b[0m\u001b[0mR_0\u001b[0m\u001b[1;33m)\u001b[0m\u001b[1;33m\u001b[0m\u001b[0m\n\u001b[0m\u001b[0;32m     32\u001b[0m \u001b[0mh\u001b[0m \u001b[1;33m=\u001b[0m \u001b[0mones\u001b[0m\u001b[1;33m(\u001b[0m\u001b[0mlen\u001b[0m\u001b[1;33m(\u001b[0m\u001b[0mx\u001b[0m\u001b[1;33m)\u001b[0m\u001b[1;33m,\u001b[0m\u001b[1;36m1\u001b[0m\u001b[1;33m)\u001b[0m\u001b[1;33m;\u001b[0m\u001b[1;33m\u001b[0m\u001b[0m\n\u001b[0;32m     33\u001b[0m \u001b[0mh\u001b[0m\u001b[1;33m[\u001b[0m\u001b[1;36m1\u001b[0m\u001b[1;33m:\u001b[0m\u001b[0mlen\u001b[0m\u001b[1;33m(\u001b[0m\u001b[0mx_hat\u001b[0m\u001b[1;33m)\u001b[0m\u001b[1;33m/\u001b[0m\u001b[1;36m2\u001b[0m\u001b[1;33m]\u001b[0m \u001b[1;33m=\u001b[0m \u001b[1;33m-\u001b[0m\u001b[0mh_inh\u001b[0m\u001b[1;33m[\u001b[0m\u001b[1;36m1\u001b[0m\u001b[1;33m:\u001b[0m\u001b[0mlen\u001b[0m\u001b[1;33m(\u001b[0m\u001b[0mx_hat\u001b[0m\u001b[1;33m)\u001b[0m\u001b[1;33m/\u001b[0m\u001b[1;36m2\u001b[0m\u001b[1;33m]\u001b[0m\u001b[1;33m;\u001b[0m\u001b[1;33m\u001b[0m\u001b[0m\n",
        "\u001b[1;32m/usr/local/lib/python2.7/dist-packages/numpy/linalg/linalg.pyc\u001b[0m in \u001b[0;36minv\u001b[1;34m(a)\u001b[0m\n\u001b[0;32m    443\u001b[0m     \"\"\"\n\u001b[0;32m    444\u001b[0m     \u001b[0ma\u001b[0m\u001b[1;33m,\u001b[0m \u001b[0mwrap\u001b[0m \u001b[1;33m=\u001b[0m \u001b[0m_makearray\u001b[0m\u001b[1;33m(\u001b[0m\u001b[0ma\u001b[0m\u001b[1;33m)\u001b[0m\u001b[1;33m\u001b[0m\u001b[0m\n\u001b[1;32m--> 445\u001b[1;33m     \u001b[1;32mreturn\u001b[0m \u001b[0mwrap\u001b[0m\u001b[1;33m(\u001b[0m\u001b[0msolve\u001b[0m\u001b[1;33m(\u001b[0m\u001b[0ma\u001b[0m\u001b[1;33m,\u001b[0m \u001b[0midentity\u001b[0m\u001b[1;33m(\u001b[0m\u001b[0ma\u001b[0m\u001b[1;33m.\u001b[0m\u001b[0mshape\u001b[0m\u001b[1;33m[\u001b[0m\u001b[1;36m0\u001b[0m\u001b[1;33m]\u001b[0m\u001b[1;33m,\u001b[0m \u001b[0mdtype\u001b[0m\u001b[1;33m=\u001b[0m\u001b[0ma\u001b[0m\u001b[1;33m.\u001b[0m\u001b[0mdtype\u001b[0m\u001b[1;33m)\u001b[0m\u001b[1;33m)\u001b[0m\u001b[1;33m)\u001b[0m\u001b[1;33m\u001b[0m\u001b[0m\n\u001b[0m\u001b[0;32m    446\u001b[0m \u001b[1;33m\u001b[0m\u001b[0m\n\u001b[0;32m    447\u001b[0m \u001b[1;33m\u001b[0m\u001b[0m\n",
        "\u001b[1;32m/usr/local/lib/python2.7/dist-packages/numpy/linalg/linalg.pyc\u001b[0m in \u001b[0;36msolve\u001b[1;34m(a, b)\u001b[0m\n\u001b[0;32m    326\u001b[0m     \u001b[0mresults\u001b[0m \u001b[1;33m=\u001b[0m \u001b[0mlapack_routine\u001b[0m\u001b[1;33m(\u001b[0m\u001b[0mn_eq\u001b[0m\u001b[1;33m,\u001b[0m \u001b[0mn_rhs\u001b[0m\u001b[1;33m,\u001b[0m \u001b[0ma\u001b[0m\u001b[1;33m,\u001b[0m \u001b[0mn_eq\u001b[0m\u001b[1;33m,\u001b[0m \u001b[0mpivots\u001b[0m\u001b[1;33m,\u001b[0m \u001b[0mb\u001b[0m\u001b[1;33m,\u001b[0m \u001b[0mn_eq\u001b[0m\u001b[1;33m,\u001b[0m \u001b[1;36m0\u001b[0m\u001b[1;33m)\u001b[0m\u001b[1;33m\u001b[0m\u001b[0m\n\u001b[0;32m    327\u001b[0m     \u001b[1;32mif\u001b[0m \u001b[0mresults\u001b[0m\u001b[1;33m[\u001b[0m\u001b[1;34m'info'\u001b[0m\u001b[1;33m]\u001b[0m \u001b[1;33m>\u001b[0m \u001b[1;36m0\u001b[0m\u001b[1;33m:\u001b[0m\u001b[1;33m\u001b[0m\u001b[0m\n\u001b[1;32m--> 328\u001b[1;33m         \u001b[1;32mraise\u001b[0m \u001b[0mLinAlgError\u001b[0m\u001b[1;33m(\u001b[0m\u001b[1;34m'Singular matrix'\u001b[0m\u001b[1;33m)\u001b[0m\u001b[1;33m\u001b[0m\u001b[0m\n\u001b[0m\u001b[0;32m    329\u001b[0m     \u001b[1;32mif\u001b[0m \u001b[0mone_eq\u001b[0m\u001b[1;33m:\u001b[0m\u001b[1;33m\u001b[0m\u001b[0m\n\u001b[0;32m    330\u001b[0m         \u001b[1;32mreturn\u001b[0m \u001b[0mwrap\u001b[0m\u001b[1;33m(\u001b[0m\u001b[0mb\u001b[0m\u001b[1;33m.\u001b[0m\u001b[0mravel\u001b[0m\u001b[1;33m(\u001b[0m\u001b[1;33m)\u001b[0m\u001b[1;33m.\u001b[0m\u001b[0mastype\u001b[0m\u001b[1;33m(\u001b[0m\u001b[0mresult_t\u001b[0m\u001b[1;33m)\u001b[0m\u001b[1;33m)\u001b[0m\u001b[1;33m\u001b[0m\u001b[0m\n",
        "\u001b[1;31mLinAlgError\u001b[0m: Singular matrix"
       ]
      }
     ],
     "prompt_number": 54
    },
    {
     "cell_type": "code",
     "collapsed": false,
     "input": [
      "R"
     ],
     "language": "python",
     "metadata": {},
     "outputs": [
      {
       "metadata": {},
       "output_type": "pyout",
       "prompt_number": 55,
       "text": [
        "array([[ 0.      ,  0.      ,  0.      ,  0.      ,  0.      ,  0.      ,\n",
        "         0.      ,  0.      ,  0.      ,  0.      ],\n",
        "       [ 0.      ,  1.000909,  1.      ,  1.      ,  1.      ,  1.      ,\n",
        "         1.      ,  1.      ,  1.      ,  1.      ],\n",
        "       [ 0.      ,  1.      ,  1.000909,  1.      ,  1.      ,  1.      ,\n",
        "         1.      ,  1.      ,  1.      ,  1.      ],\n",
        "       [ 0.      ,  1.      ,  1.      ,  1.000909,  1.      ,  1.      ,\n",
        "         1.      ,  1.      ,  1.      ,  1.      ],\n",
        "       [ 0.      ,  1.      ,  1.      ,  1.      ,  1.000909,  1.      ,\n",
        "         1.      ,  1.      ,  1.      ,  1.      ],\n",
        "       [ 0.      ,  1.      ,  1.      ,  1.      ,  1.      ,  1.000909,\n",
        "         1.      ,  1.      ,  1.      ,  1.      ],\n",
        "       [ 0.      ,  1.      ,  1.      ,  1.      ,  1.      ,  1.      ,\n",
        "         1.000909,  1.      ,  1.      ,  1.      ],\n",
        "       [ 0.      ,  1.      ,  1.      ,  1.      ,  1.      ,  1.      ,\n",
        "         1.      ,  1.000909,  1.      ,  1.      ],\n",
        "       [ 0.      ,  1.      ,  1.      ,  1.      ,  1.      ,  1.      ,\n",
        "         1.      ,  1.      ,  1.000909,  1.      ],\n",
        "       [ 0.      ,  1.      ,  1.      ,  1.      ,  1.      ,  1.      ,\n",
        "         1.      ,  1.      ,  1.      ,  1.000909]])"
       ]
      }
     ],
     "prompt_number": 55
    },
    {
     "cell_type": "code",
     "collapsed": false,
     "input": [],
     "language": "python",
     "metadata": {},
     "outputs": []
    }
   ],
   "metadata": {}
  }
 ]
}