{
 "metadata": {
  "name": ""
 },
 "nbformat": 3,
 "nbformat_minor": 0,
 "worksheets": [
  {
   "cells": [
    {
     "cell_type": "markdown",
     "metadata": {},
     "source": [
      "## Ran the simulations and now need to unpack data and analyze it  \n",
      "\n",
      "--- \n",
      "#### Results  \n",
      "- When binning is shrink-wrapped to the voltage over time, the cases of no noise and no spiking always do better because they have greater discriminability.  \n",
      "- With noise and fixing the discrimination to fixed bin sizes (fixing max and min to be relevant for spiking regime), we get more memory and prediction in spiking regime  \n",
      "- The appropriate amount of spike-frequency adaptation may be different depending on the time constant of the stimulus.  For instance, slow varying brownian motion responds better to high adaptation, whereas faster shot noise has higher information with less spiking adaptation"
     ]
    },
    {
     "cell_type": "code",
     "collapsed": false,
     "input": [
      "import glob\n",
      "import pickle\n",
      "import numpy as np"
     ],
     "language": "python",
     "metadata": {},
     "outputs": [],
     "prompt_number": 73
    },
    {
     "cell_type": "code",
     "collapsed": false,
     "input": [
      "cd ~/Masters/Data/2013-11-28/"
     ],
     "language": "python",
     "metadata": {},
     "outputs": [
      {
       "output_type": "stream",
       "stream": "stdout",
       "text": [
        "/home/lane/Masters/Data/2013-11-28\n"
       ]
      }
     ],
     "prompt_number": 78
    },
    {
     "cell_type": "markdown",
     "metadata": {},
     "source": [
      "###Load and piece together all the data files"
     ]
    },
    {
     "cell_type": "code",
     "collapsed": false,
     "input": [
      "adapt = np.linspace(0,25,100)\n",
      "keys  = [adapt[29], adapt[59], adapt[-1]]"
     ],
     "language": "python",
     "metadata": {},
     "outputs": [],
     "prompt_number": 79
    },
    {
     "cell_type": "markdown",
     "metadata": {},
     "source": [
      "#### Brownian stimulus"
     ]
    },
    {
     "cell_type": "code",
     "collapsed": false,
     "input": [
      "brownian_sum_mem  = []\n",
      "brownian_sum_pred = []\n",
      "brownian_sum_max  = []\n",
      "\n",
      "for i in xrange(len(keys)):\n",
      "    # for 2013-11-25 was:\n",
      "    # tmp = 'masters_data_sum_a' + str(keys[i]) + '*.pik'\n",
      "    tmp = 'masters_data_sum_brownian_a' + str(keys[i]) + '*.pik'\n",
      "    brownian_sum_file = glob.glob(tmp)\n",
      "    with open(brownian_sum_file[0], 'rb') as f:\n",
      "        sum_mem, sum_pred, sum_max = pickle.load(f)\n",
      "    brownian_sum_mem.append(sum_mem)\n",
      "    brownian_sum_pred.append(sum_pred)\n",
      "    brownian_sum_max.append(sum_max)"
     ],
     "language": "python",
     "metadata": {},
     "outputs": [],
     "prompt_number": 81
    },
    {
     "cell_type": "code",
     "collapsed": false,
     "input": [
      "b_mem = np.zeros((len(adapt),))\n",
      "b_mem[:30]   = brownian_sum_mem[0]\n",
      "b_mem[30:60] = brownian_sum_mem[1]\n",
      "b_mem[60:]   = brownian_sum_mem[2]\n",
      "\n",
      "b_max = np.zeros((len(adapt),))\n",
      "b_max[:30]   = brownian_sum_max[0]\n",
      "b_max[30:60] = brownian_sum_max[1]\n",
      "b_max[60:]   = brownian_sum_max[2]\n",
      "\n",
      "b_pred = np.zeros((len(adapt),))\n",
      "b_pred[:30]   = brownian_sum_pred[0]\n",
      "b_pred[30:60] = brownian_sum_pred[1]\n",
      "b_pred[60:]   = brownian_sum_pred[2]"
     ],
     "language": "python",
     "metadata": {},
     "outputs": [],
     "prompt_number": 82
    },
    {
     "cell_type": "code",
     "collapsed": false,
     "input": [
      "plot(adapt,mem)"
     ],
     "language": "python",
     "metadata": {},
     "outputs": [
      {
       "metadata": {},
       "output_type": "pyout",
       "prompt_number": 83,
       "text": [
        "[<matplotlib.lines.Line2D at 0x5b6d390>]"
       ]
      },
      {
       "metadata": {},
       "output_type": "display_data",
       "png": "[encoded data removed]",
       "text": [
        "<matplotlib.figure.Figure at 0x5c44d50>"
       ]
      }
     ],
     "prompt_number": 83
    },
    {
     "cell_type": "markdown",
     "metadata": {},
     "source": [
      "#### Shotnoise stimulus"
     ]
    },
    {
     "cell_type": "code",
     "collapsed": false,
     "input": [
      "shotnoise_sum_mem  = []\n",
      "shotnoise_sum_pred = []\n",
      "shotnoise_sum_max  = []\n",
      "\n",
      "for i in xrange(len(keys)):\n",
      "    tmp = 'masters_data_sum_shotnoise_a' + str(keys[i]) + '*.pik'\n",
      "    shotnoise_sum_file = glob.glob(tmp)\n",
      "    with open(shotnoise_sum_file[0], 'rb') as f:\n",
      "        sum_mem, sum_pred, sum_max = pickle.load(f)\n",
      "    shotnoise_sum_mem.append(sum_mem)\n",
      "    shotnoise_sum_pred.append(sum_pred)\n",
      "    shotnoise_sum_max.append(sum_max)"
     ],
     "language": "python",
     "metadata": {},
     "outputs": [],
     "prompt_number": 89
    },
    {
     "cell_type": "code",
     "collapsed": false,
     "input": [
      "s_mem = np.zeros((len(adapt),))\n",
      "s_mem[:30]   = shotnoise_sum_mem[0]\n",
      "s_mem[30:60] = shotnoise_sum_mem[1]\n",
      "s_mem[60:]   = shotnoise_sum_mem[2]\n",
      "\n",
      "s_max = np.zeros((len(adapt),))\n",
      "s_max[:30]   = shotnoise_sum_max[0]\n",
      "s_max[30:60] = shotnoise_sum_max[1]\n",
      "s_max[60:]   = shotnoise_sum_max[2]\n",
      "\n",
      "s_pred = np.zeros((len(adapt),))\n",
      "s_pred[:30]   = shotnoise_sum_pred[0]\n",
      "s_pred[30:60] = shotnoise_sum_pred[1]\n",
      "s_pred[60:]   = shotnoise_sum_pred[2]"
     ],
     "language": "python",
     "metadata": {},
     "outputs": [],
     "prompt_number": 90
    },
    {
     "cell_type": "markdown",
     "metadata": {},
     "source": [
      "The following cell is only for 2013-11-25"
     ]
    },
    {
     "cell_type": "code",
     "collapsed": false,
     "input": [
      "tmp = 'masters_data_sum_shotnoise_a*.pik'\n",
      "shotnoise_sum_file = glob.glob(tmp)\n",
      "shotnoise_sum_file.sort()\n",
      "\n",
      "\n",
      "shotnoise_sum_mem  = []\n",
      "shotnoise_sum_pred = []\n",
      "shotnoise_sum_max  = []\n",
      "\n",
      "# I leave out the last two because I must have missed 24.7...\n",
      "for a in reversed(adapt[:-2]):\n",
      "    tmp = 'masters_data_sum_shotnoise_a' + str(a) + '*.pik'\n",
      "    shotnoise_sum_file = glob.glob(tmp)\n",
      "    with open(shotnoise_sum_file[0], 'rb') as f:\n",
      "        sum_mem, sum_pred, sum_max = pickle.load(f)\n",
      "    shotnoise_sum_mem.append(sum_mem[-1])\n",
      "    shotnoise_sum_pred.append(sum_pred[-1])\n",
      "    shotnoise_sum_max.append(sum_max[-1])\n",
      "    \n",
      "shotnoise_sum_mem = shotnoise_sum_mem[::-1]\n",
      "shotnoise_sum_pred = shotnoise_sum_pred[::-1]\n",
      "shotnoise_sum_max = shotnoise_sum_max[::-1]\n",
      "\n",
      "shotnoise_sum_nonpred = [a - b for a, b in zip(shotnoise_sum_mem, shotnoise_sum_pred)]\n",
      "plot(adapt[:-2],shotnoise_sum_nonpred,'r')"
     ],
     "language": "python",
     "metadata": {},
     "outputs": [],
     "prompt_number": 86
    },
    {
     "cell_type": "code",
     "collapsed": false,
     "input": [
      "plot(adapt,s_mem)\n",
      "plot(adapt,s_pred,'b')\n",
      "#plot(adapt,s_max,'g')\n",
      "plot(adapt,s_mem-s_pred,'r')"
     ],
     "language": "python",
     "metadata": {},
     "outputs": [
      {
       "metadata": {},
       "output_type": "pyout",
       "prompt_number": 96,
       "text": [
        "[<matplotlib.lines.Line2D at 0x6a34690>]"
       ]
      },
      {
       "metadata": {},
       "output_type": "display_data",
       "png": "[encoded data removed]",
       "text": [
        "<matplotlib.figure.Figure at 0x59847d0>"
       ]
      }
     ],
     "prompt_number": 96
    },
    {
     "cell_type": "markdown",
     "metadata": {},
     "source": [
      "#### Ornstein Uhlenbeck stimulus"
     ]
    },
    {
     "cell_type": "code",
     "collapsed": false,
     "input": [
      "ou_sum_mem  = []\n",
      "ou_sum_pred = []\n",
      "ou_sum_max  = []\n",
      "\n",
      "for i in xrange(len(keys)):\n",
      "    tmp = 'masters_data_sum_ou_a' + str(keys[i]) + '*.pik'\n",
      "    ou_sum_file = glob.glob(tmp)\n",
      "    with open(ou_sum_file[0], 'rb') as f:\n",
      "        sum_mem, sum_pred, sum_max = pickle.load(f)\n",
      "    ou_sum_mem.append(sum_mem)\n",
      "    ou_sum_pred.append(sum_pred)\n",
      "    ou_sum_max.append(sum_max)"
     ],
     "language": "python",
     "metadata": {},
     "outputs": [],
     "prompt_number": 39
    },
    {
     "cell_type": "code",
     "collapsed": false,
     "input": [
      "o_mem = np.zeros((len(adapt),))\n",
      "o_mem[:30]   = ou_sum_mem[0]\n",
      "o_mem[30:60] = ou_sum_mem[1]\n",
      "o_mem[60:]   = ou_sum_mem[2]\n",
      "\n",
      "o_max = np.zeros((len(adapt),))\n",
      "o_max[:30]   = ou_sum_max[0]\n",
      "o_max[30:60] = ou_sum_max[1]\n",
      "o_max[60:]   = ou_sum_max[2]\n",
      "\n",
      "o_pred = np.zeros((len(adapt),))\n",
      "o_pred[:30]   = ou_sum_pred[0]\n",
      "o_pred[30:60] = ou_sum_pred[1]\n",
      "o_pred[60:]   = ou_sum_pred[2]"
     ],
     "language": "python",
     "metadata": {},
     "outputs": [],
     "prompt_number": 40
    },
    {
     "cell_type": "code",
     "collapsed": false,
     "input": [
      "plot(adapt,o_mem)"
     ],
     "language": "python",
     "metadata": {},
     "outputs": [
      {
       "metadata": {},
       "output_type": "pyout",
       "prompt_number": 41,
       "text": [
        "[<matplotlib.lines.Line2D at 0x45a1450>]"
       ]
      },
      {
       "metadata": {},
       "output_type": "display_data",
       "png": "[encoded data removed]",
       "text": [
        "<matplotlib.figure.Figure at 0x45246d0>"
       ]
      }
     ],
     "prompt_number": 41
    },
    {
     "cell_type": "markdown",
     "metadata": {},
     "source": [
      "#### White noise stimuli"
     ]
    },
    {
     "cell_type": "code",
     "collapsed": false,
     "input": [
      "white_sum_mem  = []\n",
      "white_sum_pred = []\n",
      "white_sum_max  = []\n",
      "\n",
      "for i in xrange(len(keys)):\n",
      "    tmp = 'masters_data_sum_white_a' + str(keys[i]) + '*.pik'\n",
      "    white_sum_file = glob.glob(tmp)\n",
      "    with open(white_sum_file[0], 'rb') as f:\n",
      "        sum_mem, sum_pred, sum_max = pickle.load(f)\n",
      "    white_sum_mem.append(sum_mem)\n",
      "    white_sum_pred.append(sum_pred)\n",
      "    white_sum_max.append(sum_max)"
     ],
     "language": "python",
     "metadata": {},
     "outputs": [],
     "prompt_number": 42
    },
    {
     "cell_type": "code",
     "collapsed": false,
     "input": [
      "w_mem = np.zeros((len(adapt),))\n",
      "w_mem[:30]   = white_sum_mem[0]\n",
      "w_mem[30:60] = white_sum_mem[1]\n",
      "w_mem[60:]   = white_sum_mem[2]\n",
      "\n",
      "w_max = np.zeros((len(adapt),))\n",
      "w_max[:30]   = white_sum_max[0]\n",
      "w_max[30:60] = white_sum_max[1]\n",
      "w_max[60:]   = white_sum_max[2]\n",
      "\n",
      "w_pred = np.zeros((len(adapt),))\n",
      "w_pred[:30]   = white_sum_pred[0]\n",
      "w_pred[30:60] = white_sum_pred[1]\n",
      "w_pred[60:]   = white_sum_pred[2]"
     ],
     "language": "python",
     "metadata": {},
     "outputs": [],
     "prompt_number": 43
    },
    {
     "cell_type": "code",
     "collapsed": false,
     "input": [
      "plot(adapt,w_mem)"
     ],
     "language": "python",
     "metadata": {},
     "outputs": [
      {
       "metadata": {},
       "output_type": "pyout",
       "prompt_number": 44,
       "text": [
        "[<matplotlib.lines.Line2D at 0x472ad50>]"
       ]
      },
      {
       "metadata": {},
       "output_type": "display_data",
       "png": "[encoded data removed]",
       "text": [
        "<matplotlib.figure.Figure at 0x458f7d0>"
       ]
      }
     ],
     "prompt_number": 44
    },
    {
     "cell_type": "code",
     "collapsed": false,
     "input": [],
     "language": "python",
     "metadata": {},
     "outputs": []
    }
   ],
   "metadata": {}
  }
 ]
}