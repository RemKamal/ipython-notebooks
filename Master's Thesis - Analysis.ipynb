{
 "metadata": {
  "name": ""
 },
 "nbformat": 3,
 "nbformat_minor": 0,
 "worksheets": [
  {
   "cells": [
    {
     "cell_type": "markdown",
     "metadata": {},
     "source": [
      "## Ran the simulations and now need to unpack data and analyze it"
     ]
    },
    {
     "cell_type": "code",
     "collapsed": false,
     "input": [
      "import glob\n",
      "import pickle\n",
      "import numpy as np"
     ],
     "language": "python",
     "metadata": {},
     "outputs": [],
     "prompt_number": 12
    },
    {
     "cell_type": "code",
     "collapsed": false,
     "input": [
      "cd ~/Masters/Data/"
     ],
     "language": "python",
     "metadata": {},
     "outputs": [
      {
       "output_type": "stream",
       "stream": "stdout",
       "text": [
        "/home/lane/Masters/Data\n"
       ]
      }
     ],
     "prompt_number": 2
    },
    {
     "cell_type": "markdown",
     "metadata": {},
     "source": [
      "###Load and piece together all the data files"
     ]
    },
    {
     "cell_type": "code",
     "collapsed": false,
     "input": [
      "adapt = np.linspace(0,25,100)\n",
      "keys  = [adapt[29], adapt[59], adapt[-1]]"
     ],
     "language": "python",
     "metadata": {},
     "outputs": [],
     "prompt_number": 15
    },
    {
     "cell_type": "markdown",
     "metadata": {},
     "source": [
      "#### Brownian stimulus"
     ]
    },
    {
     "cell_type": "code",
     "collapsed": false,
     "input": [
      "brownian_sum_mem  = []\n",
      "brownian_sum_pred = []\n",
      "brownian_sum_max  = []\n",
      "\n",
      "for i in xrange(len(keys)):\n",
      "    tmp = 'masters_data_sum_a' + str(keys[i]) + '*.pik'\n",
      "    brownian_sum_file = glob.glob(tmp)\n",
      "    with open(brownian_sum_file[0], 'rb') as f:\n",
      "        sum_mem, sum_pred, sum_max = pickle.load(f)\n",
      "    brownian_sum_mem.append(sum_mem)\n",
      "    brownian_sum_pred.append(sum_pred)\n",
      "    brownian_sum_max.append(sum_max)"
     ],
     "language": "python",
     "metadata": {},
     "outputs": [],
     "prompt_number": 27
    },
    {
     "cell_type": "code",
     "collapsed": false,
     "input": [
      "b_mem = np.zeros((len(adapt),))\n",
      "b_mem[:30]   = brownian_sum_mem[0]\n",
      "b_mem[30:60] = brownian_sum_mem[1]\n",
      "b_mem[60:]   = brownian_sum_mem[2]\n",
      "\n",
      "b_max = np.zeros((len(adapt),))\n",
      "b_max[:30]   = brownian_sum_max[0]\n",
      "b_max[30:60] = brownian_sum_max[1]\n",
      "b_max[60:]   = brownian_sum_max[2]\n",
      "\n",
      "b_pred = np.zeros((len(adapt),))\n",
      "b_pred[:30]   = brownian_sum_pred[0]\n",
      "b_pred[30:60] = brownian_sum_pred[1]\n",
      "b_pred[60:]   = brownian_sum_pred[2]"
     ],
     "language": "python",
     "metadata": {},
     "outputs": [],
     "prompt_number": 34
    },
    {
     "cell_type": "code",
     "collapsed": false,
     "input": [
      "plot(adapt,mem)"
     ],
     "language": "python",
     "metadata": {},
     "outputs": [
      {
       "metadata": {},
       "output_type": "pyout",
       "prompt_number": 33,
       "text": [
        "[<matplotlib.lines.Line2D at 0x4620710>]"
       ]
      },
      {
       "metadata": {},
       "output_type": "display_data",
       "png": "[encoded data removed]",
       "text": [
        "<matplotlib.figure.Figure at 0x452e6d0>"
       ]
      }
     ],
     "prompt_number": 33
    },
    {
     "cell_type": "markdown",
     "metadata": {},
     "source": [
      "#### Shotnoise stimulus"
     ]
    },
    {
     "cell_type": "code",
     "collapsed": false,
     "input": [
      "shotnoise_sum_mem  = []\n",
      "shotnoise_sum_pred = []\n",
      "shotnoise_sum_max  = []\n",
      "\n",
      "for i in xrange(len(keys)):\n",
      "    tmp = 'masters_data_sum_shotnoise_a' + str(keys[i]) + '*.pik'\n",
      "    shotnoise_sum_file = glob.glob(tmp)\n",
      "    with open(shotnoise_sum_file[0], 'rb') as f:\n",
      "        sum_mem, sum_pred, sum_max = pickle.load(f)\n",
      "    shotnoise_sum_mem.append(sum_mem)\n",
      "    shotnoise_sum_pred.append(sum_pred)\n",
      "    shotnoise_sum_max.append(sum_max)"
     ],
     "language": "python",
     "metadata": {},
     "outputs": [
      {
       "ename": "IndexError",
       "evalue": "list index out of range",
       "output_type": "pyerr",
       "traceback": [
        "\u001b[1;31m---------------------------------------------------------------------------\u001b[0m\n\u001b[1;31mIndexError\u001b[0m                                Traceback (most recent call last)",
        "\u001b[1;32m<ipython-input-35-fb4bc1424344>\u001b[0m in \u001b[0;36m<module>\u001b[1;34m()\u001b[0m\n\u001b[0;32m      6\u001b[0m     \u001b[0mtmp\u001b[0m \u001b[1;33m=\u001b[0m \u001b[1;34m'masters_data_sum_shotnoise_a'\u001b[0m \u001b[1;33m+\u001b[0m \u001b[0mstr\u001b[0m\u001b[1;33m(\u001b[0m\u001b[0mkeys\u001b[0m\u001b[1;33m[\u001b[0m\u001b[0mi\u001b[0m\u001b[1;33m]\u001b[0m\u001b[1;33m)\u001b[0m \u001b[1;33m+\u001b[0m \u001b[1;34m'*.pik'\u001b[0m\u001b[1;33m\u001b[0m\u001b[0m\n\u001b[0;32m      7\u001b[0m     \u001b[0mshotnoise_sum_file\u001b[0m \u001b[1;33m=\u001b[0m \u001b[0mglob\u001b[0m\u001b[1;33m.\u001b[0m\u001b[0mglob\u001b[0m\u001b[1;33m(\u001b[0m\u001b[0mtmp\u001b[0m\u001b[1;33m)\u001b[0m\u001b[1;33m\u001b[0m\u001b[0m\n\u001b[1;32m----> 8\u001b[1;33m     \u001b[1;32mwith\u001b[0m \u001b[0mopen\u001b[0m\u001b[1;33m(\u001b[0m\u001b[0mshotnoise_sum_file\u001b[0m\u001b[1;33m[\u001b[0m\u001b[1;36m0\u001b[0m\u001b[1;33m]\u001b[0m\u001b[1;33m,\u001b[0m \u001b[1;34m'rb'\u001b[0m\u001b[1;33m)\u001b[0m \u001b[1;32mas\u001b[0m \u001b[0mf\u001b[0m\u001b[1;33m:\u001b[0m\u001b[1;33m\u001b[0m\u001b[0m\n\u001b[0m\u001b[0;32m      9\u001b[0m         \u001b[0msum_mem\u001b[0m\u001b[1;33m,\u001b[0m \u001b[0msum_pred\u001b[0m\u001b[1;33m,\u001b[0m \u001b[0msum_max\u001b[0m \u001b[1;33m=\u001b[0m \u001b[0mpickle\u001b[0m\u001b[1;33m.\u001b[0m\u001b[0mload\u001b[0m\u001b[1;33m(\u001b[0m\u001b[0mf\u001b[0m\u001b[1;33m)\u001b[0m\u001b[1;33m\u001b[0m\u001b[0m\n\u001b[0;32m     10\u001b[0m     \u001b[0mshotnoise_sum_mem\u001b[0m\u001b[1;33m.\u001b[0m\u001b[0mappend\u001b[0m\u001b[1;33m(\u001b[0m\u001b[0msum_mem\u001b[0m\u001b[1;33m)\u001b[0m\u001b[1;33m\u001b[0m\u001b[0m\n",
        "\u001b[1;31mIndexError\u001b[0m: list index out of range"
       ]
      }
     ],
     "prompt_number": 35
    },
    {
     "cell_type": "code",
     "collapsed": false,
     "input": [
      "tmp = 'masters_data_sum_shotnoise_a*.pik'\n",
      "shotnoise_sum_file = glob.glob(tmp)\n",
      "shotnoise_sum_file.sort()"
     ],
     "language": "python",
     "metadata": {},
     "outputs": [],
     "prompt_number": 49
    },
    {
     "cell_type": "code",
     "collapsed": false,
     "input": [
      "shotnoise_sum_mem  = []\n",
      "shotnoise_sum_pred = []\n",
      "shotnoise_sum_max  = []\n",
      "\n",
      "# I leave out the last two because I must have missed 24.7...\n",
      "for a in reversed(adapt[:-2]):\n",
      "    tmp = 'masters_data_sum_shotnoise_a' + str(a) + '*.pik'\n",
      "    shotnoise_sum_file = glob.glob(tmp)\n",
      "    with open(shotnoise_sum_file[0], 'rb') as f:\n",
      "        sum_mem, sum_pred, sum_max = pickle.load(f)\n",
      "    shotnoise_sum_mem.append(sum_mem[-1])\n",
      "    shotnoise_sum_pred.append(sum_pred[-1])\n",
      "    shotnoise_sum_max.append(sum_max[-1])\n",
      "    \n",
      "shotnoise_sum_mem = shotnoise_sum_mem[::-1]\n",
      "shotnoise_sum_pred = shotnoise_sum_pred[::-1]\n",
      "shotnoise_sum_max = shotnoise_sum_max[::-1]"
     ],
     "language": "python",
     "metadata": {},
     "outputs": [],
     "prompt_number": 63
    },
    {
     "cell_type": "code",
     "collapsed": false,
     "input": [
      "plot(shotnoise_sum_mem)\n",
      "plot(shotnoise_sum_pred,'b')\n",
      "#plot(shotnoise_sum_max)"
     ],
     "language": "python",
     "metadata": {},
     "outputs": [
      {
       "metadata": {},
       "output_type": "pyout",
       "prompt_number": 68,
       "text": [
        "[<matplotlib.lines.Line2D at 0x50f7bd0>]"
       ]
      },
      {
       "metadata": {},
       "output_type": "display_data",
       "png": "[encoded data removed]",
       "text": [
        "<matplotlib.figure.Figure at 0x50f76d0>"
       ]
      }
     ],
     "prompt_number": 68
    },
    {
     "cell_type": "code",
     "collapsed": false,
     "input": [
      "shotnoise_sum_nonpred = [a - b for a, b in zip(shotnoise_sum_mem, shotnoise_sum_pred)]\n",
      "plot(shotnoise_sum_nonpred)"
     ],
     "language": "python",
     "metadata": {},
     "outputs": [
      {
       "metadata": {},
       "output_type": "pyout",
       "prompt_number": 67,
       "text": [
        "[<matplotlib.lines.Line2D at 0x595f4d0>]"
       ]
      },
      {
       "metadata": {},
       "output_type": "display_data",
       "png": "[encoded data removed]",
       "text": [
        "<matplotlib.figure.Figure at 0x473c290>"
       ]
      }
     ],
     "prompt_number": 67
    },
    {
     "cell_type": "markdown",
     "metadata": {},
     "source": [
      "#### Ornstein Uhlenbeck stimulus"
     ]
    },
    {
     "cell_type": "code",
     "collapsed": false,
     "input": [
      "ou_sum_mem  = []\n",
      "ou_sum_pred = []\n",
      "ou_sum_max  = []\n",
      "\n",
      "for i in xrange(len(keys)):\n",
      "    tmp = 'masters_data_sum_ou_a' + str(keys[i]) + '*.pik'\n",
      "    ou_sum_file = glob.glob(tmp)\n",
      "    with open(ou_sum_file[0], 'rb') as f:\n",
      "        sum_mem, sum_pred, sum_max = pickle.load(f)\n",
      "    ou_sum_mem.append(sum_mem)\n",
      "    ou_sum_pred.append(sum_pred)\n",
      "    ou_sum_max.append(sum_max)"
     ],
     "language": "python",
     "metadata": {},
     "outputs": [],
     "prompt_number": 39
    },
    {
     "cell_type": "code",
     "collapsed": false,
     "input": [
      "o_mem = np.zeros((len(adapt),))\n",
      "o_mem[:30]   = ou_sum_mem[0]\n",
      "o_mem[30:60] = ou_sum_mem[1]\n",
      "o_mem[60:]   = ou_sum_mem[2]\n",
      "\n",
      "o_max = np.zeros((len(adapt),))\n",
      "o_max[:30]   = ou_sum_max[0]\n",
      "o_max[30:60] = ou_sum_max[1]\n",
      "o_max[60:]   = ou_sum_max[2]\n",
      "\n",
      "o_pred = np.zeros((len(adapt),))\n",
      "o_pred[:30]   = ou_sum_pred[0]\n",
      "o_pred[30:60] = ou_sum_pred[1]\n",
      "o_pred[60:]   = ou_sum_pred[2]"
     ],
     "language": "python",
     "metadata": {},
     "outputs": [],
     "prompt_number": 40
    },
    {
     "cell_type": "code",
     "collapsed": false,
     "input": [
      "plot(adapt,o_mem)"
     ],
     "language": "python",
     "metadata": {},
     "outputs": [
      {
       "metadata": {},
       "output_type": "pyout",
       "prompt_number": 41,
       "text": [
        "[<matplotlib.lines.Line2D at 0x45a1450>]"
       ]
      },
      {
       "metadata": {},
       "output_type": "display_data",
       "png": "[encoded data removed]",
       "text": [
        "<matplotlib.figure.Figure at 0x45246d0>"
       ]
      }
     ],
     "prompt_number": 41
    },
    {
     "cell_type": "markdown",
     "metadata": {},
     "source": [
      "#### White noise stimuli"
     ]
    },
    {
     "cell_type": "code",
     "collapsed": false,
     "input": [
      "white_sum_mem  = []\n",
      "white_sum_pred = []\n",
      "white_sum_max  = []\n",
      "\n",
      "for i in xrange(len(keys)):\n",
      "    tmp = 'masters_data_sum_white_a' + str(keys[i]) + '*.pik'\n",
      "    white_sum_file = glob.glob(tmp)\n",
      "    with open(white_sum_file[0], 'rb') as f:\n",
      "        sum_mem, sum_pred, sum_max = pickle.load(f)\n",
      "    white_sum_mem.append(sum_mem)\n",
      "    white_sum_pred.append(sum_pred)\n",
      "    white_sum_max.append(sum_max)"
     ],
     "language": "python",
     "metadata": {},
     "outputs": [],
     "prompt_number": 42
    },
    {
     "cell_type": "code",
     "collapsed": false,
     "input": [
      "w_mem = np.zeros((len(adapt),))\n",
      "w_mem[:30]   = white_sum_mem[0]\n",
      "w_mem[30:60] = white_sum_mem[1]\n",
      "w_mem[60:]   = white_sum_mem[2]\n",
      "\n",
      "w_max = np.zeros((len(adapt),))\n",
      "w_max[:30]   = white_sum_max[0]\n",
      "w_max[30:60] = white_sum_max[1]\n",
      "w_max[60:]   = white_sum_max[2]\n",
      "\n",
      "w_pred = np.zeros((len(adapt),))\n",
      "w_pred[:30]   = white_sum_pred[0]\n",
      "w_pred[30:60] = white_sum_pred[1]\n",
      "w_pred[60:]   = white_sum_pred[2]"
     ],
     "language": "python",
     "metadata": {},
     "outputs": [],
     "prompt_number": 43
    },
    {
     "cell_type": "code",
     "collapsed": false,
     "input": [
      "plot(adapt,w_mem)"
     ],
     "language": "python",
     "metadata": {},
     "outputs": [
      {
       "metadata": {},
       "output_type": "pyout",
       "prompt_number": 44,
       "text": [
        "[<matplotlib.lines.Line2D at 0x472ad50>]"
       ]
      },
      {
       "metadata": {},
       "output_type": "display_data",
       "png": "[encoded data removed]",
       "text": [
        "<matplotlib.figure.Figure at 0x458f7d0>"
       ]
      }
     ],
     "prompt_number": 44
    },
    {
     "cell_type": "code",
     "collapsed": false,
     "input": [],
     "language": "python",
     "metadata": {},
     "outputs": []
    }
   ],
   "metadata": {}
  }
 ]
}