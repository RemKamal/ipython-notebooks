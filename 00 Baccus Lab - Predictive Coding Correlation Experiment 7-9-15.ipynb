{
 "cells": [
  {
   "cell_type": "code",
   "execution_count": 35,
   "metadata": {
    "collapsed": false
   },
   "outputs": [
    {
     "name": "stdout",
     "output_type": "stream",
     "text": [
      "The autoreload extension is already loaded. To reload it, use:\n",
      "  %reload_ext autoreload\n"
     ]
    }
   ],
   "source": [
    "import numpy as np\n",
    "from sklearn.decomposition import PCA\n",
    "from scipy.stats import sem\n",
    "import scipy.io\n",
    "import itertools\n",
    "import os\n",
    "import h5py\n",
    "import pyret\n",
    "import binary     # in igor >> recording\n",
    "\n",
    "# This is a bit of magic to make matplotlib figures appear inline in the\n",
    "# notebook rather than in a new window.\n",
    "%matplotlib inline\n",
    "from matplotlib.pyplot import *\n",
    "\n",
    "# note that nonposx(y) for log plots will no longer work with this package\n",
    "import mpld3\n",
    "#mpld3.enable_notebook()\n",
    "\n",
    "from pylab import rcParams\n",
    "rcParams['figure.figsize'] = (10.0, 8.0) # set default size of plots\n",
    "rcParams['image.interpolation'] = 'nearest'\n",
    "rcParams['image.cmap'] = 'gray'\n",
    "\n",
    "# Some more magic so that the notebook will reload external python modules;\n",
    "# see http://stackoverflow.com/questions/1907993/autoreload-of-modules-in-ipython\n",
    "%load_ext autoreload\n",
    "%autoreload 2"
   ]
  },
  {
   "cell_type": "code",
   "execution_count": 2,
   "metadata": {
    "collapsed": true
   },
   "outputs": [],
   "source": [
    "data_dir = os.path.expanduser('~/Documents/Stanford/00 Baccus Lab/Predictive Coding Correlation Experiments/')"
   ]
  },
  {
   "cell_type": "markdown",
   "metadata": {},
   "source": [
    "### Load ganglion cell spiking and inhibitory interneuron membrane potential  \n",
    "ganglion is cell array of which playback experiment (0,1,2) >> which cell (0, ..., 13) >> which spike timestamp  \n",
    "surround is cell array of which playback experiment (0,1,2) >> membrane potential"
   ]
  },
  {
   "cell_type": "code",
   "execution_count": 3,
   "metadata": {
    "collapsed": false
   },
   "outputs": [],
   "source": [
    "ganglion_files = ['012514_ganglions_0.mat','012514_ganglions_1.mat','012514_ganglions_2.mat']\n",
    "surround_files = ['012514_c1_s0_0_300.txt','012514_c1_s1_0_300.txt','012514_c1_s2_0_300.txt']\n",
    "\n",
    "ganglion = []\n",
    "surround = []\n",
    "\n",
    "# load ganglion cell spiking files\n",
    "for g_file in ganglion_files:\n",
    "    tmp = scipy.io.loadmat(data_dir + g_file, squeeze_me=True)\n",
    "    cells = [tmp['spikes'][:,c][tmp['spikes'][:,c] > 0] for c in range(tmp['spikes'].shape[1])]\n",
    "    ganglion.append(cells)\n",
    "    \n",
    "# load surround membrane potential\n",
    "for s_file in surround_files:\n",
    "    tmp = np.loadtxt(data_dir + s_file, dtype='float', skiprows=1)\n",
    "    surround.append(tmp)"
   ]
  },
  {
   "cell_type": "code",
   "execution_count": 4,
   "metadata": {
    "collapsed": false
   },
   "outputs": [
    {
     "data": {
      "text/plain": [
       "[<matplotlib.lines.Line2D at 0x102d68bd0>]"
      ]
     },
     "execution_count": 4,
     "metadata": {},
     "output_type": "execute_result"
    },
    {
     "data": {
      "image/png": "[encoded data removed]",
      "text/plain": [
       "<matplotlib.figure.Figure at 0x1138a2cd0>"
      ]
     },
     "metadata": {},
     "output_type": "display_data"
    }
   ],
   "source": [
    "plot(surround[0])"
   ]
  },
  {
   "cell_type": "markdown",
   "metadata": {},
   "source": [
    "### Copy Table0:info conditions information"
   ]
  },
  {
   "cell_type": "code",
   "execution_count": 10,
   "metadata": {
    "collapsed": true
   },
   "outputs": [],
   "source": [
    "control_time = [[10.5, 20.], [0.5, 10.], [20.5, 30.]]\n",
    "amplify_time = [[20.5, 30.], [10.5, 20.], [0.5, 10.]]\n",
    "diminish_time = [[0.5, 10.], [20.5, 30.], [10.5, 20.]]"
   ]
  },
  {
   "cell_type": "markdown",
   "metadata": {},
   "source": [
    "# Look at ganglion firing rates in the amplify, diminish, and control conditions"
   ]
  },
  {
   "cell_type": "code",
   "execution_count": 58,
   "metadata": {
    "collapsed": false
   },
   "outputs": [],
   "source": [
    "num_seconds = 0.95*300./3\n",
    "control_firing_rate = []\n",
    "amplify_firing_rate = []\n",
    "diminish_firing_rate = []\n",
    "for idp, playback in enumerate(ganglion):\n",
    "    for idc, cell in enumerate(playback):\n",
    "        ctrl = [spike for spike in cell if spike % 30 > control_time[idp][0] and spike % 30 < control_time[idp][1]]\n",
    "        amp  = [spike for spike in cell if spike % 30 > amplify_time[idp][0] and spike % 30 < amplify_time[idp][1]]\n",
    "        dim  = [spike for spike in cell if spike % 30 > diminish_time[idp][0] and spike % 30 < diminish_time[idp][1]]\n",
    "        control_firing_rate.append(len(ctrl)/num_seconds)\n",
    "        amplify_firing_rate.append(len(amp)/num_seconds)\n",
    "        diminish_firing_rate.append(len(dim)/num_seconds)\n",
    "        \n",
    "firing_rates = np.array([control_firing_rate, amplify_firing_rate, diminish_firing_rate]).T\n",
    "cell_means   = np.mean(firing_rates, axis=1)\n",
    "relative_firing_rates = 100. * ((firing_rates.T - cell_means)/cell_means).T # percent firing increase/decrease"
   ]
  },
  {
   "cell_type": "markdown",
   "metadata": {},
   "source": [
    "## All firing rates"
   ]
  },
  {
   "cell_type": "code",
   "execution_count": 59,
   "metadata": {
    "collapsed": false
   },
   "outputs": [
    {
     "data": {
      "text/plain": [
       "(-0.5, 2.5)"
      ]
     },
     "execution_count": 59,
     "metadata": {},
     "output_type": "execute_result"
    },
    {
     "data": {
      "image/png": "[encoded data removed]",
      "text/plain": [
       "<matplotlib.figure.Figure at 0x119785e50>"
      ]
     },
     "metadata": {},
     "output_type": "display_data"
    }
   ],
   "source": [
    "frs = [np.mean(control_firing_rate), np.mean(amplify_firing_rate), np.mean(diminish_firing_rate)]\n",
    "sems = [sem(control_firing_rate), sem(amplify_firing_rate), sem(diminish_firing_rate)]\n",
    "errorbar([0,1,2], frs, yerr=sems, fmt='D')\n",
    "xlim([-.5, 2.5])"
   ]
  },
  {
   "cell_type": "markdown",
   "metadata": {},
   "source": [
    "# Average increase/decrease in relative firing rates"
   ]
  },
  {
   "cell_type": "code",
   "execution_count": 61,
   "metadata": {
    "collapsed": false
   },
   "outputs": [
    {
     "data": {
      "text/plain": [
       "(-0.5, 2.5)"
      ]
     },
     "execution_count": 61,
     "metadata": {},
     "output_type": "execute_result"
    },
    {
     "data": {
      "image/png": "[encoded data removed]",
      "text/plain": [
       "<matplotlib.figure.Figure at 0x12ce29850>"
      ]
     },
     "metadata": {},
     "output_type": "display_data"
    }
   ],
   "source": [
    "frs = np.mean(relative_firing_rates, axis=0)\n",
    "sems = sem(relative_firing_rates)\n",
    "errorbar([0,1,2], frs, yerr=sems, fmt='D')\n",
    "xlim([-.5, 2.5])"
   ]
  },
  {
   "cell_type": "markdown",
   "metadata": {},
   "source": [
    "### According to conversation with David, 0-1 is control, 2-3 is amplify, and 4-5 is diminish for 1/25/14 experiment, whereas 0-1 is control, 2-3 is diminish, 4-5 is amplify for 4/4/12 experiment.  \n",
    "\n",
    "### From this firing rate plot however, it must always be 0-1 control, 2-3 diminish, 4-5 amplify."
   ]
  },
  {
   "cell_type": "code",
   "execution_count": null,
   "metadata": {
    "collapsed": true
   },
   "outputs": [],
   "source": []
  }
 ],
 "metadata": {
  "kernelspec": {
   "display_name": "Python 2",
   "language": "python",
   "name": "python2"
  },
  "language_info": {
   "codemirror_mode": {
    "name": "ipython",
    "version": 2
   },
   "file_extension": ".py",
   "mimetype": "text/x-python",
   "name": "python",
   "nbconvert_exporter": "python",
   "pygments_lexer": "ipython2",
   "version": "2.7.3"
  }
 },
 "nbformat": 4,
 "nbformat_minor": 0
}
