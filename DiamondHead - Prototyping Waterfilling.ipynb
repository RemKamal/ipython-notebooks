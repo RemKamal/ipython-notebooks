{
 "metadata": {
  "name": "",
  "signature": "sha256:92ed853d13950e365a5b5b3a88ce10d68bba325e7540b74fedbd6790a97d2fc5"
 },
 "nbformat": 3,
 "nbformat_minor": 0,
 "worksheets": [
  {
   "cells": [
    {
     "cell_type": "code",
     "collapsed": false,
     "input": [
      "import datetime\n",
      "import time\n",
      "import urllib\n",
      "import numpy as np\n",
      "import pandas as pd\n",
      "from emailing import *"
     ],
     "language": "python",
     "metadata": {},
     "outputs": [],
     "prompt_number": 1
    },
    {
     "cell_type": "code",
     "collapsed": false,
     "input": [
      "def runModel(lam, alpha_d, beta_d, alpha_p, beta_p, monthly_shareprice):\n",
      "    # Define monthly household income for bank; will need to periodically update this manually\n",
      "    z = np.linspace(5.993,10.88,len(monthly_shareprice))\n",
      "    monthly_household_income = np.exp(z)\n",
      "\n",
      "    # Fit line to S&P500 percentage gains\n",
      "    x_mo  = np.linspace(0,len(monthly_shareprice),len(monthly_shareprice))\n",
      "    ps_mo = np.polyfit(x_mo,np.log(monthly_shareprice),deg=1)\n",
      "    fit_line_mo = np.exp(ps_mo[0]*x_mo + ps_mo[1] + lam)\n",
      "    \n",
      "    bank = 0.\n",
      "    shares = 0.\n",
      "    for m, price in enumerate(monthly_shareprice):\n",
      "        # receive your paycheck\n",
      "        bank = bank + 0.1*monthly_household_income[m]\n",
      "\n",
      "        # check how expensive/cheap the market is\n",
      "        # positive if below watermark\n",
      "        discount = (fit_line_mo[m]- price)/price\n",
      "\n",
      "        # allocate how much of bank you want to invest\n",
      "        if discount >= 0.0:\n",
      "            purchase = (alpha_d*discount + beta_d)*bank\n",
      "        else:\n",
      "            purchase = (alpha_p*discount + beta_p)*bank\n",
      "        if purchase > bank:\n",
      "            purchase = bank\n",
      "        elif purchase < 0.0:\n",
      "            purchase = 0.0\n",
      "\n",
      "        # buy shares\n",
      "        shares = shares + purchase/price\n",
      "        bank   = bank - purchase\n",
      "\n",
      "        # accrue interest in bank\n",
      "        bank   = bank + (0.01/12.)*bank\n",
      "\n",
      "    final_price  = list(monthly_shareprice)[-1]\n",
      "    fraction     = purchase/(0.1*monthly_household_income[m])\n",
      "    \n",
      "    return discount,fraction"
     ],
     "language": "python",
     "metadata": {},
     "outputs": [],
     "prompt_number": 2
    },
    {
     "cell_type": "code",
     "collapsed": false,
     "input": [
      "d = datetime.date.today()\n",
      "yr_num   = d.year\n",
      "mon_num  = d.month\n",
      "day_num  = d.day\n",
      "day_name = d.weekday()\n",
      "#if day_num < 8 and day_name == 0:\n",
      "if day_num < 32:\n",
      "    # Fetch current price data from Yahoo Finance\n",
      "    url = 'http://real-chart.finance.yahoo.com/table.csv?s=%%5EGSPC&d=%d&e=%d&f=%d&g=d&a=0&b=3&c=1950&ignore=.csv' % (mon_num,day_num,yr_num)\n",
      "    urllib.urlretrieve(url,'sp500_history.csv')\n",
      "\n",
      "    # Open stock price data\n",
      "    data = pd.read_csv('sp500_history.csv')\n",
      "\n",
      "    monthly_shareprice = np.array(data['Close'])[0::30]\n",
      "    monthly_shareprice = monthly_shareprice[::-1] # time=0 => oldest\n",
      "\n",
      "\n",
      "    # CURRENT MODEL\n",
      "    lam     = 1.86335669e-01\n",
      "    alpha_d = 1.20807310e+01\n",
      "    beta_d  = -3.47832606e-01\n",
      "    alpha_p = 2.10488221e-04\n",
      "    beta_p  = -2.27735354e-04\n",
      "\n",
      "    # RUN MODEL\n",
      "    discount,fraction_to_buy = runModel(lam,alpha_d,beta_d,alpha_p,beta_p,monthly_shareprice)\n",
      "\n",
      "    if discount >= 0.0:\n",
      "        market_condition = 'cheap'\n",
      "        discount_or_premium = 'discount'\n",
      "    else:\n",
      "        market_condition = 'expensive'\n",
      "        discount_or_premium = 'premium'\n",
      "\n",
      "    fraction_to_hold = 1.0 - fraction_to_buy\n",
      "\n",
      "    if fraction_to_buy < 0:\n",
      "        fraction_to_buy = 0.0\n",
      "    if fraction_to_hold < 0:\n",
      "        fraction_to_hold = 0.0\n",
      "    if fraction_to_hold > 1.0:\n",
      "        fraction_to_hold = 1.0\n",
      "\n",
      "    msg = 'Today is %d-%d-%d and the S&P last closed at %d. Market is currently %s with %s %d%%. Buy %d%% stocks and keep %d%% cash.' % (mon_num,day_num,yr_num,monthly_shareprice[-1],market_condition, discount_or_premium, np.abs(100.*discount), 100.*fraction_to_buy, 100.*fraction_to_hold)\n",
      "    print(msg)"
     ],
     "language": "python",
     "metadata": {},
     "outputs": [
      {
       "output_type": "stream",
       "stream": "stdout",
       "text": [
        "Today is 9-3-2014 and the S&P last closed at 2000. Market is currently cheap with discount 16%. Buy 100% stocks and keep 0% cash.\n"
       ]
      }
     ],
     "prompt_number": 3
    },
    {
     "cell_type": "code",
     "collapsed": false,
     "input": [
      "monthly_shareprice[-1]"
     ],
     "language": "python",
     "metadata": {},
     "outputs": [
      {
       "metadata": {},
       "output_type": "pyout",
       "prompt_number": 4,
       "text": [
        "2000.72"
       ]
      }
     ],
     "prompt_number": 4
    },
    {
     "cell_type": "code",
     "collapsed": false,
     "input": [],
     "language": "python",
     "metadata": {},
     "outputs": []
    }
   ],
   "metadata": {}
  }
 ]
}