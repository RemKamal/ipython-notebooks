{
 "cells": [
  {
   "cell_type": "code",
   "execution_count": 1,
   "metadata": {
    "collapsed": false
   },
   "outputs": [],
   "source": [
    "import matplotlib\n",
    "matplotlib.use('Agg')\n",
    "\n",
    "import numpy as np\n",
    "import collections\n",
    "from functools import partial\n",
    "from tqdm import tqdm\n",
    "\n",
    "# This is a bit of magic to make matplotlib figures appear inline in the\n",
    "# notebook rather than in a new window.\n",
    "%matplotlib inline\n",
    "import matplotlib.pyplot as plt\n",
    "\n",
    "plt.style.use('deepretina')\n",
    "\n",
    "# Some more magic so that the notebook will reload external python modules;\n",
    "# see http://stackoverflow.com/questions/1907993/autoreload-of-modules-in-ipython\n",
    "%load_ext autoreload\n",
    "%autoreload 2"
   ]
  },
  {
   "cell_type": "markdown",
   "metadata": {},
   "source": [
    "#### Load problem specific starter code"
   ]
  },
  {
   "cell_type": "code",
   "execution_count": 2,
   "metadata": {
    "collapsed": false
   },
   "outputs": [
    {
     "name": "stdout",
     "output_type": "stream",
     "text": [
      "/Users/lmcintosh/code/ipython-notebooks/classes/cs228/pa3\n"
     ]
    }
   ],
   "source": [
    "cd 'cs228/pa3'"
   ]
  },
  {
   "cell_type": "code",
   "execution_count": 3,
   "metadata": {
    "collapsed": false
   },
   "outputs": [
    {
     "name": "stdout",
     "output_type": "stream",
     "text": [
      "cluster_graph.py   cluster_graph.pyc  do_pa3.py          do_pa3.pyc         factors.py         factors.pyc        images.mat         ldpc36-128.mat     ldpc36-1600.mat\r\n"
     ]
    }
   ],
   "source": [
    "ls"
   ]
  },
  {
   "cell_type": "code",
   "execution_count": 4,
   "metadata": {
    "collapsed": false
   },
   "outputs": [
    {
     "name": "stdout",
     "output_type": "stream",
     "text": [
      "Doing part (a): Should see 0.0, 0.0, >0.0\n",
      "(0.0, 0.0, 0.77378093749999988)\n",
      "Doing part (c)\n",
      "Doing part (d)\n",
      "Doing part (e)\n",
      "Doing part (f)\n",
      "Doing part (g)\n"
     ]
    }
   ],
   "source": [
    "import do_pa3"
   ]
  },
  {
   "cell_type": "code",
   "execution_count": 5,
   "metadata": {
    "collapsed": false
   },
   "outputs": [],
   "source": [
    "def test_channel_noise():\n",
    "    p_test = [0.01, 0.05, 0.1, 0.5, 1.0]\n",
    "    y = np.round(np.random.rand(100,20)).astype('int')\n",
    "    fraction_flipped = []\n",
    "    for p in p_test:\n",
    "        yhat = do_pa3.applyChannelNoise(y, p)\n",
    "        fraction_flipped.append(np.sum(abs(yhat - y))/(1.0*np.prod(y.shape)))\n",
    "    for idp, p in enumerate(p_test):\n",
    "        print('Actual p = %0.2f, empirical p = %0.2f' %(p, fraction_flipped[idp]))\n",
    "#     print(fraction_flipped)\n",
    "#     print(p_test)\n",
    "#     return np.mean(np.array(p_test) - np.array(fraction_flipped))"
   ]
  },
  {
   "cell_type": "code",
   "execution_count": 6,
   "metadata": {
    "collapsed": false
   },
   "outputs": [
    {
     "name": "stdout",
     "output_type": "stream",
     "text": [
      "Actual p = 0.01, empirical p = 0.01\n",
      "Actual p = 0.05, empirical p = 0.06\n",
      "Actual p = 0.10, empirical p = 0.10\n",
      "Actual p = 0.50, empirical p = 0.50\n",
      "Actual p = 1.00, empirical p = 1.00\n"
     ]
    }
   ],
   "source": [
    "test_channel_noise()"
   ]
  },
  {
   "cell_type": "markdown",
   "metadata": {},
   "source": [
    "# Part (a)"
   ]
  },
  {
   "cell_type": "code",
   "execution_count": 9,
   "metadata": {
    "collapsed": false
   },
   "outputs": [
    {
     "name": "stdout",
     "output_type": "stream",
     "text": [
      "(0.0, 0.0, 0.77378093749999988)\n"
     ]
    }
   ],
   "source": [
    "do_pa3.do_part_a()"
   ]
  },
  {
   "cell_type": "markdown",
   "metadata": {},
   "source": [
    "# Part (b)"
   ]
  },
  {
   "cell_type": "markdown",
   "metadata": {},
   "source": [
    "Implemented loopy BP"
   ]
  },
  {
   "cell_type": "markdown",
   "metadata": {},
   "source": [
    "# Part (c)"
   ]
  },
  {
   "cell_type": "code",
   "execution_count": null,
   "metadata": {
    "collapsed": false
   },
   "outputs": [],
   "source": [
    "do_pa3.do_part_c()"
   ]
  },
  {
   "cell_type": "code",
   "execution_count": null,
   "metadata": {
    "collapsed": true
   },
   "outputs": [],
   "source": []
  },
  {
   "cell_type": "code",
   "execution_count": null,
   "metadata": {
    "collapsed": true
   },
   "outputs": [],
   "source": []
  }
 ],
 "metadata": {
  "kernelspec": {
   "display_name": "Python 2",
   "language": "python",
   "name": "python2"
  },
  "language_info": {
   "codemirror_mode": {
    "name": "ipython",
    "version": 2
   },
   "file_extension": ".py",
   "mimetype": "text/x-python",
   "name": "python",
   "nbconvert_exporter": "python",
   "pygments_lexer": "ipython2",
   "version": "2.7.11"
  }
 },
 "nbformat": 4,
 "nbformat_minor": 0
}
