{
 "cells": [
  {
   "cell_type": "markdown",
   "metadata": {},
   "source": [
    "# Preliminary support for predictive coding  \n",
    "\n",
    "If inhibitory interneurons subtract a prediction of ganglion firing, we should expect higher correlations between the ganglion cells and connected inhibitory interneurons if we were able to silence inhibitory communication to the ganglion cells (but not alter the inhibitory membrane potential).  \n",
    "\n",
    "We can essentially do this with intracellular record & playback experiments. This notebook will help provide some quantitative intuition for what direction correlations should change, as a function of stimulus statistics."
   ]
  },
  {
   "cell_type": "code",
   "execution_count": 46,
   "metadata": {
    "collapsed": false
   },
   "outputs": [
    {
     "name": "stdout",
     "output_type": "stream",
     "text": [
      "The autoreload extension is already loaded. To reload it, use:\n",
      "  %reload_ext autoreload\n"
     ]
    }
   ],
   "source": [
    "import numpy as np\n",
    "from sklearn.decomposition import PCA\n",
    "from scipy.stats import sem, pearsonr\n",
    "from image_processing_functions import load_images\n",
    "from lnl_model_functions import gaussian\n",
    "from scipy.signal import convolve2d\n",
    "import os\n",
    "\n",
    "# This is a bit of magic to make matplotlib figures appear inline in the\n",
    "# notebook rather than in a new window.\n",
    "%matplotlib inline\n",
    "from matplotlib.pyplot import *\n",
    "\n",
    "# note that nonposx(y) for log plots will no longer work with this package\n",
    "import mpld3\n",
    "#mpld3.enable_notebook()\n",
    "\n",
    "from pylab import rcParams\n",
    "rcParams['figure.figsize'] = (10.0, 8.0) # set default size of plots\n",
    "rcParams['image.interpolation'] = 'nearest'\n",
    "rcParams['image.cmap'] = 'gray'\n",
    "\n",
    "# Some more magic so that the notebook will reload external python modules;\n",
    "# see http://stackoverflow.com/questions/1907993/autoreload-of-modules-in-ipython\n",
    "%load_ext autoreload\n",
    "%autoreload 2"
   ]
  },
  {
   "cell_type": "markdown",
   "metadata": {},
   "source": [
    "# Generate stimulus  \n",
    "\n",
    "All of our receptive fields are 1d in space, so let the stimulus be space x time."
   ]
  },
  {
   "cell_type": "code",
   "execution_count": 14,
   "metadata": {
    "collapsed": false
   },
   "outputs": [],
   "source": [
    "stimulus_type = 'white-noise'\n",
    "num_frames = 1000\n",
    "\n",
    "if stimulus_type == 'natural-scenes':\n",
    "    im_dir = os.path.expanduser('~/Documents/Natural_Images/RawData/cd13A') # flood plain, water, horizon\n",
    "    patch_size = None\n",
    "    num_images = 100\n",
    "    stimulus = load_images(im_dir, num_images, patch_size, square=True, normalize='divisive')\n",
    "\n",
    "elif stimulus_type == 'white-noise':\n",
    "    stimulus = np.random.randn(num_frames,32,32) "
   ]
  },
  {
   "cell_type": "markdown",
   "metadata": {},
   "source": [
    "# Create model  \n",
    "\n",
    "Model should have multiple excitatory channels where a subset of the excitation flows into an inhibitory pathway. A subset of the excitation and inhibition should then combine to give a thresholded model prediction (ganglion response).  \n",
    "\n",
    "To make this somewhat realistic, I'll use real bipolar and amacrine cell receptive fields, and ganglion cells will be a linear combination of them."
   ]
  },
  {
   "cell_type": "markdown",
   "metadata": {},
   "source": [
    "#### Get bipolar and amacrine receptive fields"
   ]
  },
  {
   "cell_type": "code",
   "execution_count": 40,
   "metadata": {
    "collapsed": true
   },
   "outputs": [],
   "source": [
    "def get_bipolar_rfs():\n",
    "    # spatialDelta = 0.022 # mm\n",
    "    data_path  = os.path.expanduser('~/Documents/Stanford/00 Baccus Lab/Surround size project/david_receptive_fields')\n",
    "    file_name1 = data_path + '/B1.txt'\n",
    "    file_name2 = data_path + '/B2.txt'\n",
    "    data_b1    = np.loadtxt(file_name1, delimiter=\"\\t\") # 50 time x 100 space\n",
    "    data_b2    = np.loadtxt(file_name2, delimiter=\"\\t\") # 50 time x 100 space\n",
    "    data_b     = [data_b1.T, data_b2.T] # space x time\n",
    "    return data_b\n",
    "\n",
    "def get_amacrine_rfs():\n",
    "    # spatialDelta = 0.027 # mm\n",
    "    data_path = os.path.expanduser('~/Documents/Stanford/00 Baccus Lab/Surround size project/david_receptive_fields')\n",
    "    file_name = data_path + '/H1A2.txt'\n",
    "    data_ha   = np.loadtxt(file_name, delimiter=\"\\t\")\n",
    "    data_ha   = data_ha.reshape((3,50,80))\n",
    "    data_a    = data_ha[1:, :, :] # first cell in this file is a horizontal cell\n",
    "    rfs       = []\n",
    "    for a in data_a:\n",
    "        rfs.append(a.T)\n",
    "    return rfs\n",
    "    "
   ]
  },
  {
   "cell_type": "markdown",
   "metadata": {},
   "source": [
    "#### Construct model using bipolar and amacrine receptive fields"
   ]
  },
  {
   "cell_type": "code",
   "execution_count": 77,
   "metadata": {
    "collapsed": true
   },
   "outputs": [],
   "source": [
    "def ganglion_population_response(stimulus, num_ganglion_cells=10, threshold=1):\n",
    "    '''\n",
    "    Stimulus should be space x time.\n",
    "    Threshold should be in standard deviations.\n",
    "    Returns a response ganglion population x time\n",
    "    '''\n",
    "    if len(stimulus.shape) != 2:\n",
    "        raise Exception('Stimulus needs to be 2 dimensional.')\n",
    "    \n",
    "    # loading receptive fields as (space in degrees, sensitivity) tuples\n",
    "    bipolar_rfs = get_bipolar_rfs()\n",
    "    amacrine_rfs = get_amacrine_rfs()\n",
    "    \n",
    "    # get the linear response of bipolar and amacrine cells\n",
    "    bipolar_response_hd = [convolve2d(stimulus, bipolar, mode='same') for bipolar in bipolar_rfs]\n",
    "    amacrine_response_hd = [convolve2d(stimulus, amacrine, mode='same') for amacrine in amacrine_rfs]\n",
    "    \n",
    "    # subsample in space\n",
    "    bipolar_responses = [response[::10,:] for response in bipolar_response_hd]\n",
    "    amacrine_responses = [response[::10,:] for response in amacrine_response_hd]\n",
    "    \n",
    "    # for now just pick one type of bipolar cell and one type of amacrine cell\n",
    "    bipolar_response = bipolar_responses[0]\n",
    "    amacrine_response = amacrine_responses[0]\n",
    "    \n",
    "    # how many bipolar cells and how many amacrine cells are connected to the ganglion cells,\n",
    "    # and with what strength?\n",
    "    bip_const = 1.\n",
    "    ama_const = 78./22.\n",
    "    bip_projection = np.tile([np.exp(-abs(s)/bip_const) for s in np.linspace(-22,22,bipolar_response.shape[1])], (stimulus.shape[1],1)).T\n",
    "    ama_projection = np.tile([np.exp(-abs(s)/ama_const) for s in np.linspace(-22,22,amacrine_response.shape[1])], (stimulus.shape[1],1)).T\n",
    "    \n",
    "    # compute ganglion response\n",
    "    excitation = convolve2d(bipolar_response, bip_projection, mode='same')\n",
    "    inhibition = convolve2d(amacrine_response, ama_projection, mode='same')\n",
    "    ganglion_response = excitation - inhibition\n",
    "    \n",
    "    # threshold response\n",
    "    return np.where(ganglion_response > threshold * np.std(ganglion_response), ganglion_response, 0)"
   ]
  },
  {
   "cell_type": "code",
   "execution_count": 78,
   "metadata": {
    "collapsed": false
   },
   "outputs": [
    {
     "ename": "Exception",
     "evalue": "Stimulus needs to be 2 dimensional.",
     "output_type": "error",
     "traceback": [
      "\u001b[0;31m---------------------------------------------------------------------------\u001b[0m",
      "\u001b[0;31mException\u001b[0m                                 Traceback (most recent call last)",
      "\u001b[0;32m<ipython-input-78-a8821e7074b9>\u001b[0m in \u001b[0;36m<module>\u001b[0;34m()\u001b[0m\n\u001b[0;32m----> 1\u001b[0;31m \u001b[0mganglions\u001b[0m \u001b[0;34m=\u001b[0m \u001b[0mganglion_population_response\u001b[0m\u001b[0;34m(\u001b[0m\u001b[0mstimulus\u001b[0m\u001b[0;34m)\u001b[0m\u001b[0;34m\u001b[0m\u001b[0m\n\u001b[0m",
      "\u001b[0;32m<ipython-input-77-87836383a093>\u001b[0m in \u001b[0;36mganglion_population_response\u001b[0;34m(stimulus, num_ganglion_cells, threshold)\u001b[0m\n\u001b[1;32m      6\u001b[0m     '''\n\u001b[1;32m      7\u001b[0m     \u001b[0;32mif\u001b[0m \u001b[0mlen\u001b[0m\u001b[0;34m(\u001b[0m\u001b[0mstimulus\u001b[0m\u001b[0;34m.\u001b[0m\u001b[0mshape\u001b[0m\u001b[0;34m)\u001b[0m \u001b[0;34m!=\u001b[0m \u001b[0;36m2\u001b[0m\u001b[0;34m:\u001b[0m\u001b[0;34m\u001b[0m\u001b[0m\n\u001b[0;32m----> 8\u001b[0;31m         \u001b[0;32mraise\u001b[0m \u001b[0mException\u001b[0m\u001b[0;34m(\u001b[0m\u001b[0;34m'Stimulus needs to be 2 dimensional.'\u001b[0m\u001b[0;34m)\u001b[0m\u001b[0;34m\u001b[0m\u001b[0m\n\u001b[0m\u001b[1;32m      9\u001b[0m \u001b[0;34m\u001b[0m\u001b[0m\n\u001b[1;32m     10\u001b[0m     \u001b[0;31m# loading receptive fields as (space in degrees, sensitivity) tuples\u001b[0m\u001b[0;34m\u001b[0m\u001b[0;34m\u001b[0m\u001b[0m\n",
      "\u001b[0;31mException\u001b[0m: Stimulus needs to be 2 dimensional."
     ]
    }
   ],
   "source": [
    "ganglions = ganglion_population_response(stimulus)"
   ]
  },
  {
   "cell_type": "code",
   "execution_count": null,
   "metadata": {
    "collapsed": true
   },
   "outputs": [],
   "source": []
  },
  {
   "cell_type": "code",
   "execution_count": null,
   "metadata": {
    "collapsed": true
   },
   "outputs": [],
   "source": []
  },
  {
   "cell_type": "code",
   "execution_count": null,
   "metadata": {
    "collapsed": true
   },
   "outputs": [],
   "source": []
  },
  {
   "cell_type": "code",
   "execution_count": null,
   "metadata": {
    "collapsed": true
   },
   "outputs": [],
   "source": []
  },
  {
   "cell_type": "code",
   "execution_count": null,
   "metadata": {
    "collapsed": true
   },
   "outputs": [],
   "source": []
  },
  {
   "cell_type": "code",
   "execution_count": null,
   "metadata": {
    "collapsed": true
   },
   "outputs": [],
   "source": []
  }
 ],
 "metadata": {
  "kernelspec": {
   "display_name": "Python 2",
   "language": "python",
   "name": "python2"
  },
  "language_info": {
   "codemirror_mode": {
    "name": "ipython",
    "version": 2
   },
   "file_extension": ".py",
   "mimetype": "text/x-python",
   "name": "python",
   "nbconvert_exporter": "python",
   "pygments_lexer": "ipython2",
   "version": "2.7.3"
  }
 },
 "nbformat": 4,
 "nbformat_minor": 0
}
