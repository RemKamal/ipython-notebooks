{
 "metadata": {
  "name": "",
  "signature": "sha256:9ab3c80e234e8527a35861e4716770627fc3c24d0a5566485eb5f463238de08b"
 },
 "nbformat": 3,
 "nbformat_minor": 0,
 "worksheets": [
  {
   "cells": [
    {
     "cell_type": "code",
     "collapsed": false,
     "input": [
      "import numpy as np\n",
      "from scipy.interpolate import interp1d\n",
      "from scipy.signal import fftconvolve\n",
      "#from numpy import fft\n",
      "from scipy import fft, arange\n",
      "from scipy.stats import sem\n",
      "from random import randint\n",
      "from cmath import polar\n",
      "from numpy.fft import fft2\n",
      "from numpy.fft import fftshift\n",
      "\n",
      "from lnl_model_functions import *"
     ],
     "language": "python",
     "metadata": {},
     "outputs": [],
     "prompt_number": 1
    },
    {
     "cell_type": "code",
     "collapsed": false,
     "input": [
      "im_path = '/Users/lmcintosh/Documents/Natural_Images/RawData/cd13A' # flood plain, water, horizon\n",
      "#im_path = '/Volumes/Lane/RawData/cd13A' # flood plain, water, horizon\n",
      "#im_path = '/Volumes/Lane/RawData/cd01A' # baboons, trees, bushes\n",
      "#im_path = '/Users/lmcintosh/Documents/Natural_Images/imc'\n",
      "#im_path = '/home/lane/Natural_images/imc'"
     ],
     "language": "python",
     "metadata": {},
     "outputs": [],
     "prompt_number": 2
    },
    {
     "cell_type": "code",
     "collapsed": false,
     "input": [
      "def load_images(path, numImages, patchSize=None, acceptedExtensions=['.imc','LUM.mat'], square=False):\n",
      "    from os import listdir\n",
      "    from os.path import isfile, join\n",
      "    import array as ar\n",
      "    import scipy.io\n",
      "    \n",
      "    allfiles = []\n",
      "    for ext in acceptedExtensions:\n",
      "        allfiles = allfiles + [f for f in listdir(path) if isfile(join(path,f)) and ext in f]\n",
      "    if len(allfiles) < numImages:\n",
      "        print 'Only ' + str(len(allfiles)) + ' files in directory.'\n",
      "    names    = allfiles[:numImages]\n",
      "    patches  = []\n",
      "\n",
      "    for im in names:\n",
      "        if '.imc' in im:\n",
      "            fin = open(path+'/'+im, 'rb')\n",
      "            s   = fin.read()\n",
      "            fin.close()\n",
      "            arr = ar.array('H', s)\n",
      "            arr.byteswap()\n",
      "            img = np.array(arr, dtype='uint16').reshape(1024,1536)\n",
      "        elif '.mat' in im:\n",
      "            fin = scipy.io.loadmat(path+'/'+im)\n",
      "            arr = fin['LUM_Image']\n",
      "            # make 0 to 255\n",
      "            arr = arr - min(arr.flat)\n",
      "            arr = 255.*arr/max(arr.flat)\n",
      "            img = np.array(arr, dtype='uint16')\n",
      "            \n",
      "        # make patches\n",
      "        if patchSize:\n",
      "            img_center = [np.shape(img)[0]/2,np.shape(img)[1]/2]\n",
      "            img        = img[img_center[0]-patchSize/2:img_center[0]+patchSize/2,img_center[1]-patchSize/2:img_center[1]+patchSize/2]\n",
      "            \n",
      "        if square:\n",
      "            N = min(shape(img))\n",
      "            N = N - (N % 2) # make even\n",
      "            img = img[:N,:N]\n",
      "        \n",
      "        # normalize to unit variance and zero mean\n",
      "        img        = img/np.sqrt(np.var(img))\n",
      "        patches.append(img - np.mean(img))\n",
      "\n",
      "    return patches"
     ],
     "language": "python",
     "metadata": {},
     "outputs": [],
     "prompt_number": 3
    },
    {
     "cell_type": "code",
     "collapsed": false,
     "input": [
      "def rotavg(im):\n",
      "    '''im can be square or rectangular 2d numpy array.\n",
      "    If rectangular, it keeps only the biggest top left square.'''\n",
      "    #imShape = shape(im) # NNM\n",
      "    N       = min(shape(im))\n",
      "    X, Y    = np.meshgrid(range(-N//2,N//2),range(-N//2,N//2))\n",
      "\n",
      "    theta, rho = cart2pol(X,Y);\n",
      "    rho = rho.round()\n",
      "    i   = [find(rho==r) for r in range(N//2+1)]\n",
      "    f   = [mean(im.flat[i[r]]) for r in range(N//2+1)] \n",
      "        \n",
      "    return f"
     ],
     "language": "python",
     "metadata": {},
     "outputs": [],
     "prompt_number": 11
    },
    {
     "cell_type": "code",
     "collapsed": false,
     "input": [
      "def rotavg_fast(im):\n",
      "    '''im can be square or rectangular 2d numpy array.\n",
      "    If rectangular, it keeps only the biggest top left square.'''\n",
      "    #imShape = shape(im) # NNM\n",
      "    N       = min(shape(im))\n",
      "    X, Y    = np.meshgrid(range(-N//2,N//2),range(-N//2,N//2))\n",
      "\n",
      "    rho = (np.sqrt(X**2 + Y**2)).round()\n",
      "    ind = [find(rho==r) for r in range(N//2+1)]\n",
      "    f   = [mean(im[ind[r] / N, ind[r] % N]) for r in range(N//2+1)]\n",
      "    \n",
      "    return f"
     ],
     "language": "python",
     "metadata": {},
     "outputs": [],
     "prompt_number": 76
    },
    {
     "cell_type": "code",
     "collapsed": false,
     "input": [
      "def cart2pol(x, y):\n",
      "    rho = np.sqrt(x**2 + y**2)\n",
      "    phi = np.arctan2(y, x)\n",
      "    return (phi, rho)"
     ],
     "language": "python",
     "metadata": {},
     "outputs": [],
     "prompt_number": 12
    },
    {
     "cell_type": "code",
     "collapsed": false,
     "input": [
      "yoda = (np.sqrt(X**2 + Y**2)).round()"
     ],
     "language": "python",
     "metadata": {},
     "outputs": [],
     "prompt_number": 49
    },
    {
     "cell_type": "markdown",
     "metadata": {},
     "source": [
      "# Load dataset"
     ]
    },
    {
     "cell_type": "code",
     "collapsed": false,
     "input": [
      "numImages = 100\n",
      "patchSize = None\n",
      "pixelsToDeg = 92./2\n",
      "averageGanglionSize = 1.5*pixelsToDeg+1 # in pixels"
     ],
     "language": "python",
     "metadata": {},
     "outputs": [],
     "prompt_number": 4
    },
    {
     "cell_type": "code",
     "collapsed": false,
     "input": [
      "patches = load_images(im_path, numImages, patchSize, square=True)"
     ],
     "language": "python",
     "metadata": {},
     "outputs": [
      {
       "output_type": "stream",
       "stream": "stdout",
       "text": [
        "Only 78 files in directory.\n"
       ]
      }
     ],
     "prompt_number": 5
    },
    {
     "cell_type": "code",
     "collapsed": false,
     "input": [],
     "language": "python",
     "metadata": {},
     "outputs": []
    },
    {
     "cell_type": "code",
     "collapsed": false,
     "input": [],
     "language": "python",
     "metadata": {},
     "outputs": []
    },
    {
     "cell_type": "markdown",
     "metadata": {},
     "source": [
      "# Time fft2"
     ]
    },
    {
     "cell_type": "code",
     "collapsed": false,
     "input": [
      "def spectrum2d(arr, Fs=1000.0, frequencyFlag=True):\n",
      "    amp = abs(fftshift(fft2(arr)))\n",
      "    amp = rotavg(amp)\n",
      "    n = len(amp)\n",
      "    #amp = amp/n\n",
      "    k = arange(n)\n",
      "    T = n/Fs\n",
      "    frq = k/T # two sides frequency range\n",
      "    #frq = frq[range(n/2)] # one side frequency range\n",
      "    \n",
      "    if frequencyFlag:\n",
      "        return (frq, [a/n**2 for a in amp])\n",
      "    else:\n",
      "        return [a/n**2 for a in amp]"
     ],
     "language": "python",
     "metadata": {},
     "outputs": [],
     "prompt_number": 6
    },
    {
     "cell_type": "code",
     "collapsed": false,
     "input": [
      "%timeit x = fft2(patches[0])"
     ],
     "language": "python",
     "metadata": {},
     "outputs": [
      {
       "output_type": "stream",
       "stream": "stdout",
       "text": [
        "1 loops, best of 3: 927 ms per loop\n"
       ]
      }
     ],
     "prompt_number": 77
    },
    {
     "cell_type": "code",
     "collapsed": false,
     "input": [
      "% timeit y = fftshift(x)"
     ],
     "language": "python",
     "metadata": {},
     "outputs": [
      {
       "output_type": "stream",
       "stream": "stdout",
       "text": [
        "100 loops, best of 3: 17.6 ms per loop\n"
       ]
      }
     ],
     "prompt_number": 10
    },
    {
     "cell_type": "code",
     "collapsed": false,
     "input": [
      "% timeit z = rotavg(x)"
     ],
     "language": "python",
     "metadata": {},
     "outputs": [
      {
       "output_type": "stream",
       "stream": "stdout",
       "text": [
        "1 loops, best of 3: 1.77 s per loop\n"
       ]
      }
     ],
     "prompt_number": 14
    },
    {
     "cell_type": "code",
     "collapsed": false,
     "input": [
      "x = fft2(patches[0])"
     ],
     "language": "python",
     "metadata": {},
     "outputs": [],
     "prompt_number": 80
    },
    {
     "cell_type": "code",
     "collapsed": false,
     "input": [
      "% timeit z = rotavg(x)"
     ],
     "language": "python",
     "metadata": {},
     "outputs": [
      {
       "output_type": "stream",
       "stream": "stdout",
       "text": [
        "1 loops, best of 3: 1.78 s per loop\n"
       ]
      }
     ],
     "prompt_number": 81
    },
    {
     "cell_type": "code",
     "collapsed": false,
     "input": [
      "% timeit z = rotavg_fast(x)"
     ],
     "language": "python",
     "metadata": {},
     "outputs": [
      {
       "output_type": "stream",
       "stream": "stdout",
       "text": [
        "1 loops, best of 3: 1.76 s per loop\n"
       ]
      }
     ],
     "prompt_number": 82
    },
    {
     "cell_type": "code",
     "collapsed": false,
     "input": [
      "% timeit blah = spectrum2d(patches[0])"
     ],
     "language": "python",
     "metadata": {},
     "outputs": [
      {
       "output_type": "stream",
       "stream": "stdout",
       "text": [
        "1 loops, best of 3: 2.79 s per loop\n"
       ]
      }
     ],
     "prompt_number": 15
    },
    {
     "cell_type": "code",
     "collapsed": false,
     "input": [
      "% timeit X,Y = np.meshgrid(range(-500,500),range(-500,500))"
     ],
     "language": "python",
     "metadata": {},
     "outputs": [
      {
       "output_type": "stream",
       "stream": "stdout",
       "text": [
        "100 loops, best of 3: 6.12 ms per loop\n"
       ]
      }
     ],
     "prompt_number": 16
    },
    {
     "cell_type": "code",
     "collapsed": false,
     "input": [
      "X,Y = np.meshgrid(range(-500,500),range(-500,500))"
     ],
     "language": "python",
     "metadata": {},
     "outputs": [],
     "prompt_number": 18
    },
    {
     "cell_type": "code",
     "collapsed": false,
     "input": [
      "% timeit theta,rho = cart2pol(X,Y)"
     ],
     "language": "python",
     "metadata": {},
     "outputs": [
      {
       "output_type": "stream",
       "stream": "stdout",
       "text": [
        "10 loops, best of 3: 36 ms per loop\n"
       ]
      }
     ],
     "prompt_number": 19
    },
    {
     "cell_type": "code",
     "collapsed": false,
     "input": [],
     "language": "python",
     "metadata": {},
     "outputs": []
    },
    {
     "cell_type": "code",
     "collapsed": false,
     "input": [
      "im = patches[0]\n",
      "\n",
      "N       = min(shape(im))\n",
      "X, Y    = np.meshgrid(range(-N//2,N//2),range(-N//2,N//2))\n",
      "\n",
      "theta, rho = cart2pol(X,Y);\n",
      "rho = rho.round()\n",
      "i   = [find(rho==r) for r in range(N//2+1)]\n",
      "f   = [mean(im.flat[i[r]]) for r in range(N//2+1)] "
     ],
     "language": "python",
     "metadata": {},
     "outputs": [],
     "prompt_number": 20
    },
    {
     "cell_type": "code",
     "collapsed": false,
     "input": [
      "\n",
      "i[0] % N"
     ],
     "language": "python",
     "metadata": {},
     "outputs": [
      {
       "metadata": {},
       "output_type": "pyout",
       "prompt_number": 25,
       "text": [
        "array([503])"
       ]
      }
     ],
     "prompt_number": 25
    },
    {
     "cell_type": "code",
     "collapsed": false,
     "input": [
      "floor(i[0]/(503.*N))"
     ],
     "language": "python",
     "metadata": {},
     "outputs": [
      {
       "metadata": {},
       "output_type": "pyout",
       "prompt_number": 32,
       "text": [
        "array([ 1.])"
       ]
      }
     ],
     "prompt_number": 32
    },
    {
     "cell_type": "code",
     "collapsed": false,
     "input": [
      "im.flat[i[0]]"
     ],
     "language": "python",
     "metadata": {},
     "outputs": [
      {
       "metadata": {},
       "output_type": "pyout",
       "prompt_number": 26,
       "text": [
        "array([-0.92550041])"
       ]
      }
     ],
     "prompt_number": 26
    },
    {
     "cell_type": "code",
     "collapsed": false,
     "input": [
      "im[0,503]"
     ],
     "language": "python",
     "metadata": {},
     "outputs": [
      {
       "metadata": {},
       "output_type": "pyout",
       "prompt_number": 39,
       "text": [
        "-0.38116939508496706"
       ]
      }
     ],
     "prompt_number": 39
    },
    {
     "cell_type": "code",
     "collapsed": false,
     "input": [
      "imshow(rho)\n",
      "colorbar()"
     ],
     "language": "python",
     "metadata": {},
     "outputs": [
      {
       "metadata": {},
       "output_type": "pyout",
       "prompt_number": 44,
       "text": [
        "<matplotlib.colorbar.Colorbar instance at 0x15515ee60>"
       ]
      },
      {
       "metadata": {},
       "output_type": "display_data",
       "png": "[encoded data removed]",
       "text": [
        "<matplotlib.figure.Figure at 0x15510dfd0>"
       ]
      }
     ],
     "prompt_number": 44
    },
    {
     "cell_type": "code",
     "collapsed": false,
     "input": [
      "i[0][0]"
     ],
     "language": "python",
     "metadata": {},
     "outputs": [
      {
       "metadata": {},
       "output_type": "pyout",
       "prompt_number": 54,
       "text": [
        "506521"
       ]
      }
     ],
     "prompt_number": 54
    },
    {
     "cell_type": "code",
     "collapsed": false,
     "input": [
      "x = i[0][0] / N"
     ],
     "language": "python",
     "metadata": {},
     "outputs": [],
     "prompt_number": 55
    },
    {
     "cell_type": "code",
     "collapsed": false,
     "input": [
      "y = i[0][0] % N"
     ],
     "language": "python",
     "metadata": {},
     "outputs": [],
     "prompt_number": 56
    },
    {
     "cell_type": "code",
     "collapsed": false,
     "input": [
      "im[x,y]"
     ],
     "language": "python",
     "metadata": {},
     "outputs": [
      {
       "metadata": {},
       "output_type": "pyout",
       "prompt_number": 59,
       "text": [
        "-0.92550041419636375"
       ]
      }
     ],
     "prompt_number": 59
    },
    {
     "cell_type": "code",
     "collapsed": false,
     "input": [
      "i[1] % N"
     ],
     "language": "python",
     "metadata": {},
     "outputs": [
      {
       "metadata": {},
       "output_type": "pyout",
       "prompt_number": 67,
       "text": [
        "array([502, 503, 504, 502, 504, 502, 503, 504])"
       ]
      }
     ],
     "prompt_number": 67
    },
    {
     "cell_type": "code",
     "collapsed": false,
     "input": [
      "i[200]"
     ],
     "language": "python",
     "metadata": {},
     "outputs": [
      {
       "metadata": {},
       "output_type": "pyout",
       "prompt_number": 68,
       "text": [
        "array([305307, 305308, 305309, ..., 707733, 707734, 707735])"
       ]
      }
     ],
     "prompt_number": 68
    },
    {
     "cell_type": "code",
     "collapsed": false,
     "input": [
      "i[200] % N"
     ],
     "language": "python",
     "metadata": {},
     "outputs": [
      {
       "metadata": {},
       "output_type": "pyout",
       "prompt_number": 69,
       "text": [
        "array([489, 490, 491, ..., 515, 516, 517])"
       ]
      }
     ],
     "prompt_number": 69
    },
    {
     "cell_type": "code",
     "collapsed": false,
     "input": [
      "i[200] / N"
     ],
     "language": "python",
     "metadata": {},
     "outputs": [
      {
       "metadata": {},
       "output_type": "pyout",
       "prompt_number": 70,
       "text": [
        "array([303, 303, 303, ..., 703, 703, 703])"
       ]
      }
     ],
     "prompt_number": 70
    },
    {
     "cell_type": "code",
     "collapsed": false,
     "input": [
      "mean(im[i[200] / N, i[200] % N])"
     ],
     "language": "python",
     "metadata": {},
     "outputs": [
      {
       "metadata": {},
       "output_type": "pyout",
       "prompt_number": 73,
       "text": [
        "0.044205067288433986"
       ]
      }
     ],
     "prompt_number": 73
    },
    {
     "cell_type": "code",
     "collapsed": false,
     "input": [
      "im.flat[i[0]]"
     ],
     "language": "python",
     "metadata": {},
     "outputs": [
      {
       "metadata": {},
       "output_type": "pyout",
       "prompt_number": 62,
       "text": [
        "array([-0.92550041])"
       ]
      }
     ],
     "prompt_number": 62
    },
    {
     "cell_type": "code",
     "collapsed": false,
     "input": [
      "x"
     ],
     "language": "python",
     "metadata": {},
     "outputs": [
      {
       "metadata": {},
       "output_type": "pyout",
       "prompt_number": 57,
       "text": [
        "503"
       ]
      }
     ],
     "prompt_number": 57
    },
    {
     "cell_type": "code",
     "collapsed": false,
     "input": [
      "y"
     ],
     "language": "python",
     "metadata": {},
     "outputs": [
      {
       "metadata": {},
       "output_type": "pyout",
       "prompt_number": 58,
       "text": [
        "503"
       ]
      }
     ],
     "prompt_number": 58
    },
    {
     "cell_type": "markdown",
     "metadata": {},
     "source": [
      "# Time fft"
     ]
    },
    {
     "cell_type": "code",
     "collapsed": false,
     "input": [
      "frqSingle, specSingle = plotSpectrum(patches[34][0,:],Fs=pixelsToDeg,colorstr='r',fillin=True,transparency=0.7,plt=False)\n",
      "freqsHorz = [plotSpectrum(p[randint(0,shape(p)[0]-1),:],Fs=pixelsToDeg,colorstr='r',fillin=True,transparency=0.7,plt=False) for p in patches]\n",
      "freqsVert = [plotSpectrum(p[:,randint(0,shape(p)[1]-1)],Fs=pixelsToDeg,colorstr='r',fillin=True,transparency=0.7,plt=False) for p in patches]\n",
      "magsHorz = [i[1] for i in freqsHorz]\n",
      "magsVert = [i[1] for i in freqsVert]\n",
      "specHorz = mean(magsHorz, axis=0)\n",
      "specVert = mean(magsVert, axis=0)\n",
      "frqHorz = freqsHorz[0][0]\n",
      "frqVert = freqsVert[0][0]"
     ],
     "language": "python",
     "metadata": {},
     "outputs": []
    }
   ],
   "metadata": {}
  }
 ]
}