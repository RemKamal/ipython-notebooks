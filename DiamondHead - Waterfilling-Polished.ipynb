{
 "metadata": {
  "name": "",
  "signature": "sha256:946ec6e1acb561b683bcab9ca872e19bab4c10578752b61004cf27538b8cac7e"
 },
 "nbformat": 3,
 "nbformat_minor": 0,
 "worksheets": [
  {
   "cells": [
    {
     "cell_type": "code",
     "collapsed": false,
     "input": [
      "import numpy as np\n",
      "import pandas as pd\n",
      "from scipy import fft\n",
      "import datetime\n",
      "from scipy.optimize import minimize"
     ],
     "language": "python",
     "metadata": {},
     "outputs": [],
     "prompt_number": 112
    },
    {
     "cell_type": "code",
     "collapsed": false,
     "input": [
      "cd ~/diamondhead/"
     ],
     "language": "python",
     "metadata": {},
     "outputs": [
      {
       "output_type": "stream",
       "stream": "stdout",
       "text": [
        "/home/lane/diamondhead\n"
       ]
      }
     ],
     "prompt_number": 23
    },
    {
     "cell_type": "code",
     "collapsed": false,
     "input": [
      "data = pd.read_csv('sp500_history.csv')"
     ],
     "language": "python",
     "metadata": {},
     "outputs": [],
     "prompt_number": 24
    },
    {
     "cell_type": "code",
     "collapsed": false,
     "input": [
      "data"
     ],
     "language": "python",
     "metadata": {},
     "outputs": [
      {
       "html": [
        "<pre>\n",
        "&lt;class 'pandas.core.frame.DataFrame'&gt;\n",
        "Int64Index: 16271 entries, 0 to 16270\n",
        "Data columns (total 7 columns):\n",
        "Date         16271  non-null values\n",
        "Open         16271  non-null values\n",
        "High         16271  non-null values\n",
        "Low          16271  non-null values\n",
        "Close        16271  non-null values\n",
        "Volume       16271  non-null values\n",
        "Adj Close    16271  non-null values\n",
        "dtypes: float64(5), int64(1), object(1)\n",
        "</pre>"
       ],
       "metadata": {},
       "output_type": "pyout",
       "prompt_number": 25,
       "text": [
        "<class 'pandas.core.frame.DataFrame'>\n",
        "Int64Index: 16271 entries, 0 to 16270\n",
        "Data columns (total 7 columns):\n",
        "Date         16271  non-null values\n",
        "Open         16271  non-null values\n",
        "High         16271  non-null values\n",
        "Low          16271  non-null values\n",
        "Close        16271  non-null values\n",
        "Volume       16271  non-null values\n",
        "Adj Close    16271  non-null values\n",
        "dtypes: float64(5), int64(1), object(1)"
       ]
      }
     ],
     "prompt_number": 25
    },
    {
     "cell_type": "code",
     "collapsed": false,
     "input": [
      "data['Date'][0]"
     ],
     "language": "python",
     "metadata": {},
     "outputs": [
      {
       "metadata": {},
       "output_type": "pyout",
       "prompt_number": 26,
       "text": [
        "'2014-09-02'"
       ]
      }
     ],
     "prompt_number": 26
    },
    {
     "cell_type": "code",
     "collapsed": false,
     "input": [
      "data['Close'][0]"
     ],
     "language": "python",
     "metadata": {},
     "outputs": [
      {
       "metadata": {},
       "output_type": "pyout",
       "prompt_number": 27,
       "text": [
        "2002.28"
       ]
      }
     ],
     "prompt_number": 27
    },
    {
     "cell_type": "code",
     "collapsed": false,
     "input": [
      "current_date = datetime.datetime.strptime(data['Date'][0], '%Y-%m-%d')\n",
      "oldest_date  = datetime.datetime.strptime(data['Date'][len(data['Date'])-1], '%Y-%m-%d')"
     ],
     "language": "python",
     "metadata": {},
     "outputs": [],
     "prompt_number": 40
    },
    {
     "cell_type": "code",
     "collapsed": false,
     "input": [
      "diff = current_date - oldest_date\n",
      "years_in_dataset = diff.days/365."
     ],
     "language": "python",
     "metadata": {},
     "outputs": [],
     "prompt_number": 56
    },
    {
     "cell_type": "code",
     "collapsed": false,
     "input": [
      "# Annualized return\n",
      "annualized_return = ((data['Close'][0] - list(data['Close'])[-1])/list(data['Close'])[-1])**(1./years_in_dataset) - 1.\n",
      "msg = 'Annualized return is %.2f%%' %(annualized_return*100)\n",
      "print(msg)"
     ],
     "language": "python",
     "metadata": {},
     "outputs": [
      {
       "output_type": "stream",
       "stream": "stdout",
       "text": [
        "Annualized return is 7.67%\n"
       ]
      }
     ],
     "prompt_number": 72
    },
    {
     "cell_type": "code",
     "collapsed": false,
     "input": [
      "x = np.linspace(0,len(data['Close']),len(data['Close']))\n",
      "ps = np.polyfit(x,np.log(data['Close'][::-1]),deg=1)"
     ],
     "language": "python",
     "metadata": {},
     "outputs": [],
     "prompt_number": 73
    },
    {
     "cell_type": "code",
     "collapsed": false,
     "input": [
      "dates = data['Date'][::-1]\n",
      "date_list = list(dates[0::1500])\n",
      "inds = x[0::1500]"
     ],
     "language": "python",
     "metadata": {},
     "outputs": [],
     "prompt_number": 74
    },
    {
     "cell_type": "markdown",
     "metadata": {},
     "source": [
      "#### Sample waterfilling with $\\lambda = 0.15$"
     ]
    },
    {
     "cell_type": "code",
     "collapsed": false,
     "input": [
      "fig = gcf()\n",
      "fig.set_size_inches((10,5))\n",
      "#ax = fig.add_subplot(111)\n",
      "lam = 0.15\n",
      "\n",
      "plot(x,data['Close'][::-1],'k',alpha=0.8)\n",
      "plot(x,np.exp(ps[0]*x+ps[1]+lam),'k--')\n",
      "y1 = np.array(data['Close'][::-1])\n",
      "y2 = np.exp(ps[0]*x+ps[1]+lam)\n",
      "fill_between(x, y1, y2, where=y2>=y1, facecolor='blue', alpha=0.3, interpolate=True)\n",
      "xlim((0,len(data['Date'])))\n",
      "xticks(inds,date_list)\n",
      "xticks(rotation=-40)\n",
      "yscale('log')\n",
      "grid()"
     ],
     "language": "python",
     "metadata": {},
     "outputs": [
      {
       "metadata": {},
       "output_type": "display_data",
       "png": "[encoded data removed]",
       "text": [
        "<matplotlib.figure.Figure at 0x5c31ad0>"
       ]
      }
     ],
     "prompt_number": 75
    },
    {
     "cell_type": "markdown",
     "metadata": {},
     "source": [
      "## Create monthly shareprice"
     ]
    },
    {
     "cell_type": "code",
     "collapsed": false,
     "input": [
      "monthly_shareprice = np.array(data['Close'][0::30])\n",
      "monthly_dates      = list(data['Date'])[0::30]\n",
      "monthly_shareprice = monthly_shareprice[::-1]\n",
      "monthly_dates      = monthly_dates[::-1]"
     ],
     "language": "python",
     "metadata": {},
     "outputs": [],
     "prompt_number": 88
    },
    {
     "cell_type": "code",
     "collapsed": false,
     "input": [
      "monthly_shareprice[-1]"
     ],
     "language": "python",
     "metadata": {},
     "outputs": [
      {
       "metadata": {},
       "output_type": "pyout",
       "prompt_number": 89,
       "text": [
        "2002.28"
       ]
      }
     ],
     "prompt_number": 89
    },
    {
     "cell_type": "code",
     "collapsed": false,
     "input": [
      "monthly_dates[-1]"
     ],
     "language": "python",
     "metadata": {},
     "outputs": [
      {
       "metadata": {},
       "output_type": "pyout",
       "prompt_number": 90,
       "text": [
        "'2014-09-02'"
       ]
      }
     ],
     "prompt_number": 90
    },
    {
     "cell_type": "markdown",
     "metadata": {},
     "source": [
      "## Establish median household income level over time"
     ]
    },
    {
     "cell_type": "code",
     "collapsed": false,
     "input": [
      "household_income_1950 = 4000.\n",
      "household_income_1990 = 30000.\n",
      "household_income_2014 = 53046."
     ],
     "language": "python",
     "metadata": {},
     "outputs": [],
     "prompt_number": 100
    },
    {
     "cell_type": "code",
     "collapsed": false,
     "input": [
      "np.log(household_income_2014)"
     ],
     "language": "python",
     "metadata": {},
     "outputs": [
      {
       "metadata": {},
       "output_type": "pyout",
       "prompt_number": 96,
       "text": [
        "10.87891474063386"
       ]
      }
     ],
     "prompt_number": 96
    },
    {
     "cell_type": "code",
     "collapsed": false,
     "input": [
      "np.exp(10.88)"
     ],
     "language": "python",
     "metadata": {},
     "outputs": [
      {
       "metadata": {},
       "output_type": "pyout",
       "prompt_number": 97,
       "text": [
        "53103.599918108266"
       ]
      }
     ],
     "prompt_number": 97
    },
    {
     "cell_type": "code",
     "collapsed": false,
     "input": [
      "np.exp(5.993)"
     ],
     "language": "python",
     "metadata": {},
     "outputs": [
      {
       "metadata": {},
       "output_type": "pyout",
       "prompt_number": 117,
       "text": [
        "400.61465292135057"
       ]
      }
     ],
     "prompt_number": 117
    },
    {
     "cell_type": "code",
     "collapsed": false,
     "input": [
      "z = np.linspace(5.993,10.88,len(monthly_shareprice))\n",
      "monthly_household_income = np.exp(z)"
     ],
     "language": "python",
     "metadata": {},
     "outputs": [],
     "prompt_number": 102
    },
    {
     "cell_type": "code",
     "collapsed": false,
     "input": [
      "plot(monthly_shareprice,'k')\n",
      "plot(monthly_household_income,'k--')\n",
      "yscale('log')\n",
      "title('Monthly household income (dotted) and S&P500 (solid)',fontsize=14)"
     ],
     "language": "python",
     "metadata": {},
     "outputs": [
      {
       "metadata": {},
       "output_type": "pyout",
       "prompt_number": 111,
       "text": [
        "<matplotlib.text.Text at 0x5d87f50>"
       ]
      },
      {
       "metadata": {},
       "output_type": "display_data",
       "png": "[encoded data removed]",
       "text": [
        "<matplotlib.figure.Figure at 0x5c0e850>"
       ]
      }
     ],
     "prompt_number": 111
    },
    {
     "cell_type": "markdown",
     "metadata": {},
     "source": [
      "# Waterfilling model  \n",
      "#### Every month add more to budget"
     ]
    },
    {
     "cell_type": "markdown",
     "metadata": {},
     "source": [
      "### Define model."
     ]
    },
    {
     "cell_type": "code",
     "collapsed": false,
     "input": [
      "def runModel(lam, alpha_d, beta_d, alpha_p, beta_p, monthly_shareprice, monthly_household_income):\n",
      "    x_mo  = np.linspace(0,len(monthly_shareprice),len(monthly_shareprice))\n",
      "    ps_mo = np.polyfit(x_mo,np.log(monthly_shareprice),deg=1)\n",
      "    fit_line_mo = np.exp(ps_mo[0]*x_mo + ps_mo[1] + lam)\n",
      "    \n",
      "    bank = 0.\n",
      "    shares = 0.\n",
      "    for m, price in enumerate(monthly_shareprice):\n",
      "        # receive your paycheck\n",
      "        bank = bank + 0.1*monthly_household_income[m]\n",
      "\n",
      "        # check how expensive/cheap the market is\n",
      "        # positive if below watermark\n",
      "        discount = (fit_line_mo[m]- price)/price\n",
      "\n",
      "        # allocate how much of bank you want to invest\n",
      "        if discount >= 0.0:\n",
      "            purchase = (alpha_d*discount + beta_d)*bank\n",
      "        else:\n",
      "            purchase = (alpha_p*discount + beta_p)*bank\n",
      "        if purchase > bank:\n",
      "            purchase = bank\n",
      "        elif purchase < 0.0:\n",
      "            purchase = 0.0\n",
      "\n",
      "        # buy shares\n",
      "        shares = shares + purchase/price\n",
      "        bank   = bank - purchase\n",
      "\n",
      "        # accrue interest in bank\n",
      "        bank   = bank + (0.01/12.)*bank\n",
      "\n",
      "    final_price  = list(monthly_shareprice)[-1]\n",
      "    # total_return\n",
      "    return (bank + shares*final_price - 0.1*sum(monthly_household_income))/(0.1*sum(monthly_household_income))"
     ],
     "language": "python",
     "metadata": {},
     "outputs": [],
     "prompt_number": 113
    },
    {
     "cell_type": "code",
     "collapsed": false,
     "input": [
      "def negModel(w, monthly_shareprice, monthly_household_income):\n",
      "    lam = w[0]\n",
      "    alpha_d = w[1] # multiplicative bias towards buying shares in cheap market\n",
      "    beta_d  = w[2] # additive bias towards buying shares in cheap market\n",
      "    alpha_p = w[3]\n",
      "    beta_p  = w[4]\n",
      "    \n",
      "    total_return = runModel(lam, alpha_d, beta_d, alpha_p, beta_p, monthly_shareprice, monthly_household_income)\n",
      "    \n",
      "    return -total_return"
     ],
     "language": "python",
     "metadata": {},
     "outputs": [],
     "prompt_number": 114
    },
    {
     "cell_type": "markdown",
     "metadata": {},
     "source": [
      "## Run optimization"
     ]
    },
    {
     "cell_type": "markdown",
     "metadata": {},
     "source": [
      "#### Initial conditions 1"
     ]
    },
    {
     "cell_type": "code",
     "collapsed": false,
     "input": [
      "coeff = [-0.17,1.2,0.1,0.0001,0.0001] #random initialization yields worse return\n",
      "res   = minimize(negModel, x0=coeff, args=(monthly_shareprice, monthly_household_income), method='nelder-mead')"
     ],
     "language": "python",
     "metadata": {},
     "outputs": [],
     "prompt_number": 115
    },
    {
     "cell_type": "code",
     "collapsed": false,
     "input": [
      "res.x"
     ],
     "language": "python",
     "metadata": {},
     "outputs": [
      {
       "metadata": {},
       "output_type": "pyout",
       "prompt_number": 116,
       "text": [
        "array([  1.86335669e-01,   1.20807310e+01,  -3.47832606e-01,\n",
        "         2.10488221e-04,  -2.27735354e-04])"
       ]
      }
     ],
     "prompt_number": 116
    },
    {
     "cell_type": "code",
     "collapsed": false,
     "input": [
      "res.fun"
     ],
     "language": "python",
     "metadata": {},
     "outputs": [
      {
       "metadata": {},
       "output_type": "pyout",
       "prompt_number": 117,
       "text": [
        "-3.4226300016441673"
       ]
      }
     ],
     "prompt_number": 117
    },
    {
     "cell_type": "markdown",
     "metadata": {},
     "source": [
      "#### Initial conditions 2"
     ]
    },
    {
     "cell_type": "code",
     "collapsed": false,
     "input": [
      "coeff2 = [-0.004,1.6,0.001,0.2,-4.8] #random initialization yields worse return\n",
      "res2   = minimize(negModel, x0=coeff, args=(monthly_shareprice, monthly_household_income), method='nelder-mead')"
     ],
     "language": "python",
     "metadata": {},
     "outputs": [],
     "prompt_number": 118
    },
    {
     "cell_type": "code",
     "collapsed": false,
     "input": [
      "res2.x"
     ],
     "language": "python",
     "metadata": {},
     "outputs": [
      {
       "metadata": {},
       "output_type": "pyout",
       "prompt_number": 119,
       "text": [
        "array([  1.86335669e-01,   1.20807310e+01,  -3.47832606e-01,\n",
        "         2.10488221e-04,  -2.27735354e-04])"
       ]
      }
     ],
     "prompt_number": 119
    },
    {
     "cell_type": "code",
     "collapsed": false,
     "input": [
      "res2.fun"
     ],
     "language": "python",
     "metadata": {},
     "outputs": [
      {
       "metadata": {},
       "output_type": "pyout",
       "prompt_number": 120,
       "text": [
        "-3.4226300016441673"
       ]
      }
     ],
     "prompt_number": 120
    },
    {
     "cell_type": "markdown",
     "metadata": {},
     "source": [
      "#### Random initial conditions"
     ]
    },
    {
     "cell_type": "code",
     "collapsed": false,
     "input": [
      "coeff3 = [-0.004,1.6,0.001,0.2,-4.8] #random initialization yields worse return\n",
      "res3   = minimize(negModel, x0=coeff, args=(monthly_shareprice, monthly_household_income), method='nelder-mead')"
     ],
     "language": "python",
     "metadata": {},
     "outputs": [],
     "prompt_number": 122
    },
    {
     "cell_type": "code",
     "collapsed": false,
     "input": [
      "res3.x"
     ],
     "language": "python",
     "metadata": {},
     "outputs": [
      {
       "metadata": {},
       "output_type": "pyout",
       "prompt_number": 123,
       "text": [
        "array([  1.86335669e-01,   1.20807310e+01,  -3.47832606e-01,\n",
        "         2.10488221e-04,  -2.27735354e-04])"
       ]
      }
     ],
     "prompt_number": 123
    },
    {
     "cell_type": "code",
     "collapsed": false,
     "input": [
      "res3.fun"
     ],
     "language": "python",
     "metadata": {},
     "outputs": [
      {
       "metadata": {},
       "output_type": "pyout",
       "prompt_number": 124,
       "text": [
        "-3.4226300016441673"
       ]
      }
     ],
     "prompt_number": 124
    },
    {
     "cell_type": "markdown",
     "metadata": {},
     "source": [
      "## What does this set of parameters look like?"
     ]
    },
    {
     "cell_type": "markdown",
     "metadata": {},
     "source": [
      "#### Run model in the raw"
     ]
    },
    {
     "cell_type": "code",
     "collapsed": false,
     "input": [
      "lam = res.x[0]\n",
      "alpha_d = res.x[1] # multiplicative bias towards buying shares in cheap market\n",
      "beta_d  = res.x[2] # additive bias towards buying shares in cheap market\n",
      "alpha_p = res.x[3]\n",
      "beta_p  = res.x[4]\n",
      "\n",
      "x_mo  = np.linspace(0,len(monthly_shareprice),len(monthly_shareprice))\n",
      "ps_mo = np.polyfit(x_mo,np.log(monthly_shareprice),deg=1)\n",
      "\n",
      "fit_line_mo = np.exp(ps_mo[0]*x_mo + ps_mo[1] + lam)\n",
      "\n",
      "bank = 0.\n",
      "shares = 0.\n",
      "purchase_history = []\n",
      "bank_history = []\n",
      "fraction_history = []\n",
      "discount_history = []\n",
      "for m, price in enumerate(monthly_shareprice):\n",
      "    # receive your paycheck\n",
      "    bank = bank + 0.1*monthly_household_income[m]\n",
      "    \n",
      "    # check how expensive/cheap the market is\n",
      "    # positive if below watermark\n",
      "    discount = (fit_line_mo[m]- price)/price\n",
      "    discount_history.append(discount)\n",
      "    \n",
      "    # allocate how much of bank you want to invest\n",
      "    if discount >= 0.0:\n",
      "        purchase = (alpha_d*discount + beta_d)*bank\n",
      "    else:\n",
      "        purchase = (alpha_p*discount + beta_p)*bank\n",
      "    if purchase > bank:\n",
      "        purchase = bank\n",
      "    elif purchase < 0.0:\n",
      "        purchase = 0.0\n",
      "    \n",
      "    # buy shares\n",
      "    shares = shares + purchase/price\n",
      "    bank   = bank - purchase\n",
      "    \n",
      "    purchase_history.append(purchase)\n",
      "    bank_history.append(bank)\n",
      "    fraction_history.append(purchase/(0.1*monthly_household_income[m]))\n",
      "    \n",
      "    # accrue interest in bank\n",
      "    bank   = bank + (0.01/12.)*bank\n",
      "\n",
      "final_price  = list(monthly_shareprice)[-1]\n",
      "total_return = (bank + shares*final_price - 0.1*sum(monthly_household_income))/(0.1*sum(monthly_household_income))"
     ],
     "language": "python",
     "metadata": {},
     "outputs": [],
     "prompt_number": 167
    },
    {
     "cell_type": "code",
     "collapsed": false,
     "input": [
      "bank"
     ],
     "language": "python",
     "metadata": {},
     "outputs": [
      {
       "metadata": {},
       "output_type": "pyout",
       "prompt_number": 168,
       "text": [
        "0.0"
       ]
      }
     ],
     "prompt_number": 168
    },
    {
     "cell_type": "code",
     "collapsed": false,
     "input": [
      "shares"
     ],
     "language": "python",
     "metadata": {},
     "outputs": [
      {
       "metadata": {},
       "output_type": "pyout",
       "prompt_number": 169,
       "text": [
        "1296.9823094257042"
       ]
      }
     ],
     "prompt_number": 169
    },
    {
     "cell_type": "markdown",
     "metadata": {},
     "source": [
      "#### View model"
     ]
    },
    {
     "cell_type": "code",
     "collapsed": false,
     "input": [
      "fig, ax1 = plt.subplots()\n",
      "fig.set_size_inches((16,4))\n",
      "\n",
      "\n",
      "xticks(rotation=-40)\n",
      "\n",
      "x_mo  = np.linspace(0,len(monthly_shareprice),len(monthly_shareprice))\n",
      "ps_mo = np.polyfit(x_mo,np.log(monthly_shareprice),deg=1)\n",
      "\n",
      "y1 = np.array(monthly_shareprice)\n",
      "y2 = np.exp(ps_mo[0]*x_mo + ps_mo[1] + lam)\n",
      "\n",
      "ax1.plot(x_mo,y1,'k',alpha=0.8)\n",
      "ax1.plot(x_mo,y2,'k--')\n",
      "ax1.fill_between(x_mo, y1, y2, where=y2>=y1, facecolor='blue', alpha=0.3, interpolate=True)\n",
      "ax1.set_xlim(0,len(x_mo))\n",
      "ax1.set_yscale('log')\n",
      "grid()\n",
      "\n",
      "ax2 = ax1.twinx()\n",
      "ax2.plot(x_mo,bank_history,'b',alpha=0.8)\n",
      "#plot(x_mo,purchase_history,'g',alpha=0.8)\n",
      "#ax2.plot(x_mo,monthly_shareprice,'k')\n",
      "#tmp = ax2.set_xticks(inds,date_list)\n",
      "#ax2.set_yscale('log')\n",
      "\n",
      "mo_dates = list(dates[0::30])\n",
      "date_list = list(mo_dates[0::40])\n",
      "inds = np.linspace(0,len(monthly_shareprice),len(date_list))\n",
      "tmp = xticks(inds,date_list)\n",
      "title('Waterfilling model with bank amount',fontsize=14)"
     ],
     "language": "python",
     "metadata": {},
     "outputs": [
      {
       "metadata": {},
       "output_type": "pyout",
       "prompt_number": 170,
       "text": [
        "<matplotlib.text.Text at 0xaf5b550>"
       ]
      },
      {
       "metadata": {},
       "output_type": "display_data",
       "png": "[encoded data removed]",
       "text": [
        "<matplotlib.figure.Figure at 0xa950910>"
       ]
      }
     ],
     "prompt_number": 170
    },
    {
     "cell_type": "code",
     "collapsed": false,
     "input": [
      "(y1[-1],y2[-1])"
     ],
     "language": "python",
     "metadata": {},
     "outputs": [
      {
       "metadata": {},
       "output_type": "pyout",
       "prompt_number": 171,
       "text": [
        "(2002.28, 2326.9500015155668)"
       ]
      }
     ],
     "prompt_number": 171
    },
    {
     "cell_type": "code",
     "collapsed": false,
     "input": [
      "(lam, ps_mo[0], ps_mo[1])"
     ],
     "language": "python",
     "metadata": {},
     "outputs": [
      {
       "metadata": {},
       "output_type": "pyout",
       "prompt_number": 172,
       "text": [
        "(0.18633566876788688, 0.0082148597820936396, 3.1053091463850269)"
       ]
      }
     ],
     "prompt_number": 172
    },
    {
     "cell_type": "code",
     "collapsed": false,
     "input": [
      "fig = gcf()\n",
      "fig.set_size_inches((16,4))\n",
      "plot(x_mo,fraction_history,'k')\n",
      "title('Monthly fraction purchased',fontsize=14)"
     ],
     "language": "python",
     "metadata": {},
     "outputs": [
      {
       "metadata": {},
       "output_type": "pyout",
       "prompt_number": 173,
       "text": [
        "<matplotlib.text.Text at 0xb1a2890>"
       ]
      },
      {
       "metadata": {},
       "output_type": "display_data",
       "png": "[encoded data removed]",
       "text": [
        "<matplotlib.figure.Figure at 0xaaa1e50>"
       ]
      }
     ],
     "prompt_number": 173
    },
    {
     "cell_type": "markdown",
     "metadata": {},
     "source": [
      "## What is today's discount?"
     ]
    },
    {
     "cell_type": "code",
     "collapsed": false,
     "input": [
      "discount = (fit_line_mo[-1]- list(monthly_shareprice)[-1])/list(monthly_shareprice)[-1]"
     ],
     "language": "python",
     "metadata": {},
     "outputs": [],
     "prompt_number": 157
    },
    {
     "cell_type": "code",
     "collapsed": false,
     "input": [
      "discount"
     ],
     "language": "python",
     "metadata": {},
     "outputs": [
      {
       "metadata": {},
       "output_type": "pyout",
       "prompt_number": 158,
       "text": [
        "0.16215014958725393"
       ]
      }
     ],
     "prompt_number": 158
    },
    {
     "cell_type": "code",
     "collapsed": false,
     "input": [
      "alpha_d*discount + beta_d"
     ],
     "language": "python",
     "metadata": {},
     "outputs": [
      {
       "metadata": {},
       "output_type": "pyout",
       "prompt_number": 159,
       "text": [
        "1.6110597372128839"
       ]
      }
     ],
     "prompt_number": 159
    },
    {
     "cell_type": "code",
     "collapsed": false,
     "input": [
      "fig = gcf()\n",
      "fig.set_size_inches((10,5))\n",
      "plot(discount_history)"
     ],
     "language": "python",
     "metadata": {},
     "outputs": [
      {
       "metadata": {},
       "output_type": "pyout",
       "prompt_number": 160,
       "text": [
        "[<matplotlib.lines.Line2D at 0xaa98f50>]"
       ]
      },
      {
       "metadata": {},
       "output_type": "display_data",
       "png": "[encoded data removed]",
       "text": [
        "<matplotlib.figure.Figure at 0x9b4f650>"
       ]
      }
     ],
     "prompt_number": 160
    },
    {
     "cell_type": "code",
     "collapsed": false,
     "input": [
      "(alpha_d*discount + beta_d)"
     ],
     "language": "python",
     "metadata": {},
     "outputs": [
      {
       "metadata": {},
       "output_type": "pyout",
       "prompt_number": 162,
       "text": [
        "1.6110597372128839"
       ]
      }
     ],
     "prompt_number": 162
    },
    {
     "cell_type": "code",
     "collapsed": false,
     "input": [
      "(alpha_p*discount + beta_p)"
     ],
     "language": "python",
     "metadata": {},
     "outputs": [
      {
       "metadata": {},
       "output_type": "pyout",
       "prompt_number": 161,
       "text": [
        "-0.00019360465734746156"
       ]
      }
     ],
     "prompt_number": 161
    },
    {
     "cell_type": "code",
     "collapsed": false,
     "input": [
      "((alpha_d*discount + beta_d)*0.1*monthly_household_income[-1])/monthly_household_income[-1]"
     ],
     "language": "python",
     "metadata": {},
     "outputs": [
      {
       "metadata": {},
       "output_type": "pyout",
       "prompt_number": 165,
       "text": [
        "0.1611059737212884"
       ]
      }
     ],
     "prompt_number": 165
    },
    {
     "cell_type": "code",
     "collapsed": false,
     "input": [
      "fraction_history[-1]"
     ],
     "language": "python",
     "metadata": {},
     "outputs": [
      {
       "metadata": {},
       "output_type": "pyout",
       "prompt_number": 166,
       "text": [
        "0.10000000000000001"
       ]
      }
     ],
     "prompt_number": 166
    },
    {
     "cell_type": "markdown",
     "metadata": {},
     "source": [
      "## Investigating today's purchasing"
     ]
    },
    {
     "cell_type": "code",
     "collapsed": false,
     "input": [
      "x_mo  = np.linspace(0,len(monthly_shareprice),len(monthly_shareprice))\n",
      "ps_mo = np.polyfit(x_mo,np.log(monthly_shareprice),deg=1)\n",
      "\n",
      "y1 = np.array(monthly_shareprice)\n",
      "y2 = np.exp(ps_mo[0]*x_mo + ps_mo[1] + lam)"
     ],
     "language": "python",
     "metadata": {},
     "outputs": [],
     "prompt_number": 174
    },
    {
     "cell_type": "code",
     "collapsed": false,
     "input": [
      "y2[-1]"
     ],
     "language": "python",
     "metadata": {},
     "outputs": [
      {
       "metadata": {},
       "output_type": "pyout",
       "prompt_number": 175,
       "text": [
        "2326.9500015155668"
       ]
      }
     ],
     "prompt_number": 175
    },
    {
     "cell_type": "code",
     "collapsed": false,
     "input": [
      "y1[-1]"
     ],
     "language": "python",
     "metadata": {},
     "outputs": [
      {
       "metadata": {},
       "output_type": "pyout",
       "prompt_number": 176,
       "text": [
        "2002.28"
       ]
      }
     ],
     "prompt_number": 176
    },
    {
     "cell_type": "code",
     "collapsed": false,
     "input": [
      "lam"
     ],
     "language": "python",
     "metadata": {},
     "outputs": [
      {
       "metadata": {},
       "output_type": "pyout",
       "prompt_number": 177,
       "text": [
        "0.18633566876788688"
       ]
      }
     ],
     "prompt_number": 177
    },
    {
     "cell_type": "code",
     "collapsed": false,
     "input": [
      "(y2[-1] - y1[-1])/y2[-1]"
     ],
     "language": "python",
     "metadata": {},
     "outputs": [
      {
       "metadata": {},
       "output_type": "pyout",
       "prompt_number": 182,
       "text": [
        "0.13952598951593539"
       ]
      }
     ],
     "prompt_number": 182
    },
    {
     "cell_type": "markdown",
     "metadata": {},
     "source": [
      "## Validate model: how does it compare to monthly buy-and-hold?"
     ]
    },
    {
     "cell_type": "code",
     "collapsed": false,
     "input": [
      "def runBuyAndHold(monthly_shareprice, monthly_household_income):\n",
      "    x_mo  = np.linspace(0,len(monthly_shareprice),len(monthly_shareprice))\n",
      "    ps_mo = np.polyfit(x_mo,np.log(monthly_shareprice),deg=1)\n",
      "    \n",
      "    bank = 0.\n",
      "    shares = 0.\n",
      "    for m, price in enumerate(monthly_shareprice):\n",
      "        # receive your paycheck\n",
      "        bank     = bank + 0.1*monthly_household_income[m]\n",
      "        purchase = 0.1*monthly_household_income[m]\n",
      "\n",
      "        # buy shares\n",
      "        shares = shares + purchase/price\n",
      "        bank   = bank - purchase\n",
      "\n",
      "        # accrue interest in bank\n",
      "        bank   = bank + (0.01/12.)*bank\n",
      "\n",
      "    final_price  = list(monthly_shareprice)[-1]\n",
      "    \n",
      "    # total_return\n",
      "    return (bank + shares*final_price - 0.1*sum(monthly_household_income))/(0.1*sum(monthly_household_income))"
     ],
     "language": "python",
     "metadata": {},
     "outputs": [],
     "prompt_number": 183
    },
    {
     "cell_type": "markdown",
     "metadata": {},
     "source": [
      "### Model outperforms buy-and-hold strategy marginally"
     ]
    },
    {
     "cell_type": "code",
     "collapsed": false,
     "input": [
      "(runModel(lam, alpha_d, beta_d, alpha_p, beta_p, monthly_shareprice, monthly_household_income), runBuyAndHold(monthly_shareprice, monthly_household_income))"
     ],
     "language": "python",
     "metadata": {},
     "outputs": [
      {
       "metadata": {},
       "output_type": "pyout",
       "prompt_number": 186,
       "text": [
        "(3.4226300016441673, 3.3189700758256948)"
       ]
      }
     ],
     "prompt_number": 186
    },
    {
     "cell_type": "code",
     "collapsed": false,
     "input": [
      "((3.422)*(1/64.), (3.319)*(1/64.))"
     ],
     "language": "python",
     "metadata": {},
     "outputs": [
      {
       "metadata": {},
       "output_type": "pyout",
       "prompt_number": 188,
       "text": [
        "(0.05346875, 0.051859375)"
       ]
      }
     ],
     "prompt_number": 188
    },
    {
     "cell_type": "code",
     "collapsed": false,
     "input": [],
     "language": "python",
     "metadata": {},
     "outputs": []
    }
   ],
   "metadata": {}
  }
 ]
}