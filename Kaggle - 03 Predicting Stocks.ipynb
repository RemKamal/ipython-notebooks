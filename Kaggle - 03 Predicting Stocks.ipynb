{
 "metadata": {
  "name": ""
 },
 "nbformat": 3,
 "nbformat_minor": 0,
 "worksheets": [
  {
   "cells": [
    {
     "cell_type": "markdown",
     "metadata": {},
     "source": [
      "9/22/2013\n",
      "# Kaggle Competition - Predicting relative stock price\n",
      "\n",
      "Deadline: 10/1/2013\n",
      "State of the art error: 0.40458\n",
      "\n",
      "For this competition, you are asked to predict the percentage change in a financial instrument at a time 2 hours in the future.  The data represents features of various financial securities (198 in total) recorded at 5-minute intervals throughout a trading day.  To discourage cheating, you are not provided with the features' names or the specific dates.\n",
      "\n",
      "__data.zip__ - contains features for 510 days worth of trading, including 200 training days and 310 testing days  \n",
      "__trainLabels.csv__ - contains the targets for the 200 training days  \n",
      "__sampleSubmission.csv__ - shows the submission format\n",
      "\n",
      "Each variable named O1, O2, O3, etc. (the outputs) represents a percent change in the value of a security.  Each variable named I1, I2, I3, etc. (the inputs) represents a feature. The underlying securities and features represented by these anonymized names are the same across all files (e.g. O1 will always be the same stock).\n",
      "\n",
      "Within each trading day, you are provided the outputs as a relative percentage compared to the previous day's closing price.  The first line of each data file represents the previous close. For example, if a security closed at \\$1 the previous day and opened at \\$2 the next day, the first output would be 0, then 100.  All output values are computed relative to the previous day's close. The timestamps within each file are as follows (ignoring the header row):\n",
      "\n",
      "Line 1 = Outputs and inputs at previous day's close (4PM ET)  \n",
      "Line 2 = Outputs and inputs at current day's open (9:30AM ET)  \n",
      "Line 3 = Outputs and inputs at 9:35AM ET  \n",
      "...  \n",
      "Line 55 = Outputs and inputs at 1:55PM ET\n",
      "\n",
      "You are asked to predict the outputs 2 hours later, at 4PM ET.\n",
      "\n",
      "Evaluation is by the mean absolute error, $MAE = \\frac{1}{n} \\sum_{i = 1}^n |y_i - \\hat{y}_i |$\n",
      "\n",
      "---\n",
      "###Results\n",
      "- Last-observed benchmark is surprisingly good; achieves private score of 0.44 and public score of 0.42007\n",
      "- An increase in the private performance doesn't necessarily correspond to a better public score, for instance  \n",
      "    - Exponential filter with 0.5 discount rate gets a better private score than 0.9 discount rate, but a worse public score\n",
      "- Using a linear model (per stock) of last observed price and the direction (derivative) doesn't improve public score\n",
      "    - This could just be because I'm improperly optimizing the coefficients\n",
      "- My best result so far is $x_{i,t} = a_i x_{i,t-1} + b_i$ where $x_{i,t-1}$ is the last observed price and where $i$ is the $i^{\\rm th}$ stock\n",
      "\n",
      "\n",
      "###To-do\n",
      "- I'm using handwritten gradient descent, but could probably use scipy optimize for better results\n",
      "- Actually use features\n",
      "- Try random forests\n"
     ]
    },
    {
     "cell_type": "markdown",
     "metadata": {},
     "source": [
      "## Data Pre-Processing"
     ]
    },
    {
     "cell_type": "markdown",
     "metadata": {},
     "source": [
      "### Change directory and import modules"
     ]
    },
    {
     "cell_type": "code",
     "collapsed": false,
     "input": [
      "cd /home/lane/Kaggle/03\\ Predicting\\ Stock\\ Prices/"
     ],
     "language": "python",
     "metadata": {},
     "outputs": [
      {
       "output_type": "stream",
       "stream": "stdout",
       "text": [
        "/home/lane/Kaggle/03 Predicting Stock Prices\n"
       ]
      }
     ],
     "prompt_number": 6
    },
    {
     "cell_type": "code",
     "collapsed": false,
     "input": [
      "ls"
     ],
     "language": "python",
     "metadata": {},
     "outputs": [
      {
       "output_type": "stream",
       "stream": "stdout",
       "text": [
        "\u001b[0m\u001b[01;34mData\u001b[0m/           linearMAE.py       makeSubmission_temp.py  mh_test.py\r\n",
        "infoTheory.py   linearMAE.pyc      meanAbsoluteError.py    scraps.py\r\n",
        "infoTheory.pyc  makeSubmission.py  meanAbsoluteError.pyc\r\n"
       ]
      }
     ],
     "prompt_number": 7
    },
    {
     "cell_type": "code",
     "collapsed": false,
     "input": [
      "from sklearn.ensemble import RandomForestClassifier\n",
      "from sklearn import cross_validation\n",
      "import meanAbsoluteError as err\n",
      "import numpy as np\n",
      "import datetime\n",
      "import random"
     ],
     "language": "python",
     "metadata": {},
     "outputs": [],
     "prompt_number": 9
    },
    {
     "cell_type": "markdown",
     "metadata": {},
     "source": [
      "### Import and format data"
     ]
    },
    {
     "cell_type": "code",
     "collapsed": false,
     "input": [
      "#DATA PROCESSING\n",
      "#create the training & test sets, skipping the header row with [1:]\n",
      "trainingDays = range(1,511) #200 days of training data, 510 total days\n",
      "headers = np.genfromtxt(open('Data/data/1.csv','r'),delimiter=',',dtype='string')[0]\n",
      "numRows = (np.array(np.genfromtxt(open('Data/data/1.csv','r'),delimiter=',',dtype='f8')[1:])).shape[0]\n",
      "numCols = (np.array(np.genfromtxt(open('Data/data/1.csv','r'),delimiter=',',dtype='f8')[1:])).shape[1]\n",
      "isOutput = [headers[x][0] == 'O' for x in range(0,numCols)]\n",
      "isInput  = [headers[x][0] == 'I' for x in range(0,numCols)]\n",
      "trainOutput = np.zeros((len(trainingDays),numRows,sum(isOutput)))\n",
      "trainInput  = np.zeros((len(trainingDays),numRows,sum(isInput)))\n",
      "for i in trainingDays:\n",
      "    dataset = np.genfromtxt(open('Data/data/'+str(i)+'.csv','r'), delimiter=',', dtype='f8')[1:]\n",
      "    dataset = np.array(dataset)  # (5minIncrement,stock/feature)\n",
      "    for j in range(0,numCols):\n",
      "        if headers[j][0] == 'O':\n",
      "            trainOutput[i-1,:,j] = dataset[:,j]   # (day,5minIncrement,stock)\n",
      "        elif headers[j][0] == 'I':\n",
      "            trainInput[i-1,:,(j-sum(isOutput))] = dataset[:,j]    # (day,5minIncrement,feature)\n",
      "\n",
      "#target prices 2 hours later (only outputs, no inputs) \n",
      "target = np.array(np.genfromtxt(open('Data/trainLabels.csv','r'), delimiter=',', dtype='f8')[1:])\n",
      "target = target[:,1:]  # (day,price2HrsLater)"
     ],
     "language": "python",
     "metadata": {},
     "outputs": [],
     "prompt_number": 10
    },
    {
     "cell_type": "markdown",
     "metadata": {},
     "source": [
      "##Data Exploration"
     ]
    },
    {
     "cell_type": "markdown",
     "metadata": {},
     "source": [
      "### Linear Models"
     ]
    },
    {
     "cell_type": "code",
     "collapsed": false,
     "input": [
      "# Initialize variables\n",
      "iterations   = 100\n",
      "learningRate = 0.01\n",
      "h            = (2e-15)**(1./3)\n",
      "coeff        = np.zeros((sum(isOutput),3))\n",
      "coeff[:,1]   = np.squeeze(np.ones((sum(isOutput),1)))\n",
      "error        = []\n",
      "gradient     = [0,0,0]\n",
      "pred0P = np.zeros((len(trainingDays),sum(isOutput)))\n",
      "pred0M = np.zeros((len(trainingDays),sum(isOutput)))\n",
      "pred1P = np.zeros((len(trainingDays),sum(isOutput)))\n",
      "pred1M = np.zeros((len(trainingDays),sum(isOutput)))\n",
      "pred2P = np.zeros((len(trainingDays),sum(isOutput)))\n",
      "pred2M = np.zeros((len(trainingDays),sum(isOutput)))\n",
      "pred   = np.zeros((len(trainingDays),sum(isOutput)))"
     ],
     "language": "python",
     "metadata": {},
     "outputs": [],
     "prompt_number": 14
    },
    {
     "cell_type": "markdown",
     "metadata": {},
     "source": [
      "#### The following model achives state-of-the art performance: 0.41947\n",
      "\n",
      "---\n",
      "Linear model on last-observed value and last derivative, with coefficients that vary by stock.  Coefficients are optimized by hand-created gradient using 100 iterations for each stock and day"
     ]
    },
    {
     "cell_type": "code",
     "collapsed": false,
     "input": [
      "# Run model\n",
      "for stock in range(0,sum(isOutput)):\n",
      "    for i in range(0,iterations):\n",
      "        for day in range(0,len(trainingDays)):\n",
      "            deriv = trainOutput[day,-1,stock] - trainOutput[day,-2,stock]\n",
      "            pred0P[day,stock] = (coeff[stock,1])*trainOutput[day,-1,stock] + (coeff[stock,2])*deriv + (coeff[stock,0] + h)\n",
      "            pred0M[day,stock] = (coeff[stock,1])*trainOutput[day,-1,stock] + (coeff[stock,2])*deriv + (coeff[stock,0] - h)\n",
      "            pred1P[day,stock] = (coeff[stock,1]+h)*trainOutput[day,-1,stock] +  (coeff[stock,2])*deriv + (coeff[stock,0])\n",
      "            pred1M[day,stock] = (coeff[stock,1]-h)*trainOutput[day,-1,stock] +  (coeff[stock,2])*deriv +(coeff[stock,0])\n",
      "            pred2P[day,stock] = (coeff[stock,1])*trainOutput[day,-1,stock] +  (coeff[stock,2]+h)*deriv + (coeff[stock,0])\n",
      "            pred2M[day,stock] = (coeff[stock,1])*trainOutput[day,-1,stock] +  (coeff[stock,2]-h)*deriv +(coeff[stock,0])\n",
      "            pred[day,stock]   = (coeff[stock,1])*trainOutput[day,-1,stock] + (coeff[stock,2])*deriv +(coeff[stock,0])\n",
      "\n",
      "        gradient[0] = (err.maeFun(target,pred0P[0:200,:]) - err.maeFun(target,pred0M[0:200,:]))/(2*h)\n",
      "        gradient[1] = (err.maeFun(target,pred1P[0:200,:]) - err.maeFun(target,pred1M[0:200,:]))/(2*h)\n",
      "        gradient[2] = (err.maeFun(target,pred2P[0:200,:]) - err.maeFun(target,pred2M[0:200,:]))/(2*h)\n",
      "        coeff[stock,:] = [coeff[stock,x] - learningRate*gradient[x] for x in range(0,len(gradient))]\n",
      "        #print \"Stock: \" + str(stock) + \" Error: \" + str(err.maeFun(target[:,stock],pred[0:200,stock])) + \" Coeff: \" + str(coeff[stock,:])\n",
      "\n",
      "    error.append(err.maeFun(target,pred[0:200,:])) #maeFun(actual,pred)\n",
      "    print \"Results: \" + str(error[-1]) + \" Variance of coefficients: \" + str([np.var(coeff[:,0]), np.var(coeff[:,1])])"
     ],
     "language": "python",
     "metadata": {},
     "outputs": [
      {
       "output_type": "stream",
       "stream": "stdout",
       "text": [
        "Results: 1.43273909909 Variance of coefficients: [2.092907695185129e-10, 4.43775153687278e-12]\n",
        "Results: 1.43118348521 Variance of coefficients: [8.6035532201290706e-10, 1.5188174416106293e-11]"
       ]
      },
      {
       "output_type": "stream",
       "stream": "stdout",
       "text": [
        "\n",
        "Results: 1.43057339951 Variance of coefficients: [8.8078758927246005e-10, 2.0144926459712696e-11]"
       ]
      },
      {
       "output_type": "stream",
       "stream": "stdout",
       "text": [
        "\n",
        "Results: 1.43003499649 Variance of coefficients: [1.0133272846420854e-09, 2.4776888398932941e-11]"
       ]
      },
      {
       "output_type": "stream",
       "stream": "stdout",
       "text": [
        "\n",
        "Results: 1.42754344617 Variance of coefficients: [3.2081263361270179e-09, 1.6701595849153754e-09]"
       ]
      },
      {
       "output_type": "stream",
       "stream": "stdout",
       "text": [
        "\n",
        "Results: 1.42546571074 Variance of coefficients: [3.6715759852249862e-09, 5.8270144638449887e-09]"
       ]
      },
      {
       "output_type": "stream",
       "stream": "stdout",
       "text": [
        "\n",
        "Results: 1.42189775486 Variance of coefficients: [3.719623094096966e-09, 6.6562743247564569e-09]"
       ]
      },
      {
       "output_type": "stream",
       "stream": "stdout",
       "text": [
        "\n",
        "Results: 1.41806025043 Variance of coefficients: [4.5426992006385311e-09, 7.4438796099582314e-09]"
       ]
      },
      {
       "output_type": "stream",
       "stream": "stdout",
       "text": [
        "\n",
        "Results: 1.41432270739 Variance of coefficients: [4.9900297392795894e-09, 1.1453748989101209e-08]"
       ]
      },
      {
       "output_type": "stream",
       "stream": "stdout",
       "text": [
        "\n",
        "Results: 1.40935543226 Variance of coefficients: [5.4197741662554257e-09, 1.3572161130218292e-08]"
       ]
      },
      {
       "output_type": "stream",
       "stream": "stdout",
       "text": [
        "\n",
        "Results: 1.40471671274 Variance of coefficients: [7.1919998849652892e-09, 1.3867459594565986e-08]"
       ]
      },
      {
       "output_type": "stream",
       "stream": "stdout",
       "text": [
        "\n",
        "Results: 1.40062893782 Variance of coefficients: [8.9729988520677091e-09, 1.5098399834157632e-08]"
       ]
      },
      {
       "output_type": "stream",
       "stream": "stdout",
       "text": [
        "\n",
        "Results: 1.39728786535 Variance of coefficients: [8.9781262279070803e-09, 1.5510406605932167e-08]"
       ]
      },
      {
       "output_type": "stream",
       "stream": "stdout",
       "text": [
        "\n",
        "Results: 1.39380759937 Variance of coefficients: [9.4031082672841892e-09, 1.6760098545244016e-08]"
       ]
      },
      {
       "output_type": "stream",
       "stream": "stdout",
       "text": [
        "\n",
        "Results: 1.3901414823 Variance of coefficients: [1.1150910709283853e-08, 1.8132022652613157e-08]"
       ]
      },
      {
       "output_type": "stream",
       "stream": "stdout",
       "text": [
        "\n",
        "Results: 1.38491897455 Variance of coefficients: [1.1425605910972161e-08, 1.8239742083243219e-08]"
       ]
      },
      {
       "output_type": "stream",
       "stream": "stdout",
       "text": [
        "\n",
        "Results: 1.3810440019 Variance of coefficients: [1.1423426172483267e-08, 1.9623261682026426e-08]"
       ]
      },
      {
       "output_type": "stream",
       "stream": "stdout",
       "text": [
        "\n",
        "Results: 1.37670668378 Variance of coefficients: [1.1422136479646644e-08, 1.969957518029012e-08]"
       ]
      },
      {
       "output_type": "stream",
       "stream": "stdout",
       "text": [
        "\n",
        "Results: 1.36674862798 Variance of coefficients: [1.2334424863883211e-08, 3.891725855933863e-08]"
       ]
      },
      {
       "output_type": "stream",
       "stream": "stdout",
       "text": [
        "\n",
        "Results: 1.36272019567 Variance of coefficients: [1.2495831345749789e-08, 5.5177690744328131e-08]"
       ]
      },
      {
       "output_type": "stream",
       "stream": "stdout",
       "text": [
        "\n",
        "Results: 1.35709063535 Variance of coefficients: [1.2578773765573165e-08, 7.0980728641183571e-08]"
       ]
      },
      {
       "output_type": "stream",
       "stream": "stdout",
       "text": [
        "\n",
        "Results: 1.35316081938 Variance of coefficients: [1.4004004448677101e-08, 8.4617355736890672e-08]"
       ]
      },
      {
       "output_type": "stream",
       "stream": "stdout",
       "text": [
        "\n",
        "Results: 1.3494764324 Variance of coefficients: [1.4007575644005222e-08, 1.0069895938387474e-07]"
       ]
      },
      {
       "output_type": "stream",
       "stream": "stdout",
       "text": [
        "\n",
        "Results: 1.34531937637 Variance of coefficients: [1.4914553574982271e-08, 1.2130732094877202e-07]"
       ]
      },
      {
       "output_type": "stream",
       "stream": "stdout",
       "text": [
        "\n",
        "Results: 1.34121273601 Variance of coefficients: [1.4912968279343703e-08, 1.4219291130657016e-07]"
       ]
      },
      {
       "output_type": "stream",
       "stream": "stdout",
       "text": [
        "\n",
        "Results: 1.33809107829 Variance of coefficients: [1.4982284496339059e-08, 1.6890095539919134e-07]"
       ]
      },
      {
       "output_type": "stream",
       "stream": "stdout",
       "text": [
        "\n",
        "Results: 1.33262781665 Variance of coefficients: [1.5223315278960025e-08, 1.9331824953239664e-07]"
       ]
      },
      {
       "output_type": "stream",
       "stream": "stdout",
       "text": [
        "\n",
        "Results: 1.3284020971 Variance of coefficients: [1.6590212487771112e-08, 2.1721827020793421e-07]"
       ]
      },
      {
       "output_type": "stream",
       "stream": "stdout",
       "text": [
        "\n",
        "Results: 1.32487826994 Variance of coefficients: [1.6765544787890847e-08, 2.4074380082214838e-07]"
       ]
      },
      {
       "output_type": "stream",
       "stream": "stdout",
       "text": [
        "\n",
        "Results: 1.32203108407 Variance of coefficients: [1.7849438387377569e-08, 2.602090170032155e-07]"
       ]
      },
      {
       "output_type": "stream",
       "stream": "stdout",
       "text": [
        "\n",
        "Results: 1.31786125817 Variance of coefficients: [1.8507124307325759e-08, 2.6417055913065047e-07]"
       ]
      },
      {
       "output_type": "stream",
       "stream": "stdout",
       "text": [
        "\n",
        "Results: 1.31205769907 Variance of coefficients: [1.9818063000095363e-08, 2.7148833332168045e-07]"
       ]
      },
      {
       "output_type": "stream",
       "stream": "stdout",
       "text": [
        "\n",
        "Results: 1.30930211464 Variance of coefficients: [2.0662734994680586e-08, 2.7219292115133971e-07]"
       ]
      },
      {
       "output_type": "stream",
       "stream": "stdout",
       "text": [
        "\n",
        "Results: 1.30460977945 Variance of coefficients: [2.1136216236900918e-08, 2.7206455993396255e-07]"
       ]
      },
      {
       "output_type": "stream",
       "stream": "stdout",
       "text": [
        "\n",
        "Results: 1.29350525977 Variance of coefficients: [2.1183955268163668e-08, 2.9881661186921972e-07]"
       ]
      },
      {
       "output_type": "stream",
       "stream": "stdout",
       "text": [
        "\n",
        "Results: 1.28933637863 Variance of coefficients: [2.3035773417533217e-08, 3.1687161116140586e-07]"
       ]
      },
      {
       "output_type": "stream",
       "stream": "stdout",
       "text": [
        "\n",
        "Results: 1.28285650921 Variance of coefficients: [2.3842216218034846e-08, 3.4610455872781647e-07]"
       ]
      },
      {
       "output_type": "stream",
       "stream": "stdout",
       "text": [
        "\n",
        "Results: 1.27898133874 Variance of coefficients: [2.7509972753782416e-08, 3.5852533217261608e-07]"
       ]
      },
      {
       "output_type": "stream",
       "stream": "stdout",
       "text": [
        "\n",
        "Results: 1.27594888407 Variance of coefficients: [2.9024824934841773e-08, 3.5930831169416973e-07]"
       ]
      },
      {
       "output_type": "stream",
       "stream": "stdout",
       "text": [
        "\n",
        "Results: 1.27242595361 Variance of coefficients: [2.9129610717723139e-08, 3.5929129350762967e-07]"
       ]
      },
      {
       "output_type": "stream",
       "stream": "stdout",
       "text": [
        "\n",
        "Results: 1.26919439106 Variance of coefficients: [2.9432695790795953e-08, 3.6120212961109973e-07]"
       ]
      },
      {
       "output_type": "stream",
       "stream": "stdout",
       "text": [
        "\n",
        "Results: 1.26178370979 Variance of coefficients: [2.9467077914624059e-08, 3.6118825883081507e-07]"
       ]
      },
      {
       "output_type": "stream",
       "stream": "stdout",
       "text": [
        "\n",
        "Results: 1.25862335518 Variance of coefficients: [2.9488350446963379e-08, 3.6121149928001546e-07]"
       ]
      },
      {
       "output_type": "stream",
       "stream": "stdout",
       "text": [
        "\n",
        "Results: 1.25574895536 Variance of coefficients: [3.1418118975112867e-08, 3.6100169745976549e-07]"
       ]
      },
      {
       "output_type": "stream",
       "stream": "stdout",
       "text": [
        "\n",
        "Results: 1.25276890704 Variance of coefficients: [3.5199701284125031e-08, 3.6839033605471788e-07]"
       ]
      },
      {
       "output_type": "stream",
       "stream": "stdout",
       "text": [
        "\n",
        "Results: 1.24914975454 Variance of coefficients: [3.9883189836358696e-08, 3.879169250151151e-07]"
       ]
      },
      {
       "output_type": "stream",
       "stream": "stdout",
       "text": [
        "\n",
        "Results: 1.24535729748 Variance of coefficients: [4.9242767909318325e-08, 4.0696392825441158e-07]"
       ]
      },
      {
       "output_type": "stream",
       "stream": "stdout",
       "text": [
        "\n",
        "Results: 1.2424407238 Variance of coefficients: [6.2228398057124201e-08, 4.2205129014157903e-07]"
       ]
      },
      {
       "output_type": "stream",
       "stream": "stdout",
       "text": [
        "\n",
        "Results: 1.23982955107 Variance of coefficients: [7.949809351681638e-08, 4.4950993358813995e-07]"
       ]
      },
      {
       "output_type": "stream",
       "stream": "stdout",
       "text": [
        "\n",
        "Results: 1.23039759324 Variance of coefficients: [8.9928246505960694e-08, 4.4986618843474144e-07]"
       ]
      },
      {
       "output_type": "stream",
       "stream": "stdout",
       "text": [
        "\n",
        "Results: 1.22671117969 Variance of coefficients: [1.0879371122999557e-07, 4.4971333095785469e-07]"
       ]
      },
      {
       "output_type": "stream",
       "stream": "stdout",
       "text": [
        "\n",
        "Results: 1.22277102911 Variance of coefficients: [1.3380451005751078e-07, 4.4966595848316674e-07]"
       ]
      },
      {
       "output_type": "stream",
       "stream": "stdout",
       "text": [
        "\n",
        "Results: 1.22016373728 Variance of coefficients: [1.7109314152483863e-07, 4.4957603667224701e-07]"
       ]
      },
      {
       "output_type": "stream",
       "stream": "stdout",
       "text": [
        "\n",
        "Results: 1.21730447931 Variance of coefficients: [2.1369514392724268e-07, 4.4965718568033752e-07]"
       ]
      },
      {
       "output_type": "stream",
       "stream": "stdout",
       "text": [
        "\n",
        "Results: 1.21425422169 Variance of coefficients: [2.6512818102770349e-07, 4.4952613127182227e-07]"
       ]
      },
      {
       "output_type": "stream",
       "stream": "stdout",
       "text": [
        "\n",
        "Results: 1.21171172986 Variance of coefficients: [3.0685566347350606e-07, 4.5105096298223899e-07]"
       ]
      },
      {
       "output_type": "stream",
       "stream": "stdout",
       "text": [
        "\n",
        "Results: 1.20860668222 Variance of coefficients: [3.3728839070107361e-07, 4.5530205338035765e-07]"
       ]
      },
      {
       "output_type": "stream",
       "stream": "stdout",
       "text": [
        "\n",
        "Results: 1.20460116454 Variance of coefficients: [3.5155049529281997e-07, 4.6005923074678016e-07]"
       ]
      },
      {
       "output_type": "stream",
       "stream": "stdout",
       "text": [
        "\n",
        "Results: 1.20116917891 Variance of coefficients: [3.5906305164036553e-07, 4.6067065873514499e-07]"
       ]
      },
      {
       "output_type": "stream",
       "stream": "stdout",
       "text": [
        "\n",
        "Results: 1.19740693456 Variance of coefficients: [3.6231059310190574e-07, 4.6069239519703737e-07]"
       ]
      },
      {
       "output_type": "stream",
       "stream": "stdout",
       "text": [
        "\n",
        "Results: 1.19536709963 Variance of coefficients: [3.6220365617191352e-07, 4.610293732545172e-07]"
       ]
      },
      {
       "output_type": "stream",
       "stream": "stdout",
       "text": [
        "\n",
        "Results: 1.19231641676 Variance of coefficients: [3.6536013280245745e-07, 4.6130254672307153e-07]"
       ]
      },
      {
       "output_type": "stream",
       "stream": "stdout",
       "text": [
        "\n",
        "Results: 1.18847026471 Variance of coefficients: [3.703251508308553e-07, 4.6230544293895328e-07]"
       ]
      },
      {
       "output_type": "stream",
       "stream": "stdout",
       "text": [
        "\n",
        "Results: 1.1867086321 Variance of coefficients: [3.7632692322656225e-07, 4.6372196112217147e-07]"
       ]
      },
      {
       "output_type": "stream",
       "stream": "stdout",
       "text": [
        "\n",
        "Results: 1.18375986372 Variance of coefficients: [3.8834435519974505e-07, 4.6414605466023769e-07]"
       ]
      },
      {
       "output_type": "stream",
       "stream": "stdout",
       "text": [
        "\n",
        "Results: 1.17408115118 Variance of coefficients: [4.0448490172073962e-07, 5.0119028986503525e-07]"
       ]
      },
      {
       "output_type": "stream",
       "stream": "stdout",
       "text": [
        "\n",
        "Results: 1.17096337088 Variance of coefficients: [4.178717081695325e-07, 5.4829130323305858e-07]"
       ]
      },
      {
       "output_type": "stream",
       "stream": "stdout",
       "text": [
        "\n",
        "Results: 1.16644168828 Variance of coefficients: [4.3558983691782668e-07, 6.10350333834585e-07]"
       ]
      },
      {
       "output_type": "stream",
       "stream": "stdout",
       "text": [
        "\n",
        "Results: 1.1642823796 Variance of coefficients: [4.5512451912406332e-07, 6.722114350267785e-07]"
       ]
      },
      {
       "output_type": "stream",
       "stream": "stdout",
       "text": [
        "\n",
        "Results: 1.16226446657 Variance of coefficients: [4.8327589220696848e-07, 7.5689219605997572e-07]"
       ]
      },
      {
       "output_type": "stream",
       "stream": "stdout",
       "text": [
        "\n",
        "Results: 1.16009925868 Variance of coefficients: [5.2887645641974418e-07, 8.4498507430837211e-07]"
       ]
      },
      {
       "output_type": "stream",
       "stream": "stdout",
       "text": [
        "\n",
        "Results: 1.15510628958 Variance of coefficients: [5.7995121886866355e-07, 9.0724389875544843e-07]"
       ]
      },
      {
       "output_type": "stream",
       "stream": "stdout",
       "text": [
        "\n",
        "Results: 1.1515682342 Variance of coefficients: [6.2313803714754862e-07, 9.435886234405741e-07]"
       ]
      },
      {
       "output_type": "stream",
       "stream": "stdout",
       "text": [
        "\n",
        "Results: 1.14917724029 Variance of coefficients: [6.6591616930550175e-07, 9.5755228307485968e-07]"
       ]
      },
      {
       "output_type": "stream",
       "stream": "stdout",
       "text": [
        "\n",
        "Results: 1.14518148923 Variance of coefficients: [7.0827991054304524e-07, 9.6416833231473428e-07]"
       ]
      },
      {
       "output_type": "stream",
       "stream": "stdout",
       "text": [
        "\n",
        "Results: 1.14299706693 Variance of coefficients: [7.5321353971058084e-07, 9.6805731478574508e-07]"
       ]
      },
      {
       "output_type": "stream",
       "stream": "stdout",
       "text": [
        "\n",
        "Results: 1.14019784836 Variance of coefficients: [7.9921807965424375e-07, 9.6799554024561182e-07]"
       ]
      },
      {
       "output_type": "stream",
       "stream": "stdout",
       "text": [
        "\n",
        "Results: 1.1303212185 Variance of coefficients: [8.5371381402041487e-07, 9.7406838819339606e-07]"
       ]
      },
      {
       "output_type": "stream",
       "stream": "stdout",
       "text": [
        "\n",
        "Results: 1.12734615488 Variance of coefficients: [9.0339010761248678e-07, 9.7832982820711778e-07]"
       ]
      },
      {
       "output_type": "stream",
       "stream": "stdout",
       "text": [
        "\n",
        "Results: 1.12296520407 Variance of coefficients: [9.5415912849069813e-07, 9.7785359042415512e-07]"
       ]
      },
      {
       "output_type": "stream",
       "stream": "stdout",
       "text": [
        "\n",
        "Results: 1.12029772834 Variance of coefficients: [9.9099421187580241e-07, 9.7964291580323546e-07]"
       ]
      },
      {
       "output_type": "stream",
       "stream": "stdout",
       "text": [
        "\n",
        "Results: 1.11806891348 Variance of coefficients: [1.0302228600859184e-06, 9.8747867581971498e-07]"
       ]
      },
      {
       "output_type": "stream",
       "stream": "stdout",
       "text": [
        "\n",
        "Results: 1.11547672757 Variance of coefficients: [1.071903680771472e-06, 1.0051724864034878e-06]"
       ]
      },
      {
       "output_type": "stream",
       "stream": "stdout",
       "text": [
        "\n",
        "Results: 1.10994410165 Variance of coefficients: [1.1036159249488646e-06, 1.0118654295807782e-06]"
       ]
      },
      {
       "output_type": "stream",
       "stream": "stdout",
       "text": [
        "\n",
        "Results: 1.08905558937 Variance of coefficients: [1.1286064457830837e-06, 1.3129456268270689e-06]"
       ]
      },
      {
       "output_type": "stream",
       "stream": "stdout",
       "text": [
        "\n",
        "Results: 1.0724852128 Variance of coefficients: [1.1559392645188584e-06, 1.3221557536622128e-06]"
       ]
      },
      {
       "output_type": "stream",
       "stream": "stdout",
       "text": [
        "\n",
        "Results: 1.06818506178 Variance of coefficients: [1.1733887022300005e-06, 1.3230689336452771e-06]"
       ]
      },
      {
       "output_type": "stream",
       "stream": "stdout",
       "text": [
        "\n",
        "Results: 1.06354493144 Variance of coefficients: [1.183905535727079e-06, 1.3225506439587922e-06]"
       ]
      },
      {
       "output_type": "stream",
       "stream": "stdout",
       "text": [
        "\n",
        "Results: 1.06053928574 Variance of coefficients: [1.1887185087105789e-06, 1.3220402304355058e-06]"
       ]
      },
      {
       "output_type": "stream",
       "stream": "stdout",
       "text": [
        "\n",
        "Results: 1.05677302729 Variance of coefficients: [1.1916435623091435e-06, 1.3250161289249988e-06]"
       ]
      },
      {
       "output_type": "stream",
       "stream": "stdout",
       "text": [
        "\n",
        "Results: 1.04662020408 Variance of coefficients: [1.1937863553953125e-06, 1.3245784783806374e-06]"
       ]
      },
      {
       "output_type": "stream",
       "stream": "stdout",
       "text": [
        "\n",
        "Results: 1.0426091777 Variance of coefficients: [1.1936421532470615e-06, 1.3265818041031015e-06]"
       ]
      },
      {
       "output_type": "stream",
       "stream": "stdout",
       "text": [
        "\n",
        "Results: 1.03746009332 Variance of coefficients: [1.1938895719518536e-06, 1.3359136638902538e-06]"
       ]
      },
      {
       "output_type": "stream",
       "stream": "stdout",
       "text": [
        "\n",
        "Results: 1.034003307 Variance of coefficients: [1.2009201044415054e-06, 1.3452431648585059e-06]"
       ]
      },
      {
       "output_type": "stream",
       "stream": "stdout",
       "text": [
        "\n",
        "Results: 1.03086740541 Variance of coefficients: [1.2061988626622011e-06, 1.371701637207237e-06]"
       ]
      },
      {
       "output_type": "stream",
       "stream": "stdout",
       "text": [
        "\n",
        "Results: 1.02736793517 Variance of coefficients: [1.2125319768347156e-06, 1.4148572754750109e-06]"
       ]
      },
      {
       "output_type": "stream",
       "stream": "stdout",
       "text": [
        "\n",
        "Results: 1.02158948747 Variance of coefficients: [1.2213193328947492e-06, 1.4551596796645255e-06]"
       ]
      },
      {
       "output_type": "stream",
       "stream": "stdout",
       "text": [
        "\n",
        "Results: 1.0184800097 Variance of coefficients: [1.2293800927373492e-06, 1.5055729407285052e-06]"
       ]
      },
      {
       "output_type": "stream",
       "stream": "stdout",
       "text": [
        "\n",
        "Results: 1.01456209837 Variance of coefficients: [1.2339656165944191e-06, 1.5373930481200655e-06]"
       ]
      },
      {
       "output_type": "stream",
       "stream": "stdout",
       "text": [
        "\n",
        "Results: 1.01154760895 Variance of coefficients: [1.2360468159367335e-06, 1.5797410571442532e-06]"
       ]
      },
      {
       "output_type": "stream",
       "stream": "stdout",
       "text": [
        "\n",
        "Results: 1.00221273954 Variance of coefficients: [1.2377865388936923e-06, 1.5814984362014525e-06]"
       ]
      },
      {
       "output_type": "stream",
       "stream": "stdout",
       "text": [
        "\n",
        "Results: 0.998267560462 Variance of coefficients: [1.242812433275271e-06, 1.5816827905682262e-06]"
       ]
      },
      {
       "output_type": "stream",
       "stream": "stdout",
       "text": [
        "\n",
        "Results: 0.994366089451 Variance of coefficients: [1.2468349975872376e-06, 1.5842758685897991e-06]"
       ]
      },
      {
       "output_type": "stream",
       "stream": "stdout",
       "text": [
        "\n",
        "Results: 0.990568175287 Variance of coefficients: [1.2517927065899545e-06, 1.5842811181159321e-06]"
       ]
      },
      {
       "output_type": "stream",
       "stream": "stdout",
       "text": [
        "\n",
        "Results: 0.986366185534 Variance of coefficients: [1.2544921087627777e-06, 1.5843364823708264e-06]"
       ]
      },
      {
       "output_type": "stream",
       "stream": "stdout",
       "text": [
        "\n",
        "Results: 0.982308713701 Variance of coefficients: [1.2551663211830588e-06, 1.5858237818304683e-06]"
       ]
      },
      {
       "output_type": "stream",
       "stream": "stdout",
       "text": [
        "\n",
        "Results: 0.981199693664 Variance of coefficients: [1.2553337463005365e-06, 1.5900931165209232e-06]"
       ]
      },
      {
       "output_type": "stream",
       "stream": "stdout",
       "text": [
        "\n",
        "Results: 0.978078134816 Variance of coefficients: [1.2552521265023891e-06, 1.5900274967053815e-06]"
       ]
      },
      {
       "output_type": "stream",
       "stream": "stdout",
       "text": [
        "\n",
        "Results: 0.97287307383 Variance of coefficients: [1.2552386195997661e-06, 1.6111828141503215e-06]"
       ]
      },
      {
       "output_type": "stream",
       "stream": "stdout",
       "text": [
        "\n",
        "Results: 0.970498512514 Variance of coefficients: [1.255223024532556e-06, 1.6441094884749845e-06]"
       ]
      },
      {
       "output_type": "stream",
       "stream": "stdout",
       "text": [
        "\n",
        "Results: 0.968034752113 Variance of coefficients: [1.2553984170152923e-06, 1.6874472845856764e-06]"
       ]
      },
      {
       "output_type": "stream",
       "stream": "stdout",
       "text": [
        "\n",
        "Results: 0.965531909729 Variance of coefficients: [1.2570090226849916e-06, 1.7475543005495434e-06]"
       ]
      },
      {
       "output_type": "stream",
       "stream": "stdout",
       "text": [
        "\n",
        "Results: 0.962262606881 Variance of coefficients: [1.2569982091639497e-06, 1.8376424540901659e-06]"
       ]
      },
      {
       "output_type": "stream",
       "stream": "stdout",
       "text": [
        "\n",
        "Results: 0.959656264544 Variance of coefficients: [1.2569544439421016e-06, 1.9315803694812368e-06]"
       ]
      },
      {
       "output_type": "stream",
       "stream": "stdout",
       "text": [
        "\n",
        "Results: 0.949966679113 Variance of coefficients: [1.2568730324660193e-06, 2.1007633007292417e-06]"
       ]
      },
      {
       "output_type": "stream",
       "stream": "stdout",
       "text": [
        "\n",
        "Results: 0.947173145578 Variance of coefficients: [1.2574790281523952e-06, 2.1497556614129584e-06]"
       ]
      },
      {
       "output_type": "stream",
       "stream": "stdout",
       "text": [
        "\n",
        "Results: 0.94303229538 Variance of coefficients: [1.2574345487630793e-06, 2.2310396454073979e-06]"
       ]
      },
      {
       "output_type": "stream",
       "stream": "stdout",
       "text": [
        "\n",
        "Results: 0.941128516277 Variance of coefficients: [1.2574133119198769e-06, 2.3033197238066876e-06]"
       ]
      },
      {
       "output_type": "stream",
       "stream": "stdout",
       "text": [
        "\n",
        "Results: 0.939530198716 Variance of coefficients: [1.2577431875163793e-06, 2.3626041270384886e-06]"
       ]
      },
      {
       "output_type": "stream",
       "stream": "stdout",
       "text": [
        "\n",
        "Results: 0.938010011991 Variance of coefficients: [1.2593932818138318e-06, 2.4201438456879678e-06]"
       ]
      },
      {
       "output_type": "stream",
       "stream": "stdout",
       "text": [
        "\n",
        "Results: 0.935556768148 Variance of coefficients: [1.262388046872621e-06, 2.5149225927387877e-06]"
       ]
      },
      {
       "output_type": "stream",
       "stream": "stdout",
       "text": [
        "\n",
        "Results: 0.934456936858 Variance of coefficients: [1.2628353130367029e-06, 2.6177745073141291e-06]"
       ]
      },
      {
       "output_type": "stream",
       "stream": "stdout",
       "text": [
        "\n",
        "Results: 0.925754378644 Variance of coefficients: [1.2642609441339219e-06, 2.7522592617291533e-06]"
       ]
      },
      {
       "output_type": "stream",
       "stream": "stdout",
       "text": [
        "\n",
        "Results: 0.92243351013 Variance of coefficients: [1.2644365623843323e-06, 2.7969195236586457e-06]"
       ]
      },
      {
       "output_type": "stream",
       "stream": "stdout",
       "text": [
        "\n",
        "Results: 0.92037749749 Variance of coefficients: [1.2663748582637647e-06, 2.8486694442909012e-06]"
       ]
      },
      {
       "output_type": "stream",
       "stream": "stdout",
       "text": [
        "\n",
        "Results: 0.918374201251 Variance of coefficients: [1.2702459768232009e-06, 2.9158592863444386e-06]"
       ]
      },
      {
       "output_type": "stream",
       "stream": "stdout",
       "text": [
        "\n",
        "Results: 0.915791654059 Variance of coefficients: [1.271315867642829e-06, 2.9939582263337656e-06]"
       ]
      },
      {
       "output_type": "stream",
       "stream": "stdout",
       "text": [
        "\n",
        "Results: 0.913505304066 Variance of coefficients: [1.271607884090644e-06, 3.0810972733461017e-06]"
       ]
      },
      {
       "output_type": "stream",
       "stream": "stdout",
       "text": [
        "\n",
        "Results: 0.909779578699 Variance of coefficients: [1.272046269823807e-06, 3.1963207380150673e-06]"
       ]
      },
      {
       "output_type": "stream",
       "stream": "stdout",
       "text": [
        "\n",
        "Results: 0.906066933228 Variance of coefficients: [1.2724903147148811e-06, 3.333119005361308e-06]"
       ]
      },
      {
       "output_type": "stream",
       "stream": "stdout",
       "text": [
        "\n",
        "Results: 0.90516466854 Variance of coefficients: [1.2724690016660451e-06, 3.4767506995372166e-06]"
       ]
      },
      {
       "output_type": "stream",
       "stream": "stdout",
       "text": [
        "\n",
        "Results: 0.902003532385 Variance of coefficients: [1.2723829548962277e-06, 3.6805900532935187e-06]"
       ]
      },
      {
       "output_type": "stream",
       "stream": "stdout",
       "text": [
        "\n",
        "Results: 0.878509682009 Variance of coefficients: [1.2725485829892364e-06, 3.754225198647542e-06]"
       ]
      },
      {
       "output_type": "stream",
       "stream": "stdout",
       "text": [
        "\n",
        "Results: 0.877368814607 Variance of coefficients: [1.272521899163711e-06, 3.815673836300945e-06]"
       ]
      },
      {
       "output_type": "stream",
       "stream": "stdout",
       "text": [
        "\n",
        "Results: 0.87617350679 Variance of coefficients: [1.2726059702723022e-06, 3.8618220678151351e-06]"
       ]
      },
      {
       "output_type": "stream",
       "stream": "stdout",
       "text": [
        "\n",
        "Results: 0.870171328115 Variance of coefficients: [1.2730572904903457e-06, 3.8751396583876718e-06]"
       ]
      },
      {
       "output_type": "stream",
       "stream": "stdout",
       "text": [
        "\n",
        "Results: 0.862927944882 Variance of coefficients: [1.2729894453093412e-06, 3.8737831659681458e-06]"
       ]
      },
      {
       "output_type": "stream",
       "stream": "stdout",
       "text": [
        "\n",
        "Results: 0.859888118381 Variance of coefficients: [1.2728947317286194e-06, 3.8773647445019919e-06]"
       ]
      },
      {
       "output_type": "stream",
       "stream": "stdout",
       "text": [
        "\n",
        "Results: 0.857339500612 Variance of coefficients: [1.2734461535225079e-06, 3.8917275090414039e-06]"
       ]
      },
      {
       "output_type": "stream",
       "stream": "stdout",
       "text": [
        "\n",
        "Results: 0.852055009257 Variance of coefficients: [1.2733441048648582e-06, 3.9268344009304798e-06]"
       ]
      },
      {
       "output_type": "stream",
       "stream": "stdout",
       "text": [
        "\n",
        "Results: 0.844316854727 Variance of coefficients: [1.2751910447957834e-06, 3.9869601405336129e-06]"
       ]
      },
      {
       "output_type": "stream",
       "stream": "stdout",
       "text": [
        "\n",
        "Results: 0.832076742053 Variance of coefficients: [1.2776870159510612e-06, 4.1222851858649039e-06]"
       ]
      },
      {
       "output_type": "stream",
       "stream": "stdout",
       "text": [
        "\n",
        "Results: 0.829714558736 Variance of coefficients: [1.2785718356496221e-06, 4.1190873223004769e-06]"
       ]
      },
      {
       "output_type": "stream",
       "stream": "stdout",
       "text": [
        "\n",
        "Results: 0.824123418115 Variance of coefficients: [1.2785403749121592e-06, 4.117473630620612e-06]"
       ]
      },
      {
       "output_type": "stream",
       "stream": "stdout",
       "text": [
        "\n",
        "Results: 0.822483212243 Variance of coefficients: [1.2785437849118345e-06, 4.1146810493821677e-06]"
       ]
      },
      {
       "output_type": "stream",
       "stream": "stdout",
       "text": [
        "\n",
        "Results: 0.813718343678 Variance of coefficients: [1.2784475181029881e-06, 4.1212537107622888e-06]"
       ]
      },
      {
       "output_type": "stream",
       "stream": "stdout",
       "text": [
        "\n",
        "Results: 0.806612801539 Variance of coefficients: [1.2784435368284032e-06, 4.119271011917643e-06]"
       ]
      },
      {
       "output_type": "stream",
       "stream": "stdout",
       "text": [
        "\n",
        "Results: 0.7894209498 Variance of coefficients: [1.2783720250048302e-06, 4.8840878581838394e-06]"
       ]
      },
      {
       "output_type": "stream",
       "stream": "stdout",
       "text": [
        "\n",
        "Results: 0.787024748762 Variance of coefficients: [1.2784617961045538e-06, 5.647372826931742e-06]"
       ]
      },
      {
       "output_type": "stream",
       "stream": "stdout",
       "text": [
        "\n",
        "Results: 0.770449549137 Variance of coefficients: [1.2785781883559908e-06, 7.8057254881056892e-06]"
       ]
      },
      {
       "output_type": "stream",
       "stream": "stdout",
       "text": [
        "\n",
        "Results: 0.765754538732 Variance of coefficients: [1.2787319928054736e-06, 9.9328547466282115e-06]"
       ]
      },
      {
       "output_type": "stream",
       "stream": "stdout",
       "text": [
        "\n",
        "Results: 0.752398113123 Variance of coefficients: [1.2804665113166838e-06, 1.0987424086494207e-05]"
       ]
      },
      {
       "output_type": "stream",
       "stream": "stdout",
       "text": [
        "\n",
        "Results: 0.749523054514 Variance of coefficients: [1.2804263589222494e-06, 1.1910994527439095e-05]"
       ]
      },
      {
       "output_type": "stream",
       "stream": "stdout",
       "text": [
        "\n",
        "Results: 0.73854924356 Variance of coefficients: [1.281397220408736e-06, 1.3388398381200812e-05]"
       ]
      },
      {
       "output_type": "stream",
       "stream": "stdout",
       "text": [
        "\n",
        "Results: 0.69537912909 Variance of coefficients: [1.2813186205804762e-06, 1.4224179842284349e-05]"
       ]
      },
      {
       "output_type": "stream",
       "stream": "stdout",
       "text": [
        "\n",
        "Results: 0.688894755986 Variance of coefficients: [1.2814718167146565e-06, 1.4213134248365973e-05]"
       ]
      },
      {
       "output_type": "stream",
       "stream": "stdout",
       "text": [
        "\n",
        "Results: 0.671583123361 Variance of coefficients: [1.2825253039298601e-06, 1.4650138226282896e-05]"
       ]
      },
      {
       "output_type": "stream",
       "stream": "stdout",
       "text": [
        "\n",
        "Results: 0.663988469412 Variance of coefficients: [1.2824175818409704e-06, 1.513189666735552e-05]"
       ]
      },
      {
       "output_type": "stream",
       "stream": "stdout",
       "text": [
        "\n",
        "Results: 0.649726173083 Variance of coefficients: [1.2828861038058275e-06, 1.6196406818110302e-05]"
       ]
      },
      {
       "output_type": "stream",
       "stream": "stdout",
       "text": [
        "\n",
        "Results: 0.634660639784 Variance of coefficients: [1.2844678060338278e-06, 1.6683782866026325e-05]"
       ]
      },
      {
       "output_type": "stream",
       "stream": "stdout",
       "text": [
        "\n",
        "Results: 0.620448965895 Variance of coefficients: [1.2888513882931978e-06, 1.7699654002863666e-05]"
       ]
      },
      {
       "output_type": "stream",
       "stream": "stdout",
       "text": [
        "\n",
        "Results: 0.605083947397 Variance of coefficients: [1.2913797291924682e-06, 1.8338465622347072e-05]"
       ]
      },
      {
       "output_type": "stream",
       "stream": "stdout",
       "text": [
        "\n",
        "Results: 0.589439582448 Variance of coefficients: [1.2928943102521903e-06, 1.9900838903878401e-05]"
       ]
      },
      {
       "output_type": "stream",
       "stream": "stdout",
       "text": [
        "\n",
        "Results: 0.574393764369 Variance of coefficients: [1.2939003606245852e-06, 2.0678228885528302e-05]"
       ]
      },
      {
       "output_type": "stream",
       "stream": "stdout",
       "text": [
        "\n",
        "Results: 0.566129475907 Variance of coefficients: [1.2952986373670072e-06, 2.1411829434829032e-05]"
       ]
      },
      {
       "output_type": "stream",
       "stream": "stdout",
       "text": [
        "\n",
        "Results: 0.562213242555 Variance of coefficients: [1.2954685565091559e-06, 2.2149962810682368e-05]"
       ]
      },
      {
       "output_type": "stream",
       "stream": "stdout",
       "text": [
        "\n",
        "Results: 0.557496377294 Variance of coefficients: [1.2995697188914535e-06, 2.2908869607370225e-05]"
       ]
      },
      {
       "output_type": "stream",
       "stream": "stdout",
       "text": [
        "\n",
        "Results: 0.554385187397 Variance of coefficients: [1.3069399883203446e-06, 2.3634247291312076e-05]"
       ]
      },
      {
       "output_type": "stream",
       "stream": "stdout",
       "text": [
        "\n",
        "Results: 0.551051176343 Variance of coefficients: [1.3221352503561305e-06, 2.4327828390511463e-05]"
       ]
      },
      {
       "output_type": "stream",
       "stream": "stdout",
       "text": [
        "\n",
        "Results: 0.547868226527 Variance of coefficients: [1.353906990737562e-06, 2.5008526892037787e-05]"
       ]
      },
      {
       "output_type": "stream",
       "stream": "stdout",
       "text": [
        "\n",
        "Results: 0.546674040738 Variance of coefficients: [1.3753966168727218e-06, 2.563132287417994e-05]"
       ]
      },
      {
       "output_type": "stream",
       "stream": "stdout",
       "text": [
        "\n",
        "Results: 0.5433171162 Variance of coefficients: [1.396444141794064e-06, 2.6377412601206272e-05]"
       ]
      },
      {
       "output_type": "stream",
       "stream": "stdout",
       "text": [
        "\n",
        "Results: 0.539129924443 Variance of coefficients: [1.422828896720018e-06, 2.7186622479910553e-05]"
       ]
      },
      {
       "output_type": "stream",
       "stream": "stdout",
       "text": [
        "\n",
        "Results: 0.53578179094 Variance of coefficients: [1.450187322839123e-06, 2.8005113557383285e-05]"
       ]
      },
      {
       "output_type": "stream",
       "stream": "stdout",
       "text": [
        "\n",
        "Results: 0.531968760017 Variance of coefficients: [1.4737497718999526e-06, 2.8802307323498741e-05]"
       ]
      },
      {
       "output_type": "stream",
       "stream": "stdout",
       "text": [
        "\n",
        "Results: 0.527378440298 Variance of coefficients: [1.4985214649135766e-06, 2.9767544260287952e-05]"
       ]
      },
      {
       "output_type": "stream",
       "stream": "stdout",
       "text": [
        "\n",
        "Results: 0.524768499949 Variance of coefficients: [1.5248064736496047e-06, 3.081633515824498e-05]"
       ]
      },
      {
       "output_type": "stream",
       "stream": "stdout",
       "text": [
        "\n",
        "Results: 0.522550892512 Variance of coefficients: [1.5576312309607373e-06, 3.1835243674489572e-05]"
       ]
      },
      {
       "output_type": "stream",
       "stream": "stdout",
       "text": [
        "\n",
        "Results: 0.52065438328 Variance of coefficients: [1.599046730393447e-06, 3.2810252301199131e-05]"
       ]
      },
      {
       "output_type": "stream",
       "stream": "stdout",
       "text": [
        "\n",
        "Results: 0.5182902454 Variance of coefficients: [1.63044902675779e-06, 3.3817442971475715e-05]"
       ]
      },
      {
       "output_type": "stream",
       "stream": "stdout",
       "text": [
        "\n",
        "Results: 0.515854838734 Variance of coefficients: [1.6582712181866294e-06, 3.4852305020668206e-05]"
       ]
      },
      {
       "output_type": "stream",
       "stream": "stdout",
       "text": [
        "\n",
        "Results: 0.511994393366 Variance of coefficients: [1.6879776230192893e-06, 3.5819092196356402e-05]"
       ]
      },
      {
       "output_type": "stream",
       "stream": "stdout",
       "text": [
        "\n",
        "Results: 0.494731000088 Variance of coefficients: [1.7070725540041571e-06, 3.8434692077383993e-05]"
       ]
      },
      {
       "output_type": "stream",
       "stream": "stdout",
       "text": [
        "\n",
        "Results: 0.490059276054 Variance of coefficients: [1.7196451230420248e-06, 3.8969113418705179e-05]"
       ]
      },
      {
       "output_type": "stream",
       "stream": "stdout",
       "text": [
        "\n",
        "Results: 0.478264208972 Variance of coefficients: [1.7345904190179338e-06, 3.9582650194578748e-05]"
       ]
      },
      {
       "output_type": "stream",
       "stream": "stdout",
       "text": [
        "\n",
        "Results: 0.474953918191 Variance of coefficients: [1.7478873520426935e-06, 4.0173682713797492e-05]"
       ]
      },
      {
       "output_type": "stream",
       "stream": "stdout",
       "text": [
        "\n",
        "Results: 0.471586178919 Variance of coefficients: [1.7630116635248855e-06, 4.0799380242347795e-05]"
       ]
      },
      {
       "output_type": "stream",
       "stream": "stdout",
       "text": [
        "\n",
        "Results: 0.468201880296 Variance of coefficients: [1.7722730693543317e-06, 4.1451381534447922e-05]"
       ]
      },
      {
       "output_type": "stream",
       "stream": "stdout",
       "text": [
        "\n",
        "Results: 0.466228857386 Variance of coefficients: [1.781910284326256e-06, 4.2091811177758123e-05]"
       ]
      },
      {
       "output_type": "stream",
       "stream": "stdout",
       "text": [
        "\n",
        "Results: 0.463205684627 Variance of coefficients: [1.7884069266628387e-06, 4.2768191403721277e-05]"
       ]
      },
      {
       "output_type": "stream",
       "stream": "stdout",
       "text": [
        "\n",
        "Results: 0.46033112534 Variance of coefficients: [1.7898635234897529e-06, 4.3451292791124707e-05]"
       ]
      },
      {
       "output_type": "stream",
       "stream": "stdout",
       "text": [
        "\n",
        "Results: 0.45883720523 Variance of coefficients: [1.7893093617900074e-06, 4.4074442915144724e-05]"
       ]
      },
      {
       "output_type": "stream",
       "stream": "stdout",
       "text": [
        "\n",
        "Results: 0.457045324435 Variance of coefficients: [1.7886615882218556e-06, 4.4668453433028538e-05]"
       ]
      },
      {
       "output_type": "stream",
       "stream": "stdout",
       "text": [
        "\n",
        "Results: 0.454946468794 Variance of coefficients: [1.7894980620921554e-06, 4.5261278770313832e-05]"
       ]
      },
      {
       "output_type": "stream",
       "stream": "stdout",
       "text": [
        "\n",
        "Results: 0.45212846435 Variance of coefficients: [1.7911291975710694e-06, 4.5860431219662223e-05]"
       ]
      },
      {
       "output_type": "stream",
       "stream": "stdout",
       "text": [
        "\n",
        "Results: 0.446592325092 Variance of coefficients: [1.7926358441883088e-06, 4.6502201175321217e-05]"
       ]
      },
      {
       "output_type": "stream",
       "stream": "stdout",
       "text": [
        "\n",
        "Results: 0.441547104708 Variance of coefficients: [1.7927187217970818e-06, 4.7208693615630961e-05]"
       ]
      },
      {
       "output_type": "stream",
       "stream": "stdout",
       "text": [
        "\n",
        "Results: 0.438221896425 Variance of coefficients: [1.7919628365852267e-06, 4.801435863369697e-05]"
       ]
      },
      {
       "output_type": "stream",
       "stream": "stdout",
       "text": [
        "\n"
       ]
      }
     ],
     "prompt_number": 15
    },
    {
     "cell_type": "markdown",
     "metadata": {},
     "source": [
      "####Save predictions to file"
     ]
    },
    {
     "cell_type": "code",
     "collapsed": false,
     "input": [
      "np.savetxt('Data/submission'+str(datetime.date.today())+'.csv', pred[200:510,:], delimiter=',', fmt='%f')  #predictions for file 201 to 510"
     ],
     "language": "python",
     "metadata": {},
     "outputs": [],
     "prompt_number": 16
    },
    {
     "cell_type": "code",
     "collapsed": false,
     "input": [],
     "language": "python",
     "metadata": {},
     "outputs": []
    }
   ],
   "metadata": {}
  }
 ]
}