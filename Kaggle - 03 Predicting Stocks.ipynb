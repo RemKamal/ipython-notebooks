{
 "metadata": {
  "name": ""
 },
 "nbformat": 3,
 "nbformat_minor": 0,
 "worksheets": [
  {
   "cells": [
    {
     "cell_type": "markdown",
     "metadata": {},
     "source": [
      "9/22/2013\n",
      "# Kaggle Competition - Predicting relative stock price\n",
      "\n",
      "Deadline: 10/1/2013\n",
      "State of the art error: 0.40458\n",
      "\n",
      "For this competition, you are asked to predict the percentage change in a financial instrument at a time 2 hours in the future.  The data represents features of various financial securities (198 in total) recorded at 5-minute intervals throughout a trading day.  To discourage cheating, you are not provided with the features' names or the specific dates.\n",
      "\n",
      "__data.zip__ - contains features for 510 days worth of trading, including 200 training days and 310 testing days  \n",
      "__trainLabels.csv__ - contains the targets for the 200 training days  \n",
      "__sampleSubmission.csv__ - shows the submission format\n",
      "\n",
      "Each variable named O1, O2, O3, etc. (the outputs) represents a percent change in the value of a security.  Each variable named I1, I2, I3, etc. (the inputs) represents a feature. The underlying securities and features represented by these anonymized names are the same across all files (e.g. O1 will always be the same stock).\n",
      "\n",
      "Within each trading day, you are provided the outputs as a relative percentage compared to the previous day's closing price.  The first line of each data file represents the previous close. For example, if a security closed at \\$1 the previous day and opened at \\$2 the next day, the first output would be 0, then 100.  All output values are computed relative to the previous day's close. The timestamps within each file are as follows (ignoring the header row):\n",
      "\n",
      "Line 1 = Outputs and inputs at previous day's close (4PM ET)  \n",
      "Line 2 = Outputs and inputs at current day's open (9:30AM ET)  \n",
      "Line 3 = Outputs and inputs at 9:35AM ET  \n",
      "...  \n",
      "Line 55 = Outputs and inputs at 1:55PM ET\n",
      "\n",
      "You are asked to predict the outputs 2 hours later, at 4PM ET.\n",
      "\n",
      "Evaluation is by the mean absolute error, $MAE = \\frac{1}{n} \\sum_{i = 1}^n |y_i - \\hat{y}_i |$\n",
      "\n",
      "---\n",
      "###Results\n",
      "- Last-observed benchmark is surprisingly good; achieves private score of 0.44 and public score of 0.42007\n",
      "- An increase in the private performance doesn't necessarily correspond to a better public score, for instance  \n",
      "    - Exponential filter with 0.5 discount rate gets a better private score than 0.9 discount rate, but a worse public score\n",
      "- Using a linear model (per stock) of last observed price and the direction (derivative) doesn't improve public score\n",
      "    - This could just be because I'm improperly optimizing the coefficients\n",
      "- My best result so far is $x_{i,t} = a_i x_{i,t-1} + b_i$ where $x_{i,t-1}$ is the last observed price and where $i$ is the $i^{\\rm th}$ stock\n",
      "\n",
      "\n",
      "###To-do\n",
      "- I'm using handwritten gradient descent, but could probably use scipy optimize for better results\n",
      "- Actually use features\n",
      "- Try random forests\n"
     ]
    },
    {
     "cell_type": "markdown",
     "metadata": {},
     "source": [
      "## Data Pre-Processing"
     ]
    },
    {
     "cell_type": "markdown",
     "metadata": {},
     "source": [
      "### Change directory and import modules"
     ]
    },
    {
     "cell_type": "code",
     "collapsed": false,
     "input": [
      "cd /home/lane/Kaggle/03\\ Predicting\\ Stock\\ Prices/"
     ],
     "language": "python",
     "metadata": {},
     "outputs": [
      {
       "output_type": "stream",
       "stream": "stdout",
       "text": [
        "/home/lane/Kaggle/03 Predicting Stock Prices\n"
       ]
      }
     ],
     "prompt_number": 1
    },
    {
     "cell_type": "code",
     "collapsed": false,
     "input": [
      "ls"
     ],
     "language": "python",
     "metadata": {},
     "outputs": [
      {
       "output_type": "stream",
       "stream": "stdout",
       "text": [
        "\u001b[0m\u001b[01;34mData\u001b[0m/           linearMAE.py       makeSubmission_temp.py  mh_test.py\r\n",
        "infoTheory.py   linearMAE.pyc      meanAbsoluteError.py    scraps.py\r\n",
        "infoTheory.pyc  makeSubmission.py  meanAbsoluteError.pyc\r\n"
       ]
      }
     ],
     "prompt_number": 2
    },
    {
     "cell_type": "code",
     "collapsed": false,
     "input": [
      "from sklearn.ensemble import RandomForestClassifier\n",
      "from sklearn import cross_validation\n",
      "from scipy import optimize\n",
      "import meanAbsoluteError as err\n",
      "import numpy as np\n",
      "import datetime\n",
      "import random"
     ],
     "language": "python",
     "metadata": {},
     "outputs": [],
     "prompt_number": 98
    },
    {
     "cell_type": "markdown",
     "metadata": {},
     "source": [
      "### Import and format data"
     ]
    },
    {
     "cell_type": "code",
     "collapsed": false,
     "input": [
      "#DATA PROCESSING\n",
      "#create the training & test sets, skipping the header row with [1:]\n",
      "trainingDays = range(1,511) #200 days of training data, 510 total days\n",
      "headers = np.genfromtxt(open('Data/data/1.csv','r'),delimiter=',',dtype='string')[0]\n",
      "numRows = (np.array(np.genfromtxt(open('Data/data/1.csv','r'),delimiter=',',dtype='f8')[1:])).shape[0]\n",
      "numCols = (np.array(np.genfromtxt(open('Data/data/1.csv','r'),delimiter=',',dtype='f8')[1:])).shape[1]\n",
      "isOutput = [headers[x][0] == 'O' for x in range(0,numCols)]\n",
      "isInput  = [headers[x][0] == 'I' for x in range(0,numCols)]\n",
      "trainOutput = np.zeros((len(trainingDays),numRows,sum(isOutput)))\n",
      "trainInput  = np.zeros((len(trainingDays),numRows,sum(isInput)))\n",
      "for i in trainingDays:\n",
      "    dataset = np.genfromtxt(open('Data/data/'+str(i)+'.csv','r'), delimiter=',', dtype='f8')[1:]\n",
      "    dataset = np.array(dataset)  # (5minIncrement,stock/feature)\n",
      "    for j in range(0,numCols):\n",
      "        if headers[j][0] == 'O':\n",
      "            trainOutput[i-1,:,j] = dataset[:,j]   # (day,5minIncrement,stock)\n",
      "        elif headers[j][0] == 'I':\n",
      "            trainInput[i-1,:,(j-sum(isOutput))] = dataset[:,j]    # (day,5minIncrement,feature)\n",
      "\n",
      "#target prices 2 hours later (only outputs, no inputs) \n",
      "target = np.array(np.genfromtxt(open('Data/trainLabels.csv','r'), delimiter=',', dtype='f8')[1:])\n",
      "target = target[:,1:]  # (day,price2HrsLater)"
     ],
     "language": "python",
     "metadata": {},
     "outputs": [],
     "prompt_number": 4
    },
    {
     "cell_type": "markdown",
     "metadata": {},
     "source": [
      "#Data Exploration"
     ]
    },
    {
     "cell_type": "markdown",
     "metadata": {},
     "source": [
      "## Linear Models\n",
      "\n",
      "---\n",
      "First with hand-built gradient method"
     ]
    },
    {
     "cell_type": "code",
     "collapsed": false,
     "input": [
      "# Initialize variables\n",
      "iterations   = 100\n",
      "learningRate = 0.01\n",
      "h            = (2e-15)**(1./3)\n",
      "coeff        = np.zeros((sum(isOutput),3))\n",
      "coeff[:,1]   = np.squeeze(np.ones((sum(isOutput),1)))\n",
      "error        = []\n",
      "gradient     = [0,0,0]\n",
      "pred0P = np.zeros((len(trainingDays),sum(isOutput)))\n",
      "pred0M = np.zeros((len(trainingDays),sum(isOutput)))\n",
      "pred1P = np.zeros((len(trainingDays),sum(isOutput)))\n",
      "pred1M = np.zeros((len(trainingDays),sum(isOutput)))\n",
      "pred2P = np.zeros((len(trainingDays),sum(isOutput)))\n",
      "pred2M = np.zeros((len(trainingDays),sum(isOutput)))\n",
      "pred   = np.zeros((len(trainingDays),sum(isOutput)))"
     ],
     "language": "python",
     "metadata": {},
     "outputs": []
    },
    {
     "cell_type": "markdown",
     "metadata": {},
     "source": [
      "#### The following model achives performance: 0.41947\n",
      "\n",
      "---\n",
      "Linear model on last-observed value and last derivative, with coefficients that vary by stock.  Coefficients are optimized by hand-created gradient using 100 iterations for each stock and day"
     ]
    },
    {
     "cell_type": "code",
     "collapsed": false,
     "input": [
      "# Run model\n",
      "for stock in range(0,sum(isOutput)):\n",
      "    for i in range(0,iterations):\n",
      "        for day in range(0,len(trainingDays)):\n",
      "            deriv = trainOutput[day,-1,stock] - trainOutput[day,-2,stock]\n",
      "            pred0P[day,stock] = (coeff[stock,1])*trainOutput[day,-1,stock] + (coeff[stock,2])*deriv + (coeff[stock,0] + h)\n",
      "            pred0M[day,stock] = (coeff[stock,1])*trainOutput[day,-1,stock] + (coeff[stock,2])*deriv + (coeff[stock,0] - h)\n",
      "            pred1P[day,stock] = (coeff[stock,1]+h)*trainOutput[day,-1,stock] +  (coeff[stock,2])*deriv + (coeff[stock,0])\n",
      "            pred1M[day,stock] = (coeff[stock,1]-h)*trainOutput[day,-1,stock] +  (coeff[stock,2])*deriv +(coeff[stock,0])\n",
      "            pred2P[day,stock] = (coeff[stock,1])*trainOutput[day,-1,stock] +  (coeff[stock,2]+h)*deriv + (coeff[stock,0])\n",
      "            pred2M[day,stock] = (coeff[stock,1])*trainOutput[day,-1,stock] +  (coeff[stock,2]-h)*deriv +(coeff[stock,0])\n",
      "            pred[day,stock]   = (coeff[stock,1])*trainOutput[day,-1,stock] + (coeff[stock,2])*deriv +(coeff[stock,0])\n",
      "\n",
      "        gradient[0] = (err.maeFun(target,pred0P[0:200,:]) - err.maeFun(target,pred0M[0:200,:]))/(2*h)\n",
      "        gradient[1] = (err.maeFun(target,pred1P[0:200,:]) - err.maeFun(target,pred1M[0:200,:]))/(2*h)\n",
      "        gradient[2] = (err.maeFun(target,pred2P[0:200,:]) - err.maeFun(target,pred2M[0:200,:]))/(2*h)\n",
      "        coeff[stock,:] = [coeff[stock,x] - learningRate*gradient[x] for x in range(0,len(gradient))]\n",
      "        #print \"Stock: \" + str(stock) + \" Error: \" + str(err.maeFun(target[:,stock],pred[0:200,stock])) + \" Coeff: \" + str(coeff[stock,:])\n",
      "\n",
      "    error.append(err.maeFun(target,pred[0:200,:])) #maeFun(actual,pred)\n",
      "    print \"Results: \" + str(error[-1]) + \" Variance of coefficients: \" + str([np.var(coeff[:,0]), np.var(coeff[:,1])])"
     ],
     "language": "python",
     "metadata": {},
     "outputs": []
    },
    {
     "cell_type": "code",
     "collapsed": false,
     "input": [
      "fig = plot(error)\n",
      "ax = pylab.axes()\n",
      "ax.set_title('Gradient Descent on Coefficients')\n",
      "ax.set_xlabel('Error')\n",
      "ax.set_ylabel('Stocks')"
     ],
     "language": "python",
     "metadata": {},
     "outputs": []
    },
    {
     "cell_type": "markdown",
     "metadata": {},
     "source": [
      "####Save predictions to file"
     ]
    },
    {
     "cell_type": "code",
     "collapsed": false,
     "input": [
      "np.savetxt('Data/submission'+str(datetime.date.today())+'.csv', pred[200:510,:], delimiter=',', fmt='%f')  #predictions for file 201 to 510"
     ],
     "language": "python",
     "metadata": {},
     "outputs": [],
     "prompt_number": 16
    },
    {
     "cell_type": "markdown",
     "metadata": {},
     "source": [
      "## Linear Model on all datapoints with scipy.optimize\n",
      "\n",
      "Define model and use scipy optimize to see if you get better results.\n",
      "\n"
     ]
    },
    {
     "cell_type": "markdown",
     "metadata": {},
     "source": [
      "9/27/13  \n",
      "Results: You improved on your best score by 0.00126.  You just moved up 49 positions on the leaderboard.  \n",
      "\n",
      "#### The following model achives state-of-the-art performance: 0.41820\n",
      "\n",
      "---\n",
      "Linear model on last-observed value and last derivative, with coefficients that vary by stock.  Coefficients are optimized by scipy optimize.minimize for each stock and day"
     ]
    },
    {
     "cell_type": "code",
     "collapsed": false,
     "input": [
      "def linearModel(coeff,trainOutput):\n",
      "    \n",
      "    # Set constants and initialize vars\n",
      "    numTrainingDays = trainOutput.shape[0]  #510\n",
      "    numTimes        = trainOutput.shape[1]  #55\n",
      "    numStocks       = trainOutput.shape[2]  #198\n",
      "    pred            = np.zeros((numTrainingDays,numStocks))\n",
      "    \n",
      "    # need coeff in format (numStocks, numTimes)\n",
      "    # scipy.optimize.minimize reshapes coeff as vector\n",
      "    coeffDim = 2  # could be numTimes\n",
      "    coeff    = coeff.reshape((numStocks,coeffDim))\n",
      "    \n",
      "    # Run model\n",
      "    for stock in xrange(numStocks):\n",
      "        for day in xrange(numTrainingDays):\n",
      "            deriv           = trainOutput[day,-1,stock] - trainOutput[day,-2,stock]\n",
      "            pred[day,stock] = coeff[stock,0]*trainOutput[day,-1,stock] + coeff[stock,1]*deriv\n",
      "            #pred[day,stock] = np.dot(coeff[stock,-timesUsed:-1],trainOutput[day,-timesUsed:-1,stock])\n",
      "    \n",
      "    return pred"
     ],
     "language": "python",
     "metadata": {},
     "outputs": [],
     "prompt_number": 54
    },
    {
     "cell_type": "code",
     "collapsed": false,
     "input": [
      "def errorLinear(coeff, trainOutput, target):\n",
      "    # function of coeff, trainOutput, & target\n",
      "    \n",
      "    pred = linearModel(coeff,trainOutput)\n",
      "    \n",
      "    return err.maeFun(target,pred[0:200,:]) #maeFun(actual,pred)\n",
      "    "
     ],
     "language": "python",
     "metadata": {},
     "outputs": [],
     "prompt_number": 55
    },
    {
     "cell_type": "markdown",
     "metadata": {},
     "source": [
      "Optimize using scipy.optimize"
     ]
    },
    {
     "cell_type": "code",
     "collapsed": false,
     "input": [
      "# intial parameters\n",
      "coeffDim    = 2\n",
      "coeff       = np.zeros((trainOutput.shape[2],coeffDim)) # (numStocks, timesUsed), where timesUsed could = trainOutput.shape[1]\n",
      "coeff[:,0]  = np.squeeze(np.ones((trainOutput.shape[2],1)))\n",
      "res         = optimize.minimize(errorLinear, x0=coeff, args=[trainOutput,target], method='nelder-mead', options={'xtol': 1e-8, 'disp': True})  #'maxiter' : 500"
     ],
     "language": "python",
     "metadata": {},
     "outputs": [],
     "prompt_number": "*"
    },
    {
     "cell_type": "markdown",
     "metadata": {},
     "source": [
      "Reformat coefficient shape to (numStocks,numDim)"
     ]
    },
    {
     "cell_type": "code",
     "collapsed": false,
     "input": [
      "opt_coeff = res.x\n",
      "opt_coeff = opt_coeff.reshape((trainOutput.shape[2],coeffDim))"
     ],
     "language": "python",
     "metadata": {},
     "outputs": [],
     "prompt_number": 58
    },
    {
     "cell_type": "markdown",
     "metadata": {},
     "source": [
      "Visualize optimal coefficients"
     ]
    },
    {
     "cell_type": "code",
     "collapsed": false,
     "input": [
      "y = opt_coeff[:,0]\n",
      "z = opt_coeff[:,1]\n",
      "\n",
      "fig, axes = subplots(ncols=2)\n",
      "fig.set_size_inches(16,4)\n",
      "subplot(121)\n",
      "plot(y)\n",
      "subplot(122)\n",
      "plot(z)"
     ],
     "language": "python",
     "metadata": {},
     "outputs": [
      {
       "metadata": {},
       "output_type": "pyout",
       "prompt_number": 89,
       "text": [
        "[<matplotlib.lines.Line2D at 0x52a3d10>]"
       ]
      },
      {
       "metadata": {},
       "output_type": "display_data",
       "png": "[encoded data removed]",
       "text": [
        "<matplotlib.figure.Figure at 0x4e7a650>"
       ]
      }
     ],
     "prompt_number": 89
    },
    {
     "cell_type": "markdown",
     "metadata": {},
     "source": [
      "#### Save prediction to file"
     ]
    },
    {
     "cell_type": "code",
     "collapsed": false,
     "input": [
      "pred = linearModel(opt_coeff,trainOutput)\n",
      "np.savetxt('Data/submission'+str(datetime.date.today())+'.csv', pred[200:510,:], delimiter=',', fmt='%f')  #predictions for file 201 to 510"
     ],
     "language": "python",
     "metadata": {},
     "outputs": [],
     "prompt_number": 78
    },
    {
     "cell_type": "markdown",
     "metadata": {},
     "source": [
      "## Affine Model: Previous linear model + constant  \n",
      "$$y = a_0 x_{i-1} + a_1 (x_{i-1} - x_{i-2}) + a_2$$\n",
      "\n",
      "---\n",
      "- First try just two coefficients, one for positive and one for negative trends  \n",
      "- Then try stock-specific coefficients"
     ]
    },
    {
     "cell_type": "markdown",
     "metadata": {},
     "source": [
      "### This model did not improve score over previous model.  Score = 0.41923\n",
      "Note that this is still better than per-stock with hand drawn gradient"
     ]
    },
    {
     "cell_type": "code",
     "collapsed": false,
     "input": [
      "def affineModel(coeff,trainOutput):\n",
      "    \n",
      "    # Set constants and initialize vars\n",
      "    numTrainingDays = trainOutput.shape[0]  #510\n",
      "    numTimes        = trainOutput.shape[1]  #55\n",
      "    numStocks       = trainOutput.shape[2]  #198\n",
      "    pred            = np.zeros((numTrainingDays,numStocks))\n",
      "    \n",
      "    # need coeff in format (numStocks, numTimes)\n",
      "    # scipy.optimize.minimize reshapes coeff as vector\n",
      "    coeffDim = 3  # could be numTimes\n",
      "    coeff    = coeff.reshape((2,coeffDim))\n",
      "    \n",
      "    # Run model\n",
      "    for stock in xrange(numStocks):\n",
      "        for day in xrange(numTrainingDays):\n",
      "            deriv = trainOutput[day,-1,stock] - trainOutput[day,-2,stock]\n",
      "            if trainOutput[day,-1,stock] >= 0:\n",
      "                pred[day,stock] = coeff[0,0]*trainOutput[day,-1,stock] + coeff[0,1]*deriv + coeff[0,2]\n",
      "            elif trainOutput[day,-1,stock] < 0:\n",
      "                pred[day,stock] = coeff[1,0]*trainOutput[day,-1,stock] + coeff[1,1]*deriv + coeff[1,2]\n",
      "    \n",
      "    return pred"
     ],
     "language": "python",
     "metadata": {},
     "outputs": [],
     "prompt_number": 1
    },
    {
     "cell_type": "code",
     "collapsed": false,
     "input": [
      "def errorAffine(coeff, trainOutput, target):\n",
      "    # function of coeff, trainOutput, & target\n",
      "    \n",
      "    pred = affineModel(coeff,trainOutput)\n",
      "    \n",
      "    return err.maeFun(target,pred[0:200,:]) #maeFun(actual,pred)"
     ],
     "language": "python",
     "metadata": {},
     "outputs": [],
     "prompt_number": 2
    },
    {
     "cell_type": "markdown",
     "metadata": {},
     "source": [
      "Optimize using scipy optimize.minimize"
     ]
    },
    {
     "cell_type": "code",
     "collapsed": false,
     "input": [
      "import smtplib"
     ],
     "language": "python",
     "metadata": {},
     "outputs": [],
     "prompt_number": 3
    },
    {
     "cell_type": "code",
     "collapsed": false,
     "input": [
      "# intial parameters\n",
      "coeffDim    = 3\n",
      "coeff       = np.zeros((2,coeffDim))\n",
      "coeff[:,0]  = np.squeeze(np.ones((2,1)))\n",
      "res         = optimize.minimize(errorAffine, x0=coeff, args=[trainOutput,target], method='nelder-mead', options={'xtol': 1e-8, 'disp': True})  #'maxiter' : 500\n",
      "\n",
      "# text me when you're done\n",
      "to = 'lanemcintosh@gmail.com' #insert reciever email address (can be same as sender)\n",
      "gmail_user = 'mcintoshlane@gmail.com' #your gmail sender address\n",
      "gmail_pwd = 'hansolo8chewy' #your gmail password\n",
      "smtpserver = smtplib.SMTP(\"smtp.gmail.com\",587) #the technical stuff\n",
      "smtpserver.ehlo() #the technical stuff\n",
      "smtpserver.starttls() #the technical stuff\n",
      "smtpserver.ehlo #the technical stuff\n",
      "smtpserver.login(gmail_user, gmail_pwd) #the technical stuff\n",
      "header = 'To:' + to + '\\n' + 'From: ' + gmail_user + '\\n' + 'Subject:Master\\'s Thesis iPython Notebook \\n'\n",
      "msg = header + '\\n' + 'Your Python Script has now Completed!' #The completion message\n",
      "smtpserver.sendmail(gmail_user, to, msg) #Sending the mail\n",
      "smtpserver.close() #closing the mailserver connection"
     ],
     "language": "python",
     "metadata": {},
     "outputs": [],
     "prompt_number": "*"
    },
    {
     "cell_type": "code",
     "collapsed": false,
     "input": [
      "opt_coeff = res.x\n",
      "opt_coeff = opt_coeff.reshape((2,coeffDim))"
     ],
     "language": "python",
     "metadata": {},
     "outputs": [],
     "prompt_number": 12
    },
    {
     "cell_type": "code",
     "collapsed": false,
     "input": [
      "y = opt_coeff[0,:]\n",
      "z = opt_coeff[1,:]\n",
      "\n",
      "fig, axes = subplots(ncols=2)\n",
      "fig.set_size_inches(16,4)\n",
      "subplot(121)\n",
      "plot(y)\n",
      "subplot(122)\n",
      "plot(z)"
     ],
     "language": "python",
     "metadata": {},
     "outputs": [
      {
       "metadata": {},
       "output_type": "pyout",
       "prompt_number": 13,
       "text": [
        "[<matplotlib.lines.Line2D at 0x4b7ddd0>]"
       ]
      },
      {
       "metadata": {},
       "output_type": "display_data",
       "png": "[encoded data removed]",
       "text": [
        "<matplotlib.figure.Figure at 0x39f98d0>"
       ]
      }
     ],
     "prompt_number": 13
    },
    {
     "cell_type": "code",
     "collapsed": false,
     "input": [
      "res.fun"
     ],
     "language": "python",
     "metadata": {},
     "outputs": [
      {
       "metadata": {},
       "output_type": "pyout",
       "prompt_number": 14,
       "text": [
        "0.43923450784062007"
       ]
      }
     ],
     "prompt_number": 14
    },
    {
     "cell_type": "code",
     "collapsed": false,
     "input": [
      "pred = affineModel(opt_coeff,trainOutput)\n",
      "np.savetxt('Data/submission'+str(datetime.date.today())+'affine.csv', pred[200:510,:], delimiter=',', fmt='%f')  #predictions for file 201 to 510"
     ],
     "language": "python",
     "metadata": {},
     "outputs": [],
     "prompt_number": 16
    },
    {
     "cell_type": "markdown",
     "metadata": {},
     "source": [
      "## Affine Model: Previous linear model + constant \n",
      "### with stock-specific coefficients  \n",
      "$$y = a_0 x_{i-1} + a_1 (x_{i-1} - x_{i-2}) + a_2$$\n",
      "\n",
      "---\n",
      "Models using scipy optimize:  \n",
      "- $a x_{i-1} + b (x_{i-1} - x{i-2})$ with Stock-specific coefficients: 0.41820  \n",
      "- $a x_{i-1} + b (x_{i-1} - x{i-2}) + c$ with just two coefficients, one for positive and one for negative trends: 0.41923  \n",
      "- $a x_{i-1} + b (x_{i-1} - x{i-2}) + c$ with stock-specific coefficients: 0.41797"
     ]
    },
    {
     "cell_type": "markdown",
     "metadata": {},
     "source": [
      "### This is the new state-of-the-art model:  Score = 0.41797  \n",
      "You improved on your best score by 0.00024.   \n",
      "You just moved up 12 positions on the leaderboard."
     ]
    },
    {
     "cell_type": "code",
     "collapsed": false,
     "input": [
      "def affineModel2(coeff,trainOutput):\n",
      "    \n",
      "    # Set constants and initialize vars\n",
      "    numTrainingDays = trainOutput.shape[0]  #510\n",
      "    numTimes        = trainOutput.shape[1]  #55\n",
      "    numStocks       = trainOutput.shape[2]  #198\n",
      "    pred            = np.zeros((numTrainingDays,numStocks))\n",
      "    \n",
      "    # need coeff in format (numStocks, numTimes)\n",
      "    # scipy.optimize.minimize reshapes coeff as vector\n",
      "    coeffDim = 3  # could be numTimes\n",
      "    coeff    = coeff.reshape((numStocks,coeffDim))\n",
      "    \n",
      "    # Run model\n",
      "    for stock in xrange(numStocks):\n",
      "        for day in xrange(numTrainingDays):\n",
      "            deriv           = trainOutput[day,-1,stock] - trainOutput[day,-2,stock]\n",
      "            pred[day,stock] = coeff[stock,0]*trainOutput[day,-1,stock] + coeff[stock,1]*deriv + coeff[stock,2]\n",
      "    \n",
      "    return pred"
     ],
     "language": "python",
     "metadata": {},
     "outputs": [],
     "prompt_number": 17
    },
    {
     "cell_type": "code",
     "collapsed": false,
     "input": [
      "def errorAffine2(coeff, trainOutput, target):\n",
      "    # function of coeff, trainOutput, & target\n",
      "    \n",
      "    pred = affineModel2(coeff,trainOutput)\n",
      "    \n",
      "    return err.maeFun(target,pred[0:200,:]) #maeFun(actual,pred)"
     ],
     "language": "python",
     "metadata": {},
     "outputs": [],
     "prompt_number": 18
    },
    {
     "cell_type": "markdown",
     "metadata": {},
     "source": [
      "Optimize using scipy optimize.minimize  \n",
      "Then send me a text when you're done"
     ]
    },
    {
     "cell_type": "code",
     "collapsed": false,
     "input": [
      "import smtplib"
     ],
     "language": "python",
     "metadata": {},
     "outputs": [],
     "prompt_number": 19
    },
    {
     "cell_type": "code",
     "collapsed": false,
     "input": [
      "# intial parameters\n",
      "coeffDim    = 3\n",
      "coeff       = np.zeros((trainOutput.shape[2],coeffDim)) # (numStocks, timesUsed), where timesUsed could = trainOutput.shape[1]\n",
      "coeff[:,0]  = np.squeeze(np.ones((trainOutput.shape[2],1)))\n",
      "res         = optimize.minimize(errorAffine2, x0=coeff, args=[trainOutput,target], method='nelder-mead', options={'xtol': 1e-8, 'disp': True})  #'maxiter' : 500\n",
      "\n",
      "# text me when you're done\n",
      "to = 'lanemcintosh@gmail.com' #insert reciever email address (can be same as sender)\n",
      "gmail_user = 'mcintoshlane@gmail.com' #your gmail sender address\n",
      "gmail_pwd = 'hansolo8chewy' #your gmail password\n",
      "smtpserver = smtplib.SMTP(\"smtp.gmail.com\",587) #the technical stuff\n",
      "smtpserver.ehlo() #the technical stuff\n",
      "smtpserver.starttls() #the technical stuff\n",
      "smtpserver.ehlo #the technical stuff\n",
      "smtpserver.login(gmail_user, gmail_pwd) #the technical stuff\n",
      "header = 'To:' + to + '\\n' + 'From: ' + gmail_user + '\\n' + 'Subject:Master\\'s Thesis iPython Notebook \\n'\n",
      "msg = header + '\\n' + 'Your Python Script has now Completed!' #The completion message\n",
      "smtpserver.sendmail(gmail_user, to, msg) #Sending the mail\n",
      "smtpserver.close() #closing the mailserver connection"
     ],
     "language": "python",
     "metadata": {},
     "outputs": [],
     "prompt_number": "*"
    },
    {
     "cell_type": "code",
     "collapsed": false,
     "input": [
      "opt_coeff = res.x\n",
      "opt_coeff = opt_coeff.reshape((trainOutput.shape[2],coeffDim))"
     ],
     "language": "python",
     "metadata": {},
     "outputs": [],
     "prompt_number": 21
    },
    {
     "cell_type": "code",
     "collapsed": false,
     "input": [
      "y = opt_coeff[:,0]\n",
      "z = opt_coeff[:,1]\n",
      "w = opt_coeff[:,2]\n",
      "\n",
      "fig, axes = subplots(ncols=3)\n",
      "fig.set_size_inches(16,4)\n",
      "subplot(131)\n",
      "plot(y)\n",
      "subplot(132)\n",
      "plot(z)\n",
      "subplot(133)\n",
      "plot(w)"
     ],
     "language": "python",
     "metadata": {},
     "outputs": [
      {
       "metadata": {},
       "output_type": "pyout",
       "prompt_number": 24,
       "text": [
        "[<matplotlib.lines.Line2D at 0x5849e50>]"
       ]
      },
      {
       "metadata": {},
       "output_type": "display_data",
       "png": "[encoded data removed]",
       "text": [
        "<matplotlib.figure.Figure at 0x4e0c150>"
       ]
      }
     ],
     "prompt_number": 24
    },
    {
     "cell_type": "code",
     "collapsed": false,
     "input": [
      "res.fun"
     ],
     "language": "python",
     "metadata": {},
     "outputs": [
      {
       "metadata": {},
       "output_type": "pyout",
       "prompt_number": 25,
       "text": [
        "0.4358769108214533"
       ]
      }
     ],
     "prompt_number": 25
    },
    {
     "cell_type": "code",
     "collapsed": false,
     "input": [
      "pred = affineModel2(opt_coeff,trainOutput)\n",
      "np.savetxt('Data/submission'+str(datetime.date.today())+'affine2.csv', pred[200:510,:], delimiter=',', fmt='%f')  #predictions for file 201 to 510"
     ],
     "language": "python",
     "metadata": {},
     "outputs": [],
     "prompt_number": 26
    },
    {
     "cell_type": "markdown",
     "metadata": {},
     "source": [
      "Write out all the proper headers (top column and first row).  Also, using %s gives you much higher precision!  \n",
      "\n",
      "Note that this increase in precision didn't affect my score."
     ]
    },
    {
     "cell_type": "code",
     "collapsed": false,
     "input": [
      "output = pred.tolist()  # transform pred from np array to list\n",
      "sheet  = output[200:510][:]\n",
      "\n",
      "firstLine = ['O' + str(j) for j in xrange(1,len(sheet[0])+1)]\n",
      "firstLine.insert(0, 'fileId')\n",
      "sheet.insert(0, firstLine)\n",
      "for i in xrange(1,len(sheet)):\n",
      "    sheet[i].insert(0, str(200+i))\n",
      "\n",
      "np.savetxt('Data/submission'+str(datetime.date.today())+'.csv', sheet, delimiter=',', fmt=\"%s\")  #predictions for file 201 to 510"
     ],
     "language": "python",
     "metadata": {},
     "outputs": [],
     "prompt_number": 59
    },
    {
     "cell_type": "markdown",
     "metadata": {},
     "source": [
      "## Now let's try some crazy stuff: Random Forests  \n",
      "### This does not perform better than the affine model.  Score: 0.42016\n",
      "---\n",
      "To do:  \n",
      "- reformat input/output so that you have all the sentiment analysis then the derivative, then the last observed value  \n",
      "- figure out how to have multiple values for single output  \n",
      "- maybe better to predict target - lastObserved rather than lastObserved"
     ]
    },
    {
     "cell_type": "code",
     "collapsed": false,
     "input": [
      "from sklearn.ensemble import RandomForestClassifier\n",
      "from sklearn import cross_validation"
     ],
     "language": "python",
     "metadata": {},
     "outputs": [],
     "prompt_number": 5
    },
    {
     "cell_type": "markdown",
     "metadata": {},
     "source": [
      "####Create Random Forest"
     ]
    },
    {
     "cell_type": "code",
     "collapsed": false,
     "input": [
      "#create the random forest\n",
      "#multi-core CPUs can use: rf = RandomForestClassifier(n_estimators=100, n_jobs=2)\n",
      "rf = RandomForestClassifier(n_estimators=700, n_jobs=2)  #was 1500 n_estimators\n",
      "cv = cross_validation.KFold(len(target), n_folds=63, indices=False)"
     ],
     "language": "python",
     "metadata": {},
     "outputs": []
    },
    {
     "cell_type": "markdown",
     "metadata": {},
     "source": [
      "####Create features"
     ]
    },
    {
     "cell_type": "markdown",
     "metadata": {},
     "source": [
      "The input to rf.fit(X,y) should be:  \n",
      "\n",
      "X : array-like of shape = [n_samples, n_features]             - The training input samples.  \n",
      "y : array-like, shape = [n_samples] or [n_samples, n_outputs] - The target values (integers that correspond to classes in classification, real numbers in regression)."
     ]
    },
    {
     "cell_type": "code",
     "collapsed": false,
     "input": [
      "lastObserved = trainOutput[:,-1,:]\n",
      "deriv        = trainOutput[:,-1,:] - trainOutput[:,-2,:]\n",
      "normTarget   = target - lastObserved[:target.shape[0],:]  # normalize the target by lastObserved\n",
      "\n",
      "#train            = np.zeros((510,55,244+198))\n",
      "#train[:,:,0:198] = trainOutput\n",
      "#train[:,:,198:]  = trainInput"
     ],
     "language": "python",
     "metadata": {},
     "outputs": [],
     "prompt_number": 110
    },
    {
     "cell_type": "code",
     "collapsed": false,
     "input": [
      "fig = gcf()\n",
      "fig.set_size_inches(16,5.5)\n",
      "\n",
      "normTarget_vector = normTarget.reshape((normTarget.shape[0]*normTarget.shape[1],1))\n",
      "y = hist(normTarget_vector,100,log=True,histtype='stepfilled')\n",
      "title('Distribution of Normalized Percent Gain/Loss after last observed value')\n",
      "ylabel('Frequency')\n",
      "xlabel('Percent Gain/Loss After Last Observed Value')"
     ],
     "language": "python",
     "metadata": {},
     "outputs": [
      {
       "metadata": {},
       "output_type": "pyout",
       "prompt_number": 111,
       "text": [
        "<matplotlib.text.Text at 0x9894b90>"
       ]
      },
      {
       "metadata": {},
       "output_type": "display_data",
       "png": "[encoded data removed]",
       "text": [
        "<matplotlib.figure.Figure at 0xaa97ad0>"
       ]
      }
     ],
     "prompt_number": 111
    },
    {
     "cell_type": "markdown",
     "metadata": {},
     "source": [
      "####Train and run random forest\n",
      "Recall that the random forest was trained on normalized targets, so we need to add last observed value back to predicted_probs"
     ]
    },
    {
     "cell_type": "code",
     "collapsed": false,
     "input": [
      "import smtplib"
     ],
     "language": "python",
     "metadata": {},
     "outputs": [],
     "prompt_number": 119
    },
    {
     "cell_type": "code",
     "collapsed": false,
     "input": [
      "## Fit Random Forest and generate predictions\n",
      "numStocks   = trainOutput.shape[2]\n",
      "performance = []\n",
      "pred        = np.zeros((310,numStocks))\n",
      "for stock in xrange(numStocks):\n",
      "    \n",
      "    # get stock-specific features\n",
      "    X     = deriv[:,stock].reshape((deriv.shape[0],1))\n",
      "    y     = normTarget[:,stock]\n",
      "    train = X[:200,:]\n",
      "    test  = X[200:,:]\n",
      "\n",
      "    # iterate through the training and test cross validation segments and\n",
      "    #run the classifier on each one, aggregating the results into a list\n",
      "    results = []\n",
      "    for traincv, testcv in cv:\n",
      "        probas = rf.fit(train[traincv], y[traincv]).predict_proba(train[testcv])\n",
      "        results.append( err.maeFun(y[testcv], [x[1] for x in probas]) )\n",
      "\n",
      "    performance.append(np.array(results).mean())\n",
      "\n",
      "    # generate predictions (making sure to add last observed value back in)\n",
      "    predicted_probs = [x[1] for x in rf.predict_proba(test)]\n",
      "    thisColumn      = np.asarray(predicted_probs)\n",
      "    pred[:,stock]   = thisColumn + lastObserved[200:,stock]\n",
      "\n",
      "#print out the mean of the mean of the cross-validated results\n",
      "print \"Results: \" + str( np.array(performance).mean() )\n",
      "\n",
      "\n",
      "## Save to file\n",
      "sheet = pred.tolist()  # transform pred from np array to list\n",
      "\n",
      "firstLine = ['O' + str(j) for j in xrange(1,len(sheet[0])+1)]\n",
      "firstLine.insert(0, 'fileId')\n",
      "sheet.insert(0, firstLine)\n",
      "for i in xrange(1,len(sheet)):\n",
      "    sheet[i].insert(0, str(200+i))\n",
      "\n",
      "np.savetxt('Data/submission'+str(datetime.date.today())+'.csv', sheet, delimiter=',', fmt=\"%s\")  #predictions for file 201 to 510\n",
      "\n",
      "\n",
      "## Text me when you're done\n",
      "to = 'lanemcintosh@gmail.com' #insert reciever email address (can be same as sender)\n",
      "gmail_user = 'mcintoshlane@gmail.com' #your gmail sender address\n",
      "gmail_pwd = 'hansolo8chewy' #your gmail password\n",
      "smtpserver = smtplib.SMTP(\"smtp.gmail.com\",587) #the technical stuff\n",
      "smtpserver.ehlo() #the technical stuff\n",
      "smtpserver.starttls() #the technical stuff\n",
      "smtpserver.ehlo #the technical stuff\n",
      "smtpserver.login(gmail_user, gmail_pwd) #the technical stuff\n",
      "header = 'To:' + to + '\\n' + 'From: ' + gmail_user + '\\n' + 'Subject:Kaggle iPython Notebook \\n'\n",
      "msg = header + '\\n' + 'Your Python Script has now Completed!' #The completion message\n",
      "smtpserver.sendmail(gmail_user, to, msg) #Sending the mail\n",
      "smtpserver.close() #closing the mailserver connection"
     ],
     "language": "python",
     "metadata": {},
     "outputs": [],
     "prompt_number": "*"
    },
    {
     "cell_type": "markdown",
     "metadata": {},
     "source": [
      "## Random Forests Take 2: Using all the metrics  \n",
      "#### Scored 0.58913, which was not an improvement\n",
      "\n",
      "---\n",
      "Ported over from local machine"
     ]
    },
    {
     "cell_type": "code",
     "collapsed": false,
     "input": [
      "from sklearn.ensemble import RandomForestClassifier\n",
      "from sklearn import cross_validation\n",
      "from scipy import optimize\n",
      "import meanAbsoluteError as err\n",
      "import numpy as np\n",
      "import datetime\n",
      "import random"
     ],
     "language": "python",
     "metadata": {},
     "outputs": [],
     "prompt_number": 122
    },
    {
     "cell_type": "code",
     "collapsed": false,
     "input": [
      "#DATA PROCESSING\n",
      "#create the training & test sets, skipping the header row with [1:]\n",
      "trainingDays = range(1,511) #200 days of training data, 510 total days\n",
      "headers = np.genfromtxt(open('Data/data/1.csv','r'),delimiter=',',dtype='string')[0]\n",
      "numRows = (np.array(np.genfromtxt(open('Data/data/1.csv','r'),delimiter=',',dtype='f8')[1:])).shape[0]\n",
      "numCols = (np.array(np.genfromtxt(open('Data/data/1.csv','r'),delimiter=',',dtype='f8')[1:])).shape[1]\n",
      "isOutput = [headers[x][0] == 'O' for x in range(0,numCols)]\n",
      "isInput  = [headers[x][0] == 'I' for x in range(0,numCols)]\n",
      "trainOutput = np.zeros((len(trainingDays),numRows,sum(isOutput)))\n",
      "trainInput  = np.zeros((len(trainingDays),numRows,sum(isInput)))\n",
      "for i in trainingDays:\n",
      "    dataset = np.genfromtxt(open('Data/data/'+str(i)+'.csv','r'), delimiter=',', dtype='f8')[1:]\n",
      "    dataset = np.array(dataset)  # (5minIncrement,stock/feature)\n",
      "    for j in range(0,numCols):\n",
      "        if headers[j][0] == 'O':\n",
      "            trainOutput[i-1,:,j] = dataset[:,j]   # (day,5minIncrement,stock)\n",
      "        elif headers[j][0] == 'I':\n",
      "            trainInput[i-1,:,(j-sum(isOutput))] = dataset[:,j]    # (day,5minIncrement,feature)\n",
      "\n",
      "#target prices 2 hours later (only outputs, no inputs) \n",
      "target = np.array(np.genfromtxt(open('Data/trainLabels.csv','r'), delimiter=',', dtype='f8')[1:])\n",
      "target = target[:,1:]  # (day,price2HrsLater)"
     ],
     "language": "python",
     "metadata": {},
     "outputs": []
    },
    {
     "cell_type": "code",
     "collapsed": false,
     "input": [
      "from sklearn.ensemble import RandomForestClassifier\n",
      "from sklearn import cross_validation"
     ],
     "language": "python",
     "metadata": {},
     "outputs": []
    },
    {
     "cell_type": "code",
     "collapsed": false,
     "input": [
      "#create the random forest\n",
      "#multi-core CPUs can use: rf = RandomForestClassifier(n_estimators=100, n_jobs=2)\n",
      "rf = RandomForestClassifier(n_estimators=700, n_jobs=2)  #was 1500 n_estimators\n",
      "cv = cross_validation.KFold(len(target), n_folds=63, indices=False)"
     ],
     "language": "python",
     "metadata": {},
     "outputs": []
    },
    {
     "cell_type": "code",
     "collapsed": false,
     "input": [
      "lastObserved = trainOutput[:,-1,:]\n",
      "deriv        = trainOutput[:,-1,:] - trainOutput[:,-2,:]\n",
      "normTarget   = target - lastObserved[:target.shape[0],:]  # normalize the target by lastObserved"
     ],
     "language": "python",
     "metadata": {},
     "outputs": []
    },
    {
     "cell_type": "code",
     "collapsed": false,
     "input": [
      "import smtplib"
     ],
     "language": "python",
     "metadata": {},
     "outputs": []
    },
    {
     "cell_type": "code",
     "collapsed": false,
     "input": [
      "numStocks = trainOutput.shape[2]\n",
      "pred      = np.zeros((310,numStocks))\n",
      "for stock in xrange(numStocks):\n",
      "    numMetrics = len(trainInput[0,0])\n",
      "    X = np.array(deriv[:,stock])\n",
      "    X = X[...,None]\n",
      "\n",
      "    for j in xrange(1,10):\n",
      "        for i in xrange(numMetrics):\n",
      "            thisMetric = trainInput[:,-j,i]\n",
      "            thisMetric = thisMetric[...,None]\n",
      "            X = np.append(X,thisMetric,1)\n",
      "    \n",
      "    y     = normTarget[:,stock]\n",
      "    train = X[:200,:]\n",
      "    test  = X[200:,:]\n",
      "    \n",
      "    X_transformed    = rf.fit_transform(train,y)\n",
      "    test_transformed = rf.transform(test)\n",
      "    rf.fit(X_transformed,y)\n",
      "    \n",
      "    thisColumn    = rf.predict(test_transformed)\n",
      "    thisColumn    = thisColumn + lastObserved[200:,stock]\n",
      "    pred[:,stock] = np.asarray(thisColumn)\n",
      "\n",
      "    \n",
      "    \n",
      "## Save to file\n",
      "sheet = pred.tolist()  # transform pred from np array to list\n",
      "\n",
      "firstLine = ['O' + str(j) for j in xrange(1,len(sheet[0])+1)]\n",
      "firstLine.insert(0, 'fileId')\n",
      "sheet.insert(0, firstLine)\n",
      "for i in xrange(1,len(sheet)):\n",
      "    sheet[i].insert(0, str(200+i))\n",
      "\n",
      "np.savetxt('Data/submission'+str(datetime.date.today())+'.csv', sheet, delimiter=',', fmt=\"%s\")  #predictions for file 201 to 510\n",
      "\n",
      "\n",
      "## Text me when you're done\n",
      "to = 'lanemcintosh@gmail.com' #insert reciever email address (can be same as sender)\n",
      "gmail_user = 'mcintoshlane@gmail.com' #your gmail sender address\n",
      "gmail_pwd = 'hansolo8chewy' #your gmail password\n",
      "smtpserver = smtplib.SMTP(\"smtp.gmail.com\",587) #the technical stuff\n",
      "smtpserver.ehlo() #the technical stuff\n",
      "smtpserver.starttls() #the technical stuff\n",
      "smtpserver.ehlo #the technical stuff\n",
      "smtpserver.login(gmail_user, gmail_pwd) #the technical stuff\n",
      "header = 'To:' + to + '\\n' + 'From: ' + gmail_user + '\\n' + 'Subject:Local Kaggle iPython Notebook \\n'\n",
      "msg = header + '\\n' + 'Your Python Script has now Completed!' #The completion message\n",
      "smtpserver.sendmail(gmail_user, to, msg) #Sending the mail\n",
      "smtpserver.close() #closing the mailserver connection"
     ],
     "language": "python",
     "metadata": {},
     "outputs": []
    },
    {
     "cell_type": "markdown",
     "metadata": {},
     "source": [
      "## Random Forests Take 3: Using all the metrics and a different predict function\n",
      "#### Scored 0.42616 (with final dataset, post competition)\n",
      "\n",
      "Not very good - worse than last observed benchmark\n",
      "\n",
      "---\n",
      "Ported over from local machine with adjustments"
     ]
    },
    {
     "cell_type": "code",
     "collapsed": false,
     "input": [
      "from sklearn.ensemble import RandomForestClassifier\n",
      "from sklearn import cross_validation\n",
      "from scipy import optimize\n",
      "import meanAbsoluteError as err\n",
      "import numpy as np\n",
      "import datetime\n",
      "import random\n",
      "import smtplib\n",
      "\n",
      "from sklearn.ensemble import RandomForestClassifier\n",
      "from sklearn import cross_validation"
     ],
     "language": "python",
     "metadata": {},
     "outputs": [],
     "prompt_number": 123
    },
    {
     "cell_type": "code",
     "collapsed": false,
     "input": [
      "#DATA PROCESSING\n",
      "#create the training & test sets, skipping the header row with [1:]\n",
      "trainingDays = range(1,511) #200 days of training data, 510 total days\n",
      "headers = np.genfromtxt(open('Data/data/1.csv','r'),delimiter=',',dtype='string')[0]\n",
      "numRows = (np.array(np.genfromtxt(open('Data/data/1.csv','r'),delimiter=',',dtype='f8')[1:])).shape[0]\n",
      "numCols = (np.array(np.genfromtxt(open('Data/data/1.csv','r'),delimiter=',',dtype='f8')[1:])).shape[1]\n",
      "isOutput = [headers[x][0] == 'O' for x in range(0,numCols)]\n",
      "isInput  = [headers[x][0] == 'I' for x in range(0,numCols)]\n",
      "trainOutput = np.zeros((len(trainingDays),numRows,sum(isOutput)))\n",
      "trainInput  = np.zeros((len(trainingDays),numRows,sum(isInput)))\n",
      "for i in trainingDays:\n",
      "    dataset = np.genfromtxt(open('Data/data/'+str(i)+'.csv','r'), delimiter=',', dtype='f8')[1:]\n",
      "    dataset = np.array(dataset)  # (5minIncrement,stock/feature)\n",
      "    for j in range(0,numCols):\n",
      "        if headers[j][0] == 'O':\n",
      "            trainOutput[i-1,:,j] = dataset[:,j]   # (day,5minIncrement,stock)\n",
      "        elif headers[j][0] == 'I':\n",
      "            trainInput[i-1,:,(j-sum(isOutput))] = dataset[:,j]    # (day,5minIncrement,feature)\n",
      "\n",
      "#target prices 2 hours later (only outputs, no inputs) \n",
      "target = np.array(np.genfromtxt(open('Data/trainLabels.csv','r'), delimiter=',', dtype='f8')[1:])\n",
      "target = target[:,1:]  # (day,price2HrsLater)"
     ],
     "language": "python",
     "metadata": {},
     "outputs": [],
     "prompt_number": 124
    },
    {
     "cell_type": "code",
     "collapsed": false,
     "input": [
      "#create the random forest\n",
      "#multi-core CPUs can use: rf = RandomForestClassifier(n_estimators=100, n_jobs=2)\n",
      "rf = RandomForestClassifier(n_estimators=500, n_jobs=2)  #was 1500 n_estimators\n",
      "cv = cross_validation.KFold(len(target), n_folds=25, indices=False)"
     ],
     "language": "python",
     "metadata": {},
     "outputs": [],
     "prompt_number": 128
    },
    {
     "cell_type": "code",
     "collapsed": false,
     "input": [
      "lastObserved = trainOutput[:,-1,:]\n",
      "deriv        = trainOutput[:,-1,:] - trainOutput[:,-2,:]\n",
      "normTarget   = target - lastObserved[:target.shape[0],:]  # normalize the target by lastObserved"
     ],
     "language": "python",
     "metadata": {},
     "outputs": [],
     "prompt_number": 129
    },
    {
     "cell_type": "code",
     "collapsed": false,
     "input": [
      "numStocks   = trainOutput.shape[2]\n",
      "pred        = np.zeros((310,numStocks))\n",
      "performance = []\n",
      "for stock in xrange(numStocks):\n",
      "    numMetrics = len(trainInput[0,0])\n",
      "    X = np.array(deriv[:,stock])\n",
      "    X = X[...,None]\n",
      "\n",
      "    for j in xrange(1,10):\n",
      "        for i in xrange(numMetrics):\n",
      "            thisMetric = trainInput[:,-j,i]\n",
      "            thisMetric = thisMetric[...,None]\n",
      "            X = np.append(X,thisMetric,1)\n",
      "    \n",
      "    y     = normTarget[:,stock]\n",
      "    train = X[:200,:]\n",
      "    test  = X[200:,:]\n",
      "    \n",
      "    train_transformed = rf.fit_transform(train,y)\n",
      "    test_transformed  = rf.transform(test)\n",
      "    \n",
      "    # iterate through the training and test cross validation segments and\n",
      "    #run the classifier on each one, aggregating the results into a list\n",
      "    results = []\n",
      "    for traincv, testcv in cv:\n",
      "        probas = rf.fit(train_transformed[traincv], y[traincv]).predict_proba(train_transformed[testcv])\n",
      "        results.append( err.maeFun(y[testcv], [x[1] for x in probas]) )\n",
      "\n",
      "    performance.append(np.array(results).mean())\n",
      "\n",
      "    # generate predictions (making sure to add last observed value back in)\n",
      "    predicted_probs = [x[1] for x in rf.predict_proba(test_transformed)]\n",
      "    thisColumn      = np.asarray(predicted_probs)\n",
      "    pred[:,stock]   = thisColumn + lastObserved[200:,stock]\n",
      "\n",
      "    \n",
      "\n",
      "#print out the mean of the mean of the cross-validated results\n",
      "print \"Results: \" + str( np.array(performance).mean() )\n",
      "\n",
      "    \n",
      "    \n",
      "## Save to file\n",
      "sheet = pred.tolist()  # transform pred from np array to list\n",
      "\n",
      "firstLine = ['O' + str(j) for j in xrange(1,len(sheet[0])+1)]\n",
      "firstLine.insert(0, 'fileId')\n",
      "sheet.insert(0, firstLine)\n",
      "for i in xrange(1,len(sheet)):\n",
      "    sheet[i].insert(0, str(200+i))\n",
      "\n",
      "np.savetxt('Data/submission'+str(datetime.date.today())+'.csv', sheet, delimiter=',', fmt=\"%s\")  #predictions for file 201 to 510\n",
      "\n",
      "\n",
      "## Text me when you're done\n",
      "to = 'lanemcintosh@gmail.com' #insert reciever email address (can be same as sender)\n",
      "gmail_user = 'mcintoshlane@gmail.com' #your gmail sender address\n",
      "gmail_pwd = 'hansolo8chewy' #your gmail password\n",
      "smtpserver = smtplib.SMTP(\"smtp.gmail.com\",587) #the technical stuff\n",
      "smtpserver.ehlo() #the technical stuff\n",
      "smtpserver.starttls() #the technical stuff\n",
      "smtpserver.ehlo #the technical stuff\n",
      "smtpserver.login(gmail_user, gmail_pwd) #the technical stuff\n",
      "header = 'To:' + to + '\\n' + 'From: ' + gmail_user + '\\n' + 'Subject:Local Kaggle iPython Notebook \\n'\n",
      "msg = header + '\\n' + 'Your Python Script has now Completed!' #The completion message\n",
      "smtpserver.sendmail(gmail_user, to, msg) #Sending the mail\n",
      "smtpserver.close() #closing the mailserver connection"
     ],
     "language": "python",
     "metadata": {},
     "outputs": [],
     "prompt_number": "*"
    },
    {
     "cell_type": "code",
     "collapsed": false,
     "input": [
      "np.mean(performance)"
     ],
     "language": "python",
     "metadata": {},
     "outputs": [
      {
       "metadata": {},
       "output_type": "pyout",
       "prompt_number": 137,
       "text": [
        "0.44072853535353557"
       ]
      }
     ],
     "prompt_number": 137
    },
    {
     "cell_type": "markdown",
     "metadata": {},
     "source": [
      "## Neural networks"
     ]
    },
    {
     "cell_type": "code",
     "collapsed": false,
     "input": [
      "import pybrain"
     ],
     "language": "python",
     "metadata": {},
     "outputs": [
      {
       "ename": "ImportError",
       "evalue": "No module named pybrain",
       "output_type": "pyerr",
       "traceback": [
        "\u001b[1;31m---------------------------------------------------------------------------\u001b[0m\n\u001b[1;31mImportError\u001b[0m                               Traceback (most recent call last)",
        "\u001b[1;32m<ipython-input-121-0fb7233d2a8c>\u001b[0m in \u001b[0;36m<module>\u001b[1;34m()\u001b[0m\n\u001b[1;32m----> 1\u001b[1;33m \u001b[1;32mimport\u001b[0m \u001b[0mpybrain\u001b[0m\u001b[1;33m\u001b[0m\u001b[0m\n\u001b[0m",
        "\u001b[1;31mImportError\u001b[0m: No module named pybrain"
       ]
      }
     ],
     "prompt_number": 121
    },
    {
     "cell_type": "code",
     "collapsed": false,
     "input": [],
     "language": "python",
     "metadata": {},
     "outputs": []
    }
   ],
   "metadata": {}
  }
 ]
}