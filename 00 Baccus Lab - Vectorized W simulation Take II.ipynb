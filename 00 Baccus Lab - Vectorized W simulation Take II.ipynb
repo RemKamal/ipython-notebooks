{
 "metadata": {
  "name": "",
  "signature": "sha256:9555e7521a22ae3d55b1f12009bb8def5d107521cc4032dad31dd60eb92dccd8"
 },
 "nbformat": 3,
 "nbformat_minor": 0,
 "worksheets": [
  {
   "cells": [
    {
     "cell_type": "markdown",
     "metadata": {},
     "source": [
      "# Finding the optimal linear filter $w$ that best predicts $y$ in the mean square error sense.  \n",
      "\n",
      "Let $X$ be Toeplitz and $y$ be the shifted copy of $x$.  We seek to find $w$ s.t. $Xw = y$.  Directly this could be solved by $w = (X^T X)^{-1} X^T y$, but in practice $X^T X$ is often ill-conditioned.  \n",
      "\n",
      "$X$ is the $m \\times n$ Toeplitz matrix with first row $[x_t, x_{t-1}, \\dots, x_{t-n+1}]$ and first column $[x_t, x_{t+1}, \\dots, x_{t+m-1}]$."
     ]
    },
    {
     "cell_type": "code",
     "collapsed": false,
     "input": [
      "import numpy as np\n",
      "import scipy.linalg\n",
      "from scipy.linalg import toeplitz\n",
      "from scipy.linalg import inv\n",
      "from numpy import fft\n",
      "import brewer2mpl\n",
      "\n",
      "from numpy import sin, linspace, pi\n",
      "from pylab import plot, show, title, xlabel, ylabel, subplot\n",
      "from scipy import fft, arange\n",
      "\n",
      "from scipy import signal as sig"
     ],
     "language": "python",
     "metadata": {},
     "outputs": [],
     "prompt_number": 1
    },
    {
     "cell_type": "code",
     "collapsed": false,
     "input": [
      "def pinkNoise(duration):\n",
      "    x_t    = np.random.randn(2*duration)\n",
      "    x_f    = np.fft.rfft(x_t)[:len(x_t)/2]\n",
      "    f      = linspace(1,duration,len(x_f))\n",
      "    fi     = 1./f\n",
      "    pink_f = x_f*fi\n",
      "\n",
      "    return real(np.fft.ifft(pink_f))"
     ],
     "language": "python",
     "metadata": {},
     "outputs": [],
     "prompt_number": 2
    },
    {
     "cell_type": "code",
     "collapsed": false,
     "input": [
      "def getW(x,y,mode='auto'):\n",
      "    ''' Solve XW = Y where X is toeplitz, y is a vector.\n",
      "    \n",
      "    1) 'auto' mode uses numpy's builtin lstsq solver to avoid\n",
      "    taking matrix inversions or multiplying by illconditioned matrices.\n",
      "    2) 'direct' mode uses direct matrix inversion by xtx and returns a \n",
      "    warning when xtx is ill-conditioned.\n",
      "    '''\n",
      "    \n",
      "    if mode=='direct':\n",
      "        xtx = np.dot(np.transpose(x),x)\n",
      "        con = np.linalg.cond(xtx)\n",
      "        if con > 10e3:\n",
      "            print('Condition number of XTX is very high, %f, and inverse wont be accurate.') % (con)\n",
      "        W = np.dot(np.linalg.inv(xtx), np.dot(np.transpose(x),y))\n",
      "    elif mode=='auto':\n",
      "        W, res, rank, s = np.linalg.lstsq(x, y, rcond=-1)\n",
      "    else:\n",
      "        print('mode can be either auto or direct')\n",
      "    \n",
      "    return W"
     ],
     "language": "python",
     "metadata": {},
     "outputs": [],
     "prompt_number": 5
    },
    {
     "cell_type": "code",
     "collapsed": false,
     "input": [
      "def autocorr(x):\n",
      "    result = np.correlate(x, x, mode='full')\n",
      "    return result[result.size/2:]"
     ],
     "language": "python",
     "metadata": {},
     "outputs": [],
     "prompt_number": 6
    },
    {
     "cell_type": "code",
     "collapsed": false,
     "input": [
      "def is_pos_def(x):\n",
      "    return np.all(np.linalg.eigvals(x) > 0)"
     ],
     "language": "python",
     "metadata": {},
     "outputs": [],
     "prompt_number": 7
    },
    {
     "cell_type": "code",
     "collapsed": false,
     "input": [
      "def plotSpectrum(y,Fs=1000.0):\n",
      " '''\n",
      " Plots a Single-Sided Amplitude Spectrum of y(t).\n",
      " \n",
      " Example:\n",
      " Fs = 1000.0;  # sampling rate\n",
      " Ts = 1.0/Fs; # sampling interval\n",
      " t = arange(0,len(W)*Ts,len(W)) # time vector\n",
      "\n",
      " subplot(2,1,1)\n",
      " plot(W, 'k')\n",
      " xlim(-5,n+5)\n",
      " title('W', fontsize=14)\n",
      " ax = gca()\n",
      " ax.set_xlim(ax.get_xlim()[::-1])\n",
      " xlabel('Time before present', fontsize=14)\n",
      "\n",
      " subplot(2,1,2)\n",
      " plotSpectrum(W,Fs)\n",
      " '''\n",
      " n = len(y) # length of the signal\n",
      " k = arange(n)\n",
      " T = n/Fs\n",
      " frq = k/T # two sides frequency range\n",
      " frq = frq[range(n/2)] # one side frequency range\n",
      "\n",
      " Y = fft(y)/n # fft computing and normalization\n",
      " Y = Y[range(n/2)]\n",
      " \n",
      " plot(frq,abs(Y),'r') # plotting the spectrum\n",
      " xlabel('Freq (Hz)')\n",
      " ylabel('|Y(freq)|')"
     ],
     "language": "python",
     "metadata": {},
     "outputs": [],
     "prompt_number": 9
    },
    {
     "cell_type": "code",
     "collapsed": false,
     "input": [],
     "language": "python",
     "metadata": {},
     "outputs": []
    }
   ],
   "metadata": {}
  }
 ]
}