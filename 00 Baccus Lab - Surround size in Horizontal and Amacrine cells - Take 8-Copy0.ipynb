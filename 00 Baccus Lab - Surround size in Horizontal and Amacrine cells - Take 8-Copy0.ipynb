{
 "metadata": {
  "name": "",
  "signature": "sha256:145a734189f63ba3cb572205ab51ca674c9e1e150ce8d46f8d749c51b562d591"
 },
 "nbformat": 3,
 "nbformat_minor": 0,
 "worksheets": [
  {
   "cells": [
    {
     "cell_type": "markdown",
     "metadata": {},
     "source": [
      "# Prototype independent python code"
     ]
    },
    {
     "cell_type": "code",
     "collapsed": false,
     "input": [
      "import numpy as np\n",
      "from math import tanh\n",
      "from scipy.interpolate import interp1d\n",
      "from scipy.signal import fftconvolve\n",
      "from PIL import Image\n",
      "from os import listdir\n",
      "from os.path import isfile, join\n",
      "from array import array\n",
      "import time\n",
      "import brewer2mpl"
     ],
     "language": "python",
     "metadata": {},
     "outputs": [],
     "prompt_number": 1
    },
    {
     "cell_type": "code",
     "collapsed": false,
     "input": [
      "import imp\n",
      "info = imp.load_source('info_theory_functions', '/home/lane/information-theory-toolbox/info_theory_functions.py')"
     ],
     "language": "python",
     "metadata": {},
     "outputs": [],
     "prompt_number": 5
    },
    {
     "cell_type": "code",
     "collapsed": false,
     "input": [
      "# path to van Hateren Natural Image Database\n",
      "#im_path = '/Users/lmcintosh/Dropbox/Stanford University/CS 229 Machine Learning/Project/Natural_Images'\n",
      "im_path = '/home/lane/Natural_images/imc'"
     ],
     "language": "python",
     "metadata": {},
     "outputs": [],
     "prompt_number": 7
    },
    {
     "cell_type": "markdown",
     "metadata": {},
     "source": [
      "## Functions"
     ]
    },
    {
     "cell_type": "code",
     "collapsed": false,
     "input": [
      "def nonlinearity(x,K=1.,g=1.,theta=0.,mode='sigmoid',normalized=False):\n",
      "    if normalized:\n",
      "        if mode == 'sigmoid':\n",
      "            n = K/(1+np.exp(-g*(x - theta)))\n",
      "        elif mode == 'tanh':\n",
      "            if type(x)==list or type(x)==numpy.ndarray:\n",
      "                n = [g*tanh(a-theta) + K - g for a in x]\n",
      "            else:\n",
      "                n = g*tanh(x-theta) + K - g\n",
      "        return np.array(n)/np.sqrt(np.var(np.array(n)))\n",
      "    else:\n",
      "        if mode == 'sigmoid':\n",
      "            return K/(1+np.exp(-g*(x - theta)))\n",
      "        elif mode == 'tanh':\n",
      "            if type(x)==list or type(x)==numpy.ndarray:\n",
      "                return [g*tanh(a-theta) + K - g for a in x]\n",
      "            else:\n",
      "                return g*tanh(x-theta) + K - g\n",
      "\n",
      "# return the shape of a Gaussian\n",
      "def gaussian(x=np.linspace(-5,5,50),sigma=1.,mu=0.):\n",
      "     return np.array([(1./(2.*pi*sigma**2))*np.exp((-(xi-mu)**2.)/(2.*sigma**2)) for xi in x])\n",
      "\n",
      "# return a 2d difference of Gaussians with zero mean and unit variance\n",
      "def spatial_filter_2d(c_width=1.,s_width=2.,xs_num=50):\n",
      "    xs = np.linspace(-5,5,xs_num)\n",
      "    S = gaussian(x=xs, sigma=s_width)\n",
      "    C = gaussian(x=xs, sigma=c_width)\n",
      "    S = S/np.sum(S)\n",
      "    C = C/np.sum(C)\n",
      "    S_2d = zeros((len(S),len(S)))\n",
      "    C_2d = zeros((len(C),len(C)))\n",
      "    for idx,x in enumerate(xs):\n",
      "        for idy,y in enumerate(xs):\n",
      "            S_2d[idx,idy] = S[np.min([int(np.sqrt((idx-np.floor(len(xs)/2.))**2 \n",
      "                                                     + (idy-np.floor(len(xs)/2.))**2) + np.floor(len(xs)/2.)), len(xs)-1])]\n",
      "            C_2d[idx,idy] = C[np.min([int(np.sqrt((idx-np.floor(len(xs)/2.))**2 \n",
      "                                                     + (idy-np.floor(len(xs)/2.))**2) + np.floor(len(xs)/2.)), len(xs)-1])]\n",
      "    # Make all surrounds have same peak sensitivity of 1.\n",
      "    S_2d = S_2d/np.max(S_2d)\n",
      "    # Make center have same integral as surround\n",
      "    C_2d = (np.sum(S_2d)/np.sum(C_2d))*C_2d\n",
      "    X = C_2d - S_2d\n",
      "    \n",
      "    return X/np.sqrt(np.var(X))"
     ],
     "language": "python",
     "metadata": {},
     "outputs": [],
     "prompt_number": 29
    },
    {
     "cell_type": "code",
     "collapsed": false,
     "input": [
      "# return image patches\n",
      "def load_images(path, numImages, patchSize):\n",
      "    allfiles = [f for f in listdir(path) if isfile(join(path,f)) and '.imc' in f]\n",
      "    names    = allfiles[:numImages]\n",
      "    patches  = []\n",
      "\n",
      "    for im in names:\n",
      "        fin = open(path+'/'+im, 'rb')\n",
      "        s   = fin.read()\n",
      "        fin.close()\n",
      "        arr = array('H', s)\n",
      "        arr.byteswap()\n",
      "        img = np.array(arr, dtype='uint16').reshape(1024,1536)\n",
      "        img_center = [shape(img)[0]/2,shape(img)[1]/2]\n",
      "        img        = img[img_center[0]:img_center[0]+patchSize,img_center[1]:img_center[1]+patchSize]\n",
      "        img        = img/np.sqrt(np.var(img))\n",
      "        patches.append(img - np.mean(img))\n",
      "\n",
      "    return patches\n",
      "\n",
      "# plot information\n",
      "def print_matrix(M, min_x, max_x, min_y, max_y, top_title, x_label='size of filter 2', y_label='size of filter 1'):\n",
      "    fig = gcf()\n",
      "    fig.set_size_inches((16,10))\n",
      "    bmap = brewer2mpl.get_map('RdYlBu','diverging',8,reverse=True).mpl_colormap\n",
      "    \n",
      "    imshow(M[::-1,:],interpolation='nearest',cmap=bmap, extent=[min_x,max_x,min_y,max_y])\n",
      "    colorbar()\n",
      "    ylabel(y_label,fontsize=14)\n",
      "    xlabel(x_label,fontsize=14)\n",
      "    title(top_title,fontsize=16)\n",
      "\n",
      "    savefig('Figures/' + time.strftime('%Y-%m-%d %H-%M-%S') + '.eps')\n"
     ],
     "language": "python",
     "metadata": {},
     "outputs": [],
     "prompt_number": 42
    },
    {
     "cell_type": "code",
     "collapsed": false,
     "input": [
      "# return subsampled array\n",
      "def subsample(a, shape, padding = 0):\n",
      "    if a.shape[0] == a.shape[1]:\n",
      "        # a.shape[0]-padding-1 because max index of a is a.shape[0]-1\n",
      "        spacing = np.linspace(padding,a.shape[0]-padding-1,shape[0]).astype(int)\n",
      "        return a[[[s] for s in spacing],spacing]\n",
      "    else:\n",
      "        spacing_x = np.linspace(padding,a.shape[0]-padding-1,shape[0])\n",
      "        spacing_y = np.linspace(padding,a.shape[1]-padding-1,shape[1])\n",
      "        return a[[[s] for s in spacing_x],spacing_y]\n",
      "\n",
      "\n",
      "# return a linear prediction given the filter and an image\n",
      "def linear_output(stimulus,sfilter,numSubunits,borderDist=0):\n",
      "    '''stimulus is space x space\n",
      "       sfilter is space x space\n",
      "       numSubunits is number of LN subunits across a single dimension\n",
      "    '''\n",
      "    output = fftconvolve(stimulus, sfilter, mode='same')\n",
      "    return subsample(output, (numSubunits, numSubunits), padding=borderDist)\n"
     ],
     "language": "python",
     "metadata": {},
     "outputs": [],
     "prompt_number": 31
    },
    {
     "cell_type": "code",
     "collapsed": false,
     "input": [
      "# return the output of the full LNL model\n",
      "def lnl_output(stimulus,filter1,filter2=0.,nonlinearThreshold=1.,nonlinearGain=0.25,numSubunits=16,SNR=1000.,signalVariance=0.,key=3):\n",
      "    ''' key = 0 for L\n",
      "        key = 1 for L-N\n",
      "        key = 2 for L-N + L\n",
      "        key = 3 for L-N-L\n",
      "    '''\n",
      "    # NO NEED TO NORMALIZE STIMULUS (happens in load_images())\n",
      "    \n",
      "    # GET OUTPUT OF FIRST LINEAR STAGE\n",
      "    if key < 3:\n",
      "        ls = linear_output(stimulus,filter1,1,borderDist=stimulus.shape[0]//2)\n",
      "        if key == 0:\n",
      "            return ls\n",
      "        else:\n",
      "            ns = nonlinearity(ls,g=nonlinearGain,theta=nonlinearThreshold)\n",
      "            if key == 1:\n",
      "                return ns\n",
      "            elif key == 2:\n",
      "                return ns + linear_output(stimulus,filter2,numSubunits,borderDist=0)\n",
      "    elif key == 3:\n",
      "        ls = linear_output(stimulus,filter1,numSubunits,borderDist=0)\n",
      "        ns = np.array([nonlinearity(l,g=nonlinearGain,theta=nonlinearThreshold) for l in ls]).reshape((numSubunits,numSubunits))\n",
      "        return linear_output(ns,filter2,1,borderDist=numSubunits//2) + np.sqrt(signalVariance/SNR)*randn(1)\n",
      "    \n",
      "    if key < 0 or key > 3:\n",
      "        raise Exception('Key not recognized.  Must be 0-3')\n",
      "   \n",
      "\n",
      "def get_threshold(stimuli,filter1):\n",
      "    return np.sqrt(np.var(np.array([lnl_output(s,filter1,key=0) for s in stimuli]).flat))\n",
      "\n",
      "def get_signal_variance(stimuli,filter1,filter2,threshold,subunits=16,key=3):\n",
      "    return np.var([lnl_output(s,filter1,filter2,nonlinearThreshold=threshold,numSubunits=subunits,key=key) for s in stimuli])"
     ],
     "language": "python",
     "metadata": {},
     "outputs": [],
     "prompt_number": 11
    },
    {
     "cell_type": "markdown",
     "metadata": {},
     "source": [
      "## Define Parameters"
     ]
    },
    {
     "cell_type": "code",
     "collapsed": false,
     "input": [
      "# PARAMETERS\n",
      "numPhotoreceptors  = 16\n",
      "numSubunits        = 16\n",
      "nonlinearGain      = 0.25\n",
      "fixed_center_width = 0.25\n",
      "s_widths           = np.linspace(0.3,6,10)\n",
      "SNR                = 1000\n",
      "iterations         = 80\n",
      "nBins              = 10\n",
      "numImages          = 20\n",
      "eps                = 10e-5"
     ],
     "language": "python",
     "metadata": {},
     "outputs": [],
     "prompt_number": 12
    },
    {
     "cell_type": "markdown",
     "metadata": {},
     "source": [
      "## Get Data"
     ]
    },
    {
     "cell_type": "code",
     "collapsed": false,
     "input": [
      "# GET DATA\n",
      "patches   = load_images(path=im_path, numImages=numImages, patchSize=32)"
     ],
     "language": "python",
     "metadata": {},
     "outputs": [],
     "prompt_number": 13
    },
    {
     "cell_type": "markdown",
     "metadata": {},
     "source": [
      "## Initialize Arrays"
     ]
    },
    {
     "cell_type": "code",
     "collapsed": false,
     "input": [
      "# INITIALIZE INFORMATION ARRAYS\n",
      "I = zeros((len(s_widths),len(s_widths)))\n",
      "H_rs = zeros((len(s_widths),len(s_widths)))\n",
      "H_r_s_avg = zeros((len(s_widths),len(s_widths)))"
     ],
     "language": "python",
     "metadata": {},
     "outputs": [],
     "prompt_number": 14
    },
    {
     "cell_type": "markdown",
     "metadata": {},
     "source": [
      "## Main Loop"
     ]
    },
    {
     "cell_type": "code",
     "collapsed": false,
     "input": [
      "for ids1,s1 in enumerate(s_widths):\n",
      "    for ids2,s2 in enumerate(s_widths):\n",
      "        start = time.time() \n",
      "\n",
      "        # Make filters\n",
      "        X_2d1 = spatial_filter_2d(c_width=fixed_center_width,s_width=s1,xs_num=numPhotoreceptors)\n",
      "        X_2d2 = spatial_filter_2d(c_width=fixed_center_width,s_width=s2,xs_num=numSubunits)\n",
      "\n",
      "        # Get model threshold and output variance\n",
      "        threshold = get_threshold(patches, X_2d1)\n",
      "        signalVar = get_signal_variance(patches, X_2d1, X_2d2, threshold=threshold, subunits=numSubunits)\n",
      "\n",
      "\n",
      "        output     = zeros((numImages,iterations))\n",
      "        for idi in xrange(numImages):\n",
      "            for it in xrange(iterations):\n",
      "                output[idi,it] = lnl_output(patches[idi],filter1=X_2d1,filter2=X_2d2,nonlinearThreshold=threshold,nonlinearGain=nonlinearGain,signalVariance=signalVar,numSubunits=numSubunits,SNR=SNR,key=3)\n",
      "\n",
      "        # pad binning in off-chance that output has zero entropy\n",
      "        binning = np.linspace(np.min(output)-eps,np.max(output)+eps,nBins+1)\n",
      "\n",
      "        H_r = info.entropy(output.flat,Bins=[binning])\n",
      "        H_r_s = []\n",
      "        for s in xrange(int(numImages)):\n",
      "            H_r_s.append(info.entropy(output[s,:],Bins=[binning]))\n",
      "        I[ids1,ids2] = H_r - np.mean(H_r_s)\n",
      "        H_rs[ids1,ids2] = H_r\n",
      "        H_r_s_avg[ids1,ids2] = np.mean(H_r_s)\n",
      "\n",
      "        msg = 'Current sweep is (%d,%d) of (%d,%d).' % (ids1,ids2,len(s_widths)-1,len(s_widths)-1)\n",
      "        print msg,' It took', time.time()-start, 'seconds.' "
     ],
     "language": "python",
     "metadata": {},
     "outputs": [
      {
       "output_type": "stream",
       "stream": "stdout",
       "text": [
        "Current sweep is (0,0) of (9,9).  It took 3.55704092979 seconds.\n",
        "Current sweep is (0,1) of (9,9)."
       ]
      },
      {
       "output_type": "stream",
       "stream": "stdout",
       "text": [
        "  It took 3.54374313354 seconds.\n",
        "Current sweep is (0,2) of (9,9)."
       ]
      },
      {
       "output_type": "stream",
       "stream": "stdout",
       "text": [
        "  It took 3.54830408096 seconds.\n",
        "Current sweep is (0,3) of (9,9)."
       ]
      },
      {
       "output_type": "stream",
       "stream": "stdout",
       "text": [
        "  It took 3.55418515205 seconds.\n",
        "Current sweep is (0,4) of (9,9)."
       ]
      },
      {
       "output_type": "stream",
       "stream": "stdout",
       "text": [
        "  It took 3.54474401474 seconds.\n",
        "Current sweep is (0,5) of (9,9)."
       ]
      },
      {
       "output_type": "stream",
       "stream": "stdout",
       "text": [
        "  It took 3.5310049057 seconds.\n",
        "Current sweep is (0,6) of (9,9)."
       ]
      },
      {
       "output_type": "stream",
       "stream": "stdout",
       "text": [
        "  It took 3.54377794266 seconds.\n",
        "Current sweep is (0,7) of (9,9)."
       ]
      },
      {
       "output_type": "stream",
       "stream": "stdout",
       "text": [
        "  It took 3.54399991035 seconds.\n",
        "Current sweep is (0,8) of (9,9)."
       ]
      },
      {
       "output_type": "stream",
       "stream": "stdout",
       "text": [
        "  It took 3.53976488113 seconds.\n",
        "Current sweep is (0,9) of (9,9)."
       ]
      },
      {
       "output_type": "stream",
       "stream": "stdout",
       "text": [
        "  It took 3.54678988457 seconds.\n",
        "Current sweep is (1,0) of (9,9)."
       ]
      },
      {
       "output_type": "stream",
       "stream": "stdout",
       "text": [
        "  It took 3.54025316238 seconds.\n",
        "Current sweep is (1,1) of (9,9)."
       ]
      },
      {
       "output_type": "stream",
       "stream": "stdout",
       "text": [
        "  It took 3.52652907372 seconds.\n",
        "Current sweep is (1,2) of (9,9)."
       ]
      },
      {
       "output_type": "stream",
       "stream": "stdout",
       "text": [
        "  It took 3.54126811028 seconds.\n",
        "Current sweep is (1,3) of (9,9)."
       ]
      },
      {
       "output_type": "stream",
       "stream": "stdout",
       "text": [
        "  It took 3.53758788109 seconds.\n",
        "Current sweep is (1,4) of (9,9)."
       ]
      },
      {
       "output_type": "stream",
       "stream": "stdout",
       "text": [
        "  It took 3.53394985199 seconds.\n",
        "Current sweep is (1,5) of (9,9)."
       ]
      },
      {
       "output_type": "stream",
       "stream": "stdout",
       "text": [
        "  It took 3.5425260067 seconds.\n",
        "Current sweep is (1,6) of (9,9)."
       ]
      },
      {
       "output_type": "stream",
       "stream": "stdout",
       "text": [
        "  It took 3.5385890007 seconds.\n",
        "Current sweep is (1,7) of (9,9)."
       ]
      },
      {
       "output_type": "stream",
       "stream": "stdout",
       "text": [
        "  It took 3.52696800232 seconds.\n",
        "Current sweep is (1,8) of (9,9)."
       ]
      },
      {
       "output_type": "stream",
       "stream": "stdout",
       "text": [
        "  It took 3.53836607933 seconds.\n",
        "Current sweep is (1,9) of (9,9)."
       ]
      },
      {
       "output_type": "stream",
       "stream": "stdout",
       "text": [
        "  It took 3.53376603127 seconds.\n",
        "Current sweep is (2,0) of (9,9)."
       ]
      },
      {
       "output_type": "stream",
       "stream": "stdout",
       "text": [
        "  It took 3.5370850563 seconds.\n",
        "Current sweep is (2,1) of (9,9)."
       ]
      },
      {
       "output_type": "stream",
       "stream": "stdout",
       "text": [
        "  It took 3.5408539772 seconds.\n",
        "Current sweep is (2,2) of (9,9)."
       ]
      },
      {
       "output_type": "stream",
       "stream": "stdout",
       "text": [
        "  It took 3.53877186775 seconds.\n",
        "Current sweep is (2,3) of (9,9)."
       ]
      },
      {
       "output_type": "stream",
       "stream": "stdout",
       "text": [
        "  It took 3.52755999565 seconds.\n",
        "Current sweep is (2,4) of (9,9)."
       ]
      },
      {
       "output_type": "stream",
       "stream": "stdout",
       "text": [
        "  It took 3.53853821754 seconds.\n",
        "Current sweep is (2,5) of (9,9)."
       ]
      },
      {
       "output_type": "stream",
       "stream": "stdout",
       "text": [
        "  It took 3.53707695007 seconds.\n",
        "Current sweep is (2,6) of (9,9)."
       ]
      },
      {
       "output_type": "stream",
       "stream": "stdout",
       "text": [
        "  It took 3.53177595139 seconds.\n",
        "Current sweep is (2,7) of (9,9)."
       ]
      },
      {
       "output_type": "stream",
       "stream": "stdout",
       "text": [
        "  It took 3.54662704468 seconds.\n",
        "Current sweep is (2,8) of (9,9)."
       ]
      },
      {
       "output_type": "stream",
       "stream": "stdout",
       "text": [
        "  It took 3.53875803947 seconds.\n",
        "Current sweep is (2,9) of (9,9)."
       ]
      },
      {
       "output_type": "stream",
       "stream": "stdout",
       "text": [
        "  It took 3.52607083321 seconds.\n",
        "Current sweep is (3,0) of (9,9)."
       ]
      },
      {
       "output_type": "stream",
       "stream": "stdout",
       "text": [
        "  It took 3.5398850441 seconds.\n",
        "Current sweep is (3,1) of (9,9)."
       ]
      },
      {
       "output_type": "stream",
       "stream": "stdout",
       "text": [
        "  It took 3.53933691978 seconds.\n",
        "Current sweep is (3,2) of (9,9)."
       ]
      },
      {
       "output_type": "stream",
       "stream": "stdout",
       "text": [
        "  It took 3.53712081909 seconds.\n",
        "Current sweep is (3,3) of (9,9)."
       ]
      },
      {
       "output_type": "stream",
       "stream": "stdout",
       "text": [
        "  It took 3.54287195206 seconds.\n",
        "Current sweep is (3,4) of (9,9)."
       ]
      },
      {
       "output_type": "stream",
       "stream": "stdout",
       "text": [
        "  It took 3.54174613953 seconds.\n",
        "Current sweep is (3,5) of (9,9)."
       ]
      },
      {
       "output_type": "stream",
       "stream": "stdout",
       "text": [
        "  It took 3.53401112556 seconds.\n",
        "Current sweep is (3,6) of (9,9)."
       ]
      },
      {
       "output_type": "stream",
       "stream": "stdout",
       "text": [
        "  It took 3.54353809357 seconds.\n",
        "Current sweep is (3,7) of (9,9)."
       ]
      },
      {
       "output_type": "stream",
       "stream": "stdout",
       "text": [
        "  It took 3.5402610302 seconds.\n",
        "Current sweep is (3,8) of (9,9)."
       ]
      },
      {
       "output_type": "stream",
       "stream": "stdout",
       "text": [
        "  It took 3.53893399239 seconds.\n",
        "Current sweep is (3,9) of (9,9)."
       ]
      },
      {
       "output_type": "stream",
       "stream": "stdout",
       "text": [
        "  It took 3.54771494865 seconds.\n",
        "Current sweep is (4,0) of (9,9)."
       ]
      },
      {
       "output_type": "stream",
       "stream": "stdout",
       "text": [
        "  It took 3.54056715965 seconds.\n",
        "Current sweep is (4,1) of (9,9)."
       ]
      },
      {
       "output_type": "stream",
       "stream": "stdout",
       "text": [
        "  It took 3.53064393997 seconds.\n",
        "Current sweep is (4,2) of (9,9)."
       ]
      },
      {
       "output_type": "stream",
       "stream": "stdout",
       "text": [
        "  It took 3.53755497932 seconds.\n",
        "Current sweep is (4,3) of (9,9)."
       ]
      },
      {
       "output_type": "stream",
       "stream": "stdout",
       "text": [
        "  It took 3.53814101219 seconds.\n",
        "Current sweep is (4,4) of (9,9)."
       ]
      },
      {
       "output_type": "stream",
       "stream": "stdout",
       "text": [
        "  It took 3.54334902763 seconds.\n",
        "Current sweep is (4,5) of (9,9)."
       ]
      },
      {
       "output_type": "stream",
       "stream": "stdout",
       "text": [
        "  It took 3.53798389435 seconds.\n",
        "Current sweep is (4,6) of (9,9)."
       ]
      },
      {
       "output_type": "stream",
       "stream": "stdout",
       "text": [
        "  It took 3.5380089283 seconds.\n",
        "Current sweep is (4,7) of (9,9)."
       ]
      },
      {
       "output_type": "stream",
       "stream": "stdout",
       "text": [
        "  It took 3.53021907806 seconds.\n",
        "Current sweep is (4,8) of (9,9)."
       ]
      },
      {
       "output_type": "stream",
       "stream": "stdout",
       "text": [
        "  It took 3.53971004486 seconds.\n",
        "Current sweep is (4,9) of (9,9)."
       ]
      },
      {
       "output_type": "stream",
       "stream": "stdout",
       "text": [
        "  It took 3.53739309311 seconds.\n",
        "Current sweep is (5,0) of (9,9)."
       ]
      },
      {
       "output_type": "stream",
       "stream": "stdout",
       "text": [
        "  It took 3.53583192825 seconds.\n",
        "Current sweep is (5,1) of (9,9)."
       ]
      },
      {
       "output_type": "stream",
       "stream": "stdout",
       "text": [
        "  It took 3.54084587097 seconds.\n",
        "Current sweep is (5,2) of (9,9)."
       ]
      },
      {
       "output_type": "stream",
       "stream": "stdout",
       "text": [
        "  It took 3.5380449295 seconds.\n",
        "Current sweep is (5,3) of (9,9)."
       ]
      },
      {
       "output_type": "stream",
       "stream": "stdout",
       "text": [
        "  It took 3.52642083168 seconds.\n",
        "Current sweep is (5,4) of (9,9)."
       ]
      },
      {
       "output_type": "stream",
       "stream": "stdout",
       "text": [
        "  It took 3.54121804237 seconds.\n",
        "Current sweep is (5,5) of (9,9)."
       ]
      },
      {
       "output_type": "stream",
       "stream": "stdout",
       "text": [
        "  It took 3.53268694878 seconds.\n",
        "Current sweep is (5,6) of (9,9)."
       ]
      },
      {
       "output_type": "stream",
       "stream": "stdout",
       "text": [
        "  It took 3.53720378876 seconds.\n",
        "Current sweep is (5,7) of (9,9)."
       ]
      },
      {
       "output_type": "stream",
       "stream": "stdout",
       "text": [
        "  It took 3.54008603096 seconds.\n",
        "Current sweep is (5,8) of (9,9)."
       ]
      },
      {
       "output_type": "stream",
       "stream": "stdout",
       "text": [
        "  It took 3.53627085686 seconds.\n",
        "Current sweep is (5,9) of (9,9)."
       ]
      },
      {
       "output_type": "stream",
       "stream": "stdout",
       "text": [
        "  It took 3.52687191963 seconds.\n",
        "Current sweep is (6,0) of (9,9)."
       ]
      },
      {
       "output_type": "stream",
       "stream": "stdout",
       "text": [
        "  It took 3.54011678696 seconds.\n",
        "Current sweep is (6,1) of (9,9)."
       ]
      },
      {
       "output_type": "stream",
       "stream": "stdout",
       "text": [
        "  It took 3.5409090519 seconds.\n",
        "Current sweep is (6,2) of (9,9)."
       ]
      },
      {
       "output_type": "stream",
       "stream": "stdout",
       "text": [
        "  It took 3.53764200211 seconds.\n",
        "Current sweep is (6,3) of (9,9)."
       ]
      },
      {
       "output_type": "stream",
       "stream": "stdout",
       "text": [
        "  It took 3.54367184639 seconds.\n",
        "Current sweep is (6,4) of (9,9)."
       ]
      },
      {
       "output_type": "stream",
       "stream": "stdout",
       "text": [
        "  It took 3.53953790665 seconds.\n",
        "Current sweep is (6,5) of (9,9)."
       ]
      },
      {
       "output_type": "stream",
       "stream": "stdout",
       "text": [
        "  It took 3.52667307854 seconds.\n",
        "Current sweep is (6,6) of (9,9)."
       ]
      },
      {
       "output_type": "stream",
       "stream": "stdout",
       "text": [
        "  It took 3.54181098938 seconds.\n",
        "Current sweep is (6,7) of (9,9)."
       ]
      },
      {
       "output_type": "stream",
       "stream": "stdout",
       "text": [
        "  It took 3.53779006004 seconds.\n",
        "Current sweep is (6,8) of (9,9)."
       ]
      },
      {
       "output_type": "stream",
       "stream": "stdout",
       "text": [
        "  It took 3.53551101685 seconds.\n",
        "Current sweep is (6,9) of (9,9)."
       ]
      },
      {
       "output_type": "stream",
       "stream": "stdout",
       "text": [
        "  It took 3.54854488373 seconds.\n",
        "Current sweep is (7,0) of (9,9)."
       ]
      },
      {
       "output_type": "stream",
       "stream": "stdout",
       "text": [
        "  It took 3.53953289986 seconds.\n",
        "Current sweep is (7,1) of (9,9)."
       ]
      },
      {
       "output_type": "stream",
       "stream": "stdout",
       "text": [
        "  It took 3.52720308304 seconds.\n",
        "Current sweep is (7,2) of (9,9)."
       ]
      },
      {
       "output_type": "stream",
       "stream": "stdout",
       "text": [
        "  It took 3.53935790062 seconds.\n",
        "Current sweep is (7,3) of (9,9)."
       ]
      },
      {
       "output_type": "stream",
       "stream": "stdout",
       "text": [
        "  It took 3.53532791138 seconds.\n",
        "Current sweep is (7,4) of (9,9)."
       ]
      },
      {
       "output_type": "stream",
       "stream": "stdout",
       "text": [
        "  It took 3.54048490524 seconds.\n",
        "Current sweep is (7,5) of (9,9)."
       ]
      },
      {
       "output_type": "stream",
       "stream": "stdout",
       "text": [
        "  It took 3.54418301582 seconds.\n",
        "Current sweep is (7,6) of (9,9)."
       ]
      },
      {
       "output_type": "stream",
       "stream": "stdout",
       "text": [
        "  It took 3.54264616966 seconds.\n",
        "Current sweep is (7,7) of (9,9)."
       ]
      },
      {
       "output_type": "stream",
       "stream": "stdout",
       "text": [
        "  It took 3.52719712257 seconds.\n",
        "Current sweep is (7,8) of (9,9)."
       ]
      },
      {
       "output_type": "stream",
       "stream": "stdout",
       "text": [
        "  It took 3.54718708992 seconds.\n",
        "Current sweep is (7,9) of (9,9)."
       ]
      },
      {
       "output_type": "stream",
       "stream": "stdout",
       "text": [
        "  It took 3.53997302055 seconds.\n",
        "Current sweep is (8,0) of (9,9)."
       ]
      },
      {
       "output_type": "stream",
       "stream": "stdout",
       "text": [
        "  It took 3.53971600533 seconds.\n",
        "Current sweep is (8,1) of (9,9)."
       ]
      },
      {
       "output_type": "stream",
       "stream": "stdout",
       "text": [
        "  It took 3.54681801796 seconds.\n",
        "Current sweep is (8,2) of (9,9)."
       ]
      },
      {
       "output_type": "stream",
       "stream": "stdout",
       "text": [
        "  It took 3.53763890266 seconds.\n",
        "Current sweep is (8,3) of (9,9)."
       ]
      },
      {
       "output_type": "stream",
       "stream": "stdout",
       "text": [
        "  It took 3.53362894058 seconds.\n",
        "Current sweep is (8,4) of (9,9)."
       ]
      },
      {
       "output_type": "stream",
       "stream": "stdout",
       "text": [
        "  It took 3.55515003204 seconds.\n",
        "Current sweep is (8,5) of (9,9)."
       ]
      },
      {
       "output_type": "stream",
       "stream": "stdout",
       "text": [
        "  It took 3.548858881 seconds.\n",
        "Current sweep is (8,6) of (9,9)."
       ]
      },
      {
       "output_type": "stream",
       "stream": "stdout",
       "text": [
        "  It took 3.54779005051 seconds.\n",
        "Current sweep is (8,7) of (9,9)."
       ]
      },
      {
       "output_type": "stream",
       "stream": "stdout",
       "text": [
        "  It took 3.54440593719 seconds.\n",
        "Current sweep is (8,8) of (9,9)."
       ]
      },
      {
       "output_type": "stream",
       "stream": "stdout",
       "text": [
        "  It took 3.53898286819 seconds.\n",
        "Current sweep is (8,9) of (9,9)."
       ]
      },
      {
       "output_type": "stream",
       "stream": "stdout",
       "text": [
        "  It took 3.52776193619 seconds.\n",
        "Current sweep is (9,0) of (9,9)."
       ]
      },
      {
       "output_type": "stream",
       "stream": "stdout",
       "text": [
        "  It took 3.54137706757 seconds.\n",
        "Current sweep is (9,1) of (9,9)."
       ]
      },
      {
       "output_type": "stream",
       "stream": "stdout",
       "text": [
        "  It took 3.53530812263 seconds.\n",
        "Current sweep is (9,2) of (9,9)."
       ]
      },
      {
       "output_type": "stream",
       "stream": "stdout",
       "text": [
        "  It took 3.53825592995 seconds.\n",
        "Current sweep is (9,3) of (9,9)."
       ]
      },
      {
       "output_type": "stream",
       "stream": "stdout",
       "text": [
        "  It took 3.54085898399 seconds.\n",
        "Current sweep is (9,4) of (9,9)."
       ]
      },
      {
       "output_type": "stream",
       "stream": "stdout",
       "text": [
        "  It took 3.54182696342 seconds.\n",
        "Current sweep is (9,5) of (9,9)."
       ]
      },
      {
       "output_type": "stream",
       "stream": "stdout",
       "text": [
        "  It took 3.52895903587 seconds.\n",
        "Current sweep is (9,6) of (9,9)."
       ]
      },
      {
       "output_type": "stream",
       "stream": "stdout",
       "text": [
        "  It took 3.54144716263 seconds.\n",
        "Current sweep is (9,7) of (9,9)."
       ]
      },
      {
       "output_type": "stream",
       "stream": "stdout",
       "text": [
        "  It took 3.54167485237 seconds.\n",
        "Current sweep is (9,8) of (9,9)."
       ]
      },
      {
       "output_type": "stream",
       "stream": "stdout",
       "text": [
        "  It took 3.53450202942 seconds.\n",
        "Current sweep is (9,9) of (9,9)."
       ]
      },
      {
       "output_type": "stream",
       "stream": "stdout",
       "text": [
        "  It took 3.5395488739 seconds.\n"
       ]
      }
     ],
     "prompt_number": 33
    },
    {
     "cell_type": "code",
     "collapsed": false,
     "input": [
      "print_matrix(I, min_x=s_widths[0], max_x=s_widths[-1], min_y=s_widths[0], max_y=s_widths[-1], top_title='Information transmission in LNL model')"
     ],
     "language": "python",
     "metadata": {},
     "outputs": [
      {
       "metadata": {},
       "output_type": "display_data",
       "png": "[encoded data removed]",
       "text": [
        "<matplotlib.figure.Figure at 0x4473650>"
       ]
      }
     ],
     "prompt_number": 44
    },
    {
     "cell_type": "code",
     "collapsed": false,
     "input": [
      "print_matrix(H_rs, min_x=s_widths[0], max_x=s_widths[-1], min_y=s_widths[0], max_y=s_widths[-1], top_title='Total response entropy')"
     ],
     "language": "python",
     "metadata": {},
     "outputs": [
      {
       "metadata": {},
       "output_type": "display_data",
       "png": "[encoded data removed]",
       "text": [
        "<matplotlib.figure.Figure at 0x44227d0>"
       ]
      }
     ],
     "prompt_number": 46
    },
    {
     "cell_type": "code",
     "collapsed": false,
     "input": [
      "print_matrix(H_r_s_avg, min_x=s_widths[0], max_x=s_widths[-1], min_y=s_widths[0], max_y=s_widths[-1], top_title='Average conditional entropy')"
     ],
     "language": "python",
     "metadata": {},
     "outputs": [
      {
       "metadata": {},
       "output_type": "display_data",
       "png": "[encoded data removed]",
       "text": [
        "<matplotlib.figure.Figure at 0x437a290>"
       ]
      }
     ],
     "prompt_number": 47
    },
    {
     "cell_type": "code",
     "collapsed": false,
     "input": [],
     "language": "python",
     "metadata": {},
     "outputs": []
    }
   ],
   "metadata": {}
  }
 ]
}