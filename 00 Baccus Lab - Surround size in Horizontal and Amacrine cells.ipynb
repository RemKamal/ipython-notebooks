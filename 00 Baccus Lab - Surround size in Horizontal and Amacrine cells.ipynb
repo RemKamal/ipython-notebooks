{
 "metadata": {
  "name": "",
  "signature": "sha256:347bb706a6fa7d9ce92cff3feb8c68cb5cd9600738a1f871ce8bbec9e70d1cb1"
 },
 "nbformat": 3,
 "nbformat_minor": 0,
 "worksheets": [
  {
   "cells": [
    {
     "cell_type": "markdown",
     "metadata": {},
     "source": [
      "## Efficient coding and relative sizes of horizontal and amacrine cell surrounds"
     ]
    },
    {
     "cell_type": "code",
     "collapsed": false,
     "input": [
      "import numpy as np"
     ],
     "language": "python",
     "metadata": {},
     "outputs": [],
     "prompt_number": 2
    },
    {
     "cell_type": "code",
     "collapsed": false,
     "input": [],
     "language": "python",
     "metadata": {},
     "outputs": []
    }
   ],
   "metadata": {}
  }
 ]
}