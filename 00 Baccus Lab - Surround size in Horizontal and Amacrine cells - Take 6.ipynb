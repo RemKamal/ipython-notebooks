{
 "metadata": {
  "name": "",
  "signature": "sha256:531c1cb12ea24b5762a4b35c6dec02015a2b3e5d3fd11e2d56898ff49da03715"
 },
 "nbformat": 3,
 "nbformat_minor": 0,
 "worksheets": [
  {
   "cells": [
    {
     "cell_type": "code",
     "collapsed": false,
     "input": [
      "import numpy as np\n",
      "import brewer2mpl\n",
      "from math import tanh\n",
      "from scipy.optimize import minimize\n",
      "from scipy.interpolate import interp1d\n",
      "import time\n",
      "#from datetime import datetime"
     ],
     "language": "python",
     "metadata": {},
     "outputs": [],
     "prompt_number": 1
    },
    {
     "cell_type": "code",
     "collapsed": false,
     "input": [
      "cd .."
     ],
     "language": "python",
     "metadata": {},
     "outputs": [
      {
       "output_type": "stream",
       "stream": "stdout",
       "text": [
        "/home/lane\n"
       ]
      }
     ],
     "prompt_number": 2
    },
    {
     "cell_type": "code",
     "collapsed": false,
     "input": [
      "cd information-theory-toolbox/"
     ],
     "language": "python",
     "metadata": {},
     "outputs": [
      {
       "output_type": "stream",
       "stream": "stdout",
       "text": [
        "/home/lane/information-theory-toolbox\n"
       ]
      }
     ],
     "prompt_number": 3
    },
    {
     "cell_type": "code",
     "collapsed": false,
     "input": [
      "from info_theory_functions import *"
     ],
     "language": "python",
     "metadata": {},
     "outputs": [],
     "prompt_number": 4
    },
    {
     "cell_type": "code",
     "collapsed": false,
     "input": [
      "cd .."
     ],
     "language": "python",
     "metadata": {},
     "outputs": [
      {
       "output_type": "stream",
       "stream": "stdout",
       "text": [
        "/home/lane\n"
       ]
      }
     ],
     "prompt_number": 5
    },
    {
     "cell_type": "code",
     "collapsed": false,
     "input": [
      "cd iPython_notebooks/"
     ],
     "language": "python",
     "metadata": {},
     "outputs": [
      {
       "output_type": "stream",
       "stream": "stdout",
       "text": [
        "/home/lane/iPython_notebooks\n"
       ]
      }
     ],
     "prompt_number": 6
    },
    {
     "cell_type": "markdown",
     "metadata": {},
     "source": [
      "# Functions"
     ]
    },
    {
     "cell_type": "code",
     "collapsed": false,
     "input": [
      "def pinkNoise(duration):\n",
      "    x_t    = np.random.randn(2*duration)\n",
      "    x_f    = np.fft.rfft(x_t)[:len(x_t)/2]\n",
      "    f      = linspace(1,duration,len(x_f))\n",
      "    fi     = 1./f\n",
      "    pink_f = x_f*fi\n",
      "\n",
      "    return real(np.fft.ifft(pink_f))"
     ],
     "language": "python",
     "metadata": {},
     "outputs": [],
     "prompt_number": 7
    },
    {
     "cell_type": "code",
     "collapsed": false,
     "input": [
      "def nonlinearity(x,K=1.,g=1.,theta=0.,mode='sigmoid',normalized=False):\n",
      "    if normalized:\n",
      "        if mode == 'sigmoid':\n",
      "            n = K/(1+np.exp(-g*(x - theta)))\n",
      "        elif mode == 'tanh':\n",
      "            if type(x)==list or type(x)==numpy.ndarray:\n",
      "                n = [g*tanh(a-theta) + K - g for a in x]\n",
      "            else:\n",
      "                n = g*tanh(x-theta) + K - g\n",
      "        return np.array(n)/np.sqrt(np.var(np.array(n)))\n",
      "    else:\n",
      "        if mode == 'sigmoid':\n",
      "            return K/(1+np.exp(-g*(x - theta)))\n",
      "        elif mode == 'tanh':\n",
      "            if type(x)==list or type(x)==numpy.ndarray:\n",
      "                return [g*tanh(a-theta) + K - g for a in x]\n",
      "            else:\n",
      "                return g*tanh(x-theta) + K - g"
     ],
     "language": "python",
     "metadata": {},
     "outputs": [],
     "prompt_number": 8
    },
    {
     "cell_type": "code",
     "collapsed": false,
     "input": [
      "def gaussian(xs=np.linspace(-5,5,50),sigma=1.,mu=0.):\n",
      "     return np.array([(1./(2.*pi*sigma**2))*np.exp((-(x-mu)**2.)/(2.*sigma**2)) for x in xs])"
     ],
     "language": "python",
     "metadata": {},
     "outputs": [],
     "prompt_number": 9
    },
    {
     "cell_type": "code",
     "collapsed": false,
     "input": [
      "def spatial_filter_1d(ratio=2.,center_scale=1.,center_width=1.,surround_width=2.,xs_all=np.linspace(-5,5,50)):\n",
      "    '''ratio = integral of surround/integral of center\n",
      "       center_scale = integral of center\n",
      "       center_width = variance of the center gaussian\n",
      "       surround_width = variance of the surround gaussian\n",
      "       xs = the number of points computed'''\n",
      "    center = gaussian(xs=xs_all,sigma=center_width,mu=0.)\n",
      "    surround = gaussian(xs=xs_all,sigma=surround_width,mu=0.)\n",
      "    center = (center_scale/(len(center)*np.sum(center)))*center\n",
      "    surround = ((ratio*center_scale)/(len(surround)*np.sum(surround)))*surround\n",
      "    return center - surround"
     ],
     "language": "python",
     "metadata": {},
     "outputs": [],
     "prompt_number": 10
    },
    {
     "cell_type": "code",
     "collapsed": false,
     "input": [
      "def spatial_filter_2d(r=2.,c_scale=1.,c_width=1.,s_width=2.,xs_num=50):\n",
      "    xs = np.linspace(-5,5,xs_num)\n",
      "    X_1d = spatial_filter_1d(ratio=r,center_scale=c_scale,center_width=c_width,surround_width=s_width,xs_all=xs)\n",
      "    X_2d = zeros((len(X_1d),len(X_1d)))\n",
      "    for idx,x in enumerate(xs):\n",
      "        for idy,y in enumerate(xs):\n",
      "            X_2d[idx,idy] = X_1d[np.min([int(np.sqrt((idx-np.floor(len(xs)/2.))**2 \n",
      "                                                     + (idy-np.floor(len(xs)/2.))**2) + np.floor(len(xs)/2.)), len(xs)-1])]\n",
      "    return X_2d"
     ],
     "language": "python",
     "metadata": {},
     "outputs": [],
     "prompt_number": 11
    },
    {
     "cell_type": "markdown",
     "metadata": {},
     "source": [
      "#### It seems from the interaction below that we can just fix the ratio for the time being, and then verify later that scale doesn't affect the results."
     ]
    },
    {
     "cell_type": "code",
     "collapsed": false,
     "input": [
      "from IPython.html.widgets import interact, interactive, fixed\n",
      "from IPython.html import widgets\n",
      "\n",
      "bmap = brewer2mpl.get_map('Greys','sequential',8,reverse=True).mpl_colormap\n",
      "def f(x,y,z,w):\n",
      "    fig = gcf()\n",
      "    fig.set_size_inches((10,3))\n",
      "    \n",
      "    subplot(1,2,1)\n",
      "    X_2d = spatial_filter_2d(r=x,c_scale=y,c_width=z,s_width=w)\n",
      "    imshow(X_2d,cmap=bmap,interpolation='nearest')\n",
      "    colorbar()\n",
      "    \n",
      "    subplot(1,2,2)\n",
      "    plot(X_2d[len(X_2d)/2,:],'k')\n",
      "\n",
      "blah = interact(f,x=0.5,y=50.,z=1.,w=1.05)"
     ],
     "language": "python",
     "metadata": {},
     "outputs": [
      {
       "metadata": {},
       "output_type": "display_data",
       "png": "[encoded data removed]",
       "text": [
        "<matplotlib.figure.Figure at 0x3ec7410>"
       ]
      }
     ],
     "prompt_number": 12
    },
    {
     "cell_type": "markdown",
     "metadata": {},
     "source": [
      "## Natural images"
     ]
    },
    {
     "cell_type": "code",
     "collapsed": false,
     "input": [
      "import array\n",
      "from PIL import Image\n",
      "import glob, os"
     ],
     "language": "python",
     "metadata": {},
     "outputs": [],
     "prompt_number": 13
    },
    {
     "cell_type": "code",
     "collapsed": false,
     "input": [
      "cd ~/Natural_images/imc"
     ],
     "language": "python",
     "metadata": {},
     "outputs": [
      {
       "output_type": "stream",
       "stream": "stdout",
       "text": [
        "/home/lane/Natural_images/imc\n"
       ]
      }
     ],
     "prompt_number": 14
    },
    {
     "cell_type": "markdown",
     "metadata": {},
     "source": [
      "## Models"
     ]
    },
    {
     "cell_type": "code",
     "collapsed": false,
     "input": [
      "def linear_prediction_natural(stimulus,sfilter,posx=0,posy=0):\n",
      "    '''stimulus is space x 1 or space x space\n",
      "       full_filter is space x time\n",
      "    '''\n",
      "    if shape(stimulus)[0] > shape(sfilter)[0]:\n",
      "        padded_spatial_filter = zeros((shape(stimulus)[0],shape(stimulus)[1]))\n",
      "        if posx > shape(stimulus)[0]:\n",
      "            print('posx is larger than spatial extent of stimulus')\n",
      "        if posy > shape(stimulus)[1]:\n",
      "            print('posy is larger than spatial extent of stimulus')\n",
      "        remainder_x = np.min([shape(stimulus)[0] - posx, shape(sfilter)[0]])\n",
      "        remainder_y = np.min([shape(stimulus)[1] - posy, shape(sfilter)[1]])\n",
      "        padded_spatial_filter[posx:posx+remainder_x,posy:posy+remainder_y] = sfilter[0:remainder_x,0:remainder_y]\n",
      "        sfilter = padded_spatial_filter\n",
      "\n",
      "    if shape(stimulus)[0] < shape(sfilter)[0]:\n",
      "        msg = 'Filter is too large; stim shape is (%d,%d), filter shape is (%d,%d)' % (shape(stimulus)[0],shape(stimulus)[1],\n",
      "                                                                                       shape(sfilter)[0],shape(sfilter)[1])\n",
      "        print(msg)\n",
      "\n",
      "    return np.sum(stimulus*sfilter)"
     ],
     "language": "python",
     "metadata": {},
     "outputs": [],
     "prompt_number": 22
    },
    {
     "cell_type": "code",
     "collapsed": false,
     "input": [
      "def ln_natural(stimulus,ratio1,c_scale1,c_width1,s_width1,noise_model='after-nonlinearity',xs_size1=16):\n",
      "    \n",
      "    SNR = 1000.\n",
      "    \n",
      "    # NORMALIZE STIMULUS\n",
      "    stimulus = stimulus/np.sqrt(np.var(stimulus))\n",
      "    stimulus = stimulus - np.mean(stimulus)\n",
      "    \n",
      "    # CREATE FILTERS\n",
      "    X_2d1 = spatial_filter_2d(r=ratio1,c_scale=c_scale1,c_width=c_width1,s_width=s_width1,xs_num=xs_size1)\n",
      "    \n",
      "    # MAKE NONLINEARITY BE CDF OF FILTERED STANDARD GAUSSIAN\n",
      "    nSamples = 1000\n",
      "    num_bins = 50\n",
      "    pad_interpolation = 100\n",
      "    tmp = randn(xs_size1,xs_size1,nSamples)\n",
      "    fil = np.array([np.sum(tmp[:,:,t]*X_2d1) for t in xrange(nSamples)])\n",
      "    counts, bin_edges = numpy.histogram(fil, bins=num_bins, normed=True)\n",
      "    cdf = numpy.cumsum(counts)\n",
      "    cdf = cdf/np.max(cdf)\n",
      "    cdf = np.insert(cdf,0,np.zeros(pad_interpolation,))\n",
      "    cdf = np.append(cdf,np.ones(pad_interpolation))\n",
      "    \n",
      "    arrange_back = np.array(range(pad_interpolation-1)[::-1])+1\n",
      "    arrange_forw = np.array(range(pad_interpolation))+1\n",
      "    bin_edges = np.insert(bin_edges,0,bin_edges[0]*np.ones(pad_interpolation-1)-arrange_back*(bin_edges[1]-bin_edges[0]))\n",
      "    bin_edges = np.append(bin_edges,bin_edges[-1]*np.ones(pad_interpolation)+arrange_forw*(bin_edges[-1]-bin_edges[-2]))\n",
      "    nonlinear = interp1d(bin_edges,cdf)\n",
      "\n",
      "    # FILTER STIMULUS\n",
      "    ls = linear_prediction_natural(stimulus,sfilter=X_2d1,posx=0,posy=0)\n",
      "    \n",
      "    # TAKE NONLINEAR TRANSFORMATION OF FILTER OUTPUT\n",
      "    if noise_model == 'after-nonlinearity':\n",
      "        ns = nonlinear(ls) + np.sqrt(1./SNR)*randn(1)\n",
      "    else:\n",
      "        ns = nonlinear(ls)\n",
      "    \n",
      "    return ls,ns[0]"
     ],
     "language": "python",
     "metadata": {},
     "outputs": [],
     "prompt_number": 56
    },
    {
     "cell_type": "code",
     "collapsed": false,
     "input": [
      "ls,ns = ln_natural(img_patches[0],ratio1=0.5,c_scale1=1.,c_width1=1.,s_width1=2.)"
     ],
     "language": "python",
     "metadata": {},
     "outputs": [],
     "prompt_number": 66
    },
    {
     "cell_type": "code",
     "collapsed": false,
     "input": [
      "ls"
     ],
     "language": "python",
     "metadata": {},
     "outputs": [
      {
       "metadata": {},
       "output_type": "pyout",
       "prompt_number": 67,
       "text": [
        "-0.04328216364854847"
       ]
      }
     ],
     "prompt_number": 67
    },
    {
     "cell_type": "code",
     "collapsed": false,
     "input": [
      "ns"
     ],
     "language": "python",
     "metadata": {},
     "outputs": [
      {
       "metadata": {},
       "output_type": "pyout",
       "prompt_number": 68,
       "text": [
        "0.11089389960150733"
       ]
      }
     ],
     "prompt_number": 68
    },
    {
     "cell_type": "markdown",
     "metadata": {},
     "source": [
      "## Investigate parameter space for natural images"
     ]
    },
    {
     "cell_type": "code",
     "collapsed": false,
     "input": [
      "# Ratio of surround integral to center integral\n",
      "ratios   = np.linspace(0,4,10) # from completely monophasic (0) to 4x stronger surround\n",
      "#r1 = 1.\n",
      "# Center scale (integral of center gaussian); this doesn't really change shape, but we should still make sure that our \n",
      "# optimization is invariant to this\n",
      "# c_scales = np.linspace(0.1,6,10)\n",
      "c_scales = 50.\n",
      "# Center width; varies from 0.1 to minimum surround width (otherwise bimodal looking filter)\n",
      "#c_width  = np.linspace(0.1,2,10) # from delta-function-like to completely broad monophasic\n",
      "c1 = 1.\n",
      "# Surround width (start at max(c_width), otherwise surround just becomes center)\n",
      "s_width  = np.linspace(1.1,6,10)\n",
      "#s1 = 2.\n",
      "#s2 = 2."
     ],
     "language": "python",
     "metadata": {},
     "outputs": [],
     "prompt_number": 73
    },
    {
     "cell_type": "markdown",
     "metadata": {},
     "source": [
      "#### Get image data"
     ]
    },
    {
     "cell_type": "code",
     "collapsed": false,
     "input": [
      "from os import listdir\n",
      "from os.path import isfile, join\n",
      "import os"
     ],
     "language": "python",
     "metadata": {},
     "outputs": [],
     "prompt_number": 70
    },
    {
     "cell_type": "code",
     "collapsed": false,
     "input": [
      "curr_dir = os.getcwd()\n",
      "allfiles = [f for f in listdir(curr_dir) if isfile(join(curr_dir,f)) and '.imc' in f]"
     ],
     "language": "python",
     "metadata": {},
     "outputs": [],
     "prompt_number": 71
    },
    {
     "cell_type": "code",
     "collapsed": false,
     "input": [
      "numImages = 20\n",
      "curr_dir  = os.getcwd()\n",
      "allfiles  = [f for f in listdir(curr_dir) if isfile(join(curr_dir,f)) and '.imc' in f]\n",
      "names     = allfiles[:numImages]\n",
      "\n",
      "img_patches = []\n",
      "for im in names:\n",
      "    fin = open( im, 'rb' )\n",
      "    s = fin.read()\n",
      "    fin.close()\n",
      "    arr = array.array('H', s)\n",
      "    arr.byteswap()\n",
      "    img = numpy.array(arr, dtype='uint16').reshape(1024,1536)\n",
      "    patch_size = 16\n",
      "    img_center = [shape(img)[0]/2,shape(img)[1]/2]\n",
      "    img_patch = img[img_center[0]:img_center[0]+patch_size,img_center[1]:img_center[1]+patch_size]\n",
      "    img_patch = img_patch/np.sqrt(np.var(img_patch))\n",
      "    img_patches.append(img_patch - np.mean(img_patch))"
     ],
     "language": "python",
     "metadata": {},
     "outputs": [],
     "prompt_number": 20
    },
    {
     "cell_type": "code",
     "collapsed": false,
     "input": [
      "I = zeros((len(s_width),len(ratios)))\n",
      "H_rs = zeros((len(s_width),len(ratios)))\n",
      "H_r_s_avg = zeros((len(s_width),len(ratios)))\n",
      "rss = []\n",
      "for ids1,s1 in enumerate(s_width):\n",
      "    for idr1,r1 in enumerate(ratios):\n",
      "        start = time.time()                     \n",
      "        iterations = 80\n",
      "        output     = zeros((numImages,iterations))\n",
      "\n",
      "        for idi in xrange(numImages):\n",
      "            for it in xrange(iterations):\n",
      "                ls,output[idi,it] = ln_natural(img_patches[idi],\n",
      "                                                   ratio1=r1,\n",
      "                                                   c_scale1=c_scales,\n",
      "                                                   c_width1=c1,\n",
      "                                                   s_width1=s1,\n",
      "                                                   noise_model='after-nonlinearity',\n",
      "                                                   xs_size1=16)\n",
      "\n",
      "        nBins = 10\n",
      "        # pad binning in off-chance that output has zero entropy\n",
      "        binning = np.linspace(np.min(output)-10e-5,np.max(output)+10e-5,nBins+1)\n",
      "\n",
      "        H_r = entropy(output.flat,Bins=[binning])\n",
      "        H_r_s = []\n",
      "        for s in xrange(int(numImages)):\n",
      "            H_r_s.append(entropy(output[s,:],Bins=[binning]))\n",
      "        I[ids1,idr1] = H_r - np.mean(H_r_s)\n",
      "        H_rs[ids1,idr1] = H_r\n",
      "        H_r_s_avg[ids1,idr1] = np.mean(H_r_s)\n",
      "\n",
      "        msg = 'Current sweep is (%d,%d) of (%d,%d).' % (ids1,idr1,len(s_width)-1,len(ratios)-1)\n",
      "        print msg,' It took', time.time()-start, 'seconds.'\n",
      "        "
     ],
     "language": "python",
     "metadata": {},
     "outputs": [
      {
       "output_type": "stream",
       "stream": "stdout",
       "text": [
        "Current sweep is (0,0) of (9,9).  It took 201.820918083 seconds.\n",
        "Current sweep is (0,1) of (9,9)."
       ]
      },
      {
       "output_type": "stream",
       "stream": "stdout",
       "text": [
        "  It took 210.165313005 seconds.\n",
        "Current sweep is (0,2) of (9,9)."
       ]
      },
      {
       "output_type": "stream",
       "stream": "stdout",
       "text": [
        "  It took 199.87005496 seconds.\n",
        "Current sweep is (0,3) of (9,9)."
       ]
      },
      {
       "output_type": "stream",
       "stream": "stdout",
       "text": [
        "  It took 205.327279091 seconds.\n",
        "Current sweep is (0,4) of (9,9)."
       ]
      },
      {
       "output_type": "stream",
       "stream": "stdout",
       "text": [
        "  It took 210.372041941 seconds.\n",
        "Current sweep is (0,5) of (9,9)."
       ]
      },
      {
       "output_type": "stream",
       "stream": "stdout",
       "text": [
        "  It took 207.472103119 seconds.\n",
        "Current sweep is (0,6) of (9,9)."
       ]
      },
      {
       "output_type": "stream",
       "stream": "stdout",
       "text": [
        "  It took 206.059747934 seconds.\n",
        "Current sweep is (0,7) of (9,9)."
       ]
      },
      {
       "output_type": "stream",
       "stream": "stdout",
       "text": [
        "  It took 208.721549034 seconds.\n",
        "Current sweep is (0,8) of (9,9)."
       ]
      },
      {
       "output_type": "stream",
       "stream": "stdout",
       "text": [
        "  It took 206.873579025 seconds.\n",
        "Current sweep is (0,9) of (9,9)."
       ]
      }
     ]
    },
    {
     "cell_type": "markdown",
     "metadata": {},
     "source": [
      "### Visualize results"
     ]
    },
    {
     "cell_type": "code",
     "collapsed": false,
     "input": [
      "fig = gcf()\n",
      "fig.set_size_inches((10,10))\n",
      "\n",
      "bmap = brewer2mpl.get_map('RdYlBu','diverging',8,reverse=True).mpl_colormap\n",
      "\n",
      "imshow(I[::-1,:],interpolation='nearest',cmap=bmap, extent=[ratios[0],ratios[-1],s_width[0],s_width[-1]])\n",
      "colorbar()\n",
      "ylabel('small - Filter surround width - large',fontsize=14)\n",
      "xlabel('small - Filter ratio of magnitudes - large',fontsize=14)\n",
      "title('Information as function of surround width',fontsize=16)"
     ],
     "language": "python",
     "metadata": {},
     "outputs": [
      {
       "metadata": {},
       "output_type": "pyout",
       "prompt_number": 81,
       "text": [
        "<matplotlib.text.Text at 0x60948d0>"
       ]
      },
      {
       "metadata": {},
       "output_type": "display_data",
       "png": "[encoded data removed]",
       "text": [
        "<matplotlib.figure.Figure at 0x5964fd0>"
       ]
      }
     ],
     "prompt_number": 81
    },
    {
     "cell_type": "code",
     "collapsed": true,
     "input": [
      "fig = gcf()\n",
      "fig.set_size_inches((16,10))\n",
      "\n",
      "bmap = brewer2mpl.get_map('RdYlBu','diverging',8,reverse=True).mpl_colormap\n",
      "\n",
      "subplot(1,2,1)\n",
      "imshow(H_rs[::-1,:],interpolation='nearest',cmap=bmap,extent=[s_width[0],s_width[-1],s_width[0],s_width[-1]])\n",
      "colorbar()\n",
      "ylabel('small - Filter 1 surround width - large',fontsize=14)\n",
      "xlabel('small - Filter 2 surround width - large',fontsize=14)\n",
      "title('Total response entropy',fontsize=16)\n",
      "\n",
      "subplot(1,2,2)\n",
      "imshow(H_r_s_avg[::-1,:],interpolation='nearest',cmap=bmap,extent=[s_width[0],s_width[-1],s_width[0],s_width[-1]])\n",
      "colorbar()\n",
      "ylabel('small - Filter 1 surround width - large',fontsize=14)\n",
      "xlabel('small - Filter 2 surround width - large',fontsize=14)\n",
      "title('Average conditional response entropy',fontsize=16)"
     ],
     "language": "python",
     "metadata": {},
     "outputs": [
      {
       "metadata": {},
       "output_type": "pyout",
       "prompt_number": 77,
       "text": [
        "<matplotlib.text.Text at 0x4e98d10>"
       ]
      },
      {
       "metadata": {},
       "output_type": "display_data",
       "png": "[encoded data removed]",
       "text": [
        "<matplotlib.figure.Figure at 0x42b9f10>"
       ]
      }
     ],
     "prompt_number": 77
    },
    {
     "cell_type": "code",
     "collapsed": true,
     "input": [
      "fig = gcf()\n",
      "fig.set_size_inches((15,8))\n",
      "\n",
      "subplot(1,2,1)\n",
      "optimum1 = spatial_filter_2d(r=ratios[2],c_scale=c_scales,c_width=c1,s_width=s_width[0],xs_num=10)\n",
      "plot(optimum1[len(optimum1)/2,:],'k')\n",
      "title('An Optimal Filter',fontsize=14)\n",
      "\n",
      "subplot(1,2,2)\n",
      "optimum2 = spatial_filter_2d(r=ratios[-1],c_scale=c_scales,c_width=c1,s_width=s_width[-1],xs_num=10)\n",
      "plot(optimum2[len(optimum2)/2,:],'k')\n",
      "title('A non-optimal Filter',fontsize=14)\n",
      "\n",
      "\n",
      "tight_layout()"
     ],
     "language": "python",
     "metadata": {},
     "outputs": [
      {
       "metadata": {},
       "output_type": "display_data",
       "png": "[encoded data removed]",
       "text": [
        "<matplotlib.figure.Figure at 0x70d5c10>"
       ]
      }
     ],
     "prompt_number": 84
    },
    {
     "cell_type": "code",
     "collapsed": false,
     "input": [
      "sum(optimum1)"
     ],
     "language": "python",
     "metadata": {},
     "outputs": [
      {
       "metadata": {},
       "output_type": "pyout",
       "prompt_number": 86,
       "text": [
        "-0.28442802441216808"
       ]
      }
     ],
     "prompt_number": 86
    },
    {
     "cell_type": "code",
     "collapsed": false,
     "input": [
      "sum(optimum2)"
     ],
     "language": "python",
     "metadata": {},
     "outputs": [
      {
       "metadata": {},
       "output_type": "pyout",
       "prompt_number": 87,
       "text": [
        "-171.58454912530379"
       ]
      }
     ],
     "prompt_number": 87
    },
    {
     "cell_type": "code",
     "collapsed": false,
     "input": [
      "sums = zeros((len(s_width),len(ratios)))\n",
      "for ids1,s1 in enumerate(s_width):\n",
      "    for idr1,r1 in enumerate(ratios):\n",
      "        start = time.time()\n",
      "            \n",
      "        X_2d1 = spatial_filter_2d(r=r1,\n",
      "                                  c_scale=c_scales,\n",
      "                                  c_width=c1,\n",
      "                                  s_width=s1,\n",
      "                                  xs_num=16)\n",
      "\n",
      "        \n",
      "        sums[ids1,idr1] = sum(X_2d1)\n",
      "\n",
      "        msg = 'Current sweep is (%d,%d) of (%d,%d).' % (ids1,idr1,len(s_width)-1,len(ratios)-1)\n",
      "        print msg,' It took', time.time()-start, 'seconds.'\n",
      "        "
     ],
     "language": "python",
     "metadata": {},
     "outputs": [
      {
       "output_type": "stream",
       "stream": "stdout",
       "text": [
        "Current sweep is (0,0) of (9,9).  It took 0.0248568058014 seconds.\n",
        "Current sweep is (0,1) of (9,9).  It took 0.0205161571503 seconds.\n",
        "Current sweep is (0,2) of (9,9).  It took 0.020427942276 seconds.\n",
        "Current sweep is (0,3) of (9,9)."
       ]
      },
      {
       "output_type": "stream",
       "stream": "stdout",
       "text": [
        "  It took 0.0211701393127 seconds.\n",
        "Current sweep is (0,4) of (9,9).  It took 0.0225570201874 seconds.\n",
        "Current sweep is (0,5) of (9,9).  It took 0.0204331874847 seconds.\n",
        "Current sweep is (0,6) of (9,9)."
       ]
      },
      {
       "output_type": "stream",
       "stream": "stdout",
       "text": [
        "  It took 0.0211191177368 seconds.\n",
        "Current sweep is (0,7) of (9,9).  It took 0.0209889411926 seconds.\n",
        "Current sweep is (0,8) of (9,9).  It took 0.020397901535 seconds.\n",
        "Current sweep is (0,9) of (9,9)."
       ]
      },
      {
       "output_type": "stream",
       "stream": "stdout",
       "text": [
        "  It took 0.0208878517151 seconds.\n",
        "Current sweep is (1,0) of (9,9).  It took 0.0204620361328 seconds.\n",
        "Current sweep is (1,1) of (9,9).  It took 0.0203950405121 seconds.\n",
        "Current sweep is (1,2) of (9,9)."
       ]
      },
      {
       "output_type": "stream",
       "stream": "stdout",
       "text": [
        "  It took 0.0210118293762 seconds.\n",
        "Current sweep is (1,3) of (9,9).  It took 0.0205161571503 seconds.\n",
        "Current sweep is (1,4) of (9,9).  It took 0.0204918384552 seconds.\n",
        "Current sweep is (1,5) of (9,9)."
       ]
      },
      {
       "output_type": "stream",
       "stream": "stdout",
       "text": [
        "  It took 0.0210239887238 seconds.\n",
        "Current sweep is (1,6) of (9,9).  It took 0.0213811397552 seconds.\n",
        "Current sweep is (1,7) of (9,9).  It took 0.020455121994 seconds.\n",
        "Current sweep is (1,8) of (9,9)."
       ]
      },
      {
       "output_type": "stream",
       "stream": "stdout",
       "text": [
        "  It took 0.0211579799652 seconds.\n",
        "Current sweep is (1,9) of (9,9).  It took 0.0257120132446 seconds.\n",
        "Current sweep is (2,0) of (9,9).  It took 0.0203380584717 seconds.\n",
        "Current sweep is (2,1) of (9,9)."
       ]
      },
      {
       "output_type": "stream",
       "stream": "stdout",
       "text": [
        "  It took 0.0212399959564 seconds.\n",
        "Current sweep is (2,2) of (9,9).  It took 0.021301984787 seconds.\n",
        "Current sweep is (2,3) of (9,9).  It took 0.0203611850739 seconds.\n",
        "Current sweep is (2,4) of (9,9)."
       ]
      },
      {
       "output_type": "stream",
       "stream": "stdout",
       "text": [
        "  It took 0.0210599899292 seconds.\n",
        "Current sweep is (2,5) of (9,9).  It took 0.0211100578308 seconds.\n",
        "Current sweep is (2,6) of (9,9).  It took 0.0203409194946 seconds.\n",
        "Current sweep is (2,7) of (9,9)."
       ]
      },
      {
       "output_type": "stream",
       "stream": "stdout",
       "text": [
        "  It took 0.0211501121521 seconds.\n",
        "Current sweep is (2,8) of (9,9).  It took 0.0212390422821 seconds.\n",
        "Current sweep is (2,9) of (9,9).  It took 0.0204660892487 seconds.\n",
        "Current sweep is (3,0) of (9,9)."
       ]
      },
      {
       "output_type": "stream",
       "stream": "stdout",
       "text": [
        "  It took 0.0211610794067 seconds.\n",
        "Current sweep is (3,1) of (9,9).  It took 0.0210828781128 seconds.\n",
        "Current sweep is (3,2) of (9,9).  It took 0.020457983017 seconds.\n",
        "Current sweep is (3,3) of (9,9)."
       ]
      },
      {
       "output_type": "stream",
       "stream": "stdout",
       "text": [
        "  It took 0.021096944809 seconds.\n",
        "Current sweep is (3,4) of (9,9).  It took 0.0214011669159 seconds.\n",
        "Current sweep is (3,5) of (9,9).  It took 0.0203609466553 seconds.\n",
        "Current sweep is (3,6) of (9,9)."
       ]
      },
      {
       "output_type": "stream",
       "stream": "stdout",
       "text": [
        "  It took 0.0216579437256 seconds.\n",
        "Current sweep is (3,7) of (9,9).  It took 0.0206010341644 seconds.\n",
        "Current sweep is (3,8) of (9,9).  It took 0.0203709602356 seconds.\n",
        "Current sweep is (3,9) of (9,9)."
       ]
      },
      {
       "output_type": "stream",
       "stream": "stdout",
       "text": [
        "  It took 0.0218451023102 seconds.\n",
        "Current sweep is (4,0) of (9,9).  It took 0.0205790996552 seconds.\n",
        "Current sweep is (4,1) of (9,9).  It took 0.0204269886017 seconds.\n",
        "Current sweep is (4,2) of (9,9)."
       ]
      },
      {
       "output_type": "stream",
       "stream": "stdout",
       "text": [
        "  It took 0.0216510295868 seconds.\n",
        "Current sweep is (4,3) of (9,9).  It took 0.0204310417175 seconds.\n",
        "Current sweep is (4,4) of (9,9).  It took 0.020467042923 seconds.\n",
        "Current sweep is (4,5) of (9,9)."
       ]
      },
      {
       "output_type": "stream",
       "stream": "stdout",
       "text": [
        "  It took 0.0217750072479 seconds.\n",
        "Current sweep is (4,6) of (9,9).  It took 0.0204539299011 seconds.\n",
        "Current sweep is (4,7) of (9,9).  It took 0.0203177928925 seconds.\n",
        "Current sweep is (4,8) of (9,9)."
       ]
      },
      {
       "output_type": "stream",
       "stream": "stdout",
       "text": [
        "  It took 0.0216460227966 seconds.\n",
        "Current sweep is (4,9) of (9,9).  It took 0.0205879211426 seconds.\n",
        "Current sweep is (5,0) of (9,9).  It took 0.0204200744629 seconds.\n",
        "Current sweep is (5,1) of (9,9)."
       ]
      },
      {
       "output_type": "stream",
       "stream": "stdout",
       "text": [
        "  It took 0.0218100547791 seconds.\n",
        "Current sweep is (5,2) of (9,9).  It took 0.0204658508301 seconds.\n",
        "Current sweep is (5,3) of (9,9).  It took 0.0204129219055 seconds.\n",
        "Current sweep is (5,4) of (9,9)."
       ]
      },
      {
       "output_type": "stream",
       "stream": "stdout",
       "text": [
        "  It took 0.0217010974884 seconds.\n",
        "Current sweep is (5,5) of (9,9).  It took 0.0204570293427 seconds.\n",
        "Current sweep is (5,6) of (9,9).  It took 0.0204689502716 seconds.\n",
        "Current sweep is (5,7) of (9,9)."
       ]
      },
      {
       "output_type": "stream",
       "stream": "stdout",
       "text": [
        "  It took 0.0217740535736 seconds.\n",
        "Current sweep is (5,8) of (9,9).  It took 0.0204310417175 seconds.\n",
        "Current sweep is (5,9) of (9,9).  It took 0.0204081535339 seconds.\n",
        "Current sweep is (6,0) of (9,9)."
       ]
      },
      {
       "output_type": "stream",
       "stream": "stdout",
       "text": [
        "  It took 0.021183013916 seconds.\n",
        "Current sweep is (6,1) of (9,9).  It took 0.0206120014191 seconds.\n",
        "Current sweep is (6,2) of (9,9).  It took 0.0211508274078 seconds.\n",
        "Current sweep is (6,3) of (9,9)."
       ]
      },
      {
       "output_type": "stream",
       "stream": "stdout",
       "text": [
        "  It took 0.0211970806122 seconds.\n",
        "Current sweep is (6,4) of (9,9).  It took 0.0204319953918 seconds.\n",
        "Current sweep is (6,5) of (9,9).  It took 0.0209610462189 seconds.\n",
        "Current sweep is (6,6) of (9,9)."
       ]
      },
      {
       "output_type": "stream",
       "stream": "stdout",
       "text": [
        "  It took 0.0211899280548 seconds.\n",
        "Current sweep is (6,7) of (9,9).  It took 0.0205080509186 seconds.\n",
        "Current sweep is (6,8) of (9,9).  It took 0.0211369991302 seconds.\n",
        "Current sweep is (6,9) of (9,9)."
       ]
      },
      {
       "output_type": "stream",
       "stream": "stdout",
       "text": [
        "  It took 0.0212178230286 seconds.\n",
        "Current sweep is (7,0) of (9,9).  It took 0.0204749107361 seconds.\n",
        "Current sweep is (7,1) of (9,9).  It took 0.021008014679 seconds.\n",
        "Current sweep is (7,2) of (9,9)."
       ]
      },
      {
       "output_type": "stream",
       "stream": "stdout",
       "text": [
        "  It took 0.0211679935455 seconds.\n",
        "Current sweep is (7,3) of (9,9).  It took 0.0205199718475 seconds.\n",
        "Current sweep is (7,4) of (9,9).  It took 0.021185874939 seconds.\n",
        "Current sweep is (7,5) of (9,9)."
       ]
      },
      {
       "output_type": "stream",
       "stream": "stdout",
       "text": [
        "  It took 0.0211000442505 seconds.\n",
        "Current sweep is (7,6) of (9,9).  It took 0.0205059051514 seconds.\n",
        "Current sweep is (7,7) of (9,9).  It took 0.0211491584778 seconds.\n",
        "Current sweep is (7,8) of (9,9)."
       ]
      },
      {
       "output_type": "stream",
       "stream": "stdout",
       "text": [
        "  It took 0.0212309360504 seconds.\n",
        "Current sweep is (7,9) of (9,9).  It took 0.0205430984497 seconds.\n",
        "Current sweep is (8,0) of (9,9).  It took 0.0211308002472 seconds.\n",
        "Current sweep is (8,1) of (9,9)."
       ]
      },
      {
       "output_type": "stream",
       "stream": "stdout",
       "text": [
        "  It took 0.0211560726166 seconds.\n",
        "Current sweep is (8,2) of (9,9).  It took 0.0204319953918 seconds.\n",
        "Current sweep is (8,3) of (9,9).  It took 0.0211088657379 seconds.\n",
        "Current sweep is (8,4) of (9,9)."
       ]
      },
      {
       "output_type": "stream",
       "stream": "stdout",
       "text": [
        "  It took 0.0211660861969 seconds.\n",
        "Current sweep is (8,5) of (9,9).  It took 0.021271944046 seconds.\n",
        "Current sweep is (8,6) of (9,9).  It took 0.0204210281372 seconds.\n",
        "Current sweep is (8,7) of (9,9)."
       ]
      },
      {
       "output_type": "stream",
       "stream": "stdout",
       "text": [
        "  It took 0.0210061073303 seconds.\n",
        "Current sweep is (8,8) of (9,9).  It took 0.0210168361664 seconds.\n",
        "Current sweep is (8,9) of (9,9).  It took 0.0203940868378 seconds.\n",
        "Current sweep is (9,0) of (9,9)."
       ]
      },
      {
       "output_type": "stream",
       "stream": "stdout",
       "text": [
        "  It took 0.0210530757904 seconds.\n",
        "Current sweep is (9,1) of (9,9).  It took 0.0212481021881 seconds.\n",
        "Current sweep is (9,2) of (9,9).  It took 0.0204181671143 seconds.\n",
        "Current sweep is (9,3) of (9,9)."
       ]
      },
      {
       "output_type": "stream",
       "stream": "stdout",
       "text": [
        "  It took 0.0210919380188 seconds.\n",
        "Current sweep is (9,4) of (9,9).  It took 0.021064043045 seconds.\n",
        "Current sweep is (9,5) of (9,9).  It took 0.0204339027405 seconds.\n",
        "Current sweep is (9,6) of (9,9)."
       ]
      },
      {
       "output_type": "stream",
       "stream": "stdout",
       "text": [
        "  It took 0.0211310386658 seconds.\n",
        "Current sweep is (9,7) of (9,9).  It took 0.0211679935455 seconds.\n",
        "Current sweep is (9,8) of (9,9).  It took 0.0204019546509 seconds.\n",
        "Current sweep is (9,9) of (9,9)."
       ]
      },
      {
       "output_type": "stream",
       "stream": "stdout",
       "text": [
        "  It took 0.0210599899292 seconds.\n"
       ]
      }
     ],
     "prompt_number": 89
    },
    {
     "cell_type": "code",
     "collapsed": false,
     "input": [
      "imshow(sums[::-1,:],cmap=bmap,interpolation='nearest')\n",
      "colorbar()"
     ],
     "language": "python",
     "metadata": {},
     "outputs": [
      {
       "metadata": {},
       "output_type": "pyout",
       "prompt_number": 92,
       "text": [
        "<matplotlib.colorbar.Colorbar instance at 0x767c1b8>"
       ]
      },
      {
       "metadata": {},
       "output_type": "display_data",
       "png": "[encoded data removed]",
       "text": [
        "<matplotlib.figure.Figure at 0x711f910>"
       ]
      }
     ],
     "prompt_number": 92
    },
    {
     "cell_type": "code",
     "collapsed": false,
     "input": [
      "f,ax = subplots(len(s_width),len(ratios), sharey=True)\n",
      "for ids1,s1 in enumerate(s_width):\n",
      "    for idr1,r1 in enumerate(ratios):\n",
      "        X = spatial_filter_2d(r=ratios[2],c_scale=c_scales,c_width=c1,s_width=s_width[0],xs_num=10)\n",
      "        ax[ids1,idr1].plot(np.linspace(-5,5,10),X[len(X)/2,:])"
     ],
     "language": "python",
     "metadata": {},
     "outputs": []
    },
    {
     "cell_type": "code",
     "collapsed": false,
     "input": [],
     "language": "python",
     "metadata": {},
     "outputs": []
    }
   ],
   "metadata": {}
  }
 ]
}