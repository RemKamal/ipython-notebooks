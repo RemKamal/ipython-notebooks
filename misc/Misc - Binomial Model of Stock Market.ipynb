{
 "metadata": {
  "name": "",
  "signature": "sha256:34a2588c9e509607698f399dc481d28ab40f742dbf052ba5823313e7d5899551"
 },
 "nbformat": 3,
 "nbformat_minor": 0,
 "worksheets": [
  {
   "cells": [
    {
     "cell_type": "code",
     "collapsed": false,
     "input": [
      "from numpy.random import poisson"
     ],
     "language": "python",
     "metadata": {},
     "outputs": [],
     "prompt_number": 1
    },
    {
     "cell_type": "code",
     "collapsed": false,
     "input": [
      "poisson(1.0/12.0)"
     ],
     "language": "python",
     "metadata": {},
     "outputs": [
      {
       "metadata": {},
       "output_type": "pyout",
       "prompt_number": 2,
       "text": [
        "0"
       ]
      }
     ],
     "prompt_number": 2
    },
    {
     "cell_type": "code",
     "collapsed": false,
     "input": [
      "x = np.linspace(1,5*12,5*12)\n",
      "lam = 1.0/24.0\n",
      "p_poiss = (lam**x)*np.exp(-lam)/x"
     ],
     "language": "python",
     "metadata": {},
     "outputs": [],
     "prompt_number": 3
    },
    {
     "cell_type": "code",
     "collapsed": false,
     "input": [
      "plot(p_poiss)"
     ],
     "language": "python",
     "metadata": {},
     "outputs": [
      {
       "metadata": {},
       "output_type": "pyout",
       "prompt_number": 4,
       "text": [
        "[<matplotlib.lines.Line2D at 0x3905f90>]"
       ]
      },
      {
       "metadata": {},
       "output_type": "display_data",
       "png": "[encoded data removed]",
       "text": [
        "<matplotlib.figure.Figure at 0x37a83d0>"
       ]
      }
     ],
     "prompt_number": 4
    },
    {
     "cell_type": "code",
     "collapsed": false,
     "input": [
      "w_s = [-3.06, 30.23, 7.49, 9.97, 1.33, 37.20, 22.68, 33.10, 28.34, 20.89, -9.03, -11.85, -21.97, 28.36, 10.74, 4.83, 15.61, 5.48, -36.55, 25.94, 14.82, 2.10, 15.89, 32.15]\n",
      "cor = [1,     0,     0,    0,    0,    0,     0,     0,     0,     0,      1,     1,     1,      0,     0,    0,      0,    0,    1,       0,     0,     0,     0,  0]"
     ],
     "language": "python",
     "metadata": {},
     "outputs": [],
     "prompt_number": 5
    },
    {
     "cell_type": "code",
     "collapsed": false,
     "input": [
      "w_excluding = [-3.06, 30.23, 7.49, 9.97, 1.33, 37.20, 22.68, 33.10, 28.34, 20.89, -9.03, -11.85, 28.36, 10.74, 4.83, 15.61, 5.48, 25.94, 14.82, 2.10, 15.89, 32.15]"
     ],
     "language": "python",
     "metadata": {},
     "outputs": [],
     "prompt_number": 6
    },
    {
     "cell_type": "code",
     "collapsed": false,
     "input": [
      "np.mean(w_excluding)"
     ],
     "language": "python",
     "metadata": {},
     "outputs": [
      {
       "metadata": {},
       "output_type": "pyout",
       "prompt_number": 7,
       "text": [
        "14.691363636363638"
       ]
      }
     ],
     "prompt_number": 7
    },
    {
     "cell_type": "code",
     "collapsed": false,
     "input": [
      "(np.mean(w_s), np.mean(cor))"
     ],
     "language": "python",
     "metadata": {},
     "outputs": [
      {
       "metadata": {},
       "output_type": "pyout",
       "prompt_number": 8,
       "text": [
        "(11.02875, 0.20833333333333334)"
       ]
      }
     ],
     "prompt_number": 8
    },
    {
     "cell_type": "code",
     "collapsed": false,
     "input": [
      "w_s = np.array(w_s)/100.0"
     ],
     "language": "python",
     "metadata": {},
     "outputs": [],
     "prompt_number": 9
    },
    {
     "cell_type": "code",
     "collapsed": false,
     "input": [
      "alpha = 1.0\n",
      "np.product(alpha*w_s + (1.0-alpha)*0.05 + 1)"
     ],
     "language": "python",
     "metadata": {},
     "outputs": [
      {
       "metadata": {},
       "output_type": "pyout",
       "prompt_number": 10,
       "text": [
        "8.5737717490760446"
       ]
      }
     ],
     "prompt_number": 10
    },
    {
     "cell_type": "code",
     "collapsed": false,
     "input": [
      "alpha = 0.99\n",
      "np.product(alpha*w_s + (1.0-alpha)*0.05 + 1)"
     ],
     "language": "python",
     "metadata": {},
     "outputs": [
      {
       "metadata": {},
       "output_type": "pyout",
       "prompt_number": 11,
       "text": [
        "8.5262152780376628"
       ]
      }
     ],
     "prompt_number": 11
    },
    {
     "cell_type": "code",
     "collapsed": false,
     "input": [
      "from scipy.misc import comb"
     ],
     "language": "python",
     "metadata": {},
     "outputs": [],
     "prompt_number": 12
    },
    {
     "cell_type": "code",
     "collapsed": false,
     "input": [
      "n = 40\n",
      "trials = xrange(0,n)\n",
      "p = 0.023 # 1 -20% market correction every 3 years, or 42 months\n",
      "p_n = []\n",
      "for n in trials:\n",
      "    # probability of a market correction having happened is 1 - binomial_CDF(k=0,n,p)\n",
      "    nCk = comb(n,0)\n",
      "    p_n.append(1.0 - nCk*(1-p)**(n))"
     ],
     "language": "python",
     "metadata": {},
     "outputs": [],
     "prompt_number": 14
    },
    {
     "cell_type": "code",
     "collapsed": false,
     "input": [
      "plot(p_n)"
     ],
     "language": "python",
     "metadata": {},
     "outputs": [
      {
       "metadata": {},
       "output_type": "pyout",
       "prompt_number": 15,
       "text": [
        "[<matplotlib.lines.Line2D at 0x3c80110>]"
       ]
      },
      {
       "metadata": {},
       "output_type": "display_data",
       "png": "[encoded data removed]",
       "text": [
        "<matplotlib.figure.Figure at 0x3bfd610>"
       ]
      }
     ],
     "prompt_number": 15
    },
    {
     "cell_type": "code",
     "collapsed": false,
     "input": [
      "from numpy.random import binomial"
     ],
     "language": "python",
     "metadata": {},
     "outputs": [],
     "prompt_number": 16
    },
    {
     "cell_type": "code",
     "collapsed": false,
     "input": [],
     "language": "python",
     "metadata": {},
     "outputs": [],
     "prompt_number": 17
    },
    {
     "cell_type": "code",
     "collapsed": false,
     "input": [
      "cycles = 1000\n",
      "returns = []\n",
      "\n",
      "for cyc in xrange(cycles):\n",
      "\n",
      "    n = 2*60 # 10 years\n",
      "    market_realization_corrections = binomial(1,p,(n,1))\n",
      "\n",
      "    trials = xrange(0,n)\n",
      "    p = 0.023 # 1 -20% market correction every 3 years, or 42 months\n",
      "    p_n = []\n",
      "    last_crash = 0\n",
      "    for idx, n in enumerate(trials):\n",
      "        # probability of a market correction having happened is 1 - binomial_CDF(k=0,n,p)\n",
      "        if idx > 0:\n",
      "            if market_realization_corrections[idx-1] > 0:\n",
      "                last_crash = idx - 1\n",
      "        nCk = comb(n-last_crash,0)\n",
      "        p_n.append(1.0 - nCk*(1-p)**(n-last_crash))\n",
      "\n",
      "    alpha = 1.0 - np.array(p_n)\n",
      "\n",
      "    stock_returns = []\n",
      "    for c in market_realization_corrections:\n",
      "        if c > 0:\n",
      "            stock_returns.append(-20.0)\n",
      "        else:\n",
      "            stock_returns.append(14.0)\n",
      "\n",
      "    stock_returns = np.array(stock_returns)/100.0\n",
      "\n",
      "    #alpha = 1.0\n",
      "    returns.append(np.product(alpha*stock_returns + (1.0-alpha)*0.05 + 1))\n",
      "\n",
      "np.mean(np.array(returns))"
     ],
     "language": "python",
     "metadata": {},
     "outputs": [
      {
       "metadata": {},
       "output_type": "pyout",
       "prompt_number": 18,
       "text": [
        "92658.609586236722"
       ]
      }
     ],
     "prompt_number": 18
    },
    {
     "cell_type": "code",
     "collapsed": false,
     "input": [
      "plot(market_realization_corrections)"
     ],
     "language": "python",
     "metadata": {},
     "outputs": [
      {
       "metadata": {},
       "output_type": "pyout",
       "prompt_number": 19,
       "text": [
        "[<matplotlib.lines.Line2D at 0x3c73050>]"
       ]
      },
      {
       "metadata": {},
       "output_type": "display_data",
       "png": "[encoded data removed]",
       "text": [
        "<matplotlib.figure.Figure at 0x39b7f10>"
       ]
      }
     ],
     "prompt_number": 19
    },
    {
     "cell_type": "code",
     "collapsed": false,
     "input": [],
     "language": "python",
     "metadata": {},
     "outputs": []
    }
   ],
   "metadata": {}
  }
 ]
}