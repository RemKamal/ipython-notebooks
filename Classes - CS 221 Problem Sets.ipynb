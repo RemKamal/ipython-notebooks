{
 "metadata": {
  "name": "",
  "signature": "sha256:97ac6cdcd1abedc52f437bfcad49241b5ab20ba14586423635527a276d3fb47a"
 },
 "nbformat": 3,
 "nbformat_minor": 0,
 "worksheets": [
  {
   "cells": [
    {
     "cell_type": "markdown",
     "metadata": {},
     "source": [
      "# Problem Set 1"
     ]
    },
    {
     "cell_type": "code",
     "collapsed": false,
     "input": [
      "import collections\n",
      "import numpy as np"
     ],
     "language": "python",
     "metadata": {},
     "outputs": [],
     "prompt_number": 4
    },
    {
     "cell_type": "code",
     "collapsed": false,
     "input": [
      "def computeMaxWordLength(text):\n",
      "    \"\"\"\n",
      "    Given a string |text|, return the longest word in |text|.  If there are\n",
      "    ties, choose the word that comes latest in the alphabet. There won't be \n",
      "    puctuations and there will only be splits on spaces. You might find\n",
      "    max() and list comprehensions handy here.\n",
      "    \"\"\"\n",
      "    # BEGIN_YOUR_CODE (around 1 line of code expected)\n",
      "    return max(sorted(text.split(), key=str, reverse=True), key=len)\n",
      "    # END_YOUR_CODE\n"
     ],
     "language": "python",
     "metadata": {},
     "outputs": [],
     "prompt_number": 189
    },
    {
     "cell_type": "code",
     "collapsed": false,
     "input": [
      "computeMaxWordLength('AA aa ZZ')"
     ],
     "language": "python",
     "metadata": {},
     "outputs": [
      {
       "metadata": {},
       "output_type": "pyout",
       "prompt_number": 209,
       "text": [
        "'aa'"
       ]
      }
     ],
     "prompt_number": 209
    },
    {
     "cell_type": "code",
     "collapsed": false,
     "input": [
      "computeMaxWordLength('You you You')"
     ],
     "language": "python",
     "metadata": {},
     "outputs": [
      {
       "metadata": {},
       "output_type": "pyout",
       "prompt_number": 193,
       "text": [
        "'you'"
       ]
      }
     ],
     "prompt_number": 193
    },
    {
     "cell_type": "code",
     "collapsed": false,
     "input": [
      "text = 'ZZZZZZZ I was sorting through A Huge Piece of dirty LAUNDRY when I bumped into MY FIST!!'\n",
      "max(sorted(text.split(), reverse=True),key=len)"
     ],
     "language": "python",
     "metadata": {},
     "outputs": [
      {
       "metadata": {},
       "output_type": "pyout",
       "prompt_number": 52,
       "text": [
        "'through'"
       ]
      }
     ],
     "prompt_number": 52
    },
    {
     "cell_type": "code",
     "collapsed": false,
     "input": [
      "text"
     ],
     "language": "python",
     "metadata": {},
     "outputs": [
      {
       "metadata": {},
       "output_type": "pyout",
       "prompt_number": 27,
       "text": [
        "'aaaa yoda left me for you'"
       ]
      }
     ],
     "prompt_number": 27
    },
    {
     "cell_type": "code",
     "collapsed": false,
     "input": [
      "set(text)"
     ],
     "language": "python",
     "metadata": {},
     "outputs": [
      {
       "metadata": {},
       "output_type": "pyout",
       "prompt_number": 28,
       "text": [
        "{' ', 'a', 'd', 'e', 'f', 'l', 'm', 'o', 'r', 't', 'u', 'y'}"
       ]
      }
     ],
     "prompt_number": 28
    },
    {
     "cell_type": "code",
     "collapsed": false,
     "input": [
      "set(text.split())"
     ],
     "language": "python",
     "metadata": {},
     "outputs": [
      {
       "metadata": {},
       "output_type": "pyout",
       "prompt_number": 31,
       "text": [
        "{'aaaa', 'for', 'left', 'me', 'yoda', 'you'}"
       ]
      }
     ],
     "prompt_number": 31
    },
    {
     "cell_type": "code",
     "collapsed": false,
     "input": [
      "def createExistsFunction(text):\n",
      "    \"\"\"\n",
      "    Given a text, return a function f, where f(word) returns whether |word|\n",
      "    occurs in |text| or not.  f should run in O(1) time.  You might find it\n",
      "    useful to use set().\n",
      "    \"\"\"\n",
      "    # BEGIN_YOUR_CODE (around 4 lines of code expected)\n",
      "    def f(word):\n",
      "        if word in set(text.split()):\n",
      "            return True\n",
      "        else:\n",
      "            return False\n",
      "    return f\n",
      "    # END_YOUR_CODE"
     ],
     "language": "python",
     "metadata": {},
     "outputs": [],
     "prompt_number": 35
    },
    {
     "cell_type": "code",
     "collapsed": false,
     "input": [
      "func = createExistsFunction(text)"
     ],
     "language": "python",
     "metadata": {},
     "outputs": [],
     "prompt_number": 36
    },
    {
     "cell_type": "code",
     "collapsed": false,
     "input": [
      "def manhattanDistance(loc1, loc2):\n",
      "    \"\"\"\n",
      "    Return the Manhattan distance between two locations, where locations are\n",
      "    pairs (e.g., (3, 5)).\n",
      "    \"\"\"\n",
      "    # BEGIN_YOUR_CODE (around 1 line of code expected)\n",
      "    return abs(loc1[0] - loc2[0]) + abs(loc1[1] - loc2[1])\n",
      "    # END_YOUR_CODE\n"
     ],
     "language": "python",
     "metadata": {},
     "outputs": [],
     "prompt_number": 53
    },
    {
     "cell_type": "code",
     "collapsed": false,
     "input": [
      "def sparseVectorDotProduct(v1, v2):\n",
      "    \"\"\"\n",
      "    Given two sparse vectors |v1| and |v2|, each represented as Counters, return\n",
      "    their dot product.\n",
      "    You might find it useful to use sum() and a list comprehension.\n",
      "    \"\"\"\n",
      "    # BEGIN_YOUR_CODE (around 4 lines of code expected)\n",
      "    nonZeroKeys = v1.keys()\n",
      "    return sum([v1[k]*v2[k] for k in nonZeroKeys])\n",
      "    # END_YOUR_CODE"
     ],
     "language": "python",
     "metadata": {},
     "outputs": [],
     "prompt_number": 105
    },
    {
     "cell_type": "code",
     "collapsed": false,
     "input": [
      "v1 = collections.Counter({'a': 5, 'c' : 9})\n",
      "v2 = collections.Counter({'b': 2, 'a': 3, 'c' : 1})"
     ],
     "language": "python",
     "metadata": {},
     "outputs": [],
     "prompt_number": 110
    },
    {
     "cell_type": "code",
     "collapsed": false,
     "input": [
      "sparseVectorDotProduct(v1,v2)"
     ],
     "language": "python",
     "metadata": {},
     "outputs": [
      {
       "metadata": {},
       "output_type": "pyout",
       "prompt_number": 111,
       "text": [
        "24"
       ]
      }
     ],
     "prompt_number": 111
    },
    {
     "cell_type": "code",
     "collapsed": false,
     "input": [
      "def incrementSparseVector(v1, scale, v2):\n",
      "    \"\"\"\n",
      "    Given two sparse vectors |v1| and |v2|, perform v1 += scale * v2.\n",
      "    \"\"\"\n",
      "    # BEGIN_YOUR_CODE (around 2 lines of code expected)\n",
      "    for k in v2.keys():\n",
      "        v1[k] = v1[k] + scale*v2[k]\n",
      "    # END_YOUR_CODE"
     ],
     "language": "python",
     "metadata": {},
     "outputs": [],
     "prompt_number": 115
    },
    {
     "cell_type": "code",
     "collapsed": false,
     "input": [
      "incrementSparseVector(v1, 5, v2)"
     ],
     "language": "python",
     "metadata": {},
     "outputs": [],
     "prompt_number": 116
    },
    {
     "cell_type": "code",
     "collapsed": false,
     "input": [
      "v1"
     ],
     "language": "python",
     "metadata": {},
     "outputs": [
      {
       "metadata": {},
       "output_type": "pyout",
       "prompt_number": 117,
       "text": [
        "Counter({'a': 20, 'c': 14, 'b': 10})"
       ]
      }
     ],
     "prompt_number": 117
    },
    {
     "cell_type": "code",
     "collapsed": false,
     "input": [
      "def computeMostFrequentWord(text):\n",
      "    \"\"\"\n",
      "    Splits the string |text| by whitespace and returns two things as a pair: \n",
      "        the set of words that occur the maximum number of times, and\n",
      "\ttheir count, i.e.\n",
      "\t(set of words that occur the most number of times, that maximum number/count)\n",
      "    You might find it useful to use collections.Counter().\n",
      "    \"\"\"\n",
      "    # BEGIN_YOUR_CODE (around 5 lines of code expected)\n",
      "    c = collections.Counter(text.split())\n",
      "    mode   = max(c.values())\n",
      "    numMax = len([1 for v in c.values() if v == mode])\n",
      "    pairs  = c.most_common(numMax)\n",
      "    return (set([p[0] for p in pairs]), pairs[0][1])\n",
      "    # END_YOUR_CODE"
     ],
     "language": "python",
     "metadata": {},
     "outputs": [],
     "prompt_number": 142
    },
    {
     "cell_type": "code",
     "collapsed": false,
     "input": [
      "(set(['the', 'fox']), 2)"
     ],
     "language": "python",
     "metadata": {},
     "outputs": [
      {
       "metadata": {},
       "output_type": "pyout",
       "prompt_number": 120,
       "text": [
        "({'fox', 'the'}, 2)"
       ]
      }
     ],
     "prompt_number": 120
    },
    {
     "cell_type": "code",
     "collapsed": false,
     "input": [
      "text = 'the quick brown fox jumps over the lazy fox'"
     ],
     "language": "python",
     "metadata": {},
     "outputs": [],
     "prompt_number": 122
    },
    {
     "cell_type": "code",
     "collapsed": false,
     "input": [
      "computeMostFrequentWord('the quick brown fox jumps over the lazy fox')"
     ],
     "language": "python",
     "metadata": {},
     "outputs": [
      {
       "metadata": {},
       "output_type": "pyout",
       "prompt_number": 143,
       "text": [
        "({'fox', 'the'}, 2)"
       ]
      }
     ],
     "prompt_number": 143
    },
    {
     "cell_type": "code",
     "collapsed": false,
     "input": [
      "def isCollection(x):\n",
      "    return isinstance(x, list) or isinstance(x, tuple)\n",
      "\n",
      "def isEqual(trueAnswer, predAnswer, tolerance = 1e-4):\n",
      "    # Handle floats specially\n",
      "    if isinstance(trueAnswer, float) or isinstance(predAnswer, float):\n",
      "        return abs(trueAnswer - predAnswer) < tolerance\n",
      "    # Recurse on collections to deal with floats inside them\n",
      "    if isCollection(trueAnswer) and isCollection(predAnswer) and len(trueAnswer) == len(predAnswer):\n",
      "        for a, b in zip(trueAnswer, predAnswer):\n",
      "            if not isEqual(a, b): return False\n",
      "        return True\n",
      "    if isinstance(trueAnswer, dict) and isinstance(predAnswer, dict):\n",
      "        if len(trueAnswer) != len(predAnswer): return False\n",
      "        for k, v in trueAnswer.items():\n",
      "            if not isEqual(predAnswer.get(k), v): return False\n",
      "        return True\n",
      "\n",
      "    # Numpy array comparison\n",
      "    if type(trueAnswer).__name__=='ndarray':\n",
      "        import numpy as np\n",
      "        if isinstance(trueAnswer, np.ndarray) and isinstance(predAnswer, np.ndarray):\n",
      "            if trueAnswer.shape != predAnswer.shape:\n",
      "                return False\n",
      "            for a, b in zip(trueAnswer, predAnswer):\n",
      "                if not isEqual(a, b): return False\n",
      "            return True\n",
      "\n",
      "    # Do normal comparison\n",
      "    return trueAnswer == predAnswer\n"
     ],
     "language": "python",
     "metadata": {},
     "outputs": [],
     "prompt_number": 150
    },
    {
     "cell_type": "code",
     "collapsed": false,
     "input": [
      "isEqual((set(['the', 'fox']), 2), computeMostFrequentWord('the quick brown fox jumps over the lazy fox'))"
     ],
     "language": "python",
     "metadata": {},
     "outputs": [
      {
       "metadata": {},
       "output_type": "pyout",
       "prompt_number": 151,
       "text": [
        "True"
       ]
      }
     ],
     "prompt_number": 151
    },
    {
     "cell_type": "code",
     "collapsed": false,
     "input": [
      "text = 'ana'"
     ],
     "language": "python",
     "metadata": {},
     "outputs": [],
     "prompt_number": 157
    },
    {
     "cell_type": "code",
     "collapsed": false,
     "input": [
      "text[::-1] == text"
     ],
     "language": "python",
     "metadata": {},
     "outputs": [
      {
       "metadata": {},
       "output_type": "pyout",
       "prompt_number": 158,
       "text": [
        "True"
       ]
      }
     ],
     "prompt_number": 158
    },
    {
     "cell_type": "code",
     "collapsed": false,
     "input": [
      "string = 'howdy'\n",
      "for idl,l in enumerate(string):\n",
      "    print string[0:idl] + string[idl+1:]"
     ],
     "language": "python",
     "metadata": {},
     "outputs": [
      {
       "output_type": "stream",
       "stream": "stdout",
       "text": [
        "owdy\n",
        "hwdy\n",
        "hody\n",
        "howy\n",
        "howd\n"
       ]
      }
     ],
     "prompt_number": 161
    },
    {
     "cell_type": "code",
     "collapsed": false,
     "input": [
      "def computeLongestPalindrome(text):\n",
      "    \"\"\"\n",
      "    A palindrome is a string that is equal to its reverse (e.g., 'ana').\n",
      "    Compute the length of the longest palindrome that can be obtained by deleting\n",
      "    letters from |text|.\n",
      "    For example: the longest palindrome in 'animal' is 'ama'.\n",
      "    Your algorithm should run in O(len(text)^2) time.\n",
      "    You should first define a recurrence before you start coding.\n",
      "    \"\"\"\n",
      "    # BEGIN_YOUR_CODE (around 19 lines of code expected)\n",
      "    cache = {}\n",
      "    def recurse(string):\n",
      "        if string in cache:\n",
      "            return cache[string]\n",
      "        elif string == '':\n",
      "            return 0\n",
      "        elif string[::-1] == string:\n",
      "            return len(string)\n",
      "        else:\n",
      "            substringLength = []\n",
      "            for idl,l in enumerate(string):\n",
      "                substringLength.append(recurse(string[0:idl] + string[idl+1:]))\n",
      "            ans = max(substringLength)\n",
      "        \n",
      "        cache[string] = ans\n",
      "        return ans\n",
      "\n",
      "    return recurse(text)\n",
      "    # END_YOUR_CODE"
     ],
     "language": "python",
     "metadata": {},
     "outputs": [],
     "prompt_number": 172
    },
    {
     "cell_type": "code",
     "collapsed": false,
     "input": [
      "computeLongestPalindrome('L')"
     ],
     "language": "python",
     "metadata": {},
     "outputs": [
      {
       "metadata": {},
       "output_type": "pyout",
       "prompt_number": 178,
       "text": [
        "1"
       ]
      }
     ],
     "prompt_number": 178
    },
    {
     "cell_type": "code",
     "collapsed": false,
     "input": [
      "def computeLongestPalindromeText(text):\n",
      "    \"\"\"\n",
      "    A palindrome is a string that is equal to its reverse (e.g., 'ana').\n",
      "    Compute the length of the longest palindrome that can be obtained by deleting\n",
      "    letters from |text|.\n",
      "    For example: the longest palindrome in 'animal' is 'ama'.\n",
      "    Your algorithm should run in O(len(text)^2) time.\n",
      "    You should first define a recurrence before you start coding.\n",
      "    \"\"\"\n",
      "    # BEGIN_YOUR_CODE (around 19 lines of code expected)\n",
      "    cache = {}\n",
      "    def recurse(string):\n",
      "        if string in cache:\n",
      "            return cache[string]\n",
      "        elif string == '':\n",
      "            return ''\n",
      "        elif string[::-1] == string:\n",
      "            return string\n",
      "        else:\n",
      "            substringLength = []\n",
      "            for idl,l in enumerate(string):\n",
      "                substringLength.append(recurse(string[0:idl] + string[idl+1:]))\n",
      "            ans = sorted(substringLength, key=len, reverse=True)\n",
      "        \n",
      "        cache[string] = ans[0]\n",
      "        return ans[0]\n",
      "\n",
      "    return recurse(text)\n",
      "    # END_YOUR_CODE"
     ],
     "language": "python",
     "metadata": {},
     "outputs": [],
     "prompt_number": 211
    },
    {
     "cell_type": "code",
     "collapsed": false,
     "input": [
      "computeLongestPalindromeText('Lane')"
     ],
     "language": "python",
     "metadata": {},
     "outputs": [
      {
       "metadata": {},
       "output_type": "pyout",
       "prompt_number": 175,
       "text": [
        "'e'"
       ]
      }
     ],
     "prompt_number": 175
    },
    {
     "cell_type": "code",
     "collapsed": false,
     "input": [
      "computeMaxWordLength('alexander Completed')"
     ],
     "language": "python",
     "metadata": {},
     "outputs": [
      {
       "metadata": {},
       "output_type": "pyout",
       "prompt_number": 188,
       "text": [
        "'alexander'"
       ]
      }
     ],
     "prompt_number": 188
    },
    {
     "cell_type": "code",
     "collapsed": false,
     "input": [
      "import sys\n",
      "print sys.version"
     ],
     "language": "python",
     "metadata": {},
     "outputs": [
      {
       "output_type": "stream",
       "stream": "stdout",
       "text": [
        "2.7.3 (default, Feb 27 2014, 19:58:35) \n",
        "[GCC 4.6.3]\n"
       ]
      }
     ],
     "prompt_number": 210
    },
    {
     "cell_type": "code",
     "collapsed": false,
     "input": [
      "x = computeLongestPalindrome('puypldfojahnhzlzikdcsvgqvemojn')"
     ],
     "language": "python",
     "metadata": {},
     "outputs": [],
     "prompt_number": 214
    },
    {
     "cell_type": "code",
     "collapsed": false,
     "input": [
      "x"
     ],
     "language": "python",
     "metadata": {},
     "outputs": [
      {
       "metadata": {},
       "output_type": "pyout",
       "prompt_number": 215,
       "text": [
        "3"
       ]
      }
     ],
     "prompt_number": 215
    },
    {
     "cell_type": "code",
     "collapsed": false,
     "input": [
      "def computeLongestPalindrome(text):\n",
      "    \"\"\"\n",
      "    A palindrome is a string that is equal to its reverse (e.g., 'ana').\n",
      "    Compute the length of the longest palindrome that can be obtained by deleting\n",
      "    letters from |text|.\n",
      "    For example: the longest palindrome in 'animal' is 'ama'.\n",
      "    Your algorithm should run in O(len(text)^2) time.\n",
      "    You should first define a recurrence before you start coding.\n",
      "    \"\"\"\n",
      "    # BEGIN_YOUR_CODE (around 19 lines of code expected)\n",
      "    cache = {}\n",
      "    def recurse(i,j):\n",
      "        if j-i <= 0:\n",
      "            ans = j-i+1\n",
      "        elif (i,j) in cache:\n",
      "            ans = cache[(i,j)]\n",
      "        elif text[i] == text[j]:\n",
      "            ans = recurse(i+1,j-1) + 2\n",
      "        else:\n",
      "            ans = max(recurse(i+1,j),recurse(i,j-1))\n",
      "        cache[(i,j)] = ans\n",
      "        return ans\n",
      "\n",
      "    return recurse(0,len(text)-1)\n",
      "    # END_YOUR_CODE"
     ],
     "language": "python",
     "metadata": {},
     "outputs": [],
     "prompt_number": 216
    },
    {
     "cell_type": "code",
     "collapsed": false,
     "input": [
      "computeLongestPalindrome('ajktcnyoyzreimphdqhjmcivomtaur')"
     ],
     "language": "python",
     "metadata": {},
     "outputs": [
      {
       "metadata": {},
       "output_type": "pyout",
       "prompt_number": 236,
       "text": [
        "13"
       ]
      }
     ],
     "prompt_number": 236
    },
    {
     "cell_type": "code",
     "collapsed": false,
     "input": [
      "len('')"
     ],
     "language": "python",
     "metadata": {},
     "outputs": [
      {
       "metadata": {},
       "output_type": "pyout",
       "prompt_number": 224,
       "text": [
        "0"
       ]
      }
     ],
     "prompt_number": 224
    },
    {
     "cell_type": "markdown",
     "metadata": {},
     "source": [
      "# Problem Set 2"
     ]
    },
    {
     "cell_type": "code",
     "collapsed": false,
     "input": [
      "x = \"I am what I am\""
     ],
     "language": "python",
     "metadata": {},
     "outputs": [],
     "prompt_number": 1
    },
    {
     "cell_type": "code",
     "collapsed": false,
     "input": [
      "words = x.split(' ')"
     ],
     "language": "python",
     "metadata": {},
     "outputs": [],
     "prompt_number": 3
    },
    {
     "cell_type": "code",
     "collapsed": false,
     "input": [
      "z = collections.Counter(words)"
     ],
     "language": "python",
     "metadata": {},
     "outputs": [],
     "prompt_number": 8
    },
    {
     "cell_type": "code",
     "collapsed": false,
     "input": [
      "c = dict(z)"
     ],
     "language": "python",
     "metadata": {},
     "outputs": [],
     "prompt_number": 9
    },
    {
     "cell_type": "code",
     "collapsed": false,
     "input": [
      "z(words)"
     ],
     "language": "python",
     "metadata": {},
     "outputs": [
      {
       "ename": "TypeError",
       "evalue": "'dict' object is not callable",
       "output_type": "pyerr",
       "traceback": [
        "\u001b[1;31m---------------------------------------------------------------------------\u001b[0m\n\u001b[1;31mTypeError\u001b[0m                                 Traceback (most recent call last)",
        "\u001b[1;32m<ipython-input-7-feb1337b1c49>\u001b[0m in \u001b[0;36m<module>\u001b[1;34m()\u001b[0m\n\u001b[1;32m----> 1\u001b[1;33m \u001b[0mz\u001b[0m\u001b[1;33m(\u001b[0m\u001b[0mwords\u001b[0m\u001b[1;33m)\u001b[0m\u001b[1;33m\u001b[0m\u001b[0m\n\u001b[0m",
        "\u001b[1;31mTypeError\u001b[0m: 'dict' object is not callable"
       ]
      }
     ],
     "prompt_number": 7
    },
    {
     "cell_type": "code",
     "collapsed": false,
     "input": [
      "c"
     ],
     "language": "python",
     "metadata": {},
     "outputs": [
      {
       "metadata": {},
       "output_type": "pyout",
       "prompt_number": 10,
       "text": [
        "{'I': 2, 'am': 2, 'what': 1}"
       ]
      }
     ],
     "prompt_number": 10
    },
    {
     "cell_type": "code",
     "collapsed": false,
     "input": [
      "print 'hello I am ' + c + ' and she is too'"
     ],
     "language": "python",
     "metadata": {},
     "outputs": [
      {
       "ename": "TypeError",
       "evalue": "cannot concatenate 'str' and 'dict' objects",
       "output_type": "pyerr",
       "traceback": [
        "\u001b[1;31m---------------------------------------------------------------------------\u001b[0m\n\u001b[1;31mTypeError\u001b[0m                                 Traceback (most recent call last)",
        "\u001b[1;32m<ipython-input-12-8033c2912883>\u001b[0m in \u001b[0;36m<module>\u001b[1;34m()\u001b[0m\n\u001b[1;32m----> 1\u001b[1;33m \u001b[1;32mprint\u001b[0m \u001b[1;34m'hello I am '\u001b[0m \u001b[1;33m+\u001b[0m \u001b[0mc\u001b[0m \u001b[1;33m+\u001b[0m \u001b[1;34m' and she is too'\u001b[0m\u001b[1;33m\u001b[0m\u001b[0m\n\u001b[0m",
        "\u001b[1;31mTypeError\u001b[0m: cannot concatenate 'str' and 'dict' objects"
       ]
      }
     ],
     "prompt_number": 12
    },
    {
     "cell_type": "code",
     "collapsed": false,
     "input": [
      "max([0,1,2])"
     ],
     "language": "python",
     "metadata": {},
     "outputs": [
      {
       "metadata": {},
       "output_type": "pyout",
       "prompt_number": 14,
       "text": [
        "2"
       ]
      }
     ],
     "prompt_number": 14
    },
    {
     "cell_type": "code",
     "collapsed": false,
     "input": [
      "if 1 != 2:\n",
      "    print 'yo'"
     ],
     "language": "python",
     "metadata": {},
     "outputs": [
      {
       "output_type": "stream",
       "stream": "stdout",
       "text": [
        "yo\n"
       ]
      }
     ],
     "prompt_number": 15
    },
    {
     "cell_type": "code",
     "collapsed": false,
     "input": [
      "print 'hello' + 'welcome'"
     ],
     "language": "python",
     "metadata": {},
     "outputs": [
      {
       "output_type": "stream",
       "stream": "stdout",
       "text": [
        "hellowelcome\n"
       ]
      }
     ],
     "prompt_number": 16
    },
    {
     "cell_type": "code",
     "collapsed": false,
     "input": [
      "def extractWordFeatures(x):\n",
      "    \"\"\"\n",
      "    Extract word features for a string x.\n",
      "    @param string x: \n",
      "    @return dict: feature vector representation of x.\n",
      "    Example: \"I am what I am\" --> {'I': 2, 'am': 2, 'what': 1}\n",
      "    \"\"\"\n",
      "    # BEGIN_YOUR_CODE (around 5 lines of code expected)\n",
      "    words = x.split(' ')\n",
      "    return dict(collections.Counter(words))\n",
      "    # END_YOUR_CODE"
     ],
     "language": "python",
     "metadata": {},
     "outputs": [],
     "prompt_number": 17
    },
    {
     "cell_type": "code",
     "collapsed": false,
     "input": [
      "def learnPredictor(trainExamples, testExamples, featureExtractor):\n",
      "    '''\n",
      "    Given |trainExamples| and |testExamples| (each one is a list of (x,y)\n",
      "    pairs), a |featureExtractor| to apply to x, and the number of iterations to\n",
      "    train |numIters|, return the weight vector (sparse feature vector) learned.\n",
      "\n",
      "    You should implement stochastic gradient descent.\n",
      "\n",
      "    Note: only use the trainExamples for training!\n",
      "    You should call evaluatePredictor() on both trainExamples and testExamples\n",
      "    to see how you're doing as you learn after each iteration.\n",
      "    '''\n",
      "    weights = {}  # feature => weight\n",
      "    # BEGIN_YOUR_CODE (around 15 lines of code expected)\n",
      "    numIters = 100\n",
      "    stepSize = 0.1\n",
      "    for i in xrange(numIters):\n",
      "        # shuffle examples each time you run through it\n",
      "        #examples = random.shuffle(trainExamples)\n",
      "        for ex in trainExamples:\n",
      "            # Problem in util.dotProduct where empty weights is considered NoneType\n",
      "            # and halts on len(weights)\n",
      "            features = featureExtractor(ex[0])\n",
      "            loss = max(0, 1 - ex[1]*dotProduct(weights,features))\n",
      "            if loss != 0:\n",
      "                increment(weights, stepSize*ex[1], features)\n",
      "\n",
      "        def predictor(x):\n",
      "            return dotProduct(weights,featureExtractor(x))\n",
      "        trainingError = evaluatePredictor(trainExamples, predictor)\n",
      "        testError     = evaluatePredictor(testExamples, predictor) \n",
      "        print 'Training error is ' + str(trainingError) + '. Test error is ' + str(testError) + '.'\n",
      "        # END_YOUR_CODE\n",
      "    return weights\n"
     ],
     "language": "python",
     "metadata": {},
     "outputs": [],
     "prompt_number": 102
    },
    {
     "cell_type": "code",
     "collapsed": false,
     "input": [
      "def dotProduct(d1, d2):\n",
      "    \"\"\"\n",
      "    @param dict d1: a feature vector represented by a mapping from a feature (string) to a weight (float).\n",
      "    @param dict d2: same as d1\n",
      "    @return float: the dot product between d1 and d2\n",
      "    \"\"\"\n",
      "    if len(d1) < len(d2):\n",
      "        return dotProduct(d2, d1)\n",
      "    else:\n",
      "        return sum(d1.get(f, 0) * v for f, v in d2.items())\n",
      "\n",
      "def increment(d1, scale, d2):\n",
      "    \"\"\"\n",
      "    Implements d1 += scale * d2 for sparse vectors.\n",
      "    @param dict d1: the feature vector which is mutated.\n",
      "    @param float scale\n",
      "    @param dict d2: a feature vector.\n",
      "    \"\"\"\n",
      "    for f, v in d2.items():\n",
      "        d1[f] = d1.get(f, 0) + v * scale\n",
      "\n",
      "def readExamples(path):\n",
      "    '''\n",
      "    Reads a set of training examples.\n",
      "    '''\n",
      "    examples = []\n",
      "    for line in open(path):\n",
      "        # Format of each line: <output label (+1 or -1)> <input sentence>\n",
      "        y, x = line.split(' ', 1)\n",
      "        examples.append((x.strip(), int(y)))\n",
      "    print 'Read %d examples from %s' % (len(examples), path)\n",
      "    return examples\n",
      "\n",
      "def evaluatePredictor(examples, predictor):\n",
      "    '''\n",
      "    predictor: a function that takes an x and returns a predicted y.\n",
      "    Given a list of examples (x, y), makes predictions based on |predict| and returns the fraction\n",
      "    of misclassiied examples.\n",
      "    '''\n",
      "    error = 0\n",
      "    for x, y in examples:\n",
      "        if predictor(x) != y:\n",
      "            error += 1\n",
      "    return 1.0 * error / len(examples)"
     ],
     "language": "python",
     "metadata": {},
     "outputs": [],
     "prompt_number": 19
    },
    {
     "cell_type": "code",
     "collapsed": false,
     "input": [
      "import random\n",
      "import collections"
     ],
     "language": "python",
     "metadata": {},
     "outputs": [],
     "prompt_number": 23
    },
    {
     "cell_type": "code",
     "collapsed": false,
     "input": [
      "trainExamples = ((\"hello world\", 1), (\"goodnight moon\", -1))\n",
      "testExamples = ((\"hello\", 1), (\"moon\", -1))"
     ],
     "language": "python",
     "metadata": {},
     "outputs": [],
     "prompt_number": 88
    },
    {
     "cell_type": "code",
     "collapsed": false,
     "input": [
      "learnPredictor(trainExamples, testExamples, extractWordFeatures)"
     ],
     "language": "python",
     "metadata": {},
     "outputs": [
      {
       "output_type": "stream",
       "stream": "stdout",
       "text": [
        "Training error is 1.0. Test error is 1.0.\n",
        "Training error is 1.0. Test error is 1.0.\n",
        "Training error is 1.0. Test error is 1.0.\n",
        "Training error is 1.0. Test error is 1.0.\n",
        "Training error is 0.0. Test error is 1.0.\n",
        "Training error is 0.0. Test error is 1.0.\n",
        "Training error is 0.0. Test error is 1.0.\n",
        "Training error is 0.0. Test error is 1.0.\n",
        "Training error is 0.0. Test error is 1.0.\n",
        "Training error is 0.0. Test error is 1.0.\n",
        "Training error is 0.0. Test error is 1.0.\n",
        "Training error is 0.0. Test error is 1.0.\n",
        "Training error is 0.0. Test error is 1.0.\n",
        "Training error is 0.0. Test error is 1.0.\n",
        "Training error is 0.0. Test error is 1.0.\n",
        "Training error is 0.0. Test error is 1.0.\n",
        "Training error is 0.0. Test error is 1.0.\n",
        "Training error is 0.0. Test error is 1.0.\n",
        "Training error is 0.0. Test error is 1.0.\n",
        "Training error is 0.0. Test error is 1.0.\n",
        "Training error is 0.0. Test error is 1.0.\n",
        "Training error is 0.0. Test error is 1.0.\n",
        "Training error is 0.0. Test error is 1.0.\n",
        "Training error is 0.0. Test error is 1.0.\n",
        "Training error is 0.0. Test error is 1.0.\n",
        "Training error is 0.0. Test error is 1.0.\n",
        "Training error is 0.0. Test error is 1.0.\n",
        "Training error is 0.0. Test error is 1.0.\n",
        "Training error is 0.0. Test error is 1.0.\n",
        "Training error is 0.0. Test error is 1.0.\n",
        "Training error is 0.0. Test error is 1.0.\n",
        "Training error is 0.0. Test error is 1.0.\n",
        "Training error is 0.0. Test error is 1.0.\n",
        "Training error is 0.0. Test error is 1.0.\n",
        "Training error is 0.0. Test error is 1.0.\n",
        "Training error is 0.0. Test error is 1.0.\n",
        "Training error is 0.0. Test error is 1.0.\n",
        "Training error is 0.0. Test error is 1.0.\n",
        "Training error is 0.0. Test error is 1.0.\n",
        "Training error is 0.0. Test error is 1.0.\n",
        "Training error is 0.0. Test error is 1.0.\n",
        "Training error is 0.0. Test error is 1.0.\n",
        "Training error is 0.0. Test error is 1.0.\n",
        "Training error is 0.0. Test error is 1.0.\n",
        "Training error is 0.0. Test error is 1.0.\n",
        "Training error is 0.0. Test error is 1.0.\n",
        "Training error is 0.0. Test error is 1.0.\n",
        "Training error is 0.0. Test error is 1.0.\n",
        "Training error is 0.0. Test error is 1.0.\n",
        "Training error is 0.0. Test error is 1.0.\n",
        "Training error is 0.0. Test error is 1.0.\n",
        "Training error is 0.0. Test error is 1.0.\n",
        "Training error is 0.0. Test error is 1.0.\n",
        "Training error is 0.0. Test error is 1.0.\n",
        "Training error is 0.0. Test error is 1.0.\n",
        "Training error is 0.0. Test error is 1.0.\n",
        "Training error is 0.0. Test error is 1.0.\n",
        "Training error is 0.0. Test error is 1.0.\n",
        "Training error is 0.0. Test error is 1.0.\n",
        "Training error is 0.0. Test error is 1.0.\n",
        "Training error is 0.0. Test error is 1.0.\n",
        "Training error is 0.0. Test error is 1.0.\n",
        "Training error is 0.0. Test error is 1.0.\n",
        "Training error is 0.0. Test error is 1.0.\n",
        "Training error is 0.0. Test error is 1.0.\n",
        "Training error is 0.0. Test error is 1.0.\n",
        "Training error is 0.0. Test error is 1.0.\n",
        "Training error is 0.0. Test error is 1.0.\n",
        "Training error is 0.0. Test error is 1.0.\n",
        "Training error is 0.0. Test error is 1.0.\n",
        "Training error is 0.0. Test error is 1.0.\n",
        "Training error is 0.0. Test error is 1.0.\n",
        "Training error is 0.0. Test error is 1.0.\n",
        "Training error is 0.0. Test error is 1.0.\n",
        "Training error is 0.0. Test error is 1.0.\n",
        "Training error is 0.0. Test error is 1.0.\n",
        "Training error is 0.0. Test error is 1.0.\n",
        "Training error is 0.0. Test error is 1.0.\n",
        "Training error is 0.0. Test error is 1.0.\n",
        "Training error is 0.0. Test error is 1.0.\n",
        "Training error is 0.0. Test error is 1.0.\n",
        "Training error is 0.0. Test error is 1.0.\n",
        "Training error is 0.0. Test error is 1.0.\n",
        "Training error is 0.0. Test error is 1.0.\n",
        "Training error is 0.0. Test error is 1.0.\n",
        "Training error is 0.0. Test error is 1.0.\n",
        "Training error is 0.0. Test error is 1.0.\n",
        "Training error is 0.0. Test error is 1.0.\n",
        "Training error is 0.0. Test error is 1.0.\n",
        "Training error is 0.0. Test error is 1.0.\n",
        "Training error is 0.0. Test error is 1.0.\n",
        "Training error is 0.0. Test error is 1.0.\n",
        "Training error is 0.0. Test error is 1.0.\n",
        "Training error is 0.0. Test error is 1.0.\n",
        "Training error is 0.0. Test error is 1.0.\n",
        "Training error is 0.0. Test error is 1.0.\n",
        "Training error is 0.0. Test error is 1.0.\n",
        "Training error is 0.0. Test error is 1.0.\n",
        "Training error is 0.0. Test error is 1.0.\n",
        "Training error is 0.0. Test error is 1.0.\n"
       ]
      },
      {
       "metadata": {},
       "output_type": "pyout",
       "prompt_number": 103,
       "text": [
        "{'goodnight': -0.5, 'hello': 0.5, 'moon': -0.5, 'world': 0.5}"
       ]
      }
     ],
     "prompt_number": 103
    },
    {
     "cell_type": "code",
     "collapsed": false,
     "input": [
      "weights = {}\n",
      "len(weights)"
     ],
     "language": "python",
     "metadata": {},
     "outputs": [
      {
       "metadata": {},
       "output_type": "pyout",
       "prompt_number": 40,
       "text": [
        "0"
       ]
      }
     ],
     "prompt_number": 40
    },
    {
     "cell_type": "code",
     "collapsed": false,
     "input": [
      "for ex in trainExamples:\n",
      "    print ex[1] #extractWordFeatures(ex[0])"
     ],
     "language": "python",
     "metadata": {},
     "outputs": [
      {
       "output_type": "stream",
       "stream": "stdout",
       "text": [
        "1\n",
        "-1\n"
       ]
      }
     ],
     "prompt_number": 46
    },
    {
     "cell_type": "code",
     "collapsed": false,
     "input": [
      "weights = dict()  # feature => weight\n",
      "# BEGIN_YOUR_CODE (around 15 lines of code expected)\n",
      "numIters = 100\n",
      "stepSize = 0.1\n",
      "for i in xrange(numIters):\n",
      "    # shuffle examples each time you run through it\n",
      "    for ex in trainExamples:\n",
      "        features = extractWordFeatures(ex[0])\n",
      "        if type(weights) is NoneType\n",
      "        loss = max(0, 1 - ex[1]*dotProduct(weights,features))\n",
      "        if loss != 0:\n",
      "            weights = increment(weights, stepSize*ex[1], features)\n",
      "\n",
      "    def predictor(x):\n",
      "        return dotProduct(weights,extractWordFeatures)\n",
      "    trainingError = evaluatePredictor(trainExamples, predictor)\n",
      "    testError     = evaluatePredictor(testExamples, predictor) \n",
      "    print 'Training error is ' + str(trainingError) + '. Test error is ' + str(testError) + '.'\n",
      "# END_YOUR_CODE"
     ],
     "language": "python",
     "metadata": {},
     "outputs": [
      {
       "ename": "TypeError",
       "evalue": "object of type 'NoneType' has no len()",
       "output_type": "pyerr",
       "traceback": [
        "\u001b[1;31m---------------------------------------------------------------------------\u001b[0m\n\u001b[1;31mTypeError\u001b[0m                                 Traceback (most recent call last)",
        "\u001b[1;32m<ipython-input-64-65a940650403>\u001b[0m in \u001b[0;36m<module>\u001b[1;34m()\u001b[0m\n\u001b[0;32m      8\u001b[0m     \u001b[1;32mfor\u001b[0m \u001b[0mex\u001b[0m \u001b[1;32min\u001b[0m \u001b[0mtrainExamples\u001b[0m\u001b[1;33m:\u001b[0m\u001b[1;33m\u001b[0m\u001b[0m\n\u001b[0;32m      9\u001b[0m         \u001b[0mfeatures\u001b[0m \u001b[1;33m=\u001b[0m \u001b[0mextractWordFeatures\u001b[0m\u001b[1;33m(\u001b[0m\u001b[0mex\u001b[0m\u001b[1;33m[\u001b[0m\u001b[1;36m0\u001b[0m\u001b[1;33m]\u001b[0m\u001b[1;33m)\u001b[0m\u001b[1;33m\u001b[0m\u001b[0m\n\u001b[1;32m---> 10\u001b[1;33m         \u001b[0mloss\u001b[0m \u001b[1;33m=\u001b[0m \u001b[0mmax\u001b[0m\u001b[1;33m(\u001b[0m\u001b[1;36m0\u001b[0m\u001b[1;33m,\u001b[0m \u001b[1;36m1\u001b[0m \u001b[1;33m-\u001b[0m \u001b[0mex\u001b[0m\u001b[1;33m[\u001b[0m\u001b[1;36m1\u001b[0m\u001b[1;33m]\u001b[0m\u001b[1;33m*\u001b[0m\u001b[0mdotProduct\u001b[0m\u001b[1;33m(\u001b[0m\u001b[0mweights\u001b[0m\u001b[1;33m,\u001b[0m\u001b[0mfeatures\u001b[0m\u001b[1;33m)\u001b[0m\u001b[1;33m)\u001b[0m\u001b[1;33m\u001b[0m\u001b[0m\n\u001b[0m\u001b[0;32m     11\u001b[0m         \u001b[1;32mif\u001b[0m \u001b[0mloss\u001b[0m \u001b[1;33m!=\u001b[0m \u001b[1;36m0\u001b[0m\u001b[1;33m:\u001b[0m\u001b[1;33m\u001b[0m\u001b[0m\n\u001b[0;32m     12\u001b[0m             \u001b[0mweights\u001b[0m \u001b[1;33m=\u001b[0m \u001b[0mincrement\u001b[0m\u001b[1;33m(\u001b[0m\u001b[0mweights\u001b[0m\u001b[1;33m,\u001b[0m \u001b[0mstepSize\u001b[0m\u001b[1;33m*\u001b[0m\u001b[0mex\u001b[0m\u001b[1;33m[\u001b[0m\u001b[1;36m1\u001b[0m\u001b[1;33m]\u001b[0m\u001b[1;33m,\u001b[0m \u001b[0mfeatures\u001b[0m\u001b[1;33m)\u001b[0m\u001b[1;33m\u001b[0m\u001b[0m\n",
        "\u001b[1;32m<ipython-input-19-46f86917fc57>\u001b[0m in \u001b[0;36mdotProduct\u001b[1;34m(d1, d2)\u001b[0m\n\u001b[0;32m      5\u001b[0m     \u001b[1;33m@\u001b[0m\u001b[1;32mreturn\u001b[0m \u001b[0mfloat\u001b[0m\u001b[1;33m:\u001b[0m \u001b[0mthe\u001b[0m \u001b[0mdot\u001b[0m \u001b[0mproduct\u001b[0m \u001b[0mbetween\u001b[0m \u001b[0md1\u001b[0m \u001b[1;32mand\u001b[0m \u001b[0md2\u001b[0m\u001b[1;33m\u001b[0m\u001b[0m\n\u001b[0;32m      6\u001b[0m     \"\"\"\n\u001b[1;32m----> 7\u001b[1;33m     \u001b[1;32mif\u001b[0m \u001b[0mlen\u001b[0m\u001b[1;33m(\u001b[0m\u001b[0md1\u001b[0m\u001b[1;33m)\u001b[0m \u001b[1;33m<\u001b[0m \u001b[0mlen\u001b[0m\u001b[1;33m(\u001b[0m\u001b[0md2\u001b[0m\u001b[1;33m)\u001b[0m\u001b[1;33m:\u001b[0m\u001b[1;33m\u001b[0m\u001b[0m\n\u001b[0m\u001b[0;32m      8\u001b[0m         \u001b[1;32mreturn\u001b[0m \u001b[0mdotProduct\u001b[0m\u001b[1;33m(\u001b[0m\u001b[0md2\u001b[0m\u001b[1;33m,\u001b[0m \u001b[0md1\u001b[0m\u001b[1;33m)\u001b[0m\u001b[1;33m\u001b[0m\u001b[0m\n\u001b[0;32m      9\u001b[0m     \u001b[1;32melse\u001b[0m\u001b[1;33m:\u001b[0m\u001b[1;33m\u001b[0m\u001b[0m\n",
        "\u001b[1;31mTypeError\u001b[0m: object of type 'NoneType' has no len()"
       ]
      }
     ],
     "prompt_number": 64
    },
    {
     "cell_type": "code",
     "collapsed": false,
     "input": [
      "type(ex[1])"
     ],
     "language": "python",
     "metadata": {},
     "outputs": [
      {
       "metadata": {},
       "output_type": "pyout",
       "prompt_number": 50,
       "text": [
        "int"
       ]
      }
     ],
     "prompt_number": 50
    },
    {
     "cell_type": "code",
     "collapsed": false,
     "input": [
      "type(weights)"
     ],
     "language": "python",
     "metadata": {},
     "outputs": [
      {
       "metadata": {},
       "output_type": "pyout",
       "prompt_number": 51,
       "text": [
        "NoneType"
       ]
      }
     ],
     "prompt_number": 51
    },
    {
     "cell_type": "code",
     "collapsed": false,
     "input": [
      "weights = {}"
     ],
     "language": "python",
     "metadata": {},
     "outputs": [],
     "prompt_number": 58
    },
    {
     "cell_type": "code",
     "collapsed": false,
     "input": [
      "type(weights)"
     ],
     "language": "python",
     "metadata": {},
     "outputs": [
      {
       "metadata": {},
       "output_type": "pyout",
       "prompt_number": 59,
       "text": [
        "dict"
       ]
      }
     ],
     "prompt_number": 59
    },
    {
     "cell_type": "code",
     "collapsed": false,
     "input": [
      "len(weights)"
     ],
     "language": "python",
     "metadata": {},
     "outputs": [
      {
       "metadata": {},
       "output_type": "pyout",
       "prompt_number": 60,
       "text": [
        "0"
       ]
      }
     ],
     "prompt_number": 60
    },
    {
     "cell_type": "code",
     "collapsed": false,
     "input": [
      "weights = dict()"
     ],
     "language": "python",
     "metadata": {},
     "outputs": [],
     "prompt_number": 61
    },
    {
     "cell_type": "code",
     "collapsed": false,
     "input": [
      "weights"
     ],
     "language": "python",
     "metadata": {},
     "outputs": [
      {
       "metadata": {},
       "output_type": "pyout",
       "prompt_number": 62,
       "text": [
        "{}"
       ]
      }
     ],
     "prompt_number": 62
    },
    {
     "cell_type": "code",
     "collapsed": false,
     "input": [
      "type(weights)"
     ],
     "language": "python",
     "metadata": {},
     "outputs": [
      {
       "metadata": {},
       "output_type": "pyout",
       "prompt_number": 63,
       "text": [
        "dict"
       ]
      }
     ],
     "prompt_number": 63
    },
    {
     "cell_type": "code",
     "collapsed": false,
     "input": [
      "dotProduct(weights,weights)"
     ],
     "language": "python",
     "metadata": {},
     "outputs": [
      {
       "ename": "TypeError",
       "evalue": "object of type 'NoneType' has no len()",
       "output_type": "pyerr",
       "traceback": [
        "\u001b[1;31m---------------------------------------------------------------------------\u001b[0m\n\u001b[1;31mTypeError\u001b[0m                                 Traceback (most recent call last)",
        "\u001b[1;32m<ipython-input-65-7688ce335d9b>\u001b[0m in \u001b[0;36m<module>\u001b[1;34m()\u001b[0m\n\u001b[1;32m----> 1\u001b[1;33m \u001b[0mdotProduct\u001b[0m\u001b[1;33m(\u001b[0m\u001b[0mweights\u001b[0m\u001b[1;33m,\u001b[0m\u001b[0mweights\u001b[0m\u001b[1;33m)\u001b[0m\u001b[1;33m\u001b[0m\u001b[0m\n\u001b[0m",
        "\u001b[1;32m<ipython-input-19-46f86917fc57>\u001b[0m in \u001b[0;36mdotProduct\u001b[1;34m(d1, d2)\u001b[0m\n\u001b[0;32m      5\u001b[0m     \u001b[1;33m@\u001b[0m\u001b[1;32mreturn\u001b[0m \u001b[0mfloat\u001b[0m\u001b[1;33m:\u001b[0m \u001b[0mthe\u001b[0m \u001b[0mdot\u001b[0m \u001b[0mproduct\u001b[0m \u001b[0mbetween\u001b[0m \u001b[0md1\u001b[0m \u001b[1;32mand\u001b[0m \u001b[0md2\u001b[0m\u001b[1;33m\u001b[0m\u001b[0m\n\u001b[0;32m      6\u001b[0m     \"\"\"\n\u001b[1;32m----> 7\u001b[1;33m     \u001b[1;32mif\u001b[0m \u001b[0mlen\u001b[0m\u001b[1;33m(\u001b[0m\u001b[0md1\u001b[0m\u001b[1;33m)\u001b[0m \u001b[1;33m<\u001b[0m \u001b[0mlen\u001b[0m\u001b[1;33m(\u001b[0m\u001b[0md2\u001b[0m\u001b[1;33m)\u001b[0m\u001b[1;33m:\u001b[0m\u001b[1;33m\u001b[0m\u001b[0m\n\u001b[0m\u001b[0;32m      8\u001b[0m         \u001b[1;32mreturn\u001b[0m \u001b[0mdotProduct\u001b[0m\u001b[1;33m(\u001b[0m\u001b[0md2\u001b[0m\u001b[1;33m,\u001b[0m \u001b[0md1\u001b[0m\u001b[1;33m)\u001b[0m\u001b[1;33m\u001b[0m\u001b[0m\n\u001b[0;32m      9\u001b[0m     \u001b[1;32melse\u001b[0m\u001b[1;33m:\u001b[0m\u001b[1;33m\u001b[0m\u001b[0m\n",
        "\u001b[1;31mTypeError\u001b[0m: object of type 'NoneType' has no len()"
       ]
      }
     ],
     "prompt_number": 65
    },
    {
     "cell_type": "code",
     "collapsed": false,
     "input": [
      "if weights is None:\n",
      "    print \"fuck me\"\n",
      "else:\n",
      "    print len(weights)"
     ],
     "language": "python",
     "metadata": {},
     "outputs": [
      {
       "output_type": "stream",
       "stream": "stdout",
       "text": [
        "fuck me\n"
       ]
      }
     ],
     "prompt_number": 86
    },
    {
     "cell_type": "code",
     "collapsed": false,
     "input": [
      "weights = {}"
     ],
     "language": "python",
     "metadata": {},
     "outputs": [],
     "prompt_number": 91
    },
    {
     "cell_type": "code",
     "collapsed": false,
     "input": [
      "d2 = extractWordFeatures(trainExamples[0][0])"
     ],
     "language": "python",
     "metadata": {},
     "outputs": [],
     "prompt_number": 96
    },
    {
     "cell_type": "code",
     "collapsed": false,
     "input": [
      "for f,v in d2.items():\n",
      "    weights[f] = weights.get(f,0)"
     ],
     "language": "python",
     "metadata": {},
     "outputs": [],
     "prompt_number": 98
    },
    {
     "cell_type": "code",
     "collapsed": false,
     "input": [
      "weights"
     ],
     "language": "python",
     "metadata": {},
     "outputs": [
      {
       "metadata": {},
       "output_type": "pyout",
       "prompt_number": 99,
       "text": [
        "{'hello': 0, 'world': 0}"
       ]
      }
     ],
     "prompt_number": 99
    },
    {
     "cell_type": "code",
     "collapsed": false,
     "input": [
      "trainExamples = readExamples('polarity.train')\n",
      "    devExamples = readExamples('polarity.dev')\n",
      "    featureExtractor = submission.extractWordFeatures\n",
      "    weights = submission.learnPredictor(trainExamples, devExamples, featureExtractor)\n",
      "    outputWeights(weights, 'weights')\n",
      "    outputErrorAnalysis(devExamples, featureExtractor, weights, 'error-analysis')  # Use this to debug\n",
      "    trainError = evaluatePredictor(trainExamples, lambda(x) : (1 if dotProduct(featureExtractor(x), weights) >= 0 else -1))\n",
      "    devError = evaluatePredictor(devExamples, lambda(x) : (1 if dotProduct(featureExtractor(x), weights) >= 0 else -1))\n",
      "    print \"Official: train error = %s, dev error = %s\" % (trainError, devError)\n",
      "    grader.requireIsLessThan(0.08, trainError)\n",
      "    grader.requireIsLessThan(0.30, devError)\n"
     ],
     "language": "python",
     "metadata": {},
     "outputs": []
    }
   ],
   "metadata": {}
  }
 ]
}