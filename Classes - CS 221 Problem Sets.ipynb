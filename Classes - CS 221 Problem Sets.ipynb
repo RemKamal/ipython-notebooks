{
 "metadata": {

  "name": "",
  "signature": "sha256:07af020bede31156bd12d5e2a58d7bf71d18b89efe2ce4939dd12dada6b2bba0"
 },
 "nbformat": 3,
 "nbformat_minor": 0,
 "worksheets": [
  {
   "cells": [
    {
     "cell_type": "markdown",
     "metadata": {},
     "source": [
      "# Problem Set 1"
     ]
    },
    {
     "cell_type": "code",
     "collapsed": false,
     "input": [
      "import collections\n",
      "import numpy as np"
     ],
     "language": "python",
     "metadata": {},
     "outputs": [],
     "prompt_number": 1
    },
    {
     "cell_type": "code",
     "collapsed": false,
     "input": [
      "def computeMaxWordLength(text):\n",
      "    \"\"\"\n",
      "    Given a string |text|, return the longest word in |text|.  If there are\n",
      "    ties, choose the word that comes latest in the alphabet. There won't be \n",
      "    puctuations and there will only be splits on spaces. You might find\n",
      "    max() and list comprehensions handy here.\n",
      "    \"\"\"\n",
      "    # BEGIN_YOUR_CODE (around 1 line of code expected)\n",
      "    return max(sorted(text.split(), key=str, reverse=True), key=len)\n",
      "    # END_YOUR_CODE\n"
     ],
     "language": "python",
     "metadata": {},
     "outputs": [],
     "prompt_number": 189
    },
    {
     "cell_type": "code",
     "collapsed": false,
     "input": [
      "computeMaxWordLength('AA aa ZZ')"
     ],
     "language": "python",
     "metadata": {},
     "outputs": [
      {
       "metadata": {},
       "output_type": "pyout",
       "prompt_number": 209,
       "text": [
        "'aa'"
       ]
      }
     ],
     "prompt_number": 209
    },
    {
     "cell_type": "code",
     "collapsed": false,
     "input": [
      "computeMaxWordLength('You you You')"
     ],
     "language": "python",
     "metadata": {},
     "outputs": [
      {
       "metadata": {},
       "output_type": "pyout",
       "prompt_number": 193,
       "text": [
        "'you'"
       ]
      }
     ],
     "prompt_number": 193
    },
    {
     "cell_type": "code",
     "collapsed": false,
     "input": [
      "text = 'ZZZZZZZ I was sorting through A Huge Piece of dirty LAUNDRY when I bumped into MY FIST!!'\n",
      "max(sorted(text.split(), reverse=True),key=len)"
     ],
     "language": "python",
     "metadata": {},
     "outputs": [
      {
       "metadata": {},
       "output_type": "pyout",
       "prompt_number": 52,
       "text": [
        "'through'"
       ]
      }
     ],
     "prompt_number": 52
    },
    {
     "cell_type": "code",
     "collapsed": false,
     "input": [
      "text"
     ],
     "language": "python",
     "metadata": {},
     "outputs": [
      {
       "metadata": {},
       "output_type": "pyout",
       "prompt_number": 27,
       "text": [
        "'aaaa yoda left me for you'"
       ]
      }
     ],
     "prompt_number": 27
    },
    {
     "cell_type": "code",
     "collapsed": false,
     "input": [
      "set(text)"
     ],
     "language": "python",
     "metadata": {},
     "outputs": [
      {
       "metadata": {},
       "output_type": "pyout",
       "prompt_number": 28,
       "text": [
        "{' ', 'a', 'd', 'e', 'f', 'l', 'm', 'o', 'r', 't', 'u', 'y'}"
       ]
      }
     ],
     "prompt_number": 28
    },
    {
     "cell_type": "code",
     "collapsed": false,
     "input": [
      "set(text.split())"
     ],
     "language": "python",
     "metadata": {},
     "outputs": [
      {
       "metadata": {},
       "output_type": "pyout",
       "prompt_number": 31,
       "text": [
        "{'aaaa', 'for', 'left', 'me', 'yoda', 'you'}"
       ]
      }
     ],
     "prompt_number": 31
    },
    {
     "cell_type": "code",
     "collapsed": false,
     "input": [
      "def createExistsFunction(text):\n",
      "    \"\"\"\n",
      "    Given a text, return a function f, where f(word) returns whether |word|\n",
      "    occurs in |text| or not.  f should run in O(1) time.  You might find it\n",
      "    useful to use set().\n",
      "    \"\"\"\n",
      "    # BEGIN_YOUR_CODE (around 4 lines of code expected)\n",
      "    def f(word):\n",
      "        if word in set(text.split()):\n",
      "            return True\n",
      "        else:\n",
      "            return False\n",
      "    return f\n",
      "    # END_YOUR_CODE"
     ],
     "language": "python",
     "metadata": {},
     "outputs": [],
     "prompt_number": 35
    },
    {
     "cell_type": "code",
     "collapsed": false,
     "input": [
      "func = createExistsFunction(text)"
     ],
     "language": "python",
     "metadata": {},
     "outputs": [],
     "prompt_number": 36
    },
    {
     "cell_type": "code",
     "collapsed": false,
     "input": [
      "def manhattanDistance(loc1, loc2):\n",
      "    \"\"\"\n",
      "    Return the Manhattan distance between two locations, where locations are\n",
      "    pairs (e.g., (3, 5)).\n",
      "    \"\"\"\n",
      "    # BEGIN_YOUR_CODE (around 1 line of code expected)\n",
      "    return abs(loc1[0] - loc2[0]) + abs(loc1[1] - loc2[1])\n",
      "    # END_YOUR_CODE\n"
     ],
     "language": "python",
     "metadata": {},
     "outputs": [],
     "prompt_number": 53
    },
    {
     "cell_type": "code",
     "collapsed": false,
     "input": [
      "def sparseVectorDotProduct(v1, v2):\n",
      "    \"\"\"\n",
      "    Given two sparse vectors |v1| and |v2|, each represented as Counters, return\n",
      "    their dot product.\n",
      "    You might find it useful to use sum() and a list comprehension.\n",
      "    \"\"\"\n",
      "    # BEGIN_YOUR_CODE (around 4 lines of code expected)\n",
      "    nonZeroKeys = v1.keys()\n",
      "    return sum([v1[k]*v2[k] for k in nonZeroKeys])\n",
      "    # END_YOUR_CODE"
     ],
     "language": "python",
     "metadata": {},
     "outputs": [],
     "prompt_number": 105
    },
    {
     "cell_type": "code",
     "collapsed": false,
     "input": [
      "v1 = collections.Counter({'a': 5, 'c' : 9})\n",
      "v2 = collections.Counter({'b': 2, 'a': 3, 'c' : 1})"
     ],
     "language": "python",
     "metadata": {},
     "outputs": [],
     "prompt_number": 110
    },
    {
     "cell_type": "code",
     "collapsed": false,
     "input": [
      "sparseVectorDotProduct(v1,v2)"
     ],
     "language": "python",
     "metadata": {},
     "outputs": [
      {
       "metadata": {},
       "output_type": "pyout",
       "prompt_number": 111,
       "text": [
        "24"
       ]
      }
     ],
     "prompt_number": 111
    },
    {
     "cell_type": "code",
     "collapsed": false,
     "input": [
      "def incrementSparseVector(v1, scale, v2):\n",
      "    \"\"\"\n",
      "    Given two sparse vectors |v1| and |v2|, perform v1 += scale * v2.\n",
      "    \"\"\"\n",
      "    # BEGIN_YOUR_CODE (around 2 lines of code expected)\n",
      "    for k in v2.keys():\n",
      "        v1[k] = v1[k] + scale*v2[k]\n",
      "    # END_YOUR_CODE"
     ],
     "language": "python",
     "metadata": {},
     "outputs": [],
     "prompt_number": 115
    },
    {
     "cell_type": "code",
     "collapsed": false,
     "input": [
      "incrementSparseVector(v1, 5, v2)"
     ],
     "language": "python",
     "metadata": {},
     "outputs": [],
     "prompt_number": 116
    },
    {
     "cell_type": "code",
     "collapsed": false,
     "input": [
      "v1"
     ],
     "language": "python",
     "metadata": {},
     "outputs": [
      {
       "metadata": {},
       "output_type": "pyout",
       "prompt_number": 117,
       "text": [
        "Counter({'a': 20, 'c': 14, 'b': 10})"
       ]
      }
     ],
     "prompt_number": 117
    },
    {
     "cell_type": "code",
     "collapsed": false,
     "input": [
      "def computeMostFrequentWord(text):\n",
      "    \"\"\"\n",
      "    Splits the string |text| by whitespace and returns two things as a pair: \n",
      "        the set of words that occur the maximum number of times, and\n",
      "\ttheir count, i.e.\n",
      "\t(set of words that occur the most number of times, that maximum number/count)\n",
      "    You might find it useful to use collections.Counter().\n",
      "    \"\"\"\n",
      "    # BEGIN_YOUR_CODE (around 5 lines of code expected)\n",
      "    c = collections.Counter(text.split())\n",
      "    mode   = max(c.values())\n",
      "    numMax = len([1 for v in c.values() if v == mode])\n",
      "    pairs  = c.most_common(numMax)\n",
      "    return (set([p[0] for p in pairs]), pairs[0][1])\n",
      "    # END_YOUR_CODE"
     ],
     "language": "python",
     "metadata": {},
     "outputs": [],
     "prompt_number": 142
    },
    {
     "cell_type": "code",
     "collapsed": false,
     "input": [
      "(set(['the', 'fox']), 2)"
     ],
     "language": "python",
     "metadata": {},
     "outputs": [
      {
       "metadata": {},
       "output_type": "pyout",
       "prompt_number": 120,
       "text": [
        "({'fox', 'the'}, 2)"
       ]
      }
     ],
     "prompt_number": 120
    },
    {
     "cell_type": "code",
     "collapsed": false,
     "input": [
      "text = 'the quick brown fox jumps over the lazy fox'"
     ],
     "language": "python",
     "metadata": {},
     "outputs": [],
     "prompt_number": 122
    },
    {
     "cell_type": "code",
     "collapsed": false,
     "input": [
      "computeMostFrequentWord('the quick brown fox jumps over the lazy fox')"
     ],
     "language": "python",
     "metadata": {},
     "outputs": [
      {
       "metadata": {},
       "output_type": "pyout",
       "prompt_number": 143,
       "text": [
        "({'fox', 'the'}, 2)"
       ]
      }
     ],
     "prompt_number": 143
    },
    {
     "cell_type": "code",
     "collapsed": false,
     "input": [
      "def isCollection(x):\n",
      "    return isinstance(x, list) or isinstance(x, tuple)\n",
      "\n",
      "def isEqual(trueAnswer, predAnswer, tolerance = 1e-4):\n",
      "    # Handle floats specially\n",
      "    if isinstance(trueAnswer, float) or isinstance(predAnswer, float):\n",
      "        return abs(trueAnswer - predAnswer) < tolerance\n",
      "    # Recurse on collections to deal with floats inside them\n",
      "    if isCollection(trueAnswer) and isCollection(predAnswer) and len(trueAnswer) == len(predAnswer):\n",
      "        for a, b in zip(trueAnswer, predAnswer):\n",
      "            if not isEqual(a, b): return False\n",
      "        return True\n",
      "    if isinstance(trueAnswer, dict) and isinstance(predAnswer, dict):\n",
      "        if len(trueAnswer) != len(predAnswer): return False\n",
      "        for k, v in trueAnswer.items():\n",
      "            if not isEqual(predAnswer.get(k), v): return False\n",
      "        return True\n",
      "\n",
      "    # Numpy array comparison\n",
      "    if type(trueAnswer).__name__=='ndarray':\n",
      "        import numpy as np\n",
      "        if isinstance(trueAnswer, np.ndarray) and isinstance(predAnswer, np.ndarray):\n",
      "            if trueAnswer.shape != predAnswer.shape:\n",
      "                return False\n",
      "            for a, b in zip(trueAnswer, predAnswer):\n",
      "                if not isEqual(a, b): return False\n",
      "            return True\n",
      "\n",
      "    # Do normal comparison\n",
      "    return trueAnswer == predAnswer\n"
     ],
     "language": "python",
     "metadata": {},
     "outputs": [],
     "prompt_number": 150
    },
    {
     "cell_type": "code",
     "collapsed": false,
     "input": [
      "isEqual((set(['the', 'fox']), 2), computeMostFrequentWord('the quick brown fox jumps over the lazy fox'))"
     ],
     "language": "python",
     "metadata": {},
     "outputs": [
      {
       "metadata": {},
       "output_type": "pyout",
       "prompt_number": 151,
       "text": [
        "True"
       ]
      }
     ],
     "prompt_number": 151
    },
    {
     "cell_type": "code",
     "collapsed": false,
     "input": [
      "text = 'ana'"
     ],
     "language": "python",
     "metadata": {},
     "outputs": [],
     "prompt_number": 157
    },
    {
     "cell_type": "code",
     "collapsed": false,
     "input": [
      "text[::-1] == text"
     ],
     "language": "python",
     "metadata": {},
     "outputs": [
      {
       "metadata": {},
       "output_type": "pyout",
       "prompt_number": 158,
       "text": [
        "True"
       ]
      }
     ],
     "prompt_number": 158
    },
    {
     "cell_type": "code",
     "collapsed": false,
     "input": [
      "string = 'howdy'\n",
      "for idl,l in enumerate(string):\n",
      "    print string[0:idl] + string[idl+1:]"
     ],
     "language": "python",
     "metadata": {},
     "outputs": [
      {
       "output_type": "stream",
       "stream": "stdout",
       "text": [
        "owdy\n",
        "hwdy\n",
        "hody\n",
        "howy\n",
        "howd\n"
       ]
      }
     ],
     "prompt_number": 161
    },
    {
     "cell_type": "code",
     "collapsed": false,
     "input": [
      "def computeLongestPalindrome(text):\n",
      "    \"\"\"\n",
      "    A palindrome is a string that is equal to its reverse (e.g., 'ana').\n",
      "    Compute the length of the longest palindrome that can be obtained by deleting\n",
      "    letters from |text|.\n",
      "    For example: the longest palindrome in 'animal' is 'ama'.\n",
      "    Your algorithm should run in O(len(text)^2) time.\n",
      "    You should first define a recurrence before you start coding.\n",
      "    \"\"\"\n",
      "    # BEGIN_YOUR_CODE (around 19 lines of code expected)\n",
      "    cache = {}\n",
      "    def recurse(string):\n",
      "        if string in cache:\n",
      "            return cache[string]\n",
      "        elif string == '':\n",
      "            return 0\n",
      "        elif string[::-1] == string:\n",
      "            return len(string)\n",
      "        else:\n",
      "            substringLength = []\n",
      "            for idl,l in enumerate(string):\n",
      "                substringLength.append(recurse(string[0:idl] + string[idl+1:]))\n",
      "            ans = max(substringLength)\n",
      "        \n",
      "        cache[string] = ans\n",
      "        return ans\n",
      "\n",
      "    return recurse(text)\n",
      "    # END_YOUR_CODE"
     ],
     "language": "python",
     "metadata": {},
     "outputs": [],
     "prompt_number": 172
    },
    {
     "cell_type": "code",
     "collapsed": false,
     "input": [
      "computeLongestPalindrome('L')"
     ],
     "language": "python",
     "metadata": {},
     "outputs": [
      {
       "metadata": {},
       "output_type": "pyout",
       "prompt_number": 178,
       "text": [
        "1"
       ]
      }
     ],
     "prompt_number": 178
    },
    {
     "cell_type": "code",
     "collapsed": false,
     "input": [
      "def computeLongestPalindromeText(text):\n",
      "    \"\"\"\n",
      "    A palindrome is a string that is equal to its reverse (e.g., 'ana').\n",
      "    Compute the length of the longest palindrome that can be obtained by deleting\n",
      "    letters from |text|.\n",
      "    For example: the longest palindrome in 'animal' is 'ama'.\n",
      "    Your algorithm should run in O(len(text)^2) time.\n",
      "    You should first define a recurrence before you start coding.\n",
      "    \"\"\"\n",
      "    # BEGIN_YOUR_CODE (around 19 lines of code expected)\n",
      "    cache = {}\n",
      "    def recurse(string):\n",
      "        if string in cache:\n",
      "            return cache[string]\n",
      "        elif string == '':\n",
      "            return ''\n",
      "        elif string[::-1] == string:\n",
      "            return string\n",
      "        else:\n",
      "            substringLength = []\n",
      "            for idl,l in enumerate(string):\n",
      "                substringLength.append(recurse(string[0:idl] + string[idl+1:]))\n",
      "            ans = sorted(substringLength, key=len, reverse=True)\n",
      "        \n",
      "        cache[string] = ans[0]\n",
      "        return ans[0]\n",
      "\n",
      "    return recurse(text)\n",
      "    # END_YOUR_CODE"
     ],
     "language": "python",
     "metadata": {},
     "outputs": [],
     "prompt_number": 211
    },
    {
     "cell_type": "code",
     "collapsed": false,
     "input": [
      "computeLongestPalindromeText('Lane')"
     ],
     "language": "python",
     "metadata": {},
     "outputs": [
      {
       "metadata": {},
       "output_type": "pyout",
       "prompt_number": 175,
       "text": [
        "'e'"
       ]
      }
     ],
     "prompt_number": 175
    },
    {
     "cell_type": "code",
     "collapsed": false,
     "input": [
      "computeMaxWordLength('alexander Completed')"
     ],
     "language": "python",
     "metadata": {},
     "outputs": [
      {
       "metadata": {},
       "output_type": "pyout",
       "prompt_number": 188,
       "text": [
        "'alexander'"
       ]
      }
     ],
     "prompt_number": 188
    },
    {
     "cell_type": "code",
     "collapsed": false,
     "input": [
      "import sys\n",
      "print sys.version"
     ],
     "language": "python",
     "metadata": {},
     "outputs": [
      {
       "output_type": "stream",
       "stream": "stdout",
       "text": [
        "2.7.3 (default, Feb 27 2014, 19:58:35) \n",
        "[GCC 4.6.3]\n"
       ]
      }
     ],
     "prompt_number": 210
    },
    {
     "cell_type": "code",
     "collapsed": false,
     "input": [
      "x = computeLongestPalindrome('puypldfojahnhzlzikdcsvgqvemojn')"
     ],
     "language": "python",
     "metadata": {},
     "outputs": [],
     "prompt_number": 214
    },
    {
     "cell_type": "code",
     "collapsed": false,
     "input": [
      "x"
     ],
     "language": "python",
     "metadata": {},
     "outputs": [
      {
       "metadata": {},
       "output_type": "pyout",
       "prompt_number": 215,
       "text": [
        "3"
       ]
      }
     ],
     "prompt_number": 215
    },
    {
     "cell_type": "code",
     "collapsed": false,
     "input": [
      "def computeLongestPalindrome(text):\n",
      "    \"\"\"\n",
      "    A palindrome is a string that is equal to its reverse (e.g., 'ana').\n",
      "    Compute the length of the longest palindrome that can be obtained by deleting\n",
      "    letters from |text|.\n",
      "    For example: the longest palindrome in 'animal' is 'ama'.\n",
      "    Your algorithm should run in O(len(text)^2) time.\n",
      "    You should first define a recurrence before you start coding.\n",
      "    \"\"\"\n",
      "    # BEGIN_YOUR_CODE (around 19 lines of code expected)\n",
      "    cache = {}\n",
      "    def recurse(i,j):\n",
      "        if j-i <= 0:\n",
      "            ans = j-i+1\n",
      "        elif (i,j) in cache:\n",
      "            ans = cache[(i,j)]\n",
      "        elif text[i] == text[j]:\n",
      "            ans = recurse(i+1,j-1) + 2\n",
      "        else:\n",
      "            ans = max(recurse(i+1,j),recurse(i,j-1))\n",
      "        cache[(i,j)] = ans\n",
      "        return ans\n",
      "\n",
      "    return recurse(0,len(text)-1)\n",
      "    # END_YOUR_CODE"
     ],
     "language": "python",
     "metadata": {},
     "outputs": [],
     "prompt_number": 216
    },
    {
     "cell_type": "code",
     "collapsed": false,
     "input": [
      "computeLongestPalindrome('ajktcnyoyzreimphdqhjmcivomtaur')"
     ],
     "language": "python",
     "metadata": {},
     "outputs": [
      {
       "metadata": {},
       "output_type": "pyout",
       "prompt_number": 236,
       "text": [
        "13"
       ]
      }
     ],
     "prompt_number": 236
    },
    {
     "cell_type": "code",
     "collapsed": false,
     "input": [
      "len('')"
     ],
     "language": "python",
     "metadata": {},
     "outputs": [
      {
       "metadata": {},
       "output_type": "pyout",
       "prompt_number": 224,
       "text": [
        "0"
       ]
      }
     ],
     "prompt_number": 224
    },
    {
     "cell_type": "markdown",
     "metadata": {},
     "source": [
      "# Problem Set 2"
     ]
    },
    {
     "cell_type": "code",
     "collapsed": false,
     "input": [
      "cd /Users/lmcintosh/Dropbox/Stanford\\ University/CS\\ 221\\ Artificial\\ Intelligence/Problem\\ Sets/01\\ Sentiment"
     ],
     "language": "python",
     "metadata": {},
     "outputs": [
      {
       "output_type": "stream",
       "stream": "stdout",
       "text": [
        "/Users/lmcintosh/Dropbox/Stanford University/CS 221 Artificial Intelligence/Problem Sets/01 Sentiment\n"
       ]
      }
     ],
     "prompt_number": 12
    },
    {
     "cell_type": "code",
     "collapsed": false,
     "input": [
      "import submission\n",
      "from util import *\n",
      "import util\n",
      "from grader import *\n",
      "import graderUtil"
     ],
     "language": "python",
     "metadata": {},
     "outputs": [],
     "prompt_number": 19
    },
    {
     "cell_type": "code",
     "collapsed": false,
     "input": [
      "import time"
     ],
     "language": "python",
     "metadata": {},
     "outputs": [],
     "prompt_number": 97
    },
    {
     "cell_type": "code",
     "collapsed": false,
     "input": [
      "x = \"I am what I am\""
     ],
     "language": "python",
     "metadata": {},
     "outputs": [],
     "prompt_number": 1
    },
    {
     "cell_type": "code",
     "collapsed": false,
     "input": [
      "def extractWordFeatures(x):\n",
      "    \"\"\"\n",
      "    Extract word features for a string x.\n",
      "    @param string x: \n",
      "    @return dict: feature vector representation of x.\n",
      "    Example: \"I am what I am\" --> {'I': 2, 'am': 2, 'what': 1}\n",
      "    \"\"\"\n",
      "    # BEGIN_YOUR_CODE (around 5 lines of code expected)\n",
      "    words = x.split(' ')\n",
      "    return dict(collections.Counter(words))\n",
      "    # END_YOUR_CODE"
     ],
     "language": "python",
     "metadata": {},
     "outputs": [],
     "prompt_number": 31
    },
    {
     "cell_type": "code",
     "collapsed": false,
     "input": [
      "def learnPredictor(trainExamples, testExamples, featureExtractor):\n",
      "    '''\n",
      "    Given |trainExamples| and |testExamples| (each one is a list of (x,y)\n",
      "    pairs), a |featureExtractor| to apply to x, and the number of iterations to\n",
      "    train |numIters|, return the weight vector (sparse feature vector) learned.\n",
      "\n",
      "    You should implement stochastic gradient descent.\n",
      "\n",
      "    Note: only use the trainExamples for training!\n",
      "    You should call evaluatePredictor() on both trainExamples and testExamples\n",
      "    to see how you're doing as you learn after each iteration.\n",
      "    '''\n",
      "    weights = {}  # feature => weight\n",
      "    # BEGIN_YOUR_CODE (around 15 lines of code expected)\n",
      "    numIters = 20\n",
      "    stepSize = 0.1\n",
      "    for i in xrange(numIters):\n",
      "        for ex in trainExamples:\n",
      "            features = featureExtractor(ex[0])\n",
      "            loss = max(0, 1 - ex[1]*dotProduct(weights,features))\n",
      "            if loss != 0 or 1 - ex[1]*dotProduct(weights,features) == 0:\n",
      "                increment(weights, stepSize*ex[1], features)\n",
      "        trainingError = evaluatePredictor(trainExamples, lambda(x) : (1 if dotProduct(featureExtractor(x), weights) >= 0 else -1))\n",
      "        testError     = evaluatePredictor(testExamples, lambda(x) : (1 if dotProduct(featureExtractor(x), weights) >= 0 else -1))\n",
      "        print 'Training error is ' + str(trainingError) + '. Test error is ' + str(testError) + '. Step size: ' + str(stepSize)\n",
      "        stepSize = 0.95*stepSize\n",
      "        # END_YOUR_CODE\n",
      "    return weights"
     ],
     "language": "python",
     "metadata": {},
     "outputs": [],
     "prompt_number": 180
    },
    {
     "cell_type": "code",
     "collapsed": false,
     "input": [
      "trainExamples = ((\"hello world\", 1), (\"goodnight moon\", -1))\n",
      "testExamples = ((\"hello\", 1), (\"moon\", -1))"
     ],
     "language": "python",
     "metadata": {},
     "outputs": [],
     "prompt_number": 34
    },
    {
     "cell_type": "code",
     "collapsed": true,
     "input": [
      "learnPredictor(trainExamples, testExamples, extractWordFeatures)"
     ],
     "language": "python",
     "metadata": {},
     "outputs": [
      {
       "output_type": "stream",
       "stream": "stdout",
       "text": [
        "Training error is 1.0. Test error is 1.0.\n",
        "Training error is 1.0. Test error is 1.0.\n",
        "Training error is 1.0. Test error is 1.0.\n",
        "Training error is 1.0. Test error is 1.0.\n",
        "Training error is 1.0. Test error is 1.0.\n",
        "Training error is 1.0. Test error is 1.0.\n",
        "Training error is 1.0. Test error is 1.0.\n",
        "Training error is 1.0. Test error is 1.0.\n",
        "Training error is 1.0. Test error is 1.0.\n",
        "Training error is 1.0. Test error is 1.0.\n",
        "Training error is 1.0. Test error is 1.0.\n",
        "Training error is 1.0. Test error is 1.0.\n",
        "Training error is 1.0. Test error is 1.0.\n",
        "Training error is 1.0. Test error is 1.0.\n",
        "Training error is 1.0. Test error is 1.0.\n",
        "Training error is 1.0. Test error is 1.0.\n",
        "Training error is 1.0. Test error is 1.0.\n",
        "Training error is 1.0. Test error is 1.0.\n",
        "Training error is 1.0. Test error is 1.0.\n",
        "Training error is 1.0. Test error is 1.0.\n",
        "Training error is 1.0. Test error is 1.0.\n",
        "Training error is 1.0. Test error is 1.0.\n",
        "Training error is 1.0. Test error is 1.0.\n",
        "Training error is 1.0. Test error is 1.0.\n",
        "Training error is 1.0. Test error is 1.0.\n",
        "Training error is 1.0. Test error is 1.0.\n",
        "Training error is 1.0. Test error is 1.0.\n",
        "Training error is 1.0. Test error is 1.0.\n",
        "Training error is 1.0. Test error is 1.0.\n",
        "Training error is 1.0. Test error is 1.0.\n",
        "Training error is 1.0. Test error is 1.0.\n",
        "Training error is 1.0. Test error is 1.0.\n",
        "Training error is 1.0. Test error is 1.0.\n",
        "Training error is 1.0. Test error is 1.0.\n",
        "Training error is 1.0. Test error is 1.0.\n",
        "Training error is 1.0. Test error is 1.0.\n",
        "Training error is 1.0. Test error is 1.0.\n",
        "Training error is 1.0. Test error is 1.0.\n",
        "Training error is 1.0. Test error is 1.0.\n",
        "Training error is 1.0. Test error is 1.0.\n",
        "Training error is 1.0. Test error is 1.0.\n",
        "Training error is 1.0. Test error is 1.0.\n",
        "Training error is 1.0. Test error is 1.0.\n",
        "Training error is 1.0. Test error is 1.0.\n",
        "Training error is 1.0. Test error is 1.0.\n",
        "Training error is 1.0. Test error is 1.0.\n",
        "Training error is 1.0. Test error is 1.0.\n",
        "Training error is 1.0. Test error is 1.0.\n",
        "Training error is 1.0. Test error is 1.0.\n",
        "Training error is 1.0. Test error is 1.0.\n",
        "Training error is 1.0. Test error is 1.0.\n",
        "Training error is 1.0. Test error is 1.0.\n",
        "Training error is 1.0. Test error is 1.0.\n",
        "Training error is 1.0. Test error is 1.0.\n",
        "Training error is 1.0. Test error is 1.0.\n",
        "Training error is 1.0. Test error is 1.0.\n",
        "Training error is 1.0. Test error is 1.0.\n",
        "Training error is 1.0. Test error is 1.0.\n",
        "Training error is 1.0. Test error is 1.0.\n",
        "Training error is 1.0. Test error is 1.0.\n",
        "Training error is 1.0. Test error is 1.0.\n",
        "Training error is 1.0. Test error is 1.0.\n",
        "Training error is 1.0. Test error is 1.0.\n",
        "Training error is 1.0. Test error is 1.0.\n",
        "Training error is 1.0. Test error is 1.0.\n",
        "Training error is 1.0. Test error is 1.0.\n",
        "Training error is 1.0. Test error is 1.0.\n",
        "Training error is 1.0. Test error is 1.0.\n",
        "Training error is 1.0. Test error is 1.0.\n",
        "Training error is 1.0. Test error is 1.0.\n",
        "Training error is 1.0. Test error is 1.0.\n",
        "Training error is 1.0. Test error is 1.0.\n",
        "Training error is 1.0. Test error is 1.0.\n",
        "Training error is 1.0. Test error is 1.0.\n",
        "Training error is 1.0. Test error is 1.0.\n",
        "Training error is 1.0. Test error is 1.0.\n",
        "Training error is 1.0. Test error is 1.0.\n",
        "Training error is 1.0. Test error is 1.0.\n",
        "Training error is 1.0. Test error is 1.0.\n",
        "Training error is 1.0. Test error is 1.0.\n",
        "Training error is 1.0. Test error is 1.0.\n",
        "Training error is 1.0. Test error is 1.0.\n",
        "Training error is 1.0. Test error is 1.0.\n",
        "Training error is 1.0. Test error is 1.0.\n",
        "Training error is 1.0. Test error is 1.0.\n",
        "Training error is 1.0. Test error is 1.0.\n",
        "Training error is 1.0. Test error is 1.0.\n",
        "Training error is 1.0. Test error is 1.0.\n",
        "Training error is 1.0. Test error is 1.0.\n",
        "Training error is 1.0. Test error is 1.0.\n",
        "Training error is 1.0. Test error is 1.0.\n",
        "Training error is 1.0. Test error is 1.0.\n",
        "Training error is 1.0. Test error is 1.0.\n",
        "Training error is 1.0. Test error is 1.0.\n",
        "Training error is 1.0. Test error is 1.0.\n",
        "Training error is 1.0. Test error is 1.0.\n",
        "Training error is 1.0. Test error is 1.0.\n",
        "Training error is 1.0. Test error is 1.0.\n",
        "Training error is 1.0. Test error is 1.0.\n",
        "Training error is 1.0. Test error is 1.0.\n"
       ]
      },
      {
       "metadata": {},
       "output_type": "pyout",
       "prompt_number": 35,
       "text": [
        "{'goodnight': -0.5000000000000002,\n",
        " 'hello': 0.5000000000000002,\n",
        " 'moon': -0.5000000000000002,\n",
        " 'world': 0.5000000000000002}"
       ]
      }
     ],
     "prompt_number": 35
    },
    {
     "cell_type": "code",
     "collapsed": false,
     "input": [
      "random.randrange(10)"
     ],
     "language": "python",
     "metadata": {},
     "outputs": [
      {
       "metadata": {},
       "output_type": "pyout",
       "prompt_number": 48,
       "text": [
        "3"
       ]
      }
     ],
     "prompt_number": 48
    },
    {
     "cell_type": "code",
     "collapsed": false,
     "input": [
      "def generateDataset(numExamples, weights):\n",
      "    '''\n",
      "    Return a set of examples (phi(x), y) randomly which are classified correctly by\n",
      "    |weights|.\n",
      "    '''\n",
      "    random.seed(42)\n",
      "    # Return a single example (phi(x), y).\n",
      "    # phi(x) can be anything (randomize!) with a nonzero score under the given weight vector\n",
      "    # y should be 1 or -1 as classified by the weight vector.\n",
      "    def generateExample():\n",
      "        # BEGIN_YOUR_CODE (around 5 lines of code expected)\n",
      "        phi = {}\n",
      "        for f,v in weights.items():\n",
      "            phi[f] = random.randrange(10)\n",
      "        if dotProduct(weights, phi) >= 0:\n",
      "            y = 1\n",
      "        else:\n",
      "            y = -1\n",
      "        # END_YOUR_CODE\n",
      "        return (phi, y)\n",
      "    return [generateExample() for _ in range(numExamples)]"
     ],
     "language": "python",
     "metadata": {},
     "outputs": [],
     "prompt_number": 78
    },
    {
     "cell_type": "code",
     "collapsed": false,
     "input": [
      "weights = {\"hello\":1, \"world\":1, \"bad\":-10, \"truth\":2, \"dank\":2, \"sickness\":-1, \"pretty\":3, \"sweet\":5, \"great\":1, \"dude\":-1}\n",
      "trainData = generateDataset(1000, weights)\n",
      "testData = generateDataset(1000,weights)"
     ],
     "language": "python",
     "metadata": {},
     "outputs": [],
     "prompt_number": 91
    },
    {
     "cell_type": "code",
     "collapsed": false,
     "input": [
      "def alreadyDict(x):\n",
      "    return x"
     ],
     "language": "python",
     "metadata": {},
     "outputs": [],
     "prompt_number": 87
    },
    {
     "cell_type": "code",
     "collapsed": false,
     "input": [
      "learnPredictor(trainData,testData,alreadyDict)"
     ],
     "language": "python",
     "metadata": {},
     "outputs": [
      {
       "output_type": "stream",
       "stream": "stdout",
       "text": [
        "Training error is 0.067. Test error is 0.067.\n",
        "Training error is 0.024. Test error is 0.024.\n",
        "Training error is 0.026. Test error is 0.026.\n",
        "Training error is 0.025. Test error is 0.025.\n",
        "Training error is 0.02. Test error is 0.02.\n",
        "Training error is 0.015. Test error is 0.015."
       ]
      },
      {
       "output_type": "stream",
       "stream": "stdout",
       "text": [
        "\n",
        "Training error is 0.016. Test error is 0.016.\n",
        "Training error is 0.019. Test error is 0.019.\n",
        "Training error is 0.01. Test error is 0.01.\n",
        "Training error is 0.016. Test error is 0.016.\n"
       ]
      },
      {
       "metadata": {},
       "output_type": "pyout",
       "prompt_number": 92,
       "text": [
        "{'bad': -3.940000000000005,\n",
        " 'dank': 0.7100000000000011,\n",
        " 'dude': -0.40000000000000036,\n",
        " 'great': 0.5100000000000002,\n",
        " 'hello': 0.33999999999999997,\n",
        " 'pretty': 1.1399999999999992,\n",
        " 'sickness': -0.3199999999999998,\n",
        " 'sweet': 1.7900000000000003,\n",
        " 'truth': 0.9600000000000011,\n",
        " 'world': 0.2700000000000003}"
       ]
      }
     ],
     "prompt_number": 92
    },
    {
     "cell_type": "code",
     "collapsed": false,
     "input": [
      "trainExamples = readExamples('polarity.train')\n",
      "devExamples = readExamples('polarity.dev')"
     ],
     "language": "python",
     "metadata": {},
     "outputs": [
      {
       "output_type": "stream",
       "stream": "stdout",
       "text": [
        "Read 3554 examples from polarity.train\n",
        "Read 3554 examples from polarity.dev\n"
       ]
      }
     ],
     "prompt_number": 93
    },
    {
     "cell_type": "code",
     "collapsed": false,
     "input": [
      "featureExtractor = extractWordFeatures"
     ],
     "language": "python",
     "metadata": {},
     "outputs": [],
     "prompt_number": 94
    },
    {
     "cell_type": "code",
     "collapsed": false,
     "input": [
      "# step size 0.95\n",
      "start = time.time()\n",
      "weights = learnPredictor(trainExamples, devExamples, featureExtractor)\n",
      "print time.time() - start"
     ],
     "language": "python",
     "metadata": {},
     "outputs": [
      {
       "output_type": "stream",
       "stream": "stdout",
       "text": [
        "Training error is 0.207934721441. Test error is 0.335959482273. Step size: 0.1\n",
        "Training error is 0.133652222847. Test error is 0.30388294879. Step size: 0.095"
       ]
      },
      {
       "output_type": "stream",
       "stream": "stdout",
       "text": [
        "\n",
        "Training error is 0.109454136185. Test error is 0.306415306697. Step size: 0.09025"
       ]
      },
      {
       "output_type": "stream",
       "stream": "stdout",
       "text": [
        "\n",
        "Training error is 0.120146314012. Test error is 0.321328081035. Step size: 0.0857375"
       ]
      },
      {
       "output_type": "stream",
       "stream": "stdout",
       "text": [
        "\n",
        "Training error is 0.068092290377. Test error is 0.296848621272. Step size: 0.081450625"
       ]
      },
      {
       "output_type": "stream",
       "stream": "stdout",
       "text": [
        "\n",
        "Training error is 0.0939786156443. Test error is 0.317670230726. Step size: 0.07737809375"
       ]
      },
      {
       "output_type": "stream",
       "stream": "stdout",
       "text": [
        "\n",
        "Training error is 0.0430500844119. Test error is 0.295160382667. Step size: 0.0735091890625"
       ]
      },
      {
       "output_type": "stream",
       "stream": "stdout",
       "text": [
        "\n",
        "Training error is 0.0399549803039. Test error is 0.29234665166. Step size: 0.0698337296094"
       ]
      },
      {
       "output_type": "stream",
       "stream": "stdout",
       "text": [
        "\n",
        "Training error is 0.0267304445695. Test error is 0.277433877321. Step size: 0.0663420431289"
       ]
      },
      {
       "output_type": "stream",
       "stream": "stdout",
       "text": [
        "\n",
        "Training error is 0.0174451322454. Test error is 0.279684862127. Step size: 0.0630249409725"
       ]
      },
      {
       "output_type": "stream",
       "stream": "stdout",
       "text": [
        "\n",
        "Training error is 0.0098480585256. Test error is 0.274901519415. Step size: 0.0598736939238"
       ]
      },
      {
       "output_type": "stream",
       "stream": "stdout",
       "text": [
        "\n",
        "Training error is 0.00731570061902. Test error is 0.276027011818. Step size: 0.0568800092276"
       ]
      },
      {
       "output_type": "stream",
       "stream": "stdout",
       "text": [
        "\n",
        "Training error is 0.00815981992122. Test error is 0.275182892515. Step size: 0.0540360087663"
       ]
      },
      {
       "output_type": "stream",
       "stream": "stdout",
       "text": [
        "\n",
        "Training error is 0.00309510410805. Test error is 0.284186831739. Step size: 0.051334208328"
       ]
      },
      {
       "output_type": "stream",
       "stream": "stdout",
       "text": [
        "\n",
        "Training error is 0.00281373100732. Test error is 0.278559369724. Step size: 0.0487674979116"
       ]
      },
      {
       "output_type": "stream",
       "stream": "stdout",
       "text": [
        "\n",
        "Training error is 0.00562746201463. Test error is 0.280247608329. Step size: 0.046329123016"
       ]
      },
      {
       "output_type": "stream",
       "stream": "stdout",
       "text": [
        "\n",
        "Training error is 0.00196961170512. Test error is 0.275182892515. Step size: 0.0440126668652"
       ]
      },
      {
       "output_type": "stream",
       "stream": "stdout",
       "text": [
        "\n",
        "Training error is 0.00281373100732. Test error is 0.278559369724. Step size: 0.0418120335219"
       ]
      },
      {
       "output_type": "stream",
       "stream": "stdout",
       "text": [
        "\n",
        "Training error is 0.00140686550366. Test error is 0.272369161508. Step size: 0.0397214318458"
       ]
      },
      {
       "output_type": "stream",
       "stream": "stdout",
       "text": [
        "\n",
        "Training error is 0.00112549240293. Test error is 0.2692740574. Step size: 0.0377353602535"
       ]
      },
      {
       "output_type": "stream",
       "stream": "stdout",
       "text": [
        "\n",
        "5.14713907242\n"
       ]
      }
     ],
     "prompt_number": 110
    },
    {
     "cell_type": "code",
     "collapsed": false,
     "input": [
      "# step size 0.94\n",
      "start = time.time()\n",
      "weights = learnPredictor(trainExamples, devExamples, featureExtractor)\n",
      "print time.time() - start"
     ],
     "language": "python",
     "metadata": {},
     "outputs": [
      {
       "output_type": "stream",
       "stream": "stdout",
       "text": [
        "Training error is 0.20371412493. Test error is 0.335678109173. Step size: 0.1\n",
        "Training error is 0.13083849184. Test error is 0.3078221722. Step size: 0.095"
       ]
      },
      {
       "output_type": "stream",
       "stream": "stdout",
       "text": [
        "\n",
        "Training error is 0.109172763084. Test error is 0.3075407991. Step size: 0.09025"
       ]
      },
      {
       "output_type": "stream",
       "stream": "stdout",
       "text": [
        "\n",
        "Training error is 0.0818795723129. Test error is 0.306415306697. Step size: 0.0857375"
       ]
      },
      {
       "output_type": "stream",
       "stream": "stdout",
       "text": [
        "\n",
        "Training error is 0.0942599887451. Test error is 0.320483961733. Step size: 0.081450625"
       ]
      },
      {
       "output_type": "stream",
       "stream": "stdout",
       "text": [
        "\n",
        "Training error is 0.0700619020822. Test error is 0.297692740574. Step size: 0.07737809375"
       ]
      },
      {
       "output_type": "stream",
       "stream": "stdout",
       "text": [
        "\n",
        "Training error is 0.0551491277434. Test error is 0.301350590884. Step size: 0.0735091890625"
       ]
      },
      {
       "output_type": "stream",
       "stream": "stdout",
       "text": [
        "\n",
        "Training error is 0.0219471018571. Test error is 0.27321328081. Step size: 0.0698337296094"
       ]
      },
      {
       "output_type": "stream",
       "stream": "stdout",
       "text": [
        "\n",
        "Training error is 0.0208216094541. Test error is 0.280247608329. Step size: 0.0663420431289"
       ]
      },
      {
       "output_type": "stream",
       "stream": "stdout",
       "text": [
        "\n",
        "Training error is 0.0163196398424. Test error is 0.278277996624. Step size: 0.0630249409725"
       ]
      },
      {
       "output_type": "stream",
       "stream": "stdout",
       "text": [
        "\n",
        "Training error is 0.00703432751829. Test error is 0.274338773213. Step size: 0.0598736939238"
       ]
      },
      {
       "output_type": "stream",
       "stream": "stdout",
       "text": [
        "\n",
        "Training error is 0.00703432751829. Test error is 0.275745638717. Step size: 0.0568800092276"
       ]
      },
      {
       "output_type": "stream",
       "stream": "stdout",
       "text": [
        "\n",
        "Training error is 0.00309510410805. Test error is 0.277715250422. Step size: 0.0540360087663"
       ]
      },
      {
       "output_type": "stream",
       "stream": "stdout",
       "text": [
        "\n",
        "Training error is 0.00253235790658. Test error is 0.271806415307. Step size: 0.051334208328"
       ]
      },
      {
       "output_type": "stream",
       "stream": "stdout",
       "text": [
        "\n",
        "Training error is 0.00787844682048. Test error is 0.277996623523. Step size: 0.0487674979116"
       ]
      },
      {
       "output_type": "stream",
       "stream": "stdout",
       "text": [
        "\n",
        "Training error is 0.00703432751829. Test error is 0.278277996624. Step size: 0.046329123016"
       ]
      },
      {
       "output_type": "stream",
       "stream": "stdout",
       "text": [
        "\n",
        "Training error is 0.0053460889139. Test error is 0.277715250422. Step size: 0.0440126668652"
       ]
      },
      {
       "output_type": "stream",
       "stream": "stdout",
       "text": [
        "\n",
        "Training error is 0.00309510410805. Test error is 0.275464265616. Step size: 0.0418120335219"
       ]
      },
      {
       "output_type": "stream",
       "stream": "stdout",
       "text": [
        "\n",
        "Training error is 0.00112549240293. Test error is 0.271525042206. Step size: 0.0397214318458"
       ]
      },
      {
       "output_type": "stream",
       "stream": "stdout",
       "text": [
        "\n",
        "Training error is 0.00168823860439. Test error is 0.274620146314. Step size: 0.0377353602535"
       ]
      },
      {
       "output_type": "stream",
       "stream": "stdout",
       "text": [
        "\n",
        "4.78757500648\n"
       ]
      }
     ],
     "prompt_number": 183
    },
    {
     "cell_type": "code",
     "collapsed": false,
     "input": [
      "# step size 0.95\n",
      "start = time.time()\n",
      "weights = learnPredictor(trainExamples, devExamples, featureExtractor)\n",
      "print time.time() - start"
     ],
     "language": "python",
     "metadata": {},
     "outputs": [
      {
       "output_type": "stream",
       "stream": "stdout",
       "text": [
        "Training error is 0.207934721441. Test error is 0.335959482273. Step size: 0.1\n",
        "Training error is 0.133652222847. Test error is 0.30388294879. Step size: 0.095"
       ]
      },
      {
       "output_type": "stream",
       "stream": "stdout",
       "text": [
        "\n",
        "Training error is 0.109454136185. Test error is 0.306415306697. Step size: 0.09025"
       ]
      },
      {
       "output_type": "stream",
       "stream": "stdout",
       "text": [
        "\n",
        "Training error is 0.120146314012. Test error is 0.321328081035. Step size: 0.0857375"
       ]
      },
      {
       "output_type": "stream",
       "stream": "stdout",
       "text": [
        "\n",
        "Training error is 0.068092290377. Test error is 0.296848621272. Step size: 0.081450625"
       ]
      },
      {
       "output_type": "stream",
       "stream": "stdout",
       "text": [
        "\n",
        "Training error is 0.0939786156443. Test error is 0.317670230726. Step size: 0.07737809375"
       ]
      },
      {
       "output_type": "stream",
       "stream": "stdout",
       "text": [
        "\n",
        "Training error is 0.0430500844119. Test error is 0.295160382667. Step size: 0.0735091890625"
       ]
      },
      {
       "output_type": "stream",
       "stream": "stdout",
       "text": [
        "\n",
        "Training error is 0.0399549803039. Test error is 0.29234665166. Step size: 0.0698337296094"
       ]
      },
      {
       "output_type": "stream",
       "stream": "stdout",
       "text": [
        "\n",
        "Training error is 0.0267304445695. Test error is 0.277433877321. Step size: 0.0663420431289"
       ]
      },
      {
       "output_type": "stream",
       "stream": "stdout",
       "text": [
        "\n",
        "Training error is 0.0174451322454. Test error is 0.279684862127. Step size: 0.0630249409725"
       ]
      },
      {
       "output_type": "stream",
       "stream": "stdout",
       "text": [
        "\n",
        "Training error is 0.0098480585256. Test error is 0.274901519415. Step size: 0.0598736939238"
       ]
      },
      {
       "output_type": "stream",
       "stream": "stdout",
       "text": [
        "\n",
        "Training error is 0.00731570061902. Test error is 0.276027011818. Step size: 0.0568800092276"
       ]
      },
      {
       "output_type": "stream",
       "stream": "stdout",
       "text": [
        "\n",
        "Training error is 0.00815981992122. Test error is 0.275182892515. Step size: 0.0540360087663"
       ]
      },
      {
       "output_type": "stream",
       "stream": "stdout",
       "text": [
        "\n",
        "Training error is 0.00309510410805. Test error is 0.284186831739. Step size: 0.051334208328"
       ]
      },
      {
       "output_type": "stream",
       "stream": "stdout",
       "text": [
        "\n",
        "Training error is 0.00281373100732. Test error is 0.278559369724. Step size: 0.0487674979116"
       ]
      },
      {
       "output_type": "stream",
       "stream": "stdout",
       "text": [
        "\n",
        "Training error is 0.00562746201463. Test error is 0.280247608329. Step size: 0.046329123016"
       ]
      },
      {
       "output_type": "stream",
       "stream": "stdout",
       "text": [
        "\n",
        "Training error is 0.00196961170512. Test error is 0.275182892515. Step size: 0.0440126668652"
       ]
      },
      {
       "output_type": "stream",
       "stream": "stdout",
       "text": [
        "\n",
        "Training error is 0.00281373100732. Test error is 0.278559369724. Step size: 0.0418120335219"
       ]
      },
      {
       "output_type": "stream",
       "stream": "stdout",
       "text": [
        "\n",
        "Training error is 0.00140686550366. Test error is 0.272369161508. Step size: 0.0397214318458"
       ]
      },
      {
       "output_type": "stream",
       "stream": "stdout",
       "text": [
        "\n",
        "Training error is 0.00112549240293. Test error is 0.2692740574. Step size: 0.0377353602535"
       ]
      },
      {
       "output_type": "stream",
       "stream": "stdout",
       "text": [
        "\n",
        "4.37959980965\n"
       ]
      }
     ],
     "prompt_number": 120
    },
    {
     "cell_type": "code",
     "collapsed": false,
     "input": [
      "x = 'i like tacos'"
     ],
     "language": "python",
     "metadata": {},
     "outputs": [],
     "prompt_number": 121
    },
    {
     "cell_type": "code",
     "collapsed": false,
     "input": [
      "noSpaces = x.replace(' ', '')"
     ],
     "language": "python",
     "metadata": {},
     "outputs": [],
     "prompt_number": 122
    },
    {
     "cell_type": "code",
     "collapsed": false,
     "input": [
      "noSpaces"
     ],
     "language": "python",
     "metadata": {},
     "outputs": [
      {
       "metadata": {},
       "output_type": "pyout",
       "prompt_number": 123,
       "text": [
        "'iliketacos'"
       ]
      }
     ],
     "prompt_number": 123
    },
    {
     "cell_type": "code",
     "collapsed": false,
     "input": [
      "def extractCharacterFeatures(n):\n",
      "    '''\n",
      "    Return a function that takes a string |x| and returns a sparse feature\n",
      "    vector consisting of all n-grams of |x| without spaces.\n",
      "    EXAMPLE: (n = 3) \"I like tacos\" --> {'Ili': 1, 'lik': 1, 'ike': 1, ...\n",
      "    '''\n",
      "    def extract(x):\n",
      "        # BEGIN_YOUR_CODE (around 10 lines of code expected)\n",
      "        features = {}\n",
      "        noSpaces = x.replace(' ', '')\n",
      "        for i in xrange(len(noSpaces)-(n-1)):\n",
      "            features[noSpaces[i:i+n]] = features.get(noSpaces[i:i+n],0) + 1\n",
      "        return features\n",
      "        # END_YOUR_CODE\n",
      "    return extract"
     ],
     "language": "python",
     "metadata": {},
     "outputs": [],
     "prompt_number": 141
    },
    {
     "cell_type": "code",
     "collapsed": false,
     "input": [
      "fe = extractCharacterFeatures(3)"
     ],
     "language": "python",
     "metadata": {},
     "outputs": [],
     "prompt_number": 142
    },
    {
     "cell_type": "code",
     "collapsed": false,
     "input": [
      "sentence = \"hello world\"\n",
      "ans = {\"hel\":1, \"ell\":1, \"llo\":1, \"low\":1, \"owo\":1, \"wor\":1, \"orl\":1, \"rld\":1}"
     ],
     "language": "python",
     "metadata": {},
     "outputs": [],
     "prompt_number": 143
    },
    {
     "cell_type": "code",
     "collapsed": false,
     "input": [
      "fe(sentence)"
     ],
     "language": "python",
     "metadata": {},
     "outputs": [
      {
       "metadata": {},
       "output_type": "pyout",
       "prompt_number": 146,
       "text": [
        "{'ell': 1,\n",
        " 'hel': 1,\n",
        " 'llo': 1,\n",
        " 'low': 1,\n",
        " 'orl': 1,\n",
        " 'owo': 1,\n",
        " 'rld': 1,\n",
        " 'wor': 1}"
       ]
      }
     ],
     "prompt_number": 146
    },
    {
     "cell_type": "code",
     "collapsed": false,
     "input": [
      "# step size 0.95\n",
      "start = time.time()\n",
      "n = 3\n",
      "fe = extractCharacterFeatures(n)\n",
      "weights = learnPredictor(trainExamples, devExamples, fe)\n",
      "print time.time() - start"
     ],
     "language": "python",
     "metadata": {},
     "outputs": [
      {
       "output_type": "stream",
       "stream": "stdout",
       "text": [
        "Training error is 0.227912211593. Test error is 0.378728193585. Step size: 0.1\n",
        "Training error is 0.153348339899. Test error is 0.356499718627. Step size: 0.095"
       ]
      },
      {
       "output_type": "stream",
       "stream": "stdout",
       "text": [
        "\n",
        "Training error is 0.108891389983. Test error is 0.344682048396. Step size: 0.09025"
       ]
      },
      {
       "output_type": "stream",
       "stream": "stdout",
       "text": [
        "\n",
        "Training error is 0.0694991558807. Test error is 0.328643781654. Step size: 0.0857375"
       ]
      },
      {
       "output_type": "stream",
       "stream": "stdout",
       "text": [
        "\n",
        "Training error is 0.0453010692178. Test error is 0.321609454136. Step size: 0.081450625"
       ]
      },
      {
       "output_type": "stream",
       "stream": "stdout",
       "text": [
        "\n",
        "Training error is 0.0464265616207. Test error is 0.321046707935. Step size: 0.07737809375"
       ]
      },
      {
       "output_type": "stream",
       "stream": "stdout",
       "text": [
        "\n",
        "Training error is 0.0225098480585. Test error is 0.319921215532. Step size: 0.0735091890625"
       ]
      },
      {
       "output_type": "stream",
       "stream": "stdout",
       "text": [
        "\n",
        "Training error is 0.0132245357344. Test error is 0.322172200338. Step size: 0.0698337296094"
       ]
      },
      {
       "output_type": "stream",
       "stream": "stdout",
       "text": [
        "\n",
        "Training error is 0.0098480585256. Test error is 0.31935846933. Step size: 0.0663420431289"
       ]
      },
      {
       "output_type": "stream",
       "stream": "stdout",
       "text": [
        "\n",
        "Training error is 0.00309510410805. Test error is 0.31935846933. Step size: 0.0630249409725"
       ]
      },
      {
       "output_type": "stream",
       "stream": "stdout",
       "text": [
        "\n",
        "Training error is 0.00365785030951. Test error is 0.323297692741. Step size: 0.0598736939238"
       ]
      },
      {
       "output_type": "stream",
       "stream": "stdout",
       "text": [
        "\n",
        "Training error is 0.00140686550366. Test error is 0.322172200338. Step size: 0.0568800092276"
       ]
      },
      {
       "output_type": "stream",
       "stream": "stdout",
       "text": [
        "\n",
        "Training error is 0.000844119302195. Test error is 0.321046707935. Step size: 0.0540360087663"
       ]
      },
      {
       "output_type": "stream",
       "stream": "stdout",
       "text": [
        "\n",
        "Training error is 0.000562746201463. Test error is 0.323860438942. Step size: 0.051334208328"
       ]
      },
      {
       "output_type": "stream",
       "stream": "stdout",
       "text": [
        "\n",
        "Training error is 0.000281373100732. Test error is 0.321046707935. Step size: 0.0487674979116"
       ]
      },
      {
       "output_type": "stream",
       "stream": "stdout",
       "text": [
        "\n",
        "Training error is 0.0. Test error is 0.31935846933. Step size: 0.046329123016"
       ]
      },
      {
       "output_type": "stream",
       "stream": "stdout",
       "text": [
        "\n",
        "Training error is 0.0. Test error is 0.318795723129. Step size: 0.0440126668652"
       ]
      },
      {
       "output_type": "stream",
       "stream": "stdout",
       "text": [
        "\n",
        "Training error is 0.0. Test error is 0.318795723129. Step size: 0.0418120335219"
       ]
      },
      {
       "output_type": "stream",
       "stream": "stdout",
       "text": [
        "\n",
        "Training error is 0.0. Test error is 0.31935846933. Step size: 0.0397214318458"
       ]
      },
      {
       "output_type": "stream",
       "stream": "stdout",
       "text": [
        "\n",
        "Training error is 0.0. Test error is 0.31935846933. Step size: 0.0377353602535"
       ]
      },
      {
       "output_type": "stream",
       "stream": "stdout",
       "text": [
        "\n",
        "12.9342119694\n"
       ]
      }
     ],
     "prompt_number": 148
    },
    {
     "cell_type": "code",
     "collapsed": false,
     "input": [
      "# step size 0.95\n",
      "start = time.time()\n",
      "n = 1\n",
      "fe = extractCharacterFeatures(n)\n",
      "weights = learnPredictor(trainExamples, devExamples, fe)\n",
      "print time.time() - start"
     ],
     "language": "python",
     "metadata": {},
     "outputs": [
      {
       "output_type": "stream",
       "stream": "stdout",
       "text": [
        "Training error is 0.466516601013. Test error is 0.480303882949. Step size: 0.1\n",
        "Training error is 0.468204839617. Test error is 0.491558806978. Step size: 0.095"
       ]
      },
      {
       "output_type": "stream",
       "stream": "stdout",
       "text": [
        "\n",
        "Training error is 0.456949915588. Test error is 0.480303882949. Step size: 0.09025"
       ]
      },
      {
       "output_type": "stream",
       "stream": "stdout",
       "text": [
        "\n",
        "Training error is 0.472425436128. Test error is 0.480022509848. Step size: 0.0857375"
       ]
      },
      {
       "output_type": "stream",
       "stream": "stdout",
       "text": [
        "\n",
        "Training error is 0.460326392797. Test error is 0.480022509848. Step size: 0.081450625"
       ]
      },
      {
       "output_type": "stream",
       "stream": "stdout",
       "text": [
        "\n",
        "Training error is 0.444006752954. Test error is 0.470737197524. Step size: 0.07737809375"
       ]
      },
      {
       "output_type": "stream",
       "stream": "stdout",
       "text": [
        "\n",
        "Training error is 0.451885199775. Test error is 0.483117613956. Step size: 0.0735091890625"
       ]
      },
      {
       "output_type": "stream",
       "stream": "stdout",
       "text": [
        "\n",
        "Training error is 0.48452447946. Test error is 0.485368598762. Step size: 0.0698337296094"
       ]
      },
      {
       "output_type": "stream",
       "stream": "stdout",
       "text": [
        "\n",
        "Training error is 0.440067529544. Test error is 0.462858750703. Step size: 0.0663420431289"
       ]
      },
      {
       "output_type": "stream",
       "stream": "stdout",
       "text": [
        "\n",
        "Training error is 0.477490151941. Test error is 0.48452447946. Step size: 0.0630249409725"
       ]
      },
      {
       "output_type": "stream",
       "stream": "stdout",
       "text": [
        "\n",
        "Training error is 0.475801913337. Test error is 0.479741136747. Step size: 0.0598736939238"
       ]
      },
      {
       "output_type": "stream",
       "stream": "stdout",
       "text": [
        "\n",
        "Training error is 0.441474395048. Test error is 0.461733258301. Step size: 0.0568800092276"
       ]
      },
      {
       "output_type": "stream",
       "stream": "stdout",
       "text": [
        "\n",
        "Training error is 0.458356781092. Test error is 0.486775464266. Step size: 0.0540360087663"
       ]
      },
      {
       "output_type": "stream",
       "stream": "stdout",
       "text": [
        "\n",
        "Training error is 0.459482273495. Test error is 0.475239167136. Step size: 0.051334208328"
       ]
      },
      {
       "output_type": "stream",
       "stream": "stdout",
       "text": [
        "\n",
        "Training error is 0.458638154192. Test error is 0.482554867755. Step size: 0.0487674979116"
       ]
      },
      {
       "output_type": "stream",
       "stream": "stdout",
       "text": [
        "\n",
        "Training error is 0.45751266179. Test error is 0.465953854811. Step size: 0.046329123016"
       ]
      },
      {
       "output_type": "stream",
       "stream": "stdout",
       "text": [
        "\n",
        "Training error is 0.464828362409. Test error is 0.478052898143. Step size: 0.0440126668652"
       ]
      },
      {
       "output_type": "stream",
       "stream": "stdout",
       "text": [
        "\n",
        "Training error is 0.44625773776. Test error is 0.459482273495. Step size: 0.0418120335219"
       ]
      },
      {
       "output_type": "stream",
       "stream": "stdout",
       "text": [
        "\n",
        "Training error is 0.449634214969. Test error is 0.475239167136. Step size: 0.0397214318458"
       ]
      },
      {
       "output_type": "stream",
       "stream": "stdout",
       "text": [
        "\n",
        "Training error is 0.464828362409. Test error is 0.486212718064. Step size: 0.0377353602535"
       ]
      },
      {
       "output_type": "stream",
       "stream": "stdout",
       "text": [
        "\n",
        "7.57102513313\n"
       ]
      }
     ],
     "prompt_number": 149
    },
    {
     "cell_type": "code",
     "collapsed": false,
     "input": [
      "# step size 0.95\n",
      "start = time.time()\n",
      "n = 2\n",
      "fe = extractCharacterFeatures(n)\n",
      "weights = learnPredictor(trainExamples, devExamples, fe)\n",
      "print time.time() - start"
     ],
     "language": "python",
     "metadata": {},
     "outputs": [
      {
       "output_type": "stream",
       "stream": "stdout",
       "text": [
        "Training error is 0.371412492966. Test error is 0.433877321328. Step size: 0.1\n",
        "Training error is 0.375070343275. Test error is 0.438097917839. Step size: 0.095"
       ]
      },
      {
       "output_type": "stream",
       "stream": "stdout",
       "text": [
        "\n",
        "Training error is 0.317951603827. Test error is 0.408272369162. Step size: 0.09025"
       ]
      },
      {
       "output_type": "stream",
       "stream": "stdout",
       "text": [
        "\n",
        "Training error is 0.337084974676. Test error is 0.422059651097. Step size: 0.0857375"
       ]
      },
      {
       "output_type": "stream",
       "stream": "stdout",
       "text": [
        "\n",
        "Training error is 0.318795723129. Test error is 0.414743950478. Step size: 0.081450625"
       ]
      },
      {
       "output_type": "stream",
       "stream": "stdout",
       "text": [
        "\n",
        "Training error is 0.403489026449. Test error is 0.451603826674. Step size: 0.07737809375"
       ]
      },
      {
       "output_type": "stream",
       "stream": "stdout",
       "text": [
        "\n",
        "Training error is 0.325830050647. Test error is 0.41924592009. Step size: 0.0735091890625"
       ]
      },
      {
       "output_type": "stream",
       "stream": "stdout",
       "text": [
        "\n",
        "Training error is 0.312042768711. Test error is 0.417276308385. Step size: 0.0698337296094"
       ]
      },
      {
       "output_type": "stream",
       "stream": "stdout",
       "text": [
        "\n",
        "Training error is 0.379009566685. Test error is 0.438097917839. Step size: 0.0663420431289"
       ]
      },
      {
       "output_type": "stream",
       "stream": "stdout",
       "text": [
        "\n",
        "Training error is 0.374507597074. Test error is 0.430219471019. Step size: 0.0630249409725"
       ]
      },
      {
       "output_type": "stream",
       "stream": "stdout",
       "text": [
        "\n",
        "Training error is 0.349746764209. Test error is 0.424873382105. Step size: 0.0598736939238"
       ]
      },
      {
       "output_type": "stream",
       "stream": "stdout",
       "text": [
        "\n",
        "Training error is 0.326392796849. Test error is 0.415025323579. Step size: 0.0568800092276"
       ]
      },
      {
       "output_type": "stream",
       "stream": "stdout",
       "text": [
        "\n",
        "Training error is 0.352841868317. Test error is 0.427124366911. Step size: 0.0540360087663"
       ]
      },
      {
       "output_type": "stream",
       "stream": "stdout",
       "text": [
        "\n",
        "Training error is 0.29600450197. Test error is 0.406302757456. Step size: 0.051334208328"
       ]
      },
      {
       "output_type": "stream",
       "stream": "stdout",
       "text": [
        "\n",
        "Training error is 0.330050647158. Test error is 0.412774338773. Step size: 0.0487674979116"
       ]
      },
      {
       "output_type": "stream",
       "stream": "stdout",
       "text": [
        "\n",
        "Training error is 0.310917276308. Test error is 0.406865503658. Step size: 0.046329123016"
       ]
      },
      {
       "output_type": "stream",
       "stream": "stdout",
       "text": [
        "\n",
        "Training error is 0.305571187394. Test error is 0.40770962296. Step size: 0.0440126668652"
       ]
      },
      {
       "output_type": "stream",
       "stream": "stdout",
       "text": [
        "\n",
        "Training error is 0.331176139561. Test error is 0.420371412493. Step size: 0.0418120335219"
       ]
      },
      {
       "output_type": "stream",
       "stream": "stdout",
       "text": [
        "\n",
        "Training error is 0.299099606078. Test error is 0.409397861564. Step size: 0.0397214318458"
       ]
      },
      {
       "output_type": "stream",
       "stream": "stdout",
       "text": [
        "\n",
        "Training error is 0.339054586382. Test error is 0.422059651097. Step size: 0.0377353602535"
       ]
      },
      {
       "output_type": "stream",
       "stream": "stdout",
       "text": [
        "\n",
        "12.0620620251\n"
       ]
      }
     ],
     "prompt_number": 150
    },
    {
     "cell_type": "code",
     "collapsed": false,
     "input": [
      "# step size 0.95\n",
      "start = time.time()\n",
      "n = 4\n",
      "fe = extractCharacterFeatures(n)\n",
      "weights = learnPredictor(trainExamples, devExamples, fe)\n",
      "print time.time() - start"
     ],
     "language": "python",
     "metadata": {},
     "outputs": [
      {
       "output_type": "stream",
       "stream": "stdout",
       "text": [
        "Training error is 0.101857062465. Test error is 0.329206527856. Step size: 0.1\n",
        "Training error is 0.0258863252673. Test error is 0.300787844682. Step size: 0.095"
       ]
      },
      {
       "output_type": "stream",
       "stream": "stdout",
       "text": [
        "\n",
        "Training error is 0.00900393922341. Test error is 0.295160382667. Step size: 0.09025"
       ]
      },
      {
       "output_type": "stream",
       "stream": "stdout",
       "text": [
        "\n",
        "Training error is 0.00112549240293. Test error is 0.290095666854. Step size: 0.0857375"
       ]
      },
      {
       "output_type": "stream",
       "stream": "stdout",
       "text": [
        "\n",
        "Training error is 0.0. Test error is 0.292628024761. Step size: 0.081450625"
       ]
      },
      {
       "output_type": "stream",
       "stream": "stdout",
       "text": [
        "\n",
        "Training error is 0.000281373100732. Test error is 0.28840742825. Step size: 0.07737809375"
       ]
      },
      {
       "output_type": "stream",
       "stream": "stdout",
       "text": [
        "\n",
        "Training error is 0.000281373100732. Test error is 0.290377039955. Step size: 0.0735091890625"
       ]
      },
      {
       "output_type": "stream",
       "stream": "stdout",
       "text": [
        "\n",
        "Training error is 0.0. Test error is 0.287844682048. Step size: 0.0698337296094"
       ]
      },
      {
       "output_type": "stream",
       "stream": "stdout",
       "text": [
        "\n",
        "Training error is 0.0. Test error is 0.289814293754. Step size: 0.0663420431289"
       ]
      },
      {
       "output_type": "stream",
       "stream": "stdout",
       "text": [
        "\n",
        "Training error is 0.0. Test error is 0.290095666854. Step size: 0.0630249409725"
       ]
      },
      {
       "output_type": "stream",
       "stream": "stdout",
       "text": [
        "\n",
        "Training error is 0.0. Test error is 0.290095666854. Step size: 0.0598736939238"
       ]
      },
      {
       "output_type": "stream",
       "stream": "stdout",
       "text": [
        "\n",
        "Training error is 0.0. Test error is 0.290095666854. Step size: 0.0568800092276"
       ]
      },
      {
       "output_type": "stream",
       "stream": "stdout",
       "text": [
        "\n",
        "Training error is 0.0. Test error is 0.290095666854. Step size: 0.0540360087663"
       ]
      },
      {
       "output_type": "stream",
       "stream": "stdout",
       "text": [
        "\n",
        "Training error is 0.0. Test error is 0.290095666854. Step size: 0.051334208328"
       ]
      },
      {
       "output_type": "stream",
       "stream": "stdout",
       "text": [
        "\n",
        "Training error is 0.0. Test error is 0.290095666854. Step size: 0.0487674979116"
       ]
      },
      {
       "output_type": "stream",
       "stream": "stdout",
       "text": [
        "\n",
        "Training error is 0.0. Test error is 0.290095666854. Step size: 0.046329123016"
       ]
      },
      {
       "output_type": "stream",
       "stream": "stdout",
       "text": [
        "\n",
        "Training error is 0.0. Test error is 0.290095666854. Step size: 0.0440126668652"
       ]
      },
      {
       "output_type": "stream",
       "stream": "stdout",
       "text": [
        "\n",
        "Training error is 0.0. Test error is 0.290095666854. Step size: 0.0418120335219"
       ]
      },
      {
       "output_type": "stream",
       "stream": "stdout",
       "text": [
        "\n",
        "Training error is 0.0. Test error is 0.290095666854. Step size: 0.0397214318458"
       ]
      },
      {
       "output_type": "stream",
       "stream": "stdout",
       "text": [
        "\n",
        "Training error is 0.0. Test error is 0.290095666854. Step size: 0.0377353602535"
       ]
      },
      {
       "output_type": "stream",
       "stream": "stdout",
       "text": [
        "\n",
        "13.3929769993\n"
       ]
      }
     ],
     "prompt_number": 151
    },
    {
     "cell_type": "code",
     "collapsed": false,
     "input": [
      "# step size 0.95\n",
      "start = time.time()\n",
      "n = 5\n",
      "fe = extractCharacterFeatures(n)\n",
      "weights = learnPredictor(trainExamples, devExamples, fe)\n",
      "print time.time() - start"
     ],
     "language": "python",
     "metadata": {},
     "outputs": [
      {
       "output_type": "stream",
       "stream": "stdout",
       "text": [
        "Training error is 0.0574001125492. Test error is 0.311198649409. Step size: 0.1\n",
        "Training error is 0.00590883511536. Test error is 0.291502532358. Step size: 0.095"
       ]
      },
      {
       "output_type": "stream",
       "stream": "stdout",
       "text": [
        "\n",
        "Training error is 0.000844119302195. Test error is 0.283905458638. Step size: 0.09025"
       ]
      },
      {
       "output_type": "stream",
       "stream": "stdout",
       "text": [
        "\n",
        "Training error is 0.000562746201463. Test error is 0.283905458638. Step size: 0.0857375"
       ]
      },
      {
       "output_type": "stream",
       "stream": "stdout",
       "text": [
        "\n",
        "Training error is 0.0. Test error is 0.279966235228. Step size: 0.081450625"
       ]
      },
      {
       "output_type": "stream",
       "stream": "stdout",
       "text": [
        "\n",
        "Training error is 0.0. Test error is 0.279966235228. Step size: 0.07737809375"
       ]
      },
      {
       "output_type": "stream",
       "stream": "stdout",
       "text": [
        "\n",
        "Training error is 0.0. Test error is 0.280528981429. Step size: 0.0735091890625"
       ]
      },
      {
       "output_type": "stream",
       "stream": "stdout",
       "text": [
        "\n",
        "Training error is 0.0. Test error is 0.280528981429. Step size: 0.0698337296094"
       ]
      },
      {
       "output_type": "stream",
       "stream": "stdout",
       "text": [
        "\n",
        "Training error is 0.0. Test error is 0.280528981429. Step size: 0.0663420431289"
       ]
      },
      {
       "output_type": "stream",
       "stream": "stdout",
       "text": [
        "\n",
        "Training error is 0.0. Test error is 0.280528981429. Step size: 0.0630249409725"
       ]
      },
      {
       "output_type": "stream",
       "stream": "stdout",
       "text": [
        "\n",
        "Training error is 0.0. Test error is 0.280528981429. Step size: 0.0598736939238"
       ]
      },
      {
       "output_type": "stream",
       "stream": "stdout",
       "text": [
        "\n",
        "Training error is 0.0. Test error is 0.280528981429. Step size: 0.0568800092276"
       ]
      },
      {
       "output_type": "stream",
       "stream": "stdout",
       "text": [
        "\n",
        "Training error is 0.0. Test error is 0.280528981429. Step size: 0.0540360087663"
       ]
      },
      {
       "output_type": "stream",
       "stream": "stdout",
       "text": [
        "\n",
        "Training error is 0.0. Test error is 0.280528981429. Step size: 0.051334208328"
       ]
      },
      {
       "output_type": "stream",
       "stream": "stdout",
       "text": [
        "\n",
        "Training error is 0.0. Test error is 0.280528981429. Step size: 0.0487674979116"
       ]
      },
      {
       "output_type": "stream",
       "stream": "stdout",
       "text": [
        "\n",
        "Training error is 0.0. Test error is 0.280528981429. Step size: 0.046329123016"
       ]
      },
      {
       "output_type": "stream",
       "stream": "stdout",
       "text": [
        "\n",
        "Training error is 0.0. Test error is 0.280528981429. Step size: 0.0440126668652"
       ]
      },
      {
       "output_type": "stream",
       "stream": "stdout",
       "text": [
        "\n",
        "Training error is 0.0. Test error is 0.280528981429. Step size: 0.0418120335219"
       ]
      },
      {
       "output_type": "stream",
       "stream": "stdout",
       "text": [
        "\n",
        "Training error is 0.0. Test error is 0.280528981429. Step size: 0.0397214318458"
       ]
      },
      {
       "output_type": "stream",
       "stream": "stdout",
       "text": [
        "\n",
        "Training error is 0.0. Test error is 0.280528981429. Step size: 0.0377353602535"
       ]
      },
      {
       "output_type": "stream",
       "stream": "stdout",
       "text": [
        "\n",
        "14.5409920216\n"
       ]
      }
     ],
     "prompt_number": 152
    },
    {
     "cell_type": "code",
     "collapsed": false,
     "input": [
      "# step size 0.95\n",
      "start = time.time()\n",
      "n = 6\n",
      "fe = extractCharacterFeatures(n)\n",
      "weights = learnPredictor(trainExamples, devExamples, fe)\n",
      "print time.time() - start"
     ],
     "language": "python",
     "metadata": {},
     "outputs": [
      {
       "output_type": "stream",
       "stream": "stdout",
       "text": [
        "Training error is 0.0351716375914. Test error is 0.304164321891. Step size: 0.1\n",
        "Training error is 0.00168823860439. Test error is 0.290377039955. Step size: 0.095"
       ]
      },
      {
       "output_type": "stream",
       "stream": "stdout",
       "text": [
        "\n",
        "Training error is 0.0. Test error is 0.279403489026. Step size: 0.09025"
       ]
      },
      {
       "output_type": "stream",
       "stream": "stdout",
       "text": [
        "\n",
        "Training error is 0.0. Test error is 0.279403489026. Step size: 0.0857375"
       ]
      },
      {
       "output_type": "stream",
       "stream": "stdout",
       "text": [
        "\n",
        "Training error is 0.0. Test error is 0.277996623523. Step size: 0.081450625"
       ]
      },
      {
       "output_type": "stream",
       "stream": "stdout",
       "text": [
        "\n",
        "Training error is 0.0. Test error is 0.277996623523. Step size: 0.07737809375"
       ]
      },
      {
       "output_type": "stream",
       "stream": "stdout",
       "text": [
        "\n",
        "Training error is 0.0. Test error is 0.277996623523. Step size: 0.0735091890625"
       ]
      },
      {
       "output_type": "stream",
       "stream": "stdout",
       "text": [
        "\n",
        "Training error is 0.0. Test error is 0.277996623523. Step size: 0.0698337296094"
       ]
      },
      {
       "output_type": "stream",
       "stream": "stdout",
       "text": [
        "\n",
        "Training error is 0.0. Test error is 0.277996623523. Step size: 0.0663420431289"
       ]
      },
      {
       "output_type": "stream",
       "stream": "stdout",
       "text": [
        "\n",
        "Training error is 0.0. Test error is 0.277996623523. Step size: 0.0630249409725"
       ]
      },
      {
       "output_type": "stream",
       "stream": "stdout",
       "text": [
        "\n",
        "Training error is 0.0. Test error is 0.277996623523. Step size: 0.0598736939238"
       ]
      },
      {
       "output_type": "stream",
       "stream": "stdout",
       "text": [
        "\n",
        "Training error is 0.0. Test error is 0.277996623523. Step size: 0.0568800092276"
       ]
      },
      {
       "output_type": "stream",
       "stream": "stdout",
       "text": [
        "\n",
        "Training error is 0.0. Test error is 0.277996623523. Step size: 0.0540360087663"
       ]
      },
      {
       "output_type": "stream",
       "stream": "stdout",
       "text": [
        "\n",
        "Training error is 0.0. Test error is 0.277996623523. Step size: 0.051334208328"
       ]
      },
      {
       "output_type": "stream",
       "stream": "stdout",
       "text": [
        "\n",
        "Training error is 0.0. Test error is 0.277996623523. Step size: 0.0487674979116"
       ]
      },
      {
       "output_type": "stream",
       "stream": "stdout",
       "text": [
        "\n",
        "Training error is 0.0. Test error is 0.277996623523. Step size: 0.046329123016"
       ]
      },
      {
       "output_type": "stream",
       "stream": "stdout",
       "text": [
        "\n",
        "Training error is 0.0. Test error is 0.277996623523. Step size: 0.0440126668652"
       ]
      },
      {
       "output_type": "stream",
       "stream": "stdout",
       "text": [
        "\n",
        "Training error is 0.0. Test error is 0.277996623523. Step size: 0.0418120335219"
       ]
      },
      {
       "output_type": "stream",
       "stream": "stdout",
       "text": [
        "\n",
        "Training error is 0.0. Test error is 0.277996623523. Step size: 0.0397214318458"
       ]
      },
      {
       "output_type": "stream",
       "stream": "stdout",
       "text": [
        "\n",
        "Training error is 0.0. Test error is 0.277996623523. Step size: 0.0377353602535"
       ]
      },
      {
       "output_type": "stream",
       "stream": "stdout",
       "text": [
        "\n",
        "14.9619259834\n"
       ]
      }
     ],
     "prompt_number": 153
    },
    {
     "cell_type": "code",
     "collapsed": false,
     "input": [
      "# step size 0.95\n",
      "start = time.time()\n",
      "n = 7\n",
      "fe = extractCharacterFeatures(n)\n",
      "weights = learnPredictor(trainExamples, devExamples, fe)\n",
      "print time.time() - start"
     ],
     "language": "python",
     "metadata": {},
     "outputs": [
      {
       "output_type": "stream",
       "stream": "stdout",
       "text": [
        "Training error is 0.0225098480585. Test error is 0.304445694992. Step size: 0.1\n",
        "Training error is 0.00112549240293. Test error is 0.295441755768. Step size: 0.095"
       ]
      },
      {
       "output_type": "stream",
       "stream": "stdout",
       "text": [
        "\n",
        "Training error is 0.000281373100732. Test error is 0.293190770962. Step size: 0.09025"
       ]
      },
      {
       "output_type": "stream",
       "stream": "stdout",
       "text": [
        "\n",
        "Training error is 0.000281373100732. Test error is 0.290939786156. Step size: 0.0857375"
       ]
      },
      {
       "output_type": "stream",
       "stream": "stdout",
       "text": [
        "\n",
        "Training error is 0.000281373100732. Test error is 0.291221159257. Step size: 0.081450625"
       ]
      },
      {
       "output_type": "stream",
       "stream": "stdout",
       "text": [
        "\n",
        "Training error is 0.000281373100732. Test error is 0.291221159257. Step size: 0.07737809375"
       ]
      },
      {
       "output_type": "stream",
       "stream": "stdout",
       "text": [
        "\n",
        "Training error is 0.000281373100732. Test error is 0.291221159257. Step size: 0.0735091890625"
       ]
      },
      {
       "output_type": "stream",
       "stream": "stdout",
       "text": [
        "\n",
        "Training error is 0.000281373100732. Test error is 0.291221159257. Step size: 0.0698337296094"
       ]
      },
      {
       "output_type": "stream",
       "stream": "stdout",
       "text": [
        "\n",
        "Training error is 0.000281373100732. Test error is 0.291221159257. Step size: 0.0663420431289"
       ]
      },
      {
       "output_type": "stream",
       "stream": "stdout",
       "text": [
        "\n",
        "Training error is 0.000281373100732. Test error is 0.291221159257. Step size: 0.0630249409725"
       ]
      },
      {
       "output_type": "stream",
       "stream": "stdout",
       "text": [
        "\n",
        "Training error is 0.000281373100732. Test error is 0.291221159257. Step size: 0.0598736939238"
       ]
      },
      {
       "output_type": "stream",
       "stream": "stdout",
       "text": [
        "\n",
        "Training error is 0.000281373100732. Test error is 0.291221159257. Step size: 0.0568800092276"
       ]
      },
      {
       "output_type": "stream",
       "stream": "stdout",
       "text": [
        "\n",
        "Training error is 0.000281373100732. Test error is 0.291221159257. Step size: 0.0540360087663"
       ]
      },
      {
       "output_type": "stream",
       "stream": "stdout",
       "text": [
        "\n",
        "Training error is 0.000281373100732. Test error is 0.291221159257. Step size: 0.051334208328"
       ]
      },
      {
       "output_type": "stream",
       "stream": "stdout",
       "text": [
        "\n",
        "Training error is 0.000281373100732. Test error is 0.291221159257. Step size: 0.0487674979116"
       ]
      },
      {
       "output_type": "stream",
       "stream": "stdout",
       "text": [
        "\n",
        "Training error is 0.000281373100732. Test error is 0.291221159257. Step size: 0.046329123016"
       ]
      },
      {
       "output_type": "stream",
       "stream": "stdout",
       "text": [
        "\n",
        "Training error is 0.000281373100732. Test error is 0.291221159257. Step size: 0.0440126668652"
       ]
      },
      {
       "output_type": "stream",
       "stream": "stdout",
       "text": [
        "\n",
        "Training error is 0.000281373100732. Test error is 0.291221159257. Step size: 0.0418120335219"
       ]
      },
      {
       "output_type": "stream",
       "stream": "stdout",
       "text": [
        "\n",
        "Training error is 0.000281373100732. Test error is 0.291221159257. Step size: 0.0397214318458"
       ]
      },
      {
       "output_type": "stream",
       "stream": "stdout",
       "text": [
        "\n",
        "Training error is 0.000281373100732. Test error is 0.291221159257. Step size: 0.0377353602535"
       ]
      },
      {
       "output_type": "stream",
       "stream": "stdout",
       "text": [
        "\n",
        "15.0261881351\n"
       ]
      }
     ],
     "prompt_number": 154
    },
    {
     "cell_type": "code",
     "collapsed": false,
     "input": [
      "# step size 0.95\n",
      "start = time.time()\n",
      "n = 8\n",
      "fe = extractCharacterFeatures(n)\n",
      "weights = learnPredictor(trainExamples, devExamples, fe)\n",
      "print time.time() - start"
     ],
     "language": "python",
     "metadata": {},
     "outputs": [
      {
       "output_type": "stream",
       "stream": "stdout",
       "text": [
        "Training error is 0.0160382667417. Test error is 0.316826111424. Step size: 0.1\n",
        "Training error is 0.000562746201463. Test error is 0.301069217783. Step size: 0.095"
       ]
      },
      {
       "output_type": "stream",
       "stream": "stdout",
       "text": [
        "\n",
        "Training error is 0.000562746201463. Test error is 0.300787844682. Step size: 0.09025"
       ]
      },
      {
       "output_type": "stream",
       "stream": "stdout",
       "text": [
        "\n",
        "Training error is 0.000562746201463. Test error is 0.301350590884. Step size: 0.0857375"
       ]
      },
      {
       "output_type": "stream",
       "stream": "stdout",
       "text": [
        "\n",
        "Training error is 0.000562746201463. Test error is 0.301350590884. Step size: 0.081450625"
       ]
      },
      {
       "output_type": "stream",
       "stream": "stdout",
       "text": [
        "\n",
        "Training error is 0.000562746201463. Test error is 0.301350590884. Step size: 0.07737809375"
       ]
      },
      {
       "output_type": "stream",
       "stream": "stdout",
       "text": [
        "\n",
        "Training error is 0.000562746201463. Test error is 0.301350590884. Step size: 0.0735091890625"
       ]
      },
      {
       "output_type": "stream",
       "stream": "stdout",
       "text": [
        "\n",
        "Training error is 0.000562746201463. Test error is 0.301350590884. Step size: 0.0698337296094"
       ]
      },
      {
       "output_type": "stream",
       "stream": "stdout",
       "text": [
        "\n",
        "Training error is 0.000562746201463. Test error is 0.301350590884. Step size: 0.0663420431289"
       ]
      },
      {
       "output_type": "stream",
       "stream": "stdout",
       "text": [
        "\n",
        "Training error is 0.000562746201463. Test error is 0.301350590884. Step size: 0.0630249409725"
       ]
      },
      {
       "output_type": "stream",
       "stream": "stdout",
       "text": [
        "\n",
        "Training error is 0.000562746201463. Test error is 0.301350590884. Step size: 0.0598736939238"
       ]
      },
      {
       "output_type": "stream",
       "stream": "stdout",
       "text": [
        "\n",
        "Training error is 0.000562746201463. Test error is 0.301350590884. Step size: 0.0568800092276"
       ]
      },
      {
       "output_type": "stream",
       "stream": "stdout",
       "text": [
        "\n",
        "Training error is 0.000562746201463. Test error is 0.301350590884. Step size: 0.0540360087663"
       ]
      },
      {
       "output_type": "stream",
       "stream": "stdout",
       "text": [
        "\n",
        "Training error is 0.000562746201463. Test error is 0.301350590884. Step size: 0.051334208328"
       ]
      },
      {
       "output_type": "stream",
       "stream": "stdout",
       "text": [
        "\n",
        "Training error is 0.000562746201463. Test error is 0.301350590884. Step size: 0.0487674979116"
       ]
      },
      {
       "output_type": "stream",
       "stream": "stdout",
       "text": [
        "\n",
        "Training error is 0.000562746201463. Test error is 0.301350590884. Step size: 0.046329123016"
       ]
      },
      {
       "output_type": "stream",
       "stream": "stdout",
       "text": [
        "\n",
        "Training error is 0.000562746201463. Test error is 0.301350590884. Step size: 0.0440126668652"
       ]
      },
      {
       "output_type": "stream",
       "stream": "stdout",
       "text": [
        "\n",
        "Training error is 0.000562746201463. Test error is 0.301350590884. Step size: 0.0418120335219"
       ]
      },
      {
       "output_type": "stream",
       "stream": "stdout",
       "text": [
        "\n",
        "Training error is 0.000562746201463. Test error is 0.301350590884. Step size: 0.0397214318458"
       ]
      },
      {
       "output_type": "stream",
       "stream": "stdout",
       "text": [
        "\n",
        "Training error is 0.000562746201463. Test error is 0.301350590884. Step size: 0.0377353602535"
       ]
      },
      {
       "output_type": "stream",
       "stream": "stdout",
       "text": [
        "\n",
        "14.8772921562\n"
       ]
      }
     ],
     "prompt_number": 155
    },
    {
     "cell_type": "code",
     "collapsed": false,
     "input": [
      "def extractNWords(n):\n",
      "    '''\n",
      "    Return a function that takes a string |x| and returns a sparse feature\n",
      "    vector consisting of all 1- to n-grams of words\n",
      "    '''\n",
      "    def extract(x):\n",
      "        # BEGIN_YOUR_CODE (around 10 lines of code expected)\n",
      "        features = {}\n",
      "        words = x.split(' ')\n",
      "        for m in xrange(1,n):\n",
      "            for i in xrange(len(words)-(m-1)):\n",
      "                features[''.join(words[i:i+m])] = features.get(''.join(words[i:i+m]),0) + 1\n",
      "        return features\n",
      "        # END_YOUR_CODE\n",
      "    return extract"
     ],
     "language": "python",
     "metadata": {},
     "outputs": [],
     "prompt_number": 176
    },
    {
     "cell_type": "code",
     "collapsed": false,
     "input": [
      "# step size 0.95\n",
      "start = time.time()\n",
      "n = 4\n",
      "fe = extractNWords(n)\n",
      "weights = learnPredictor(trainExamples, devExamples, fe)\n",
      "print time.time() - start"
     ],
     "language": "python",
     "metadata": {},
     "outputs": [
      {
       "output_type": "stream",
       "stream": "stdout",
       "text": [
        "Training error is 0.0965109735509. Test error is 0.335396736072. Step size: 0.1\n",
        "Training error is 0.0337647720878. Test error is 0.310917276308. Step size: 0.095"
       ]
      },
      {
       "output_type": "stream",
       "stream": "stdout",
       "text": [
        "\n",
        "Training error is 0.014631401238. Test error is 0.297129994373. Step size: 0.09025"
       ]
      },
      {
       "output_type": "stream",
       "stream": "stdout",
       "text": [
        "\n",
        "Training error is 0.00506471581317. Test error is 0.288970174451. Step size: 0.0857375"
       ]
      },
      {
       "output_type": "stream",
       "stream": "stdout",
       "text": [
        "\n",
        "Training error is 0.000562746201463. Test error is 0.262802476083. Step size: 0.081450625"
       ]
      },
      {
       "output_type": "stream",
       "stream": "stdout",
       "text": [
        "\n",
        "Training error is 0.000281373100732. Test error is 0.273494653911. Step size: 0.07737809375"
       ]
      },
      {
       "output_type": "stream",
       "stream": "stdout",
       "text": [
        "\n",
        "Training error is 0.0. Test error is 0.2692740574. Step size: 0.0735091890625"
       ]
      },
      {
       "output_type": "stream",
       "stream": "stdout",
       "text": [
        "\n",
        "Training error is 0.0. Test error is 0.26533483399. Step size: 0.0698337296094"
       ]
      },
      {
       "output_type": "stream",
       "stream": "stdout",
       "text": [
        "\n",
        "Training error is 0.0. Test error is 0.266741699494. Step size: 0.0663420431289"
       ]
      },
      {
       "output_type": "stream",
       "stream": "stdout",
       "text": [
        "\n",
        "Training error is 0.0. Test error is 0.265897580191. Step size: 0.0630249409725"
       ]
      },
      {
       "output_type": "stream",
       "stream": "stdout",
       "text": [
        "\n",
        "Training error is 0.0. Test error is 0.265053460889. Step size: 0.0598736939238"
       ]
      },
      {
       "output_type": "stream",
       "stream": "stdout",
       "text": [
        "\n",
        "Training error is 0.0. Test error is 0.267023072594. Step size: 0.0568800092276"
       ]
      },
      {
       "output_type": "stream",
       "stream": "stdout",
       "text": [
        "\n",
        "Training error is 0.0. Test error is 0.267023072594. Step size: 0.0540360087663"
       ]
      },
      {
       "output_type": "stream",
       "stream": "stdout",
       "text": [
        "\n",
        "Training error is 0.0. Test error is 0.267023072594. Step size: 0.051334208328"
       ]
      },
      {
       "output_type": "stream",
       "stream": "stdout",
       "text": [
        "\n",
        "Training error is 0.0. Test error is 0.267023072594. Step size: 0.0487674979116"
       ]
      },
      {
       "output_type": "stream",
       "stream": "stdout",
       "text": [
        "\n",
        "Training error is 0.0. Test error is 0.267023072594. Step size: 0.046329123016"
       ]
      },
      {
       "output_type": "stream",
       "stream": "stdout",
       "text": [
        "\n",
        "Training error is 0.0. Test error is 0.267023072594. Step size: 0.0440126668652"
       ]
      },
      {
       "output_type": "stream",
       "stream": "stdout",
       "text": [
        "\n",
        "Training error is 0.0. Test error is 0.267023072594. Step size: 0.0418120335219"
       ]
      },
      {
       "output_type": "stream",
       "stream": "stdout",
       "text": [
        "\n",
        "Training error is 0.0. Test error is 0.267023072594. Step size: 0.0397214318458"
       ]
      },
      {
       "output_type": "stream",
       "stream": "stdout",
       "text": [
        "\n",
        "Training error is 0.0. Test error is 0.267023072594. Step size: 0.0377353602535"
       ]
      },
      {
       "output_type": "stream",
       "stream": "stdout",
       "text": [
        "\n",
        "15.3555250168\n"
       ]
      }
     ],
     "prompt_number": 179
    },
    {
     "cell_type": "code",
     "collapsed": false,
     "input": [
      "# step size 0.95\n",
      "start = time.time()\n",
      "n = 10\n",
      "fe = extractNWords(n)\n",
      "weights = learnPredictor(trainExamples, devExamples, fe)\n",
      "print time.time() - start"
     ],
     "language": "python",
     "metadata": {},
     "outputs": [
      {
       "output_type": "stream",
       "stream": "stdout",
       "text": [
        "Training error is 0.0694991558807. Test error is 0.308666291503. Step size: 0.1\n",
        "Training error is 0.0205402363534. Test error is 0.311198649409. Step size: 0.095"
       ]
      },
      {
       "output_type": "stream",
       "stream": "stdout",
       "text": [
        "\n",
        "Training error is 0.00928531232414. Test error is 0.296567248171. Step size: 0.09025"
       ]
      },
      {
       "output_type": "stream",
       "stream": "stdout",
       "text": [
        "\n",
        "Training error is 0.000844119302195. Test error is 0.285875070343. Step size: 0.0857375"
       ]
      },
      {
       "output_type": "stream",
       "stream": "stdout",
       "text": [
        "\n",
        "Training error is 0.000844119302195. Test error is 0.285875070343. Step size: 0.081450625"
       ]
      },
      {
       "output_type": "stream",
       "stream": "stdout",
       "text": [
        "\n",
        "Training error is 0.000281373100732. Test error is 0.283905458638. Step size: 0.07737809375"
       ]
      },
      {
       "output_type": "stream",
       "stream": "stdout",
       "text": [
        "\n",
        "Training error is 0.0. Test error is 0.278840742825. Step size: 0.0735091890625"
       ]
      },
      {
       "output_type": "stream",
       "stream": "stdout",
       "text": [
        "\n",
        "Training error is 0.0. Test error is 0.274057400113. Step size: 0.0698337296094"
       ]
      },
      {
       "output_type": "stream",
       "stream": "stdout",
       "text": [
        "\n",
        "Training error is 0.000281373100732. Test error is 0.28081035453. Step size: 0.0663420431289"
       ]
      },
      {
       "output_type": "stream",
       "stream": "stdout",
       "text": [
        "\n",
        "Training error is 0.0. Test error is 0.277996623523. Step size: 0.0630249409725"
       ]
      },
      {
       "output_type": "stream",
       "stream": "stdout",
       "text": [
        "\n",
        "Training error is 0.0. Test error is 0.28081035453. Step size: 0.0598736939238"
       ]
      },
      {
       "output_type": "stream",
       "stream": "stdout",
       "text": [
        "\n",
        "Training error is 0.0. Test error is 0.28081035453. Step size: 0.0568800092276"
       ]
      },
      {
       "output_type": "stream",
       "stream": "stdout",
       "text": [
        "\n",
        "Training error is 0.0. Test error is 0.28081035453. Step size: 0.0540360087663"
       ]
      },
      {
       "output_type": "stream",
       "stream": "stdout",
       "text": [
        "\n",
        "Training error is 0.0. Test error is 0.28081035453. Step size: 0.051334208328"
       ]
      },
      {
       "output_type": "stream",
       "stream": "stdout",
       "text": [
        "\n",
        "Training error is 0.0. Test error is 0.28081035453. Step size: 0.0487674979116"
       ]
      },
      {
       "output_type": "stream",
       "stream": "stdout",
       "text": [
        "\n",
        "Training error is 0.0. Test error is 0.28081035453. Step size: 0.046329123016"
       ]
      },
      {
       "output_type": "stream",
       "stream": "stdout",
       "text": [
        "\n",
        "Training error is 0.0. Test error is 0.28081035453. Step size: 0.0440126668652"
       ]
      },
      {
       "output_type": "stream",
       "stream": "stdout",
       "text": [
        "\n",
        "Training error is 0.0. Test error is 0.28081035453. Step size: 0.0418120335219"
       ]
      },
      {
       "output_type": "stream",
       "stream": "stdout",
       "text": [
        "\n",
        "Training error is 0.0. Test error is 0.28081035453. Step size: 0.0397214318458"
       ]
      },
      {
       "output_type": "stream",
       "stream": "stdout",
       "text": [
        "\n",
        "Training error is 0.0. Test error is 0.28081035453. Step size: 0.0377353602535"
       ]
      },
      {
       "output_type": "stream",
       "stream": "stdout",
       "text": [
        "\n",
        "46.8930668831\n"
       ]
      }
     ],
     "prompt_number": 184
    },
    {
     "cell_type": "code",
     "collapsed": false,
     "input": [
      "words"
     ],
     "language": "python",
     "metadata": {},
     "outputs": [
      {
       "metadata": {},
       "output_type": "pyout",
       "prompt_number": 168,
       "text": [
        "['i', 'like', 'tacos']"
       ]
      }
     ],
     "prompt_number": 168
    },
    {
     "cell_type": "code",
     "collapsed": false,
     "input": [
      "type(noSpaces)"
     ],
     "language": "python",
     "metadata": {},
     "outputs": [
      {
       "metadata": {},
       "output_type": "pyout",
       "prompt_number": 169,
       "text": [
        "str"
       ]
      }
     ],
     "prompt_number": 169
    },
    {
     "cell_type": "code",
     "collapsed": false,
     "input": [
      "''.join(words[0])"
     ],
     "language": "python",
     "metadata": {},
     "outputs": [
      {
       "metadata": {},
       "output_type": "pyout",
       "prompt_number": 173,
       "text": [
        "'i'"
       ]
      }
     ],
     "prompt_number": 173
    },
    {
     "cell_type": "code",
     "collapsed": false,
     "input": [
      "yoda = [7, 3, 0, 4]"
     ],
     "language": "python",
     "metadata": {},
     "outputs": [],
     "prompt_number": 185
    },
    {
     "cell_type": "code",
     "collapsed": false,
     "input": [
      "np.argmin(yoda)"
     ],
     "language": "python",
     "metadata": {},
     "outputs": [
      {
       "metadata": {},
       "output_type": "pyout",
       "prompt_number": 186,
       "text": [
        "2"
       ]
      }
     ],
     "prompt_number": 186
    },
    {
     "cell_type": "code",
     "collapsed": false,
     "input": [
      "yoda = {}\n",
      "yoda['dollar'] = 5\n",
      "yoda['cents'] = 20"
     ],
     "language": "python",
     "metadata": {},
     "outputs": [],
     "prompt_number": 187
    },
    {
     "cell_type": "code",
     "collapsed": false,
     "input": [
      "yoda"
     ],
     "language": "python",
     "metadata": {},
     "outputs": [
      {
       "metadata": {},
       "output_type": "pyout",
       "prompt_number": 188,
       "text": [
        "{'cents': 20, 'dollar': 5}"
       ]
      }
     ],
     "prompt_number": 188
    },
    {
     "cell_type": "code",
     "collapsed": false,
     "input": [
      "luke = {}\n",
      "luke['dollar'] = 6\n",
      "luke['cents'] = 20"
     ],
     "language": "python",
     "metadata": {},
     "outputs": [],
     "prompt_number": 192
    },
    {
     "cell_type": "code",
     "collapsed": false,
     "input": [
      "luke"
     ],
     "language": "python",
     "metadata": {},
     "outputs": [
      {
       "metadata": {},
       "output_type": "pyout",
       "prompt_number": 193,
       "text": [
        "{'cents': 20, 'dollar': 6}"
       ]
      }
     ],
     "prompt_number": 193
    },
    {
     "cell_type": "code",
     "collapsed": false,
     "input": [
      "luke == yoda"
     ],
     "language": "python",
     "metadata": {},
     "outputs": [
      {
       "metadata": {},
       "output_type": "pyout",
       "prompt_number": 194,
       "text": [
        "False"
       ]
      }
     ],
     "prompt_number": 194
    },
    {
     "cell_type": "code",
     "collapsed": false,
     "input": [
      "homie = 0"
     ],
     "language": "python",
     "metadata": {},
     "outputs": [],
     "prompt_number": 203
    },
    {
     "cell_type": "code",
     "collapsed": false,
     "input": [
      "homie += 1"
     ],
     "language": "python",
     "metadata": {},
     "outputs": [],
     "prompt_number": 204
    },
    {
     "cell_type": "code",
     "collapsed": false,
     "input": [
      "homie"
     ],
     "language": "python",
     "metadata": {},
     "outputs": [
      {
       "metadata": {},
       "output_type": "pyout",
       "prompt_number": 205,
       "text": [
        "1"
       ]
      }
     ],
     "prompt_number": 205
    },
    {
     "cell_type": "code",
     "collapsed": false,
     "input": [
      "def kmeans(examples, K, maxIters):\n",
      "    '''\n",
      "    examples: list of examples, each example is a string-to-double dict representing a sparse vector.\n",
      "    K: number of desired clusters\n",
      "    maxIters: maximum number of iterations to run for (you should terminate early if the algorithm converges).\n",
      "    Return: (length K list of cluster centroids,\n",
      "            list of assignments, (i.e. if examples[i] belongs to centers[j], then assignments[i] = j)\n",
      "            final reconstruction loss)\n",
      "    '''\n",
      "    # BEGIN_YOUR_CODE (around 35 lines of code expected)\n",
      "    count    = 0\n",
      "    clusters = random.sample(examples, K)\n",
      "    while count < maxIters:\n",
      "        # MAKE ASSIGNMENTS\n",
      "        assignments = []\n",
      "        loss        = 0\n",
      "        for ex in examples:\n",
      "            scores = []\n",
      "            for c in xrange(K):\n",
      "                diff = ex.copy()\n",
      "                increment(diff,-1,clusters[c])\n",
      "                scores.append(dotProduct(diff,diff))\n",
      "            assignments.append(np.argmin(scores))\n",
      "            loss += min(scores)\n",
      "\n",
      "        # REVISE CLUSTER CENTROIDS\n",
      "        changes = []\n",
      "        for c in xrange(K):\n",
      "            ptsInCluster = [i for i, j in enumerate(assignments) if j == c]\n",
      "            newCentroid  = {}\n",
      "            for i in ptsInCluster:\n",
      "                increment(newCentroid, 1./len(ptsInCluster), examples[i])\n",
      "            if newCentroid != clusters[c]:\n",
      "                clusters[c] = newCentroid\n",
      "                changes.append(1.)\n",
      "        if sum(changes) < 1:\n",
      "            count = maxIters\n",
      "        else:\n",
      "            count += 1\n",
      "    \n",
      "    return (clusters, assignments, loss)\n",
      "    # END_YOUR_CODE"
     ],
     "language": "python",
     "metadata": {},
     "outputs": [],
     "prompt_number": 239
    },
    {
     "cell_type": "code",
     "collapsed": false,
     "input": [
      "x1 = {0:0, 1:0}\n",
      "x2 = {0:0, 1:1}\n",
      "x3 = {0:0, 1:2}\n",
      "x4 = {0:0, 1:3}\n",
      "x5 = {0:0, 1:4}\n",
      "x6 = {0:0, 1:5}\n",
      "examples = [x1, x2, x3, x4, x5, x6]"
     ],
     "language": "python",
     "metadata": {},
     "outputs": [],
     "prompt_number": 240
    },
    {
     "cell_type": "code",
     "collapsed": false,
     "input": [
      "centers, assignments, totalCost = kmeans(examples, 2, maxIters=10)"
     ],
     "language": "python",
     "metadata": {},
     "outputs": [],
     "prompt_number": 241
    },
    {
     "cell_type": "code",
     "collapsed": false,
     "input": [
      "assignments"
     ],
     "language": "python",
     "metadata": {},
     "outputs": [
      {
       "metadata": {},
       "output_type": "pyout",
       "prompt_number": 242,
       "text": [
        "[1, 1, 1, 0, 0, 0]"
       ]
      }
     ],
     "prompt_number": 242
    },
    {
     "cell_type": "code",
     "collapsed": false,
     "input": [
      "centers"
     ],
     "language": "python",
     "metadata": {},
     "outputs": [
      {
       "metadata": {},
       "output_type": "pyout",
       "prompt_number": 243,
       "text": [
        "[{0: 0.0, 1: 3.9999999999999996}, {0: 0.0, 1: 1.0}]"
       ]
      }
     ],
     "prompt_number": 243
    },
    {
     "cell_type": "code",
     "collapsed": false,
     "input": [
      "totalCost"
     ],
     "language": "python",
     "metadata": {},
     "outputs": [
      {
       "metadata": {},
       "output_type": "pyout",
       "prompt_number": 244,
       "text": [
        "4.0"
       ]
      }
     ],
     "prompt_number": 244
    },
    {
     "cell_type": "code",
     "collapsed": false,
     "input": [
      "clusters = random.sample(examples, 2)"
     ],
     "language": "python",
     "metadata": {},
     "outputs": [],
     "prompt_number": 222
    },
    {
     "cell_type": "code",
     "collapsed": false,
     "input": [
      "clusters"
     ],
     "language": "python",
     "metadata": {},
     "outputs": [
      {
       "metadata": {},
       "output_type": "pyout",
       "prompt_number": 225,
       "text": [
        "[{0: 0, 1: 3}, {0: 0, 1: 4}]"
       ]
      }
     ],
     "prompt_number": 225
    },
    {
     "cell_type": "markdown",
     "metadata": {},
     "source": [
      "### Some problem where func returns only one center"
     ]
    },
    {
     "cell_type": "code",
     "collapsed": false,
     "input": [
      "# BEGIN_YOUR_CODE (around 35 lines of code expected)\n",
      "K        = 2\n",
      "count    = 0\n",
      "clusters = random.sample(examples, K)"
     ],
     "language": "python",
     "metadata": {},
     "outputs": [],
     "prompt_number": 232
    },
    {
     "cell_type": "code",
     "collapsed": false,
     "input": [
      "# MAKE ASSIGNMENTS\n",
      "assignments = []\n",
      "loss        = 0\n",
      "for ex in examples:\n",
      "    scores = []\n",
      "    for c in xrange(K):\n",
      "        diff = ex.copy()\n",
      "        increment(diff,-1,clusters[c])\n",
      "        scores.append(dotProduct(diff,diff))\n",
      "    assignments.append(np.argmin(scores))\n",
      "    loss += min(scores)"
     ],
     "language": "python",
     "metadata": {},
     "outputs": [],
     "prompt_number": 237
    },
    {
     "cell_type": "code",
     "collapsed": false,
     "input": [
      "# REVISE CLUSTER CENTROIDS\n",
      "changes = []\n",
      "for c in xrange(K):\n",
      "    ptsInCluster = [i for i, j in enumerate(assignments) if j == c]\n",
      "    newCentroid  = {}\n",
      "    for i in ptsInCluster:\n",
      "        increment(newCentroid, 1./len(ptsInCluster), examples[i])\n",
      "    if newCentroid != clusters[c]:\n",
      "        clusters[c] = newCentroid\n",
      "        changes.append(1.)\n",
      "if sum(changes) < 1:\n",
      "    count = maxIters\n",
      "else:\n",
      "    count += 1"
     ],
     "language": "python",
     "metadata": {},
     "outputs": []
    },
    {
     "cell_type": "code",
     "collapsed": false,
     "input": [
      "scores"
     ],
     "language": "python",
     "metadata": {},
     "outputs": [
      {
       "metadata": {},
       "output_type": "pyout",
       "prompt_number": 238,
       "text": [
        "[25, 9]"
       ]
      }
     ],
     "prompt_number": 238
    },
    {
     "cell_type": "markdown",
     "metadata": {},
     "source": [
      "# Problem Set 3"
     ]
    },
    {
     "cell_type": "code",
     "collapsed": false,
     "input": [
      "cd ~/Classes/CS221/reconstruct"
     ],
     "language": "python",
     "metadata": {},
     "outputs": [
      {
       "output_type": "stream",
       "stream": "stdout",
       "text": [
        "/home/lane/Classes/CS221/reconstruct\n"
       ]
      }
     ],
     "prompt_number": 1
    },
    {
     "cell_type": "code",
     "collapsed": false,
     "input": [
      "#import shell\n",
      "#import util\n",
      "import wordsegUtil"
     ],
     "language": "python",
     "metadata": {},
     "outputs": [],
     "prompt_number": 4
    },
    {
     "cell_type": "markdown",
     "metadata": {},
     "source": [
      "## 1b"
     ]
    },
    {
     "cell_type": "code",
     "collapsed": false,
     "input": [
      "corpus = 'leo-will.txt'\n",
      "unigramCost, bigramCost = wordsegUtil.makeLanguageModels(corpus)\n",
      "possibleFills = wordsegUtil.makeInverseRemovalDictionary(corpus, 'aeiou')"
     ],
     "language": "python",
     "metadata": {},
     "outputs": [],
     "prompt_number": 5
    },
    {
     "cell_type": "code",
     "collapsed": false,
     "input": [
      "test1 = ('cup','cake')\n",
      "test2 = ('great','work')"
     ],
     "language": "python",
     "metadata": {},
     "outputs": [],
     "prompt_number": 6
    },
    {
     "cell_type": "code",
     "collapsed": false,
     "input": [
      "sum([unigramCost(x) for x in test2])"
     ],
     "language": "python",
     "metadata": {},
     "outputs": [
      {
       "metadata": {},
       "output_type": "pyout",
       "prompt_number": 7,
       "text": [
        "15.633059989991578"
       ]
      }
     ],
     "prompt_number": 7
    },
    {
     "cell_type": "code",
     "collapsed": false,
     "input": [
      "unigramCost('great') + unigramCost('work')"
     ],
     "language": "python",
     "metadata": {},
     "outputs": [
      {
       "metadata": {},
       "output_type": "pyout",
       "prompt_number": 8,
       "text": [
        "15.633059989991578"
       ]
      }
     ],
     "prompt_number": 8
    },
    {
     "cell_type": "code",
     "collapsed": false,
     "input": [
      "unigramCost('cup') + unigramCost('cake')"
     ],
     "language": "python",
     "metadata": {},
     "outputs": [
      {
       "metadata": {},
       "output_type": "pyout",
       "prompt_number": 9,
       "text": [
        "23.71446631341326"
       ]
      }
     ],
     "prompt_number": 9
    },
    {
     "cell_type": "code",
     "collapsed": false,
     "input": [
      "unigramCost('cupcake') > unigramCost('cup') + unigramCost('cake')"
     ],
     "language": "python",
     "metadata": {},
     "outputs": [
      {
       "metadata": {},
       "output_type": "pyout",
       "prompt_number": 10,
       "text": [
        "True"
       ]
      }
     ],
     "prompt_number": 10
    },
    {
     "cell_type": "code",
     "collapsed": false,
     "input": [
      "unigramCost('w') + unigramCost('or') + unigramCost('ds')"
     ],
     "language": "python",
     "metadata": {},
     "outputs": [
      {
       "metadata": {},
       "output_type": "pyout",
       "prompt_number": 11,
       "text": [
        "31.744455753472067"
       ]
      }
     ],
     "prompt_number": 11
    },
    {
     "cell_type": "code",
     "collapsed": false,
     "input": [
      "unigramCost('wor') + unigramCost('ds')"
     ],
     "language": "python",
     "metadata": {},
     "outputs": [
      {
       "metadata": {},
       "output_type": "pyout",
       "prompt_number": 12,
       "text": [
        "36.0927038942824"
       ]
      }
     ],
     "prompt_number": 12
    },
    {
     "cell_type": "code",
     "collapsed": false,
     "input": [
      "unigramCost('w') + unigramCost('ords')"
     ],
     "language": "python",
     "metadata": {},
     "outputs": [
      {
       "metadata": {},
       "output_type": "pyout",
       "prompt_number": 13,
       "text": [
        "35.39955671372246"
       ]
      }
     ],
     "prompt_number": 13
    },
    {
     "cell_type": "code",
     "collapsed": false,
     "input": [
      "string = 'iwokeup'"
     ],
     "language": "python",
     "metadata": {},
     "outputs": [],
     "prompt_number": 1
    },
    {
     "cell_type": "code",
     "collapsed": false,
     "input": [
      "for i in xrange(1,len(string)):\n",
      "    print string[:i] + ' ' + string[i:]"
     ],
     "language": "python",
     "metadata": {},
     "outputs": [
      {
       "output_type": "stream",
       "stream": "stdout",
       "text": [
        "i wokeup\n",
        "iw okeup\n",
        "iwo keup\n",
        "iwok eup\n",
        "iwoke up\n",
        "iwokeu p\n"
       ]
      }
     ],
     "prompt_number": 4
    },
    {
     "cell_type": "code",
     "collapsed": false,
     "input": [
      "unigramCost(string)"
     ],
     "language": "python",
     "metadata": {},
     "outputs": [
      {
       "metadata": {},
       "output_type": "pyout",
       "prompt_number": 43,
       "text": [
        "26.584524828399452"
       ]
      }
     ],
     "prompt_number": 43
    },
    {
     "cell_type": "code",
     "collapsed": false,
     "input": [
      "unigramCost('i') + unigramCost('woke') + unigramCost('up')"
     ],
     "language": "python",
     "metadata": {},
     "outputs": [
      {
       "metadata": {},
       "output_type": "pyout",
       "prompt_number": 48,
       "text": [
        "21.14727157043906"
       ]
      }
     ],
     "prompt_number": 48
    },
    {
     "cell_type": "code",
     "collapsed": false,
     "input": [
      "sum([unigramCost(x) for x in string])"
     ],
     "language": "python",
     "metadata": {},
     "outputs": [
      {
       "metadata": {},
       "output_type": "pyout",
       "prompt_number": 51,
       "text": [
        "73.531133334320131"
       ]
      }
     ],
     "prompt_number": 51
    },
    {
     "cell_type": "code",
     "collapsed": false,
     "input": [
      "sum([unigramCost(x) for x in string]) - unigramCost('w') - unigramCost('o') + unigramCost('wo')"
     ],
     "language": "python",
     "metadata": {},
     "outputs": [
      {
       "metadata": {},
       "output_type": "pyout",
       "prompt_number": 52,
       "text": [
        "66.278447753897368"
       ]
      }
     ],
     "prompt_number": 52
    },
    {
     "cell_type": "code",
     "collapsed": false,
     "input": [
      "breakpoint = 1\n",
      "tmp = (string[:breakpoint],string[breakpoint:])\n",
      "(unigramCost(string),unigramCost(tmp[0]) + unigramCost(tmp[1]))"
     ],
     "language": "python",
     "metadata": {},
     "outputs": [
      {
       "metadata": {},
       "output_type": "pyout",
       "prompt_number": 73,
       "text": [
        "(26.584524828399452, 29.52266162135761)"
       ]
      }
     ],
     "prompt_number": 73
    },
    {
     "cell_type": "code",
     "collapsed": false,
     "input": [
      "''.join([string[0],string[1]])"
     ],
     "language": "python",
     "metadata": {},
     "outputs": [
      {
       "metadata": {},
       "output_type": "pyout",
       "prompt_number": 81,
       "text": [
        "'iw'"
       ]
      }
     ],
     "prompt_number": 81
    },
    {
     "cell_type": "code",
     "collapsed": false,
     "input": [
      "?string.join"
     ],
     "language": "python",
     "metadata": {},
     "outputs": [],
     "prompt_number": 80
    },
    {
     "cell_type": "code",
     "collapsed": false,
     "input": [
      "unigramCost(string[:0])"
     ],
     "language": "python",
     "metadata": {},
     "outputs": [
      {
       "metadata": {},
       "output_type": "pyout",
       "prompt_number": 83,
       "text": [
        "22.79028485862769"
       ]
      }
     ],
     "prompt_number": 83
    },
    {
     "cell_type": "code",
     "collapsed": false,
     "input": [
      "a = ['hello','world','you','are','awesome']"
     ],
     "language": "python",
     "metadata": {},
     "outputs": [],
     "prompt_number": 98
    },
    {
     "cell_type": "code",
     "collapsed": false,
     "input": [
      "del a[0], a[1]"
     ],
     "language": "python",
     "metadata": {},
     "outputs": [],
     "prompt_number": 93
    },
    {
     "cell_type": "code",
     "collapsed": false,
     "input": [
      "a"
     ],
     "language": "python",
     "metadata": {},
     "outputs": [
      {
       "metadata": {},
       "output_type": "pyout",
       "prompt_number": 95,
       "text": [
        "['world', 'are', 'awesome']"
       ]
      }
     ],
     "prompt_number": 95
    },
    {
     "cell_type": "code",
     "collapsed": false,
     "input": [
      "a"
     ],
     "language": "python",
     "metadata": {},
     "outputs": [
      {
       "metadata": {},
       "output_type": "pyout",
       "prompt_number": 89,
       "text": [
        "['you', 'are', 'awesome']"
       ]
      }
     ],
     "prompt_number": 89
    },
    {
     "cell_type": "code",
     "collapsed": false,
     "input": [
      "c = [(1,2,3),(4,5,6),(7,8,9),(10,11,12)]"
     ],
     "language": "python",
     "metadata": {},
     "outputs": [],
     "prompt_number": 96
    },
    {
     "cell_type": "code",
     "collapsed": false,
     "input": [
      "for x,y,z in c:\n",
      "    print x,y,z"
     ],
     "language": "python",
     "metadata": {},
     "outputs": [
      {
       "output_type": "stream",
       "stream": "stdout",
       "text": [
        "1 2 3\n",
        "4 5 6\n",
        "7 8 9\n",
        "10 11 12\n"
       ]
      }
     ],
     "prompt_number": 97
    },
    {
     "cell_type": "code",
     "collapsed": false,
     "input": [
      "currentWords = a"
     ],
     "language": "python",
     "metadata": {},
     "outputs": [],
     "prompt_number": 103
    },
    {
     "cell_type": "code",
     "collapsed": false,
     "input": [
      "for i in xrange(len(currentWords)-1):\n",
      "    action = (i,i+1)\n",
      "    newState = []\n",
      "    newState.append(''.join([currentWords[action[0]],currentWords[action[1]]]))\n",
      "    [newState.append(currentWords[i]) for i in xrange(len(currentWords)) if i not in [action[0],action[1]]]\n",
      "    print newState"
     ],
     "language": "python",
     "metadata": {},
     "outputs": [
      {
       "output_type": "stream",
       "stream": "stdout",
       "text": [
        "['helloworld', 'you', 'are', 'awesome']\n",
        "['worldyou', 'hello', 'are', 'awesome']\n",
        "['youare', 'hello', 'world', 'awesome']\n",
        "['areawesome', 'hello', 'world', 'you']\n"
       ]
      }
     ],
     "prompt_number": 104
    },
    {
     "cell_type": "code",
     "collapsed": false,
     "input": [
      "newState.insert(0,'wow')"
     ],
     "language": "python",
     "metadata": {},
     "outputs": [],
     "prompt_number": 105
    },
    {
     "cell_type": "code",
     "collapsed": false,
     "input": [
      "newState"
     ],
     "language": "python",
     "metadata": {},
     "outputs": [
      {
       "metadata": {},
       "output_type": "pyout",
       "prompt_number": 106,
       "text": [
        "['wow', 'areawesome', 'hello', 'world', 'you']"
       ]
      }
     ],
     "prompt_number": 106
    },
    {
     "cell_type": "code",
     "collapsed": false,
     "input": [
      "def succAndCost(state):\n",
      "        # BEGIN_YOUR_CODE (around 10 lines of code expected)\n",
      "        currentWords = state.split()\n",
      "        allTuples = []\n",
      "        for i in xrange(len(currentWords)-1):\n",
      "            action = (i,i+1)\n",
      "            newState = []\n",
      "            cost = 0\n",
      "            for j in xrange(len(currentWords)):\n",
      "                if j not in action:\n",
      "                    newState.append(currentWords[j])\n",
      "                    cost += unigramCost(newState[-1])\n",
      "                elif j is action[0]:\n",
      "                    newState.append(''.join([currentWords[i],currentWords[i+1]]))\n",
      "                    cost += unigramCost(newState[-1])\n",
      "            allTuples.append((action,newState,cost))\n",
      "        return allTuples"
     ],
     "language": "python",
     "metadata": {},
     "outputs": [],
     "prompt_number": 117
    },
    {
     "cell_type": "code",
     "collapsed": false,
     "input": [
      "for action, newState, cost in succAndCost(' '.join(currentWords)):\n",
      "    print action, newState, cost"
     ],
     "language": "python",
     "metadata": {},
     "outputs": [
      {
       "output_type": "stream",
       "stream": "stdout",
       "text": [
        "(0, 1) ['helloworld', 'you', 'are', 'awesome'] 69.9331431097\n",
        "(1, 2) ['hello', 'worldyou', 'are', 'awesome'] 83.9290347578\n",
        "(2, 3) ['hello', 'world', 'youare', 'awesome'] 82.1551474134\n",
        "(3, 4) ['hello', 'world', 'you', 'areawesome'] 68.1592557653\n"
       ]
      }
     ],
     "prompt_number": 119
    },
    {
     "cell_type": "code",
     "collapsed": false,
     "input": [
      "currentWords"
     ],
     "language": "python",
     "metadata": {},
     "outputs": [
      {
       "metadata": {},
       "output_type": "pyout",
       "prompt_number": 120,
       "text": [
        "['hello', 'world', 'you', 'are', 'awesome']"
       ]
      }
     ],
     "prompt_number": 120
    },
    {
     "cell_type": "code",
     "collapsed": false,
     "input": [
      "cost = 0\n",
      "for w in currentWords:\n",
      "    cost += unigramCost(w)"
     ],
     "language": "python",
     "metadata": {},
     "outputs": [],
     "prompt_number": 121
    },
    {
     "cell_type": "code",
     "collapsed": false,
     "input": [
      "cost"
     ],
     "language": "python",
     "metadata": {},
     "outputs": [
      {
       "metadata": {},
       "output_type": "pyout",
       "prompt_number": 122,
       "text": [
        "68.54047606812523"
       ]
      }
     ],
     "prompt_number": 122
    },
    {
     "cell_type": "code",
     "collapsed": false,
     "input": [
      "currentWords"
     ],
     "language": "python",
     "metadata": {},
     "outputs": [
      {
       "metadata": {},
       "output_type": "pyout",
       "prompt_number": 123,
       "text": [
        "['hello', 'world', 'you', 'are', 'awesome']"
       ]
      }
     ],
     "prompt_number": 123
    },
    {
     "cell_type": "code",
     "collapsed": false,
     "input": [
      "for w in currentWords:\n",
      "    print unigramCost(w)"
     ],
     "language": "python",
     "metadata": {},
     "outputs": [
      {
       "output_type": "stream",
       "stream": "stdout",
       "text": [
        "22.7902848586\n",
        "8.09293288281\n",
        "5.00015324078\n",
        "6.0725802575\n",
        "26.5845248284\n"
       ]
      }
     ],
     "prompt_number": 124
    },
    {
     "cell_type": "code",
     "collapsed": false,
     "input": [
      "for w in newState:\n",
      "    print unigramCost(w)"
     ],
     "language": "python",
     "metadata": {},
     "outputs": [
      {
       "output_type": "stream",
       "stream": "stdout",
       "text": [
        "22.7902848586\n",
        "8.09293288281\n",
        "5.00015324078\n",
        "32.2758847831\n"
       ]
      }
     ],
     "prompt_number": 125
    },
    {
     "cell_type": "code",
     "collapsed": false,
     "input": [
      "import util"
     ],
     "language": "python",
     "metadata": {},
     "outputs": [],
     "prompt_number": 127
    },
    {
     "cell_type": "code",
     "collapsed": false,
     "input": [
      "class SegmentationProblem(util.SearchProblem):\n",
      "    def __init__(self, query, unigramCost):\n",
      "        self.query = query\n",
      "        self.unigramCost = unigramCost\n",
      "\n",
      "    def startState(self):\n",
      "        # BEGIN_YOUR_CODE (around 5 lines of code expected)\n",
      "        words   = [l for l in self.query]\n",
      "        return ' '.join(words) \n",
      "        # END_YOUR_CODE\n",
      "\n",
      "    def isGoal(self, state):\n",
      "        # BEGIN_YOUR_CODE (around 5 lines of code expected)\n",
      "        currentWords = state.split()\n",
      "        currentCost = sum([self.unigramCost(x) for x in currentWords])\n",
      "        futureCosts = [cost for action, newState, cost in self.succAndCost(state)]\n",
      "        if currentCost <= min(futureCosts):\n",
      "            return True\n",
      "        else:\n",
      "            return False\n",
      "        # END_YOUR_CODE\n",
      "\n",
      "    # Return list of (action, newState, cost) tuples\n",
      "    def succAndCost(self, state):\n",
      "        # BEGIN_YOUR_CODE (around 10 lines of code expected)\n",
      "        currentWords = state.split()\n",
      "        allTuples = []\n",
      "        for i in xrange(len(currentWords)-1):\n",
      "            action = (i,i+1)\n",
      "            newWords = []\n",
      "            #cost = 0\n",
      "            for j in xrange(len(currentWords)):\n",
      "                if j not in action:\n",
      "                    newWords.append(currentWords[j])\n",
      "                    #cost += self.unigramCost(newWords[-1])\n",
      "                elif j is action[0]:\n",
      "                    newWords.append(''.join([currentWords[i],currentWords[i+1]]))\n",
      "                    #cost += self.unigramCost(newWords[-1])\n",
      "            cost = self.unigramCost(newWords[i]) - self.unigramCost(currentWords[i]) - self.unigramCost(currentWords[i+1])\n",
      "            newState = ' '.join(newWords)\n",
      "            allTuples.append((action,newState,cost))\n",
      "        return allTuples\n",
      "        # END_YOUR_CODE\n",
      "\n",
      "def segmentWords(query, unigramCost):\n",
      "    if len(query) == 0:\n",
      "        return ''\n",
      "\n",
      "    ucs = util.UniformCostSearch(verbose=2)\n",
      "    ucs.solve(SegmentationProblem(query, unigramCost))\n",
      "\n",
      "    # BEGIN_YOUR_CODE (around 5 lines of code expected)\n",
      "    words = SegmentationProblem(query, unigramCost).startState().split()\n",
      "    for action in ucs.actions:\n",
      "        newWords = []\n",
      "        for j in xrange(len(words)):\n",
      "            if j not in action:\n",
      "                newWords.append(words[j])\n",
      "            elif j is action[0]:\n",
      "                newWords.append(''.join([words[action[0]],words[action[1]]]))\n",
      "        words = newWords\n",
      "    return ' '.join(words)\n",
      "    # END_YOUR_CODE"
     ],
     "language": "python",
     "metadata": {},
     "outputs": [],
     "prompt_number": 157
    },
    {
     "cell_type": "code",
     "collapsed": false,
     "input": [
      "words = segmentWords('thisisnotmyhouse', unigramCost)"
     ],
     "language": "python",
     "metadata": {},
     "outputs": [
      {
       "output_type": "stream",
       "stream": "stdout",
       "text": [
        "Exploring t h i s i s n o t m y h o u s e with pastCost 0\n",
        "Exploring t h i s i s n o t my h o u s e with pastCost -16.4518817327\n",
        "Exploring t h i s i s n o t my h o us e with pastCost -32.2241371652\n",
        "Exploring th i s i s n o t my h o us e with pastCost -45.5265562008\n",
        "Exploring th i s i s no t my h o us e with pastCost -58.6049140735\n",
        "Exploring th i s i s not my h o us e with pastCost -71.4809289906\n",
        "Exploring th i s is not my h o us e with pastCost -81.9732528482\n",
        "Exploring th is is not my h o us e with pastCost -92.4655767058\n",
        "Exploring this is not my h o us e with pastCost -102.333054294\n",
        "Exploring this is not my ho us e with pastCost -111.937115131\n",
        "Exploring this is not my ho use with pastCost -119.863232029\n",
        "Exploring this is not my house with pastCost -131.445829977\n",
        "Exploring this is notmy house with pastCost -119.378629305\n",
        "Exploring this isnotmy house with pastCost -120.664791933\n",
        "Exploring thisisnotmy house with pastCost -118.595923767\n",
        "Exploring this isnot my house with pastCost -118.52558327\n",
        "Exploring this isnotmyhouse with pastCost -118.429521876\n",
        "Exploring this is not myhouse with pastCost -118.045083649\n",
        "Exploring thisis not my house with pastCost -117.358439505\n",
        "Exploring this is notmyhouse with pastCost -117.143359247\n",
        "Exploring thisisnot my house with pastCost -116.456715103\n",
        "Exploring thisisnotmyhouse with pastCost -116.360653709\n"
       ]
      },
      {
       "ename": "ValueError",
       "evalue": "min() arg is an empty sequence",
       "output_type": "pyerr",
       "traceback": [
        "\u001b[1;31m---------------------------------------------------------------------------\u001b[0m\n\u001b[1;31mValueError\u001b[0m                                Traceback (most recent call last)",
        "\u001b[1;32m<ipython-input-158-67ed0c68fde3>\u001b[0m in \u001b[0;36m<module>\u001b[1;34m()\u001b[0m\n\u001b[1;32m----> 1\u001b[1;33m \u001b[0mwords\u001b[0m \u001b[1;33m=\u001b[0m \u001b[0msegmentWords\u001b[0m\u001b[1;33m(\u001b[0m\u001b[1;34m'thisisnotmyhouse'\u001b[0m\u001b[1;33m,\u001b[0m \u001b[0munigramCost\u001b[0m\u001b[1;33m)\u001b[0m\u001b[1;33m\u001b[0m\u001b[0m\n\u001b[0m",
        "\u001b[1;32m<ipython-input-157-b0b188a717ac>\u001b[0m in \u001b[0;36msegmentWords\u001b[1;34m(query, unigramCost)\u001b[0m\n\u001b[0;32m     48\u001b[0m \u001b[1;33m\u001b[0m\u001b[0m\n\u001b[0;32m     49\u001b[0m     \u001b[0mucs\u001b[0m \u001b[1;33m=\u001b[0m \u001b[0mutil\u001b[0m\u001b[1;33m.\u001b[0m\u001b[0mUniformCostSearch\u001b[0m\u001b[1;33m(\u001b[0m\u001b[0mverbose\u001b[0m\u001b[1;33m=\u001b[0m\u001b[1;36m2\u001b[0m\u001b[1;33m)\u001b[0m\u001b[1;33m\u001b[0m\u001b[0m\n\u001b[1;32m---> 50\u001b[1;33m     \u001b[0mucs\u001b[0m\u001b[1;33m.\u001b[0m\u001b[0msolve\u001b[0m\u001b[1;33m(\u001b[0m\u001b[0mSegmentationProblem\u001b[0m\u001b[1;33m(\u001b[0m\u001b[0mquery\u001b[0m\u001b[1;33m,\u001b[0m \u001b[0munigramCost\u001b[0m\u001b[1;33m)\u001b[0m\u001b[1;33m)\u001b[0m\u001b[1;33m\u001b[0m\u001b[0m\n\u001b[0m\u001b[0;32m     51\u001b[0m \u001b[1;33m\u001b[0m\u001b[0m\n\u001b[0;32m     52\u001b[0m     \u001b[1;31m# BEGIN_YOUR_CODE (around 5 lines of code expected)\u001b[0m\u001b[1;33m\u001b[0m\u001b[1;33m\u001b[0m\u001b[0m\n",
        "\u001b[1;32m/home/lane/Classes/CS221/reconstruct/util.py\u001b[0m in \u001b[0;36msolve\u001b[1;34m(self, problem)\u001b[0m\n\u001b[0;32m     56\u001b[0m \u001b[1;33m\u001b[0m\u001b[0m\n\u001b[0;32m     57\u001b[0m             \u001b[1;31m# Check if we've reached the goal; if so, extract solution\u001b[0m\u001b[1;33m\u001b[0m\u001b[1;33m\u001b[0m\u001b[0m\n\u001b[1;32m---> 58\u001b[1;33m             \u001b[1;32mif\u001b[0m \u001b[0mproblem\u001b[0m\u001b[1;33m.\u001b[0m\u001b[0misGoal\u001b[0m\u001b[1;33m(\u001b[0m\u001b[0mstate\u001b[0m\u001b[1;33m)\u001b[0m\u001b[1;33m:\u001b[0m\u001b[1;33m\u001b[0m\u001b[0m\n\u001b[0m\u001b[0;32m     59\u001b[0m                 \u001b[0mself\u001b[0m\u001b[1;33m.\u001b[0m\u001b[0mactions\u001b[0m \u001b[1;33m=\u001b[0m \u001b[1;33m[\u001b[0m\u001b[1;33m]\u001b[0m\u001b[1;33m\u001b[0m\u001b[0m\n\u001b[0;32m     60\u001b[0m                 \u001b[1;32mwhile\u001b[0m \u001b[0mstate\u001b[0m \u001b[1;33m!=\u001b[0m \u001b[0mstartState\u001b[0m\u001b[1;33m:\u001b[0m\u001b[1;33m\u001b[0m\u001b[0m\n",
        "\u001b[1;32m<ipython-input-157-b0b188a717ac>\u001b[0m in \u001b[0;36misGoal\u001b[1;34m(self, state)\u001b[0m\n\u001b[0;32m     15\u001b[0m         \u001b[0mcurrentCost\u001b[0m \u001b[1;33m=\u001b[0m \u001b[0msum\u001b[0m\u001b[1;33m(\u001b[0m\u001b[1;33m[\u001b[0m\u001b[0mself\u001b[0m\u001b[1;33m.\u001b[0m\u001b[0munigramCost\u001b[0m\u001b[1;33m(\u001b[0m\u001b[0mx\u001b[0m\u001b[1;33m)\u001b[0m \u001b[1;32mfor\u001b[0m \u001b[0mx\u001b[0m \u001b[1;32min\u001b[0m \u001b[0mcurrentWords\u001b[0m\u001b[1;33m]\u001b[0m\u001b[1;33m)\u001b[0m\u001b[1;33m\u001b[0m\u001b[0m\n\u001b[0;32m     16\u001b[0m         \u001b[0mfutureCosts\u001b[0m \u001b[1;33m=\u001b[0m \u001b[1;33m[\u001b[0m\u001b[0mcost\u001b[0m \u001b[1;32mfor\u001b[0m \u001b[0maction\u001b[0m\u001b[1;33m,\u001b[0m \u001b[0mnewState\u001b[0m\u001b[1;33m,\u001b[0m \u001b[0mcost\u001b[0m \u001b[1;32min\u001b[0m \u001b[0mself\u001b[0m\u001b[1;33m.\u001b[0m\u001b[0msuccAndCost\u001b[0m\u001b[1;33m(\u001b[0m\u001b[0mstate\u001b[0m\u001b[1;33m)\u001b[0m\u001b[1;33m]\u001b[0m\u001b[1;33m\u001b[0m\u001b[0m\n\u001b[1;32m---> 17\u001b[1;33m         \u001b[1;32mif\u001b[0m \u001b[0mcurrentCost\u001b[0m \u001b[1;33m<=\u001b[0m \u001b[0mmin\u001b[0m\u001b[1;33m(\u001b[0m\u001b[0mfutureCosts\u001b[0m\u001b[1;33m)\u001b[0m\u001b[1;33m:\u001b[0m\u001b[1;33m\u001b[0m\u001b[0m\n\u001b[0m\u001b[0;32m     18\u001b[0m             \u001b[1;32mreturn\u001b[0m \u001b[0mTrue\u001b[0m\u001b[1;33m\u001b[0m\u001b[0m\n\u001b[0;32m     19\u001b[0m         \u001b[1;32melse\u001b[0m\u001b[1;33m:\u001b[0m\u001b[1;33m\u001b[0m\u001b[0m\n",
        "\u001b[1;31mValueError\u001b[0m: min() arg is an empty sequence"
       ]
      }
     ],
     "prompt_number": 158
    },
    {
     "cell_type": "code",
     "collapsed": true,
     "input": [
      "sum([unigramCost(x) for x in words])"
     ],
     "language": "python",
     "metadata": {},
     "outputs": [
      {
       "metadata": {},
       "output_type": "pyout",
       "prompt_number": 151,
       "text": [
        "319.55125241167877"
       ]
      }
     ],
     "prompt_number": 151
    },
    {
     "cell_type": "code",
     "collapsed": false,
     "input": [
      "unigramCost('this') + unigramCost('is') + unigramCost('not') + unigramCost('my') + unigramCost('house')"
     ],
     "language": "python",
     "metadata": {},
     "outputs": [
      {
       "metadata": {},
       "output_type": "pyout",
       "prompt_number": 152,
       "text": [
        "28.57342842418493"
       ]
      }
     ],
     "prompt_number": 152
    },
    {
     "cell_type": "code",
     "collapsed": false,
     "input": [
      "tmp = succAndCost('t h i s')"
     ],
     "language": "python",
     "metadata": {},
     "outputs": [],
     "prompt_number": 153
    },
    {
     "cell_type": "code",
     "collapsed": false,
     "input": [
      "tmp"
     ],
     "language": "python",
     "metadata": {},
     "outputs": [
      {
       "metadata": {},
       "output_type": "pyout",
       "prompt_number": 154,
       "text": [
        "[((0, 1), ['th', 'i', 's'], 25.87941321813794),\n",
        " ((1, 2), ['t', 'hi', 's'], 35.03972265650856),\n",
        " ((2, 3), ['t', 'h', 'is'], 28.689508396207955)]"
       ]
      }
     ],
     "prompt_number": 154
    },
    {
     "cell_type": "code",
     "collapsed": false,
     "input": [
      "unigramCost('th') + unigramCost('i') + unigramCost('s')"
     ],
     "language": "python",
     "metadata": {},
     "outputs": [
      {
       "metadata": {},
       "output_type": "pyout",
       "prompt_number": 155,
       "text": [
        "25.87941321813794"
       ]
      }
     ],
     "prompt_number": 155
    },
    {
     "cell_type": "code",
     "collapsed": false,
     "input": [
      "unigramCost('t') + unigramCost('h') + unigramCost('is')"
     ],
     "language": "python",
     "metadata": {},
     "outputs": [
      {
       "metadata": {},
       "output_type": "pyout",
       "prompt_number": 156,
       "text": [
        "28.689508396207955"
       ]
      }
     ],
     "prompt_number": 156
    },
    {
     "cell_type": "code",
     "collapsed": false,
     "input": [
      "a = [i for i in xrange(0,0)]"
     ],
     "language": "python",
     "metadata": {},
     "outputs": [],
     "prompt_number": 159
    },
    {
     "cell_type": "code",
     "collapsed": false,
     "input": [
      "a"
     ],
     "language": "python",
     "metadata": {},
     "outputs": [
      {
       "metadata": {},
       "output_type": "pyout",
       "prompt_number": 160,
       "text": [
        "[]"
       ]
      }
     ],
     "prompt_number": 160
    },
    {
     "cell_type": "code",
     "collapsed": false,
     "input": [
      "if not a:\n",
      "    print 'right on'"
     ],
     "language": "python",
     "metadata": {},
     "outputs": [
      {
       "output_type": "stream",
       "stream": "stdout",
       "text": [
        "right on\n"
       ]
      }
     ],
     "prompt_number": 163
    },
    {
     "cell_type": "code",
     "collapsed": false,
     "input": [
      "import util"
     ],
     "language": "python",
     "metadata": {},
     "outputs": [],
     "prompt_number": 15
    },
    {
     "cell_type": "code",
     "collapsed": false,
     "input": [
      "class SegmentationProblem(util.SearchProblem):\n",
      "    def __init__(self, query, unigramCost):\n",
      "        self.query = query\n",
      "        self.unigramCost = unigramCost\n",
      "\n",
      "    def startState(self):\n",
      "        # BEGIN_YOUR_CODE (around 5 lines of code expected)\n",
      "        words   = [l for l in self.query]\n",
      "        return ' '.join(words) \n",
      "        # END_YOUR_CODE\n",
      "\n",
      "    def isGoal(self, state):\n",
      "        # BEGIN_YOUR_CODE (around 5 lines of code expected)\n",
      "        futureCosts = [cost for action, newState, cost in self.succAndCost(state)]\n",
      "        if not futureCosts:\n",
      "            return True\n",
      "        elif min(futureCosts) >= 0:\n",
      "            return True\n",
      "        else:\n",
      "            return False\n",
      "        # END_YOUR_CODE\n",
      "\n",
      "    # Return list of (action, newState, cost) tuples\n",
      "    # Note that cost is cost(action) not cost(state)\n",
      "    def succAndCost(self, state):\n",
      "        # BEGIN_YOUR_CODE (around 10 lines of code expected)\n",
      "        currentWords = state.split()\n",
      "        allTuples = []\n",
      "        for i in xrange(len(currentWords)-1):\n",
      "            action = (i,i+1)\n",
      "            newWords = []\n",
      "            #cost = sum([self.unigramCost(x) for x in currentWords])\n",
      "            for j in xrange(len(currentWords)):\n",
      "                if j not in action:\n",
      "                    newWords.append(currentWords[j])\n",
      "                    # cost += self.unigramCost(newWords[-1])\n",
      "                elif j is action[0]:\n",
      "                    newWords.append(''.join([currentWords[i],currentWords[i+1]]))\n",
      "                    # cost += self.unigramCost(newWords[-1])\n",
      "            cost = self.unigramCost(newWords[i]) - self.unigramCost(currentWords[i]) - self.unigramCost(currentWords[i+1])\n",
      "            newState = ' '.join(newWords)\n",
      "            allTuples.append((action,newState,cost))\n",
      "        return allTuples\n",
      "        # END_YOUR_CODE\n",
      "\n",
      "def segmentWords(query, unigramCost):\n",
      "    if len(query) == 0:\n",
      "        return ''\n",
      "\n",
      "    ucs = util.UniformCostSearch(verbose=2)\n",
      "    ucs.solve(SegmentationProblem(query, unigramCost))\n",
      "\n",
      "    # BEGIN_YOUR_CODE (around 5 lines of code expected)\n",
      "    words = SegmentationProblem(query, unigramCost).startState().split()\n",
      "    soln  = []\n",
      "    for action in ucs.actions:\n",
      "        for j in xrange(len(words)):\n",
      "            if j not in action:\n",
      "                soln.append(words[j])\n",
      "            elif j is action[0]:\n",
      "                soln.append(''.join([words[action[0]],words[action[1]]]))\n",
      "    return ' '.join(soln)\n",
      "    # END_YOUR_CODE\n"
     ],
     "language": "python",
     "metadata": {},
     "outputs": [],
     "prompt_number": 18
    },
    {
     "cell_type": "code",
     "collapsed": false,
     "input": [
      "words = segmentWords('thisisnotmyhouse', unigramCost)"
     ],
     "language": "python",
     "metadata": {},
     "outputs": [
      {
       "output_type": "stream",
       "stream": "stdout",
       "text": [
        "Exploring t h i s i s n o t m y h o u s e with pastCost 0\n",
        "Exploring t h i s i s n o t my h o u s e with pastCost -16.4518817327\n",
        "Exploring t h i s i s n o t my h o us e with pastCost -32.2241371652\n",
        "Exploring th i s i s n o t my h o us e with pastCost -45.5265562008\n",
        "Exploring th i s i s no t my h o us e with pastCost -58.6049140735\n",
        "Exploring th i s i s not my h o us e with pastCost -71.4809289906\n",
        "Exploring th i s is not my h o us e with pastCost -81.9732528482\n",
        "Exploring th is is not my h o us e with pastCost -92.4655767058\n",
        "Exploring this is not my h o us e with pastCost -102.333054294\n",
        "Exploring this is not my ho us e with pastCost -111.937115131\n",
        "Exploring this is not my ho use with pastCost -119.863232029\n",
        "Exploring this is not my house with pastCost -131.445829977\n",
        "numStatesExplored = 12\n",
        "totalCost = -131.445829977\n",
        "actions = [(9, 10), (12, 13), (0, 1), (5, 6), (5, 6), (3, 4), (1, 2), (0, 1), (4, 5), (5, 6), (4, 5)]\n"
       ]
      }
     ],
     "prompt_number": 19
    },
    {
     "cell_type": "code",
     "collapsed": false,
     "input": [
      "words = segmentWords('words', unigramCost)"
     ],
     "language": "python",
     "metadata": {},
     "outputs": [
      {
       "output_type": "stream",
       "stream": "stdout",
       "text": [
        "Exploring w o r d s with pastCost 0\n",
        "Exploring w or d s with pastCost -13.4695767849\n",
        "Exploring w or ds with pastCost -22.261136314\n",
        "numStatesExplored = 3\n",
        "totalCost = -22.261136314\n",
        "actions = [(1, 2), (2, 3)]\n"
       ]
      }
     ],
     "prompt_number": 20
    },
    {
     "cell_type": "markdown",
     "metadata": {},
     "source": [
      "#### My problem is that I get stuck in local optima - there isn't a way to join just two words when your state is 'w or ds' that results in a lower cost.  It's almost like you need to have actions be all possible joinings."
     ]
    },
    {
     "cell_type": "markdown",
     "metadata": {},
     "source": [
      "#### Billy's comments: this might work, but at best case it would be exponentially slower.  Instead start out with original string, and insert splits as you go through."
     ]
    },
    {
     "cell_type": "code",
     "collapsed": false,
     "input": [
      "class SegmentationProblem(util.SearchProblem):\n",
      "    def __init__(self, query, unigramCost):\n",
      "        self.query = query\n",
      "        self.unigramCost = unigramCost\n",
      "\n",
      "    def startState(self):\n",
      "        # BEGIN_YOUR_CODE (around 5 lines of code expected)\n",
      "        return self.query[0]\n",
      "        # END_YOUR_CODE\n",
      "\n",
      "    def isGoal(self, state):\n",
      "        # BEGIN_YOUR_CODE (around 5 lines of code expected)\n",
      "        # Are there beneficial actions still to take?\n",
      "        benefit = 0\n",
      "        for action,newState,cost in SegmentationProblem(self.query,unigramCost).succAndCost(state):\n",
      "            if cost < 0:\n",
      "                benefit += 1\n",
      "        if len(''.join(state.split())) == len(self.query) and benefit == 0:\n",
      "            return True\n",
      "        else:\n",
      "            return False\n",
      "        # END_YOUR_CODE\n",
      "\n",
      "    # Return list of (action, newState, cost) tuples\n",
      "    # Note that cost is cost(action) not cost(state)\n",
      "    # action is tuple of (index to split, bool(add letter))\n",
      "    # state is the string we have now\n",
      "    def succAndCost(self, state):\n",
      "        # BEGIN_YOUR_CODE (around 10 lines of code expected)\n",
      "        allTuples = []\n",
      "        if len(''.join(state.split())) != len(self.query):\n",
      "            nextLetter = self.query[len(''.join(state.split()))]\n",
      "        else:\n",
      "            nextLetter = ''\n",
      "        action = (0,1)\n",
      "        newState = state + nextLetter\n",
      "        cost = sum([self.unigramCost(x) for x in newState.split()]) - sum([self.unigramCost(x) for x in state.split()])\n",
      "        allTuples.append((action,newState,cost))\n",
      "        for i in xrange(1,len(state)+1):\n",
      "            if ' ' not in [state[i-1]]:\n",
      "                if i == len(state):\n",
      "                    action = (i,1)\n",
      "                    newState = state[:i] + ' ' + state[i:] + nextLetter\n",
      "                    cost = sum([self.unigramCost(x) for x in newState.split()]) - sum([self.unigramCost(x) for x in state.split()])\n",
      "                    allTuples.append((action,newState,cost))\n",
      "                elif ' ' not in [state[i]]:\n",
      "                    action = (i,1)\n",
      "                    newState = state[:i] + ' ' + state[i:] + nextLetter\n",
      "                    cost = sum([self.unigramCost(x) for x in newState.split()]) - sum([self.unigramCost(x) for x in state.split()])\n",
      "                    allTuples.append((action,newState,cost))\n",
      "            \n",
      "        withNextLetter = state + nextLetter\n",
      "        currentWords = withNextLetter.split()\n",
      "        for idw in xrange(len(currentWords)-1):\n",
      "            action = (idw,0)\n",
      "            newWords = []\n",
      "            for j in xrange(len(currentWords)):\n",
      "                if j not in [idw,idw+1]:\n",
      "                    newWords.append(currentWords[j])\n",
      "                elif j is idw:\n",
      "                    newWords.append(''.join([currentWords[idw],currentWords[idw+1]]))\n",
      "            newState = ' '.join(newWords)\n",
      "            cost = sum([self.unigramCost(x) for x in newState.split()]) - sum([self.unigramCost(x) for x in state.split()])\n",
      "            allTuples.append((action,newState,cost))\n",
      "        return allTuples\n",
      "        # END_YOUR_CODE\n",
      "\n",
      "def segmentWords(query, unigramCost):\n",
      "    if len(query) == 0:\n",
      "        return ''\n",
      "\n",
      "    ucs = util.UniformCostSearch(verbose=2)\n",
      "    ucs.solve(SegmentationProblem(query, unigramCost))\n",
      "\n",
      "    # BEGIN_YOUR_CODE (around 5 lines of code expected)\n",
      "    state = query[0]\n",
      "    for action in ucs.actions:\n",
      "        if len(''.join(state.split())) != len(query):\n",
      "            nextLetter = query[len(''.join(state.split()))]\n",
      "        else:\n",
      "            nextLetter = ''\n",
      "        if action[1] == 1:\n",
      "            if action[0] == 0:\n",
      "                state = state + nextLetter\n",
      "            else:\n",
      "                state = state[:action[0]] + ' ' + state[action[0]:] + nextLetter\n",
      "        else:\n",
      "            withNextLetter = state + nextLetter\n",
      "            currentWords = withNextLetter.split()\n",
      "            newWords = []\n",
      "            for j in xrange(len(currentWords)):\n",
      "                if j not in [action[0],action[0]+1]:\n",
      "                    newWords.append(currentWords[j])\n",
      "                elif j is action[0]:\n",
      "                    newWords.append(''.join([currentWords[action[0]],currentWords[action[0]+1]]))\n",
      "            state = ' '.join(newWords)\n",
      "    print state\n",
      "    return state\n",
      "    # END_YOUR_CODE"
     ],
     "language": "python",
     "metadata": {},
     "outputs": [],
     "prompt_number": 218
    },
    {
     "cell_type": "code",
     "collapsed": false,
     "input": [
      "currentWords = tmp.split()"
     ],
     "language": "python",
     "metadata": {},
     "outputs": [],
     "prompt_number": 131
    },
    {
     "cell_type": "code",
     "collapsed": false,
     "input": [
      "idw = 1\n",
      "newWords = currentWords[:idw]\n",
      "newWords.append(''.join([currentWords[idw],currentWords[idw+1]]))\n",
      "newWords.append(currentWords[idw+1:])\n",
      "' '.join(newWords)"
     ],
     "language": "python",
     "metadata": {},
     "outputs": [
      {
       "ename": "TypeError",
       "evalue": "sequence item 2: expected string, list found",
       "output_type": "pyerr",
       "traceback": [
        "\u001b[1;31m---------------------------------------------------------------------------\u001b[0m\n\u001b[1;31mTypeError\u001b[0m                                 Traceback (most recent call last)",
        "\u001b[1;32m<ipython-input-134-b10f741ed8bd>\u001b[0m in \u001b[0;36m<module>\u001b[1;34m()\u001b[0m\n\u001b[0;32m      3\u001b[0m \u001b[0mnewWords\u001b[0m\u001b[1;33m.\u001b[0m\u001b[0mappend\u001b[0m\u001b[1;33m(\u001b[0m\u001b[1;34m''\u001b[0m\u001b[1;33m.\u001b[0m\u001b[0mjoin\u001b[0m\u001b[1;33m(\u001b[0m\u001b[1;33m[\u001b[0m\u001b[0mcurrentWords\u001b[0m\u001b[1;33m[\u001b[0m\u001b[0midw\u001b[0m\u001b[1;33m]\u001b[0m\u001b[1;33m,\u001b[0m\u001b[0mcurrentWords\u001b[0m\u001b[1;33m[\u001b[0m\u001b[0midw\u001b[0m\u001b[1;33m+\u001b[0m\u001b[1;36m1\u001b[0m\u001b[1;33m]\u001b[0m\u001b[1;33m]\u001b[0m\u001b[1;33m)\u001b[0m\u001b[1;33m)\u001b[0m\u001b[1;33m\u001b[0m\u001b[0m\n\u001b[0;32m      4\u001b[0m \u001b[0mnewWords\u001b[0m\u001b[1;33m.\u001b[0m\u001b[0mappend\u001b[0m\u001b[1;33m(\u001b[0m\u001b[0mcurrentWords\u001b[0m\u001b[1;33m[\u001b[0m\u001b[0midw\u001b[0m\u001b[1;33m+\u001b[0m\u001b[1;36m1\u001b[0m\u001b[1;33m:\u001b[0m\u001b[1;33m]\u001b[0m\u001b[1;33m)\u001b[0m\u001b[1;33m\u001b[0m\u001b[0m\n\u001b[1;32m----> 5\u001b[1;33m \u001b[1;34m' '\u001b[0m\u001b[1;33m.\u001b[0m\u001b[0mjoin\u001b[0m\u001b[1;33m(\u001b[0m\u001b[0mnewWords\u001b[0m\u001b[1;33m)\u001b[0m\u001b[1;33m\u001b[0m\u001b[0m\n\u001b[0m",
        "\u001b[1;31mTypeError\u001b[0m: sequence item 2: expected string, list found"
       ]
      }
     ],
     "prompt_number": 134
    },
    {
     "cell_type": "code",
     "collapsed": false,
     "input": [
      "currentWords[:idw]"
     ],
     "language": "python",
     "metadata": {},
     "outputs": [
      {
       "metadata": {},
       "output_type": "pyout",
       "prompt_number": 133,
       "text": [
        "['hey']"
       ]
      }
     ],
     "prompt_number": 133
    },
    {
     "cell_type": "code",
     "collapsed": false,
     "input": [
      "problem = SegmentationProblem('words', unigramCost)"
     ],
     "language": "python",
     "metadata": {},
     "outputs": [],
     "prompt_number": 119
    },
    {
     "cell_type": "code",
     "collapsed": false,
     "input": [
      "for action, newState, cost in problem.succAndCost('w'):\n",
      "    print action, newState, cost"
     ],
     "language": "python",
     "metadata": {},
     "outputs": [
      {
       "output_type": "stream",
       "stream": "stdout",
       "text": [
        "(0, 1) wo 0.69314718056\n",
        "(1, 1) w o 7.94583276098\n"
       ]
      }
     ],
     "prompt_number": 120
    },
    {
     "cell_type": "markdown",
     "metadata": {},
     "source": [
      "### The more actions, the fewer states needed to explore and the less likelihood that you finish on a crap output"
     ]
    },
    {
     "cell_type": "code",
     "collapsed": false,
     "input": [
      "words = segmentWords('words', unigramCost)"
     ],
     "language": "python",
     "metadata": {},
     "outputs": [
      {
       "output_type": "stream",
       "stream": "stdout",
       "text": [
        "Exploring w with pastCost 0\n",
        "  Action (0, 1) => wo with cost 0 + 0.69314718056\n",
        "  Action (1, 1) => w o with cost 0 + 7.94583276098\n",
        "Exploring wo with pastCost 0.69314718056\n",
        "  Action (0, 1) => wor with cost 0.69314718056 + 9.48786582297\n",
        "  Action (1, 1) => w or with cost 0.69314718056 + 5.13961768216\n",
        "  Action (2, 1) => wo r with cost 0.69314718056 + 11.3565088866\n",
        "Exploring w or with pastCost 5.83276486272\n",
        "  Action (0, 1) => w ord with cost 5.83276486272 + 16.9575199959\n",
        "  Action (3, 1) => w o rd with cost 5.83276486272 + 13.8060490215\n",
        "  Action (4, 1) => w or d with cost 5.83276486272 + 11.3565088866\n",
        "  Action (0, 0) => word with cost 5.83276486272 + -10.7117717143\n",
        "Exploring word with pastCost -4.87900685162\n",
        "  Action (0, 1) => words with cost -4.87900685162 + -0.426782529769\n",
        "  Action (1, 1) => w ords with cost -4.87900685162 + 27.6692917102\n",
        "  Action (2, 1) => wo rds with cost -4.87900685162 + 28.3624388908\n",
        "  Action (3, 1) => wor ds with cost -4.87900685162 + 28.3624388908\n",
        "  Action (4, 1) => word s with cost -4.87900685162 + 10.7374696782\n",
        "Exploring words with pastCost -5.30578938139\n",
        "numStatesExplored = 5\n",
        "totalCost = -5.30578938139\n",
        "actions = [(0, 1), (1, 1), (0, 0), (0, 1)]\n",
        "words\n"
       ]
      }
     ],
     "prompt_number": 195
    },
    {
     "cell_type": "code",
     "collapsed": false,
     "input": [
      "segmentWords('this', unigramCost)"
     ],
     "language": "python",
     "metadata": {},
     "outputs": [
      {
       "output_type": "stream",
       "stream": "stdout",
       "text": [
        "Exploring t with pastCost 0\n",
        "  Action (0, 1) => th with cost 0 + -1.38629436112\n",
        "  Action (1, 1) => t h with cost 0 + 11.9161246745\n",
        "Exploring th with pastCost -1.38629436112\n",
        "  Action (0, 1) => thi with cost -1.38629436112 + 12.4835980965\n",
        "  Action (1, 1) => t hi with cost -1.38629436112 + 13.9955662162\n",
        "  Action (2, 1) => th i with cost -1.38629436112 + 4.83525677784\n",
        "Exploring th i with pastCost 3.44896241672\n",
        "  Action (0, 1) => th is with cost 3.44896241672 + 0.245145820608\n",
        "  Action (1, 1) => t h is with cost 3.44896241672 + 13.5475648563\n",
        "  Action (4, 1) => th i s with cost 3.44896241672 + 10.7374696782\n",
        "  Action (0, 0) => this with cost 3.44896241672 + -9.62233176713\n",
        "Exploring this with pastCost -6.17336935041\n",
        "numStatesExplored = 4\n",
        "totalCost = -6.17336935041\n",
        "actions = [(0, 1), (2, 1), (0, 0)]\n",
        "this\n"
       ]
      },
      {
       "metadata": {},
       "output_type": "pyout",
       "prompt_number": 196,
       "text": [
        "'this'"
       ]
      }
     ],
     "prompt_number": 196
    },
    {
     "cell_type": "code",
     "collapsed": false,
     "input": [
      "segmentWords('thisis', unigramCost)"
     ],
     "language": "python",
     "metadata": {},
     "outputs": [
      {
       "output_type": "stream",
       "stream": "stdout",
       "text": [
        "Exploring t with pastCost 0\n",
        "  Action (0, 1) => th with cost 0 + -1.38629436112\n",
        "  Action (1, 1) => t h with cost 0 + 11.9161246745\n",
        "Exploring th with pastCost -1.38629436112\n",
        "  Action (0, 1) => thi with cost -1.38629436112 + 12.4835980965\n",
        "  Action (1, 1) => t hi with cost -1.38629436112 + 13.9955662162\n",
        "  Action (2, 1) => th i with cost -1.38629436112 + 4.83525677784\n",
        "Exploring th i with pastCost 3.44896241672\n",
        "  Action (0, 1) => th is with cost 3.44896241672 + 0.245145820608\n",
        "  Action (1, 1) => t h is with cost 3.44896241672 + 13.5475648563\n",
        "  Action (4, 1) => th i s with cost 3.44896241672 + 10.7374696782\n",
        "  Action (0, 0) => this with cost 3.44896241672 + -9.62233176713\n",
        "Exploring this with pastCost -6.17336935041\n",
        "  Action (0, 1) => thisi with cost -6.17336935041 + 17.2706730858\n",
        "  Action (1, 1) => t hisi with cost -6.17336935041 + 28.963654209\n",
        "  Action (2, 1) => th isi with cost -6.17336935041 + 27.5773598479\n",
        "  Action (3, 1) => thi si with cost -6.17336935041 + 29.1867977603\n",
        "  Action (4, 1) => this i with cost -6.17336935041 + 4.83525677784\n",
        "Exploring this i with pastCost -1.33811257256\n",
        "  Action (0, 1) => this is with cost -1.33811257256 + 0.245145820608\n",
        "  Action (1, 1) => t his is with cost -1.33811257256 + 10.7184793836\n",
        "  Action (2, 1) => th is is with cost -1.33811257256 + 10.1126234083\n",
        "  Action (3, 1) => thi s is with cost -1.33811257256 + 28.2532885846\n",
        "  Action (6, 1) => this i s with cost -1.33811257256 + 10.7374696782\n",
        "  Action (0, 0) => thisis with cost -1.33811257256 + 14.3325362929\n",
        "Exploring this is with pastCost -1.09296675195\n",
        "numStatesExplored = 6\n",
        "totalCost = -1.09296675195\n",
        "actions = [(0, 1), (2, 1), (0, 0), (4, 1), (0, 1)]\n",
        "this is\n"
       ]
      },
      {
       "metadata": {},
       "output_type": "pyout",
       "prompt_number": 197,
       "text": [
        "'this is'"
       ]
      }
     ],
     "prompt_number": 197
    },
    {
     "cell_type": "code",
     "collapsed": false,
     "input": [
      "unigramCost('th') + unigramCost('is') + unigramCost('is')"
     ],
     "language": "python",
     "metadata": {},
     "outputs": [
      {
       "metadata": {},
       "output_type": "pyout",
       "prompt_number": 186,
       "text": [
        "20.467491959005756"
       ]
      }
     ],
     "prompt_number": 186
    },
    {
     "cell_type": "code",
     "collapsed": false,
     "input": [
      "unigramCost('this') + unigramCost('is')"
     ],
     "language": "python",
     "metadata": {},
     "outputs": [
      {
       "metadata": {},
       "output_type": "pyout",
       "prompt_number": 181,
       "text": [
        "10.600014371267536"
       ]
      }
     ],
     "prompt_number": 181
    },
    {
     "cell_type": "code",
     "collapsed": false,
     "input": [
      "segmentWords('thisisnotmyhouse', unigramCost)"
     ],
     "language": "python",
     "metadata": {},
     "outputs": [
      {
       "output_type": "stream",
       "stream": "stdout",
       "text": [
        "Exploring t with pastCost 0\n",
        "  Action (0, 1) => th with cost 0 + -1.38629436112\n",
        "  Action (1, 1) => t h with cost 0 + 11.9161246745\n",
        "Exploring th with pastCost -1.38629436112\n",
        "  Action (0, 1) => thi with cost -1.38629436112 + 12.4835980965\n",
        "  Action (1, 1) => t hi with cost -1.38629436112 + 13.9955662162\n",
        "  Action (2, 1) => th i with cost -1.38629436112 + 4.83525677784\n",
        "Exploring th i with pastCost 3.44896241672\n",
        "  Action (0, 1) => th is with cost 3.44896241672 + 0.245145820608\n",
        "  Action (1, 1) => t h is with cost 3.44896241672 + 13.5475648563\n",
        "  Action (4, 1) => th i s with cost 3.44896241672 + 10.7374696782\n",
        "  Action (0, 0) => this with cost 3.44896241672 + -9.62233176713\n",
        "Exploring this with pastCost -6.17336935041\n",
        "  Action (0, 1) => thisi with cost -6.17336935041 + 17.2706730858\n",
        "  Action (1, 1) => t hisi with cost -6.17336935041 + 28.963654209\n",
        "  Action (2, 1) => th isi with cost -6.17336935041 + 27.5773598479\n",
        "  Action (3, 1) => thi si with cost -6.17336935041 + 29.1867977603\n",
        "  Action (4, 1) => this i with cost -6.17336935041 + 4.83525677784\n",
        "Exploring this i with pastCost -1.33811257256\n",
        "  Action (0, 1) => this is with cost -1.33811257256 + 0.245145820608\n",
        "  Action (1, 1) => t his is with cost -1.33811257256 + 10.7184793836\n",
        "  Action (2, 1) => th is is with cost -1.33811257256 + 10.1126234083\n",
        "  Action (3, 1) => thi s is with cost -1.33811257256 + 28.2532885846\n",
        "  Action (6, 1) => this i s with cost -1.33811257256 + 10.7374696782\n",
        "  Action (0, 0) => thisis with cost -1.33811257256 + 14.3325362929\n",
        "Exploring this is with pastCost -1.09296675195\n",
        "  Action (0, 1) => this isn with cost -1.09296675195 + 17.7098822602\n",
        "  Action (1, 1) => t his isn with cost -1.09296675195 + 28.1832158232\n",
        "  Action (2, 1) => th is isn with cost -1.09296675195 + 27.5773598479\n",
        "  Action (3, 1) => thi s isn with cost -1.09296675195 + 45.7180250242\n",
        "  Action (6, 1) => this i sn with cost -1.09296675195 + 22.545139038\n",
        "  Action (7, 1) => this is n with cost -1.09296675195 + 11.1051944583\n",
        "  Action (0, 0) => thisisn with cost -1.09296675195 + 15.9845104571\n",
        "Exploring th is with pastCost 3.69410823733\n",
        "  Action (0, 1) => th isi with cost 3.69410823733 + 17.7098822602\n",
        "  Action (1, 1) => t h isi with cost 3.69410823733 + 31.0123012958\n",
        "  Action (4, 1) => th i si with cost 3.69410823733 + 11.6709788539\n",
        "  Action (5, 1) => th is i with cost 3.69410823733 + 4.83525677784\n",
        "  Action (0, 0) => thisi with cost 3.69410823733 + 7.40319549807\n",
        "Exploring th is i with pastCost 8.52936501518\n",
        "  Action (0, 1) => th is is with cost 8.52936501518 + 0.245145820608\n",
        "  Action (1, 1) => t h is is with cost 8.52936501518 + 13.5475648563\n",
        "  Action (4, 1) => th i s is with cost 8.52936501518 + 10.7374696782\n",
        "  Action (7, 1) => th is i s with cost 8.52936501518 + 10.7374696782\n",
        "  Action (0, 0) => this is with cost 8.52936501518 + -9.62233176713\n",
        "  Action (1, 0) => th isis with cost 8.52936501518 + 12.8746254823\n",
        "Exploring th is is with pastCost 8.77451083579\n",
        "  Action (0, 1) => th is isn with cost 8.77451083579 + 17.7098822602\n",
        "  Action (1, 1) => t h is isn with cost 8.77451083579 + 31.0123012958\n",
        "  Action (4, 1) => th i s isn with cost 8.77451083579 + 28.2022061178\n",
        "  Action (7, 1) => th is i sn with cost 8.77451083579 + 22.545139038\n",
        "  Action (8, 1) => th is is n with cost 8.77451083579 + 11.1051944583\n",
        "  Action (0, 0) => this isn with cost 8.77451083579 + 7.84240467244\n",
        "  Action (1, 0) => th isisn with cost 8.77451083579 + 12.6294796617\n",
        "Exploring t his is with pastCost 9.38036681106\n",
        "  Action (0, 1) => t his isn with cost 9.38036681106 + 17.7098822602\n",
        "  Action (3, 1) => t h is isn with cost 9.38036681106 + 30.4064453206\n",
        "  Action (4, 1) => t hi s isn with cost 9.38036681106 + 36.7566595809\n",
        "  Action (7, 1) => t his i sn with cost 9.38036681106 + 22.545139038\n",
        "  Action (8, 1) => t his is n with cost 9.38036681106 + 11.1051944583\n",
        "  Action (0, 0) => this isn with cost 9.38036681106 + 7.23654869717\n",
        "  Action (1, 0) => t hisisn with cost 9.38036681106 + 15.3070380325\n",
        "Exploring this i s with pastCost 9.39935710563\n",
        "  Action (0, 1) => this i sn with cost 9.39935710563 + 12.0528151804\n",
        "  Action (1, 1) => t his i sn with cost 9.39935710563 + 22.5261487434\n",
        "  Action (2, 1) => th is i sn with cost 9.39935710563 + 21.9202927682\n",
        "  Action (3, 1) => thi s i sn with cost 9.39935710563 + 40.0609579444\n",
        "  Action (8, 1) => this i s n with cost 9.39935710563 + 11.1051944583\n",
        "  Action (0, 0) => thisi sn with cost 9.39935710563 + 24.4882314884\n",
        "  Action (1, 0) => this isn with cost 9.39935710563 + 7.21755840259\n",
        "Exploring this is n with pastCost 10.0122277064\n",
        "  Action (0, 1) => this is no with cost 10.0122277064 + -5.13252511171\n",
        "  Action (1, 1) => t his is no with cost 10.0122277064 + 5.3408084513\n",
        "  Action (2, 1) => th is is no with cost 10.0122277064 + 4.73495247603\n",
        "  Action (3, 1) => thi s is no with cost 10.0122277064 + 22.8756176523\n",
        "  Action (6, 1) => this i s no with cost 10.0122277064 + 5.35979874588\n",
        "  Action (9, 1) => this is n o with cost 10.0122277064 + 7.94583276098\n",
        "  Action (0, 0) => thisis no with cost 10.0122277064 + 8.95486536054\n",
        "  Action (1, 0) => this isno with cost 10.0122277064 + 6.60468780186\n",
        "Exploring this is no with pastCost 4.87970259466\n",
        "  Action (0, 1) => this is not with cost 4.87970259466 + -1.18303379389\n",
        "  Action (1, 1) => t his is not with cost 4.87970259466 + 9.29029976912\n",
        "  Action (2, 1) => th is is not with cost 4.87970259466 + 8.68444379385\n",
        "  Action (3, 1) => thi s is not with cost 4.87970259466 + 26.8251089701\n",
        "  Action (6, 1) => this i s not with cost 4.87970259466 + 9.3092900637\n",
        "  Action (9, 1) => this is n ot with cost 4.87970259466 + 27.9228099703\n",
        "  Action (10, 1) => this is no t with cost 4.87970259466 + 11.6929811232\n",
        "  Action (0, 0) => thisis not with cost 4.87970259466 + 12.9043566784\n",
        "  Action (1, 0) => this isnot with cost 4.87970259466 + 11.7372129136\n",
        "Exploring this is not with pastCost 3.69666880077\n",
        "  Action (0, 1) => this is notm with cost 3.69666880077 + 18.0006493059\n",
        "  Action (1, 1) => t his is notm with cost 3.69666880077 + 28.4739828689\n",
        "  Action (2, 1) => th is is notm with cost 3.69666880077 + 27.8681268936\n",
        "  Action (3, 1) => thi s is notm with cost 3.69666880077 + 46.0087920699\n",
        "  Action (6, 1) => this i s notm with cost 3.69666880077 + 28.4929731635\n",
        "  Action (9, 1) => this is n otm with cost 3.69666880077 + 29.1058437642\n",
        "  Action (10, 1) => this is no tm with cost 3.69666880077 + 9.75806501083\n",
        "  Action (11, 1) => this is not m with cost 3.69666880077 + 10.4692056916\n",
        "  Action (0, 0) => thisis notm with cost 3.69666880077 + 32.0880397781\n",
        "  Action (1, 0) => this isnotm with cost 3.69666880077 + 14.8173666923\n",
        "Exploring thi with pastCost 11.0973037354\n",
        "  Action (0, 1) => this with cost 11.0973037354 + -17.2706730858\n",
        "  Action (1, 1) => t his with cost 11.0973037354 + -6.7973395228\n",
        "  Action (2, 1) => th is with cost 11.0973037354 + -7.40319549807\n",
        "  Action (3, 1) => thi s with cost 11.0973037354 + 10.7374696782\n",
        "Exploring t his with pastCost 4.2999642126\n",
        "  Action (0, 1) => t hisi with cost 4.2999642126 + 18.490320646\n",
        "  Action (3, 1) => t h isi with cost 4.2999642126 + 30.4064453206\n",
        "  Action (4, 1) => t hi si with cost 4.2999642126 + 20.225432317\n",
        "  Action (5, 1) => t his i with cost 4.2999642126 + 4.83525677784\n",
        "  Action (0, 0) => thisi with cost 4.2999642126 + 6.7973395228\n",
        "Exploring t his i with pastCost 9.13522099045\n",
        "  Action (0, 1) => t his is with cost 9.13522099045 + 0.245145820608\n",
        "  Action (3, 1) => t h is is with cost 9.13522099045 + 12.941708881\n",
        "  Action (4, 1) => t hi s is with cost 9.13522099045 + 19.2919231413\n",
        "  Action (7, 1) => t his i s with cost 9.13522099045 + 10.7374696782\n",
        "  Action (0, 0) => this is with cost 9.13522099045 + -10.2281877424\n",
        "  Action (1, 0) => t hisis with cost 9.13522099045 + 13.6550638682\n",
        "Exploring thisi with pastCost 11.0973037354\n",
        "  Action (0, 1) => thisis with cost 11.0973037354 + 1.89711998489\n",
        "  Action (1, 1) => t hisis with cost 11.0973037354 + 11.6929811232\n",
        "  Action (2, 1) => th isis with cost 11.0973037354 + 10.3066867621\n",
        "  Action (3, 1) => thi sis with cost 11.0973037354 + 22.7902848586\n",
        "  Action (4, 1) => this is with cost 11.0973037354 + -12.1902704874\n",
        "  Action (5, 1) => thisi s with cost 11.0973037354 + 10.7374696782\n",
        "Exploring t h with pastCost 11.9161246745\n",
        "  Action (0, 1) => t hi with cost 11.9161246745 + 0.69314718056\n",
        "  Action (3, 1) => t h i with cost 11.9161246745 + 4.83525677784\n",
        "  Action (0, 0) => thi with cost 11.9161246745 + -0.818820939128\n",
        "Exploring t hi with pastCost 12.6092718551\n",
        "  Action (0, 1) => t his with cost 12.6092718551 + -8.30930764249\n",
        "  Action (3, 1) => t h is with cost 12.6092718551 + 4.38725541789\n",
        "  Action (4, 1) => t hi s with cost 12.6092718551 + 10.7374696782\n",
        "  Action (0, 0) => this with cost 12.6092718551 + -18.7826412055\n",
        "Exploring thisis with pastCost 12.9944237203\n",
        "  Action (0, 1) => thisisn with cost 12.9944237203 + 1.89711998489\n",
        "  Action (1, 1) => t hisisn with cost 12.9944237203 + 11.6929811232\n",
        "  Action (2, 1) => th isisn with cost 12.9944237203 + 8.40956677721\n",
        "  Action (3, 1) => thi sisn with cost 12.9944237203 + 20.8931648737\n",
        "  Action (4, 1) => this isn with cost 12.9944237203 + 3.62249178793\n",
        "  Action (5, 1) => thisi sn with cost 12.9944237203 + 20.8931648737\n",
        "  Action (6, 1) => thisis n with cost 12.9944237203 + 11.1051944583\n",
        "Exploring this is no tm with pastCost 13.4547338116\n",
        "  Action (0, 1) => this is no tmy with cost 13.4547338116 + 14.2152536417\n",
        "  Action (1, 1) => t his is no tmy with cost 13.4547338116 + 24.6885872047\n",
        "  Action (2, 1) => th is is no tmy with cost 13.4547338116 + 24.0827312294\n",
        "  Action (3, 1) => thi s is no tmy with cost 13.4547338116 + 42.2233964057\n",
        "  Action (6, 1) => this i s no tmy with cost 13.4547338116 + 24.7075774993\n",
        "  Action (9, 1) => this is n o tmy with cost 13.4547338116 + 27.2936115144\n",
        "  Action (12, 1) => this is no t my with cost 13.4547338116 + 9.05139853974\n",
        "  Action (13, 1) => this is no tm y with cost 13.4547338116 + 11.9161246745\n",
        "  Action (0, 0) => thisis no tmy with cost 13.4547338116 + 28.3026441139\n",
        "  Action (1, 0) => this isno tmy with cost 13.4547338116 + 25.9524665552\n",
        "  Action (2, 0) => this is notmy with cost 13.4547338116 + 8.24258429507\n",
        "Exploring th is is not with pastCost 13.5641463885\n",
        "  Action (0, 1) => th is is notm with cost 13.5641463885 + 18.0006493059\n",
        "  Action (1, 1) => t h is is notm with cost 13.5641463885 + 31.3030683416\n",
        "  Action (4, 1) => th i s is notm with cost 13.5641463885 + 28.4929731635\n",
        "  Action (7, 1) => th is i s notm with cost 13.5641463885 + 28.4929731635\n",
        "  Action (10, 1) => th is is n otm with cost 13.5641463885 + 29.1058437642\n",
        "  Action (11, 1) => th is is no tm with cost 13.5641463885 + 9.75806501083\n",
        "  Action (12, 1) => th is is not m with cost 13.5641463885 + 10.4692056916\n",
        "  Action (0, 0) => this is notm with cost 13.5641463885 + 8.13317171816\n",
        "  Action (1, 0) => th isis notm with cost 13.5641463885 + 30.6301289676\n",
        "  Action (2, 0) => th is isnotm with cost 13.5641463885 + 14.8173666923\n",
        "Exploring this is not m with pastCost 14.1658744924\n",
        "  Action (0, 1) => this is not my with cost 14.1658744924 + -4.53575705814\n",
        "  Action (1, 1) => t his is not my with cost 14.1658744924 + 5.93757650487\n",
        "  Action (2, 1) => th is is not my with cost 14.1658744924 + 5.3317205296\n",
        "  Action (3, 1) => thi s is not my with cost 14.1658744924 + 23.4723857059\n",
        "  Action (6, 1) => this i s not my with cost 14.1658744924 + 5.95656679945\n",
        "  Action (9, 1) => this is n ot my with cost 14.1658744924 + 24.5700867061\n",
        "  Action (10, 1) => this is no t my with cost 14.1658744924 + 8.34025785897\n",
        "  Action (13, 1) => this is not m y with cost 14.1658744924 + 11.9161246745\n",
        "  Action (0, 0) => thisis not my with cost 14.1658744924 + 9.55163341411\n",
        "  Action (1, 0) => this isnot my with cost 14.1658744924 + 8.38448964931\n",
        "  Action (2, 0) => this is notmy with cost 14.1658744924 + 7.5314436143\n",
        "Exploring this is not my with pastCost 9.63011743423\n",
        "  Action (0, 1) => this is not myh with cost 9.63011743423 + 16.8568362252\n",
        "  Action (1, 1) => t his is not myh with cost 9.63011743423 + 27.3301697882\n",
        "  Action (2, 1) => th is is not myh with cost 9.63011743423 + 26.7243138129\n",
        "  Action (3, 1) => thi s is not myh with cost 9.63011743423 + 44.8649789892\n",
        "  Action (6, 1) => this i s not myh with cost 9.63011743423 + 27.3491600828\n",
        "  Action (9, 1) => this is n ot myh with cost 9.63011743423 + 45.9626799894\n",
        "  Action (10, 1) => this is no t myh with cost 9.63011743423 + 29.7328511423\n",
        "  Action (13, 1) => this is not m yh with cost 9.63011743423 + 27.3260419168\n",
        "  Action (14, 1) => this is not my h with cost 9.63011743423 + 11.9161246745\n",
        "  Action (0, 0) => thisis not myh with cost 9.63011743423 + 30.9442266974\n",
        "  Action (1, 0) => this isnot myh with cost 9.63011743423 + 29.7770829326\n",
        "  Action (2, 0) => this is notmyh with cost 9.63011743423 + 13.9643206573\n",
        "Exploring t his is not with pastCost 14.1700023638\n",
        "  Action (0, 1) => t his is notm with cost 14.1700023638 + 18.0006493059"
       ]
      },
      {
       "output_type": "stream",
       "stream": "stdout",
       "text": [
        "\n",
        "  Action (3, 1) => t h is is notm with cost 14.1700023638 + 30.6972123663\n",
        "  Action (4, 1) => t hi s is notm with cost 14.1700023638 + 37.0474266266\n",
        "  Action (7, 1) => t his i s notm with cost 14.1700023638 + 28.4929731635\n",
        "  Action (10, 1) => t his is n otm with cost 14.1700023638 + 29.1058437642\n",
        "  Action (11, 1) => t his is no tm with cost 14.1700023638 + 9.75806501083\n",
        "  Action (12, 1) => t his is not m with cost 14.1700023638 + 10.4692056916\n",
        "  Action (0, 0) => this is notm with cost 14.1700023638 + 7.52731574289\n",
        "  Action (1, 0) => t hisis notm with cost 14.1700023638 + 31.4105673535\n",
        "  Action (2, 0) => t his isnotm with cost 14.1700023638 + 14.8173666923\n",
        "Exploring th i s with pastCost 14.1864320949\n",
        "  Action (0, 1) => th i si with cost 14.1864320949 + 1.17865499634\n",
        "  Action (1, 1) => t h i si with cost 14.1864320949 + 14.481074032\n",
        "  Action (6, 1) => th i s i with cost 14.1864320949 + 4.83525677784\n",
        "  Action (0, 0) => thi si with cost 14.1864320949 + 8.82699631502\n",
        "  Action (1, 0) => th isi with cost 14.1864320949 + 7.21755840259\n",
        "Exploring this i s not with pastCost 14.1889926584\n",
        "  Action (0, 1) => this i s notm with cost 14.1889926584 + 18.0006493059\n",
        "  Action (1, 1) => t his i s notm with cost 14.1889926584 + 28.4739828689\n",
        "  Action (2, 1) => th is i s notm with cost 14.1889926584 + 27.8681268936\n",
        "  Action (3, 1) => thi s i s notm with cost 14.1889926584 + 46.0087920699\n",
        "  Action (10, 1) => this i s n otm with cost 14.1889926584 + 29.1058437642\n",
        "  Action (11, 1) => this i s no tm with cost 14.1889926584 + 9.75806501083\n",
        "  Action (12, 1) => this i s not m with cost 14.1889926584 + 10.4692056916\n",
        "  Action (0, 0) => thisi s notm with cost 14.1889926584 + 30.4360656139\n",
        "  Action (1, 0) => this is notm with cost 14.1889926584 + 7.50832544832\n",
        "  Action (2, 0) => this i snotm with cost 14.1889926584 + 7.26317962771\n",
        "Exploring th is is no with pastCost 14.7471801824\n",
        "  Action (0, 1) => th is is not with cost 14.7471801824 + -1.18303379389\n",
        "  Action (1, 1) => t h is is not with cost 14.7471801824 + 12.1193852418\n",
        "  Action (4, 1) => th i s is not with cost 14.7471801824 + 9.3092900637\n",
        "  Action (7, 1) => th is i s not with cost 14.7471801824 + 9.3092900637\n",
        "  Action (10, 1) => th is is n ot with cost 14.7471801824 + 27.9228099703\n",
        "  Action (11, 1) => th is is no t with cost 14.7471801824 + 11.6929811232\n",
        "  Action (0, 0) => this is not with cost 14.7471801824 + -11.0505113816\n",
        "  Action (1, 0) => th isis not with cost 14.7471801824 + 11.4464458678\n",
        "  Action (2, 0) => th is isnot with cost 14.7471801824 + 11.7372129136\n",
        "Exploring thisisn with pastCost 14.8915437052\n",
        "  Action (0, 1) => thisisno with cost 14.8915437052 + 1.89711998489\n",
        "  Action (1, 1) => t hisisno with cost 14.8915437052 + 11.6929811232\n",
        "  Action (2, 1) => th isisno with cost 14.8915437052 + 8.40956677721\n",
        "  Action (3, 1) => thi sisno with cost 14.8915437052 + 18.9960448889\n",
        "  Action (4, 1) => this isno with cost 14.8915437052 + 1.72537180304\n",
        "  Action (5, 1) => thisi sno with cost 14.8915437052 + 18.9960448889\n",
        "  Action (6, 1) => thisis no with cost 14.8915437052 + 4.07554936173\n",
        "  Action (7, 1) => thisisn o with cost 14.8915437052 + 7.94583276098\n",
        "Exploring t his is no with pastCost 15.3530361577\n",
        "  Action (0, 1) => t his is not with cost 15.3530361577 + -1.18303379389\n",
        "  Action (3, 1) => t h is is not with cost 15.3530361577 + 11.5135292665\n",
        "  Action (4, 1) => t hi s is not with cost 15.3530361577 + 17.8637435268\n",
        "  Action (7, 1) => t his i s not with cost 15.3530361577 + 9.3092900637\n",
        "  Action (10, 1) => t his is n ot with cost 15.3530361577 + 27.9228099703\n",
        "  Action (11, 1) => t his is no t with cost 15.3530361577 + 11.6929811232\n",
        "  Action (0, 0) => this is not with cost 15.3530361577 + -11.6563673569\n",
        "  Action (1, 0) => t hisis not with cost 15.3530361577 + 12.2268842537\n",
        "  Action (2, 0) => t his isnot with cost 15.3530361577 + 11.7372129136\n",
        "Exploring th i si with pastCost 15.3650870913\n",
        "  Action (0, 1) => th i sis with cost 15.3650870913 + 10.8741601841\n",
        "  Action (1, 1) => t h i sis with cost 15.3650870913 + 24.1765792197\n",
        "  Action (6, 1) => th i s is with cost 15.3650870913 + 3.90174760211\n",
        "  Action (7, 1) => th i si s with cost 15.3650870913 + 10.7374696782\n",
        "  Action (0, 0) => thi sis with cost 15.3650870913 + 18.5225015028\n",
        "  Action (1, 0) => th isis with cost 15.3650870913 + 6.03890340625\n",
        "Exploring this i s no with pastCost 15.3720264522\n",
        "  Action (0, 1) => this i s not with cost 15.3720264522 + -1.18303379389\n",
        "  Action (1, 1) => t his i s not with cost 15.3720264522 + 9.29029976912\n",
        "  Action (2, 1) => th is i s not with cost 15.3720264522 + 8.68444379385\n",
        "  Action (3, 1) => thi s i s not with cost 15.3720264522 + 26.8251089701\n",
        "  Action (10, 1) => this i s n ot with cost 15.3720264522 + 27.9228099703\n",
        "  Action (11, 1) => this i s no t with cost 15.3720264522 + 11.6929811232\n",
        "  Action (0, 0) => thisi s not with cost 15.3720264522 + 11.2523825141\n",
        "  Action (1, 0) => this is not with cost 15.3720264522 + -11.6753576515\n",
        "  Action (2, 0) => this i snot with cost 15.3720264522 + 6.08014583382\n",
        "Exploring this is no t with pastCost 16.5726837179\n",
        "  Action (0, 1) => this is no tm with cost 16.5726837179 + -3.11794990628\n",
        "  Action (1, 1) => t his is no tm with cost 16.5726837179 + 7.35538365673\n",
        "  Action (2, 1) => th is is no tm with cost 16.5726837179 + 6.74952768146\n",
        "  Action (3, 1) => thi s is no tm with cost 16.5726837179 + 24.8901928577\n",
        "  Action (6, 1) => this i s no tm with cost 16.5726837179 + 7.37437395131\n",
        "  Action (9, 1) => this is n o tm with cost 16.5726837179 + 9.96040796641\n",
        "  Action (12, 1) => this is no t m with cost 16.5726837179 + 10.4692056916\n",
        "  Action (0, 0) => thisis no tm with cost 16.5726837179 + 10.969440566\n",
        "  Action (1, 0) => this isno tm with cost 16.5726837179 + 8.61926300728\n",
        "  Action (2, 0) => this is notm with cost 16.5726837179 + 5.12463438879\n",
        "Exploring this isn with pastCost 16.6169155082\n",
        "  Action (0, 1) => this isno with cost 16.6169155082 + 0.0\n",
        "  Action (1, 1) => t his isno with cost 16.6169155082 + 10.473333563\n",
        "  Action (2, 1) => th is isno with cost 16.6169155082 + 9.86747758774\n",
        "  Action (3, 1) => thi s isno with cost 16.6169155082 + 28.008142764\n",
        "  Action (6, 1) => this i sno with cost 16.6169155082 + 4.83525677784\n",
        "  Action (7, 1) => this is no with cost 16.6169155082 + -11.7372129136\n",
        "  Action (8, 1) => this isn o with cost 16.6169155082 + 7.94583276098\n",
        "  Action (0, 0) => thisisno with cost 16.6169155082 + 0.171748181843\n",
        "Exploring this isno with pastCost 16.6169155082\n",
        "  Action (0, 1) => this isnot with cost 16.6169155082 + 0.0\n",
        "  Action (1, 1) => t his isnot with cost 16.6169155082 + 10.473333563\n",
        "  Action (2, 1) => th is isnot with cost 16.6169155082 + 9.86747758774\n",
        "  Action (3, 1) => thi s isnot with cost 16.6169155082 + 28.008142764\n",
        "  Action (6, 1) => this i snot with cost 16.6169155082 + 4.83525677784\n",
        "  Action (7, 1) => this is not with cost 16.6169155082 + -12.9202467074\n",
        "  Action (8, 1) => this isn ot with cost 16.6169155082 + 22.7902848586\n",
        "  Action (9, 1) => this isno t with cost 16.6169155082 + 11.6929811232\n",
        "  Action (0, 0) => thisisnot with cost 16.6169155082 + 2.06886816673\n",
        "Exploring this isnot with pastCost 16.6169155082\n",
        "  Action (0, 1) => this isnotm with cost 16.6169155082 + 1.89711998489\n",
        "  Action (1, 1) => t his isnotm with cost 16.6169155082 + 12.3704535479\n",
        "  Action (2, 1) => th is isnotm with cost 16.6169155082 + 11.7645975726\n",
        "  Action (3, 1) => thi s isnotm with cost 16.6169155082 + 29.9052627489\n",
        "  Action (6, 1) => this i snotm with cost 16.6169155082 + 4.83525677784\n",
        "  Action (7, 1) => this is notm with cost 16.6169155082 + 5.08040259845\n",
        "  Action (8, 1) => this isn otm with cost 16.6169155082 + 22.7902848586\n",
        "  Action (9, 1) => this isno tm with cost 16.6169155082 + 8.57503121694\n",
        "  Action (10, 1) => this isnot m with cost 16.6169155082 + 10.4692056916\n",
        "  Action (0, 0) => thisisnotm with cost 16.6169155082 + 3.96598815161\n",
        "Exploring t h i with pastCost 16.7513814524\n",
        "  Action (0, 1) => t h is with cost 16.7513814524 + 0.245145820608\n",
        "  Action (5, 1) => t h i s with cost 16.7513814524 + 10.7374696782\n",
        "  Action (0, 0) => th is with cost 16.7513814524 + -13.057273215\n",
        "  Action (1, 0) => t his with cost 16.7513814524 + -12.4514172398\n",
        "Exploring thisisno with pastCost 16.7886636901\n",
        "  Action (0, 1) => thisisnot with cost 16.7886636901 + 1.89711998489\n",
        "  Action (1, 1) => t hisisnot with cost 16.7886636901 + 11.6929811232\n",
        "  Action (2, 1) => th isisnot with cost 16.7886636901 + 8.40956677721\n",
        "  Action (3, 1) => thi sisnot with cost 16.7886636901 + 18.9960448889\n",
        "  Action (4, 1) => this isnot with cost 16.7886636901 + -0.171748181843\n",
        "  Action (5, 1) => thisi snot with cost 16.7886636901 + 17.098924904\n",
        "  Action (6, 1) => thisis not with cost 16.7886636901 + 0.995395582955\n",
        "  Action (7, 1) => thisisn ot with cost 16.7886636901 + 20.8931648737\n",
        "  Action (8, 1) => thisisno t with cost 16.7886636901 + 11.6929811232\n",
        "Exploring t h is with pastCost 16.996527273\n",
        "  Action (0, 1) => t h isi with cost 16.996527273 + 17.7098822602\n",
        "  Action (5, 1) => t h i si with cost 16.996527273 + 11.6709788539\n",
        "  Action (6, 1) => t h is i with cost 16.996527273 + 4.83525677784\n",
        "  Action (0, 0) => th isi with cost 16.996527273 + 4.40746322452\n",
        "  Action (1, 0) => t hisi with cost 16.996527273 + 5.79375758564\n",
        "Exploring thisis not with pastCost 17.784059273\n",
        "  Action (0, 1) => thisis notm with cost 17.784059273 + 18.0006493059\n",
        "  Action (1, 1) => t hisis notm with cost 17.784059273 + 27.7965104442\n",
        "  Action (2, 1) => th isis notm with cost 17.784059273 + 26.4102160831\n",
        "  Action (3, 1) => thi sis notm with cost 17.784059273 + 38.8938141796\n",
        "  Action (4, 1) => this is notm with cost 17.784059273 + 3.91325883365\n",
        "  Action (5, 1) => thisi s notm with cost 17.784059273 + 26.8409989992\n",
        "  Action (8, 1) => thisis n otm with cost 17.784059273 + 29.1058437642\n",
        "  Action (9, 1) => thisis no tm with cost 17.784059273 + 9.75806501083\n",
        "  Action (10, 1) => thisis not m with cost 17.784059273 + 10.4692056916\n",
        "  Action (0, 0) => thisisnotm with cost 17.784059273 + 2.79884438682\n",
        "Exploring this is n o with pastCost 17.9580604673\n",
        "  Action (0, 1) => this is n ot with cost 17.9580604673 + 14.8444520976\n",
        "  Action (1, 1) => t his is n ot with cost 17.9580604673 + 25.3177856607\n",
        "  Action (2, 1) => th is is n ot with cost 17.9580604673 + 24.7119296854\n",
        "  Action (3, 1) => thi s is n ot with cost 17.9580604673 + 42.8525948617\n",
        "  Action (6, 1) => this i s n ot with cost 17.9580604673 + 25.3367759552\n",
        "  Action (11, 1) => this is n o t with cost 17.9580604673 + 11.6929811232\n",
        "  Action (0, 0) => thisis n ot with cost 17.9580604673 + 28.9318425699\n",
        "  Action (1, 0) => this isn ot with cost 17.9580604673 + 21.4491398995\n",
        "  Action (2, 0) => this is not with cost 17.9580604673 + -14.2613916666\n",
        "Exploring this isnotm with pastCost 18.5140354931\n",
        "  Action (0, 1) => this isnotmy with cost 18.5140354931 + 1.89711998489\n",
        "  Action (1, 1) => t his isnotmy with cost 18.5140354931 + 12.3704535479\n",
        "  Action (2, 1) => th is isnotmy with cost 18.5140354931 + 11.7645975726\n",
        "  Action (3, 1) => thi s isnotmy with cost 18.5140354931 + 29.9052627489\n",
        "  Action (6, 1) => this i snotmy with cost 18.5140354931 + 4.83525677784\n",
        "  Action (7, 1) => this is notmy with cost 18.5140354931 + 3.18328261357\n",
        "  Action (8, 1) => this isn otmy with cost 18.5140354931 + 20.8931648737\n",
        "  Action (9, 1) => this isno tmy with cost 18.5140354931 + 20.8931648737\n",
        "  Action (10, 1) => this isnot my with cost 18.5140354931 + 4.03632864857\n",
        "  Action (11, 1) => this isnotm y with cost 18.5140354931 + 11.9161246745\n",
        "  Action (0, 0) => thisisnotmy with cost 18.5140354931 + 3.96598815161\n",
        "Exploring thisisnot with pastCost 18.685783675\n",
        "  Action (0, 1) => thisisnotm with cost 18.685783675 + 1.89711998489\n",
        "  Action (1, 1) => t hisisnotm with cost 18.685783675 + 11.6929811232\n",
        "  Action (2, 1) => th isisnotm with cost 18.685783675 + 8.40956677721\n",
        "  Action (3, 1) => thi sisnotm with cost 18.685783675 + 18.9960448889\n",
        "  Action (4, 1) => this isnotm with cost 18.685783675 + -0.171748181843\n",
        "  Action (5, 1) => thisi snotm with cost 18.685783675 + 15.2018049191\n",
        "  Action (6, 1) => thisis notm with cost 18.685783675 + 17.098924904\n",
        "  Action (7, 1) => thisisn otm with cost 18.685783675 + 18.9960448889\n",
        "  Action (8, 1) => thisisno tm with cost 18.685783675 + 6.67791123206\n",
        "  Action (9, 1) => thisisnot m with cost 18.685783675 + 10.4692056916\n",
        "Exploring thisis no with pastCost 18.9670930669\n",
        "  Action (0, 1) => thisis not with cost 18.9670930669 + -1.18303379389\n",
        "  Action (1, 1) => t hisis not with cost 18.9670930669 + 8.61282734445\n",
        "  Action (2, 1) => th isis not with cost 18.9670930669 + 7.22653298333\n",
        "  Action (3, 1) => thi sis not with cost 18.9670930669 + 19.7101310799\n",
        "  Action (4, 1) => this is not with cost 18.9670930669 + -15.2704242661\n",
        "  Action (5, 1) => thisi s not with cost 18.9670930669 + 7.65731589942\n",
        "  Action (8, 1) => thisis n ot with cost 18.9670930669 + 27.9228099703\n",
        "  Action (9, 1) => thisis no t with cost 18.9670930669 + 11.6929811232\n",
        "  Action (0, 0) => thisisnot with cost 18.9670930669 + -0.281309391956\n",
        "Exploring th i s i with pastCost 19.0216888728\n",
        "  Action (0, 1) => th i s is with cost 19.0216888728 + 0.245145820608\n",
        "  Action (1, 1) => t h i s is with cost 19.0216888728 + 13.5475648563\n",
        "  Action (8, 1) => th i s i s with cost 19.0216888728 + 10.7374696782\n",
        "  Action (0, 0) => thi s is with cost 19.0216888728 + 7.89348713929\n",
        "  Action (1, 0) => th is is with cost 19.0216888728 + -10.247178037\n",
        "  Action (2, 0) => th i sis with cost 19.0216888728 + 7.21755840259\n",
        "Exploring th i s is with pastCost 19.2668346934\n",
        "  Action (0, 1) => th i s isn with cost 19.2668346934 + 17.7098822602\n",
        "  Action (1, 1) => t h i s isn with cost 19.2668346934 + 31.0123012958\n",
        "  Action (8, 1) => th i s i sn with cost 19.2668346934 + 22.545139038\n",
        "  Action (9, 1) => th i s is n with cost 19.2668346934 + 11.1051944583\n",
        "  Action (0, 0) => thi s isn with cost 19.2668346934 + 25.3582235789\n",
        "  Action (1, 0) => th is isn with cost 19.2668346934 + 7.21755840259\n",
        "  Action (2, 0) => th i sisn with cost 19.2668346934 + 6.97241258198\n",
        "Exploring th is i s with pastCost 19.2668346934\n",
        "  Action (0, 1) => th is i sn with cost 19.2668346934 + 12.0528151804\n",
        "  Action (1, 1) => t h is i sn with cost 19.2668346934 + 25.3552342161\n",
        "  Action (4, 1) => th i s i sn with cost 19.2668346934 + 22.545139038\n",
        "  Action (9, 1) => th is i s n with cost 19.2668346934 + 11.1051944583\n",
        "  Action (0, 0) => this i sn with cost 19.2668346934 + 2.1853375927\n",
        "  Action (1, 0) => th isi sn with cost 19.2668346934 + 24.9274406628\n",
        "  Action (2, 0) => th is isn with cost 19.2668346934 + 7.21755840259"
       ]
      },
      {
       "output_type": "stream",
       "stream": "stdout",
       "text": [
        "\n",
        "Exploring th is is not my with pastCost 19.497595022\n",
        "  Action (0, 1) => th is is not myh with cost 19.497595022 + 16.8568362252\n",
        "  Action (1, 1) => t h is is not myh with cost 19.497595022 + 30.1592552608\n",
        "  Action (4, 1) => th i s is not myh with cost 19.497595022 + 27.3491600828\n",
        "  Action (7, 1) => th is i s not myh with cost 19.497595022 + 27.3491600828\n",
        "  Action (10, 1) => th is is n ot myh with cost 19.497595022 + 45.9626799894\n",
        "  Action (11, 1) => th is is no t myh with cost 19.497595022 + 29.7328511423\n",
        "  Action (14, 1) => th is is not m yh with cost 19.497595022 + 27.3260419168\n",
        "  Action (15, 1) => th is is not my h with cost 19.497595022 + 11.9161246745\n",
        "  Action (0, 0) => this is not myh with cost 19.497595022 + 6.98935863743\n",
        "  Action (1, 0) => th isis not myh with cost 19.497595022 + 29.4863158869\n",
        "  Action (2, 0) => th is isnot myh with cost 19.497595022 + 29.7770829326\n",
        "  Action (3, 0) => th is is notmyh with cost 19.497595022 + 13.9643206573\n",
        "Exploring t his i s with pastCost 19.8726906686\n",
        "  Action (0, 1) => t his i sn with cost 19.8726906686 + 12.0528151804\n",
        "  Action (3, 1) => t h is i sn with cost 19.8726906686 + 24.7493782408\n",
        "  Action (4, 1) => t hi s i sn with cost 19.8726906686 + 31.0995925011\n",
        "  Action (9, 1) => t his i s n with cost 19.8726906686 + 11.1051944583\n",
        "  Action (0, 0) => this i sn with cost 19.8726906686 + 1.57948161743\n",
        "  Action (1, 0) => t hisi sn with cost 19.8726906686 + 25.7078790486\n",
        "  Action (2, 0) => t his isn with cost 19.8726906686 + 7.21755840259\n",
        "Exploring th is is n with pastCost 19.8797052941\n",
        "  Action (0, 1) => th is is no with cost 19.8797052941 + -5.13252511171\n",
        "  Action (1, 1) => t h is is no with cost 19.8797052941 + 8.16989392395\n",
        "  Action (4, 1) => th i s is no with cost 19.8797052941 + 5.35979874588\n",
        "  Action (7, 1) => th is i s no with cost 19.8797052941 + 5.35979874588\n",
        "  Action (10, 1) => th is is n o with cost 19.8797052941 + 7.94583276098\n",
        "  Action (0, 0) => this is no with cost 19.8797052941 + -15.0000026994\n",
        "  Action (1, 0) => th isis no with cost 19.8797052941 + 7.49695455002\n",
        "  Action (2, 0) => th is isno with cost 19.8797052941 + 6.60468780186\n",
        "Exploring t his is not my with pastCost 20.1034509972\n",
        "  Action (0, 1) => t his is not myh with cost 20.1034509972 + 16.8568362252\n",
        "  Action (3, 1) => t h is is not myh with cost 20.1034509972 + 29.5533992856\n",
        "  Action (4, 1) => t hi s is not myh with cost 20.1034509972 + 35.9036135459\n",
        "  Action (7, 1) => t his i s not myh with cost 20.1034509972 + 27.3491600828\n",
        "  Action (10, 1) => t his is n ot myh with cost 20.1034509972 + 45.9626799894\n",
        "  Action (11, 1) => t his is no t myh with cost 20.1034509972 + 29.7328511423\n",
        "  Action (14, 1) => t his is not m yh with cost 20.1034509972 + 27.3260419168\n",
        "  Action (15, 1) => t his is not my h with cost 20.1034509972 + 11.9161246745\n",
        "  Action (0, 0) => this is not myh with cost 20.1034509972 + 6.38350266216\n",
        "  Action (1, 0) => t hisis not myh with cost 20.1034509972 + 30.2667542727\n",
        "  Action (2, 0) => t his isnot myh with cost 20.1034509972 + 29.7770829326\n",
        "  Action (3, 0) => t his is notmyh with cost 20.1034509972 + 13.9643206573\n",
        "Exploring this i s not my with pastCost 20.1224412918\n",
        "  Action (0, 1) => this i s not myh with cost 20.1224412918 + 16.8568362252\n",
        "  Action (1, 1) => t his i s not myh with cost 20.1224412918 + 27.3301697882\n",
        "  Action (2, 1) => th is i s not myh with cost 20.1224412918 + 26.7243138129\n",
        "  Action (3, 1) => thi s i s not myh with cost 20.1224412918 + 44.8649789892\n",
        "  Action (10, 1) => this i s n ot myh with cost 20.1224412918 + 45.9626799894\n",
        "  Action (11, 1) => this i s no t myh with cost 20.1224412918 + 29.7328511423\n",
        "  Action (14, 1) => this i s not m yh with cost 20.1224412918 + 27.3260419168\n",
        "  Action (15, 1) => this i s not my h with cost 20.1224412918 + 11.9161246745\n",
        "  Action (0, 0) => thisi s not myh with cost 20.1224412918 + 29.2922525331\n",
        "  Action (1, 0) => this is not myh with cost 20.1224412918 + 6.36451236758\n",
        "  Action (2, 0) => this i snot myh with cost 20.1224412918 + 24.1200158529\n",
        "  Action (3, 0) => this i s notmyh with cost 20.1224412918 + 13.9643206573\n",
        "Exploring this isnotmy with pastCost 20.411155478\n",
        "  Action (0, 1) => this isnotmyh with cost 20.411155478 + 1.89711998489\n",
        "  Action (1, 1) => t his isnotmyh with cost 20.411155478 + 12.3704535479\n",
        "  Action (2, 1) => th is isnotmyh with cost 20.411155478 + 11.7645975726\n",
        "  Action (3, 1) => thi s isnotmyh with cost 20.411155478 + 29.9052627489\n",
        "  Action (6, 1) => this i snotmyh with cost 20.411155478 + 4.83525677784\n",
        "  Action (7, 1) => this is notmyh with cost 20.411155478 + 3.18328261357\n",
        "  Action (8, 1) => this isn otmyh with cost 20.411155478 + 18.9960448889\n",
        "  Action (9, 1) => this isno tmyh with cost 20.411155478 + 18.9960448889\n",
        "  Action (10, 1) => this isnot myh with cost 20.411155478 + 18.9960448889\n",
        "  Action (11, 1) => this isnotm yh with cost 20.411155478 + 20.8931648737\n",
        "  Action (12, 1) => this isnotmy h with cost 20.411155478 + 11.9161246745\n",
        "  Action (0, 0) => thisisnotmyh with cost 20.411155478 + 3.96598815161\n",
        "Exploring t his is n with pastCost 20.4855612694\n",
        "  Action (0, 1) => t his is no with cost 20.4855612694 + -5.13252511171\n",
        "  Action (3, 1) => t h is is no with cost 20.4855612694 + 7.56403794868\n",
        "  Action (4, 1) => t hi s is no with cost 20.4855612694 + 13.914252209\n",
        "  Action (7, 1) => t his i s no with cost 20.4855612694 + 5.35979874588\n",
        "  Action (10, 1) => t his is n o with cost 20.4855612694 + 7.94583276098\n",
        "  Action (0, 0) => this is no with cost 20.4855612694 + -15.6058586747\n",
        "  Action (1, 0) => t hisis no with cost 20.4855612694 + 8.27739293587\n",
        "  Action (2, 0) => t his isno with cost 20.4855612694 + 6.60468780186\n",
        "Exploring this i s n with pastCost 20.504551564\n",
        "  Action (0, 1) => this i s no with cost 20.504551564 + -5.13252511171\n",
        "  Action (1, 1) => t his i s no with cost 20.504551564 + 5.3408084513\n",
        "  Action (2, 1) => th is i s no with cost 20.504551564 + 4.73495247603\n",
        "  Action (3, 1) => thi s i s no with cost 20.504551564 + 22.8756176523\n",
        "  Action (10, 1) => this i s n o with cost 20.504551564 + 7.94583276098\n",
        "  Action (0, 0) => thisi s no with cost 20.504551564 + 7.30289119626\n",
        "  Action (1, 0) => this is no with cost 20.504551564 + -15.6248489693\n",
        "  Action (2, 0) => this i sno with cost 20.504551564 + 0.947620722116\n",
        "Exploring thisisnotm with pastCost 20.5829036598\n",
        "  Action (0, 1) => thisisnotmy with cost 20.5829036598 + 1.89711998489\n",
        "  Action (1, 1) => t hisisnotmy with cost 20.5829036598 + 11.6929811232\n",
        "  Action (2, 1) => th isisnotmy with cost 20.5829036598 + 8.40956677721\n",
        "  Action (3, 1) => thi sisnotmy with cost 20.5829036598 + 18.9960448889\n",
        "  Action (4, 1) => this isnotmy with cost 20.5829036598 + -0.171748181843\n",
        "  Action (5, 1) => thisi snotmy with cost 20.5829036598 + 15.2018049191\n",
        "  Action (6, 1) => thisis notmy with cost 20.5829036598 + 15.2018049191\n",
        "  Action (7, 1) => thisisn otmy with cost 20.5829036598 + 17.098924904\n",
        "  Action (8, 1) => thisisno tmy with cost 20.5829036598 + 18.9960448889\n",
        "  Action (9, 1) => thisisnot my with cost 20.5829036598 + 4.03632864857\n",
        "  Action (10, 1) => thisisnotm y with cost 20.5829036598 + 11.9161246745\n",
        "Exploring th isi with pastCost 21.4039904975\n",
        "  Action (0, 1) => th isis with cost 21.4039904975 + 0.0\n",
        "  Action (1, 1) => t h isis with cost 21.4039904975 + 13.3024190357\n",
        "  Action (4, 1) => th i sis with cost 21.4039904975 + 4.83525677784\n",
        "  Action (5, 1) => th is is with cost 21.4039904975 + -12.6294796617\n",
        "  Action (6, 1) => th isi s with cost 21.4039904975 + 10.7374696782\n",
        "  Action (0, 0) => thisis with cost 21.4039904975 + -8.40956677721\n",
        "Exploring th isis with pastCost 21.4039904975\n",
        "  Action (0, 1) => th isisn with cost 21.4039904975 + 0.0\n",
        "  Action (1, 1) => t h isisn with cost 21.4039904975 + 13.3024190357\n",
        "  Action (4, 1) => th i sisn with cost 21.4039904975 + 4.83525677784\n",
        "  Action (5, 1) => th is isn with cost 21.4039904975 + 5.08040259845\n",
        "  Action (6, 1) => th isi sn with cost 21.4039904975 + 22.7902848586\n",
        "  Action (7, 1) => th isis n with cost 21.4039904975 + 11.1051944583\n",
        "  Action (0, 0) => thisisn with cost 21.4039904975 + -6.51244679233\n",
        "Exploring th isisn with pastCost 21.4039904975\n",
        "  Action (0, 1) => th isisno with cost 21.4039904975 + 1.89711998489\n",
        "  Action (1, 1) => t h isisno with cost 21.4039904975 + 15.1995390205\n",
        "  Action (4, 1) => th i sisno with cost 21.4039904975 + 4.83525677784\n",
        "  Action (5, 1) => th is isno with cost 21.4039904975 + 5.08040259845\n",
        "  Action (6, 1) => th isi sno with cost 21.4039904975 + 22.7902848586\n",
        "  Action (7, 1) => th isis no with cost 21.4039904975 + 5.97266934661\n",
        "  Action (8, 1) => th isisn o with cost 21.4039904975 + 7.94583276098\n",
        "  Action (0, 0) => thisisno with cost 21.4039904975 + -4.61532680744\n",
        "Exploring this i sno with pastCost 21.4521722861\n",
        "  Action (0, 1) => this i snot with cost 21.4521722861 + 0.0\n",
        "  Action (1, 1) => t his i snot with cost 21.4521722861 + 10.473333563\n",
        "  Action (2, 1) => th is i snot with cost 21.4521722861 + 9.86747758774\n",
        "  Action (3, 1) => thi s i snot with cost 21.4521722861 + 28.008142764\n",
        "  Action (8, 1) => this i s not with cost 21.4521722861 + -7.26317962771\n",
        "  Action (9, 1) => this i sn ot with cost 21.4521722861 + 22.7902848586\n",
        "  Action (10, 1) => this i sno t with cost 21.4521722861 + 11.6929811232\n",
        "  Action (0, 0) => thisi snot with cost 21.4521722861 + 12.435416308\n",
        "  Action (1, 0) => this isnot with cost 21.4521722861 + -4.83525677784\n",
        "Exploring this i snot with pastCost 21.4521722861\n",
        "  Action (0, 1) => this i snotm with cost 21.4521722861 + 0.0\n",
        "  Action (1, 1) => t his i snotm with cost 21.4521722861 + 10.473333563\n",
        "  Action (2, 1) => th is i snotm with cost 21.4521722861 + 9.86747758774\n",
        "  Action (3, 1) => thi s i snotm with cost 21.4521722861 + 28.008142764\n",
        "  Action (8, 1) => this i s notm with cost 21.4521722861 + 10.7374696782\n",
        "  Action (9, 1) => this i sn otm with cost 21.4521722861 + 22.7902848586\n",
        "  Action (10, 1) => this i sno tm with cost 21.4521722861 + 8.57503121694\n",
        "  Action (11, 1) => this i snot m with cost 21.4521722861 + 10.4692056916\n",
        "  Action (0, 0) => thisi snotm with cost 21.4521722861 + 12.435416308\n",
        "  Action (1, 0) => this isnotm with cost 21.4521722861 + -2.93813679296\n",
        "Exploring this i snotm with pastCost 21.4521722861\n",
        "  Action (0, 1) => this i snotmy with cost 21.4521722861 + 1.89711998489\n",
        "  Action (1, 1) => t his i snotmy with cost 21.4521722861 + 12.3704535479\n",
        "  Action (2, 1) => th is i snotmy with cost 21.4521722861 + 11.7645975726\n",
        "  Action (3, 1) => thi s i snotmy with cost 21.4521722861 + 29.9052627489\n",
        "  Action (8, 1) => this i s notmy with cost 21.4521722861 + 10.7374696782\n",
        "  Action (9, 1) => this i sn otmy with cost 21.4521722861 + 22.7902848586\n",
        "  Action (10, 1) => this i sno tmy with cost 21.4521722861 + 22.7902848586\n",
        "  Action (11, 1) => this i snot my with cost 21.4521722861 + 5.93344863346\n",
        "  Action (12, 1) => this i snotm y with cost 21.4521722861 + 11.9161246745\n",
        "  Action (0, 0) => thisi snotmy with cost 21.4521722861 + 14.3325362929\n",
        "  Action (1, 0) => this isnotmy with cost 21.4521722861 + -1.04101680807\n",
        "Exploring this i sn with pastCost 21.4521722861\n",
        "  Action (0, 1) => this i sno with cost 21.4521722861 + 0.0\n",
        "  Action (1, 1) => t his i sno with cost 21.4521722861 + 10.473333563\n",
        "  Action (2, 1) => th is i sno with cost 21.4521722861 + 9.86747758774\n",
        "  Action (3, 1) => thi s i sno with cost 21.4521722861 + 28.008142764\n",
        "  Action (8, 1) => this i s no with cost 21.4521722861 + -6.08014583382\n",
        "  Action (9, 1) => this i sn o with cost 21.4521722861 + 7.94583276098\n",
        "  Action (0, 0) => thisi sno with cost 21.4521722861 + 12.435416308\n",
        "  Action (1, 0) => this isno with cost 21.4521722861 + -4.83525677784\n",
        "Exploring this is not my h with pastCost 21.5462421088\n",
        "  Action (0, 1) => this is not my ho with cost 21.5462421088 + -1.6582280766\n",
        "  Action (1, 1) => t his is not my ho with cost 21.5462421088 + 8.81510548641\n",
        "  Action (2, 1) => th is is not my ho with cost 21.5462421088 + 8.20924951113\n",
        "  Action (3, 1) => thi s is not my ho with cost 21.5462421088 + 26.3499146874\n",
        "  Action (6, 1) => this i s not my ho with cost 21.5462421088 + 8.83409578098\n",
        "  Action (9, 1) => this is n ot my ho with cost 21.5462421088 + 27.4476156876\n",
        "  Action (10, 1) => this is no t my ho with cost 21.5462421088 + 11.2177868405\n",
        "  Action (13, 1) => this is not m y ho with cost 21.5462421088 + 14.7936536561\n",
        "  Action (16, 1) => this is not my h o with cost 21.5462421088 + 7.94583276098\n",
        "  Action (0, 0) => thisis not my ho with cost 21.5462421088 + 12.4291623956\n",
        "  Action (1, 0) => this isnot my ho with cost 21.5462421088 + 11.2620186308\n",
        "  Action (2, 0) => this is notmy ho with cost 21.5462421088 + 10.4089725958\n",
        "  Action (3, 0) => this is not myho with cost 21.5462421088 + 4.94071155063\n",
        "Exploring this is not my ho with pastCost 19.8880140322\n",
        "  Action (0, 1) => this is not my hou with cost 19.8880140322 + 12.5323882607"
       ]
      },
      {
       "output_type": "stream",
       "stream": "stdout",
       "text": [
        "\n",
        "  Action (1, 1) => t his is not my hou with cost 19.8880140322 + 23.0057218237\n",
        "  Action (2, 1) => th is is not my hou with cost 19.8880140322 + 22.3998658484\n",
        "  Action (3, 1) => thi s is not my hou with cost 19.8880140322 + 40.5405310247\n",
        "  Action (6, 1) => this i s not my hou with cost 19.8880140322 + 23.0247121183\n",
        "  Action (9, 1) => this is n ot my hou with cost 19.8880140322 + 41.6382320249\n",
        "  Action (10, 1) => this is no t my hou with cost 19.8880140322 + 25.4084031778\n",
        "  Action (13, 1) => this is not m y hou with cost 19.8880140322 + 28.9842699934\n",
        "  Action (16, 1) => this is not my h ou with cost 19.8880140322 + 13.8620348236\n",
        "  Action (17, 1) => this is not my ho u with cost 19.8880140322 + 12.203806747\n",
        "  Action (0, 0) => thisis not my hou with cost 19.8880140322 + 26.6197787329\n",
        "  Action (1, 0) => this isnot my hou with cost 19.8880140322 + 25.4526349681\n",
        "  Action (2, 0) => this is notmy hou with cost 19.8880140322 + 24.5995889331\n",
        "  Action (3, 0) => this is not myhou with cost 19.8880140322 + 6.59893962724\n",
        "Exploring this is notm with pastCost 21.6973181067\n",
        "  Action (0, 1) => this is notmy with cost 21.6973181067 + 0.0\n",
        "  Action (1, 1) => t his is notmy with cost 21.6973181067 + 10.473333563\n",
        "  Action (2, 1) => th is is notmy with cost 21.6973181067 + 9.86747758774\n",
        "  Action (3, 1) => thi s is notmy with cost 21.6973181067 + 28.008142764\n",
        "  Action (6, 1) => this i s notmy with cost 21.6973181067 + 10.4923238576\n",
        "  Action (9, 1) => this is n otmy with cost 21.6973181067 + 11.1051944583\n",
        "  Action (10, 1) => this is no tmy with cost 21.6973181067 + 5.97266934661\n",
        "  Action (11, 1) => this is not my with cost 21.6973181067 + -12.0672006724\n",
        "  Action (12, 1) => this is notm y with cost 21.6973181067 + 11.9161246745\n",
        "  Action (0, 0) => thisis notmy with cost 21.6973181067 + 14.0873904722\n",
        "  Action (1, 0) => this isnotmy with cost 21.6973181067 + -1.28616262868\n",
        "Exploring this is notmy with pastCost 21.6973181067\n",
        "  Action (0, 1) => this is notmyh with cost 21.6973181067 + 1.89711998489\n",
        "  Action (1, 1) => t his is notmyh with cost 21.6973181067 + 12.3704535479\n",
        "  Action (2, 1) => th is is notmyh with cost 21.6973181067 + 11.7645975726\n",
        "  Action (3, 1) => thi s is notmyh with cost 21.6973181067 + 29.9052627489\n",
        "  Action (6, 1) => this i s notmyh with cost 21.6973181067 + 12.3894438425\n",
        "  Action (9, 1) => this is n otmyh with cost 21.6973181067 + 11.1051944583\n",
        "  Action (10, 1) => this is no tmyh with cost 21.6973181067 + 5.97266934661\n",
        "  Action (11, 1) => this is not myh with cost 21.6973181067 + 4.78963555273\n",
        "  Action (12, 1) => this is notm yh with cost 21.6973181067 + 22.7902848586\n",
        "  Action (13, 1) => this is notmy h with cost 21.6973181067 + 11.9161246745\n",
        "  Action (0, 0) => thisis notmyh with cost 21.6973181067 + 15.9845104571\n",
        "  Action (1, 0) => this isnotmyh with cost 21.6973181067 + 0.610957356205\n",
        "Exploring t h is i with pastCost 21.8317840508\n",
        "  Action (0, 1) => t h is is with cost 21.8317840508 + 0.245145820608\n",
        "  Action (5, 1) => t h i s is with cost 21.8317840508 + 10.7374696782\n",
        "  Action (8, 1) => t h is i s with cost 21.8317840508 + 10.7374696782\n",
        "  Action (0, 0) => th is is with cost 21.8317840508 + -13.057273215\n",
        "  Action (1, 0) => t his is with cost 21.8317840508 + -12.4514172398\n",
        "  Action (2, 0) => t h isis with cost 21.8317840508 + 12.8746254823\n",
        "Exploring thi s with pastCost 21.8347734136\n",
        "  Action (0, 1) => thi si with cost 21.8347734136 + 1.17865499634\n",
        "  Action (1, 1) => t hi si with cost 21.8347734136 + 2.69062311603\n",
        "  Action (2, 1) => th i si with cost 21.8347734136 + -6.46968632234\n",
        "  Action (5, 1) => thi s i with cost 21.8347734136 + 4.83525677784\n",
        "  Action (0, 0) => thisi with cost 21.8347734136 + -10.7374696782\n",
        "Exploring thisi s with pastCost 21.8347734136\n",
        "  Action (0, 1) => thisi sn with cost 21.8347734136 + 12.0528151804\n",
        "  Action (1, 1) => t hisi sn with cost 21.8347734136 + 23.7457963037\n",
        "  Action (2, 1) => th isi sn with cost 21.8347734136 + 22.3595019425\n",
        "  Action (3, 1) => thi si sn with cost 21.8347734136 + 23.968939855\n",
        "  Action (4, 1) => this i sn with cost 21.8347734136 + -0.382601127534\n",
        "  Action (7, 1) => thisi s n with cost 21.8347734136 + 11.1051944583\n",
        "  Action (0, 0) => thisisn with cost 21.8347734136 + -6.94322970842\n",
        "Exploring t h is is with pastCost 22.0769298714\n",
        "  Action (0, 1) => t h is isn with cost 22.0769298714 + 17.7098822602\n",
        "  Action (5, 1) => t h i s isn with cost 22.0769298714 + 28.2022061178\n",
        "  Action (8, 1) => t h is i sn with cost 22.0769298714 + 22.545139038\n",
        "  Action (9, 1) => t h is is n with cost 22.0769298714 + 11.1051944583\n",
        "  Action (0, 0) => th is isn with cost 22.0769298714 + 4.40746322452\n",
        "  Action (1, 0) => t his isn with cost 22.0769298714 + 5.01331919979\n",
        "  Action (2, 0) => t h isisn with cost 22.0769298714 + 12.6294796617\n",
        "Exploring this isnotmyh with pastCost 22.3082754629\n",
        "  Action (0, 1) => this isnotmyho with cost 22.3082754629 + 1.89711998489\n",
        "  Action (1, 1) => t his isnotmyho with cost 22.3082754629 + 12.3704535479\n",
        "  Action (2, 1) => th is isnotmyho with cost 22.3082754629 + 11.7645975726\n",
        "  Action (3, 1) => thi s isnotmyho with cost 22.3082754629 + 29.9052627489\n",
        "  Action (6, 1) => this i snotmyho with cost 22.3082754629 + 4.83525677784\n",
        "  Action (7, 1) => this is notmyho with cost 22.3082754629 + 3.18328261357\n",
        "  Action (8, 1) => this isn otmyho with cost 22.3082754629 + 18.9960448889\n",
        "  Action (9, 1) => this isno tmyho with cost 22.3082754629 + 17.098924904\n",
        "  Action (10, 1) => this isnot myho with cost 22.3082754629 + 17.098924904\n",
        "  Action (11, 1) => this isnotm yho with cost 22.3082754629 + 18.9960448889\n",
        "  Action (12, 1) => this isnotmy ho with cost 22.3082754629 + 8.36077661305\n",
        "  Action (13, 1) => this isnotmyh o with cost 22.3082754629 + 7.94583276098\n",
        "  Action (0, 0) => thisisnotmyho with cost 22.3082754629 + 3.96598815161\n",
        "Exploring thisisnotmy with pastCost 22.4800236447\n",
        "  Action (0, 1) => thisisnotmyh with cost 22.4800236447 + 1.89711998489\n",
        "  Action (1, 1) => t hisisnotmyh with cost 22.4800236447 + 11.6929811232\n",
        "  Action (2, 1) => th isisnotmyh with cost 22.4800236447 + 8.40956677721\n",
        "  Action (3, 1) => thi sisnotmyh with cost 22.4800236447 + 18.9960448889\n",
        "  Action (4, 1) => this isnotmyh with cost 22.4800236447 + -0.171748181843\n",
        "  Action (5, 1) => thisi snotmyh with cost 22.4800236447 + 15.2018049191\n",
        "  Action (6, 1) => thisis notmyh with cost 22.4800236447 + 15.2018049191\n",
        "  Action (7, 1) => thisisn otmyh with cost 22.4800236447 + 15.2018049191\n",
        "  Action (8, 1) => thisisno tmyh with cost 22.4800236447 + 17.098924904\n",
        "  Action (9, 1) => thisisnot myh with cost 22.4800236447 + 18.9960448889\n",
        "  Action (10, 1) => thisisnotm yh with cost 22.4800236447 + 20.8931648737\n",
        "  Action (11, 1) => thisisnotmy h with cost 22.4800236447 + 11.9161246745\n",
        "Exploring this is no t my with pastCost 22.5061323513\n",
        "  Action (0, 1) => this is no t myh with cost 22.5061323513 + 16.8568362252\n",
        "  Action (1, 1) => t his is no t myh with cost 22.5061323513 + 27.3301697882\n",
        "  Action (2, 1) => th is is no t myh with cost 22.5061323513 + 26.7243138129\n",
        "  Action (3, 1) => thi s is no t myh with cost 22.5061323513 + 44.8649789892\n",
        "  Action (6, 1) => this i s no t myh with cost 22.5061323513 + 27.3491600828\n",
        "  Action (9, 1) => this is n o t myh with cost 22.5061323513 + 29.9351940979\n",
        "  Action (14, 1) => this is no t m yh with cost 22.5061323513 + 27.3260419168\n",
        "  Action (15, 1) => this is no t my h with cost 22.5061323513 + 11.9161246745\n",
        "  Action (0, 0) => thisis no t myh with cost 22.5061323513 + 30.9442266974\n",
        "  Action (1, 0) => this isno t myh with cost 22.5061323513 + 28.5940491387\n",
        "  Action (2, 0) => this is not myh with cost 22.5061323513 + 3.98082130806\n",
        "  Action (3, 0) => this is no tmyh with cost 22.5061323513 + 5.16385510195\n",
        "Exploring this isnot my with pastCost 22.5503641417\n",
        "  Action (0, 1) => this isnot myh with cost 22.5503641417 + 16.8568362252\n",
        "  Action (1, 1) => t his isnot myh with cost 22.5503641417 + 27.3301697882\n",
        "  Action (2, 1) => th is isnot myh with cost 22.5503641417 + 26.7243138129\n",
        "  Action (3, 1) => thi s isnot myh with cost 22.5503641417 + 44.8649789892\n",
        "  Action (6, 1) => this i snot myh with cost 22.5503641417 + 21.692093003\n",
        "  Action (7, 1) => this is not myh with cost 22.5503641417 + 3.93658951772\n",
        "  Action (8, 1) => this isn ot myh with cost 22.5503641417 + 39.6471210838\n",
        "  Action (9, 1) => this isno t myh with cost 22.5503641417 + 28.5498173484\n",
        "  Action (12, 1) => this isnot m yh with cost 22.5503641417 + 27.3260419168\n",
        "  Action (13, 1) => this isnot my h with cost 22.5503641417 + 11.9161246745\n",
        "  Action (0, 0) => thisisnot myh with cost 22.5503641417 + 18.9257043919\n",
        "  Action (1, 0) => this isnotmyh with cost 22.5503641417 + -0.242088678802\n",
        "Exploring t hisi with pastCost 22.7902848586\n",
        "  Action (0, 1) => t hisis with cost 22.7902848586 + 0.0\n",
        "  Action (3, 1) => t h isis with cost 22.7902848586 + 11.9161246745\n",
        "  Action (4, 1) => t hi sis with cost 22.7902848586 + 12.6092718551\n",
        "  Action (5, 1) => t his is with cost 22.7902848586 + -13.4099180476\n",
        "  Action (6, 1) => t hisi s with cost 22.7902848586 + 10.7374696782\n",
        "  Action (0, 0) => thisis with cost 22.7902848586 + -9.79586113833\n",
        "Exploring t hisis with pastCost 22.7902848586\n",
        "  Action (0, 1) => t hisisn with cost 22.7902848586 + 1.89711998489\n",
        "  Action (3, 1) => t h isisn with cost 22.7902848586 + 11.9161246745\n",
        "  Action (4, 1) => t hi sisn with cost 22.7902848586 + 12.6092718551\n",
        "  Action (5, 1) => t his isn with cost 22.7902848586 + 4.2999642126\n",
        "  Action (6, 1) => t hisi sn with cost 22.7902848586 + 22.7902848586\n",
        "  Action (7, 1) => t hisis n with cost 22.7902848586 + 11.1051944583\n",
        "  Action (0, 0) => thisisn with cost 22.7902848586 + -7.89874115345\n",
        "Exploring thisisn o with pastCost 22.8373764662\n",
        "  Action (0, 1) => thisisn ot with cost 22.8373764662 + 14.8444520976\n",
        "  Action (1, 1) => t hisisn ot with cost 22.8373764662 + 24.640313236\n",
        "  Action (2, 1) => th isisn ot with cost 22.8373764662 + 21.35689889\n",
        "  Action (3, 1) => thi sisn ot with cost 22.8373764662 + 33.8404969865\n",
        "  Action (4, 1) => this isn ot with cost 22.8373764662 + 16.5698239007\n",
        "  Action (5, 1) => thisi sn ot with cost 22.8373764662 + 33.8404969865\n",
        "  Action (6, 1) => thisis n ot with cost 22.8373764662 + 24.0525265711\n",
        "  Action (9, 1) => thisisn o t with cost 22.8373764662 + 11.6929811232\n",
        "  Action (0, 0) => thisisnot with cost 22.8373764662 + -4.15159279121\n",
        "Exploring thi si with pastCost 23.0134284099\n",
        "  Action (0, 1) => thi sis with cost 23.0134284099 + 10.8741601841\n",
        "  Action (1, 1) => t hi sis with cost 23.0134284099 + 12.3861283038\n",
        "  Action (2, 1) => th i sis with cost 23.0134284099 + 3.22581886541\n",
        "  Action (5, 1) => thi s is with cost 23.0134284099 + 3.90174760211\n",
        "  Action (6, 1) => thi si s with cost 23.0134284099 + 10.7374696782\n",
        "  Action (0, 0) => thisis with cost 23.0134284099 + -10.0190046896\n",
        "Exploring th isisno with pastCost 23.3011104824\n",
        "  Action (0, 1) => th isisnot with cost 23.3011104824 + 1.89711998489\n",
        "  Action (1, 1) => t h isisnot with cost 23.3011104824 + 15.1995390205\n",
        "  Action (4, 1) => th i sisnot with cost 23.3011104824 + 4.83525677784\n",
        "  Action (5, 1) => th is isnot with cost 23.3011104824 + 3.18328261357\n",
        "  Action (6, 1) => th isi snot with cost 23.3011104824 + 20.8931648737\n",
        "  Action (7, 1) => th isis not with cost 23.3011104824 + 2.89251556784\n",
        "  Action (8, 1) => th isisn ot with cost 23.3011104824 + 20.8931648737\n",
        "  Action (9, 1) => th isisno t with cost 23.3011104824 + 11.6929811232\n",
        "  Action (0, 0) => thisisnot with cost 23.3011104824 + -4.61532680744\n",
        "Exploring th is is no tm with pastCost 23.3222113993\n",
        "  Action (0, 1) => th is is no tmy with cost 23.3222113993 + 14.2152536417\n",
        "  Action (1, 1) => t h is is no tmy with cost 23.3222113993 + 27.5176726773\n",
        "  Action (4, 1) => th i s is no tmy with cost 23.3222113993 + 24.7075774993\n",
        "  Action (7, 1) => th is i s no tmy with cost 23.3222113993 + 24.7075774993\n",
        "  Action (10, 1) => th is is n o tmy with cost 23.3222113993 + 27.2936115144\n",
        "  Action (13, 1) => th is is no t my with cost 23.3222113993 + 9.05139853974\n",
        "  Action (14, 1) => th is is no tm y with cost 23.3222113993 + 11.9161246745\n",
        "  Action (0, 0) => this is no tmy with cost 23.3222113993 + 4.34777605395\n",
        "  Action (1, 0) => th isis no tmy with cost 23.3222113993 + 26.8447333034\n",
        "  Action (2, 0) => th is isno tmy with cost 23.3222113993 + 25.9524665552\n",
        "  Action (3, 0) => th is is notmy with cost 23.3222113993 + 8.24258429507\n",
        "Exploring t hi s with pastCost 23.3467415333\n",
        "  Action (0, 1) => t hi si with cost 23.3467415333 + 1.17865499634\n",
        "  Action (3, 1) => t h i si with cost 23.3467415333 + 5.32076459363\n",
        "  Action (6, 1) => t hi s i with cost 23.3467415333 + 4.83525677784\n",
        "  Action (0, 0) => thi si with cost 23.3467415333 + -0.333313123346\n",
        "  Action (1, 0) => t hisi with cost 23.3467415333 + -0.55645667466\n",
        "Exploring this i snotmy with pastCost 23.349292271\n",
        "  Action (0, 1) => this i snotmyh with cost 23.349292271 + 1.89711998489\n",
        "  Action (1, 1) => t his i snotmyh with cost 23.349292271 + 12.3704535479\n",
        "  Action (2, 1) => th is i snotmyh with cost 23.349292271 + 11.7645975726\n",
        "  Action (3, 1) => thi s i snotmyh with cost 23.349292271 + 29.9052627489\n",
        "  Action (8, 1) => this i s notmyh with cost 23.349292271 + 10.7374696782\n",
        "  Action (9, 1) => this i sn otmyh with cost 23.349292271 + 20.8931648737\n",
        "  Action (10, 1) => this i sno tmyh with cost 23.349292271 + 20.8931648737\n",
        "  Action (11, 1) => this i snot myh with cost 23.349292271 + 20.8931648737\n",
        "  Action (12, 1) => this i snotm yh with cost 23.349292271 + 20.8931648737\n",
        "  Action (13, 1) => this i snotmy h with cost 23.349292271 + 11.9161246745\n",
        "  Action (0, 0) => thisi snotmyh with cost 23.349292271 + 14.3325362929\n",
        "  Action (1, 0) => this isnotmyh with cost 23.349292271 + -1.04101680807\n",
        "Exploring this is notmyh with pastCost 23.5944380916\n",
        "  Action (0, 1) => this is notmyho with cost 23.5944380916 + 1.89711998489\n",
        "  Action (1, 1) => t his is notmyho with cost 23.5944380916 + 12.3704535479\n",
        "  Action (2, 1) => th is is notmyho with cost 23.5944380916 + 11.7645975726\n",
        "  Action (3, 1) => thi s is notmyho with cost 23.5944380916 + 29.9052627489\n",
        "  Action (6, 1) => this i s notmyho with cost 23.5944380916 + 12.3894438425\n",
        "  Action (9, 1) => this is n otmyho with cost 23.5944380916 + 11.1051944583\n",
        "  Action (10, 1) => this is no tmyho with cost 23.5944380916 + 4.07554936173\n",
        "  Action (11, 1) => this is not myho with cost 23.5944380916 + 2.89251556784\n",
        "  Action (12, 1) => this is notm yho with cost 23.5944380916 + 20.8931648737\n",
        "  Action (13, 1) => this is notmy ho with cost 23.5944380916 + 8.36077661305\n",
        "  Action (14, 1) => this is notmyh o with cost 23.5944380916 + 7.94583276098\n",
        "  Action (0, 0) => thisis notmyho with cost 23.5944380916 + 15.9845104571\n",
        "  Action (1, 0) => this isnotmyho with cost 23.5944380916 + 0.610957356205\n",
        "Exploring thisis not my with pastCost 23.7175079065\n",
        "  Action (0, 1) => thisis not myh with cost 23.7175079065 + 16.8568362252"
       ]
      },
      {
       "output_type": "stream",
       "stream": "stdout",
       "text": [
        "\n",
        "  Action (1, 1) => t hisis not myh with cost 23.7175079065 + 26.6526973635\n",
        "  Action (2, 1) => th isis not myh with cost 23.7175079065 + 25.2664030024\n",
        "  Action (3, 1) => thi sis not myh with cost 23.7175079065 + 37.7500010989\n",
        "  Action (4, 1) => this is not myh with cost 23.7175079065 + 2.76944575292\n",
        "  Action (5, 1) => thisi s not myh with cost 23.7175079065 + 25.6971859185\n",
        "  Action (8, 1) => thisis n ot myh with cost 23.7175079065 + 45.9626799894\n",
        "  Action (9, 1) => thisis no t myh with cost 23.7175079065 + 29.7328511423\n",
        "  Action (12, 1) => thisis not m yh with cost 23.7175079065 + 27.3260419168\n",
        "  Action (13, 1) => thisis not my h with cost 23.7175079065 + 11.9161246745\n",
        "  Action (0, 0) => thisisnot myh with cost 23.7175079065 + 17.7585606271\n",
        "  Action (1, 0) => thisis notmyh with cost 23.7175079065 + 13.9643206573\n",
        "Exploring t his is no tm with pastCost 23.9280673746\n",
        "  Action (0, 1) => t his is no tmy with cost 23.9280673746 + 14.2152536417\n",
        "  Action (3, 1) => t h is is no tmy with cost 23.9280673746 + 26.9118167021\n",
        "  Action (4, 1) => t hi s is no tmy with cost 23.9280673746 + 33.2620309624\n",
        "  Action (7, 1) => t his i s no tmy with cost 23.9280673746 + 24.7075774993\n",
        "  Action (10, 1) => t his is n o tmy with cost 23.9280673746 + 27.2936115144\n",
        "  Action (13, 1) => t his is no t my with cost 23.9280673746 + 9.05139853974\n",
        "  Action (14, 1) => t his is no tm y with cost 23.9280673746 + 11.9161246745\n",
        "  Action (0, 0) => this is no tmy with cost 23.9280673746 + 3.74192007868\n",
        "  Action (1, 0) => t hisis no tmy with cost 23.9280673746 + 27.6251716893\n",
        "  Action (2, 0) => t his isno tmy with cost 23.9280673746 + 25.9524665552\n",
        "  Action (3, 0) => t his is notmy with cost 23.9280673746 + 8.24258429507\n",
        "Exploring this i s no tm with pastCost 23.9470576692\n",
        "  Action (0, 1) => this i s no tmy with cost 23.9470576692 + 14.2152536417\n",
        "  Action (1, 1) => t his i s no tmy with cost 23.9470576692 + 24.6885872047\n",
        "  Action (2, 1) => th is i s no tmy with cost 23.9470576692 + 24.0827312294\n",
        "  Action (3, 1) => thi s i s no tmy with cost 23.9470576692 + 42.2233964057\n",
        "  Action (10, 1) => this i s n o tmy with cost 23.9470576692 + 27.2936115144\n",
        "  Action (13, 1) => this i s no t my with cost 23.9470576692 + 9.05139853974\n",
        "  Action (14, 1) => this i s no tm y with cost 23.9470576692 + 11.9161246745\n",
        "  Action (0, 0) => thisi s no tmy with cost 23.9470576692 + 26.6506699497\n",
        "  Action (1, 0) => this is no tmy with cost 23.9470576692 + 3.7229297841\n",
        "  Action (2, 0) => this i sno tmy with cost 23.9470576692 + 20.2953994755\n",
        "  Action (3, 0) => this i s notmy with cost 23.9470576692 + 8.24258429507\n",
        "Exploring th is is not m with pastCost 24.0333520801\n",
        "  Action (0, 1) => th is is not my with cost 24.0333520801 + -4.53575705814\n",
        "  Action (1, 1) => t h is is not my with cost 24.0333520801 + 8.76666197752\n",
        "  Action (4, 1) => th i s is not my with cost 24.0333520801 + 5.95656679945\n",
        "  Action (7, 1) => th is i s not my with cost 24.0333520801 + 5.95656679945\n",
        "  Action (10, 1) => th is is n ot my with cost 24.0333520801 + 24.5700867061\n",
        "  Action (11, 1) => th is is no t my with cost 24.0333520801 + 8.34025785897\n",
        "  Action (14, 1) => th is is not m y with cost 24.0333520801 + 11.9161246745\n",
        "  Action (0, 0) => this is not my with cost 24.0333520801 + -14.4032346459\n",
        "  Action (1, 0) => th isis not my with cost 24.0333520801 + 8.09372260358\n",
        "  Action (2, 0) => th is isnot my with cost 24.0333520801 + 8.38448964931\n",
        "  Action (3, 0) => th is is notmy with cost 24.0333520801 + 7.5314436143\n",
        "Exploring th i s is not with pastCost 24.0564702461\n",
        "  Action (0, 1) => th i s is notm with cost 24.0564702461 + 18.0006493059\n",
        "  Action (1, 1) => t h i s is notm with cost 24.0564702461 + 31.3030683416\n",
        "  Action (8, 1) => th i s i s notm with cost 24.0564702461 + 28.4929731635\n",
        "  Action (11, 1) => th i s is n otm with cost 24.0564702461 + 29.1058437642\n",
        "  Action (12, 1) => th i s is no tm with cost 24.0564702461 + 9.75806501083\n",
        "  Action (13, 1) => th i s is not m with cost 24.0564702461 + 10.4692056916\n",
        "  Action (0, 0) => thi s is notm with cost 24.0564702461 + 25.6489906246\n",
        "  Action (1, 0) => th is is notm with cost 24.0564702461 + 7.50832544832\n",
        "  Action (2, 0) => th i sis notm with cost 24.0564702461 + 24.9730618879\n",
        "  Action (3, 0) => th i s isnotm with cost 24.0564702461 + 14.8173666923\n",
        "Exploring th is i s not with pastCost 24.0564702461\n",
        "  Action (0, 1) => th is i s notm with cost 24.0564702461 + 18.0006493059\n",
        "  Action (1, 1) => t h is i s notm with cost 24.0564702461 + 31.3030683416\n",
        "  Action (4, 1) => th i s i s notm with cost 24.0564702461 + 28.4929731635\n",
        "  Action (11, 1) => th is i s n otm with cost 24.0564702461 + 29.1058437642\n",
        "  Action (12, 1) => th is i s no tm with cost 24.0564702461 + 9.75806501083\n",
        "  Action (13, 1) => th is i s not m with cost 24.0564702461 + 10.4692056916\n",
        "  Action (0, 0) => this i s notm with cost 24.0564702461 + 8.13317171816\n",
        "  Action (1, 0) => th isi s notm with cost 24.0564702461 + 30.8752747882\n",
        "  Action (2, 0) => th is is notm with cost 24.0564702461 + 7.50832544832\n",
        "  Action (3, 0) => th is i snotm with cost 24.0564702461 + 7.26317962771\n",
        "Exploring thisis n with pastCost 24.0996181786\n",
        "  Action (0, 1) => thisis no with cost 24.0996181786 + -5.13252511171\n",
        "  Action (1, 1) => t hisis no with cost 24.0996181786 + 4.66333602663\n",
        "  Action (2, 1) => th isis no with cost 24.0996181786 + 3.27704166551\n",
        "  Action (3, 1) => thi sis no with cost 24.0996181786 + 15.760639762\n",
        "  Action (4, 1) => this is no with cost 24.0996181786 + -19.219915584\n",
        "  Action (5, 1) => thisi s no with cost 24.0996181786 + 3.7078245816\n",
        "  Action (8, 1) => thisis n o with cost 24.0996181786 + 7.94583276098\n",
        "  Action (0, 0) => thisisno with cost 24.0996181786 + -7.31095448855\n",
        "Exploring this isnotmyho with pastCost 24.2053954478\n",
        "  Action (0, 1) => this isnotmyhou with cost 24.2053954478 + 1.89711998489\n",
        "  Action (1, 1) => t his isnotmyhou with cost 24.2053954478 + 12.3704535479\n",
        "  Action (2, 1) => th is isnotmyhou with cost 24.2053954478 + 11.7645975726\n",
        "  Action (3, 1) => thi s isnotmyhou with cost 24.2053954478 + 29.9052627489\n",
        "  Action (6, 1) => this i snotmyhou with cost 24.2053954478 + 4.83525677784\n",
        "  Action (7, 1) => this is notmyhou with cost 24.2053954478 + 3.18328261357\n",
        "  Action (8, 1) => this isn otmyhou with cost 24.2053954478 + 18.9960448889\n",
        "  Action (9, 1) => this isno tmyhou with cost 24.2053954478 + 17.098924904\n",
        "  Action (10, 1) => this isnot myhou with cost 24.2053954478 + 15.2018049191\n",
        "  Action (11, 1) => this isnotm yhou with cost 24.2053954478 + 17.098924904\n",
        "  Action (12, 1) => this isnotmy hou with cost 24.2053954478 + 18.9960448889\n",
        "  Action (13, 1) => this isnotmyh ou with cost 24.2053954478 + 10.3066867621\n",
        "  Action (14, 1) => this isnotmyho u with cost 24.2053954478 + 12.203806747\n",
        "  Action (0, 0) => thisisnotmyhou with cost 24.2053954478 + 3.96598815161\n",
        "Exploring thisisnotmyh with pastCost 24.3771436296\n",
        "  Action (0, 1) => thisisnotmyho with cost 24.3771436296 + 1.89711998489\n",
        "  Action (1, 1) => t hisisnotmyho with cost 24.3771436296 + 11.6929811232\n",
        "  Action (2, 1) => th isisnotmyho with cost 24.3771436296 + 8.40956677721\n",
        "  Action (3, 1) => thi sisnotmyho with cost 24.3771436296 + 18.9960448889\n",
        "  Action (4, 1) => this isnotmyho with cost 24.3771436296 + -0.171748181843\n",
        "  Action (5, 1) => thisi snotmyho with cost 24.3771436296 + 15.2018049191\n",
        "  Action (6, 1) => thisis notmyho with cost 24.3771436296 + 15.2018049191\n",
        "  Action (7, 1) => thisisn otmyho with cost 24.3771436296 + 15.2018049191\n",
        "  Action (8, 1) => thisisno tmyho with cost 24.3771436296 + 15.2018049191\n",
        "  Action (9, 1) => thisisnot myho with cost 24.3771436296 + 17.098924904\n",
        "  Action (10, 1) => thisisnotm yho with cost 24.3771436296 + 18.9960448889\n",
        "  Action (11, 1) => thisisnotmy ho with cost 24.3771436296 + 8.36077661305\n",
        "  Action (12, 1) => thisisnotmyh o with cost 24.3771436296 + 7.94583276098\n",
        "Exploring t hi si with pastCost 24.5253965296\n",
        "  Action (0, 1) => t hi sis with cost 24.5253965296 + 10.8741601841\n",
        "  Action (3, 1) => t h i sis with cost 24.5253965296 + 15.0162697814\n",
        "  Action (6, 1) => t hi s is with cost 24.5253965296 + 3.90174760211\n",
        "  Action (7, 1) => t hi si s with cost 24.5253965296 + 10.7374696782\n",
        "  Action (0, 0) => thi sis with cost 24.5253965296 + 9.36219206441\n",
        "  Action (1, 0) => t hisis with cost 24.5253965296 + -1.735111671\n",
        "Exploring this isn o with pastCost 24.5627482692\n",
        "  Action (0, 1) => this isn ot with cost 24.5627482692 + 14.8444520976\n",
        "  Action (1, 1) => t his isn ot with cost 24.5627482692 + 25.3177856607\n",
        "  Action (2, 1) => th is isn ot with cost 24.5627482692 + 24.7119296854\n",
        "  Action (3, 1) => thi s isn ot with cost 24.5627482692 + 42.8525948617\n",
        "  Action (6, 1) => this i sn ot with cost 24.5627482692 + 19.6797088755\n",
        "  Action (7, 1) => this is n ot with cost 24.5627482692 + 8.23976429579\n",
        "  Action (10, 1) => this isn o t with cost 24.5627482692 + 11.6929811232\n",
        "  Action (0, 0) => thisisn ot with cost 24.5627482692 + 13.1190802946\n",
        "  Action (1, 0) => this isnot with cost 24.5627482692 + -7.94583276098\n",
        "Exploring thisisnot my with pastCost 24.6192323084\n",
        "  Action (0, 1) => thisisnot myh with cost 24.6192323084 + 16.8568362252\n",
        "  Action (1, 1) => t hisisnot myh with cost 24.6192323084 + 26.6526973635\n",
        "  Action (2, 1) => th isisnot myh with cost 24.6192323084 + 23.3692830175\n",
        "  Action (3, 1) => thi sisnot myh with cost 24.6192323084 + 33.9557611291\n",
        "  Action (4, 1) => this isnot myh with cost 24.6192323084 + 14.7879680584\n",
        "  Action (5, 1) => thisi snot myh with cost 24.6192323084 + 32.0586411443\n",
        "  Action (6, 1) => thisis not myh with cost 24.6192323084 + 15.9551118232\n",
        "  Action (7, 1) => thisisn ot myh with cost 24.6192323084 + 35.852881114\n",
        "  Action (8, 1) => thisisno t myh with cost 24.6192323084 + 26.6526973635\n",
        "  Action (11, 1) => thisisnot m yh with cost 24.6192323084 + 27.3260419168\n",
        "  Action (12, 1) => thisisnot my h with cost 24.6192323084 + 11.9161246745\n",
        "  Action (0, 0) => thisisnotmyh with cost 24.6192323084 + -0.242088678802\n",
        "Exploring t his is not m with pastCost 24.6392080554\n",
        "  Action (0, 1) => t his is not my with cost 24.6392080554 + -4.53575705814\n",
        "  Action (3, 1) => t h is is not my with cost 24.6392080554 + 8.16080600225\n",
        "  Action (4, 1) => t hi s is not my with cost 24.6392080554 + 14.5110202625\n",
        "  Action (7, 1) => t his i s not my with cost 24.6392080554 + 5.95656679945\n",
        "  Action (10, 1) => t his is n ot my with cost 24.6392080554 + 24.5700867061\n",
        "  Action (11, 1) => t his is no t my with cost 24.6392080554 + 8.34025785897\n",
        "  Action (14, 1) => t his is not m y with cost 24.6392080554 + 11.9161246745\n",
        "  Action (0, 0) => this is not my with cost 24.6392080554 + -15.0090906211\n",
        "  Action (1, 0) => t hisis not my with cost 24.6392080554 + 8.87416098943\n",
        "  Action (2, 0) => t his isnot my with cost 24.6392080554 + 8.38448964931\n",
        "  Action (3, 0) => t his is notmy with cost 24.6392080554 + 7.5314436143\n",
        "Exploring this i s not m with pastCost 24.65819835\n",
        "  Action (0, 1) => this i s not my with cost 24.65819835 + -4.53575705814\n",
        "  Action (1, 1) => t his i s not my with cost 24.65819835 + 5.93757650487\n",
        "  Action (2, 1) => th is i s not my with cost 24.65819835 + 5.3317205296\n",
        "  Action (3, 1) => thi s i s not my with cost 24.65819835 + 23.4723857059\n",
        "  Action (10, 1) => this i s n ot my with cost 24.65819835 + 24.5700867061\n",
        "  Action (11, 1) => this i s no t my with cost 24.65819835 + 8.34025785897\n",
        "  Action (14, 1) => this i s not m y with cost 24.65819835 + 11.9161246745\n",
        "  Action (0, 0) => thisi s not my with cost 24.65819835 + 7.89965924983\n",
        "  Action (1, 0) => this is not my with cost 24.65819835 + -15.0280809157\n",
        "  Action (2, 0) => this i snot my with cost 24.65819835 + 2.72742256957\n",
        "  Action (3, 0) => this i s notmy with cost 24.65819835 + 7.5314436143\n",
        "Exploring t his i s not with pastCost 24.6623262214\n",
        "  Action (0, 1) => t his i s notm with cost 24.6623262214 + 18.0006493059\n",
        "  Action (3, 1) => t h is i s notm with cost 24.6623262214 + 30.6972123663\n",
        "  Action (4, 1) => t hi s i s notm with cost 24.6623262214 + 37.0474266266\n",
        "  Action (11, 1) => t his i s n otm with cost 24.6623262214 + 29.1058437642\n",
        "  Action (12, 1) => t his i s no tm with cost 24.6623262214 + 9.75806501083\n",
        "  Action (13, 1) => t his i s not m with cost 24.6623262214 + 10.4692056916\n",
        "  Action (0, 0) => this i s notm with cost 24.6623262214 + 7.52731574289\n",
        "  Action (1, 0) => t hisi s notm with cost 24.6623262214 + 31.6557131741\n",
        "  Action (2, 0) => t his is notm with cost 24.6623262214 + 7.50832544832\n",
        "  Action (3, 0) => t his i snotm with cost 24.6623262214 + 7.26317962771\n",
        "Exploring t hisisn with pastCost 24.6874048435\n",
        "  Action (0, 1) => t hisisno with cost 24.6874048435 + 1.89711998489\n",
        "  Action (3, 1) => t h isisno with cost 24.6874048435 + 11.9161246745\n",
        "  Action (4, 1) => t hi sisno with cost 24.6874048435 + 10.7121518702\n",
        "  Action (5, 1) => t his isno with cost 24.6874048435 + 2.40284422772\n",
        "  Action (6, 1) => t hisi sno with cost 24.6874048435 + 20.8931648737\n",
        "  Action (7, 1) => t hisis no with cost 24.6874048435 + 4.07554936173\n",
        "  Action (8, 1) => t hisisn o with cost 24.6874048435 + 7.94583276098\n",
        "  Action (0, 0) => thisisno with cost 24.6874048435 + -7.89874115345\n",
        "Exploring this isno tm with pastCost 25.1919467252\n",
        "  Action (0, 1) => this isno tmy with cost 25.1919467252 + 14.2152536417\n",
        "  Action (1, 1) => t his isno tmy with cost 25.1919467252 + 24.6885872047\n",
        "  Action (2, 1) => th is isno tmy with cost 25.1919467252 + 24.0827312294\n",
        "  Action (3, 1) => thi s isno tmy with cost 25.1919467252 + 42.2233964057\n",
        "  Action (6, 1) => this i sno tmy with cost 25.1919467252 + 19.0505104195\n",
        "  Action (7, 1) => this is no tmy with cost 25.1919467252 + 2.47804072812\n",
        "  Action (8, 1) => this isn o tmy with cost 25.1919467252 + 22.1610864027\n",
        "  Action (11, 1) => this isno t my with cost 25.1919467252 + 9.05139853974\n",
        "  Action (12, 1) => this isno tm y with cost 25.1919467252 + 11.9161246745\n",
        "  Action (0, 0) => thisisno tmy with cost 25.1919467252 + 14.3870018235\n",
        "  Action (1, 0) => this isnotmy with cost 25.1919467252 + -4.78079124717\n",
        "Exploring th isisnot with pastCost 25.1982304673\n",
        "  Action (0, 1) => th isisnotm with cost 25.1982304673 + 1.89711998489\n",
        "  Action (1, 1) => t h isisnotm with cost 25.1982304673 + 15.1995390205\n",
        "  Action (4, 1) => th i sisnotm with cost 25.1982304673 + 4.83525677784\n",
        "  Action (5, 1) => th is isnotm with cost 25.1982304673 + 3.18328261357\n",
        "  Action (6, 1) => th isi snotm with cost 25.1982304673 + 18.9960448889\n",
        "  Action (7, 1) => th isis notm with cost 25.1982304673 + 18.9960448889\n",
        "  Action (8, 1) => th isisn otm with cost 25.1982304673 + 18.9960448889\n",
        "  Action (9, 1) => th isisno tm with cost 25.1982304673 + 6.67791123206\n",
        "  Action (10, 1) => th isisnot m with cost 25.1982304673 + 10.4692056916\n",
        "  Action (0, 0) => thisisnotm with cost 25.1982304673 + -4.61532680744\n",
        "Exploring th i s is no with pastCost 25.23950404\n",
        "  Action (0, 1) => th i s is not with cost 25.23950404 + -1.18303379389"
       ]
      },
      {
       "output_type": "stream",
       "stream": "stdout",
       "text": [
        "\n",
        "  Action (1, 1) => t h i s is not with cost 25.23950404 + 12.1193852418\n",
        "  Action (8, 1) => th i s i s not with cost 25.23950404 + 9.3092900637\n",
        "  Action (11, 1) => th i s is n ot with cost 25.23950404 + 27.9228099703\n",
        "  Action (12, 1) => th i s is no t with cost 25.23950404 + 11.6929811232\n",
        "  Action (0, 0) => thi s is not with cost 25.23950404 + 6.4653075248\n",
        "  Action (1, 0) => th is is not with cost 25.23950404 + -11.6753576515\n",
        "  Action (2, 0) => th i sis not with cost 25.23950404 + 5.7893787881\n",
        "  Action (3, 0) => th i s isnot with cost 25.23950404 + 11.7372129136\n",
        "Exploring th is i s no with pastCost 25.23950404\n",
        "  Action (0, 1) => th is i s not with cost 25.23950404 + -1.18303379389\n",
        "  Action (1, 1) => t h is i s not with cost 25.23950404 + 12.1193852418\n",
        "  Action (4, 1) => th i s i s not with cost 25.23950404 + 9.3092900637\n",
        "  Action (11, 1) => th is i s n ot with cost 25.23950404 + 27.9228099703\n",
        "  Action (12, 1) => th is i s no t with cost 25.23950404 + 11.6929811232\n",
        "  Action (0, 0) => this i s not with cost 25.23950404 + -11.0505113816\n",
        "  Action (1, 0) => th isi s not with cost 25.23950404 + 11.6915916884\n",
        "  Action (2, 0) => th is is not with cost 25.23950404 + -11.6753576515\n",
        "  Action (3, 0) => th is i snot with cost 25.23950404 + 6.08014583382\n",
        "Exploring this i snotmyh with pastCost 25.2464122558\n",
        "  Action (0, 1) => this i snotmyho with cost 25.2464122558 + 1.89711998489\n",
        "  Action (1, 1) => t his i snotmyho with cost 25.2464122558 + 12.3704535479\n",
        "  Action (2, 1) => th is i snotmyho with cost 25.2464122558 + 11.7645975726\n",
        "  Action (3, 1) => thi s i snotmyho with cost 25.2464122558 + 29.9052627489\n",
        "  Action (8, 1) => this i s notmyho with cost 25.2464122558 + 10.7374696782\n",
        "  Action (9, 1) => this i sn otmyho with cost 25.2464122558 + 20.8931648737\n",
        "  Action (10, 1) => this i sno tmyho with cost 25.2464122558 + 18.9960448889\n",
        "  Action (11, 1) => this i snot myho with cost 25.2464122558 + 18.9960448889\n",
        "  Action (12, 1) => this i snotm yho with cost 25.2464122558 + 18.9960448889\n",
        "  Action (13, 1) => this i snotmy ho with cost 25.2464122558 + 8.36077661305\n",
        "  Action (14, 1) => this i snotmyh o with cost 25.2464122558 + 7.94583276098\n",
        "  Action (0, 0) => thisi snotmyho with cost 25.2464122558 + 14.3325362929\n",
        "  Action (1, 0) => this isnotmyho with cost 25.2464122558 + -1.04101680807\n",
        "Exploring thisisno tm with pastCost 25.363694907\n",
        "  Action (0, 1) => thisisno tmy with cost 25.363694907 + 14.2152536417\n",
        "  Action (1, 1) => t hisisno tmy with cost 25.363694907 + 24.01111478\n",
        "  Action (2, 1) => th isisno tmy with cost 25.363694907 + 20.727700434\n",
        "  Action (3, 1) => thi sisno tmy with cost 25.363694907 + 31.3141785457\n",
        "  Action (4, 1) => this isno tmy with cost 25.363694907 + 14.0435054598\n",
        "  Action (5, 1) => thisi sno tmy with cost 25.363694907 + 31.3141785457\n",
        "  Action (6, 1) => thisis no tmy with cost 25.363694907 + 16.3936830185\n",
        "  Action (7, 1) => thisisn o tmy with cost 25.363694907 + 20.2639664178\n",
        "  Action (10, 1) => thisisno t my with cost 25.363694907 + 9.05139853974\n",
        "  Action (11, 1) => thisisno tm y with cost 25.363694907 + 11.9161246745\n",
        "  Action (0, 0) => thisisnotmy with cost 25.363694907 + -2.88367126228\n",
        "Exploring this is no tm y with pastCost 25.3708584861\n",
        "  Action (0, 1) => this is no tm yh with cost 25.3708584861 + 10.8741601841\n",
        "  Action (1, 1) => t his is no tm yh with cost 25.3708584861 + 21.3474937471\n",
        "  Action (2, 1) => th is is no tm yh with cost 25.3708584861 + 20.7416377718\n",
        "  Action (3, 1) => thi s is no tm yh with cost 25.3708584861 + 38.8823029481\n",
        "  Action (6, 1) => this i s no tm yh with cost 25.3708584861 + 21.3664840417\n",
        "  Action (9, 1) => this is n o tm yh with cost 25.3708584861 + 23.9525180568\n",
        "  Action (12, 1) => this is no t m yh with cost 25.3708584861 + 24.461315782\n",
        "  Action (15, 1) => this is no tm y h with cost 25.3708584861 + 11.9161246745\n",
        "  Action (0, 0) => thisis no tm yh with cost 25.3708584861 + 24.9615506563\n",
        "  Action (1, 0) => this isno tm yh with cost 25.3708584861 + 22.6113730977\n",
        "  Action (2, 0) => this is notm yh with cost 25.3708584861 + 19.1167444792\n",
        "  Action (3, 0) => this is no tmyh with cost 25.3708584861 + 2.29912896715\n",
        "Exploring this is notmyho with pastCost 25.4915580764\n",
        "  Action (0, 1) => this is notmyhou with cost 25.4915580764 + 1.89711998489\n",
        "  Action (1, 1) => t his is notmyhou with cost 25.4915580764 + 12.3704535479\n",
        "  Action (2, 1) => th is is notmyhou with cost 25.4915580764 + 11.7645975726\n",
        "  Action (3, 1) => thi s is notmyhou with cost 25.4915580764 + 29.9052627489\n",
        "  Action (6, 1) => this i s notmyhou with cost 25.4915580764 + 12.3894438425\n",
        "  Action (9, 1) => this is n otmyhou with cost 25.4915580764 + 11.1051944583\n",
        "  Action (10, 1) => this is no tmyhou with cost 25.4915580764 + 4.07554936173\n",
        "  Action (11, 1) => this is not myhou with cost 25.4915580764 + 0.995395582955\n",
        "  Action (12, 1) => this is notm yhou with cost 25.4915580764 + 18.9960448889\n",
        "  Action (13, 1) => this is notmy hou with cost 25.4915580764 + 18.9960448889\n",
        "  Action (14, 1) => this is notmyh ou with cost 25.4915580764 + 10.3066867621\n",
        "  Action (15, 1) => this is notmyho u with cost 25.4915580764 + 12.203806747\n",
        "  Action (0, 0) => thisis notmyhou with cost 25.4915580764 + 15.9845104571\n",
        "  Action (1, 0) => this isnotmyhou with cost 25.4915580764 + 0.610957356205\n",
        "Exploring t his i s no with pastCost 25.8453600153\n",
        "  Action (0, 1) => t his i s not with cost 25.8453600153 + -1.18303379389\n",
        "  Action (3, 1) => t h is i s not with cost 25.8453600153 + 11.5135292665\n",
        "  Action (4, 1) => t hi s i s not with cost 25.8453600153 + 17.8637435268\n",
        "  Action (11, 1) => t his i s n ot with cost 25.8453600153 + 27.9228099703\n",
        "  Action (12, 1) => t his i s no t with cost 25.8453600153 + 11.6929811232\n",
        "  Action (0, 0) => this i s not with cost 25.8453600153 + -11.6563673569\n",
        "  Action (1, 0) => t hisi s not with cost 25.8453600153 + 12.4720300743\n",
        "  Action (2, 0) => t his is not with cost 25.8453600153 + -11.6753576515\n",
        "  Action (3, 0) => t his i snot with cost 25.8453600153 + 6.08014583382\n",
        "Exploring this is not m y with pastCost 26.0819991669\n",
        "  Action (0, 1) => this is not m yh with cost 26.0819991669 + 10.8741601841\n",
        "  Action (1, 1) => t his is not m yh with cost 26.0819991669 + 21.3474937471\n",
        "  Action (2, 1) => th is is not m yh with cost 26.0819991669 + 20.7416377718\n",
        "  Action (3, 1) => thi s is not m yh with cost 26.0819991669 + 38.8823029481\n",
        "  Action (6, 1) => this i s not m yh with cost 26.0819991669 + 21.3664840417\n",
        "  Action (9, 1) => this is n ot m yh with cost 26.0819991669 + 39.9800039483\n",
        "  Action (10, 1) => this is no t m yh with cost 26.0819991669 + 23.7501751012\n",
        "  Action (15, 1) => this is not m y h with cost 26.0819991669 + 11.9161246745\n",
        "  Action (0, 0) => thisis not m yh with cost 26.0819991669 + 24.9615506563\n",
        "  Action (1, 0) => this isnot m yh with cost 26.0819991669 + 23.7944068915\n",
        "  Action (2, 0) => this is notm yh with cost 26.0819991669 + 18.4056037984\n",
        "  Action (3, 0) => this is not myh with cost 26.0819991669 + 0.404954492494\n",
        "Exploring this isnotmyhou with pastCost 26.1025154327\n",
        "  Action (0, 1) => this isnotmyhous with cost 26.1025154327 + 1.89711998489\n",
        "  Action (1, 1) => t his isnotmyhous with cost 26.1025154327 + 12.3704535479\n",
        "  Action (2, 1) => th is isnotmyhous with cost 26.1025154327 + 11.7645975726\n",
        "  Action (3, 1) => thi s isnotmyhous with cost 26.1025154327 + 29.9052627489\n",
        "  Action (6, 1) => this i snotmyhous with cost 26.1025154327 + 4.83525677784\n",
        "  Action (7, 1) => this is notmyhous with cost 26.1025154327 + 3.18328261357\n",
        "  Action (8, 1) => this isn otmyhous with cost 26.1025154327 + 18.9960448889\n",
        "  Action (9, 1) => this isno tmyhous with cost 26.1025154327 + 17.098924904\n",
        "  Action (10, 1) => this isnot myhous with cost 26.1025154327 + 15.2018049191\n",
        "  Action (11, 1) => this isnotm yhous with cost 26.1025154327 + 15.2018049191\n",
        "  Action (12, 1) => this isnotmy hous with cost 26.1025154327 + 17.098924904\n",
        "  Action (13, 1) => this isnotmyh ous with cost 26.1025154327 + 18.9960448889\n",
        "  Action (14, 1) => this isnotmyho us with cost 26.1025154327 + 5.27190100777\n",
        "  Action (15, 1) => this isnotmyhou s with cost 26.1025154327 + 10.7374696782\n",
        "  Action (0, 0) => thisisnotmyhous with cost 26.1025154327 + 3.96598815161\n",
        "Exploring th i si s with pastCost 26.1025567695\n",
        "  Action (0, 1) => th i si sn with cost 26.1025567695 + 12.0528151804\n",
        "  Action (1, 1) => t h i si sn with cost 26.1025567695 + 25.3552342161\n",
        "  Action (6, 1) => th i s i sn with cost 26.1025567695 + 15.7094169619\n",
        "  Action (9, 1) => th i si s n with cost 26.1025567695 + 11.1051944583\n",
        "  Action (0, 0) => thi si sn with cost 26.1025567695 + 19.7011564991\n",
        "  Action (1, 0) => th isi sn with cost 26.1025567695 + 18.0917185867\n",
        "  Action (2, 0) => th i sisn with cost 26.1025567695 + 0.1366905059\n",
        "Exploring th isis not with pastCost 26.1936260502\n",
        "  Action (0, 1) => th isis notm with cost 26.1936260502 + 18.0006493059\n",
        "  Action (1, 1) => t h isis notm with cost 26.1936260502 + 31.3030683416\n",
        "  Action (4, 1) => th i sis notm with cost 26.1936260502 + 22.8359060837\n",
        "  Action (5, 1) => th is is notm with cost 26.1936260502 + 5.37116964418\n",
        "  Action (6, 1) => th isi s notm with cost 26.1936260502 + 28.7381189841\n",
        "  Action (9, 1) => th isis n otm with cost 26.1936260502 + 29.1058437642\n",
        "  Action (10, 1) => th isis no tm with cost 26.1936260502 + 9.75806501083\n",
        "  Action (11, 1) => th isis not m with cost 26.1936260502 + 10.4692056916\n",
        "  Action (0, 0) => thisis notm with cost 26.1936260502 + 9.59108252869\n",
        "  Action (1, 0) => th isisnotm with cost 26.1936260502 + 0.90172440193\n",
        "Exploring th i sis with pastCost 26.2392472754\n",
        "  Action (0, 1) => th i sisn with cost 26.2392472754 + 0.0\n",
        "  Action (1, 1) => t h i sisn with cost 26.2392472754 + 13.3024190357\n",
        "  Action (6, 1) => th i s isn with cost 26.2392472754 + 10.7374696782\n",
        "  Action (7, 1) => th i si sn with cost 26.2392472754 + 11.9161246745\n",
        "  Action (8, 1) => th i sis n with cost 26.2392472754 + 11.1051944583\n",
        "  Action (0, 0) => thi sisn with cost 26.2392472754 + 7.64834131868\n",
        "  Action (1, 0) => th isisn with cost 26.2392472754 + -4.83525677784\n",
        "Exploring th i sisn with pastCost 26.2392472754\n",
        "  Action (0, 1) => th i sisno with cost 26.2392472754 + 0.0\n",
        "  Action (1, 1) => t h i sisno with cost 26.2392472754 + 13.3024190357\n",
        "  Action (6, 1) => th i s isno with cost 26.2392472754 + 10.7374696782\n",
        "  Action (7, 1) => th i si sno with cost 26.2392472754 + 11.9161246745\n",
        "  Action (8, 1) => th i sis no with cost 26.2392472754 + 5.97266934661\n",
        "  Action (9, 1) => th i sisn o with cost 26.2392472754 + 7.94583276098\n",
        "  Action (0, 0) => thi sisno with cost 26.2392472754 + 7.64834131868\n",
        "  Action (1, 0) => th isisno with cost 26.2392472754 + -2.93813679296\n",
        "Exploring th i sisno with pastCost 26.2392472754\n",
        "  Action (0, 1) => th i sisnot with cost 26.2392472754 + 1.89711998489\n",
        "  Action (1, 1) => t h i sisnot with cost 26.2392472754 + 15.1995390205\n",
        "  Action (6, 1) => th i s isnot with cost 26.2392472754 + 10.7374696782\n",
        "  Action (7, 1) => th i si snot with cost 26.2392472754 + 11.9161246745\n",
        "  Action (8, 1) => th i sis not with cost 26.2392472754 + 4.78963555273\n",
        "  Action (9, 1) => th i sisn ot with cost 26.2392472754 + 22.7902848586\n",
        "  Action (10, 1) => th i sisno t with cost 26.2392472754 + 11.6929811232\n",
        "  Action (0, 0) => thi sisnot with cost 26.2392472754 + 9.54546130357\n",
        "  Action (1, 0) => th isisnot with cost 26.2392472754 + -1.04101680807\n",
        "Exploring thisisnotmyho with pastCost 26.2742636145\n",
        "  Action (0, 1) => thisisnotmyhou with cost 26.2742636145 + 1.89711998489\n",
        "  Action (1, 1) => t hisisnotmyhou with cost 26.2742636145 + 11.6929811232\n",
        "  Action (2, 1) => th isisnotmyhou with cost 26.2742636145 + 8.40956677721\n",
        "  Action (3, 1) => thi sisnotmyhou with cost 26.2742636145 + 18.9960448889\n",
        "  Action (4, 1) => this isnotmyhou with cost 26.2742636145 + -0.171748181843\n",
        "  Action (5, 1) => thisi snotmyhou with cost 26.2742636145 + 15.2018049191\n",
        "  Action (6, 1) => thisis notmyhou with cost 26.2742636145 + 15.2018049191\n",
        "  Action (7, 1) => thisisn otmyhou with cost 26.2742636145 + 15.2018049191\n",
        "  Action (8, 1) => thisisno tmyhou with cost 26.2742636145 + 15.2018049191\n",
        "  Action (9, 1) => thisisnot myhou with cost 26.2742636145 + 15.2018049191\n",
        "  Action (10, 1) => thisisnotm yhou with cost 26.2742636145 + 17.098924904\n",
        "  Action (11, 1) => thisisnotmy hou with cost 26.2742636145 + 18.9960448889\n",
        "  Action (12, 1) => thisisnotmyh ou with cost 26.2742636145 + 10.3066867621\n",
        "  Action (13, 1) => thisisnotmyho u with cost 26.2742636145 + 12.203806747\n",
        "Exploring th is is no t with pastCost 26.4401613056\n",
        "  Action (0, 1) => th is is no tm with cost 26.4401613056 + -3.11794990628\n",
        "  Action (1, 1) => t h is is no tm with cost 26.4401613056 + 10.1844691294\n",
        "  Action (4, 1) => th i s is no tm with cost 26.4401613056 + 7.37437395131\n",
        "  Action (7, 1) => th is i s no tm with cost 26.4401613056 + 7.37437395131\n",
        "  Action (10, 1) => th is is n o tm with cost 26.4401613056 + 9.96040796641\n",
        "  Action (13, 1) => th is is no t m with cost 26.4401613056 + 10.4692056916\n",
        "  Action (0, 0) => this is no tm with cost 26.4401613056 + -12.985427494\n",
        "  Action (1, 0) => th isis no tm with cost 26.4401613056 + 9.51152975544\n",
        "  Action (2, 0) => th is isno tm with cost 26.4401613056 + 8.61926300728\n",
        "  Action (3, 0) => th is is notm with cost 26.4401613056 + 5.12463438879\n",
        "Exploring th is isn with pastCost 26.484393096\n",
        "  Action (0, 1) => th is isno with cost 26.484393096 + 0.0\n",
        "  Action (1, 1) => t h is isno with cost 26.484393096 + 13.3024190357\n",
        "  Action (4, 1) => th i s isno with cost 26.484393096 + 10.4923238576\n",
        "  Action (7, 1) => th is i sno with cost 26.484393096 + 4.83525677784\n",
        "  Action (8, 1) => th is is no with cost 26.484393096 + -11.7372129136\n",
        "  Action (9, 1) => th is isn o with cost 26.484393096 + 7.94583276098\n",
        "  Action (0, 0) => this isno with cost 26.484393096 + -9.86747758774\n",
        "  Action (1, 0) => th isisno with cost 26.484393096 + -3.18328261357\n",
        "Exploring th is isno with pastCost 26.484393096\n",
        "  Action (0, 1) => th is isnot with cost 26.484393096 + 0.0"
       ]
      },
      {
       "output_type": "stream",
       "stream": "stdout",
       "text": [
        "\n",
        "  Action (1, 1) => t h is isnot with cost 26.484393096 + 13.3024190357\n",
        "  Action (4, 1) => th i s isnot with cost 26.484393096 + 10.4923238576\n",
        "  Action (7, 1) => th is i snot with cost 26.484393096 + 4.83525677784\n",
        "  Action (8, 1) => th is is not with cost 26.484393096 + -12.9202467074\n",
        "  Action (9, 1) => th is isn ot with cost 26.484393096 + 22.7902848586\n",
        "  Action (10, 1) => th is isno t with cost 26.484393096 + 11.6929811232\n",
        "  Action (0, 0) => this isnot with cost 26.484393096 + -9.86747758774\n",
        "  Action (1, 0) => th isisnot with cost 26.484393096 + -1.28616262868\n",
        "Exploring th is isnot with pastCost 26.484393096\n",
        "  Action (0, 1) => th is isnotm with cost 26.484393096 + 1.89711998489\n",
        "  Action (1, 1) => t h is isnotm with cost 26.484393096 + 15.1995390205\n",
        "  Action (4, 1) => th i s isnotm with cost 26.484393096 + 12.3894438425\n",
        "  Action (7, 1) => th is i snotm with cost 26.484393096 + 4.83525677784\n",
        "  Action (8, 1) => th is is notm with cost 26.484393096 + 5.08040259845\n",
        "  Action (9, 1) => th is isn otm with cost 26.484393096 + 22.7902848586\n",
        "  Action (10, 1) => th is isno tm with cost 26.484393096 + 8.57503121694\n",
        "  Action (11, 1) => th is isnot m with cost 26.484393096 + 10.4692056916\n",
        "  Action (0, 0) => this isnotm with cost 26.484393096 + -7.97035760285\n",
        "  Action (1, 0) => th isisnotm with cost 26.484393096 + 0.610957356205\n",
        "Exploring this is not myh with pastCost 26.4869536594\n",
        "  Action (0, 1) => this is not myho with cost 26.4869536594 + 0.0\n",
        "  Action (1, 1) => t his is not myho with cost 26.4869536594 + 10.473333563\n",
        "  Action (2, 1) => th is is not myho with cost 26.4869536594 + 9.86747758774\n",
        "  Action (3, 1) => thi s is not myho with cost 26.4869536594 + 28.008142764\n",
        "  Action (6, 1) => this i s not myho with cost 26.4869536594 + 10.4923238576\n",
        "  Action (9, 1) => this is n ot myho with cost 26.4869536594 + 29.1058437642\n",
        "  Action (10, 1) => this is no t myho with cost 26.4869536594 + 12.8760149171\n",
        "  Action (13, 1) => this is not m yho with cost 26.4869536594 + 10.4692056916\n",
        "  Action (14, 1) => this is not my ho with cost 26.4869536594 + -6.59893962724\n",
        "  Action (15, 1) => this is not myh o with cost 26.4869536594 + 7.94583276098\n",
        "  Action (0, 0) => thisis not myho with cost 26.4869536594 + 14.0873904722\n",
        "  Action (1, 0) => this isnot myho with cost 26.4869536594 + 12.9202467074\n",
        "  Action (2, 0) => this is notmyho with cost 26.4869536594 + -0.995395582955\n",
        "Exploring this is not myho with pastCost 26.4869536594\n",
        "  Action (0, 1) => this is not myhou with cost 26.4869536594 + 0.0\n",
        "  Action (1, 1) => t his is not myhou with cost 26.4869536594 + 10.473333563\n",
        "  Action (2, 1) => th is is not myhou with cost 26.4869536594 + 9.86747758774\n",
        "  Action (3, 1) => thi s is not myhou with cost 26.4869536594 + 28.008142764\n",
        "  Action (6, 1) => this i s not myhou with cost 26.4869536594 + 10.4923238576\n",
        "  Action (9, 1) => this is n ot myhou with cost 26.4869536594 + 29.1058437642\n",
        "  Action (10, 1) => this is no t myhou with cost 26.4869536594 + 12.8760149171\n",
        "  Action (13, 1) => this is not m yhou with cost 26.4869536594 + 10.4692056916\n",
        "  Action (14, 1) => this is not my hou with cost 26.4869536594 + 5.93344863346\n",
        "  Action (15, 1) => this is not myh ou with cost 26.4869536594 + 12.203806747\n",
        "  Action (16, 1) => this is not myho u with cost 26.4869536594 + 12.203806747\n",
        "  Action (0, 0) => thisis not myhou with cost 26.4869536594 + 14.0873904722\n",
        "  Action (1, 0) => this isnot myhou with cost 26.4869536594 + 12.9202467074\n",
        "  Action (2, 0) => this is notmyhou with cost 26.4869536594 + 0.90172440193\n",
        "Exploring this is not myhou with pastCost 26.4869536594\n",
        "  Action (0, 1) => this is not myhous with cost 26.4869536594 + 1.89711998489\n",
        "  Action (1, 1) => t his is not myhous with cost 26.4869536594 + 12.3704535479\n",
        "  Action (2, 1) => th is is not myhous with cost 26.4869536594 + 11.7645975726\n",
        "  Action (3, 1) => thi s is not myhous with cost 26.4869536594 + 29.9052627489\n",
        "  Action (6, 1) => this i s not myhous with cost 26.4869536594 + 12.3894438425\n",
        "  Action (9, 1) => this is n ot myhous with cost 26.4869536594 + 31.0029637491\n",
        "  Action (10, 1) => this is no t myhous with cost 26.4869536594 + 14.773134902\n",
        "  Action (13, 1) => this is not m yhous with cost 26.4869536594 + 10.4692056916\n",
        "  Action (14, 1) => this is not my hous with cost 26.4869536594 + 5.93344863346\n",
        "  Action (15, 1) => this is not myh ous with cost 26.4869536594 + 22.7902848586\n",
        "  Action (16, 1) => this is not myho us with cost 26.4869536594 + 7.16902099266\n",
        "  Action (17, 1) => this is not myhou s with cost 26.4869536594 + 10.7374696782\n",
        "  Action (0, 0) => thisis not myhous with cost 26.4869536594 + 15.9845104571\n",
        "  Action (1, 0) => this isnot myhous with cost 26.4869536594 + 14.8173666923\n",
        "  Action (2, 0) => this is notmyhous with cost 26.4869536594 + 2.79884438682\n",
        "Exploring this is n o tm with pastCost 26.5330916843\n",
        "  Action (0, 1) => this is n o tmy with cost 26.5330916843 + 14.2152536417\n",
        "  Action (1, 1) => t his is n o tmy with cost 26.5330916843 + 24.6885872047\n",
        "  Action (2, 1) => th is is n o tmy with cost 26.5330916843 + 24.0827312294\n",
        "  Action (3, 1) => thi s is n o tmy with cost 26.5330916843 + 42.2233964057\n",
        "  Action (6, 1) => this i s n o tmy with cost 26.5330916843 + 24.7075774993\n",
        "  Action (13, 1) => this is n o t my with cost 26.5330916843 + 9.05139853974\n",
        "  Action (14, 1) => this is n o tm y with cost 26.5330916843 + 11.9161246745\n",
        "  Action (0, 0) => thisis n o tmy with cost 26.5330916843 + 28.3026441139\n",
        "  Action (1, 0) => this isn o tmy with cost 26.5330916843 + 20.8199414435\n",
        "  Action (2, 0) => this is no tmy with cost 26.5330916843 + 1.136895769\n",
        "  Action (3, 0) => this is n otmy with cost 26.5330916843 + 6.2694208807\n",
        "Exploring t hisisno with pastCost 26.5845248284\n",
        "  Action (0, 1) => t hisisnot with cost 26.5845248284 + 1.89711998489\n",
        "  Action (3, 1) => t h isisnot with cost 26.5845248284 + 11.9161246745\n",
        "  Action (4, 1) => t hi sisnot with cost 26.5845248284 + 10.7121518702\n",
        "  Action (5, 1) => t his isnot with cost 26.5845248284 + 0.505724242832\n",
        "  Action (6, 1) => t hisi snot with cost 26.5845248284 + 18.9960448889\n",
        "  Action (7, 1) => t hisis not with cost 26.5845248284 + 0.995395582955\n",
        "  Action (8, 1) => t hisisn ot with cost 26.5845248284 + 20.8931648737\n",
        "  Action (9, 1) => t hisisno t with cost 26.5845248284 + 11.6929811232\n",
        "  Action (0, 0) => thisisnot with cost 26.5845248284 + -7.89874115345\n",
        "Exploring thisi s not with pastCost 26.6244089663\n",
        "  Action (0, 1) => thisi s notm with cost 26.6244089663 + 18.0006493059\n",
        "  Action (1, 1) => t hisi s notm with cost 26.6244089663 + 29.6936304291\n",
        "  Action (2, 1) => th isi s notm with cost 26.6244089663 + 28.307336068\n",
        "  Action (3, 1) => thi si s notm with cost 26.6244089663 + 29.9167739804\n",
        "  Action (4, 1) => this i s notm with cost 26.6244089663 + 5.56523299793\n",
        "  Action (9, 1) => thisi s n otm with cost 26.6244089663 + 29.1058437642\n",
        "  Action (10, 1) => thisi s no tm with cost 26.6244089663 + 9.75806501083\n",
        "  Action (11, 1) => thisi s not m with cost 26.6244089663 + 10.4692056916\n",
        "  Action (0, 0) => thisis notm with cost 26.6244089663 + 9.16029961259\n",
        "  Action (1, 0) => thisi snotm with cost 26.6244089663 + 7.26317962771\n",
        "Exploring thi s i with pastCost 26.6700301914\n",
        "  Action (0, 1) => thi s is with cost 26.6700301914 + 0.245145820608\n",
        "  Action (1, 1) => t hi s is with cost 26.6700301914 + 1.7571139403\n",
        "  Action (2, 1) => th i s is with cost 26.6700301914 + -7.40319549807\n",
        "  Action (7, 1) => thi s i s with cost 26.6700301914 + 10.7374696782\n",
        "  Action (0, 0) => this is with cost 26.6700301914 + -27.7629969434\n",
        "  Action (1, 0) => thi sis with cost 26.6700301914 + 7.21755840259\n",
        "Exploring t h is is not with pastCost 26.8665654242\n",
        "  Action (0, 1) => t h is is notm with cost 26.8665654242 + 18.0006493059\n",
        "  Action (5, 1) => t h i s is notm with cost 26.8665654242 + 28.4929731635\n",
        "  Action (8, 1) => t h is i s notm with cost 26.8665654242 + 28.4929731635\n",
        "  Action (11, 1) => t h is is n otm with cost 26.8665654242 + 29.1058437642\n",
        "  Action (12, 1) => t h is is no tm with cost 26.8665654242 + 9.75806501083\n",
        "  Action (13, 1) => t h is is not m with cost 26.8665654242 + 10.4692056916\n",
        "  Action (0, 0) => th is is notm with cost 26.8665654242 + 4.69823027025\n",
        "  Action (1, 0) => t his is notm with cost 26.8665654242 + 5.30408624552\n",
        "  Action (2, 0) => t h isis notm with cost 26.8665654242 + 30.6301289676\n",
        "  Action (3, 0) => t h is isnotm with cost 26.8665654242 + 14.8173666923\n",
        "Exploring thi s is with pastCost 26.9151760121\n",
        "  Action (0, 1) => thi s isn with cost 26.9151760121 + 17.7098822602\n",
        "  Action (1, 1) => t hi s isn with cost 26.9151760121 + 19.2218503799\n",
        "  Action (2, 1) => th i s isn with cost 26.9151760121 + 10.0615409415\n",
        "  Action (7, 1) => thi s i sn with cost 26.9151760121 + 22.545139038\n",
        "  Action (8, 1) => thi s is n with cost 26.9151760121 + 11.1051944583\n",
        "  Action (0, 0) => this isn with cost 26.9151760121 + -10.2982605038\n",
        "  Action (1, 0) => thi sisn with cost 26.9151760121 + 6.97241258198\n",
        "Exploring this is no t m with pastCost 27.0418894095\n",
        "  Action (0, 1) => this is no t my with cost 27.0418894095 + -4.53575705814\n",
        "  Action (1, 1) => t his is no t my with cost 27.0418894095 + 5.93757650487\n",
        "  Action (2, 1) => th is is no t my with cost 27.0418894095 + 5.3317205296\n",
        "  Action (3, 1) => thi s is no t my with cost 27.0418894095 + 23.4723857059\n",
        "  Action (6, 1) => this i s no t my with cost 27.0418894095 + 5.95656679945\n",
        "  Action (9, 1) => this is n o t my with cost 27.0418894095 + 8.54260081455\n",
        "  Action (14, 1) => this is no t m y with cost 27.0418894095 + 11.9161246745\n",
        "  Action (0, 0) => thisis no t my with cost 27.0418894095 + 9.55163341411\n",
        "  Action (1, 0) => this isno t my with cost 27.0418894095 + 7.20145585542\n",
        "  Action (2, 0) => this is not my with cost 27.0418894095 + -17.4117719752\n",
        "  Action (3, 0) => this is no tmy with cost 27.0418894095 + 0.628098043809\n",
        "Exploring t his is no t with pastCost 27.0460172809\n",
        "  Action (0, 1) => t his is no tm with cost 27.0460172809 + -3.11794990628\n",
        "  Action (3, 1) => t h is is no tm with cost 27.0460172809 + 9.57861315411\n",
        "  Action (4, 1) => t hi s is no tm with cost 27.0460172809 + 15.9288274144\n",
        "  Action (7, 1) => t his i s no tm with cost 27.0460172809 + 7.37437395131\n",
        "  Action (10, 1) => t his is n o tm with cost 27.0460172809 + 9.96040796641\n",
        "  Action (13, 1) => t his is no t m with cost 27.0460172809 + 10.4692056916\n",
        "  Action (0, 0) => this is no tm with cost 27.0460172809 + -13.5912834693\n",
        "  Action (1, 0) => t hisis no tm with cost 27.0460172809 + 10.2919681413\n",
        "  Action (2, 0) => t his isno tm with cost 27.0460172809 + 8.61926300728\n",
        "  Action (3, 0) => t his is notm with cost 27.0460172809 + 5.12463438879\n",
        "Exploring this i s no t with pastCost 27.0650075755\n",
        "  Action (0, 1) => this i s no tm with cost 27.0650075755 + -3.11794990628\n",
        "  Action (1, 1) => t his i s no tm with cost 27.0650075755 + 7.35538365673\n",
        "  Action (2, 1) => th is i s no tm with cost 27.0650075755 + 6.74952768146\n",
        "  Action (3, 1) => thi s i s no tm with cost 27.0650075755 + 24.8901928577\n",
        "  Action (10, 1) => this i s n o tm with cost 27.0650075755 + 9.96040796641\n",
        "  Action (13, 1) => this i s no t m with cost 27.0650075755 + 10.4692056916\n",
        "  Action (0, 0) => thisi s no tm with cost 27.0650075755 + 9.31746640169\n",
        "  Action (1, 0) => this is no tm with cost 27.0650075755 + -13.6102737639\n",
        "  Action (2, 0) => this i sno tm with cost 27.0650075755 + 2.96219592754\n",
        "  Action (3, 0) => this i s notm with cost 27.0650075755 + 5.12463438879\n",
        "Exploring this isnot m with pastCost 27.0861211998\n",
        "  Action (0, 1) => this isnot my with cost 27.0861211998 + -4.53575705814\n",
        "  Action (1, 1) => t his isnot my with cost 27.0861211998 + 5.93757650487\n",
        "  Action (2, 1) => th is isnot my with cost 27.0861211998 + 5.3317205296\n",
        "  Action (3, 1) => thi s isnot my with cost 27.0861211998 + 23.4723857059\n",
        "  Action (6, 1) => this i snot my with cost 27.0861211998 + 0.299499719705\n",
        "  Action (7, 1) => this is not my with cost 27.0861211998 + -17.4560037656\n",
        "  Action (8, 1) => this isn ot my with cost 27.0861211998 + 18.2545278005\n",
        "  Action (9, 1) => this isno t my with cost 27.0861211998 + 7.15722406508\n",
        "  Action (12, 1) => this isnot m y with cost 27.0861211998 + 11.9161246745\n",
        "  Action (0, 0) => thisisnot my with cost 27.0861211998 + -2.46688889141\n",
        "  Action (1, 0) => this isnotmy with cost 27.0861211998 + -6.67496572183\n",
        "Exploring t his isno with pastCost 27.0902490712\n",
        "  Action (0, 1) => t his isnot with cost 27.0902490712 + 0.0\n",
        "  Action (3, 1) => t h is isnot with cost 27.0902490712 + 12.6965630604\n",
        "  Action (4, 1) => t hi s isnot with cost 27.0902490712 + 19.0467773207\n",
        "  Action (7, 1) => t his i snot with cost 27.0902490712 + 4.83525677784\n",
        "  Action (8, 1) => t his is not with cost 27.0902490712 + -12.9202467074\n",
        "  Action (9, 1) => t his isn ot with cost 27.0902490712 + 22.7902848586\n",
        "  Action (10, 1) => t his isno t with cost 27.0902490712 + 11.6929811232\n",
        "  Action (0, 0) => this isnot with cost 27.0902490712 + -10.473333563\n",
        "  Action (1, 0) => t hisisnot with cost 27.0902490712 + 1.39139574205\n",
        "Exploring t his isnot with pastCost 27.0902490712\n",
        "  Action (0, 1) => t his isnotm with cost 27.0902490712 + 1.89711998489\n",
        "  Action (3, 1) => t h is isnotm with cost 27.0902490712 + 14.5936830453\n",
        "  Action (4, 1) => t hi s isnotm with cost 27.0902490712 + 20.9438973056\n",
        "  Action (7, 1) => t his i snotm with cost 27.0902490712 + 4.83525677784\n",
        "  Action (8, 1) => t his is notm with cost 27.0902490712 + 5.08040259845\n",
        "  Action (9, 1) => t his isn otm with cost 27.0902490712 + 22.7902848586\n",
        "  Action (10, 1) => t his isno tm with cost 27.0902490712 + 8.57503121694\n",
        "  Action (11, 1) => t his isnot m with cost 27.0902490712 + 10.4692056916\n",
        "  Action (0, 0) => this isnotm with cost 27.0902490712 + -8.57621357812\n",
        "  Action (1, 0) => t hisisnotm with cost 27.0902490712 + 3.28851572694\n",
        "Exploring t his isn with pastCost 27.0902490712\n",
        "  Action (0, 1) => t his isno with cost 27.0902490712 + 0.0"
       ]
      },
      {
       "output_type": "stream",
       "stream": "stdout",
       "text": [
        "\n",
        "  Action (3, 1) => t h is isno with cost 27.0902490712 + 12.6965630604\n",
        "  Action (4, 1) => t hi s isno with cost 27.0902490712 + 19.0467773207\n",
        "  Action (7, 1) => t his i sno with cost 27.0902490712 + 4.83525677784\n",
        "  Action (8, 1) => t his is no with cost 27.0902490712 + -11.7372129136\n",
        "  Action (9, 1) => t his isn o with cost 27.0902490712 + 7.94583276098\n",
        "  Action (0, 0) => this isno with cost 27.0902490712 + -10.473333563\n",
        "  Action (1, 0) => t hisisno with cost 27.0902490712 + -0.505724242832\n",
        "Exploring th isisnotm with pastCost 27.0953504522\n",
        "  Action (0, 1) => th isisnotmy with cost 27.0953504522 + 1.89711998489\n",
        "  Action (1, 1) => t h isisnotmy with cost 27.0953504522 + 15.1995390205\n",
        "  Action (4, 1) => th i sisnotmy with cost 27.0953504522 + 4.83525677784\n",
        "  Action (5, 1) => th is isnotmy with cost 27.0953504522 + 3.18328261357\n",
        "  Action (6, 1) => th isi snotmy with cost 27.0953504522 + 18.9960448889\n",
        "  Action (7, 1) => th isis notmy with cost 27.0953504522 + 17.098924904\n",
        "  Action (8, 1) => th isisn otmy with cost 27.0953504522 + 17.098924904\n",
        "  Action (9, 1) => th isisno tmy with cost 27.0953504522 + 18.9960448889\n",
        "  Action (10, 1) => th isisnot my with cost 27.0953504522 + 4.03632864857\n",
        "  Action (11, 1) => th isisnotm y with cost 27.0953504522 + 11.9161246745\n",
        "  Action (0, 0) => thisisnotmy with cost 27.0953504522 + -4.61532680744\n",
        "Exploring this i snotmyho with pastCost 27.1435322407\n",
        "  Action (0, 1) => this i snotmyhou with cost 27.1435322407 + 1.89711998489\n",
        "  Action (1, 1) => t his i snotmyhou with cost 27.1435322407 + 12.3704535479\n",
        "  Action (2, 1) => th is i snotmyhou with cost 27.1435322407 + 11.7645975726\n",
        "  Action (3, 1) => thi s i snotmyhou with cost 27.1435322407 + 29.9052627489\n",
        "  Action (8, 1) => this i s notmyhou with cost 27.1435322407 + 10.7374696782\n",
        "  Action (9, 1) => this i sn otmyhou with cost 27.1435322407 + 20.8931648737\n",
        "  Action (10, 1) => this i sno tmyhou with cost 27.1435322407 + 18.9960448889\n",
        "  Action (11, 1) => this i snot myhou with cost 27.1435322407 + 17.098924904\n",
        "  Action (12, 1) => this i snotm yhou with cost 27.1435322407 + 17.098924904\n",
        "  Action (13, 1) => this i snotmy hou with cost 27.1435322407 + 18.9960448889\n",
        "  Action (14, 1) => this i snotmyh ou with cost 27.1435322407 + 10.3066867621\n",
        "  Action (15, 1) => this i snotmyho u with cost 27.1435322407 + 12.203806747\n",
        "  Action (0, 0) => thisi snotmyhou with cost 27.1435322407 + 14.3325362929\n",
        "  Action (1, 0) => this isnotmyhou with cost 27.1435322407 + -1.04101680807\n",
        "Exploring th isis no with pastCost 27.3766598441\n",
        "  Action (0, 1) => th isis not with cost 27.3766598441 + -1.18303379389\n",
        "  Action (1, 1) => t h isis not with cost 27.3766598441 + 12.1193852418\n",
        "  Action (4, 1) => th i sis not with cost 27.3766598441 + 3.65222298396\n",
        "  Action (5, 1) => th is is not with cost 27.3766598441 + -13.8125134556\n",
        "  Action (6, 1) => th isi s not with cost 27.3766598441 + 9.55443588431\n",
        "  Action (9, 1) => th isis n ot with cost 27.3766598441 + 27.9228099703\n",
        "  Action (10, 1) => th isis no t with cost 27.3766598441 + 11.6929811232\n",
        "  Action (0, 0) => thisis not with cost 27.3766598441 + -9.5926005711\n",
        "  Action (1, 0) => th isisnot with cost 27.3766598441 + -2.17842937684\n",
        "Exploring this i snot my with pastCost 27.3856209195\n",
        "  Action (0, 1) => this i snot myh with cost 27.3856209195 + 16.8568362252\n",
        "  Action (1, 1) => t his i snot myh with cost 27.3856209195 + 27.3301697882\n",
        "  Action (2, 1) => th is i snot myh with cost 27.3856209195 + 26.7243138129\n",
        "  Action (3, 1) => thi s i snot myh with cost 27.3856209195 + 44.8649789892\n",
        "  Action (8, 1) => this i s not myh with cost 27.3856209195 + 9.59365659746\n",
        "  Action (9, 1) => this i sn ot myh with cost 27.3856209195 + 39.6471210838\n",
        "  Action (10, 1) => this i sno t myh with cost 27.3856209195 + 28.5498173484\n",
        "  Action (13, 1) => this i snot m yh with cost 27.3856209195 + 27.3260419168\n",
        "  Action (14, 1) => this i snot my h with cost 27.3856209195 + 11.9161246745\n",
        "  Action (0, 0) => thisi snot myh with cost 27.3856209195 + 29.2922525331\n",
        "  Action (1, 0) => this isnot myh with cost 27.3856209195 + 12.0215794473\n",
        "  Action (2, 0) => this i snotmyh with cost 27.3856209195 + -2.13920866369\n",
        "Exploring this is notmyhou with pastCost 27.3886780613\n",
        "  Action (0, 1) => this is notmyhous with cost 27.3886780613 + 1.89711998489\n",
        "  Action (1, 1) => t his is notmyhous with cost 27.3886780613 + 12.3704535479\n",
        "  Action (2, 1) => th is is notmyhous with cost 27.3886780613 + 11.7645975726\n",
        "  Action (3, 1) => thi s is notmyhous with cost 27.3886780613 + 29.9052627489\n",
        "  Action (6, 1) => this i s notmyhous with cost 27.3886780613 + 12.3894438425\n",
        "  Action (9, 1) => this is n otmyhous with cost 27.3886780613 + 11.1051944583\n",
        "  Action (10, 1) => this is no tmyhous with cost 27.3886780613 + 4.07554936173\n",
        "  Action (11, 1) => this is not myhous with cost 27.3886780613 + 0.995395582955\n",
        "  Action (12, 1) => this is notm yhous with cost 27.3886780613 + 17.098924904\n",
        "  Action (13, 1) => this is notmy hous with cost 27.3886780613 + 17.098924904\n",
        "  Action (14, 1) => this is notmyh ous with cost 27.3886780613 + 18.9960448889\n",
        "  Action (15, 1) => this is notmyho us with cost 27.3886780613 + 5.27190100777\n",
        "  Action (16, 1) => this is notmyhou s with cost 27.3886780613 + 10.7374696782\n",
        "  Action (0, 0) => thisis notmyhous with cost 27.3886780613 + 15.9845104571\n",
        "  Action (1, 0) => this isnotmyhous with cost 27.3886780613 + 0.610957356205\n",
        "Exploring t h i s with pastCost 27.4888511306\n",
        "  Action (0, 1) => t h i si with cost 27.4888511306 + 1.17865499634\n",
        "  Action (7, 1) => t h i s i with cost 27.4888511306 + 4.83525677784\n",
        "  Action (0, 0) => th i si with cost 27.4888511306 + -12.1237640393\n",
        "  Action (1, 0) => t hi si with cost 27.4888511306 + -2.96345460094\n",
        "  Action (2, 0) => t h isi with cost 27.4888511306 + 7.21755840259\n",
        "Exploring thisis no tm with pastCost 27.5421242838\n",
        "  Action (0, 1) => thisis no tmy with cost 27.5421242838 + 14.2152536417\n",
        "  Action (1, 1) => t hisis no tmy with cost 27.5421242838 + 24.01111478\n",
        "  Action (2, 1) => th isis no tmy with cost 27.5421242838 + 22.6248204189\n",
        "  Action (3, 1) => thi sis no tmy with cost 27.5421242838 + 35.1084185154\n",
        "  Action (4, 1) => this is no tmy with cost 27.5421242838 + 0.127863169439\n",
        "  Action (5, 1) => thisi s no tmy with cost 27.5421242838 + 23.055603335\n",
        "  Action (8, 1) => thisis n o tmy with cost 27.5421242838 + 27.2936115144\n",
        "  Action (11, 1) => thisis no t my with cost 27.5421242838 + 9.05139853974\n",
        "  Action (12, 1) => thisis no tm y with cost 27.5421242838 + 11.9161246745\n",
        "  Action (0, 0) => thisisno tmy with cost 27.5421242838 + 12.0368242648\n",
        "  Action (1, 0) => thisis notmy with cost 27.5421242838 + 8.24258429507\n",
        "Exploring t hisis not with pastCost 27.5799204114\n",
        "  Action (0, 1) => t hisis notm with cost 27.5799204114 + 18.0006493059\n",
        "  Action (3, 1) => t h isis notm with cost 27.5799204114 + 29.9167739804\n",
        "  Action (4, 1) => t hi sis notm with cost 27.5799204114 + 30.609921161\n",
        "  Action (5, 1) => t his is notm with cost 27.5799204114 + 4.59073125833\n",
        "  Action (6, 1) => t hisi s notm with cost 27.5799204114 + 28.7381189841\n",
        "  Action (9, 1) => t hisis n otm with cost 27.5799204114 + 29.1058437642\n",
        "  Action (10, 1) => t hisis no tm with cost 27.5799204114 + 9.75806501083\n",
        "  Action (11, 1) => t hisis not m with cost 27.5799204114 + 10.4692056916\n",
        "  Action (0, 0) => thisis notm with cost 27.5799204114 + 8.20478816757\n",
        "  Action (1, 0) => t hisisnotm with cost 27.5799204114 + 2.79884438682\n",
        "Exploring this is no tmy with pastCost 27.6699874533\n",
        "  Action (0, 1) => this is no tmyh with cost 27.6699874533 + 0.0\n",
        "  Action (1, 1) => t his is no tmyh with cost 27.6699874533 + 10.473333563\n",
        "  Action (2, 1) => th is is no tmyh with cost 27.6699874533 + 9.86747758774\n",
        "  Action (3, 1) => thi s is no tmyh with cost 27.6699874533 + 28.008142764\n",
        "  Action (6, 1) => this i s no tmyh with cost 27.6699874533 + 10.4923238576\n",
        "  Action (9, 1) => this is n o tmyh with cost 27.6699874533 + 13.0783578727\n",
        "  Action (12, 1) => this is no t myh with cost 27.6699874533 + 11.6929811232\n",
        "  Action (13, 1) => this is no tm yh with cost 27.6699874533 + 8.57503121694\n",
        "  Action (14, 1) => this is no tmy h with cost 27.6699874533 + 11.9161246745\n",
        "  Action (0, 0) => thisis no tmyh with cost 27.6699874533 + 14.0873904722\n",
        "  Action (1, 0) => this isno tmyh with cost 27.6699874533 + 11.7372129136\n",
        "  Action (2, 0) => this is notmyh with cost 27.6699874533 + -4.07554936173\n",
        "Exploring this is no tmyh with pastCost 27.6699874533\n",
        "  Action (0, 1) => this is no tmyho with cost 27.6699874533 + 0.0\n",
        "  Action (1, 1) => t his is no tmyho with cost 27.6699874533 + 10.473333563\n",
        "  Action (2, 1) => th is is no tmyho with cost 27.6699874533 + 9.86747758774\n",
        "  Action (3, 1) => thi s is no tmyho with cost 27.6699874533 + 28.008142764\n",
        "  Action (6, 1) => this i s no tmyho with cost 27.6699874533 + 10.4923238576\n",
        "  Action (9, 1) => this is n o tmyho with cost 27.6699874533 + 13.0783578727\n",
        "  Action (12, 1) => this is no t myho with cost 27.6699874533 + 11.6929811232\n",
        "  Action (13, 1) => this is no tm yho with cost 27.6699874533 + 8.57503121694\n",
        "  Action (14, 1) => this is no tmy ho with cost 27.6699874533 + 10.2578965979\n",
        "  Action (15, 1) => this is no tmyh o with cost 27.6699874533 + 7.94583276098\n",
        "  Action (0, 0) => thisis no tmyho with cost 27.6699874533 + 14.0873904722\n",
        "  Action (1, 0) => this isno tmyho with cost 27.6699874533 + 11.7372129136\n",
        "  Action (2, 0) => this is notmyho with cost 27.6699874533 + -2.17842937684\n",
        "Exploring this is no tmyho with pastCost 27.6699874533\n",
        "  Action (0, 1) => this is no tmyhou with cost 27.6699874533 + 1.89711998489\n",
        "  Action (1, 1) => t his is no tmyhou with cost 27.6699874533 + 12.3704535479\n",
        "  Action (2, 1) => th is is no tmyhou with cost 27.6699874533 + 11.7645975726\n",
        "  Action (3, 1) => thi s is no tmyhou with cost 27.6699874533 + 29.9052627489\n",
        "  Action (6, 1) => this i s no tmyhou with cost 27.6699874533 + 12.3894438425\n",
        "  Action (9, 1) => this is n o tmyhou with cost 27.6699874533 + 14.9754778576\n",
        "  Action (12, 1) => this is no t myhou with cost 27.6699874533 + 11.6929811232\n",
        "  Action (13, 1) => this is no tm yhou with cost 27.6699874533 + 8.57503121694\n",
        "  Action (14, 1) => this is no tmy hou with cost 27.6699874533 + 22.7902848586\n",
        "  Action (15, 1) => this is no tmyh ou with cost 27.6699874533 + 12.203806747\n",
        "  Action (16, 1) => this is no tmyho u with cost 27.6699874533 + 12.203806747\n",
        "  Action (0, 0) => thisis no tmyhou with cost 27.6699874533 + 15.9845104571\n",
        "  Action (1, 0) => this isno tmyhou with cost 27.6699874533 + 13.6343328984\n",
        "  Action (2, 0) => this is notmyhou with cost 27.6699874533 + -0.281309391956\n",
        "Exploring thisi s no with pastCost 27.8074427602\n",
        "  Action (0, 1) => thisi s not with cost 27.8074427602 + -1.18303379389\n",
        "  Action (1, 1) => t hisi s not with cost 27.8074427602 + 10.5099473293\n",
        "  Action (2, 1) => th isi s not with cost 27.8074427602 + 9.12365296821\n",
        "  Action (3, 1) => thi si s not with cost 27.8074427602 + 10.7330908806\n",
        "  Action (4, 1) => this i s not with cost 27.8074427602 + -13.6184501019\n",
        "  Action (9, 1) => thisi s n ot with cost 27.8074427602 + 27.9228099703\n",
        "  Action (10, 1) => thisi s no t with cost 27.8074427602 + 11.6929811232\n",
        "  Action (0, 0) => thisis not with cost 27.8074427602 + -10.0233834872\n",
        "  Action (1, 0) => thisi snot with cost 27.8074427602 + 6.08014583382\n",
        "Exploring th is is n o with pastCost 27.8255380551\n",
        "  Action (0, 1) => th is is n ot with cost 27.8255380551 + 14.8444520976\n",
        "  Action (1, 1) => t h is is n ot with cost 27.8255380551 + 28.1468711333\n",
        "  Action (4, 1) => th i s is n ot with cost 27.8255380551 + 25.3367759552\n",
        "  Action (7, 1) => th is i s n ot with cost 27.8255380551 + 25.3367759552\n",
        "  Action (12, 1) => th is is n o t with cost 27.8255380551 + 11.6929811232\n",
        "  Action (0, 0) => this is n ot with cost 27.8255380551 + 4.97697450991\n",
        "  Action (1, 0) => th isis n ot with cost 27.8255380551 + 27.4739317594\n",
        "  Action (2, 0) => th is isn ot with cost 27.8255380551 + 21.4491398995\n",
        "  Action (3, 0) => th is is not with cost 27.8255380551 + -14.2613916666\n",
        "Exploring this isnotmyhous with pastCost 27.9996354175\n",
        "  Action (0, 1) => this isnotmyhouse with cost 27.9996354175 + 1.89711998489\n",
        "  Action (1, 1) => t his isnotmyhouse with cost 27.9996354175 + 12.3704535479\n",
        "  Action (2, 1) => th is isnotmyhouse with cost 27.9996354175 + 11.7645975726\n",
        "  Action (3, 1) => thi s isnotmyhouse with cost 27.9996354175 + 29.9052627489\n",
        "  Action (6, 1) => this i snotmyhouse with cost 27.9996354175 + 4.83525677784\n",
        "  Action (7, 1) => this is notmyhouse with cost 27.9996354175 + 3.18328261357\n",
        "  Action (8, 1) => this isn otmyhouse with cost 27.9996354175 + 18.9960448889\n",
        "  Action (9, 1) => this isno tmyhouse with cost 27.9996354175 + 17.098924904\n",
        "  Action (10, 1) => this isnot myhouse with cost 27.9996354175 + 15.2018049191\n",
        "  Action (11, 1) => this isnotm yhouse with cost 27.9996354175 + 15.2018049191\n",
        "  Action (12, 1) => this isnotmy house with cost 27.9996354175 + -0.338150072813\n",
        "  Action (13, 1) => this isnotmyh ouse with cost 27.9996354175 + 17.098924904\n",
        "  Action (14, 1) => this isnotmyho use with cost 27.9996354175 + 4.78079124717\n",
        "  Action (15, 1) => this isnotmyhou se with cost 27.9996354175 + 11.4052990508\n",
        "  Action (16, 1) => this isnotmyhous e with cost 27.9996354175 + 9.3321271221\n",
        "  Action (0, 0) => thisisnotmyhouse with cost 27.9996354175 + 3.96598815161\n",
        "Exploring this isnotmy house with pastCost 27.6614853447\n",
        "numStatesExplored = 153\n",
        "totalCost = 27.6614853447\n",
        "actions = [(0, 1), (2, 1), (0, 0), (4, 1), (0, 1), (7, 1), (0, 1), (1, 0), (0, 1), (0, 1), (0, 1), (0, 1), (0, 1), (0, 1), (12, 1)]\n",
        "this isnotmy house\n"
       ]
      },
      {
       "metadata": {},
       "output_type": "pyout",
       "prompt_number": 202,
       "text": [
        "'this isnotmy house'"
       ]
      }
     ],
     "prompt_number": 202
    },
    {
     "cell_type": "code",
     "collapsed": false,
     "input": [
      "benefit = 0\n",
      "for action,newState,cost in SegmentationProblem('thisisnotmyhouse',unigramCost).succAndCost('this isnotmy house'):\n",
      "    print (newState,cost)\n",
      "    if cost < 0:\n",
      "        benefit += 1\n",
      "if len(''.join(state.split())) == len('thisisnotmyhouse') and benefit == 0:\n",
      "    print True\n",
      "else:\n",
      "    print False"
     ],
     "language": "python",
     "metadata": {},
     "outputs": [
      {
       "output_type": "stream",
       "stream": "stdout",
       "text": [
        "('this isnotmy house', 0.0)\n",
        "('t his isnotmy house', 10.473333563009355)\n",
        "('th is isnotmy house', 9.8674775877382217)\n",
        "('thi s isnotmy house', 28.008142764005846)\n",
        "('this i snotmy house', 2.9381367929581543)\n",
        "('this is notmy house', 1.2861626286807564)\n",
        "('this isn otmy house', 18.996044888855927)\n",
        "('this isno tmy house', 18.996044888855927)\n",
        "('this isnot my house', 2.1392086636881587)\n",
        "('this isnotm y house', 10.019004689648938)\n",
        "('this isnotmy h ouse', 27.45607966643221)\n",
        "('this isnotmy ho use', 11.582597948143366)\n",
        "('this isnotmy hou se', 28.842374027552104)\n",
        "('this isnotmy hous e', 24.872082113999987)\n",
        "('this isnotmy house ', 0.0)\n",
        "('thisisnotmy house', 2.0688681667285067)\n",
        "('this isnotmyhouse', 2.2352700576991111)\n",
        "False\n"
       ]
      }
     ],
     "prompt_number": 207
    },
    {
     "cell_type": "code",
     "collapsed": false,
     "input": [
      "unigramCost('this') + unigramCost('isnotmy') + unigramCost('house')"
     ],
     "language": "python",
     "metadata": {},
     "outputs": [
      {
       "metadata": {},
       "output_type": "pyout",
       "prompt_number": 208,
       "text": [
        "39.35446646794477"
       ]
      }
     ],
     "prompt_number": 208
    },
    {
     "cell_type": "code",
     "collapsed": false,
     "input": [
      "unigramCost('this') + unigramCost('isnot')  + unigramCost('my') + unigramCost('house')"
     ],
     "language": "python",
     "metadata": {},
     "outputs": [
      {
       "metadata": {},
       "output_type": "pyout",
       "prompt_number": 212,
       "text": [
        "41.493675131632926"
       ]
      }
     ],
     "prompt_number": 212
    },
    {
     "cell_type": "code",
     "collapsed": false,
     "input": [
      "unigramCost('this') + unigramCost('is')  + unigramCost('notmy') + unigramCost('house')"
     ],
     "language": "python",
     "metadata": {},
     "outputs": [
      {
       "metadata": {},
       "output_type": "pyout",
       "prompt_number": 213,
       "text": [
        "40.640629096625524"
       ]
      }
     ],
     "prompt_number": 213
    },
    {
     "cell_type": "code",
     "collapsed": false,
     "input": [
      "segmentWords('thisisnotmybeautifulhouse',unigramCost)"
     ],
     "language": "python",
     "metadata": {},
     "outputs": [
      {
       "output_type": "stream",
       "stream": "stdout",
       "text": [
        "Exploring t with pastCost 0\n",
        "Exploring th with pastCost -1.38629436112\n",
        "Exploring th i with pastCost 3.44896241672\n",
        "Exploring this with pastCost -6.17336935041\n",
        "Exploring this i with pastCost -1.33811257256\n",
        "Exploring this is with pastCost -1.09296675195\n",
        "Exploring th is with pastCost 3.69410823733\n",
        "Exploring th is i with pastCost 8.52936501518\n",
        "Exploring th is is with pastCost 8.77451083579\n",
        "Exploring t his is with pastCost 9.38036681106\n",
        "Exploring this i s with pastCost 9.39935710563\n",
        "Exploring this is n with pastCost 10.0122277064\n",
        "Exploring this is no with pastCost 4.87970259466\n",
        "Exploring this is not with pastCost 3.69666880077\n",
        "Exploring thi with pastCost 11.0973037354\n",
        "Exploring t his with pastCost 4.2999642126\n",
        "Exploring t his i with pastCost 9.13522099045\n",
        "Exploring thisi with pastCost 11.0973037354\n",
        "Exploring t h with pastCost 11.9161246745\n",
        "Exploring t hi with pastCost 12.6092718551\n",
        "Exploring thisis with pastCost 12.9944237203\n",
        "Exploring this is no tm with pastCost 13.4547338116\n",
        "Exploring th is is not with pastCost 13.5641463885\n",
        "Exploring this is not m with pastCost 14.1658744924\n",
        "Exploring this is not my with pastCost 9.63011743423\n",
        "Exploring t his is not with pastCost 14.1700023638\n",
        "Exploring th i s with pastCost 14.1864320949\n",
        "Exploring this i s not with pastCost 14.1889926584\n",
        "Exploring th is is no with pastCost 14.7471801824\n",
        "Exploring thisisn with pastCost 14.8915437052\n",
        "Exploring t his is no with pastCost 15.3530361577\n",
        "Exploring th i si with pastCost 15.3650870913"
       ]
      },
      {
       "output_type": "stream",
       "stream": "stdout",
       "text": [
        "\n",
        "Exploring this i s no with pastCost 15.3720264522\n",
        "Exploring this is no t with pastCost 16.5726837179\n",
        "Exploring this isn with pastCost 16.6169155082\n",
        "Exploring this isno with pastCost 16.6169155082\n",
        "Exploring this isnot with pastCost 16.6169155082\n",
        "Exploring t h i with pastCost 16.7513814524\n",
        "Exploring thisisno with pastCost 16.7886636901\n",
        "Exploring t h is with pastCost 16.996527273\n",
        "Exploring thisis not with pastCost 17.784059273\n",
        "Exploring this is n o with pastCost 17.9580604673\n",
        "Exploring this isnotm with pastCost 18.5140354931\n",
        "Exploring thisisnot with pastCost 18.685783675\n",
        "Exploring thisis no with pastCost 18.9670930669\n",
        "Exploring th i s i with pastCost 19.0216888728\n",
        "Exploring th i s is with pastCost 19.2668346934\n",
        "Exploring th is i s with pastCost 19.2668346934\n",
        "Exploring th is is not my with pastCost 19.497595022\n",
        "Exploring t his i s with pastCost 19.8726906686\n",
        "Exploring th is is n with pastCost 19.8797052941\n",
        "Exploring t his is not my with pastCost 20.1034509972\n",
        "Exploring this i s not my with pastCost 20.1224412918\n",
        "Exploring this is not my b with pastCost 20.2934791403\n",
        "Exploring this is not my be with pastCost 15.0333829865\n",
        "Exploring this is not my be a with pastCost 19.0180432535"
       ]
      },
      {
       "output_type": "stream",
       "stream": "stdout",
       "text": [
        "\n",
        "Exploring this isnotmy with pastCost 20.411155478\n",
        "Exploring t his is n with pastCost 20.4855612694\n",
        "Exploring this i s n with pastCost 20.504551564\n",
        "Exploring thisisnotm with pastCost 20.5829036598\n",
        "Exploring th isi with pastCost 21.4039904975\n",
        "Exploring th isis with pastCost 21.4039904975\n",
        "Exploring th isisn with pastCost 21.4039904975\n",
        "Exploring this i sno with pastCost 21.4521722861\n",
        "Exploring this i snot with pastCost 21.4521722861\n",
        "Exploring this i snotm with pastCost 21.4521722861\n",
        "Exploring this i sn with pastCost 21.4521722861\n",
        "Exploring this is notm with pastCost 21.6973181067\n",
        "Exploring this is notmy with pastCost 21.6973181067\n",
        "Exploring t h is i with pastCost 21.8317840508\n",
        "Exploring thi s with pastCost 21.8347734136\n",
        "Exploring thisi s with pastCost 21.8347734136\n",
        "Exploring t h is is with pastCost 22.0769298714\n",
        "Exploring this is not my beau with pastCost 22.2393892893\n",
        "Exploring this isnotmyb with pastCost 22.3082754629\n",
        "Exploring thisisnotmy with pastCost 22.4800236447\n",
        "Exploring this is no t my with pastCost 22.5061323513\n",
        "Exploring this isnot my with pastCost 22.5503641417"
       ]
      },
      {
       "output_type": "stream",
       "stream": "stdout",
       "text": [
        "\n",
        "Exploring t hisi with pastCost 22.7902848586\n",
        "Exploring t hisis with pastCost 22.7902848586\n",
        "Exploring thisisn o with pastCost 22.8373764662\n",
        "Exploring thi si with pastCost 23.0134284099\n",
        "Exploring th isisno with pastCost 23.3011104824\n",
        "Exploring th is is no tm with pastCost 23.3222113993\n",
        "Exploring t hi s with pastCost 23.3467415333\n",
        "Exploring this i snotmy with pastCost 23.349292271\n",
        "Exploring this is notmyb with pastCost 23.5944380916\n",
        "Exploring thisis not my with pastCost 23.7175079065\n",
        "Exploring t his is no tm with pastCost 23.9280673746\n",
        "Exploring this i s no tm with pastCost 23.9470576692\n",
        "Exploring th is is not m with pastCost 24.0333520801\n",
        "Exploring th i s is not with pastCost 24.0564702461\n",
        "Exploring th is i s not with pastCost 24.0564702461\n",
        "Exploring thisis n with pastCost 24.0996181786\n",
        "Exploring this isnotmybe with pastCost 24.2053954478\n",
        "Exploring thisisnotmyb with pastCost 24.3771436296\n",
        "Exploring t hi si with pastCost 24.5253965296\n",
        "Exploring this isn o with pastCost 24.5627482692\n",
        "Exploring thisisnot my with pastCost 24.6192323084\n",
        "Exploring t his is not m with pastCost 24.6392080554"
       ]
      },
      {
       "output_type": "stream",
       "stream": "stdout",
       "text": [
        "\n",
        "Exploring this i s not m with pastCost 24.65819835\n",
        "Exploring t his i s not with pastCost 24.6623262214\n",
        "Exploring t hisisn with pastCost 24.6874048435\n",
        "Exploring th is is not my be with pastCost 24.9008605743\n",
        "Exploring this isno tm with pastCost 25.1919467252\n",
        "Exploring th isisnot with pastCost 25.1982304673\n",
        "Exploring th i s is no with pastCost 25.23950404\n",
        "Exploring th is i s no with pastCost 25.23950404\n",
        "Exploring this i snotmyb with pastCost 25.2464122558\n",
        "Exploring thisisno tm with pastCost 25.363694907\n",
        "Exploring this is no tm y with pastCost 25.3708584861\n",
        "Exploring this is not my be au with pastCost 25.4454302643\n",
        "Exploring this is notmybe with pastCost 25.4915580764\n",
        "Exploring t his is not my be with pastCost 25.5067165496\n",
        "Exploring this i s not my be with pastCost 25.5257068441\n",
        "Exploring this isnotmy be with pastCost 25.8144210303\n",
        "Exploring t his i s no with pastCost 25.8453600153\n",
        "Exploring this is not m y with pastCost 26.0819991669"
       ]
      },
      {
       "output_type": "stream",
       "stream": "stdout",
       "text": [
        "\n",
        "Exploring this isnotmybea with pastCost 26.1025154327\n",
        "Exploring th i si s with pastCost 26.1025567695\n",
        "Exploring th isis not with pastCost 26.1936260502\n",
        "Exploring th i sis with pastCost 26.2392472754\n",
        "Exploring th i sisn with pastCost 26.2392472754\n",
        "Exploring th i sisno with pastCost 26.2392472754\n",
        "Exploring thisisnotmybe with pastCost 26.2742636145\n",
        "Exploring th is is no t with pastCost 26.4401613056\n",
        "Exploring th is isn with pastCost 26.484393096\n",
        "Exploring th is isno with pastCost 26.484393096\n",
        "Exploring th is isnot with pastCost 26.484393096\n",
        "Exploring this is not myb with pastCost 26.4869536594\n",
        "Exploring this is not mybe with pastCost 26.4869536594\n",
        "Exploring this is not mybea with pastCost 26.4869536594\n",
        "Exploring this is n o tm with pastCost 26.5330916843\n",
        "Exploring t hisisno with pastCost 26.5845248284\n",
        "Exploring thisi s not with pastCost 26.6244089663\n",
        "Exploring thi s i with pastCost 26.6700301914\n",
        "Exploring t h is is not with pastCost 26.8665654242\n",
        "Exploring thi s is with pastCost 26.9151760121\n",
        "Exploring this is no t m with pastCost 27.0418894095"
       ]
      },
      {
       "output_type": "stream",
       "stream": "stdout",
       "text": [
        "\n",
        "Exploring t his is no t with pastCost 27.0460172809\n",
        "Exploring this i s no t with pastCost 27.0650075755\n",
        "Exploring this isnot m with pastCost 27.0861211998\n",
        "Exploring t his isno with pastCost 27.0902490712\n",
        "Exploring t his isnot with pastCost 27.0902490712\n",
        "Exploring t his isn with pastCost 27.0902490712\n",
        "Exploring th isisnotm with pastCost 27.0953504522\n",
        "Exploring this is notmy be with pastCost 27.100583659\n",
        "Exploring this i snotmybe with pastCost 27.1435322407\n",
        "Exploring th isis no with pastCost 27.3766598441\n",
        "Exploring this i snot my with pastCost 27.3856209195\n",
        "Exploring this is notmybea with pastCost 27.3886780613\n",
        "Exploring t h i s with pastCost 27.4888511306\n",
        "Exploring thisis no tm with pastCost 27.5421242838\n",
        "Exploring t hisis not with pastCost 27.5799204114\n",
        "Exploring this is no tmy with pastCost 27.6699874533\n",
        "Exploring this is no tmyb with pastCost 27.6699874533\n",
        "Exploring this is no tmybe with pastCost 27.6699874533\n",
        "Exploring thisi s no with pastCost 27.8074427602"
       ]
      },
      {
       "output_type": "stream",
       "stream": "stdout",
       "text": [
        "\n",
        "Exploring th is is n o with pastCost 27.8255380551\n",
        "Exploring thisisnotmy be with pastCost 27.883289197\n",
        "Exploring this is no t my be with pastCost 27.9093979037\n",
        "Exploring this isnot my be with pastCost 27.953629694\n",
        "Exploring this isnotmybeau with pastCost 27.9996354175\n",
        "Exploring t h is is no with pastCost 28.0495992181\n",
        "Exploring th i sisnot with pastCost 28.1363672602\n",
        "Exploring thisisnotmybea with pastCost 28.1713835994\n",
        "Exploring t hi s i with pastCost 28.1819983111\n",
        "Exploring this isnotmybe a with pastCost 28.1900557147\n",
        "Exploring thisis not m with pastCost 28.2532649646\n",
        "Exploring this isno t with pastCost 28.3098966314\n",
        "Exploring th is isnotm with pastCost 28.3815130808\n",
        "Exploring this is not mybeau with pastCost 28.3840736443\n",
        "Exploring t hi s is with pastCost 28.4271441317\n",
        "Exploring t his is n o with pastCost 28.4313940304\n",
        "Exploring this i s n o with pastCost 28.4503843249\n",
        "Exploring t hisisnot with pastCost 28.4816448133\n",
        "Exploring thisisno t with pastCost 28.4816448133"
       ]
      },
      {
       "output_type": "stream",
       "stream": "stdout",
       "text": [
        "\n",
        "Exploring t h i si with pastCost 28.6675061269\n",
        "Exploring this i snotmy be with pastCost 28.7525578233\n",
        "Exploring t hisis no with pastCost 28.7629542052\n",
        "Exploring th is is not my be a with pastCost 28.8855208412\n",
        "Exploring t his isnotm with pastCost 28.9873690561\n",
        "Exploring th isisnotmy with pastCost 28.9924704371\n",
        "Exploring this i snotmybea with pastCost 29.0406522256\n",
        "Exploring thisis not my be with pastCost 29.1207734588\n",
        "Exploring thisisnot m with pastCost 29.1549893665\n",
        "Exploring this is notmybeau with pastCost 29.2857980462\n",
        "Exploring th isisn o with pastCost 29.3498232585\n",
        "Exploring this i sn o with pastCost 29.398005047\n",
        "Exploring this is notmybe a with pastCost 29.4762183434\n",
        "Exploring t his is not my be a with pastCost 29.4913768165\n",
        "Exploring this i s not my be a with pastCost 29.510367111\n",
        "Exploring this is no tmybea with pastCost 29.5671074382\n",
        "Exploring this is not my b e with pastCost 29.6256062624"
       ]
      },
      {
       "output_type": "stream",
       "stream": "stdout",
       "text": [
        "\n",
        "Exploring this is n o t with pastCost 29.6510415906\n",
        "Exploring th i s i s with pastCost 29.759158551\n",
        "Exploring this isnotmy be a with pastCost 29.7990812972\n",
        "Exploring this isnotmybeaut with pastCost 29.8967554024\n",
        "Exploring th i s is not my with pastCost 29.9899188796\n",
        "Exploring th is i s not my with pastCost 29.9899188796\n",
        "Exploring this i sno tm with pastCost 30.027203503\n",
        "Exploring th i sisnotm with pastCost 30.0334872451\n",
        "Exploring thisisnotmybeau with pastCost 30.0685035843\n",
        "Exploring th is is not my b with pastCost 30.160956728\n",
        "Exploring thisisnotmybe a with pastCost 30.2589238814\n",
        "Exploring th is isnotmy with pastCost 30.2786330657\n",
        "Exploring this is not mybeaut with pastCost 30.2811936292\n",
        "Exploring th i s is n with pastCost 30.3720291517\n",
        "Exploring th is i s n with pastCost 30.3720291517\n",
        "Exploring t hisisnotm with pastCost 30.3787647982\n",
        "Exploring this isnotm y with pastCost 30.4301601676"
       ]
      },
      {
       "output_type": "stream",
       "stream": "stdout",
       "text": [
        "\n",
        "Exploring this is not mybe a with pastCost 30.4716139263\n",
        "Exploring t his i s not my with pastCost 30.5957748548\n",
        "Exploring thisis no t with pastCost 30.6600741901\n",
        "Exploring t his is not my b with pastCost 30.7668127033\n",
        "Exploring this i s not my b with pastCost 30.7858029979\n",
        "Exploring t his isnotmy with pastCost 30.884489041\n",
        "Exploring th isisnotmyb with pastCost 30.8895904219\n",
        "Exploring this i snotmybeau with pastCost 30.9377722105\n",
        "Exploring t his i s n with pastCost 30.977885127\n",
        "Exploring th i sis not with pastCost 31.0288828281\n",
        "Exploring this isnotmy b with pastCost 31.074517184\n",
        "Exploring this is notmy be a with pastCost 31.0852439259\n",
        "Exploring this i snotmybe a with pastCost 31.1281925076\n",
        "Exploring th isisnot my with pastCost 31.1316791007\n",
        "Exploring this is notmybeaut with pastCost 31.1829180311\n",
        "Exploring this is not my be a u with pastCost 31.2218500004"
       ]
      },
      {
       "output_type": "stream",
       "stream": "stdout",
       "text": [
        "\n",
        "Exploring th is i sn with pastCost 31.3196498738\n",
        "Exploring th is i sno with pastCost 31.3196498738\n",
        "Exploring th is i snot with pastCost 31.3196498738\n",
        "Exploring th is i snotm with pastCost 31.3196498738\n",
        "Exploring thisisn o tm with pastCost 31.4124076831\n",
        "Exploring this is no tmybeau with pastCost 31.4642274231\n",
        "Exploring this is not m y be with pastCost 31.4852647192\n",
        "Exploring th is is notm with pastCost 31.5647956944\n",
        "Exploring th is is notmy with pastCost 31.5647956944\n",
        "Exploring this is not my be a ut with pastCost 31.6273151086\n",
        "Exploring this isnotmyb e with pastCost 31.640402585\n",
        "Exploring this is no tmybe a with pastCost 31.6546477202\n",
        "Exploring thi s is not with pastCost 31.7048115648\n",
        "Exploring this isnotmybeauti with pastCost 31.7938753873\n",
        "Exploring thisisnotmy be a with pastCost 31.8679494639\n",
        "Exploring th isisno tm with pastCost 31.8761416993"
       ]
      },
      {
       "output_type": "stream",
       "stream": "stdout",
       "text": [
        "\n",
        "Exploring this is no t my be a with pastCost 31.8940581706\n",
        "Exploring this i snot m with pastCost 31.9213779777\n",
        "Exploring t his i snot with pastCost 31.9255058491\n",
        "Exploring t his i snotm with pastCost 31.9255058491\n",
        "Exploring t his i sn with pastCost 31.9255058491\n",
        "Exploring t his i sno with pastCost 31.9255058491\n",
        "Exploring th i sisnotmy with pastCost 31.93060723\n",
        "Exploring this isnot my be a with pastCost 31.9382899609\n",
        "Exploring thisisnotmybeaut with pastCost 31.9656235692\n",
        "Exploring thisis n o with pastCost 32.0454509396\n",
        "Exploring th is is not my beau with pastCost 32.1068668771\n",
        "Exploring th isis not my with pastCost 32.1270746837\n",
        "Exploring th isi s with pastCost 32.1414601757\n",
        "Exploring t his is notm with pastCost 32.1706516697\n",
        "Exploring t his is notmy with pastCost 32.1706516697\n",
        "Exploring th is isnotmyb with pastCost 32.1757530506\n",
        "Exploring this is not mybeauti with pastCost 32.1783136141\n",
        "Exploring this i s notm with pastCost 32.1896419643"
       ]
      },
      {
       "output_type": "stream",
       "stream": "stdout",
       "text": [
        "\n",
        "Exploring this i s notmy with pastCost 32.1896419643\n",
        "Exploring th i sis no with pastCost 32.211916622\n",
        "Exploring th i si s not with pastCost 30.8921923222\n",
        "Exploring t hisisnotmy with pastCost 32.2758847831\n",
        "Exploring t h i s i with pastCost 32.3241079084\n",
        "Exploring this is notmy b with pastCost 32.3606798127\n",
        "Exploring th is is no t my with pastCost 32.3736099391\n",
        "Exploring th is isnot my with pastCost 32.4178417294\n",
        "Exploring this is not my bea with pastCost 32.4204022929\n",
        "Exploring this is not my beaut with pastCost 32.4204022929\n",
        "Exploring this is not my b eau with pastCost 32.4972858873\n",
        "Exploring thisisnotm y with pastCost 32.4990283344\n",
        "Exploring th isis n with pastCost 32.5091849558\n",
        "Exploring thisi s not my with pastCost 32.5578575998\n",
        "Exploring t h i s is with pastCost 32.569253729\n",
        "Exploring t h is i s with pastCost 32.569253729\n",
        "Exploring t hisisn o with pastCost 32.6332376045\n",
        "Exploring t his is not my beau with pastCost 32.7127228523\n",
        "Exploring this i s not my beau with pastCost 32.7317131469"
       ]
      },
      {
       "output_type": "stream",
       "stream": "stdout",
       "text": [
        "\n",
        "Exploring this i snotmy be a with pastCost 32.7372180902\n",
        "Exploring t his isnotmyb with pastCost 32.7816090259\n",
        "Exploring th isisnotmybe with pastCost 32.7867104068\n",
        "Exploring this i snot my be with pastCost 32.7888864718\n",
        "Exploring t h is is not my with pastCost 32.8000140576\n",
        "Exploring this is n ot with pastCost 32.802512565\n",
        "Exploring this is n otm with pastCost 32.802512565\n",
        "Exploring this is n otmy with pastCost 32.802512565\n",
        "Exploring this is n otmyb with pastCost 32.802512565\n",
        "Exploring this i snotmybeaut with pastCost 32.8348921954\n",
        "Exploring thi s is no with pastCost 32.8878453587\n",
        "Exploring this is notmyb e with pastCost 32.9265652137\n",
        "Exploring thisi s n with pastCost 32.9399678719\n",
        "Exploring t his is no t my with pastCost 32.9794659144\n",
        "Exploring this i s no t my with pastCost 32.9984562089\n",
        "Exploring this isnotmy beau with pastCost 33.0204273331"
       ]
      },
      {
       "output_type": "stream",
       "stream": "stdout",
       "text": [
        "\n",
        "Exploring t his isnot my with pastCost 33.0236977047\n",
        "Exploring this is no tmy be with pastCost 33.0732530056\n",
        "Exploring this is notmybeauti with pastCost 33.080038016\n",
        "Exploring thisis not my be a with pastCost 33.1054337257\n",
        "Exploring this isn o tm with pastCost 33.1377794861\n",
        "Exploring thisisnotmy b with pastCost 33.1433853508\n",
        "Exploring thisisnot my be with pastCost 30.0224978607\n",
        "Exploring this i sno t with pastCost 33.1451534093\n",
        "Exploring this is no t my b with pastCost 33.1694940574\n",
        "Exploring t h is is n with pastCost 33.1821243298\n",
        "Exploring this isnot my b with pastCost 33.2137258477\n",
        "Exploring th is i snotmy with pastCost 33.2167698587\n",
        "Exploring t hi s is not with pastCost 33.2167796845\n",
        "Exploring this is no tmybeaut with pastCost 33.3613474079\n",
        "Exploring this i snotm y with pastCost 33.3682969606\n",
        "Exploring th is is notmyb with pastCost 33.4619156793"
       ]
      },
      {
       "output_type": "stream",
       "stream": "stdout",
       "text": [
        "\n",
        "Exploring t hisis not my with pastCost 33.5133690448\n",
        "Exploring t hisi s with pastCost 33.5277545368\n",
        "Exploring this is not my b e a with pastCost 33.6102665293\n",
        "Exploring this is notm y with pastCost 33.6134427812\n",
        "Exploring this isnotmybeautif with pastCost 33.6909953722\n",
        "Exploring thisisnotmyb e with pastCost 33.7092707517\n",
        "Exploring this is not my beau ti with pastCost 33.7500488558\n",
        "Exploring thi si s with pastCost 33.7508980881\n",
        "Exploring th i s is no tm with pastCost 33.8145352569\n",
        "Exploring th is i s no tm with pastCost 33.8145352569\n",
        "Exploring t his i snotmy with pastCost 33.822625834\n",
        "Exploring th i sisnotmyb with pastCost 33.8277272149\n",
        "Exploring thisisnotmybeauti with pastCost 33.862743554\n",
        "Exploring thi sis with pastCost 33.887588594\n",
        "Exploring thi sisn with pastCost 33.887588594\n",
        "Exploring thi sisno with pastCost 33.887588594\n",
        "Exploring thisi sn with pastCost 33.887588594\n",
        "Exploring thisi sno with pastCost 33.887588594"
       ]
      },
      {
       "output_type": "stream",
       "stream": "stdout",
       "text": [
        "\n",
        "Exploring thisi snot with pastCost 33.887588594\n",
        "Exploring thisi snotm with pastCost 33.887588594\n",
        "Exploring t hisis n with pastCost 33.8954793169\n",
        "Exploring this is not my beau t with pastCost 33.9323704125\n",
        "Exploring thisisnot my be a with pastCost 34.0071581276\n",
        "Exploring this i snotmy b with pastCost 34.012653977\n",
        "Exploring t his is notmyb with pastCost 34.0677716546\n",
        "Exploring th i sisnot my with pastCost 34.0698158937\n",
        "Exploring th is isnotmybe with pastCost 34.0728730355\n",
        "Exploring this is not mybeautif with pastCost 34.0754335989\n",
        "Exploring this i s notmyb with pastCost 34.0867619491\n",
        "Exploring t hisisnotmyb with pastCost 34.1730047679\n",
        "Exploring th i sisn o with pastCost 34.1850800363\n",
        "Exploring this isno t my with pastCost 34.2433452649\n",
        "Exploring this is notmy beau with pastCost 34.3065899618\n",
        "Exploring this is not my beauti with pastCost 34.3175222777\n",
        "Exploring thisis not my b with pastCost 34.3808696125"
       ]
      },
      {
       "output_type": "stream",
       "stream": "stdout",
       "text": [
        "\n",
        "Exploring th isisnotmy be with pastCost 34.3957359894\n",
        "Exploring t hi s is no with pastCost 34.3998134784\n",
        "Exploring t hisisnot my with pastCost 34.4150934467\n",
        "Exploring thisisno t my with pastCost 34.4150934467\n",
        "Exploring t his i s no tm with pastCost 34.4203912322\n",
        "Exploring th is isn o with pastCost 34.4302258569\n",
        "Exploring this isnotmyb eau with pastCost 34.5120822099\n",
        "Exploring th i s is not m with pastCost 34.5256759377\n",
        "Exploring th is i s not m with pastCost 34.5256759377\n",
        "Exploring thisisn o t with pastCost 34.5303575894\n",
        "Exploring th i s i s not with pastCost 34.5487941037\n",
        "Exploring this i snotmyb e with pastCost 34.5785393779\n",
        "Exploring this isnotmybe au with pastCost 34.6174427255\n",
        "Exploring t his isnotmybe with pastCost 34.6787290108\n",
        "Exploring th isisnotmybea with pastCost 34.6838303917\n",
        "Exploring this is n otmybe with pastCost 34.6996325499\n",
        "Exploring t h isi with pastCost 34.7064095332"
       ]
      },
      {
       "output_type": "stream",
       "stream": "stdout",
       "text": [
        "\n",
        "Exploring t h isis with pastCost 34.7064095332\n",
        "Exploring t h isisn with pastCost 34.7064095332\n",
        "Exploring this i snotmybeauti with pastCost 34.7320121803\n",
        "Exploring this isnotmybeaut i with pastCost 34.7320121803\n",
        "Exploring th i sisno tm with pastCost 34.8142784923\n",
        "Exploring this is notmybeautif with pastCost 34.9771580009\n",
        "Exploring th isisno t with pastCost 34.9940916056\n",
        "Exploring t his isn o with pastCost 35.0360818322\n",
        "Exploring th is isno tm with pastCost 35.0594243129\n",
        "Exploring thisisnotmy beau with pastCost 35.0892954998\n",
        "Exploring th is i snotmyb with pastCost 35.1138898436\n",
        "Exploring this is no t my beau with pastCost 35.1154042064\n",
        "Exploring this is not mybeaut i with pastCost 35.116450407\n",
        "Exploring t his i s not m with pastCost 35.131531913\n",
        "Exploring t hisisno tm with pastCost 35.1595560453\n",
        "Exploring this isnot my beau with pastCost 35.1596359968\n",
        "Exploring th is is no tm y with pastCost 35.2383360739"
       ]
      },
      {
       "output_type": "stream",
       "stream": "stdout",
       "text": [
        "\n",
        "Exploring this is no tmybeauti with pastCost 35.2584673928\n",
        "Exploring t hi si s with pastCost 35.2628662078\n",
        "Exploring thisisnot my b with pastCost 35.2825940144\n",
        "Exploring th is is not my be au with pastCost 35.312907852\n",
        "Exploring th is is notmybe with pastCost 35.3590356642\n",
        "Exploring th i s is not my be with pastCost 35.3931844319\n",
        "Exploring th is i s not my be with pastCost 35.3931844319\n",
        "Exploring t hi sis with pastCost 35.3995567137\n",
        "Exploring t hi sisn with pastCost 35.3995567137\n",
        "Exploring t hi sisno with pastCost 35.3995567137\n",
        "Exploring this is not m y be a with pastCost 35.4699249861\n",
        "Exploring this is n o t my with pastCost 35.584490224\n",
        "Exploring this isnotmybeautifu with pastCost 35.5881153571\n",
        "Exploring this isnotmy beautiful with pastCost 29.2947339059\n",
        "Exploring this isnotmyb e a with pastCost 35.6250628519"
       ]
      },
      {
       "output_type": "stream",
       "stream": "stdout",
       "text": [
        "\n",
        "Exploring t his isno tm with pastCost 35.6652802882\n",
        "Exploring th isisnot m with pastCost 35.6674361589\n",
        "Exploring th is isnotmy be with pastCost 35.681898618\n",
        "Exploring t his i snotmyb with pastCost 35.7197458188\n",
        "Exploring th i sisnotmybe with pastCost 35.7248471998\n",
        "Exploring th i s i s no with pastCost 35.7318278976\n",
        "Exploring thisisnotmybeautif with pastCost 35.7598635389\n",
        "Exploring thi sisnot with pastCost 35.7847085789\n",
        "Exploring thisi snotmy with pastCost 35.7847085789\n",
        "Exploring thisis notm with pastCost 35.7847085789\n",
        "Exploring thisis notmy with pastCost 35.7847085789\n",
        "Exploring this is notmyb eau with pastCost 35.7982448385\n",
        "Exploring this is not myb e with pastCost 35.8190807815\n",
        "Exploring this isnotm y be with pastCost 35.83342572\n",
        "Exploring t his is no tm y with pastCost 35.8441920491\n",
        "Exploring this i s no tm y with pastCost 35.8631823437\n",
        "Exploring this is notmybe au with pastCost 35.9036053542"
       ]
      },
      {
       "output_type": "stream",
       "stream": "stdout",
       "text": [
        "\n",
        "Exploring t his is not my be au with pastCost 35.9187638273\n",
        "Exploring this i s not my be au with pastCost 35.9377541219\n",
        "Exploring this isnotmybeaut if with pastCost 35.9428771984\n",
        "Exploring th is is not m y with pastCost 35.9494767546\n",
        "Exploring th isis no tm with pastCost 35.9516910611\n",
        "Exploring this i snotmy beau with pastCost 35.958564126\n",
        "Exploring t his is notmybe with pastCost 35.9648916395\n",
        "Exploring th is isnotmybea with pastCost 35.9699930204\n",
        "Exploring this is not mybeautifu with pastCost 35.9725535838\n",
        "Exploring this is not my beautiful with pastCost 18.5136958621\n",
        "Exploring this is not my beautiful h with pastCost 30.4298205366\n",
        "Exploring this is not my beautiful ho with pastCost 28.77159246"
       ]
      },
      {
       "output_type": "stream",
       "stream": "stdout",
       "text": [
        "\n",
        "Exploring this i s notmybe with pastCost 35.983881934\n",
        "Exploring t his i s not my be with pastCost 35.9990404071\n",
        "Exploring this is notmybeaut i with pastCost 36.0181748089\n",
        "Exploring this is no tm y b with pastCost 36.0342201922\n",
        "Exploring this is no tm y be with pastCost 30.7741240384\n",
        "Exploring this is no tm y be a with pastCost 34.7587843054\n",
        "Exploring t hisisnotmybe with pastCost 36.0701247528\n",
        "Exploring this is not my beautif with pastCost 36.2146422626\n",
        "Exploring this isnotmy be au with pastCost 36.2264683081\n",
        "Exploring this is no tm yb with pastCost 36.2450186702\n",
        "Exploring this is no tm ybe with pastCost 36.2450186702\n",
        "Exploring this is no tm ybea with pastCost 36.2450186702\n",
        "Exploring this is no tm ybeau with pastCost 36.2450186702"
       ]
      },
      {
       "output_type": "stream",
       "stream": "stdout",
       "text": [
        "\n",
        "Exploring this isn o t with pastCost 36.2557293924\n",
        "Exploring t his isnotmy be with pastCost 36.2877545933\n",
        "Exploring thisis not my beau with pastCost 36.3267797616\n",
        "Exploring this is not mybeaut if with pastCost 36.3273154251\n",
        "Exploring th is is not myb with pastCost 36.3544312471\n",
        "Exploring th is is not mybe with pastCost 36.3544312471\n",
        "Exploring th is is not mybea with pastCost 36.3544312471\n",
        "Exploring thisi s no tm with pastCost 36.3824739772\n",
        "Exploring th is is n o tm with pastCost 36.400569272\n",
        "Exploring this is not my be a ut i with pastCost 36.4625718864\n",
        "Exploring th isisnot my be with pastCost 36.5349446531\n",
        "Exploring t his is not m y with pastCost 36.5553327299\n",
        "Exploring this i s not m y with pastCost 36.5743230245\n",
        "Exploring t his isnotmybea with pastCost 36.5758489957"
       ]
      },
      {
       "output_type": "stream",
       "stream": "stdout",
       "text": [
        "\n",
        "Exploring thisisnotmyb eau with pastCost 36.5809503766\n",
        "Exploring th isisnotmybeau with pastCost 36.5809503766\n",
        "Exploring thisis no t my with pastCost 36.5935228236\n",
        "Exploring this is n otmybea with pastCost 36.5967525348\n",
        "Exploring t h isisno with pastCost 36.603529518\n",
        "Exploring t h is is no tm with pastCost 36.624630435\n",
        "Exploring this i snotmybeautif with pastCost 36.6291321652\n",
        "Exploring th isis not m with pastCost 36.6628317418\n",
        "Exploring thisisnotmybe au with pastCost 36.6863108923\n",
        "Exploring this is not m y b with pastCost 36.7453608729\n",
        "Exploring th isisnotmybe a with pastCost 36.7713706737\n",
        "Exploring this i snot my be a with pastCost 36.7735467387\n",
        "Exploring thisisnotmybeaut i with pastCost 36.800880347\n",
        "Exploring this is notmybeautifu with pastCost 36.8742779858\n",
        "Exploring this is notmy beautiful with pastCost 30.5808965345"
       ]
      },
      {
       "output_type": "stream",
       "stream": "stdout",
       "text": [
        "\n",
        "Exploring this is not mybe au with pastCost 36.8990009372\n",
        "Exploring th is is no t m with pastCost 36.9093669972\n",
        "Exploring this is notmyb e a with pastCost 36.9112254806\n",
        "Exploring th isi s not with pastCost 36.9310957284\n",
        "Exploring th i s is no t with pastCost 36.9324851632\n",
        "Exploring th is i s no t with pastCost 36.9324851632\n",
        "Exploring th is isnot m with pastCost 36.9535987876\n",
        "Exploring this is not my be au ti with pastCost 36.9560898307\n",
        "Exploring this is not m yb with pastCost 36.956159351\n",
        "Exploring this is not m ybe with pastCost 36.956159351\n",
        "Exploring this is not m ybea with pastCost 36.956159351\n",
        "Exploring this is not m ybeau with pastCost 36.956159351\n",
        "Exploring t his is not myb with pastCost 36.9602872224\n",
        "Exploring t his is not mybe with pastCost 36.9602872224\n",
        "Exploring t his is not mybea with pastCost 36.9602872224"
       ]
      },
      {
       "output_type": "stream",
       "stream": "stdout",
       "text": [
        "\n",
        "Exploring th i sis not my with pastCost 36.9623314615\n",
        "Exploring th is is notmy be with pastCost 36.9680612467\n",
        "Exploring th i s isn with pastCost 36.9767169535\n",
        "Exploring th i s isno with pastCost 36.9767169535\n",
        "Exploring th i s isnot with pastCost 36.9767169535\n",
        "Exploring this i s not myb with pastCost 36.979277517\n",
        "Exploring this i s not mybe with pastCost 36.979277517\n",
        "Exploring this i s not mybea with pastCost 36.979277517\n",
        "Exploring this is no tmyb e with pastCost 37.0021145754\n",
        "Exploring t his is n o tm with pastCost 37.0064252473\n",
        "Exploring th is i snotmybe with pastCost 37.0110098285\n",
        "Exploring this i s n o tm with pastCost 37.0254155419\n",
        "Exploring this is no tmy be a with pastCost 37.0579132725\n",
        "Exploring thisi s not m with pastCost 37.0936146579\n",
        "Exploring this isno tm y with pastCost 37.1080713997\n",
        "Exploring this is not my be au t with pastCost 37.1384113875"
       ]
      },
      {
       "output_type": "stream",
       "stream": "stdout",
       "text": [
        "\n",
        "Exploring this is no tmybeautif with pastCost 37.1555873777\n",
        "Exploring th i si s n with pastCost 37.2077512278\n",
        "Exploring th i si s no with pastCost 32.0752261161\n",
        "Exploring thisisnot my beau with pastCost 37.2285041635\n",
        "Exploring this is notmybeaut if with pastCost 37.2290398271\n",
        "Exploring th is i snot my with pastCost 37.2530985073\n",
        "Exploring this is not my beaut i with pastCost 37.2556590707\n",
        "Exploring th is is notmybea with pastCost 37.2561556491\n",
        "Exploring thisisno tm y with pastCost 37.2798195815\n",
        "Exploring t hi sisnot with pastCost 37.2966766986\n",
        "Exploring th i sisnotmy be with pastCost 37.3338727823\n",
        "Exploring t h is is not m with pastCost 37.3357711158\n",
        "Exploring t hisis no tm with pastCost 37.3379854222\n",
        "Exploring th i sis n with pastCost 37.3444417337\n",
        "Exploring t h i s is not with pastCost 37.3588892818"
       ]
      },
      {
       "output_type": "stream",
       "stream": "stdout",
       "text": [
        "\n",
        "Exploring t h is i s not with pastCost 37.3588892818\n",
        "Exploring thi s i s with pastCost 37.4074998696\n",
        "Exploring this i snotmyb eau with pastCost 37.4502190028\n",
        "Exploring this isnotmybeautiful with pastCost 37.485235342\n",
        "Exploring this is notmy be au with pastCost 37.5126309367\n",
        "Exploring t his is no t m with pastCost 37.5152229725\n",
        "Exploring th isis not my be with pastCost 37.530340236\n",
        "Exploring this i s no t m with pastCost 37.5342132671\n",
        "Exploring th is is no tmy with pastCost 37.537465041\n",
        "Exploring th is is no tmyb with pastCost 37.537465041\n",
        "Exploring th is is no tmybe with pastCost 37.537465041\n",
        "Exploring t his i s no t with pastCost 37.5383411385\n",
        "Exploring this i snotmybe au with pastCost 37.5555795185\n",
        "Exploring t his isnot m with pastCost 37.5594547628\n",
        "Exploring t his is notmy be with pastCost 37.573917222\n",
        "Exploring this i s notmy be with pastCost 37.5929075166"
       ]
      },
      {
       "output_type": "stream",
       "stream": "stdout",
       "text": [
        "\n",
        "Exploring t his i snotmybe with pastCost 37.6168658037\n",
        "Exploring th i sisnotmybea with pastCost 37.6219671847\n",
        "Exploring thi s is not my with pastCost 37.6382601982\n",
        "Exploring thisisnotmybeautifu with pastCost 37.6569835238\n",
        "Exploring thisisnotmy beautiful with pastCost 31.3636020726\n",
        "Exploring this i snotmybeaut i with pastCost 37.6701489732\n",
        "Exploring this is not my be a ut if with pastCost 37.6734369045\n",
        "Exploring t hisisnotmy be with pastCost 37.6791503354\n",
        "Exploring thi sisnotm with pastCost 37.6818285638\n",
        "Exploring thisi snotmyb with pastCost 37.6818285638\n",
        "Exploring thisis notmyb with pastCost 37.6818285638\n",
        "Exploring thisisn ot with pastCost 37.6818285638\n",
        "Exploring thisisn otm with pastCost 37.6818285638\n",
        "Exploring thisisn otmy with pastCost 37.6818285638\n",
        "Exploring thisisn otmyb with pastCost 37.6818285638"
       ]
      },
      {
       "output_type": "stream",
       "stream": "stdout",
       "text": [
        "\n",
        "Exploring thisisnotmyb e a with pastCost 37.6939310186\n",
        "Exploring th is is no t my be with pastCost 37.7768754914\n",
        "Exploring th is isnot my be with pastCost 37.8211072817\n",
        "Exploring this is not my be aut with pastCost 37.8236678452\n",
        "Exploring this is not my be auti with pastCost 37.8236678452\n",
        "Exploring this is not my be autif with pastCost 37.8236678452\n",
        "Exploring t his i snot my with pastCost 37.8589544825\n",
        "Exploring t his is notmybea with pastCost 37.8620116243\n",
        "Exploring th is isnotmybeau with pastCost 37.8671130053\n",
        "Exploring this is not mybeautiful with pastCost 37.8696735687\n",
        "Exploring this i s notmybea with pastCost 37.8810019189\n",
        "Exploring thisisnotm y be with pastCost 37.9022938867\n",
        "Exploring th isisn o tm with pastCost 37.9248544754"
       ]
      },
      {
       "output_type": "stream",
       "stream": "stdout",
       "text": [
        "\n",
        "Exploring th i sisno t with pastCost 37.9322283986\n",
        "Exploring thisi s not my be with pastCost 37.9611231521\n",
        "Exploring t hisisnotmybea with pastCost 37.9672447377\n",
        "Exploring this i sn o tm with pastCost 37.973036264\n",
        "Exploring this is no tm y beau with pastCost 37.9801303412\n",
        "Exploring thisisnotmybeaut if with pastCost 38.0117453651\n",
        "Exploring thi s is n with pastCost 38.0203704704\n",
        "Exploring this i snot my b with pastCost 38.0489826256\n",
        "Exploring t hisis not m with pastCost 38.049126103\n",
        "Exploring th is isnotmybe a with pastCost 38.0575333024\n",
        "Exploring this is no tmybe au with pastCost 38.082034731\n",
        "Exploring this is not my beautifu with pastCost 38.1117622475\n",
        "Exploring th is is not my beautiful with pastCost 28.3811734498\n",
        "Exploring t his is not my beautiful with pastCost 28.9870294251"
       ]
      },
      {
       "output_type": "stream",
       "stream": "stdout",
       "text": [
        "\n",
        "Exploring this i s not my beautiful with pastCost 29.0060197197\n",
        "Exploring this is no t my beautiful with pastCost 31.3897107792\n",
        "Exploring this isnot my beautiful with pastCost 31.4339425695\n",
        "Exploring thisis not my beautiful with pastCost 32.6010863343\n",
        "Exploring this is not m y beautiful with pastCost 34.9655775948\n",
        "Exploring th isi s no with pastCost 38.1141295223\n",
        "Exploring this is no tm ybeaut with pastCost 38.1421386551\n",
        "Exploring t his is no tmy with pastCost 38.1433210163\n",
        "Exploring t his is no tmyb with pastCost 38.1433210163\n",
        "Exploring t his is no tmybe with pastCost 38.1433210163\n",
        "Exploring th i si sn with pastCost 38.1553719499\n",
        "Exploring th i si sno with pastCost 38.1553719499"
       ]
      },
      {
       "output_type": "stream",
       "stream": "stdout",
       "text": [
        "\n",
        "Exploring th i si snot with pastCost 38.1553719499\n",
        "Exploring th i si snotm with pastCost 38.1553719499\n",
        "Exploring this i s no tmy with pastCost 38.1623113109\n",
        "Exploring this i s no tmyb with pastCost 38.1623113109\n",
        "Exploring this i s no tmybe with pastCost 38.1623113109\n",
        "Exploring th is isno t with pastCost 38.1773742192\n",
        "Exploring this is no tmybeaut i with pastCost 38.1966041858\n",
        "Exploring t h is is not my be with pastCost 38.2032796099\n",
        "Exploring this is n otmy be with pastCost 38.2057781173\n",
        "Exploring th is is not mybeau with pastCost 38.251551232\n",
        "Exploring t hisisno t with pastCost 38.2775059516\n",
        "Exploring thisisnotmy be au with pastCost 38.2953364748\n",
        "Exploring this isnotmybea u with pastCost 38.3063221796\n",
        "Exploring t hisi s not with pastCost 38.3173900895\n",
        "Exploring th i s is n o with pastCost 38.3178619127\n",
        "Exploring th is i s n o with pastCost 38.3178619127"
       ]
      },
      {
       "output_type": "stream",
       "stream": "stdout",
       "text": [
        "\n",
        "Exploring this is no t my be au with pastCost 38.3214451814\n",
        "Exploring this is no tmy b with pastCost 38.3333491593\n",
        "Exploring this isnot my be au with pastCost 38.3656769718\n",
        "Exploring this is not my beautiful h o with pastCost 38.3756532976\n",
        "Exploring th isisnotmy be a with pastCost 38.3803962563\n",
        "Exploring t his is no t my be with pastCost 38.3827314667\n",
        "Exploring this i s no t my be with pastCost 38.4017217612\n",
        "Exploring t his isnot my be with pastCost 38.426963257\n",
        "Exploring this is n o tm y with pastCost 38.4492163588\n",
        "Exploring this is not my beaut if with pastCost 38.4665240888\n",
        "Exploring t his isnotmybeau with pastCost 38.4729689805\n",
        "Exploring th isisnotmybeaut with pastCost 38.4780703615\n",
        "Exploring this is n otmybeau with pastCost 38.4938725197"
       ]
      },
      {
       "output_type": "stream",
       "stream": "stdout",
       "text": [
        "\n",
        "Exploring t h isisnot with pastCost 38.5006495029\n",
        "Exploring this i snotmybeautifu with pastCost 38.52625215\n",
        "Exploring this i snotmy beautiful with pastCost 32.2328706988\n",
        "Exploring thi si s not with pastCost 38.5405336409\n",
        "Exploring t h i s is no with pastCost 38.5419230756\n",
        "Exploring t h is i s no with pastCost 38.5419230756\n",
        "Exploring this i snotmyb e a with pastCost 38.5631996449\n",
        "Exploring th i sisnot m with pastCost 38.6055729518\n",
        "Exploring th is i snotmy be with pastCost 38.620035411\n",
        "Exploring th is is not my beautiful ho with pastCost 38.6390700478\n",
        "Exploring t his isnotmybe a with pastCost 38.6633892777\n",
        "Exploring thi sis not with pastCost 38.6772241468\n",
        "Exploring this is n otmybe a with pastCost 38.6842928168\n",
        "Exploring this is not myb eau with pastCost 38.6907604064"
       ]
      },
      {
       "output_type": "stream",
       "stream": "stdout",
       "text": [
        "\n",
        "Exploring this is not mybea u with pastCost 38.6907604064\n",
        "Exploring this is not m y beau with pastCost 38.691271022\n",
        "Exploring this isnotmybea ut with pastCost 38.7117872877\n",
        "Exploring this is n ot my with pastCost 38.7359611985\n",
        "Exploring this is not my beau t i with pastCost 38.7676271904\n",
        "Exploring this is notmybeautiful with pastCost 38.7713979706\n",
        "Exploring this i snotm y be with pastCost 38.7715625129\n",
        "Exploring this isno t m with pastCost 38.779102323\n",
        "Exploring t his isno t with pastCost 38.7832301945\n",
        "Exploring this is not m ybeaut with pastCost 38.8532793359\n",
        "Exploring t his is not mybeau with pastCost 38.8574072073\n",
        "Exploring th i s isnotm with pastCost 38.8738369384\n",
        "Exploring this i s not mybeau with pastCost 38.8763975019\n",
        "Exploring this i snotmybeaut if with pastCost 38.8810139913"
       ]
      },
      {
       "output_type": "stream",
       "stream": "stdout",
       "text": [
        "\n",
        "Exploring th is i snotmybea with pastCost 38.9081298133\n",
        "Exploring t hisis not my be with pastCost 38.9166345971\n",
        "Exploring t hi s i s with pastCost 38.9194679893\n",
        "Exploring t his i s n o with pastCost 38.9237178879\n",
        "Exploring t hisisnot m with pastCost 38.9508505049\n",
        "Exploring thisisno t m with pastCost 38.9508505049\n",
        "Exploring this is no t m y with pastCost 38.958014084\n",
        "Exploring this isnot m y with pastCost 39.0022458744\n",
        "Exploring th isisnotm y with pastCost 39.0114751267\n",
        "Exploring this is notm y be with pastCost 39.0167083335\n",
        "Exploring this is no tmybeautifu with pastCost 39.0527073626\n",
        "Exploring this is no tmy beautiful with pastCost 36.5535658811\n",
        "Exploring th isis no t with pastCost 39.0696409673\n",
        "Exploring this i sno t my with pastCost 39.0786020427\n",
        "Exploring this is not mybea ut with pastCost 39.0962255145\n",
        "Exploring t hi s is not my with pastCost 39.1502283179"
       ]
      },
      {
       "output_type": "stream",
       "stream": "stdout",
       "text": [
        "\n",
        "Exploring th is is notmybeau with pastCost 39.153275634\n",
        "Exploring this i snotmy be au with pastCost 39.164605101\n",
        "Exploring t hi sisnotm with pastCost 39.1937966835\n",
        "Exploring t his i snotmy be with pastCost 39.2258913863\n",
        "Exploring t his is not my beautiful ho with pastCost 39.244926023\n",
        "Exploring this i s not my beautiful ho with pastCost 39.2639163176\n",
        "Exploring th is i sn o with pastCost 39.2654826348\n",
        "Exploring th is is notmybe a with pastCost 39.3436959311\n",
        "Exploring this is no t myb with pastCost 39.3629685765\n",
        "Exploring this is no t mybe with pastCost 39.3629685765\n",
        "Exploring this is no t mybea with pastCost 39.3629685765\n",
        "Exploring th i s is not my be a with pastCost 39.3778446988\n",
        "Exploring th is i s not my be a with pastCost 39.3778446988"
       ]
      },
      {
       "output_type": "stream",
       "stream": "stdout",
       "text": [
        "\n",
        "Exploring this isnotmybeautifulh with pastCost 39.3823553269\n",
        "Exploring t h i si s with pastCost 39.4049758051\n",
        "Exploring this isn ot with pastCost 39.4072003668\n",
        "Exploring this isn otm with pastCost 39.4072003668\n",
        "Exploring this isn otmy with pastCost 39.4072003668\n",
        "Exploring this isn otmyb with pastCost 39.4072003668\n",
        "Exploring this isno tmy with pastCost 39.4072003668\n",
        "Exploring this isno tmyb with pastCost 39.4072003668\n",
        "Exploring this isno tmybe with pastCost 39.4072003668\n",
        "Exploring this isnot myb with pastCost 39.4072003668\n",
        "Exploring this isnot mybe with pastCost 39.4072003668\n",
        "Exploring this isnot mybea with pastCost 39.4072003668\n",
        "Exploring this is no tmybeaut if with pastCost 39.4074692039\n",
        "Exploring th is is no tmybea with pastCost 39.4345850259\n",
        "Exploring thisis no tm y with pastCost 39.4582489584\n",
        "Exploring th is is not my b e with pastCost 39.4930838501"
       ]
      },
      {
       "output_type": "stream",
       "stream": "stdout",
       "text": [
        "\n",
        "Exploring t h isis not with pastCost 39.4960450859\n",
        "Exploring thisi s no t with pastCost 39.5004238834\n",
        "Exploring t hisi s no with pastCost 39.5004238834\n",
        "Exploring this isnotmybeau ti with pastCost 39.510294984\n",
        "Exploring t his i snotmybea with pastCost 39.5139857886\n",
        "Exploring th is is n o t with pastCost 39.5185191783\n",
        "Exploring th i sisnotmybeau with pastCost 39.5190871696\n",
        "Exploring t hi s is n with pastCost 39.5323385901\n",
        "Exploring thisis not my be au with pastCost 39.5328207366\n",
        "Exploring t h i sisn with pastCost 39.541666311\n",
        "Exploring t h i sisno with pastCost 39.541666311\n",
        "Exploring t h i sis with pastCost 39.541666311\n",
        "Exploring thisisnotmybeautiful with pastCost 39.5541035087\n",
        "Exploring thisis notmybe with pastCost 39.5789485487\n",
        "Exploring thisisn otmybe with pastCost 39.5789485487\n",
        "Exploring thi sisnotmy with pastCost 39.5789485487\n",
        "Exploring thisi snotmybe with pastCost 39.5789485487"
       ]
      },
      {
       "output_type": "stream",
       "stream": "stdout",
       "text": [
        "\n",
        "Exploring thisisno tmy with pastCost 39.5789485487\n",
        "Exploring thisisno tmyb with pastCost 39.5789485487\n",
        "Exploring thisisno tmybe with pastCost 39.5789485487\n",
        "Exploring this is notmybea u with pastCost 39.5924848083\n",
        "Exploring this isno t my be with pastCost 39.6466108172\n",
        "Exploring th isisnotmy b with pastCost 39.6558321431\n",
        "Exploring th is isnotmy be a with pastCost 39.666558885\n",
        "Exploring this isnotmybeau t with pastCost 39.6926165408\n",
        "Exploring th i sisnotmybe a with pastCost 39.7095074667\n",
        "Exploring this is not my be autifu with pastCost 39.7207878301\n",
        "Exploring thi si s no with pastCost 39.7235674347\n",
        "Exploring t h is is no t with pastCost 39.7425803413\n",
        "Exploring t his is notmybeau with pastCost 39.7591316092\n",
        "Exploring th is isnotmybeaut with pastCost 39.7642329902\n",
        "Exploring this is not mybeautifulh with pastCost 39.7667935536"
       ]
      },
      {
       "output_type": "stream",
       "stream": "stdout",
       "text": [
        "\n",
        "Exploring this i s notmybeau with pastCost 39.7781219038\n",
        "Exploring t h is isn with pastCost 39.7868121316\n",
        "Exploring t h is isno with pastCost 39.7868121316\n",
        "Exploring t h is isnot with pastCost 39.7868121316\n",
        "Exploring this is not myb e a with pastCost 39.8037410484\n",
        "Exploring this isnotm y be a with pastCost 39.8180859869\n",
        "Exploring t hisisnot my be with pastCost 39.8183589991\n",
        "Exploring thisisno t my be with pastCost 39.8183589991\n",
        "Exploring thisi snot my with pastCost 39.8210372275\n",
        "Exploring thi sis no with pastCost 39.8602579406\n",
        "Exploring t hisisnotmybeau with pastCost 39.8643647226\n",
        "Exploring t his i sn o with pastCost 39.8713386101\n",
        "Exploring this is no tmyb eau with pastCost 39.8737942003\n",
        "Exploring th is i sno tm with pastCost 39.8946810907\n",
        "Exploring this is not mybeau ti with pastCost 39.8947332107\n",
        "Exploring t his is notmybe a with pastCost 39.9495519064"
       ]
      },
      {
       "output_type": "stream",
       "stream": "stdout",
       "text": [
        "\n",
        "Exploring this i s notmybe a with pastCost 39.9685422009\n",
        "Exploring this is not my beau t if with pastCost 39.9784922085\n",
        "Exploring t his i s not my be a with pastCost 39.9837006741\n",
        "Exploring this i snot my beau with pastCost 39.9948927746\n",
        "Exploring this is notmybea ut with pastCost 39.9979499164\n",
        "Exploring this is not my b e au with pastCost 40.0376535401\n",
        "Exploring this is no tm ybeauti with pastCost 40.03925864\n",
        "Exploring t his is no tmybea with pastCost 40.0404410012\n",
        "Exploring th i si snotmy with pastCost 40.0524919348\n",
        "Exploring t hi si s not with pastCost 40.0525017605\n",
        "Exploring t hisisnotmybe a with pastCost 40.0547850197\n",
        "Exploring this i s no tmybea with pastCost 40.0594312958\n",
        "Exploring this is not mybeau t with pastCost 40.0770547675"
       ]
      },
      {
       "output_type": "stream",
       "stream": "stdout",
       "text": [
        "\n",
        "Exploring t his is not my b e with pastCost 40.0989398254\n",
        "Exploring this i s not my b e with pastCost 40.11793012\n",
        "Exploring this is n o t m with pastCost 40.1202472822\n",
        "Exploring t his is n o t with pastCost 40.1243751536\n",
        "Exploring this i s n o t with pastCost 40.1433654482\n",
        "Exploring th is is not mybeaut with pastCost 40.1486712169\n",
        "Exploring thisis not m y with pastCost 40.1693896392\n",
        "Exploring t hi sis not with pastCost 40.1891922664\n",
        "Exploring th isisnotmyb e with pastCost 40.221717544\n",
        "Exploring this is no tm ybe a with pastCost 40.2296789371\n",
        "Exploring t his isnotmy be a with pastCost 40.2724148602\n",
        "Exploring this is no tmy beau with pastCost 40.2792593084\n",
        "Exploring th is is not my beautiful h with pastCost 40.2972981244\n",
        "Exploring th is isnotm y with pastCost 40.2976377554"
       ]
      },
      {
       "output_type": "stream",
       "stream": "stdout",
       "text": [
        "\n",
        "Exploring th is is not mybe a with pastCost 40.3390915141\n",
        "Exploring t his isnotmybeaut with pastCost 40.3700889654\n",
        "Exploring th isisnotmybeauti with pastCost 40.3751903464\n",
        "Exploring thisisnotmybea u with pastCost 40.3751903464\n",
        "Exploring this is n otmybeaut with pastCost 40.3909925045\n",
        "Exploring this isnotmybe a u with pastCost 40.3938624617\n",
        "Exploring t h isisnotm with pastCost 40.3977694878\n",
        "Exploring this isnotmy b e with pastCost 40.4066443061\n",
        "Exploring this i snotmybeautiful with pastCost 40.4233721349\n",
        "Exploring thisisnot my be au with pastCost 40.4345451385\n",
        "Exploring th isis n o with pastCost 40.4550177168\n",
        "Exploring t hisis no t with pastCost 40.4559353285\n",
        "Exploring thisisn o t my with pastCost 40.4638062228\n",
        "Exploring th i s i s not my with pastCost 40.4822427371\n",
        "Exploring t his i sno tm with pastCost 40.500537066"
       ]
      },
      {
       "output_type": "stream",
       "stream": "stdout",
       "text": [
        "\n",
        "Exploring th isisnot my be a with pastCost 40.51960492\n",
        "Exploring thisis not myb with pastCost 40.5743441316\n",
        "Exploring thisis not mybe with pastCost 40.5743441316\n",
        "Exploring thisis not mybea with pastCost 40.5743441316\n",
        "Exploring thisis n o tm with pastCost 40.6204821565\n",
        "Exploring th is is no tm y be with pastCost 40.6416016262\n",
        "Exploring th i si s no tm with pastCost 40.650257333\n",
        "Exploring th i s is not my b with pastCost 40.6532805856\n",
        "Exploring th is i s not my b with pastCost 40.6532805856\n",
        "Exploring this is notmybeautifulh with pastCost 40.6685179555\n",
        "Exploring t h isis no with pastCost 40.6790788798\n",
        "Exploring this is n o tmy with pastCost 40.748345326\n",
        "Exploring this is n o tmyb with pastCost 40.748345326\n",
        "Exploring this is n o tmybe with pastCost 40.748345326\n",
        "Exploring this is not m ybeauti with pastCost 40.7503993208"
       ]
      },
      {
       "output_type": "stream",
       "stream": "stdout",
       "text": [
        "\n",
        "Exploring t his is not mybeaut with pastCost 40.7545271922\n",
        "Exploring th i s isnotmy with pastCost 40.7709569233\n",
        "Exploring this i s not mybeaut with pastCost 40.7735174868\n",
        "Exploring thisisnotmybea ut with pastCost 40.7806554545\n",
        "Exploring th i sis no tm with pastCost 40.7869478389\n",
        "Exploring this is notmybeau ti with pastCost 40.7964576126\n",
        "Exploring this isnotmybe a ut with pastCost 40.7993275698\n",
        "Exploring th is i snotmybeau with pastCost 40.8052497982\n",
        "Exploring this is notmy beautiful ho with pastCost 40.8387931325\n",
        "Exploring th i s i s n with pastCost 40.8643530093\n",
        "Exploring thisi s n o with pastCost 40.8858006329\n",
        "Exploring t his is not my beautiful h with pastCost 40.9031540996\n",
        "Exploring t his isnotm y with pastCost 40.9034937307"
       ]
      },
      {
       "output_type": "stream",
       "stream": "stdout",
       "text": [
        "\n",
        "Exploring this i s not my beautiful h with pastCost 40.9221443942\n",
        "Exploring th isisno t my with pastCost 40.9275402391\n",
        "Exploring this is not m ybe a with pastCost 40.9408196179\n",
        "Exploring th is isnotmy b with pastCost 40.9419947718\n",
        "Exploring t his is not mybe a with pastCost 40.9449474893\n",
        "Exploring this is no tmybeautiful with pastCost 40.9498273475\n",
        "Exploring th is is notmy be a with pastCost 40.9527215136\n",
        "Exploring this i s not mybe a with pastCost 40.9639377839\n",
        "Exploring this is not my beautiful ho u with pastCost 40.975399207\n",
        "Exploring this is not my beautiful ho us with pastCost 35.9406134527\n",
        "Exploring this is not my beautiful house with pastCost 25.7640257288\n",
        "numStatesExplored = 814"
       ]
      },
      {
       "output_type": "stream",
       "stream": "stdout",
       "text": [
        "\n",
        "totalCost = 25.7640257288\n",
        "actions = [(0, 1), (2, 1), (0, 0), (4, 1), (0, 1), (7, 1), (0, 1), (1, 0), (0, 1), (0, 1), (0, 1), (0, 1), (0, 1), (0, 1), (0, 1), (0, 1), (7, 1), (11, 1), (14, 1), (24, 1), (0, 1), (27, 1), (0, 1), (5, 0)]\n",
        "this is not my beautiful house\n"
       ]
      },
      {
       "metadata": {},
       "output_type": "pyout",
       "prompt_number": 219,
       "text": [
        "'this is not my beautiful house'"
       ]
      }
     ],
     "prompt_number": 219
    },
    {
     "cell_type": "code",
     "collapsed": false,
     "input": [
      "segmentWords('thisisnotmyhouse',unigramCost)"
     ],
     "language": "python",
     "metadata": {},
     "outputs": [
      {
       "output_type": "stream",
       "stream": "stdout",
       "text": [
        "Exploring t with pastCost 0\n",
        "Exploring th with pastCost -1.38629436112\n",
        "Exploring th i with pastCost 3.44896241672\n",
        "Exploring this with pastCost -6.17336935041\n",
        "Exploring this i with pastCost -1.33811257256\n",
        "Exploring this is with pastCost -1.09296675195\n",
        "Exploring th is with pastCost 3.69410823733\n",
        "Exploring th is i with pastCost 8.52936501518\n",
        "Exploring th is is with pastCost 8.77451083579\n",
        "Exploring t his is with pastCost 9.38036681106\n",
        "Exploring this i s with pastCost 9.39935710563\n",
        "Exploring this is n with pastCost 10.0122277064\n",
        "Exploring this is no with pastCost 4.87970259466\n",
        "Exploring this is not with pastCost 3.69666880077\n",
        "Exploring thi with pastCost 11.0973037354\n",
        "Exploring t his with pastCost 4.2999642126\n",
        "Exploring t his i with pastCost 9.13522099045\n",
        "Exploring thisi with pastCost 11.0973037354\n",
        "Exploring t h with pastCost 11.9161246745\n",
        "Exploring t hi with pastCost 12.6092718551\n",
        "Exploring thisis with pastCost 12.9944237203\n",
        "Exploring this is no tm with pastCost 13.4547338116\n",
        "Exploring th is is not with pastCost 13.5641463885\n",
        "Exploring this is not m with pastCost 14.1658744924\n",
        "Exploring this is not my with pastCost 9.63011743423\n",
        "Exploring t his is not with pastCost 14.1700023638\n",
        "Exploring th i s with pastCost 14.1864320949\n",
        "Exploring this i s not with pastCost 14.1889926584\n",
        "Exploring th is is no with pastCost 14.7471801824\n",
        "Exploring thisisn with pastCost 14.8915437052\n",
        "Exploring t his is no with pastCost 15.3530361577\n",
        "Exploring th i si with pastCost 15.3650870913"
       ]
      },
      {
       "output_type": "stream",
       "stream": "stdout",
       "text": [
        "\n",
        "Exploring this i s no with pastCost 15.3720264522\n",
        "Exploring this is no t with pastCost 16.5726837179\n",
        "Exploring this isn with pastCost 16.6169155082\n",
        "Exploring this isno with pastCost 16.6169155082\n",
        "Exploring this isnot with pastCost 16.6169155082\n",
        "Exploring t h i with pastCost 16.7513814524\n",
        "Exploring thisisno with pastCost 16.7886636901\n",
        "Exploring t h is with pastCost 16.996527273\n",
        "Exploring thisis not with pastCost 17.784059273\n",
        "Exploring this is n o with pastCost 17.9580604673\n",
        "Exploring this isnotm with pastCost 18.5140354931\n",
        "Exploring thisisnot with pastCost 18.685783675\n",
        "Exploring thisis no with pastCost 18.9670930669\n",
        "Exploring th i s i with pastCost 19.0216888728\n",
        "Exploring th i s is with pastCost 19.2668346934\n",
        "Exploring th is i s with pastCost 19.2668346934\n",
        "Exploring th is is not my with pastCost 19.497595022\n",
        "Exploring t his i s with pastCost 19.8726906686\n",
        "Exploring th is is n with pastCost 19.8797052941\n",
        "Exploring t his is not my with pastCost 20.1034509972\n",
        "Exploring this i s not my with pastCost 20.1224412918\n",
        "Exploring this isnotmy with pastCost 20.411155478\n",
        "Exploring t his is n with pastCost 20.4855612694\n",
        "Exploring this i s n with pastCost 20.504551564\n",
        "Exploring thisisnotm with pastCost 20.5829036598"
       ]
      },
      {
       "output_type": "stream",
       "stream": "stdout",
       "text": [
        "\n",
        "Exploring th isi with pastCost 21.4039904975\n",
        "Exploring th isis with pastCost 21.4039904975\n",
        "Exploring th isisn with pastCost 21.4039904975\n",
        "Exploring this i sno with pastCost 21.4521722861\n",
        "Exploring this i snot with pastCost 21.4521722861\n",
        "Exploring this i snotm with pastCost 21.4521722861\n",
        "Exploring this i sn with pastCost 21.4521722861\n",
        "Exploring this is not my h with pastCost 21.5462421088\n",
        "Exploring this is not my ho with pastCost 19.8880140322\n",
        "Exploring this is notm with pastCost 21.6973181067\n",
        "Exploring this is notmy with pastCost 21.6973181067\n",
        "Exploring t h is i with pastCost 21.8317840508\n",
        "Exploring thi s with pastCost 21.8347734136\n",
        "Exploring thisi s with pastCost 21.8347734136\n",
        "Exploring t h is is with pastCost 22.0769298714\n",
        "Exploring this isnotmyh with pastCost 22.3082754629\n",
        "Exploring thisisnotmy with pastCost 22.4800236447\n",
        "Exploring this is no t my with pastCost 22.5061323513\n",
        "Exploring this isnot my with pastCost 22.5503641417\n",
        "Exploring t hisi with pastCost 22.7902848586"
       ]
      },
      {
       "output_type": "stream",
       "stream": "stdout",
       "text": [
        "\n",
        "Exploring t hisis with pastCost 22.7902848586\n",
        "Exploring thisisn o with pastCost 22.8373764662\n",
        "Exploring thi si with pastCost 23.0134284099\n",
        "Exploring th isisno with pastCost 23.3011104824\n",
        "Exploring th is is no tm with pastCost 23.3222113993\n",
        "Exploring t hi s with pastCost 23.3467415333\n",
        "Exploring this i snotmy with pastCost 23.349292271\n",
        "Exploring this is notmyh with pastCost 23.5944380916\n",
        "Exploring thisis not my with pastCost 23.7175079065\n",
        "Exploring t his is no tm with pastCost 23.9280673746\n",
        "Exploring this i s no tm with pastCost 23.9470576692\n",
        "Exploring th is is not m with pastCost 24.0333520801\n",
        "Exploring th i s is not with pastCost 24.0564702461\n",
        "Exploring th is i s not with pastCost 24.0564702461\n",
        "Exploring thisis n with pastCost 24.0996181786\n",
        "Exploring this isnotmyho with pastCost 24.2053954478\n",
        "Exploring thisisnotmyh with pastCost 24.3771436296\n",
        "Exploring t hi si with pastCost 24.5253965296\n",
        "Exploring this isn o with pastCost 24.5627482692\n",
        "Exploring thisisnot my with pastCost 24.6192323084\n",
        "Exploring t his is not m with pastCost 24.6392080554"
       ]
      },
      {
       "output_type": "stream",
       "stream": "stdout",
       "text": [
        "\n",
        "Exploring this i s not m with pastCost 24.65819835\n",
        "Exploring t his i s not with pastCost 24.6623262214\n",
        "Exploring t hisisn with pastCost 24.6874048435\n",
        "Exploring this isno tm with pastCost 25.1919467252\n",
        "Exploring th isisnot with pastCost 25.1982304673\n",
        "Exploring th i s is no with pastCost 25.23950404\n",
        "Exploring th is i s no with pastCost 25.23950404\n",
        "Exploring this i snotmyh with pastCost 25.2464122558\n",
        "Exploring thisisno tm with pastCost 25.363694907\n",
        "Exploring this is no tm y with pastCost 25.3708584861\n",
        "Exploring this is notmyho with pastCost 25.4915580764\n",
        "Exploring t his i s no with pastCost 25.8453600153\n",
        "Exploring this is not m y with pastCost 26.0819991669\n",
        "Exploring this isnotmyhou with pastCost 26.1025154327\n",
        "Exploring th i si s with pastCost 26.1025567695\n",
        "Exploring th isis not with pastCost 26.1936260502\n",
        "Exploring th i sis with pastCost 26.2392472754\n",
        "Exploring th i sisn with pastCost 26.2392472754\n",
        "Exploring th i sisno with pastCost 26.2392472754\n",
        "Exploring thisisnotmyho with pastCost 26.2742636145\n",
        "Exploring th is is no t with pastCost 26.4401613056"
       ]
      },
      {
       "output_type": "stream",
       "stream": "stdout",
       "text": [
        "\n",
        "Exploring th is isn with pastCost 26.484393096\n",
        "Exploring th is isno with pastCost 26.484393096\n",
        "Exploring th is isnot with pastCost 26.484393096\n",
        "Exploring this is not myh with pastCost 26.4869536594\n",
        "Exploring this is not myho with pastCost 26.4869536594\n",
        "Exploring this is not myhou with pastCost 26.4869536594\n",
        "Exploring this is n o tm with pastCost 26.5330916843\n",
        "Exploring t hisisno with pastCost 26.5845248284\n",
        "Exploring thisi s not with pastCost 26.6244089663\n",
        "Exploring thi s i with pastCost 26.6700301914\n",
        "Exploring t h is is not with pastCost 26.8665654242\n",
        "Exploring thi s is with pastCost 26.9151760121\n",
        "Exploring this is no t m with pastCost 27.0418894095\n",
        "Exploring t his is no t with pastCost 27.0460172809\n",
        "Exploring this i s no t with pastCost 27.0650075755\n",
        "Exploring this isnot m with pastCost 27.0861211998\n",
        "Exploring t his isno with pastCost 27.0902490712\n",
        "Exploring t his isnot with pastCost 27.0902490712\n",
        "Exploring t his isn with pastCost 27.0902490712\n",
        "Exploring th isisnotm with pastCost 27.0953504522\n",
        "Exploring this i snotmyho with pastCost 27.1435322407"
       ]
      },
      {
       "output_type": "stream",
       "stream": "stdout",
       "text": [
        "\n",
        "Exploring th isis no with pastCost 27.3766598441\n",
        "Exploring this i snot my with pastCost 27.3856209195\n",
        "Exploring this is notmyhou with pastCost 27.3886780613\n",
        "Exploring t h i s with pastCost 27.4888511306\n",
        "Exploring thisis no tm with pastCost 27.5421242838\n",
        "Exploring t hisis not with pastCost 27.5799204114\n",
        "Exploring this is no tmy with pastCost 27.6699874533\n",
        "Exploring this is no tmyh with pastCost 27.6699874533\n",
        "Exploring this is no tmyho with pastCost 27.6699874533\n",
        "Exploring thisi s no with pastCost 27.8074427602\n",
        "Exploring th is is n o with pastCost 27.8255380551\n",
        "Exploring this isnotmyhous with pastCost 27.9996354175\n",
        "Exploring this isnotmy house with pastCost 27.6614853447\n",
        "numStatesExplored = 153\n",
        "totalCost = 27.6614853447\n",
        "actions = [(0, 1), (2, 1), (0, 0), (4, 1), (0, 1), (7, 1), (0, 1), (1, 0), (0, 1), (0, 1), (0, 1), (0, 1), (0, 1), (0, 1), (12, 1)]\n",
        "this isnotmy house\n"
       ]
      },
      {
       "metadata": {},
       "output_type": "pyout",
       "prompt_number": 220,
       "text": [
        "'this isnotmy house'"
       ]
      }
     ],
     "prompt_number": 220
    },
    {
     "cell_type": "code",
     "collapsed": false,
     "input": [
      "class SegmentationProblem(util.SearchProblem):\n",
      "    def __init__(self, query, unigramCost):\n",
      "        self.query = query\n",
      "        self.unigramCost = unigramCost\n",
      "\n",
      "    def startState(self):\n",
      "        # BEGIN_YOUR_CODE (around 5 lines of code expected)\n",
      "        return self.query[0]\n",
      "        # END_YOUR_CODE\n",
      "\n",
      "    def isGoal(self, state):\n",
      "        # BEGIN_YOUR_CODE (around 5 lines of code expected)\n",
      "        # Are there beneficial actions still to take?\n",
      "        benefit = 0\n",
      "        for action,newState,cost in SegmentationProblem(self.query,unigramCost).succAndCost(state):\n",
      "            if cost < 0:\n",
      "                benefit += 1\n",
      "        if len(''.join(state.split())) == len(self.query) and benefit == 0:\n",
      "            return True\n",
      "        else:\n",
      "            return False\n",
      "        # END_YOUR_CODE\n",
      "\n",
      "    # Return list of (action, newState, cost) tuples\n",
      "    # Note that cost is cost(action) not cost(state)\n",
      "    # action is tuple of (index to split, bool(add letter))\n",
      "    # state is the string we have now\n",
      "    def succAndCost(self, state):\n",
      "        # BEGIN_YOUR_CODE (around 10 lines of code expected)\n",
      "        allTuples = []\n",
      "        if len(''.join(state.split())) != len(self.query):\n",
      "            nextLetter = self.query[len(''.join(state.split()))]\n",
      "        else:\n",
      "            nextLetter = ''\n",
      "        action = (0,1)\n",
      "        newState = state + nextLetter\n",
      "        cost = sum([self.unigramCost(x) for x in newState.split()]) - sum([self.unigramCost(x) for x in state.split()])\n",
      "        allTuples.append((action,newState,cost))\n",
      "        for i in xrange(1,len(state)+1):\n",
      "            if ' ' not in [state[i-1]]:\n",
      "                if i == len(state):\n",
      "                    action = (i,1)\n",
      "                    newState = state[:i] + ' ' + state[i:] + nextLetter\n",
      "                    cost = sum([self.unigramCost(x) for x in newState.split()]) - sum([self.unigramCost(x) for x in state.split()])\n",
      "                    allTuples.append((action,newState,cost))\n",
      "                elif ' ' not in [state[i]]:\n",
      "                    action = (i,1)\n",
      "                    newState = state[:i] + ' ' + state[i:] + nextLetter\n",
      "                    cost = sum([self.unigramCost(x) for x in newState.split()]) - sum([self.unigramCost(x) for x in state.split()])\n",
      "                    allTuples.append((action,newState,cost))\n",
      "            \n",
      "#         withNextLetter = state + nextLetter\n",
      "#         currentWords = withNextLetter.split()\n",
      "#         for idw in xrange(len(currentWords)-1):\n",
      "#             action = (idw,0)\n",
      "#             newWords = []\n",
      "#             for j in xrange(len(currentWords)):\n",
      "#                 if j not in [idw,idw+1]:\n",
      "#                     newWords.append(currentWords[j])\n",
      "#                 elif j is idw:\n",
      "#                     newWords.append(''.join([currentWords[idw],currentWords[idw+1]]))\n",
      "#             newState = ' '.join(newWords)\n",
      "#             cost = sum([self.unigramCost(x) for x in newState.split()]) - sum([self.unigramCost(x) for x in state.split()])\n",
      "#             allTuples.append((action,newState,cost))\n",
      "        return allTuples\n",
      "        # END_YOUR_CODE\n",
      "\n",
      "def segmentWords(query, unigramCost):\n",
      "    if len(query) == 0:\n",
      "        return ''\n",
      "\n",
      "    ucs = util.UniformCostSearch(verbose=2)\n",
      "    ucs.solve(SegmentationProblem(query, unigramCost))\n",
      "\n",
      "    # BEGIN_YOUR_CODE (around 5 lines of code expected)\n",
      "    state = query[0]\n",
      "    for action in ucs.actions:\n",
      "        if len(''.join(state.split())) != len(query):\n",
      "            nextLetter = query[len(''.join(state.split()))]\n",
      "        else:\n",
      "            nextLetter = ''\n",
      "        if action[1] == 1:\n",
      "            if action[0] == 0:\n",
      "                state = state + nextLetter\n",
      "            else:\n",
      "                state = state[:action[0]] + ' ' + state[action[0]:] + nextLetter\n",
      "        else:\n",
      "            withNextLetter = state + nextLetter\n",
      "            currentWords = withNextLetter.split()\n",
      "            newWords = []\n",
      "            for j in xrange(len(currentWords)):\n",
      "                if j not in [action[0],action[0]+1]:\n",
      "                    newWords.append(currentWords[j])\n",
      "                elif j is action[0]:\n",
      "                    newWords.append(''.join([currentWords[action[0]],currentWords[action[0]+1]]))\n",
      "            state = ' '.join(newWords)\n",
      "    print state\n",
      "    return state\n",
      "    # END_YOUR_CODE"
     ],
     "language": "python",
     "metadata": {},
     "outputs": [],
     "prompt_number": 221
    },
    {
     "cell_type": "code",
     "collapsed": false,
     "input": [
      "segmentWords('thisisnotmyhouse', unigramCost)"
     ],
     "language": "python",
     "metadata": {},
     "outputs": [
      {
       "output_type": "stream",
       "stream": "stdout",
       "text": [
        "Exploring t with pastCost 0\n",
        "Exploring th with pastCost -1.38629436112\n",
        "Exploring th i with pastCost 3.44896241672\n",
        "Exploring th is with pastCost 3.69410823733\n",
        "Exploring th is i with pastCost 8.52936501518\n",
        "Exploring th is is with pastCost 8.77451083579\n",
        "Exploring thi with pastCost 11.0973037354\n",
        "Exploring this with pastCost -6.17336935041\n",
        "Exploring this i with pastCost -1.33811257256\n",
        "Exploring this is with pastCost -1.09296675195\n",
        "Exploring t his with pastCost 4.2999642126\n",
        "Exploring t his i with pastCost 9.13522099045\n",
        "Exploring t his is with pastCost 9.38036681106\n",
        "Exploring this i s with pastCost 9.39935710563\n",
        "Exploring this is n with pastCost 10.0122277064\n",
        "Exploring this is no with pastCost 4.87970259466\n",
        "Exploring this is not with pastCost 3.69666880077\n",
        "Exploring thisi with pastCost 11.0973037354\n",
        "Exploring t h with pastCost 11.9161246745\n",
        "Exploring t hi with pastCost 12.6092718551\n",
        "Exploring thisis with pastCost 12.9944237203\n",
        "Exploring this is no tm with pastCost 13.4547338116\n",
        "Exploring th is is not with pastCost 13.5641463885\n",
        "Exploring this is not m with pastCost 14.1658744924\n",
        "Exploring this is not my with pastCost 9.63011743423\n",
        "Exploring t his is not with pastCost 14.1700023638\n",
        "Exploring th i s with pastCost 14.1864320949\n",
        "Exploring this i s not with pastCost 14.1889926584\n",
        "Exploring th is is no with pastCost 14.7471801824\n",
        "Exploring thisisn with pastCost 14.8915437052\n",
        "Exploring t his is no with pastCost 15.3530361577\n",
        "Exploring th i si with pastCost 15.3650870913\n",
        "Exploring this i s no with pastCost 15.3720264522\n",
        "Exploring this is no t with pastCost 16.5726837179\n",
        "Exploring this isn with pastCost 16.6169155082\n",
        "Exploring this isno with pastCost 16.6169155082\n",
        "Exploring this isnot with pastCost 16.6169155082\n",
        "Exploring t h i with pastCost 16.7513814524\n",
        "Exploring thisisno with pastCost 16.7886636901\n",
        "Exploring t h is with pastCost 16.996527273"
       ]
      },
      {
       "output_type": "stream",
       "stream": "stdout",
       "text": [
        "\n",
        "Exploring thisis not with pastCost 17.784059273\n",
        "Exploring this is n o with pastCost 17.9580604673\n",
        "Exploring this isnotm with pastCost 18.5140354931\n",
        "Exploring thisisnot with pastCost 18.685783675\n",
        "Exploring thisis no with pastCost 18.9670930669\n",
        "Exploring th i s i with pastCost 19.0216888728\n",
        "Exploring th i s is with pastCost 19.2668346934\n",
        "Exploring th is i s with pastCost 19.2668346934\n",
        "Exploring th is is not my with pastCost 19.497595022\n",
        "Exploring t his i s with pastCost 19.8726906686\n",
        "Exploring th is is n with pastCost 19.8797052941\n",
        "Exploring t his is not my with pastCost 20.1034509972\n",
        "Exploring this i s not my with pastCost 20.1224412918\n",
        "Exploring this isnotmy with pastCost 20.411155478\n",
        "Exploring t his is n with pastCost 20.4855612694\n",
        "Exploring this i s n with pastCost 20.504551564\n",
        "Exploring thisisnotm with pastCost 20.5829036598\n",
        "Exploring th isi with pastCost 21.4039904975\n",
        "Exploring th isis with pastCost 21.4039904975\n",
        "Exploring th isisn with pastCost 21.4039904975\n",
        "Exploring this i sno with pastCost 21.4521722861\n",
        "Exploring this i snot with pastCost 21.4521722861\n",
        "Exploring this i snotm with pastCost 21.4521722861\n",
        "Exploring this i sn with pastCost 21.4521722861\n",
        "Exploring this is not my h with pastCost 21.5462421088\n",
        "Exploring this is not my ho with pastCost 19.8880140322\n",
        "Exploring this is notm with pastCost 21.6973181067\n",
        "Exploring this is notmy with pastCost 21.6973181067\n",
        "Exploring t h is i with pastCost 21.8317840508\n",
        "Exploring thi s with pastCost 21.8347734136"
       ]
      },
      {
       "output_type": "stream",
       "stream": "stdout",
       "text": [
        "\n",
        "Exploring thisi s with pastCost 21.8347734136\n",
        "Exploring t h is is with pastCost 22.0769298714\n",
        "Exploring this isnotmyh with pastCost 22.3082754629\n",
        "Exploring thisisnotmy with pastCost 22.4800236447\n",
        "Exploring this is no t my with pastCost 22.5061323513\n",
        "Exploring this isnot my with pastCost 22.5503641417\n",
        "Exploring t hisi with pastCost 22.7902848586\n",
        "Exploring t hisis with pastCost 22.7902848586\n",
        "Exploring thisisn o with pastCost 22.8373764662\n",
        "Exploring thi si with pastCost 23.0134284099\n",
        "Exploring th isisno with pastCost 23.3011104824\n",
        "Exploring th is is no tm with pastCost 23.3222113993\n",
        "Exploring t hi s with pastCost 23.3467415333\n",
        "Exploring this i snotmy with pastCost 23.349292271\n",
        "Exploring this is notmyh with pastCost 23.5944380916\n",
        "Exploring t his is no tm with pastCost 23.9280673746\n",
        "Exploring this i s no tm with pastCost 23.9470576692\n",
        "Exploring th is is not m with pastCost 24.0333520801\n",
        "Exploring th i s is not with pastCost 24.0564702461\n",
        "Exploring th is i s not with pastCost 24.0564702461\n",
        "Exploring thisis n with pastCost 24.0996181786\n",
        "Exploring this isnotmyho with pastCost 24.2053954478\n",
        "Exploring thisisnotmyh with pastCost 24.3771436296\n",
        "Exploring t hi si with pastCost 24.5253965296\n",
        "Exploring this isn o with pastCost 24.5627482692\n",
        "Exploring thisisnot my with pastCost 24.6192323084\n",
        "Exploring t his is not m with pastCost 24.6392080554\n",
        "Exploring this i s not m with pastCost 24.65819835"
       ]
      },
      {
       "output_type": "stream",
       "stream": "stdout",
       "text": [
        "\n",
        "Exploring t his i s not with pastCost 24.6623262214\n",
        "Exploring t hisisn with pastCost 24.6874048435\n",
        "Exploring this isno tm with pastCost 25.1919467252\n",
        "Exploring th isisnot with pastCost 25.1982304673\n",
        "Exploring th i s is no with pastCost 25.23950404\n",
        "Exploring th is i s no with pastCost 25.23950404\n",
        "Exploring this i snotmyh with pastCost 25.2464122558\n",
        "Exploring thisisno tm with pastCost 25.363694907\n",
        "Exploring this is no tm y with pastCost 25.3708584861\n",
        "Exploring this is notmyho with pastCost 25.4915580764\n",
        "Exploring t his i s no with pastCost 25.8453600153\n",
        "Exploring this is not m y with pastCost 26.0819991669\n",
        "Exploring this isnotmyhou with pastCost 26.1025154327\n",
        "Exploring th i si s with pastCost 26.1025567695\n",
        "Exploring th isis not with pastCost 26.1936260502\n",
        "Exploring th i sis with pastCost 26.2392472754\n",
        "Exploring th i sisn with pastCost 26.2392472754\n",
        "Exploring th i sisno with pastCost 26.2392472754\n",
        "Exploring thisisnotmyho with pastCost 26.2742636145\n",
        "Exploring th is is no t with pastCost 26.4401613056\n",
        "Exploring th is isno with pastCost 26.484393096\n",
        "Exploring th is isnot with pastCost 26.484393096\n",
        "Exploring th is isn with pastCost 26.484393096\n",
        "Exploring this is not myh with pastCost 26.4869536594\n",
        "Exploring this is not myho with pastCost 26.4869536594\n",
        "Exploring this is not myhou with pastCost 26.4869536594\n",
        "Exploring this is n o tm with pastCost 26.5330916843"
       ]
      },
      {
       "output_type": "stream",
       "stream": "stdout",
       "text": [
        "\n",
        "Exploring t hisisno with pastCost 26.5845248284\n",
        "Exploring thisi s not with pastCost 26.6244089663\n",
        "Exploring thi s i with pastCost 26.6700301914\n",
        "Exploring t h is is not with pastCost 26.8665654242\n",
        "Exploring thi s is with pastCost 26.9151760121\n",
        "Exploring this is no t m with pastCost 27.0418894095\n",
        "Exploring t his is no t with pastCost 27.0460172809\n",
        "Exploring this i s no t with pastCost 27.0650075755\n",
        "Exploring this isnot m with pastCost 27.0861211998\n",
        "Exploring t his isno with pastCost 27.0902490712\n",
        "Exploring t his isnot with pastCost 27.0902490712\n",
        "Exploring t his isn with pastCost 27.0902490712\n",
        "Exploring th isisnotm with pastCost 27.0953504522\n",
        "Exploring this i snotmyho with pastCost 27.1435322407\n",
        "Exploring th isis no with pastCost 27.3766598441\n",
        "Exploring this i snot my with pastCost 27.3856209195\n",
        "Exploring this is notmyhou with pastCost 27.3886780613\n",
        "Exploring t h i s with pastCost 27.4888511306\n",
        "Exploring thisis no tm with pastCost 27.5421242838\n",
        "Exploring t hisis not with pastCost 27.5799204114\n",
        "Exploring this is no tmy with pastCost 27.6699874533\n",
        "Exploring this is no tmyh with pastCost 27.6699874533\n",
        "Exploring this is no tmyho with pastCost 27.6699874533\n",
        "Exploring thisi s no with pastCost 27.8074427602\n",
        "Exploring th is is n o with pastCost 27.8255380551\n",
        "Exploring this isnotmyhous with pastCost 27.9996354175\n",
        "Exploring this isnotmy house with pastCost 27.6614853447"
       ]
      },
      {
       "output_type": "stream",
       "stream": "stdout",
       "text": [
        "\n",
        "numStatesExplored = 152\n",
        "totalCost = 27.6614853447\n",
        "actions = [(0, 1), (0, 1), (0, 1), (0, 1), (0, 1), (0, 1), (4, 1), (0, 1), (0, 1), (0, 1), (0, 1), (0, 1), (0, 1), (0, 1), (12, 1)]\n",
        "this isnotmy house\n"
       ]
      },
      {
       "metadata": {},
       "output_type": "pyout",
       "prompt_number": 222,
       "text": [
        "'this isnotmy house'"
       ]
      }
     ],
     "prompt_number": 222
    },
    {
     "cell_type": "code",
     "collapsed": false,
     "input": [
      "class SegmentationProblem(util.SearchProblem):\n",
      "    def __init__(self, query, unigramCost):\n",
      "        self.query = query\n",
      "        self.unigramCost = unigramCost\n",
      "\n",
      "    def startState(self):\n",
      "        # BEGIN_YOUR_CODE (around 5 lines of code expected)\n",
      "        return self.query[0]\n",
      "        # END_YOUR_CODE\n",
      "\n",
      "    def isGoal(self, state):\n",
      "        # BEGIN_YOUR_CODE (around 5 lines of code expected)\n",
      "        # Are there beneficial actions still to take?\n",
      "        if len(''.join(state.split())) == len(self.query):\n",
      "            return True\n",
      "        else:\n",
      "            return False\n",
      "        # END_YOUR_CODE\n",
      "\n",
      "    # Return list of (action, newState, cost) tuples\n",
      "    # Note that cost is cost(action) not cost(state)\n",
      "    # action is tuple of (index to split, bool(add letter))\n",
      "    # state is the string we have now\n",
      "    def succAndCost(self, state):\n",
      "        # BEGIN_YOUR_CODE (around 10 lines of code expected)\n",
      "        allTuples = []\n",
      "        nextLetter = self.query[len(''.join(state.split()))]\n",
      "        for i in xrange(2):\n",
      "            action = i\n",
      "            if action == 0:\n",
      "                newState = state + nextLetter\n",
      "            else:\n",
      "                newState = state + ' ' + nextLetter\n",
      "            cost = sum([self.unigramCost(x) for x in newState.split()])\n",
      "            allTuples.append((action,newState,cost))\n",
      "        return allTuples\n",
      "        # END_YOUR_CODE\n",
      "\n",
      "def segmentWords(query, unigramCost):\n",
      "    if len(query) == 0:\n",
      "        return ''\n",
      "\n",
      "    ucs = util.UniformCostSearch(verbose=2)\n",
      "    ucs.solve(SegmentationProblem(query, unigramCost))\n",
      "\n",
      "    # BEGIN_YOUR_CODE (around 5 lines of code expected)\n",
      "    state = query[0]\n",
      "    for action in ucs.actions:\n",
      "        nextLetter = query[len(''.join(state.split()))]\n",
      "        if action == 0:\n",
      "            state = state + nextLetter\n",
      "        else:\n",
      "            state = state + ' ' + nextLetter\n",
      "    print state\n",
      "    return state\n",
      "    # END_YOUR_CODE"
     ],
     "language": "python",
     "metadata": {},
     "outputs": [],
     "prompt_number": 235
    },
    {
     "cell_type": "code",
     "collapsed": false,
     "input": [
      "segmentWords('thisis',unigramCost)"
     ],
     "language": "python",
     "metadata": {},
     "outputs": [
      {
       "output_type": "stream",
       "stream": "stdout",
       "text": [
        "Exploring t with pastCost 0\n",
        "Exploring th with pastCost 10.3066867621\n",
        "Exploring t h with pastCost 23.6091057978\n",
        "Exploring th i with pastCost 25.448630302\n",
        "Exploring thi with pastCost 33.0969716207\n",
        "Exploring this with pastCost 38.6165833935\n",
        "Exploring th is with pastCost 40.8357196626\n",
        "Exploring t hi with pastCost 47.9113587761\n",
        "Exploring this i with pastCost 48.9714519442\n",
        "Exploring th i s with pastCost 51.3280435202\n",
        "Exploring t h i with pastCost 52.0534683734\n",
        "Exploring this is with pastCost 59.5714663155\n",
        "numStatesExplored = 12\n",
        "totalCost = 59.5714663155\n",
        "actions = [0, 0, 0, 1, 0]\n",
        "this is\n"
       ]
      },
      {
       "metadata": {},
       "output_type": "pyout",
       "prompt_number": 236,
       "text": [
        "'this is'"
       ]
      }
     ],
     "prompt_number": 236
    },
    {
     "cell_type": "code",
     "collapsed": false,
     "input": [
      "segmentWords('welcometomylife',unigramCost)"
     ],
     "language": "python",
     "metadata": {},
     "outputs": [
      {
       "output_type": "stream",
       "stream": "stdout",
       "text": [
        "Exploring w with pastCost 0\n",
        "Exploring we with pastCost 6.3458735925\n",
        "Exploring w e with pastCost 21.9413989772\n",
        "Exploring we l with pastCost 25.9941662207\n",
        "Exploring wel with pastCost 29.1361584511\n",
        "Exploring welc with pastCost 51.9264433098\n",
        "Exploring we lc with pastCost 55.1303246718\n",
        "Exploring we l c with pastCost 56.3058205549\n",
        "Exploring w e l with pastCost 57.18521699\n",
        "Exploring w el with pastCost 57.3409556909\n",
        "Exploring wel c with pastCost 62.5898050158\n",
        "Exploring welco with pastCost 74.7167281684\n",
        "Exploring welc o with pastCost 82.6625609294\n",
        "Exploring we lco with pastCost 84.2664831229\n",
        "Exploring we l co with pastCost 86.9539471257\n",
        "Exploring we lc o with pastCost 92.2123158839\n",
        "Exploring w elc with pastCost 92.7405124046\n",
        "Exploring we l c o with pastCost 94.56330765\n",
        "Exploring wel co with pastCost 96.3799238171\n",
        "Exploring welcom with pastCost 99.4041330119\n",
        "Exploring w e lc with pastCost 101.916900826\n",
        "Exploring w e l c with pastCost 103.092396709\n",
        "Exploring w el c with pastCost 103.403874111\n",
        "Exploring wel c o with pastCost 103.989284341\n",
        "Exploring welco m with pastCost 107.976218719\n",
        "Exploring welcome with pastCost 109.81618029\n",
        "Exploring we lcom with pastCost 113.402641574\n",
        "Exploring welc om with pastCost 118.755264824\n",
        "Exploring welc o m with pastCost 123.867884241\n",
        "Exploring we lco m with pastCost 123.871847266\n",
        "Exploring we l co m with pastCost 128.071279388\n",
        "Exploring w elco with pastCost 128.140069118\n",
        "Exploring we l com with pastCost 129.392524612\n",
        "Exploring welcome t with pastCost 131.921208691\n",
        "Exploring welcom e with pastCost 133.423664978\n",
        "Exploring we lc om with pastCost 134.650893371\n",
        "Exploring w elc o with pastCost 136.085901879\n",
        "Exploring welco me with pastCost 136.729384917\n",
        "Exploring we l c om with pastCost 138.17738102\n",
        "Exploring welcomet with pastCost 138.297825103\n",
        "Exploring we lc o m with pastCost 139.763512788\n",
        "Exploring wel co m with pastCost 140.63924831\n",
        "Exploring wel com with pastCost 141.960493534\n",
        "Exploring we lcome with pastCost 142.538800025\n",
        "Exploring we l c o m with pastCost 143.290000437\n",
        "Exploring welcome to with pastCost 145.870702671\n",
        "Exploring w e lco with pastCost 146.648584662\n",
        "Exploring w e l co with pastCost 149.336048664\n",
        "Exploring w el co with pastCost 149.803264767\n",
        "Exploring welco m e with pastCost 150.567836391\n",
        "Exploring wel c om with pastCost 150.745349942\n",
        "Exploring we lcom e with pastCost 151.870927147\n",
        "Exploring w e lc o with pastCost 154.594417423\n",
        "Exploring we l come with pastCost 155.68010358\n",
        "Exploring wel c o m with pastCost 155.857969359\n",
        "Exploring w e l c o with pastCost 156.945409189\n",
        "Exploring w el c o with pastCost 157.412625291\n",
        "Exploring we lco me with pastCost 158.970887057\n",
        "Exploring welc o me with pastCost 160.5668832\n",
        "Exploring welcome t o with pastCost 161.972069853\n",
        "Exploring w elcom with pastCost 163.539625832\n",
        "Exploring welc om e with pastCost 164.18009584\n",
        "Exploring welc ome with pastCost 164.335834541\n",
        "Exploring we l co me with pastCost 164.682287299\n",
        "Exploring welco met with pastCost 167.728338611\n",
        "Exploring welcom et with pastCost 168.469049878\n",
        "Exploring welcometo with pastCost 168.676589901\n",
        "Exploring welcome to m with pastCost 170.289402344\n",
        "Exploring wel come with pastCost 171.390064733\n",
        "Exploring we lco m e with pastCost 172.80933853\n",
        "Exploring we lcomet with pastCost 173.572078461\n",
        "Exploring w elco m with pastCost 174.008831524\n",
        "Exploring welc o m e with pastCost 174.405334674\n",
        "Exploring welcomet o with pastCost 174.725302677\n",
        "Exploring welco me t with pastCost 177.17553224\n",
        "Exploring we l co m e with pastCost 178.520738773\n",
        "Exploring welcome tom with pastCost 179.073034808\n",
        "Exploring welcom e t with pastCost 179.136178066\n",
        "Exploring wel co me with pastCost 180.392248452\n",
        "Exploring we l com e with pastCost 181.163229221\n",
        "Exploring we lc o me with pastCost 182.80838534\n",
        "Exploring we lcome t with pastCost 183.3679396\n",
        "Exploring w elc om with pastCost 184.787877629\n",
        "Exploring we l comet with pastCost 186.328230151\n",
        "Exploring we lc om e with pastCost 186.42159798\n",
        "Exploring we lc ome with pastCost 186.57733668\n",
        "Exploring we l c o me with pastCost 187.510368872\n",
        "Exploring w elc o m with pastCost 189.900497046\n",
        "Exploring welcome to my with pastCost 190.172344958\n",
        "Exploring we l c om e with pastCost 191.123581512\n",
        "Exploring we l c ome with pastCost 191.279320213\n",
        "Exploring we lcom et with pastCost 191.365065655\n",
        "Exploring w e lcom with pastCost 191.380268498\n",
        "Exploring we l come t with pastCost 193.660663671\n",
        "Exploring welco m et with pastCost 194.185306998\n",
        "Exploring wel co m e with pastCost 194.230699925\n",
        "Exploring we lco met with pastCost 196.315714343\n",
        "Exploring we lc o m e with pastCost 196.646836813\n",
        "Exploring wel com e with pastCost 196.873190374\n",
        "Exploring welcome t om with pastCost 197.379517289\n",
        "Exploring welc o met with pastCost 199.511669655\n",
        "Exploring w elcome with pastCost 200.836302531\n",
        "Exploring welcometom with pastCost 200.952474684\n",
        "Exploring we l c o m e with pastCost 201.348820346\n",
        "Exploring w e lco m with pastCost 201.849474189\n",
        "Exploring we lcom e t with pastCost 202.032193844\n",
        "Exploring welcome t o m with pastCost 202.492136706\n",
        "Exploring wel c o me with pastCost 203.220330025\n",
        "Exploring we l co met with pastCost 203.539082705\n",
        "Exploring welco m e t with pastCost 204.852435186\n",
        "Exploring wel comet with pastCost 205.180183534\n",
        "Exploring we lco me t with pastCost 205.762907972\n",
        "Exploring w e l co m with pastCost 206.048906312\n",
        "Exploring we lcometo with pastCost 206.502476882\n",
        "Exploring welcome to m y with pastCost 206.624226691\n",
        "Exploring w el co m with pastCost 206.671861115\n",
        "Exploring welco met o with pastCost 206.673125065\n",
        "Exploring wel c om e with pastCost 206.833542664\n",
        "Exploring wel c ome with pastCost 206.989281365\n",
        "Exploring w e l com with pastCost 207.370151536\n",
        "Exploring w el com with pastCost 207.993106339\n",
        "Exploring w elcom e with pastCost 208.271309668\n",
        "Exploring welc o me t with pastCost 208.958863284\n",
        "Exploring welco me to with pastCost 209.466145141\n",
        "Exploring welcometo m with pastCost 209.524560391\n",
        "Exploring welc omet with pastCost 209.916404258\n",
        "Exploring welc om et with pastCost 210.630779791\n",
        "Exploring welcom et o with pastCost 211.460267539\n",
        "Exploring welcome tomy with pastCost 212.275366944\n",
        "Exploring wel come t with pastCost 212.512617054\n",
        "Exploring we lcomet o with pastCost 212.551189658\n",
        "Exploring w e lc om with pastCost 212.628520294\n",
        "Exploring we l co me t with pastCost 212.986276333\n",
        "Exploring welco meto with pastCost 213.308908328\n",
        "Exploring w elco me with pastCost 215.371269578\n",
        "Exploring welcom eto with pastCost 215.94673958\n",
        "Exploring we lcome to with pastCost 216.041544754\n",
        "Exploring w e l c om with pastCost 216.155007943\n",
        "Exploring welcomet om with pastCost 216.509366526\n",
        "Exploring welcom e to with pastCost 216.693156735\n",
        "Exploring w el c om with pastCost 216.777962747\n",
        "Exploring wel c o m e with pastCost 217.058781498\n",
        "Exploring w e lc o m with pastCost 217.741139711\n",
        "Exploring w e l c o m with pastCost 221.26762736\n",
        "Exploring welc om e t with pastCost 221.29790798\n",
        "Exploring welc ome t with pastCost 221.609385381\n",
        "Exploring welcomet o m with pastCost 221.621985943\n",
        "Exploring w el c o m with pastCost 221.890582164\n",
        "Exploring wel co met with pastCost 222.391036088\n",
        "Exploring we lco m et with pastCost 222.77268273\n",
        "Exploring welcome to my l with pastCost 223.357706608\n",
        "Exploring we l come to with pastCost 223.485689342\n",
        "Exploring welcome tom y with pastCost 224.191491619\n",
        "Exploring we l comet o with pastCost 224.922189483\n",
        "Exploring welco me t o with pastCost 225.567512323\n",
        "Exploring welc o m et with pastCost 225.968638042\n",
        "Exploring welcome to myl with pastCost 226.912123797\n",
        "Exploring we lc o met with pastCost 228.099045387\n",
        "Exploring w elco m e with pastCost 229.209721051\n",
        "Exploring we l co m et with pastCost 229.996051092\n",
        "Exploring we l cometo with pastCost 230.663927623\n",
        "Exploring wel co me t with pastCost 231.838229716\n",
        "Exploring we lcome t o with pastCost 232.142911935\n",
        "Exploring welcom e t o with pastCost 232.794523916\n",
        "Exploring we lco m e t with pastCost 233.439810919\n",
        "Exploring we l com et with pastCost 233.959786765\n",
        "Exploring we l c o met with pastCost 233.976524802\n",
        "Exploring welcometomy with pastCost 235.125479452\n",
        "Exploring w e lcome with pastCost 236.111952333\n",
        "Exploring welc o m e t with pastCost 236.63576623\n",
        "Exploring we lc o me t with pastCost 237.546239016\n",
        "Exploring welcome t o my with pastCost 238.476446502\n",
        "Exploring we lc omet with pastCost 238.50377999\n",
        "Exploring we lcom et o with pastCost 238.805036924\n",
        "Exploring w elc o me with pastCost 239.208767861\n",
        "Exploring we lc om et with pastCost 239.218155523\n",
        "Exploring we l come t o with pastCost 239.587056523\n",
        "Exploring w elcomet with pastCost 240.030099214\n",
        "Exploring we l co m e t with pastCost 240.66317928\n",
        "Exploring we lcometom with pastCost 241.329995288\n",
        "Exploring we lco met o with pastCost 241.60637439\n",
        "Exploring welcome t omy with pastCost 242.274830549\n",
        "Exploring w elc om e with pastCost 242.8219805\n",
        "Exploring w elc ome with pastCost 242.977719201\n",
        "Exploring we lcom eto with pastCost 243.291508965\n",
        "Exploring we l c o me t with pastCost 243.423718431\n",
        "Exploring we lcom e to with pastCost 244.03792612\n",
        "Exploring we l c omet with pastCost 244.381259406\n",
        "Exploring we lco me to with pastCost 244.399394466\n",
        "Exploring we l com e t with pastCost 244.626914953\n",
        "Exploring welcome t om y with pastCost 244.7030894\n",
        "Exploring we l c om et with pastCost 245.095634938\n",
        "Exploring welcometom y with pastCost 245.144484142\n",
        "Exploring w e lcom e with pastCost 245.444079455\n",
        "Exploring welcome tomyl with pastCost 245.477699081\n",
        "Exploring wel come to with pastCost 245.479634955\n",
        "Exploring welco m et o with pastCost 245.748610365\n",
        "Exploring welcometo my with pastCost 245.836773823\n",
        "Exploring welc o met o with pastCost 246.40228887\n",
        "Exploring wel comet o with pastCost 246.916135096\n",
        "Exploring we lco meto with pastCost 248.242157653\n",
        "Exploring wel co m et with pastCost 248.848004474\n",
        "Exploring welc o me to with pastCost 249.195308946\n",
        "Exploring w e l come with pastCost 249.253255888\n",
        "Exploring w elcome t with pastCost 249.825960353\n",
        "Exploring we lc om e t with pastCost 249.885283712\n",
        "Exploring we lcometo m with pastCost 249.902080995\n",
        "Exploring w el come with pastCost 250.031949393\n",
        "Exploring we lc ome t with pastCost 250.196761113\n",
        "Exploring welco m eto with pastCost 250.235082407\n",
        "Exploring we l co met o with pastCost 250.341710871\n",
        "Exploring welco met om with pastCost 250.974497795\n",
        "Exploring welco m e to with pastCost 250.981499562\n",
        "Exploring welco me to m with pastCost 252.225963735\n",
        "Exploring w e lco me with pastCost 252.544039365\n",
        "Exploring wel cometo with pastCost 252.657873236\n",
        "Exploring wel com et with pastCost 252.811740147\n",
        "Exploring wel c o met with pastCost 252.828478185\n",
        "Exploring welc o meto with pastCost 253.038072133\n",
        "Exploring w elc o m e with pastCost 253.047219334\n",
        "Exploring we l co me to with pastCost 253.134730947\n",
        "Exploring welcome to m yl with pastCost 253.833211222\n",
        "Exploring w elcom et with pastCost 254.028846438\n",
        "Exploring we lc o m et with pastCost 254.556013774\n",
        "Exploring welcome t o m y with pastCost 254.928328234\n",
        "Exploring welc ometo with pastCost 255.496973975\n",
        "Exploring we l c om e t with pastCost 255.762763127\n",
        "Exploring we l c ome t with pastCost 256.074240529\n",
        "Exploring welco met o m with pastCost 256.087117211\n",
        "Exploring welcome to m y l with pastCost 256.261470073\n",
        "Exploring we lcomet om with pastCost 256.88688713\n",
        "Exploring we l co meto with pastCost 256.977494134\n",
        "Exploring w e l co me with pastCost 258.255439607\n",
        "Exploring welcome tomy l with pastCost 258.780118116\n",
        "Exploring welco metom with pastCost 258.889478045\n",
        "Exploring w elco met with pastCost 258.979495126\n",
        "Exploring w el co me with pastCost 259.034133112\n",
        "Exploring we lcome to m with pastCost 259.184355599\n",
        "Exploring wel co m e t with pastCost 259.515132663\n",
        "Exploring welcom et om with pastCost 259.808071474\n",
        "Exploring we lcom e t o with pastCost 260.139293301\n",
        "Exploring we l c o m et with pastCost 260.433493189\n",
        "Exploring we lco me t o with pastCost 260.500761647\n",
        "Exploring welco me tom with pastCost 261.009596199\n",
        "Exploring welcome to my l i with pastCost 261.378325035\n",
        "Exploring wel come t o with pastCost 261.581002137\n",
        "Exploring we lcomet o m with pastCost 261.999506547\n",
        "Exploring wel c o me t with pastCost 262.275671814\n",
        "Exploring welcometo m y with pastCost 262.288655555\n",
        "Exploring wel c omet with pastCost 263.233212788\n",
        "Exploring welcom etom with pastCost 263.424429282\n",
        "Exploring welc omet o with pastCost 263.442806736\n",
        "Exploring wel com e t with pastCost 263.478868336\n",
        "Exploring welcome to myli with pastCost 263.651902637\n",
        "Exploring we l come to m with pastCost 263.779920705\n",
        "Exploring wel c om et with pastCost 263.947588321\n",
        "Exploring welcomet o my with pastCost 263.982912151\n",
        "Exploring w elcom e t with pastCost 264.695974627\n",
        "Exploring welcom e to m with pastCost 264.719341095\n",
        "Exploring welcom et o m with pastCost 264.920690891\n",
        "Exploring welc om et o with pastCost 265.027296503\n",
        "Exploring we lc o m e t with pastCost 265.223141962"
       ]
      },
      {
       "output_type": "stream",
       "stream": "stdout",
       "text": [
        "\n",
        "Exploring welc o me t o with pastCost 265.296676128\n",
        "Exploring welcome to my li with pastCost 266.030934081\n",
        "Exploring w e lco m e with pastCost 266.382490839\n",
        "Exploring welco m e t o with pastCost 267.082866743\n",
        "Exploring welcomet omy with pastCost 267.781296198\n",
        "Exploring we lcome tom with pastCost 267.967988063\n",
        "Exploring w elco me t with pastCost 268.426688755\n",
        "Exploring welcome to myl i with pastCost 268.487159414\n",
        "Exploring we l comet om with pastCost 268.872735089\n",
        "Exploring we l co me t o with pastCost 269.236098129\n",
        "Exploring welco meto m with pastCost 269.358683737\n",
        "Exploring welc om eto with pastCost 269.513768544\n",
        "Exploring welcomet om y with pastCost 270.20955505\n",
        "Exploring welc om e to with pastCost 270.260185699\n",
        "Exploring welc ome to with pastCost 270.727401802\n",
        "Exploring we l c o m e t with pastCost 271.100621378\n",
        "Exploring welcometomyl with pastCost 271.195604205\n",
        "Exploring w e l co m e with pastCost 272.093891081\n",
        "Exploring wel co met o with pastCost 272.335656485\n",
        "Exploring we l come tom with pastCost 272.563553169\n",
        "Exploring w el co m e with pastCost 272.872584585\n",
        "Exploring welcom e tom with pastCost 273.502973559\n",
        "Exploring welcom eto m with pastCost 273.893634973\n",
        "Exploring we l comet o m with pastCost 273.985354506\n",
        "Exploring wel c om e t with pastCost 274.61471651\n",
        "Exploring w e l com e with pastCost 274.73638153\n",
        "Exploring wel c ome t with pastCost 274.926193912\n",
        "Exploring wel co me to with pastCost 275.128676561\n",
        "Exploring w el com e with pastCost 275.515075034\n",
        "Exploring w e lc o me with pastCost 276.381537648\n",
        "Exploring we l cometom with pastCost 276.896745079\n",
        "Exploring we lcometomy with pastCost 278.054633679\n",
        "Exploring wel co meto with pastCost 278.971439748\n",
        "Exploring wel c o m et with pastCost 279.285446572\n",
        "Exploring welco me t om with pastCost 279.31607868\n",
        "Exploring w e lc om e with pastCost 279.994750288\n",
        "Exploring w e lc ome with pastCost 280.150488989\n",
        "Exploring welcome tom yl with pastCost 280.184108614\n",
        "Exploring welcomet o m y with pastCost 280.434793883\n",
        "Exploring welcome tomyli with pastCost 280.577151202\n",
        "Exploring we lco m et o with pastCost 280.68185969\n",
        "Exploring w e l c o me with pastCost 281.08352118\n",
        "Exploring w elcometo with pastCost 281.121015883\n",
        "Exploring we lc o met o with pastCost 281.335538195\n",
        "Exploring w el c o me with pastCost 281.862214685\n",
        "Exploring welcometomy l with pastCost 282.600903256\n",
        "Exploring welcome tom y l with pastCost 282.612367465\n",
        "Exploring w e lcomet with pastCost 282.740756154\n",
        "Exploring welcome tomyl i with pastCost 283.515287995\n",
        "Exploring we lc o me to with pastCost 284.128558271\n",
        "Exploring welco me t o m with pastCost 284.428698097\n",
        "Exploring w e l c om e with pastCost 284.69673382\n",
        "Exploring w e l c ome with pastCost 284.852472521\n",
        "Exploring we lco m eto with pastCost 285.168331731\n",
        "Exploring w elco m et with pastCost 285.436463513\n",
        "Exploring we l cometo m with pastCost 285.468830786\n",
        "Exploring w el c om e with pastCost 285.475427324\n",
        "Exploring welc o m et o with pastCost 285.47777417\n",
        "Exploring w el c ome with pastCost 285.631166025\n",
        "Exploring we lco m e to with pastCost 285.914748886\n",
        "Exploring we lcome t om with pastCost 286.274470545\n",
        "Exploring welc om e t o with pastCost 286.36155288\n",
        "Exploring welc ome t o with pastCost 286.828768983\n",
        "Exploring w elcomet o with pastCost 287.169728659\n",
        "Exploring welcome t omyl with pastCost 287.170143808\n",
        "Exploring welcome t o my l with pastCost 287.763175333\n",
        "Exploring we lc o meto with pastCost 287.971321458\n",
        "Exploring we lcometom y with pastCost 288.073638368\n",
        "Exploring we l c o met o with pastCost 288.388513493\n",
        "Exploring we lcometo my with pastCost 288.765928049\n",
        "Exploring wel come to m with pastCost 288.915858548\n",
        "Exploring we l co m et o with pastCost 289.417196171\n",
        "Exploring wel c o m e t with pastCost 289.952574761\n",
        "Exploring welc o m eto with pastCost 289.964246211\n",
        "Exploring w e lc o m e with pastCost 290.219989122\n",
        "Exploring we lc ometo with pastCost 290.4302233\n",
        "Exploring welco me to my with pastCost 290.45002527\n",
        "Exploring w elcome to with pastCost 290.660083754\n",
        "Exploring welc o m e to with pastCost 290.710663367\n",
        "Exploring w elc o met with pastCost 290.76282617\n",
        "Exploring we l come t om with pastCost 290.87003565\n",
        "Exploring we l c o me to with pastCost 291.181533569\n",
        "Exploring wel co me t o with pastCost 291.230043742\n",
        "Exploring welcome t o myl with pastCost 291.317592522\n",
        "Exploring we lcome t o m with pastCost 291.387089962\n",
        "Exploring we lcom et om with pastCost 291.601594467\n",
        "Exploring welcom e t om with pastCost 291.809456041\n",
        "Exploring we lco met om with pastCost 292.253620712\n",
        "Exploring w e lcome t with pastCost 292.536617292\n",
        "Exploring we lco me to m with pastCost 293.505086652\n",
        "Exploring we l co m eto with pastCost 293.903668213\n",
        "Exploring wel comet om with pastCost 294.008672933\n",
        "Exploring we l co m e to with pastCost 294.650085368\n",
        "Exploring we l com et o with pastCost 294.702177069\n",
        "Exploring w e l c o m e with pastCost 294.921972654\n",
        "Exploring we l c o meto with pastCost 295.024296756\n",
        "Exploring we lcom etom with pastCost 295.217952274\n",
        "Exploring welcometo my l with pastCost 295.45140629\n",
        "Exploring w e l comet with pastCost 295.496907844\n",
        "Exploring w el c o m e with pastCost 295.700666158\n",
        "Exploring we l come t o m with pastCost 295.982655067\n",
        "Exploring w elco m e t with pastCost 296.103591702\n",
        "Exploring w el comet with pastCost 296.431340049\n",
        "Exploring we lcom e to m with pastCost 296.512864088\n",
        "Exploring we lcom et o m with pastCost 296.714213884\n",
        "Exploring welcom e t o m with pastCost 296.922075458\n",
        "Exploring we lco met o m with pastCost 297.366240129\n",
        "Exploring we l c ometo with pastCost 297.483198598\n",
        "Exploring wel come tom with pastCost 297.699491012\n",
        "Exploring we lcome to my with pastCost 297.791409387\n",
        "Exploring we lc omet o with pastCost 298.376056061\n",
        "Exploring welc o met om with pastCost 298.64949436\n",
        "Exploring welcometo myl with pastCost 299.005823479\n",
        "Exploring wel comet o m with pastCost 299.12129235\n",
        "Exploring we l com eto with pastCost 299.18864911\n",
        "Exploring we l come to my with pastCost 299.538395009\n",
        "Exploring welc o me to m with pastCost 299.900960301\n",
        "Exploring we l com e to with pastCost 299.935066265\n",
        "Exploring we lc om et o with pastCost 299.960545827\n",
        "Exploring we lco metom with pastCost 300.168600963\n",
        "Exploring w elc o me t with pastCost 300.210019799\n",
        "Exploring welcometom yl with pastCost 300.210653783\n",
        "Exploring we lc o me t o with pastCost 300.229925452\n",
        "Exploring welcome to mylif with pastCost 300.391681476\n",
        "Exploring welcome t omy l with pastCost 300.472562844\n",
        "Exploring w e lcom et with pastCost 300.533743348\n",
        "Exploring welcome to my l if with pastCost 300.609808481\n",
        "Exploring welco met o my with pastCost 300.965352299\n",
        "Exploring welcome to m yli with pastCost 301.042195752\n",
        "Exploring w elc omet with pastCost 301.167560773\n",
        "Exploring w elc om et with pastCost 301.881936306\n",
        "Exploring we lco m e t o with pastCost 302.016116068\n",
        "Exploring wel cometom with pastCost 302.032682923\n",
        "Exploring we lco me tom with pastCost 302.288719116\n",
        "Exploring we l co met om with pastCost 302.500925313\n",
        "Exploring welcometom y l with pastCost 302.638912635\n",
        "Exploring welco m et om with pastCost 302.668500008\n",
        "Exploring w e l come t with pastCost 302.829341364\n",
        "Exploring welcome t om yl with pastCost 302.900821696\n",
        "Exploring welc ometom with pastCost 302.974663678\n",
        "Exploring we l co me to m with pastCost 303.752391253\n",
        "Exploring welc o met o m with pastCost 303.762113777\n",
        "Exploring w el come t with pastCost 303.763773569\n",
        "Exploring we lc om eto with pastCost 304.447017868\n",
        "Exploring welco met omy with pastCost 304.763736347\n",
        "Exploring we lc om e to with pastCost 305.193435024\n",
        "Exploring we lcometo m y with pastCost 305.217809782\n",
        "Exploring we lcom e tom with pastCost 305.296496552\n",
        "Exploring welcome t om y l with pastCost 305.329080547\n",
        "Exploring we l c omet o with pastCost 305.429031359\n",
        "Exploring w e lco met with pastCost 305.484392036\n",
        "Exploring we lc ome to with pastCost 305.660651126\n",
        "Exploring we lcom eto m with pastCost 305.687157966\n",
        "Exploring welcome to m yl i with pastCost 305.87745253\n",
        "Exploring welco m etom with pastCost 306.284857815\n",
        "Exploring welco metomy with pastCost 306.367167748\n",
        "Exploring welc o metom with pastCost 306.564474611\n",
        "Exploring w elcome t o with pastCost 306.761450935\n",
        "Exploring welc o m e t o with pastCost 306.812030548\n",
        "Exploring welco me to m y with pastCost 306.901907003\n",
        "Exploring we lcomet o my with pastCost 306.912066377\n",
        "Exploring we l c om et o with pastCost 307.013521126\n",
        "Exploring welco met om y with pastCost 307.191995198\n",
        "Exploring we l c o me t o with pastCost 307.282900751\n",
        "Exploring welco m e to m with pastCost 307.579769629\n",
        "Exploring we l co met o m with pastCost 307.61354473\n",
        "Exploring w elcom et o with pastCost 307.732215969\n",
        "Exploring welco m et o m with pastCost 307.781119425\n",
        "Exploring welcom e to my with pastCost 308.209768397\n",
        "Exploring welc o me tom with pastCost 308.684592765\n",
        "Exploring welcome to my lif with pastCost 308.704161553\n",
        "Exploring welcometomyli with pastCost 309.162848943\n",
        "Exploring welcome to my l i f with pastCost 309.443265961\n",
        "Exploring welcome tomy l i with pastCost 310.120126066\n",
        "Exploring wel c o met o with pastCost 310.382459107\n",
        "Exploring we l co metom with pastCost 310.415905564\n",
        "Exploring welcome to myli f with pastCost 310.436003974\n",
        "Exploring w elco met o with pastCost 310.533553436\n",
        "Exploring wel cometo m with pastCost 310.60476863\n",
        "Exploring we lco meto m with pastCost 310.637806654\n",
        "Exploring we lcomet omy with pastCost 310.710450425\n",
        "Exploring welcome to m y l i with pastCost 310.733970233\n",
        "Exploring we l co m e t o with pastCost 310.751452549\n",
        "Exploring welcom etomy with pastCost 310.902118984\n",
        "Exploring w e lcom e t with pastCost 311.200871537\n",
        "Exploring welcome to myl if with pastCost 311.27306005\n",
        "Exploring wel co m et o with pastCost 311.411141785\n",
        "Exploring we l c om eto with pastCost 311.499993167\n",
        "Exploring welc ometo m with pastCost 311.546749384\n",
        "Exploring welcometomyl i with pastCost 312.100985736\n",
        "Exploring w elcom eto with pastCost 312.21868801\n",
        "Exploring we l c om e to with pastCost 312.246410322\n",
        "Exploring we l co me tom with pastCost 312.536023717\n",
        "Exploring w elc om e t with pastCost 312.549064495\n",
        "Exploring welco me tomy with pastCost 312.553047256\n",
        "Exploring w e l co met with pastCost 312.707760398\n",
        "Exploring we l c ome to with pastCost 312.713626425\n",
        "Exploring w elc ome t with pastCost 312.860541897\n",
        "Exploring w elcom e to with pastCost 312.965105166\n",
        "Exploring we lcomet om y with pastCost 313.138709276\n",
        "Exploring wel c o me to with pastCost 313.175479183\n",
        "Exploring w elco me to with pastCost 313.326573512\n",
        "Exploring w el co met with pastCost 313.642192603\n",
        "Exploring welcom et o my with pastCost 313.845357186\n",
        "Exploring we lcome to m y with pastCost 314.24329112\n",
        "Exploring welcome tomy li with pastCost 314.772735111\n",
        "Exploring w e lco me t with pastCost 314.931585664\n",
        "Exploring welcome to m y li with pastCost 315.386579279\n",
        "Exploring wel co m eto with pastCost 315.897613826\n",
        "Exploring we l come to m y with pastCost 315.990276741\n",
        "Exploring wel come t om with pastCost 316.005973494\n",
        "Exploring we l com e t o with pastCost 316.036433447\n",
        "Exploring welco m e tom with pastCost 316.363402093\n",
        "Exploring welco metom y with pastCost 316.386172437\n",
        "Exploring wel co m e to with pastCost 316.644030981\n",
        "Exploring we lcometomyl with pastCost 316.676392054\n",
        "Exploring wel com et o with pastCost 316.696122682\n",
        "Exploring welco m eto m with pastCost 316.754063507\n",
        "Exploring wel c o meto with pastCost 317.018242369\n",
        "Exploring welc o meto m with pastCost 317.033680303\n",
        "Exploring w elco meto with pastCost 317.169336699\n",
        "Exploring w elc o m et with pastCost 317.219794557\n",
        "Exploring welco met o m y with pastCost 317.417234032\n",
        "Exploring welcome tomylif with pastCost 317.573723308\n",
        "Exploring welcom et omy with pastCost 317.643741233\n",
        "Exploring welcome t o m yl with pastCost 318.238679946\n",
        "Exploring we l comet o my with pastCost 318.512762472\n",
        "Exploring welcome to my li f with pastCost 318.748484051\n",
        "Exploring welcomet omyl with pastCost 319.05322587\n",
        "Exploring wel c ometo with pastCost 319.477144212\n",
        "Exploring welcomet o my l with pastCost 319.646257394\n",
        "Exploring we lcome tomy with pastCost 319.894431373\n",
        "Exploring welcom et om y with pastCost 320.072000084\n",
        "Exploring welcome to myl i f with pastCost 320.106517529\n",
        "Exploring we lc o m et o with pastCost 320.411023495\n",
        "Exploring we lco me t om with pastCost 320.595201597\n",
        "Exploring welcome t o m y l with pastCost 320.666938798\n",
        "Exploring welco meto my with pastCost 320.872702088\n",
        "Exploring we l co meto m with pastCost 320.885111255\n",
        "Exploring wel come t o m with pastCost 321.118592911\n",
        "Exploring wel com eto with pastCost 321.182594723\n",
        "Exploring we lc om e t o with pastCost 321.294802205\n",
        "Exploring we l come tomy with pastCost 321.641416995\n",
        "Exploring we lc ome t o with pastCost 321.762018307\n",
        "Exploring wel com e to with pastCost 321.929011879\n",
        "Exploring w e l co me t with pastCost 322.154954026\n",
        "Exploring we l comet omy with pastCost 322.311146519\n",
        "Exploring welc omet om with pastCost 322.325795489\n",
        "Exploring welcome tomyl if with pastCost 322.763741927\n",
        "Exploring welcom etom y with pastCost 322.818243658\n",
        "Exploring w el co me t with pastCost 323.089386232\n",
        "Exploring welcomet o myl with pastCost 323.200674584\n",
        "Exploring we lcomet o m y with pastCost 323.36394811\n",
        "Exploring we lcom e t om with pastCost 323.602979033\n",
        "Exploring w elcometom with pastCost 324.109052536\n",
        "Exploring welco me tom y with pastCost 324.469171931\n",
        "Exploring welcom e to m y with pastCost 324.66165013"
       ]
      },
      {
       "output_type": "stream",
       "stream": "stdout",
       "text": [
        "\n",
        "Exploring we l comet om y with pastCost 324.73940537\n",
        "Exploring welc om et om with pastCost 324.780399489\n",
        "Exploring we lc o m eto with pastCost 324.897495536\n",
        "Exploring we l cometomy with pastCost 325.026682521\n",
        "Exploring we lc o m e to with pastCost 325.643912691\n",
        "Exploring we lco me t o m with pastCost 325.707821014\n",
        "Exploring welcome tomyli f with pastCost 325.720925821\n",
        "Exploring welcometo m yl with pastCost 325.926910904\n",
        "Exploring welc o me t om with pastCost 326.991075246\n",
        "Exploring welcom eto my with pastCost 327.304773309\n",
        "Exploring wel c omet o with pastCost 327.422976973\n",
        "Exploring welc omet o m with pastCost 327.438414906\n",
        "Exploring we l c o m et o with pastCost 327.463998793\n",
        "Exploring wel co met om with pastCost 327.636863157\n",
        "Exploring wel come to my with pastCost 327.816325083\n",
        "Exploring w elc o m e t with pastCost 327.886922746\n",
        "Exploring we lcometomy l with pastCost 328.081691105\n",
        "Exploring we l c om e t o with pastCost 328.347777503\n",
        "Exploring welcometo m y l with pastCost 328.355169755\n",
        "Exploring welc om etom with pastCost 328.396757297\n",
        "Exploring we lcom e t o m with pastCost 328.71559845\n",
        "Exploring we l c ome t o with pastCost 328.814993606\n",
        "Exploring wel co me to m with pastCost 328.888329097\n",
        "Exploring wel c om et o with pastCost 329.007466739\n",
        "Exploring w elcom e t o with pastCost 329.066472347\n",
        "Exploring wel c o me t o with pastCost 329.276846364\n",
        "Exploring w elco me t o with pastCost 329.427940693\n",
        "Exploring welc om e to m with pastCost 329.69166911\n",
        "Exploring welc om et o m with pastCost 329.893018906\n",
        "Exploring welcom et o m y with pastCost 330.297238918\n",
        "Exploring welcom e tomy with pastCost 330.312790383\n",
        "Exploring welc ome to m with pastCost 330.314623913\n",
        "Exploring we l co me t om with pastCost 330.842506199\n",
        "Exploring w e lcometo with pastCost 331.26667996\n",
        "Exploring welcome tomyl i f with pastCost 331.597199407\n",
        "Exploring we lcome tom y with pastCost 331.810556048\n",
        "Exploring w e lco m et with pastCost 331.941360423\n",
        "Exploring we l c o m eto with pastCost 331.950470834\n",
        "Exploring welcome t omyli with pastCost 332.065457068\n",
        "Exploring welc o me t o m with pastCost 332.103694663\n",
        "Exploring welcomet omy l with pastCost 332.355644906\n",
        "Exploring w elcometo m with pastCost 332.681138243\n",
        "Exploring we l c o m e to with pastCost 332.69688799\n",
        "Exploring wel co m e t o with pastCost 332.745398162\n",
        "Exploring wel co met o m with pastCost 332.749482573\n",
        "Exploring wel c om eto with pastCost 333.49393878\n",
        "Exploring we l come tom y with pastCost 333.55754167\n",
        "Exploring wel c om e to with pastCost 334.240355935\n",
        "Exploring welco m e t om with pastCost 334.669884574\n",
        "Exploring wel c ome to with pastCost 334.707572038\n",
        "Exploring welcomet om yl with pastCost 334.783903757\n",
        "Exploring welcometomy l i with pastCost 334.911583837\n",
        "Exploring we l comet o m y with pastCost 334.964644204\n",
        "Exploring we l cometom y with pastCost 335.04568721\n",
        "Exploring welcome to my life with pastCost 335.432753548\n",
        "numStatesExplored = 574\n",
        "totalCost = 335.432753548\n",
        "actions = [0, 0, 0, 0, 0, 0, 1, 0, 1, 0, 1, 0, 0, 0]\n",
        "welcome to my life\n"
       ]
      },
      {
       "metadata": {},
       "output_type": "pyout",
       "prompt_number": 243,
       "text": [
        "'welcome to my life'"
       ]
      }
     ],
     "prompt_number": 243
    },
    {
     "cell_type": "markdown",
     "metadata": {},
     "source": [
      "## 2b"
     ]
    },
    {
     "cell_type": "code",
     "collapsed": false,
     "input": [
      "class VowelInsertionProblem(util.SearchProblem):\n",
      "    def __init__(self, queryWords, bigramCost, possibleFills):\n",
      "        self.queryWords = queryWords\n",
      "        self.bigramCost = bigramCost\n",
      "        self.possibleFills = possibleFills\n",
      "\n",
      "    def startState(self):\n",
      "        # BEGIN_YOUR_CODE (around 5 lines of code expected)\n",
      "        # state is tuple (last filled word, index of next word in queryWords)\n",
      "        self.queryWords.insert(0,'-BEGIN-')\n",
      "        return (self.queryWords[0],1)\n",
      "        # END_YOUR_CODE\n",
      "\n",
      "    def isGoal(self, state):\n",
      "        # BEGIN_YOUR_CODE (around 5 lines of code expected)\n",
      "        if state[1] == len(self.queryWords):\n",
      "            return True\n",
      "        else:\n",
      "            return False\n",
      "        # END_YOUR_CODE\n",
      "\n",
      "    # return (action, newState, cost) tuples\n",
      "    def succAndCost(self, state):\n",
      "        # BEGIN_YOUR_CODE (around 10 lines of code expected)\n",
      "        allTuples = []\n",
      "        nextWord = self.queryWords[state[1]]\n",
      "        if len(self.possibleFills(nextWord)) == 0:\n",
      "            allTuples.append((nextWord, (nextWord, state[1]+1), self.bigramCost(state[0],nextWord)))\n",
      "        else:\n",
      "            for p in self.possibleFills(nextWord):\n",
      "                newState = (p, state[1]+1)\n",
      "                cost = self.bigramCost(state[0],p)\n",
      "                allTuples.append((p, newState, cost))\n",
      "        return allTuples\n",
      "        # END_YOUR_CODE\n",
      "\n",
      "def insertVowels(queryWords, bigramCost, possibleFills):\n",
      "    # BEGIN_YOUR_CODE (around 5 lines of code expected)\n",
      "    ucs = util.UniformCostSearch(verbose=0)\n",
      "    ucs.solve(VowelInsertionProblem(queryWords, bigramCost, possibleFills))\n",
      "    return ' '.join([filledWord for filledWord in ucs.actions])\n",
      "    # END_YOUR_CODE"
     ],
     "language": "python",
     "metadata": {},
     "outputs": [],
     "prompt_number": 339
    },
    {
     "cell_type": "code",
     "collapsed": false,
     "input": [
      "insertVowels(' thts m n th crnr'.split(' '), bigramCost, possibleFills)"
     ],
     "language": "python",
     "metadata": {},
     "outputs": [
      {
       "metadata": {},
       "output_type": "pyout",
       "prompt_number": 340,
       "text": [
        "'i thats me in the corner'"
       ]
      }
     ],
     "prompt_number": 340
    },
    {
     "cell_type": "markdown",
     "metadata": {},
     "source": [
      "#### for 3c want to redefine a unigramCost that takes into account bigram cost.  Going to have to iterate over dictionary and cache result."
     ]
    },
    {
     "cell_type": "code",
     "collapsed": false,
     "input": [
      "possibleFills('-BEGIN-')"
     ],
     "language": "python",
     "metadata": {},
     "outputs": [
      {
       "metadata": {},
       "output_type": "pyout",
       "prompt_number": 305,
       "text": [
        "set()"
       ]
      }
     ],
     "prompt_number": 305
    },
    {
     "cell_type": "markdown",
     "metadata": {},
     "source": [
      "# 3c"
     ]
    },
    {
     "cell_type": "markdown",
     "metadata": {},
     "source": [
      "scraps"
     ]
    },
    {
     "cell_type": "code",
     "collapsed": false,
     "input": [
      "# new code\n",
      "        action = insertVowels([state[0][0],withNextLetter], self.bigramCost, self.possibleFills)\n",
      "        newState = ((state[0][0],action.split()[-1]),state[1]+1)\n",
      "        costs = self.bigramCost(state[0][0],action.split()[-1])\n",
      "        allTuples.append((action.split()[-1],newState,costs))\n",
      "        \n",
      "        action = insertVowels([state[0][1],nextLetter], self.bigramCost, self.possibleFills)\n",
      "        newState = ((state[0][1],action.split()[-1]),state[1]+1)\n",
      "        costs = self.bigramCost(state[0][1],action.split()[-1])\n",
      "        allTuples.append((action.split()[-1],newState,costs))"
     ],
     "language": "python",
     "metadata": {},
     "outputs": []
    },
    {
     "cell_type": "code",
     "collapsed": false,
     "input": [
      "class JointSegmentationInsertionProblem(util.SearchProblem):\n",
      "    def __init__(self, query, bigramCost, possibleFills):\n",
      "        self.query = query\n",
      "        self.bigramCost = bigramCost\n",
      "        self.possibleFills = possibleFills\n",
      "\n",
      "    # state is ([last two reconstructed words], index of next query letter)\n",
      "    def startState(self):\n",
      "        # BEGIN_YOUR_CODE (around 5 lines of code expected)\n",
      "        return (('-BEGIN-', self.query[0]),1)\n",
      "        # END_YOUR_CODE\n",
      "\n",
      "    def isGoal(self, state):\n",
      "        # BEGIN_YOUR_CODE (around 5 lines of code expected)\n",
      "        if state[1] == len(self.query):\n",
      "            return True\n",
      "        else:\n",
      "            return False\n",
      "        # END_YOUR_CODE\n",
      "\n",
      "    def succAndCost(self, state):\n",
      "        # BEGIN_YOUR_CODE (around 15 lines of code expected)\n",
      "        allTuples = []\n",
      "        nextLetter = self.query[state[1]]\n",
      "        \n",
      "        # no reconstruction option, adding next letter to last word\n",
      "        action = (state[0][1]+nextLetter,0)\n",
      "        newState = ((state[0][0],state[0][1]+nextLetter),state[1]+1)\n",
      "        cost = self.bigramCost(state[0][0],state[0][1]+nextLetter)\n",
      "        allTuples.append((action,newState,cost))\n",
      "        \n",
      "        # no reconstruction option, adding next letter as new word\n",
      "        action = (nextLetter,1)\n",
      "        newState = ((state[0][1],nextLetter),state[1]+1)\n",
      "        cost = self.bigramCost(state[0][1],nextLetter)\n",
      "        allTuples.append((action,newState,cost))\n",
      "        \n",
      "        # reconstruct last word\n",
      "        for p in possibleFills(state[0][1]):\n",
      "            action = (p,2)\n",
      "            newState = ((state[0][0],p),state[1])\n",
      "            cost = self.bigramCost(state[0][0],p)\n",
      "            allTuples.append((action,newState,cost))\n",
      "        \n",
      "#         # reconstructions by adding nextLetter to last word\n",
      "#         for p in possibleFills(state[0][1] + nextLetter):\n",
      "#             action = (p,0)\n",
      "#             newState = (state[0][0],p)\n",
      "#             cost = self.bigramCost(state[0][0],p)\n",
      "#             allTuples.append((action,newState,cost))\n",
      "            \n",
      "#         # reconstructions by \n",
      "        \n",
      "        \n",
      "        \n",
      "        \n",
      "        \n",
      "        \n",
      "        \n",
      "        \n",
      "#         # reconstructions by adding nextLetter to last word\n",
      "#         withNextLetter = state[0][1] + nextLetter\n",
      "#         possibleNoSpace = self.possibleFills(withNextLetter)\n",
      "#         #possibleNoSpace.update({withNextLetter})\n",
      "#         for p in possibleNoSpace:\n",
      "#             action = (p,0)\n",
      "#             newState = ((state[0][0], p), state[1]+1)\n",
      "#             cost = self.bigramCost(state[0][0],p)\n",
      "#             allTuples.append((action, newState, cost))\n",
      "#         # reconstructions by adding nextLetter as new word\n",
      "#         possibleSpace = self.possibleFills(nextLetter)\n",
      "#         #possibleSpace.update({nextLetter})\n",
      "#         for p in possibleSpace:\n",
      "#             action = (p,1)\n",
      "#             newState = ((state[0][1], p), state[1]+1)\n",
      "#             cost = self.bigramCost(state[0][1],p)\n",
      "#             allTuples.append((action, newState, cost))\n",
      "        return allTuples\n",
      "        # END_YOUR_CODE\n",
      "\n",
      "def segmentAndInsert(query, bigramCost, possibleFills):\n",
      "    if len(query) == 0:\n",
      "        return ''\n",
      "\n",
      "    # BEGIN_YOUR_CODE (around 5 lines of code expected)\n",
      "    ucs = util.UniformCostSearch(verbose=3)\n",
      "    ucs.solve(JointSegmentationInsertionProblem(query, bigramCost, possibleFills))\n",
      "    return ' '.join([p[0] for p in ucs.actions])\n",
      "    # END_YOUR_CODE"
     ],
     "language": "python",
     "metadata": {},
     "outputs": [],
     "prompt_number": 359
    },
    {
     "cell_type": "code",
     "collapsed": false,
     "input": [
      "segmentAndInsert('tht',bigramCost,possibleFills)"
     ],
     "language": "python",
     "metadata": {},
     "outputs": [
      {
       "output_type": "stream",
       "stream": "stdout",
       "text": [
        "Exploring (('-BEGIN-', 't'), 1) with pastCost 0\n",
        "  Action ('amien', 2) => (('-BEGIN-', 'amien'), 1) with cost 7.36925432355 + 13.3927019165\n",
        "  Action ('eatsrm', 2) => (('-BEGIN-', 'eatsrm'), 1) with cost 7.36925432355 + 13.3927019165\n",
        "  Action ('oursmcs', 2) => (('-BEGIN-', 'oursmcs'), 1) with cost 7.36925432355 + 13.3927019165\n"
       ]
      }
     ],
    },
   ],
   "metadata": {}
  }
 ]
}



