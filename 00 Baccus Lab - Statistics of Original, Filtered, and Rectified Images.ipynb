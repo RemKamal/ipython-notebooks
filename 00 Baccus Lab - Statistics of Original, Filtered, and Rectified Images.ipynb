{
 "metadata": {
  "name": "",
  "signature": "sha256:a82bfe5455a4001d3e66ea5d6c111ea60fd2b259773e7fb72993f4a9fba0b7f1"
 },
 "nbformat": 3,
 "nbformat_minor": 0,
 "worksheets": [
  {
   "cells": [
    {
     "cell_type": "code",
     "collapsed": false,
     "input": [
      "import numpy as np"
     ],
     "language": "python",
     "metadata": {},
     "outputs": [],
     "prompt_number": 1
    },
    {
     "cell_type": "code",
     "collapsed": false,
     "input": [
      "im_path = '~/Natural_images/imc'"
     ],
     "language": "python",
     "metadata": {},
     "outputs": [],
     "prompt_number": 10
    },
    {
     "cell_type": "code",
     "collapsed": false,
     "input": [
      "ls -1 ~/Natural_images/imc | wc -l"
     ],
     "language": "python",
     "metadata": {},
     "outputs": [
      {
       "output_type": "stream",
       "stream": "stdout",
       "text": [
        "4187\r\n"
       ]
      }
     ],
     "prompt_number": 12
    },
    {
     "cell_type": "code",
     "collapsed": false,
     "input": [
      "def load_images(path, numImages, patchSize):\n",
      "    allfiles = [f for f in listdir(path) if isfile(join(path,f)) and '.imc' in f]\n",
      "    names    = allfiles[:numImages]\n",
      "    patches  = []\n",
      "\n",
      "    for im in names:\n",
      "        fin = open(path+'/'+im, 'rb')\n",
      "        s   = fin.read()\n",
      "        fin.close()\n",
      "        arr = ar.array('H', s)\n",
      "        arr.byteswap()\n",
      "        img = np.array(arr, dtype='uint16').reshape(1024,1536)\n",
      "        img_center = [np.shape(img)[0]/2,np.shape(img)[1]/2]\n",
      "        img        = img[img_center[0]:img_center[0]+patchSize,img_center[1]:img_center[1]+patchSize]\n",
      "        img        = img/np.sqrt(np.var(img))\n",
      "        patches.append(img - np.mean(img))\n",
      "\n",
      "    return patches"
     ],
     "language": "python",
     "metadata": {},
     "outputs": [],
     "prompt_number": 9
    },
    {
     "cell_type": "code",
     "collapsed": false,
     "input": [],
     "language": "python",
     "metadata": {},
     "outputs": []
    }
   ],
   "metadata": {}
  }
 ]
}