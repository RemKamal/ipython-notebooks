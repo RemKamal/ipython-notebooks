{
 "metadata": {
  "name": ""
 },
 "nbformat": 3,
 "nbformat_minor": 0,
 "worksheets": [
  {
   "cells": [
    {
     "cell_type": "markdown",
     "metadata": {},
     "source": [
      "9/24/13\n",
      "# MA Thesis: Information Processing and Energy Dissipation in Neurons\n",
      "\n",
      "---\n",
      "Abstract: We investigate the relationship between thermodynamic and information theoretic inefficiency in an individual neuron model, the adaptive exponential integrate-and-fire neuron. Recent work has revealed that minimization of energy dissipation is tightly related to optimal information processing, in the sense that a system has to compute a maximally predictive model. In this thesis we justify the extension of these results to the neuron and quantify the neuron\u2019s thermodynamic and information processing inefficiency as a function of spike frequency adaptation."
     ]
    },
    {
     "cell_type": "code",
     "collapsed": false,
     "input": [
      "import numpy as np\n",
      "import pyentropy\n",
      "reload(pyentropy)\n",
      "import pyparsing"
     ],
     "language": "python",
     "metadata": {},
     "outputs": [
      {
       "ename": "ImportError",
       "evalue": "matplotlib requires pyparsing >= 1.5.6",
       "output_type": "pyerr",
       "traceback": [
        "\u001b[1;31m---------------------------------------------------------------------------\u001b[0m\n\u001b[1;31mImportError\u001b[0m                               Traceback (most recent call last)",
        "\u001b[1;32m<ipython-input-20-4fcbbe62ba5c>\u001b[0m in \u001b[0;36m<module>\u001b[1;34m()\u001b[0m\n\u001b[0;32m      4\u001b[0m \u001b[1;32mimport\u001b[0m \u001b[0mpyparsing\u001b[0m\u001b[1;33m\u001b[0m\u001b[0m\n\u001b[0;32m      5\u001b[0m \u001b[0mreload\u001b[0m\u001b[1;33m(\u001b[0m\u001b[0mpyparsing\u001b[0m\u001b[1;33m)\u001b[0m\u001b[1;33m\u001b[0m\u001b[0m\n\u001b[1;32m----> 6\u001b[1;33m \u001b[1;32mfrom\u001b[0m \u001b[0mmatplotlib\u001b[0m \u001b[1;32mimport\u001b[0m \u001b[1;33m*\u001b[0m\u001b[1;33m\u001b[0m\u001b[0m\n\u001b[0m",
        "\u001b[1;32m/usr/local/lib/python2.7/dist-packages/matplotlib/__init__.py\u001b[0m in \u001b[0;36m<module>\u001b[1;34m()\u001b[0m\n\u001b[0;32m    119\u001b[0m         raise ImportError(\n\u001b[0;32m    120\u001b[0m             \"matplotlib requires pyparsing >= {0}\".format(\n\u001b[1;32m--> 121\u001b[1;33m                 '.'.join(str(x) for x in _required)))\n\u001b[0m\u001b[0;32m    122\u001b[0m \u001b[1;33m\u001b[0m\u001b[0m\n\u001b[0;32m    123\u001b[0m \u001b[1;32mimport\u001b[0m \u001b[0mos\u001b[0m\u001b[1;33m,\u001b[0m \u001b[0mre\u001b[0m\u001b[1;33m,\u001b[0m \u001b[0mshutil\u001b[0m\u001b[1;33m,\u001b[0m \u001b[0mwarnings\u001b[0m\u001b[1;33m\u001b[0m\u001b[0m\n",
        "\u001b[1;31mImportError\u001b[0m: matplotlib requires pyparsing >= 1.5.6"
       ]
      }
     ],
     "prompt_number": 20
    },
    {
     "cell_type": "markdown",
     "metadata": {},
     "source": [
      "#### Adaptive exponential integrate-and-fire neuron"
     ]
    },
    {
     "cell_type": "code",
     "collapsed": false,
     "input": [
      "# Adaptive exponential integrate-and-fire neuron\n",
      "def aEIF(adaptationIndex, inputCurrent, v0):\n",
      "    \"\"\"\n",
      "    Adaptive exponential integrate-and-fire neuron from Gerstner 2005\n",
      " \n",
      "    Parameters\n",
      "    ----------\n",
      "    adaptationIndex : degree to which neuron adapts\n",
      "                    \n",
      "    inputCurrent : a list or np array of the stimulus\n",
      "    \n",
      "    v0 : specify the membrane potential at time 0\n",
      " \n",
      "    Returns\n",
      "    -------\n",
      "    V : membrane voltage for the simulation\n",
      "    w : adaptation variable for the simulation\n",
      "    spikes : 0 or 1 for each time bin\n",
      "    sptimes : list of spike times\n",
      "    \"\"\"\n",
      "    \n",
      "    # keep in mind that inputCurrent needs to start at 0 for sys to be in equilibrium\n",
      "    \n",
      "    # Physiologic neuron parameters from Gerstner et al.\n",
      "    C       = 281    # capacitance in pF ... this is 281*10^(-12) F\n",
      "    g_L     = 30     # leak conductance in nS\n",
      "    E_L     = -70.6  # leak reversal potential in mV ... this is -0.0706 V\n",
      "    delta_T = 2      # slope factor in mV\n",
      "    V_T     = -50.4  # spike threshold in mV\n",
      "    tau_w   = 144    # adaptation time constant in ms\n",
      "    V_peak  = 20     # when to call action potential in mV\n",
      "    b       = 0.0805 # spike-triggered adaptation\n",
      "    a       = adaptationIndex\n",
      "    \n",
      "    # Simulation parameters\n",
      "    delta = 0.5                      # dt\n",
      "    N     = len(inputCurrent)        # number of simulation points is determined by size of inputCurrent\n",
      "    T     = np.linspace(0,N*delta,N) # time points corresponding to inputCurrent (same size as V, w, I)\n",
      "    \n",
      "    # Thermodynamic parameters\n",
      "    kB   = 1.3806503*10**(-23)   # Boltzmann's constant\n",
      "    beta = 1/(kB*310.65)        # kB times T where T is in Kelvin\n",
      "    \n",
      "    # Initialize variables\n",
      "    V       = np.zeros((N,))\n",
      "    w       = np.zeros((N,))\n",
      "    spikes  = np.zeros((N,))\n",
      "    sptimes = []\n",
      "    V[0]    = v0                # this gives us a chance to say what the membrane voltage starts at\n",
      "                                # so we can draw initial conditions from the Boltzmann dist. later\n",
      "    \n",
      "    # Run model\n",
      "    for i in xrange(N-1):\n",
      "        V[i+1] = V[i] + (delta/C)*( -g_L*(V[i] - E_L) + g_L*delta_T*np.exp((V[i] - V_T)/delta_T) - w[i] + inputCurrent[i+1])\n",
      "        w[i+1] = w[i] + (delta/tau_w)*(a*(V[i] - E_L) - w[i])\n",
      "    \n",
      "        # spiking mechanism\n",
      "        if V[i+1] >= V_peak:\n",
      "            V[i+1]      = E_L\n",
      "            w[i+1]      = w[i] + b\n",
      "            spikes[i+1] = 1\n",
      "            sptimes.append(T[i+1])\n",
      "    \n",
      "    return [V,w,spikes,sptimes]    "
     ],
     "language": "python",
     "metadata": {},
     "outputs": [],
     "prompt_number": 2
    },
    {
     "cell_type": "markdown",
     "metadata": {},
     "source": [
      "#### A few sample traces"
     ]
    },
    {
     "cell_type": "code",
     "collapsed": false,
     "input": [
      "I = 7000*np.random.randn(500)\n",
      "V1,w,spikes1,sptimes1 = aEIF(adaptationIndex=0.9, inputCurrent=I, v0=-65)\n",
      "V2,w,spikes2,sptimes2 = aEIF(adaptationIndex=0.1, inputCurrent=I, v0=-100)"
     ],
     "language": "python",
     "metadata": {},
     "outputs": [],
     "prompt_number": 3
    },
    {
     "cell_type": "code",
     "collapsed": false,
     "input": [
      "fig1 = plot(V1,alpha=0.7,color='#9A00E9')\n",
      "fig2 = plot(V2,alpha=0.7,color='#5F00E9')\n",
      "fig3 = plot(50*spikes1)\n",
      "fig4 = plot(50*spikes2)"
     ],
     "language": "python",
     "metadata": {},
     "outputs": [
      {
       "ename": "NameError",
       "evalue": "name 'plot' is not defined",
       "output_type": "pyerr",
       "traceback": [
        "\u001b[1;31m---------------------------------------------------------------------------\u001b[0m\n\u001b[1;31mNameError\u001b[0m                                 Traceback (most recent call last)",
        "\u001b[1;32m<ipython-input-4-3412b09e9116>\u001b[0m in \u001b[0;36m<module>\u001b[1;34m()\u001b[0m\n\u001b[1;32m----> 1\u001b[1;33m \u001b[0mfig1\u001b[0m \u001b[1;33m=\u001b[0m \u001b[0mplot\u001b[0m\u001b[1;33m(\u001b[0m\u001b[0mV1\u001b[0m\u001b[1;33m,\u001b[0m\u001b[0malpha\u001b[0m\u001b[1;33m=\u001b[0m\u001b[1;36m0.7\u001b[0m\u001b[1;33m,\u001b[0m\u001b[0mcolor\u001b[0m\u001b[1;33m=\u001b[0m\u001b[1;34m'#9A00E9'\u001b[0m\u001b[1;33m)\u001b[0m\u001b[1;33m\u001b[0m\u001b[0m\n\u001b[0m\u001b[0;32m      2\u001b[0m \u001b[0mfig2\u001b[0m \u001b[1;33m=\u001b[0m \u001b[0mplot\u001b[0m\u001b[1;33m(\u001b[0m\u001b[0mV2\u001b[0m\u001b[1;33m,\u001b[0m\u001b[0malpha\u001b[0m\u001b[1;33m=\u001b[0m\u001b[1;36m0.7\u001b[0m\u001b[1;33m,\u001b[0m\u001b[0mcolor\u001b[0m\u001b[1;33m=\u001b[0m\u001b[1;34m'#5F00E9'\u001b[0m\u001b[1;33m)\u001b[0m\u001b[1;33m\u001b[0m\u001b[0m\n\u001b[0;32m      3\u001b[0m \u001b[0mfig3\u001b[0m \u001b[1;33m=\u001b[0m \u001b[0mplot\u001b[0m\u001b[1;33m(\u001b[0m\u001b[1;36m50\u001b[0m\u001b[1;33m*\u001b[0m\u001b[0mspikes1\u001b[0m\u001b[1;33m)\u001b[0m\u001b[1;33m\u001b[0m\u001b[0m\n\u001b[0;32m      4\u001b[0m \u001b[0mfig4\u001b[0m \u001b[1;33m=\u001b[0m \u001b[0mplot\u001b[0m\u001b[1;33m(\u001b[0m\u001b[1;36m50\u001b[0m\u001b[1;33m*\u001b[0m\u001b[0mspikes2\u001b[0m\u001b[1;33m)\u001b[0m\u001b[1;33m\u001b[0m\u001b[0m\n",
        "\u001b[1;31mNameError\u001b[0m: name 'plot' is not defined"
       ]
      }
     ],
     "prompt_number": 4
    },
    {
     "cell_type": "code",
     "collapsed": false,
     "input": [
      "spikes = np.matrix(spikes1)\n",
      "x = np.matrix(np.ones((100,1)))\n",
      "y = x*spikes\n",
      "imshow(y, cmap=cm.binary, vmax=abs(y).max(), vmin=np.min(y))"
     ],
     "language": "python",
     "metadata": {},
     "outputs": []
    },
    {
     "cell_type": "markdown",
     "metadata": {},
     "source": [
      "#### Define raster plot"
     ]
    },
    {
     "cell_type": "code",
     "collapsed": false,
     "input": [
      "def raster(event_times_list, color='k'):\n",
      "    \"\"\"\n",
      "    Creates a raster plot\n",
      " \n",
      "    Parameters\n",
      "    ----------\n",
      "    event_times_list : iterable\n",
      "                       a list of event time iterables\n",
      "    color : string\n",
      "            color of vlines\n",
      " \n",
      "    Returns\n",
      "    -------\n",
      "    ax : an axis containing the raster plot\n",
      "    \"\"\"\n",
      "    ax = gca()\n",
      "    for ith, trial in enumerate(event_times_list):\n",
      "        vlines(trial, ith + .5, ith + 1.5, color=color,linewidth=1.3)\n",
      "    ylim(.5, len(event_times_list) + .5)\n",
      "    \n",
      "    return ax"
     ],
     "language": "python",
     "metadata": {},
     "outputs": []
    },
    {
     "cell_type": "code",
     "collapsed": false,
     "input": [
      "ax = raster([sptimes1,sptimes2])\n",
      "title('Example raster plot')\n",
      "xlabel('time')\n",
      "ylabel('trial')"
     ],
     "language": "python",
     "metadata": {},
     "outputs": []
    },
    {
     "cell_type": "markdown",
     "metadata": {},
     "source": [
      "### Define input current types\n",
      "Possible types of stimuli are:  \n",
      "- step function  \n",
      "- white noise  \n",
      "- shot noise  \n",
      "- Ornstein-Uhlenbeck process    \n",
      "- Brownian motion\n",
      "\n",
      "Should we keep the integral (or mean?) of these constant so as to minimize differences in current level that we have to pass to them?"
     ]
    },
    {
     "cell_type": "markdown",
     "metadata": {},
     "source": [
      "#### Step function"
     ]
    },
    {
     "cell_type": "code",
     "collapsed": false,
     "input": [
      "def stepFn(meanCurrent,variance,N):\n",
      "    ''' stepFn(meanCurrent, variance, N) '''\n",
      "    \n",
      "    x    = meanCurrent*np.ones((N,)) + np.sqrt(variance)*np.random.randn(N)\n",
      "    x[0] = 0\n",
      "    \n",
      "    return x"
     ],
     "language": "python",
     "metadata": {},
     "outputs": []
    },
    {
     "cell_type": "markdown",
     "metadata": {},
     "source": [
      "#### White noise"
     ]
    },
    {
     "cell_type": "code",
     "collapsed": false,
     "input": [
      "def whiteNoise(meanCurrent,variance,N):\n",
      "    ''' whiteNoise(meanCurrent, variance, N) '''\n",
      "    \n",
      "    x    = meanCurrent + np.sqrt(variance)*np.random.randn(N)\n",
      "    x[0] = 0\n",
      "    \n",
      "    return x"
     ],
     "language": "python",
     "metadata": {},
     "outputs": []
    },
    {
     "cell_type": "markdown",
     "metadata": {},
     "source": [
      "#### Shot noise  \n",
      "$$I(t) = \\mu + \\int_0^t (t-s) \\exp (-\\frac{(t-s)}{\\tau} ) \\, \\xi (s) \\, ds$$  \n",
      "\n",
      "---\n",
      "Shot noise is characteristic of noise found in electronic circuits, and is thought to reflect in-vivo synaptic currents.  \n",
      "\n",
      "Mainen & Sejnowski, 1995: The arrival of many uncorrelated excitatory and inhibitory synaptic events will deliver a total current to a neuron that may be treated approximately as shot noise [S. Rice, in Selected Papers on Noise and Stochastic Processes, N. Wax, Ed. (Dover, New York, 1954), pp. 133-2941. The event rates and their amplitude waveforms determine the mean, variance, and frequency spectrum of the net current. Accordingly, the stimuli used were realizations of Gaussian white noise with chosen mean $\\mu_s$ and SD $\\sigma_s$ of fluctuations. Convolution with the function $f(t) = t \\exp(-t / \\tau_s)$ gave low-pass filtering with a time constant $\\tau_s$, as could be expected from synaptic time courses and dendritic filtering. Unless otherwise noted, $\\tau_s$ was 3 ms. The range of as investigated, 0 to 100 pA, produced voltage transients up to about 25 mV peak to peak."
     ]
    },
    {
     "cell_type": "code",
     "collapsed": false,
     "input": [
      "def shotNoise(meanCurrent,variance,N):\n",
      "    ''' shotNoise(meanCurrent, variance, N) '''\n",
      "    \n",
      "    dt   = 0.5\n",
      "    tau  = 3 # ms\n",
      "    M    = 30\n",
      "    t    = linspace(0,M*dt,M)\n",
      "    x    = meanCurrent + np.sqrt(variance)*np.random.randn(N+M-1)\n",
      "    y    = t*np.exp(-t/tau)\n",
      "    z    = np.convolve(x,y, mode = 'valid')\n",
      "    z    = z - np.mean(z) + meanCurrent\n",
      "    z[0] = 0\n",
      "    \n",
      "    return z"
     ],
     "language": "python",
     "metadata": {},
     "outputs": []
    },
    {
     "cell_type": "code",
     "collapsed": false,
     "input": [
      "fig, axes = subplots(ncols=3)\n",
      "fig.set_size_inches(16,4)\n",
      "t = linspace(0,30*0.5,30)\n",
      "tau = 3\n",
      "yoda = np.exp(-t/tau)\n",
      "subplot(131)\n",
      "plot(yoda)\n",
      "subplot(132)\n",
      "plot(t)\n",
      "y   = t*np.exp(-t/tau)\n",
      "subplot(133)\n",
      "plot(y)"
     ],
     "language": "python",
     "metadata": {},
     "outputs": [
      {
       "ename": "NameError",
       "evalue": "name 'subplots' is not defined",
       "output_type": "pyerr",
       "traceback": [
        "\u001b[1;31m---------------------------------------------------------------------------\u001b[0m\n\u001b[1;31mNameError\u001b[0m                                 Traceback (most recent call last)",
        "\u001b[1;32m<ipython-input-5-686842a7e5e3>\u001b[0m in \u001b[0;36m<module>\u001b[1;34m()\u001b[0m\n\u001b[1;32m----> 1\u001b[1;33m \u001b[0mfig\u001b[0m\u001b[1;33m,\u001b[0m \u001b[0maxes\u001b[0m \u001b[1;33m=\u001b[0m \u001b[0msubplots\u001b[0m\u001b[1;33m(\u001b[0m\u001b[0mncols\u001b[0m\u001b[1;33m=\u001b[0m\u001b[1;36m3\u001b[0m\u001b[1;33m)\u001b[0m\u001b[1;33m\u001b[0m\u001b[0m\n\u001b[0m\u001b[0;32m      2\u001b[0m \u001b[0mfig\u001b[0m\u001b[1;33m.\u001b[0m\u001b[0mset_size_inches\u001b[0m\u001b[1;33m(\u001b[0m\u001b[1;36m16\u001b[0m\u001b[1;33m,\u001b[0m\u001b[1;36m4\u001b[0m\u001b[1;33m)\u001b[0m\u001b[1;33m\u001b[0m\u001b[0m\n\u001b[0;32m      3\u001b[0m \u001b[0mt\u001b[0m \u001b[1;33m=\u001b[0m \u001b[0mlinspace\u001b[0m\u001b[1;33m(\u001b[0m\u001b[1;36m0\u001b[0m\u001b[1;33m,\u001b[0m\u001b[1;36m30\u001b[0m\u001b[1;33m*\u001b[0m\u001b[1;36m0.5\u001b[0m\u001b[1;33m,\u001b[0m\u001b[1;36m30\u001b[0m\u001b[1;33m)\u001b[0m\u001b[1;33m\u001b[0m\u001b[0m\n\u001b[0;32m      4\u001b[0m \u001b[0mtau\u001b[0m \u001b[1;33m=\u001b[0m \u001b[1;36m3\u001b[0m\u001b[1;33m\u001b[0m\u001b[0m\n\u001b[0;32m      5\u001b[0m \u001b[0myoda\u001b[0m \u001b[1;33m=\u001b[0m \u001b[0mnp\u001b[0m\u001b[1;33m.\u001b[0m\u001b[0mexp\u001b[0m\u001b[1;33m(\u001b[0m\u001b[1;33m-\u001b[0m\u001b[0mt\u001b[0m\u001b[1;33m/\u001b[0m\u001b[0mtau\u001b[0m\u001b[1;33m)\u001b[0m\u001b[1;33m\u001b[0m\u001b[0m\n",
        "\u001b[1;31mNameError\u001b[0m: name 'subplots' is not defined"
       ]
      }
     ],
     "prompt_number": 5
    },
    {
     "cell_type": "markdown",
     "metadata": {},
     "source": [
      "#### Comparison of 3 stimulus types"
     ]
    },
    {
     "cell_type": "code",
     "collapsed": false,
     "input": [
      "fig, axes = subplots(ncols=3)\n",
      "fig.set_size_inches(16,4)\n",
      "meanCurrent = 555\n",
      "ax1 = subplot(131, axisbg='#f6f5ef')\n",
      "x = shotNoise(meanCurrent,100,1000)\n",
      "grid()\n",
      "plot(x, color='#0035C8')\n",
      "\n",
      "ax2 = subplot(132, axisbg='#f6f5ef', sharey=ax1)\n",
      "y = whiteNoise(meanCurrent,100,1000)\n",
      "grid()\n",
      "plot(y, color='#0035C8')\n",
      "\n",
      "ax3 = subplot(133, axisbg='#f6f5ef', sharey=ax1)\n",
      "z = stepFn(meanCurrent,100,1000)\n",
      "grid()\n",
      "plot(z, color='#0035C8')"
     ],
     "language": "python",
     "metadata": {},
     "outputs": [
      {
       "ename": "NameError",
       "evalue": "name 'subplots' is not defined",
       "output_type": "pyerr",
       "traceback": [
        "\u001b[1;31m---------------------------------------------------------------------------\u001b[0m\n\u001b[1;31mNameError\u001b[0m                                 Traceback (most recent call last)",
        "\u001b[1;32m<ipython-input-6-b67dba4c7f06>\u001b[0m in \u001b[0;36m<module>\u001b[1;34m()\u001b[0m\n\u001b[1;32m----> 1\u001b[1;33m \u001b[0mfig\u001b[0m\u001b[1;33m,\u001b[0m \u001b[0maxes\u001b[0m \u001b[1;33m=\u001b[0m \u001b[0msubplots\u001b[0m\u001b[1;33m(\u001b[0m\u001b[0mncols\u001b[0m\u001b[1;33m=\u001b[0m\u001b[1;36m3\u001b[0m\u001b[1;33m)\u001b[0m\u001b[1;33m\u001b[0m\u001b[0m\n\u001b[0m\u001b[0;32m      2\u001b[0m \u001b[0mfig\u001b[0m\u001b[1;33m.\u001b[0m\u001b[0mset_size_inches\u001b[0m\u001b[1;33m(\u001b[0m\u001b[1;36m16\u001b[0m\u001b[1;33m,\u001b[0m\u001b[1;36m4\u001b[0m\u001b[1;33m)\u001b[0m\u001b[1;33m\u001b[0m\u001b[0m\n\u001b[0;32m      3\u001b[0m \u001b[0mmeanCurrent\u001b[0m \u001b[1;33m=\u001b[0m \u001b[1;36m555\u001b[0m\u001b[1;33m\u001b[0m\u001b[0m\n\u001b[0;32m      4\u001b[0m \u001b[0max1\u001b[0m \u001b[1;33m=\u001b[0m \u001b[0msubplot\u001b[0m\u001b[1;33m(\u001b[0m\u001b[1;36m131\u001b[0m\u001b[1;33m,\u001b[0m \u001b[0maxisbg\u001b[0m\u001b[1;33m=\u001b[0m\u001b[1;34m'#f6f5ef'\u001b[0m\u001b[1;33m)\u001b[0m\u001b[1;33m\u001b[0m\u001b[0m\n\u001b[0;32m      5\u001b[0m \u001b[0mx\u001b[0m \u001b[1;33m=\u001b[0m \u001b[0mshotNoise\u001b[0m\u001b[1;33m(\u001b[0m\u001b[0mmeanCurrent\u001b[0m\u001b[1;33m,\u001b[0m\u001b[1;36m100\u001b[0m\u001b[1;33m,\u001b[0m\u001b[1;36m1000\u001b[0m\u001b[1;33m)\u001b[0m\u001b[1;33m\u001b[0m\u001b[0m\n",
        "\u001b[1;31mNameError\u001b[0m: name 'subplots' is not defined"
       ]
      }
     ],
     "prompt_number": 6
    },
    {
     "cell_type": "code",
     "collapsed": false,
     "input": [
      "fig, axes = subplots(ncols=3)\n",
      "fig.set_size_inches(16,4)\n",
      "ax1 = subplot(131, axisbg='#f6f5ef')\n",
      "x0 = aEIF(0.5,x,-65)\n",
      "grid()\n",
      "plot(x0[0], color='#0035C8')\n",
      "\n",
      "ax2 = subplot(132, axisbg='#f6f5ef', sharey=ax1)\n",
      "y0 = aEIF(0.5,y,-65)\n",
      "grid()\n",
      "plot(y0[0], color='#0035C8')\n",
      "\n",
      "ax3 = subplot(133, axisbg='#f6f5ef', sharey=ax1)\n",
      "z0 = aEIF(0.5,z,-65)\n",
      "grid()\n",
      "plot(z0[0], color='#0035C8')"
     ],
     "language": "python",
     "metadata": {},
     "outputs": [
      {
       "ename": "NameError",
       "evalue": "name 'subplots' is not defined",
       "output_type": "pyerr",
       "traceback": [
        "\u001b[1;31m---------------------------------------------------------------------------\u001b[0m\n\u001b[1;31mNameError\u001b[0m                                 Traceback (most recent call last)",
        "\u001b[1;32m<ipython-input-7-384b7c76ca5a>\u001b[0m in \u001b[0;36m<module>\u001b[1;34m()\u001b[0m\n\u001b[1;32m----> 1\u001b[1;33m \u001b[0mfig\u001b[0m\u001b[1;33m,\u001b[0m \u001b[0maxes\u001b[0m \u001b[1;33m=\u001b[0m \u001b[0msubplots\u001b[0m\u001b[1;33m(\u001b[0m\u001b[0mncols\u001b[0m\u001b[1;33m=\u001b[0m\u001b[1;36m3\u001b[0m\u001b[1;33m)\u001b[0m\u001b[1;33m\u001b[0m\u001b[0m\n\u001b[0m\u001b[0;32m      2\u001b[0m \u001b[0mfig\u001b[0m\u001b[1;33m.\u001b[0m\u001b[0mset_size_inches\u001b[0m\u001b[1;33m(\u001b[0m\u001b[1;36m16\u001b[0m\u001b[1;33m,\u001b[0m\u001b[1;36m4\u001b[0m\u001b[1;33m)\u001b[0m\u001b[1;33m\u001b[0m\u001b[0m\n\u001b[0;32m      3\u001b[0m \u001b[0max1\u001b[0m \u001b[1;33m=\u001b[0m \u001b[0msubplot\u001b[0m\u001b[1;33m(\u001b[0m\u001b[1;36m131\u001b[0m\u001b[1;33m,\u001b[0m \u001b[0maxisbg\u001b[0m\u001b[1;33m=\u001b[0m\u001b[1;34m'#f6f5ef'\u001b[0m\u001b[1;33m)\u001b[0m\u001b[1;33m\u001b[0m\u001b[0m\n\u001b[0;32m      4\u001b[0m \u001b[0mx0\u001b[0m \u001b[1;33m=\u001b[0m \u001b[0maEIF\u001b[0m\u001b[1;33m(\u001b[0m\u001b[1;36m0.5\u001b[0m\u001b[1;33m,\u001b[0m\u001b[0mx\u001b[0m\u001b[1;33m,\u001b[0m\u001b[1;33m-\u001b[0m\u001b[1;36m65\u001b[0m\u001b[1;33m)\u001b[0m\u001b[1;33m\u001b[0m\u001b[0m\n\u001b[0;32m      5\u001b[0m \u001b[0mgrid\u001b[0m\u001b[1;33m(\u001b[0m\u001b[1;33m)\u001b[0m\u001b[1;33m\u001b[0m\u001b[0m\n",
        "\u001b[1;31mNameError\u001b[0m: name 'subplots' is not defined"
       ]
      }
     ],
     "prompt_number": 7
    },
    {
     "cell_type": "markdown",
     "metadata": {},
     "source": [
      "#### Ornstein-Uhlenbeck process  \n",
      "$$\\begin{align}\n",
      "I(t) &= \\mu + \\exp (- \\frac{(t-t_0)}{\\tau} ) \\, (I(t_0) - \\mu) + \\sqrt{D} \\int_{t_0}^t \\exp(-\\frac{(t-s)}{\\tau}) \\, dW_s \\\\\n",
      "&= \\mu + \\exp (- \\frac{(t-t_0)}{\\tau} ) \\, (I(t_0) - \\mu) + \\sqrt{D} \\int_{t_0}^t \\exp(-\\frac{(t-s)}{\\tau}) \\, \\xi(s) \\, ds\n",
      "\\end{align} $$  \n",
      "\n",
      "\n",
      "\n",
      "---\n",
      "The O-U process is basically shot noise but with a low pass filter $\\exp(t/\\tau_s)$ instead of a band pass filter $t \\exp(t/\\tau_s)$.  In both cases the filter is convolved with white noise.\n",
      "\n",
      "The O-U process also has a drift."
     ]
    },
    {
     "cell_type": "code",
     "collapsed": false,
     "input": [
      "def ouProcess(meanCurrent,variance,N):\n",
      "    ''' shotNoise(meanCurrent, variance, N) '''\n",
      "    \n",
      "    dt    = 0.5\n",
      "    tau   = 3 # ms\n",
      "    tau2  = N/20\n",
      "    M     = 30\n",
      "    t     = linspace(0,M*dt,M)\n",
      "    t2    = linspace(0,N*dt,N)\n",
      "    x     = meanCurrent + np.sqrt(variance)*np.random.randn(N+M-1)\n",
      "    y     = np.exp(-t/tau)\n",
      "    y2    = np.exp(-t2/tau2)\n",
      "    z0    = 0\n",
      "    drift = (z0 - meanCurrent)*y2\n",
      "    z     = np.convolve(x,y, mode = 'valid')\n",
      "    z     = z - np.mean(z) + meanCurrent + drift\n",
      "    #z[0]  = z0\n",
      "    \n",
      "    return z"
     ],
     "language": "python",
     "metadata": {},
     "outputs": [],
     "prompt_number": 8
    },
    {
     "cell_type": "code",
     "collapsed": false,
     "input": [
      "fig, axes = subplots(ncols=3)\n",
      "fig.set_size_inches(16,4)\n",
      "meanCurrent = 555\n",
      "ax1 = subplot(131, axisbg='#f6f5ef')\n",
      "x = shotNoise(meanCurrent,100,1000)\n",
      "grid()\n",
      "plot(x, color='#0035C8')\n",
      "title('Shot Noise')\n",
      "\n",
      "ax2 = subplot(132, axisbg='#f6f5ef', sharey=ax1)\n",
      "y = ouProcess(meanCurrent,100,1000)\n",
      "grid()\n",
      "plot(y, color='#0035C8')\n",
      "title('Ornstein-Uhlenbeck Process')\n",
      "\n",
      "ax3 = subplot(133, axisbg='#f6f5ef', sharey=ax1)\n",
      "z = whiteNoise(meanCurrent,100,1000)\n",
      "grid()\n",
      "plot(z, color='#0035C8')\n",
      "title('White noise')"
     ],
     "language": "python",
     "metadata": {},
     "outputs": [
      {
       "ename": "NameError",
       "evalue": "name 'subplots' is not defined",
       "output_type": "pyerr",
       "traceback": [
        "\u001b[1;31m---------------------------------------------------------------------------\u001b[0m\n\u001b[1;31mNameError\u001b[0m                                 Traceback (most recent call last)",
        "\u001b[1;32m<ipython-input-9-1134852e6b86>\u001b[0m in \u001b[0;36m<module>\u001b[1;34m()\u001b[0m\n\u001b[1;32m----> 1\u001b[1;33m \u001b[0mfig\u001b[0m\u001b[1;33m,\u001b[0m \u001b[0maxes\u001b[0m \u001b[1;33m=\u001b[0m \u001b[0msubplots\u001b[0m\u001b[1;33m(\u001b[0m\u001b[0mncols\u001b[0m\u001b[1;33m=\u001b[0m\u001b[1;36m3\u001b[0m\u001b[1;33m)\u001b[0m\u001b[1;33m\u001b[0m\u001b[0m\n\u001b[0m\u001b[0;32m      2\u001b[0m \u001b[0mfig\u001b[0m\u001b[1;33m.\u001b[0m\u001b[0mset_size_inches\u001b[0m\u001b[1;33m(\u001b[0m\u001b[1;36m16\u001b[0m\u001b[1;33m,\u001b[0m\u001b[1;36m4\u001b[0m\u001b[1;33m)\u001b[0m\u001b[1;33m\u001b[0m\u001b[0m\n\u001b[0;32m      3\u001b[0m \u001b[0mmeanCurrent\u001b[0m \u001b[1;33m=\u001b[0m \u001b[1;36m555\u001b[0m\u001b[1;33m\u001b[0m\u001b[0m\n\u001b[0;32m      4\u001b[0m \u001b[0max1\u001b[0m \u001b[1;33m=\u001b[0m \u001b[0msubplot\u001b[0m\u001b[1;33m(\u001b[0m\u001b[1;36m131\u001b[0m\u001b[1;33m,\u001b[0m \u001b[0maxisbg\u001b[0m\u001b[1;33m=\u001b[0m\u001b[1;34m'#f6f5ef'\u001b[0m\u001b[1;33m)\u001b[0m\u001b[1;33m\u001b[0m\u001b[0m\n\u001b[0;32m      5\u001b[0m \u001b[0mx\u001b[0m \u001b[1;33m=\u001b[0m \u001b[0mshotNoise\u001b[0m\u001b[1;33m(\u001b[0m\u001b[0mmeanCurrent\u001b[0m\u001b[1;33m,\u001b[0m\u001b[1;36m100\u001b[0m\u001b[1;33m,\u001b[0m\u001b[1;36m1000\u001b[0m\u001b[1;33m)\u001b[0m\u001b[1;33m\u001b[0m\u001b[0m\n",
        "\u001b[1;31mNameError\u001b[0m: name 'subplots' is not defined"
       ]
      }
     ],
     "prompt_number": 9
    },
    {
     "cell_type": "code",
     "collapsed": false,
     "input": [
      "fig, axes = subplots(ncols=3)\n",
      "fig.set_size_inches(16,4)\n",
      "ax1 = subplot(131, axisbg='#f6f5ef')\n",
      "x0 = aEIF(0.5,x,-65)\n",
      "grid()\n",
      "plot(x0[0], color='#0035C8')\n",
      "title('aEIF to shot noise')\n",
      "\n",
      "ax2 = subplot(132, axisbg='#f6f5ef', sharey=ax1)\n",
      "y0 = aEIF(0.5,y,-65)\n",
      "grid()\n",
      "plot(y0[0], color='#0035C8')\n",
      "title('aEIF to O-U process')\n",
      "\n",
      "ax3 = subplot(133, axisbg='#f6f5ef', sharey=ax1)\n",
      "z0 = aEIF(0.5,z,-65)\n",
      "grid()\n",
      "plot(z0[0], color='#0035C8')\n",
      "title('aEIF to white noise')"
     ],
     "language": "python",
     "metadata": {},
     "outputs": [
      {
       "ename": "NameError",
       "evalue": "name 'subplots' is not defined",
       "output_type": "pyerr",
       "traceback": [
        "\u001b[1;31m---------------------------------------------------------------------------\u001b[0m\n\u001b[1;31mNameError\u001b[0m                                 Traceback (most recent call last)",
        "\u001b[1;32m<ipython-input-10-a04dd488677a>\u001b[0m in \u001b[0;36m<module>\u001b[1;34m()\u001b[0m\n\u001b[1;32m----> 1\u001b[1;33m \u001b[0mfig\u001b[0m\u001b[1;33m,\u001b[0m \u001b[0maxes\u001b[0m \u001b[1;33m=\u001b[0m \u001b[0msubplots\u001b[0m\u001b[1;33m(\u001b[0m\u001b[0mncols\u001b[0m\u001b[1;33m=\u001b[0m\u001b[1;36m3\u001b[0m\u001b[1;33m)\u001b[0m\u001b[1;33m\u001b[0m\u001b[0m\n\u001b[0m\u001b[0;32m      2\u001b[0m \u001b[0mfig\u001b[0m\u001b[1;33m.\u001b[0m\u001b[0mset_size_inches\u001b[0m\u001b[1;33m(\u001b[0m\u001b[1;36m16\u001b[0m\u001b[1;33m,\u001b[0m\u001b[1;36m4\u001b[0m\u001b[1;33m)\u001b[0m\u001b[1;33m\u001b[0m\u001b[0m\n\u001b[0;32m      3\u001b[0m \u001b[0max1\u001b[0m \u001b[1;33m=\u001b[0m \u001b[0msubplot\u001b[0m\u001b[1;33m(\u001b[0m\u001b[1;36m131\u001b[0m\u001b[1;33m,\u001b[0m \u001b[0maxisbg\u001b[0m\u001b[1;33m=\u001b[0m\u001b[1;34m'#f6f5ef'\u001b[0m\u001b[1;33m)\u001b[0m\u001b[1;33m\u001b[0m\u001b[0m\n\u001b[0;32m      4\u001b[0m \u001b[0mx0\u001b[0m \u001b[1;33m=\u001b[0m \u001b[0maEIF\u001b[0m\u001b[1;33m(\u001b[0m\u001b[1;36m0.5\u001b[0m\u001b[1;33m,\u001b[0m\u001b[0mx\u001b[0m\u001b[1;33m,\u001b[0m\u001b[1;33m-\u001b[0m\u001b[1;36m65\u001b[0m\u001b[1;33m)\u001b[0m\u001b[1;33m\u001b[0m\u001b[0m\n\u001b[0;32m      5\u001b[0m \u001b[0mgrid\u001b[0m\u001b[1;33m(\u001b[0m\u001b[1;33m)\u001b[0m\u001b[1;33m\u001b[0m\u001b[0m\n",
        "\u001b[1;31mNameError\u001b[0m: name 'subplots' is not defined"
       ]
      }
     ],
     "prompt_number": 10
    },
    {
     "cell_type": "markdown",
     "metadata": {},
     "source": [
      "#### Brownian motion (random walk)"
     ]
    },
    {
     "cell_type": "code",
     "collapsed": false,
     "input": [
      "\"\"\"\n",
      "brownian() implements one dimensional Brownian motion (i.e. the Wiener process).\n",
      "\"\"\"\n",
      "#from math import sqrt\n",
      "from scipy.stats import norm\n",
      "#import numpy as np\n",
      "\n",
      "\n",
      "def brownian(x0, n, dt, delta, out=None):\n",
      "    \"\"\"\\\n",
      "    Generate an instance of Brownian motion (i.e. the Wiener process):\n",
      "\n",
      "        X(t) = X(0) + N(0, delta**2 * t; 0, t)\n",
      "\n",
      "    where N(a,b; t0, t1) is a normally distributed random variable with mean a and\n",
      "    variance b.  The parameters t0 and t1 make explicit the statistical\n",
      "    independence of N on different time intervals; that is, if [t0, t1) and\n",
      "    [t2, t3) are disjoint intervals, then N(a, b; t0, t1) and N(a, b; t2, t3)\n",
      "    are independent.\n",
      "    \n",
      "    Written as an iteration scheme,\n",
      "\n",
      "        X(t + dt) = X(t) + N(0, delta**2 * dt; t, t+dt)\n",
      "\n",
      "\n",
      "    If `x0` is an array (or array-like), each value in `x0` is treated as\n",
      "    an initial condition, and the value returned is a numpy array with one\n",
      "    more dimension than `x0`.\n",
      "\n",
      "    Arguments\n",
      "    ---------\n",
      "    x0 : float or numpy array (or something that can be converted to a numpy array\n",
      "         using numpy.asarray(x0)).\n",
      "        The initial condition(s) (i.e. position(s)) of the Brownian motion.\n",
      "    n : int\n",
      "        The number of steps to take.\n",
      "    dt : float\n",
      "        The time step.\n",
      "    delta : float\n",
      "        delta determines the \"speed\" of the Brownian motion.  The random variable\n",
      "        of the position at time t, X(t), has a normal distribution whose mean is\n",
      "        the position at time t=0 and whose variance is delta**2*t.\n",
      "    out : numpy array or None\n",
      "        If `out` is not None, it specifies the array in which to put the\n",
      "        result.  If `out` is None, a new numpy array is created and returned.\n",
      "\n",
      "    Returns\n",
      "    -------\n",
      "    A numpy array of floats with shape `x0.shape + (n,)`.\n",
      "    \n",
      "    Note that the initial value `x0` is not included in the returned array.\n",
      "    \"\"\"\n",
      "\n",
      "    x0 = np.asarray(x0)\n",
      "\n",
      "    # For each element of x0, generate a sample of n numbers from a\n",
      "    # normal distribution.\n",
      "    r = norm.rvs(size=x0.shape + (n,), scale=delta*sqrt(dt))\n",
      "\n",
      "    # If `out` was not given, create an output array.\n",
      "    if out is None:\n",
      "        out = np.empty(r.shape)\n",
      "\n",
      "    # This computes the Brownian motion by forming the cumulative sum of\n",
      "    # the random samples. \n",
      "    np.cumsum(r, axis=-1, out=out)\n",
      "\n",
      "    # Add the initial condition.\n",
      "    out += np.expand_dims(x0, axis=-1)\n",
      "\n",
      "    return out"
     ],
     "language": "python",
     "metadata": {},
     "outputs": [],
     "prompt_number": 11
    },
    {
     "cell_type": "code",
     "collapsed": false,
     "input": [
      "fig = gcf()\n",
      "fig.set_size_inches(16,8)\n",
      "\n",
      "# The Wiener process parameter.\n",
      "delta = 2\n",
      "# Total time.\n",
      "T = 10.0\n",
      "# Number of steps.\n",
      "N = 500\n",
      "# Time step size\n",
      "dt = T/N\n",
      "# Number of realizations to generate.\n",
      "m = 10\n",
      "# Create an empty array to store the realizations.\n",
      "x = numpy.empty((m,N+1))\n",
      "# Initial values of x.\n",
      "x[:, 0] = 50\n",
      "\n",
      "brownian(x[:,0], N, dt, delta, out=x[:,1:])\n",
      "\n",
      "t = numpy.linspace(0.0, N*dt, N+1)\n",
      "for k in range(m):\n",
      "    plot(t, x[k])\n",
      "xlabel('t', fontsize=16)\n",
      "ylabel('x', fontsize=16)\n",
      "grid(True)\n",
      "show()"
     ],
     "language": "python",
     "metadata": {},
     "outputs": [
      {
       "ename": "NameError",
       "evalue": "name 'gcf' is not defined",
       "output_type": "pyerr",
       "traceback": [
        "\u001b[1;31m---------------------------------------------------------------------------\u001b[0m\n\u001b[1;31mNameError\u001b[0m                                 Traceback (most recent call last)",
        "\u001b[1;32m<ipython-input-13-3febfb385bf6>\u001b[0m in \u001b[0;36m<module>\u001b[1;34m()\u001b[0m\n\u001b[1;32m----> 1\u001b[1;33m \u001b[0mfig\u001b[0m \u001b[1;33m=\u001b[0m \u001b[0mgcf\u001b[0m\u001b[1;33m(\u001b[0m\u001b[1;33m)\u001b[0m\u001b[1;33m\u001b[0m\u001b[0m\n\u001b[0m\u001b[0;32m      2\u001b[0m \u001b[0mfig\u001b[0m\u001b[1;33m.\u001b[0m\u001b[0mset_size_inches\u001b[0m\u001b[1;33m(\u001b[0m\u001b[1;36m16\u001b[0m\u001b[1;33m,\u001b[0m\u001b[1;36m8\u001b[0m\u001b[1;33m)\u001b[0m\u001b[1;33m\u001b[0m\u001b[0m\n\u001b[0;32m      3\u001b[0m \u001b[1;33m\u001b[0m\u001b[0m\n\u001b[0;32m      4\u001b[0m \u001b[1;31m# The Wiener process parameter.\u001b[0m\u001b[1;33m\u001b[0m\u001b[1;33m\u001b[0m\u001b[0m\n\u001b[0;32m      5\u001b[0m \u001b[0mdelta\u001b[0m \u001b[1;33m=\u001b[0m \u001b[1;36m2\u001b[0m\u001b[1;33m\u001b[0m\u001b[0m\n",
        "\u001b[1;31mNameError\u001b[0m: name 'gcf' is not defined"
       ]
      }
     ],
     "prompt_number": 13
    },
    {
     "cell_type": "markdown",
     "metadata": {},
     "source": [
      "##Ensembles of neurons"
     ]
    },
    {
     "cell_type": "code",
     "collapsed": false,
     "input": [
      "def ensemble(adaptiveIndex, numNeurons, inputType, duration):\n",
      "    ''' Simulates an ensemble of neurons\n",
      "    \n",
      "    inputs: adaptiveIndex, numNeurons, and inputType\n",
      "    \n",
      "    possible inputType includes:\n",
      "        'step'\n",
      "        'white'\n",
      "        'ou'\n",
      "        'shotnoise'\n",
      "        'brownian'\n",
      "    \n",
      "    returns: V (neurons x time), w, spikes, stimulus\n",
      "    '''\n",
      "    \n",
      "    # constants\n",
      "    N           = duration\n",
      "    a           = adaptiveIndex\n",
      "    M           = numNeurons\n",
      "    v0          = -70.6  # mV\n",
      "    meanCurrent = 555    # pA ?\n",
      "    variance    = 100\n",
      "    delta       = 0.5\n",
      "    \n",
      "    # initialize variables\n",
      "    V       = [None]*M\n",
      "    w       = [None]*M\n",
      "    spikes  = [None]*M\n",
      "    sptimes = [None]*M\n",
      "    current = [None]*M\n",
      "    T       = np.linspace(0,N*delta,N) # time points corresponding to inputCurrent (same size as V, w, I)\n",
      "    \n",
      "    for m in xrange(M):\n",
      "        if inputType == 'step':\n",
      "            current[m] = stepFn(meanCurrent,variance,N)\n",
      "        elif inputType == 'white':\n",
      "            current[m] = whiteNoise(meanCurrent,variance,N)\n",
      "        elif inputType == 'ou':\n",
      "            current[m] = ouProcess(meanCurrent,variance,N)\n",
      "        elif inputType == 'shotnoise':\n",
      "            current[m] = shotNoise(meanCurrent,variance,N)\n",
      "        elif inputType == 'brownian':\n",
      "            current[m] = brownian(x0, n, dt, delta, out=None)\n",
      "        \n",
      "        V[m],w[m],spikes[m],sptimes[m] = aEIF(a, current[m], v0)\n",
      "        \n",
      "    return V, w, spikes, sptimes, T, current\n",
      "        "
     ],
     "language": "python",
     "metadata": {},
     "outputs": []
    },
    {
     "cell_type": "code",
     "collapsed": false,
     "input": [
      "# Get ensemble of neurons\n",
      "V,w,spikes,sptimes,T,stimulus = ensemble(0.6,100,'step',1000)\n",
      "\n",
      "# Visualize\n",
      "fig = gcf()\n",
      "fig.set_size_inches(18,12)\n",
      "ax1 = subplot(311)\n",
      "fig = plot(T,np.array(V).transpose())\n",
      "ax2 = subplot(312, sharex = ax1)\n",
      "fig = raster(sptimes)\n",
      "ax3 = subplot(313, sharex = ax1)\n",
      "fig = plot(T,np.array(stimulus).transpose())"
     ],
     "language": "python",
     "metadata": {},
     "outputs": []
    },
    {
     "cell_type": "markdown",
     "metadata": {},
     "source": [
      "## Information  \n",
      "\n",
      "Computing information is very tricky: how do we discretize and bin the stimulus, voltage, or spikes?  I will partly use the pyentropy package designed for correcting information under- and over- biases, but I will also focus on hand binning in a \"physiological\" way.  \n",
      "\n",
      "Typical biases:  \n",
      "- Since small probability events are not observed for small sample sizes, $H(X) = - \\sum p \\log_2 p$ is underestimated  \n",
      "- For small sample sizes, independent events could have spurious correlations, leading to $I(X;Y) = H(X) - H(X|Y)$ being overestimated"
     ]
    },
    {
     "cell_type": "markdown",
     "metadata": {},
     "source": [
      "#### Compute information between spike/no spike & the stimulus with adaptive binning  \n",
      "\n",
      "Notes: with uniform sampling for quantise, if binary binning and there's no way to have equal occupancy bins, then it'll just ignore one of the values altogether.  Actually, this might not be a problem since I skip quantisation for binary spikes, and when I have continuous values this could be useful."
     ]
    },
    {
     "cell_type": "code",
     "collapsed": false,
     "input": [
      "def binaryWordsInformation(spikes,stimulus):\n",
      "    '''Compute entropy of spike trains with binary words approach.\n",
      "    \n",
      "    Spikes and stimulus are both 1-d vertical numpy arrays\n",
      "    with as many elements as neurons.\n",
      "    '''\n",
      "    # Quantize stimulus and\n",
      "    # align spikes & stim for entropy calculation\n",
      "    numNeurons = len(spikes)\n",
      "    spikes     = spikes.flatten()   # get in format (numNeurons,)\n",
      "    stimulus   = stimulus.flatten() # get in format (numNeurons,)\n",
      "    if len(np.unique(spikes)) > 2:\n",
      "        spikes = pyentropy.quantise(spikes, 2, uniform='sampling', minmax=None, centers=True)\n",
      "        spikes = spikes[0]\n",
      "    else:\n",
      "        spikes     = spikes.astype(int) # make integer array from float64 array\n",
      "    stim_quant = pyentropy.quantise(stimulus, 2, uniform='sampling', minmax=None, centers=True)\n",
      "    system     = pyentropy.DiscreteSystem(spikes, (1,numNeurons), stim_quant[0], (1,numNeurons))\n",
      "    \n",
      "    # compute entropies\n",
      "    system.calculate_entropies(method='plugin', calc=['HX', 'HXY'])\n",
      "    \n",
      "    # return information between spikes and stimulus\n",
      "    return system.I()"
     ],
     "language": "python",
     "metadata": {},
     "outputs": []
    },
    {
     "cell_type": "code",
     "collapsed": false,
     "input": [
      "# Fake data for test (just a simple binary threshold)\n",
      "\n",
      "fake_stim   = np.random.randn(1000)\n",
      "fake_spikes = np.zeros((1000,))\n",
      "for i in xrange(len(fake_spikes)):\n",
      "    if fake_stim[i] > 0:\n",
      "        fake_spikes[i] = 1\n",
      "fake_spikes = fake_spikes.astype(int)        "
     ],
     "language": "python",
     "metadata": {},
     "outputs": []
    },
    {
     "cell_type": "code",
     "collapsed": false,
     "input": [
      "y = binaryWordsInformation(fake_spikes,fake_stim)"
     ],
     "language": "python",
     "metadata": {},
     "outputs": []
    },
    {
     "cell_type": "code",
     "collapsed": false,
     "input": [
      "y"
     ],
     "language": "python",
     "metadata": {},
     "outputs": []
    },
    {
     "cell_type": "code",
     "collapsed": false,
     "input": [
      "# Get ensemble of neurons\n",
      "V,w,spikes,sptimes,T,stimulus = ensemble(0.6,100,'ou',1000)\n",
      "\n",
      "spikes     = np.asarray(spikes)\n",
      "stimulus   = np.asarray(stimulus)\n",
      "info_0     = binaryWordsInformation(spikes[0,:],stimulus[0,:])"
     ],
     "language": "python",
     "metadata": {},
     "outputs": []
    },
    {
     "cell_type": "code",
     "collapsed": false,
     "input": [
      "info_0"
     ],
     "language": "python",
     "metadata": {},
     "outputs": []
    },
    {
     "cell_type": "markdown",
     "metadata": {},
     "source": [
      "Calculate instantaneous memory and predictive power"
     ]
    },
    {
     "cell_type": "code",
     "collapsed": false,
     "input": [
      "I_mem  = []\n",
      "I_pred = []\n",
      "I_max  = []\n",
      "\n",
      "spikes   = np.asarray(spikes)\n",
      "stimulus = np.asarray(stimulus)\n",
      "numTimes = spikes.shape[1]\n",
      "\n",
      "for i in xrange(numTimes-1):\n",
      "    I_mem.append(binaryWordsInformation(spikes[:,i],stimulus[:,i]))\n",
      "    I_pred.append(binaryWordsInformation(spikes[:,i],stimulus[:,i+1]))\n",
      "    I_max.append(binaryWordsInformation(stimulus[:,i],stimulus[:,i+1]))\n",
      "\n",
      "I_nonpred = np.asarray(I_mem) - np.asarray(I_pred)"
     ],
     "language": "python",
     "metadata": {},
     "outputs": []
    },
    {
     "cell_type": "markdown",
     "metadata": {},
     "source": [
      "####Plots of instantaneous memory, predictive power, and non-predictive power to step function"
     ]
    },
    {
     "cell_type": "code",
     "collapsed": false,
     "input": [
      "# matplotlib.rcParams.update({'font.size': 12, 'font.family': 'serif'})\n",
      "\n",
      "fig, axes = subplots(ncols=3)\n",
      "fig.set_size_inches(16,4)\n",
      "ax1 = subplot(131, axisbg='#f6f5ef')\n",
      "grid()\n",
      "plot(I_mem, color='#0035C8')\n",
      "title('Instantaneous Memory')\n",
      "\n",
      "ax2 = subplot(132, axisbg='#f6f5ef', sharey=ax1)\n",
      "grid()\n",
      "plot(I_pred, color='#0035C8')\n",
      "title('Instantaneous Predictive Power')\n",
      "\n",
      "ax3 = subplot(133, axisbg='#f6f5ef', sharey=ax1)\n",
      "grid()\n",
      "plot(I_nonpred, color='#0035C8')\n",
      "title('Instantaneous non-predictive information')"
     ],
     "language": "python",
     "metadata": {},
     "outputs": []
    },
    {
     "cell_type": "code",
     "collapsed": false,
     "input": [],
     "language": "python",
     "metadata": {},
     "outputs": []
    },
    {
     "cell_type": "markdown",
     "metadata": {},
     "source": [
      "###TODO: Implement straight-forward information calculation from muti2, n, etc. and just replicate results  "
     ]
    },
    {
     "cell_type": "code",
     "collapsed": false,
     "input": [],
     "language": "python",
     "metadata": {},
     "outputs": []
    }
   ],
   "metadata": {}
  }
 ]
}