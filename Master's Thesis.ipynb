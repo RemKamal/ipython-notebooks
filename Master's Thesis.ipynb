{
 "metadata": {
  "name": ""
 },
 "nbformat": 3,
 "nbformat_minor": 0,
 "worksheets": [
  {
   "cells": [
    {
     "cell_type": "markdown",
     "metadata": {},
     "source": [
      "9/24/13\n",
      "# MA Thesis: Information Processing and Energy Dissipation in Neurons\n",
      "\n",
      "---\n",
      "Abstract: We investigate the relationship between thermodynamic and information theoretic inefficiency in an individual neuron model, the adaptive exponential integrate-and-fire neuron. Recent work has revealed that minimization of energy dissipation is tightly related to optimal information processing, in the sense that a system has to compute a maximally predictive model. In this thesis we justify the extension of these results to the neuron and quantify the neuron\u2019s thermodynamic and information processing inefficiency as a function of spike frequency adaptation."
     ]
    },
    {
     "cell_type": "code",
     "collapsed": false,
     "input": [
      "import numpy as np"
     ],
     "language": "python",
     "metadata": {},
     "outputs": [],
     "prompt_number": 1
    },
    {
     "cell_type": "markdown",
     "metadata": {},
     "source": [
      "#### Adaptive exponential integrate-and-fire neuron"
     ]
    },
    {
     "cell_type": "code",
     "collapsed": false,
     "input": [
      "def aeIF(adaptationIndex, inputCurrent, v0):\n",
      "    \n",
      "    # Physiologic neuron parameters from Gerstner et al.\n",
      "    C       = 281    # capacitance in pF ... this is 281*10^(-12) F\n",
      "    g_L     = 30     # leak conductance in nS\n",
      "    E_L     = -70.6  # leak reversal potential in mV ... this is -0.0706 V\n",
      "    delta_T = 2      # slope factor in mV\n",
      "    V_T     = -50.4  # spike threshold in mV\n",
      "    tau_w   = 144    # adaptation time constant in ms\n",
      "    V_peak  = 20     # when to call action potential in mV\n",
      "    b       = 0.0805 # spike-triggered adaptation\n",
      "    a       = adaptationIndex\n",
      "    \n",
      "    # Simulation parameters\n",
      "    delta = 0.5                      # dt\n",
      "    N     = len(inputCurrent)        # number of simulation points is determined by size of inputCurrent\n",
      "    T     = np.linspace(0,N*delta,N) # time points corresponding to inputCurrent (same size as V, w, I)\n",
      "    \n",
      "    # Thermodynamic parameters\n",
      "    kB   = 1.3806503*10^(-23)   # Boltzmann's constant\n",
      "    beta = 1/(kB*310.65)        # kB times T where T is in Kelvin\n",
      "    \n",
      "    # Initialize variables\n",
      "    V      = np.zeros((N,))\n",
      "    w      = np.zeros((N,))\n",
      "    spikes = np.zeros((N,))\n",
      "    V[0]   = v0                 # this gives us a chance to say what the membrane voltage starts at\n",
      "                                # so we can draw initial conditions from the Boltzmann dist. later\n",
      "    \n",
      "    \n",
      "    "
     ],
     "language": "python",
     "metadata": {},
     "outputs": []
    }
   ],
   "metadata": {}
  }
 ]
}