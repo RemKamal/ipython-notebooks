{
 "cells": [
  {
   "cell_type": "markdown",
   "metadata": {},
   "source": [
    "# Compare ideal infomax filter with the retina's horizontal and amacrine cell projective fields"
   ]
  },
  {
   "cell_type": "code",
   "execution_count": 8,
   "metadata": {
    "collapsed": false
   },
   "outputs": [
    {
     "name": "stdout",
     "output_type": "stream",
     "text": [
      "The autoreload extension is already loaded. To reload it, use:\n",
      "  %reload_ext autoreload\n"
     ]
    }
   ],
   "source": [
    "import numpy as np\n",
    "from scipy.stats import sem\n",
    "\n",
    "# import my functions\n",
    "import info_theory_functions as info\n",
    "from lnl_model_functions import *\n",
    "from atick_redlich_functions import *\n",
    "from get_davids_data import *\n",
    "from image_processing_functions import *\n",
    "\n",
    "# from scipy.optimize import minimize\n",
    "# from scipy import fft, arange\n",
    "# from random import randint\n",
    "# from cmath import polar\n",
    "# from numpy.fft import fft2\n",
    "# from numpy.fft import fftshift\n",
    "# from sklearn.decomposition import PCA\n",
    "# from scipy.interpolate import interp1d\n",
    "# from scipy.optimize import curve_fit\n",
    "\n",
    "\n",
    "# This is a bit of magic to make matplotlib figures appear inline in the\n",
    "# notebook rather than in a new window.\n",
    "%matplotlib inline\n",
    "from matplotlib.pyplot import *\n",
    "\n",
    "# note that nonposx(y) for log plots will no longer work with this package\n",
    "# I recommend against enabling the whole notebook, since some plots come out funny.\n",
    "# Instead, just use mpld3.display() at the end of cells you want to interact with.\n",
    "import mpld3\n",
    "#mpld3.enable_notebook()\n",
    "\n",
    "from pylab import rcParams\n",
    "rcParams['figure.figsize'] = (10.0, 8.0) # set default size of plots\n",
    "rcParams['image.interpolation'] = 'nearest'\n",
    "rcParams['image.cmap'] = 'gray'\n",
    "\n",
    "# Some more magic so that the notebook will reload external python modules;\n",
    "# see http://stackoverflow.com/questions/1907993/autoreload-of-modules-in-ipython\n",
    "%load_ext autoreload\n",
    "%autoreload 2"
   ]
  },
  {
   "cell_type": "markdown",
   "metadata": {},
   "source": [
    "# Import natural images"
   ]
  },
  {
   "cell_type": "code",
   "execution_count": 16,
   "metadata": {
    "collapsed": false
   },
   "outputs": [
    {
     "name": "stdout",
     "output_type": "stream",
     "text": [
      "Only 78 files in directory.\n"
     ]
    }
   ],
   "source": [
    "# choose an image path from cd13A (flood plain, water, horizon) or cd01A (baboons, trees, bushes)\n",
    "im_path     = '/Users/lmcintosh/Documents/Natural_Images/RawData/cd13A' # flood plain, water, horizon\n",
    "num_images  = 100\n",
    "patch_size  = None\n",
    "pixelsToDeg = 92./2 # or 2./92 degrees per pixel (spacing)\n",
    "spacing     = 1./pixelsToDeg # number of degree spacing between pixels\n",
    "normalize   = 'divisive'\n",
    "patches     = load_images(im_path, num_images, patch_size, square=True, normalize=normalize)"
   ]
  },
  {
   "cell_type": "code",
   "execution_count": 17,
   "metadata": {
    "collapsed": false
   },
   "outputs": [],
   "source": [
    "allRot  = [spectrum2d(p,spacing=spacing,frequencyFlag=False) for p in patches]\n",
    "specRot = mean(allRot, axis=0) # average out the amplitude spectrum over all images\n",
    "frqRot, tmp = spectrum2d(patches[0],spacing=spacing,frequencyFlag=True)\n",
    "error = [sem([allRot[j][i] for j in range(len(patches))]) for i in range(len(frqRot))]\n",
    "originalSpectra = specRot\n",
    "originalErrors  = error\n",
    "originalFreqs   = frqRot"
   ]
  },
  {
   "cell_type": "markdown",
   "metadata": {},
   "source": [
    "# Get the projective fields of horizontal and amacrine cells"
   ]
  },
  {
   "cell_type": "code",
   "execution_count": 22,
   "metadata": {
    "collapsed": false
   },
   "outputs": [],
   "source": [
    "microns_per_deg  = 50.\n",
    "horz_spatial_pfs = get_horizontal_projective_field(micronsPerDeg=microns_per_deg)\n",
    "ama_spatial_pfs  = get_amacrine_projective_field(micronsPerDeg=microns_per_deg)"
   ]
  },
  {
   "cell_type": "markdown",
   "metadata": {},
   "source": [
    "# Compare ideal and experimental filters"
   ]
  },
  {
   "cell_type": "code",
   "execution_count": 80,
   "metadata": {
    "collapsed": false
   },
   "outputs": [],
   "source": [
    "ins = np.logspace(-5, 2, 10)"
   ]
  },
  {
   "cell_type": "code",
   "execution_count": 81,
   "metadata": {
    "collapsed": false
   },
   "outputs": [
    {
     "data": {
      "text/plain": [
       "array([  1.00000000e-05,   5.99484250e-05,   3.59381366e-04,\n",
       "         2.15443469e-03,   1.29154967e-02,   7.74263683e-02,\n",
       "         4.64158883e-01,   2.78255940e+00,   1.66810054e+01,\n",
       "         1.00000000e+02])"
      ]
     },
     "execution_count": 81,
     "metadata": {},
     "output_type": "execute_result"
    }
   ],
   "source": [
    "ins"
   ]
  },
  {
   "cell_type": "code",
   "execution_count": 101,
   "metadata": {
    "collapsed": false
   },
   "outputs": [
    {
     "name": "stdout",
     "output_type": "stream",
     "text": [
      "The relative error from this choice of Lagrangian multiplier is 1.64920619546e-10.\n"
     ]
    },
    {
     "data": {
      "image/png": "[encoded data removed]",
      "text/plain": [
       "<matplotlib.figure.Figure at 0x115cc9710>"
      ]
     },
     "metadata": {},
     "output_type": "display_data"
    }
   ],
   "source": [
    "freq_ideal, filt_ideal, freq_expt, filt_expt = compare_to_experiment(originalFreqs, originalSpectra**2, \n",
    "                                                                     inputNoise=0.02, outputNoise=0.000001,\n",
    "                                                                     returnFlag=True, xlimit=[0,0.25], \n",
    "                                                                     numPoints=5000, plotFlag='separate')"
   ]
  },
  {
   "cell_type": "code",
   "execution_count": null,
   "metadata": {
    "collapsed": true
   },
   "outputs": [],
   "source": [
    "filt = soln(originalSpectra**2, 0.025, 0.005, 192845.89786)\n",
    "plot(originalFreqs, filt/np.max(filt[~isnan(filt)]), 'b.', markersize=10)\n",
    "plot(horzOnlyF, 1-horzOnlyFilter/np.max(horzOnlyFilter), 'g.', markersize=10)\n",
    "plot(amaOnlyF, 1-amaOnlyFilter/np.max(amaOnlyFilter), 'c.', markersize=10)\n",
    "xlim([0,0.25])"
   ]
  },
  {
   "cell_type": "code",
   "execution_count": null,
   "metadata": {
    "collapsed": true
   },
   "outputs": [],
   "source": []
  },
  {
   "cell_type": "code",
   "execution_count": null,
   "metadata": {
    "collapsed": true
   },
   "outputs": [],
   "source": []
  },
  {
   "cell_type": "code",
   "execution_count": null,
   "metadata": {
    "collapsed": true
   },
   "outputs": [],
   "source": []
  },
  {
   "cell_type": "code",
   "execution_count": null,
   "metadata": {
    "collapsed": true
   },
   "outputs": [],
   "source": []
  },
  {
   "cell_type": "code",
   "execution_count": null,
   "metadata": {
    "collapsed": true
   },
   "outputs": [],
   "source": []
  },
  {
   "cell_type": "code",
   "execution_count": null,
   "metadata": {
    "collapsed": true
   },
   "outputs": [],
   "source": []
  },
  {
   "cell_type": "code",
   "execution_count": null,
   "metadata": {
    "collapsed": true
   },
   "outputs": [],
   "source": []
  },
  {
   "cell_type": "code",
   "execution_count": null,
   "metadata": {
    "collapsed": true
   },
   "outputs": [],
   "source": []
  },
  {
   "cell_type": "code",
   "execution_count": null,
   "metadata": {
    "collapsed": true
   },
   "outputs": [],
   "source": []
  },
  {
   "cell_type": "code",
   "execution_count": null,
   "metadata": {
    "collapsed": true
   },
   "outputs": [],
   "source": []
  },
  {
   "cell_type": "code",
   "execution_count": null,
   "metadata": {
    "collapsed": true
   },
   "outputs": [],
   "source": []
  },
  {
   "cell_type": "code",
   "execution_count": null,
   "metadata": {
    "collapsed": true
   },
   "outputs": [],
   "source": []
  },
  {
   "cell_type": "code",
   "execution_count": null,
   "metadata": {
    "collapsed": true
   },
   "outputs": [],
   "source": []
  }
 ],
 "metadata": {
  "kernelspec": {
   "display_name": "Python 2",
   "language": "python",
   "name": "python2"
  },
  "language_info": {
   "codemirror_mode": {
    "name": "ipython",
    "version": 2
   },
   "file_extension": ".py",
   "mimetype": "text/x-python",
   "name": "python",
   "nbconvert_exporter": "python",
   "pygments_lexer": "ipython2",
   "version": "2.7.3"
  }
 },
 "nbformat": 4,
 "nbformat_minor": 0
}
