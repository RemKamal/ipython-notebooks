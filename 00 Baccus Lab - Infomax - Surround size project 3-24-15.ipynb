{
 "cells": [
  {
   "cell_type": "markdown",
   "metadata": {},
   "source": [
    "# Compare ideal infomax filter with the retina's horizontal and amacrine cell projective fields"
   ]
  },
  {
   "cell_type": "code",
   "execution_count": 1,
   "metadata": {
    "collapsed": false
   },
   "outputs": [
    {
     "name": "stderr",
     "output_type": "stream",
     "text": [
      "/Library/Frameworks/EPD64.framework/Versions/7.3/lib/python2.7/site-packages/scikits/__init__.py:1: UserWarning: Module IPython was already imported from /Users/lmcintosh/Git/ipython/IPython/__init__.pyc, but /Library/Frameworks/EPD64.framework/Versions/7.3/lib/python2.7/site-packages is being added to sys.path\n",
      "  __import__('pkg_resources').declare_namespace(__name__)\n"
     ]
    }
   ],
   "source": [
    "import numpy as np\n",
    "\n",
    "# import my functions\n",
    "import info_theory_functions as info\n",
    "from lnl_model_functions import *\n",
    "from atick_redlich_functions import *\n",
    "from get_davids_data import *\n",
    "from image_processing_functions import *\n",
    "\n",
    "# from scipy.optimize import minimize\n",
    "# from scipy import fft, arange\n",
    "# from scipy.stats import sem\n",
    "# from random import randint\n",
    "# from cmath import polar\n",
    "# from numpy.fft import fft2\n",
    "# from numpy.fft import fftshift\n",
    "# from sklearn.decomposition import PCA\n",
    "# from scipy.interpolate import interp1d\n",
    "# from scipy.optimize import curve_fit\n",
    "\n",
    "\n",
    "# This is a bit of magic to make matplotlib figures appear inline in the\n",
    "# notebook rather than in a new window.\n",
    "%matplotlib inline\n",
    "from matplotlib.pyplot import *\n",
    "\n",
    "# note that nonposx(y) for log plots will no longer work with this package\n",
    "# I recommend against enabling the whole notebook, since some plots come out funny.\n",
    "# Instead, just use mpld3.display() at the end of cells you want to interact with.\n",
    "import mpld3\n",
    "#mpld3.enable_notebook()\n",
    "\n",
    "from pylab import rcParams\n",
    "rcParams['figure.figsize'] = (10.0, 8.0) # set default size of plots\n",
    "rcParams['image.interpolation'] = 'nearest'\n",
    "rcParams['image.cmap'] = 'gray'\n",
    "\n",
    "# Some more magic so that the notebook will reload external python modules;\n",
    "# see http://stackoverflow.com/questions/1907993/autoreload-of-modules-in-ipython\n",
    "%load_ext autoreload\n",
    "%autoreload 2"
   ]
  },
  {
   "cell_type": "markdown",
   "metadata": {},
   "source": [
    "# Import natural images"
   ]
  },
  {
   "cell_type": "code",
   "execution_count": 5,
   "metadata": {
    "collapsed": false
   },
   "outputs": [
    {
     "name": "stdout",
     "output_type": "stream",
     "text": [
      "Only 78 files in directory.\n"
     ]
    }
   ],
   "source": [
    "# choose an image path from cd13A (flood plain, water, horizon) or cd01A (baboons, trees, bushes)\n",
    "im_path     = '/Users/lmcintosh/Documents/Natural_Images/RawData/cd13A' # flood plain, water, horizon\n",
    "num_images  = 100\n",
    "patch_size  = None\n",
    "pixelsToDeg = 92./2\n",
    "normalize   = 'divisive'\n",
    "patches     = load_images(im_path, num_images, patch_size, square=True, normalize=normalize)"
   ]
  },
  {
   "cell_type": "code",
   "execution_count": null,
   "metadata": {
    "collapsed": true
   },
   "outputs": [],
   "source": []
  }
 ],
 "metadata": {
  "kernelspec": {
   "display_name": "Python 2",
   "language": "python",
   "name": "python2"
  },
  "language_info": {
   "codemirror_mode": {
    "name": "ipython",
    "version": 2
   },
   "file_extension": ".py",
   "mimetype": "text/x-python",
   "name": "python",
   "nbconvert_exporter": "python",
   "pygments_lexer": "ipython2",
   "version": "2.7.3"
  }
 },
 "nbformat": 4,
 "nbformat_minor": 0
}
