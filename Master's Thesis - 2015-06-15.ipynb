{
 "cells": [
  {
   "cell_type": "code",
   "execution_count": 1,
   "metadata": {
    "collapsed": true
   },
   "outputs": [],
   "source": [
    "import numpy as np"
   ]
  },
  {
   "cell_type": "code",
   "execution_count": 12,
   "metadata": {
    "collapsed": true
   },
   "outputs": [],
   "source": [
    "def lif(I, total_time, dt=0.125, Rm=1.0, Cm=10.0, tau_ref=4.0, V_th=1.0, V_spike=0.5, initial_V=0.0, num_neurons=1):\n",
    "    time   = np.arange(0, total_time+dt, dt)\n",
    "    t_rest = 0\n",
    "    \n",
    "    # set initial membrane potential and initialize array\n",
    "    Vm = np.zeros((num_neurons, len(time)))\n",
    "    Vm[0] = initial_V\n",
    "    \n",
    "    # LIF properties\n",
    "    tau_m = Rm*Cm\n",
    "    \n",
    "    for i, t in enumerate(time):\n",
    "        if t > t_rest:\n",
    "            Vm[i]  = Vm[i-1] + (-Vm[i-1] + I*Rm) / tau_m * dt\n",
    "            if t >= Vth:\n",
    "                Vm[i][Vm[i] >= Vth] += V_spike\n",
    "                t_rest = t + tau_ref\n",
    "                "
   ]
  },
  {
   "cell_type": "code",
   "execution_count": null,
   "metadata": {
    "collapsed": true
   },
   "outputs": [],
   "source": [
    "T       = 50                  # total time to simulate (msec)\n",
    "dt      = 0.125               # simulation time step (msec)\n",
    "time    = arange(0, T+dt, dt) # time array\n",
    "t_rest  = 0                   # initial refractory time\n",
    "\n",
    "## LIF properties\n",
    "Vm      = zeros(len(time))    # potential (V) trace over time\n",
    "Rm      = 1                   # resistance (kOhm)\n",
    "Cm      = 10                  # capacitance (uF)\n",
    "tau_m   = Rm*Cm               # time constant (msec)\n",
    "tau_ref = 4                   # refractory period (msec)\n",
    "Vth     = 1                   # spike threshold (V)\n",
    "V_spike = 0.5                 # spike delta (V)\n",
    "\n",
    "## Stimulus\n",
    "I       = 1.5                 # input current (A)\n",
    "\n",
    "## iterate over each time step\n",
    "for i, t in enumerate(time):\n",
    "  if t > t_rest:\n",
    "  Vm[i] = Vm[i-1] + (-Vm[i-1] + I*Rm) / tau_m * dt\n",
    "  if t >= Vth:\n",
    "    Vm[i] += V_spike\n",
    "    t_rest = t + tau_ref\n",
    "\n",
    "## plot membrane potential trace\n",
    "plot(time, Vm)\n",
    "title('Leaky Integrate-and-Fire Example')\n",
    "ylabel('Membrane Potential (V)')\n",
    "xlabel('Time (msec)')\n",
    "ylim([0,2])\n",
    "show()"
   ]
  },
  {
   "cell_type": "code",
   "execution_count": 8,
   "metadata": {
    "collapsed": false
   },
   "outputs": [
    {
     "data": {
      "text/plain": [
       "array([[ 1.07680897,  0.72574143],\n",
       "       [-0.45783612,  1.20763538]])"
      ]
     },
     "execution_count": 8,
     "metadata": {},
     "output_type": "execute_result"
    }
   ],
   "source": [
    "x = np.random.randn(2,2)\n",
    "x"
   ]
  },
  {
   "cell_type": "code",
   "execution_count": 10,
   "metadata": {
    "collapsed": false
   },
   "outputs": [],
   "source": [
    "x[0] = 5"
   ]
  },
  {
   "cell_type": "code",
   "execution_count": 11,
   "metadata": {
    "collapsed": false
   },
   "outputs": [
    {
     "data": {
      "text/plain": [
       "array([[ 5.        ,  5.        ],\n",
       "       [-0.45783612,  1.20763538]])"
      ]
     },
     "execution_count": 11,
     "metadata": {},
     "output_type": "execute_result"
    }
   ],
   "source": [
    "x"
   ]
  },
  {
   "cell_type": "code",
   "execution_count": null,
   "metadata": {
    "collapsed": true
   },
   "outputs": [],
   "source": []
  }
 ],
 "metadata": {
  "kernelspec": {
   "display_name": "Python 2",
   "language": "python",
   "name": "python2"
  },
  "language_info": {
   "codemirror_mode": {
    "name": "ipython",
    "version": 2
   },
   "file_extension": ".py",
   "mimetype": "text/x-python",
   "name": "python",
   "nbconvert_exporter": "python",
   "pygments_lexer": "ipython2",
   "version": "2.7.3"
  }
 },
 "nbformat": 4,
 "nbformat_minor": 0
}
