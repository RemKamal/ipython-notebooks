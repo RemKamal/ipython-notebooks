{
 "metadata": {
  "name": "",
  "signature": "sha256:1fe530122dfef4c166d77b7128da43c1b6039a4722a1d35c1dfc570fd68b400b"
 },
 "nbformat": 3,
 "nbformat_minor": 0,
 "worksheets": [
  {
   "cells": [
    {
     "cell_type": "markdown",
     "metadata": {},
     "source": [
      "# HW 3"
     ]
    },
    {
     "cell_type": "markdown",
     "metadata": {},
     "source": [
      "## 3c"
     ]
    },
    {
     "cell_type": "code",
     "collapsed": false,
     "input": [
      "cd ~/Classes/CS221/reconstruct"
     ],
     "language": "python",
     "metadata": {},
     "outputs": [
      {
       "output_type": "stream",
       "stream": "stdout",
       "text": [
        "/home/lane/Classes/CS221/reconstruct\n"
       ]
      }
     ],
     "prompt_number": 4
    },
    {
     "cell_type": "code",
     "collapsed": false,
     "input": [
      "#import shell\n",
      "import util\n",
      "import wordsegUtil"
     ],
     "language": "python",
     "metadata": {},
     "outputs": [],
     "prompt_number": 9
    },
    {
     "cell_type": "code",
     "collapsed": false,
     "input": [
      "CORPUS = 'leo-will.txt'\n",
      "unigramCost, bigramCost = wordsegUtil.makeLanguageModels(CORPUS)"
     ],
     "language": "python",
     "metadata": {},
     "outputs": [],
     "prompt_number": 11
    },
    {
     "cell_type": "code",
     "collapsed": false,
     "input": [
      "possibleFills = wordsegUtil.makeInverseRemovalDictionary(CORPUS, 'aeiou')"
     ],
     "language": "python",
     "metadata": {},
     "outputs": [],
     "prompt_number": 12
    },
    {
     "cell_type": "code",
     "collapsed": false,
     "input": [
      "bigramCost('-BEGIN-','i')"
     ],
     "language": "python",
     "metadata": {},
     "outputs": [
      {
       "metadata": {},
       "output_type": "pyout",
       "prompt_number": 20,
       "text": [
        "6.972706988361324"
       ]
      }
     ],
     "prompt_number": 20
    },
    {
     "cell_type": "code",
     "collapsed": false,
     "input": [
      "possibleFills('tht')"
     ],
     "language": "python",
     "metadata": {},
     "outputs": [
      {
       "metadata": {},
       "output_type": "pyout",
       "prompt_number": 22,
       "text": [
        "{'that'}"
       ]
      }
     ],
     "prompt_number": 22
    },
    {
     "cell_type": "code",
     "collapsed": false,
     "input": [
      "query = 'thtsmnthcrnr'"
     ],
     "language": "python",
     "metadata": {},
     "outputs": [],
     "prompt_number": 23
    },
    {
     "cell_type": "code",
     "collapsed": false,
     "input": [
      "len(query)"
     ],
     "language": "python",
     "metadata": {},
     "outputs": [
      {
       "metadata": {},
       "output_type": "pyout",
       "prompt_number": 32,
       "text": [
        "12"
       ]
      }
     ],
     "prompt_number": 32
    },
    {
     "cell_type": "code",
     "collapsed": false,
     "input": [
      "query[1:2]"
     ],
     "language": "python",
     "metadata": {},
     "outputs": [
      {
       "metadata": {},
       "output_type": "pyout",
       "prompt_number": 41,
       "text": [
        "'h'"
       ]
      }
     ],
     "prompt_number": 41
    },
    {
     "cell_type": "code",
     "collapsed": false,
     "input": [
      "state = (('-BEGIN-','t'),1)"
     ],
     "language": "python",
     "metadata": {},
     "outputs": [],
     "prompt_number": 48
    },
    {
     "cell_type": "code",
     "collapsed": false,
     "input": [
      "for l in xrange(state[1]+1,len(query)+1):\n",
      "    print (query[state[1]:l],l)"
     ],
     "language": "python",
     "metadata": {},
     "outputs": [
      {
       "output_type": "stream",
       "stream": "stdout",
       "text": [
        "('h', 2)\n",
        "('ht', 3)\n",
        "('hts', 4)\n",
        "('htsm', 5)\n",
        "('htsmn', 6)\n",
        "('htsmnt', 7)\n",
        "('htsmnth', 8)\n",
        "('htsmnthc', 9)\n",
        "('htsmnthcr', 10)\n",
        "('htsmnthcrn', 11)\n",
        "('htsmnthcrnr', 12)\n"
       ]
      }
     ],
     "prompt_number": 56
    },
    {
     "cell_type": "code",
     "collapsed": false,
     "input": [
      "class JointSegmentationInsertionProblem(util.SearchProblem):\n",
      "    def __init__(self, query, bigramCost, possibleFills):\n",
      "        self.query = query\n",
      "        self.bigramCost = bigramCost\n",
      "        self.possibleFills = possibleFills\n",
      "\n",
      "    # state is ([last two reconstructed words], index of next query letter)\n",
      "    def startState(self):\n",
      "        # BEGIN_YOUR_CODE (around 5 lines of code expected)\n",
      "        return (('-BEGIN-', ''),0)\n",
      "        #return (('-BEGIN-', self.query[0]),1)\n",
      "        # END_YOUR_CODE\n",
      "\n",
      "    def isGoal(self, state):\n",
      "        # BEGIN_YOUR_CODE (around 5 lines of code expected)\n",
      "        if state[1] == len(self.query):\n",
      "            return True\n",
      "        else:\n",
      "            return False\n",
      "        # END_YOUR_CODE\n",
      "\n",
      "    def succAndCost(self, state):\n",
      "        # BEGIN_YOUR_CODE (around 15 lines of code expected)\n",
      "        allTuples = []\n",
      "        for l in xrange(state[1]+1,len(self.query)+1):\n",
      "            # reconstructions adding next l letters to last word\n",
      "            for p in self.possibleFills(state[0][1]+self.query[state[1]:l]):\n",
      "                action = p\n",
      "                newState = ((state[0][0],p),l)\n",
      "                cost = self.bigramCost(state[0][0],p)\n",
      "                allTuples.append((action,newState,cost))\n",
      "            \n",
      "            # reconstructions adding next l letters as new word\n",
      "            for p in self.possibleFills(self.query[state[1]:l]):\n",
      "                action = p\n",
      "                newState = ((state[0][1],p),l)\n",
      "                cost = self.bigramCost(state[0][1],p)\n",
      "                allTuples.append((action,newState,cost))\n",
      "        return allTuples\n",
      "        \n",
      "        \n",
      "#         nextLetter = self.query[state[1]]\n",
      "        \n",
      "#         # reconstructions by adding nextLetter to last word\n",
      "#         withNextLetter = state[0][1] + nextLetter\n",
      "#         possibleNoSpace = self.possibleFills(withNextLetter)\n",
      "#         #possibleNoSpace.update({nextLetter})\n",
      "#         for p in possibleNoSpace:\n",
      "#             action = (p,0)\n",
      "#             newState = ((state[0][0], p), state[1]+1)\n",
      "#             cost = self.bigramCost(state[0][0],p)\n",
      "#             allTuples.append((action, newState, cost))\n",
      "#         # reconstructions by adding nextLetter as new word\n",
      "#         possibleSpace = self.possibleFills(nextLetter)\n",
      "#         #possibleSpace.update({nextLetter})\n",
      "#         for p in possibleSpace:\n",
      "#             action = (p,1)\n",
      "#             newState = ((state[0][1], p), state[1]+1)\n",
      "#             cost = self.bigramCost(state[0][1],p)\n",
      "#             allTuples.append((action, newState, cost))\n",
      "#         return allTuples\n",
      "        # END_YOUR_CODE\n",
      "\n",
      "def segmentAndInsert(query, bigramCost, possibleFills):\n",
      "    if len(query) == 0:\n",
      "        return ''\n",
      "\n",
      "    # BEGIN_YOUR_CODE (around 5 lines of code expected)\n",
      "    ucs = util.UniformCostSearch(verbose=1)\n",
      "    ucs.solve(JointSegmentationInsertionProblem(query, bigramCost, possibleFills))\n",
      "    return ' '.join([p for p in ucs.actions])\n",
      "    # END_YOUR_CODE\n"
     ],
     "language": "python",
     "metadata": {},
     "outputs": [],
     "prompt_number": 116
    },
    {
     "cell_type": "code",
     "collapsed": false,
     "input": [
      "segmentAndInsert('thtsmn', bigramCost, possibleFills)"
     ],
     "language": "python",
     "metadata": {},
     "outputs": [
      {
       "output_type": "stream",
       "stream": "stdout",
       "text": [
        "Exploring (('-BEGIN-', ''), 0) with pastCost 0\n",
        "Exploring (('-BEGIN-', 'the'), 2) with pastCost 5.44502334521\n",
        "Exploring (('-BEGIN-', 'to'), 1) with pastCost 6.67974571583\n",
        "Exploring (('-BEGIN-', 'that'), 3) with pastCost 6.94698209712\n",
        "Exploring (('-BEGIN-', 'it'), 1) with pastCost 7.36925432355\n",
        "Exploring (('-BEGIN-', 'at'), 1) with pastCost 7.63065053373\n",
        "Exploring (('-BEGIN-', 'thats'), 4) with pastCost 9.0886368233\n",
        "Exploring (('-BEGIN-', 'out'), 1) with pastCost 9.14420667446\n",
        "Exploring (('-BEGIN-', 'thou'), 2) with pastCost 9.92696601371\n",
        "Exploring (('-BEGIN-', 'too'), 1) with pastCost 10.1346053785\n",
        "Exploring (('-BEGIN-', 'tea'), 1) with pastCost 11.6009424473\n",
        "Exploring (('-BEGIN-', 'th'), 2) with pastCost 11.6009424473\n",
        "Exploring (('-BEGIN-', 'eat'), 1) with pastCost 12.0064075554\n",
        "Exploring (('-BEGIN-', 'thee'), 2) with pastCost 12.0064075554\n",
        "Exploring (('-BEGIN-', 'et'), 1) with pastCost 12.6995547359\n",
        "Exploring (('-BEGIN-', 't'), 1) with pastCost 12.6995547359\n",
        "Exploring (('', 'at'), 1) with pastCost 13.3046849342\n",
        "Exploring (('', 'ate'), 1) with pastCost 13.3046849342\n",
        "Exploring (('', 'eat'), 1) with pastCost 13.3046849342\n",
        "Exploring (('', 'et'), 1) with pastCost 13.3046849342\n",
        "Exploring (('', 'eut'), 1) with pastCost 13.3046849342\n",
        "Exploring (('', 'it'), 1) with pastCost 13.3046849342\n",
        "Exploring (('', 'oath'), 2) with pastCost 13.3046849342\n",
        "Exploring (('', 'out'), 1) with pastCost 13.3046849342\n",
        "Exploring (('', 't'), 1) with pastCost 13.3046849342\n",
        "Exploring (('', 'ta'), 1) with pastCost 13.3046849342\n",
        "Exploring (('', 'tea'), 1) with pastCost 13.3046849342\n",
        "Exploring (('', 'th'), 2) with pastCost 13.3046849342\n",
        "Exploring (('', 'that'), 3) with pastCost 13.3046849342\n",
        "Exploring (('', 'thats'), 4) with pastCost 13.3046849342\n",
        "Exploring (('', 'the'), 2) with pastCost 13.3046849342\n",
        "Exploring (('', 'thee'), 2) with pastCost 13.3046849342\n",
        "Exploring (('', 'thou'), 2) with pastCost 13.3046849342\n",
        "Exploring (('', 'ti'), 1) with pastCost 13.3046849342\n",
        "Exploring (('', 'tie'), 1) with pastCost 13.3046849342\n",
        "Exploring (('', 'to'), 1) with pastCost 13.3046849342\n",
        "Exploring (('', 'toe'), 1) with pastCost 13.3046849342\n",
        "Exploring (('', 'toi'), 1) with pastCost 13.3046849342\n",
        "Exploring (('', 'too'), 1) with pastCost 13.3046849342\n",
        "Exploring (('', 'tu'), 1) with pastCost 13.3046849342\n",
        "Exploring (('', 'ut'), 1) with pastCost 13.3046849342\n",
        "Exploring (('-BEGIN-', 'ate'), 1) with pastCost 13.3927019165\n",
        "Exploring (('-BEGIN-', 'eut'), 1) with pastCost 13.3927019165\n",
        "Exploring (('-BEGIN-', 'oath'), 2) with pastCost 13.3927019165\n",
        "Exploring (('-BEGIN-', 'ta'), 1) with pastCost 13.3927019165\n",
        "Exploring (('-BEGIN-', 'ti'), 1) with pastCost 13.3927019165\n",
        "Exploring (('-BEGIN-', 'tie'), 1) with pastCost 13.3927019165\n",
        "Exploring (('-BEGIN-', 'toe'), 1) with pastCost 13.3927019165\n",
        "Exploring (('-BEGIN-', 'toi'), 1) with pastCost 13.3927019165\n",
        "Exploring (('-BEGIN-', 'tu'), 1) with pastCost 13.3927019165\n",
        "Exploring (('-BEGIN-', 'ut'), 1) with pastCost 13.3927019165\n",
        "Exploring (('that', 'is'), 4) with pastCost 14.7672669453\n",
        "Exploring (('it', 'he'), 2) with pastCost 16.3383532967\n",
        "Exploring (('the', 'tea'), 3) with pastCost 16.4042915983\n",
        "Exploring (('that', 'same'), 5) with pastCost 16.6008735245\n",
        "Exploring (('that', 'as'), 4) with pastCost 17.0063386326\n",
        "Exploring (('that', 'some'), 5) with pastCost 17.625377841\n",
        "Exploring (('the', 'oats'), 4) with pastCost 17.7035745824\n",
        "Exploring (('the', 'toe'), 3) with pastCost 17.7035745824\n",
        "Exploring (('that', 'so'), 4) with pastCost 17.8665398978\n",
        "Exploring (('to', 'he'), 2) with pastCost 18.0651462033\n",
        "Exploring (('the', 'too'), 3) with pastCost 18.1090396905\n",
        "Exploring (('that', 'someone'), 6) with pastCost 18.6549972582\n",
        "numStatesExplored = 63\n",
        "totalCost = 18.6549972582\n",
        "actions = ['that', 'someone']\n"
       ]
      },
      {
       "metadata": {},
       "output_type": "pyout",
       "prompt_number": 94,
       "text": [
        "'that someone'"
       ]
      }
     ],
     "prompt_number": 94
    },
    {
     "cell_type": "code",
     "collapsed": false,
     "input": [
      "segmentAndInsert('mgnllthppl', bigramCost, possibleFills)"
     ],
     "language": "python",
     "metadata": {},
     "outputs": [
      {
       "output_type": "stream",
       "stream": "stdout",
       "text": [
        "Exploring (('-BEGIN-', ''), 0) with pastCost 0\n",
        "Exploring (('-BEGIN-', 'me'), 1) with pastCost 9.5215009056\n",
        "Exploring (('-BEGIN-', 'am'), 1) with pastCost 10.2572077006\n",
        "Exploring (('-BEGIN-', 'im'), 1) with pastCost 10.6201131943\n",
        "Exploring (('-BEGIN-', 'aim'), 1) with pastCost 11.6009424473\n",
        "Exploring (('-BEGIN-', 'ma'), 1) with pastCost 11.6009424473\n",
        "Exploring (('-BEGIN-', 'imagine'), 3) with pastCost 12.0064075554\n",
        "Exploring (('-BEGIN-', 'm'), 1) with pastCost 12.0064075554\n",
        "Exploring (('-BEGIN-', 'aime'), 1) with pastCost 12.6995547359\n",
        "Exploring (('-BEGIN-', 'ami'), 1) with pastCost 12.6995547359\n",
        "Exploring (('-BEGIN-', 'image'), 2) with pastCost 12.6995547359\n",
        "Exploring (('-BEGIN-', 'mi'), 1) with pastCost 12.6995547359\n",
        "Exploring (('', 'aim'), 1) with pastCost 13.3046849342\n",
        "Exploring (('', 'aime'), 1) with pastCost 13.3046849342\n",
        "Exploring (('', 'am'), 1) with pastCost 13.3046849342\n",
        "Exploring (('', 'ame'), 1) with pastCost 13.3046849342\n",
        "Exploring (('', 'ami'), 1) with pastCost 13.3046849342\n",
        "Exploring (('', 'amie'), 1) with pastCost 13.3046849342\n",
        "Exploring (('', 'em'), 1) with pastCost 13.3046849342\n",
        "Exploring (('', 'im'), 1) with pastCost 13.3046849342\n",
        "Exploring (('', 'image'), 2) with pastCost 13.3046849342\n",
        "Exploring (('', 'imagine'), 3) with pastCost 13.3046849342\n",
        "Exploring (('', 'm'), 1) with pastCost 13.3046849342\n",
        "Exploring (('', 'ma'), 1) with pastCost 13.3046849342\n",
        "Exploring (('', 'magnolia'), 4) with pastCost 13.3046849342\n",
        "Exploring (('', 'me'), 1) with pastCost 13.3046849342\n",
        "Exploring (('', 'mi'), 1) with pastCost 13.3046849342\n",
        "Exploring (('', 'mio'), 1) with pastCost 13.3046849342\n",
        "Exploring (('', 'mo'), 1) with pastCost 13.3046849342\n",
        "Exploring (('', 'moe'), 1) with pastCost 13.3046849342\n",
        "Exploring (('', 'mug'), 2) with pastCost 13.3046849342\n",
        "Exploring (('', 'om'), 1) with pastCost 13.3046849342\n",
        "Exploring (('-BEGIN-', 'ame'), 1) with pastCost 13.3927019165\n",
        "Exploring (('-BEGIN-', 'amie'), 1) with pastCost 13.3927019165\n",
        "Exploring (('-BEGIN-', 'em'), 1) with pastCost 13.3927019165\n",
        "Exploring (('-BEGIN-', 'magnolia'), 4) with pastCost 13.3927019165\n",
        "Exploring (('-BEGIN-', 'mio'), 1) with pastCost 13.3927019165\n",
        "Exploring (('-BEGIN-', 'mo'), 1) with pastCost 13.3927019165\n",
        "Exploring (('-BEGIN-', 'moe'), 1) with pastCost 13.3927019165\n",
        "Exploring (('-BEGIN-', 'mug'), 2) with pastCost 13.3927019165\n",
        "Exploring (('-BEGIN-', 'om'), 1) with pastCost 13.3927019165\n",
        "Exploring (('me', 'go'), 2) with pastCost 21.2190170177\n",
        "Exploring (('me', 'again'), 3) with pastCost 21.7298426415\n",
        "Exploring (('am', 'gone'), 3) with pastCost 22.1765611433\n",
        "Exploring (('me', 'age'), 2) with pastCost 22.8284549301\n",
        "Exploring (('me', 'ago'), 2) with pastCost 22.8284549301\n",
        "Exploring (('me', 'ague'), 2) with pastCost 22.8284549301\n",
        "Exploring (('me', 'eugene'), 3) with pastCost 22.8284549301\n",
        "Exploring (('me', 'g'), 2) with pastCost 22.8284549301\n",
        "Exploring (('me', 'ga'), 2) with pastCost 22.8284549301\n",
        "Exploring (('me', 'gain'), 3) with pastCost 22.8284549301\n",
        "Exploring (('me', 'gee'), 2) with pastCost 22.8284549301\n",
        "Exploring (('me', 'genial'), 4) with pastCost 22.8284549301\n",
        "Exploring (('me', 'genoa'), 3) with pastCost 22.8284549301\n",
        "Exploring (('me', 'gi'), 2) with pastCost 22.8284549301\n",
        "Exploring (('me', 'gone'), 3) with pastCost 22.8284549301\n",
        "Exploring (('me', 'guai'), 2) with pastCost 22.8284549301\n",
        "Exploring (('me', 'gun'), 3) with pastCost 22.8284549301\n",
        "Exploring (('am', 'again'), 3) with pastCost 22.8697083238\n",
        "Exploring (('am', 'age'), 2) with pastCost 23.5628555044\n",
        "Exploring (('am', 'ago'), 2) with pastCost 23.5628555044\n",
        "Exploring (('am', 'ague'), 2) with pastCost 23.5628555044\n",
        "Exploring (('am', 'eugene'), 3) with pastCost 23.5628555044\n",
        "Exploring (('am', 'g'), 2) with pastCost 23.5628555044\n",
        "Exploring (('am', 'ga'), 2) with pastCost 23.5628555044\n",
        "Exploring (('am', 'gain'), 3) with pastCost 23.5628555044\n",
        "Exploring (('am', 'gee'), 2) with pastCost 23.5628555044\n",
        "Exploring (('am', 'genial'), 4) with pastCost 23.5628555044\n",
        "Exploring (('am', 'genoa'), 3) with pastCost 23.5628555044\n",
        "Exploring (('am', 'gi'), 2) with pastCost 23.5628555044\n",
        "Exploring (('am', 'go'), 2) with pastCost 23.5628555044\n",
        "Exploring (('am', 'guai'), 2) with pastCost 23.5628555044\n",
        "Exploring (('am', 'gun'), 3) with pastCost 23.5628555044\n",
        "Exploring (('im', 'again'), 3) with pastCost 23.9249631149\n",
        "Exploring (('im', 'age'), 2) with pastCost 23.9249631149\n",
        "Exploring (('im', 'ago'), 2) with pastCost 23.9249631149\n",
        "Exploring (('im', 'ague'), 2) with pastCost 23.9249631149\n",
        "Exploring (('im', 'eugene'), 3) with pastCost 23.9249631149\n",
        "Exploring (('im', 'g'), 2) with pastCost 23.9249631149\n",
        "Exploring (('im', 'ga'), 2) with pastCost 23.9249631149\n",
        "Exploring (('im', 'gain'), 3) with pastCost 23.9249631149\n",
        "Exploring (('im', 'gee'), 2) with pastCost 23.9249631149\n",
        "Exploring (('im', 'genial'), 4) with pastCost 23.9249631149\n",
        "Exploring (('im', 'genoa'), 3) with pastCost 23.9249631149\n",
        "Exploring (('im', 'gi'), 2) with pastCost 23.9249631149\n",
        "Exploring (('im', 'go'), 2) with pastCost 23.9249631149\n",
        "Exploring (('im', 'gone'), 3) with pastCost 23.9249631149\n",
        "Exploring (('im', 'guai'), 2) with pastCost 23.9249631149\n",
        "Exploring (('im', 'gun'), 3) with pastCost 23.9249631149\n",
        "Exploring (('ma', 'again'), 3) with pastCost 24.9056623809\n",
        "Exploring (('ma', 'age'), 2) with pastCost 24.9056623809\n",
        "Exploring (('ma', 'ago'), 2) with pastCost 24.9056623809\n",
        "Exploring (('ma', 'ague'), 2) with pastCost 24.9056623809\n",
        "Exploring (('ma', 'eugene'), 3) with pastCost 24.9056623809\n",
        "Exploring (('ma', 'g'), 2) with pastCost 24.9056623809\n",
        "Exploring (('ma', 'ga'), 2) with pastCost 24.9056623809\n",
        "Exploring (('ma', 'gain'), 3) with pastCost 24.9056623809\n",
        "Exploring (('ma', 'gee'), 2) with pastCost 24.9056623809\n",
        "Exploring (('ma', 'genial'), 4) with pastCost 24.9056623809\n",
        "Exploring (('ma', 'genoa'), 3) with pastCost 24.9056623809\n",
        "Exploring (('ma', 'gi'), 2) with pastCost 24.9056623809\n",
        "Exploring (('ma', 'go'), 2) with pastCost 24.9056623809\n",
        "Exploring (('ma', 'gone'), 3) with pastCost 24.9056623809\n",
        "Exploring (('ma', 'guai'), 2) with pastCost 24.9056623809\n",
        "Exploring (('ma', 'gun'), 3) with pastCost 24.9056623809\n",
        "Exploring (('aim', 'again'), 3) with pastCost 24.9057823695\n",
        "Exploring (('aim', 'age'), 2) with pastCost 24.9057823695\n",
        "Exploring (('aim', 'ago'), 2) with pastCost 24.9057823695\n",
        "Exploring (('aim', 'ague'), 2) with pastCost 24.9057823695\n",
        "Exploring (('aim', 'eugene'), 3) with pastCost 24.9057823695\n",
        "Exploring (('aim', 'g'), 2) with pastCost 24.9057823695\n",
        "Exploring (('aim', 'ga'), 2) with pastCost 24.9057823695\n",
        "Exploring (('aim', 'gain'), 3) with pastCost 24.9057823695\n",
        "Exploring (('aim', 'gee'), 2) with pastCost 24.9057823695\n",
        "Exploring (('aim', 'genial'), 4) with pastCost 24.9057823695\n",
        "Exploring (('aim', 'genoa'), 3) with pastCost 24.9057823695\n",
        "Exploring (('aim', 'gi'), 2) with pastCost 24.9057823695\n",
        "Exploring (('aim', 'go'), 2) with pastCost 24.9057823695\n",
        "Exploring (('aim', 'gone'), 3) with pastCost 24.9057823695\n",
        "Exploring (('aim', 'guai'), 2) with pastCost 24.9057823695\n",
        "Exploring (('aim', 'gun'), 3) with pastCost 24.9057823695\n",
        "Exploring (('m', 'again'), 3) with pastCost 25.3111208225\n",
        "Exploring (('m', 'age'), 2) with pastCost 25.3111208225\n",
        "Exploring (('m', 'ago'), 2) with pastCost 25.3111208225\n",
        "Exploring (('m', 'ague'), 2) with pastCost 25.3111208225\n",
        "Exploring (('m', 'eugene'), 3) with pastCost 25.3111208225\n",
        "Exploring (('m', 'g'), 2) with pastCost 25.3111208225\n",
        "Exploring (('m', 'ga'), 2) with pastCost 25.3111208225\n",
        "Exploring (('m', 'gain'), 3) with pastCost 25.3111208225\n",
        "Exploring (('m', 'gee'), 2) with pastCost 25.3111208225\n",
        "Exploring (('m', 'genial'), 4) with pastCost 25.3111208225\n",
        "Exploring (('m', 'genoa'), 3) with pastCost 25.3111208225\n",
        "Exploring (('m', 'gi'), 2) with pastCost 25.3111208225\n",
        "Exploring (('m', 'go'), 2) with pastCost 25.3111208225\n",
        "Exploring (('m', 'gone'), 3) with pastCost 25.3111208225\n",
        "Exploring (('m', 'guai'), 2) with pastCost 25.3111208225\n",
        "Exploring (('m', 'gun'), 3) with pastCost 25.3111208225\n",
        "Exploring (('imagine', 'all'), 5) with pastCost 25.3111874851\n",
        "Exploring (('imagine', 'alla'), 5) with pastCost 25.3111874851\n",
        "Exploring (('imagine', 'allait'), 6) with pastCost 25.3111874851\n",
        "Exploring (('imagine', 'alliee'), 5) with pastCost 25.3111874851\n",
        "Exploring (('imagine', 'allot'), 6) with pastCost 25.3111874851\n",
        "Exploring (('imagine', 'ell'), 5) with pastCost 25.3111874851\n",
        "Exploring (('imagine', 'il'), 4) with pastCost 25.3111874851\n",
        "Exploring (('imagine', 'ill'), 5) with pastCost 25.3111874851\n",
        "Exploring (('imagine', 'l'), 4) with pastCost 25.3111874851\n",
        "Exploring (('imagine', 'la'), 4) with pastCost 25.3111874851\n",
        "Exploring (('imagine', 'le'), 4) with pastCost 25.3111874851\n",
        "Exploring (('imagine', 'lea'), 4) with pastCost 25.3111874851\n",
        "Exploring (('imagine', 'leo'), 4) with pastCost 25.3111874851\n",
        "Exploring (('imagine', 'lie'), 4) with pastCost 25.3111874851\n",
        "Exploring (('imagine', 'lieu'), 4) with pastCost 25.3111874851\n",
        "Exploring (('imagine', 'lo'), 4) with pastCost 25.3111874851\n",
        "Exploring (('imagine', 'loi'), 4) with pastCost 25.3111874851\n",
        "Exploring (('imagine', 'lu'), 4) with pastCost 25.3111874851\n",
        "Exploring (('imagine', 'lui'), 4) with pastCost 25.3111874851\n",
        "Exploring (('imagine', 'oil'), 4) with pastCost 25.3111874851\n",
        "Exploring (('mi', 'again'), 3) with pastCost 26.0042430035\n",
        "Exploring (('mi', 'age'), 2) with pastCost 26.0042430035\n",
        "Exploring (('mi', 'ago'), 2) with pastCost 26.0042430035\n",
        "Exploring (('mi', 'ague'), 2) with pastCost 26.0042430035\n",
        "Exploring (('mi', 'eugene'), 3) with pastCost 26.0042430035\n",
        "Exploring (('mi', 'g'), 2) with pastCost 26.0042430035\n",
        "Exploring (('mi', 'ga'), 2) with pastCost 26.0042430035\n",
        "Exploring (('mi', 'gain'), 3) with pastCost 26.0042430035\n",
        "Exploring (('mi', 'gee'), 2) with pastCost 26.0042430035\n",
        "Exploring (('mi', 'genial'), 4) with pastCost 26.0042430035\n",
        "Exploring (('mi', 'genoa'), 3) with pastCost 26.0042430035\n",
        "Exploring (('mi', 'gi'), 2) with pastCost 26.0042430035\n",
        "Exploring (('mi', 'go'), 2) with pastCost 26.0042430035\n",
        "Exploring (('mi', 'gone'), 3) with pastCost 26.0042430035\n",
        "Exploring (('mi', 'guai'), 2) with pastCost 26.0042430035\n",
        "Exploring (('mi', 'gun'), 3) with pastCost 26.0042430035\n",
        "Exploring (('ami', 'again'), 3) with pastCost 26.0042446701\n",
        "Exploring (('ami', 'age'), 2) with pastCost 26.0042446701\n",
        "Exploring (('ami', 'ago'), 2) with pastCost 26.0042446701\n",
        "Exploring (('ami', 'ague'), 2) with pastCost 26.0042446701\n",
        "Exploring (('ami', 'eugene'), 3) with pastCost 26.0042446701\n",
        "Exploring (('ami', 'g'), 2) with pastCost 26.0042446701\n",
        "Exploring (('ami', 'ga'), 2) with pastCost 26.0042446701\n",
        "Exploring (('ami', 'gain'), 3) with pastCost 26.0042446701\n",
        "Exploring (('ami', 'gee'), 2) with pastCost 26.0042446701\n",
        "Exploring (('ami', 'genial'), 4) with pastCost 26.0042446701\n",
        "Exploring (('ami', 'genoa'), 3) with pastCost 26.0042446701\n",
        "Exploring (('ami', 'gi'), 2) with pastCost 26.0042446701\n",
        "Exploring (('ami', 'go'), 2) with pastCost 26.0042446701\n",
        "Exploring (('ami', 'gone'), 3) with pastCost 26.0042446701\n",
        "Exploring (('ami', 'guai'), 2) with pastCost 26.0042446701\n",
        "Exploring (('ami', 'gun'), 3) with pastCost 26.0042446701\n",
        "Exploring (('image', 'an'), 3) with pastCost 26.0042463368\n",
        "Exploring (('image', 'een'), 3) with pastCost 26.0042463368\n",
        "Exploring (('image', 'ein'), 3) with pastCost 26.0042463368\n",
        "Exploring (('image', 'en'), 3) with pastCost 26.0042463368\n",
        "Exploring (('image', 'in'), 3) with pastCost 26.0042463368\n",
        "Exploring (('image', 'n'), 3) with pastCost 26.0042463368\n",
        "Exploring (('image', 'na'), 3) with pastCost 26.0042463368\n",
        "Exploring (('image', 'nai'), 3) with pastCost 26.0042463368\n",
        "Exploring (('image', 'nail'), 4) with pastCost 26.0042463368\n",
        "Exploring (('image', 'ne'), 3) with pastCost 26.0042463368\n",
        "Exploring (('image', 'nell'), 5) with pastCost 26.0042463368\n",
        "Exploring (('image', 'ni'), 3) with pastCost 26.0042463368\n",
        "Exploring (('image', 'no'), 3) with pastCost 26.0042463368\n",
        "Exploring (('image', 'on'), 3) with pastCost 26.0042463368\n",
        "Exploring (('image', 'one'), 3) with pastCost 26.0042463368\n",
        "Exploring (('image', 'un'), 3) with pastCost 26.0042463368"
       ]
      },
      {
       "output_type": "stream",
       "stream": "stdout",
       "text": [
        "\n",
        "Exploring (('image', 'une'), 3) with pastCost 26.0042463368\n",
        "Exploring (('aime', 'again'), 3) with pastCost 26.0042480034\n",
        "Exploring (('aime', 'age'), 2) with pastCost 26.0042480034\n",
        "Exploring (('aime', 'ago'), 2) with pastCost 26.0042480034\n",
        "Exploring (('aime', 'ague'), 2) with pastCost 26.0042480034\n",
        "Exploring (('aime', 'eugene'), 3) with pastCost 26.0042480034\n",
        "Exploring (('aime', 'g'), 2) with pastCost 26.0042480034\n",
        "Exploring (('aime', 'ga'), 2) with pastCost 26.0042480034\n",
        "Exploring (('aime', 'gain'), 3) with pastCost 26.0042480034\n",
        "Exploring (('aime', 'gee'), 2) with pastCost 26.0042480034\n",
        "Exploring (('aime', 'genial'), 4) with pastCost 26.0042480034\n",
        "Exploring (('aime', 'genoa'), 3) with pastCost 26.0042480034\n",
        "Exploring (('aime', 'gi'), 2) with pastCost 26.0042480034\n",
        "Exploring (('aime', 'go'), 2) with pastCost 26.0042480034\n",
        "Exploring (('aime', 'gone'), 3) with pastCost 26.0042480034\n",
        "Exploring (('aime', 'guai'), 2) with pastCost 26.0042480034\n",
        "Exploring (('aime', 'gun'), 3) with pastCost 26.0042480034\n",
        "Exploring (('magnolia', 'alte'), 6) with pastCost 26.6093698684\n",
        "Exploring (('magnolia', 'elite'), 6) with pastCost 26.6093698684\n",
        "Exploring (('magnolia', 'il'), 5) with pastCost 26.6093698684\n",
        "Exploring (('magnolia', 'l'), 5) with pastCost 26.6093698684\n",
        "Exploring (('magnolia', 'la'), 5) with pastCost 26.6093698684\n",
        "Exploring (('magnolia', 'late'), 6) with pastCost 26.6093698684\n",
        "Exploring (('magnolia', 'lath'), 7) with pastCost 26.6093698684\n",
        "Exploring (('magnolia', 'lathe'), 7) with pastCost 26.6093698684\n",
        "Exploring (('magnolia', 'le'), 5) with pastCost 26.6093698684\n",
        "Exploring (('magnolia', 'lea'), 5) with pastCost 26.6093698684\n",
        "Exploring (('magnolia', 'leo'), 5) with pastCost 26.6093698684\n",
        "Exploring (('magnolia', 'let'), 6) with pastCost 26.6093698684\n",
        "Exploring (('magnolia', 'lie'), 5) with pastCost 26.6093698684\n",
        "Exploring (('magnolia', 'lieu'), 5) with pastCost 26.6093698684\n",
        "Exploring (('magnolia', 'lit'), 6) with pastCost 26.6093698684\n",
        "Exploring (('magnolia', 'lo'), 5) with pastCost 26.6093698684\n",
        "Exploring (('magnolia', 'loathe'), 7) with pastCost 26.6093698684\n",
        "Exploring (('magnolia', 'loi'), 5) with pastCost 26.6093698684\n",
        "Exploring (('magnolia', 'loot'), 6) with pastCost 26.6093698684\n",
        "Exploring (('magnolia', 'lot'), 6) with pastCost 26.6093698684\n",
        "Exploring (('magnolia', 'lout'), 6) with pastCost 26.6093698684\n",
        "Exploring (('magnolia', 'lu'), 5) with pastCost 26.6093698684\n",
        "Exploring (('magnolia', 'lui'), 5) with pastCost 26.6093698684\n",
        "Exploring (('magnolia', 'oil'), 5) with pastCost 26.6093698684\n",
        "Exploring (('mug', 'an'), 3) with pastCost 26.6093698684\n",
        "Exploring (('mug', 'een'), 3) with pastCost 26.6093698684\n",
        "Exploring (('mug', 'ein'), 3) with pastCost 26.6093698684\n",
        "Exploring (('mug', 'en'), 3) with pastCost 26.6093698684\n",
        "Exploring (('mug', 'in'), 3) with pastCost 26.6093698684\n",
        "Exploring (('mug', 'n'), 3) with pastCost 26.6093698684\n",
        "Exploring (('mug', 'na'), 3) with pastCost 26.6093698684\n",
        "Exploring (('mug', 'nai'), 3) with pastCost 26.6093698684\n",
        "Exploring (('mug', 'nail'), 4) with pastCost 26.6093698684\n",
        "Exploring (('mug', 'ne'), 3) with pastCost 26.6093698684\n",
        "Exploring (('mug', 'nell'), 5) with pastCost 26.6093698684\n",
        "Exploring (('mug', 'ni'), 3) with pastCost 26.6093698684\n",
        "Exploring (('mug', 'no'), 3) with pastCost 26.6093698684\n",
        "Exploring (('mug', 'on'), 3) with pastCost 26.6093698684\n",
        "Exploring (('mug', 'one'), 3) with pastCost 26.6093698684\n",
        "Exploring (('mug', 'un'), 3) with pastCost 26.6093698684\n",
        "Exploring (('mug', 'une'), 3) with pastCost 26.6093698684\n",
        "Exploring (('ame', 'again'), 3) with pastCost 26.6093715351\n",
        "Exploring (('ame', 'age'), 2) with pastCost 26.6093715351\n",
        "Exploring (('ame', 'ago'), 2) with pastCost 26.6093715351\n",
        "Exploring (('ame', 'ague'), 2) with pastCost 26.6093715351\n",
        "Exploring (('ame', 'eugene'), 3) with pastCost 26.6093715351\n",
        "Exploring (('ame', 'g'), 2) with pastCost 26.6093715351\n",
        "Exploring (('ame', 'ga'), 2) with pastCost 26.6093715351\n",
        "Exploring (('ame', 'gain'), 3) with pastCost 26.6093715351\n",
        "Exploring (('ame', 'gee'), 2) with pastCost 26.6093715351\n",
        "Exploring (('ame', 'genial'), 4) with pastCost 26.6093715351\n",
        "Exploring (('ame', 'genoa'), 3) with pastCost 26.6093715351\n",
        "Exploring (('ame', 'gi'), 2) with pastCost 26.6093715351\n",
        "Exploring (('ame', 'go'), 2) with pastCost 26.6093715351\n",
        "Exploring (('ame', 'gone'), 3) with pastCost 26.6093715351\n",
        "Exploring (('ame', 'guai'), 2) with pastCost 26.6093715351\n",
        "Exploring (('ame', 'gun'), 3) with pastCost 26.6093715351\n",
        "Exploring (('mo', 'again'), 3) with pastCost 26.6093715351\n",
        "Exploring (('mo', 'age'), 2) with pastCost 26.6093715351\n",
        "Exploring (('mo', 'ago'), 2) with pastCost 26.6093715351\n",
        "Exploring (('mo', 'ague'), 2) with pastCost 26.6093715351\n",
        "Exploring (('mo', 'eugene'), 3) with pastCost 26.6093715351\n",
        "Exploring (('mo', 'g'), 2) with pastCost 26.6093715351\n",
        "Exploring (('mo', 'ga'), 2) with pastCost 26.6093715351\n",
        "Exploring (('mo', 'gain'), 3) with pastCost 26.6093715351\n",
        "Exploring (('mo', 'gee'), 2) with pastCost 26.6093715351\n",
        "Exploring (('mo', 'genial'), 4) with pastCost 26.6093715351\n",
        "Exploring (('mo', 'genoa'), 3) with pastCost 26.6093715351\n",
        "Exploring (('mo', 'gi'), 2) with pastCost 26.6093715351\n",
        "Exploring (('mo', 'go'), 2) with pastCost 26.6093715351\n",
        "Exploring (('mo', 'gone'), 3) with pastCost 26.6093715351\n",
        "Exploring (('mo', 'guai'), 2) with pastCost 26.6093715351\n",
        "Exploring (('mo', 'gun'), 3) with pastCost 26.6093715351\n",
        "Exploring (('moe', 'again'), 3) with pastCost 26.6093715351\n",
        "Exploring (('moe', 'age'), 2) with pastCost 26.6093715351\n",
        "Exploring (('moe', 'ago'), 2) with pastCost 26.6093715351\n",
        "Exploring (('moe', 'ague'), 2) with pastCost 26.6093715351\n",
        "Exploring (('moe', 'eugene'), 3) with pastCost 26.6093715351\n",
        "Exploring (('moe', 'g'), 2) with pastCost 26.6093715351\n",
        "Exploring (('moe', 'ga'), 2) with pastCost 26.6093715351\n",
        "Exploring (('moe', 'gain'), 3) with pastCost 26.6093715351\n",
        "Exploring (('moe', 'gee'), 2) with pastCost 26.6093715351\n",
        "Exploring (('moe', 'genial'), 4) with pastCost 26.6093715351\n",
        "Exploring (('moe', 'genoa'), 3) with pastCost 26.6093715351\n",
        "Exploring (('moe', 'gi'), 2) with pastCost 26.6093715351\n",
        "Exploring (('moe', 'go'), 2) with pastCost 26.6093715351\n",
        "Exploring (('moe', 'gone'), 3) with pastCost 26.6093715351\n",
        "Exploring (('moe', 'guai'), 2) with pastCost 26.6093715351\n",
        "Exploring (('moe', 'gun'), 3) with pastCost 26.6093715351\n",
        "Exploring (('om', 'again'), 3) with pastCost 26.6093715351\n",
        "Exploring (('om', 'age'), 2) with pastCost 26.6093715351\n",
        "Exploring (('om', 'ago'), 2) with pastCost 26.6093715351\n",
        "Exploring (('om', 'ague'), 2) with pastCost 26.6093715351\n",
        "Exploring (('om', 'eugene'), 3) with pastCost 26.6093715351\n",
        "Exploring (('om', 'g'), 2) with pastCost 26.6093715351\n",
        "Exploring (('om', 'ga'), 2) with pastCost 26.6093715351\n",
        "Exploring (('om', 'gain'), 3) with pastCost 26.6093715351\n",
        "Exploring (('om', 'gee'), 2) with pastCost 26.6093715351\n",
        "Exploring (('om', 'genial'), 4) with pastCost 26.6093715351\n",
        "Exploring (('om', 'genoa'), 3) with pastCost 26.6093715351\n",
        "Exploring (('om', 'gi'), 2) with pastCost 26.6093715351\n",
        "Exploring (('om', 'go'), 2) with pastCost 26.6093715351\n",
        "Exploring (('om', 'gone'), 3) with pastCost 26.6093715351\n",
        "Exploring (('om', 'guai'), 2) with pastCost 26.6093715351\n",
        "Exploring (('om', 'gun'), 3) with pastCost 26.6093715351\n",
        "Exploring (('amie', 'again'), 3) with pastCost 26.6093732017\n",
        "Exploring (('amie', 'age'), 2) with pastCost 26.6093732017\n",
        "Exploring (('amie', 'ago'), 2) with pastCost 26.6093732017\n",
        "Exploring (('amie', 'ague'), 2) with pastCost 26.6093732017\n",
        "Exploring (('amie', 'eugene'), 3) with pastCost 26.6093732017\n",
        "Exploring (('amie', 'g'), 2) with pastCost 26.6093732017\n",
        "Exploring (('amie', 'ga'), 2) with pastCost 26.6093732017\n",
        "Exploring (('amie', 'gain'), 3) with pastCost 26.6093732017\n",
        "Exploring (('amie', 'gee'), 2) with pastCost 26.6093732017\n",
        "Exploring (('amie', 'genial'), 4) with pastCost 26.6093732017\n",
        "Exploring (('amie', 'genoa'), 3) with pastCost 26.6093732017\n",
        "Exploring (('amie', 'gi'), 2) with pastCost 26.6093732017\n",
        "Exploring (('amie', 'go'), 2) with pastCost 26.6093732017\n",
        "Exploring (('amie', 'gone'), 3) with pastCost 26.6093732017\n",
        "Exploring (('amie', 'guai'), 2) with pastCost 26.6093732017\n",
        "Exploring (('amie', 'gun'), 3) with pastCost 26.6093732017\n",
        "Exploring (('mio', 'again'), 3) with pastCost 26.6093732017\n",
        "Exploring (('mio', 'age'), 2) with pastCost 26.6093732017\n",
        "Exploring (('mio', 'ago'), 2) with pastCost 26.6093732017\n",
        "Exploring (('mio', 'ague'), 2) with pastCost 26.6093732017\n",
        "Exploring (('mio', 'eugene'), 3) with pastCost 26.6093732017\n",
        "Exploring (('mio', 'g'), 2) with pastCost 26.6093732017\n",
        "Exploring (('mio', 'ga'), 2) with pastCost 26.6093732017\n",
        "Exploring (('mio', 'gain'), 3) with pastCost 26.6093732017\n",
        "Exploring (('mio', 'gee'), 2) with pastCost 26.6093732017\n",
        "Exploring (('mio', 'genial'), 4) with pastCost 26.6093732017\n",
        "Exploring (('mio', 'genoa'), 3) with pastCost 26.6093732017\n",
        "Exploring (('mio', 'gi'), 2) with pastCost 26.6093732017\n",
        "Exploring (('mio', 'go'), 2) with pastCost 26.6093732017\n",
        "Exploring (('mio', 'gone'), 3) with pastCost 26.6093732017\n",
        "Exploring (('mio', 'guai'), 2) with pastCost 26.6093732017\n",
        "Exploring (('mio', 'gun'), 3) with pastCost 26.6093732017\n",
        "Exploring (('em', 'again'), 3) with pastCost 26.6093748684\n",
        "Exploring (('em', 'age'), 2) with pastCost 26.6093748684\n",
        "Exploring (('em', 'ago'), 2) with pastCost 26.6093748684\n",
        "Exploring (('em', 'ague'), 2) with pastCost 26.6093748684\n",
        "Exploring (('em', 'eugene'), 3) with pastCost 26.6093748684\n",
        "Exploring (('em', 'g'), 2) with pastCost 26.6093748684\n",
        "Exploring (('em', 'ga'), 2) with pastCost 26.6093748684\n",
        "Exploring (('em', 'gain'), 3) with pastCost 26.6093748684\n",
        "Exploring (('em', 'gee'), 2) with pastCost 26.6093748684\n",
        "Exploring (('em', 'genial'), 4) with pastCost 26.6093748684\n",
        "Exploring (('em', 'genoa'), 3) with pastCost 26.6093748684\n",
        "Exploring (('em', 'gi'), 2) with pastCost 26.6093748684\n",
        "Exploring (('em', 'go'), 2) with pastCost 26.6093748684\n",
        "Exploring (('em', 'gone'), 3) with pastCost 26.6093748684\n",
        "Exploring (('em', 'guai'), 2) with pastCost 26.6093748684\n",
        "Exploring (('em', 'gun'), 3) with pastCost 26.6093748684\n",
        "Exploring (('go', 'on'), 3) with pastCost 30.1811524078\n",
        "Exploring (('go', 'in'), 3) with pastCost 31.4339153763\n",
        "Exploring (('all', 'the'), 7) with pastCost 32.4239132191\n",
        "Exploring (('again', 'all'), 5) with pastCost 32.9561271585\n",
        "Exploring (('go', 'no'), 3) with pastCost 33.8318106491\n",
        "Exploring (('ago', 'in'), 3) with pastCost 34.5238136123\n",
        "Exploring (('go', 'an'), 3) with pastCost 34.5249578296\n",
        "Exploring (('go', 'een'), 3) with pastCost 34.5249578296\n",
        "Exploring (('go', 'ein'), 3) with pastCost 34.5249578296\n",
        "Exploring (('go', 'en'), 3) with pastCost 34.5249578296\n",
        "Exploring (('go', 'n'), 3) with pastCost 34.5249578296\n",
        "Exploring (('go', 'na'), 3) with pastCost 34.5249578296\n",
        "Exploring (('go', 'nai'), 3) with pastCost 34.5249578296\n",
        "Exploring (('go', 'nail'), 4) with pastCost 34.5249578296\n",
        "Exploring (('go', 'ne'), 3) with pastCost 34.5249578296\n",
        "Exploring (('go', 'nell'), 5) with pastCost 34.5249578296\n",
        "Exploring (('go', 'ni'), 3) with pastCost 34.5249578296\n",
        "Exploring (('go', 'one'), 3) with pastCost 34.5249578296\n",
        "Exploring (('go', 'un'), 3) with pastCost 34.5249578296\n",
        "Exploring (('go', 'une'), 3) with pastCost 34.5249578296\n",
        "Exploring (('again', 'alla'), 5) with pastCost 35.0355687002\n",
        "Exploring (('again', 'allait'), 6) with pastCost 35.0355687002\n",
        "Exploring (('again', 'alliee'), 5) with pastCost 35.0355687002\n",
        "Exploring (('again', 'allot'), 6) with pastCost 35.0355687002\n",
        "Exploring (('again', 'ell'), 5) with pastCost 35.0355687002\n",
        "Exploring (('again', 'il'), 4) with pastCost 35.0355687002\n",
        "Exploring (('again', 'ill'), 5) with pastCost 35.0355687002\n",
        "Exploring (('again', 'l'), 4) with pastCost 35.0355687002\n",
        "Exploring (('again', 'la'), 4) with pastCost 35.0355687002\n",
        "Exploring (('again', 'le'), 4) with pastCost 35.0355687002\n",
        "Exploring (('again', 'lea'), 4) with pastCost 35.0355687002\n",
        "Exploring (('again', 'leo'), 4) with pastCost 35.0355687002\n",
        "Exploring (('again', 'lie'), 4) with pastCost 35.0355687002\n",
        "Exploring (('again', 'lieu'), 4) with pastCost 35.0355687002\n",
        "Exploring (('again', 'lo'), 4) with pastCost 35.0355687002\n",
        "Exploring (('again', 'loi'), 4) with pastCost 35.0355687002\n",
        "Exploring (('again', 'lu'), 4) with pastCost 35.0355687002\n",
        "Exploring (('again', 'lui'), 4) with pastCost 35.0355687002\n",
        "Exploring (('again', 'oil'), 4) with pastCost 35.0355687002\n",
        "Exploring (('in', 'all'), 5) with pastCost 35.2124960002\n",
        "Exploring (('all', 'at'), 6) with pastCost 35.4423035166\n",
        "Exploring (('all', 'to'), 6) with pastCost 35.4423035166\n",
        "Exploring (('on', 'all'), 5) with pastCost 35.4650986875\n",
        "Exploring (('gone', 'all'), 5) with pastCost 35.4815243721\n",
        "Exploring (('gone', 'alla'), 5) with pastCost 35.4815243721\n",
        "Exploring (('gone', 'allait'), 6) with pastCost 35.4815243721\n",
        "Exploring (('gone', 'alliee'), 5) with pastCost 35.4815243721"
       ]
      },
      {
       "output_type": "stream",
       "stream": "stdout",
       "text": [
        "\n",
        "Exploring (('gone', 'allot'), 6) with pastCost 35.4815243721\n",
        "Exploring (('gone', 'ell'), 5) with pastCost 35.4815243721\n",
        "Exploring (('gone', 'il'), 4) with pastCost 35.4815243721\n",
        "Exploring (('gone', 'ill'), 5) with pastCost 35.4815243721\n",
        "Exploring (('gone', 'l'), 4) with pastCost 35.4815243721\n",
        "Exploring (('gone', 'la'), 4) with pastCost 35.4815243721\n",
        "Exploring (('gone', 'le'), 4) with pastCost 35.4815243721\n",
        "Exploring (('gone', 'lea'), 4) with pastCost 35.4815243721\n",
        "Exploring (('gone', 'leo'), 4) with pastCost 35.4815243721\n",
        "Exploring (('gone', 'lie'), 4) with pastCost 35.4815243721\n",
        "Exploring (('gone', 'lieu'), 4) with pastCost 35.4815243721\n",
        "Exploring (('gone', 'lo'), 4) with pastCost 35.4815243721\n",
        "Exploring (('gone', 'loi'), 4) with pastCost 35.4815243721\n",
        "Exploring (('gone', 'lu'), 4) with pastCost 35.4815243721\n",
        "Exploring (('gone', 'lui'), 4) with pastCost 35.4815243721\n",
        "Exploring (('gone', 'oil'), 4) with pastCost 35.4815243721\n",
        "Exploring (('ague', 'an'), 3) with pastCost 36.1331398643\n",
        "Exploring (('ague', 'een'), 3) with pastCost 36.1331398643\n",
        "Exploring (('ague', 'ein'), 3) with pastCost 36.1331398643\n",
        "Exploring (('ague', 'en'), 3) with pastCost 36.1331398643\n",
        "Exploring (('ague', 'in'), 3) with pastCost 36.1331398643\n",
        "Exploring (('ague', 'n'), 3) with pastCost 36.1331398643\n",
        "Exploring (('ague', 'na'), 3) with pastCost 36.1331398643\n",
        "Exploring (('ague', 'nai'), 3) with pastCost 36.1331398643\n",
        "Exploring (('ague', 'nail'), 4) with pastCost 36.1331398643\n",
        "Exploring (('ague', 'ne'), 3) with pastCost 36.1331398643\n",
        "Exploring (('ague', 'nell'), 5) with pastCost 36.1331398643\n",
        "Exploring (('ague', 'ni'), 3) with pastCost 36.1331398643\n",
        "Exploring (('ague', 'no'), 3) with pastCost 36.1331398643\n",
        "Exploring (('ague', 'on'), 3) with pastCost 36.1331398643\n",
        "Exploring (('ague', 'one'), 3) with pastCost 36.1331398643\n",
        "Exploring (('ague', 'un'), 3) with pastCost 36.1331398643\n",
        "Exploring (('ague', 'une'), 3) with pastCost 36.1331398643\n",
        "Exploring (('eugene', 'all'), 5) with pastCost 36.133141531\n",
        "Exploring (('eugene', 'alla'), 5) with pastCost 36.133141531\n",
        "Exploring (('eugene', 'allait'), 6) with pastCost 36.133141531\n",
        "Exploring (('eugene', 'alliee'), 5) with pastCost 36.133141531\n",
        "Exploring (('eugene', 'allot'), 6) with pastCost 36.133141531\n",
        "Exploring (('eugene', 'ell'), 5) with pastCost 36.133141531\n",
        "Exploring (('eugene', 'il'), 4) with pastCost 36.133141531\n",
        "Exploring (('eugene', 'ill'), 5) with pastCost 36.133141531\n",
        "Exploring (('eugene', 'l'), 4) with pastCost 36.133141531\n",
        "Exploring (('eugene', 'la'), 4) with pastCost 36.133141531\n",
        "Exploring (('eugene', 'le'), 4) with pastCost 36.133141531\n",
        "Exploring (('eugene', 'lea'), 4) with pastCost 36.133141531\n",
        "Exploring (('eugene', 'leo'), 4) with pastCost 36.133141531\n",
        "Exploring (('eugene', 'lie'), 4) with pastCost 36.133141531\n",
        "Exploring (('eugene', 'lieu'), 4) with pastCost 36.133141531\n",
        "Exploring (('eugene', 'lo'), 4) with pastCost 36.133141531\n",
        "Exploring (('eugene', 'loi'), 4) with pastCost 36.133141531\n",
        "Exploring (('eugene', 'lu'), 4) with pastCost 36.133141531\n",
        "Exploring (('eugene', 'lui'), 4) with pastCost 36.133141531\n",
        "Exploring (('eugene', 'oil'), 4) with pastCost 36.133141531\n",
        "Exploring (('ga', 'an'), 3) with pastCost 36.133141531\n",
        "Exploring (('ga', 'een'), 3) with pastCost 36.133141531\n",
        "Exploring (('ga', 'ein'), 3) with pastCost 36.133141531\n",
        "Exploring (('ga', 'en'), 3) with pastCost 36.133141531\n",
        "Exploring (('ga', 'in'), 3) with pastCost 36.133141531\n",
        "Exploring (('ga', 'n'), 3) with pastCost 36.133141531\n",
        "Exploring (('ga', 'na'), 3) with pastCost 36.133141531\n",
        "Exploring (('ga', 'nai'), 3) with pastCost 36.133141531\n",
        "Exploring (('ga', 'nail'), 4) with pastCost 36.133141531\n",
        "Exploring (('ga', 'ne'), 3) with pastCost 36.133141531\n",
        "Exploring (('ga', 'nell'), 5) with pastCost 36.133141531\n",
        "Exploring (('ga', 'ni'), 3) with pastCost 36.133141531\n",
        "Exploring (('ga', 'no'), 3) with pastCost 36.133141531\n",
        "Exploring (('ga', 'on'), 3) with pastCost 36.133141531\n",
        "Exploring (('ga', 'one'), 3) with pastCost 36.133141531\n",
        "Exploring (('ga', 'un'), 3) with pastCost 36.133141531\n",
        "Exploring (('ga', 'une'), 3) with pastCost 36.133141531\n",
        "Exploring (('gee', 'an'), 3) with pastCost 36.133141531\n",
        "Exploring (('gee', 'een'), 3) with pastCost 36.133141531\n",
        "Exploring (('gee', 'ein'), 3) with pastCost 36.133141531\n",
        "Exploring (('gee', 'en'), 3) with pastCost 36.133141531\n",
        "Exploring (('gee', 'in'), 3) with pastCost 36.133141531\n",
        "Exploring (('gee', 'n'), 3) with pastCost 36.133141531\n",
        "Exploring (('gee', 'na'), 3) with pastCost 36.133141531\n",
        "Exploring (('gee', 'nai'), 3) with pastCost 36.133141531\n",
        "Exploring (('gee', 'nail'), 4) with pastCost 36.133141531\n",
        "Exploring (('gee', 'ne'), 3) with pastCost 36.133141531\n",
        "Exploring (('gee', 'nell'), 5) with pastCost 36.133141531\n",
        "Exploring (('gee', 'ni'), 3) with pastCost 36.133141531\n",
        "Exploring (('gee', 'no'), 3) with pastCost 36.133141531\n",
        "Exploring (('gee', 'on'), 3) with pastCost 36.133141531\n",
        "Exploring (('gee', 'one'), 3) with pastCost 36.133141531\n",
        "Exploring (('gee', 'un'), 3) with pastCost 36.133141531\n",
        "Exploring (('gee', 'une'), 3) with pastCost 36.133141531\n",
        "Exploring (('gi', 'an'), 3) with pastCost 36.133141531\n",
        "Exploring (('gi', 'een'), 3) with pastCost 36.133141531\n",
        "Exploring (('gi', 'ein'), 3) with pastCost 36.133141531\n",
        "Exploring (('gi', 'en'), 3) with pastCost 36.133141531\n",
        "Exploring (('gi', 'in'), 3) with pastCost 36.133141531\n",
        "Exploring (('gi', 'n'), 3) with pastCost 36.133141531\n",
        "Exploring (('gi', 'na'), 3) with pastCost 36.133141531\n",
        "Exploring (('gi', 'nai'), 3) with pastCost 36.133141531\n",
        "Exploring (('gi', 'nail'), 4) with pastCost 36.133141531\n",
        "Exploring (('gi', 'ne'), 3) with pastCost 36.133141531\n",
        "Exploring (('gi', 'nell'), 5) with pastCost 36.133141531\n",
        "Exploring (('gi', 'ni'), 3) with pastCost 36.133141531\n",
        "Exploring (('gi', 'no'), 3) with pastCost 36.133141531\n",
        "Exploring (('gi', 'on'), 3) with pastCost 36.133141531\n",
        "Exploring (('gi', 'one'), 3) with pastCost 36.133141531\n",
        "Exploring (('gi', 'un'), 3) with pastCost 36.133141531\n",
        "Exploring (('gi', 'une'), 3) with pastCost 36.133141531\n",
        "Exploring (('guai', 'an'), 3) with pastCost 36.133141531\n",
        "Exploring (('guai', 'een'), 3) with pastCost 36.133141531\n",
        "Exploring (('guai', 'ein'), 3) with pastCost 36.133141531\n",
        "Exploring (('guai', 'en'), 3) with pastCost 36.133141531\n",
        "Exploring (('guai', 'in'), 3) with pastCost 36.133141531\n",
        "Exploring (('guai', 'n'), 3) with pastCost 36.133141531\n",
        "Exploring (('guai', 'na'), 3) with pastCost 36.133141531\n",
        "Exploring (('guai', 'nai'), 3) with pastCost 36.133141531\n",
        "Exploring (('guai', 'nail'), 4) with pastCost 36.133141531\n",
        "Exploring (('guai', 'ne'), 3) with pastCost 36.133141531\n",
        "Exploring (('guai', 'nell'), 5) with pastCost 36.133141531\n",
        "Exploring (('guai', 'ni'), 3) with pastCost 36.133141531\n",
        "Exploring (('guai', 'no'), 3) with pastCost 36.133141531\n",
        "Exploring (('guai', 'on'), 3) with pastCost 36.133141531\n",
        "Exploring (('guai', 'one'), 3) with pastCost 36.133141531\n",
        "Exploring (('guai', 'un'), 3) with pastCost 36.133141531\n",
        "Exploring (('guai', 'une'), 3) with pastCost 36.133141531\n",
        "Exploring (('g', 'an'), 3) with pastCost 36.1331431977\n",
        "Exploring (('g', 'een'), 3) with pastCost 36.1331431977\n",
        "Exploring (('g', 'ein'), 3) with pastCost 36.1331431977\n",
        "Exploring (('g', 'en'), 3) with pastCost 36.1331431977\n",
        "Exploring (('g', 'in'), 3) with pastCost 36.1331431977\n",
        "Exploring (('g', 'n'), 3) with pastCost 36.1331431977\n",
        "Exploring (('g', 'na'), 3) with pastCost 36.1331431977\n",
        "Exploring (('g', 'nai'), 3) with pastCost 36.1331431977\n",
        "Exploring (('g', 'nail'), 4) with pastCost 36.1331431977\n",
        "Exploring (('g', 'ne'), 3) with pastCost 36.1331431977\n",
        "Exploring (('g', 'nell'), 5) with pastCost 36.1331431977\n",
        "Exploring (('g', 'ni'), 3) with pastCost 36.1331431977\n",
        "Exploring (('g', 'no'), 3) with pastCost 36.1331431977\n",
        "Exploring (('g', 'on'), 3) with pastCost 36.1331431977\n",
        "Exploring (('g', 'one'), 3) with pastCost 36.1331431977\n",
        "Exploring (('g', 'un'), 3) with pastCost 36.1331431977\n",
        "Exploring (('g', 'une'), 3) with pastCost 36.1331431977\n",
        "Exploring (('genial', 'alte'), 6) with pastCost 36.1331431977\n",
        "Exploring (('genial', 'elite'), 6) with pastCost 36.1331431977\n",
        "Exploring (('genial', 'il'), 5) with pastCost 36.1331431977\n",
        "Exploring (('genial', 'l'), 5) with pastCost 36.1331431977\n",
        "Exploring (('genial', 'la'), 5) with pastCost 36.1331431977\n",
        "Exploring (('genial', 'late'), 6) with pastCost 36.1331431977\n",
        "Exploring (('genial', 'lath'), 7) with pastCost 36.1331431977\n",
        "Exploring (('genial', 'lathe'), 7) with pastCost 36.1331431977\n",
        "Exploring (('genial', 'le'), 5) with pastCost 36.1331431977\n",
        "Exploring (('genial', 'lea'), 5) with pastCost 36.1331431977\n",
        "Exploring (('genial', 'leo'), 5) with pastCost 36.1331431977\n",
        "Exploring (('genial', 'let'), 6) with pastCost 36.1331431977\n",
        "Exploring (('genial', 'lie'), 5) with pastCost 36.1331431977\n",
        "Exploring (('genial', 'lieu'), 5) with pastCost 36.1331431977\n",
        "Exploring (('genial', 'lit'), 6) with pastCost 36.1331431977\n",
        "Exploring (('genial', 'lo'), 5) with pastCost 36.1331431977\n",
        "Exploring (('genial', 'loathe'), 7) with pastCost 36.1331431977\n",
        "Exploring (('genial', 'loi'), 5) with pastCost 36.1331431977\n",
        "Exploring (('genial', 'loot'), 6) with pastCost 36.1331431977\n",
        "Exploring (('genial', 'lot'), 6) with pastCost 36.1331431977\n",
        "Exploring (('genial', 'lout'), 6) with pastCost 36.1331431977\n",
        "Exploring (('genial', 'lu'), 5) with pastCost 36.1331431977\n",
        "Exploring (('genial', 'lui'), 5) with pastCost 36.1331431977\n",
        "Exploring (('genial', 'oil'), 5) with pastCost 36.1331431977\n",
        "Exploring (('genoa', 'all'), 5) with pastCost 36.1331448643\n",
        "Exploring (('genoa', 'alla'), 5) with pastCost 36.1331448643\n",
        "Exploring (('genoa', 'allait'), 6) with pastCost 36.1331448643\n",
        "Exploring (('genoa', 'alliee'), 5) with pastCost 36.1331448643\n",
        "Exploring (('genoa', 'allot'), 6) with pastCost 36.1331448643\n",
        "Exploring (('genoa', 'ell'), 5) with pastCost 36.1331448643\n",
        "Exploring (('genoa', 'il'), 4) with pastCost 36.1331448643\n",
        "Exploring (('genoa', 'ill'), 5) with pastCost 36.1331448643\n",
        "Exploring (('genoa', 'l'), 4) with pastCost 36.1331448643\n",
        "Exploring (('genoa', 'la'), 4) with pastCost 36.1331448643\n",
        "Exploring (('genoa', 'le'), 4) with pastCost 36.1331448643\n",
        "Exploring (('genoa', 'lea'), 4) with pastCost 36.1331448643\n",
        "Exploring (('genoa', 'leo'), 4) with pastCost 36.1331448643\n",
        "Exploring (('genoa', 'lie'), 4) with pastCost 36.1331448643\n",
        "Exploring (('genoa', 'lieu'), 4) with pastCost 36.1331448643\n",
        "Exploring (('genoa', 'lo'), 4) with pastCost 36.1331448643\n",
        "Exploring (('genoa', 'loi'), 4) with pastCost 36.1331448643\n",
        "Exploring (('genoa', 'lu'), 4) with pastCost 36.1331448643\n",
        "Exploring (('genoa', 'lui'), 4) with pastCost 36.1331448643\n",
        "Exploring (('genoa', 'oil'), 4) with pastCost 36.1331448643\n",
        "Exploring (('gain', 'all'), 5) with pastCost 36.1331581975\n",
        "Exploring (('gain', 'alla'), 5) with pastCost 36.1331581975\n",
        "Exploring (('gain', 'allait'), 6) with pastCost 36.1331581975\n",
        "Exploring (('gain', 'alliee'), 5) with pastCost 36.1331581975\n",
        "Exploring (('gain', 'allot'), 6) with pastCost 36.1331581975\n",
        "Exploring (('gain', 'ell'), 5) with pastCost 36.1331581975\n",
        "Exploring (('gain', 'il'), 4) with pastCost 36.1331581975\n",
        "Exploring (('gain', 'ill'), 5) with pastCost 36.1331581975\n",
        "Exploring (('gain', 'l'), 4) with pastCost 36.1331581975\n",
        "Exploring (('gain', 'la'), 4) with pastCost 36.1331581975\n",
        "Exploring (('gain', 'le'), 4) with pastCost 36.1331581975\n",
        "Exploring (('gain', 'lea'), 4) with pastCost 36.1331581975\n",
        "Exploring (('gain', 'leo'), 4) with pastCost 36.1331581975\n",
        "Exploring (('gain', 'lie'), 4) with pastCost 36.1331581975\n",
        "Exploring (('gain', 'lieu'), 4) with pastCost 36.1331581975\n",
        "Exploring (('gain', 'lo'), 4) with pastCost 36.1331581975\n",
        "Exploring (('gain', 'loi'), 4) with pastCost 36.1331581975\n",
        "Exploring (('gain', 'lu'), 4) with pastCost 36.1331581975\n",
        "Exploring (('gain', 'lui'), 4) with pastCost 36.1331581975\n",
        "Exploring (('gain', 'oil'), 4) with pastCost 36.1331581975\n",
        "Exploring (('gun', 'all'), 5) with pastCost 36.1331998625\n",
        "Exploring (('gun', 'alla'), 5) with pastCost 36.1331998625\n",
        "Exploring (('gun', 'allait'), 6) with pastCost 36.1331998625\n",
        "Exploring (('gun', 'alliee'), 5) with pastCost 36.1331998625\n",
        "Exploring (('gun', 'allot'), 6) with pastCost 36.1331998625\n",
        "Exploring (('gun', 'ell'), 5) with pastCost 36.1331998625\n",
        "Exploring (('gun', 'il'), 4) with pastCost 36.1331998625\n",
        "Exploring (('gun', 'ill'), 5) with pastCost 36.1331998625\n",
        "Exploring (('gun', 'l'), 4) with pastCost 36.1331998625\n",
        "Exploring (('gun', 'la'), 4) with pastCost 36.1331998625\n",
        "Exploring (('gun', 'le'), 4) with pastCost 36.1331998625\n",
        "Exploring (('gun', 'lea'), 4) with pastCost 36.1331998625"
       ]
      },
      {
       "output_type": "stream",
       "stream": "stdout",
       "text": [
        "\n",
        "Exploring (('gun', 'leo'), 4) with pastCost 36.1331998625\n",
        "Exploring (('gun', 'lie'), 4) with pastCost 36.1331998625\n",
        "Exploring (('gun', 'lieu'), 4) with pastCost 36.1331998625\n",
        "Exploring (('gun', 'lo'), 4) with pastCost 36.1331998625\n",
        "Exploring (('gun', 'loi'), 4) with pastCost 36.1331998625\n",
        "Exploring (('gun', 'lu'), 4) with pastCost 36.1331998625\n",
        "Exploring (('gun', 'lui'), 4) with pastCost 36.1331998625\n",
        "Exploring (('gun', 'oil'), 4) with pastCost 36.1331998625\n",
        "Exploring (('age', 'an'), 3) with pastCost 36.1332031957\n",
        "Exploring (('age', 'een'), 3) with pastCost 36.1332031957\n",
        "Exploring (('age', 'ein'), 3) with pastCost 36.1332031957\n",
        "Exploring (('age', 'en'), 3) with pastCost 36.1332031957\n",
        "Exploring (('age', 'in'), 3) with pastCost 36.1332031957\n",
        "Exploring (('age', 'n'), 3) with pastCost 36.1332031957\n",
        "Exploring (('age', 'na'), 3) with pastCost 36.1332031957\n",
        "Exploring (('age', 'nai'), 3) with pastCost 36.1332031957\n",
        "Exploring (('age', 'nail'), 4) with pastCost 36.1332031957\n",
        "Exploring (('age', 'ne'), 3) with pastCost 36.1332031957\n",
        "Exploring (('age', 'nell'), 5) with pastCost 36.1332031957\n",
        "Exploring (('age', 'ni'), 3) with pastCost 36.1332031957\n",
        "Exploring (('age', 'no'), 3) with pastCost 36.1332031957\n",
        "Exploring (('age', 'on'), 3) with pastCost 36.1332031957\n",
        "Exploring (('age', 'one'), 3) with pastCost 36.1332031957\n",
        "Exploring (('age', 'un'), 3) with pastCost 36.1332031957\n",
        "Exploring (('age', 'une'), 3) with pastCost 36.1332031957\n",
        "Exploring (('ago', 'an'), 3) with pastCost 36.1332515248\n",
        "Exploring (('ago', 'een'), 3) with pastCost 36.1332515248\n",
        "Exploring (('ago', 'ein'), 3) with pastCost 36.1332515248\n",
        "Exploring (('ago', 'en'), 3) with pastCost 36.1332515248\n",
        "Exploring (('ago', 'n'), 3) with pastCost 36.1332515248\n",
        "Exploring (('ago', 'na'), 3) with pastCost 36.1332515248\n",
        "Exploring (('ago', 'nai'), 3) with pastCost 36.1332515248\n",
        "Exploring (('ago', 'nail'), 4) with pastCost 36.1332515248\n",
        "Exploring (('ago', 'ne'), 3) with pastCost 36.1332515248\n",
        "Exploring (('ago', 'nell'), 5) with pastCost 36.1332515248\n",
        "Exploring (('ago', 'ni'), 3) with pastCost 36.1332515248\n",
        "Exploring (('ago', 'no'), 3) with pastCost 36.1332515248\n",
        "Exploring (('ago', 'on'), 3) with pastCost 36.1332515248\n",
        "Exploring (('ago', 'one'), 3) with pastCost 36.1332515248\n",
        "Exploring (('ago', 'un'), 3) with pastCost 36.1332515248\n",
        "Exploring (('ago', 'une'), 3) with pastCost 36.1332515248\n",
        "Exploring (('ill', 'to'), 6) with pastCost 36.5369873894\n",
        "Exploring (('ill', 'at'), 6) with pastCost 36.670518782\n",
        "Exploring (('all', 'it'), 6) with pastCost 36.6744471979\n",
        "Exploring (('all', 'out'), 6) with pastCost 37.2340629858\n",
        "Exploring (('all', 'too'), 6) with pastCost 37.2340629858\n",
        "Exploring (('no', 'ill'), 5) with pastCost 37.7018655427\n",
        "Exploring (('an', 'ill'), 5) with pastCost 37.7020534122\n",
        "Exploring (('in', 'lieu'), 4) with pastCost 37.7139319519\n",
        "Exploring (('la', 'le'), 5) with pastCost 37.9227902366\n",
        "Exploring (('ill', 'it'), 6) with pastCost 37.9232817505\n",
        "Exploring (('ill', 'the'), 7) with pastCost 37.9232817505\n",
        "Exploring (('no', 'all'), 5) with pastCost 38.2126911665\n",
        "Exploring (('one', 'all'), 5) with pastCost 38.2135936149\n",
        "Exploring (('late', 'he'), 7) with pastCost 38.3047885421\n",
        "Exploring (('ni', 'loi'), 4) with pastCost 38.6157857571\n",
        "Exploring (('n', 'le'), 4) with pastCost 38.6157990903\n",
        "Exploring (('allot', 'aah'), 7) with pastCost 38.6158724193\n",
        "Exploring (('allot', 'ah'), 7) with pastCost 38.6158724193\n",
        "Exploring (('allot', 'eh'), 7) with pastCost 38.6158724193\n",
        "Exploring (('allot', 'h'), 7) with pastCost 38.6158724193\n",
        "Exploring (('allot', 'ha'), 7) with pastCost 38.6158724193\n",
        "Exploring (('allot', 'hap'), 8) with pastCost 38.6158724193\n",
        "Exploring (('allot', 'he'), 7) with pastCost 38.6158724193\n",
        "Exploring (('allot', 'heap'), 8) with pastCost 38.6158724193\n",
        "Exploring (('allot', 'hi'), 7) with pastCost 38.6158724193\n",
        "Exploring (('allot', 'hie'), 7) with pastCost 38.6158724193\n",
        "Exploring (('allot', 'ho'), 7) with pastCost 38.6158724193\n",
        "Exploring (('allot', 'hoop'), 8) with pastCost 38.6158724193\n",
        "Exploring (('allot', 'hop'), 8) with pastCost 38.6158724193\n",
        "Exploring (('allot', 'hope'), 8) with pastCost 38.6158724193\n",
        "Exploring (('allot', 'oh'), 7) with pastCost 38.6158724193\n",
        "Exploring (('allot', 'oho'), 7) with pastCost 38.6158724193\n",
        "Exploring (('allot', 'ooh'), 7) with pastCost 38.6158724193\n",
        "Exploring (('allot', 'oooh'), 7) with pastCost 38.6158724193\n",
        "Exploring (('allot', 'ouh'), 7) with pastCost 38.6158724193\n",
        "Exploring (('lea', 'alte'), 6) with pastCost 38.6158724193\n",
        "Exploring (('lea', 'elite'), 6) with pastCost 38.6158724193\n",
        "Exploring (('lea', 'il'), 5) with pastCost 38.6158724193\n",
        "Exploring (('lea', 'l'), 5) with pastCost 38.6158724193\n",
        "Exploring (('lea', 'la'), 5) with pastCost 38.6158724193\n",
        "Exploring (('lea', 'late'), 6) with pastCost 38.6158724193\n",
        "Exploring (('lea', 'lath'), 7) with pastCost 38.6158724193\n",
        "Exploring (('lea', 'lathe'), 7) with pastCost 38.6158724193\n",
        "Exploring (('lea', 'le'), 5) with pastCost 38.6158724193\n",
        "Exploring (('lea', 'lea'), 5) with pastCost 38.6158724193\n",
        "Exploring (('lea', 'leo'), 5) with pastCost 38.6158724193\n",
        "Exploring (('lea', 'let'), 6) with pastCost 38.6158724193\n",
        "Exploring (('lea', 'lie'), 5) with pastCost 38.6158724193\n",
        "Exploring (('lea', 'lieu'), 5) with pastCost 38.6158724193\n",
        "Exploring (('lea', 'lit'), 6) with pastCost 38.6158724193\n",
        "Exploring (('lea', 'lo'), 5) with pastCost 38.6158724193\n",
        "Exploring (('lea', 'loathe'), 7) with pastCost 38.6158724193\n",
        "Exploring (('lea', 'loi'), 5) with pastCost 38.6158724193\n",
        "Exploring (('lea', 'loot'), 6) with pastCost 38.6158724193\n",
        "Exploring (('lea', 'lot'), 6) with pastCost 38.6158724193\n",
        "Exploring (('lea', 'lout'), 6) with pastCost 38.6158724193\n",
        "Exploring (('lea', 'lu'), 5) with pastCost 38.6158724193\n",
        "Exploring (('lea', 'lui'), 5) with pastCost 38.6158724193\n",
        "Exploring (('lea', 'oil'), 5) with pastCost 38.6158724193\n",
        "Exploring (('alla', 'at'), 6) with pastCost 38.6158740859\n",
        "Exploring (('alla', 'ate'), 6) with pastCost 38.6158740859\n",
        "Exploring (('alla', 'eat'), 6) with pastCost 38.6158740859\n",
        "Exploring (('alla', 'et'), 6) with pastCost 38.6158740859\n",
        "Exploring (('alla', 'eut'), 6) with pastCost 38.6158740859\n",
        "Exploring (('alla', 'it'), 6) with pastCost 38.6158740859\n",
        "Exploring (('alla', 'oath'), 7) with pastCost 38.6158740859\n",
        "Exploring (('alla', 'out'), 6) with pastCost 38.6158740859\n",
        "Exploring (('alla', 't'), 6) with pastCost 38.6158740859\n",
        "Exploring (('alla', 'ta'), 6) with pastCost 38.6158740859\n",
        "Exploring (('alla', 'tea'), 6) with pastCost 38.6158740859\n",
        "Exploring (('alla', 'th'), 7) with pastCost 38.6158740859\n",
        "Exploring (('alla', 'the'), 7) with pastCost 38.6158740859\n",
        "Exploring (('alla', 'thee'), 7) with pastCost 38.6158740859\n",
        "Exploring (('alla', 'thou'), 7) with pastCost 38.6158740859\n",
        "Exploring (('alla', 'ti'), 6) with pastCost 38.6158740859\n",
        "Exploring (('alla', 'tie'), 6) with pastCost 38.6158740859\n",
        "Exploring (('alla', 'to'), 6) with pastCost 38.6158740859\n",
        "Exploring (('alla', 'toe'), 6) with pastCost 38.6158740859\n",
        "Exploring (('alla', 'toi'), 6) with pastCost 38.6158740859\n",
        "Exploring (('alla', 'too'), 6) with pastCost 38.6158740859\n",
        "Exploring (('alla', 'tu'), 6) with pastCost 38.6158740859\n",
        "Exploring (('alla', 'ut'), 6) with pastCost 38.6158740859\n",
        "Exploring (('allait', 'aah'), 7) with pastCost 38.6158740859\n",
        "Exploring (('allait', 'ah'), 7) with pastCost 38.6158740859\n",
        "Exploring (('allait', 'eh'), 7) with pastCost 38.6158740859\n",
        "Exploring (('allait', 'h'), 7) with pastCost 38.6158740859\n",
        "Exploring (('allait', 'ha'), 7) with pastCost 38.6158740859\n",
        "Exploring (('allait', 'hap'), 8) with pastCost 38.6158740859\n",
        "Exploring (('allait', 'he'), 7) with pastCost 38.6158740859\n",
        "Exploring (('allait', 'heap'), 8) with pastCost 38.6158740859\n",
        "Exploring (('allait', 'hi'), 7) with pastCost 38.6158740859\n",
        "Exploring (('allait', 'hie'), 7) with pastCost 38.6158740859\n",
        "Exploring (('allait', 'ho'), 7) with pastCost 38.6158740859\n",
        "Exploring (('allait', 'hoop'), 8) with pastCost 38.6158740859\n",
        "Exploring (('allait', 'hop'), 8) with pastCost 38.6158740859\n",
        "Exploring (('allait', 'hope'), 8) with pastCost 38.6158740859\n",
        "Exploring (('allait', 'oh'), 7) with pastCost 38.6158740859\n",
        "Exploring (('allait', 'oho'), 7) with pastCost 38.6158740859\n",
        "Exploring (('allait', 'ooh'), 7) with pastCost 38.6158740859\n",
        "Exploring (('allait', 'oooh'), 7) with pastCost 38.6158740859\n",
        "Exploring (('allait', 'ouh'), 7) with pastCost 38.6158740859\n",
        "Exploring (('alliee', 'at'), 6) with pastCost 38.6158740859\n",
        "Exploring (('alliee', 'ate'), 6) with pastCost 38.6158740859\n",
        "Exploring (('alliee', 'eat'), 6) with pastCost 38.6158740859\n",
        "Exploring (('alliee', 'et'), 6) with pastCost 38.6158740859\n",
        "Exploring (('alliee', 'eut'), 6) with pastCost 38.6158740859\n",
        "Exploring (('alliee', 'it'), 6) with pastCost 38.6158740859\n",
        "Exploring (('alliee', 'oath'), 7) with pastCost 38.6158740859\n",
        "Exploring (('alliee', 'out'), 6) with pastCost 38.6158740859\n",
        "Exploring (('alliee', 't'), 6) with pastCost 38.6158740859\n",
        "Exploring (('alliee', 'ta'), 6) with pastCost 38.6158740859\n",
        "Exploring (('alliee', 'tea'), 6) with pastCost 38.6158740859\n",
        "Exploring (('alliee', 'th'), 7) with pastCost 38.6158740859\n",
        "Exploring (('alliee', 'the'), 7) with pastCost 38.6158740859\n",
        "Exploring (('alliee', 'thee'), 7) with pastCost 38.6158740859\n",
        "Exploring (('alliee', 'thou'), 7) with pastCost 38.6158740859\n",
        "Exploring (('alliee', 'ti'), 6) with pastCost 38.6158740859\n",
        "Exploring (('alliee', 'tie'), 6) with pastCost 38.6158740859\n",
        "Exploring (('alliee', 'to'), 6) with pastCost 38.6158740859\n",
        "Exploring (('alliee', 'toe'), 6) with pastCost 38.6158740859\n",
        "Exploring (('alliee', 'toi'), 6) with pastCost 38.6158740859\n",
        "Exploring (('alliee', 'too'), 6) with pastCost 38.6158740859\n",
        "Exploring (('alliee', 'tu'), 6) with pastCost 38.6158740859\n",
        "Exploring (('alliee', 'ut'), 6) with pastCost 38.6158740859\n",
        "Exploring (('ell', 'at'), 6) with pastCost 38.6158740859\n",
        "Exploring (('ell', 'ate'), 6) with pastCost 38.6158740859\n",
        "Exploring (('ell', 'eat'), 6) with pastCost 38.6158740859\n",
        "Exploring (('ell', 'et'), 6) with pastCost 38.6158740859\n",
        "Exploring (('ell', 'eut'), 6) with pastCost 38.6158740859\n",
        "Exploring (('ell', 'it'), 6) with pastCost 38.6158740859\n",
        "Exploring (('ell', 'oath'), 7) with pastCost 38.6158740859\n",
        "Exploring (('ell', 'out'), 6) with pastCost 38.6158740859\n",
        "Exploring (('ell', 't'), 6) with pastCost 38.6158740859\n",
        "Exploring (('ell', 'ta'), 6) with pastCost 38.6158740859\n",
        "Exploring (('ell', 'tea'), 6) with pastCost 38.6158740859\n",
        "Exploring (('ell', 'th'), 7) with pastCost 38.6158740859\n",
        "Exploring (('ell', 'the'), 7) with pastCost 38.6158740859\n",
        "Exploring (('ell', 'thee'), 7) with pastCost 38.6158740859\n",
        "Exploring (('ell', 'thou'), 7) with pastCost 38.6158740859\n",
        "Exploring (('ell', 'ti'), 6) with pastCost 38.6158740859\n",
        "Exploring (('ell', 'tie'), 6) with pastCost 38.6158740859\n",
        "Exploring (('ell', 'to'), 6) with pastCost 38.6158740859\n",
        "Exploring (('ell', 'toe'), 6) with pastCost 38.6158740859\n",
        "Exploring (('ell', 'toi'), 6) with pastCost 38.6158740859\n",
        "Exploring (('ell', 'too'), 6) with pastCost 38.6158740859\n",
        "Exploring (('ell', 'tu'), 6) with pastCost 38.6158740859\n",
        "Exploring (('ell', 'ut'), 6) with pastCost 38.6158740859\n",
        "Exploring (('l', 'alte'), 6) with pastCost 38.6158740859\n",
        "Exploring (('l', 'elite'), 6) with pastCost 38.6158740859\n",
        "Exploring (('l', 'il'), 5) with pastCost 38.6158740859\n",
        "Exploring (('l', 'l'), 5) with pastCost 38.6158740859\n",
        "Exploring (('l', 'la'), 5) with pastCost 38.6158740859\n",
        "Exploring (('l', 'late'), 6) with pastCost 38.6158740859\n",
        "Exploring (('l', 'lath'), 7) with pastCost 38.6158740859\n",
        "Exploring (('l', 'lathe'), 7) with pastCost 38.6158740859\n",
        "Exploring (('l', 'le'), 5) with pastCost 38.6158740859\n",
        "Exploring (('l', 'lea'), 5) with pastCost 38.6158740859\n",
        "Exploring (('l', 'leo'), 5) with pastCost 38.6158740859\n",
        "Exploring (('l', 'let'), 6) with pastCost 38.6158740859\n",
        "Exploring (('l', 'lie'), 5) with pastCost 38.6158740859\n",
        "Exploring (('l', 'lieu'), 5) with pastCost 38.6158740859\n",
        "Exploring (('l', 'lit'), 6) with pastCost 38.6158740859\n",
        "Exploring (('l', 'lo'), 5) with pastCost 38.6158740859\n",
        "Exploring (('l', 'loathe'), 7) with pastCost 38.6158740859\n",
        "Exploring (('l', 'loi'), 5) with pastCost 38.6158740859\n",
        "Exploring (('l', 'loot'), 6) with pastCost 38.6158740859\n",
        "Exploring (('l', 'lot'), 6) with pastCost 38.6158740859\n",
        "Exploring (('l', 'lout'), 6) with pastCost 38.6158740859\n",
        "Exploring (('l', 'lu'), 5) with pastCost 38.6158740859\n",
        "Exploring (('l', 'lui'), 5) with pastCost 38.6158740859\n",
        "Exploring (('l', 'oil'), 5) with pastCost 38.6158740859\n",
        "Exploring (('loi', 'alte'), 6) with pastCost 38.6158740859\n",
        "Exploring (('loi', 'elite'), 6) with pastCost 38.6158740859\n",
        "Exploring (('loi', 'il'), 5) with pastCost 38.6158740859"
       ]
      },
      {
       "output_type": "stream",
       "stream": "stdout",
       "text": [
        "\n",
        "Exploring (('loi', 'l'), 5) with pastCost 38.6158740859\n",
        "Exploring (('loi', 'la'), 5) with pastCost 38.6158740859\n",
        "Exploring (('loi', 'late'), 6) with pastCost 38.6158740859\n",
        "Exploring (('loi', 'lath'), 7) with pastCost 38.6158740859\n",
        "Exploring (('loi', 'lathe'), 7) with pastCost 38.6158740859\n",
        "Exploring (('loi', 'le'), 5) with pastCost 38.6158740859\n",
        "Exploring (('loi', 'lea'), 5) with pastCost 38.6158740859\n",
        "Exploring (('loi', 'leo'), 5) with pastCost 38.6158740859\n",
        "Exploring (('loi', 'let'), 6) with pastCost 38.6158740859\n",
        "Exploring (('loi', 'lie'), 5) with pastCost 38.6158740859\n",
        "Exploring (('loi', 'lieu'), 5) with pastCost 38.6158740859\n",
        "Exploring (('loi', 'lit'), 6) with pastCost 38.6158740859\n",
        "Exploring (('loi', 'lo'), 5) with pastCost 38.6158740859\n",
        "Exploring (('loi', 'loathe'), 7) with pastCost 38.6158740859\n",
        "Exploring (('loi', 'loi'), 5) with pastCost 38.6158740859\n",
        "Exploring (('loi', 'loot'), 6) with pastCost 38.6158740859\n",
        "Exploring (('loi', 'lot'), 6) with pastCost 38.6158740859\n",
        "Exploring (('loi', 'lout'), 6) with pastCost 38.6158740859\n",
        "Exploring (('loi', 'lu'), 5) with pastCost 38.6158740859\n",
        "Exploring (('loi', 'lui'), 5) with pastCost 38.6158740859\n",
        "Exploring (('loi', 'oil'), 5) with pastCost 38.6158740859\n",
        "Exploring (('lu', 'alte'), 6) with pastCost 38.6158740859\n",
        "Exploring (('lu', 'elite'), 6) with pastCost 38.6158740859\n",
        "Exploring (('lu', 'il'), 5) with pastCost 38.6158740859\n",
        "Exploring (('lu', 'l'), 5) with pastCost 38.6158740859\n",
        "Exploring (('lu', 'la'), 5) with pastCost 38.6158740859\n",
        "Exploring (('lu', 'late'), 6) with pastCost 38.6158740859\n",
        "Exploring (('lu', 'lath'), 7) with pastCost 38.6158740859\n",
        "Exploring (('lu', 'lathe'), 7) with pastCost 38.6158740859\n",
        "Exploring (('lu', 'le'), 5) with pastCost 38.6158740859\n",
        "Exploring (('lu', 'lea'), 5) with pastCost 38.6158740859\n",
        "Exploring (('lu', 'leo'), 5) with pastCost 38.6158740859\n",
        "Exploring (('lu', 'let'), 6) with pastCost 38.6158740859\n",
        "Exploring (('lu', 'lie'), 5) with pastCost 38.6158740859\n",
        "Exploring (('lu', 'lieu'), 5) with pastCost 38.6158740859\n",
        "Exploring (('lu', 'lit'), 6) with pastCost 38.6158740859\n",
        "Exploring (('lu', 'lo'), 5) with pastCost 38.6158740859\n",
        "Exploring (('lu', 'loathe'), 7) with pastCost 38.6158740859\n",
        "Exploring (('lu', 'loi'), 5) with pastCost 38.6158740859\n",
        "Exploring (('lu', 'loot'), 6) with pastCost 38.6158740859\n",
        "Exploring (('lu', 'lot'), 6) with pastCost 38.6158740859\n",
        "Exploring (('lu', 'lout'), 6) with pastCost 38.6158740859\n",
        "Exploring (('lu', 'lu'), 5) with pastCost 38.6158740859\n",
        "Exploring (('lu', 'lui'), 5) with pastCost 38.6158740859\n",
        "Exploring (('lu', 'oil'), 5) with pastCost 38.6158740859\n",
        "Exploring (('oil', 'alte'), 6) with pastCost 38.6158740859\n",
        "Exploring (('oil', 'elite'), 6) with pastCost 38.6158740859\n",
        "Exploring (('oil', 'il'), 5) with pastCost 38.6158740859\n",
        "Exploring (('oil', 'l'), 5) with pastCost 38.6158740859\n",
        "Exploring (('oil', 'la'), 5) with pastCost 38.6158740859\n",
        "Exploring (('oil', 'late'), 6) with pastCost 38.6158740859\n",
        "Exploring (('oil', 'lath'), 7) with pastCost 38.6158740859\n",
        "Exploring (('oil', 'lathe'), 7) with pastCost 38.6158740859\n",
        "Exploring (('oil', 'le'), 5) with pastCost 38.6158740859\n",
        "Exploring (('oil', 'lea'), 5) with pastCost 38.6158740859\n",
        "Exploring (('oil', 'leo'), 5) with pastCost 38.6158740859\n",
        "Exploring (('oil', 'let'), 6) with pastCost 38.6158740859\n",
        "Exploring (('oil', 'lie'), 5) with pastCost 38.6158740859\n",
        "Exploring (('oil', 'lieu'), 5) with pastCost 38.6158740859\n",
        "Exploring (('oil', 'lit'), 6) with pastCost 38.6158740859\n",
        "Exploring (('oil', 'lo'), 5) with pastCost 38.6158740859\n",
        "Exploring (('oil', 'loathe'), 7) with pastCost 38.6158740859\n",
        "Exploring (('oil', 'loi'), 5) with pastCost 38.6158740859\n",
        "Exploring (('oil', 'loot'), 6) with pastCost 38.6158740859\n",
        "Exploring (('oil', 'lot'), 6) with pastCost 38.6158740859\n",
        "Exploring (('oil', 'lout'), 6) with pastCost 38.6158740859\n",
        "Exploring (('oil', 'lu'), 5) with pastCost 38.6158740859\n",
        "Exploring (('oil', 'lui'), 5) with pastCost 38.6158740859\n",
        "Exploring (('oil', 'oil'), 5) with pastCost 38.6158740859\n",
        "Exploring (('lo', 'alte'), 6) with pastCost 38.6158757526\n",
        "Exploring (('lo', 'elite'), 6) with pastCost 38.6158757526\n",
        "Exploring (('lo', 'il'), 5) with pastCost 38.6158757526\n",
        "Exploring (('lo', 'l'), 5) with pastCost 38.6158757526\n",
        "Exploring (('lo', 'la'), 5) with pastCost 38.6158757526\n",
        "Exploring (('lo', 'late'), 6) with pastCost 38.6158757526\n",
        "Exploring (('lo', 'lath'), 7) with pastCost 38.6158757526\n",
        "Exploring (('lo', 'lathe'), 7) with pastCost 38.6158757526\n",
        "Exploring (('lo', 'le'), 5) with pastCost 38.6158757526\n",
        "Exploring (('lo', 'lea'), 5) with pastCost 38.6158757526\n",
        "Exploring (('lo', 'leo'), 5) with pastCost 38.6158757526\n",
        "Exploring (('lo', 'let'), 6) with pastCost 38.6158757526\n",
        "Exploring (('lo', 'lie'), 5) with pastCost 38.6158757526\n",
        "Exploring (('lo', 'lieu'), 5) with pastCost 38.6158757526\n",
        "Exploring (('lo', 'lit'), 6) with pastCost 38.6158757526\n",
        "Exploring (('lo', 'lo'), 5) with pastCost 38.6158757526\n",
        "Exploring (('lo', 'loathe'), 7) with pastCost 38.6158757526\n",
        "Exploring (('lo', 'loi'), 5) with pastCost 38.6158757526\n",
        "Exploring (('lo', 'loot'), 6) with pastCost 38.6158757526\n",
        "Exploring (('lo', 'lot'), 6) with pastCost 38.6158757526\n",
        "Exploring (('lo', 'lout'), 6) with pastCost 38.6158757526\n",
        "Exploring (('lo', 'lu'), 5) with pastCost 38.6158757526\n",
        "Exploring (('lo', 'lui'), 5) with pastCost 38.6158757526\n",
        "Exploring (('lo', 'oil'), 5) with pastCost 38.6158757526\n",
        "Exploring (('leo', 'alte'), 6) with pastCost 38.6158790859\n",
        "Exploring (('leo', 'elite'), 6) with pastCost 38.6158790859\n",
        "Exploring (('leo', 'il'), 5) with pastCost 38.6158790859\n",
        "Exploring (('leo', 'l'), 5) with pastCost 38.6158790859\n",
        "Exploring (('leo', 'la'), 5) with pastCost 38.6158790859\n",
        "Exploring (('leo', 'late'), 6) with pastCost 38.6158790859\n",
        "Exploring (('leo', 'lath'), 7) with pastCost 38.6158790859\n",
        "Exploring (('leo', 'lathe'), 7) with pastCost 38.6158790859\n",
        "Exploring (('leo', 'le'), 5) with pastCost 38.6158790859\n",
        "Exploring (('leo', 'lea'), 5) with pastCost 38.6158790859\n",
        "Exploring (('leo', 'leo'), 5) with pastCost 38.6158790859\n",
        "Exploring (('leo', 'let'), 6) with pastCost 38.6158790859\n",
        "Exploring (('leo', 'lie'), 5) with pastCost 38.6158790859\n",
        "Exploring (('leo', 'lieu'), 5) with pastCost 38.6158790859\n",
        "Exploring (('leo', 'lit'), 6) with pastCost 38.6158790859\n",
        "Exploring (('leo', 'lo'), 5) with pastCost 38.6158790859\n",
        "Exploring (('leo', 'loathe'), 7) with pastCost 38.6158790859\n",
        "Exploring (('leo', 'loi'), 5) with pastCost 38.6158790859\n",
        "Exploring (('leo', 'loot'), 6) with pastCost 38.6158790859\n",
        "Exploring (('leo', 'lot'), 6) with pastCost 38.6158790859\n",
        "Exploring (('leo', 'lout'), 6) with pastCost 38.6158790859\n",
        "Exploring (('leo', 'lu'), 5) with pastCost 38.6158790859\n",
        "Exploring (('leo', 'lui'), 5) with pastCost 38.6158790859\n",
        "Exploring (('leo', 'oil'), 5) with pastCost 38.6158790859\n",
        "Exploring (('lieu', 'alte'), 6) with pastCost 38.6158790859\n",
        "Exploring (('lieu', 'elite'), 6) with pastCost 38.6158790859\n",
        "Exploring (('lieu', 'il'), 5) with pastCost 38.6158790859\n",
        "Exploring (('lieu', 'l'), 5) with pastCost 38.6158790859\n",
        "Exploring (('lieu', 'la'), 5) with pastCost 38.6158790859\n",
        "Exploring (('lieu', 'late'), 6) with pastCost 38.6158790859\n",
        "Exploring (('lieu', 'lath'), 7) with pastCost 38.6158790859\n",
        "Exploring (('lieu', 'lathe'), 7) with pastCost 38.6158790859\n",
        "Exploring (('lieu', 'le'), 5) with pastCost 38.6158790859\n",
        "Exploring (('lieu', 'lea'), 5) with pastCost 38.6158790859\n",
        "Exploring (('lieu', 'leo'), 5) with pastCost 38.6158790859\n",
        "Exploring (('lieu', 'let'), 6) with pastCost 38.6158790859\n",
        "Exploring (('lieu', 'lie'), 5) with pastCost 38.6158790859\n",
        "Exploring (('lieu', 'lieu'), 5) with pastCost 38.6158790859\n",
        "Exploring (('lieu', 'lit'), 6) with pastCost 38.6158790859\n",
        "Exploring (('lieu', 'lo'), 5) with pastCost 38.6158790859\n",
        "Exploring (('lieu', 'loathe'), 7) with pastCost 38.6158790859\n",
        "Exploring (('lieu', 'loi'), 5) with pastCost 38.6158790859\n",
        "Exploring (('lieu', 'loot'), 6) with pastCost 38.6158790859\n",
        "Exploring (('lieu', 'lot'), 6) with pastCost 38.6158790859\n",
        "Exploring (('lieu', 'lout'), 6) with pastCost 38.6158790859\n",
        "Exploring (('lieu', 'lu'), 5) with pastCost 38.6158790859\n",
        "Exploring (('lieu', 'lui'), 5) with pastCost 38.6158790859\n",
        "Exploring (('lieu', 'oil'), 5) with pastCost 38.6158790859\n",
        "Exploring (('lui', 'alte'), 6) with pastCost 38.6158790859\n",
        "Exploring (('lui', 'elite'), 6) with pastCost 38.6158790859\n",
        "Exploring (('lui', 'il'), 5) with pastCost 38.6158790859\n",
        "Exploring (('lui', 'l'), 5) with pastCost 38.6158790859\n",
        "Exploring (('lui', 'la'), 5) with pastCost 38.6158790859\n",
        "Exploring (('lui', 'late'), 6) with pastCost 38.6158790859\n",
        "Exploring (('lui', 'lath'), 7) with pastCost 38.6158790859\n",
        "Exploring (('lui', 'lathe'), 7) with pastCost 38.6158790859\n",
        "Exploring (('lui', 'le'), 5) with pastCost 38.6158790859\n",
        "Exploring (('lui', 'lea'), 5) with pastCost 38.6158790859\n",
        "Exploring (('lui', 'leo'), 5) with pastCost 38.6158790859\n",
        "Exploring (('lui', 'let'), 6) with pastCost 38.6158790859\n",
        "Exploring (('lui', 'lie'), 5) with pastCost 38.6158790859\n",
        "Exploring (('lui', 'lieu'), 5) with pastCost 38.6158790859\n",
        "Exploring (('lui', 'lit'), 6) with pastCost 38.6158790859\n",
        "Exploring (('lui', 'lo'), 5) with pastCost 38.6158790859\n",
        "Exploring (('lui', 'loathe'), 7) with pastCost 38.6158790859\n",
        "Exploring (('lui', 'loi'), 5) with pastCost 38.6158790859\n",
        "Exploring (('lui', 'loot'), 6) with pastCost 38.6158790859\n",
        "Exploring (('lui', 'lot'), 6) with pastCost 38.6158790859\n",
        "Exploring (('lui', 'lout'), 6) with pastCost 38.6158790859\n",
        "Exploring (('lui', 'lu'), 5) with pastCost 38.6158790859\n",
        "Exploring (('lui', 'lui'), 5) with pastCost 38.6158790859\n",
        "Exploring (('lui', 'oil'), 5) with pastCost 38.6158790859\n",
        "Exploring (('il', 'alte'), 6) with pastCost 38.6158924191\n",
        "Exploring (('il', 'elite'), 6) with pastCost 38.6158924191\n",
        "Exploring (('il', 'il'), 5) with pastCost 38.6158924191\n",
        "Exploring (('il', 'l'), 5) with pastCost 38.6158924191\n",
        "Exploring (('il', 'la'), 5) with pastCost 38.6158924191\n",
        "Exploring (('il', 'late'), 6) with pastCost 38.6158924191\n",
        "Exploring (('il', 'lath'), 7) with pastCost 38.6158924191\n",
        "Exploring (('il', 'lathe'), 7) with pastCost 38.6158924191\n",
        "Exploring (('il', 'le'), 5) with pastCost 38.6158924191\n",
        "Exploring (('il', 'lea'), 5) with pastCost 38.6158924191\n",
        "Exploring (('il', 'leo'), 5) with pastCost 38.6158924191\n",
        "Exploring (('il', 'let'), 6) with pastCost 38.6158924191\n",
        "Exploring (('il', 'lie'), 5) with pastCost 38.6158924191\n",
        "Exploring (('il', 'lieu'), 5) with pastCost 38.6158924191\n",
        "Exploring (('il', 'lit'), 6) with pastCost 38.6158924191\n",
        "Exploring (('il', 'lo'), 5) with pastCost 38.6158924191\n",
        "Exploring (('il', 'loathe'), 7) with pastCost 38.6158924191\n",
        "Exploring (('il', 'loi'), 5) with pastCost 38.6158924191\n",
        "Exploring (('il', 'loot'), 6) with pastCost 38.6158924191\n",
        "Exploring (('il', 'lot'), 6) with pastCost 38.6158924191\n",
        "Exploring (('il', 'lout'), 6) with pastCost 38.6158924191\n",
        "Exploring (('il', 'lu'), 5) with pastCost 38.6158924191\n",
        "Exploring (('il', 'lui'), 5) with pastCost 38.6158924191\n",
        "Exploring (('il', 'oil'), 5) with pastCost 38.6158924191\n",
        "Exploring (('la', 'alte'), 6) with pastCost 38.6159374172\n",
        "Exploring (('la', 'elite'), 6) with pastCost 38.6159374172\n",
        "Exploring (('la', 'il'), 5) with pastCost 38.6159374172\n",
        "Exploring (('la', 'l'), 5) with pastCost 38.6159374172\n",
        "Exploring (('la', 'la'), 5) with pastCost 38.6159374172\n",
        "Exploring (('la', 'late'), 6) with pastCost 38.6159374172\n",
        "Exploring (('la', 'lath'), 7) with pastCost 38.6159374172\n",
        "Exploring (('la', 'lathe'), 7) with pastCost 38.6159374172\n",
        "Exploring (('la', 'lea'), 5) with pastCost 38.6159374172\n",
        "Exploring (('la', 'leo'), 5) with pastCost 38.6159374172\n",
        "Exploring (('la', 'let'), 6) with pastCost 38.6159374172\n",
        "Exploring (('la', 'lie'), 5) with pastCost 38.6159374172\n",
        "Exploring (('la', 'lieu'), 5) with pastCost 38.6159374172\n",
        "Exploring (('la', 'lit'), 6) with pastCost 38.6159374172\n",
        "Exploring (('la', 'lo'), 5) with pastCost 38.6159374172\n",
        "Exploring (('la', 'loathe'), 7) with pastCost 38.6159374172\n",
        "Exploring (('la', 'loi'), 5) with pastCost 38.6159374172\n",
        "Exploring (('la', 'loot'), 6) with pastCost 38.6159374172\n",
        "Exploring (('la', 'lot'), 6) with pastCost 38.6159374172\n",
        "Exploring (('la', 'lout'), 6) with pastCost 38.6159374172\n",
        "Exploring (('la', 'lu'), 5) with pastCost 38.6159374172\n",
        "Exploring (('la', 'lui'), 5) with pastCost 38.6159374172\n",
        "Exploring (('la', 'oil'), 5) with pastCost 38.6159374172\n",
        "Exploring (('le', 'alte'), 6) with pastCost 38.6159507495\n",
        "Exploring (('le', 'elite'), 6) with pastCost 38.6159507495\n",
        "Exploring (('le', 'il'), 5) with pastCost 38.6159507495\n",
        "Exploring (('le', 'l'), 5) with pastCost 38.6159507495\n",
        "Exploring (('le', 'la'), 5) with pastCost 38.6159507495\n",
        "Exploring (('le', 'late'), 6) with pastCost 38.6159507495\n",
        "Exploring (('le', 'lath'), 7) with pastCost 38.6159507495\n",
        "Exploring (('le', 'lathe'), 7) with pastCost 38.6159507495\n",
        "Exploring (('le', 'le'), 5) with pastCost 38.6159507495\n",
        "Exploring (('le', 'lea'), 5) with pastCost 38.6159507495\n",
        "Exploring (('le', 'leo'), 5) with pastCost 38.6159507495"
       ]
      },
      {
       "output_type": "stream",
       "stream": "stdout",
       "text": [
        "\n",
        "Exploring (('le', 'let'), 6) with pastCost 38.6159507495\n",
        "Exploring (('le', 'lie'), 5) with pastCost 38.6159507495\n",
        "Exploring (('le', 'lieu'), 5) with pastCost 38.6159507495\n",
        "Exploring (('le', 'lit'), 6) with pastCost 38.6159507495\n",
        "Exploring (('le', 'lo'), 5) with pastCost 38.6159507495\n",
        "Exploring (('le', 'loathe'), 7) with pastCost 38.6159507495\n",
        "Exploring (('le', 'loi'), 5) with pastCost 38.6159507495\n",
        "Exploring (('le', 'loot'), 6) with pastCost 38.6159507495\n",
        "Exploring (('le', 'lot'), 6) with pastCost 38.6159507495\n",
        "Exploring (('le', 'lout'), 6) with pastCost 38.6159507495\n",
        "Exploring (('le', 'lu'), 5) with pastCost 38.6159507495\n",
        "Exploring (('le', 'lui'), 5) with pastCost 38.6159507495\n",
        "Exploring (('le', 'oil'), 5) with pastCost 38.6159507495\n",
        "Exploring (('lie', 'alte'), 6) with pastCost 38.6159590822\n",
        "Exploring (('lie', 'elite'), 6) with pastCost 38.6159590822\n",
        "Exploring (('lie', 'il'), 5) with pastCost 38.6159590822\n",
        "Exploring (('lie', 'l'), 5) with pastCost 38.6159590822\n",
        "Exploring (('lie', 'la'), 5) with pastCost 38.6159590822\n",
        "Exploring (('lie', 'late'), 6) with pastCost 38.6159590822\n",
        "Exploring (('lie', 'lath'), 7) with pastCost 38.6159590822\n",
        "Exploring (('lie', 'lathe'), 7) with pastCost 38.6159590822\n",
        "Exploring (('lie', 'le'), 5) with pastCost 38.6159590822\n",
        "Exploring (('lie', 'lea'), 5) with pastCost 38.6159590822\n",
        "Exploring (('lie', 'leo'), 5) with pastCost 38.6159590822\n",
        "Exploring (('lie', 'let'), 6) with pastCost 38.6159590822\n",
        "Exploring (('lie', 'lie'), 5) with pastCost 38.6159590822\n",
        "Exploring (('lie', 'lieu'), 5) with pastCost 38.6159590822\n",
        "Exploring (('lie', 'lit'), 6) with pastCost 38.6159590822\n",
        "Exploring (('lie', 'lo'), 5) with pastCost 38.6159590822\n",
        "Exploring (('lie', 'loathe'), 7) with pastCost 38.6159590822\n",
        "Exploring (('lie', 'loi'), 5) with pastCost 38.6159590822\n",
        "Exploring (('lie', 'loot'), 6) with pastCost 38.6159590822\n",
        "Exploring (('lie', 'lot'), 6) with pastCost 38.6159590822\n",
        "Exploring (('lie', 'lout'), 6) with pastCost 38.6159590822\n",
        "Exploring (('lie', 'lu'), 5) with pastCost 38.6159590822\n",
        "Exploring (('lie', 'lui'), 5) with pastCost 38.6159590822\n",
        "Exploring (('lie', 'oil'), 5) with pastCost 38.6159590822\n",
        "Exploring (('ill', 'ate'), 6) with pastCost 38.6164289311\n",
        "Exploring (('ill', 'eat'), 6) with pastCost 38.6164289311\n",
        "Exploring (('ill', 'et'), 6) with pastCost 38.6164289311\n",
        "Exploring (('ill', 'eut'), 6) with pastCost 38.6164289311\n",
        "Exploring (('ill', 'oath'), 7) with pastCost 38.6164289311\n",
        "Exploring (('ill', 'out'), 6) with pastCost 38.6164289311\n",
        "Exploring (('ill', 't'), 6) with pastCost 38.6164289311\n",
        "Exploring (('ill', 'ta'), 6) with pastCost 38.6164289311\n",
        "Exploring (('ill', 'tea'), 6) with pastCost 38.6164289311\n",
        "Exploring (('ill', 'th'), 7) with pastCost 38.6164289311\n",
        "Exploring (('ill', 'thee'), 7) with pastCost 38.6164289311\n",
        "Exploring (('ill', 'thou'), 7) with pastCost 38.6164289311\n",
        "Exploring (('ill', 'ti'), 6) with pastCost 38.6164289311\n",
        "Exploring (('ill', 'tie'), 6) with pastCost 38.6164289311\n",
        "Exploring (('ill', 'toe'), 6) with pastCost 38.6164289311\n",
        "Exploring (('ill', 'toi'), 6) with pastCost 38.6164289311\n",
        "Exploring (('ill', 'too'), 6) with pastCost 38.6164289311\n",
        "Exploring (('ill', 'tu'), 6) with pastCost 38.6164289311\n",
        "Exploring (('ill', 'ut'), 6) with pastCost 38.6164289311\n",
        "Exploring (('an', 'all'), 5) with pastCost 38.618344144\n",
        "Exploring (('an', 'ell'), 5) with pastCost 38.618344144\n",
        "Exploring (('all', 'ate'), 6) with pastCost 38.6203573469\n",
        "Exploring (('all', 'eat'), 6) with pastCost 38.6203573469\n",
        "Exploring (('all', 'et'), 6) with pastCost 38.6203573469\n",
        "Exploring (('all', 'eut'), 6) with pastCost 38.6203573469\n",
        "Exploring (('all', 'oath'), 7) with pastCost 38.6203573469\n",
        "Exploring (('all', 't'), 6) with pastCost 38.6203573469\n",
        "Exploring (('all', 'ta'), 6) with pastCost 38.6203573469\n",
        "Exploring (('all', 'tea'), 6) with pastCost 38.6203573469\n",
        "Exploring (('all', 'th'), 7) with pastCost 38.6203573469\n",
        "Exploring (('all', 'thee'), 7) with pastCost 38.6203573469\n",
        "Exploring (('all', 'thou'), 7) with pastCost 38.6203573469\n",
        "Exploring (('all', 'ti'), 6) with pastCost 38.6203573469\n",
        "Exploring (('all', 'tie'), 6) with pastCost 38.6203573469\n",
        "Exploring (('all', 'toe'), 6) with pastCost 38.6203573469\n",
        "Exploring (('all', 'toi'), 6) with pastCost 38.6203573469\n",
        "Exploring (('all', 'tu'), 6) with pastCost 38.6203573469\n",
        "Exploring (('all', 'ut'), 6) with pastCost 38.6203573469\n",
        "Exploring (('lie', 'thou'), 7) with pastCost 38.8155291768\n",
        "Exploring (('lie', 'at'), 6) with pastCost 39.2209942849\n",
        "Exploring (('lie', 'the'), 7) with pastCost 39.2209942849\n",
        "Exploring (('nail', 'alte'), 6) with pastCost 39.308931271\n",
        "Exploring (('nail', 'elite'), 6) with pastCost 39.308931271\n",
        "Exploring (('nail', 'il'), 5) with pastCost 39.308931271\n",
        "Exploring (('nail', 'l'), 5) with pastCost 39.308931271\n",
        "Exploring (('nail', 'la'), 5) with pastCost 39.308931271\n",
        "Exploring (('nail', 'late'), 6) with pastCost 39.308931271\n",
        "Exploring (('nail', 'lath'), 7) with pastCost 39.308931271\n",
        "Exploring (('nail', 'lathe'), 7) with pastCost 39.308931271\n",
        "Exploring (('nail', 'le'), 5) with pastCost 39.308931271\n",
        "Exploring (('nail', 'lea'), 5) with pastCost 39.308931271\n",
        "Exploring (('nail', 'leo'), 5) with pastCost 39.308931271\n",
        "Exploring (('nail', 'let'), 6) with pastCost 39.308931271\n",
        "Exploring (('nail', 'lie'), 5) with pastCost 39.308931271\n",
        "Exploring (('nail', 'lieu'), 5) with pastCost 39.308931271\n",
        "Exploring (('nail', 'lit'), 6) with pastCost 39.308931271\n",
        "Exploring (('nail', 'lo'), 5) with pastCost 39.308931271\n",
        "Exploring (('nail', 'loathe'), 7) with pastCost 39.308931271\n",
        "Exploring (('nail', 'loi'), 5) with pastCost 39.308931271\n",
        "Exploring (('nail', 'loot'), 6) with pastCost 39.308931271\n",
        "Exploring (('nail', 'lot'), 6) with pastCost 39.308931271\n",
        "Exploring (('nail', 'lout'), 6) with pastCost 39.308931271\n",
        "Exploring (('nail', 'lu'), 5) with pastCost 39.308931271\n",
        "Exploring (('nail', 'lui'), 5) with pastCost 39.308931271\n",
        "Exploring (('nail', 'oil'), 5) with pastCost 39.308931271\n",
        "Exploring (('nell', 'at'), 6) with pastCost 39.308931271\n",
        "Exploring (('nell', 'ate'), 6) with pastCost 39.308931271\n",
        "Exploring (('nell', 'eat'), 6) with pastCost 39.308931271\n",
        "Exploring (('nell', 'et'), 6) with pastCost 39.308931271\n",
        "Exploring (('nell', 'eut'), 6) with pastCost 39.308931271\n",
        "Exploring (('nell', 'it'), 6) with pastCost 39.308931271\n",
        "Exploring (('nell', 'oath'), 7) with pastCost 39.308931271\n",
        "Exploring (('nell', 'out'), 6) with pastCost 39.308931271\n",
        "Exploring (('nell', 't'), 6) with pastCost 39.308931271\n",
        "Exploring (('nell', 'ta'), 6) with pastCost 39.308931271\n",
        "Exploring (('nell', 'tea'), 6) with pastCost 39.308931271\n",
        "Exploring (('nell', 'th'), 7) with pastCost 39.308931271\n",
        "Exploring (('nell', 'the'), 7) with pastCost 39.308931271\n",
        "Exploring (('nell', 'thee'), 7) with pastCost 39.308931271\n",
        "Exploring (('nell', 'thou'), 7) with pastCost 39.308931271\n",
        "Exploring (('nell', 'ti'), 6) with pastCost 39.308931271\n",
        "Exploring (('nell', 'tie'), 6) with pastCost 39.308931271\n",
        "Exploring (('nell', 'to'), 6) with pastCost 39.308931271\n",
        "Exploring (('nell', 'toe'), 6) with pastCost 39.308931271\n",
        "Exploring (('nell', 'toi'), 6) with pastCost 39.308931271\n",
        "Exploring (('nell', 'too'), 6) with pastCost 39.308931271\n",
        "Exploring (('nell', 'tu'), 6) with pastCost 39.308931271\n",
        "Exploring (('nell', 'ut'), 6) with pastCost 39.308931271\n",
        "Exploring (('nai', 'all'), 5) with pastCost 39.3089329377\n",
        "Exploring (('nai', 'alla'), 5) with pastCost 39.3089329377\n",
        "Exploring (('nai', 'allait'), 6) with pastCost 39.3089329377\n",
        "Exploring (('nai', 'alliee'), 5) with pastCost 39.3089329377\n",
        "Exploring (('nai', 'allot'), 6) with pastCost 39.3089329377\n",
        "Exploring (('nai', 'ell'), 5) with pastCost 39.3089329377\n",
        "Exploring (('nai', 'il'), 4) with pastCost 39.3089329377\n",
        "Exploring (('nai', 'ill'), 5) with pastCost 39.3089329377\n",
        "Exploring (('nai', 'l'), 4) with pastCost 39.3089329377\n",
        "Exploring (('nai', 'la'), 4) with pastCost 39.3089329377\n",
        "Exploring (('nai', 'le'), 4) with pastCost 39.3089329377\n",
        "Exploring (('nai', 'lea'), 4) with pastCost 39.3089329377\n",
        "Exploring (('nai', 'leo'), 4) with pastCost 39.3089329377\n",
        "Exploring (('nai', 'lie'), 4) with pastCost 39.3089329377\n",
        "Exploring (('nai', 'lieu'), 4) with pastCost 39.3089329377\n",
        "Exploring (('nai', 'lo'), 4) with pastCost 39.3089329377\n",
        "Exploring (('nai', 'loi'), 4) with pastCost 39.3089329377\n",
        "Exploring (('nai', 'lu'), 4) with pastCost 39.3089329377\n",
        "Exploring (('nai', 'lui'), 4) with pastCost 39.3089329377\n",
        "Exploring (('nai', 'oil'), 4) with pastCost 39.3089329377\n",
        "Exploring (('ni', 'all'), 5) with pastCost 39.3089329377\n",
        "Exploring (('ni', 'alla'), 5) with pastCost 39.3089329377\n",
        "Exploring (('ni', 'allait'), 6) with pastCost 39.3089329377\n",
        "Exploring (('ni', 'alliee'), 5) with pastCost 39.3089329377\n",
        "Exploring (('ni', 'allot'), 6) with pastCost 39.3089329377\n",
        "Exploring (('ni', 'ell'), 5) with pastCost 39.3089329377\n",
        "Exploring (('ni', 'il'), 4) with pastCost 39.3089329377\n",
        "Exploring (('ni', 'ill'), 5) with pastCost 39.3089329377\n",
        "Exploring (('ni', 'l'), 4) with pastCost 39.3089329377\n",
        "Exploring (('ni', 'la'), 4) with pastCost 39.3089329377\n",
        "Exploring (('ni', 'le'), 4) with pastCost 39.3089329377\n",
        "Exploring (('ni', 'lea'), 4) with pastCost 39.3089329377\n",
        "Exploring (('ni', 'leo'), 4) with pastCost 39.3089329377\n",
        "Exploring (('ni', 'lie'), 4) with pastCost 39.3089329377\n",
        "Exploring (('ni', 'lieu'), 4) with pastCost 39.3089329377\n",
        "Exploring (('ni', 'lo'), 4) with pastCost 39.3089329377\n",
        "Exploring (('ni', 'lu'), 4) with pastCost 39.3089329377\n",
        "Exploring (('ni', 'lui'), 4) with pastCost 39.3089329377\n",
        "Exploring (('ni', 'oil'), 4) with pastCost 39.3089329377\n",
        "Exploring (('na', 'all'), 5) with pastCost 39.3089346043\n",
        "Exploring (('na', 'alla'), 5) with pastCost 39.3089346043\n",
        "Exploring (('na', 'allait'), 6) with pastCost 39.3089346043\n",
        "Exploring (('na', 'alliee'), 5) with pastCost 39.3089346043\n",
        "Exploring (('na', 'allot'), 6) with pastCost 39.3089346043\n",
        "Exploring (('na', 'ell'), 5) with pastCost 39.3089346043\n",
        "Exploring (('na', 'il'), 4) with pastCost 39.3089346043\n",
        "Exploring (('na', 'ill'), 5) with pastCost 39.3089346043\n",
        "Exploring (('na', 'l'), 4) with pastCost 39.3089346043\n",
        "Exploring (('na', 'la'), 4) with pastCost 39.3089346043\n",
        "Exploring (('na', 'le'), 4) with pastCost 39.3089346043\n",
        "Exploring (('na', 'lea'), 4) with pastCost 39.3089346043\n",
        "Exploring (('na', 'leo'), 4) with pastCost 39.3089346043\n",
        "Exploring (('na', 'lie'), 4) with pastCost 39.3089346043\n",
        "Exploring (('na', 'lieu'), 4) with pastCost 39.3089346043\n",
        "Exploring (('na', 'lo'), 4) with pastCost 39.3089346043\n",
        "Exploring (('na', 'loi'), 4) with pastCost 39.3089346043\n",
        "Exploring (('na', 'lu'), 4) with pastCost 39.3089346043\n",
        "Exploring (('na', 'lui'), 4) with pastCost 39.3089346043\n",
        "Exploring (('na', 'oil'), 4) with pastCost 39.3089346043\n",
        "Exploring (('een', 'all'), 5) with pastCost 39.308936271\n",
        "Exploring (('een', 'alla'), 5) with pastCost 39.308936271\n",
        "Exploring (('een', 'allait'), 6) with pastCost 39.308936271\n",
        "Exploring (('een', 'alliee'), 5) with pastCost 39.308936271\n",
        "Exploring (('een', 'allot'), 6) with pastCost 39.308936271\n",
        "Exploring (('een', 'ell'), 5) with pastCost 39.308936271\n",
        "Exploring (('een', 'il'), 4) with pastCost 39.308936271\n",
        "Exploring (('een', 'ill'), 5) with pastCost 39.308936271\n",
        "Exploring (('een', 'l'), 4) with pastCost 39.308936271\n",
        "Exploring (('een', 'la'), 4) with pastCost 39.308936271\n",
        "Exploring (('een', 'le'), 4) with pastCost 39.308936271\n",
        "Exploring (('een', 'lea'), 4) with pastCost 39.308936271\n",
        "Exploring (('een', 'leo'), 4) with pastCost 39.308936271\n",
        "Exploring (('een', 'lie'), 4) with pastCost 39.308936271\n",
        "Exploring (('een', 'lieu'), 4) with pastCost 39.308936271\n",
        "Exploring (('een', 'lo'), 4) with pastCost 39.308936271\n",
        "Exploring (('een', 'loi'), 4) with pastCost 39.308936271\n",
        "Exploring (('een', 'lu'), 4) with pastCost 39.308936271\n",
        "Exploring (('een', 'lui'), 4) with pastCost 39.308936271\n",
        "Exploring (('een', 'oil'), 4) with pastCost 39.308936271\n",
        "Exploring (('ein', 'all'), 5) with pastCost 39.308936271\n",
        "Exploring (('ein', 'alla'), 5) with pastCost 39.308936271\n",
        "Exploring (('ein', 'allait'), 6) with pastCost 39.308936271\n",
        "Exploring (('ein', 'alliee'), 5) with pastCost 39.308936271\n",
        "Exploring (('ein', 'allot'), 6) with pastCost 39.308936271\n",
        "Exploring (('ein', 'ell'), 5) with pastCost 39.308936271\n",
        "Exploring (('ein', 'il'), 4) with pastCost 39.308936271\n",
        "Exploring (('ein', 'ill'), 5) with pastCost 39.308936271\n",
        "Exploring (('ein', 'l'), 4) with pastCost 39.308936271\n",
        "Exploring (('ein', 'la'), 4) with pastCost 39.308936271\n",
        "Exploring (('ein', 'le'), 4) with pastCost 39.308936271\n",
        "Exploring (('ein', 'lea'), 4) with pastCost 39.308936271\n",
        "Exploring (('ein', 'leo'), 4) with pastCost 39.308936271\n",
        "Exploring (('ein', 'lie'), 4) with pastCost 39.308936271\n",
        "Exploring (('ein', 'lieu'), 4) with pastCost 39.308936271\n",
        "Exploring (('ein', 'lo'), 4) with pastCost 39.308936271\n",
        "Exploring (('ein', 'loi'), 4) with pastCost 39.308936271\n",
        "Exploring (('ein', 'lu'), 4) with pastCost 39.308936271\n",
        "Exploring (('ein', 'lui'), 4) with pastCost 39.308936271"
       ]
      },
      {
       "output_type": "stream",
       "stream": "stdout",
       "text": [
        "\n",
        "Exploring (('ein', 'oil'), 4) with pastCost 39.308936271\n",
        "Exploring (('en', 'all'), 5) with pastCost 39.3089429376\n",
        "Exploring (('en', 'alla'), 5) with pastCost 39.3089429376\n",
        "Exploring (('en', 'allait'), 6) with pastCost 39.3089429376\n",
        "Exploring (('en', 'alliee'), 5) with pastCost 39.3089429376\n",
        "Exploring (('en', 'allot'), 6) with pastCost 39.3089429376\n",
        "Exploring (('en', 'ell'), 5) with pastCost 39.3089429376\n",
        "Exploring (('en', 'il'), 4) with pastCost 39.3089429376\n",
        "Exploring (('en', 'ill'), 5) with pastCost 39.3089429376\n",
        "Exploring (('en', 'l'), 4) with pastCost 39.3089429376\n",
        "Exploring (('en', 'la'), 4) with pastCost 39.3089429376\n",
        "Exploring (('en', 'le'), 4) with pastCost 39.3089429376\n",
        "Exploring (('en', 'lea'), 4) with pastCost 39.3089429376\n",
        "Exploring (('en', 'leo'), 4) with pastCost 39.3089429376\n",
        "Exploring (('en', 'lie'), 4) with pastCost 39.3089429376\n",
        "Exploring (('en', 'lieu'), 4) with pastCost 39.3089429376\n",
        "Exploring (('en', 'lo'), 4) with pastCost 39.3089429376\n",
        "Exploring (('en', 'loi'), 4) with pastCost 39.3089429376\n",
        "Exploring (('en', 'lu'), 4) with pastCost 39.3089429376\n",
        "Exploring (('en', 'lui'), 4) with pastCost 39.3089429376\n",
        "Exploring (('en', 'oil'), 4) with pastCost 39.3089429376\n",
        "Exploring (('une', 'all'), 5) with pastCost 39.3089429376\n",
        "Exploring (('une', 'alla'), 5) with pastCost 39.3089429376\n",
        "Exploring (('une', 'allait'), 6) with pastCost 39.3089429376\n",
        "Exploring (('une', 'alliee'), 5) with pastCost 39.3089429376\n",
        "Exploring (('une', 'allot'), 6) with pastCost 39.3089429376\n",
        "Exploring (('une', 'ell'), 5) with pastCost 39.3089429376\n",
        "Exploring (('une', 'il'), 4) with pastCost 39.3089429376\n",
        "Exploring (('une', 'ill'), 5) with pastCost 39.3089429376\n",
        "Exploring (('une', 'l'), 4) with pastCost 39.3089429376\n",
        "Exploring (('une', 'la'), 4) with pastCost 39.3089429376\n",
        "Exploring (('une', 'le'), 4) with pastCost 39.3089429376\n",
        "Exploring (('une', 'lea'), 4) with pastCost 39.3089429376\n",
        "Exploring (('une', 'leo'), 4) with pastCost 39.3089429376\n",
        "Exploring (('une', 'lie'), 4) with pastCost 39.3089429376\n",
        "Exploring (('une', 'lieu'), 4) with pastCost 39.3089429376\n",
        "Exploring (('une', 'lo'), 4) with pastCost 39.3089429376\n",
        "Exploring (('une', 'loi'), 4) with pastCost 39.3089429376\n",
        "Exploring (('une', 'lu'), 4) with pastCost 39.3089429376\n",
        "Exploring (('une', 'lui'), 4) with pastCost 39.3089429376\n",
        "Exploring (('une', 'oil'), 4) with pastCost 39.3089429376\n",
        "Exploring (('n', 'all'), 5) with pastCost 39.3089462709\n",
        "Exploring (('n', 'alla'), 5) with pastCost 39.3089462709\n",
        "Exploring (('n', 'allait'), 6) with pastCost 39.3089462709\n",
        "Exploring (('n', 'alliee'), 5) with pastCost 39.3089462709\n",
        "Exploring (('n', 'allot'), 6) with pastCost 39.3089462709\n",
        "Exploring (('n', 'ell'), 5) with pastCost 39.3089462709\n",
        "Exploring (('n', 'il'), 4) with pastCost 39.3089462709\n",
        "Exploring (('n', 'ill'), 5) with pastCost 39.3089462709\n",
        "Exploring (('n', 'l'), 4) with pastCost 39.3089462709\n",
        "Exploring (('n', 'la'), 4) with pastCost 39.3089462709\n",
        "Exploring (('n', 'lea'), 4) with pastCost 39.3089462709\n",
        "Exploring (('n', 'leo'), 4) with pastCost 39.3089462709\n",
        "Exploring (('n', 'lie'), 4) with pastCost 39.3089462709\n",
        "Exploring (('n', 'lieu'), 4) with pastCost 39.3089462709\n",
        "Exploring (('n', 'lo'), 4) with pastCost 39.3089462709\n",
        "Exploring (('n', 'loi'), 4) with pastCost 39.3089462709\n",
        "Exploring (('n', 'lu'), 4) with pastCost 39.3089462709\n",
        "Exploring (('n', 'lui'), 4) with pastCost 39.3089462709\n",
        "Exploring (('n', 'oil'), 4) with pastCost 39.3089462709\n",
        "Exploring (('ne', 'all'), 5) with pastCost 39.3089496042\n",
        "Exploring (('ne', 'alla'), 5) with pastCost 39.3089496042\n",
        "Exploring (('ne', 'allait'), 6) with pastCost 39.3089496042\n",
        "Exploring (('ne', 'alliee'), 5) with pastCost 39.3089496042\n",
        "Exploring (('ne', 'allot'), 6) with pastCost 39.3089496042\n",
        "Exploring (('ne', 'ell'), 5) with pastCost 39.3089496042\n",
        "Exploring (('ne', 'il'), 4) with pastCost 39.3089496042\n",
        "Exploring (('ne', 'ill'), 5) with pastCost 39.3089496042\n",
        "Exploring (('ne', 'l'), 4) with pastCost 39.3089496042\n",
        "Exploring (('ne', 'la'), 4) with pastCost 39.3089496042\n",
        "Exploring (('ne', 'le'), 4) with pastCost 39.3089496042\n",
        "Exploring (('ne', 'lea'), 4) with pastCost 39.3089496042\n",
        "Exploring (('ne', 'leo'), 4) with pastCost 39.3089496042\n",
        "Exploring (('ne', 'lie'), 4) with pastCost 39.3089496042\n",
        "Exploring (('ne', 'lieu'), 4) with pastCost 39.3089496042\n",
        "Exploring (('ne', 'lo'), 4) with pastCost 39.3089496042\n",
        "Exploring (('ne', 'loi'), 4) with pastCost 39.3089496042\n",
        "Exploring (('ne', 'lu'), 4) with pastCost 39.3089496042\n",
        "Exploring (('ne', 'lui'), 4) with pastCost 39.3089496042\n",
        "Exploring (('ne', 'oil'), 4) with pastCost 39.3089496042\n",
        "Exploring (('un', 'all'), 5) with pastCost 39.3089496042\n",
        "Exploring (('un', 'alla'), 5) with pastCost 39.3089496042\n",
        "Exploring (('un', 'allait'), 6) with pastCost 39.3089496042\n",
        "Exploring (('un', 'alliee'), 5) with pastCost 39.3089496042\n",
        "Exploring (('un', 'allot'), 6) with pastCost 39.3089496042\n",
        "Exploring (('un', 'ell'), 5) with pastCost 39.3089496042\n",
        "Exploring (('un', 'il'), 4) with pastCost 39.3089496042\n",
        "Exploring (('un', 'ill'), 5) with pastCost 39.3089496042\n",
        "Exploring (('un', 'l'), 4) with pastCost 39.3089496042\n",
        "Exploring (('un', 'la'), 4) with pastCost 39.3089496042\n",
        "Exploring (('un', 'le'), 4) with pastCost 39.3089496042\n",
        "Exploring (('un', 'lea'), 4) with pastCost 39.3089496042\n",
        "Exploring (('un', 'leo'), 4) with pastCost 39.3089496042\n",
        "Exploring (('un', 'lie'), 4) with pastCost 39.3089496042\n",
        "Exploring (('un', 'lieu'), 4) with pastCost 39.3089496042\n",
        "Exploring (('un', 'lo'), 4) with pastCost 39.3089496042\n",
        "Exploring (('un', 'loi'), 4) with pastCost 39.3089496042\n",
        "Exploring (('un', 'lu'), 4) with pastCost 39.3089496042\n",
        "Exploring (('un', 'lui'), 4) with pastCost 39.3089496042\n",
        "Exploring (('un', 'oil'), 4) with pastCost 39.3089496042\n",
        "Exploring (('no', 'alla'), 5) with pastCost 39.3113034551\n",
        "Exploring (('no', 'allait'), 6) with pastCost 39.3113034551\n",
        "Exploring (('no', 'alliee'), 5) with pastCost 39.3113034551\n",
        "Exploring (('no', 'allot'), 6) with pastCost 39.3113034551\n",
        "Exploring (('no', 'ell'), 5) with pastCost 39.3113034551\n",
        "Exploring (('no', 'il'), 4) with pastCost 39.3113034551\n",
        "Exploring (('no', 'l'), 4) with pastCost 39.3113034551\n",
        "Exploring (('no', 'la'), 4) with pastCost 39.3113034551\n",
        "Exploring (('no', 'le'), 4) with pastCost 39.3113034551\n",
        "Exploring (('no', 'lea'), 4) with pastCost 39.3113034551\n",
        "Exploring (('no', 'leo'), 4) with pastCost 39.3113034551\n",
        "Exploring (('no', 'lie'), 4) with pastCost 39.3113034551\n",
        "Exploring (('no', 'lieu'), 4) with pastCost 39.3113034551\n",
        "Exploring (('no', 'lo'), 4) with pastCost 39.3113034551\n",
        "Exploring (('no', 'loi'), 4) with pastCost 39.3113034551\n",
        "Exploring (('no', 'lu'), 4) with pastCost 39.3113034551\n",
        "Exploring (('no', 'lui'), 4) with pastCost 39.3113034551\n",
        "Exploring (('no', 'oil'), 4) with pastCost 39.3113034551\n",
        "Exploring (('an', 'alla'), 5) with pastCost 39.3114913246\n",
        "Exploring (('an', 'allait'), 6) with pastCost 39.3114913246\n",
        "Exploring (('an', 'alliee'), 5) with pastCost 39.3114913246\n",
        "Exploring (('an', 'allot'), 6) with pastCost 39.3114913246\n",
        "Exploring (('an', 'il'), 4) with pastCost 39.3114913246\n",
        "Exploring (('an', 'l'), 4) with pastCost 39.3114913246\n",
        "Exploring (('an', 'la'), 4) with pastCost 39.3114913246\n",
        "Exploring (('an', 'le'), 4) with pastCost 39.3114913246\n",
        "Exploring (('an', 'lea'), 4) with pastCost 39.3114913246\n",
        "Exploring (('an', 'leo'), 4) with pastCost 39.3114913246\n",
        "Exploring (('an', 'lie'), 4) with pastCost 39.3114913246\n",
        "Exploring (('an', 'lieu'), 4) with pastCost 39.3114913246\n",
        "Exploring (('an', 'lo'), 4) with pastCost 39.3114913246\n",
        "Exploring (('an', 'loi'), 4) with pastCost 39.3114913246\n",
        "Exploring (('an', 'lu'), 4) with pastCost 39.3114913246\n",
        "Exploring (('an', 'lui'), 4) with pastCost 39.3114913246\n",
        "Exploring (('an', 'oil'), 4) with pastCost 39.3114913246\n",
        "Exploring (('one', 'alla'), 5) with pastCost 39.3122059035\n",
        "Exploring (('one', 'allait'), 6) with pastCost 39.3122059035\n",
        "Exploring (('one', 'alliee'), 5) with pastCost 39.3122059035\n",
        "Exploring (('one', 'allot'), 6) with pastCost 39.3122059035\n",
        "Exploring (('one', 'ell'), 5) with pastCost 39.3122059035\n",
        "Exploring (('one', 'il'), 4) with pastCost 39.3122059035\n",
        "Exploring (('one', 'ill'), 5) with pastCost 39.3122059035\n",
        "Exploring (('one', 'l'), 4) with pastCost 39.3122059035\n",
        "Exploring (('one', 'la'), 4) with pastCost 39.3122059035\n",
        "Exploring (('one', 'le'), 4) with pastCost 39.3122059035\n",
        "Exploring (('one', 'lea'), 4) with pastCost 39.3122059035\n",
        "Exploring (('one', 'leo'), 4) with pastCost 39.3122059035\n",
        "Exploring (('one', 'lie'), 4) with pastCost 39.3122059035\n",
        "Exploring (('one', 'lieu'), 4) with pastCost 39.3122059035\n",
        "Exploring (('one', 'lo'), 4) with pastCost 39.3122059035\n",
        "Exploring (('one', 'loi'), 4) with pastCost 39.3122059035\n",
        "Exploring (('one', 'lu'), 4) with pastCost 39.3122059035\n",
        "Exploring (('one', 'lui'), 4) with pastCost 39.3122059035\n",
        "Exploring (('one', 'oil'), 4) with pastCost 39.3122059035\n",
        "Exploring (('on', 'alla'), 5) with pastCost 39.3152462892\n",
        "Exploring (('on', 'allait'), 6) with pastCost 39.3152462892\n",
        "Exploring (('on', 'alliee'), 5) with pastCost 39.3152462892\n",
        "Exploring (('on', 'allot'), 6) with pastCost 39.3152462892\n",
        "Exploring (('on', 'ell'), 5) with pastCost 39.3152462892\n",
        "Exploring (('on', 'il'), 4) with pastCost 39.3152462892\n",
        "Exploring (('on', 'ill'), 5) with pastCost 39.3152462892\n",
        "Exploring (('on', 'l'), 4) with pastCost 39.3152462892\n",
        "Exploring (('on', 'la'), 4) with pastCost 39.3152462892\n",
        "Exploring (('on', 'le'), 4) with pastCost 39.3152462892\n",
        "Exploring (('on', 'lea'), 4) with pastCost 39.3152462892\n",
        "Exploring (('on', 'leo'), 4) with pastCost 39.3152462892\n",
        "Exploring (('on', 'lie'), 4) with pastCost 39.3152462892\n",
        "Exploring (('on', 'lieu'), 4) with pastCost 39.3152462892\n",
        "Exploring (('on', 'lo'), 4) with pastCost 39.3152462892\n",
        "Exploring (('on', 'loi'), 4) with pastCost 39.3152462892\n",
        "Exploring (('on', 'lu'), 4) with pastCost 39.3152462892\n",
        "Exploring (('on', 'lui'), 4) with pastCost 39.3152462892\n",
        "Exploring (('on', 'oil'), 4) with pastCost 39.3152462892\n",
        "Exploring (('in', 'alla'), 5) with pastCost 39.3233698643\n",
        "Exploring (('in', 'allait'), 6) with pastCost 39.3233698643\n",
        "Exploring (('in', 'alliee'), 5) with pastCost 39.3233698643\n",
        "Exploring (('in', 'allot'), 6) with pastCost 39.3233698643\n",
        "Exploring (('in', 'ell'), 5) with pastCost 39.3233698643\n",
        "Exploring (('in', 'il'), 4) with pastCost 39.3233698643\n",
        "Exploring (('in', 'ill'), 5) with pastCost 39.3233698643\n",
        "Exploring (('in', 'l'), 4) with pastCost 39.3233698643\n",
        "Exploring (('in', 'la'), 4) with pastCost 39.3233698643\n",
        "Exploring (('in', 'le'), 4) with pastCost 39.3233698643\n",
        "Exploring (('in', 'lea'), 4) with pastCost 39.3233698643\n",
        "Exploring (('in', 'leo'), 4) with pastCost 39.3233698643\n",
        "Exploring (('in', 'lie'), 4) with pastCost 39.3233698643\n",
        "Exploring (('in', 'lo'), 4) with pastCost 39.3233698643\n",
        "Exploring (('in', 'loi'), 4) with pastCost 39.3233698643\n",
        "Exploring (('in', 'lu'), 4) with pastCost 39.3233698643\n",
        "Exploring (('in', 'lui'), 4) with pastCost 39.3233698643\n",
        "Exploring (('in', 'oil'), 4) with pastCost 39.3233698643\n",
        "Exploring (('elite', 'aah'), 7) with pastCost 39.9140548026\n",
        "Exploring (('elite', 'ah'), 7) with pastCost 39.9140548026\n",
        "Exploring (('elite', 'eh'), 7) with pastCost 39.9140548026\n",
        "Exploring (('elite', 'h'), 7) with pastCost 39.9140548026\n",
        "Exploring (('elite', 'ha'), 7) with pastCost 39.9140548026\n",
        "Exploring (('elite', 'hap'), 8) with pastCost 39.9140548026\n",
        "Exploring (('elite', 'he'), 7) with pastCost 39.9140548026\n",
        "Exploring (('elite', 'heap'), 8) with pastCost 39.9140548026\n",
        "Exploring (('elite', 'hi'), 7) with pastCost 39.9140548026\n",
        "Exploring (('elite', 'hie'), 7) with pastCost 39.9140548026\n",
        "Exploring (('elite', 'ho'), 7) with pastCost 39.9140548026\n",
        "Exploring (('elite', 'hoop'), 8) with pastCost 39.9140548026\n",
        "Exploring (('elite', 'hop'), 8) with pastCost 39.9140548026\n",
        "Exploring (('elite', 'hope'), 8) with pastCost 39.9140548026\n",
        "Exploring (('elite', 'oh'), 7) with pastCost 39.9140548026\n",
        "Exploring (('elite', 'oho'), 7) with pastCost 39.9140548026\n",
        "Exploring (('elite', 'ooh'), 7) with pastCost 39.9140548026\n",
        "Exploring (('elite', 'oooh'), 7) with pastCost 39.9140548026\n",
        "Exploring (('elite', 'ouh'), 7) with pastCost 39.9140548026"
       ]
      },
      {
       "output_type": "stream",
       "stream": "stdout",
       "text": [
        "\n",
        "Exploring (('lath', 'ape'), 8) with pastCost 39.9140548026\n",
        "Exploring (('lath', 'appeal'), 10) with pastCost 39.9140548026\n",
        "numStatesExplored = 1509\n",
        "totalCost = 39.9140548026\n",
        "actions = ['magnolia', 'lath', 'appeal']\n"
       ]
      },
      {
       "metadata": {},
       "output_type": "pyout",
       "prompt_number": 95,
       "text": [
        "'magnolia lath appeal'"
       ]
      }
     ],
     "prompt_number": 95
    },
    {
     "cell_type": "code",
     "collapsed": false,
     "input": [
      "bigramCost('imagine','all')"
     ],
     "language": "python",
     "metadata": {},
     "outputs": [
      {
       "metadata": {},
       "output_type": "pyout",
       "prompt_number": 62,
       "text": [
        "13.304779929686068"
       ]
      }
     ],
     "prompt_number": 62
    },
    {
     "cell_type": "code",
     "collapsed": false,
     "input": [
      "import graderUtil\n",
      "import util\n",
      "import sys\n",
      "import wordsegUtil"
     ],
     "language": "python",
     "metadata": {},
     "outputs": [],
     "prompt_number": 72
    },
    {
     "cell_type": "code",
     "collapsed": false,
     "input": [
      "CORPUS = 'leo-will.txt'\n",
      "\n",
      "_realUnigramCost, _realBigramCost, _possibleFills = None, None, None\n",
      "\n",
      "def getRealCosts():\n",
      "    global _realUnigramCost, _realBigramCost, _possibleFills\n",
      "\n",
      "    if _realUnigramCost is None:\n",
      "        sys.stdout.write('Training language cost functions [corpus: %s]... ' % CORPUS)\n",
      "        sys.stdout.flush()\n",
      "\n",
      "        _realUnigramCost, _realBigramCost = wordsegUtil.makeLanguageModels(CORPUS)\n",
      "        _possibleFills = wordsegUtil.makeInverseRemovalDictionary(CORPUS, 'aeiou')\n",
      "\n",
      "        print 'Done!'\n",
      "        print ''\n",
      "\n",
      "    return _realUnigramCost, _realBigramCost, _possibleFills"
     ],
     "language": "python",
     "metadata": {},
     "outputs": [],
     "prompt_number": 79
    },
    {
     "cell_type": "code",
     "collapsed": false,
     "input": [
      "unigramCost, _, = getRealCosts()"
     ],
     "language": "python",
     "metadata": {},
     "outputs": [
      {
       "output_type": "stream",
       "stream": "stdout",
       "text": [
        "Training language cost functions [corpus: leo-will.txt]... "
       ]
      },
      {
       "output_type": "stream",
       "stream": "stdout",
       "text": [
        "Done!\n",
        "\n"
       ]
      },
      {
       "ename": "ValueError",
       "evalue": "too many values to unpack",
       "output_type": "pyerr",
       "traceback": [
        "\u001b[1;31m---------------------------------------------------------------------------\u001b[0m\n\u001b[1;31mValueError\u001b[0m                                Traceback (most recent call last)",
        "\u001b[1;32m<ipython-input-80-cca5d75413e3>\u001b[0m in \u001b[0;36m<module>\u001b[1;34m()\u001b[0m\n\u001b[1;32m----> 1\u001b[1;33m \u001b[0munigramCost\u001b[0m\u001b[1;33m,\u001b[0m \u001b[0m_\u001b[0m\u001b[1;33m,\u001b[0m \u001b[1;33m=\u001b[0m \u001b[0mgetRealCosts\u001b[0m\u001b[1;33m(\u001b[0m\u001b[1;33m)\u001b[0m\u001b[1;33m\u001b[0m\u001b[0m\n\u001b[0m",
        "\u001b[1;31mValueError\u001b[0m: too many values to unpack"
       ]
      }
     ],
     "prompt_number": 80
    },
    {
     "cell_type": "code",
     "collapsed": false,
     "input": [
      "bigramCost2 = lambda a, b: unigramCost(b)"
     ],
     "language": "python",
     "metadata": {},
     "outputs": [],
     "prompt_number": 82
    },
    {
     "cell_type": "code",
     "collapsed": false,
     "input": [
      "fills_ = {'nd': set(['and']), 'tw': set(['two']), 'thr': set(['three']), 'wrd': set(['word']), 'wrds': set(['words'])}"
     ],
     "language": "python",
     "metadata": {},
     "outputs": [],
     "prompt_number": 87
    },
    {
     "cell_type": "code",
     "collapsed": false,
     "input": [
      "fills = lambda x: fills_.get(x, set())"
     ],
     "language": "python",
     "metadata": {},
     "outputs": [],
     "prompt_number": 88
    },
    {
     "cell_type": "code",
     "collapsed": false,
     "input": [
      "segmentAndInsert('ndthrwrds', bigramCost2, fills)"
     ],
     "language": "python",
     "metadata": {},
     "outputs": [
      {
       "output_type": "stream",
       "stream": "stdout",
       "text": [
        "Exploring (('-BEGIN-', ''), 0) with pastCost 0\n",
        "Exploring (('', 'and'), 2) with pastCost 3.25474456281\n",
        "Exploring (('-BEGIN-', 'and'), 2) with pastCost 3.25474456281\n",
        "Exploring (('and', 'three'), 5) with pastCost 10.8942031183\n",
        "Exploring (('three', 'words'), 9) with pastCost 18.197685592\n",
        "numStatesExplored = 5\n",
        "totalCost = 18.197685592\n",
        "actions = ['and', 'three', 'words']\n"
       ]
      },
      {
       "metadata": {},
       "output_type": "pyout",
       "prompt_number": 96,
       "text": [
        "'and three words'"
       ]
      }
     ],
     "prompt_number": 96
    },
    {
     "cell_type": "code",
     "collapsed": false,
     "input": [
      "segmentAndInsert('hlcmsts', bigramCost, possibleFills)"
     ],
     "language": "python",
     "metadata": {},
     "outputs": [
      {
       "output_type": "stream",
       "stream": "stdout",
       "text": [
        "numStatesExplored = 409\n",
        "totalCost = 33.4878863525\n",
        "actions = ['he', 'lucio', 'masts']\n"
       ]
      },
      {
       "metadata": {},
       "output_type": "pyout",
       "prompt_number": 131,
       "text": [
        "'he lucio masts'"
       ]
      }
     ],
     "prompt_number": 131
    },
    {
     "cell_type": "code",
     "collapsed": false,
     "input": [
      "bigramCost('tried','too') + bigramCost('too','hard')"
     ],
     "language": "python",
     "metadata": {},
     "outputs": [
      {
       "metadata": {},
       "output_type": "pyout",
       "prompt_number": 124,
       "text": [
        "25.511722315521197"
       ]
      }
     ],
     "prompt_number": 124
    },
    {
     "cell_type": "code",
     "collapsed": false,
     "input": [
      "(bigramCost('message','pails'), bigramCost('message','please'))"
     ],
     "language": "python",
     "metadata": {},
     "outputs": [
      {
       "metadata": {},
       "output_type": "pyout",
       "prompt_number": 122,
       "text": [
        "(13.304708267259398, 13.304708267259398)"
       ]
      }
     ],
     "prompt_number": 122
    },
    {
     "cell_type": "code",
     "collapsed": false,
     "input": [
      "bigramCost('next','parisian')"
     ],
     "language": "python",
     "metadata": {},
     "outputs": [
      {
       "metadata": {},
       "output_type": "pyout",
       "prompt_number": 103,
       "text": [
        "13.304989887695239"
       ]
      }
     ],
     "prompt_number": 103
    },
    {
     "cell_type": "code",
     "collapsed": false,
     "input": [
      "bigramCost('next','person')"
     ],
     "language": "python",
     "metadata": {},
     "outputs": [
      {
       "metadata": {},
       "output_type": "pyout",
       "prompt_number": 104,
       "text": [
        "13.304989887695239"
       ]
      }
     ],
     "prompt_number": 104
    },
    {
     "cell_type": "code",
     "collapsed": false,
     "input": [
      "bigramCost('how','dyed') + bigramCost('dyed','that')"
     ],
     "language": "python",
     "metadata": {},
     "outputs": [
      {
       "metadata": {},
       "output_type": "pyout",
       "prompt_number": 107,
       "text": [
        "26.6110684278579"
       ]
      }
     ],
     "prompt_number": 107
    },
    {
     "cell_type": "code",
     "collapsed": false,
     "input": [
      "bigramCost('how','do') + bigramCost('do','you') + bigramCost('you','do') + bigramCost('do','that')"
     ],
     "language": "python",
     "metadata": {},
     "outputs": [
      {
       "metadata": {},
       "output_type": "pyout",
       "prompt_number": 108,
       "text": [
        "37.98823395875334"
       ]
      }
     ],
     "prompt_number": 108
    },
    {
     "cell_type": "code",
     "collapsed": false,
     "input": [
      "bigramCost('soon','walls')"
     ],
     "language": "python",
     "metadata": {},
     "outputs": [
      {
       "metadata": {},
       "output_type": "pyout",
       "prompt_number": 113,
       "text": [
        "13.3051015140835"
       ]
      }
     ],
     "prompt_number": 113
    },
    {
     "cell_type": "code",
     "collapsed": false,
     "input": [
      "bigramCost('soon','well') + bigramCost('well','see')"
     ],
     "language": "python",
     "metadata": {},
     "outputs": [
      {
       "metadata": {},
       "output_type": "pyout",
       "prompt_number": 114,
       "text": [
        "25.224846169977823"
       ]
      }
     ],
     "prompt_number": 114
    },
    {
     "cell_type": "markdown",
     "metadata": {},
     "source": [
      "#### I want to try making the states use only the last word"
     ]
    },
    {
     "cell_type": "code",
     "collapsed": false,
     "input": [
      "class JointSegmentationInsertionProblem(util.SearchProblem):\n",
      "    def __init__(self, query, bigramCost, possibleFills):\n",
      "        self.query = query\n",
      "        self.bigramCost = bigramCost\n",
      "        self.possibleFills = possibleFills\n",
      "\n",
      "    # state is ([last two reconstructed words], index of next query letter)\n",
      "    def startState(self):\n",
      "        # BEGIN_YOUR_CODE (around 5 lines of code expected)\n",
      "        return ('-BEGIN-',0)\n",
      "        # END_YOUR_CODE\n",
      "\n",
      "    def isGoal(self, state):\n",
      "        # BEGIN_YOUR_CODE (around 5 lines of code expected)\n",
      "        if state[1] == len(self.query):\n",
      "            return True\n",
      "        else:\n",
      "            return False\n",
      "        # END_YOUR_CODE\n",
      "\n",
      "    def succAndCost(self, state):\n",
      "        # BEGIN_YOUR_CODE (around 15 lines of code expected)\n",
      "        allTuples = []\n",
      "        for l in xrange(state[1]+1,len(self.query)+1):\n",
      "            # reconstructions adding next l letters as new word\n",
      "            for p in self.possibleFills(self.query[state[1]:l]):\n",
      "                action = p\n",
      "                newState = (p,l)\n",
      "                cost = self.bigramCost(state[0],p)\n",
      "                allTuples.append((action,newState,cost))\n",
      "        return allTuples\n",
      "        # END_YOUR_CODE\n",
      "\n",
      "def segmentAndInsert(query, bigramCost, possibleFills):\n",
      "    if len(query) == 0:\n",
      "        return ''\n",
      "\n",
      "    # BEGIN_YOUR_CODE (around 5 lines of code expected)\n",
      "    ucs = util.UniformCostSearch(verbose=1)\n",
      "    ucs.solve(JointSegmentationInsertionProblem(query, bigramCost, possibleFills))\n",
      "    return ' '.join([p for p in ucs.actions])\n",
      "    # END_YOUR_CODE\n"
     ],
     "language": "python",
     "metadata": {},
     "outputs": [],
     "prompt_number": 146
    },
    {
     "cell_type": "code",
     "collapsed": false,
     "input": [
      "segmentAndInsert('tblpsddwn', bigramCost, possibleFills)"
     ],
     "language": "python",
     "metadata": {},
     "outputs": [
      {
       "output_type": "stream",
       "stream": "stdout",
       "text": [
        "numStatesExplored = 86\n",
        "totalCost = 35.5025837316\n",
        "actions = ['table', 'upside', 'down']\n"
       ]
      },
      {
       "metadata": {},
       "output_type": "pyout",
       "prompt_number": 186,
       "text": [
        "'table upside down'"
       ]
      }
     ],
     "prompt_number": 186
    },
    {
     "cell_type": "code",
     "collapsed": false,
     "input": [
      "(b('heavy','avare'),b('how','are') + b('are','you'))"
     ],
     "language": "python",
     "metadata": {},
     "outputs": [
      {
       "metadata": {},
       "output_type": "pyout",
       "prompt_number": 179,
       "text": [
        "(13.304778263176333, 18.620922526433986)"
       ]
      }
     ],
     "prompt_number": 179
    },
    {
     "cell_type": "code",
     "collapsed": false,
     "input": [
      "(b('my','reaction') + b('reaction','when'), b('more','caution') + b('caution','when'))"
     ],
     "language": "python",
     "metadata": {},
     "outputs": [
      {
       "metadata": {},
       "output_type": "pyout",
       "prompt_number": 166,
       "text": [
        "(26.611866761039046, 26.611036814380906)"
       ]
      }
     ],
     "prompt_number": 166
    },
    {
     "cell_type": "code",
     "collapsed": false,
     "input": [
      "b = bigramCost"
     ],
     "language": "python",
     "metadata": {},
     "outputs": [],
     "prompt_number": 165
    },
    {
     "cell_type": "code",
     "collapsed": false,
     "input": [
      "bigramCost('he','looks') + bigramCost('looks','coffee')"
     ],
     "language": "python",
     "metadata": {},
     "outputs": [
      {
       "metadata": {},
       "output_type": "pyout",
       "prompt_number": 160,
       "text": [
        "24.678804785421992"
       ]
      }
     ],
     "prompt_number": 160
    },
    {
     "cell_type": "code",
     "collapsed": false,
     "input": [
      "bigramCost('he','likes') + bigramCost('likes','coffee')"
     ],
     "language": "python",
     "metadata": {},
     "outputs": [
      {
       "metadata": {},
       "output_type": "pyout",
       "prompt_number": 161,
       "text": [
        "25.23831891304443"
       ]
      }
     ],
     "prompt_number": 161
    },
    {
     "cell_type": "code",
     "collapsed": false,
     "input": [
      "bigramCost('she','went') + bigramCost('went','shame')"
     ],
     "language": "python",
     "metadata": {},
     "outputs": [
      {
       "metadata": {},
       "output_type": "pyout",
       "prompt_number": 154,
       "text": [
        "22.538615146646848"
       ]
      }
     ],
     "prompt_number": 154
    },
    {
     "cell_type": "code",
     "collapsed": false,
     "input": [
      "bigramCost('she','wants') + bigramCost('wants','him')"
     ],
     "language": "python",
     "metadata": {},
     "outputs": [
      {
       "metadata": {},
       "output_type": "pyout",
       "prompt_number": 155,
       "text": [
        "25.921679682188838"
       ]
      }
     ],
     "prompt_number": 155
    },
    {
     "cell_type": "code",
     "collapsed": false,
     "input": [
      "bigramCost('that','sword')"
     ],
     "language": "python",
     "metadata": {},
     "outputs": [
      {
       "metadata": {},
       "output_type": "pyout",
       "prompt_number": 148,
       "text": [
        "13.317453073475962"
       ]
      }
     ],
     "prompt_number": 148
    },
    {
     "cell_type": "code",
     "collapsed": false,
     "input": [
      "bigramCost('thats','award')"
     ],
     "language": "python",
     "metadata": {},
     "outputs": [
      {
       "metadata": {},
       "output_type": "pyout",
       "prompt_number": 149,
       "text": [
        "13.305151492009927"
       ]
      }
     ],
     "prompt_number": 149
    },
    {
     "cell_type": "code",
     "collapsed": false,
     "input": [
      "bigramCost('magnolia','lath') + bigramCost('lath','papa')"
     ],
     "language": "python",
     "metadata": {},
     "outputs": [
      {
       "metadata": {},
       "output_type": "pyout",
       "prompt_number": 143,
       "text": [
        "26.609369868396566"
       ]
      }
     ],
     "prompt_number": 143
    },
    {
     "cell_type": "code",
     "collapsed": false,
     "input": [
      "bigramCost('magnolia','lath') + bigramCost('lath','appeal')"
     ],
     "language": "python",
     "metadata": {},
     "outputs": [
      {
       "metadata": {},
       "output_type": "pyout",
       "prompt_number": 144,
       "text": [
        "26.609369868396566"
       ]
      }
     ],
     "prompt_number": 144
    },
    {
     "cell_type": "code",
     "collapsed": false,
     "input": [
      "bigramCost('thats','award')"
     ],
     "language": "python",
     "metadata": {},
     "outputs": [
      {
       "metadata": {},
       "output_type": "pyout",
       "prompt_number": 136,
       "text": [
        "13.305151492009927"
       ]
      }
     ],
     "prompt_number": 136
    },
    {
     "cell_type": "code",
     "collapsed": false,
     "input": [
      "bigramCost('that','sword')"
     ],
     "language": "python",
     "metadata": {},
     "outputs": [
      {
       "metadata": {},
       "output_type": "pyout",
       "prompt_number": 137,
       "text": [
        "13.317453073475962"
       ]
      }
     ],
     "prompt_number": 137
    },
    {
     "cell_type": "code",
     "collapsed": false,
     "input": [
      "segmentAndInsert('ndthrwrds', bigramCost2, fills)"
     ],
     "language": "python",
     "metadata": {},
     "outputs": [
      {
       "output_type": "stream",
       "stream": "stdout",
       "text": [
        "numStatesExplored = 4\n",
        "totalCost = 18.197685592\n",
        "actions = ['and', 'three', 'words']\n"
       ]
      },
      {
       "metadata": {},
       "output_type": "pyout",
       "prompt_number": 151,
       "text": [
        "'and three words'"
       ]
      }
     ],
     "prompt_number": 151
    },
    {
     "cell_type": "markdown",
     "metadata": {},
     "source": [
      "#### Seeing if Ian's idea improves 1b"
     ]
    },
    {
     "cell_type": "code",
     "collapsed": false,
     "input": [
      "class SegmentationProblem(util.SearchProblem):\n",
      "    def __init__(self, query, unigramCost):\n",
      "        self.query = query\n",
      "        self.unigramCost = unigramCost\n",
      "\n",
      "    def startState(self):\n",
      "        # BEGIN_YOUR_CODE (around 5 lines of code expected)\n",
      "        return self.query[0] \n",
      "        # END_YOUR_CODE\n",
      "\n",
      "    def isGoal(self, state):\n",
      "        # BEGIN_YOUR_CODE (around 5 lines of code expected)\n",
      "        if len(''.join(state.split())) == len(self.query):\n",
      "            return True\n",
      "        else:\n",
      "            return False\n",
      "        # END_YOUR_CODE\n",
      "\n",
      "    # Return list of (action, newState, cost) tuples\n",
      "    def succAndCost(self, state):\n",
      "        # BEGIN_YOUR_CODE (around 10 lines of code expected)\n",
      "        allTuples = []\n",
      "        nextLetter = self.query[len(''.join(state.split()))]\n",
      "        for i in xrange(2):\n",
      "            action = i\n",
      "            if action == 0:\n",
      "                newState = state + nextLetter\n",
      "            else:\n",
      "                newState = state + ' ' + nextLetter\n",
      "            cost = sum([self.unigramCost(x) for x in newState.split()])\n",
      "            allTuples.append((action,newState,cost))\n",
      "        return allTuples\n",
      "        # END_YOUR_CODE\n",
      "\n",
      "def segmentWords(query, unigramCost):\n",
      "    if len(query) == 0:\n",
      "        return ''\n",
      "\n",
      "    ucs = util.UniformCostSearch(verbose=0)\n",
      "    ucs.solve(SegmentationProblem(query, unigramCost))\n",
      "\n",
      "    # BEGIN_YOUR_CODE (around 5 lines of code expected)\n",
      "    state = query[0]\n",
      "    for action in ucs.actions:\n",
      "        nextLetter = query[len(''.join(state.split()))]\n",
      "        if action == 0:\n",
      "            state = state + nextLetter\n",
      "        else:\n",
      "            state = state + ' ' + nextLetter\n",
      "    return state\n"
     ],
     "language": "python",
     "metadata": {},
     "outputs": [],
     "prompt_number": 187
    },
    {
     "cell_type": "code",
     "collapsed": false,
     "input": [
      "a = segmentWords('howintheworlddoyoudothat',unigramCost)\n",
      "print a"
     ],
     "language": "python",
     "metadata": {},
     "outputs": [
      {
       "output_type": "stream",
       "stream": "stdout",
       "text": [
        "how in the world do you doth at\n"
       ]
      }
     ],
     "prompt_number": 190
    },
    {
     "cell_type": "code",
     "collapsed": false,
     "input": [
      "sum([unigramCost(x) for x in a.split()])"
     ],
     "language": "python",
     "metadata": {},
     "outputs": [
      {
       "metadata": {},
       "output_type": "pyout",
       "prompt_number": 191,
       "text": [
        "46.953802966458206"
       ]
      }
     ],
     "prompt_number": 191
    },
    {
     "cell_type": "markdown",
     "metadata": {},
     "source": [
      "It does not get the correct one!"
     ]
    },
    {
     "cell_type": "code",
     "collapsed": false,
     "input": [
      "b = 'how in the world do you do that'\n",
      "sum([unigramCost(x) for x in b.split()])"
     ],
     "language": "python",
     "metadata": {},
     "outputs": [
      {
       "metadata": {},
       "output_type": "pyout",
       "prompt_number": 192,
       "text": [
        "43.164687171111979"
       ]
      }
     ],
     "prompt_number": 192
    },
    {
     "cell_type": "code",
     "collapsed": false,
     "input": [
      "a = segmentWords('isntthatprettydarling',unigramCost)\n",
      "print a"
     ],
     "language": "python",
     "metadata": {},
     "outputs": [
      {
       "output_type": "stream",
       "stream": "stdout",
       "text": [
        "isnt that pretty darling\n"
       ]
      }
     ],
     "prompt_number": 193
    },
    {
     "cell_type": "code",
     "collapsed": false,
     "input": [
      "[a[:23],a[23:]]"
     ],
     "language": "python",
     "metadata": {},
     "outputs": [
      {
       "metadata": {},
       "output_type": "pyout",
       "prompt_number": 205,
       "text": [
        "['isnt that pretty darlin', 'g']"
       ]
      }
     ],
     "prompt_number": 205
    },
    {
     "cell_type": "code",
     "collapsed": false,
     "input": [
      "class SegmentationProblem(util.SearchProblem):\n",
      "    def __init__(self, query, unigramCost):\n",
      "        self.query = query\n",
      "        self.unigramCost = unigramCost\n",
      "\n",
      "    def startState(self):\n",
      "        # BEGIN_YOUR_CODE (around 5 lines of code expected)\n",
      "        return self.query\n",
      "        # END_YOUR_CODE\n",
      "\n",
      "    def isGoal(self, state):\n",
      "        # BEGIN_YOUR_CODE (around 5 lines of code expected)\n",
      "        return state == ''\n",
      "        # END_YOUR_CODE\n",
      "\n",
      "    # Return list of (action, newState, cost) tuples\n",
      "    def succAndCost(self, state):\n",
      "        # BEGIN_YOUR_CODE (around 10 lines of code expected)\n",
      "        choices = []\n",
      "        pairwiseSplits = [[state[:i],state[i:]] for i in xrange(1,len(state)+1)]\n",
      "        for a in pairwiseSplits:\n",
      "            choices.append((a[0],a[1],self.unigramCost(a[0])))\n",
      "        return choices\n",
      "        # END_YOUR_CODE\n",
      "\n",
      "def segmentWords(query, unigramCost):\n",
      "    if len(query) == 0:\n",
      "        return ''\n",
      "\n",
      "    ucs = util.UniformCostSearch(verbose=0)\n",
      "    ucs.solve(SegmentationProblem(query, unigramCost))\n",
      "\n",
      "    # BEGIN_YOUR_CODE (around 5 lines of code expected)\n",
      "    return [w for w in ucs.actions]\n"
     ],
     "language": "python",
     "metadata": {},
     "outputs": [],
     "prompt_number": 208
    },
    {
     "cell_type": "code",
     "collapsed": false,
     "input": [
      "test_cases_1b = ['howintheworlddoyoudothat','isntthatprettydarling','lookingatthefootmen','anairofinattention','hissonisillegitimate']"
     ],
     "language": "python",
     "metadata": {},
     "outputs": [],
     "prompt_number": 210
    },
    {
     "cell_type": "code",
     "collapsed": false,
     "input": [
      "for t in test_cases_1b:\n",
      "    a = segmentWords(t,unigramCost)\n",
      "    print ' '.join(a)"
     ],
     "language": "python",
     "metadata": {},
     "outputs": [
      {
       "output_type": "stream",
       "stream": "stdout",
       "text": [
        "how in the world do you do that\n",
        "isnt that pretty darling\n",
        "looking at the footmen\n",
        "an air of inattention\n",
        "his son is illegitimate\n"
       ]
      }
     ],
     "prompt_number": 211
    },
    {
     "cell_type": "code",
     "collapsed": false,
     "input": [
      "c = 'looking at the footmen'\n",
      "sum([unigramCost(x) for x in c.split()])"
     ],
     "language": "python",
     "metadata": {},
     "outputs": [
      {
       "metadata": {},
       "output_type": "pyout",
       "prompt_number": 212,
       "text": [
        "24.857257601113389"
       ]
      }
     ],
     "prompt_number": 212
    },
    {
     "cell_type": "code",
     "collapsed": false,
     "input": [
      "c = 'looking at the foot men'\n",
      "sum([unigramCost(x) for x in c.split()])"
     ],
     "language": "python",
     "metadata": {},
     "outputs": [
      {
       "metadata": {},
       "output_type": "pyout",
       "prompt_number": 213,
       "text": [
        "30.301345147945263"
       ]
      }
     ],
     "prompt_number": 213
    },
    {
     "cell_type": "code",
     "collapsed": false,
     "input": [
      "segmentAndInsert('ndthrwrds', bigramCost2, fills)"
     ],
     "language": "python",
     "metadata": {},
     "outputs": [
      {
       "output_type": "stream",
       "stream": "stdout",
       "text": [
        "numStatesExplored = 4\n",
        "totalCost = 18.197685592\n",
        "actions = ['and', 'three', 'words']\n"
       ]
      },
      {
       "metadata": {},
       "output_type": "pyout",
       "prompt_number": 214,
       "text": [
        "'and three words'"
       ]
      }
     ],
     "prompt_number": 214
    },
    {
     "cell_type": "code",
     "collapsed": false,
     "input": [
      "def bigramCost(a, b):\n",
      "    corpus = [wordsegUtil.SENTENCE_BEGIN] + 'beam me up scotty'.split()\n",
      "    if (a, b) in list(zip(corpus, corpus[1:])):\n",
      "        return 1.0\n",
      "    else:\n",
      "        return 1000.0\n",
      "\n",
      "def possibleFills(x):\n",
      "    fills = {\n",
      "        'bm'   : set(['beam', 'bam', 'boom']),\n",
      "        'm'    : set(['me', 'ma']),\n",
      "        'p'    : set(['up', 'oop', 'pa', 'epe']),\n",
      "        'sctty': set(['scotty']),\n",
      "    }\n",
      "    return fills.get(x, set())"
     ],
     "language": "python",
     "metadata": {},
     "outputs": [],
     "prompt_number": 215
    },
    {
     "cell_type": "code",
     "collapsed": false,
     "input": [
      "segmentAndInsert('bm', bigramCost, possibleFills)"
     ],
     "language": "python",
     "metadata": {},
     "outputs": [
      {
       "output_type": "stream",
       "stream": "stdout",
       "text": [
        "numStatesExplored = 2\n",
        "totalCost = 1.0\n",
        "actions = ['beam']\n"
       ]
      },
      {
       "metadata": {},
       "output_type": "pyout",
       "prompt_number": 217,
       "text": [
        "'beam'"
       ]
      }
     ],
     "prompt_number": 217
    },
    {
     "cell_type": "markdown",
     "metadata": {},
     "source": [
      "# Pset 6: scheduling"
     ]
    },
    {
     "cell_type": "code",
     "collapsed": false,
     "input": [
      "def potential(q1,q2):\n",
      "        # rowOrCol = int(q1[0] != q2[0] and q1[1] != q2[1])\n",
      "        col  = int(q1[1] != q2[1])\n",
      "        diag = 1\n",
      "        for i in range(-n+1,n):\n",
      "            diag = min(diag, int(q1[0] != q2[0]+i or q1[1] != q2[1]+i))\n",
      "            diag = min(diag, int(q1[0] != q2[0]-i or q1[1] != q2[1]+i))\n",
      "        return col*diag"
     ],
     "language": "python",
     "metadata": {},
     "outputs": [],
     "prompt_number": 26
    },
    {
     "cell_type": "code",
     "collapsed": false,
     "input": [],
     "language": "python",
     "metadata": {},
     "outputs": []
    },
    {
     "cell_type": "code",
     "collapsed": false,
     "input": [
      "potential(q1,q2)"
     ],
     "language": "python",
     "metadata": {},
     "outputs": [
      {
       "metadata": {},
       "output_type": "pyout",
       "prompt_number": 45,
       "text": [
        "1"
       ]
      }
     ],
     "prompt_number": 45
    },
    {
     "cell_type": "code",
     "collapsed": false,
     "input": [
      "n = 8\n",
      "q1 = (4,4)\n",
      "q2 = (1,2)"
     ],
     "language": "python",
     "metadata": {},
     "outputs": [],
     "prompt_number": 44
    },
    {
     "cell_type": "code",
     "collapsed": false,
     "input": [
      "def diags(q1,q2):\n",
      "    return int(abs(q1[0]-q2[0]) != abs(q1[1]-q2[1]))"
     ],
     "language": "python",
     "metadata": {},
     "outputs": [],
     "prompt_number": 57
    },
    {
     "cell_type": "code",
     "collapsed": false,
     "input": [
      "diags((1,4),(3,3))"
     ],
     "language": "python",
     "metadata": {},
     "outputs": [
      {
       "metadata": {},
       "output_type": "pyout",
       "prompt_number": 60,
       "text": [
        "1"
       ]
      }
     ],
     "prompt_number": 60
    },
    {
     "cell_type": "code",
     "collapsed": false,
     "input": [
      "for i in range(-n+1,n):\n",
      "    print (q2[0]-i, q2[1]+i)"
     ],
     "language": "python",
     "metadata": {},
     "outputs": [
      {
       "output_type": "stream",
       "stream": "stdout",
       "text": [
        "(8, -6)\n",
        "(7, -5)\n",
        "(6, -4)\n",
        "(5, -3)\n",
        "(4, -2)\n",
        "(3, -1)\n",
        "(2, 0)\n",
        "(1, 1)\n",
        "(0, 2)\n",
        "(-1, 3)\n",
        "(-2, 4)\n",
        "(-3, 5)\n",
        "(-4, 6)\n",
        "(-5, 7)\n",
        "(-6, 8)\n"
       ]
      }
     ],
     "prompt_number": 23
    },
    {
     "cell_type": "code",
     "collapsed": false,
     "input": [
      "x = range(10)"
     ],
     "language": "python",
     "metadata": {},
     "outputs": [],
     "prompt_number": 17
    },
    {
     "cell_type": "code",
     "collapsed": false,
     "input": [
      "x"
     ],
     "language": "python",
     "metadata": {},
     "outputs": [
      {
       "metadata": {},
       "output_type": "pyout",
       "prompt_number": 18,
       "text": [
        "[0, 1, 2, 3, 4, 5, 6, 7, 8, 9]"
       ]
      }
     ],
     "prompt_number": 18
    },
    {
     "cell_type": "code",
     "collapsed": false,
     "input": [
      "x[1:]"
     ],
     "language": "python",
     "metadata": {},
     "outputs": [
      {
       "metadata": {},
       "output_type": "pyout",
       "prompt_number": 20,
       "text": [
        "[1, 2, 3, 4, 5, 6, 7, 8, 9]"
       ]
      }
     ],
     "prompt_number": 20
    },
    {
     "cell_type": "code",
     "collapsed": false,
     "input": [
      "x = range(8)\n",
      "count = 0\n",
      "for i in x:\n",
      "    for j in x[i+1:]:\n",
      "        print (i,j)\n",
      "        count += 1"
     ],
     "language": "python",
     "metadata": {},
     "outputs": [
      {
       "output_type": "stream",
       "stream": "stdout",
       "text": [
        "(0, 1)\n",
        "(0, 2)\n",
        "(0, 3)\n",
        "(0, 4)\n",
        "(0, 5)\n",
        "(0, 6)\n",
        "(0, 7)\n",
        "(1, 2)\n",
        "(1, 3)\n",
        "(1, 4)\n",
        "(1, 5)\n",
        "(1, 6)\n",
        "(1, 7)\n",
        "(2, 3)\n",
        "(2, 4)\n",
        "(2, 5)\n",
        "(2, 6)\n",
        "(2, 7)\n",
        "(3, 4)\n",
        "(3, 5)\n",
        "(3, 6)\n",
        "(3, 7)\n",
        "(4, 5)\n",
        "(4, 6)\n",
        "(4, 7)\n",
        "(5, 6)\n",
        "(5, 7)\n",
        "(6, 7)\n"
       ]
      }
     ],
     "prompt_number": 42
    },
    {
     "cell_type": "code",
     "collapsed": false,
     "input": [
      "count"
     ],
     "language": "python",
     "metadata": {},
     "outputs": [
      {
       "metadata": {},
       "output_type": "pyout",
       "prompt_number": 43,
       "text": [
        "28"
       ]
      }
     ],
     "prompt_number": 43
    },
    {
     "cell_type": "code",
     "collapsed": false,
     "input": [
      "x = range(8)\n",
      "count = 0\n",
      "for i in x:\n",
      "    if i < 1:\n",
      "        print i\n",
      "    for j in x[i+1:]:\n",
      "        if i < 1:\n",
      "            print j"
     ],
     "language": "python",
     "metadata": {},
     "outputs": [
      {
       "output_type": "stream",
       "stream": "stdout",
       "text": [
        "0\n",
        "1\n",
        "2\n",
        "3\n",
        "4\n",
        "5\n",
        "6\n",
        "7\n"
       ]
      }
     ],
     "prompt_number": 61
    },
    {
     "cell_type": "code",
     "collapsed": false,
     "input": [
      "n = 8\n",
      "variables = ['queen%d' %i for i in range(1, n+1)]\n",
      "for i,v1 in enumerate(variables):\n",
      "    # since 8 queens, 8 rows, and no two queens in the same row, we can\n",
      "    # assume that there will be one queen per row\n",
      "    if i < 1:\n",
      "        domain = [(i,k) for k in range(n)]\n",
      "        print (v1, domain)\n",
      "\n",
      "    for j,v2 in enumerate(variables[i+1:]):\n",
      "        if i < 1:\n",
      "            domain = [(j+1,k) for k in range(n)]\n",
      "            print (v2, domain, j)\n",
      "        #csp.add_binary_potential(v1, v2, potential)"
     ],
     "language": "python",
     "metadata": {},
     "outputs": [
      {
       "output_type": "stream",
       "stream": "stdout",
       "text": [
        "('queen1', [(0, 0), (0, 1), (0, 2), (0, 3), (0, 4), (0, 5), (0, 6), (0, 7)])\n",
        "('queen2', [(1, 0), (1, 1), (1, 2), (1, 3), (1, 4), (1, 5), (1, 6), (1, 7)], 0)\n",
        "('queen3', [(2, 0), (2, 1), (2, 2), (2, 3), (2, 4), (2, 5), (2, 6), (2, 7)], 1)\n",
        "('queen4', [(3, 0), (3, 1), (3, 2), (3, 3), (3, 4), (3, 5), (3, 6), (3, 7)], 2)\n",
        "('queen5', [(4, 0), (4, 1), (4, 2), (4, 3), (4, 4), (4, 5), (4, 6), (4, 7)], 3)\n",
        "('queen6', [(5, 0), (5, 1), (5, 2), (5, 3), (5, 4), (5, 5), (5, 6), (5, 7)], 4)\n",
        "('queen7', [(6, 0), (6, 1), (6, 2), (6, 3), (6, 4), (6, 5), (6, 6), (6, 7)], 5)\n",
        "('queen8', [(7, 0), (7, 1), (7, 2), (7, 3), (7, 4), (7, 5), (7, 6), (7, 7)], 6)\n"
       ]
      }
     ],
     "prompt_number": 64
    },
    {
     "cell_type": "code",
     "collapsed": false,
     "input": [
      "y = randn(10)\n",
      "x = [(y[i],i) for i in xrange(10)]"
     ],
     "language": "python",
     "metadata": {},
     "outputs": [],
     "prompt_number": 65
    },
    {
     "cell_type": "code",
     "collapsed": false,
     "input": [
      "x"
     ],
     "language": "python",
     "metadata": {},
     "outputs": [
      {
       "metadata": {},
       "output_type": "pyout",
       "prompt_number": 66,
       "text": [
        "[(0.41261456929203166, 0),\n",
        " (0.20054814758319628, 1),\n",
        " (0.090055503939484999, 2),\n",
        " (-0.001559122548674209, 3),\n",
        " (-0.10625524133106522, 4),\n",
        " (0.048375237378446768, 5),\n",
        " (-0.8454900118654699, 6),\n",
        " (1.4341574828744712, 7),\n",
        " (0.72266041605543241, 8),\n",
        " (0.68153837917458659, 9)]"
       ]
      }
     ],
     "prompt_number": 66
    },
    {
     "cell_type": "code",
     "collapsed": false,
     "input": [
      "min(x)"
     ],
     "language": "python",
     "metadata": {},
     "outputs": [
      {
       "metadata": {},
       "output_type": "pyout",
       "prompt_number": 67,
       "text": [
        "(-0.8454900118654699, 6)"
       ]
      }
     ],
     "prompt_number": 67
    },
    {
     "cell_type": "code",
     "collapsed": false,
     "input": [
      "for num,idx in sorted(x):\n",
      "    print (num, idx)"
     ],
     "language": "python",
     "metadata": {},
     "outputs": [
      {
       "output_type": "stream",
       "stream": "stdout",
       "text": [
        "(-0.8454900118654699, 6)\n",
        "(-0.10625524133106522, 4)\n",
        "(-0.001559122548674209, 3)\n",
        "(0.048375237378446768, 5)\n",
        "(0.090055503939484999, 2)\n",
        "(0.20054814758319628, 1)\n",
        "(0.41261456929203166, 0)\n",
        "(0.68153837917458659, 9)\n",
        "(0.72266041605543241, 8)\n",
        "(1.4341574828744712, 7)\n"
       ]
      }
     ],
     "prompt_number": 72
    },
    {
     "cell_type": "code",
     "collapsed": false,
     "input": [
      "a = [5,3,4]"
     ],
     "language": "python",
     "metadata": {},
     "outputs": [],
     "prompt_number": 73
    },
    {
     "cell_type": "code",
     "collapsed": false,
     "input": [
      "b = [4,3,5]"
     ],
     "language": "python",
     "metadata": {},
     "outputs": [],
     "prompt_number": 74
    },
    {
     "cell_type": "code",
     "collapsed": false,
     "input": [
      "if a != b:\n",
      "    print 'hello'"
     ],
     "language": "python",
     "metadata": {},
     "outputs": [
      {
       "output_type": "stream",
       "stream": "stdout",
       "text": [
        "hello\n"
       ]
      }
     ],
     "prompt_number": 78
    },
    {
     "cell_type": "code",
     "collapsed": false,
     "input": [],
     "language": "python",
     "metadata": {},
     "outputs": []
    }
   ],
   "metadata": {}
  }
 ]
}