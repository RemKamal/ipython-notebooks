{
 "metadata": {
  "name": ""
 },
 "nbformat": 3,
 "nbformat_minor": 0,
 "worksheets": [
  {
   "cells": [
    {
     "cell_type": "markdown",
     "metadata": {},
     "source": [
      "Fall 2013  \n",
      "# CS 229: Machine Learning  \n",
      "Problem Sets  "
     ]
    },
    {
     "cell_type": "markdown",
     "metadata": {},
     "source": [
      "## Problem Set 1"
     ]
    },
    {
     "cell_type": "markdown",
     "metadata": {},
     "source": [
      "#### Question 1b"
     ]
    },
    {
     "cell_type": "code",
     "collapsed": false,
     "input": [
      "import numpy as np"
     ],
     "language": "python",
     "metadata": {},
     "outputs": [],
     "prompt_number": 1
    },
    {
     "cell_type": "code",
     "collapsed": false,
     "input": [
      "cd /home/lane/Classes/CS229/ps1/"
     ],
     "language": "python",
     "metadata": {},
     "outputs": [
      {
       "output_type": "stream",
       "stream": "stdout",
       "text": [
        "/home/lane/Classes/CS229/ps1\n"
       ]
      }
     ],
     "prompt_number": 2
    },
    {
     "cell_type": "code",
     "collapsed": false,
     "input": [
      "ls"
     ],
     "language": "python",
     "metadata": {},
     "outputs": [
      {
       "output_type": "stream",
       "stream": "stdout",
       "text": [
        "q1x.dat  q1y.dat  q2x.dat  q2y.dat\r\n"
       ]
      }
     ],
     "prompt_number": 3
    },
    {
     "cell_type": "markdown",
     "metadata": {},
     "source": [
      "Pre-processing"
     ]
    },
    {
     "cell_type": "code",
     "collapsed": false,
     "input": [
      "file1 = open(\"q1x.dat\",\"r\") \n",
      "file2 = open(\"q1y.dat\",\"r\")\n",
      "input1 = file1.readlines()\n",
      "input2 = file2.readlines()\n",
      "file1.close()\n",
      "file2.close()\n",
      "\n",
      "x = []\n",
      "y = []\n",
      "for line in input1:\n",
      "    tmp = line.strip().split()\n",
      "    tmp = np.array([np.float(tmp[0]),np.float(tmp[1])])\n",
      "    x.append(tmp)\n",
      "\n",
      "for line in input2:\n",
      "    tmp = line.strip().split()\n",
      "    tmp = np.float(tmp[0])\n",
      "    y.append(tmp)\n",
      "\n",
      "tmp      = np.array(x)\n",
      "y        = np.array(y)\n",
      "x        = np.ones((tmp.shape[0],tmp.shape[1]+1))  # add ones for intercept\n",
      "x[:,0:2] = tmp\n",
      "    "
     ],
     "language": "python",
     "metadata": {},
     "outputs": [],
     "prompt_number": 62
    },
    {
     "cell_type": "markdown",
     "metadata": {},
     "source": [
      "Define log-likelihood function for logistic regression"
     ]
    },
    {
     "cell_type": "code",
     "collapsed": false,
     "input": [
      "def loglikelihood(theta, x, y):\n",
      "    \n",
      "    m   = len(x)\n",
      "    ell = 0\n",
      "    \n",
      "    for i in xrange(m):\n",
      "        h   = 1./(1 + np.exp(-np.dot(theta,x[i])))\n",
      "        ell = ell + (y[i]*np.log(h) + (1 - y[i])*np.log(1-h))\n",
      "    \n",
      "    return ell\n",
      "        "
     ],
     "language": "python",
     "metadata": {},
     "outputs": [],
     "prompt_number": 63
    },
    {
     "cell_type": "markdown",
     "metadata": {},
     "source": [
      "Run Newton's method for optimizing $\\ell(\\theta)$"
     ]
    },
    {
     "cell_type": "code",
     "collapsed": false,
     "input": [
      "# Initialize \\theta with zero vector\n",
      "theta = np.array([0,0,0])\n",
      "\n",
      "# initial value of \\ell(\\theta)\n",
      "loglikelihood(theta, x, y)"
     ],
     "language": "python",
     "metadata": {},
     "outputs": [
      {
       "metadata": {},
       "output_type": "pyout",
       "prompt_number": 64,
       "text": [
        "-68.621570875434642"
       ]
      }
     ],
     "prompt_number": 64
    },
    {
     "cell_type": "code",
     "collapsed": false,
     "input": [],
     "language": "python",
     "metadata": {},
     "outputs": [],
     "prompt_number": 64
    },
    {
     "cell_type": "code",
     "collapsed": false,
     "input": [],
     "language": "python",
     "metadata": {},
     "outputs": [],
     "prompt_number": 64
    },
    {
     "cell_type": "code",
     "collapsed": false,
     "input": [],
     "language": "python",
     "metadata": {},
     "outputs": []
    }
   ],
   "metadata": {}
  }
 ]
}