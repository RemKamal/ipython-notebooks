{
 "metadata": {
  "name": ""
 },
 "nbformat": 3,
 "nbformat_minor": 0,
 "worksheets": [
  {
   "cells": [
    {
     "cell_type": "markdown",
     "metadata": {},
     "source": [
      "Fall 2013  \n",
      "# CS 229: Machine Learning  \n",
      "Problem Sets  "
     ]
    },
    {
     "cell_type": "markdown",
     "metadata": {},
     "source": [
      "## Problem Set 1"
     ]
    },
    {
     "cell_type": "markdown",
     "metadata": {},
     "source": [
      "#### Question 1b"
     ]
    },
    {
     "cell_type": "code",
     "collapsed": false,
     "input": [
      "import numpy as np"
     ],
     "language": "python",
     "metadata": {},
     "outputs": [],
     "prompt_number": 1
    },
    {
     "cell_type": "code",
     "collapsed": false,
     "input": [
      "cd /home/lane/Classes/CS229/ps1/"
     ],
     "language": "python",
     "metadata": {},
     "outputs": [
      {
       "output_type": "stream",
       "stream": "stdout",
       "text": [
        "/home/lane/Classes/CS229/ps1\n"
       ]
      }
     ],
     "prompt_number": 2
    },
    {
     "cell_type": "code",
     "collapsed": false,
     "input": [
      "ls"
     ],
     "language": "python",
     "metadata": {},
     "outputs": [
      {
       "output_type": "stream",
       "stream": "stdout",
       "text": [
        "q1x.dat  q1y.dat  q2x.dat  q2y.dat\r\n"
       ]
      }
     ],
     "prompt_number": 3
    },
    {
     "cell_type": "markdown",
     "metadata": {},
     "source": [
      "Pre-processing"
     ]
    },
    {
     "cell_type": "code",
     "collapsed": false,
     "input": [
      "file1 = open(\"q1x.dat\",\"r\") \n",
      "file2 = open(\"q1y.dat\",\"r\")\n",
      "input1 = file1.readlines()\n",
      "input2 = file2.readlines()\n",
      "file1.close()\n",
      "file2.close()\n",
      "\n",
      "x = []\n",
      "y = []\n",
      "for line in input1:\n",
      "    tmp = line.strip().split()\n",
      "    tmp = np.array([np.float(tmp[0]),np.float(tmp[1])])\n",
      "    x.append(tmp)\n",
      "\n",
      "for line in input2:\n",
      "    tmp = line.strip().split()\n",
      "    tmp = np.float(tmp[0])\n",
      "    y.append(tmp)\n",
      "\n",
      "tmp      = np.array(x)\n",
      "y        = np.array(y)\n",
      "x        = np.ones((tmp.shape[0],tmp.shape[1]+1))  # add ones for intercept\n",
      "x[:,1:3] = tmp\n",
      "    "
     ],
     "language": "python",
     "metadata": {},
     "outputs": [],
     "prompt_number": 96
    },
    {
     "cell_type": "markdown",
     "metadata": {},
     "source": [
      "Define log-likelihood function for logistic regression"
     ]
    },
    {
     "cell_type": "code",
     "collapsed": false,
     "input": [
      "def loglikelihood(theta, x, y):\n",
      "    \n",
      "    m   = len(x)\n",
      "    ell = 0\n",
      "    \n",
      "    for i in xrange(m):\n",
      "        h   = 1./(1 + np.exp(-np.dot(theta,x[i])))\n",
      "        ell = ell + (y[i]*np.log(h) + (1 - y[i])*np.log(1-h))\n",
      "    \n",
      "    return ell\n",
      "        "
     ],
     "language": "python",
     "metadata": {},
     "outputs": [],
     "prompt_number": 98
    },
    {
     "cell_type": "markdown",
     "metadata": {},
     "source": [
      "Run Newton's method for optimizing $\\ell(\\theta)$"
     ]
    },
    {
     "cell_type": "code",
     "collapsed": false,
     "input": [
      "# Initialize \\theta with zero vector\n",
      "theta = np.array([0,0,0])\n",
      "theta = theta.astype(np.float)\n",
      "\n",
      "# initial value of \\ell(\\theta)\n",
      "loglikelihood(theta, x, y)"
     ],
     "language": "python",
     "metadata": {},
     "outputs": [
      {
       "metadata": {},
       "output_type": "pyout",
       "prompt_number": 140,
       "text": [
        "-68.621570875434642"
       ]
      }
     ],
     "prompt_number": 140
    },
    {
     "cell_type": "code",
     "collapsed": false,
     "input": [
      "# Initialize \\theta with zero vector\n",
      "theta = np.array([0,0,0])\n",
      "theta = theta.astype(np.float)\n",
      "\n",
      "iterations = 500\n",
      "progress   = []\n",
      "thetas     = []\n",
      "progress.append(loglikelihood(theta,x,y))\n",
      "\n",
      "for i in xrange(iterations):\n",
      "    # define Hessian\n",
      "    Hess = np.zeros((3,3))\n",
      "\n",
      "    for i in xrange(3):\n",
      "        for j in xrange(3):\n",
      "            Hij = 0.\n",
      "            for k in xrange(len(x)):\n",
      "                h   = 1./(1 + np.exp(-np.dot(theta,x[i])))\n",
      "                Hij = Hij - (h*(1-h)*x[k,i]*x[k,j])\n",
      "            Hess[i,j] = Hij\n",
      "    \n",
      "    grad  = np.array([0,0,0])\n",
      "    theta = np.squeeze(np.asarray(theta))\n",
      "    alph = 1e-2\n",
      "    for i in xrange(3):\n",
      "        tmp    = np.zeros((3,))\n",
      "        tmp[i] = 1.\n",
      "        theta_plus = theta + alph*tmp\n",
      "        grad[i] = np.float(loglikelihood(theta_plus,x,y) - loglikelihood(theta,x,y))/np.float(theta_plus[i] - theta[i])\n",
      "       \n",
      "    H = matrix(Hess)\n",
      "    G = matrix(grad)\n",
      "    \n",
      "    #print H\n",
      "    #print G\n",
      "    \n",
      "    newton = H.I*G.transpose()\n",
      "    theta  = theta - newton.transpose()\n",
      "    #print theta\n",
      "    \n",
      "    thetas.append(theta)\n",
      "    progress.append(loglikelihood(theta,x,y))\n",
      "    \n",
      "    #print loglikelihood(theta,x,y)"
     ],
     "language": "python",
     "metadata": {},
     "outputs": [],
     "prompt_number": "*"
    },
    {
     "cell_type": "code",
     "collapsed": false,
     "input": [
      "theta[i][0]"
     ],
     "language": "python",
     "metadata": {},
     "outputs": [
      {
       "metadata": {},
       "output_type": "pyout",
       "prompt_number": 138,
       "text": [
        "matrix([[-1.28975917,  0.38421913,  0.62238431]])"
       ]
      }
     ],
     "prompt_number": 138
    },
    {
     "cell_type": "code",
     "collapsed": false,
     "input": [
      "theta"
     ],
     "language": "python",
     "metadata": {},
     "outputs": [
      {
       "metadata": {},
       "output_type": "pyout",
       "prompt_number": 126,
       "text": [
        "matrix([[-1.23435224, -1.24435224, -1.24435224],\n",
        "        [ 0.38285727,  0.37285727,  0.37285727],\n",
        "        [ 0.63476074,  0.62476074,  0.62476074]])"
       ]
      }
     ],
     "prompt_number": 126
    },
    {
     "cell_type": "code",
     "collapsed": false,
     "input": [
      "H.I*G.transpose()"
     ],
     "language": "python",
     "metadata": {},
     "outputs": [
      {
       "metadata": {},
       "output_type": "pyout",
       "prompt_number": 122,
       "text": [
        "matrix([[ 1.24435224],\n",
        "        [-0.37285727],\n",
        "        [-0.62476074]])"
       ]
      }
     ],
     "prompt_number": 122
    },
    {
     "cell_type": "code",
     "collapsed": false,
     "input": [
      "temp = theta\n",
      "alph = 1e-2\n",
      "temp[i] = np.float(temp[i]) + alph "
     ],
     "language": "python",
     "metadata": {},
     "outputs": [],
     "prompt_number": 102
    },
    {
     "cell_type": "code",
     "collapsed": false,
     "input": [
      "np.float(temp[i]) + alph "
     ],
     "language": "python",
     "metadata": {},
     "outputs": [
      {
       "metadata": {},
       "output_type": "pyout",
       "prompt_number": 104,
       "text": [
        "0.01"
       ]
      }
     ],
     "prompt_number": 104
    },
    {
     "cell_type": "code",
     "collapsed": false,
     "input": [
      "theta.astype(np.float)"
     ],
     "language": "python",
     "metadata": {},
     "outputs": [
      {
       "metadata": {},
       "output_type": "pyout",
       "prompt_number": 106,
       "text": [
        "array([ 0.,  0.,  0.])"
       ]
      }
     ],
     "prompt_number": 106
    },
    {
     "cell_type": "code",
     "collapsed": false,
     "input": [],
     "language": "python",
     "metadata": {},
     "outputs": []
    }
   ],
   "metadata": {}
  }
 ]
}