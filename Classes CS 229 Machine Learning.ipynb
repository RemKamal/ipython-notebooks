{
 "metadata": {
  "name": ""
 },
 "nbformat": 3,
 "nbformat_minor": 0,
 "worksheets": [
  {
   "cells": [
    {
     "cell_type": "markdown",
     "metadata": {},
     "source": [
      "Fall 2013  \n",
      "# CS 229: Machine Learning  \n",
      "Problem Sets  "
     ]
    },
    {
     "cell_type": "markdown",
     "metadata": {},
     "source": [
      "## Problem Set 1"
     ]
    },
    {
     "cell_type": "markdown",
     "metadata": {},
     "source": [
      "#### Question 1b"
     ]
    },
    {
     "cell_type": "code",
     "collapsed": false,
     "input": [
      "import numpy as np"
     ],
     "language": "python",
     "metadata": {},
     "outputs": [],
     "prompt_number": 1
    },
    {
     "cell_type": "code",
     "collapsed": false,
     "input": [
      "cd /home/lane/Classes/CS229/ps1/"
     ],
     "language": "python",
     "metadata": {},
     "outputs": [
      {
       "output_type": "stream",
       "stream": "stdout",
       "text": [
        "/home/lane/Classes/CS229/ps1\n"
       ]
      }
     ],
     "prompt_number": 2
    },
    {
     "cell_type": "code",
     "collapsed": false,
     "input": [
      "ls"
     ],
     "language": "python",
     "metadata": {},
     "outputs": [
      {
       "output_type": "stream",
       "stream": "stdout",
       "text": [
        "q1x.dat  q1y.dat  q2x.dat  q2y.dat\r\n"
       ]
      }
     ],
     "prompt_number": 3
    },
    {
     "cell_type": "markdown",
     "metadata": {},
     "source": [
      "Pre-processing"
     ]
    },
    {
     "cell_type": "code",
     "collapsed": false,
     "input": [
      "file1 = open(\"q1x.dat\",\"r\") \n",
      "file2 = open(\"q1y.dat\",\"r\")\n",
      "input1 = file1.readlines()\n",
      "input2 = file2.readlines()\n",
      "file1.close()\n",
      "file2.close()\n",
      "\n",
      "x = []\n",
      "y = []\n",
      "for line in input1:\n",
      "    tmp = line.strip().split()\n",
      "    tmp = np.array([np.float(tmp[0]),np.float(tmp[1])])\n",
      "    x.append(tmp)\n",
      "\n",
      "for line in input2:\n",
      "    tmp = line.strip().split()\n",
      "    tmp = np.float(tmp[0])\n",
      "    y.append(tmp)\n",
      "\n",
      "x = np.array(x)\n",
      "y = np.array(y)\n",
      "    "
     ],
     "language": "python",
     "metadata": {},
     "outputs": [],
     "prompt_number": 47
    },
    {
     "cell_type": "code",
     "collapsed": false,
     "input": [],
     "language": "python",
     "metadata": {},
     "outputs": []
    }
   ],
   "metadata": {}
  }
 ]
}