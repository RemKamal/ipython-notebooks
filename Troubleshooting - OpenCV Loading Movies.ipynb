{
 "metadata": {
  "name": "",
  "signature": "sha256:f3b9e17c7e22a8d365d8023939c836c3f08e61ecbb08465f3bc27f42476ec387"
 },
 "nbformat": 3,
 "nbformat_minor": 0,
 "worksheets": [
  {
   "cells": [
    {
     "cell_type": "code",
     "collapsed": false,
     "input": [
      "import numpy as np\n",
      "import time\n",
      "import cv2\n",
      "import brewer2mpl"
     ],
     "language": "python",
     "metadata": {},
     "outputs": [],
     "prompt_number": 1
    },
    {
     "cell_type": "code",
     "collapsed": false,
     "input": [
      "def load_frames(filename, nframes=None):\n",
      "    cap = cv2.VideoCapture(filename)\n",
      "    data_frames = cap.get(cv2.cv.CV_CAP_PROP_FRAME_COUNT)\n",
      "    if nframes is None:\n",
      "        nframes = int(data_frames)\n",
      "    else:\n",
      "        nframes = int(np.minimum(nframes, cap.get(cv2.cv.CV_CAP_PROP_FRAME_COUNT)))\n",
      "    width = cap.get(cv2.cv.CV_CAP_PROP_FRAME_WIDTH)\n",
      "    height = cap.get(cv2.cv.CV_CAP_PROP_FRAME_HEIGHT)\n",
      "    fps = cap.get(cv2.cv.CV_CAP_PROP_FPS)\n",
      "    t = 0\n",
      "    frames = None\n",
      "    while(cap.isOpened() and t < nframes):\n",
      "        ret, frame = cap.read()\n",
      "        # Convert to grayscale\n",
      "        gray = cv2.cvtColor(frame, cv2.COLOR_BGR2GRAY)\n",
      "        # Downsample by 8x\n",
      "        gray = cv2.pyrDown(gray)\n",
      "        gray = cv2.pyrDown(gray)\n",
      "        gray = cv2.pyrDown(gray)\n",
      "        if frames is None:\n",
      "           frames = np.zeros( (nframes,) + gray.shape,dtype=np.uint8)\n",
      "        frames[t] = gray\n",
      "        t+=1\n",
      "        if (t+1) % 1000 == 0:\n",
      "            print '%d / %d' % (t+1, nframes)\n",
      "    return frames.astype(np.float32), fps"
     ],
     "language": "python",
     "metadata": {},
     "outputs": [],
     "prompt_number": 47
    },
    {
     "cell_type": "code",
     "collapsed": false,
     "input": [
      "cd /Users/lmcintosh/Pictures/Photos/Locations/Stanford\\ Spring\\ Break\\ 2014"
     ],
     "language": "python",
     "metadata": {},
     "outputs": [
      {
       "output_type": "stream",
       "stream": "stdout",
       "text": [
        "/Users/lmcintosh/Pictures/Photos/Locations/Stanford Spring Break 2014\n"
       ]
      }
     ],
     "prompt_number": 3
    },
    {
     "cell_type": "code",
     "collapsed": false,
     "input": [
      "frames, fps = load_frames(\"2014-03-28 12.38.42.mov\")"
     ],
     "language": "python",
     "metadata": {},
     "outputs": [],
     "prompt_number": 14
    },
    {
     "cell_type": "code",
     "collapsed": false,
     "input": [
      "filename = \"2014-03-28 12.38.42.mov\"\n",
      "cap = cv2.VideoCapture(filename)"
     ],
     "language": "python",
     "metadata": {},
     "outputs": [],
     "prompt_number": 5
    },
    {
     "cell_type": "code",
     "collapsed": false,
     "input": [
      "%timeit cap.read()"
     ],
     "language": "python",
     "metadata": {},
     "outputs": [
      {
       "output_type": "stream",
       "stream": "stdout",
       "text": [
        "10 loops, best of 3: 71.7 ms per loop\n"
       ]
      }
     ],
     "prompt_number": 11
    },
    {
     "cell_type": "code",
     "collapsed": false,
     "input": [
      "shape(frames)"
     ],
     "language": "python",
     "metadata": {},
     "outputs": [
      {
       "metadata": {},
       "output_type": "pyout",
       "prompt_number": 15,
       "text": [
        "(313, 240, 135)"
       ]
      }
     ],
     "prompt_number": 15
    },
    {
     "cell_type": "code",
     "collapsed": false,
     "input": [
      "shape(frames)[0]/fps"
     ],
     "language": "python",
     "metadata": {},
     "outputs": [
      {
       "metadata": {},
       "output_type": "pyout",
       "prompt_number": 18,
       "text": [
        "10.433333333333335"
       ]
      }
     ],
     "prompt_number": 18
    },
    {
     "cell_type": "code",
     "collapsed": false,
     "input": [
      "cd ~/Downloads/"
     ],
     "language": "python",
     "metadata": {},
     "outputs": [
      {
       "output_type": "stream",
       "stream": "stdout",
       "text": [
        "/Users/lmcintosh/Downloads\n"
       ]
      }
     ],
     "prompt_number": 19
    },
    {
     "cell_type": "code",
     "collapsed": false,
     "input": [
      "filename = \"VIRAT_S_000001.mp4\"\n",
      "cap = cv2.VideoCapture(filename)"
     ],
     "language": "python",
     "metadata": {},
     "outputs": [],
     "prompt_number": 20
    },
    {
     "cell_type": "code",
     "collapsed": false,
     "input": [
      "%timeit cap.read()"
     ],
     "language": "python",
     "metadata": {},
     "outputs": [
      {
       "output_type": "stream",
       "stream": "stdout",
       "text": [
        "1 loops, best of 3: 142 ms per loop\n"
       ]
      }
     ],
     "prompt_number": 21
    },
    {
     "cell_type": "code",
     "collapsed": false,
     "input": [
      "%timeit cap.read()"
     ],
     "language": "python",
     "metadata": {},
     "outputs": [
      {
       "output_type": "stream",
       "stream": "stdout",
       "text": [
        "10 loops, best of 3: 375 ms per loop\n"
       ]
      }
     ],
     "prompt_number": 22
    },
    {
     "cell_type": "code",
     "collapsed": false,
     "input": [
      "%timeit cap.read()"
     ],
     "language": "python",
     "metadata": {},
     "outputs": [
      {
       "output_type": "stream",
       "stream": "stdout",
       "text": [
        "1 loops, best of 3: 42.2 ms per loop\n"
       ]
      }
     ],
     "prompt_number": 23
    },
    {
     "cell_type": "code",
     "collapsed": false,
     "input": [
      "%timeit success, frame = cap.read()"
     ],
     "language": "python",
     "metadata": {},
     "outputs": [
      {
       "output_type": "stream",
       "stream": "stdout",
       "text": [
        "10 loops, best of 3: 1.04 s per loop\n"
       ]
      }
     ],
     "prompt_number": 24
    },
    {
     "cell_type": "code",
     "collapsed": false,
     "input": [
      "%timeit success, frame = cap.read()"
     ],
     "language": "python",
     "metadata": {},
     "outputs": [
      {
       "output_type": "stream",
       "stream": "stdout",
       "text": [
        "10 loops, best of 3: 1.44 s per loop\n"
       ]
      }
     ],
     "prompt_number": 25
    },
    {
     "cell_type": "code",
     "collapsed": true,
     "input": [
      "cap.read()"
     ],
     "language": "python",
     "metadata": {},
     "outputs": [
      {
       "metadata": {},
       "output_type": "pyout",
       "prompt_number": 38,
       "text": [
        "(True, array([[[ 47,  43,  41],\n",
        "         [ 45,  41,  39],\n",
        "         [ 44,  40,  38],\n",
        "         ..., \n",
        "         [132, 120, 115],\n",
        "         [131, 119, 114],\n",
        "         [131, 119, 114]],\n",
        " \n",
        "        [[ 46,  42,  40],\n",
        "         [ 44,  40,  38],\n",
        "         [ 44,  40,  38],\n",
        "         ..., \n",
        "         [133, 121, 116],\n",
        "         [133, 121, 116],\n",
        "         [133, 121, 116]],\n",
        " \n",
        "        [[ 45,  41,  39],\n",
        "         [ 42,  38,  36],\n",
        "         [ 45,  41,  39],\n",
        "         ..., \n",
        "         [135, 123, 118],\n",
        "         [135, 123, 118],\n",
        "         [135, 123, 118]],\n",
        " \n",
        "        ..., \n",
        "        [[103, 134, 109],\n",
        "         [ 82, 113,  88],\n",
        "         [ 72, 103,  79],\n",
        "         ..., \n",
        "         [ 61,  92,  82],\n",
        "         [ 63,  94,  82],\n",
        "         [ 62,  93,  81]],\n",
        " \n",
        "        [[137, 166, 141],\n",
        "         [124, 153, 128],\n",
        "         [123, 153, 125],\n",
        "         ..., \n",
        "         [ 53,  84,  72],\n",
        "         [ 66,  97,  85],\n",
        "         [ 66,  97,  85]],\n",
        " \n",
        "        [[112, 141, 116],\n",
        "         [123, 152, 127],\n",
        "         [129, 159, 131],\n",
        "         ..., \n",
        "         [ 52,  83,  71],\n",
        "         [ 56,  87,  75],\n",
        "         [ 66,  97,  85]]], dtype=uint8))"
       ]
      }
     ],
     "prompt_number": 38
    },
    {
     "cell_type": "code",
     "collapsed": false,
     "input": [
      "%timeit gray = cv2.cvtColor(frame, cv2.COLOR_BGR2GRAY)"
     ],
     "language": "python",
     "metadata": {},
     "outputs": [
      {
       "output_type": "stream",
       "stream": "stdout",
       "text": [
        "1000 loops, best of 3: 913 \u00b5s per loop\n"
       ]
      }
     ],
     "prompt_number": 28
    },
    {
     "cell_type": "code",
     "collapsed": false,
     "input": [
      "filename = \"VIRAT_S_000001_avi.avi\"\n",
      "capNew = cv2.VideoCapture(filename)"
     ],
     "language": "python",
     "metadata": {},
     "outputs": [],
     "prompt_number": 41
    },
    {
     "cell_type": "code",
     "collapsed": false,
     "input": [
      "%timeit success, frame = capNew.read()"
     ],
     "language": "python",
     "metadata": {},
     "outputs": [
      {
       "output_type": "stream",
       "stream": "stdout",
       "text": [
        "10 loops, best of 3: 33.8 ms per loop\n"
       ]
      }
     ],
     "prompt_number": 46
    },
    {
     "cell_type": "code",
     "collapsed": false,
     "input": [
      "frames, fps = load_frames(\"VIRAT_S_000001_avi.avi\")"
     ],
     "language": "python",
     "metadata": {},
     "outputs": [
      {
       "output_type": "stream",
       "stream": "stdout",
       "text": [
        "1000 / 6387\n",
        "2000 / 6387"
       ]
      },
      {
       "output_type": "stream",
       "stream": "stdout",
       "text": [
        "\n",
        "3000 / 6387"
       ]
      },
      {
       "output_type": "stream",
       "stream": "stdout",
       "text": [
        "\n",
        "4000 / 6387"
       ]
      },
      {
       "output_type": "stream",
       "stream": "stdout",
       "text": [
        "\n",
        "5000 / 6387"
       ]
      },
      {
       "output_type": "stream",
       "stream": "stdout",
       "text": [
        "\n",
        "6000 / 6387"
       ]
      },
      {
       "output_type": "stream",
       "stream": "stdout",
       "text": [
        "\n"
       ]
      },
      {
       "ename": "error",
       "evalue": "/Users/vagrant/pisi-64bit/tmp/opencv-2.4.9-1/work/opencv-2.4.9/modules/imgproc/src/color.cpp:3737: error: (-215) scn == 3 || scn == 4 in function cvtColor\n",
       "output_type": "pyerr",
       "traceback": [
        "\u001b[0;31m---------------------------------------------------------------------------\u001b[0m\n\u001b[0;31merror\u001b[0m                                     Traceback (most recent call last)",
        "\u001b[0;32m<ipython-input-48-0d88f238a257>\u001b[0m in \u001b[0;36m<module>\u001b[0;34m()\u001b[0m\n\u001b[0;32m----> 1\u001b[0;31m \u001b[0mframes\u001b[0m\u001b[0;34m,\u001b[0m \u001b[0mfps\u001b[0m \u001b[0;34m=\u001b[0m \u001b[0mload_frames\u001b[0m\u001b[0;34m(\u001b[0m\u001b[0;34m\"VIRAT_S_000001_avi.avi\"\u001b[0m\u001b[0;34m)\u001b[0m\u001b[0;34m\u001b[0m\u001b[0m\n\u001b[0m",
        "\u001b[0;32m<ipython-input-47-31b0decbeeef>\u001b[0m in \u001b[0;36mload_frames\u001b[0;34m(filename, nframes)\u001b[0m\n\u001b[1;32m     14\u001b[0m         \u001b[0mret\u001b[0m\u001b[0;34m,\u001b[0m \u001b[0mframe\u001b[0m \u001b[0;34m=\u001b[0m \u001b[0mcap\u001b[0m\u001b[0;34m.\u001b[0m\u001b[0mread\u001b[0m\u001b[0;34m(\u001b[0m\u001b[0;34m)\u001b[0m\u001b[0;34m\u001b[0m\u001b[0m\n\u001b[1;32m     15\u001b[0m         \u001b[0;31m# Convert to grayscale\u001b[0m\u001b[0;34m\u001b[0m\u001b[0;34m\u001b[0m\u001b[0m\n\u001b[0;32m---> 16\u001b[0;31m         \u001b[0mgray\u001b[0m \u001b[0;34m=\u001b[0m \u001b[0mcv2\u001b[0m\u001b[0;34m.\u001b[0m\u001b[0mcvtColor\u001b[0m\u001b[0;34m(\u001b[0m\u001b[0mframe\u001b[0m\u001b[0;34m,\u001b[0m \u001b[0mcv2\u001b[0m\u001b[0;34m.\u001b[0m\u001b[0mCOLOR_BGR2GRAY\u001b[0m\u001b[0;34m)\u001b[0m\u001b[0;34m\u001b[0m\u001b[0m\n\u001b[0m\u001b[1;32m     17\u001b[0m         \u001b[0;31m# Downsample by 8x\u001b[0m\u001b[0;34m\u001b[0m\u001b[0;34m\u001b[0m\u001b[0m\n\u001b[1;32m     18\u001b[0m         \u001b[0mgray\u001b[0m \u001b[0;34m=\u001b[0m \u001b[0mcv2\u001b[0m\u001b[0;34m.\u001b[0m\u001b[0mpyrDown\u001b[0m\u001b[0;34m(\u001b[0m\u001b[0mgray\u001b[0m\u001b[0;34m)\u001b[0m\u001b[0;34m\u001b[0m\u001b[0m\n",
        "\u001b[0;31merror\u001b[0m: /Users/vagrant/pisi-64bit/tmp/opencv-2.4.9-1/work/opencv-2.4.9/modules/imgproc/src/color.cpp:3737: error: (-215) scn == 3 || scn == 4 in function cvtColor\n"
       ]
      }
     ],
     "prompt_number": 48
    },
    {
     "cell_type": "code",
     "collapsed": false,
     "input": [],
     "language": "python",
     "metadata": {},
     "outputs": []
    }
   ],
   "metadata": {}
  }
 ]
}