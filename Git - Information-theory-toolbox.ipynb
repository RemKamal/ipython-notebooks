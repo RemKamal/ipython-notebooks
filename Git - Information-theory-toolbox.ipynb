{
 "metadata": {
  "name": ""
 },
 "nbformat": 3,
 "nbformat_minor": 0,
 "worksheets": [
  {
   "cells": [
    {
     "cell_type": "markdown",
     "metadata": {},
     "source": [
      "#Entropy estimators"
     ]
    },
    {
     "cell_type": "code",
     "collapsed": false,
     "input": [
      "import numpy as np"
     ],
     "language": "python",
     "metadata": {},
     "outputs": [],
     "prompt_number": 2
    },
    {
     "cell_type": "markdown",
     "metadata": {},
     "source": [
      "#### Nearest-neighbors"
     ]
    },
    {
     "cell_type": "code",
     "collapsed": false,
     "input": [
      "def nearestNeighborsEntropy(x):\n",
      "    '''Compute the binless entropy (bits) of a random vector using average nearest \n",
      "    neighbors distance (Kozachenko and Leonenko, 1987).\n",
      "    \n",
      "    For a review see Beirlant et al., 2001.\n",
      "    '''\n",
      "\n",
      "    rho = np.zeros((x.shape[0],))\n",
      "    H   = 0\n",
      "    for idx,pt in enumerate(x):\n",
      "        # get second smallest minimum distance (first will always be i=j)\n",
      "        if idx > 1:\n",
      "            if len(x.shape) > 1:\n",
      "                rho[idx] = sort(np.sqrt(sum((pt - x[:idx-1,:])**2,axis=1)))[0]\n",
      "            else:\n",
      "                rho[idx] = sort(abs(pt - x[:idx-1]))[0]\n",
      "                \n",
      "            #H = 1/n sum_i=1^n ln(n*rho_n,i) + ln(2) + Euler's constant  \n",
      "            H += log((idx+1)*rho[idx])\n",
      "        \n",
      "    \n",
      "    # convert nats to bits log2(e)*\n",
      "    return log2(e)*((1.0/float(len(x)))*H + log(2) + 0.5772156649)"
     ],
     "language": "python",
     "metadata": {},
     "outputs": [],
     "prompt_number": 160
    },
    {
     "cell_type": "code",
     "collapsed": false,
     "input": [
      "x = randn(1e3,4)\n",
      "from scipy.spatial.distance import pdist, squareform\n",
      "\n",
      "def getrho(x):\n",
      "    D = squareform(pdist(x, 'euclidean'))\n",
      "    D = D + np.max(D)*eye(D.shape[0])\n",
      "    return np.min(D, axis=0)\n",
      "\n",
      "def lognn(x):\n",
      "    rho = getrho(x)\n",
      "    return ((np.sum(log(x.shape[0]*rho) + log(2) + 0.577))/x.shape[0])"
     ],
     "language": "python",
     "metadata": {},
     "outputs": [],
     "prompt_number": 271
    },
    {
     "cell_type": "code",
     "collapsed": false,
     "input": [
      "n = np.arange(1,10)\n",
      "z = [lognn(np.random.randn(1e3,i)) for i in n]"
     ],
     "language": "python",
     "metadata": {},
     "outputs": [],
     "prompt_number": 272
    },
    {
     "cell_type": "code",
     "collapsed": false,
     "input": [
      "plot(n,z,'o')"
     ],
     "language": "python",
     "metadata": {},
     "outputs": [
      {
       "metadata": {},
       "output_type": "pyout",
       "prompt_number": 273,
       "text": [
        "[<matplotlib.lines.Line2D at 0x7f9491c58bd0>]"
       ]
      },
      {
       "metadata": {},
       "output_type": "display_data",
       "png": "[encoded data removed]",
       "text": [
        "<matplotlib.figure.Figure at 0x7f9491194390>"
       ]
      }
     ],
     "prompt_number": 273
    },
    {
     "cell_type": "code",
     "collapsed": false,
     "input": [
      "dim = np.arange(1,50)\n",
      "rhoavg = [np.mean(log(1e3*getrho(randn(1e3, i)))) for i in dim]\n",
      "plot(dim, rhoavg, 'o')"
     ],
     "language": "python",
     "metadata": {},
     "outputs": [
      {
       "metadata": {},
       "output_type": "pyout",
       "prompt_number": 276,
       "text": [
        "[<matplotlib.lines.Line2D at 0x7f949037da10>]"
       ]
      },
      {
       "metadata": {},
       "output_type": "display_data",
       "png": "[encoded data removed]",
       "text": [
        "<matplotlib.figure.Figure at 0x7f94900b5d50>"
       ]
      }
     ],
     "prompt_number": 276
    },
    {
     "cell_type": "code",
     "collapsed": false,
     "input": [
      "estimates = zeros(100)\n",
      "for iter in xrange(100):\n",
      "    x = randn(1000,9)\n",
      "    estimates[iter] = nearestNeighborsEntropy(x)\n",
      "\n",
      "hist(estimates)  "
     ],
     "language": "python",
     "metadata": {},
     "outputs": [
      {
       "metadata": {},
       "output_type": "pyout",
       "prompt_number": 188,
       "text": [
        "(array([  8.,  12.,   7.,  10.,  12.,  23.,  15.,   4.,   4.,   5.]),\n",
        " array([ 11.15516016,  11.1608206 ,  11.16648103,  11.17214147,\n",
        "        11.1778019 ,  11.18346234,  11.18912277,  11.1947832 ,\n",
        "        11.20044364,  11.20610407,  11.21176451]),\n",
        " <a list of 10 Patch objects>)"
       ]
      },
      {
       "metadata": {},
       "output_type": "display_data",
       "png": "[encoded data removed]",
       "text": [
        "<matplotlib.figure.Figure at 0x3ced550>"
       ]
      }
     ],
     "prompt_number": 188
    },
    {
     "cell_type": "markdown",
     "metadata": {},
     "source": [
      "#### True entropy of a Gaussian RV"
     ]
    },
    {
     "cell_type": "markdown",
     "metadata": {},
     "source": [
      "One dimension"
     ]
    },
    {
     "cell_type": "code",
     "collapsed": false,
     "input": [
      ".5*np.log2(2*pi*e*np.cov(x))"
     ],
     "language": "python",
     "metadata": {},
     "outputs": [
      {
       "metadata": {},
       "output_type": "pyout",
       "prompt_number": 139,
       "text": [
        "2.0180695977642613"
       ]
      }
     ],
     "prompt_number": 139
    },
    {
     "cell_type": "code",
     "collapsed": false,
     "input": [
      ".5*log(2*pi*e*np.cov(x))"
     ],
     "language": "python",
     "metadata": {},
     "outputs": [
      {
       "metadata": {},
       "output_type": "pyout",
       "prompt_number": 140,
       "text": [
        "1.3988192518640408"
       ]
      }
     ],
     "prompt_number": 140
    },
    {
     "cell_type": "markdown",
     "metadata": {},
     "source": [
      "N-dimensions"
     ]
    },
    {
     "cell_type": "code",
     "collapsed": false,
     "input": [
      "0.5*log2(2*pi*e)**4 * det(cov(x.transpose()))"
     ],
     "language": "python",
     "metadata": {},
     "outputs": [
      {
       "metadata": {},
       "output_type": "pyout",
       "prompt_number": 107,
       "text": [
        "139.52521326151242"
       ]
      }
     ],
     "prompt_number": 107
    },
    {
     "cell_type": "code",
     "collapsed": false,
     "input": [
      "det(cov(x.transpose()))"
     ],
     "language": "python",
     "metadata": {},
     "outputs": [
      {
       "metadata": {},
       "output_type": "pyout",
       "prompt_number": 99,
       "text": [
        "0.94900729859770516"
       ]
      }
     ],
     "prompt_number": 99
    },
    {
     "cell_type": "code",
     "collapsed": false,
     "input": [
      "log2(2*pi*e)**4"
     ],
     "language": "python",
     "metadata": {},
     "outputs": [
      {
       "metadata": {},
       "output_type": "pyout",
       "prompt_number": 102,
       "text": [
        "280.97809866527399"
       ]
      }
     ],
     "prompt_number": 102
    },
    {
     "cell_type": "code",
     "collapsed": false,
     "input": [
      "0.5*log2(2*pi*e)**4"
     ],
     "language": "python",
     "metadata": {},
     "outputs": [
      {
       "metadata": {},
       "output_type": "pyout",
       "prompt_number": 108,
       "text": [
        "140.48904933263699"
       ]
      }
     ],
     "prompt_number": 108
    },
    {
     "cell_type": "code",
     "collapsed": false,
     "input": [
      "0.5*log2(det(2*pi*e*cov(x.transpose())))"
     ],
     "language": "python",
     "metadata": {},
     "outputs": [
      {
       "metadata": {},
       "output_type": "pyout",
       "prompt_number": 189,
       "text": [
        "18.366460986215138"
       ]
      }
     ],
     "prompt_number": 189
    },
    {
     "cell_type": "code",
     "collapsed": false,
     "input": [
      "def nearestNeighborsEntropy(x):\n",
      "    '''Compute the binless entropy (bits) of a random vector using average nearest \n",
      "    neighbors distance (Kozachenko and Leonenko, 1987).\n",
      "    \n",
      "    For a review see Beirlant et al., 2001.\n",
      "    '''\n",
      "\n",
      "    rho = np.zeros((x.shape[0],))\n",
      "    H   = 0\n",
      "    for idx,pt in enumerate(x):\n",
      "        # get second smallest minimum distance (first will always be i=j)\n",
      "        #if idx > 1:\n",
      "        if len(x.shape) > 1:\n",
      "            rho[idx] = sort(np.sqrt(sum((pt - x)**2,axis=1)))[1]\n",
      "        else:\n",
      "            rho[idx] = sort(abs(pt - x))[0]\n",
      "                \n",
      "        #H = 1/n sum_i=1^n ln(n*rho_n,i) + ln(2) + Euler's constant  \n",
      "        H += log((idx+1)*rho[idx])\n",
      "        \n",
      "    \n",
      "    # convert nats to bits log2(e)*\n",
      "    return (1.0/float(len(x)))*H + log(2) + 0.5772156649"
     ],
     "language": "python",
     "metadata": {},
     "outputs": [],
     "prompt_number": 192
    },
    {
     "cell_type": "code",
     "collapsed": false,
     "input": [
      "estimates = zeros(100)\n",
      "for iter in xrange(100):\n",
      "    x = randn(1000,9)\n",
      "    estimates[iter] = nearestNeighborsEntropy(x)\n",
      "\n",
      "hist(estimates)"
     ],
     "language": "python",
     "metadata": {},
     "outputs": [
      {
       "metadata": {},
       "output_type": "pyout",
       "prompt_number": 193,
       "text": [
        "(array([  3.,   4.,  12.,  18.,  22.,  20.,  12.,   7.,   0.,   2.]),\n",
        " array([ 7.61471646,  7.61957962,  7.62444278,  7.62930594,  7.63416909,\n",
        "        7.63903225,  7.64389541,  7.64875857,  7.65362172,  7.65848488,\n",
        "        7.66334804]),\n",
        " <a list of 10 Patch objects>)"
       ]
      },
      {
       "metadata": {},
       "output_type": "display_data",
       "png": "[encoded data removed]",
       "text": [
        "<matplotlib.figure.Figure at 0x3d0be10>"
       ]
      }
     ],
     "prompt_number": 193
    },
    {
     "cell_type": "code",
     "collapsed": false,
     "input": [],
     "language": "python",
     "metadata": {},
     "outputs": []
    },
    {
     "cell_type": "code",
     "collapsed": false,
     "input": [
      "def nearestNeighborsEntropy(x):\n",
      "    '''Compute the binless entropy (bits) of a random vector using average nearest \n",
      "    neighbors distance (Kozachenko and Leonenko, 1987).\n",
      "    \n",
      "    For a review see Beirlant et al., 2001.\n",
      "    '''\n",
      "\n",
      "    rho = np.zeros((x.shape[0],))\n",
      "    H   = 0\n",
      "    for idx,pt in enumerate(x):\n",
      "        # get second smallest minimum distance (first will always be i=j)\n",
      "        if idx > 1:\n",
      "            if len(x.shape) > 1:\n",
      "                rho[idx] = sort(np.sqrt(sum((pt - x[:idx-1,:])**2,axis=1)))[0]\n",
      "            else:\n",
      "                rho[idx] = sort(abs(pt - x[:idx-1]))[0]\n",
      "                \n",
      "            #H = 1/n sum_i=1^n ln(n*rho_n,i) + ln(2) + Euler's constant  \n",
      "            H += log2((idx+1)*rho[idx])\n",
      "        \n",
      "    \n",
      "    # convert nats to bits log2(e)*\n",
      "    return log2(e)*((1.0/float(len(x)))*H + log2(2) + 0.5772156649)"
     ],
     "language": "python",
     "metadata": {},
     "outputs": [],
     "prompt_number": 204
    },
    {
     "cell_type": "code",
     "collapsed": false,
     "input": [
      "estimates = zeros(100)\n",
      "for iter in xrange(100):\n",
      "    x = randn(1000,9)\n",
      "    estimates[iter] = nearestNeighborsEntropy(x)\n",
      "\n",
      "hist(estimates)"
     ],
     "language": "python",
     "metadata": {},
     "outputs": [
      {
       "metadata": {},
       "output_type": "pyout",
       "prompt_number": 205,
       "text": [
        "(array([  4.,   5.,  12.,  13.,  11.,  19.,  13.,  11.,   7.,   5.]),\n",
        " array([ 15.72485255,  15.73246926,  15.74008598,  15.74770269,\n",
        "        15.7553194 ,  15.76293612,  15.77055283,  15.77816954,\n",
        "        15.78578626,  15.79340297,  15.80101969]),\n",
        " <a list of 10 Patch objects>)"
       ]
      },
      {
       "metadata": {},
       "output_type": "display_data",
       "png": "[encoded data removed]",
       "text": [
        "<matplotlib.figure.Figure at 0x4c24690>"
       ]
      }
     ],
     "prompt_number": 205
    },
    {
     "cell_type": "code",
     "collapsed": false,
     "input": [
      "dimensions = range(1,10)\n",
      "empirical = zeros(len(dimensions))\n",
      "true      = zeros(len(dimensions))\n",
      "for idx,d in enumerate(dimensions):\n",
      "    estimates1 = zeros(100)\n",
      "    estimates2 = zeros(100)\n",
      "    for i in xrange(100):\n",
      "        x = randn(1000,d)\n",
      "        estimates1[i] = nearestNeighborsEntropy(x)\n",
      "        if d > 1:\n",
      "            estimates2[i] = 0.5*log2(det(2*pi*e*cov(x.transpose())))\n",
      "        else:\n",
      "            estimates2[i] = 0.5*log2(2*pi*e*cov(x.transpose()))\n",
      "    \n",
      "    empirical[idx] = mean(estimates1)\n",
      "    true[idx]      = mean(estimates2)\n",
      "        \n",
      "    "
     ],
     "language": "python",
     "metadata": {},
     "outputs": [],
     "prompt_number": 212
    },
    {
     "cell_type": "code",
     "collapsed": false,
     "input": [
      "fig = gcf()\n",
      "fig.set_size_inches((10,6))\n",
      "\n",
      "plot(dimensions,empirical,'r')\n",
      "plot(dimensions,true,'g')"
     ],
     "language": "python",
     "metadata": {},
     "outputs": [
      {
       "metadata": {},
       "output_type": "pyout",
       "prompt_number": 217,
       "text": [
        "[<matplotlib.lines.Line2D at 0x4fa72d0>]"
       ]
      },
      {
       "metadata": {},
       "output_type": "display_data",
       "png": "[encoded data removed]",
       "text": [
        "<matplotlib.figure.Figure at 0x4e34490>"
       ]
      }
     ],
     "prompt_number": 217
    },
    {
     "cell_type": "code",
     "collapsed": false,
     "input": [
      "def entropy(n):\n",
      "    return 0.5*log2( (2*pi*exp(1))**n  )"
     ],
     "language": "python",
     "metadata": {},
     "outputs": [],
     "prompt_number": 267
    },
    {
     "cell_type": "code",
     "collapsed": false,
     "input": [
      "n = np.linspace(0,100,1e3)\n",
      "plot(n, entropy(n), '--')"
     ],
     "language": "python",
     "metadata": {},
     "outputs": [
      {
       "metadata": {},
       "output_type": "pyout",
       "prompt_number": 269,
       "text": [
        "[<matplotlib.lines.Line2D at 0x7f9491185850>]"
       ]
      },
      {
       "metadata": {},
       "output_type": "display_data",
       "png": "[encoded data removed]",
       "text": [
        "<matplotlib.figure.Figure at 0x93019d0>"
       ]
      }
     ],
     "prompt_number": 269
    },
    {
     "cell_type": "code",
     "collapsed": false,
     "input": [],
     "language": "python",
     "metadata": {},
     "outputs": [
      {
       "metadata": {},
       "output_type": "pyout",
       "prompt_number": 270,
       "text": [
        "1.0"
       ]
      }
     ],
     "prompt_number": 270
    },
    {
     "cell_type": "markdown",
     "metadata": {},
     "source": [
      "## Real function taken from Chandler and Field  \n",
      "\n",
      "The one from the Bierlant paper was only for one dimension, even though they failed to mention that."
     ]
    },
    {
     "cell_type": "code",
     "collapsed": false,
     "input": [
      "from scipy.spatial.distance import pdist, squareform\n",
      "\n",
      "def getrho(x):\n",
      "    if len(x.shape) < 2:\n",
      "        x = np.reshape(x, (1000,1)\n",
      "    D = squareform(pdist(x, 'euclidean'))\n",
      "    D = D + np.max(D)*eye(D.shape[0])\n",
      "    return np.min(D, axis=0)\n",
      "\n",
      "def lognn(x):\n",
      "    rho = getrho(x)\n",
      "    return ((np.sum(log(x.shape[0]*rho) + log(2) + 0.577))/x.shape[0])\n",
      "\n",
      "def nearestNeighborsEntropy(x):\n",
      "    '''Compute the binless entropy (bits) of a random vector using average nearest \n",
      "    neighbors distance (Kozachenko and Leonenko, 1987).\n",
      "    \n",
      "    For a review see Beirlant et al., 2001 or Chandler & Field, 2007.\n",
      "    '''\n",
      "\n",
      "    if len(x.shape) > 1:\n",
      "        k = x.shape[1]\n",
      "    else:\n",
      "        k = 1\n",
      "    \n",
      "    rho = np.zeros((x.shape[0],))\n",
      "    H   = 0\n",
      "    Ak  = (k*pi**(k/2))/gamma(k/2+1)\n",
      "        \n",
      "    for idx,pt in enumerate(x):\n",
      "        # get second smallest minimum distance (first will always be i=j)\n",
      "        if idx > 1:\n",
      "            if len(x.shape) > 1:\n",
      "                rho[idx] = sort(np.sqrt(sum((pt - x)**2,axis=1)))[1]\n",
      "            else:\n",
      "                rho[idx] = sort(abs(pt - x))[1]\n",
      "                \n",
      "            #H = 1/n sum_i=1^n ln(n*rho_n,i) + ln(2) + Euler's constant  \n",
      "            H += log2(rho[idx])\n",
      "        \n",
      "    \n",
      "    # convert nats to bits (multiply by log2(e))\n",
      "    return (k/x.shape[0])*H + log2(Ak*(x.shape[0]-1)/k) + 0.5772156649/log(2)"
     ],
     "language": "python",
     "metadata": {},
     "outputs": [
      {
       "ename": "SyntaxError",
       "evalue": "invalid syntax (<ipython-input-75-e61f9bebe8f1>, line 6)",
       "output_type": "pyerr",
       "traceback": [
        "\u001b[1;36m  File \u001b[1;32m\"<ipython-input-75-e61f9bebe8f1>\"\u001b[1;36m, line \u001b[1;32m6\u001b[0m\n\u001b[1;33m    D = squareform(pdist(x, 'euclidean'))\u001b[0m\n\u001b[1;37m    ^\u001b[0m\n\u001b[1;31mSyntaxError\u001b[0m\u001b[1;31m:\u001b[0m invalid syntax\n"
       ]
      }
     ],
     "prompt_number": 75
    },
    {
     "cell_type": "code",
     "collapsed": false,
     "input": [
      "from scipy.spatial.distance import pdist, squareform\n",
      "from scipy.special import gamma\n",
      "\n",
      "def getrho(x):\n",
      "    if len(x.shape) < 2:\n",
      "        x = np.reshape(x, (1000,1))\n",
      "    D = squareform(pdist(x, 'euclidean'))\n",
      "    D = D + np.max(D)*eye(D.shape[0])\n",
      "    return np.min(D, axis=0)\n",
      "\n",
      "def nearestNeighborsEntropy(x):\n",
      "    '''Compute the binless entropy (bits) of a random vector using average nearest \n",
      "    neighbors distance (Kozachenko and Leonenko, 1987).\n",
      "    \n",
      "    For a review see Beirlant et al., 2001 or Chandler & Field, 2007.\n",
      "    \n",
      "    x is samples by dimensions.\n",
      "    '''\n",
      "\n",
      "    if len(x.shape) > 1:\n",
      "        k = x.shape[1]\n",
      "    else:\n",
      "        k = 1\n",
      "    \n",
      "    Ak  = (k*pi**(float(k)/float(2)))/gamma(float(k)/float(2)+1)\n",
      "    rho = getrho(x)\n",
      "    H   = k*mean(log2(rho)) + log2(x.shape[0]*Ak/k) + log2(e)*0.5772156649\n",
      "    \n",
      "    return H\n",
      "        \n",
      "    \n",
      "    # convert nats to bits (multiply by log2(e))\n",
      "    #return (k/x.shape[0])*H + log2(Ak*(x.shape[0]-1)/k) + 0.5772156649/log(2)"
     ],
     "language": "python",
     "metadata": {},
     "outputs": [],
     "prompt_number": 95
    },
    {
     "cell_type": "code",
     "collapsed": false,
     "input": [
      "x = randn(1000,)\n",
      "nearestNeighborsEntropy(x)"
     ],
     "language": "python",
     "metadata": {},
     "outputs": [
      {
       "metadata": {},
       "output_type": "pyout",
       "prompt_number": 99,
       "text": [
        "1.9960623868468641"
       ]
      }
     ],
     "prompt_number": 99
    },
    {
     "cell_type": "code",
     "collapsed": false,
     "input": [
      "entropy(1)"
     ],
     "language": "python",
     "metadata": {},
     "outputs": [
      {
       "metadata": {},
       "output_type": "pyout",
       "prompt_number": 80,
       "text": [
        "2.0470955851806409"
       ]
      }
     ],
     "prompt_number": 80
    },
    {
     "cell_type": "code",
     "collapsed": false,
     "input": [
      "dim = range(1,15)\n",
      "z = [nearestNeighborsEntropy(randn(1000,d)) for d in dim]"
     ],
     "language": "python",
     "metadata": {},
     "outputs": [],
     "prompt_number": 30
    },
    {
     "cell_type": "code",
     "collapsed": false,
     "input": [
      "def entropy(n):\n",
      "    return 0.5*log2( (2*pi*exp(1))**n  )"
     ],
     "language": "python",
     "metadata": {},
     "outputs": [],
     "prompt_number": 34
    },
    {
     "cell_type": "code",
     "collapsed": false,
     "input": [
      "n = range(1,20)\n",
      "z = [nearestNeighborsEntropy(randn(5000,d)) for d in n]\n",
      "plot(n, entropy(n), '--')\n",
      "plot(n, z)"
     ],
     "language": "python",
     "metadata": {},
     "outputs": [
      {
       "metadata": {},
       "output_type": "pyout",
       "prompt_number": 97,
       "text": [
        "[<matplotlib.lines.Line2D at 0x3f99b10>]"
       ]
      },
      {
       "metadata": {},
       "output_type": "display_data",
       "png": "[encoded data removed]",
       "text": [
        "<matplotlib.figure.Figure at 0x3f99b50>"
       ]
      }
     ],
     "prompt_number": 97
    },
    {
     "cell_type": "code",
     "collapsed": false,
     "input": [
      "from scipy.special import gamma\n",
      "gamma(11)"
     ],
     "language": "python",
     "metadata": {},
     "outputs": [
      {
       "metadata": {},
       "output_type": "pyout",
       "prompt_number": 90,
       "text": [
        "3628800.0"
       ]
      }
     ],
     "prompt_number": 90
    },
    {
     "cell_type": "code",
     "collapsed": false,
     "input": [
      "gamma(1.5000)"
     ],
     "language": "python",
     "metadata": {},
     "outputs": [
      {
       "metadata": {},
       "output_type": "pyout",
       "prompt_number": 94,
       "text": [
        "0.88622692545275794"
       ]
      }
     ],
     "prompt_number": 94
    },
    {
     "cell_type": "code",
     "collapsed": false,
     "input": [],
     "language": "python",
     "metadata": {},
     "outputs": []
    }
   ],
   "metadata": {}
  }
 ]
}