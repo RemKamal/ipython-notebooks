{
 "metadata": {
  "name": "",
  "signature": "sha256:dcc5630a6a4ecc666d7f902a9170777527c209abe462be53a05c76df5c86b466"
 },
 "nbformat": 3,
 "nbformat_minor": 0,
 "worksheets": [
  {
   "cells": [
    {
     "cell_type": "markdown",
     "metadata": {},
     "source": [
      "# Problem Set 1"
     ]
    },
    {
     "cell_type": "code",
     "collapsed": false,
     "input": [
      "import collections\n",
      "import numpy as np"
     ],
     "language": "python",
     "metadata": {},
     "outputs": [],
     "prompt_number": 1
    },
    {
     "cell_type": "code",
     "collapsed": false,
     "input": [
      "def computeMaxWordLength(text):\n",
      "    \"\"\"\n",
      "    Given a string |text|, return the longest word in |text|.  If there are\n",
      "    ties, choose the word that comes latest in the alphabet. There won't be \n",
      "    puctuations and there will only be splits on spaces. You might find\n",
      "    max() and list comprehensions handy here.\n",
      "    \"\"\"\n",
      "    # BEGIN_YOUR_CODE (around 1 line of code expected)\n",
      "    return max(sorted(text.split(), key=str, reverse=True), key=len)\n",
      "    # END_YOUR_CODE\n"
     ],
     "language": "python",
     "metadata": {},
     "outputs": [],
     "prompt_number": 189
    },
    {
     "cell_type": "code",
     "collapsed": false,
     "input": [
      "computeMaxWordLength('AA aa ZZ')"
     ],
     "language": "python",
     "metadata": {},
     "outputs": [
      {
       "metadata": {},
       "output_type": "pyout",
       "prompt_number": 209,
       "text": [
        "'aa'"
       ]
      }
     ],
     "prompt_number": 209
    },
    {
     "cell_type": "code",
     "collapsed": false,
     "input": [
      "computeMaxWordLength('You you You')"
     ],
     "language": "python",
     "metadata": {},
     "outputs": [
      {
       "metadata": {},
       "output_type": "pyout",
       "prompt_number": 193,
       "text": [
        "'you'"
       ]
      }
     ],
     "prompt_number": 193
    },
    {
     "cell_type": "code",
     "collapsed": false,
     "input": [
      "text = 'ZZZZZZZ I was sorting through A Huge Piece of dirty LAUNDRY when I bumped into MY FIST!!'\n",
      "max(sorted(text.split(), reverse=True),key=len)"
     ],
     "language": "python",
     "metadata": {},
     "outputs": [
      {
       "metadata": {},
       "output_type": "pyout",
       "prompt_number": 52,
       "text": [
        "'through'"
       ]
      }
     ],
     "prompt_number": 52
    },
    {
     "cell_type": "code",
     "collapsed": false,
     "input": [
      "text"
     ],
     "language": "python",
     "metadata": {},
     "outputs": [
      {
       "metadata": {},
       "output_type": "pyout",
       "prompt_number": 27,
       "text": [
        "'aaaa yoda left me for you'"
       ]
      }
     ],
     "prompt_number": 27
    },
    {
     "cell_type": "code",
     "collapsed": false,
     "input": [
      "set(text)"
     ],
     "language": "python",
     "metadata": {},
     "outputs": [
      {
       "metadata": {},
       "output_type": "pyout",
       "prompt_number": 28,
       "text": [
        "{' ', 'a', 'd', 'e', 'f', 'l', 'm', 'o', 'r', 't', 'u', 'y'}"
       ]
      }
     ],
     "prompt_number": 28
    },
    {
     "cell_type": "code",
     "collapsed": false,
     "input": [
      "set(text.split())"
     ],
     "language": "python",
     "metadata": {},
     "outputs": [
      {
       "metadata": {},
       "output_type": "pyout",
       "prompt_number": 31,
       "text": [
        "{'aaaa', 'for', 'left', 'me', 'yoda', 'you'}"
       ]
      }
     ],
     "prompt_number": 31
    },
    {
     "cell_type": "code",
     "collapsed": false,
     "input": [
      "def createExistsFunction(text):\n",
      "    \"\"\"\n",
      "    Given a text, return a function f, where f(word) returns whether |word|\n",
      "    occurs in |text| or not.  f should run in O(1) time.  You might find it\n",
      "    useful to use set().\n",
      "    \"\"\"\n",
      "    # BEGIN_YOUR_CODE (around 4 lines of code expected)\n",
      "    def f(word):\n",
      "        if word in set(text.split()):\n",
      "            return True\n",
      "        else:\n",
      "            return False\n",
      "    return f\n",
      "    # END_YOUR_CODE"
     ],
     "language": "python",
     "metadata": {},
     "outputs": [],
     "prompt_number": 35
    },
    {
     "cell_type": "code",
     "collapsed": false,
     "input": [
      "func = createExistsFunction(text)"
     ],
     "language": "python",
     "metadata": {},
     "outputs": [],
     "prompt_number": 36
    },
    {
     "cell_type": "code",
     "collapsed": false,
     "input": [
      "def manhattanDistance(loc1, loc2):\n",
      "    \"\"\"\n",
      "    Return the Manhattan distance between two locations, where locations are\n",
      "    pairs (e.g., (3, 5)).\n",
      "    \"\"\"\n",
      "    # BEGIN_YOUR_CODE (around 1 line of code expected)\n",
      "    return abs(loc1[0] - loc2[0]) + abs(loc1[1] - loc2[1])\n",
      "    # END_YOUR_CODE\n"
     ],
     "language": "python",
     "metadata": {},
     "outputs": [],
     "prompt_number": 53
    },
    {
     "cell_type": "code",
     "collapsed": false,
     "input": [
      "def sparseVectorDotProduct(v1, v2):\n",
      "    \"\"\"\n",
      "    Given two sparse vectors |v1| and |v2|, each represented as Counters, return\n",
      "    their dot product.\n",
      "    You might find it useful to use sum() and a list comprehension.\n",
      "    \"\"\"\n",
      "    # BEGIN_YOUR_CODE (around 4 lines of code expected)\n",
      "    nonZeroKeys = v1.keys()\n",
      "    return sum([v1[k]*v2[k] for k in nonZeroKeys])\n",
      "    # END_YOUR_CODE"
     ],
     "language": "python",
     "metadata": {},
     "outputs": [],
     "prompt_number": 105
    },
    {
     "cell_type": "code",
     "collapsed": false,
     "input": [
      "v1 = collections.Counter({'a': 5, 'c' : 9})\n",
      "v2 = collections.Counter({'b': 2, 'a': 3, 'c' : 1})"
     ],
     "language": "python",
     "metadata": {},
     "outputs": [],
     "prompt_number": 110
    },
    {
     "cell_type": "code",
     "collapsed": false,
     "input": [
      "sparseVectorDotProduct(v1,v2)"
     ],
     "language": "python",
     "metadata": {},
     "outputs": [
      {
       "metadata": {},
       "output_type": "pyout",
       "prompt_number": 111,
       "text": [
        "24"
       ]
      }
     ],
     "prompt_number": 111
    },
    {
     "cell_type": "code",
     "collapsed": false,
     "input": [
      "def incrementSparseVector(v1, scale, v2):\n",
      "    \"\"\"\n",
      "    Given two sparse vectors |v1| and |v2|, perform v1 += scale * v2.\n",
      "    \"\"\"\n",
      "    # BEGIN_YOUR_CODE (around 2 lines of code expected)\n",
      "    for k in v2.keys():\n",
      "        v1[k] = v1[k] + scale*v2[k]\n",
      "    # END_YOUR_CODE"
     ],
     "language": "python",
     "metadata": {},
     "outputs": [],
     "prompt_number": 115
    },
    {
     "cell_type": "code",
     "collapsed": false,
     "input": [
      "incrementSparseVector(v1, 5, v2)"
     ],
     "language": "python",
     "metadata": {},
     "outputs": [],
     "prompt_number": 116
    },
    {
     "cell_type": "code",
     "collapsed": false,
     "input": [
      "v1"
     ],
     "language": "python",
     "metadata": {},
     "outputs": [
      {
       "metadata": {},
       "output_type": "pyout",
       "prompt_number": 117,
       "text": [
        "Counter({'a': 20, 'c': 14, 'b': 10})"
       ]
      }
     ],
     "prompt_number": 117
    },
    {
     "cell_type": "code",
     "collapsed": false,
     "input": [
      "def computeMostFrequentWord(text):\n",
      "    \"\"\"\n",
      "    Splits the string |text| by whitespace and returns two things as a pair: \n",
      "        the set of words that occur the maximum number of times, and\n",
      "\ttheir count, i.e.\n",
      "\t(set of words that occur the most number of times, that maximum number/count)\n",
      "    You might find it useful to use collections.Counter().\n",
      "    \"\"\"\n",
      "    # BEGIN_YOUR_CODE (around 5 lines of code expected)\n",
      "    c = collections.Counter(text.split())\n",
      "    mode   = max(c.values())\n",
      "    numMax = len([1 for v in c.values() if v == mode])\n",
      "    pairs  = c.most_common(numMax)\n",
      "    return (set([p[0] for p in pairs]), pairs[0][1])\n",
      "    # END_YOUR_CODE"
     ],
     "language": "python",
     "metadata": {},
     "outputs": [],
     "prompt_number": 142
    },
    {
     "cell_type": "code",
     "collapsed": false,
     "input": [
      "(set(['the', 'fox']), 2)"
     ],
     "language": "python",
     "metadata": {},
     "outputs": [
      {
       "metadata": {},
       "output_type": "pyout",
       "prompt_number": 120,
       "text": [
        "({'fox', 'the'}, 2)"
       ]
      }
     ],
     "prompt_number": 120
    },
    {
     "cell_type": "code",
     "collapsed": false,
     "input": [
      "text = 'the quick brown fox jumps over the lazy fox'"
     ],
     "language": "python",
     "metadata": {},
     "outputs": [],
     "prompt_number": 122
    },
    {
     "cell_type": "code",
     "collapsed": false,
     "input": [
      "computeMostFrequentWord('the quick brown fox jumps over the lazy fox')"
     ],
     "language": "python",
     "metadata": {},
     "outputs": [
      {
       "metadata": {},
       "output_type": "pyout",
       "prompt_number": 143,
       "text": [
        "({'fox', 'the'}, 2)"
       ]
      }
     ],
     "prompt_number": 143
    },
    {
     "cell_type": "code",
     "collapsed": false,
     "input": [
      "def isCollection(x):\n",
      "    return isinstance(x, list) or isinstance(x, tuple)\n",
      "\n",
      "def isEqual(trueAnswer, predAnswer, tolerance = 1e-4):\n",
      "    # Handle floats specially\n",
      "    if isinstance(trueAnswer, float) or isinstance(predAnswer, float):\n",
      "        return abs(trueAnswer - predAnswer) < tolerance\n",
      "    # Recurse on collections to deal with floats inside them\n",
      "    if isCollection(trueAnswer) and isCollection(predAnswer) and len(trueAnswer) == len(predAnswer):\n",
      "        for a, b in zip(trueAnswer, predAnswer):\n",
      "            if not isEqual(a, b): return False\n",
      "        return True\n",
      "    if isinstance(trueAnswer, dict) and isinstance(predAnswer, dict):\n",
      "        if len(trueAnswer) != len(predAnswer): return False\n",
      "        for k, v in trueAnswer.items():\n",
      "            if not isEqual(predAnswer.get(k), v): return False\n",
      "        return True\n",
      "\n",
      "    # Numpy array comparison\n",
      "    if type(trueAnswer).__name__=='ndarray':\n",
      "        import numpy as np\n",
      "        if isinstance(trueAnswer, np.ndarray) and isinstance(predAnswer, np.ndarray):\n",
      "            if trueAnswer.shape != predAnswer.shape:\n",
      "                return False\n",
      "            for a, b in zip(trueAnswer, predAnswer):\n",
      "                if not isEqual(a, b): return False\n",
      "            return True\n",
      "\n",
      "    # Do normal comparison\n",
      "    return trueAnswer == predAnswer\n"
     ],
     "language": "python",
     "metadata": {},
     "outputs": [],
     "prompt_number": 150
    },
    {
     "cell_type": "code",
     "collapsed": false,
     "input": [
      "isEqual((set(['the', 'fox']), 2), computeMostFrequentWord('the quick brown fox jumps over the lazy fox'))"
     ],
     "language": "python",
     "metadata": {},
     "outputs": [
      {
       "metadata": {},
       "output_type": "pyout",
       "prompt_number": 151,
       "text": [
        "True"
       ]
      }
     ],
     "prompt_number": 151
    },
    {
     "cell_type": "code",
     "collapsed": false,
     "input": [
      "text = 'ana'"
     ],
     "language": "python",
     "metadata": {},
     "outputs": [],
     "prompt_number": 157
    },
    {
     "cell_type": "code",
     "collapsed": false,
     "input": [
      "text[::-1] == text"
     ],
     "language": "python",
     "metadata": {},
     "outputs": [
      {
       "metadata": {},
       "output_type": "pyout",
       "prompt_number": 158,
       "text": [
        "True"
       ]
      }
     ],
     "prompt_number": 158
    },
    {
     "cell_type": "code",
     "collapsed": false,
     "input": [
      "string = 'howdy'\n",
      "for idl,l in enumerate(string):\n",
      "    print string[0:idl] + string[idl+1:]"
     ],
     "language": "python",
     "metadata": {},
     "outputs": [
      {
       "output_type": "stream",
       "stream": "stdout",
       "text": [
        "owdy\n",
        "hwdy\n",
        "hody\n",
        "howy\n",
        "howd\n"
       ]
      }
     ],
     "prompt_number": 161
    },
    {
     "cell_type": "code",
     "collapsed": false,
     "input": [
      "def computeLongestPalindrome(text):\n",
      "    \"\"\"\n",
      "    A palindrome is a string that is equal to its reverse (e.g., 'ana').\n",
      "    Compute the length of the longest palindrome that can be obtained by deleting\n",
      "    letters from |text|.\n",
      "    For example: the longest palindrome in 'animal' is 'ama'.\n",
      "    Your algorithm should run in O(len(text)^2) time.\n",
      "    You should first define a recurrence before you start coding.\n",
      "    \"\"\"\n",
      "    # BEGIN_YOUR_CODE (around 19 lines of code expected)\n",
      "    cache = {}\n",
      "    def recurse(string):\n",
      "        if string in cache:\n",
      "            return cache[string]\n",
      "        elif string == '':\n",
      "            return 0\n",
      "        elif string[::-1] == string:\n",
      "            return len(string)\n",
      "        else:\n",
      "            substringLength = []\n",
      "            for idl,l in enumerate(string):\n",
      "                substringLength.append(recurse(string[0:idl] + string[idl+1:]))\n",
      "            ans = max(substringLength)\n",
      "        \n",
      "        cache[string] = ans\n",
      "        return ans\n",
      "\n",
      "    return recurse(text)\n",
      "    # END_YOUR_CODE"
     ],
     "language": "python",
     "metadata": {},
     "outputs": [],
     "prompt_number": 172
    },
    {
     "cell_type": "code",
     "collapsed": false,
     "input": [
      "computeLongestPalindrome('L')"
     ],
     "language": "python",
     "metadata": {},
     "outputs": [
      {
       "metadata": {},
       "output_type": "pyout",
       "prompt_number": 178,
       "text": [
        "1"
       ]
      }
     ],
     "prompt_number": 178
    },
    {
     "cell_type": "code",
     "collapsed": false,
     "input": [
      "def computeLongestPalindromeText(text):\n",
      "    \"\"\"\n",
      "    A palindrome is a string that is equal to its reverse (e.g., 'ana').\n",
      "    Compute the length of the longest palindrome that can be obtained by deleting\n",
      "    letters from |text|.\n",
      "    For example: the longest palindrome in 'animal' is 'ama'.\n",
      "    Your algorithm should run in O(len(text)^2) time.\n",
      "    You should first define a recurrence before you start coding.\n",
      "    \"\"\"\n",
      "    # BEGIN_YOUR_CODE (around 19 lines of code expected)\n",
      "    cache = {}\n",
      "    def recurse(string):\n",
      "        if string in cache:\n",
      "            return cache[string]\n",
      "        elif string == '':\n",
      "            return ''\n",
      "        elif string[::-1] == string:\n",
      "            return string\n",
      "        else:\n",
      "            substringLength = []\n",
      "            for idl,l in enumerate(string):\n",
      "                substringLength.append(recurse(string[0:idl] + string[idl+1:]))\n",
      "            ans = sorted(substringLength, key=len, reverse=True)\n",
      "        \n",
      "        cache[string] = ans[0]\n",
      "        return ans[0]\n",
      "\n",
      "    return recurse(text)\n",
      "    # END_YOUR_CODE"
     ],
     "language": "python",
     "metadata": {},
     "outputs": [],
     "prompt_number": 211
    },
    {
     "cell_type": "code",
     "collapsed": false,
     "input": [
      "computeLongestPalindromeText('Lane')"
     ],
     "language": "python",
     "metadata": {},
     "outputs": [
      {
       "metadata": {},
       "output_type": "pyout",
       "prompt_number": 175,
       "text": [
        "'e'"
       ]
      }
     ],
     "prompt_number": 175
    },
    {
     "cell_type": "code",
     "collapsed": false,
     "input": [
      "computeMaxWordLength('alexander Completed')"
     ],
     "language": "python",
     "metadata": {},
     "outputs": [
      {
       "metadata": {},
       "output_type": "pyout",
       "prompt_number": 188,
       "text": [
        "'alexander'"
       ]
      }
     ],
     "prompt_number": 188
    },
    {
     "cell_type": "code",
     "collapsed": false,
     "input": [
      "import sys\n",
      "print sys.version"
     ],
     "language": "python",
     "metadata": {},
     "outputs": [
      {
       "output_type": "stream",
       "stream": "stdout",
       "text": [
        "2.7.3 (default, Feb 27 2014, 19:58:35) \n",
        "[GCC 4.6.3]\n"
       ]
      }
     ],
     "prompt_number": 210
    },
    {
     "cell_type": "code",
     "collapsed": false,
     "input": [
      "x = computeLongestPalindrome('puypldfojahnhzlzikdcsvgqvemojn')"
     ],
     "language": "python",
     "metadata": {},
     "outputs": [],
     "prompt_number": 214
    },
    {
     "cell_type": "code",
     "collapsed": false,
     "input": [
      "x"
     ],
     "language": "python",
     "metadata": {},
     "outputs": [
      {
       "metadata": {},
       "output_type": "pyout",
       "prompt_number": 215,
       "text": [
        "3"
       ]
      }
     ],
     "prompt_number": 215
    },
    {
     "cell_type": "code",
     "collapsed": false,
     "input": [
      "def computeLongestPalindrome(text):\n",
      "    \"\"\"\n",
      "    A palindrome is a string that is equal to its reverse (e.g., 'ana').\n",
      "    Compute the length of the longest palindrome that can be obtained by deleting\n",
      "    letters from |text|.\n",
      "    For example: the longest palindrome in 'animal' is 'ama'.\n",
      "    Your algorithm should run in O(len(text)^2) time.\n",
      "    You should first define a recurrence before you start coding.\n",
      "    \"\"\"\n",
      "    # BEGIN_YOUR_CODE (around 19 lines of code expected)\n",
      "    cache = {}\n",
      "    def recurse(i,j):\n",
      "        if j-i <= 0:\n",
      "            ans = j-i+1\n",
      "        elif (i,j) in cache:\n",
      "            ans = cache[(i,j)]\n",
      "        elif text[i] == text[j]:\n",
      "            ans = recurse(i+1,j-1) + 2\n",
      "        else:\n",
      "            ans = max(recurse(i+1,j),recurse(i,j-1))\n",
      "        cache[(i,j)] = ans\n",
      "        return ans\n",
      "\n",
      "    return recurse(0,len(text)-1)\n",
      "    # END_YOUR_CODE"
     ],
     "language": "python",
     "metadata": {},
     "outputs": [],
     "prompt_number": 216
    },
    {
     "cell_type": "code",
     "collapsed": false,
     "input": [
      "computeLongestPalindrome('ajktcnyoyzreimphdqhjmcivomtaur')"
     ],
     "language": "python",
     "metadata": {},
     "outputs": [
      {
       "metadata": {},
       "output_type": "pyout",
       "prompt_number": 236,
       "text": [
        "13"
       ]
      }
     ],
     "prompt_number": 236
    },
    {
     "cell_type": "code",
     "collapsed": false,
     "input": [
      "len('')"
     ],
     "language": "python",
     "metadata": {},
     "outputs": [
      {
       "metadata": {},
       "output_type": "pyout",
       "prompt_number": 224,
       "text": [
        "0"
       ]
      }
     ],
     "prompt_number": 224
    },
    {
     "cell_type": "markdown",
     "metadata": {},
     "source": [
      "# Problem Set 2"
     ]
    },
    {
     "cell_type": "code",
     "collapsed": false,
     "input": [
      "cd /Users/lmcintosh/Dropbox/Stanford\\ University/CS\\ 221\\ Artificial\\ Intelligence/Problem\\ Sets/01\\ Sentiment"
     ],
     "language": "python",
     "metadata": {},
     "outputs": [
      {
       "output_type": "stream",
       "stream": "stdout",
       "text": [
        "/Users/lmcintosh/Dropbox/Stanford University/CS 221 Artificial Intelligence/Problem Sets/01 Sentiment\n"
       ]
      }
     ],
     "prompt_number": 12
    },
    {
     "cell_type": "code",
     "collapsed": false,
     "input": [
      "import submission\n",
      "from util import *\n",
      "import util\n",
      "from grader import *\n",
      "import graderUtil"
     ],
     "language": "python",
     "metadata": {},
     "outputs": [],
     "prompt_number": 19
    },
    {
     "cell_type": "code",
     "collapsed": false,
     "input": [
      "import time"
     ],
     "language": "python",
     "metadata": {},
     "outputs": [],
     "prompt_number": 97
    },
    {
     "cell_type": "code",
     "collapsed": false,
     "input": [
      "x = \"I am what I am\""
     ],
     "language": "python",
     "metadata": {},
     "outputs": [],
     "prompt_number": 1
    },
    {
     "cell_type": "code",
     "collapsed": false,
     "input": [
      "def extractWordFeatures(x):\n",
      "    \"\"\"\n",
      "    Extract word features for a string x.\n",
      "    @param string x: \n",
      "    @return dict: feature vector representation of x.\n",
      "    Example: \"I am what I am\" --> {'I': 2, 'am': 2, 'what': 1}\n",
      "    \"\"\"\n",
      "    # BEGIN_YOUR_CODE (around 5 lines of code expected)\n",
      "    words = x.split(' ')\n",
      "    return dict(collections.Counter(words))\n",
      "    # END_YOUR_CODE"
     ],
     "language": "python",
     "metadata": {},
     "outputs": [],
     "prompt_number": 31
    },
    {
     "cell_type": "code",
     "collapsed": false,
     "input": [
      "def learnPredictor(trainExamples, testExamples, featureExtractor):\n",
      "    '''\n",
      "    Given |trainExamples| and |testExamples| (each one is a list of (x,y)\n",
      "    pairs), a |featureExtractor| to apply to x, and the number of iterations to\n",
      "    train |numIters|, return the weight vector (sparse feature vector) learned.\n",
      "\n",
      "    You should implement stochastic gradient descent.\n",
      "\n",
      "    Note: only use the trainExamples for training!\n",
      "    You should call evaluatePredictor() on both trainExamples and testExamples\n",
      "    to see how you're doing as you learn after each iteration.\n",
      "    '''\n",
      "    weights = {}  # feature => weight\n",
      "    # BEGIN_YOUR_CODE (around 15 lines of code expected)\n",
      "    numIters = 20\n",
      "    stepSize = 0.1\n",
      "    for i in xrange(numIters):\n",
      "        for ex in trainExamples:\n",
      "            features = featureExtractor(ex[0])\n",
      "            loss = max(0, 1 - ex[1]*dotProduct(weights,features))\n",
      "            if loss != 0 or 1 - ex[1]*dotProduct(weights,features) == 0:\n",
      "                increment(weights, stepSize*ex[1], features)\n",
      "        trainingError = evaluatePredictor(trainExamples, lambda(x) : (1 if dotProduct(featureExtractor(x), weights) >= 0 else -1))\n",
      "        testError     = evaluatePredictor(testExamples, lambda(x) : (1 if dotProduct(featureExtractor(x), weights) >= 0 else -1))\n",
      "        print 'Training error is ' + str(trainingError) + '. Test error is ' + str(testError) + '. Step size: ' + str(stepSize)\n",
      "        stepSize = 0.95*stepSize\n",
      "        # END_YOUR_CODE\n",
      "    return weights"
     ],
     "language": "python",
     "metadata": {},
     "outputs": [],
     "prompt_number": 180
    },
    {
     "cell_type": "code",
     "collapsed": false,
     "input": [
      "trainExamples = ((\"hello world\", 1), (\"goodnight moon\", -1))\n",
      "testExamples = ((\"hello\", 1), (\"moon\", -1))"
     ],
     "language": "python",
     "metadata": {},
     "outputs": [],
     "prompt_number": 34
    },
    {
     "cell_type": "code",
     "collapsed": true,
     "input": [
      "learnPredictor(trainExamples, testExamples, extractWordFeatures)"
     ],
     "language": "python",
     "metadata": {},
     "outputs": [
      {
       "output_type": "stream",
       "stream": "stdout",
       "text": [
        "Training error is 1.0. Test error is 1.0.\n",
        "Training error is 1.0. Test error is 1.0.\n",
        "Training error is 1.0. Test error is 1.0.\n",
        "Training error is 1.0. Test error is 1.0.\n",
        "Training error is 1.0. Test error is 1.0.\n",
        "Training error is 1.0. Test error is 1.0.\n",
        "Training error is 1.0. Test error is 1.0.\n",
        "Training error is 1.0. Test error is 1.0.\n",
        "Training error is 1.0. Test error is 1.0.\n",
        "Training error is 1.0. Test error is 1.0.\n",
        "Training error is 1.0. Test error is 1.0.\n",
        "Training error is 1.0. Test error is 1.0.\n",
        "Training error is 1.0. Test error is 1.0.\n",
        "Training error is 1.0. Test error is 1.0.\n",
        "Training error is 1.0. Test error is 1.0.\n",
        "Training error is 1.0. Test error is 1.0.\n",
        "Training error is 1.0. Test error is 1.0.\n",
        "Training error is 1.0. Test error is 1.0.\n",
        "Training error is 1.0. Test error is 1.0.\n",
        "Training error is 1.0. Test error is 1.0.\n",
        "Training error is 1.0. Test error is 1.0.\n",
        "Training error is 1.0. Test error is 1.0.\n",
        "Training error is 1.0. Test error is 1.0.\n",
        "Training error is 1.0. Test error is 1.0.\n",
        "Training error is 1.0. Test error is 1.0.\n",
        "Training error is 1.0. Test error is 1.0.\n",
        "Training error is 1.0. Test error is 1.0.\n",
        "Training error is 1.0. Test error is 1.0.\n",
        "Training error is 1.0. Test error is 1.0.\n",
        "Training error is 1.0. Test error is 1.0.\n",
        "Training error is 1.0. Test error is 1.0.\n",
        "Training error is 1.0. Test error is 1.0.\n",
        "Training error is 1.0. Test error is 1.0.\n",
        "Training error is 1.0. Test error is 1.0.\n",
        "Training error is 1.0. Test error is 1.0.\n",
        "Training error is 1.0. Test error is 1.0.\n",
        "Training error is 1.0. Test error is 1.0.\n",
        "Training error is 1.0. Test error is 1.0.\n",
        "Training error is 1.0. Test error is 1.0.\n",
        "Training error is 1.0. Test error is 1.0.\n",
        "Training error is 1.0. Test error is 1.0.\n",
        "Training error is 1.0. Test error is 1.0.\n",
        "Training error is 1.0. Test error is 1.0.\n",
        "Training error is 1.0. Test error is 1.0.\n",
        "Training error is 1.0. Test error is 1.0.\n",
        "Training error is 1.0. Test error is 1.0.\n",
        "Training error is 1.0. Test error is 1.0.\n",
        "Training error is 1.0. Test error is 1.0.\n",
        "Training error is 1.0. Test error is 1.0.\n",
        "Training error is 1.0. Test error is 1.0.\n",
        "Training error is 1.0. Test error is 1.0.\n",
        "Training error is 1.0. Test error is 1.0.\n",
        "Training error is 1.0. Test error is 1.0.\n",
        "Training error is 1.0. Test error is 1.0.\n",
        "Training error is 1.0. Test error is 1.0.\n",
        "Training error is 1.0. Test error is 1.0.\n",
        "Training error is 1.0. Test error is 1.0.\n",
        "Training error is 1.0. Test error is 1.0.\n",
        "Training error is 1.0. Test error is 1.0.\n",
        "Training error is 1.0. Test error is 1.0.\n",
        "Training error is 1.0. Test error is 1.0.\n",
        "Training error is 1.0. Test error is 1.0.\n",
        "Training error is 1.0. Test error is 1.0.\n",
        "Training error is 1.0. Test error is 1.0.\n",
        "Training error is 1.0. Test error is 1.0.\n",
        "Training error is 1.0. Test error is 1.0.\n",
        "Training error is 1.0. Test error is 1.0.\n",
        "Training error is 1.0. Test error is 1.0.\n",
        "Training error is 1.0. Test error is 1.0.\n",
        "Training error is 1.0. Test error is 1.0.\n",
        "Training error is 1.0. Test error is 1.0.\n",
        "Training error is 1.0. Test error is 1.0.\n",
        "Training error is 1.0. Test error is 1.0.\n",
        "Training error is 1.0. Test error is 1.0.\n",
        "Training error is 1.0. Test error is 1.0.\n",
        "Training error is 1.0. Test error is 1.0.\n",
        "Training error is 1.0. Test error is 1.0.\n",
        "Training error is 1.0. Test error is 1.0.\n",
        "Training error is 1.0. Test error is 1.0.\n",
        "Training error is 1.0. Test error is 1.0.\n",
        "Training error is 1.0. Test error is 1.0.\n",
        "Training error is 1.0. Test error is 1.0.\n",
        "Training error is 1.0. Test error is 1.0.\n",
        "Training error is 1.0. Test error is 1.0.\n",
        "Training error is 1.0. Test error is 1.0.\n",
        "Training error is 1.0. Test error is 1.0.\n",
        "Training error is 1.0. Test error is 1.0.\n",
        "Training error is 1.0. Test error is 1.0.\n",
        "Training error is 1.0. Test error is 1.0.\n",
        "Training error is 1.0. Test error is 1.0.\n",
        "Training error is 1.0. Test error is 1.0.\n",
        "Training error is 1.0. Test error is 1.0.\n",
        "Training error is 1.0. Test error is 1.0.\n",
        "Training error is 1.0. Test error is 1.0.\n",
        "Training error is 1.0. Test error is 1.0.\n",
        "Training error is 1.0. Test error is 1.0.\n",
        "Training error is 1.0. Test error is 1.0.\n",
        "Training error is 1.0. Test error is 1.0.\n",
        "Training error is 1.0. Test error is 1.0.\n",
        "Training error is 1.0. Test error is 1.0.\n"
       ]
      },
      {
       "metadata": {},
       "output_type": "pyout",
       "prompt_number": 35,
       "text": [
        "{'goodnight': -0.5000000000000002,\n",
        " 'hello': 0.5000000000000002,\n",
        " 'moon': -0.5000000000000002,\n",
        " 'world': 0.5000000000000002}"
       ]
      }
     ],
     "prompt_number": 35
    },
    {
     "cell_type": "code",
     "collapsed": false,
     "input": [
      "random.randrange(10)"
     ],
     "language": "python",
     "metadata": {},
     "outputs": [
      {
       "metadata": {},
       "output_type": "pyout",
       "prompt_number": 48,
       "text": [
        "3"
       ]
      }
     ],
     "prompt_number": 48
    },
    {
     "cell_type": "code",
     "collapsed": false,
     "input": [
      "def generateDataset(numExamples, weights):\n",
      "    '''\n",
      "    Return a set of examples (phi(x), y) randomly which are classified correctly by\n",
      "    |weights|.\n",
      "    '''\n",
      "    random.seed(42)\n",
      "    # Return a single example (phi(x), y).\n",
      "    # phi(x) can be anything (randomize!) with a nonzero score under the given weight vector\n",
      "    # y should be 1 or -1 as classified by the weight vector.\n",
      "    def generateExample():\n",
      "        # BEGIN_YOUR_CODE (around 5 lines of code expected)\n",
      "        phi = {}\n",
      "        for f,v in weights.items():\n",
      "            phi[f] = random.randrange(10)\n",
      "        if dotProduct(weights, phi) >= 0:\n",
      "            y = 1\n",
      "        else:\n",
      "            y = -1\n",
      "        # END_YOUR_CODE\n",
      "        return (phi, y)\n",
      "    return [generateExample() for _ in range(numExamples)]"
     ],
     "language": "python",
     "metadata": {},
     "outputs": [],
     "prompt_number": 78
    },
    {
     "cell_type": "code",
     "collapsed": false,
     "input": [
      "weights = {\"hello\":1, \"world\":1, \"bad\":-10, \"truth\":2, \"dank\":2, \"sickness\":-1, \"pretty\":3, \"sweet\":5, \"great\":1, \"dude\":-1}\n",
      "trainData = generateDataset(1000, weights)\n",
      "testData = generateDataset(1000,weights)"
     ],
     "language": "python",
     "metadata": {},
     "outputs": [],
     "prompt_number": 91
    },
    {
     "cell_type": "code",
     "collapsed": false,
     "input": [
      "def alreadyDict(x):\n",
      "    return x"
     ],
     "language": "python",
     "metadata": {},
     "outputs": [],
     "prompt_number": 87
    },
    {
     "cell_type": "code",
     "collapsed": false,
     "input": [
      "learnPredictor(trainData,testData,alreadyDict)"
     ],
     "language": "python",
     "metadata": {},
     "outputs": [
      {
       "output_type": "stream",
       "stream": "stdout",
       "text": [
        "Training error is 0.067. Test error is 0.067.\n",
        "Training error is 0.024. Test error is 0.024.\n",
        "Training error is 0.026. Test error is 0.026.\n",
        "Training error is 0.025. Test error is 0.025.\n",
        "Training error is 0.02. Test error is 0.02.\n",
        "Training error is 0.015. Test error is 0.015."
       ]
      },
      {
       "output_type": "stream",
       "stream": "stdout",
       "text": [
        "\n",
        "Training error is 0.016. Test error is 0.016.\n",
        "Training error is 0.019. Test error is 0.019.\n",
        "Training error is 0.01. Test error is 0.01.\n",
        "Training error is 0.016. Test error is 0.016.\n"
       ]
      },
      {
       "metadata": {},
       "output_type": "pyout",
       "prompt_number": 92,
       "text": [
        "{'bad': -3.940000000000005,\n",
        " 'dank': 0.7100000000000011,\n",
        " 'dude': -0.40000000000000036,\n",
        " 'great': 0.5100000000000002,\n",
        " 'hello': 0.33999999999999997,\n",
        " 'pretty': 1.1399999999999992,\n",
        " 'sickness': -0.3199999999999998,\n",
        " 'sweet': 1.7900000000000003,\n",
        " 'truth': 0.9600000000000011,\n",
        " 'world': 0.2700000000000003}"
       ]
      }
     ],
     "prompt_number": 92
    },
    {
     "cell_type": "code",
     "collapsed": false,
     "input": [
      "trainExamples = readExamples('polarity.train')\n",
      "devExamples = readExamples('polarity.dev')"
     ],
     "language": "python",
     "metadata": {},
     "outputs": [
      {
       "output_type": "stream",
       "stream": "stdout",
       "text": [
        "Read 3554 examples from polarity.train\n",
        "Read 3554 examples from polarity.dev\n"
       ]
      }
     ],
     "prompt_number": 93
    },
    {
     "cell_type": "code",
     "collapsed": false,
     "input": [
      "featureExtractor = extractWordFeatures"
     ],
     "language": "python",
     "metadata": {},
     "outputs": [],
     "prompt_number": 94
    },
    {
     "cell_type": "code",
     "collapsed": false,
     "input": [
      "# step size 0.95\n",
      "start = time.time()\n",
      "weights = learnPredictor(trainExamples, devExamples, featureExtractor)\n",
      "print time.time() - start"
     ],
     "language": "python",
     "metadata": {},
     "outputs": [
      {
       "output_type": "stream",
       "stream": "stdout",
       "text": [
        "Training error is 0.207934721441. Test error is 0.335959482273. Step size: 0.1\n",
        "Training error is 0.133652222847. Test error is 0.30388294879. Step size: 0.095"
       ]
      },
      {
       "output_type": "stream",
       "stream": "stdout",
       "text": [
        "\n",
        "Training error is 0.109454136185. Test error is 0.306415306697. Step size: 0.09025"
       ]
      },
      {
       "output_type": "stream",
       "stream": "stdout",
       "text": [
        "\n",
        "Training error is 0.120146314012. Test error is 0.321328081035. Step size: 0.0857375"
       ]
      },
      {
       "output_type": "stream",
       "stream": "stdout",
       "text": [
        "\n",
        "Training error is 0.068092290377. Test error is 0.296848621272. Step size: 0.081450625"
       ]
      },
      {
       "output_type": "stream",
       "stream": "stdout",
       "text": [
        "\n",
        "Training error is 0.0939786156443. Test error is 0.317670230726. Step size: 0.07737809375"
       ]
      },
      {
       "output_type": "stream",
       "stream": "stdout",
       "text": [
        "\n",
        "Training error is 0.0430500844119. Test error is 0.295160382667. Step size: 0.0735091890625"
       ]
      },
      {
       "output_type": "stream",
       "stream": "stdout",
       "text": [
        "\n",
        "Training error is 0.0399549803039. Test error is 0.29234665166. Step size: 0.0698337296094"
       ]
      },
      {
       "output_type": "stream",
       "stream": "stdout",
       "text": [
        "\n",
        "Training error is 0.0267304445695. Test error is 0.277433877321. Step size: 0.0663420431289"
       ]
      },
      {
       "output_type": "stream",
       "stream": "stdout",
       "text": [
        "\n",
        "Training error is 0.0174451322454. Test error is 0.279684862127. Step size: 0.0630249409725"
       ]
      },
      {
       "output_type": "stream",
       "stream": "stdout",
       "text": [
        "\n",
        "Training error is 0.0098480585256. Test error is 0.274901519415. Step size: 0.0598736939238"
       ]
      },
      {
       "output_type": "stream",
       "stream": "stdout",
       "text": [
        "\n",
        "Training error is 0.00731570061902. Test error is 0.276027011818. Step size: 0.0568800092276"
       ]
      },
      {
       "output_type": "stream",
       "stream": "stdout",
       "text": [
        "\n",
        "Training error is 0.00815981992122. Test error is 0.275182892515. Step size: 0.0540360087663"
       ]
      },
      {
       "output_type": "stream",
       "stream": "stdout",
       "text": [
        "\n",
        "Training error is 0.00309510410805. Test error is 0.284186831739. Step size: 0.051334208328"
       ]
      },
      {
       "output_type": "stream",
       "stream": "stdout",
       "text": [
        "\n",
        "Training error is 0.00281373100732. Test error is 0.278559369724. Step size: 0.0487674979116"
       ]
      },
      {
       "output_type": "stream",
       "stream": "stdout",
       "text": [
        "\n",
        "Training error is 0.00562746201463. Test error is 0.280247608329. Step size: 0.046329123016"
       ]
      },
      {
       "output_type": "stream",
       "stream": "stdout",
       "text": [
        "\n",
        "Training error is 0.00196961170512. Test error is 0.275182892515. Step size: 0.0440126668652"
       ]
      },
      {
       "output_type": "stream",
       "stream": "stdout",
       "text": [
        "\n",
        "Training error is 0.00281373100732. Test error is 0.278559369724. Step size: 0.0418120335219"
       ]
      },
      {
       "output_type": "stream",
       "stream": "stdout",
       "text": [
        "\n",
        "Training error is 0.00140686550366. Test error is 0.272369161508. Step size: 0.0397214318458"
       ]
      },
      {
       "output_type": "stream",
       "stream": "stdout",
       "text": [
        "\n",
        "Training error is 0.00112549240293. Test error is 0.2692740574. Step size: 0.0377353602535"
       ]
      },
      {
       "output_type": "stream",
       "stream": "stdout",
       "text": [
        "\n",
        "5.14713907242\n"
       ]
      }
     ],
     "prompt_number": 110
    },
    {
     "cell_type": "code",
     "collapsed": false,
     "input": [
      "# step size 0.94\n",
      "start = time.time()\n",
      "weights = learnPredictor(trainExamples, devExamples, featureExtractor)\n",
      "print time.time() - start"
     ],
     "language": "python",
     "metadata": {},
     "outputs": [
      {
       "output_type": "stream",
       "stream": "stdout",
       "text": [
        "Training error is 0.20371412493. Test error is 0.335678109173. Step size: 0.1\n",
        "Training error is 0.13083849184. Test error is 0.3078221722. Step size: 0.095"
       ]
      },
      {
       "output_type": "stream",
       "stream": "stdout",
       "text": [
        "\n",
        "Training error is 0.109172763084. Test error is 0.3075407991. Step size: 0.09025"
       ]
      },
      {
       "output_type": "stream",
       "stream": "stdout",
       "text": [
        "\n",
        "Training error is 0.0818795723129. Test error is 0.306415306697. Step size: 0.0857375"
       ]
      },
      {
       "output_type": "stream",
       "stream": "stdout",
       "text": [
        "\n",
        "Training error is 0.0942599887451. Test error is 0.320483961733. Step size: 0.081450625"
       ]
      },
      {
       "output_type": "stream",
       "stream": "stdout",
       "text": [
        "\n",
        "Training error is 0.0700619020822. Test error is 0.297692740574. Step size: 0.07737809375"
       ]
      },
      {
       "output_type": "stream",
       "stream": "stdout",
       "text": [
        "\n",
        "Training error is 0.0551491277434. Test error is 0.301350590884. Step size: 0.0735091890625"
       ]
      },
      {
       "output_type": "stream",
       "stream": "stdout",
       "text": [
        "\n",
        "Training error is 0.0219471018571. Test error is 0.27321328081. Step size: 0.0698337296094"
       ]
      },
      {
       "output_type": "stream",
       "stream": "stdout",
       "text": [
        "\n",
        "Training error is 0.0208216094541. Test error is 0.280247608329. Step size: 0.0663420431289"
       ]
      },
      {
       "output_type": "stream",
       "stream": "stdout",
       "text": [
        "\n",
        "Training error is 0.0163196398424. Test error is 0.278277996624. Step size: 0.0630249409725"
       ]
      },
      {
       "output_type": "stream",
       "stream": "stdout",
       "text": [
        "\n",
        "Training error is 0.00703432751829. Test error is 0.274338773213. Step size: 0.0598736939238"
       ]
      },
      {
       "output_type": "stream",
       "stream": "stdout",
       "text": [
        "\n",
        "Training error is 0.00703432751829. Test error is 0.275745638717. Step size: 0.0568800092276"
       ]
      },
      {
       "output_type": "stream",
       "stream": "stdout",
       "text": [
        "\n",
        "Training error is 0.00309510410805. Test error is 0.277715250422. Step size: 0.0540360087663"
       ]
      },
      {
       "output_type": "stream",
       "stream": "stdout",
       "text": [
        "\n",
        "Training error is 0.00253235790658. Test error is 0.271806415307. Step size: 0.051334208328"
       ]
      },
      {
       "output_type": "stream",
       "stream": "stdout",
       "text": [
        "\n",
        "Training error is 0.00787844682048. Test error is 0.277996623523. Step size: 0.0487674979116"
       ]
      },
      {
       "output_type": "stream",
       "stream": "stdout",
       "text": [
        "\n",
        "Training error is 0.00703432751829. Test error is 0.278277996624. Step size: 0.046329123016"
       ]
      },
      {
       "output_type": "stream",
       "stream": "stdout",
       "text": [
        "\n",
        "Training error is 0.0053460889139. Test error is 0.277715250422. Step size: 0.0440126668652"
       ]
      },
      {
       "output_type": "stream",
       "stream": "stdout",
       "text": [
        "\n",
        "Training error is 0.00309510410805. Test error is 0.275464265616. Step size: 0.0418120335219"
       ]
      },
      {
       "output_type": "stream",
       "stream": "stdout",
       "text": [
        "\n",
        "Training error is 0.00112549240293. Test error is 0.271525042206. Step size: 0.0397214318458"
       ]
      },
      {
       "output_type": "stream",
       "stream": "stdout",
       "text": [
        "\n",
        "Training error is 0.00168823860439. Test error is 0.274620146314. Step size: 0.0377353602535"
       ]
      },
      {
       "output_type": "stream",
       "stream": "stdout",
       "text": [
        "\n",
        "4.78757500648\n"
       ]
      }
     ],
     "prompt_number": 183
    },
    {
     "cell_type": "code",
     "collapsed": false,
     "input": [
      "# step size 0.95\n",
      "start = time.time()\n",
      "weights = learnPredictor(trainExamples, devExamples, featureExtractor)\n",
      "print time.time() - start"
     ],
     "language": "python",
     "metadata": {},
     "outputs": [
      {
       "output_type": "stream",
       "stream": "stdout",
       "text": [
        "Training error is 0.207934721441. Test error is 0.335959482273. Step size: 0.1\n",
        "Training error is 0.133652222847. Test error is 0.30388294879. Step size: 0.095"
       ]
      },
      {
       "output_type": "stream",
       "stream": "stdout",
       "text": [
        "\n",
        "Training error is 0.109454136185. Test error is 0.306415306697. Step size: 0.09025"
       ]
      },
      {
       "output_type": "stream",
       "stream": "stdout",
       "text": [
        "\n",
        "Training error is 0.120146314012. Test error is 0.321328081035. Step size: 0.0857375"
       ]
      },
      {
       "output_type": "stream",
       "stream": "stdout",
       "text": [
        "\n",
        "Training error is 0.068092290377. Test error is 0.296848621272. Step size: 0.081450625"
       ]
      },
      {
       "output_type": "stream",
       "stream": "stdout",
       "text": [
        "\n",
        "Training error is 0.0939786156443. Test error is 0.317670230726. Step size: 0.07737809375"
       ]
      },
      {
       "output_type": "stream",
       "stream": "stdout",
       "text": [
        "\n",
        "Training error is 0.0430500844119. Test error is 0.295160382667. Step size: 0.0735091890625"
       ]
      },
      {
       "output_type": "stream",
       "stream": "stdout",
       "text": [
        "\n",
        "Training error is 0.0399549803039. Test error is 0.29234665166. Step size: 0.0698337296094"
       ]
      },
      {
       "output_type": "stream",
       "stream": "stdout",
       "text": [
        "\n",
        "Training error is 0.0267304445695. Test error is 0.277433877321. Step size: 0.0663420431289"
       ]
      },
      {
       "output_type": "stream",
       "stream": "stdout",
       "text": [
        "\n",
        "Training error is 0.0174451322454. Test error is 0.279684862127. Step size: 0.0630249409725"
       ]
      },
      {
       "output_type": "stream",
       "stream": "stdout",
       "text": [
        "\n",
        "Training error is 0.0098480585256. Test error is 0.274901519415. Step size: 0.0598736939238"
       ]
      },
      {
       "output_type": "stream",
       "stream": "stdout",
       "text": [
        "\n",
        "Training error is 0.00731570061902. Test error is 0.276027011818. Step size: 0.0568800092276"
       ]
      },
      {
       "output_type": "stream",
       "stream": "stdout",
       "text": [
        "\n",
        "Training error is 0.00815981992122. Test error is 0.275182892515. Step size: 0.0540360087663"
       ]
      },
      {
       "output_type": "stream",
       "stream": "stdout",
       "text": [
        "\n",
        "Training error is 0.00309510410805. Test error is 0.284186831739. Step size: 0.051334208328"
       ]
      },
      {
       "output_type": "stream",
       "stream": "stdout",
       "text": [
        "\n",
        "Training error is 0.00281373100732. Test error is 0.278559369724. Step size: 0.0487674979116"
       ]
      },
      {
       "output_type": "stream",
       "stream": "stdout",
       "text": [
        "\n",
        "Training error is 0.00562746201463. Test error is 0.280247608329. Step size: 0.046329123016"
       ]
      },
      {
       "output_type": "stream",
       "stream": "stdout",
       "text": [
        "\n",
        "Training error is 0.00196961170512. Test error is 0.275182892515. Step size: 0.0440126668652"
       ]
      },
      {
       "output_type": "stream",
       "stream": "stdout",
       "text": [
        "\n",
        "Training error is 0.00281373100732. Test error is 0.278559369724. Step size: 0.0418120335219"
       ]
      },
      {
       "output_type": "stream",
       "stream": "stdout",
       "text": [
        "\n",
        "Training error is 0.00140686550366. Test error is 0.272369161508. Step size: 0.0397214318458"
       ]
      },
      {
       "output_type": "stream",
       "stream": "stdout",
       "text": [
        "\n",
        "Training error is 0.00112549240293. Test error is 0.2692740574. Step size: 0.0377353602535"
       ]
      },
      {
       "output_type": "stream",
       "stream": "stdout",
       "text": [
        "\n",
        "4.37959980965\n"
       ]
      }
     ],
     "prompt_number": 120
    },
    {
     "cell_type": "code",
     "collapsed": false,
     "input": [
      "x = 'i like tacos'"
     ],
     "language": "python",
     "metadata": {},
     "outputs": [],
     "prompt_number": 121
    },
    {
     "cell_type": "code",
     "collapsed": false,
     "input": [
      "noSpaces = x.replace(' ', '')"
     ],
     "language": "python",
     "metadata": {},
     "outputs": [],
     "prompt_number": 122
    },
    {
     "cell_type": "code",
     "collapsed": false,
     "input": [
      "noSpaces"
     ],
     "language": "python",
     "metadata": {},
     "outputs": [
      {
       "metadata": {},
       "output_type": "pyout",
       "prompt_number": 123,
       "text": [
        "'iliketacos'"
       ]
      }
     ],
     "prompt_number": 123
    },
    {
     "cell_type": "code",
     "collapsed": false,
     "input": [
      "def extractCharacterFeatures(n):\n",
      "    '''\n",
      "    Return a function that takes a string |x| and returns a sparse feature\n",
      "    vector consisting of all n-grams of |x| without spaces.\n",
      "    EXAMPLE: (n = 3) \"I like tacos\" --> {'Ili': 1, 'lik': 1, 'ike': 1, ...\n",
      "    '''\n",
      "    def extract(x):\n",
      "        # BEGIN_YOUR_CODE (around 10 lines of code expected)\n",
      "        features = {}\n",
      "        noSpaces = x.replace(' ', '')\n",
      "        for i in xrange(len(noSpaces)-(n-1)):\n",
      "            features[noSpaces[i:i+n]] = features.get(noSpaces[i:i+n],0) + 1\n",
      "        return features\n",
      "        # END_YOUR_CODE\n",
      "    return extract"
     ],
     "language": "python",
     "metadata": {},
     "outputs": [],
     "prompt_number": 141
    },
    {
     "cell_type": "code",
     "collapsed": false,
     "input": [
      "fe = extractCharacterFeatures(3)"
     ],
     "language": "python",
     "metadata": {},
     "outputs": [],
     "prompt_number": 142
    },
    {
     "cell_type": "code",
     "collapsed": false,
     "input": [
      "sentence = \"hello world\"\n",
      "ans = {\"hel\":1, \"ell\":1, \"llo\":1, \"low\":1, \"owo\":1, \"wor\":1, \"orl\":1, \"rld\":1}"
     ],
     "language": "python",
     "metadata": {},
     "outputs": [],
     "prompt_number": 143
    },
    {
     "cell_type": "code",
     "collapsed": false,
     "input": [
      "fe(sentence)"
     ],
     "language": "python",
     "metadata": {},
     "outputs": [
      {
       "metadata": {},
       "output_type": "pyout",
       "prompt_number": 146,
       "text": [
        "{'ell': 1,\n",
        " 'hel': 1,\n",
        " 'llo': 1,\n",
        " 'low': 1,\n",
        " 'orl': 1,\n",
        " 'owo': 1,\n",
        " 'rld': 1,\n",
        " 'wor': 1}"
       ]
      }
     ],
     "prompt_number": 146
    },
    {
     "cell_type": "code",
     "collapsed": false,
     "input": [
      "# step size 0.95\n",
      "start = time.time()\n",
      "n = 3\n",
      "fe = extractCharacterFeatures(n)\n",
      "weights = learnPredictor(trainExamples, devExamples, fe)\n",
      "print time.time() - start"
     ],
     "language": "python",
     "metadata": {},
     "outputs": [
      {
       "output_type": "stream",
       "stream": "stdout",
       "text": [
        "Training error is 0.227912211593. Test error is 0.378728193585. Step size: 0.1\n",
        "Training error is 0.153348339899. Test error is 0.356499718627. Step size: 0.095"
       ]
      },
      {
       "output_type": "stream",
       "stream": "stdout",
       "text": [
        "\n",
        "Training error is 0.108891389983. Test error is 0.344682048396. Step size: 0.09025"
       ]
      },
      {
       "output_type": "stream",
       "stream": "stdout",
       "text": [
        "\n",
        "Training error is 0.0694991558807. Test error is 0.328643781654. Step size: 0.0857375"
       ]
      },
      {
       "output_type": "stream",
       "stream": "stdout",
       "text": [
        "\n",
        "Training error is 0.0453010692178. Test error is 0.321609454136. Step size: 0.081450625"
       ]
      },
      {
       "output_type": "stream",
       "stream": "stdout",
       "text": [
        "\n",
        "Training error is 0.0464265616207. Test error is 0.321046707935. Step size: 0.07737809375"
       ]
      },
      {
       "output_type": "stream",
       "stream": "stdout",
       "text": [
        "\n",
        "Training error is 0.0225098480585. Test error is 0.319921215532. Step size: 0.0735091890625"
       ]
      },
      {
       "output_type": "stream",
       "stream": "stdout",
       "text": [
        "\n",
        "Training error is 0.0132245357344. Test error is 0.322172200338. Step size: 0.0698337296094"
       ]
      },
      {
       "output_type": "stream",
       "stream": "stdout",
       "text": [
        "\n",
        "Training error is 0.0098480585256. Test error is 0.31935846933. Step size: 0.0663420431289"
       ]
      },
      {
       "output_type": "stream",
       "stream": "stdout",
       "text": [
        "\n",
        "Training error is 0.00309510410805. Test error is 0.31935846933. Step size: 0.0630249409725"
       ]
      },
      {
       "output_type": "stream",
       "stream": "stdout",
       "text": [
        "\n",
        "Training error is 0.00365785030951. Test error is 0.323297692741. Step size: 0.0598736939238"
       ]
      },
      {
       "output_type": "stream",
       "stream": "stdout",
       "text": [
        "\n",
        "Training error is 0.00140686550366. Test error is 0.322172200338. Step size: 0.0568800092276"
       ]
      },
      {
       "output_type": "stream",
       "stream": "stdout",
       "text": [
        "\n",
        "Training error is 0.000844119302195. Test error is 0.321046707935. Step size: 0.0540360087663"
       ]
      },
      {
       "output_type": "stream",
       "stream": "stdout",
       "text": [
        "\n",
        "Training error is 0.000562746201463. Test error is 0.323860438942. Step size: 0.051334208328"
       ]
      },
      {
       "output_type": "stream",
       "stream": "stdout",
       "text": [
        "\n",
        "Training error is 0.000281373100732. Test error is 0.321046707935. Step size: 0.0487674979116"
       ]
      },
      {
       "output_type": "stream",
       "stream": "stdout",
       "text": [
        "\n",
        "Training error is 0.0. Test error is 0.31935846933. Step size: 0.046329123016"
       ]
      },
      {
       "output_type": "stream",
       "stream": "stdout",
       "text": [
        "\n",
        "Training error is 0.0. Test error is 0.318795723129. Step size: 0.0440126668652"
       ]
      },
      {
       "output_type": "stream",
       "stream": "stdout",
       "text": [
        "\n",
        "Training error is 0.0. Test error is 0.318795723129. Step size: 0.0418120335219"
       ]
      },
      {
       "output_type": "stream",
       "stream": "stdout",
       "text": [
        "\n",
        "Training error is 0.0. Test error is 0.31935846933. Step size: 0.0397214318458"
       ]
      },
      {
       "output_type": "stream",
       "stream": "stdout",
       "text": [
        "\n",
        "Training error is 0.0. Test error is 0.31935846933. Step size: 0.0377353602535"
       ]
      },
      {
       "output_type": "stream",
       "stream": "stdout",
       "text": [
        "\n",
        "12.9342119694\n"
       ]
      }
     ],
     "prompt_number": 148
    },
    {
     "cell_type": "code",
     "collapsed": false,
     "input": [
      "# step size 0.95\n",
      "start = time.time()\n",
      "n = 1\n",
      "fe = extractCharacterFeatures(n)\n",
      "weights = learnPredictor(trainExamples, devExamples, fe)\n",
      "print time.time() - start"
     ],
     "language": "python",
     "metadata": {},
     "outputs": [
      {
       "output_type": "stream",
       "stream": "stdout",
       "text": [
        "Training error is 0.466516601013. Test error is 0.480303882949. Step size: 0.1\n",
        "Training error is 0.468204839617. Test error is 0.491558806978. Step size: 0.095"
       ]
      },
      {
       "output_type": "stream",
       "stream": "stdout",
       "text": [
        "\n",
        "Training error is 0.456949915588. Test error is 0.480303882949. Step size: 0.09025"
       ]
      },
      {
       "output_type": "stream",
       "stream": "stdout",
       "text": [
        "\n",
        "Training error is 0.472425436128. Test error is 0.480022509848. Step size: 0.0857375"
       ]
      },
      {
       "output_type": "stream",
       "stream": "stdout",
       "text": [
        "\n",
        "Training error is 0.460326392797. Test error is 0.480022509848. Step size: 0.081450625"
       ]
      },
      {
       "output_type": "stream",
       "stream": "stdout",
       "text": [
        "\n",
        "Training error is 0.444006752954. Test error is 0.470737197524. Step size: 0.07737809375"
       ]
      },
      {
       "output_type": "stream",
       "stream": "stdout",
       "text": [
        "\n",
        "Training error is 0.451885199775. Test error is 0.483117613956. Step size: 0.0735091890625"
       ]
      },
      {
       "output_type": "stream",
       "stream": "stdout",
       "text": [
        "\n",
        "Training error is 0.48452447946. Test error is 0.485368598762. Step size: 0.0698337296094"
       ]
      },
      {
       "output_type": "stream",
       "stream": "stdout",
       "text": [
        "\n",
        "Training error is 0.440067529544. Test error is 0.462858750703. Step size: 0.0663420431289"
       ]
      },
      {
       "output_type": "stream",
       "stream": "stdout",
       "text": [
        "\n",
        "Training error is 0.477490151941. Test error is 0.48452447946. Step size: 0.0630249409725"
       ]
      },
      {
       "output_type": "stream",
       "stream": "stdout",
       "text": [
        "\n",
        "Training error is 0.475801913337. Test error is 0.479741136747. Step size: 0.0598736939238"
       ]
      },
      {
       "output_type": "stream",
       "stream": "stdout",
       "text": [
        "\n",
        "Training error is 0.441474395048. Test error is 0.461733258301. Step size: 0.0568800092276"
       ]
      },
      {
       "output_type": "stream",
       "stream": "stdout",
       "text": [
        "\n",
        "Training error is 0.458356781092. Test error is 0.486775464266. Step size: 0.0540360087663"
       ]
      },
      {
       "output_type": "stream",
       "stream": "stdout",
       "text": [
        "\n",
        "Training error is 0.459482273495. Test error is 0.475239167136. Step size: 0.051334208328"
       ]
      },
      {
       "output_type": "stream",
       "stream": "stdout",
       "text": [
        "\n",
        "Training error is 0.458638154192. Test error is 0.482554867755. Step size: 0.0487674979116"
       ]
      },
      {
       "output_type": "stream",
       "stream": "stdout",
       "text": [
        "\n",
        "Training error is 0.45751266179. Test error is 0.465953854811. Step size: 0.046329123016"
       ]
      },
      {
       "output_type": "stream",
       "stream": "stdout",
       "text": [
        "\n",
        "Training error is 0.464828362409. Test error is 0.478052898143. Step size: 0.0440126668652"
       ]
      },
      {
       "output_type": "stream",
       "stream": "stdout",
       "text": [
        "\n",
        "Training error is 0.44625773776. Test error is 0.459482273495. Step size: 0.0418120335219"
       ]
      },
      {
       "output_type": "stream",
       "stream": "stdout",
       "text": [
        "\n",
        "Training error is 0.449634214969. Test error is 0.475239167136. Step size: 0.0397214318458"
       ]
      },
      {
       "output_type": "stream",
       "stream": "stdout",
       "text": [
        "\n",
        "Training error is 0.464828362409. Test error is 0.486212718064. Step size: 0.0377353602535"
       ]
      },
      {
       "output_type": "stream",
       "stream": "stdout",
       "text": [
        "\n",
        "7.57102513313\n"
       ]
      }
     ],
     "prompt_number": 149
    },
    {
     "cell_type": "code",
     "collapsed": false,
     "input": [
      "# step size 0.95\n",
      "start = time.time()\n",
      "n = 2\n",
      "fe = extractCharacterFeatures(n)\n",
      "weights = learnPredictor(trainExamples, devExamples, fe)\n",
      "print time.time() - start"
     ],
     "language": "python",
     "metadata": {},
     "outputs": [
      {
       "output_type": "stream",
       "stream": "stdout",
       "text": [
        "Training error is 0.371412492966. Test error is 0.433877321328. Step size: 0.1\n",
        "Training error is 0.375070343275. Test error is 0.438097917839. Step size: 0.095"
       ]
      },
      {
       "output_type": "stream",
       "stream": "stdout",
       "text": [
        "\n",
        "Training error is 0.317951603827. Test error is 0.408272369162. Step size: 0.09025"
       ]
      },
      {
       "output_type": "stream",
       "stream": "stdout",
       "text": [
        "\n",
        "Training error is 0.337084974676. Test error is 0.422059651097. Step size: 0.0857375"
       ]
      },
      {
       "output_type": "stream",
       "stream": "stdout",
       "text": [
        "\n",
        "Training error is 0.318795723129. Test error is 0.414743950478. Step size: 0.081450625"
       ]
      },
      {
       "output_type": "stream",
       "stream": "stdout",
       "text": [
        "\n",
        "Training error is 0.403489026449. Test error is 0.451603826674. Step size: 0.07737809375"
       ]
      },
      {
       "output_type": "stream",
       "stream": "stdout",
       "text": [
        "\n",
        "Training error is 0.325830050647. Test error is 0.41924592009. Step size: 0.0735091890625"
       ]
      },
      {
       "output_type": "stream",
       "stream": "stdout",
       "text": [
        "\n",
        "Training error is 0.312042768711. Test error is 0.417276308385. Step size: 0.0698337296094"
       ]
      },
      {
       "output_type": "stream",
       "stream": "stdout",
       "text": [
        "\n",
        "Training error is 0.379009566685. Test error is 0.438097917839. Step size: 0.0663420431289"
       ]
      },
      {
       "output_type": "stream",
       "stream": "stdout",
       "text": [
        "\n",
        "Training error is 0.374507597074. Test error is 0.430219471019. Step size: 0.0630249409725"
       ]
      },
      {
       "output_type": "stream",
       "stream": "stdout",
       "text": [
        "\n",
        "Training error is 0.349746764209. Test error is 0.424873382105. Step size: 0.0598736939238"
       ]
      },
      {
       "output_type": "stream",
       "stream": "stdout",
       "text": [
        "\n",
        "Training error is 0.326392796849. Test error is 0.415025323579. Step size: 0.0568800092276"
       ]
      },
      {
       "output_type": "stream",
       "stream": "stdout",
       "text": [
        "\n",
        "Training error is 0.352841868317. Test error is 0.427124366911. Step size: 0.0540360087663"
       ]
      },
      {
       "output_type": "stream",
       "stream": "stdout",
       "text": [
        "\n",
        "Training error is 0.29600450197. Test error is 0.406302757456. Step size: 0.051334208328"
       ]
      },
      {
       "output_type": "stream",
       "stream": "stdout",
       "text": [
        "\n",
        "Training error is 0.330050647158. Test error is 0.412774338773. Step size: 0.0487674979116"
       ]
      },
      {
       "output_type": "stream",
       "stream": "stdout",
       "text": [
        "\n",
        "Training error is 0.310917276308. Test error is 0.406865503658. Step size: 0.046329123016"
       ]
      },
      {
       "output_type": "stream",
       "stream": "stdout",
       "text": [
        "\n",
        "Training error is 0.305571187394. Test error is 0.40770962296. Step size: 0.0440126668652"
       ]
      },
      {
       "output_type": "stream",
       "stream": "stdout",
       "text": [
        "\n",
        "Training error is 0.331176139561. Test error is 0.420371412493. Step size: 0.0418120335219"
       ]
      },
      {
       "output_type": "stream",
       "stream": "stdout",
       "text": [
        "\n",
        "Training error is 0.299099606078. Test error is 0.409397861564. Step size: 0.0397214318458"
       ]
      },
      {
       "output_type": "stream",
       "stream": "stdout",
       "text": [
        "\n",
        "Training error is 0.339054586382. Test error is 0.422059651097. Step size: 0.0377353602535"
       ]
      },
      {
       "output_type": "stream",
       "stream": "stdout",
       "text": [
        "\n",
        "12.0620620251\n"
       ]
      }
     ],
     "prompt_number": 150
    },
    {
     "cell_type": "code",
     "collapsed": false,
     "input": [
      "# step size 0.95\n",
      "start = time.time()\n",
      "n = 4\n",
      "fe = extractCharacterFeatures(n)\n",
      "weights = learnPredictor(trainExamples, devExamples, fe)\n",
      "print time.time() - start"
     ],
     "language": "python",
     "metadata": {},
     "outputs": [
      {
       "output_type": "stream",
       "stream": "stdout",
       "text": [
        "Training error is 0.101857062465. Test error is 0.329206527856. Step size: 0.1\n",
        "Training error is 0.0258863252673. Test error is 0.300787844682. Step size: 0.095"
       ]
      },
      {
       "output_type": "stream",
       "stream": "stdout",
       "text": [
        "\n",
        "Training error is 0.00900393922341. Test error is 0.295160382667. Step size: 0.09025"
       ]
      },
      {
       "output_type": "stream",
       "stream": "stdout",
       "text": [
        "\n",
        "Training error is 0.00112549240293. Test error is 0.290095666854. Step size: 0.0857375"
       ]
      },
      {
       "output_type": "stream",
       "stream": "stdout",
       "text": [
        "\n",
        "Training error is 0.0. Test error is 0.292628024761. Step size: 0.081450625"
       ]
      },
      {
       "output_type": "stream",
       "stream": "stdout",
       "text": [
        "\n",
        "Training error is 0.000281373100732. Test error is 0.28840742825. Step size: 0.07737809375"
       ]
      },
      {
       "output_type": "stream",
       "stream": "stdout",
       "text": [
        "\n",
        "Training error is 0.000281373100732. Test error is 0.290377039955. Step size: 0.0735091890625"
       ]
      },
      {
       "output_type": "stream",
       "stream": "stdout",
       "text": [
        "\n",
        "Training error is 0.0. Test error is 0.287844682048. Step size: 0.0698337296094"
       ]
      },
      {
       "output_type": "stream",
       "stream": "stdout",
       "text": [
        "\n",
        "Training error is 0.0. Test error is 0.289814293754. Step size: 0.0663420431289"
       ]
      },
      {
       "output_type": "stream",
       "stream": "stdout",
       "text": [
        "\n",
        "Training error is 0.0. Test error is 0.290095666854. Step size: 0.0630249409725"
       ]
      },
      {
       "output_type": "stream",
       "stream": "stdout",
       "text": [
        "\n",
        "Training error is 0.0. Test error is 0.290095666854. Step size: 0.0598736939238"
       ]
      },
      {
       "output_type": "stream",
       "stream": "stdout",
       "text": [
        "\n",
        "Training error is 0.0. Test error is 0.290095666854. Step size: 0.0568800092276"
       ]
      },
      {
       "output_type": "stream",
       "stream": "stdout",
       "text": [
        "\n",
        "Training error is 0.0. Test error is 0.290095666854. Step size: 0.0540360087663"
       ]
      },
      {
       "output_type": "stream",
       "stream": "stdout",
       "text": [
        "\n",
        "Training error is 0.0. Test error is 0.290095666854. Step size: 0.051334208328"
       ]
      },
      {
       "output_type": "stream",
       "stream": "stdout",
       "text": [
        "\n",
        "Training error is 0.0. Test error is 0.290095666854. Step size: 0.0487674979116"
       ]
      },
      {
       "output_type": "stream",
       "stream": "stdout",
       "text": [
        "\n",
        "Training error is 0.0. Test error is 0.290095666854. Step size: 0.046329123016"
       ]
      },
      {
       "output_type": "stream",
       "stream": "stdout",
       "text": [
        "\n",
        "Training error is 0.0. Test error is 0.290095666854. Step size: 0.0440126668652"
       ]
      },
      {
       "output_type": "stream",
       "stream": "stdout",
       "text": [
        "\n",
        "Training error is 0.0. Test error is 0.290095666854. Step size: 0.0418120335219"
       ]
      },
      {
       "output_type": "stream",
       "stream": "stdout",
       "text": [
        "\n",
        "Training error is 0.0. Test error is 0.290095666854. Step size: 0.0397214318458"
       ]
      },
      {
       "output_type": "stream",
       "stream": "stdout",
       "text": [
        "\n",
        "Training error is 0.0. Test error is 0.290095666854. Step size: 0.0377353602535"
       ]
      },
      {
       "output_type": "stream",
       "stream": "stdout",
       "text": [
        "\n",
        "13.3929769993\n"
       ]
      }
     ],
     "prompt_number": 151
    },
    {
     "cell_type": "code",
     "collapsed": false,
     "input": [
      "# step size 0.95\n",
      "start = time.time()\n",
      "n = 5\n",
      "fe = extractCharacterFeatures(n)\n",
      "weights = learnPredictor(trainExamples, devExamples, fe)\n",
      "print time.time() - start"
     ],
     "language": "python",
     "metadata": {},
     "outputs": [
      {
       "output_type": "stream",
       "stream": "stdout",
       "text": [
        "Training error is 0.0574001125492. Test error is 0.311198649409. Step size: 0.1\n",
        "Training error is 0.00590883511536. Test error is 0.291502532358. Step size: 0.095"
       ]
      },
      {
       "output_type": "stream",
       "stream": "stdout",
       "text": [
        "\n",
        "Training error is 0.000844119302195. Test error is 0.283905458638. Step size: 0.09025"
       ]
      },
      {
       "output_type": "stream",
       "stream": "stdout",
       "text": [
        "\n",
        "Training error is 0.000562746201463. Test error is 0.283905458638. Step size: 0.0857375"
       ]
      },
      {
       "output_type": "stream",
       "stream": "stdout",
       "text": [
        "\n",
        "Training error is 0.0. Test error is 0.279966235228. Step size: 0.081450625"
       ]
      },
      {
       "output_type": "stream",
       "stream": "stdout",
       "text": [
        "\n",
        "Training error is 0.0. Test error is 0.279966235228. Step size: 0.07737809375"
       ]
      },
      {
       "output_type": "stream",
       "stream": "stdout",
       "text": [
        "\n",
        "Training error is 0.0. Test error is 0.280528981429. Step size: 0.0735091890625"
       ]
      },
      {
       "output_type": "stream",
       "stream": "stdout",
       "text": [
        "\n",
        "Training error is 0.0. Test error is 0.280528981429. Step size: 0.0698337296094"
       ]
      },
      {
       "output_type": "stream",
       "stream": "stdout",
       "text": [
        "\n",
        "Training error is 0.0. Test error is 0.280528981429. Step size: 0.0663420431289"
       ]
      },
      {
       "output_type": "stream",
       "stream": "stdout",
       "text": [
        "\n",
        "Training error is 0.0. Test error is 0.280528981429. Step size: 0.0630249409725"
       ]
      },
      {
       "output_type": "stream",
       "stream": "stdout",
       "text": [
        "\n",
        "Training error is 0.0. Test error is 0.280528981429. Step size: 0.0598736939238"
       ]
      },
      {
       "output_type": "stream",
       "stream": "stdout",
       "text": [
        "\n",
        "Training error is 0.0. Test error is 0.280528981429. Step size: 0.0568800092276"
       ]
      },
      {
       "output_type": "stream",
       "stream": "stdout",
       "text": [
        "\n",
        "Training error is 0.0. Test error is 0.280528981429. Step size: 0.0540360087663"
       ]
      },
      {
       "output_type": "stream",
       "stream": "stdout",
       "text": [
        "\n",
        "Training error is 0.0. Test error is 0.280528981429. Step size: 0.051334208328"
       ]
      },
      {
       "output_type": "stream",
       "stream": "stdout",
       "text": [
        "\n",
        "Training error is 0.0. Test error is 0.280528981429. Step size: 0.0487674979116"
       ]
      },
      {
       "output_type": "stream",
       "stream": "stdout",
       "text": [
        "\n",
        "Training error is 0.0. Test error is 0.280528981429. Step size: 0.046329123016"
       ]
      },
      {
       "output_type": "stream",
       "stream": "stdout",
       "text": [
        "\n",
        "Training error is 0.0. Test error is 0.280528981429. Step size: 0.0440126668652"
       ]
      },
      {
       "output_type": "stream",
       "stream": "stdout",
       "text": [
        "\n",
        "Training error is 0.0. Test error is 0.280528981429. Step size: 0.0418120335219"
       ]
      },
      {
       "output_type": "stream",
       "stream": "stdout",
       "text": [
        "\n",
        "Training error is 0.0. Test error is 0.280528981429. Step size: 0.0397214318458"
       ]
      },
      {
       "output_type": "stream",
       "stream": "stdout",
       "text": [
        "\n",
        "Training error is 0.0. Test error is 0.280528981429. Step size: 0.0377353602535"
       ]
      },
      {
       "output_type": "stream",
       "stream": "stdout",
       "text": [
        "\n",
        "14.5409920216\n"
       ]
      }
     ],
     "prompt_number": 152
    },
    {
     "cell_type": "code",
     "collapsed": false,
     "input": [
      "# step size 0.95\n",
      "start = time.time()\n",
      "n = 6\n",
      "fe = extractCharacterFeatures(n)\n",
      "weights = learnPredictor(trainExamples, devExamples, fe)\n",
      "print time.time() - start"
     ],
     "language": "python",
     "metadata": {},
     "outputs": [
      {
       "output_type": "stream",
       "stream": "stdout",
       "text": [
        "Training error is 0.0351716375914. Test error is 0.304164321891. Step size: 0.1\n",
        "Training error is 0.00168823860439. Test error is 0.290377039955. Step size: 0.095"
       ]
      },
      {
       "output_type": "stream",
       "stream": "stdout",
       "text": [
        "\n",
        "Training error is 0.0. Test error is 0.279403489026. Step size: 0.09025"
       ]
      },
      {
       "output_type": "stream",
       "stream": "stdout",
       "text": [
        "\n",
        "Training error is 0.0. Test error is 0.279403489026. Step size: 0.0857375"
       ]
      },
      {
       "output_type": "stream",
       "stream": "stdout",
       "text": [
        "\n",
        "Training error is 0.0. Test error is 0.277996623523. Step size: 0.081450625"
       ]
      },
      {
       "output_type": "stream",
       "stream": "stdout",
       "text": [
        "\n",
        "Training error is 0.0. Test error is 0.277996623523. Step size: 0.07737809375"
       ]
      },
      {
       "output_type": "stream",
       "stream": "stdout",
       "text": [
        "\n",
        "Training error is 0.0. Test error is 0.277996623523. Step size: 0.0735091890625"
       ]
      },
      {
       "output_type": "stream",
       "stream": "stdout",
       "text": [
        "\n",
        "Training error is 0.0. Test error is 0.277996623523. Step size: 0.0698337296094"
       ]
      },
      {
       "output_type": "stream",
       "stream": "stdout",
       "text": [
        "\n",
        "Training error is 0.0. Test error is 0.277996623523. Step size: 0.0663420431289"
       ]
      },
      {
       "output_type": "stream",
       "stream": "stdout",
       "text": [
        "\n",
        "Training error is 0.0. Test error is 0.277996623523. Step size: 0.0630249409725"
       ]
      },
      {
       "output_type": "stream",
       "stream": "stdout",
       "text": [
        "\n",
        "Training error is 0.0. Test error is 0.277996623523. Step size: 0.0598736939238"
       ]
      },
      {
       "output_type": "stream",
       "stream": "stdout",
       "text": [
        "\n",
        "Training error is 0.0. Test error is 0.277996623523. Step size: 0.0568800092276"
       ]
      },
      {
       "output_type": "stream",
       "stream": "stdout",
       "text": [
        "\n",
        "Training error is 0.0. Test error is 0.277996623523. Step size: 0.0540360087663"
       ]
      },
      {
       "output_type": "stream",
       "stream": "stdout",
       "text": [
        "\n",
        "Training error is 0.0. Test error is 0.277996623523. Step size: 0.051334208328"
       ]
      },
      {
       "output_type": "stream",
       "stream": "stdout",
       "text": [
        "\n",
        "Training error is 0.0. Test error is 0.277996623523. Step size: 0.0487674979116"
       ]
      },
      {
       "output_type": "stream",
       "stream": "stdout",
       "text": [
        "\n",
        "Training error is 0.0. Test error is 0.277996623523. Step size: 0.046329123016"
       ]
      },
      {
       "output_type": "stream",
       "stream": "stdout",
       "text": [
        "\n",
        "Training error is 0.0. Test error is 0.277996623523. Step size: 0.0440126668652"
       ]
      },
      {
       "output_type": "stream",
       "stream": "stdout",
       "text": [
        "\n",
        "Training error is 0.0. Test error is 0.277996623523. Step size: 0.0418120335219"
       ]
      },
      {
       "output_type": "stream",
       "stream": "stdout",
       "text": [
        "\n",
        "Training error is 0.0. Test error is 0.277996623523. Step size: 0.0397214318458"
       ]
      },
      {
       "output_type": "stream",
       "stream": "stdout",
       "text": [
        "\n",
        "Training error is 0.0. Test error is 0.277996623523. Step size: 0.0377353602535"
       ]
      },
      {
       "output_type": "stream",
       "stream": "stdout",
       "text": [
        "\n",
        "14.9619259834\n"
       ]
      }
     ],
     "prompt_number": 153
    },
    {
     "cell_type": "code",
     "collapsed": false,
     "input": [
      "# step size 0.95\n",
      "start = time.time()\n",
      "n = 7\n",
      "fe = extractCharacterFeatures(n)\n",
      "weights = learnPredictor(trainExamples, devExamples, fe)\n",
      "print time.time() - start"
     ],
     "language": "python",
     "metadata": {},
     "outputs": [
      {
       "output_type": "stream",
       "stream": "stdout",
       "text": [
        "Training error is 0.0225098480585. Test error is 0.304445694992. Step size: 0.1\n",
        "Training error is 0.00112549240293. Test error is 0.295441755768. Step size: 0.095"
       ]
      },
      {
       "output_type": "stream",
       "stream": "stdout",
       "text": [
        "\n",
        "Training error is 0.000281373100732. Test error is 0.293190770962. Step size: 0.09025"
       ]
      },
      {
       "output_type": "stream",
       "stream": "stdout",
       "text": [
        "\n",
        "Training error is 0.000281373100732. Test error is 0.290939786156. Step size: 0.0857375"
       ]
      },
      {
       "output_type": "stream",
       "stream": "stdout",
       "text": [
        "\n",
        "Training error is 0.000281373100732. Test error is 0.291221159257. Step size: 0.081450625"
       ]
      },
      {
       "output_type": "stream",
       "stream": "stdout",
       "text": [
        "\n",
        "Training error is 0.000281373100732. Test error is 0.291221159257. Step size: 0.07737809375"
       ]
      },
      {
       "output_type": "stream",
       "stream": "stdout",
       "text": [
        "\n",
        "Training error is 0.000281373100732. Test error is 0.291221159257. Step size: 0.0735091890625"
       ]
      },
      {
       "output_type": "stream",
       "stream": "stdout",
       "text": [
        "\n",
        "Training error is 0.000281373100732. Test error is 0.291221159257. Step size: 0.0698337296094"
       ]
      },
      {
       "output_type": "stream",
       "stream": "stdout",
       "text": [
        "\n",
        "Training error is 0.000281373100732. Test error is 0.291221159257. Step size: 0.0663420431289"
       ]
      },
      {
       "output_type": "stream",
       "stream": "stdout",
       "text": [
        "\n",
        "Training error is 0.000281373100732. Test error is 0.291221159257. Step size: 0.0630249409725"
       ]
      },
      {
       "output_type": "stream",
       "stream": "stdout",
       "text": [
        "\n",
        "Training error is 0.000281373100732. Test error is 0.291221159257. Step size: 0.0598736939238"
       ]
      },
      {
       "output_type": "stream",
       "stream": "stdout",
       "text": [
        "\n",
        "Training error is 0.000281373100732. Test error is 0.291221159257. Step size: 0.0568800092276"
       ]
      },
      {
       "output_type": "stream",
       "stream": "stdout",
       "text": [
        "\n",
        "Training error is 0.000281373100732. Test error is 0.291221159257. Step size: 0.0540360087663"
       ]
      },
      {
       "output_type": "stream",
       "stream": "stdout",
       "text": [
        "\n",
        "Training error is 0.000281373100732. Test error is 0.291221159257. Step size: 0.051334208328"
       ]
      },
      {
       "output_type": "stream",
       "stream": "stdout",
       "text": [
        "\n",
        "Training error is 0.000281373100732. Test error is 0.291221159257. Step size: 0.0487674979116"
       ]
      },
      {
       "output_type": "stream",
       "stream": "stdout",
       "text": [
        "\n",
        "Training error is 0.000281373100732. Test error is 0.291221159257. Step size: 0.046329123016"
       ]
      },
      {
       "output_type": "stream",
       "stream": "stdout",
       "text": [
        "\n",
        "Training error is 0.000281373100732. Test error is 0.291221159257. Step size: 0.0440126668652"
       ]
      },
      {
       "output_type": "stream",
       "stream": "stdout",
       "text": [
        "\n",
        "Training error is 0.000281373100732. Test error is 0.291221159257. Step size: 0.0418120335219"
       ]
      },
      {
       "output_type": "stream",
       "stream": "stdout",
       "text": [
        "\n",
        "Training error is 0.000281373100732. Test error is 0.291221159257. Step size: 0.0397214318458"
       ]
      },
      {
       "output_type": "stream",
       "stream": "stdout",
       "text": [
        "\n",
        "Training error is 0.000281373100732. Test error is 0.291221159257. Step size: 0.0377353602535"
       ]
      },
      {
       "output_type": "stream",
       "stream": "stdout",
       "text": [
        "\n",
        "15.0261881351\n"
       ]
      }
     ],
     "prompt_number": 154
    },
    {
     "cell_type": "code",
     "collapsed": false,
     "input": [
      "# step size 0.95\n",
      "start = time.time()\n",
      "n = 8\n",
      "fe = extractCharacterFeatures(n)\n",
      "weights = learnPredictor(trainExamples, devExamples, fe)\n",
      "print time.time() - start"
     ],
     "language": "python",
     "metadata": {},
     "outputs": [
      {
       "output_type": "stream",
       "stream": "stdout",
       "text": [
        "Training error is 0.0160382667417. Test error is 0.316826111424. Step size: 0.1\n",
        "Training error is 0.000562746201463. Test error is 0.301069217783. Step size: 0.095"
       ]
      },
      {
       "output_type": "stream",
       "stream": "stdout",
       "text": [
        "\n",
        "Training error is 0.000562746201463. Test error is 0.300787844682. Step size: 0.09025"
       ]
      },
      {
       "output_type": "stream",
       "stream": "stdout",
       "text": [
        "\n",
        "Training error is 0.000562746201463. Test error is 0.301350590884. Step size: 0.0857375"
       ]
      },
      {
       "output_type": "stream",
       "stream": "stdout",
       "text": [
        "\n",
        "Training error is 0.000562746201463. Test error is 0.301350590884. Step size: 0.081450625"
       ]
      },
      {
       "output_type": "stream",
       "stream": "stdout",
       "text": [
        "\n",
        "Training error is 0.000562746201463. Test error is 0.301350590884. Step size: 0.07737809375"
       ]
      },
      {
       "output_type": "stream",
       "stream": "stdout",
       "text": [
        "\n",
        "Training error is 0.000562746201463. Test error is 0.301350590884. Step size: 0.0735091890625"
       ]
      },
      {
       "output_type": "stream",
       "stream": "stdout",
       "text": [
        "\n",
        "Training error is 0.000562746201463. Test error is 0.301350590884. Step size: 0.0698337296094"
       ]
      },
      {
       "output_type": "stream",
       "stream": "stdout",
       "text": [
        "\n",
        "Training error is 0.000562746201463. Test error is 0.301350590884. Step size: 0.0663420431289"
       ]
      },
      {
       "output_type": "stream",
       "stream": "stdout",
       "text": [
        "\n",
        "Training error is 0.000562746201463. Test error is 0.301350590884. Step size: 0.0630249409725"
       ]
      },
      {
       "output_type": "stream",
       "stream": "stdout",
       "text": [
        "\n",
        "Training error is 0.000562746201463. Test error is 0.301350590884. Step size: 0.0598736939238"
       ]
      },
      {
       "output_type": "stream",
       "stream": "stdout",
       "text": [
        "\n",
        "Training error is 0.000562746201463. Test error is 0.301350590884. Step size: 0.0568800092276"
       ]
      },
      {
       "output_type": "stream",
       "stream": "stdout",
       "text": [
        "\n",
        "Training error is 0.000562746201463. Test error is 0.301350590884. Step size: 0.0540360087663"
       ]
      },
      {
       "output_type": "stream",
       "stream": "stdout",
       "text": [
        "\n",
        "Training error is 0.000562746201463. Test error is 0.301350590884. Step size: 0.051334208328"
       ]
      },
      {
       "output_type": "stream",
       "stream": "stdout",
       "text": [
        "\n",
        "Training error is 0.000562746201463. Test error is 0.301350590884. Step size: 0.0487674979116"
       ]
      },
      {
       "output_type": "stream",
       "stream": "stdout",
       "text": [
        "\n",
        "Training error is 0.000562746201463. Test error is 0.301350590884. Step size: 0.046329123016"
       ]
      },
      {
       "output_type": "stream",
       "stream": "stdout",
       "text": [
        "\n",
        "Training error is 0.000562746201463. Test error is 0.301350590884. Step size: 0.0440126668652"
       ]
      },
      {
       "output_type": "stream",
       "stream": "stdout",
       "text": [
        "\n",
        "Training error is 0.000562746201463. Test error is 0.301350590884. Step size: 0.0418120335219"
       ]
      },
      {
       "output_type": "stream",
       "stream": "stdout",
       "text": [
        "\n",
        "Training error is 0.000562746201463. Test error is 0.301350590884. Step size: 0.0397214318458"
       ]
      },
      {
       "output_type": "stream",
       "stream": "stdout",
       "text": [
        "\n",
        "Training error is 0.000562746201463. Test error is 0.301350590884. Step size: 0.0377353602535"
       ]
      },
      {
       "output_type": "stream",
       "stream": "stdout",
       "text": [
        "\n",
        "14.8772921562\n"
       ]
      }
     ],
     "prompt_number": 155
    },
    {
     "cell_type": "code",
     "collapsed": false,
     "input": [
      "def extractNWords(n):\n",
      "    '''\n",
      "    Return a function that takes a string |x| and returns a sparse feature\n",
      "    vector consisting of all 1- to n-grams of words\n",
      "    '''\n",
      "    def extract(x):\n",
      "        # BEGIN_YOUR_CODE (around 10 lines of code expected)\n",
      "        features = {}\n",
      "        words = x.split(' ')\n",
      "        for m in xrange(1,n):\n",
      "            for i in xrange(len(words)-(m-1)):\n",
      "                features[''.join(words[i:i+m])] = features.get(''.join(words[i:i+m]),0) + 1\n",
      "        return features\n",
      "        # END_YOUR_CODE\n",
      "    return extract"
     ],
     "language": "python",
     "metadata": {},
     "outputs": [],
     "prompt_number": 176
    },
    {
     "cell_type": "code",
     "collapsed": false,
     "input": [
      "# step size 0.95\n",
      "start = time.time()\n",
      "n = 4\n",
      "fe = extractNWords(n)\n",
      "weights = learnPredictor(trainExamples, devExamples, fe)\n",
      "print time.time() - start"
     ],
     "language": "python",
     "metadata": {},
     "outputs": [
      {
       "output_type": "stream",
       "stream": "stdout",
       "text": [
        "Training error is 0.0965109735509. Test error is 0.335396736072. Step size: 0.1\n",
        "Training error is 0.0337647720878. Test error is 0.310917276308. Step size: 0.095"
       ]
      },
      {
       "output_type": "stream",
       "stream": "stdout",
       "text": [
        "\n",
        "Training error is 0.014631401238. Test error is 0.297129994373. Step size: 0.09025"
       ]
      },
      {
       "output_type": "stream",
       "stream": "stdout",
       "text": [
        "\n",
        "Training error is 0.00506471581317. Test error is 0.288970174451. Step size: 0.0857375"
       ]
      },
      {
       "output_type": "stream",
       "stream": "stdout",
       "text": [
        "\n",
        "Training error is 0.000562746201463. Test error is 0.262802476083. Step size: 0.081450625"
       ]
      },
      {
       "output_type": "stream",
       "stream": "stdout",
       "text": [
        "\n",
        "Training error is 0.000281373100732. Test error is 0.273494653911. Step size: 0.07737809375"
       ]
      },
      {
       "output_type": "stream",
       "stream": "stdout",
       "text": [
        "\n",
        "Training error is 0.0. Test error is 0.2692740574. Step size: 0.0735091890625"
       ]
      },
      {
       "output_type": "stream",
       "stream": "stdout",
       "text": [
        "\n",
        "Training error is 0.0. Test error is 0.26533483399. Step size: 0.0698337296094"
       ]
      },
      {
       "output_type": "stream",
       "stream": "stdout",
       "text": [
        "\n",
        "Training error is 0.0. Test error is 0.266741699494. Step size: 0.0663420431289"
       ]
      },
      {
       "output_type": "stream",
       "stream": "stdout",
       "text": [
        "\n",
        "Training error is 0.0. Test error is 0.265897580191. Step size: 0.0630249409725"
       ]
      },
      {
       "output_type": "stream",
       "stream": "stdout",
       "text": [
        "\n",
        "Training error is 0.0. Test error is 0.265053460889. Step size: 0.0598736939238"
       ]
      },
      {
       "output_type": "stream",
       "stream": "stdout",
       "text": [
        "\n",
        "Training error is 0.0. Test error is 0.267023072594. Step size: 0.0568800092276"
       ]
      },
      {
       "output_type": "stream",
       "stream": "stdout",
       "text": [
        "\n",
        "Training error is 0.0. Test error is 0.267023072594. Step size: 0.0540360087663"
       ]
      },
      {
       "output_type": "stream",
       "stream": "stdout",
       "text": [
        "\n",
        "Training error is 0.0. Test error is 0.267023072594. Step size: 0.051334208328"
       ]
      },
      {
       "output_type": "stream",
       "stream": "stdout",
       "text": [
        "\n",
        "Training error is 0.0. Test error is 0.267023072594. Step size: 0.0487674979116"
       ]
      },
      {
       "output_type": "stream",
       "stream": "stdout",
       "text": [
        "\n",
        "Training error is 0.0. Test error is 0.267023072594. Step size: 0.046329123016"
       ]
      },
      {
       "output_type": "stream",
       "stream": "stdout",
       "text": [
        "\n",
        "Training error is 0.0. Test error is 0.267023072594. Step size: 0.0440126668652"
       ]
      },
      {
       "output_type": "stream",
       "stream": "stdout",
       "text": [
        "\n",
        "Training error is 0.0. Test error is 0.267023072594. Step size: 0.0418120335219"
       ]
      },
      {
       "output_type": "stream",
       "stream": "stdout",
       "text": [
        "\n",
        "Training error is 0.0. Test error is 0.267023072594. Step size: 0.0397214318458"
       ]
      },
      {
       "output_type": "stream",
       "stream": "stdout",
       "text": [
        "\n",
        "Training error is 0.0. Test error is 0.267023072594. Step size: 0.0377353602535"
       ]
      },
      {
       "output_type": "stream",
       "stream": "stdout",
       "text": [
        "\n",
        "15.3555250168\n"
       ]
      }
     ],
     "prompt_number": 179
    },
    {
     "cell_type": "code",
     "collapsed": false,
     "input": [
      "# step size 0.95\n",
      "start = time.time()\n",
      "n = 10\n",
      "fe = extractNWords(n)\n",
      "weights = learnPredictor(trainExamples, devExamples, fe)\n",
      "print time.time() - start"
     ],
     "language": "python",
     "metadata": {},
     "outputs": [
      {
       "output_type": "stream",
       "stream": "stdout",
       "text": [
        "Training error is 0.0694991558807. Test error is 0.308666291503. Step size: 0.1\n",
        "Training error is 0.0205402363534. Test error is 0.311198649409. Step size: 0.095"
       ]
      },
      {
       "output_type": "stream",
       "stream": "stdout",
       "text": [
        "\n",
        "Training error is 0.00928531232414. Test error is 0.296567248171. Step size: 0.09025"
       ]
      },
      {
       "output_type": "stream",
       "stream": "stdout",
       "text": [
        "\n",
        "Training error is 0.000844119302195. Test error is 0.285875070343. Step size: 0.0857375"
       ]
      },
      {
       "output_type": "stream",
       "stream": "stdout",
       "text": [
        "\n",
        "Training error is 0.000844119302195. Test error is 0.285875070343. Step size: 0.081450625"
       ]
      },
      {
       "output_type": "stream",
       "stream": "stdout",
       "text": [
        "\n",
        "Training error is 0.000281373100732. Test error is 0.283905458638. Step size: 0.07737809375"
       ]
      },
      {
       "output_type": "stream",
       "stream": "stdout",
       "text": [
        "\n",
        "Training error is 0.0. Test error is 0.278840742825. Step size: 0.0735091890625"
       ]
      },
      {
       "output_type": "stream",
       "stream": "stdout",
       "text": [
        "\n",
        "Training error is 0.0. Test error is 0.274057400113. Step size: 0.0698337296094"
       ]
      },
      {
       "output_type": "stream",
       "stream": "stdout",
       "text": [
        "\n",
        "Training error is 0.000281373100732. Test error is 0.28081035453. Step size: 0.0663420431289"
       ]
      },
      {
       "output_type": "stream",
       "stream": "stdout",
       "text": [
        "\n",
        "Training error is 0.0. Test error is 0.277996623523. Step size: 0.0630249409725"
       ]
      },
      {
       "output_type": "stream",
       "stream": "stdout",
       "text": [
        "\n",
        "Training error is 0.0. Test error is 0.28081035453. Step size: 0.0598736939238"
       ]
      },
      {
       "output_type": "stream",
       "stream": "stdout",
       "text": [
        "\n",
        "Training error is 0.0. Test error is 0.28081035453. Step size: 0.0568800092276"
       ]
      },
      {
       "output_type": "stream",
       "stream": "stdout",
       "text": [
        "\n",
        "Training error is 0.0. Test error is 0.28081035453. Step size: 0.0540360087663"
       ]
      },
      {
       "output_type": "stream",
       "stream": "stdout",
       "text": [
        "\n",
        "Training error is 0.0. Test error is 0.28081035453. Step size: 0.051334208328"
       ]
      },
      {
       "output_type": "stream",
       "stream": "stdout",
       "text": [
        "\n",
        "Training error is 0.0. Test error is 0.28081035453. Step size: 0.0487674979116"
       ]
      },
      {
       "output_type": "stream",
       "stream": "stdout",
       "text": [
        "\n",
        "Training error is 0.0. Test error is 0.28081035453. Step size: 0.046329123016"
       ]
      },
      {
       "output_type": "stream",
       "stream": "stdout",
       "text": [
        "\n",
        "Training error is 0.0. Test error is 0.28081035453. Step size: 0.0440126668652"
       ]
      },
      {
       "output_type": "stream",
       "stream": "stdout",
       "text": [
        "\n",
        "Training error is 0.0. Test error is 0.28081035453. Step size: 0.0418120335219"
       ]
      },
      {
       "output_type": "stream",
       "stream": "stdout",
       "text": [
        "\n",
        "Training error is 0.0. Test error is 0.28081035453. Step size: 0.0397214318458"
       ]
      },
      {
       "output_type": "stream",
       "stream": "stdout",
       "text": [
        "\n",
        "Training error is 0.0. Test error is 0.28081035453. Step size: 0.0377353602535"
       ]
      },
      {
       "output_type": "stream",
       "stream": "stdout",
       "text": [
        "\n",
        "46.8930668831\n"
       ]
      }
     ],
     "prompt_number": 184
    },
    {
     "cell_type": "code",
     "collapsed": false,
     "input": [
      "words"
     ],
     "language": "python",
     "metadata": {},
     "outputs": [
      {
       "metadata": {},
       "output_type": "pyout",
       "prompt_number": 168,
       "text": [
        "['i', 'like', 'tacos']"
       ]
      }
     ],
     "prompt_number": 168
    },
    {
     "cell_type": "code",
     "collapsed": false,
     "input": [
      "type(noSpaces)"
     ],
     "language": "python",
     "metadata": {},
     "outputs": [
      {
       "metadata": {},
       "output_type": "pyout",
       "prompt_number": 169,
       "text": [
        "str"
       ]
      }
     ],
     "prompt_number": 169
    },
    {
     "cell_type": "code",
     "collapsed": false,
     "input": [
      "''.join(words[0])"
     ],
     "language": "python",
     "metadata": {},
     "outputs": [
      {
       "metadata": {},
       "output_type": "pyout",
       "prompt_number": 173,
       "text": [
        "'i'"
       ]
      }
     ],
     "prompt_number": 173
    },
    {
     "cell_type": "code",
     "collapsed": false,
     "input": [
      "yoda = [7, 3, 0, 4]"
     ],
     "language": "python",
     "metadata": {},
     "outputs": [],
     "prompt_number": 185
    },
    {
     "cell_type": "code",
     "collapsed": false,
     "input": [
      "np.argmin(yoda)"
     ],
     "language": "python",
     "metadata": {},
     "outputs": [
      {
       "metadata": {},
       "output_type": "pyout",
       "prompt_number": 186,
       "text": [
        "2"
       ]
      }
     ],
     "prompt_number": 186
    },
    {
     "cell_type": "code",
     "collapsed": false,
     "input": [
      "yoda = {}\n",
      "yoda['dollar'] = 5\n",
      "yoda['cents'] = 20"
     ],
     "language": "python",
     "metadata": {},
     "outputs": [],
     "prompt_number": 187
    },
    {
     "cell_type": "code",
     "collapsed": false,
     "input": [
      "yoda"
     ],
     "language": "python",
     "metadata": {},
     "outputs": [
      {
       "metadata": {},
       "output_type": "pyout",
       "prompt_number": 188,
       "text": [
        "{'cents': 20, 'dollar': 5}"
       ]
      }
     ],
     "prompt_number": 188
    },
    {
     "cell_type": "code",
     "collapsed": false,
     "input": [
      "luke = {}\n",
      "luke['dollar'] = 6\n",
      "luke['cents'] = 20"
     ],
     "language": "python",
     "metadata": {},
     "outputs": [],
     "prompt_number": 192
    },
    {
     "cell_type": "code",
     "collapsed": false,
     "input": [
      "luke"
     ],
     "language": "python",
     "metadata": {},
     "outputs": [
      {
       "metadata": {},
       "output_type": "pyout",
       "prompt_number": 193,
       "text": [
        "{'cents': 20, 'dollar': 6}"
       ]
      }
     ],
     "prompt_number": 193
    },
    {
     "cell_type": "code",
     "collapsed": false,
     "input": [
      "luke == yoda"
     ],
     "language": "python",
     "metadata": {},
     "outputs": [
      {
       "metadata": {},
       "output_type": "pyout",
       "prompt_number": 194,
       "text": [
        "False"
       ]
      }
     ],
     "prompt_number": 194
    },
    {
     "cell_type": "code",
     "collapsed": false,
     "input": [
      "homie = 0"
     ],
     "language": "python",
     "metadata": {},
     "outputs": [],
     "prompt_number": 203
    },
    {
     "cell_type": "code",
     "collapsed": false,
     "input": [
      "homie += 1"
     ],
     "language": "python",
     "metadata": {},
     "outputs": [],
     "prompt_number": 204
    },
    {
     "cell_type": "code",
     "collapsed": false,
     "input": [
      "homie"
     ],
     "language": "python",
     "metadata": {},
     "outputs": [
      {
       "metadata": {},
       "output_type": "pyout",
       "prompt_number": 205,
       "text": [
        "1"
       ]
      }
     ],
     "prompt_number": 205
    },
    {
     "cell_type": "code",
     "collapsed": false,
     "input": [
      "def kmeans(examples, K, maxIters):\n",
      "    '''\n",
      "    examples: list of examples, each example is a string-to-double dict representing a sparse vector.\n",
      "    K: number of desired clusters\n",
      "    maxIters: maximum number of iterations to run for (you should terminate early if the algorithm converges).\n",
      "    Return: (length K list of cluster centroids,\n",
      "            list of assignments, (i.e. if examples[i] belongs to centers[j], then assignments[i] = j)\n",
      "            final reconstruction loss)\n",
      "    '''\n",
      "    # BEGIN_YOUR_CODE (around 35 lines of code expected)\n",
      "    count    = 0\n",
      "    clusters = random.sample(examples, K)\n",
      "    while count < maxIters:\n",
      "        # MAKE ASSIGNMENTS\n",
      "        assignments = []\n",
      "        loss        = 0\n",
      "        for ex in examples:\n",
      "            scores = []\n",
      "            for c in xrange(K):\n",
      "                diff = ex.copy()\n",
      "                increment(diff,-1,clusters[c])\n",
      "                scores.append(dotProduct(diff,diff))\n",
      "            assignments.append(np.argmin(scores))\n",
      "            loss += min(scores)\n",
      "\n",
      "        # REVISE CLUSTER CENTROIDS\n",
      "        changes = []\n",
      "        for c in xrange(K):\n",
      "            ptsInCluster = [i for i, j in enumerate(assignments) if j == c]\n",
      "            newCentroid  = {}\n",
      "            for i in ptsInCluster:\n",
      "                increment(newCentroid, 1./len(ptsInCluster), examples[i])\n",
      "            if newCentroid != clusters[c]:\n",
      "                clusters[c] = newCentroid\n",
      "                changes.append(1.)\n",
      "        if sum(changes) < 1:\n",
      "            count = maxIters\n",
      "        else:\n",
      "            count += 1\n",
      "    \n",
      "    return (clusters, assignments, loss)\n",
      "    # END_YOUR_CODE"
     ],
     "language": "python",
     "metadata": {},
     "outputs": [],
     "prompt_number": 239
    },
    {
     "cell_type": "code",
     "collapsed": false,
     "input": [
      "x1 = {0:0, 1:0}\n",
      "x2 = {0:0, 1:1}\n",
      "x3 = {0:0, 1:2}\n",
      "x4 = {0:0, 1:3}\n",
      "x5 = {0:0, 1:4}\n",
      "x6 = {0:0, 1:5}\n",
      "examples = [x1, x2, x3, x4, x5, x6]"
     ],
     "language": "python",
     "metadata": {},
     "outputs": [],
     "prompt_number": 240
    },
    {
     "cell_type": "code",
     "collapsed": false,
     "input": [
      "centers, assignments, totalCost = kmeans(examples, 2, maxIters=10)"
     ],
     "language": "python",
     "metadata": {},
     "outputs": [],
     "prompt_number": 241
    },
    {
     "cell_type": "code",
     "collapsed": false,
     "input": [
      "assignments"
     ],
     "language": "python",
     "metadata": {},
     "outputs": [
      {
       "metadata": {},
       "output_type": "pyout",
       "prompt_number": 242,
       "text": [
        "[1, 1, 1, 0, 0, 0]"
       ]
      }
     ],
     "prompt_number": 242
    },
    {
     "cell_type": "code",
     "collapsed": false,
     "input": [
      "centers"
     ],
     "language": "python",
     "metadata": {},
     "outputs": [
      {
       "metadata": {},
       "output_type": "pyout",
       "prompt_number": 243,
       "text": [
        "[{0: 0.0, 1: 3.9999999999999996}, {0: 0.0, 1: 1.0}]"
       ]
      }
     ],
     "prompt_number": 243
    },
    {
     "cell_type": "code",
     "collapsed": false,
     "input": [
      "totalCost"
     ],
     "language": "python",
     "metadata": {},
     "outputs": [
      {
       "metadata": {},
       "output_type": "pyout",
       "prompt_number": 244,
       "text": [
        "4.0"
       ]
      }
     ],
     "prompt_number": 244
    },
    {
     "cell_type": "code",
     "collapsed": false,
     "input": [
      "clusters = random.sample(examples, 2)"
     ],
     "language": "python",
     "metadata": {},
     "outputs": [],
     "prompt_number": 222
    },
    {
     "cell_type": "code",
     "collapsed": false,
     "input": [
      "clusters"
     ],
     "language": "python",
     "metadata": {},
     "outputs": [
      {
       "metadata": {},
       "output_type": "pyout",
       "prompt_number": 225,
       "text": [
        "[{0: 0, 1: 3}, {0: 0, 1: 4}]"
       ]
      }
     ],
     "prompt_number": 225
    },
    {
     "cell_type": "markdown",
     "metadata": {},
     "source": [
      "### Some problem where func returns only one center"
     ]
    },
    {
     "cell_type": "code",
     "collapsed": false,
     "input": [
      "# BEGIN_YOUR_CODE (around 35 lines of code expected)\n",
      "K        = 2\n",
      "count    = 0\n",
      "clusters = random.sample(examples, K)"
     ],
     "language": "python",
     "metadata": {},
     "outputs": [],
     "prompt_number": 232
    },
    {
     "cell_type": "code",
     "collapsed": false,
     "input": [
      "# MAKE ASSIGNMENTS\n",
      "assignments = []\n",
      "loss        = 0\n",
      "for ex in examples:\n",
      "    scores = []\n",
      "    for c in xrange(K):\n",
      "        diff = ex.copy()\n",
      "        increment(diff,-1,clusters[c])\n",
      "        scores.append(dotProduct(diff,diff))\n",
      "    assignments.append(np.argmin(scores))\n",
      "    loss += min(scores)"
     ],
     "language": "python",
     "metadata": {},
     "outputs": [],
     "prompt_number": 237
    },
    {
     "cell_type": "code",
     "collapsed": false,
     "input": [
      "# REVISE CLUSTER CENTROIDS\n",
      "changes = []\n",
      "for c in xrange(K):\n",
      "    ptsInCluster = [i for i, j in enumerate(assignments) if j == c]\n",
      "    newCentroid  = {}\n",
      "    for i in ptsInCluster:\n",
      "        increment(newCentroid, 1./len(ptsInCluster), examples[i])\n",
      "    if newCentroid != clusters[c]:\n",
      "        clusters[c] = newCentroid\n",
      "        changes.append(1.)\n",
      "if sum(changes) < 1:\n",
      "    count = maxIters\n",
      "else:\n",
      "    count += 1"
     ],
     "language": "python",
     "metadata": {},
     "outputs": []
    },
    {
     "cell_type": "code",
     "collapsed": false,
     "input": [
      "scores"
     ],
     "language": "python",
     "metadata": {},
     "outputs": [
      {
       "metadata": {},
       "output_type": "pyout",
       "prompt_number": 238,
       "text": [
        "[25, 9]"
       ]
      }
     ],
     "prompt_number": 238
    },
    {
     "cell_type": "code",
     "collapsed": false,
     "input": [],
     "language": "python",
     "metadata": {},
     "outputs": []
    }
   ],
   "metadata": {}
  }
 ]
}