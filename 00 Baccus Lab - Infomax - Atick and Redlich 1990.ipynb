{
 "metadata": {
  "name": "",
  "signature": "sha256:508a5e12eac1fdafdac3c347ee8b924d8a445c6ac45536d0b6f49e4c8c7a74d3"
 },
 "nbformat": 3,
 "nbformat_minor": 0,
 "worksheets": [
  {
   "cells": [
    {
     "cell_type": "markdown",
     "metadata": {},
     "source": [
      "# Atick and Redlich, 1990. \"Towards a theory of early visual processing.\"  \n",
      "  \n",
      "  Here we simulate the receptive field that minimizes redundancy subject to a total variance restraint, translation invariance, and minimum information requirements."
     ]
    },
    {
     "cell_type": "code",
     "collapsed": false,
     "input": [
      "import numpy as np\n",
      "from numpy.fft import fft\n",
      "import info_theory_functions as info\n",
      "from scipy.optimize import minimize\n",
      "\n",
      "# This is a bit of magic to make matplotlib figures appear inline in the\n",
      "# notebook rather than in a new window.\n",
      "%matplotlib inline\n",
      "plt.rcParams['figure.figsize'] = (10.0, 8.0) # set default size of plots\n",
      "plt.rcParams['image.interpolation'] = 'nearest'\n",
      "plt.rcParams['image.cmap'] = 'gray'\n",
      "\n",
      "# Some more magic so that the notebook will reload external python modules;\n",
      "# see http://stackoverflow.com/questions/1907993/autoreload-of-modules-in-ipython\n",
      "%load_ext autoreload\n",
      "%autoreload 2"
     ],
     "language": "python",
     "metadata": {},
     "outputs": [],
     "prompt_number": 3
    },
    {
     "cell_type": "markdown",
     "metadata": {},
     "source": [
      "Equation 2.4. The one positive solution for the optimal transfer function:"
     ]
    },
    {
     "cell_type": "code",
     "collapsed": false,
     "input": [
      "def soln(R_0, inputNoise, outputNoise, lagrangeMultiplier):\n",
      "    '''R_0 is input covariance matrix\n",
      "       R is R_0 + N^2 delta_n,m'''\n",
      "    #R = np.array(R_0) + inputNoise**2 #* np.eye(*R_0.shape)\n",
      "    return (outputNoise/inputNoise)*np.sqrt([0.5*(r0/(r0+inputNoise**2))*(1 + np.sqrt(1+(2*lagrangeMultiplier*inputNoise**2)/r0))-1 for r0 in R_0])"
     ],
     "language": "python",
     "metadata": {},
     "outputs": [],
     "prompt_number": 40
    },
    {
     "cell_type": "code",
     "collapsed": true,
     "input": [
      "filt = soln([1/f for f in np.linspace(0.1,100,100)], 0.1, 0.4, 2.6197)"
     ],
     "language": "python",
     "metadata": {},
     "outputs": [],
     "prompt_number": 56
    },
    {
     "cell_type": "code",
     "collapsed": false,
     "input": [
      "plot(filt)"
     ],
     "language": "python",
     "metadata": {},
     "outputs": [
      {
       "metadata": {},
       "output_type": "pyout",
       "prompt_number": 58,
       "text": [
        "[<matplotlib.lines.Line2D at 0x10df14c90>]"
       ]
      },
      {
       "metadata": {},
       "output_type": "display_data",
       "png": "[encoded data removed]",
       "text": [
        "<matplotlib.figure.Figure at 0x10de0e8d0>"
       ]
      }
     ],
     "prompt_number": 58
    },
    {
     "cell_type": "code",
     "collapsed": false,
     "input": [
      "plot(np.fft.ifftshift(np.fft.ifft(filt[:30])))"
     ],
     "language": "python",
     "metadata": {},
     "outputs": [
      {
       "metadata": {},
       "output_type": "pyout",
       "prompt_number": 62,
       "text": [
        "[<matplotlib.lines.Line2D at 0x10dd4b990>]"
       ]
      },
      {
       "metadata": {},
       "output_type": "display_data",
       "png": "[encoded data removed]",
       "text": [
        "<matplotlib.figure.Figure at 0x10db33910>"
       ]
      }
     ],
     "prompt_number": 62
    },
    {
     "cell_type": "code",
     "collapsed": false,
     "input": [
      "def getLambda(R_0, inputNoise, outputNoise):\n",
      "    def lhs(lam):\n",
      "        return sum(np.log([np.sqrt(r/(2*lam*inputNoise**2))+np.sqrt(1+(r/2*lam*inputNoise**2)) for r in R_0]))\n",
      "    R = np.array(R_0) + inputNoise**2\n",
      "    rhs = 0.5*sum(np.log([(r*(inputNoise**2 + outputNoise**2))/(inputNoise**2 * (r + outputNoise**2)) for r in R]))\n",
      "    \n",
      "    def difference(lam):\n",
      "        return abs(lhs(lam)-rhs)\n",
      "    \n",
      "    lam = randn(1)\n",
      "    res = minimize(difference, x0=lam, method='nelder-mead')\n",
      "    \n",
      "    return res.x, res.fun"
     ],
     "language": "python",
     "metadata": {},
     "outputs": [],
     "prompt_number": 47
    },
    {
     "cell_type": "code",
     "collapsed": false,
     "input": [
      "(lam, err) = getLambda([1/f for f in np.linspace(0.1,100,100)], 0.1, 0.4)"
     ],
     "language": "python",
     "metadata": {},
     "outputs": [],
     "prompt_number": 51
    },
    {
     "cell_type": "code",
     "collapsed": false,
     "input": [
      "lam"
     ],
     "language": "python",
     "metadata": {},
     "outputs": [
      {
       "metadata": {},
       "output_type": "pyout",
       "prompt_number": 54,
       "text": [
        "array([ 2.61978093])"
       ]
      }
     ],
     "prompt_number": 54
    },
    {
     "cell_type": "code",
     "collapsed": false,
     "input": [
      "err"
     ],
     "language": "python",
     "metadata": {},
     "outputs": [
      {
       "metadata": {},
       "output_type": "pyout",
       "prompt_number": 55,
       "text": [
        "0.00029619506408806728"
       ]
      }
     ],
     "prompt_number": 55
    },
    {
     "cell_type": "code",
     "collapsed": false,
     "input": [
      "from IPython.html.widgets import interact, interactive, fixed\n",
      "from IPython.html import widgets\n",
      "from IPython.display import clear_output, display, HTML"
     ],
     "language": "python",
     "metadata": {},
     "outputs": [],
     "prompt_number": 68
    },
    {
     "cell_type": "code",
     "collapsed": false,
     "input": [
      "from lnl_model_functions import *"
     ],
     "language": "python",
     "metadata": {},
     "outputs": [],
     "prompt_number": 71
    },
    {
     "cell_type": "code",
     "collapsed": false,
     "input": [
      "def oneGaussian(x, original):\n",
      "    sigma1,sigma2,strength1,strength2 = x\n",
      "    xs = linspace(-5,5,len(original))\n",
      "    ourGaussian = abs(strength1)*gaussian(x=xs, sigma=abs(sigma1)) - abs(strength2)*gaussian(x=xs, sigma=abs(sigma2))\n",
      "    return ourGaussian"
     ],
     "language": "python",
     "metadata": {},
     "outputs": [],
     "prompt_number": 124
    },
    {
     "cell_type": "code",
     "collapsed": false,
     "input": [
      "def oneGaussiansError(x,original):\n",
      "    ourGaussian = oneGaussian(x, original)\n",
      "    return sum(abs(ourGaussian-original))"
     ],
     "language": "python",
     "metadata": {},
     "outputs": [],
     "prompt_number": 125
    },
    {
     "cell_type": "code",
     "collapsed": false,
     "input": [
      "cOpt = real(np.fft.ifftshift(np.fft.ifft(filt[:30])))"
     ],
     "language": "python",
     "metadata": {},
     "outputs": [],
     "prompt_number": 126
    },
    {
     "cell_type": "code",
     "collapsed": false,
     "input": [
      "def fitGaussians(strength1,strength2,sigma1,sigma2):\n",
      "    original=filt\n",
      "    #sigma1,sigma2,strength1,strength2 = x\n",
      "    xs = linspace(-5,5,len(original))\n",
      "    ourGaussian = abs(strength1)*gaussian(x=xs, sigma=abs(sigma1)) - abs(strength2)*gaussian(x=xs, sigma=abs(sigma2))\n",
      "    \n",
      "    #print sum(abs(ourGaussian-original)) #oneGaussiansError([strength1,strength2,sigma1,sigma2],original)\n",
      "    print oneGaussiansError([sigma1, sigma2, strength1, strength2], original)\n",
      "\n",
      "    plot(original,'k',linewidth=3)\n",
      "    plot(ourGaussian,'r',linewidth=2,alpha=0.8)\n",
      "    \n",
      "    return ourGaussian\n",
      "    "
     ],
     "language": "python",
     "metadata": {},
     "outputs": [],
     "prompt_number": 127
    },
    {
     "cell_type": "code",
     "collapsed": false,
     "input": [
      "w = interactive(fitGaussians, strength1=0.04, strength2=0.9, sigma1=0.15, sigma2=3.2)"
     ],
     "language": "python",
     "metadata": {},
     "outputs": [],
     "prompt_number": 128
    },
    {
     "cell_type": "code",
     "collapsed": false,
     "input": [
      "original=cOpt[1:]\n",
      "strength1=0.034\n",
      "strength2=0.105\n",
      "sigma1=0.1\n",
      "sigma2=0.4\n",
      "xs = linspace(-5,5,len(original))\n",
      "ourGaussian = abs(strength1)*gaussian(x=xs, sigma=abs(sigma1)) - abs(strength2)*gaussian(x=xs, sigma=abs(sigma2))\n",
      "plot(original,'k',linewidth=3)\n",
      "plot(ourGaussian,'r',linewidth=2,alpha=0.8)"
     ],
     "language": "python",
     "metadata": {},
     "outputs": [
      {
       "metadata": {},
       "output_type": "pyout",
       "prompt_number": 121,
       "text": [
        "[<matplotlib.lines.Line2D at 0x111d207d0>]"
       ]
      },
      {
       "metadata": {},
       "output_type": "display_data",
       "png": "[encoded data removed]",
       "text": [
        "<matplotlib.figure.Figure at 0x111d20c50>"
       ]
      }
     ],
     "prompt_number": 121
    },
    {
     "cell_type": "code",
     "collapsed": false,
     "input": [
      "oneGaussiansError([sigma1, sigma2, strength1, strength2], original)"
     ],
     "language": "python",
     "metadata": {},
     "outputs": [
      {
       "metadata": {},
       "output_type": "pyout",
       "prompt_number": 129,
       "text": [
        "0.18720730823350906"
       ]
      }
     ],
     "prompt_number": 129
    },
    {
     "cell_type": "markdown",
     "metadata": {},
     "source": [
      "# With the amplitude spectrum from natural images"
     ]
    },
    {
     "cell_type": "code",
     "collapsed": false,
     "input": [
      "im_path = '/Users/lmcintosh/Documents/Natural_Images/RawData/cd13A' # flood plain, water, horizon\n",
      "#im_path = '/Users/lmcintosh/Documents/Natural_Images/RawData/cd01A' # baboons, trees, bushes"
     ],
     "language": "python",
     "metadata": {},
     "outputs": [],
     "prompt_number": 130
    },
    {
     "cell_type": "code",
     "collapsed": false,
     "input": [
      "ls -1 $im_path | wc -l"
     ],
     "language": "python",
     "metadata": {},
     "outputs": [
      {
       "output_type": "stream",
       "stream": "stdout",
       "text": [
        "     156\r\n"
       ]
      }
     ],
     "prompt_number": 131
    },
    {
     "cell_type": "code",
     "collapsed": false,
     "input": [
      "def load_images(path, numImages, patchSize=None, acceptedExtensions=['.imc','LUM.mat'], square=False):\n",
      "    from os import listdir\n",
      "    from os.path import isfile, join\n",
      "    import array as ar\n",
      "    import scipy.io\n",
      "    \n",
      "    allfiles = []\n",
      "    for ext in acceptedExtensions:\n",
      "        allfiles = allfiles + [f for f in listdir(path) if isfile(join(path,f)) and ext in f]\n",
      "    if len(allfiles) < numImages:\n",
      "        print 'Only ' + str(len(allfiles)) + ' files in directory.'\n",
      "    names    = allfiles[:numImages]\n",
      "    patches  = []\n",
      "\n",
      "    for im in names:\n",
      "        if '.imc' in im:\n",
      "            fin = open(path+'/'+im, 'rb')\n",
      "            s   = fin.read()\n",
      "            fin.close()\n",
      "            arr = ar.array('H', s)\n",
      "            arr.byteswap()\n",
      "            img = np.array(arr, dtype='uint16').reshape(1024,1536)\n",
      "        elif '.mat' in im:\n",
      "            fin = scipy.io.loadmat(path+'/'+im)\n",
      "            arr = fin['LUM_Image']\n",
      "            # make 0 to 255\n",
      "            arr = arr - min(arr.flat)\n",
      "            arr = 255.*arr/max(arr.flat)\n",
      "            img = np.array(arr, dtype='uint16')\n",
      "            \n",
      "        # make patches\n",
      "        if patchSize:\n",
      "            img_center = [np.shape(img)[0]/2,np.shape(img)[1]/2]\n",
      "            img        = img[img_center[0]-patchSize/2:img_center[0]+patchSize/2,img_center[1]-patchSize/2:img_center[1]+patchSize/2]\n",
      "            \n",
      "        if square:\n",
      "            N = min(shape(img))\n",
      "            N = N - (N % 2) # make even\n",
      "            img = img[:N,:N]\n",
      "        \n",
      "        # normalize to unit variance and zero mean\n",
      "        img        = img/np.sqrt(np.var(img))\n",
      "        patches.append(img - np.mean(img))\n",
      "\n",
      "    return patches"
     ],
     "language": "python",
     "metadata": {},
     "outputs": [],
     "prompt_number": 132
    },
    {
     "cell_type": "code",
     "collapsed": false,
     "input": [
      "def cart2pol(x, y):\n",
      "    rho = np.sqrt(x**2 + y**2)\n",
      "    phi = np.arctan2(y, x)\n",
      "    return (phi, rho)"
     ],
     "language": "python",
     "metadata": {},
     "outputs": [],
     "prompt_number": 133
    },
    {
     "cell_type": "code",
     "collapsed": false,
     "input": [
      "def rotavg(im):\n",
      "    '''im can be square 2d numpy array'''\n",
      "    imShape = shape(im) # NNM\n",
      "    N       = imShape[0]\n",
      "    X, Y    = np.meshgrid(range(-N//2,N//2),range(-N//2,N//2))\n",
      "\n",
      "    theta, rho = cart2pol(X,Y);\n",
      "    rho = rho.round()\n",
      "    i   = [find(rho==r) for r in range(N//2+1)]\n",
      "    f   = [mean(im.flat[i[r]]) for r in range(N//2+1)] \n",
      "        \n",
      "    return f"
     ],
     "language": "python",
     "metadata": {},
     "outputs": [],
     "prompt_number": 134
    },
    {
     "cell_type": "code",
     "collapsed": false,
     "input": [
      "def spectrum2d(arr, Fs=1000.0, frequencyFlag=True):\n",
      "    amp = abs(fftshift(fft2(arr)))\n",
      "    amp = rotavg(amp)\n",
      "    n = len(amp)\n",
      "    #amp = amp/n\n",
      "    k = arange(n)\n",
      "    T = n/Fs\n",
      "    frq = k/T # two sides frequency range\n",
      "    #frq = frq[range(n/2)] # one side frequency range\n",
      "    \n",
      "    if frequencyFlag:\n",
      "        return (frq, [a/n**2 for a in amp])\n",
      "    else:\n",
      "        return [a/n**2 for a in amp]"
     ],
     "language": "python",
     "metadata": {},
     "outputs": [],
     "prompt_number": 135
    },
    {
     "cell_type": "markdown",
     "metadata": {},
     "source": [
      "## Load original images"
     ]
    },
    {
     "cell_type": "code",
     "collapsed": false,
     "input": [
      "numImages = 100\n",
      "patchSize = None\n",
      "pixelsToDeg = 92./2\n",
      "averageGanglionSize = 1.5*pixelsToDeg+1 # in pixels"
     ],
     "language": "python",
     "metadata": {},
     "outputs": [],
     "prompt_number": 136
    },
    {
     "cell_type": "code",
     "collapsed": false,
     "input": [
      "patches = load_images(im_path, numImages, patchSize, square=True)"
     ],
     "language": "python",
     "metadata": {},
     "outputs": [
      {
       "output_type": "stream",
       "stream": "stdout",
       "text": [
        "Only 78 files in directory.\n"
       ]
      }
     ],
     "prompt_number": 137
    },
    {
     "cell_type": "markdown",
     "metadata": {},
     "source": [
      "### Compute rotationally averaged amplitude spectrum"
     ]
    },
    {
     "cell_type": "code",
     "collapsed": false,
     "input": [
      "allRot  = [spectrum2d(p,Fs=pixelsToDeg,frequencyFlag=False) for p in patches]\n",
      "specRot = mean(allRot, axis=0) # average out the amplitude spectrum over all images\n",
      "frqRot, tmp = spectrum2d(patches[0],Fs=pixelsToDeg,frequencyFlag=True)\n",
      "error = [sem([allRot[j][i] for j in range(len(patches))]) for i in range(len(frqRot))]\n",
      "originalSpectra = specRot\n",
      "originalErrors = error\n",
      "originalFreqs = frqRot"
     ],
     "language": "python",
     "metadata": {},
     "outputs": []
    },
    {
     "cell_type": "code",
     "collapsed": false,
     "input": [
      "fig,ax = subplots()\n",
      "fig.set_size_inches((10,6))\n",
      "\n",
      "ax.errorbar(originalFreqs, originalSpectra, yerr=originalErrors, fmt='none', ecolor='k', capsize=2, capthick=1, alpha=0.5)\n",
      "ax.plot(originalFreqs, originalSpectra, color='k', alpha=0.99)\n",
      "ax.plot(originalFreqs, [1./f for f in originalFreqs], color='r', linestyle='--', alpha=0.8)\n",
      "\n",
      "ax.set_xscale('log', nonposx='clip')\n",
      "ax.set_yscale('log', nonposy='clip')\n",
      "\n",
      "ax.set_title('Rotationally averaged amplitude spectrum of from 500 natural images', fontsize=14)\n",
      "ax.set_xlabel('Spatial Frequency', fontsize=14)\n",
      "ax.set_ylabel('Amplitude', fontsize=14)\n",
      "\n",
      "ylim([10e-5,1])\n",
      "#savefig('Figures/00 Average power spectrum of original images.png')"
     ],
     "language": "python",
     "metadata": {},
     "outputs": []
    },
    {
     "cell_type": "code",
     "collapsed": false,
     "input": [],
     "language": "python",
     "metadata": {},
     "outputs": []
    },
    {
     "cell_type": "code",
     "collapsed": false,
     "input": [],
     "language": "python",
     "metadata": {},
     "outputs": []
    },
    {
     "cell_type": "code",
     "collapsed": false,
     "input": [],
     "language": "python",
     "metadata": {},
     "outputs": []
    },
    {
     "cell_type": "code",
     "collapsed": false,
     "input": [],
     "language": "python",
     "metadata": {},
     "outputs": []
    },
    {
     "cell_type": "code",
     "collapsed": false,
     "input": [],
     "language": "python",
     "metadata": {},
     "outputs": []
    }
   ],
   "metadata": {}
  }
 ]
}