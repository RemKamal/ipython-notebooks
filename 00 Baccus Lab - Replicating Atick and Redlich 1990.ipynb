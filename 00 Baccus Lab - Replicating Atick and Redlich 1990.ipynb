{
 "metadata": {
  "name": "",
  "signature": "sha256:9b2676f82be8a248e96fa53a340dfcb7c7d37069becc8bb8a6554671c50ed04d"
 },
 "nbformat": 3,
 "nbformat_minor": 0,
 "worksheets": [
  {
   "cells": [
    {
     "cell_type": "code",
     "collapsed": false,
     "input": [
      "import numpy as np\n",
      "from scipy.optimize import minimize"
     ],
     "language": "python",
     "metadata": {},
     "outputs": [],
     "prompt_number": 157
    },
    {
     "cell_type": "code",
     "collapsed": false,
     "input": [
      "def f(lam,R,R_0,N):\n",
      "    F = 0.5*(R_0/R)*(1. + np.sqrt(1. + (2.*lam*(N**2))/R_0)) - 1.\n",
      "    return F/(N**2)"
     ],
     "language": "python",
     "metadata": {},
     "outputs": [],
     "prompt_number": 2
    },
    {
     "cell_type": "code",
     "collapsed": false,
     "input": [
      "def r(x,N,S,D):\n",
      "    return N**2 + S**2 * np.exp(-np.abs(x)/D) # previously I multiplied N^2 by * randn(size(x)), which doens't make sense b/c it's a correlation"
     ],
     "language": "python",
     "metadata": {},
     "outputs": [],
     "prompt_number": 203
    },
    {
     "cell_type": "code",
     "collapsed": false,
     "input": [
      "def r_0(x,S,D):\n",
      "    return S**2 * np.exp(-np.abs(x)/D)"
     ],
     "language": "python",
     "metadata": {},
     "outputs": [],
     "prompt_number": 204
    },
    {
     "cell_type": "code",
     "collapsed": false,
     "input": [
      "length = 20\n",
      "N = 1.\n",
      "S = 10.\n",
      "D = 50.\n",
      "N_out = 0.025\n",
      "\n",
      "start = -5\n",
      "stop = 5"
     ],
     "language": "python",
     "metadata": {},
     "outputs": [],
     "prompt_number": 328
    },
    {
     "cell_type": "code",
     "collapsed": false,
     "input": [
      "R = r(np.linspace(start,stop,length),N,S,D)"
     ],
     "language": "python",
     "metadata": {},
     "outputs": [],
     "prompt_number": 329
    },
    {
     "cell_type": "code",
     "collapsed": false,
     "input": [
      "R_0 = r_0(np.linspace(start,stop,length),S,D)"
     ],
     "language": "python",
     "metadata": {},
     "outputs": [],
     "prompt_number": 330
    },
    {
     "cell_type": "code",
     "collapsed": false,
     "input": [
      "R"
     ],
     "language": "python",
     "metadata": {},
     "outputs": [
      {
       "metadata": {},
       "output_type": "pyout",
       "prompt_number": 331,
       "text": [
        "array([  91.4837418 ,   92.44123283,   93.40885594,   94.38671835,\n",
        "         95.37492842,   96.37359565,   97.38283068,   98.40274534,\n",
        "         99.43345266,  100.47506683,  100.47506683,   99.43345266,\n",
        "         98.40274534,   97.38283068,   96.37359565,   95.37492842,\n",
        "         94.38671835,   93.40885594,   92.44123283,   91.4837418 ])"
       ]
      }
     ],
     "prompt_number": 331
    },
    {
     "cell_type": "code",
     "collapsed": false,
     "input": [
      "plot(np.abs(np.real(np.fft.fft(R))))"
     ],
     "language": "python",
     "metadata": {},
     "outputs": [
      {
       "metadata": {},
       "output_type": "pyout",
       "prompt_number": 332,
       "text": [
        "[<matplotlib.lines.Line2D at 0xcba4390>]"
       ]
      },
      {
       "metadata": {},
       "output_type": "display_data",
       "png": "[encoded data removed]",
       "text": [
        "<matplotlib.figure.Figure at 0xca6e150>"
       ]
      }
     ],
     "prompt_number": 332
    },
    {
     "cell_type": "code",
     "collapsed": false,
     "input": [
      "plot(np.abs(np.real(np.fft.fft(R_0))))"
     ],
     "language": "python",
     "metadata": {},
     "outputs": [
      {
       "metadata": {},
       "output_type": "pyout",
       "prompt_number": 333,
       "text": [
        "[<matplotlib.lines.Line2D at 0xcecb550>]"
       ]
      },
      {
       "metadata": {},
       "output_type": "display_data",
       "png": "[encoded data removed]",
       "text": [
        "<matplotlib.figure.Figure at 0xca93bd0>"
       ]
      }
     ],
     "prompt_number": 333
    },
    {
     "cell_type": "code",
     "collapsed": false,
     "input": [
      "sum1 = 0.\n",
      "for idx in xrange(len(R)):\n",
      "    sum1 = sum1 + np.log2((R[idx]/N**2)*((N**2 + N_out**2)/(R[idx] + N_out**2)))"
     ],
     "language": "python",
     "metadata": {},
     "outputs": [],
     "prompt_number": 334
    },
    {
     "cell_type": "code",
     "collapsed": false,
     "input": [
      "def errorLambda(lam,sum1,R,R_0,N):\n",
      "    sum2 = 0.\n",
      "    for idx in xrange(len(R)):\n",
      "        sum2 = sum2 + np.log2(np.sqrt(R_0[idx]/(2*lam*(N**2))) + np.sqrt(1 + R_0[idx]/(2*lam*(N**2))))\n",
      "        \n",
      "    return np.log(abs(sum2*100. - sum1*100.))"
     ],
     "language": "python",
     "metadata": {},
     "outputs": [],
     "prompt_number": 335
    },
    {
     "cell_type": "code",
     "collapsed": false,
     "input": [
      "def findLambda(sum1,R,R_0,N):\n",
      "    coeff = 9300000.\n",
      "    res   = minimize(errorLambda, x0=coeff, args=(sum1,R,R_0,N))\n",
      "    return res.x"
     ],
     "language": "python",
     "metadata": {},
     "outputs": [],
     "prompt_number": 336
    },
    {
     "cell_type": "code",
     "collapsed": false,
     "input": [
      "#lam = 9300000.\n",
      "lam = findLambda(sum1,R,R_0,N)\n",
      "#lam = 930000.\n",
      "\n",
      "sum2 = 0.\n",
      "for idx in xrange(len(R)):\n",
      "    sum2 = sum2 + np.log2(np.sqrt(R_0[idx]/(2*lam*(N**2))) + np.sqrt(1 + R_0[idx]/(2*lam*(N**2))))"
     ],
     "language": "python",
     "metadata": {},
     "outputs": [],
     "prompt_number": 337
    },
    {
     "cell_type": "code",
     "collapsed": false,
     "input": [
      "(sum1,sum2)"
     ],
     "language": "python",
     "metadata": {},
     "outputs": [
      {
       "metadata": {},
       "output_type": "pyout",
       "prompt_number": 338,
       "text": [
        "(0.017839872273784602, array([ 0.06517312]))"
       ]
      }
     ],
     "prompt_number": 338
    },
    {
     "cell_type": "code",
     "collapsed": false,
     "input": [
      "errorLambda(lam,sum1,R,R_0,N)"
     ],
     "language": "python",
     "metadata": {},
     "outputs": [
      {
       "metadata": {},
       "output_type": "pyout",
       "prompt_number": 339,
       "text": [
        "array([ 1.55462788])"
       ]
      }
     ],
     "prompt_number": 339
    },
    {
     "cell_type": "code",
     "collapsed": false,
     "input": [
      "F = f(lam,R,R_0,N)"
     ],
     "language": "python",
     "metadata": {},
     "outputs": [],
     "prompt_number": 340
    },
    {
     "cell_type": "code",
     "collapsed": false,
     "input": [
      "plot(F)"
     ],
     "language": "python",
     "metadata": {},
     "outputs": [
      {
       "metadata": {},
       "output_type": "pyout",
       "prompt_number": 341,
       "text": [
        "[<matplotlib.lines.Line2D at 0xcef4b10>]"
       ]
      },
      {
       "metadata": {},
       "output_type": "display_data",
       "png": "[encoded data removed]",
       "text": [
        "<matplotlib.figure.Figure at 0xcba4610>"
       ]
      }
     ],
     "prompt_number": 341
    },
    {
     "cell_type": "code",
     "collapsed": false,
     "input": [
      "A_w = np.sqrt(F*N_out)\n",
      "plot(A_w)"
     ],
     "language": "python",
     "metadata": {},
     "outputs": [
      {
       "metadata": {},
       "output_type": "pyout",
       "prompt_number": 342,
       "text": [
        "[<matplotlib.lines.Line2D at 0xd19e8d0>]"
       ]
      },
      {
       "metadata": {},
       "output_type": "display_data",
       "png": "[encoded data removed]",
       "text": [
        "<matplotlib.figure.Figure at 0xc100c90>"
       ]
      }
     ],
     "prompt_number": 342
    },
    {
     "cell_type": "code",
     "collapsed": false,
     "input": [
      "A_t = np.fft.ifft(A_w)\n",
      "plot(real(A_t))"
     ],
     "language": "python",
     "metadata": {},
     "outputs": [
      {
       "metadata": {},
       "output_type": "pyout",
       "prompt_number": 343,
       "text": [
        "[<matplotlib.lines.Line2D at 0xd2b6090>]"
       ]
      },
      {
       "metadata": {},
       "output_type": "display_data",
       "png": "[encoded data removed]",
       "text": [
        "<matplotlib.figure.Figure at 0xcbb0550>"
       ]
      }
     ],
     "prompt_number": 343
    },
    {
     "cell_type": "code",
     "collapsed": false,
     "input": [
      "A_t"
     ],
     "language": "python",
     "metadata": {},
     "outputs": [
      {
       "metadata": {},
       "output_type": "pyout",
       "prompt_number": 344,
       "text": [
        "array([  2.33765751e+00 +0.00000000e+00j,\n",
        "         1.20325576e-02 -1.90576990e-03j,\n",
        "         3.35749454e-05 -1.09091611e-05j,\n",
        "         1.16268355e-03 -5.92416858e-04j,\n",
        "         6.71478324e-06 -4.87857559e-06j,\n",
        "         3.01852032e-04 -3.01852032e-04j,\n",
        "         1.87099987e-06 -2.57521040e-06j,\n",
        "         7.83657108e-05 -1.53801367e-04j,\n",
        "         3.74199335e-07 -1.15166713e-06j,\n",
        "         7.57215353e-06 -4.78086958e-05j,\n",
        "         1.05032085e-20 -1.15196481e-20j,\n",
        "         7.57215353e-06 +4.78086958e-05j,\n",
        "         3.74199335e-07 +1.15166713e-06j,\n",
        "         7.83657108e-05 +1.53801367e-04j,\n",
        "         1.87099987e-06 +2.57521040e-06j,\n",
        "         3.01852032e-04 +3.01852032e-04j,\n",
        "         6.71478324e-06 +4.87857559e-06j,\n",
        "         1.16268355e-03 +5.92416858e-04j,\n",
        "         3.35749454e-05 +1.09091611e-05j,   1.20325576e-02 +1.90576990e-03j])"
       ]
      }
     ],
     "prompt_number": 344
    },
    {
     "cell_type": "code",
     "collapsed": false,
     "input": [
      "tmp = []\n",
      "for a in A_t:\n",
      "    tmp.append(sign(real(a))*abs(a))"
     ],
     "language": "python",
     "metadata": {},
     "outputs": [],
     "prompt_number": 345
    },
    {
     "cell_type": "code",
     "collapsed": false,
     "input": [
      "plot(tmp)"
     ],
     "language": "python",
     "metadata": {},
     "outputs": [
      {
       "metadata": {},
       "output_type": "pyout",
       "prompt_number": 346,
       "text": [
        "[<matplotlib.lines.Line2D at 0xd2ded50>]"
       ]
      },
      {
       "metadata": {},
       "output_type": "display_data",
       "png": "[encoded data removed]",
       "text": [
        "<matplotlib.figure.Figure at 0xd2c3a10>"
       ]
      }
     ],
     "prompt_number": 346
    },
    {
     "cell_type": "code",
     "collapsed": false,
     "input": [],
     "language": "python",
     "metadata": {},
     "outputs": []
    }
   ],
   "metadata": {}
  }
 ]
}