{
 "cells": [
  {
   "cell_type": "code",
   "execution_count": null,
   "metadata": {
    "collapsed": false
   },
   "outputs": [],
   "source": [
    "import numpy as np\n",
    "from scipy.stats import sem\n",
    "from os.path import expanduser\n",
    "import scipy.io\n",
    "import os.path\n",
    "import pyret\n",
    "\n",
    "# import my functions\n",
    "#import info_theory_functions as info\n",
    "#from lnl_model_functions import *\n",
    "#from atick_redlich_functions import *\n",
    "#from get_davids_data import *\n",
    "#from image_processing_functions import *\n",
    "\n",
    "\n",
    "# This is a bit of magic to make matplotlib figures appear inline in the\n",
    "# notebook rather than in a new window.\n",
    "%matplotlib inline\n",
    "from matplotlib.pyplot import *\n",
    "\n",
    "import mpld3\n",
    "\n",
    "from pylab import rcParams\n",
    "rcParams['figure.figsize'] = (10.0, 8.0) # set default size of plots\n",
    "rcParams['image.interpolation'] = 'nearest'\n",
    "rcParams['image.cmap'] = 'gray'\n",
    "\n",
    "# Some more magic so that the notebook will reload external python modules;\n",
    "# see http://stackoverflow.com/questions/1907993/autoreload-of-modules-in-ipython\n",
    "%load_ext autoreload\n",
    "%autoreload 2"
   ]
  },
  {
   "cell_type": "markdown",
   "metadata": {},
   "source": [
    "# Load stim and spikes"
   ]
  },
  {
   "cell_type": "code",
   "execution_count": 48,
   "metadata": {
    "collapsed": false
   },
   "outputs": [],
   "source": [
    "stim_dir = expanduser('~/Documents/Stanford/00 Baccus Lab/Surround size project/high contrast - low contrast/2009_0818/stimulus')\n",
    "spikes_dir = expanduser('~/Documents/Stanford/00 Baccus Lab/Surround size project/high contrast - low contrast/2009_0818/spikes')\n",
    "\n",
    "stim = scipy.io.loadmat(stim_dir + '/stim.mat', squeeze_me=True)\n",
    "spikes = []\n",
    "for i in xrange(25):\n",
    "    filename = 'c%s_0.txt' %(str(i))\n",
    "    full_path = spikes_dir + '/' + filename\n",
    "    if os.path.isfile(full_path):\n",
    "        this_cell = np.loadtxt(full_path, skiprows=1)\n",
    "        spikes.append(this_cell)"
   ]
  },
  {
   "cell_type": "markdown",
   "metadata": {},
   "source": [
    "# Create time vector for stimulus"
   ]
  },
  {
   "cell_type": "code",
   "execution_count": 49,
   "metadata": {
    "collapsed": false
   },
   "outputs": [
    {
     "data": {
      "text/plain": [
       "(96, 450, 53)"
      ]
     },
     "execution_count": 49,
     "metadata": {},
     "output_type": "execute_result"
    }
   ],
   "source": [
    "stim['A1'].shape"
   ]
  },
  {
   "cell_type": "code",
   "execution_count": 50,
   "metadata": {
    "collapsed": false
   },
   "outputs": [
    {
     "data": {
      "text/plain": [
       "(96, 450)"
      ]
     },
     "execution_count": 50,
     "metadata": {},
     "output_type": "execute_result"
    }
   ],
   "source": [
    "stim['T1'].shape"
   ]
  },
  {
   "cell_type": "code",
   "execution_count": 84,
   "metadata": {
    "collapsed": false
   },
   "outputs": [],
   "source": [
    "frame_rate = 0.033346 # from Igor Pro, \"print FT\" in *_types.pxp\n",
    "stim_time = linspace(0, \n",
    "                     frame_rate*stim['T1'].shape[1] + frame_rate*np.prod(stim['A1'].shape[1:]) + frame_rate*np.prod(stim['P1'].shape[1:]), \n",
    "                     stim['T1'].shape[1] + np.prod(stim['A1'].shape[1:]) + np.prod(stim['P1'].shape[1:]))"
   ]
  },
  {
   "cell_type": "code",
   "execution_count": 85,
   "metadata": {
    "collapsed": false
   },
   "outputs": [
    {
     "data": {
      "text/plain": [
       "1605.6098999999999"
      ]
     },
     "execution_count": 85,
     "metadata": {},
     "output_type": "execute_result"
    }
   ],
   "source": [
    "np.max(stim_time)"
   ]
  },
  {
   "cell_type": "code",
   "execution_count": 53,
   "metadata": {
    "collapsed": true
   },
   "outputs": [],
   "source": [
    "num_trials = stim['A1'].shape[2]\n",
    "duration_per_trial = stim['A1'].shape[1] * frame_rate"
   ]
  },
  {
   "cell_type": "code",
   "execution_count": 54,
   "metadata": {
    "collapsed": false
   },
   "outputs": [
    {
     "data": {
      "text/plain": [
       "15.005700000000001"
      ]
     },
     "execution_count": 54,
     "metadata": {},
     "output_type": "execute_result"
    }
   ],
   "source": [
    "duration_per_trial"
   ]
  },
  {
   "cell_type": "markdown",
   "metadata": {},
   "source": [
    "# Create stimulus"
   ]
  },
  {
   "cell_type": "code",
   "execution_count": 93,
   "metadata": {
    "collapsed": false
   },
   "outputs": [],
   "source": [
    "stimulus = np.zeros((stim['A1'].shape[0], len(stim_time)))"
   ]
  },
  {
   "cell_type": "code",
   "execution_count": 109,
   "metadata": {
    "collapsed": false
   },
   "outputs": [],
   "source": [
    "frames_per_trial = stim['A1'].shape[1]\n",
    "for t in xrange(1+2*num_trials):\n",
    "    if t == 0:\n",
    "        # first high_contrast\n",
    "        stimulus[:,:frames_per_trial] = stim['T1']\n",
    "    elif t % 2 == 0:\n",
    "        # high contrast\n",
    "        stimulus[:,t*frames_per_trial:(t+1)*frames_per_trial] = stim['A1'][:,:,int(floor(t/2. - 1))]\n",
    "    elif t % 2 == 1:\n",
    "        # low contrast\n",
    "        stimulus[:,t*frames_per_trial:(t+1)*frames_per_trial] = stim['P1'][:,:,int(floor(t/2.))]"
   ]
  },
  {
   "cell_type": "markdown",
   "metadata": {},
   "source": [
    "# Separate high and low contrast spikes"
   ]
  },
  {
   "cell_type": "code",
   "execution_count": 169,
   "metadata": {
    "collapsed": false
   },
   "outputs": [],
   "source": [
    "cell = 10\n",
    "low_contrast  = []\n",
    "high_contrast = []\n",
    "for t in xrange(1+2*num_trials):\n",
    "    time_interval = [t*duration_per_trial, (t+1)*duration_per_trial]\n",
    "    # sequence is high, low, high, low, ...\n",
    "    if t % 2 == 0:\n",
    "        high_contrast.append(spikes[cell][(spikes[cell] > time_interval[0]) & (spikes[cell] <= time_interval[1])])\n",
    "    else:\n",
    "        low_contrast.append(spikes[cell][(spikes[cell] > time_interval[0]) & (spikes[cell] <= time_interval[1])])"
   ]
  },
  {
   "cell_type": "code",
   "execution_count": 170,
   "metadata": {
    "collapsed": true
   },
   "outputs": [],
   "source": [
    "def get_sta(stimulus, stim_time, spikes):\n",
    "    # make STA 400 ms long\n",
    "    sta_length = int(floor(.4/frame_rate))\n",
    "    sta = np.zeros((stimulus.shape[0], sta_length))\n",
    "    for sp in spikes:\n",
    "        ind = np.argmin(abs(sp - stim_time[stim_time < sp]))\n",
    "        sta += stimulus[:,ind-sta_length:ind]\n",
    "    return sta/len(spikes)"
   ]
  },
  {
   "cell_type": "code",
   "execution_count": 171,
   "metadata": {
    "collapsed": false
   },
   "outputs": [],
   "source": [
    "sta_low  = get_sta(stimulus, stim_time, [item for sublist in low_contrast for item in sublist])\n",
    "sta_high = get_sta(stimulus, stim_time, [item for sublist in high_contrast for item in sublist])"
   ]
  },
  {
   "cell_type": "code",
   "execution_count": 172,
   "metadata": {
    "collapsed": false
   },
   "outputs": [
    {
     "data": {
      "text/plain": [
       "<matplotlib.image.AxesImage at 0x111305190>"
      ]
     },
     "execution_count": 172,
     "metadata": {},
     "output_type": "execute_result"
    },
    {
     "data": {
      "image/png": "[encoded data removed]",
      "text/plain": [
       "<matplotlib.figure.Figure at 0x1113f9790>"
      ]
     },
     "metadata": {},
     "output_type": "display_data"
    }
   ],
   "source": [
    "imshow(sta_high)"
   ]
  },
  {
   "cell_type": "code",
   "execution_count": null,
   "metadata": {
    "collapsed": true
   },
   "outputs": [],
   "source": []
  },
  {
   "cell_type": "code",
   "execution_count": null,
   "metadata": {
    "collapsed": true
   },
   "outputs": [],
   "source": []
  },
  {
   "cell_type": "code",
   "execution_count": null,
   "metadata": {
    "collapsed": true
   },
   "outputs": [],
   "source": []
  },
  {
   "cell_type": "code",
   "execution_count": null,
   "metadata": {
    "collapsed": true
   },
   "outputs": [],
   "source": []
  },
  {
   "cell_type": "code",
   "execution_count": null,
   "metadata": {
    "collapsed": true
   },
   "outputs": [],
   "source": []
  }
 ],
 "metadata": {
  "kernelspec": {
   "display_name": "Python 2",
   "language": "python",
   "name": "python2"
  },
  "language_info": {
   "codemirror_mode": {
    "name": "ipython",
    "version": 2
   },
   "file_extension": ".py",
   "mimetype": "text/x-python",
   "name": "python",
   "nbconvert_exporter": "python",
   "pygments_lexer": "ipython2",
   "version": "2.7.3"
  }
 },
 "nbformat": 4,
 "nbformat_minor": 0
}
