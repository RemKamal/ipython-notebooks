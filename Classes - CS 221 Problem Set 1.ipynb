{
 "metadata": {
  "name": "",
  "signature": "sha256:b87df2f72e6c085ef75f100ac21f5dfbada33e45d99fa6074988aad30e10cb5c"
 },
 "nbformat": 3,
 "nbformat_minor": 0,
 "worksheets": [
  {
   "cells": [
    {
     "cell_type": "code",
     "collapsed": false,
     "input": [
      "import collections\n",
      "import numpy as np"
     ],
     "language": "python",
     "metadata": {},
     "outputs": [],
     "prompt_number": 1
    },
    {
     "cell_type": "code",
     "collapsed": false,
     "input": [
      "def computeMaxWordLength(text):\n",
      "    \"\"\"\n",
      "    Given a string |text|, return the longest word in |text|.  If there are\n",
      "    ties, choose the word that comes latest in the alphabet. There won't be \n",
      "    puctuations and there will only be splits on spaces. You might find\n",
      "    max() and list comprehensions handy here.\n",
      "    \"\"\"\n",
      "    # BEGIN_YOUR_CODE (around 1 line of code expected)\n",
      "    return max(sorted(text.split(), key=str, reverse=True), key=len)\n",
      "    # END_YOUR_CODE\n"
     ],
     "language": "python",
     "metadata": {},
     "outputs": [],
     "prompt_number": 189
    },
    {
     "cell_type": "code",
     "collapsed": false,
     "input": [
      "computeMaxWordLength('AA aa ZZ')"
     ],
     "language": "python",
     "metadata": {},
     "outputs": [
      {
       "metadata": {},
       "output_type": "pyout",
       "prompt_number": 209,
       "text": [
        "'aa'"
       ]
      }
     ],
     "prompt_number": 209
    },
    {
     "cell_type": "code",
     "collapsed": false,
     "input": [
      "computeMaxWordLength('You you You')"
     ],
     "language": "python",
     "metadata": {},
     "outputs": [
      {
       "metadata": {},
       "output_type": "pyout",
       "prompt_number": 193,
       "text": [
        "'you'"
       ]
      }
     ],
     "prompt_number": 193
    },
    {
     "cell_type": "code",
     "collapsed": false,
     "input": [
      "text = 'ZZZZZZZ I was sorting through A Huge Piece of dirty LAUNDRY when I bumped into MY FIST!!'\n",
      "max(sorted(text.split(), reverse=True),key=len)"
     ],
     "language": "python",
     "metadata": {},
     "outputs": [
      {
       "metadata": {},
       "output_type": "pyout",
       "prompt_number": 52,
       "text": [
        "'through'"
       ]
      }
     ],
     "prompt_number": 52
    },
    {
     "cell_type": "code",
     "collapsed": false,
     "input": [
      "text"
     ],
     "language": "python",
     "metadata": {},
     "outputs": [
      {
       "metadata": {},
       "output_type": "pyout",
       "prompt_number": 27,
       "text": [
        "'aaaa yoda left me for you'"
       ]
      }
     ],
     "prompt_number": 27
    },
    {
     "cell_type": "code",
     "collapsed": false,
     "input": [
      "set(text)"
     ],
     "language": "python",
     "metadata": {},
     "outputs": [
      {
       "metadata": {},
       "output_type": "pyout",
       "prompt_number": 28,
       "text": [
        "{' ', 'a', 'd', 'e', 'f', 'l', 'm', 'o', 'r', 't', 'u', 'y'}"
       ]
      }
     ],
     "prompt_number": 28
    },
    {
     "cell_type": "code",
     "collapsed": false,
     "input": [
      "set(text.split())"
     ],
     "language": "python",
     "metadata": {},
     "outputs": [
      {
       "metadata": {},
       "output_type": "pyout",
       "prompt_number": 31,
       "text": [
        "{'aaaa', 'for', 'left', 'me', 'yoda', 'you'}"
       ]
      }
     ],
     "prompt_number": 31
    },
    {
     "cell_type": "code",
     "collapsed": false,
     "input": [
      "def createExistsFunction(text):\n",
      "    \"\"\"\n",
      "    Given a text, return a function f, where f(word) returns whether |word|\n",
      "    occurs in |text| or not.  f should run in O(1) time.  You might find it\n",
      "    useful to use set().\n",
      "    \"\"\"\n",
      "    # BEGIN_YOUR_CODE (around 4 lines of code expected)\n",
      "    def f(word):\n",
      "        if word in set(text.split()):\n",
      "            return True\n",
      "        else:\n",
      "            return False\n",
      "    return f\n",
      "    # END_YOUR_CODE"
     ],
     "language": "python",
     "metadata": {},
     "outputs": [],
     "prompt_number": 35
    },
    {
     "cell_type": "code",
     "collapsed": false,
     "input": [
      "func = createExistsFunction(text)"
     ],
     "language": "python",
     "metadata": {},
     "outputs": [],
     "prompt_number": 36
    },
    {
     "cell_type": "code",
     "collapsed": false,
     "input": [
      "def manhattanDistance(loc1, loc2):\n",
      "    \"\"\"\n",
      "    Return the Manhattan distance between two locations, where locations are\n",
      "    pairs (e.g., (3, 5)).\n",
      "    \"\"\"\n",
      "    # BEGIN_YOUR_CODE (around 1 line of code expected)\n",
      "    return abs(loc1[0] - loc2[0]) + abs(loc1[1] - loc2[1])\n",
      "    # END_YOUR_CODE\n"
     ],
     "language": "python",
     "metadata": {},
     "outputs": [],
     "prompt_number": 53
    },
    {
     "cell_type": "code",
     "collapsed": false,
     "input": [
      "def sparseVectorDotProduct(v1, v2):\n",
      "    \"\"\"\n",
      "    Given two sparse vectors |v1| and |v2|, each represented as Counters, return\n",
      "    their dot product.\n",
      "    You might find it useful to use sum() and a list comprehension.\n",
      "    \"\"\"\n",
      "    # BEGIN_YOUR_CODE (around 4 lines of code expected)\n",
      "    nonZeroKeys = v1.keys()\n",
      "    return sum([v1[k]*v2[k] for k in nonZeroKeys])\n",
      "    # END_YOUR_CODE"
     ],
     "language": "python",
     "metadata": {},
     "outputs": [],
     "prompt_number": 105
    },
    {
     "cell_type": "code",
     "collapsed": false,
     "input": [
      "v1 = collections.Counter({'a': 5, 'c' : 9})\n",
      "v2 = collections.Counter({'b': 2, 'a': 3, 'c' : 1})"
     ],
     "language": "python",
     "metadata": {},
     "outputs": [],
     "prompt_number": 110
    },
    {
     "cell_type": "code",
     "collapsed": false,
     "input": [
      "sparseVectorDotProduct(v1,v2)"
     ],
     "language": "python",
     "metadata": {},
     "outputs": [
      {
       "metadata": {},
       "output_type": "pyout",
       "prompt_number": 111,
       "text": [
        "24"
       ]
      }
     ],
     "prompt_number": 111
    },
    {
     "cell_type": "code",
     "collapsed": false,
     "input": [
      "def incrementSparseVector(v1, scale, v2):\n",
      "    \"\"\"\n",
      "    Given two sparse vectors |v1| and |v2|, perform v1 += scale * v2.\n",
      "    \"\"\"\n",
      "    # BEGIN_YOUR_CODE (around 2 lines of code expected)\n",
      "    for k in v2.keys():\n",
      "        v1[k] = v1[k] + scale*v2[k]\n",
      "    # END_YOUR_CODE"
     ],
     "language": "python",
     "metadata": {},
     "outputs": [],
     "prompt_number": 115
    },
    {
     "cell_type": "code",
     "collapsed": false,
     "input": [
      "incrementSparseVector(v1, 5, v2)"
     ],
     "language": "python",
     "metadata": {},
     "outputs": [],
     "prompt_number": 116
    },
    {
     "cell_type": "code",
     "collapsed": false,
     "input": [
      "v1"
     ],
     "language": "python",
     "metadata": {},
     "outputs": [
      {
       "metadata": {},
       "output_type": "pyout",
       "prompt_number": 117,
       "text": [
        "Counter({'a': 20, 'c': 14, 'b': 10})"
       ]
      }
     ],
     "prompt_number": 117
    },
    {
     "cell_type": "code",
     "collapsed": false,
     "input": [
      "def computeMostFrequentWord(text):\n",
      "    \"\"\"\n",
      "    Splits the string |text| by whitespace and returns two things as a pair: \n",
      "        the set of words that occur the maximum number of times, and\n",
      "\ttheir count, i.e.\n",
      "\t(set of words that occur the most number of times, that maximum number/count)\n",
      "    You might find it useful to use collections.Counter().\n",
      "    \"\"\"\n",
      "    # BEGIN_YOUR_CODE (around 5 lines of code expected)\n",
      "    c = collections.Counter(text.split())\n",
      "    mode   = max(c.values())\n",
      "    numMax = len([1 for v in c.values() if v == mode])\n",
      "    pairs  = c.most_common(numMax)\n",
      "    return (set([p[0] for p in pairs]), pairs[0][1])\n",
      "    # END_YOUR_CODE"
     ],
     "language": "python",
     "metadata": {},
     "outputs": [],
     "prompt_number": 142
    },
    {
     "cell_type": "code",
     "collapsed": false,
     "input": [
      "(set(['the', 'fox']), 2)"
     ],
     "language": "python",
     "metadata": {},
     "outputs": [
      {
       "metadata": {},
       "output_type": "pyout",
       "prompt_number": 120,
       "text": [
        "({'fox', 'the'}, 2)"
       ]
      }
     ],
     "prompt_number": 120
    },
    {
     "cell_type": "code",
     "collapsed": false,
     "input": [
      "text = 'the quick brown fox jumps over the lazy fox'"
     ],
     "language": "python",
     "metadata": {},
     "outputs": [],
     "prompt_number": 122
    },
    {
     "cell_type": "code",
     "collapsed": false,
     "input": [
      "computeMostFrequentWord('the quick brown fox jumps over the lazy fox')"
     ],
     "language": "python",
     "metadata": {},
     "outputs": [
      {
       "metadata": {},
       "output_type": "pyout",
       "prompt_number": 143,
       "text": [
        "({'fox', 'the'}, 2)"
       ]
      }
     ],
     "prompt_number": 143
    },
    {
     "cell_type": "code",
     "collapsed": false,
     "input": [
      "def isCollection(x):\n",
      "    return isinstance(x, list) or isinstance(x, tuple)\n",
      "\n",
      "def isEqual(trueAnswer, predAnswer, tolerance = 1e-4):\n",
      "    # Handle floats specially\n",
      "    if isinstance(trueAnswer, float) or isinstance(predAnswer, float):\n",
      "        return abs(trueAnswer - predAnswer) < tolerance\n",
      "    # Recurse on collections to deal with floats inside them\n",
      "    if isCollection(trueAnswer) and isCollection(predAnswer) and len(trueAnswer) == len(predAnswer):\n",
      "        for a, b in zip(trueAnswer, predAnswer):\n",
      "            if not isEqual(a, b): return False\n",
      "        return True\n",
      "    if isinstance(trueAnswer, dict) and isinstance(predAnswer, dict):\n",
      "        if len(trueAnswer) != len(predAnswer): return False\n",
      "        for k, v in trueAnswer.items():\n",
      "            if not isEqual(predAnswer.get(k), v): return False\n",
      "        return True\n",
      "\n",
      "    # Numpy array comparison\n",
      "    if type(trueAnswer).__name__=='ndarray':\n",
      "        import numpy as np\n",
      "        if isinstance(trueAnswer, np.ndarray) and isinstance(predAnswer, np.ndarray):\n",
      "            if trueAnswer.shape != predAnswer.shape:\n",
      "                return False\n",
      "            for a, b in zip(trueAnswer, predAnswer):\n",
      "                if not isEqual(a, b): return False\n",
      "            return True\n",
      "\n",
      "    # Do normal comparison\n",
      "    return trueAnswer == predAnswer\n"
     ],
     "language": "python",
     "metadata": {},
     "outputs": [],
     "prompt_number": 150
    },
    {
     "cell_type": "code",
     "collapsed": false,
     "input": [
      "isEqual((set(['the', 'fox']), 2), computeMostFrequentWord('the quick brown fox jumps over the lazy fox'))"
     ],
     "language": "python",
     "metadata": {},
     "outputs": [
      {
       "metadata": {},
       "output_type": "pyout",
       "prompt_number": 151,
       "text": [
        "True"
       ]
      }
     ],
     "prompt_number": 151
    },
    {
     "cell_type": "code",
     "collapsed": false,
     "input": [
      "text = 'ana'"
     ],
     "language": "python",
     "metadata": {},
     "outputs": [],
     "prompt_number": 157
    },
    {
     "cell_type": "code",
     "collapsed": false,
     "input": [
      "text[::-1] == text"
     ],
     "language": "python",
     "metadata": {},
     "outputs": [
      {
       "metadata": {},
       "output_type": "pyout",
       "prompt_number": 158,
       "text": [
        "True"
       ]
      }
     ],
     "prompt_number": 158
    },
    {
     "cell_type": "code",
     "collapsed": false,
     "input": [
      "string = 'howdy'\n",
      "for idl,l in enumerate(string):\n",
      "    print string[0:idl] + string[idl+1:]"
     ],
     "language": "python",
     "metadata": {},
     "outputs": [
      {
       "output_type": "stream",
       "stream": "stdout",
       "text": [
        "owdy\n",
        "hwdy\n",
        "hody\n",
        "howy\n",
        "howd\n"
       ]
      }
     ],
     "prompt_number": 161
    },
    {
     "cell_type": "code",
     "collapsed": false,
     "input": [
      "def computeLongestPalindrome(text):\n",
      "    \"\"\"\n",
      "    A palindrome is a string that is equal to its reverse (e.g., 'ana').\n",
      "    Compute the length of the longest palindrome that can be obtained by deleting\n",
      "    letters from |text|.\n",
      "    For example: the longest palindrome in 'animal' is 'ama'.\n",
      "    Your algorithm should run in O(len(text)^2) time.\n",
      "    You should first define a recurrence before you start coding.\n",
      "    \"\"\"\n",
      "    # BEGIN_YOUR_CODE (around 19 lines of code expected)\n",
      "    cache = {}\n",
      "    def recurse(string):\n",
      "        if string in cache:\n",
      "            return cache[string]\n",
      "        elif string == '':\n",
      "            return 0\n",
      "        elif string[::-1] == string:\n",
      "            return len(string)\n",
      "        else:\n",
      "            substringLength = []\n",
      "            for idl,l in enumerate(string):\n",
      "                substringLength.append(recurse(string[0:idl] + string[idl+1:]))\n",
      "            ans = max(substringLength)\n",
      "        \n",
      "        cache[string] = ans\n",
      "        return ans\n",
      "\n",
      "    return recurse(text)\n",
      "    # END_YOUR_CODE"
     ],
     "language": "python",
     "metadata": {},
     "outputs": [],
     "prompt_number": 172
    },
    {
     "cell_type": "code",
     "collapsed": false,
     "input": [
      "computeLongestPalindrome('L')"
     ],
     "language": "python",
     "metadata": {},
     "outputs": [
      {
       "metadata": {},
       "output_type": "pyout",
       "prompt_number": 178,
       "text": [
        "1"
       ]
      }
     ],
     "prompt_number": 178
    },
    {
     "cell_type": "code",
     "collapsed": false,
     "input": [
      "def computeLongestPalindromeText(text):\n",
      "    \"\"\"\n",
      "    A palindrome is a string that is equal to its reverse (e.g., 'ana').\n",
      "    Compute the length of the longest palindrome that can be obtained by deleting\n",
      "    letters from |text|.\n",
      "    For example: the longest palindrome in 'animal' is 'ama'.\n",
      "    Your algorithm should run in O(len(text)^2) time.\n",
      "    You should first define a recurrence before you start coding.\n",
      "    \"\"\"\n",
      "    # BEGIN_YOUR_CODE (around 19 lines of code expected)\n",
      "    cache = {}\n",
      "    def recurse(string):\n",
      "        if string in cache:\n",
      "            return cache[string]\n",
      "        elif string == '':\n",
      "            return ''\n",
      "        elif string[::-1] == string:\n",
      "            return string\n",
      "        else:\n",
      "            substringLength = []\n",
      "            for idl,l in enumerate(string):\n",
      "                substringLength.append(recurse(string[0:idl] + string[idl+1:]))\n",
      "            ans = sorted(substringLength, key=len, reverse=True)\n",
      "        \n",
      "        cache[string] = ans[0]\n",
      "        return ans[0]\n",
      "\n",
      "    return recurse(text)\n",
      "    # END_YOUR_CODE"
     ],
     "language": "python",
     "metadata": {},
     "outputs": [],
     "prompt_number": 211
    },
    {
     "cell_type": "code",
     "collapsed": false,
     "input": [
      "computeLongestPalindromeText('Lane')"
     ],
     "language": "python",
     "metadata": {},
     "outputs": [
      {
       "metadata": {},
       "output_type": "pyout",
       "prompt_number": 175,
       "text": [
        "'e'"
       ]
      }
     ],
     "prompt_number": 175
    },
    {
     "cell_type": "code",
     "collapsed": false,
     "input": [
      "computeMaxWordLength('alexander Completed')"
     ],
     "language": "python",
     "metadata": {},
     "outputs": [
      {
       "metadata": {},
       "output_type": "pyout",
       "prompt_number": 188,
       "text": [
        "'alexander'"
       ]
      }
     ],
     "prompt_number": 188
    },
    {
     "cell_type": "code",
     "collapsed": false,
     "input": [
      "import sys\n",
      "print sys.version"
     ],
     "language": "python",
     "metadata": {},
     "outputs": [
      {
       "output_type": "stream",
       "stream": "stdout",
       "text": [
        "2.7.3 (default, Feb 27 2014, 19:58:35) \n",
        "[GCC 4.6.3]\n"
       ]
      }
     ],
     "prompt_number": 210
    },
    {
     "cell_type": "code",
     "collapsed": false,
     "input": [
      "x = computeLongestPalindrome('puypldfojahnhzlzikdcsvgqvemojn')"
     ],
     "language": "python",
     "metadata": {},
     "outputs": [],
     "prompt_number": 214
    },
    {
     "cell_type": "code",
     "collapsed": false,
     "input": [
      "x"
     ],
     "language": "python",
     "metadata": {},
     "outputs": [
      {
       "metadata": {},
       "output_type": "pyout",
       "prompt_number": 215,
       "text": [
        "3"
       ]
      }
     ],
     "prompt_number": 215
    },
    {
     "cell_type": "code",
     "collapsed": false,
     "input": [
      "def computeLongestPalindrome(text):\n",
      "    \"\"\"\n",
      "    A palindrome is a string that is equal to its reverse (e.g., 'ana').\n",
      "    Compute the length of the longest palindrome that can be obtained by deleting\n",
      "    letters from |text|.\n",
      "    For example: the longest palindrome in 'animal' is 'ama'.\n",
      "    Your algorithm should run in O(len(text)^2) time.\n",
      "    You should first define a recurrence before you start coding.\n",
      "    \"\"\"\n",
      "    # BEGIN_YOUR_CODE (around 19 lines of code expected)\n",
      "    cache = {}\n",
      "    def recurse(i,j):\n",
      "        if j-i <= 0:\n",
      "            ans = j-i+1\n",
      "        elif (i,j) in cache:\n",
      "            ans = cache[(i,j)]\n",
      "        elif text[i] == text[j]:\n",
      "            ans = recurse(i+1,j-1) + 2\n",
      "        else:\n",
      "            ans = max(recurse(i+1,j),recurse(i,j-1))\n",
      "        cache[(i,j)] = ans\n",
      "        return ans\n",
      "\n",
      "    return recurse(0,len(text)-1)\n",
      "    # END_YOUR_CODE"
     ],
     "language": "python",
     "metadata": {},
     "outputs": [],
     "prompt_number": 216
    },
    {
     "cell_type": "code",
     "collapsed": false,
     "input": [
      "computeLongestPalindrome('ajktcnyoyzreimphdqhjmcivomtaur')"
     ],
     "language": "python",
     "metadata": {},
     "outputs": [
      {
       "metadata": {},
       "output_type": "pyout",
       "prompt_number": 236,
       "text": [
        "13"
       ]
      }
     ],
     "prompt_number": 236
    },
    {
     "cell_type": "code",
     "collapsed": false,
     "input": [
      "len('')"
     ],
     "language": "python",
     "metadata": {},
     "outputs": [
      {
       "metadata": {},
       "output_type": "pyout",
       "prompt_number": 224,
       "text": [
        "0"
       ]
      }
     ],
     "prompt_number": 224
    },
    {
     "cell_type": "code",
     "collapsed": false,
     "input": [],
     "language": "python",
     "metadata": {},
     "outputs": []
    }
   ],
   "metadata": {}
  }
 ]
}