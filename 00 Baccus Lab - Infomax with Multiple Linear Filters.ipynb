{
 "metadata": {
  "name": "",
  "signature": "sha256:579576a2dbd643d7439de7cbdda75326f6b3d692c24a7175e9295b13841781ca"
 },
 "nbformat": 3,
 "nbformat_minor": 0,
 "worksheets": [
  {
   "cells": [
    {
     "cell_type": "code",
     "collapsed": false,
     "input": [
      "import numpy as np\n",
      "from scipy.interpolate import interp1d\n",
      "from scipy.signal import fftconvolve\n",
      "#from numpy import fft\n",
      "from scipy import fft, arange\n",
      "from scipy.stats import sem\n",
      "from random import randint\n",
      "from cmath import polar\n",
      "from numpy.fft import fft2\n",
      "from numpy.fft import fftshift\n",
      "\n",
      "from lnl_model_functions import *"
     ],
     "language": "python",
     "metadata": {},
     "outputs": [],
     "prompt_number": 1
    },
    {
     "cell_type": "code",
     "collapsed": false,
     "input": [
      "import brewer2mpl"
     ],
     "language": "python",
     "metadata": {},
     "outputs": [],
     "prompt_number": 2
    },
    {
     "cell_type": "code",
     "collapsed": false,
     "input": [
      "from info_theory_functions import *"
     ],
     "language": "python",
     "metadata": {},
     "outputs": [],
     "prompt_number": 3
    },
    {
     "cell_type": "markdown",
     "metadata": {},
     "source": [
      "# Select image directory"
     ]
    },
    {
     "cell_type": "code",
     "collapsed": false,
     "input": [
      "#im_path = '/Users/lmcintosh/Documents/Natural_Images/RawData/cd13A' # flood plain, water, horizon\n",
      "#im_path = '/Volumes/Lane/RawData/cd13A' # flood plain, water, horizon\n",
      "#im_path = '/Volumes/Lane/RawData/cd01A' # baboons, trees, bushes\n",
      "im_path = '/Users/lmcintosh/Documents/Natural_Images/imc'\n",
      "#im_path = '/home/lane/Natural_images/imc'"
     ],
     "language": "python",
     "metadata": {},
     "outputs": [],
     "prompt_number": 4
    },
    {
     "cell_type": "code",
     "collapsed": false,
     "input": [
      "ls -1 $im_path | wc -l"
     ],
     "language": "python",
     "metadata": {},
     "outputs": [
      {
       "output_type": "stream",
       "stream": "stdout",
       "text": [
        "     400\r\n"
       ]
      }
     ],
     "prompt_number": 5
    },
    {
     "cell_type": "markdown",
     "metadata": {},
     "source": [
      "# Functions for loading images"
     ]
    },
    {
     "cell_type": "code",
     "collapsed": false,
     "input": [
      "def load_images(path, numImages, patchSize=None, acceptedExtensions=['.imc','LUM.mat'], square=False):\n",
      "    from os import listdir\n",
      "    from os.path import isfile, join\n",
      "    import array as ar\n",
      "    import scipy.io\n",
      "    \n",
      "    allfiles = []\n",
      "    for ext in acceptedExtensions:\n",
      "        allfiles = allfiles + [f for f in listdir(path) if isfile(join(path,f)) and ext in f]\n",
      "    if len(allfiles) < numImages:\n",
      "        print 'Only ' + str(len(allfiles)) + ' files in directory.'\n",
      "    names    = allfiles[:numImages]\n",
      "    patches  = []\n",
      "\n",
      "    for im in names:\n",
      "        if '.imc' in im:\n",
      "            fin = open(path+'/'+im, 'rb')\n",
      "            s   = fin.read()\n",
      "            fin.close()\n",
      "            arr = ar.array('H', s)\n",
      "            arr.byteswap()\n",
      "            img = np.array(arr, dtype='uint16').reshape(1024,1536)\n",
      "        elif '.mat' in im:\n",
      "            fin = scipy.io.loadmat(path+'/'+im)\n",
      "            arr = fin['LUM_Image']\n",
      "            # make 0 to 255\n",
      "            arr = arr - min(arr.flat)\n",
      "            arr = 255.*arr/max(arr.flat)\n",
      "            img = np.array(arr, dtype='uint16')\n",
      "            \n",
      "        # make patches\n",
      "        if patchSize:\n",
      "            img_center = [np.shape(img)[0]/2,np.shape(img)[1]/2]\n",
      "            img        = img[img_center[0]-patchSize/2:img_center[0]+patchSize/2,img_center[1]-patchSize/2:img_center[1]+patchSize/2]\n",
      "            \n",
      "        if square:\n",
      "            N = min(shape(img))\n",
      "            N = N - (N % 2) # make even\n",
      "            img = img[:N,:N]\n",
      "        \n",
      "        # normalize to unit variance and zero mean\n",
      "        img        = img/np.sqrt(np.var(img))\n",
      "        patches.append(img - np.mean(img))\n",
      "\n",
      "    return patches"
     ],
     "language": "python",
     "metadata": {},
     "outputs": [],
     "prompt_number": 6
    },
    {
     "cell_type": "markdown",
     "metadata": {},
     "source": [
      "# Load image dataset"
     ]
    },
    {
     "cell_type": "code",
     "collapsed": false,
     "input": [
      "numImages = 400\n",
      "patchSize = None\n",
      "pixelsToDeg = 92./2\n",
      "averageGanglionSize = 1.5*pixelsToDeg+1 # in pixels"
     ],
     "language": "python",
     "metadata": {},
     "outputs": [],
     "prompt_number": 9
    },
    {
     "cell_type": "code",
     "collapsed": false,
     "input": [
      "patches = load_images(im_path, numImages, patchSize, square=True)"
     ],
     "language": "python",
     "metadata": {},
     "outputs": [],
     "prompt_number": 10
    },
    {
     "cell_type": "code",
     "collapsed": false,
     "input": [
      "# # fix center to 0.25, vary surround [0.5, 1, 2]\n",
      "# sfilter1 = [spatial_filter_2d(c_width=0.25, s_width=s, xs_num=averageGanglionSize) for s in [0.375, 0.5, 1., 2.]]\n",
      "# sfilter2 = [spatial_filter_2d(c_width=0.25, s_width=s, xs_num=averageGanglionSize) for s in [0.375, 0.5, 1., 2.]]"
     ],
     "language": "python",
     "metadata": {},
     "outputs": [],
     "prompt_number": 11
    },
    {
     "cell_type": "markdown",
     "metadata": {},
     "source": [
      "# Define noise model"
     ]
    },
    {
     "cell_type": "code",
     "collapsed": false,
     "input": [
      "def noise_var(m, w):\n",
      "    '''INPUT: m is mean, w is standard deviation\n",
      "       OUTPUT: variance of noise'''\n",
      "    contrast = w/m\n",
      "    snr = 15.1*contrast + 2.06\n",
      "    return (w**2)/snr"
     ],
     "language": "python",
     "metadata": {},
     "outputs": [],
     "prompt_number": 12
    },
    {
     "cell_type": "markdown",
     "metadata": {},
     "source": [
      "# Define coefficients"
     ]
    },
    {
     "cell_type": "code",
     "collapsed": false,
     "input": [
      "def gaussian2d(xs, sigma):\n",
      "    '''Returns 2d symmetric Gaussian'''\n",
      "    p = gaussian(x=xs, sigma=sigma)\n",
      "    p_2d = zeros((len(p),len(p)))\n",
      "    for idx,x in enumerate(xs):\n",
      "        for idy,y in enumerate(xs):\n",
      "            p_2d[idx,idy] = p[np.min([int(np.sqrt((idx-np.floor(len(xs)/2.))**2 \n",
      "                                                     + (idy-np.floor(len(xs)/2.))**2) + np.floor(len(xs)/2.)), len(xs)-1])]\n",
      "    return p_2d"
     ],
     "language": "python",
     "metadata": {},
     "outputs": [],
     "prompt_number": 18
    },
    {
     "cell_type": "code",
     "collapsed": false,
     "input": [
      "def coeff(centerStrength, centerSize, horzStrength, horzSize, amaStrength, amaSize, receptiveFieldSize=averageGanglionSize):\n",
      "    '''Compute 2d linear coefficients for receptive field. Arguments are strength\n",
      "    and size of excitatory center, horizontal surround, and amacrine surround.\n",
      "    ASSUMPTIONS: each contribution is a spherically symmetrical gaussian.'''\n",
      "    x = np.linspace(-10,10,receptiveFieldSize)\n",
      "    return centerStrength*gaussian2d(xs=x, sigma=centerSize) \\\n",
      "                - horzStrength*gaussian2d(xs=x, sigma=horzSize) \\\n",
      "                - amaStrength*gaussian2d(xs=x, sigma=amaSize)"
     ],
     "language": "python",
     "metadata": {},
     "outputs": [],
     "prompt_number": 19
    },
    {
     "cell_type": "code",
     "collapsed": false,
     "input": [
      "exampleRF = coeff(centerStrength=1., centerSize=0.25, horzStrength=0.8, horzSize=1., amaStrength=0.2, amaSize=0.5)\n",
      "plot(exampleRF[averageGanglionSize//2,:])"
     ],
     "language": "python",
     "metadata": {},
     "outputs": [
      {
       "metadata": {},
       "output_type": "pyout",
       "prompt_number": 20,
       "text": [
        "[<matplotlib.lines.Line2D at 0x10df67d50>]"
       ]
      },
      {
       "metadata": {},
       "output_type": "display_data",
       "png": "[encoded data removed]",
       "text": [
        "<matplotlib.figure.Figure at 0x10fd7ead0>"
       ]
      }
     ],
     "prompt_number": 20
    },
    {
     "cell_type": "markdown",
     "metadata": {},
     "source": [
      "# Define objective function"
     ]
    },
    {
     "cell_type": "code",
     "collapsed": false,
     "input": [
      "def objective(coeff, images):\n",
      "    filteredImages = [fftconvolve(im, coeff, mode='same') for im in images]"
     ],
     "language": "python",
     "metadata": {},
     "outputs": []
    },
    {
     "cell_type": "code",
     "collapsed": false,
     "input": [],
     "language": "python",
     "metadata": {},
     "outputs": []
    },
    {
     "cell_type": "markdown",
     "metadata": {},
     "source": [
      "# Info computation takes way too long and too much memory, even using nearest neighbors"
     ]
    },
    {
     "cell_type": "code",
     "collapsed": false,
     "input": [
      "infoBetweenTwoImages = nnInfo(patches[0].flatten(),patches[1].flatten())"
     ],
     "language": "python",
     "metadata": {},
     "outputs": []
    },
    {
     "cell_type": "code",
     "collapsed": false,
     "input": [],
     "language": "python",
     "metadata": {},
     "outputs": []
    }
   ],
   "metadata": {}
  }
 ]
}