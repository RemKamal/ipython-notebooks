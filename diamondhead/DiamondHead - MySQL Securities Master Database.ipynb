{
 "metadata": {
  "name": "",
  "signature": "sha256:04fc86b83378144e6d6294e382b05b4bf6a3609e6434a7eae41315a63c39ae6d"
 },
 "nbformat": 3,
 "nbformat_minor": 0,
 "worksheets": [
  {
   "cells": [
    {
     "cell_type": "code",
     "collapsed": false,
     "input": [
      "import pandas as pd\n",
      "import pandas.io.sql as psql\n",
      "import MySQLdb as mdb"
     ],
     "language": "python",
     "metadata": {},
     "outputs": [],
     "prompt_number": 1
    },
    {
     "cell_type": "code",
     "collapsed": false,
     "input": [
      "# Connect to the MySQL instance\n",
      "db_host = 'localhost'\n",
      "db_user = 'lane'\n",
      "db_pass = 'clarkcont'\n",
      "db_name = 'securities_master'\n",
      "con = mdb.connect(db_host, db_user, db_pass, db_name)\n",
      "\n",
      "# Select all of the historic Google adjusted close data\n",
      "sql = \"\"\"SELECT dp.price_date, dp.adj_close_price\n",
      "         FROM symbol AS sym\n",
      "         INNER JOIN daily_price AS dp\n",
      "         ON dp.symbol_id = sym.id\n",
      "         WHERE sym.ticker = 'GOOG'\n",
      "         ORDER BY dp.price_date ASC;\"\"\""
     ],
     "language": "python",
     "metadata": {},
     "outputs": [],
     "prompt_number": 3
    },
    {
     "cell_type": "code",
     "collapsed": false,
     "input": [
      "# Create a pandas dataframe from the SQL query\n",
      "goog = psql.frame_query(sql, con=con, index_col='price_date')    \n",
      "\n",
      "# Output the dataframe tail\n",
      "print goog.tail()"
     ],
     "language": "python",
     "metadata": {},
     "outputs": [
      {
       "output_type": "stream",
       "stream": "stdout",
       "text": [
        "            adj_close_price\n",
        "price_date                 \n",
        "2014-09-30           577.36\n",
        "2014-10-01           568.27\n",
        "2014-10-02           570.08\n",
        "2014-10-03           575.28\n",
        "2014-10-06           577.35\n"
       ]
      }
     ],
     "prompt_number": 4
    },
    {
     "cell_type": "markdown",
     "metadata": {},
     "source": [
      "#### Import options csv into new MySQL table"
     ]
    },
    {
     "cell_type": "code",
     "collapsed": false,
     "input": [
      "cd ~/diamondhead"
     ],
     "language": "python",
     "metadata": {},
     "outputs": [
      {
       "output_type": "stream",
       "stream": "stdout",
       "text": [
        "/home/lane/diamondhead\n"
       ]
      }
     ],
     "prompt_number": 5
    },
    {
     "cell_type": "code",
     "collapsed": false,
     "input": [
      "import csv"
     ],
     "language": "python",
     "metadata": {},
     "outputs": [],
     "prompt_number": 6
    },
    {
     "cell_type": "code",
     "collapsed": true,
     "input": [
      "with open('historical_options_data.csv', 'rb') as csvfile:\n",
      "    optionsreader = csv.reader(csvfile)\n",
      "    #optionsreader.next()\n",
      "    count = 0\n",
      "    for row in optionsreader:\n",
      "        if count < 100:\n",
      "            print ', '.join(row) # 0-8 indices in row\n",
      "            count += 1\n",
      "        else:\n",
      "            break"
     ],
     "language": "python",
     "metadata": {},
     "outputs": [
      {
       "output_type": "stream",
       "stream": "stdout",
       "text": [
        "100892, 20120904, 20120922, C, 31000, 83068792, 0, AFLAC INC, A\n",
        "100892, 20120904, 20120922, C, 32000, 83068793, 0, AFLAC INC, A\n",
        "100892, 20120904, 20120922, C, 33000, 83068794, 0, AFLAC INC, A\n",
        "100892, 20120904, 20120922, C, 34000, 83068795, 0, AFLAC INC, A\n",
        "100892, 20120904, 20120922, C, 35000, 82969110, 0, AFLAC INC, A\n",
        "100892, 20120904, 20120922, C, 36000, 83068796, 0, AFLAC INC, A\n",
        "100892, 20120904, 20120922, C, 37000, 82969111, 0, AFLAC INC, A\n",
        "100892, 20120904, 20120922, C, 38000, 82969112, 0, AFLAC INC, A\n",
        "100892, 20120904, 20120922, C, 39000, 82969113, 0, AFLAC INC, A\n",
        "100892, 20120904, 20120922, C, 40000, 82969114, 0, AFLAC INC, A\n",
        "100892, 20120904, 20120922, C, 41000, 82969115, 0, AFLAC INC, A\n",
        "100892, 20120904, 20120922, C, 42000, 82969116, 0, AFLAC INC, A\n",
        "100892, 20120904, 20120922, C, 43000, 82969117, 0, AFLAC INC, A\n",
        "100892, 20120904, 20120922, C, 44000, 82969118, 0, AFLAC INC, A\n",
        "100892, 20120904, 20120922, C, 45000, 82969119, 0, AFLAC INC, A\n",
        "100892, 20120904, 20120922, C, 46000, 82969120, 0, AFLAC INC, A\n",
        "100892, 20120904, 20120922, C, 47000, 82969121, 0, AFLAC INC, A\n",
        "100892, 20120904, 20120922, C, 48000, 82969122, 0, AFLAC INC, A\n",
        "100892, 20120904, 20120922, C, 49000, 82969123, 0, AFLAC INC, A\n",
        "100892, 20120904, 20120922, C, 50000, 82969124, 0, AFLAC INC, A\n",
        "100892, 20120904, 20120922, C, 52500, 82969125, 0, AFLAC INC, A\n",
        "100892, 20120904, 20120922, C, 55000, 82969126, 0, AFLAC INC, A\n",
        "100892, 20120904, 20120922, P, 31000, 83068797, 0, AFLAC INC, A\n",
        "100892, 20120904, 20120922, P, 32000, 83068798, 0, AFLAC INC, A\n",
        "100892, 20120904, 20120922, P, 33000, 83068799, 0, AFLAC INC, A\n",
        "100892, 20120904, 20120922, P, 34000, 83068800, 0, AFLAC INC, A\n",
        "100892, 20120904, 20120922, P, 35000, 82969127, 0, AFLAC INC, A\n",
        "100892, 20120904, 20120922, P, 36000, 83068801, 0, AFLAC INC, A\n",
        "100892, 20120904, 20120922, P, 37000, 82969128, 0, AFLAC INC, A\n",
        "100892, 20120904, 20120922, P, 38000, 82969129, 0, AFLAC INC, A\n",
        "100892, 20120904, 20120922, P, 39000, 82969130, 0, AFLAC INC, A\n",
        "100892, 20120904, 20120922, P, 40000, 82969131, 0, AFLAC INC, A\n",
        "100892, 20120904, 20120922, P, 41000, 82969132, 0, AFLAC INC, A\n",
        "100892, 20120904, 20120922, P, 42000, 82969133, 0, AFLAC INC, A\n",
        "100892, 20120904, 20120922, P, 43000, 82969134, 0, AFLAC INC, A\n",
        "100892, 20120904, 20120922, P, 44000, 82969135, 0, AFLAC INC, A\n",
        "100892, 20120904, 20120922, P, 45000, 82969136, 0, AFLAC INC, A\n",
        "100892, 20120904, 20120922, P, 46000, 82969137, 0, AFLAC INC, A\n",
        "100892, 20120904, 20120922, P, 47000, 82969138, 0, AFLAC INC, A\n",
        "100892, 20120904, 20120922, P, 48000, 82969139, 0, AFLAC INC, A\n",
        "100892, 20120904, 20120922, P, 49000, 82969140, 0, AFLAC INC, A\n",
        "100892, 20120904, 20120922, P, 50000, 82969141, 0, AFLAC INC, A\n",
        "100892, 20120904, 20120922, P, 52500, 82969142, 0, AFLAC INC, A\n",
        "100892, 20120904, 20120922, P, 55000, 82969143, 0, AFLAC INC, A\n",
        "100892, 20120904, 20121020, C, 32000, 83186193, 0, AFLAC INC, A\n",
        "100892, 20120904, 20121020, C, 33000, 83186194, 0, AFLAC INC, A\n",
        "100892, 20120904, 20121020, C, 34000, 83186195, 0, AFLAC INC, A\n",
        "100892, 20120904, 20121020, C, 35000, 83103880, 0, AFLAC INC, A\n",
        "100892, 20120904, 20121020, C, 36000, 83186196, 0, AFLAC INC, A\n",
        "100892, 20120904, 20121020, C, 37000, 83186197, 0, AFLAC INC, A\n",
        "100892, 20120904, 20121020, C, 38000, 83186198, 0, AFLAC INC, A\n",
        "100892, 20120904, 20121020, C, 39000, 83103881, 0, AFLAC INC, A\n",
        "100892, 20120904, 20121020, C, 40000, 83103882, 0, AFLAC INC, A\n",
        "100892, 20120904, 20121020, C, 41000, 83103883, 0, AFLAC INC, A\n",
        "100892, 20120904, 20121020, C, 42000, 83103884, 0, AFLAC INC, A\n",
        "100892, 20120904, 20121020, C, 43000, 83103885, 0, AFLAC INC, A\n",
        "100892, 20120904, 20121020, C, 44000, 83103886, 0, AFLAC INC, A\n",
        "100892, 20120904, 20121020, C, 45000, 83103887, 0, AFLAC INC, A\n",
        "100892, 20120904, 20121020, C, 46000, 83103888, 0, AFLAC INC, A\n",
        "100892, 20120904, 20121020, C, 47000, 83103889, 0, AFLAC INC, A\n",
        "100892, 20120904, 20121020, C, 48000, 83103890, 0, AFLAC INC, A\n",
        "100892, 20120904, 20121020, C, 49000, 83103891, 0, AFLAC INC, A\n",
        "100892, 20120904, 20121020, C, 50000, 83103892, 0, AFLAC INC, A\n",
        "100892, 20120904, 20121020, C, 52500, 83103893, 0, AFLAC INC, A\n",
        "100892, 20120904, 20121020, C, 55000, 83103894, 0, AFLAC INC, A\n",
        "100892, 20120904, 20121020, P, 32000, 83186199, 0, AFLAC INC, A\n",
        "100892, 20120904, 20121020, P, 33000, 83186200, 0, AFLAC INC, A\n",
        "100892, 20120904, 20121020, P, 34000, 83186201, 0, AFLAC INC, A\n",
        "100892, 20120904, 20121020, P, 35000, 83103895, 0, AFLAC INC, A\n",
        "100892, 20120904, 20121020, P, 36000, 83186202, 0, AFLAC INC, A\n",
        "100892, 20120904, 20121020, P, 37000, 83186203, 0, AFLAC INC, A\n",
        "100892, 20120904, 20121020, P, 38000, 83186204, 0, AFLAC INC, A\n",
        "100892, 20120904, 20121020, P, 39000, 83103896, 0, AFLAC INC, A\n",
        "100892, 20120904, 20121020, P, 40000, 83103897, 0, AFLAC INC, A\n",
        "100892, 20120904, 20121020, P, 41000, 83103898, 0, AFLAC INC, A\n",
        "100892, 20120904, 20121020, P, 42000, 83103899, 0, AFLAC INC, A\n",
        "100892, 20120904, 20121020, P, 43000, 83103900, 0, AFLAC INC, A\n",
        "100892, 20120904, 20121020, P, 44000, 83103901, 0, AFLAC INC, A\n",
        "100892, 20120904, 20121020, P, 45000, 83103902, 0, AFLAC INC, A\n",
        "100892, 20120904, 20121020, P, 46000, 83103903, 0, AFLAC INC, A\n",
        "100892, 20120904, 20121020, P, 47000, 83103904, 0, AFLAC INC, A\n",
        "100892, 20120904, 20121020, P, 48000, 83103905, 0, AFLAC INC, A\n",
        "100892, 20120904, 20121020, P, 49000, 83103906, 0, AFLAC INC, A\n",
        "100892, 20120904, 20121020, P, 50000, 83103907, 0, AFLAC INC, A\n",
        "100892, 20120904, 20121020, P, 52500, 83103908, 0, AFLAC INC, A\n",
        "100892, 20120904, 20121020, P, 55000, 83103909, 0, AFLAC INC, A\n",
        "100892, 20120904, 20121117, C, 20000, 81924210, 0, AFLAC INC, A\n",
        "100892, 20120904, 20121117, C, 21000, 81787249, 0, AFLAC INC, A\n",
        "100892, 20120904, 20121117, C, 22000, 81691839, 0, AFLAC INC, A\n",
        "100892, 20120904, 20121117, C, 23000, 81691840, 0, AFLAC INC, A\n",
        "100892, 20120904, 20121117, C, 24000, 81646123, 0, AFLAC INC, A\n",
        "100892, 20120904, 20121117, C, 25000, 81646124, 0, AFLAC INC, A\n",
        "100892, 20120904, 20121117, C, 26000, 81646125, 0, AFLAC INC, A\n",
        "100892, 20120904, 20121117, C, 27000, 81646126, 0, AFLAC INC, A\n",
        "100892, 20120904, 20121117, C, 28000, 81646127, 0, AFLAC INC, A\n",
        "100892, 20120904, 20121117, C, 29000, 81646128, 0, AFLAC INC, A\n",
        "100892, 20120904, 20121117, C, 30000, 81646129, 0, AFLAC INC, A\n",
        "100892, 20120904, 20121117, C, 31000, 81646130, 0, AFLAC INC, A\n",
        "100892, 20120904, 20121117, C, 32000, 81646131, 0, AFLAC INC, A\n",
        "100892, 20120904, 20121117, C, 33000, 81646132, 0, AFLAC INC, A\n"
       ]
      }
     ],
     "prompt_number": 46
    },
    {
     "cell_type": "code",
     "collapsed": false,
     "input": [
      "# Connect to the MySQL instance\n",
      "db_host = 'localhost'\n",
      "db_user = 'lane'\n",
      "db_pass = 'clarkcont'\n",
      "db_name = 'securities_master'\n",
      "con = mdb.connect(db_host, db_user, db_pass, db_name)\n",
      "\n",
      "with open('historical_options_data.csv', 'rb') as csvfile:\n",
      "    insert_str = \"%s, %s, %s, %s, %s, %s, %s, %s, %s\"\n",
      "    column_str = \"\"\"secid, date, exdate, cp_flag, strike_price, optionid, index_flag, issuer, exercise_style\"\"\"\n",
      "    final_str = \"INSERT INTO options (%s) VALUES (%s)\" % (column_str, insert_str)\n",
      "    optionsreader = csv.reader(csvfile)\n",
      "    optionsreader.next()\n",
      "    for row in optionsreader:\n",
      "        with con: \n",
      "            cur = con.cursor()\n",
      "            cur.executemany(final_str, [tuple(row)])"
     ],
     "language": "python",
     "metadata": {},
     "outputs": []
    },
    {
     "cell_type": "code",
     "collapsed": false,
     "input": [],
     "language": "python",
     "metadata": {},
     "outputs": []
    }
   ],
   "metadata": {}
  }
 ]
}