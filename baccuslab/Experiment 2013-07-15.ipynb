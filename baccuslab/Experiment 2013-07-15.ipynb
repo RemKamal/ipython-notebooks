{
 "metadata": {
  "name": "",
  "signature": "sha256:6be1d90bbefbb652a5118f3dbff2598c134f413b4a8bc459b68bb03501ca4d34"
 },
 "nbformat": 3,
 "nbformat_minor": 0,
 "worksheets": [
  {
   "cells": [
    {
     "cell_type": "code",
     "collapsed": false,
     "input": [
      "import numpy as np\n",
      "import scipy.io\n",
      "import itertools\n",
      "import os"
     ],
     "language": "python",
     "metadata": {},
     "outputs": [],
     "prompt_number": 4
    },
    {
     "cell_type": "code",
     "collapsed": false,
     "input": [
      "cd ~/Dropbox/Stanford/00\\ Baccus Lab/Data\\ 2013_07_15"
     ],
     "language": "python",
     "metadata": {},
     "outputs": [
      {
       "output_type": "stream",
       "stream": "stdout",
       "text": [
        "/Users/lmcintosh/Dropbox/Stanford/00 Baccus Lab/Data 2013_07_15\n"
       ]
      }
     ],
     "prompt_number": 8
    },
    {
     "cell_type": "code",
     "collapsed": false,
     "input": [
      "fs = sorted(os.listdir(os.getcwd()))\n",
      "fs = [f for f in fs if f.endswith(\".txt\") and f.startswith(\"c\")]\n",
      "\n",
      "cells = []\n",
      "for f in fs:\n",
      "    text_file = open(f, \"r\")\n",
      "    spikes = text_file.read().split('\\n')\n",
      "    cells.append([float(spike) for spike in spikes if not ((not spike) or (spike.startswith(\"c\")))])\n",
      "    \n",
      "    text_file.close()\n",
      "        "
     ],
     "language": "python",
     "metadata": {},
     "outputs": [],
     "prompt_number": 18
    },
    {
     "cell_type": "code",
     "collapsed": false,
     "input": [
      "diffs = [diff(c) for c in cells]"
     ],
     "language": "python",
     "metadata": {},
     "outputs": [],
     "prompt_number": 31
    },
    {
     "cell_type": "code",
     "collapsed": false,
     "input": [
      "diffs[0]"
     ],
     "language": "python",
     "metadata": {},
     "outputs": [
      {
       "metadata": {},
       "output_type": "pyout",
       "prompt_number": 32,
       "text": [
        "array([ 0.2183,  0.3377,  0.3398, ...,  0.7061,  0.2038,  0.0196])"
       ]
      }
     ],
     "prompt_number": 32
    },
    {
     "cell_type": "code",
     "collapsed": false,
     "input": [
      "plot(diffs[0])"
     ],
     "language": "python",
     "metadata": {},
     "outputs": [
      {
       "metadata": {},
       "output_type": "pyout",
       "prompt_number": 34,
       "text": [
        "[<matplotlib.lines.Line2D at 0x10dd38550>]"
       ]
      },
      {
       "metadata": {},
       "output_type": "display_data",
       "png": "[encoded data removed]",
       "text": [
        "<matplotlib.figure.Figure at 0x10dd24a50>"
       ]
      }
     ],
     "prompt_number": 34
    },
    {
     "cell_type": "code",
     "collapsed": false,
     "input": [
      "plot(cells[0])"
     ],
     "language": "python",
     "metadata": {},
     "outputs": [
      {
       "metadata": {},
       "output_type": "pyout",
       "prompt_number": 35,
       "text": [
        "[<matplotlib.lines.Line2D at 0x10f826050>]"
       ]
      },
      {
       "metadata": {},
       "output_type": "display_data",
       "png": "[encoded data removed]",
       "text": [
        "<matplotlib.figure.Figure at 0x10dd40a10>"
       ]
      }
     ],
     "prompt_number": 35
    },
    {
     "cell_type": "code",
     "collapsed": false,
     "input": [
      "print 'The shortest interspike interval was %s ms.' %(1000*np.min(abs(diffs[0][:20000])))"
     ],
     "language": "python",
     "metadata": {},
     "outputs": [
      {
       "output_type": "stream",
       "stream": "stdout",
       "text": [
        "The shortest interspike interval was 0.999999999976 ms.\n"
       ]
      }
     ],
     "prompt_number": 49
    },
    {
     "cell_type": "code",
     "collapsed": false,
     "input": [],
     "language": "python",
     "metadata": {},
     "outputs": []
    }
   ],
   "metadata": {}
  }
 ]
}