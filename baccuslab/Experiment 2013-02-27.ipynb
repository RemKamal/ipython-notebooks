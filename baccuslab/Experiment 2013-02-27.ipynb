{
 "metadata": {
  "name": "",
  "signature": "sha256:94659724066a4d40108d506b8189aae401a53deef27a7cf4f298526de8d583b6"
 },
 "nbformat": 3,
 "nbformat_minor": 0,
 "worksheets": [
  {
   "cells": [
    {
     "cell_type": "code",
     "collapsed": false,
     "input": [
      "import numpy as np\n",
      "import scipy.io\n",
      "import itertools"
     ],
     "language": "python",
     "metadata": {},
     "outputs": [],
     "prompt_number": 191
    },
    {
     "cell_type": "code",
     "collapsed": false,
     "input": [
      "cd ~/information-theory-toolbox"
     ],
     "language": "python",
     "metadata": {},
     "outputs": [
      {
       "output_type": "stream",
       "stream": "stdout",
       "text": [
        "/home/lane/information-theory-toolbox\n"
       ]
      }
     ],
     "prompt_number": 2
    },
    {
     "cell_type": "code",
     "collapsed": false,
     "input": [
      "from info_theory_functions import *"
     ],
     "language": "python",
     "metadata": {},
     "outputs": [],
     "prompt_number": 3
    },
    {
     "cell_type": "code",
     "collapsed": false,
     "input": [
      "cd ~/00_Baccus/Data_2013_02_27/"
     ],
     "language": "python",
     "metadata": {},
     "outputs": [
      {
       "output_type": "stream",
       "stream": "stdout",
       "text": [
        "/home/lane/00_Baccus/Data_2013_02_27\n"
       ]
      }
     ],
     "prompt_number": 4
    },
    {
     "cell_type": "code",
     "collapsed": false,
     "input": [
      "ls"
     ],
     "language": "python",
     "metadata": {},
     "outputs": [
      {
       "output_type": "stream",
       "stream": "stdout",
       "text": [
        "\u001b[0m\u001b[01;32m20130227T112709.mat\u001b[0m*  comparePD2Stim.m~            makeFiringRates.m   makeSpikeTrains.m          raster_hannah.m      spikeTrains.mat  troubleshootingPDandStim.mat\r\n",
        "\u001b[01;32mall.txt\u001b[0m*              comparePhotodiode2Stim.m     makePhotodiodeRF.m  photodiode_data.mat        rastersFromCells.m   sta3.mat         upsampledStim.mat\r\n",
        "comparePD2Stim2.m     comparePhotodiode2StimSP.m   makePSTHfigs.m      photodiodeStim.mat         readIgorBinary.m     sta.mat          upsampleStim.m\r\n",
        "comparePD2Stim2.m~    comparePhotodiode2StimSP.m~  makePSTH.m          photodiodeWhiteSpikes.mat  reconstructStim.m    \u001b[01;32mstim1_V.txt\u001b[0m*\r\n",
        "comparePD2Stim.m      Data summary.pptx            makeSpatialRF.m     pieceTogether.m            \u001b[01;32msortoutputfile.mat\u001b[0m*  \u001b[01;32mstim2_V.txt\u001b[0m*\r\n"
       ]
      }
     ],
     "prompt_number": 5
    },
    {
     "cell_type": "markdown",
     "metadata": {},
     "source": [
      "#### Load spike trains"
     ]
    },
    {
     "cell_type": "code",
     "collapsed": false,
     "input": [
      "mat = scipy.io.loadmat('spikeTrains.mat')"
     ],
     "language": "python",
     "metadata": {},
     "outputs": [],
     "prompt_number": 6
    },
    {
     "cell_type": "code",
     "collapsed": false,
     "input": [
      "mat.keys()"
     ],
     "language": "python",
     "metadata": {},
     "outputs": [
      {
       "metadata": {},
       "output_type": "pyout",
       "prompt_number": 7,
       "text": [
        "['__version__', 'spiketrains', '__header__', '__globals__']"
       ]
      }
     ],
     "prompt_number": 7
    },
    {
     "cell_type": "code",
     "collapsed": false,
     "input": [
      "spiketrains = mat['spiketrains']"
     ],
     "language": "python",
     "metadata": {},
     "outputs": [],
     "prompt_number": 8
    },
    {
     "cell_type": "code",
     "collapsed": false,
     "input": [
      "spiketrains.shape"
     ],
     "language": "python",
     "metadata": {},
     "outputs": [
      {
       "metadata": {},
       "output_type": "pyout",
       "prompt_number": 9,
       "text": [
        "(1, 22)"
       ]
      }
     ],
     "prompt_number": 9
    },
    {
     "cell_type": "code",
     "collapsed": false,
     "input": [
      "spiketrains[0,0].shape"
     ],
     "language": "python",
     "metadata": {},
     "outputs": [
      {
       "metadata": {},
       "output_type": "pyout",
       "prompt_number": 10,
       "text": [
        "(1, 1070)"
       ]
      }
     ],
     "prompt_number": 10
    },
    {
     "cell_type": "markdown",
     "metadata": {},
     "source": [
      "#### Load stimulus"
     ]
    },
    {
     "cell_type": "code",
     "collapsed": false,
     "input": [
      "stim = scipy.io.loadmat('20130227T112709.mat')\n",
      "stim.keys()"
     ],
     "language": "python",
     "metadata": {},
     "outputs": [
      {
       "metadata": {},
       "output_type": "pyout",
       "prompt_number": 11,
       "text": [
        "['ex', '__function_workspace__', '__version__', '__header__', '__globals__']"
       ]
      }
     ],
     "prompt_number": 11
    },
    {
     "cell_type": "code",
     "collapsed": false,
     "input": [
      "stim_vars = stim['ex']\n",
      "stim_vars[0,0][0][0][0].shape"
     ],
     "language": "python",
     "metadata": {},
     "outputs": [
      {
       "metadata": {},
       "output_type": "pyout",
       "prompt_number": 12,
       "text": [
        "()"
       ]
      }
     ],
     "prompt_number": 12
    },
    {
     "cell_type": "code",
     "collapsed": false,
     "input": [
      "stim_vals = stim_vars[0,0]"
     ],
     "language": "python",
     "metadata": {},
     "outputs": [],
     "prompt_number": 13
    },
    {
     "cell_type": "code",
     "collapsed": false,
     "input": [
      "numFrames = stim_vals['ds']['vbl'][0][0].shape[0]"
     ],
     "language": "python",
     "metadata": {},
     "outputs": [],
     "prompt_number": 14
    },
    {
     "cell_type": "code",
     "collapsed": false,
     "input": [
      "stimulus = np.zeros((stim_vals['pa']['nBoxes'][0][0][0][0], stim_vals['pa']['nBoxes'][0][0][0][0], numFrames))"
     ],
     "language": "python",
     "metadata": {},
     "outputs": [],
     "prompt_number": 15
    },
    {
     "cell_type": "code",
     "collapsed": false,
     "input": [
      "stimulus.shape"
     ],
     "language": "python",
     "metadata": {},
     "outputs": [
      {
       "metadata": {},
       "output_type": "pyout",
       "prompt_number": 16,
       "text": [
        "(32, 32, 4000)"
       ]
      }
     ],
     "prompt_number": 16
    },
    {
     "cell_type": "code",
     "collapsed": false,
     "input": [
      "si = 1"
     ],
     "language": "python",
     "metadata": {},
     "outputs": [],
     "prompt_number": 17
    },
    {
     "cell_type": "code",
     "collapsed": false,
     "input": [],
     "language": "python",
     "metadata": {},
     "outputs": [],
     "prompt_number": 17
    },
    {
     "cell_type": "code",
     "collapsed": false,
     "input": [
      "upsampledStim_struct = scipy.io.loadmat('upsampledStim.mat')\n",
      "upsampledStim_struct.keys()"
     ],
     "language": "python",
     "metadata": {},
     "outputs": [
      {
       "metadata": {},
       "output_type": "pyout",
       "prompt_number": 18,
       "text": [
        "['stimHR', '__version__', '__header__', '__globals__']"
       ]
      }
     ],
     "prompt_number": 18
    },
    {
     "cell_type": "code",
     "collapsed": false,
     "input": [
      "stimHR = upsampledStim_struct['stimHR']"
     ],
     "language": "python",
     "metadata": {},
     "outputs": [],
     "prompt_number": 19
    },
    {
     "cell_type": "code",
     "collapsed": false,
     "input": [
      "stimHR.shape"
     ],
     "language": "python",
     "metadata": {},
     "outputs": [
      {
       "metadata": {},
       "output_type": "pyout",
       "prompt_number": 20,
       "text": [
        "(32, 32, 40000)"
       ]
      }
     ],
     "prompt_number": 20
    },
    {
     "cell_type": "code",
     "collapsed": false,
     "input": [
      "plot(stimHR[15,15,:])"
     ],
     "language": "python",
     "metadata": {},
     "outputs": [
      {
       "metadata": {},
       "output_type": "pyout",
       "prompt_number": 21,
       "text": [
        "[<matplotlib.lines.Line2D at 0x309dd90>]"
       ]
      },
      {
       "metadata": {},
       "output_type": "display_data",
       "png": "[encoded data removed]",
       "text": [
        "<matplotlib.figure.Figure at 0x3071590>"
       ]
      }
     ],
     "prompt_number": 21
    },
    {
     "cell_type": "code",
     "collapsed": false,
     "input": [
      "plot(stim_vals['pa']['pinkNoiseContrast'][0][0])"
     ],
     "language": "python",
     "metadata": {},
     "outputs": [
      {
       "metadata": {},
       "output_type": "pyout",
       "prompt_number": 22,
       "text": [
        "[<matplotlib.lines.Line2D at 0x401ba10>]"
       ]
      },
      {
       "metadata": {},
       "output_type": "display_data",
       "png": "[encoded data removed]",
       "text": [
        "<matplotlib.figure.Figure at 0x308a710>"
       ]
      }
     ],
     "prompt_number": 22
    },
    {
     "cell_type": "code",
     "collapsed": false,
     "input": [
      "plot(stim_vals['pa']['whiteNoiseContrast'][0][0])"
     ],
     "language": "python",
     "metadata": {},
     "outputs": [
      {
       "metadata": {},
       "output_type": "pyout",
       "prompt_number": 23,
       "text": [
        "[<matplotlib.lines.Line2D at 0x3ca0550>]"
       ]
      },
      {
       "metadata": {},
       "output_type": "display_data",
       "png": "[encoded data removed]",
       "text": [
        "<matplotlib.figure.Figure at 0x4023390>"
       ]
      }
     ],
     "prompt_number": 23
    },
    {
     "cell_type": "code",
     "collapsed": false,
     "input": [
      "whiteStim = stim_vals['pa']['whiteNoiseContrast'][0][0]\n",
      "pinkStim  = stim_vals['pa']['pinkNoiseContrast'][0][0]"
     ],
     "language": "python",
     "metadata": {},
     "outputs": [],
     "prompt_number": 24
    },
    {
     "cell_type": "code",
     "collapsed": false,
     "input": [
      "z = hist(whiteStim, 50, alpha=0.5)\n",
      "w = hist(pinkStim, 50, alpha=0.5)"
     ],
     "language": "python",
     "metadata": {},
     "outputs": [
      {
       "metadata": {},
       "output_type": "display_data",
       "png": "[encoded data removed]",
       "text": [
        "<matplotlib.figure.Figure at 0x2f77710>"
       ]
      }
     ],
     "prompt_number": 25
    },
    {
     "cell_type": "code",
     "collapsed": false,
     "input": [
      "startStim = stim_vals['ds']['vbl'][0][0][0,0];\n",
      "startData = 0;\n",
      "normalizedTime = stim_vals['ds']['vbl'][0][0] - startStim;     # frames x conditions\n",
      "exptLength = max(normalizedTime.flat)/60;   # in minutes\n",
      "trialLength = size(normalizedTime,0);       # in frames\n",
      "numNeurons = shape(spiketrains)[1];\n",
      "frameLength = (stim_vals['ds']['vbl'][0][0][trialLength-1,0] - stim_vals['ds']['vbl'][0][0][0,0])/(trialLength-1)\n",
      "#stim_vals['ds']['vbl'][0][0][1,0] - stim_vals['ds']['vbl'][0][0][0,0];  # in seconds\n",
      "trialDur = trialLength*frameLength;         # in seconds\n",
      "numTrials = int(round(exptLength*60/trialDur))\n",
      "numTrialsPerCondition = 10\n",
      "\n",
      "stimType = [stim_vals['pa']['stimType'][0][0][i][0][0] for i in xrange(numTrials)]"
     ],
     "language": "python",
     "metadata": {},
     "outputs": [],
     "prompt_number": 26
    },
    {
     "cell_type": "code",
     "collapsed": false,
     "input": [
      "allPinkSpikes  = []\n",
      "allWhiteSpikes = []\n",
      "\n",
      "for neuron in xrange(numNeurons):\n",
      "    # Pink noise trials\n",
      "    indicesPink  = [ind for ind, string in enumerate(stimType) if 'checkerpink' in string]\n",
      "    numPinkTrials = len(indicesPink)\n",
      "    pinkSpiketrains = []\n",
      "    for i, trial in enumerate(indicesPink):\n",
      "        beginTrial = normalizedTime[0,trial]\n",
      "        endTrial   = normalizedTime[-1,trial]\n",
      "        trialSpiketrain = [s for s in spiketrains[0,neuron].flat if endTrial >= s and beginTrial <= s]\n",
      "        pinkSpiketrains.append(trialSpiketrain - beginTrial)\n",
      "    \n",
      "    # White noise trials\n",
      "    indicesWhite = [ind for ind, string in enumerate(stimType) if 'checkerwhite' in string]\n",
      "    numWhiteTrials = len(indicesWhite)\n",
      "    whiteSpiketrains = []\n",
      "    for i, trial in enumerate(indicesWhite):\n",
      "        beginTrial = normalizedTime[0,trial]\n",
      "        endTrial   = normalizedTime[-1,trial]\n",
      "        trialSpiketrain = [s for s in spiketrains[0,neuron].flat if endTrial >= s and beginTrial <= s]\n",
      "        whiteSpiketrains.append(trialSpiketrain - beginTrial)\n",
      "    \n",
      "    allPinkSpikes.append(pinkSpiketrains)\n",
      "    allWhiteSpikes.append(whiteSpiketrains)"
     ],
     "language": "python",
     "metadata": {},
     "outputs": [],
     "prompt_number": 27
    },
    {
     "cell_type": "code",
     "collapsed": false,
     "input": [
      "neuron = 1\n",
      "trial = 0\n",
      "allPinkSpikes[neuron][trial]"
     ],
     "language": "python",
     "metadata": {},
     "outputs": [
      {
       "metadata": {},
       "output_type": "pyout",
       "prompt_number": 28,
       "text": [
        "array([  0.96026735,   1.23146735,   1.36546735,   2.47446735,\n",
        "         2.49776735,   2.96966735,   3.02146735,  11.09816735,\n",
        "        13.33446735,  13.89296735,  14.97576735,  15.08566735,\n",
        "        15.83876735,  17.71266735,  18.22906735,  19.86056735,\n",
        "        21.62386735,  24.15516735,  26.22136735,  27.36866735,\n",
        "        28.03456735,  28.93286735,  31.22176735,  31.24526735,\n",
        "        31.47036735,  32.11316735,  33.10066735,  33.19006735,\n",
        "        34.43496735,  35.27976735,  36.10406735,  37.59016735,\n",
        "        37.59226735,  39.08906735,  41.06916735,  43.60776735,\n",
        "        50.09346735,  50.37636735,  51.14706735,  51.86546735,\n",
        "        51.88436735,  52.43556735,  53.04156735,  53.99606735,\n",
        "        54.51416735,  54.73726735,  55.09896735,  55.91586735,\n",
        "        56.99536735,  57.01616735,  57.48916735,  57.84636735,\n",
        "        58.55686735,  58.92476735,  59.60406735,  60.95266735,\n",
        "        61.04506735,  61.76096735,  61.99666735,  62.62536735,\n",
        "        62.99696735,  63.21206735,  64.05686735,  65.84336735,\n",
        "        67.08636735,  70.19016735,  72.12386735,  72.63386735,\n",
        "        73.27216735,  75.18096735,  75.94776735,  75.97606735,\n",
        "        76.67626735,  78.44016735,  79.48386735,  79.94896735])"
       ]
      }
     ],
     "prompt_number": 28
    },
    {
     "cell_type": "code",
     "collapsed": false,
     "input": [
      "normalizedTime[3999,0]"
     ],
     "language": "python",
     "metadata": {},
     "outputs": [
      {
       "metadata": {},
       "output_type": "pyout",
       "prompt_number": 29,
       "text": [
        "80.03522473317571"
       ]
      }
     ],
     "prompt_number": 29
    },
    {
     "cell_type": "code",
     "collapsed": false,
     "input": [
      "trialDur"
     ],
     "language": "python",
     "metadata": {},
     "outputs": [
      {
       "metadata": {},
       "output_type": "pyout",
       "prompt_number": 30,
       "text": [
        "80.055238542811409"
       ]
      }
     ],
     "prompt_number": 30
    },
    {
     "cell_type": "code",
     "collapsed": false,
     "input": [
      "def raster(event_times_list, color='k'):\n",
      "    \"\"\"\n",
      "    Creates a raster plot\n",
      " \n",
      "    Parameters\n",
      "    ----------\n",
      "    event_times_list : iterable\n",
      "                       a list of event time iterables\n",
      "    color : string\n",
      "            color of vlines\n",
      " \n",
      "    Returns\n",
      "    -------\n",
      "    ax : an axis containing the raster plot\n",
      "    \"\"\"\n",
      "    ax = gca()\n",
      "    for ith, trial in enumerate(event_times_list):\n",
      "        vlines(trial, ith + .5, ith + 1.5, color=color,linewidth=1.3)\n",
      "    ylim(.5, len(event_times_list) + .5)\n",
      "    \n",
      "    return ax"
     ],
     "language": "python",
     "metadata": {},
     "outputs": [],
     "prompt_number": 31
    },
    {
     "cell_type": "code",
     "collapsed": false,
     "input": [
      "fig = gcf()\n",
      "fig.set_size_inches((12,10))\n",
      "\n",
      "subplot(2,1,1)\n",
      "raster(allPinkSpikes[2][:])\n",
      "subplot(2,1,2)\n",
      "plot(normalizedTime[:,0], pinkStim)\n",
      "xlim([0,normalizedTime[-1,0]])"
     ],
     "language": "python",
     "metadata": {},
     "outputs": [
      {
       "metadata": {},
       "output_type": "pyout",
       "prompt_number": 32,
       "text": [
        "(0, 80.03522473317571)"
       ]
      },
      {
       "metadata": {},
       "output_type": "display_data",
       "png": "[encoded data removed]",
       "text": [
        "<matplotlib.figure.Figure at 0x3f7a650>"
       ]
      }
     ],
     "prompt_number": 32
    },
    {
     "cell_type": "code",
     "collapsed": false,
     "input": [
      "shape(normalizedTime[:,0])"
     ],
     "language": "python",
     "metadata": {},
     "outputs": [
      {
       "metadata": {},
       "output_type": "pyout",
       "prompt_number": 33,
       "text": [
        "(4000,)"
       ]
      }
     ],
     "prompt_number": 33
    },
    {
     "cell_type": "code",
     "collapsed": false,
     "input": [
      "nnEntropy(pinkStim)"
     ],
     "language": "python",
     "metadata": {},
     "outputs": [
      {
       "metadata": {},
       "output_type": "pyout",
       "prompt_number": 34,
       "text": [
        "6.5679094544877783"
       ]
      }
     ],
     "prompt_number": 34
    },
    {
     "cell_type": "code",
     "collapsed": false,
     "input": [
      "nnEntropy(whiteStim)"
     ],
     "language": "python",
     "metadata": {},
     "outputs": [
      {
       "metadata": {},
       "output_type": "pyout",
       "prompt_number": 35,
       "text": [
        "6.7135446979746236"
       ]
      }
     ],
     "prompt_number": 35
    },
    {
     "cell_type": "code",
     "collapsed": false,
     "input": [
      "BinarySpikes = np.zeros((shape(normalizedTime[:,0])[0], numTrials))"
     ],
     "language": "python",
     "metadata": {},
     "outputs": [],
     "prompt_number": 36
    },
    {
     "cell_type": "code",
     "collapsed": false,
     "input": [
      "shape(BinarySpikes)"
     ],
     "language": "python",
     "metadata": {},
     "outputs": [
      {
       "metadata": {},
       "output_type": "pyout",
       "prompt_number": 37,
       "text": [
        "(4000, 40)"
       ]
      }
     ],
     "prompt_number": 37
    },
    {
     "cell_type": "code",
     "collapsed": false,
     "input": [
      "import bisect\n",
      "allPinkBinarySpikes = []\n",
      "\n",
      "for n in xrange(numNeurons):\n",
      "    binarySpikes = np.zeros((shape(normalizedTime[:,0])[0], numTrialsPerCondition))\n",
      "    for t in xrange(numTrialsPerCondition):\n",
      "        for ind, spikeTime in enumerate(allPinkSpikes[n][t]):\n",
      "            index = bisect.bisect(normalizedTime[:,0], spikeTime)\n",
      "            binarySpikes[index, t] = 1\n",
      "    allPinkBinarySpikes.append(binarySpikes)\n",
      "    \n",
      "allWhiteBinarySpikes = []\n",
      "\n",
      "for n in xrange(numNeurons):\n",
      "    binarySpikes = np.zeros((shape(normalizedTime[:,0])[0], numTrialsPerCondition))\n",
      "    for t in xrange(numTrialsPerCondition):\n",
      "        for ind, spikeTime in enumerate(allWhiteSpikes[n][t]):\n",
      "            index = bisect.bisect(normalizedTime[:,0], spikeTime)\n",
      "            binarySpikes[index, t] = 1\n",
      "    allWhiteBinarySpikes.append(binarySpikes)"
     ],
     "language": "python",
     "metadata": {},
     "outputs": [],
     "prompt_number": 38
    },
    {
     "cell_type": "code",
     "collapsed": false,
     "input": [
      "plot(sum(allPinkBinarySpikes[2][:,:],1))"
     ],
     "language": "python",
     "metadata": {},
     "outputs": [
      {
       "metadata": {},
       "output_type": "pyout",
       "prompt_number": 39,
       "text": [
        "[<matplotlib.lines.Line2D at 0x5b2f690>]"
       ]
      },
      {
       "metadata": {},
       "output_type": "display_data",
       "png": "[encoded data removed]",
       "text": [
        "<matplotlib.figure.Figure at 0x3c93510>"
       ]
      }
     ],
     "prompt_number": 39
    },
    {
     "cell_type": "code",
     "collapsed": false,
     "input": [
      "def gaussian(mean, std, numPoints):\n",
      "    x = np.linspace(mean - 8*std, mean + 8*std, numPoints)\n",
      "    return (1/(std*sqrt(2*pi)))*np.exp(-((x - mean)**2)/(2*std**2))"
     ],
     "language": "python",
     "metadata": {},
     "outputs": [],
     "prompt_number": 40
    },
    {
     "cell_type": "code",
     "collapsed": false,
     "input": [
      "yo = gaussian(0, 25, 100)"
     ],
     "language": "python",
     "metadata": {},
     "outputs": [],
     "prompt_number": 41
    },
    {
     "cell_type": "code",
     "collapsed": false,
     "input": [
      "plot(yo)"
     ],
     "language": "python",
     "metadata": {},
     "outputs": [
      {
       "metadata": {},
       "output_type": "pyout",
       "prompt_number": 42,
       "text": [
        "[<matplotlib.lines.Line2D at 0x5b5b390>]"
       ]
      },
      {
       "metadata": {},
       "output_type": "display_data",
       "png": "[encoded data removed]",
       "text": [
        "<matplotlib.figure.Figure at 0x4031150>"
       ]
      }
     ],
     "prompt_number": 42
    },
    {
     "cell_type": "code",
     "collapsed": false,
     "input": [
      "guru = convolve(allPinkBinarySpikes[2][:,0], yo, 'same')"
     ],
     "language": "python",
     "metadata": {},
     "outputs": [],
     "prompt_number": 43
    },
    {
     "cell_type": "code",
     "collapsed": false,
     "input": [
      "fig = gcf()\n",
      "fig.set_size_inches((16,6))\n",
      "\n",
      "#plot(normalizedTime[:,0], guru, 'r')\n",
      "plot(normalizedTime[:,0], 0.08*allPinkBinarySpikes[2][:,0], 'k', alpha=0.3)\n",
      "fill_between(normalizedTime[:,0],guru,0,color='r', alpha=0.5)\n",
      "ylim((0, max(guru)))\n",
      "xlim((0, normalizedTime[-1,0]))"
     ],
     "language": "python",
     "metadata": {},
     "outputs": [
      {
       "metadata": {},
       "output_type": "pyout",
       "prompt_number": 44,
       "text": [
        "(0, 80.03522473317571)"
       ]
      },
      {
       "metadata": {},
       "output_type": "display_data",
       "png": "[encoded data removed]",
       "text": [
        "<matplotlib.figure.Figure at 0x5b346d0>"
       ]
      }
     ],
     "prompt_number": 44
    },
    {
     "cell_type": "code",
     "collapsed": false,
     "input": [
      "nnInfo(guru, allPinkBinarySpikes[2][:,0])"
     ],
     "language": "python",
     "metadata": {},
     "outputs": [
      {
       "output_type": "stream",
       "stream": "stderr",
       "text": [
        "/usr/local/lib/python2.7/dist-packages/numpy/lib/scimath.py:383: RuntimeWarning: divide by zero encountered in log2\n",
        "  return nx.log2(x)\n",
        "info_theory_functions.py:148: RuntimeWarning: invalid value encountered in double_scalars\n"
       ]
      },
      {
       "metadata": {},
       "output_type": "pyout",
       "prompt_number": 45,
       "text": [
        "nan"
       ]
      }
     ],
     "prompt_number": 45
    },
    {
     "cell_type": "code",
     "collapsed": false,
     "input": [
      "nnEntropy(guru)"
     ],
     "language": "python",
     "metadata": {},
     "outputs": [
      {
       "metadata": {},
       "output_type": "pyout",
       "prompt_number": 46,
       "text": [
        "-inf"
       ]
      }
     ],
     "prompt_number": 46
    },
    {
     "cell_type": "code",
     "collapsed": false,
     "input": [
      "nnEntropy(allPinkBinarySpikes[2][:,0])"
     ],
     "language": "python",
     "metadata": {},
     "outputs": [
      {
       "metadata": {},
       "output_type": "pyout",
       "prompt_number": 47,
       "text": [
        "-inf"
       ]
      }
     ],
     "prompt_number": 47
    },
    {
     "cell_type": "code",
     "collapsed": false,
     "input": [
      "shape(guru)"
     ],
     "language": "python",
     "metadata": {},
     "outputs": [
      {
       "metadata": {},
       "output_type": "pyout",
       "prompt_number": 48,
       "text": [
        "(4000,)"
       ]
      }
     ],
     "prompt_number": 48
    },
    {
     "cell_type": "code",
     "collapsed": false,
     "input": [
      "shape(allPinkBinarySpikes[2][:,0])"
     ],
     "language": "python",
     "metadata": {},
     "outputs": [
      {
       "metadata": {},
       "output_type": "pyout",
       "prompt_number": 49,
       "text": [
        "(4000,)"
       ]
      }
     ],
     "prompt_number": 49
    },
    {
     "cell_type": "code",
     "collapsed": false,
     "input": [
      "len(guru.shape)"
     ],
     "language": "python",
     "metadata": {},
     "outputs": [
      {
       "metadata": {},
       "output_type": "pyout",
       "prompt_number": 50,
       "text": [
        "1"
       ]
      }
     ],
     "prompt_number": 50
    },
    {
     "cell_type": "code",
     "collapsed": false,
     "input": [
      "guru.shape"
     ],
     "language": "python",
     "metadata": {},
     "outputs": [
      {
       "metadata": {},
       "output_type": "pyout",
       "prompt_number": 51,
       "text": [
        "(4000,)"
       ]
      }
     ],
     "prompt_number": 51
    },
    {
     "cell_type": "code",
     "collapsed": false,
     "input": [
      "x = guru"
     ],
     "language": "python",
     "metadata": {},
     "outputs": [],
     "prompt_number": 52
    },
    {
     "cell_type": "code",
     "collapsed": false,
     "input": [
      "k = 1"
     ],
     "language": "python",
     "metadata": {},
     "outputs": [],
     "prompt_number": 53
    },
    {
     "cell_type": "code",
     "collapsed": false,
     "input": [
      "Ak  = (k*pi**(float(k)/float(2)))/gamma(float(k)/float(2)+1)"
     ],
     "language": "python",
     "metadata": {},
     "outputs": [],
     "prompt_number": 54
    },
    {
     "cell_type": "code",
     "collapsed": false,
     "input": [
      "Ak"
     ],
     "language": "python",
     "metadata": {},
     "outputs": [
      {
       "metadata": {},
       "output_type": "pyout",
       "prompt_number": 55,
       "text": [
        "2.0"
       ]
      }
     ],
     "prompt_number": 55
    },
    {
     "cell_type": "code",
     "collapsed": false,
     "input": [
      "rho = getrho(x)"
     ],
     "language": "python",
     "metadata": {},
     "outputs": [],
     "prompt_number": 56
    },
    {
     "cell_type": "code",
     "collapsed": false,
     "input": [
      "log2(rho)"
     ],
     "language": "python",
     "metadata": {},
     "outputs": [
      {
       "metadata": {},
       "output_type": "pyout",
       "prompt_number": 57,
       "text": [
        "array([        -inf,         -inf,         -inf, ..., -40.00311227,\n",
        "       -41.6233087 , -43.2947553 ])"
       ]
      }
     ],
     "prompt_number": 57
    },
    {
     "cell_type": "code",
     "collapsed": false,
     "input": [
      "log2(x.shape[0]*Ak/k)"
     ],
     "language": "python",
     "metadata": {},
     "outputs": [
      {
       "metadata": {},
       "output_type": "pyout",
       "prompt_number": 58,
       "text": [
        "12.965784284662087"
       ]
      }
     ],
     "prompt_number": 58
    },
    {
     "cell_type": "code",
     "collapsed": false,
     "input": [
      "log2(e)*0.5772156649"
     ],
     "language": "python",
     "metadata": {},
     "outputs": [
      {
       "metadata": {},
       "output_type": "pyout",
       "prompt_number": 59,
       "text": [
        "0.83274617727465561"
       ]
      }
     ],
     "prompt_number": 59
    },
    {
     "cell_type": "code",
     "collapsed": false,
     "input": [
      "x = np.reshape(x, (x.shape[0],1))"
     ],
     "language": "python",
     "metadata": {},
     "outputs": [],
     "prompt_number": 60
    },
    {
     "cell_type": "code",
     "collapsed": false,
     "input": [
      "x.shape"
     ],
     "language": "python",
     "metadata": {},
     "outputs": [
      {
       "metadata": {},
       "output_type": "pyout",
       "prompt_number": 61,
       "text": [
        "(4000, 1)"
       ]
      }
     ],
     "prompt_number": 61
    },
    {
     "cell_type": "code",
     "collapsed": false,
     "input": [
      "D = squareform(pdist(x, 'euclidean'))"
     ],
     "language": "python",
     "metadata": {},
     "outputs": [],
     "prompt_number": 62
    },
    {
     "cell_type": "code",
     "collapsed": false,
     "input": [
      "np.max(D)"
     ],
     "language": "python",
     "metadata": {},
     "outputs": [
      {
       "metadata": {},
       "output_type": "pyout",
       "prompt_number": 63,
       "text": [
        "0.079947688721006327"
       ]
      }
     ],
     "prompt_number": 63
    },
    {
     "cell_type": "code",
     "collapsed": false,
     "input": [
      "#imshow(D)"
     ],
     "language": "python",
     "metadata": {},
     "outputs": [],
     "prompt_number": 64
    },
    {
     "cell_type": "code",
     "collapsed": false,
     "input": [
      "D = D + np.max(D)*eye(D.shape[0])"
     ],
     "language": "python",
     "metadata": {},
     "outputs": [],
     "prompt_number": 65
    },
    {
     "cell_type": "code",
     "collapsed": false,
     "input": [
      "np.min(D, axis=0)"
     ],
     "language": "python",
     "metadata": {},
     "outputs": [
      {
       "metadata": {},
       "output_type": "pyout",
       "prompt_number": 66,
       "text": [
        "array([  0.00000000e+00,   0.00000000e+00,   0.00000000e+00, ...,\n",
        "         9.07534796e-13,   2.95213057e-13,   9.26787142e-14])"
       ]
      }
     ],
     "prompt_number": 66
    },
    {
     "cell_type": "code",
     "collapsed": false,
     "input": [
      "mean(np.min(D, axis=0))"
     ],
     "language": "python",
     "metadata": {},
     "outputs": [
      {
       "metadata": {},
       "output_type": "pyout",
       "prompt_number": 67,
       "text": [
        "9.6025210181952087e-06"
       ]
      }
     ],
     "prompt_number": 67
    },
    {
     "cell_type": "code",
     "collapsed": false,
     "input": [
      "plot(np.min(D, axis=0))"
     ],
     "language": "python",
     "metadata": {},
     "outputs": [
      {
       "metadata": {},
       "output_type": "pyout",
       "prompt_number": 68,
       "text": [
        "[<matplotlib.lines.Line2D at 0x4e34f90>]"
       ]
      },
      {
       "metadata": {},
       "output_type": "display_data",
       "png": "[encoded data removed]",
       "text": [
        "<matplotlib.figure.Figure at 0x402af10>"
       ]
      }
     ],
     "prompt_number": 68
    },
    {
     "cell_type": "code",
     "collapsed": false,
     "input": [
      "log2(mean(rho)) + log2(x.shape[0]*Ak/k) + log2(e)*0.5772156649"
     ],
     "language": "python",
     "metadata": {},
     "outputs": [
      {
       "metadata": {},
       "output_type": "pyout",
       "prompt_number": 69,
       "text": [
        "-2.8696248908271009"
       ]
      }
     ],
     "prompt_number": 69
    },
    {
     "cell_type": "code",
     "collapsed": false,
     "input": [
      "rho2 = getrho(allPinkBinarySpikes[2][:,0])"
     ],
     "language": "python",
     "metadata": {},
     "outputs": [],
     "prompt_number": 70
    },
    {
     "cell_type": "code",
     "collapsed": false,
     "input": [
      "plot(rho2)"
     ],
     "language": "python",
     "metadata": {},
     "outputs": [
      {
       "metadata": {},
       "output_type": "pyout",
       "prompt_number": 71,
       "text": [
        "[<matplotlib.lines.Line2D at 0x519f950>]"
       ]
      },
      {
       "metadata": {},
       "output_type": "display_data",
       "png": "[encoded data removed]",
       "text": [
        "<matplotlib.figure.Figure at 0x55053d0>"
       ]
      }
     ],
     "prompt_number": 71
    },
    {
     "cell_type": "code",
     "collapsed": false,
     "input": [
      "plot(allPinkBinarySpikes[2][:,0])"
     ],
     "language": "python",
     "metadata": {},
     "outputs": [
      {
       "metadata": {},
       "output_type": "pyout",
       "prompt_number": 72,
       "text": [
        "[<matplotlib.lines.Line2D at 0x5186e90>]"
       ]
      },
      {
       "metadata": {},
       "output_type": "display_data",
       "png": "[encoded data removed]",
       "text": [
        "<matplotlib.figure.Figure at 0x54f5c90>"
       ]
      }
     ],
     "prompt_number": 72
    },
    {
     "cell_type": "markdown",
     "metadata": {},
     "source": [
      "#### Nearest neighbors fails for sparse signals that have many identically zero values.  Also nnEntropy calculates the entropy using the value of each symbol, not it's position; hence spike trains with identical numbers of spikes have identical entropy, regardless of where those spikes are positioned."
     ]
    },
    {
     "cell_type": "markdown",
     "metadata": {},
     "source": [
      "#### Is it known how to generalize nearest-neighbors entropy calculation to non-euclidean distance metrics?  \n",
      "\n",
      "#### It would be interesting to bring modern information theory techniques to our analysis of spiking neuron population data."
     ]
    },
    {
     "cell_type": "code",
     "collapsed": false,
     "input": [
      "binaryWordsInformation(allPinkBinarySpikes[2][:,0], guru)"
     ],
     "language": "python",
     "metadata": {},
     "outputs": [
      {
       "metadata": {},
       "output_type": "pyout",
       "prompt_number": 73,
       "text": [
        "0.02202701881554775"
       ]
      }
     ],
     "prompt_number": 73
    },
    {
     "cell_type": "code",
     "collapsed": false,
     "input": [
      "entropy(allPinkBinarySpikes[2][:,0], Bins=2)"
     ],
     "language": "python",
     "metadata": {},
     "outputs": [
      {
       "metadata": {},
       "output_type": "pyout",
       "prompt_number": 74,
       "text": [
        "0.21043731298086868"
       ]
      }
     ],
     "prompt_number": 74
    },
    {
     "cell_type": "code",
     "collapsed": false,
     "input": [
      "entropy(guru, Bins=10)"
     ],
     "language": "python",
     "metadata": {},
     "outputs": [
      {
       "metadata": {},
       "output_type": "pyout",
       "prompt_number": 75,
       "text": [
        "1.6973315731243563"
       ]
      }
     ],
     "prompt_number": 75
    },
    {
     "cell_type": "code",
     "collapsed": false,
     "input": [],
     "language": "python",
     "metadata": {},
     "outputs": [],
     "prompt_number": 76
    },
    {
     "cell_type": "code",
     "collapsed": false,
     "input": [],
     "language": "python",
     "metadata": {},
     "outputs": [],
     "prompt_number": 85
    },
    {
     "cell_type": "code",
     "collapsed": false,
     "input": [],
     "language": "python",
     "metadata": {},
     "outputs": [],
     "prompt_number": 119
    },
    {
     "cell_type": "code",
     "collapsed": false,
     "input": [
      "wordLength = 4\n",
      "possibleBinaryWords = list(itertools.product([0, 1], repeat=wordLength))\n",
      "\n",
      "allNeuronsWordFreq = []\n",
      "for n in xrange(numNeurons):\n",
      "    wordFreq = []\n",
      "    for idx, b in enumerate(possibleBinaryWords):\n",
      "        instances = []\n",
      "        for trial in xrange(numTrialsPerCondition):\n",
      "            instances.extend([(allPinkBinarySpikes[n][0+t:wordLength+t,trial] == b).all() for t in xrange(trialLength - (wordLength - 1))])\n",
      "            #instances = [(allPinkBinarySpikes[2][0+t:4+t,0] == b).all() for t in xrange(trialLength - 3)]\n",
      "        wordFreq.append(float(sum(instances))/float(len(instances)))\n",
      "        \n",
      "    allNeuronsWordFreq.append(wordFreq)"
     ],
     "language": "python",
     "metadata": {},
     "outputs": [],
     "prompt_number": 161
    },
    {
     "cell_type": "code",
     "collapsed": true,
     "input": [
      "allNeuronsWordFreq"
     ],
     "language": "python",
     "metadata": {},
     "outputs": [
      {
       "metadata": {},
       "output_type": "pyout",
       "prompt_number": 168,
       "text": [
        "[[0.9724043032274206,\n",
        "  0.006755066299724793,\n",
        "  0.006404803602702027,\n",
        "  0.0003752814610958219,\n",
        "  0.006404803602702027,\n",
        "  5.0037528146109585e-05,\n",
        "  0.0003502626970227671,\n",
        "  2.5018764073054793e-05,\n",
        "  0.006755066299724793,\n",
        "  2.5018764073054793e-05,\n",
        "  5.0037528146109585e-05,\n",
        "  0.0,\n",
        "  0.0003752814610958219,\n",
        "  0.0,\n",
        "  2.5018764073054793e-05,\n",
        "  0.0],\n",
        " [0.9206654991243433,\n",
        "  0.0193144858643983,\n",
        "  0.01863897923442582,\n",
        "  0.0008256192144108081,\n",
        "  0.018613960470352766,\n",
        "  0.0004253189892419314,\n",
        "  0.0008506379784838628,\n",
        "  0.0,\n",
        "  0.019239429572179133,\n",
        "  0.00015011258443832875,\n",
        "  0.0004003002251688767,\n",
        "  2.5018764073054793e-05,\n",
        "  0.0008506379784838628,\n",
        "  0.0,\n",
        "  0.0,\n",
        "  0.0],\n",
        " [0.8419814861145859,\n",
        "  0.03502626970227671,\n",
        "  0.027370527895921943,\n",
        "  0.008806604953715286,\n",
        "  0.027795846885163872,\n",
        "  0.0013009757317988492,\n",
        "  0.007605704278208656,\n",
        "  0.001325994495871904,\n",
        "  0.03510132599449587,\n",
        "  0.0011008256192144108,\n",
        "  0.0017012759569677257,\n",
        "  0.00012509382036527395,\n",
        "  0.00840630472854641,\n",
        "  0.0005253940455341507,\n",
        "  0.001325994495871904,\n",
        "  0.0005003752814610958],\n",
        " [0.8713535151363523,\n",
        "  0.030522892169126844,\n",
        "  0.0284463347510633,\n",
        "  0.0028271203402551915,\n",
        "  0.02852139104328246,\n",
        "  0.0005253940455341507,\n",
        "  0.002651988991743808,\n",
        "  0.00020015011258443834,\n",
        "  0.030522892169126844,\n",
        "  0.0007505629221916438,\n",
        "  0.000600450337753315,\n",
        "  2.5018764073054793e-05,\n",
        "  0.0027520640480360272,\n",
        "  0.00010007505629221917,\n",
        "  0.00020015011258443834,\n",
        "  0.0],\n",
        " [0.9750312734550913,\n",
        "  0.005454090567925944,\n",
        "  0.005253940455341506,\n",
        "  0.0006755066299724793,\n",
        "  0.005278959219414561,\n",
        "  0.0004503377533149862,\n",
        "  0.0006254691018263697,\n",
        "  5.0037528146109585e-05,\n",
        "  0.005454090567925944,\n",
        "  0.000475356517388041,\n",
        "  0.000475356517388041,\n",
        "  0.0,\n",
        "  0.0006504878658994246,\n",
        "  2.5018764073054793e-05,\n",
        "  5.0037528146109585e-05,\n",
        "  5.0037528146109585e-05],\n",
        " [0.8803352514385789,\n",
        "  0.02847135351513635,\n",
        "  0.025193895421566175,\n",
        "  0.003627720790592945,\n",
        "  0.025193895421566175,\n",
        "  0.0005253940455341507,\n",
        "  0.003577683262446835,\n",
        "  5.0037528146109585e-05,\n",
        "  0.02847135351513635,\n",
        "  0.0003502626970227671,\n",
        "  0.0005253940455341507,\n",
        "  0.0,\n",
        "  0.003627720790592945,\n",
        "  0.0,\n",
        "  5.0037528146109585e-05,\n",
        "  0.0],\n",
        " [0.9935201401050788,\n",
        "  0.0016012009006755067,\n",
        "  0.0015761821366024518,\n",
        "  2.5018764073054793e-05,\n",
        "  0.0015761821366024518,\n",
        "  2.5018764073054793e-05,\n",
        "  2.5018764073054793e-05,\n",
        "  0.0,\n",
        "  0.0016012009006755067,\n",
        "  0.0,\n",
        "  2.5018764073054793e-05,\n",
        "  0.0,\n",
        "  2.5018764073054793e-05,\n",
        "  0.0,\n",
        "  0.0,\n",
        "  0.0],\n",
        " [0.9029021766324744,\n",
        "  0.02361771328496372,\n",
        "  0.022216662496872656,\n",
        "  0.0014510883162371778,\n",
        "  0.022216662496872656,\n",
        "  0.0005003752814610958,\n",
        "  0.001426069552164123,\n",
        "  2.5018764073054793e-05,\n",
        "  0.02361771328496372,\n",
        "  5.0037528146109585e-05,\n",
        "  0.0005003752814610958,\n",
        "  0.0,\n",
        "  0.0014510883162371778,\n",
        "  0.0,\n",
        "  2.5018764073054793e-05,\n",
        "  0.0],\n",
        " [0.9154615961971478,\n",
        "  0.020640480360270202,\n",
        "  0.019589692269201903,\n",
        "  0.001075806855141356,\n",
        "  0.019589692269201903,\n",
        "  0.0002501876407305479,\n",
        "  0.0008756567425569177,\n",
        "  0.00020015011258443834,\n",
        "  0.020640480360270202,\n",
        "  2.5018764073054793e-05,\n",
        "  0.0002501876407305479,\n",
        "  0.0,\n",
        "  0.001075806855141356,\n",
        "  0.0,\n",
        "  0.00020015011258443834,\n",
        "  0.00012509382036527395],\n",
        " [0.9733800350262697,\n",
        "  0.006229672254190643,\n",
        "  0.006379784838628972,\n",
        "  0.00015011258443832875,\n",
        "  0.006429822366775082,\n",
        "  0.0002752064048036027,\n",
        "  0.00015011258443832875,\n",
        "  0.0,\n",
        "  0.006229672254190643,\n",
        "  0.0003002251688766575,\n",
        "  0.0003252439329497123,\n",
        "  0.0,\n",
        "  0.00010007505629221917,\n",
        "  5.0037528146109585e-05,\n",
        "  0.0,\n",
        "  0.0],\n",
        " [0.975331498623968,\n",
        "  0.006079559669752314,\n",
        "  0.00590442832124093,\n",
        "  0.00017513134851138354,\n",
        "  0.00590442832124093,\n",
        "  7.505629221916437e-05,\n",
        "  0.00015011258443832875,\n",
        "  2.5018764073054793e-05,\n",
        "  0.006079559669752314,\n",
        "  0.0,\n",
        "  7.505629221916437e-05,\n",
        "  0.0,\n",
        "  0.00017513134851138354,\n",
        "  0.0,\n",
        "  2.5018764073054793e-05,\n",
        "  0.0],\n",
        " [0.7853390042531899,\n",
        "  0.04798598949211909,\n",
        "  0.0370778083562672,\n",
        "  0.012609457092819614,\n",
        "  0.03697773329997498,\n",
        "  0.0016512384288216162,\n",
        "  0.012034025519139355,\n",
        "  0.0009006755066299724,\n",
        "  0.04798598949211909,\n",
        "  0.0017012759569677257,\n",
        "  0.001551163372529397,\n",
        "  0.0003252439329497123,\n",
        "  0.012709532149111833,\n",
        "  0.0002251688766574931,\n",
        "  0.0009006755066299724,\n",
        "  2.5018764073054793e-05],\n",
        " [0.877633224918689,\n",
        "  0.029572179134350764,\n",
        "  0.028221165874405804,\n",
        "  0.001676257192894671,\n",
        "  0.028221165874405804,\n",
        "  0.0007005253940455342,\n",
        "  0.0016512384288216162,\n",
        "  2.5018764073054793e-05,\n",
        "  0.029572179134350764,\n",
        "  0.0003252439329497123,\n",
        "  0.0007005253940455342,\n",
        "  0.0,\n",
        "  0.001676257192894671,\n",
        "  0.0,\n",
        "  2.5018764073054793e-05,\n",
        "  0.0],\n",
        " [0.9748061045784339,\n",
        "  0.006179634726044533,\n",
        "  0.005979484613460095,\n",
        "  0.0002501876407305479,\n",
        "  0.005979484613460095,\n",
        "  2.5018764073054793e-05,\n",
        "  0.0002251688766574931,\n",
        "  2.5018764073054793e-05,\n",
        "  0.006179634726044533,\n",
        "  5.0037528146109585e-05,\n",
        "  2.5018764073054793e-05,\n",
        "  0.0,\n",
        "  0.0002501876407305479,\n",
        "  0.0,\n",
        "  2.5018764073054793e-05,\n",
        "  0.0],\n",
        " [0.9083062296722542,\n",
        "  0.022341756317237928,\n",
        "  0.021115836877658244,\n",
        "  0.0013510132599449587,\n",
        "  0.021115836877658244,\n",
        "  0.0003002251688766575,\n",
        "  0.0013510132599449587,\n",
        "  0.0,\n",
        "  0.022341756317237928,\n",
        "  0.00012509382036527395,\n",
        "  0.0003002251688766575,\n",
        "  0.0,\n",
        "  0.0013510132599449587,\n",
        "  0.0,\n",
        "  0.0,\n",
        "  0.0],\n",
        " [0.9893169877408056,\n",
        "  0.0025769326995246436,\n",
        "  0.002551913935451589,\n",
        "  7.505629221916437e-05,\n",
        "  0.002551913935451589,\n",
        "  7.505629221916437e-05,\n",
        "  7.505629221916437e-05,\n",
        "  0.0,\n",
        "  0.0025769326995246436,\n",
        "  5.0037528146109585e-05,\n",
        "  7.505629221916437e-05,\n",
        "  0.0,\n",
        "  7.505629221916437e-05,\n",
        "  0.0,\n",
        "  0.0,\n",
        "  0.0],\n",
        " [0.9144858643982987,\n",
        "  0.020990743057292968,\n",
        "  0.01993995496622467,\n",
        "  0.0010507880910683013,\n",
        "  0.01993995496622467,\n",
        "  0.0002501876407305479,\n",
        "  0.0010507880910683013,\n",
        "  0.0,\n",
        "  0.020990743057292968,\n",
        "  0.0,\n",
        "  0.0002501876407305479,\n",
        "  0.0,\n",
        "  0.0010507880910683013,\n",
        "  0.0,\n",
        "  0.0,\n",
        "  0.0],\n",
        " [0.777182887165374,\n",
        "  0.04808606454841131,\n",
        "  0.04433324993745309,\n",
        "  0.006554916187140355,\n",
        "  0.0443832874655992,\n",
        "  0.006880160120090068,\n",
        "  0.0063547660745559165,\n",
        "  0.0005504128096072054,\n",
        "  0.04783587690768076,\n",
        "  0.0028021015761821367,\n",
        "  0.0071053289967475605,\n",
        "  0.0004003002251688767,\n",
        "  0.006254691018263698,\n",
        "  0.0006504878658994246,\n",
        "  0.0005504128096072054,\n",
        "  7.505629221916437e-05],\n",
        " [0.9901676257192895,\n",
        "  0.0023017262947210406,\n",
        "  0.0021265949462096574,\n",
        "  0.00020015011258443834,\n",
        "  0.0021265949462096574,\n",
        "  0.00017513134851138354,\n",
        "  0.00020015011258443834,\n",
        "  0.0,\n",
        "  0.0023017262947210406,\n",
        "  2.5018764073054793e-05,\n",
        "  0.00017513134851138354,\n",
        "  0.0,\n",
        "  0.00020015011258443834,\n",
        "  0.0,\n",
        "  0.0,\n",
        "  0.0],\n",
        " [0.7427820865649237,\n",
        "  0.05831873905429072,\n",
        "  0.050612959719789845,\n",
        "  0.01008256192144108,\n",
        "  0.050437828371278456,\n",
        "  0.0022266700025018763,\n",
        "  0.009682261696272204,\n",
        "  0.0009256942707030273,\n",
        "  0.0584938704028021,\n",
        "  0.0023767825869402052,\n",
        "  0.0018764073054791093,\n",
        "  0.0005253940455341507,\n",
        "  0.010432824618463848,\n",
        "  0.00017513134851138354,\n",
        "  0.0009256942707030273,\n",
        "  0.00012509382036527395],\n",
        " [0.9658493870402802,\n",
        "  0.008481361020765575,\n",
        "  0.008356267200400301,\n",
        "  0.00015011258443832875,\n",
        "  0.008356267200400301,\n",
        "  0.0,\n",
        "  0.00015011258443832875,\n",
        "  0.0,\n",
        "  0.008481361020765575,\n",
        "  2.5018764073054793e-05,\n",
        "  0.0,\n",
        "  0.0,\n",
        "  0.00015011258443832875,\n",
        "  0.0,\n",
        "  0.0,\n",
        "  0.0],\n",
        " [0.9368276207155366,\n",
        "  0.015211408556417312,\n",
        "  0.014761070803102327,\n",
        "  0.0007005253940455342,\n",
        "  0.014761070803102327,\n",
        "  0.0004253189892419314,\n",
        "  0.0006755066299724793,\n",
        "  2.5018764073054793e-05,\n",
        "  0.015211408556417312,\n",
        "  0.0002501876407305479,\n",
        "  0.0004253189892419314,\n",
        "  0.0,\n",
        "  0.0007005253940455342,\n",
        "  0.0,\n",
        "  2.5018764073054793e-05,\n",
        "  0.0]]"
       ]
      }
     ],
     "prompt_number": 168
    },
    {
     "cell_type": "code",
     "collapsed": false,
     "input": [
      "entropies = []\n",
      "for wordFreq in allNeuronsWordFreq:\n",
      "    entropies.append(-sum([p*log2(p) for p in wordFreq if p>0]))        "
     ],
     "language": "python",
     "metadata": {},
     "outputs": [],
     "prompt_number": 170
    },
    {
     "cell_type": "code",
     "collapsed": false,
     "input": [
      "hist(entropies)"
     ],
     "language": "python",
     "metadata": {},
     "outputs": [
      {
       "metadata": {},
       "output_type": "pyout",
       "prompt_number": 171,
       "text": [
        "(array([ 3.,  6.,  1.,  3.,  2.,  3.,  1.,  0.,  1.,  2.]),\n",
        " array([ 0.07031635,  0.21512127,  0.35992618,  0.50473109,  0.64953601,\n",
        "         0.79434092,  0.93914583,  1.08395075,  1.22875566,  1.37356057,\n",
        "         1.51836549]),\n",
        " <a list of 10 Patch objects>)"
       ]
      },
      {
       "metadata": {},
       "output_type": "display_data",
       "png": "[encoded data removed]",
       "text": [
        "<matplotlib.figure.Figure at 0x534e4d0>"
       ]
      }
     ],
     "prompt_number": 171
    },
    {
     "cell_type": "code",
     "collapsed": false,
     "input": [
      "fig = gcf()\n",
      "fig.set_size_inches((12,10))\n",
      "\n",
      "ax = fig.add_subplot(2,1,1)\n",
      "ax.plot(sorted(allNeuronsWordFreq[0], reverse=True))\n",
      "ax.set_yscale('log')"
     ],
     "language": "python",
     "metadata": {},
     "outputs": [
      {
       "metadata": {},
       "output_type": "display_data",
       "png": "[encoded data removed]",
       "text": [
        "<matplotlib.figure.Figure at 0x7f49a804a710>"
       ]
      }
     ],
     "prompt_number": 190
    },
    {
     "cell_type": "markdown",
     "metadata": {},
     "source": [
      "#### How does this compare to the distribution of longer words?"
     ]
    },
    {
     "cell_type": "code",
     "collapsed": false,
     "input": [
      "n = 2\n",
      "\n",
      "wordLength = 10\n",
      "possibleBinaryWords = list(itertools.product([0, 1], repeat=wordLength))\n",
      "\n",
      "wordFreq = []\n",
      "for idx, b in enumerate(possibleBinaryWords):\n",
      "    instances = []\n",
      "    for trial in xrange(numTrialsPerCondition):\n",
      "        instances.extend([(allPinkBinarySpikes[n][0+t:wordLength+t,trial] == b).all() for t in xrange(trialLength - (wordLength - 1))])    \n",
      "    wordFreq.append(float(sum(instances))/float(len(instances)))"
     ],
     "language": "python",
     "metadata": {},
     "outputs": [],
     "prompt_number": 200
    },
    {
     "cell_type": "code",
     "collapsed": false,
     "input": [
      "fig = gcf()\n",
      "fig.set_size_inches((12,10))\n",
      "\n",
      "ax = fig.add_subplot(2,1,1)\n",
      "ax.plot(sorted(wordFreq, reverse=True))\n",
      "ax.set_yscale('log')"
     ],
     "language": "python",
     "metadata": {},
     "outputs": [
      {
       "metadata": {},
       "output_type": "display_data",
       "png": "[encoded data removed]",
       "text": [
        "<matplotlib.figure.Figure at 0x7f49a8e84a90>"
       ]
      }
     ],
     "prompt_number": 197
    },
    {
     "cell_type": "code",
     "collapsed": false,
     "input": [
      "len(wordFreq)"
     ],
     "language": "python",
     "metadata": {},
     "outputs": [
      {
       "metadata": {},
       "output_type": "pyout",
       "prompt_number": 198,
       "text": [
        "1024"
       ]
      }
     ],
     "prompt_number": 198
    },
    {
     "cell_type": "code",
     "collapsed": false,
     "input": [
      "n"
     ],
     "language": "python",
     "metadata": {},
     "outputs": [
      {
       "metadata": {},
       "output_type": "pyout",
       "prompt_number": 199,
       "text": [
        "21"
       ]
      }
     ],
     "prompt_number": 199
    },
    {
     "cell_type": "code",
     "collapsed": false,
     "input": [],
     "language": "python",
     "metadata": {},
     "outputs": []
    }
   ],
   "metadata": {}
  }
 ]
}