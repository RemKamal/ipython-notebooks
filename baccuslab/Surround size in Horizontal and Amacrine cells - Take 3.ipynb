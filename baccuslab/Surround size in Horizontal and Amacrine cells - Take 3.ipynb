{
 "metadata": {
  "name": "",
  "signature": "sha256:1a46b03900c47b9d1d1232c909225a161b2420c5e5357d6fbd2e86d78f1b2792"
 },
 "nbformat": 3,
 "nbformat_minor": 0,
 "worksheets": [
  {
   "cells": [
    {
     "cell_type": "markdown",
     "metadata": {},
     "source": [
      "## Numerically evaluating extension of Pitkow & Meister's mutual information for rate model"
     ]
    },
    {
     "cell_type": "code",
     "collapsed": false,
     "input": [
      "import numpy as np"
     ],
     "language": "python",
     "metadata": {},
     "outputs": [],
     "prompt_number": 55
    },
    {
     "cell_type": "markdown",
     "metadata": {},
     "source": [
      "#### Define functions of rate and spike count for a single LNP model  \n",
      "  \n",
      "  We'll use $I[n;s] = H(n) - H(n|s)$ using $p(n) = \\int d \\rho \\, p(n|\\rho) p(\\rho)$."
     ]
    },
    {
     "cell_type": "code",
     "collapsed": false,
     "input": [
      "def prob_rho(rho,K=48.,theta=2.0,g=5.8):\n",
      "    # default parameters come from fits to measured salamander rates (Pitkow & Meister, 2012)\n",
      "    if rho < K and rho > 0.0:\n",
      "        return (K*np.exp(-.5*((1./g)*np.log(K/rho-1.)-theta)**2))/(np.sqrt(2*pi)*g*(rho**2)*(K/rho-1.))\n",
      "    else:\n",
      "        return 0.0"
     ],
     "language": "python",
     "metadata": {},
     "outputs": [],
     "prompt_number": 56
    },
    {
     "cell_type": "code",
     "collapsed": false,
     "input": [
      "# verify that probability distribution sums to 1.\n",
      "grain = 1000.\n",
      "maxim = 1.\n",
      "rhos = np.linspace(0,maxim,grain)\n",
      "drho = maxim/grain\n",
      "cdf  = 0.\n",
      "\n",
      "for r in rhos:\n",
      "    cdf = cdf + prob_rho(r,K=maxim,theta=0.,g=1.)*drho\n",
      "print cdf"
     ],
     "language": "python",
     "metadata": {},
     "outputs": [
      {
       "output_type": "stream",
       "stream": "stdout",
       "text": [
        "0.999\n"
       ]
      }
     ],
     "prompt_number": 57
    },
    {
     "cell_type": "code",
     "collapsed": false,
     "input": [
      "# verify that probability distribution sums to 1.\n",
      "# maybe with higher gain we need better sampling\n",
      "grain = 1000000.\n",
      "maxim = 48.\n",
      "rhos = np.linspace(0,maxim,grain)\n",
      "drho = maxim/grain\n",
      "cdf  = 0.\n",
      "\n",
      "for r in rhos:\n",
      "    cdf = cdf + prob_rho(r,K=maxim)*drho\n",
      "print cdf"
     ],
     "language": "python",
     "metadata": {},
     "outputs": [
      {
       "output_type": "stream",
       "stream": "stdout",
       "text": [
        "0.685369762025\n"
       ]
      }
     ],
     "prompt_number": 58
    },
    {
     "cell_type": "code",
     "collapsed": false,
     "input": [
      "probs = [prob_rho(r) for r in rhos]\n",
      "plot(probs,'k')\n",
      "yscale('log')"
     ],
     "language": "python",
     "metadata": {},
     "outputs": [
      {
       "metadata": {},
       "output_type": "display_data",
       "png": "[encoded data removed]",
       "text": [
        "<matplotlib.figure.Figure at 0x50eb110>"
       ]
      }
     ],
     "prompt_number": 59
    },
    {
     "cell_type": "code",
     "collapsed": false,
     "input": [
      "def conditional_entropy(rho,K)"
     ],
     "language": "python",
     "metadata": {},
     "outputs": []
    }
   ],
   "metadata": {}
  }
 ]
}