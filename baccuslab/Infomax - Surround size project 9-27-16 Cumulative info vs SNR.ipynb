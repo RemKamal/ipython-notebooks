{
 "cells": [
  {
   "cell_type": "markdown",
   "metadata": {},
   "source": [
    "# Goals of this notebook:  \n",
    "### 1. colormaps at either end of SNR  \n",
    "### 2. plot of cumulative information versus SNR for various models (full, horz, ama, ideal)"
   ]
  },
  {
   "cell_type": "code",
   "execution_count": 1,
   "metadata": {
    "collapsed": false
   },
   "outputs": [],
   "source": [
    "import numpy as np\n",
    "from scipy.stats import sem\n",
    "\n",
    "# import my functions\n",
    "# import info_theory_functions as info\n",
    "from lnl_model_functions import *\n",
    "from atick_redlich_functions import *\n",
    "from get_davids_data import *\n",
    "from image_processing_functions import *\n",
    "\n",
    "# from scipy.optimize import minimize\n",
    "# from scipy import fft, arange\n",
    "# from random import randint\n",
    "# from cmath import polar\n",
    "# from numpy.fft import fft2\n",
    "# from numpy.fft import fftshift\n",
    "# from sklearn.decomposition import PCA\n",
    "# from scipy.interpolate import interp1d\n",
    "from scipy.optimize import curve_fit, minimize\n",
    "from scipy.stats import sem\n",
    "from scipy.interpolate import interp1d\n",
    "\n",
    "\n",
    "# This is a bit of magic to make matplotlib figures appear inline in the\n",
    "# notebook rather than in a new window.\n",
    "%matplotlib inline\n",
    "from matplotlib.pyplot import *\n",
    "\n",
    "# note that nonposx(y) for log plots will no longer work with this package\n",
    "# I recommend against enabling the whole notebook, since some plots come out funny.\n",
    "# Instead, just use mpld3.display() at the end of cells you want to interact with.\n",
    "import mpld3\n",
    "#mpld3.enable_notebook()\n",
    "\n",
    "from pylab import rcParams\n",
    "rcParams['figure.figsize'] = (10.0, 8.0) # set default size of plots\n",
    "rcParams['image.interpolation'] = 'nearest'\n",
    "rcParams['image.cmap'] = 'gray'\n",
    "\n",
    "# Some more magic so that the notebook will reload external python modules;\n",
    "# see http://stackoverflow.com/questions/1907993/autoreload-of-modules-in-ipython\n",
    "%load_ext autoreload\n",
    "%autoreload 2"
   ]
  },
  {
   "cell_type": "markdown",
   "metadata": {},
   "source": [
    "# Import natural images"
   ]
  },
  {
   "cell_type": "code",
   "execution_count": 2,
   "metadata": {
    "collapsed": false
   },
   "outputs": [
    {
     "name": "stdout",
     "output_type": "stream",
     "text": [
      "Only 78 files in directory.\n"
     ]
    }
   ],
   "source": [
    "# choose an image path from cd13A (flood plain, water, horizon) or cd01A (baboons, trees, bushes)\n",
    "im_path     = '/Users/lmcintosh/data/images/Tkacik/cd13A' # flood plain, water, horizon\n",
    "num_images  = 100\n",
    "patch_size  = None\n",
    "pixelsToDeg = 92./2 # or 2./92 degrees per pixel (spacing)\n",
    "spacing     = 1./pixelsToDeg # number of degree spacing between pixels\n",
    "normalize   = 'divisive'\n",
    "contrast    = 0.35\n",
    "patches     = load_images(im_path, num_images, patch_size, square=True, \n",
    "                          normalize=normalize, effective_contrast=contrast)"
   ]
  },
  {
   "cell_type": "code",
   "execution_count": 3,
   "metadata": {
    "collapsed": true
   },
   "outputs": [],
   "source": [
    "allRot  = [spectrum2d(p,spacing=spacing,frequencyFlag=False) for p in patches]\n",
    "specRot = np.mean(allRot, axis=0) # average out the amplitude spectrum over all images\n",
    "frqRot, tmp = spectrum2d(patches[0],spacing=spacing,frequencyFlag=True)\n",
    "error = [sem([allRot[j][i] for j in range(len(patches))]) for i in range(len(frqRot))]\n",
    "originalSpectra = specRot\n",
    "originalErrors  = error\n",
    "originalFreqs   = frqRot"
   ]
  },
  {
   "cell_type": "markdown",
   "metadata": {},
   "source": [
    "# Signal"
   ]
  },
  {
   "cell_type": "code",
   "execution_count": 4,
   "metadata": {
    "collapsed": false
   },
   "outputs": [
    {
     "data": {
      "image/png": "[encoded data removed]",
      "text/plain": [
       "<matplotlib.figure.Figure at 0x155afcfd0>"
      ]
     },
     "metadata": {},
     "output_type": "display_data"
    }
   ],
   "source": [
    "# interpolate signal amplitude\n",
    "# power law\n",
    "npoints = 10000\n",
    "def func(x, a, b):\n",
    "    return a/(x**b) # adding a constant tends to make moreSpectra have negative numbers\n",
    "popt, pcov  = curve_fit(func, originalFreqs[1:], originalSpectra[1:])\n",
    "more_signal_freq   = np.linspace(0., originalFreqs[-1], npoints)[1:]\n",
    "more_signal_amp = func(more_signal_freq, *popt)\n",
    "signal_interp = interp1d(more_signal_freq, more_signal_amp, kind='slinear')\n",
    "\n",
    "plt.plot(more_signal_freq, more_signal_amp, 'b', linewidth=5, alpha=0.7, label='power law interpolated natural scenes fft')\n",
    "plt.plot(originalFreqs, originalSpectra, 'k.-', markersize=20, label='original natural scenes fft')\n",
    "plt.plot(more_signal_freq, signal_interp(more_signal_freq), 'r.-', linewidth=1, label='interpolation of power law')\n",
    "plt.legend()\n",
    "plt.xlim([-0.02,0.4])\n",
    "plt.tick_params(axis='y', direction='out')\n",
    "plt.tick_params(axis='x', direction='out')\n",
    "adjust_spines(plt.gca(), ['left', 'bottom'])"
   ]
  },
  {
   "cell_type": "markdown",
   "metadata": {},
   "source": [
    "# Define range of input and output noises we're considering  \n",
    "Here I'm using the same noises used for the figure with multiple SNRs"
   ]
  },
  {
   "cell_type": "code",
   "execution_count": 5,
   "metadata": {
    "collapsed": true
   },
   "outputs": [],
   "source": [
    "noises = [(0.05, 0.1), (0.12, 0.35), (0.08, 0.2), (0.2, 0.42)]"
   ]
  },
  {
   "cell_type": "markdown",
   "metadata": {},
   "source": [
    "## Define information at a given frequency"
   ]
  },
  {
   "cell_type": "code",
   "execution_count": 6,
   "metadata": {
    "collapsed": true
   },
   "outputs": [],
   "source": [
    "def info_at_freq(freqs, signal_amplitude, filter_interpolation_function, function_const=1., input_noise=0.12, output_noise=0.35):\n",
    "    numerator = (signal_amplitude * function_const * filter_interpolation_function(freqs))**2\n",
    "    denominator = ((input_noise * function_const * filter_interpolation_function(freqs))**2 + output_noise**2)\n",
    "    return 0.5*np.log2(1.0 + (numerator/denominator))"
   ]
  },
  {
   "cell_type": "markdown",
   "metadata": {},
   "source": [
    "# Get center width from ganglion cell data"
   ]
  },
  {
   "cell_type": "code",
   "execution_count": 7,
   "metadata": {
    "collapsed": false
   },
   "outputs": [],
   "source": [
    "ganglion_rfs = load_ganglion_cells()\n",
    "interp_ganglions     = get_interp(ganglion_rfs, nPoints = 500, mode='valid')\n",
    "aligned_ganglion_rfs = np.vstack([y for x,y in interp_ganglions])\n",
    "valid_space          = interp_ganglions[0][0] - 0.25\n",
    "mean_ganglion = np.mean(aligned_ganglion_rfs, axis=0)"
   ]
  },
  {
   "cell_type": "code",
   "execution_count": 8,
   "metadata": {
    "collapsed": true
   },
   "outputs": [],
   "source": [
    "def diff_of_gaussians(space, center_width, surround_width, center_strength, surround_strength):\n",
    "    center = gaussian(x=space, sigma=center_width, mu=0)\n",
    "    surround = gaussian(x=space, sigma=surround_width, mu=0)\n",
    "    difference = center_strength * center - surround_strength * surround\n",
    "    return difference"
   ]
  },
  {
   "cell_type": "code",
   "execution_count": 9,
   "metadata": {
    "collapsed": true
   },
   "outputs": [],
   "source": [
    "def diff_of_gaussians_fixed_center(space, surround_width, center_strength, surround_strength):\n",
    "    center = gaussian(x=space, sigma=1.751050, mu=0)\n",
    "    surround = gaussian(x=space, sigma=surround_width, mu=0)\n",
    "    difference = center_strength * center - surround_strength * surround\n",
    "    return difference"
   ]
  },
  {
   "cell_type": "code",
   "execution_count": 10,
   "metadata": {
    "collapsed": false
   },
   "outputs": [
    {
     "data": {
      "text/plain": [
       "array([  1.47729653,   8.46181925,  -6.11208239, -25.92723796])"
      ]
     },
     "execution_count": 10,
     "metadata": {},
     "output_type": "execute_result"
    }
   ],
   "source": [
    "popt, pcov = curve_fit(diff_of_gaussians, valid_space, mean_ganglion, p0=[1.7, 7.4, -11, -60])\n",
    "popt"
   ]
  },
  {
   "cell_type": "code",
   "execution_count": 11,
   "metadata": {
    "collapsed": true
   },
   "outputs": [],
   "source": [
    "center_width = popt[0]"
   ]
  },
  {
   "cell_type": "code",
   "execution_count": 12,
   "metadata": {
    "collapsed": true
   },
   "outputs": [],
   "source": [
    "difference = diff_of_gaussians(valid_space, *popt)"
   ]
  },
  {
   "cell_type": "code",
   "execution_count": 13,
   "metadata": {
    "collapsed": false
   },
   "outputs": [
    {
     "data": {
      "text/plain": [
       "<matplotlib.text.Text at 0x155afcbe0>"
      ]
     },
     "execution_count": 13,
     "metadata": {},
     "output_type": "execute_result"
    },
    {
     "data": {
      "image/png": "[encoded data removed]",
      "text/plain": [
       "<matplotlib.figure.Figure at 0x155bf2be0>"
      ]
     },
     "metadata": {},
     "output_type": "display_data"
    }
   ],
   "source": [
    "plot(valid_space, mean_ganglion, 'b.-', alpha=0.5, label='mean ganglion')\n",
    "plot(valid_space, difference, 'k', label='difference of gaussians fit')\n",
    "plt.legend(loc='lower right')\n",
    "plt.xlabel('space (degress)', fontsize=18)\n",
    "plt.title('Center = %0.4f degrees std' %(popt[0]), fontsize=20)"
   ]
  },
  {
   "cell_type": "markdown",
   "metadata": {},
   "source": [
    "# Define pipeline for filters as fn of SNR"
   ]
  },
  {
   "cell_type": "markdown",
   "metadata": {},
   "source": [
    "## Find ideal filter that maximizes information"
   ]
  },
  {
   "cell_type": "code",
   "execution_count": 14,
   "metadata": {
    "collapsed": true
   },
   "outputs": [],
   "source": [
    "def filter_model(horz_weight, ama_weight, center_weight, surround_weight, center_width=1.751050):\n",
    "    # Get original data\n",
    "    horz_pfs = get_horizontal_projective_field()\n",
    "    ama_pfs  = get_amacrine_projective_field()\n",
    "\n",
    "    # get means of the projective fields\n",
    "    space_h, horz_pf, horz_sem = get_mean(horz_pfs)\n",
    "    space_a, ama_pf, ama_sem   = get_mean(ama_pfs)\n",
    "\n",
    "    # interpolate horz and ama to get a unified space; mode='valid'\n",
    "    horz_interp = interp1d(space_h, horz_pf, kind='slinear')\n",
    "    ama_interp  = interp1d(space_a, ama_pf, kind='slinear')\n",
    "    space       = np.linspace(np.max([np.min(space_h), np.min(space_a)]), np.min([np.max(space_h), np.max(space_a)]), 100)\n",
    "\n",
    "    # project interpolations on unified space\n",
    "    horz_pf     = horz_interp(space)\n",
    "    ama_pf      = ama_interp(space)\n",
    "\n",
    "    # set sampling rate\n",
    "    spacing = space[-1] - space[-2]\n",
    "\n",
    "    # make surround\n",
    "    surround = horz_weight * horz_pf + ama_weight * ama_pf\n",
    "\n",
    "    # make center\n",
    "    center = gaussian(x=space, sigma=center_width, mu=space[abs(surround)==np.max(abs(surround))]) # gaussian\n",
    "\n",
    "    # put them together\n",
    "    if len(center.shape) > 1:\n",
    "        center = center.squeeze()\n",
    "    rf = center_weight * center + surround_weight * surround\n",
    "\n",
    "    # Amplitude Spectrum of RF\n",
    "    rf_f_two_sided = abs(np.fft.fft(rf)) / np.prod(rf.shape)\n",
    "    n = len(rf_f_two_sided)\n",
    "    if n % 2 == 0:\n",
    "        rf_f_one_sided = rf_f_two_sided[:int((n/2) + 1)]\n",
    "    else:\n",
    "        rf_f_one_sided = rf_f_two_sided[:int(((n-1)/2) + 1)]\n",
    "    rf_freqs_one_sided = np.linspace(0, 1./(2*spacing), len(rf_f_one_sided))\n",
    "\n",
    "    rf_interp = interp1d(rf_freqs_one_sided, rf_f_one_sided, kind='slinear', fill_value=[0.0], bounds_error=False)\n",
    "    \n",
    "    return rf_interp"
   ]
  },
  {
   "cell_type": "code",
   "execution_count": 15,
   "metadata": {
    "collapsed": true
   },
   "outputs": [],
   "source": [
    "def info_full_fun(weights, ideal_filter_interp, input_noise, output_noise, center_width=center_width, init_filt_const=0.8):\n",
    "    horz_weight, ama_weight, center_weight, surround_weight = weights\n",
    "    \n",
    "    # get model\n",
    "    filt_interp = filter_model(horz_weight, ama_weight, center_weight, surround_weight, center_width=center_width)\n",
    "    \n",
    "    # constrain variance\n",
    "    def constrain_filt_var(filt_const):\n",
    "        output_variance = np.sum((signal_interp(more_signal_freq)*ideal_filter_interp(more_signal_freq))**2 +\n",
    "                              (input_noise * ideal_filter_interp(more_signal_freq))**2 +\n",
    "                              (output_noise)**2)\n",
    "        filt_variance = np.sum((signal_interp(more_signal_freq)*filt_const*filt_interp(more_signal_freq))**2 +\n",
    "                              (input_noise * filt_const * filt_interp(more_signal_freq))**2 +\n",
    "                              (output_noise)**2)\n",
    "\n",
    "        return (output_variance - filt_variance)**2\n",
    "    filt_const_opt = scipy.optimize.minimize(constrain_filt_var, init_filt_const)\n",
    "    filt_const = abs(filt_const_opt['x'])\n",
    "    \n",
    "    # get info\n",
    "    infos = info_at_freq(more_signal_freq, more_signal_amp, filt_interp, function_const=filt_const, input_noise=0.12, output_noise=0.35)\n",
    "    return infos"
   ]
  },
  {
   "cell_type": "code",
   "execution_count": 16,
   "metadata": {
    "collapsed": false
   },
   "outputs": [],
   "source": [
    "def surround_analysis(noise, center_width=center_width, frequencies=more_signal_freq, amplitude=more_signal_amp,\n",
    "                     return_flag='sums'):\n",
    "    \n",
    "    input_noise, output_noise = noise\n",
    "    npoints = 10000\n",
    "    cutoff = 0.4\n",
    "    init_model_const = 0.95\n",
    "    init_a_const = 0.95\n",
    "    init_h_const = 0.95\n",
    "    init_ganglion_const = 0.95\n",
    "    init_center_const = 0.95\n",
    "    \n",
    "    signal_interp = interp1d(frequencies, amplitude, kind='slinear')\n",
    "    \n",
    "    # Get ideal frequency and filter\n",
    "    freq_ideal, filt_ideal, _, _ = compare_to_experiment(frequencies, amplitude**2, \n",
    "                                                         inputNoise=input_noise, \n",
    "                                                         outputNoise=output_noise, \n",
    "                                                         verbose=False, returnFlag=True, \n",
    "                                                         numPoints=npoints, plotFlag=False)\n",
    "    \n",
    "    # make an interpolation of it\n",
    "    ideal_filter_interp = interp1d(freq_ideal, filt_ideal/np.nanmax(filt_ideal), kind='linear', \n",
    "                               bounds_error=False, fill_value='extrapolate')\n",
    "    \n",
    "    # save variance of this ideal filter\n",
    "    output_variance = np.sum((amplitude*ideal_filter_interp(frequencies))**2 +\n",
    "                          (input_noise * ideal_filter_interp(frequencies))**2 +\n",
    "                          (output_noise)**2)\n",
    "    \n",
    "    # get info for ideal filter\n",
    "    cuminfo_ideal = info_at_freq(frequencies, amplitude, ideal_filter_interp, output_noise=output_noise, input_noise=input_noise)\n",
    "    \n",
    "    # fit models; use lower frequency range just for MSE minimization, not for info calculation\n",
    "    lowerer_freqs = [f for f in frequencies if f < cutoff]\n",
    "    \n",
    "    ############ full model ############\n",
    "    model_freqs, model_fft, horz_weight, ama_weight, center_weight, surround_weight, center_width = fit_ideal(lowerer_freqs, \n",
    "                                                                                                    ideal_filter_interp(lowerer_freqs),\n",
    "                                                                                                    center_width=center_width,\n",
    "                                                                                                    returnFlag='all')\n",
    "    cuminfo_model = info_full_fun([horz_weight, ama_weight, center_weight, surround_weight], \n",
    "                                  ideal_filter_interp, input_noise, output_noise, center_width=center_width)\n",
    "    \n",
    "    ############ horizontal model ############\n",
    "    h_freqs, h_fft, center_weight, surround_weight, center_width = fit_ideal_horz_only(lowerer_freqs, \n",
    "                                                                                                    ideal_filter_interp(lowerer_freqs), \n",
    "                                                                                                    center_width=center_width,\n",
    "                                                                                                    returnFlag='all')\n",
    "    cuminfo_h = info_full_fun([1.0, 0.0, center_weight, surround_weight],\n",
    "                              ideal_filter_interp, input_noise, output_noise, center_width=center_width)\n",
    "\n",
    "    \n",
    "    ############ amacrine model ############\n",
    "    a_freqs, a_fft, center_weight, surround_weight, center_width = fit_ideal_ama_only(lowerer_freqs, \n",
    "                                                                                                    ideal_filter_interp(lowerer_freqs), \n",
    "                                                                                                    center_width=center_width,\n",
    "                                                                                                    returnFlag='all')\n",
    "    cuminfo_a = info_full_fun([0.0, 1.0, center_weight, surround_weight],\n",
    "                              ideal_filter_interp, input_noise, output_noise, center_width=center_width)\n",
    "    \n",
    "    ############ ganglion cell ############\n",
    "    rf_f_two_sided = abs(np.fft.fft(mean_ganglion-np.mean(mean_ganglion))) / np.prod(mean_ganglion.shape)\n",
    "    n = len(rf_f_two_sided)\n",
    "    if n % 2 == 0:\n",
    "        rf_f_one_sided = rf_f_two_sided[:(int(n/2) + 1)]\n",
    "    else:\n",
    "        rf_f_one_sided = rf_f_two_sided[:(int((n-1)/2) + 1)]\n",
    "    spacing = valid_space[-1] - valid_space[-2]\n",
    "    rf_freqs_one_sided = np.linspace(0, 1./(2*spacing), len(rf_f_one_sided))\n",
    "\n",
    "    ganglion_freqs = rf_freqs_one_sided\n",
    "    ganglion_amps = rf_f_one_sided\n",
    "    \n",
    "    ganglion_interp = interp1d(ganglion_freqs, ganglion_amps/np.nanmax(ganglion_amps), kind='slinear', \n",
    "                        fill_value=[0.0], bounds_error=False)\n",
    "\n",
    "    def constrain_ganglion_var(ganglion_const):\n",
    "        output_variance = np.sum((amplitude*ideal_filter_interp(frequencies))**2 +\n",
    "                              (input_noise * ideal_filter_interp(frequencies))**2 +\n",
    "                              (output_noise)**2)\n",
    "        ganglion_variance = np.sum((amplitude*ganglion_const*ganglion_interp(frequencies))**2 +\n",
    "                              (input_noise * ganglion_const * ganglion_interp(frequencies))**2 +\n",
    "                              (output_noise)**2)\n",
    "\n",
    "        return (output_variance - ganglion_variance)**2\n",
    "    \n",
    "    ganglion_const_opt = scipy.optimize.minimize(constrain_ganglion_var, init_ganglion_const)\n",
    "    ganglion_const = abs(ganglion_const_opt['x'])\n",
    "    ganglion_const_opt\n",
    "    \n",
    "    cuminfo_ganglion = info_at_freq(frequencies, amplitude, ganglion_interp, function_const=ganglion_const, output_noise=output_noise, input_noise=input_noise)\n",
    "    \n",
    "    \n",
    "    ############ center ############\n",
    "    center = gaussian(x=valid_space, sigma=center_width, mu=0)\n",
    "    rf_f_two_sided = abs(np.fft.fft(center)) / np.prod(center.shape)\n",
    "    n = len(rf_f_two_sided)\n",
    "    if n % 2 == 0:\n",
    "        rf_f_one_sided = rf_f_two_sided[:(int(n/2) + 1)]\n",
    "    else:\n",
    "        rf_f_one_sided = rf_f_two_sided[:(int((n-1)/2) + 1)]\n",
    "    spacing = valid_space[-1] - valid_space[-2]\n",
    "    rf_freqs_one_sided = np.linspace(0, 1./(2*spacing), len(rf_f_one_sided))\n",
    "\n",
    "    center_freqs = rf_freqs_one_sided\n",
    "    center_amps = rf_f_one_sided\n",
    "    \n",
    "    center_interp = interp1d(center_freqs, center_amps/np.nanmax(center_amps), kind='slinear', \n",
    "                        fill_value=[0.0], bounds_error=False)\n",
    "\n",
    "    def constrain_center_var(center_const):\n",
    "        output_variance = np.sum((amplitude*ideal_filter_interp(frequencies))**2 +\n",
    "                              (input_noise * ideal_filter_interp(frequencies))**2 +\n",
    "                              (output_noise)**2)\n",
    "        center_variance = np.sum((amplitude*center_const*center_interp(frequencies))**2 +\n",
    "                              (input_noise * center_const * center_interp(frequencies))**2 +\n",
    "                              (output_noise)**2)\n",
    "\n",
    "        return (output_variance - center_variance)**2\n",
    "\n",
    "    center_const_opt = scipy.optimize.minimize(constrain_center_var, init_center_const)\n",
    "    center_const = abs(center_const_opt['x'])\n",
    "    center_const_opt\n",
    "\n",
    "    cuminfo_center = info_at_freq(frequencies, amplitude, center_interp, function_const=center_const, output_noise=output_noise, input_noise=input_noise)\n",
    "    \n",
    "    if return_flag == 'sums':\n",
    "        return [np.sum(cuminfo_ideal), np.sum(cuminfo_ganglion), np.sum(cuminfo_model),\n",
    "               np.sum(cuminfo_h), np.sum(cuminfo_a), np.sum(cuminfo_center)]\n",
    "    else:\n",
    "        return [cuminfo_ideal, cuminfo_ganglion, cuminfo_model,\n",
    "               cuminfo_h, cuminfo_a, cuminfo_center]"
   ]
  },
  {
   "cell_type": "code",
   "execution_count": 17,
   "metadata": {
    "collapsed": false
   },
   "outputs": [
    {
     "data": {
      "text/plain": [
       "1.4772965311658066"
      ]
     },
     "execution_count": 17,
     "metadata": {},
     "output_type": "execute_result"
    }
   ],
   "source": [
    "center_width"
   ]
  },
  {
   "cell_type": "markdown",
   "metadata": {},
   "source": [
    "#### Sanity check"
   ]
  },
  {
   "cell_type": "code",
   "execution_count": 18,
   "metadata": {
    "collapsed": false
   },
   "outputs": [],
   "source": [
    "info_ideal, info_ganglion, info_model, info_h, info_a, info_center = surround_analysis([0.12, 0.35], return_flag='sums')"
   ]
  },
  {
   "cell_type": "code",
   "execution_count": 19,
   "metadata": {
    "collapsed": false
   },
   "outputs": [
    {
     "name": "stdout",
     "output_type": "stream",
     "text": [
      "[8.6367683626431386, 8.4393380919516137, 8.5647104997911327, 8.1630144600975783, 6.0567479859155844, 4.3254629488459919]\n"
     ]
    }
   ],
   "source": [
    "print([info_ideal, info_ganglion, info_model, info_h, info_a, info_center])"
   ]
  },
  {
   "cell_type": "code",
   "execution_count": 20,
   "metadata": {
    "collapsed": true
   },
   "outputs": [],
   "source": [
    "# plt.plot(more_signal_freq, info_ideal, color='#6699ff', linewidth=10, label='ideal')\n",
    "# plt.plot(more_signal_freq, info_center, 'orange', linewidth=5, label='center')\n",
    "# plt.plot(more_signal_freq, info_model, color='k', linewidth=5, label='model')\n",
    "# plt.plot(more_signal_freq, info_a, color='b', linewidth=5, label='amacrine')\n",
    "# plt.plot(more_signal_freq, info_h, color='g', linewidth=5, label='horizontal')\n",
    "# plt.plot(more_signal_freq, info_ganglion, 'k--', linewidth=2, markersize=10, label='ganglion data')\n",
    "\n",
    "# plt.xlabel('Frequency (cycles/deg)', fontsize=18)\n",
    "# plt.ylabel('Cumulative information (bits)', fontsize=18)\n",
    "# plt.legend(loc='lower right')\n",
    "# plt.tick_params(axis='y', direction='out')\n",
    "# plt.tick_params(axis='x', direction='out')\n",
    "# plt.xscale('log')\n",
    "# plt.xlim([1.6*10e-4, 10e-1])\n",
    "# adjust_spines(plt.gca(), ['left', 'bottom'])\n",
    "# plt.savefig('Cumulative_info_plot.pdf', fonttype=42)"
   ]
  },
  {
   "cell_type": "code",
   "execution_count": 21,
   "metadata": {
    "collapsed": false
   },
   "outputs": [
    {
     "data": {
      "text/plain": [
       "[(0.05, 0.1), (0.12, 0.35), (0.08, 0.2), (0.2, 0.42)]"
      ]
     },
     "execution_count": 21,
     "metadata": {},
     "output_type": "execute_result"
    }
   ],
   "source": [
    "noises"
   ]
  },
  {
   "cell_type": "code",
   "execution_count": 22,
   "metadata": {
    "collapsed": true
   },
   "outputs": [],
   "source": [
    "def compute_snr(input_noise, output_noise, filt, amplitude=more_signal_amp, mode='total'):\n",
    "    if mode == 'total':\n",
    "        signal_var = np.sum((amplitude*filt)**2)\n",
    "        noise_var = np.sum((input_noise*filt)**2 + (output_noise)**2)\n",
    "    else:\n",
    "        signal_var = (amplitude*filt)**2\n",
    "        noise_var = (input_noise*filt)**2 + (output_noise)**2\n",
    "    return signal_var/noise_var"
   ]
  },
  {
   "cell_type": "code",
   "execution_count": 23,
   "metadata": {
    "collapsed": false
   },
   "outputs": [],
   "source": [
    "npoints = 10000\n",
    "snrs = []\n",
    "info_ideals = []\n",
    "info_ganglions = []\n",
    "info_models = []\n",
    "info_hs = []\n",
    "info_as = []\n",
    "info_centers = []\n",
    "\n",
    "input_noises = np.linspace(0.01, 0.2, 20)\n",
    "output_noises = [0.35]\n",
    "\n",
    "for in_noise in input_noises:\n",
    "    for out_noise in output_noises:\n",
    "        info_ideal, info_ganglion, info_model, info_h, info_a, info_center = surround_analysis([in_noise, out_noise])\n",
    "        \n",
    "        # Get ideal frequency and filter\n",
    "        freq_ideal, filt_ideal, _, _ = compare_to_experiment(more_signal_freq, more_signal_amp**2, \n",
    "                                                             inputNoise=in_noise, \n",
    "                                                             outputNoise=out_noise, \n",
    "                                                             verbose=False, returnFlag=True, \n",
    "                                                             numPoints=npoints, plotFlag=False)\n",
    "        snr = compute_snr(in_noise, out_noise, filt_ideal, amplitude=signal_interp(freq_ideal))\n",
    "\n",
    "        snrs.append(snr)\n",
    "        info_ideals.append(info_ideal)\n",
    "        info_ganglions.append(info_ganglion)\n",
    "        info_models.append(info_model)\n",
    "        info_hs.append(info_h)\n",
    "        info_as.append(info_a)\n",
    "        info_centers.append(info_center)\n",
    "        \n",
    "        "
   ]
  },
  {
   "cell_type": "code",
   "execution_count": 24,
   "metadata": {
    "collapsed": true
   },
   "outputs": [],
   "source": [
    "# plt.plot(snrs, info_ideals, color='#6699ff', linewidth=10, label='ideal')\n",
    "# plt.plot(snrs, info_centers, 'orange', linewidth=5, label='center')\n",
    "# plt.plot(snrs, info_models, color='k', linewidth=5, label='model')\n",
    "# plt.plot(snrs, info_as, color='b', linewidth=5, label='amacrine')\n",
    "# plt.plot(snrs, info_hs, color='g', linewidth=5, label='horizontal')\n",
    "# plt.plot(snrs, info_ganglions, 'k--', linewidth=2, markersize=10, label='ganglion data')\n",
    "\n",
    "# plt.xlabel('SNRs', fontsize=18)\n",
    "# plt.ylabel('Cumulative information (bits)', fontsize=18)\n",
    "# plt.legend(loc='lower right')\n",
    "# plt.tick_params(axis='y', direction='out')\n",
    "# plt.tick_params(axis='x', direction='out')\n",
    "# # plt.xscale('log')\n",
    "# # plt.xlim([1.6*10e-4, 10e-1])\n",
    "# adjust_spines(plt.gca(), ['left', 'bottom'])\n",
    "# # plt.savefig('Cumulative_info_plot.pdf', fonttype=42)"
   ]
  },
  {
   "cell_type": "code",
   "execution_count": 25,
   "metadata": {
    "collapsed": false
   },
   "outputs": [
    {
     "data": {
      "text/plain": [
       "[0.03136039902371849,\n",
       " 0.022886116617623551,\n",
       " 0.019578467572690543,\n",
       " 0.017886654239427102,\n",
       " 0.016936395383298265,\n",
       " 0.016398486207712858,\n",
       " 0.016119482430168308,\n",
       " 0.016017435085329369,\n",
       " 0.016044119051846342,\n",
       " 0.016169308486547025,\n",
       " 0.016372785953024556,\n",
       " 0.016640498784338934,\n",
       " 0.016962295586146228,\n",
       " 0.017330551183383096,\n",
       " 0.01773931086416991,\n",
       " 0.018183788098630166,\n",
       " 0.018660104455819025,\n",
       " 0.019164929413924371,\n",
       " 0.019695343983871603,\n",
       " 0.020248855261971718]"
      ]
     },
     "execution_count": 25,
     "metadata": {},
     "output_type": "execute_result"
    }
   ],
   "source": [
    "snrs"
   ]
  },
  {
   "cell_type": "code",
   "execution_count": 26,
   "metadata": {
    "collapsed": false
   },
   "outputs": [],
   "source": [
    "# plt.plot(snrs, info_ideals, '.')\n",
    "# plt.plot(snrs, info_models)"
   ]
  },
  {
   "cell_type": "code",
   "execution_count": 27,
   "metadata": {
    "collapsed": false
   },
   "outputs": [
    {
     "ename": "TypeError",
     "evalue": "object of type 'numpy.float64' has no len()",
     "output_type": "error",
     "traceback": [
      "\u001b[0;31m---------------------------------------------------------------------------\u001b[0m",
      "\u001b[0;31mTypeError\u001b[0m                                 Traceback (most recent call last)",
      "\u001b[0;32m<ipython-input-27-f7ea76c38a2f>\u001b[0m in \u001b[0;36m<module>\u001b[0;34m()\u001b[0m\n\u001b[0;32m----> 1\u001b[0;31m \u001b[0mlen\u001b[0m\u001b[0;34m(\u001b[0m\u001b[0minfo_models\u001b[0m\u001b[0;34m[\u001b[0m\u001b[0;36m0\u001b[0m\u001b[0;34m]\u001b[0m\u001b[0;34m)\u001b[0m\u001b[0;34m\u001b[0m\u001b[0m\n\u001b[0m",
      "\u001b[0;31mTypeError\u001b[0m: object of type 'numpy.float64' has no len()"
     ]
    }
   ],
   "source": [
    "len(info_models[0])"
   ]
  },
  {
   "cell_type": "code",
   "execution_count": null,
   "metadata": {
    "collapsed": true
   },
   "outputs": [],
   "source": []
  }
 ],
 "metadata": {
  "kernelspec": {
   "display_name": "Python 3",
   "language": "python",
   "name": "python3"
  },
  "language_info": {
   "codemirror_mode": {
    "name": "ipython",
    "version": 3
   },
   "file_extension": ".py",
   "mimetype": "text/x-python",
   "name": "python",
   "nbconvert_exporter": "python",
   "pygments_lexer": "ipython3",
   "version": "3.5.1"
  }
 },
 "nbformat": 4,
 "nbformat_minor": 0
}
