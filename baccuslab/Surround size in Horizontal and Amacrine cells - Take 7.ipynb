{
 "metadata": {
  "name": "",
  "signature": "sha256:872656b30cd31da962a411ddd9f52999a81adffa3bd47231d9839449e012a42b"
 },
 "nbformat": 3,
 "nbformat_minor": 0,
 "worksheets": [
  {
   "cells": [
    {
     "cell_type": "code",
     "collapsed": false,
     "input": [
      "import numpy as np\n",
      "import brewer2mpl\n",
      "from math import tanh\n",
      "from scipy.optimize import minimize\n",
      "from scipy.interpolate import interp1d\n",
      "import time\n",
      "#from datetime import datetime"
     ],
     "language": "python",
     "metadata": {},
     "outputs": [],
     "prompt_number": 1
    },
    {
     "cell_type": "code",
     "collapsed": false,
     "input": [
      "cd .."
     ],
     "language": "python",
     "metadata": {},
     "outputs": [
      {
       "output_type": "stream",
       "stream": "stdout",
       "text": [
        "/home/lane\n"
       ]
      }
     ],
     "prompt_number": 2
    },
    {
     "cell_type": "code",
     "collapsed": false,
     "input": [
      "cd information-theory-toolbox/"
     ],
     "language": "python",
     "metadata": {},
     "outputs": [
      {
       "output_type": "stream",
       "stream": "stdout",
       "text": [
        "/home/lane/information-theory-toolbox\n"
       ]
      }
     ],
     "prompt_number": 3
    },
    {
     "cell_type": "code",
     "collapsed": false,
     "input": [
      "from info_theory_functions import *"
     ],
     "language": "python",
     "metadata": {},
     "outputs": [],
     "prompt_number": 4
    },
    {
     "cell_type": "code",
     "collapsed": false,
     "input": [
      "cd .."
     ],
     "language": "python",
     "metadata": {},
     "outputs": [
      {
       "output_type": "stream",
       "stream": "stdout",
       "text": [
        "/home/lane\n"
       ]
      }
     ],
     "prompt_number": 5
    },
    {
     "cell_type": "code",
     "collapsed": false,
     "input": [
      "cd iPython_notebooks/"
     ],
     "language": "python",
     "metadata": {},
     "outputs": [
      {
       "output_type": "stream",
       "stream": "stdout",
       "text": [
        "/home/lane/iPython_notebooks\n"
       ]
      }
     ],
     "prompt_number": 6
    },
    {
     "cell_type": "markdown",
     "metadata": {},
     "source": [
      "# Functions"
     ]
    },
    {
     "cell_type": "code",
     "collapsed": false,
     "input": [
      "def nonlinearity(x,K=1.,g=1.,theta=0.,mode='sigmoid',normalized=False):\n",
      "    if normalized:\n",
      "        if mode == 'sigmoid':\n",
      "            n = K/(1+np.exp(-g*(x - theta)))\n",
      "        elif mode == 'tanh':\n",
      "            if type(x)==list or type(x)==numpy.ndarray:\n",
      "                n = [g*tanh(a-theta) + K - g for a in x]\n",
      "            else:\n",
      "                n = g*tanh(x-theta) + K - g\n",
      "        return np.array(n)/np.sqrt(np.var(np.array(n)))\n",
      "    else:\n",
      "        if mode == 'sigmoid':\n",
      "            return K/(1+np.exp(-g*(x - theta)))\n",
      "        elif mode == 'tanh':\n",
      "            if type(x)==list or type(x)==numpy.ndarray:\n",
      "                return [g*tanh(a-theta) + K - g for a in x]\n",
      "            else:\n",
      "                return g*tanh(x-theta) + K - g"
     ],
     "language": "python",
     "metadata": {},
     "outputs": [],
     "prompt_number": 7
    },
    {
     "cell_type": "code",
     "collapsed": false,
     "input": [
      "def gaussian(xs=np.linspace(-5,5,50),sigma=1.,mu=0.):\n",
      "     return np.array([(1./(2.*pi*sigma**2))*np.exp((-(x-mu)**2.)/(2.*sigma**2)) for x in xs])"
     ],
     "language": "python",
     "metadata": {},
     "outputs": [],
     "prompt_number": 8
    },
    {
     "cell_type": "code",
     "collapsed": false,
     "input": [
      "def center_1d(center_scale=1.,center_width=1.,surround_width=2.,xs_num=50):\n",
      "    xs_all=np.linspace(-5,5,xs_num)\n",
      "    center = gaussian(xs=xs_all,sigma=center_width,mu=0.)\n",
      "    center = center/np.sum(center)\n",
      "    return center    "
     ],
     "language": "python",
     "metadata": {},
     "outputs": [],
     "prompt_number": 78
    },
    {
     "cell_type": "code",
     "collapsed": false,
     "input": [
      "def surround_1d(center_scale=1.,center_width=1.,surround_width=2.,xs_num=50):\n",
      "    '''ratio = integral of surround/integral of center\n",
      "       center_scale = integral of center\n",
      "       center_width = variance of the center gaussian\n",
      "       surround_width = variance of the surround gaussian\n",
      "       xs = the number of points computed'''\n",
      "    xs_all=np.linspace(-5,5,xs_num)\n",
      "    surround = gaussian(xs=xs_all,sigma=surround_width,mu=0.)\n",
      "    surround = surround/np.sum(surround)\n",
      "    return surround"
     ],
     "language": "python",
     "metadata": {},
     "outputs": [],
     "prompt_number": 79
    },
    {
     "cell_type": "code",
     "collapsed": false,
     "input": [
      "def spatial_filter_2d(c_scale=1.,c_width=1.,s_width=2.,xs_num=50):\n",
      "    xs = np.linspace(-5,5,xs_num)\n",
      "    S = surround_1d(center_scale=c_scale,center_width=c_width,surround_width=s_width,xs_num=xs_num)\n",
      "    C = center_1d(center_scale=c_scale,center_width=c_width,surround_width=s_width,xs_num=xs_num)\n",
      "    S_2d = zeros((len(S),len(S)))\n",
      "    C_2d = zeros((len(C),len(C)))\n",
      "    for idx,x in enumerate(xs):\n",
      "        for idy,y in enumerate(xs):\n",
      "            S_2d[idx,idy] = S[np.min([int(np.sqrt((idx-np.floor(len(xs)/2.))**2 \n",
      "                                                     + (idy-np.floor(len(xs)/2.))**2) + np.floor(len(xs)/2.)), len(xs)-1])]\n",
      "            C_2d[idx,idy] = C[np.min([int(np.sqrt((idx-np.floor(len(xs)/2.))**2 \n",
      "                                                     + (idy-np.floor(len(xs)/2.))**2) + np.floor(len(xs)/2.)), len(xs)-1])]\n",
      "    # Make all surrounds have same peak sensitivity of 1.\n",
      "    S_2d = S_2d/np.max(S_2d)\n",
      "    # Make center have same integral as surround\n",
      "    C_2d = (np.sum(S_2d)/np.sum(C_2d))*C_2d\n",
      "    X = C_2d - S_2d\n",
      "    \n",
      "    return X/np.sqrt(np.var(X))"
     ],
     "language": "python",
     "metadata": {},
     "outputs": [],
     "prompt_number": 232
    },
    {
     "cell_type": "markdown",
     "metadata": {},
     "source": [
      "#### It seems from the interaction below that we can just fix the ratio for the time being, and then verify later that scale doesn't affect the results."
     ]
    },
    {
     "cell_type": "code",
     "collapsed": false,
     "input": [
      "from IPython.html.widgets import interact, interactive, fixed\n",
      "from IPython.html import widgets\n",
      "\n",
      "bmap = brewer2mpl.get_map('Greys','sequential',8,reverse=True).mpl_colormap\n",
      "def f(y,z,w):\n",
      "    fig = gcf()\n",
      "    fig.set_size_inches((10,3))\n",
      "    \n",
      "    subplot(1,2,1)\n",
      "    X_2d = spatial_filter_2d(c_scale=y,c_width=z,s_width=w,xs_num=15)\n",
      "    imshow(X_2d,cmap=bmap,interpolation='nearest')\n",
      "    colorbar()\n",
      "    \n",
      "    subplot(1,2,2)\n",
      "    plot(X_2d[len(X_2d)/2,:],'k')\n",
      "    print \"Variance is %f, sum is %f\" % (np.var(X_2d),np.sum(X_2d))\n",
      "\n",
      "blah = interact(f,y=50.,z=0.25,w=1.)"
     ],
     "language": "python",
     "metadata": {},
     "outputs": [
      {
       "output_type": "stream",
       "stream": "stdout",
       "text": [
        "Variance is 1.000000, sum is 0.000000\n"
       ]
      },
      {
       "metadata": {},
       "output_type": "display_data",
       "png": "[encoded data removed]",
       "text": [
        "<matplotlib.figure.Figure at 0xf173910>"
       ]
      }
     ],
     "prompt_number": 234
    },
    {
     "cell_type": "markdown",
     "metadata": {},
     "source": [
      "## Natural images"
     ]
    },
    {
     "cell_type": "code",
     "collapsed": false,
     "input": [
      "import array\n",
      "from PIL import Image\n",
      "import glob, os"
     ],
     "language": "python",
     "metadata": {},
     "outputs": [],
     "prompt_number": 15
    },
    {
     "cell_type": "code",
     "collapsed": false,
     "input": [
      "cd ~/Natural_images/imc"
     ],
     "language": "python",
     "metadata": {},
     "outputs": [
      {
       "output_type": "stream",
       "stream": "stdout",
       "text": [
        "/home/lane/Natural_images/imc\n"
       ]
      }
     ],
     "prompt_number": 16
    },
    {
     "cell_type": "code",
     "collapsed": false,
     "input": [
      "def linear_prediction_natural(stimulus,sfilter,posx=0,posy=0):\n",
      "    '''stimulus is space x 1 or space x space\n",
      "       full_filter is space x time\n",
      "    '''\n",
      "    if shape(stimulus)[0] > shape(sfilter)[0]:\n",
      "        padded_spatial_filter = zeros((shape(stimulus)[0],shape(stimulus)[1]))\n",
      "        if posx > shape(stimulus)[0]:\n",
      "            print('posx is larger than spatial extent of stimulus')\n",
      "        if posy > shape(stimulus)[1]:\n",
      "            print('posy is larger than spatial extent of stimulus')\n",
      "        remainder_x = np.min([shape(stimulus)[0] - posx, shape(sfilter)[0]])\n",
      "        remainder_y = np.min([shape(stimulus)[1] - posy, shape(sfilter)[1]])\n",
      "        padded_spatial_filter[posx:posx+remainder_x,posy:posy+remainder_y] = sfilter[0:remainder_x,0:remainder_y]\n",
      "        sfilter = padded_spatial_filter\n",
      "\n",
      "    if shape(stimulus)[0] < shape(sfilter)[0]:\n",
      "        msg = 'Filter is too large; stim shape is (%d,%d), filter shape is (%d,%d)' % (shape(stimulus)[0],shape(stimulus)[1],\n",
      "                                                                                       shape(sfilter)[0],shape(sfilter)[1])\n",
      "        print(msg)\n",
      "\n",
      "    return np.sum(stimulus*sfilter)"
     ],
     "language": "python",
     "metadata": {},
     "outputs": [],
     "prompt_number": 17
    },
    {
     "cell_type": "code",
     "collapsed": false,
     "input": [
      "def lnl_natural(stimulus,s_width1,s_width2,c_scale1=50.,c_scale2=50.,c_width1=0.25,c_width2=0.25,numSubunits=16,\n",
      "        noise_model='after-nonlinearity',\n",
      "        xs_size1=16,xs_size2=16):\n",
      "    \n",
      "    SNR = 1000.\n",
      "    \n",
      "    # NORMALIZE STIMULUS\n",
      "    stimulus = stimulus/np.sqrt(np.var(stimulus))\n",
      "    stimulus = stimulus - np.mean(stimulus)\n",
      "    \n",
      "    # CREATE FILTERS\n",
      "    X_2d1 = spatial_filter_2d(c_scale=c_scale1,c_width=c_width1,s_width=s_width1,xs_num=xs_size1)\n",
      "    X_2d2 = spatial_filter_2d(c_scale=c_scale2,c_width=c_width2,s_width=s_width2,xs_num=xs_size2)\n",
      "    \n",
      "    # DETERMINE SPACING OF L-N SUBUNITS\n",
      "    spacing_x = np.linspace(0,shape(stimulus)[0],numSubunits+2)\n",
      "    spacing_x = spacing_x[1:-1].astype(int)\n",
      "    spacing_y = np.linspace(0,shape(stimulus)[1],numSubunits+2)\n",
      "    spacing_y = spacing_y[1:-1].astype(int)\n",
      "    \n",
      "    # MAKE NONLINEARITY BE CDF OF FILTERED STANDARD GAUSSIAN\n",
      "    nSamples = 100\n",
      "    num_bins = 50\n",
      "    pad_interpolation = 100\n",
      "    tmp = randn(xs_size1,xs_size1,nSamples)\n",
      "    fil1 = np.array([np.sum(tmp[:,:,t]*X_2d1) for t in xrange(nSamples)])\n",
      "    if xs_size1 == xs_size2:\n",
      "        fil2 = np.array([np.sum(tmp[:,:,t]*X_2d2) for t in xrange(nSamples)])\n",
      "    else:\n",
      "        print \"xs_size1 ~= xs_size2\"\n",
      "    #counts, bin_edges = numpy.histogram(fil, bins=num_bins, normed=True)\n",
      "    #cdf = numpy.cumsum(counts)\n",
      "    #cdf = cdf/np.max(cdf)\n",
      "    #cdf = np.insert(cdf,0,np.zeros(pad_interpolation,))\n",
      "    #cdf = np.append(cdf,np.ones(pad_interpolation))\n",
      "    #arrange_back = np.array(range(pad_interpolation-1)[::-1])+1\n",
      "    #arrange_forw = np.array(range(pad_interpolation))+1\n",
      "    #bin_edges = np.insert(bin_edges,0,bin_edges[0]*np.ones(pad_interpolation-1)-arrange_back*(bin_edges[1]-bin_edges[0]))\n",
      "    #bin_edges = np.append(bin_edges,bin_edges[-1]*np.ones(pad_interpolation)+arrange_forw*(bin_edges[-1]-bin_edges[-2]))\n",
      "    #nonlinear = interp1d(bin_edges,cdf)\n",
      "    threshold = np.sqrt(np.var(fil1))\n",
      "    gain      = 0.25 # should this depend on the filter?\n",
      "    \n",
      "    # FILTER STIMULUS\n",
      "    ls = [linear_prediction_natural(stimulus,sfilter=X_2d1,posx=i,posy=j) for i in spacing_x for j in spacing_y]\n",
      "    \n",
      "    # TAKE NONLINEAR TRANSFORMATION OF FILTER OUTPUT\n",
      "    if noise_model == 'after-nonlinearity':\n",
      "        #ns = [nonlinear(l) + np.sqrt(1./SNR)*randn(1) for l in ls]\n",
      "        ns = [nonlinearity(l,g=gain,theta=threshold) + np.sqrt(np.var(ls)/SNR)*randn(1) for l in ls]\n",
      "    else:\n",
      "        ns = [nonlinearity(l,g=gain,theta=threshold) for l in ls]\n",
      "    \n",
      "    # FILTER NONLINEAR OUTPUT\n",
      "    if noise_model == 'after-second-filter':\n",
      "        rs = linear_prediction_natural(np.reshape(np.array(ns),(xs_size2,xs_size2)),sfilter=X_2d2,posx=0,posy=0) + np.sqrt(np.var(fil2.flat)/SNR)*randn(1)\n",
      "    else:\n",
      "        rs = linear_prediction_natural(np.array(ns),sfilter=X_2d2,posx=0,posy=0)\n",
      "    \n",
      "    return ls,ns,rs"
     ],
     "language": "python",
     "metadata": {},
     "outputs": [],
     "prompt_number": 189
    },
    {
     "cell_type": "markdown",
     "metadata": {},
     "source": [
      "## Investigate parameter space for natural images"
     ]
    },
    {
     "cell_type": "code",
     "collapsed": false,
     "input": [
      "# Surround width (starting now at 0.3 (compared to center width of 0.25), so that the surround doesn't become the center)\n",
      "s_width  = np.linspace(0.3,6,10)"
     ],
     "language": "python",
     "metadata": {},
     "outputs": [],
     "prompt_number": 224
    },
    {
     "cell_type": "markdown",
     "metadata": {},
     "source": [
      "#### Get image data"
     ]
    },
    {
     "cell_type": "code",
     "collapsed": false,
     "input": [
      "from os import listdir\n",
      "from os.path import isfile, join\n",
      "import os"
     ],
     "language": "python",
     "metadata": {},
     "outputs": [],
     "prompt_number": 175
    },
    {
     "cell_type": "code",
     "collapsed": false,
     "input": [
      "curr_dir = os.getcwd()\n",
      "allfiles = [f for f in listdir(curr_dir) if isfile(join(curr_dir,f)) and '.imc' in f]"
     ],
     "language": "python",
     "metadata": {},
     "outputs": [],
     "prompt_number": 176
    },
    {
     "cell_type": "code",
     "collapsed": false,
     "input": [
      "numImages = 20\n",
      "curr_dir  = os.getcwd()\n",
      "allfiles  = [f for f in listdir(curr_dir) if isfile(join(curr_dir,f)) and '.imc' in f]\n",
      "names     = allfiles[:numImages]\n",
      "\n",
      "img_patches = []\n",
      "patch_size = 32\n",
      "for im in names:\n",
      "    fin = open( im, 'rb' )\n",
      "    s = fin.read()\n",
      "    fin.close()\n",
      "    arr = array.array('H', s)\n",
      "    arr.byteswap()\n",
      "    img = numpy.array(arr, dtype='uint16').reshape(1024,1536)\n",
      "    img_center = [shape(img)[0]/2,shape(img)[1]/2]\n",
      "    img_patch = img[img_center[0]:img_center[0]+patch_size,img_center[1]:img_center[1]+patch_size]\n",
      "    img_patch = img_patch/np.sqrt(np.var(img_patch))\n",
      "    img_patches.append(img_patch - np.mean(img_patch))"
     ],
     "language": "python",
     "metadata": {},
     "outputs": [],
     "prompt_number": 177
    },
    {
     "cell_type": "code",
     "collapsed": false,
     "input": [
      "I = zeros((len(s_width),len(s_width)))\n",
      "H_rs = zeros((len(s_width),len(s_width)))\n",
      "H_r_s_avg = zeros((len(s_width),len(s_width)))\n",
      "rss = []\n",
      "for ids1,s1 in enumerate(s_width):\n",
      "    for ids2,s2 in enumerate(s_width):\n",
      "        start = time.time()                     \n",
      "        iterations = 80\n",
      "        output     = zeros((numImages,iterations))\n",
      "\n",
      "        for idi in xrange(numImages):\n",
      "            for it in xrange(iterations):\n",
      "                ls,ns,output[idi,it] = lnl_natural(img_patches[idi],\n",
      "                                                   s_width1=s1,\n",
      "                                                   s_width2=s2,\n",
      "                                                   noise_model='after-second-filter')\n",
      "\n",
      "        nBins = 10\n",
      "        # pad binning in off-chance that output has zero entropy\n",
      "        binning = np.linspace(np.min(output)-10e-5,np.max(output)+10e-5,nBins+1)\n",
      "\n",
      "        H_r = entropy(output.flat,Bins=[binning])\n",
      "        H_r_s = []\n",
      "        for s in xrange(int(numImages)):\n",
      "            H_r_s.append(entropy(output[s,:],Bins=[binning]))\n",
      "        I[ids1,ids2] = H_r - np.mean(H_r_s)\n",
      "        H_rs[ids1,ids2] = H_r\n",
      "        H_r_s_avg[ids1,ids2] = np.mean(H_r_s)\n",
      "\n",
      "        msg = 'Current sweep is (%d,%d) of (%d,%d).' % (ids1,ids2,len(s_width)-1,len(s_width)-1)\n",
      "        print msg,' It took', time.time()-start, 'seconds.'        "
     ],
     "language": "python",
     "metadata": {},
     "outputs": [
      {
       "output_type": "stream",
       "stream": "stdout",
       "text": [
        "Current sweep is (0,0) of (9,9).  It took 211.177268982 seconds.\n",
        "Current sweep is (0,1) of (9,9)."
       ]
      },
      {
       "output_type": "stream",
       "stream": "stdout",
       "text": [
        "  It took 211.688513041 seconds.\n",
        "Current sweep is (0,2) of (9,9)."
       ]
      }
     ]
    },
    {
     "cell_type": "markdown",
     "metadata": {},
     "source": [
      "### Visualize results"
     ]
    },
    {
     "cell_type": "code",
     "collapsed": false,
     "input": [
      "fig = gcf()\n",
      "fig.set_size_inches((16,10))\n",
      "\n",
      "bmap = brewer2mpl.get_map('RdYlBu','diverging',8,reverse=True).mpl_colormap\n",
      "\n",
      "\n",
      "imshow(I[::-1,:],interpolation='nearest',cmap=bmap, extent=[s_width[0],s_width[-1],s_width[0],s_width[-1]])\n",
      "colorbar()\n",
      "ylabel('small - Filter 1 size - large',fontsize=14)\n",
      "xlabel('small - Filter 2 size - large',fontsize=14)\n",
      "title('Information transmission in LNL model',fontsize=16)\n",
      "\n",
      "savefig('AAA - Information transmission LNL.eps')"
     ],
     "language": "python",
     "metadata": {},
     "outputs": [
      {
       "metadata": {},
       "output_type": "display_data",
       "png": "[encoded data removed]",
       "text": [
        "<matplotlib.figure.Figure at 0xa81ca10>"
       ]
      }
     ],
     "prompt_number": 225
    },
    {
     "cell_type": "markdown",
     "metadata": {},
     "source": [
      "There's something very funky going on with extent; adding extent to imshow just flipped the matrix across the x axis"
     ]
    },
    {
     "cell_type": "markdown",
     "metadata": {},
     "source": [
      "Now the graph above is correct."
     ]
    },
    {
     "cell_type": "code",
     "collapsed": false,
     "input": [
      "I"
     ],
     "language": "python",
     "metadata": {},
     "outputs": [
      {
       "metadata": {},
       "output_type": "pyout",
       "prompt_number": 192,
       "text": [
        "array([[ 1.16848345,  1.13217192,  1.07825558,  1.00552347,  0.92814975,\n",
        "         0.96332404,  0.98412416,  0.92817904,  0.9044505 ,  0.94142028],\n",
        "       [ 1.38349043,  1.5263728 ,  1.47945439,  1.38920818,  1.34299469,\n",
        "         1.33800577,  1.306343  ,  1.31706876,  1.33111504,  1.27303294],\n",
        "       [ 1.79758945,  1.8006762 ,  1.74635296,  1.63235628,  1.61543524,\n",
        "         1.59161552,  1.53881845,  1.56531112,  1.5653491 ,  1.50970406],\n",
        "       [ 1.76245215,  1.85233203,  1.84521985,  1.71797393,  1.59514993,\n",
        "         1.56730022,  1.52098191,  1.57460562,  1.50346823,  1.51321999],\n",
        "       [ 1.77979432,  1.93619693,  1.84206255,  1.74128401,  1.6319005 ,\n",
        "         1.59012519,  1.56260494,  1.51791247,  1.53630642,  1.46932113],\n",
        "       [ 1.73306738,  1.98446377,  1.84109429,  1.67977251,  1.63359775,\n",
        "         1.61782914,  1.53863061,  1.58741024,  1.57919261,  1.5133495 ],\n",
        "       [ 1.75224071,  1.92621935,  1.86947888,  1.72965339,  1.63898396,\n",
        "         1.57437037,  1.55773326,  1.54199175,  1.53408181,  1.51758571],\n",
        "       [ 1.77315477,  1.95678552,  1.90523497,  1.64620833,  1.61831655,\n",
        "         1.58861077,  1.50989271,  1.55442735,  1.53570426,  1.50548938],\n",
        "       [ 1.7451432 ,  1.84447504,  1.84383405,  1.64249819,  1.63237861,\n",
        "         1.5930031 ,  1.5442804 ,  1.53964893,  1.54296118,  1.49150008],\n",
        "       [ 1.76093995,  2.00390057,  1.84603434,  1.7519257 ,  1.63133716,\n",
        "         1.54446946,  1.59077213,  1.55648435,  1.53698206,  1.50931936]])"
       ]
      }
     ],
     "prompt_number": 192
    },
    {
     "cell_type": "code",
     "collapsed": false,
     "input": [
      "I_keep = I\n",
      "H_rs_keep = H_rs\n",
      "H_r_s_avg_keep = H_r_s_avg"
     ],
     "language": "python",
     "metadata": {},
     "outputs": [],
     "prompt_number": 229
    },
    {
     "cell_type": "code",
     "collapsed": false,
     "input": [
      "I[5,0]"
     ],
     "language": "python",
     "metadata": {},
     "outputs": [
      {
       "metadata": {},
       "output_type": "pyout",
       "prompt_number": 35,
       "text": [
        "0.0"
       ]
      }
     ],
     "prompt_number": 35
    },
    {
     "cell_type": "code",
     "collapsed": false,
     "input": [
      "fig = gcf()\n",
      "fig.set_size_inches((16,10))\n",
      "\n",
      "bmap = brewer2mpl.get_map('RdYlBu','diverging',8,reverse=True).mpl_colormap\n",
      "\n",
      "subplot(1,2,1)\n",
      "imshow(H_rs[::-1,:],interpolation='nearest',cmap=bmap,extent=[s_width[0],s_width[-1],s_width[0],s_width[-1]])\n",
      "colorbar()\n",
      "ylabel('small - Filter 1 size - large',fontsize=14)\n",
      "xlabel('small - Filter 2 size - large',fontsize=14)\n",
      "title('Total response entropy',fontsize=16)\n",
      "\n",
      "subplot(1,2,2)\n",
      "imshow(H_r_s_avg[::-1,:],interpolation='nearest',cmap=bmap,extent=[s_width[0],s_width[-1],s_width[0],s_width[-1]])\n",
      "colorbar()\n",
      "ylabel('small - Filter 1 size - large',fontsize=14)\n",
      "xlabel('small - Filter 2 size - large',fontsize=14)\n",
      "title('Conditional entropy',fontsize=16)\n",
      "\n",
      "savefig('AAA - Entropy breakdown.eps')"
     ],
     "language": "python",
     "metadata": {},
     "outputs": [
      {
       "metadata": {},
       "output_type": "display_data",
       "png": "[encoded data removed]",
       "text": [
        "<matplotlib.figure.Figure at 0x138b2650>"
       ]
      }
     ],
     "prompt_number": 226
    },
    {
     "cell_type": "code",
     "collapsed": false,
     "input": [
      "s_width"
     ],
     "language": "python",
     "metadata": {},
     "outputs": [
      {
       "metadata": {},
       "output_type": "pyout",
       "prompt_number": 41,
       "text": [
        "array([ 0.3       ,  0.93333333,  1.56666667,  2.2       ,  2.83333333,\n",
        "        3.46666667,  4.1       ,  4.73333333,  5.36666667,  6.        ])"
       ]
      }
     ],
     "prompt_number": 41
    },
    {
     "cell_type": "code",
     "collapsed": false,
     "input": [
      "WhyZero = spatial_filter_2d(c_scale=50.,c_width=.25,s_width=s_width[0],xs_num=16)"
     ],
     "language": "python",
     "metadata": {},
     "outputs": [],
     "prompt_number": 42
    },
    {
     "cell_type": "code",
     "collapsed": false,
     "input": [
      "imshow(WhyZero,interpolation='nearest',cmap=bmap)\n",
      "colorbar()"
     ],
     "language": "python",
     "metadata": {},
     "outputs": [
      {
       "metadata": {},
       "output_type": "pyout",
       "prompt_number": 44,
       "text": [
        "<matplotlib.colorbar.Colorbar instance at 0x78a47a0>"
       ]
      },
      {
       "metadata": {},
       "output_type": "display_data",
       "png": "[encoded data removed]",
       "text": [
        "<matplotlib.figure.Figure at 0x7ce4910>"
       ]
      }
     ],
     "prompt_number": 44
    },
    {
     "cell_type": "code",
     "collapsed": false,
     "input": [
      "var(WhyZero)"
     ],
     "language": "python",
     "metadata": {},
     "outputs": [
      {
       "metadata": {},
       "output_type": "pyout",
       "prompt_number": 45,
       "text": [
        "1.1199861721833584e-05"
       ]
      }
     ],
     "prompt_number": 45
    },
    {
     "cell_type": "code",
     "collapsed": false,
     "input": [
      "np.var(spatial_filter_2d(c_scale=50.,c_width=.25,s_width=s_width[6],xs_num=16))"
     ],
     "language": "python",
     "metadata": {},
     "outputs": [
      {
       "metadata": {},
       "output_type": "pyout",
       "prompt_number": 51,
       "text": [
        "97.347943310573427"
       ]
      }
     ],
     "prompt_number": 51
    },
    {
     "cell_type": "code",
     "collapsed": false,
     "input": [
      "ControlForVar = WhyZero/np.var(WhyZero)"
     ],
     "language": "python",
     "metadata": {},
     "outputs": [],
     "prompt_number": 52
    },
    {
     "cell_type": "code",
     "collapsed": false,
     "input": [
      "np.sum(ControlForVar)"
     ],
     "language": "python",
     "metadata": {},
     "outputs": [
      {
       "metadata": {},
       "output_type": "pyout",
       "prompt_number": 53,
       "text": [
        "-1.2732779451616874e-10"
       ]
      }
     ],
     "prompt_number": 53
    },
    {
     "cell_type": "code",
     "collapsed": false,
     "input": [
      "imshow(ControlForVar,interpolation='nearest',cmap=bmap)\n",
      "colorbar()"
     ],
     "language": "python",
     "metadata": {},
     "outputs": [
      {
       "metadata": {},
       "output_type": "pyout",
       "prompt_number": 54,
       "text": [
        "<matplotlib.colorbar.Colorbar instance at 0x8070ea8>"
       ]
      },
      {
       "metadata": {},
       "output_type": "display_data",
       "png": "[encoded data removed]",
       "text": [
        "<matplotlib.figure.Figure at 0x7b06190>"
       ]
      }
     ],
     "prompt_number": 54
    },
    {
     "cell_type": "code",
     "collapsed": false,
     "input": [
      "ls,ns,tmp = lnl_natural(img_patches[5],s_width1=s_width[4],s_width2=s_width[-1])"
     ],
     "language": "python",
     "metadata": {},
     "outputs": [],
     "prompt_number": 171
    },
    {
     "cell_type": "code",
     "collapsed": false,
     "input": [
      "shape(ns)"
     ],
     "language": "python",
     "metadata": {},
     "outputs": [
      {
       "metadata": {},
       "output_type": "pyout",
       "prompt_number": 188,
       "text": [
        "(256, 1)"
       ]
      }
     ],
     "prompt_number": 188
    },
    {
     "cell_type": "code",
     "collapsed": false,
     "input": [
      "tmp"
     ],
     "language": "python",
     "metadata": {},
     "outputs": [
      {
       "metadata": {},
       "output_type": "pyout",
       "prompt_number": 172,
       "text": [
        "0.23799512507751755"
       ]
      }
     ],
     "prompt_number": 172
    },
    {
     "cell_type": "code",
     "collapsed": false,
     "input": [
      "ls"
     ],
     "language": "python",
     "metadata": {},
     "outputs": [
      {
       "metadata": {},
       "output_type": "pyout",
       "prompt_number": 149,
       "text": [
        "[-2.6698324627518635,\n",
        " -4.7742338961459243,\n",
        " -8.418155126772513,\n",
        " 2.6307006695043249,\n",
        " -4.7427525257206078,\n",
        " 5.8235224700538852,\n",
        " -5.6610696576816224,\n",
        " 2.575706204290638,\n",
        " -1.3826329785856353,\n",
        " -8.2324892058794408,\n",
        " 2.8283279386591493,\n",
        " -8.7706750812732519,\n",
        " -3.1316196217215495,\n",
        " 5.0991321719455769,\n",
        " -1.5600645473130808,\n",
        " -0.19154404083497639,\n",
        " 7.3401088895356965,\n",
        " 0.048027079665726918,\n",
        " -5.7742569498217371,\n",
        " -3.6802555521077003,\n",
        " -7.4731023323533776,\n",
        " 20.104656247552622,\n",
        " -3.9547481317352884,\n",
        " -5.084395600645121,\n",
        " -5.9925822688039334,\n",
        " 17.900310659742271,\n",
        " -10.966536402350895,\n",
        " 3.0218122901129019,\n",
        " 11.01634895780219,\n",
        " 49.130823356333281,\n",
        " -3.8862486275934116,\n",
        " -0.55663019822532422,\n",
        " -4.534199939946439,\n",
        " 0.32924017097397579,\n",
        " -4.026771244601095,\n",
        " -2.0113367338012886,\n",
        " -4.7351586901363678,\n",
        " 11.867721835650958,\n",
        " -9.2125380860840593,\n",
        " -9.4409992353395271,\n",
        " -14.02936525519508,\n",
        " -3.1133779527814607,\n",
        " -12.06211592744561,\n",
        " 6.7448952889792979,\n",
        " 3.6492141391544521,\n",
        " 1.1606486306986383,\n",
        " -4.2934775504934377,\n",
        " -0.61761986115477452,\n",
        " -1.8877987217224763,\n",
        " -1.752964269308861,\n",
        " -4.1781278733595837,\n",
        " -7.6120690249960772,\n",
        " -8.3955001636769797,\n",
        " 12.792141374982165,\n",
        " -3.9794204323891869,\n",
        " -6.5527176544427723,\n",
        " 16.240221349649524,\n",
        " -10.586019309089915,\n",
        " 24.366323906614063,\n",
        " -6.6968012887658972,\n",
        " 5.6708246103416382,\n",
        " 10.783534587608047,\n",
        " -2.9280512873650104,\n",
        " 0.08879962036979519,\n",
        " -5.5412471739332831,\n",
        " -2.5048783697976735,\n",
        " -6.6208902295906009,\n",
        " -1.3471444563177237,\n",
        " -7.0022447670753767,\n",
        " 14.291711728893324,\n",
        " 2.8394043851430597,\n",
        " 28.580787074856453,\n",
        " 7.2992942685097795,\n",
        " -9.2374120515799323,\n",
        " 18.169036190331816,\n",
        " -13.534152627469567,\n",
        " -4.0008829720382231,\n",
        " -1.7382179832349911,\n",
        " -1.4574980834819864,\n",
        " 0.095226737090424743,\n",
        " -8.1213744498893856,\n",
        " -0.58288727588681777,\n",
        " -3.6252745270506432,\n",
        " -4.3108847809475082,\n",
        " 4.4989145871033962,\n",
        " -0.12872041202344262,\n",
        " 16.603326477929354,\n",
        " 16.285806155439701,\n",
        " -13.019855798350699,\n",
        " 2.1843905048676748,\n",
        " -6.3766017047453527,\n",
        " -3.2865178778116468,\n",
        " 1.3466894932409734,\n",
        " -9.063380875803114,\n",
        " -0.42276027055403403,\n",
        " 0.2619067146200133,\n",
        " -9.1952944742208285,\n",
        " -6.6208436345935215,\n",
        " 1.303871668629156,\n",
        " 9.0441434139809225,\n",
        " -12.654587614842589,\n",
        " 1.2426933823365343,\n",
        " -5.7589953702083632,\n",
        " -10.87472452623077,\n",
        " 0.13550311646170865,\n",
        " -6.3139469701190531,\n",
        " -4.9036531610641658,\n",
        " -4.5830738684735897,\n",
        " -6.2232677623552828,\n",
        " 19.320736177134478,\n",
        " 0.86894120670849928,\n",
        " 0.41875705003164049,\n",
        " -16.594724095032877,\n",
        " 9.7345927918754622,\n",
        " -14.604874868815534,\n",
        " -10.051198255850117,\n",
        " -14.38528581211879,\n",
        " -4.0114601158223966,\n",
        " -6.9426750207740069,\n",
        " -7.0189956921207033,\n",
        " -7.4989097051627738,\n",
        " -3.50997052007467,\n",
        " 1.7975674805268278,\n",
        " 0.41638482869901555,\n",
        " -9.7359321357798816,\n",
        " 5.7906908245916515,\n",
        " 2.0913459809473318,\n",
        " 0.59948228980407869,\n",
        " 36.065527492438832,\n",
        " 4.2180436344685246,\n",
        " -4.3806264769358769,\n",
        " -3.8709318889480899,\n",
        " -12.473717331298642,\n",
        " -10.188123652418257,\n",
        " -7.3523038225267685,\n",
        " -8.7941227027813884,\n",
        " -4.7901288809834757,\n",
        " 14.206772601111892,\n",
        " 6.1803015222484561,\n",
        " -1.3588006393004155,\n",
        " -2.0110720302075489,\n",
        " -1.8298113021496278,\n",
        " 2.9165789403075766,\n",
        " 0.76974111162770964,\n",
        " -20.352167752250285,\n",
        " 1.3968455943992422,\n",
        " 3.7354447519666505,\n",
        " -11.854145549886852,\n",
        " 6.0518617149184148,\n",
        " -3.934016594410898,\n",
        " 5.5525282988537716,\n",
        " 2.7955978485998458,\n",
        " 4.1449790579839068,\n",
        " 1.8876813351045607,\n",
        " -0.0041753486418251284,\n",
        " 4.6289507203547764,\n",
        " -2.7174403994605925,\n",
        " -2.7171996371371465,\n",
        " 1.9165299828963021,\n",
        " 0.35640211083356899,\n",
        " 56.207085481629271,\n",
        " 26.317999432499114,\n",
        " -18.1752233742477,\n",
        " -11.027838789950042,\n",
        " 4.2511668787499008,\n",
        " -11.287186922035483,\n",
        " 26.589921363466733,\n",
        " 2.2509264877201764,\n",
        " 5.367791766653383,\n",
        " -1.7486341610777911,\n",
        " -10.47421211449999,\n",
        " -7.6867852594665305,\n",
        " 4.5365516276835356,\n",
        " -0.38610791884846868,\n",
        " -4.3235082903708486,\n",
        " -1.8453815253266825,\n",
        " -19.412094609050023,\n",
        " 10.938484733590071,\n",
        " -2.6035259259272592,\n",
        " -9.1401019788516855,\n",
        " 5.8583836024212674,\n",
        " -8.4413899681068809,\n",
        " -9.4513620206848454,\n",
        " 0.83063692526048849,\n",
        " 3.4594508306119911,\n",
        " -1.576723527573094,\n",
        " 3.4874944256812901,\n",
        " -12.564360014187187,\n",
        " 21.963972062233893,\n",
        " -8.1415724650421808,\n",
        " -11.448716513356167,\n",
        " -4.2800521399050009,\n",
        " -3.6578865000715348,\n",
        " -7.1284136357395873,\n",
        " 7.6015569328103627,\n",
        " -6.3015870800336957,\n",
        " 6.3516942548297806,\n",
        " 1.5991797177534453,\n",
        " 7.8852230926128595,\n",
        " -7.6282774482341535,\n",
        " 5.2679175066853174,\n",
        " -15.967698114099994,\n",
        " 43.44076710110317,\n",
        " -7.0368657717766672,\n",
        " -15.23845887805024,\n",
        " -20.965558733533157,\n",
        " -14.135121717305921,\n",
        " -4.7844129865596701,\n",
        " 11.818887747376676,\n",
        " -6.3308901019567791,\n",
        " -0.55273165485249098,\n",
        " -13.023050979340036,\n",
        " 7.7920265402655229,\n",
        " 3.286016740661776,\n",
        " 17.929996219947657,\n",
        " -15.201965523054431,\n",
        " 67.135499020841124,\n",
        " -11.110778089885581,\n",
        " -11.278095842867383,\n",
        " -16.241048278996324,\n",
        " -13.544315911952642,\n",
        " 19.124092735572372,\n",
        " -10.71593999380945,\n",
        " -3.5170234565384568,\n",
        " -6.4159118636161052,\n",
        " -3.461957823681411,\n",
        " -1.5705185825966019,\n",
        " -2.055100216236168,\n",
        " -2.0810334732025924,\n",
        " -2.3780234864155263,\n",
        " -3.8703543025230176,\n",
        " -5.0184471180644366,\n",
        " -4.7494813762978669,\n",
        " -2.66201844100621,\n",
        " -0.7233119051011615,\n",
        " -3.9838970593382741,\n",
        " -7.5276922871575564,\n",
        " -8.3945517098697291,\n",
        " -5.2142522007775813,\n",
        " -1.8766641760058771,\n",
        " -2.6488032972815194,\n",
        " -1.7777618469881287,\n",
        " -0.71451846478884939,\n",
        " -0.23520720732786204,\n",
        " -0.4238358787226687,\n",
        " -0.98337489417918433,\n",
        " -1.7657387644224998,\n",
        " -1.7206656524317459,\n",
        " -1.4811014881712461,\n",
        " -0.87401327467886025,\n",
        " -0.25245265816609141,\n",
        " -1.6570167311845345,\n",
        " -2.3023988602666998,\n",
        " -2.4461914022013631,\n",
        " -2.0988752099577774,\n",
        " -0.4364656538813167]"
       ]
      }
     ],
     "prompt_number": 149
    },
    {
     "cell_type": "code",
     "collapsed": false,
     "input": [
      "ns"
     ],
     "language": "python",
     "metadata": {},
     "outputs": [
      {
       "metadata": {},
       "output_type": "pyout",
       "prompt_number": 102,
       "text": [
        "[array([ 0.46013086]),\n",
        " array([ 0.37349584]),\n",
        " array([ 0.4572414]),\n",
        " array([ 0.48840766]),\n",
        " array([ 0.38276328]),\n",
        " array([ 0.57906626]),\n",
        " array([ 0.5075568]),\n",
        " array([ 0.46874113]),\n",
        " array([ 0.64599642]),\n",
        " array([ 0.24002789]),\n",
        " array([ 0.5773375]),\n",
        " array([ 0.29725005]),\n",
        " array([ 0.31893798]),\n",
        " array([ 0.33161075]),\n",
        " array([ 0.60029954]),\n",
        " array([ 0.67957326]),\n",
        " array([ 0.73583394]),\n",
        " array([ 0.5518678]),\n",
        " array([ 0.23404953]),\n",
        " array([ 0.37587254]),\n",
        " array([ 0.33292356]),\n",
        " array([ 1.06495627]),\n",
        " array([ 0.41301751]),\n",
        " array([ 0.31684255]),\n",
        " array([ 0.3710148]),\n",
        " array([ 0.84859367]),\n",
        " array([ 0.28774821]),\n",
        " array([ 0.61519956]),\n",
        " array([ 0.69654775]),\n",
        " array([ 0.97574946]),\n",
        " array([ 0.2861127]),\n",
        " array([ 0.7007783]),\n",
        " array([ 0.36084679]),\n",
        " array([ 0.33479557]),\n",
        " array([ 0.49395757]),\n",
        " array([ 0.49470092]),\n",
        " array([ 0.17120349]),\n",
        " array([ 0.70219829]),\n",
        " array([ 0.25563415]),\n",
        " array([ 0.3082722]),\n",
        " array([ 0.08122704]),\n",
        " array([ 0.34889784]),\n",
        " array([ 0.27151324]),\n",
        " array([ 0.89718987]),\n",
        " array([ 0.42354553]),\n",
        " array([ 0.41207125]),\n",
        " array([ 0.24486179]),\n",
        " array([ 0.46478823]),\n",
        " array([ 0.34796788]),\n",
        " array([ 0.33253807]),\n",
        " array([ 0.42217893]),\n",
        " array([ 0.46179822]),\n",
        " array([ 0.25797138]),\n",
        " array([ 0.62608139]),\n",
        " array([ 0.44227953]),\n",
        " array([ 0.42438817]),\n",
        " array([ 0.68800919]),\n",
        " array([ 0.07919538]),\n",
        " array([ 0.81421151]),\n",
        " array([ 0.43985939]),\n",
        " array([ 0.84575825]),\n",
        " array([ 0.82112264]),\n",
        " array([ 0.47982657]),\n",
        " array([ 0.29942518]),\n",
        " array([ 0.47379622]),\n",
        " array([ 0.38765741]),\n",
        " array([ 0.44081156]),\n",
        " array([ 0.41977858]),\n",
        " array([ 0.38919239]),\n",
        " array([ 0.72805717]),\n",
        " array([ 0.58329153]),\n",
        " array([ 1.04173661]),\n",
        " array([ 0.66936981]),\n",
        " array([ 0.16697768]),\n",
        " array([ 0.62333752]),\n",
        " array([ 0.34074035]),\n",
        " array([ 0.64091675]),\n",
        " array([ 0.38623237]),\n",
        " array([ 0.48294015]),\n",
        " array([ 0.4272584]),\n",
        " array([ 0.34159458]),\n",
        " array([ 0.51770175]),\n",
        " array([ 0.43104551]),\n",
        " array([ 0.53456112]),\n",
        " array([ 0.54995117]),\n",
        " array([ 0.56189]),\n",
        " array([ 0.77342434]),\n",
        " array([ 0.73068579]),\n",
        " array([ 0.16863118]),\n",
        " array([ 0.47192337]),\n",
        " array([ 0.29510179]),\n",
        " array([ 0.53580294]),\n",
        " array([ 0.61745429]),\n",
        " array([ 0.25569703]),\n",
        " array([ 0.76135709]),\n",
        " array([ 0.6436357]),\n",
        " array([ 0.38210726]),\n",
        " array([ 0.24546793]),\n",
        " array([ 0.55857367]),\n",
        " array([ 0.68642285]),\n",
        " array([ 0.3641915]),\n",
        " array([ 0.39445036]),\n",
        " array([ 0.38448562]),\n",
        " array([ 0.24304366]),\n",
        " array([ 0.49040725]),\n",
        " array([ 0.340799]),\n",
        " array([ 0.60151633]),\n",
        " array([ 0.48064038]),\n",
        " array([ 0.36416402]),\n",
        " array([ 0.93271429]),\n",
        " array([ 0.53174155]),\n",
        " array([ 0.54113582]),\n",
        " array([ 0.07736268]),\n",
        " array([ 0.7106306]),\n",
        " array([ 0.19108939]),\n",
        " array([ 0.33278372]),\n",
        " array([ 0.13601976]),\n",
        " array([ 0.48508732]),\n",
        " array([ 0.2592838]),\n",
        " array([ 0.24551811]),\n",
        " array([ 0.28977008]),\n",
        " array([ 0.50045129]),\n",
        " array([ 0.57672408]),\n",
        " array([ 0.48790858]),\n",
        " array([ 0.37308687]),\n",
        " array([ 0.60960292]),\n",
        " array([ 0.63414433]),\n",
        " array([ 0.40290589]),\n",
        " array([ 0.92764315]),\n",
        " array([ 0.47742129]),\n",
        " array([ 0.36647286]),\n",
        " array([ 0.48155002]),\n",
        " array([ 0.13642163]),\n",
        " array([ 0.31230616]),\n",
        " array([ 0.34010027]),\n",
        " array([ 0.15742487]),\n",
        " array([ 0.36728065]),\n",
        " array([ 0.84854965]),\n",
        " array([ 0.68152811]),\n",
        " array([ 0.4222102]),\n",
        " array([ 0.39329968]),\n",
        " array([ 0.47915884]),\n",
        " array([ 0.67748921]),\n",
        " array([ 0.59894343]),\n",
        " array([ 0.23286284]),\n",
        " array([ 0.52300387]),\n",
        " array([ 0.62652623]),\n",
        " array([ 0.10643422]),\n",
        " array([ 0.78698551]),\n",
        " array([ 0.59368196]),\n",
        " array([ 0.6845632]),\n",
        " array([ 0.66619083]),\n",
        " array([ 0.49939202]),\n",
        " array([ 0.67281795]),\n",
        " array([ 0.77255787]),\n",
        " array([ 0.56262518]),\n",
        " array([ 0.28243746]),\n",
        " array([ 0.52135327]),\n",
        " array([ 0.4890744]),\n",
        " array([ 0.49468127]),\n",
        " array([ 0.88402874]),\n",
        " array([ 1.03952911]),\n",
        " array([ 0.18931781]),\n",
        " array([ 0.29142509]),\n",
        " array([ 0.81276427]),\n",
        " array([ 0.35095284]),\n",
        " array([ 0.96100381]),\n",
        " array([ 0.60399968]),\n",
        " array([ 0.71559091]),\n",
        " array([ 0.39096352]),\n",
        " array([ 0.34807247]),\n",
        " array([ 0.20280219]),\n",
        " array([ 0.79908566]),\n",
        " array([ 0.51783576]),\n",
        " array([ 0.4342302]),\n",
        " array([ 0.28351408]),\n",
        " array([-0.07651701]),\n",
        " array([ 0.73561145]),\n",
        " array([ 0.37019752]),\n",
        " array([ 0.14498748]),\n",
        " array([ 0.63469859]),\n",
        " array([ 0.42419704]),\n",
        " array([ 0.23236556]),\n",
        " array([ 0.61729561]),\n",
        " array([ 0.63531487]),\n",
        " array([ 0.37945934]),\n",
        " array([ 0.64957998]),\n",
        " array([ 0.16854886]),\n",
        " array([ 0.97612658]),\n",
        " array([ 0.13995852]),\n",
        " array([ 0.31301638]),\n",
        " array([ 0.33967137]),\n",
        " array([ 0.40740138]),\n",
        " array([ 0.51842623]),\n",
        " array([ 0.6992476]),\n",
        " array([ 0.06038024]),\n",
        " array([ 0.76123789]),\n",
        " array([ 0.38969728]),\n",
        " array([ 0.57257014]),\n",
        " array([ 0.3062494]),\n",
        " array([ 0.63016707]),\n",
        " array([ 0.0882759]),\n",
        " array([ 1.16936232]),\n",
        " array([ 0.34588874]),\n",
        " array([ 0.34754578]),\n",
        " array([-0.03657761]),\n",
        " array([ 0.0853653]),\n",
        " array([ 0.22830984]),\n",
        " array([ 0.75600162]),\n",
        " array([ 0.35737729]),\n",
        " array([ 0.66637294]),\n",
        " array([ 0.32727101]),\n",
        " array([ 0.71560235]),\n",
        " array([ 0.5308649]),\n",
        " array([ 0.99175889]),\n",
        " array([-0.05784416]),\n",
        " array([ 0.78215849]),\n",
        " array([ 0.41585381]),\n",
        " array([ 0.12039052]),\n",
        " array([ 0.15229565]),\n",
        " array([ 0.00953451]),\n",
        " array([ 0.87108111]),\n",
        " array([ 0.19198208]),\n",
        " array([ 0.44344572]),\n",
        " array([ 0.35044232]),\n",
        " array([ 0.55319681]),\n",
        " array([ 0.53162145]),\n",
        " array([ 0.38381606]),\n",
        " array([ 0.420764]),\n",
        " array([ 0.39147433]),\n",
        " array([ 0.37424106]),\n",
        " array([ 0.44847591]),\n",
        " array([ 0.34757389]),\n",
        " array([ 0.35277397]),\n",
        " array([ 0.51528499]),\n",
        " array([ 0.41167575]),\n",
        " array([ 0.32223741]),\n",
        " array([ 0.17248507]),\n",
        " array([ 0.37400192]),\n",
        " array([ 0.44107035]),\n",
        " array([ 0.34010921]),\n",
        " array([ 0.46769868]),\n",
        " array([ 0.43864089]),\n",
        " array([ 0.59519849]),\n",
        " array([ 0.52428058]),\n",
        " array([ 0.50430134]),\n",
        " array([ 0.65788147]),\n",
        " array([ 0.45708457]),\n",
        " array([ 0.5524466]),\n",
        " array([ 0.3368099]),\n",
        " array([ 0.55698965]),\n",
        " array([ 0.53680515]),\n",
        " array([ 0.34505587]),\n",
        " array([ 0.44733485]),\n",
        " array([ 0.40893174]),\n",
        " array([ 0.53712743])]"
       ]
      }
     ],
     "prompt_number": 102
    },
    {
     "cell_type": "code",
     "collapsed": false,
     "input": [
      "Test1 = spatial_filter_2d(c_scale=50.,c_width=.25,s_width=s_width[0],xs_num=16)\n",
      "Test2 = spatial_filter_2d(c_scale=50.,c_width=.25,s_width=s_width[1],xs_num=16)\n",
      "Test3 = spatial_filter_2d(c_scale=50.,c_width=.25,s_width=s_width[2],xs_num=16)\n",
      "Test4 = spatial_filter_2d(c_scale=50.,c_width=.25,s_width=s_width[-1],xs_num=16)"
     ],
     "language": "python",
     "metadata": {},
     "outputs": [],
     "prompt_number": 103
    },
    {
     "cell_type": "code",
     "collapsed": false,
     "input": [
      "X_2d1 = Test1\n",
      "xs_size1=16\n",
      "\n",
      "# MAKE NONLINEARITY BE CDF OF FILTERED STANDARD GAUSSIAN\n",
      "nSamples = 1000\n",
      "num_bins = 50\n",
      "pad_interpolation = 100\n",
      "tmp = randn(xs_size1,xs_size1,nSamples)\n",
      "fil = np.array([np.sum(tmp[:,:,t]*X_2d1) for t in xrange(nSamples)])\n",
      "counts, bin_edges = numpy.histogram(fil, bins=num_bins, normed=True)\n",
      "cdf = numpy.cumsum(counts)\n",
      "cdf = cdf/np.max(cdf)\n",
      "cdf = np.insert(cdf,0,np.zeros(pad_interpolation,))\n",
      "cdf = np.append(cdf,np.ones(pad_interpolation))\n",
      "\n",
      "arrange_back = np.array(range(pad_interpolation-1)[::-1])+1\n",
      "arrange_forw = np.array(range(pad_interpolation))+1\n",
      "bin_edges = np.insert(bin_edges,0,bin_edges[0]*np.ones(pad_interpolation-1)-arrange_back*(bin_edges[1]-bin_edges[0]))\n",
      "bin_edges = np.append(bin_edges,bin_edges[-1]*np.ones(pad_interpolation)+arrange_forw*(bin_edges[-1]-bin_edges[-2]))\n",
      "nonlinear = interp1d(bin_edges,cdf)"
     ],
     "language": "python",
     "metadata": {},
     "outputs": [],
     "prompt_number": 205
    },
    {
     "cell_type": "code",
     "collapsed": false,
     "input": [
      "plot(bin_edges[100:160],nonlinear(bin_edges[100:160]),'k')"
     ],
     "language": "python",
     "metadata": {},
     "outputs": [
      {
       "metadata": {},
       "output_type": "pyout",
       "prompt_number": 112,
       "text": [
        "[<matplotlib.lines.Line2D at 0xe1b49d0>]"
       ]
      },
      {
       "metadata": {},
       "output_type": "display_data",
       "png": "[encoded data removed]",
       "text": [
        "<matplotlib.figure.Figure at 0x5428850>"
       ]
      }
     ],
     "prompt_number": 112
    },
    {
     "cell_type": "code",
     "collapsed": false,
     "input": [
      "blah = hist(img_patches,100)"
     ],
     "language": "python",
     "metadata": {},
     "outputs": [
      {
       "metadata": {},
       "output_type": "display_data",
       "png": "[encoded data removed]",
       "text": [
        "<matplotlib.figure.Figure at 0x5425c90>"
       ]
      }
     ],
     "prompt_number": 194
    },
    {
     "cell_type": "code",
     "collapsed": false,
     "input": [
      "worst_filter = fil"
     ],
     "language": "python",
     "metadata": {},
     "outputs": [],
     "prompt_number": 195
    },
    {
     "cell_type": "code",
     "collapsed": false,
     "input": [
      "blah = hist(fil,100)"
     ],
     "language": "python",
     "metadata": {},
     "outputs": [
      {
       "metadata": {},
       "output_type": "display_data",
       "png": "[encoded data removed]",
       "text": [
        "<matplotlib.figure.Figure at 0x97f9ed0>"
       ]
      }
     ],
     "prompt_number": 115
    },
    {
     "cell_type": "code",
     "collapsed": false,
     "input": [
      "X_2d1 = Test4\n",
      "xs_size1=16\n",
      "\n",
      "# MAKE NONLINEARITY BE CDF OF FILTERED STANDARD GAUSSIAN\n",
      "nSamples = 1000\n",
      "num_bins = 50\n",
      "pad_interpolation = 100\n",
      "tmp = randn(xs_size1,xs_size1,nSamples)\n",
      "fil = np.array([np.sum(tmp[:,:,t]*X_2d1) for t in xrange(nSamples)])\n",
      "counts, bin_edges = numpy.histogram(fil, bins=num_bins, normed=True)\n",
      "cdf = numpy.cumsum(counts)\n",
      "cdf = cdf/np.max(cdf)\n",
      "cdf = np.insert(cdf,0,np.zeros(pad_interpolation,))\n",
      "cdf = np.append(cdf,np.ones(pad_interpolation))\n",
      "\n",
      "arrange_back = np.array(range(pad_interpolation-1)[::-1])+1\n",
      "arrange_forw = np.array(range(pad_interpolation))+1\n",
      "bin_edges = np.insert(bin_edges,0,bin_edges[0]*np.ones(pad_interpolation-1)-arrange_back*(bin_edges[1]-bin_edges[0]))\n",
      "bin_edges = np.append(bin_edges,bin_edges[-1]*np.ones(pad_interpolation)+arrange_forw*(bin_edges[-1]-bin_edges[-2]))\n",
      "nonlinear = interp1d(bin_edges,cdf)"
     ],
     "language": "python",
     "metadata": {},
     "outputs": [],
     "prompt_number": 207
    },
    {
     "cell_type": "code",
     "collapsed": false,
     "input": [
      "best_filter = fil"
     ],
     "language": "python",
     "metadata": {},
     "outputs": [],
     "prompt_number": 197
    },
    {
     "cell_type": "code",
     "collapsed": false,
     "input": [
      "blah = hist(fil,100)"
     ],
     "language": "python",
     "metadata": {},
     "outputs": [
      {
       "metadata": {},
       "output_type": "display_data",
       "png": "[encoded data removed]",
       "text": [
        "<matplotlib.figure.Figure at 0xa311e50>"
       ]
      }
     ],
     "prompt_number": 117
    },
    {
     "cell_type": "code",
     "collapsed": false,
     "input": [
      "from scipy.stats import kurtosis"
     ],
     "language": "python",
     "metadata": {},
     "outputs": [],
     "prompt_number": 198
    },
    {
     "cell_type": "code",
     "collapsed": false,
     "input": [
      "from scipy.stats import skew"
     ],
     "language": "python",
     "metadata": {},
     "outputs": [],
     "prompt_number": 203
    },
    {
     "cell_type": "code",
     "collapsed": false,
     "input": [
      "(kurtosis(worst_filter),kurtosis(best_filter))"
     ],
     "language": "python",
     "metadata": {},
     "outputs": [
      {
       "metadata": {},
       "output_type": "pyout",
       "prompt_number": 199,
       "text": [
        "(-0.009410940240119903, -0.18580912258226956)"
       ]
      }
     ],
     "prompt_number": 199
    },
    {
     "cell_type": "code",
     "collapsed": false,
     "input": [
      "(skew(worst_filter),skew(best_filter))"
     ],
     "language": "python",
     "metadata": {},
     "outputs": [
      {
       "metadata": {},
       "output_type": "pyout",
       "prompt_number": 204,
       "text": [
        "(0.03476955282462363, 0.04639196519954427)"
       ]
      }
     ],
     "prompt_number": 204
    },
    {
     "cell_type": "code",
     "collapsed": false,
     "input": [
      "entropy(worst_filter)"
     ],
     "language": "python",
     "metadata": {},
     "outputs": [
      {
       "metadata": {},
       "output_type": "pyout",
       "prompt_number": 201,
       "text": [
        "2.6769718310115427"
       ]
      }
     ],
     "prompt_number": 201
    },
    {
     "cell_type": "code",
     "collapsed": false,
     "input": [
      "entropy(best_filter)"
     ],
     "language": "python",
     "metadata": {},
     "outputs": [
      {
       "metadata": {},
       "output_type": "pyout",
       "prompt_number": 202,
       "text": [
        "2.7774363928365347"
       ]
      }
     ],
     "prompt_number": 202
    },
    {
     "cell_type": "code",
     "collapsed": false,
     "input": [
      "worst_nonlinearity = nonlinear"
     ],
     "language": "python",
     "metadata": {},
     "outputs": [],
     "prompt_number": 206
    },
    {
     "cell_type": "code",
     "collapsed": false,
     "input": [
      "best_nonlinearity = nonlinear"
     ],
     "language": "python",
     "metadata": {},
     "outputs": [],
     "prompt_number": 208
    },
    {
     "cell_type": "code",
     "collapsed": false,
     "input": [
      "worst_output = worst_nonlinearity(worst_filter)\n",
      "best_output  = best_nonlinearity(best_filter)"
     ],
     "language": "python",
     "metadata": {},
     "outputs": [],
     "prompt_number": 209
    },
    {
     "cell_type": "code",
     "collapsed": false,
     "input": [
      "subplot(1,2,1)\n",
      "hist(worst_output,100)\n",
      "subplot(1,2,2)\n",
      "hist(best_output,100)"
     ],
     "language": "python",
     "metadata": {},
     "outputs": [
      {
       "metadata": {},
       "output_type": "pyout",
       "prompt_number": 210,
       "text": [
        "(array([ 19.,  11.,  12.,   6.,  10.,   5.,   9.,  18.,  13.,  18.,  11.,\n",
        "         10.,   7.,  16.,  11.,  12.,  10.,  11.,   9.,   8.,  10.,   9.,\n",
        "          6.,   7.,   7.,  12.,   8.,   9.,  10.,  11.,   6.,  12.,  13.,\n",
        "         10.,  14.,   8.,   7.,  18.,  11.,   9.,  13.,   6.,  12.,   4.,\n",
        "          8.,  12.,  10.,   7.,  11.,   9.,  11.,  11.,   4.,   7.,   6.,\n",
        "          7.,   9.,  10.,   3.,   9.,  10.,   8.,  10.,  10.,  13.,  13.,\n",
        "         10.,   4.,   9.,  10.,   3.,  10.,   7.,  10.,  11.,  12.,  10.,\n",
        "          8.,  10.,   9.,  12.,   7.,  14.,  17.,  15.,  13.,  13.,   4.,\n",
        "          9.,   8.,   9.,  17.,   7.,   7.,   8.,  14.,   7.,   9.,  20.,\n",
        "         11.]),\n",
        " array([ 0.002     ,  0.01195642,  0.02191285,  0.03186927,  0.04182569,\n",
        "         0.05178212,  0.06173854,  0.07169497,  0.08165139,  0.09160781,\n",
        "         0.10156424,  0.11152066,  0.12147708,  0.13143351,  0.14138993,\n",
        "         0.15134635,  0.16130278,  0.1712592 ,  0.18121562,  0.19117205,\n",
        "         0.20112847,  0.2110849 ,  0.22104132,  0.23099774,  0.24095417,\n",
        "         0.25091059,  0.26086701,  0.27082344,  0.28077986,  0.29073628,\n",
        "         0.30069271,  0.31064913,  0.32060555,  0.33056198,  0.3405184 ,\n",
        "         0.35047483,  0.36043125,  0.37038767,  0.3803441 ,  0.39030052,\n",
        "         0.40025694,  0.41021337,  0.42016979,  0.43012621,  0.44008264,\n",
        "         0.45003906,  0.45999549,  0.46995191,  0.47990833,  0.48986476,\n",
        "         0.49982118,  0.5097776 ,  0.51973403,  0.52969045,  0.53964687,\n",
        "         0.5496033 ,  0.55955972,  0.56951614,  0.57947257,  0.58942899,\n",
        "         0.59938542,  0.60934184,  0.61929826,  0.62925469,  0.63921111,\n",
        "         0.64916753,  0.65912396,  0.66908038,  0.6790368 ,  0.68899323,\n",
        "         0.69894965,  0.70890607,  0.7188625 ,  0.72881892,  0.73877535,\n",
        "         0.74873177,  0.75868819,  0.76864462,  0.77860104,  0.78855746,\n",
        "         0.79851389,  0.80847031,  0.81842673,  0.82838316,  0.83833958,\n",
        "         0.84829601,  0.85825243,  0.86820885,  0.87816528,  0.8881217 ,\n",
        "         0.89807812,  0.90803455,  0.91799097,  0.92794739,  0.93790382,\n",
        "         0.94786024,  0.95781666,  0.96777309,  0.97772951,  0.98768594,\n",
        "         0.99764236]),\n",
        " <a list of 100 Patch objects>)"
       ]
      },
      {
       "metadata": {},
       "output_type": "display_data",
       "png": "[encoded data removed]",
       "text": [
        "<matplotlib.figure.Figure at 0xb65e410>"
       ]
      }
     ],
     "prompt_number": 210
    },
    {
     "cell_type": "code",
     "collapsed": false,
     "input": [
      "X_2d1 = Test2\n",
      "xs_size1=16\n",
      "\n",
      "# MAKE NONLINEARITY BE CDF OF FILTERED STANDARD GAUSSIAN\n",
      "nSamples = 1000\n",
      "num_bins = 50\n",
      "pad_interpolation = 100\n",
      "tmp = randn(xs_size1,xs_size1,nSamples)\n",
      "fil = np.array([np.sum(tmp[:,:,t]*X_2d1) for t in xrange(nSamples)])\n",
      "counts, bin_edges = numpy.histogram(fil, bins=num_bins, normed=True)\n",
      "cdf = numpy.cumsum(counts)\n",
      "cdf = cdf/np.max(cdf)\n",
      "cdf = np.insert(cdf,0,np.zeros(pad_interpolation,))\n",
      "cdf = np.append(cdf,np.ones(pad_interpolation))\n",
      "\n",
      "arrange_back = np.array(range(pad_interpolation-1)[::-1])+1\n",
      "arrange_forw = np.array(range(pad_interpolation))+1\n",
      "bin_edges = np.insert(bin_edges,0,bin_edges[0]*np.ones(pad_interpolation-1)-arrange_back*(bin_edges[1]-bin_edges[0]))\n",
      "bin_edges = np.append(bin_edges,bin_edges[-1]*np.ones(pad_interpolation)+arrange_forw*(bin_edges[-1]-bin_edges[-2]))\n",
      "nonlinear = interp1d(bin_edges,cdf)"
     ],
     "language": "python",
     "metadata": {},
     "outputs": [],
     "prompt_number": 118
    },
    {
     "cell_type": "code",
     "collapsed": false,
     "input": [
      "blah = hist(fil,100)\n",
      "plot(bin_edges[100:150],30*nonlinear(bin_edges[100:150]),'k',linewidth=4)"
     ],
     "language": "python",
     "metadata": {},
     "outputs": [
      {
       "metadata": {},
       "output_type": "pyout",
       "prompt_number": 123,
       "text": [
        "[<matplotlib.lines.Line2D at 0xb0450d0>]"
       ]
      },
      {
       "metadata": {},
       "output_type": "display_data",
       "png": "[encoded data removed]",
       "text": [
        "<matplotlib.figure.Figure at 0x97f9ed0>"
       ]
      }
     ],
     "prompt_number": 123
    },
    {
     "cell_type": "code",
     "collapsed": false,
     "input": [
      "blah = hist(fil,100)\n",
      "plot(np.linspace(-60,60,1000),35*nonlinearity(np.linspace(-60,60,1000),g=0.25,theta=np.sqrt(np.var(fil))),'k',linewidth=4)\n",
      "\n",
      "savefig('AAA - Nonlinearity.eps')"
     ],
     "language": "python",
     "metadata": {},
     "outputs": [
      {
       "metadata": {},
       "output_type": "display_data",
       "png": "[encoded data removed]",
       "text": [
        "<matplotlib.figure.Figure at 0x1354aa90>"
       ]
      }
     ],
     "prompt_number": 228
    },
    {
     "cell_type": "code",
     "collapsed": false,
     "input": [
      "np.sqrt(np.var(fil))"
     ],
     "language": "python",
     "metadata": {},
     "outputs": [
      {
       "metadata": {},
       "output_type": "pyout",
       "prompt_number": 128,
       "text": [
        "15.707137171093819"
       ]
      }
     ],
     "prompt_number": 128
    },
    {
     "cell_type": "code",
     "collapsed": false,
     "input": [
      "np.var(ls)"
     ],
     "language": "python",
     "metadata": {},
     "outputs": [
      {
       "metadata": {},
       "output_type": "pyout",
       "prompt_number": 131,
       "text": [
        "123.41650408750624"
       ]
      }
     ],
     "prompt_number": 131
    },
    {
     "cell_type": "code",
     "collapsed": false,
     "input": [
      "SNR = 100.\n",
      "np.sqrt(np.var(ls)/SNR)"
     ],
     "language": "python",
     "metadata": {},
     "outputs": [
      {
       "metadata": {},
       "output_type": "pyout",
       "prompt_number": 133,
       "text": [
        "1.1109298091576545"
       ]
      }
     ],
     "prompt_number": 133
    },
    {
     "cell_type": "markdown",
     "metadata": {},
     "source": [
      "## Incorporate Steve's comments"
     ]
    },
    {
     "cell_type": "markdown",
     "metadata": {},
     "source": [
      "#### Define parameter range"
     ]
    },
    {
     "cell_type": "code",
     "collapsed": false,
     "input": [
      "# Surround width (starting now at 0.3 (compared to center width of 0.25), so that the surround doesn't become the center)\n",
      "# There isn't much variability past 3.5 or 4x, so let's truncate it there\n",
      "s_width  = np.linspace(0.3,3.5,6)\n",
      "integral = np.linspace(-1,1,3)"
     ],
     "language": "python",
     "metadata": {},
     "outputs": [],
     "prompt_number": 260
    },
    {
     "cell_type": "markdown",
     "metadata": {},
     "source": [
      "####Import image patches"
     ]
    },
    {
     "cell_type": "code",
     "collapsed": false,
     "input": [
      "from os import listdir\n",
      "from os.path import isfile, join\n",
      "import os"
     ],
     "language": "python",
     "metadata": {},
     "outputs": [],
     "prompt_number": 261
    },
    {
     "cell_type": "code",
     "collapsed": false,
     "input": [
      "curr_dir = os.getcwd()\n",
      "allfiles = [f for f in listdir(curr_dir) if isfile(join(curr_dir,f)) and '.imc' in f]"
     ],
     "language": "python",
     "metadata": {},
     "outputs": [],
     "prompt_number": 262
    },
    {
     "cell_type": "code",
     "collapsed": false,
     "input": [
      "numImages = 20\n",
      "curr_dir  = os.getcwd()\n",
      "allfiles  = [f for f in listdir(curr_dir) if isfile(join(curr_dir,f)) and '.imc' in f]\n",
      "names     = allfiles[:numImages]\n",
      "\n",
      "img_patches = []\n",
      "patch_size = 32\n",
      "for im in names:\n",
      "    fin = open( im, 'rb' )\n",
      "    s = fin.read()\n",
      "    fin.close()\n",
      "    arr = array.array('H', s)\n",
      "    arr.byteswap()\n",
      "    img = numpy.array(arr, dtype='uint16').reshape(1024,1536)\n",
      "    img_center = [shape(img)[0]/2,shape(img)[1]/2]\n",
      "    img_patch = img[img_center[0]:img_center[0]+patch_size,img_center[1]:img_center[1]+patch_size]\n",
      "    img_patch = img_patch/np.sqrt(np.var(img_patch))\n",
      "    img_patches.append(img_patch - np.mean(img_patch))"
     ],
     "language": "python",
     "metadata": {},
     "outputs": [],
     "prompt_number": 263
    },
    {
     "cell_type": "markdown",
     "metadata": {},
     "source": [
      "#### Define new filter function that takes integral as an argument"
     ]
    },
    {
     "cell_type": "code",
     "collapsed": false,
     "input": [
      "def spatial_filter_2d(c_scale=1.,c_width=1.,s_width=2.,xs_num=50, integral=0.):\n",
      "    xs = np.linspace(-5,5,xs_num)\n",
      "    S = surround_1d(center_scale=c_scale,center_width=c_width,surround_width=s_width,xs_num=xs_num)\n",
      "    C = center_1d(center_scale=c_scale,center_width=c_width,surround_width=s_width,xs_num=xs_num)\n",
      "    S_2d = zeros((len(S),len(S)))\n",
      "    C_2d = zeros((len(C),len(C)))\n",
      "    for idx,x in enumerate(xs):\n",
      "        for idy,y in enumerate(xs):\n",
      "            S_2d[idx,idy] = S[np.min([int(np.sqrt((idx-np.floor(len(xs)/2.))**2 \n",
      "                                                     + (idy-np.floor(len(xs)/2.))**2) + np.floor(len(xs)/2.)), len(xs)-1])]\n",
      "            C_2d[idx,idy] = C[np.min([int(np.sqrt((idx-np.floor(len(xs)/2.))**2 \n",
      "                                                     + (idy-np.floor(len(xs)/2.))**2) + np.floor(len(xs)/2.)), len(xs)-1])]\n",
      "    # Make all surrounds have same peak sensitivity of 1.\n",
      "    S_2d = S_2d/np.max(S_2d)\n",
      "    # Make center have same integral as surround\n",
      "    C_2d = (np.sum(S_2d)/np.sum(C_2d))*C_2d\n",
      "    X = C_2d - S_2d\n",
      "    \n",
      "    return X/np.sqrt(np.var(X)) + integral/len(X.flat)"
     ],
     "language": "python",
     "metadata": {},
     "outputs": [],
     "prompt_number": 264
    },
    {
     "cell_type": "markdown",
     "metadata": {},
     "source": [
      "#### Re-define lnl_natural with integral argument and with revised threshold nonlinearity"
     ]
    },
    {
     "cell_type": "code",
     "collapsed": false,
     "input": [
      "def lnl_natural(stimulus,s_width1,s_width2,c_scale1=50.,c_scale2=50.,c_width1=0.25,c_width2=0.25,numSubunits=16,\n",
      "        noise_model='after-nonlinearity',\n",
      "        xs_size1=16,xs_size2=16,integral1=0.,integral2=0.):\n",
      "    \n",
      "    SNR = 1000.\n",
      "    \n",
      "    # NORMALIZE STIMULUS\n",
      "    stimulus = stimulus/np.sqrt(np.var(stimulus))\n",
      "    stimulus = stimulus - np.mean(stimulus)\n",
      "    \n",
      "    # CREATE FILTERS\n",
      "    X_2d1 = spatial_filter_2d(c_scale=c_scale1,c_width=c_width1,s_width=s_width1,xs_num=xs_size1,integral=integral1)\n",
      "    X_2d2 = spatial_filter_2d(c_scale=c_scale2,c_width=c_width2,s_width=s_width2,xs_num=xs_size2,integral=integral2)\n",
      "    \n",
      "    # DETERMINE SPACING OF L-N SUBUNITS\n",
      "    spacing_x = np.linspace(0,shape(stimulus)[0],numSubunits+2)\n",
      "    spacing_x = spacing_x[1:-1].astype(int)\n",
      "    spacing_y = np.linspace(0,shape(stimulus)[1],numSubunits+2)\n",
      "    spacing_y = spacing_y[1:-1].astype(int)\n",
      "    \n",
      "    # MAKE NONLINEARITY BE CDF OF FILTERED STANDARD GAUSSIAN\n",
      "    nSamples = 100\n",
      "    num_bins = 50\n",
      "    pad_interpolation = 100\n",
      "    tmp = randn(xs_size1,xs_size1,nSamples) # note that standard normal is fine since we normalize stimulus\n",
      "    fil1 = np.array([np.sum(tmp[:,:,t]*X_2d1) for t in xrange(nSamples)])\n",
      "    if xs_size1 == xs_size2:\n",
      "        fil2 = np.array([np.sum(tmp[:,:,t]*X_2d2) for t in xrange(nSamples)])\n",
      "    else:\n",
      "        print \"xs_size1 ~= xs_size2\"\n",
      "    #counts, bin_edges = numpy.histogram(fil, bins=num_bins, normed=True)\n",
      "    #cdf = numpy.cumsum(counts)\n",
      "    #cdf = cdf/np.max(cdf)\n",
      "    #cdf = np.insert(cdf,0,np.zeros(pad_interpolation,))\n",
      "    #cdf = np.append(cdf,np.ones(pad_interpolation))\n",
      "    #arrange_back = np.array(range(pad_interpolation-1)[::-1])+1\n",
      "    #arrange_forw = np.array(range(pad_interpolation))+1\n",
      "    #bin_edges = np.insert(bin_edges,0,bin_edges[0]*np.ones(pad_interpolation-1)-arrange_back*(bin_edges[1]-bin_edges[0]))\n",
      "    #bin_edges = np.append(bin_edges,bin_edges[-1]*np.ones(pad_interpolation)+arrange_forw*(bin_edges[-1]-bin_edges[-2]))\n",
      "    #nonlinear = interp1d(bin_edges,cdf)\n",
      "    threshold = np.sqrt(np.var(fil1))\n",
      "    #gain      = 0.25 # should this depend on the filter?\n",
      "    \n",
      "    # FILTER STIMULUS\n",
      "    ls = [linear_prediction_natural(stimulus,sfilter=X_2d1,posx=i,posy=j) for i in spacing_x for j in spacing_y]\n",
      "    \n",
      "    # TAKE NONLINEAR TRANSFORMATION OF FILTER OUTPUT\n",
      "    if noise_model == 'after-nonlinearity':\n",
      "        #ns = [nonlinear(l) + np.sqrt(1./SNR)*randn(1) for l in ls]\n",
      "        #ns = [nonlinearity(l,g=gain,theta=threshold) + np.sqrt(np.var(ls)/SNR)*randn(1) for l in ls]\n",
      "        ns = [l - threshold + np.sqrt(np.var(ls)/SNR)*randn(l) for l in ls]\n",
      "        ns = np.array(ns).clip(min=0)\n",
      "    else:\n",
      "        #ns = [nonlinearity(l,g=gain,theta=threshold) for l in ls]\n",
      "        ns = [l - threshold for l in ls]\n",
      "        ns = np.array(ns).clip(min=0)\n",
      "    \n",
      "    # FILTER NONLINEAR OUTPUT\n",
      "    if noise_model == 'after-second-filter':\n",
      "        rs = linear_prediction_natural(np.reshape(np.array(ns),(xs_size2,xs_size2)),sfilter=X_2d2,posx=0,posy=0) + np.sqrt(np.var(fil2.flat)/SNR)*randn(1)\n",
      "    else:\n",
      "        rs = linear_prediction_natural(np.array(ns),sfilter=X_2d2,posx=0,posy=0)\n",
      "    \n",
      "    return ls,ns,rs"
     ],
     "language": "python",
     "metadata": {},
     "outputs": [],
     "prompt_number": 273
    },
    {
     "cell_type": "markdown",
     "metadata": {},
     "source": [
      "#### Master loop"
     ]
    },
    {
     "cell_type": "code",
     "collapsed": false,
     "input": [
      "I = zeros((len(s_width),len(s_width),len(integral)))\n",
      "H_rs = zeros((len(s_width),len(s_width),len(integral)))\n",
      "H_r_s_avg = zeros((len(s_width),len(s_width),len(integral)))\n",
      "rss = []\n",
      "for ids1,s1 in enumerate(s_width):\n",
      "    for ids2,s2 in enumerate(s_width):\n",
      "        for idi2,i2 in enumerate(integral):\n",
      "            start = time.time()                     \n",
      "            iterations = 80\n",
      "            output     = zeros((numImages,iterations))\n",
      "\n",
      "            for idi in xrange(numImages):\n",
      "                for it in xrange(iterations):\n",
      "                    ls,ns,output[idi,it] = lnl_natural(img_patches[idi],\n",
      "                                                       s_width1=s1,\n",
      "                                                       s_width2=s2,\n",
      "                                                       noise_model='after-second-filter',\n",
      "                                                       integral1=0.,\n",
      "                                                       integral2=i2)\n",
      "\n",
      "            nBins = 10\n",
      "            # pad binning in off-chance that output has zero entropy\n",
      "            binning = np.linspace(np.min(output)-10e-5,np.max(output)+10e-5,nBins+1)\n",
      "\n",
      "            H_r = entropy(output.flat,Bins=[binning])\n",
      "            H_r_s = []\n",
      "            for s in xrange(int(numImages)):\n",
      "                H_r_s.append(entropy(output[s,:],Bins=[binning]))\n",
      "            I[ids1,ids2,idi2] = H_r - np.mean(H_r_s)\n",
      "            H_rs[ids1,ids2,idi2] = H_r\n",
      "            H_r_s_avg[ids1,ids2,idi2] = np.mean(H_r_s)\n",
      "\n",
      "            msg = 'Current sweep is (%d,%d,%d) of (%d,%d,%d).' % (ids1,ids2,idi2,len(s_width)-1,len(s_width)-1,len(integral)-1)\n",
      "            print msg,' It took', time.time()-start, 'seconds.'"
     ],
     "language": "python",
     "metadata": {},
     "outputs": []
    },
    {
     "cell_type": "code",
     "collapsed": false,
     "input": [
      "fig = gcf()\n",
      "fig.set_size_inches((16,10))\n",
      "\n",
      "bmap = brewer2mpl.get_map('RdYlBu','diverging',8,reverse=True).mpl_colormap\n",
      "\n",
      "\n",
      "imshow(I[::-1,:,0],interpolation='nearest',cmap=bmap, extent=[s_width[0],s_width[-1],s_width[0],s_width[-1]])\n",
      "colorbar()\n",
      "ylabel('small - Filter 1 size - large',fontsize=14)\n",
      "xlabel('small - Filter 2 size - large',fontsize=14)\n",
      "title('Information transmission in LNL model',fontsize=16)\n",
      "\n",
      "savefig('AAA - Information transmission LNL with linear threshold - integral -1.eps')"
     ],
     "language": "python",
     "metadata": {},
     "outputs": [
      {
       "metadata": {},
       "output_type": "display_data",
       "png": "[encoded data removed]",
       "text": [
        "<matplotlib.figure.Figure at 0xf13c590>"
       ]
      }
     ],
     "prompt_number": 285
    },
    {
     "cell_type": "code",
     "collapsed": false,
     "input": [
      "fig = gcf()\n",
      "fig.set_size_inches((16,10))\n",
      "\n",
      "bmap = brewer2mpl.get_map('RdYlBu','diverging',8,reverse=True).mpl_colormap\n",
      "\n",
      "\n",
      "imshow(I[::-1,:,2],interpolation='nearest',cmap=bmap, extent=[s_width[0],s_width[-1],s_width[0],s_width[-1]])\n",
      "colorbar()\n",
      "ylabel('small - Filter 1 size - large',fontsize=14)\n",
      "xlabel('small - Filter 2 size - large',fontsize=14)\n",
      "title('Information transmission in LNL model',fontsize=16)\n",
      "\n",
      "savefig('AAA - Information transmission LNL with linear threshold - integral +1.eps')"
     ],
     "language": "python",
     "metadata": {},
     "outputs": [
      {
       "metadata": {},
       "output_type": "display_data",
       "png": "[encoded data removed]",
       "text": [
        "<matplotlib.figure.Figure at 0xb15ae10>"
       ]
      }
     ],
     "prompt_number": 286
    },
    {
     "cell_type": "code",
     "collapsed": false,
     "input": [
      "fig = gcf()\n",
      "fig.set_size_inches((16,10))\n",
      "\n",
      "bmap = brewer2mpl.get_map('RdYlBu','diverging',8,reverse=True).mpl_colormap\n",
      "\n",
      "subplot(1,2,1)\n",
      "imshow(H_rs[::-1,:,1],interpolation='nearest',cmap=bmap,extent=[s_width[0],s_width[-1],s_width[0],s_width[-1]])\n",
      "colorbar()\n",
      "ylabel('small - Filter 1 size - large',fontsize=14)\n",
      "xlabel('small - Filter 2 size - large',fontsize=14)\n",
      "title('Total response entropy',fontsize=16)\n",
      "\n",
      "subplot(1,2,2)\n",
      "imshow(H_r_s_avg[::-1,:,1],interpolation='nearest',cmap=bmap,extent=[s_width[0],s_width[-1],s_width[0],s_width[-1]])\n",
      "colorbar()\n",
      "ylabel('small - Filter 1 size - large',fontsize=14)\n",
      "xlabel('small - Filter 2 size - large',fontsize=14)\n",
      "title('Conditional entropy',fontsize=16)\n",
      "\n",
      "savefig('AAA - Entropy breakdown - linear threshold with zero integral.eps')"
     ],
     "language": "python",
     "metadata": {},
     "outputs": [
      {
       "metadata": {},
       "output_type": "display_data",
       "png": "[encoded data removed]",
       "text": [
        "<matplotlib.figure.Figure at 0x116a28d0>"
       ]
      }
     ],
     "prompt_number": 287
    },
    {
     "cell_type": "code",
     "collapsed": false,
     "input": [
      "fig = gcf()\n",
      "fig.set_size_inches((16,10))\n",
      "\n",
      "bmap = brewer2mpl.get_map('RdYlBu','diverging',8,reverse=True).mpl_colormap\n",
      "\n",
      "subplot(1,2,1)\n",
      "imshow(H_rs[::-1,:,2],interpolation='nearest',cmap=bmap,extent=[s_width[0],s_width[-1],s_width[0],s_width[-1]])\n",
      "colorbar()\n",
      "ylabel('small - Filter 1 size - large',fontsize=14)\n",
      "xlabel('small - Filter 2 size - large',fontsize=14)\n",
      "title('Total response entropy',fontsize=16)\n",
      "\n",
      "subplot(1,2,2)\n",
      "imshow(H_r_s_avg[::-1,:,2],interpolation='nearest',cmap=bmap,extent=[s_width[0],s_width[-1],s_width[0],s_width[-1]])\n",
      "colorbar()\n",
      "ylabel('small - Filter 1 size - large',fontsize=14)\n",
      "xlabel('small - Filter 2 size - large',fontsize=14)\n",
      "title('Conditional entropy',fontsize=16)\n",
      "\n",
      "#savefig('AAA - Entropy breakdown - linear threshold with zero integral.eps')"
     ],
     "language": "python",
     "metadata": {},
     "outputs": [
      {
       "metadata": {},
       "output_type": "pyout",
       "prompt_number": 295,
       "text": [
        "<matplotlib.text.Text at 0x113fc9d0>"
       ]
      },
      {
       "metadata": {},
       "output_type": "display_data",
       "png": "[encoded data removed]",
       "text": [
        "<matplotlib.figure.Figure at 0x138add50>"
       ]
      }
     ],
     "prompt_number": 295
    },
    {
     "cell_type": "code",
     "collapsed": false,
     "input": [],
     "language": "python",
     "metadata": {},
     "outputs": []
    }
   ],
   "metadata": {}
  }
 ]
}