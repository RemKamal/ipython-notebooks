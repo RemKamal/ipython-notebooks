{
 "cells": [
  {
   "cell_type": "code",
   "execution_count": 2,
   "metadata": {
    "collapsed": true
   },
   "outputs": [],
   "source": [
    "import numpy as np\n",
    "import os\n",
    "import matplotlib.pyplot as plt\n",
    "import csv\n",
    "%matplotlib inline"
   ]
  },
  {
   "cell_type": "code",
   "execution_count": 24,
   "metadata": {
    "collapsed": false
   },
   "outputs": [],
   "source": [
    "rfs = []\n",
    "for i in [1,2,3,4,5,7]:\n",
    "    rf = []\n",
    "    filename = '/Users/lmcintosh/stanford/papers/2016 Surround/pablo_receptive_fields/bip%d_2d_space.txt' %i\n",
    "    with open(filename) as f:\n",
    "        csvfile = csv.reader(f, delimiter='\\t')\n",
    "        for line in csvfile:\n",
    "            rf.append(np.array([float(l) for l in line]))\n",
    "    rfs.append(np.stack(rf))"
   ]
  },
  {
   "cell_type": "code",
   "execution_count": 30,
   "metadata": {
    "collapsed": false
   },
   "outputs": [
    {
     "data": {
      "image/png": "[encoded data removed]",
      "text/plain": [
       "<matplotlib.figure.Figure at 0x10867dbe0>"
      ]
     },
     "metadata": {},
     "output_type": "display_data"
    }
   ],
   "source": [
    "# note last two RFs are at different spacings\n",
    "# time is 15 ms\n",
    "# c2_2x2_sum 2px\n",
    "# bip1_1x1_sum_sh 9 microns\n",
    "# bip2_sum 1 micron (wrong)\n",
    "# bip3 54.6 microns\n",
    "# bip4 54.2 microns\n",
    "# bip5 18.2 microns\n",
    "# bip7 18.2 microns\n",
    "fig = plt.gcf()\n",
    "fig.set_size_inches((6,10))\n",
    "for i,rf in enumerate(rfs):\n",
    "    plt.subplot('32%d' %(i+1))\n",
    "    plt.imshow(rf, interpolation='nearest', cmap='seismic')\n",
    "    plt.clim([-np.max(abs(rf)), np.max(abs(rf))])\n",
    "    plt.grid('off')\n",
    "    plt.xticks([])\n",
    "    plt.yticks([])"
   ]
  },
  {
   "cell_type": "code",
   "execution_count": null,
   "metadata": {
    "collapsed": true
   },
   "outputs": [],
   "source": []
  }
 ],
 "metadata": {
  "kernelspec": {
   "display_name": "Python 3",
   "language": "python",
   "name": "python3"
  },
  "language_info": {
   "codemirror_mode": {
    "name": "ipython",
    "version": 3
   },
   "file_extension": ".py",
   "mimetype": "text/x-python",
   "name": "python",
   "nbconvert_exporter": "python",
   "pygments_lexer": "ipython3",
   "version": "3.5.1"
  }
 },
 "nbformat": 4,
 "nbformat_minor": 0
}
