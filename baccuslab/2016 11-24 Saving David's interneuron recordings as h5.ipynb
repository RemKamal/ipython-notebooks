{
 "cells": [
  {
   "cell_type": "code",
   "execution_count": 1,
   "metadata": {
    "collapsed": false
   },
   "outputs": [
    {
     "name": "stderr",
     "output_type": "stream",
     "text": [
      "Using gpu device 0: GeForce GT 750M (CNMeM is disabled)\n",
      "Using Theano backend.\n"
     ]
    },
    {
     "name": "stdout",
     "output_type": "stream",
     "text": [
      "You must install GPy (pip install GPy) to fit the GP regression nonlinearity.\n"
     ]
    }
   ],
   "source": [
    "import matplotlib\n",
    "matplotlib.use('Agg')\n",
    "\n",
    "import numpy as np\n",
    "import os\n",
    "from scipy.stats import zscore\n",
    "import pyret.filtertools as ft\n",
    "import pyret.spiketools as sp\n",
    "import pyret.stimulustools as st\n",
    "from deepretina.toolbox import load_model, load_partial_model, rolling_window\n",
    "from deepretina.io import despine\n",
    "from deepretina.metrics import cc\n",
    "\n",
    "%matplotlib inline\n",
    "from matplotlib.pyplot import *\n",
    "import matplotlib.pyplot as plt\n",
    "\n",
    "plt.style.use('deepretina')\n",
    "\n",
    "from pylab import rcParams\n",
    "rcParams['figure.figsize'] = (10.0, 8.0) # set default size of plots\n",
    "rcParams['image.interpolation'] = 'nearest'\n",
    "rcParams['image.cmap'] = 'seismic'\n",
    "\n",
    "# Some more magic so that the notebook will reload external python modules;\n",
    "# see http://stackoverflow.com/questions/1907993/autoreload-of-modules-in-ipython\n",
    "%load_ext autoreload\n",
    "%autoreload 2"
   ]
  },
  {
   "cell_type": "code",
   "execution_count": 7,
   "metadata": {
    "collapsed": true
   },
   "outputs": [],
   "source": [
    "data_dir = os.path.expanduser('~/data/kastner/')\n",
    "horizontals = [x[0] for x in os.walk(data_dir + 'horizontal')]\n",
    "amacrines = [x[0] for x in os.walk(data_dir + 'amacrine')]\n",
    "bipolars = [x[0] for x in os.walk(data_dir + 'bipolar') if 'reproduce' not in x[0]]"
   ]
  },
  {
   "cell_type": "markdown",
   "metadata": {},
   "source": [
    "### Take shortest amount of data so you can store all interneurons as an array with the same time"
   ]
  },
  {
   "cell_type": "code",
   "execution_count": null,
   "metadata": {
    "collapsed": false
   },
   "outputs": [],
   "source": [
    "boxes_len = None\n",
    "intraRF_v_len = None\n",
    "lines_len = None\n",
    "for idh,h_file in enumerate(horizontals):\n",
    "    try:\n",
    "        boxes = np.loadtxt(h_file + '/' + 'boxes.txt', skiprows=1)\n",
    "        boxes = boxes.reshape((-1, 38, 38))\n",
    "        if (not boxes_len) or (boxes.shape[0] < boxes_len):\n",
    "            boxes_len = boxes.shape[0]\n",
    "            \n",
    "        intraRF_v = np.loadtxt(h_file + '/' + 'intraRF_v.txt', skiprows=1)\n",
    "        if (not intraRF_v_len) or (len(intraRF_v) < intraRF_v_len):\n",
    "            intraRF_v_len = len(intraRF_v)\n",
    "    \n",
    "        lines = np.loadtxt(h_file + '/' + 'lines.txt', skiprows=1)\n",
    "        lines = lines.reshape((-1, 100))\n",
    "        if (not lines_len) or (lines.shape[0] < lines_len):\n",
    "            lines_len = lines.shape[0]\n",
    "\n",
    "    except:\n",
    "        print(h_file)"
   ]
  },
  {
   "cell_type": "code",
   "execution_count": null,
   "metadata": {
    "collapsed": true
   },
   "outputs": [],
   "source": [
    "boxes_len"
   ]
  },
  {
   "cell_type": "code",
   "execution_count": null,
   "metadata": {
    "collapsed": true
   },
   "outputs": [],
   "source": [
    "intraRF_v_len"
   ]
  },
  {
   "cell_type": "code",
   "execution_count": null,
   "metadata": {
    "collapsed": true
   },
   "outputs": [],
   "source": [
    "lines_len"
   ]
  },
  {
   "cell_type": "code",
   "execution_count": null,
   "metadata": {
    "collapsed": true
   },
   "outputs": [],
   "source": []
  }
 ],
 "metadata": {
  "kernelspec": {
   "display_name": "Python 3",
   "language": "python",
   "name": "python3"
  },
  "language_info": {
   "codemirror_mode": {
    "name": "ipython",
    "version": 3
   },
   "file_extension": ".py",
   "mimetype": "text/x-python",
   "name": "python",
   "nbconvert_exporter": "python",
   "pygments_lexer": "ipython3",
   "version": "3.5.1"
  }
 },
 "nbformat": 4,
 "nbformat_minor": 0
}
