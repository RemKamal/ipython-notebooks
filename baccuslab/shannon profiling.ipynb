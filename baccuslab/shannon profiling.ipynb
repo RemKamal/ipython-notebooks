{
 "cells": [
  {
   "cell_type": "code",
   "execution_count": 28,
   "metadata": {
    "collapsed": false
   },
   "outputs": [
    {
     "name": "stdout",
     "output_type": "stream",
     "text": [
      "The autoreload extension is already loaded. To reload it, use:\n",
      "  %reload_ext autoreload\n"
     ]
    }
   ],
   "source": [
    "import numpy as np\n",
    "from shannon.continuous import mi\n",
    "import timeit\n",
    "import matplotlib.pyplot as plt\n",
    "from deepretina.io import despine\n",
    "\n",
    "%matplotlib inline\n",
    "#%matplotlib qt\n",
    "\n",
    "from pylab import rcParams\n",
    "rcParams['figure.figsize'] = (10.0, 8.0) # set default size of plots\n",
    "rcParams['image.interpolation'] = 'nearest'\n",
    "rcParams['image.cmap'] = 'gray'\n",
    "\n",
    "%load_ext autoreload\n",
    "%autoreload 2"
   ]
  },
  {
   "cell_type": "code",
   "execution_count": 2,
   "metadata": {
    "collapsed": true
   },
   "outputs": [],
   "source": [
    "x1 = np.random.randn(1000,)\n",
    "x2 = 0.02*x1 + np.random.randn(1000,)"
   ]
  },
  {
   "cell_type": "code",
   "execution_count": 3,
   "metadata": {
    "collapsed": false
   },
   "outputs": [
    {
     "name": "stdout",
     "output_type": "stream",
     "text": [
      "The slowest run took 117.04 times longer than the fastest. This could mean that an intermediate result is being cached \n",
      "1 loops, best of 3: 8.58 ms per loop\n"
     ]
    }
   ],
   "source": [
    "%timeit mi(x1, x2, method='ann')"
   ]
  },
  {
   "cell_type": "code",
   "execution_count": 4,
   "metadata": {
    "collapsed": false
   },
   "outputs": [
    {
     "name": "stdout",
     "output_type": "stream",
     "text": [
      "10 loops, best of 3: 40 ms per loop\n"
     ]
    }
   ],
   "source": [
    "%timeit mi(x1, x2, method='nearest-neighbors')"
   ]
  },
  {
   "cell_type": "code",
   "execution_count": 5,
   "metadata": {
    "collapsed": false
   },
   "outputs": [
    {
     "data": {
      "text/plain": [
       "-0.084516389989822471"
      ]
     },
     "execution_count": 5,
     "metadata": {},
     "output_type": "execute_result"
    }
   ],
   "source": [
    "mi(x1, x2, method='ann')"
   ]
  },
  {
   "cell_type": "code",
   "execution_count": 6,
   "metadata": {
    "collapsed": false
   },
   "outputs": [
    {
     "data": {
      "text/plain": [
       "-0.084516389989822471"
      ]
     },
     "execution_count": 6,
     "metadata": {},
     "output_type": "execute_result"
    }
   ],
   "source": [
    "mi(x1, x2, method='nearest-neighbors')"
   ]
  },
  {
   "cell_type": "code",
   "execution_count": 39,
   "metadata": {
    "collapsed": false
   },
   "outputs": [],
   "source": [
    "lengths = np.logspace(1,3.5,25)"
   ]
  },
  {
   "cell_type": "code",
   "execution_count": 40,
   "metadata": {
    "collapsed": false
   },
   "outputs": [],
   "source": [
    "from timeit import timeit\n",
    "\n",
    "naive_durations = []\n",
    "sklearn_durations = []\n",
    "repeats = 10\n",
    "for l in lengths:\n",
    "    naive_timers = []\n",
    "    skl_timers = []\n",
    "    setup_script = 'from shannon.continuous import mi; import numpy as np; x1 = np.random.randn(%i,); x2 = 0.5*x1 + np.random.randn(%i,)' %(l,l)\n",
    "    t_naive = timeit(\"mi(x1, x2, method='nearest-neighbors')\", number=repeats, setup=setup_script)\n",
    "    t_skl = timeit(\"mi(x1, x2, method='ann')\", number=repeats, setup=setup_script)\n",
    "        \n",
    "    naive_durations.append(t_naive)\n",
    "    sklearn_durations.append(t_skl)"
   ]
  },
  {
   "cell_type": "code",
   "execution_count": 28,
   "metadata": {
    "collapsed": false
   },
   "outputs": [],
   "source": [
    "# naive_durations = []\n",
    "# sklearn_durations = []\n",
    "# repeats = 10\n",
    "# for l in lengths:\n",
    "#     naive_timers = []\n",
    "#     skl_timers = []\n",
    "#     for r in range(repeats):\n",
    "#         start_naive = timeit.timeit()\n",
    "#         tmp = mi(x1, x2, method='nearest-neighbors')\n",
    "#         end_naive = timeit.timeit()\n",
    "        \n",
    "#         start_skl = timeit.timeit()\n",
    "#         tmp = mi(x1, x2, method='ann')\n",
    "#         end_skl = timeit.timeit()\n",
    "        \n",
    "#         naive_timers.append(end_naive-start_naive)\n",
    "#         skl_timers.append(end_skl-start_skl)\n",
    "        \n",
    "#     naive_durations.append(np.mean(naive_timers))\n",
    "#     sklearn_durations.append(np.mean(skl_timers))"
   ]
  },
  {
   "cell_type": "code",
   "execution_count": null,
   "metadata": {
    "collapsed": true
   },
   "outputs": [],
   "source": []
  },
  {
   "cell_type": "code",
   "execution_count": 41,
   "metadata": {
    "collapsed": false
   },
   "outputs": [
    {
     "data": {
      "image/png": "[encoded data removed]",
      "text/plain": [
       "<matplotlib.figure.Figure at 0x117a522e8>"
      ]
     },
     "metadata": {},
     "output_type": "display_data"
    }
   ],
   "source": [
    "plt.plot(lengths, naive_durations, 'k.-', linewidth=5, markersize=15, label='naive')\n",
    "plt.plot(lengths, sklearn_durations, 'r.-', linewidth=5, markersize=15, label='ball_tree')\n",
    "plt.ylabel('Time (seconds)', fontsize=20)\n",
    "plt.xlabel('Size of array', fontsize=20)\n",
    "plt.xscale('log')\n",
    "plt.legend()\n",
    "despine(plt.gca())"
   ]
  },
  {
   "cell_type": "code",
   "execution_count": 25,
   "metadata": {
    "collapsed": true
   },
   "outputs": [],
   "source": [
    "? plt.legend"
   ]
  },
  {
   "cell_type": "code",
   "execution_count": null,
   "metadata": {
    "collapsed": true
   },
   "outputs": [],
   "source": []
  }
 ],
 "metadata": {
  "kernelspec": {
   "display_name": "Python 3",
   "language": "python",
   "name": "python3"
  },
  "language_info": {
   "codemirror_mode": {
    "name": "ipython",
    "version": 3
   },
   "file_extension": ".py",
   "mimetype": "text/x-python",
   "name": "python",
   "nbconvert_exporter": "python",
   "pygments_lexer": "ipython3",
   "version": "3.5.1"
  }
 },
 "nbformat": 4,
 "nbformat_minor": 0
}
