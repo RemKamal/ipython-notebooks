{
 "cells": [
  {
   "cell_type": "markdown",
   "metadata": {},
   "source": [
    "# A simple example with input noise where water-filling is not optimal"
   ]
  },
  {
   "cell_type": "code",
   "execution_count": 106,
   "metadata": {
    "collapsed": false
   },
   "outputs": [
    {
     "name": "stdout",
     "output_type": "stream",
     "text": [
      "The autoreload extension is already loaded. To reload it, use:\n",
      "  %reload_ext autoreload\n"
     ]
    }
   ],
   "source": [
    "import numpy as np\n",
    "from scipy.optimize import minimize\n",
    "\n",
    "# This is a bit of magic to make matplotlib figures appear inline in the\n",
    "# notebook rather than in a new window.\n",
    "%matplotlib inline\n",
    "import matplotlib.pyplot as plt\n",
    "\n",
    "from pylab import rcParams\n",
    "rcParams['figure.figsize'] = (10.0, 8.0) # set default size of plots\n",
    "rcParams['image.interpolation'] = 'nearest'\n",
    "rcParams['image.cmap'] = 'gray'\n",
    "\n",
    "# Some more magic so that the notebook will reload external python modules;\n",
    "# see http://stackoverflow.com/questions/1907993/autoreload-of-modules-in-ipython\n",
    "%load_ext autoreload\n",
    "%autoreload 2"
   ]
  },
  {
   "cell_type": "markdown",
   "metadata": {},
   "source": [
    "## Maximize information subject to output variance constraint"
   ]
  },
  {
   "cell_type": "code",
   "execution_count": 3,
   "metadata": {
    "collapsed": true
   },
   "outputs": [],
   "source": [
    "def info_single_channel(filter_amplitude, signal_std, input_noise_std, output_noise_std):\n",
    "    return 0.5*np.log2(1 + ((filter_amplitude*signal_std)**2 / ((filter_amplitude*input_noise_std)**2 + output_noise_std**2)))"
   ]
  },
  {
   "cell_type": "code",
   "execution_count": 4,
   "metadata": {
    "collapsed": true
   },
   "outputs": [],
   "source": [
    "def output_var_single_channel(filter_amplitude, signal_std, input_noise_std, output_noise_std):\n",
    "    return (filter_amplitude*signal_std)**2 + (filter_amplitude*input_noise_std)**2 + output_noise_std**2"
   ]
  },
  {
   "cell_type": "markdown",
   "metadata": {},
   "source": [
    "### Total functions"
   ]
  },
  {
   "cell_type": "code",
   "execution_count": 10,
   "metadata": {
    "collapsed": true
   },
   "outputs": [],
   "source": [
    "def info_all_channels(filter_amplitudes, signal_stds, input_noise_stds, output_noise_stds):\n",
    "    infos = [info_single_channel(filter_amplitudes[i], signal_stds[i], input_noise_stds[i], \n",
    "                                output_noise_stds[i]) for i in range(len(filter_amplitudes))]\n",
    "    return np.sum(np.array(infos))"
   ]
  },
  {
   "cell_type": "code",
   "execution_count": 11,
   "metadata": {
    "collapsed": true
   },
   "outputs": [],
   "source": [
    "def output_var_all_channels(filter_amplitudes, signal_stds, input_noise_stds, output_noise_stds):\n",
    "    variances = [output_var_single_channel(filter_amplitudes[i], signal_stds[i], input_noise_stds[i], \n",
    "                                output_noise_stds[i]) for i in range(len(filter_amplitudes))]\n",
    "    return np.sum(np.array(variances))"
   ]
  },
  {
   "cell_type": "markdown",
   "metadata": {},
   "source": [
    "## Toy problem"
   ]
  },
  {
   "cell_type": "code",
   "execution_count": 121,
   "metadata": {
    "collapsed": true
   },
   "outputs": [],
   "source": [
    "signal_stds = np.exp(-np.linspace(0,10,10))\n",
    "input_noise_stds = [0.1]*len(signal_stds)\n",
    "output_noise_stds = [0.4]*len(signal_stds)\n",
    "target_var = 100.0"
   ]
  },
  {
   "cell_type": "code",
   "execution_count": 122,
   "metadata": {
    "collapsed": false
   },
   "outputs": [
    {
     "data": {
      "text/plain": [
       "[<matplotlib.lines.Line2D at 0x10bf83a58>]"
      ]
     },
     "execution_count": 122,
     "metadata": {},
     "output_type": "execute_result"
    },
    {
     "data": {
      "image/png": "[encoded data removed]",
      "text/plain": [
       "<matplotlib.figure.Figure at 0x10c3e3630>"
      ]
     },
     "metadata": {},
     "output_type": "display_data"
    }
   ],
   "source": [
    "plt.plot(signal_stds)"
   ]
  },
  {
   "cell_type": "code",
   "execution_count": 123,
   "metadata": {
    "collapsed": false
   },
   "outputs": [
    {
     "data": {
      "text/plain": [
       "3.5789145375819995"
      ]
     },
     "execution_count": 123,
     "metadata": {},
     "output_type": "execute_result"
    }
   ],
   "source": [
    "info_all_channels([10., 1.], signal_stds, input_noise_stds, output_noise_stds)"
   ]
  },
  {
   "cell_type": "code",
   "execution_count": 124,
   "metadata": {
    "collapsed": false
   },
   "outputs": [
    {
     "data": {
      "text/plain": [
       "101.4383680232219"
      ]
     },
     "execution_count": 124,
     "metadata": {},
     "output_type": "execute_result"
    }
   ],
   "source": [
    "output_var_all_channels([10., 1.], signal_stds, input_noise_stds, output_noise_stds)"
   ]
  },
  {
   "cell_type": "markdown",
   "metadata": {},
   "source": [
    "### Waterfilling solution where signal + noise is constant"
   ]
  },
  {
   "cell_type": "code",
   "execution_count": 125,
   "metadata": {
    "collapsed": true
   },
   "outputs": [],
   "source": [
    "def waterfilling_solution(signal_stds, input_noise_stds, output_noise_stds, power, constraint_strength=1.5):\n",
    "    \n",
    "    # return signal + noise for each channel\n",
    "    def signal_and_noise(filter_amplitudes, signal_stds=signal_stds, input_noise_stds=input_noise_stds,\n",
    "                        output_noise_stds=output_noise_stds):\n",
    "        signals = np.array([(filter_amplitudes[i]*signal_stds[i])**2 for i in range(len(filter_amplitudes))])\n",
    "        noise = np.array([(filter_amplitudes[i]*input_noise_stds[i])**2 + output_noise_stds[i] for i in range(len(filter_amplitudes))])\n",
    "        return signals + noise\n",
    "    \n",
    "    def objective_fun(filter_amplitudes, signal_stds=signal_stds, input_noise_stds=input_noise_stds,\n",
    "                        output_noise_stds=output_noise_stds, power=power, constraint_strength=constraint_strength):\n",
    "        \n",
    "        signals_and_noises = signal_and_noise(filter_amplitudes=filter_amplitudes, signal_stds=signal_stds, input_noise_stds=input_noise_stds,\n",
    "                        output_noise_stds=output_noise_stds)\n",
    "        differences = np.diff(signals_and_noises)\n",
    "        \n",
    "        \n",
    "        return np.sum(differences**2) + constraint_strength*((power - np.sum(signals_and_noises))**2)\n",
    "    \n",
    "    x_opt = minimize(objective_fun, abs(np.random.randn(len(signal_stds))))\n",
    "    x_opt['x'] = abs(x_opt['x'])\n",
    "    \n",
    "    return x_opt"
   ]
  },
  {
   "cell_type": "code",
   "execution_count": 126,
   "metadata": {
    "collapsed": true
   },
   "outputs": [],
   "source": [
    "x_opt = waterfilling_solution(signal_stds, input_noise_stds, output_noise_stds, target_var)"
   ]
  },
  {
   "cell_type": "code",
   "execution_count": 127,
   "metadata": {
    "collapsed": false
   },
   "outputs": [
    {
     "data": {
      "text/plain": [
       "      fun: 5.871269191803808e-14\n",
       " hess_inv: array([[  3.46322789e-02,   7.01114415e-02,   9.72773178e-02,\n",
       "          5.34613164e-02,  -1.61964278e-02,  -8.12599382e-02,\n",
       "         -1.30164708e-01,  -1.66836985e-01,  -1.91378264e-01,\n",
       "         -2.04153202e-01],\n",
       "       [  7.01114415e-02,   2.16377318e-01,   3.08230395e-01,\n",
       "          1.93386013e-01,  -3.70920349e-03,  -1.97856889e-01,\n",
       "         -3.39101480e-01,  -4.51063900e-01,  -5.29978379e-01,\n",
       "         -5.79114109e-01],\n",
       "       [  9.72773178e-02,   3.08230395e-01,   8.30716977e-01,\n",
       "          6.09661245e-01,   1.48701601e-01,  -2.93909290e-01,\n",
       "         -6.26453745e-01,  -8.82373506e-01,  -1.06709236e+00,\n",
       "         -1.17044017e+00],\n",
       "       [  5.34613164e-02,   1.93386013e-01,   6.09661245e-01,\n",
       "          1.18953279e+00,   5.24403446e-01,  -8.82191430e-02,\n",
       "         -5.07569062e-01,  -8.66674008e-01,  -1.12954026e+00,\n",
       "         -1.26219000e+00],\n",
       "       [ -1.61964278e-02,  -3.70920349e-03,   1.48701601e-01,\n",
       "          5.24403446e-01,   1.09110236e+00,   4.39178638e-01,\n",
       "         -9.96156439e-02,  -4.77337508e-01,  -7.09158848e-01,\n",
       "         -8.00425598e-01],\n",
       "       [ -8.12599382e-02,  -1.97856889e-01,  -2.93909290e-01,\n",
       "         -8.82191430e-02,   4.39178638e-01,   1.10551053e+00,\n",
       "          5.73867326e-01,   2.14802721e-01,  -3.59697732e-02,\n",
       "         -1.71296901e-01],\n",
       "       [ -1.30164708e-01,  -3.39101480e-01,  -6.26453745e-01,\n",
       "         -5.07569062e-01,  -9.96156439e-02,   5.73867326e-01,\n",
       "          1.35974787e+00,   9.79115412e-01,   6.91711343e-01,\n",
       "          5.65905084e-01],\n",
       "       [ -1.66836985e-01,  -4.51063900e-01,  -8.82373506e-01,\n",
       "         -8.66674008e-01,  -4.77337508e-01,   2.14802721e-01,\n",
       "          9.79115412e-01,   1.91391525e+00,   1.57220782e+00,\n",
       "          1.40236954e+00],\n",
       "       [ -1.91378264e-01,  -5.29978379e-01,  -1.06709236e+00,\n",
       "         -1.12954026e+00,  -7.09158848e-01,  -3.59697732e-02,\n",
       "          6.91711343e-01,   1.57220782e+00,   2.64955040e+00,\n",
       "          2.54347815e+00],\n",
       "       [ -2.04153202e-01,  -5.79114109e-01,  -1.17044017e+00,\n",
       "         -1.26219000e+00,  -8.00425598e-01,  -1.71296901e-01,\n",
       "          5.65905084e-01,   1.40236954e+00,   2.54347815e+00,\n",
       "          3.74467879e+00]])\n",
       "      jac: array([  2.43825891e-06,  -3.07686859e-08,  -7.05641096e-08,\n",
       "         1.57230105e-07,   1.47100798e-07,   1.19300858e-07,\n",
       "         9.22248399e-08,   4.52901107e-08,   1.25733594e-07,\n",
       "         5.94950170e-08])\n",
       "  message: 'Optimization terminated successfully.'\n",
       "     nfev: 576\n",
       "      nit: 42\n",
       "     njev: 48\n",
       "   status: 0\n",
       "  success: True\n",
       "        x: array([  3.08300993,   9.00571942,  21.01210692,  29.18252833,\n",
       "        30.77239809,  30.96073967,  30.98135825,  30.98359513,\n",
       "        30.98383762,  30.98386388])"
      ]
     },
     "execution_count": 127,
     "metadata": {},
     "output_type": "execute_result"
    }
   ],
   "source": [
    "x_opt"
   ]
  },
  {
   "cell_type": "code",
   "execution_count": 128,
   "metadata": {
    "collapsed": false
   },
   "outputs": [
    {
     "data": {
      "text/plain": [
       "9.7599997337084829"
      ]
     },
     "execution_count": 128,
     "metadata": {},
     "output_type": "execute_result"
    }
   ],
   "source": [
    "output_var_single_channel(x_opt['x'][0], signal_stds[0], input_noise_stds[0], output_noise_std[0])"
   ]
  },
  {
   "cell_type": "code",
   "execution_count": 129,
   "metadata": {
    "collapsed": false
   },
   "outputs": [
    {
     "data": {
      "text/plain": [
       "9.7599996978335604"
      ]
     },
     "execution_count": 129,
     "metadata": {},
     "output_type": "execute_result"
    }
   ],
   "source": [
    "output_var_single_channel(x_opt['x'][1], signal_stds[1], input_noise_stds[1], output_noise_std[1])"
   ]
  },
  {
   "cell_type": "code",
   "execution_count": 130,
   "metadata": {
    "collapsed": false
   },
   "outputs": [
    {
     "data": {
      "text/plain": [
       "97.600000029256847"
      ]
     },
     "execution_count": 130,
     "metadata": {},
     "output_type": "execute_result"
    }
   ],
   "source": [
    "output_var_all_channels(x_opt['x'], signal_stds, input_noise_stds, output_noise_stds)"
   ]
  },
  {
   "cell_type": "code",
   "execution_count": 142,
   "metadata": {
    "collapsed": false
   },
   "outputs": [
    {
     "name": "stdout",
     "output_type": "stream",
     "text": [
      "[2.6290159588756703, 1.6646467959234057, 0.54654106675651037, 0.084908948345527646, 0.0097172620753429931, 0.0010596002803932439, 0.00011490452280753557, 1.2452889786246443e-05, 1.3495057818957429e-06, 1.4624339991666214e-07]\n",
      "4.936018 bits\n"
     ]
    }
   ],
   "source": [
    "info_per_channel = [info_single_channel(x_opt['x'][i], signal_stds[i], input_noise_stds[i], output_noise_stds[i]) for i in range(len(x_opt['x']))]\n",
    "print(info_per_channel)\n",
    "print('%f bits' %sum(info_per_channel))"
   ]
  },
  {
   "cell_type": "markdown",
   "metadata": {},
   "source": [
    "## Now just maximize information, don't use waterfilling"
   ]
  },
  {
   "cell_type": "code",
   "execution_count": 149,
   "metadata": {
    "collapsed": true
   },
   "outputs": [],
   "source": [
    "def maximize_info_solution(signal_stds, input_noise_stds, output_noise_stds, power, constraint_strength=1.5):\n",
    "    \n",
    "    # return signal + noise for each channel\n",
    "    def signal_and_noise(filter_amplitudes, signal_stds=signal_stds, input_noise_stds=input_noise_stds,\n",
    "                        output_noise_stds=output_noise_stds):\n",
    "        signals = np.array([(filter_amplitudes[i]*signal_stds[i])**2 for i in range(len(filter_amplitudes))])\n",
    "        noise = np.array([(filter_amplitudes[i]*input_noise_stds[i])**2 + output_noise_stds[i] for i in range(len(filter_amplitudes))])\n",
    "        return signals + noise\n",
    "    \n",
    "    def objective_fun(filter_amplitudes, signal_stds=signal_stds, input_noise_stds=input_noise_stds,\n",
    "                        output_noise_stds=output_noise_stds, power=power, constraint_strength=constraint_strength):\n",
    "        \n",
    "        signals_and_noises = signal_and_noise(filter_amplitudes=filter_amplitudes, signal_stds=signal_stds, input_noise_stds=input_noise_stds,\n",
    "                        output_noise_stds=output_noise_stds)\n",
    "        \n",
    "        total_info = info_all_channels(filter_amplitudes, signal_stds, input_noise_stds, output_noise_stds)\n",
    "        \n",
    "        return -total_info + constraint_strength*((power - np.sum(signals_and_noises))**2)\n",
    "    \n",
    "    x_opt = minimize(objective_fun, abs(np.random.randn(len(signal_stds))))\n",
    "    x_opt['x'] = abs(x_opt['x'])\n",
    "    \n",
    "    return x_opt"
   ]
  },
  {
   "cell_type": "code",
   "execution_count": 150,
   "metadata": {
    "collapsed": false
   },
   "outputs": [
    {
     "data": {
      "text/plain": [
       "      fun: -5.527154121487199\n",
       " hess_inv: array([[  1.54652330e+01,   5.52024079e+01,  -6.67108886e+01,\n",
       "         -3.75230302e+01,   8.24915323e+00,  -4.74279916e+01,\n",
       "          6.43641998e+00,  -1.49266687e+00,  -4.83791745e+00,\n",
       "         -1.36115839e+01],\n",
       "       [  5.52024079e+01,   3.35327220e+02,   9.41631765e+01,\n",
       "          2.19403326e+02,   3.13660528e+02,   1.11625528e+02,\n",
       "         -2.52037666e+00,  -3.90802483e+01,  -9.38014033e+01,\n",
       "         -2.55197119e+02],\n",
       "       [ -6.67108886e+01,   9.41631765e+01,   1.95600819e+03,\n",
       "         -4.57198956e+02,  -4.59402472e+02,   3.75054241e+02,\n",
       "         -5.73723859e+01,   1.15332684e+01,   3.88888369e+01,\n",
       "          1.09710495e+02],\n",
       "       [ -3.75230302e+01,   2.19403326e+02,  -4.57198956e+02,\n",
       "          4.96313809e+03,   3.18171918e+02,   1.24490085e+01,\n",
       "          3.40780499e+01,  -3.31991995e+01,  -8.67392311e+01,\n",
       "         -2.38800576e+02],\n",
       "       [  8.24915323e+00,   3.13660528e+02,  -4.59402472e+02,\n",
       "          3.18171918e+02,   6.74659294e+03,   4.74240167e+02,\n",
       "         -3.22225564e+01,  -2.99703001e+02,  -7.17149398e+02,\n",
       "         -1.94923095e+03],\n",
       "       [ -4.74279916e+01,   1.11625528e+02,   3.75054241e+02,\n",
       "          1.24490085e+01,   4.74240167e+02,   1.08449432e+04,\n",
       "         -1.04198842e+03,  -7.62262602e+02,  -1.63819459e+03,\n",
       "         -4.38832588e+03],\n",
       "       [  6.43641998e+00,  -2.52037666e+00,  -5.73723859e+01,\n",
       "          3.40780499e+01,  -3.22225564e+01,  -1.04198842e+03,\n",
       "          1.01733702e+02,   7.19448282e+01,   1.54157672e+02,\n",
       "          4.12766207e+02],\n",
       "       [ -1.49266687e+00,  -3.90802483e+01,   1.15332684e+01,\n",
       "         -3.31991995e+01,  -2.99703001e+02,  -7.62262602e+02,\n",
       "          7.19448282e+01,   6.66160997e+01,   1.44448938e+02,\n",
       "          3.88277492e+02],\n",
       "       [ -4.83791744e+00,  -9.38014033e+01,   3.88888369e+01,\n",
       "         -8.67392311e+01,  -7.17149398e+02,  -1.63819459e+03,\n",
       "          1.54157672e+02,   1.44448938e+02,   3.19809881e+02,\n",
       "          8.57269047e+02],\n",
       "       [ -1.36115839e+01,  -2.55197119e+02,   1.09710495e+02,\n",
       "         -2.38800576e+02,  -1.94923095e+03,  -4.38832588e+03,\n",
       "          4.12766207e+02,   3.88277492e+02,   8.57269047e+02,\n",
       "          2.30628571e+03]])\n",
       "      jac: array([ -6.85453415e-06,  -1.01327896e-06,   2.38418579e-07,\n",
       "        -5.96046448e-08,  -1.49011612e-06,  -2.26497650e-06,\n",
       "         1.01327896e-06,  -7.74860382e-07,  -1.84774399e-06,\n",
       "        -5.30481339e-06])\n",
       "  message: 'Optimization terminated successfully.'\n",
       "     nfev: 2256\n",
       "      nit: 161\n",
       "     njev: 188\n",
       "   status: 0\n",
       "  success: True\n",
       "        x: array([  7.90567639e+00,   1.37298063e+01,   1.84785852e+01,\n",
       "         1.44601716e+01,   8.12496062e+00,   3.34049489e+00,\n",
       "         3.23800555e-02,   1.67198136e-02,   4.19463720e-02,\n",
       "         1.15043087e-01])"
      ]
     },
     "execution_count": 150,
     "metadata": {},
     "output_type": "execute_result"
    }
   ],
   "source": [
    "x_opt_max = maximize_info_solution(signal_stds, input_noise_stds, output_noise_stds, target_var)\n",
    "x_opt_max"
   ]
  },
  {
   "cell_type": "code",
   "execution_count": 151,
   "metadata": {
    "collapsed": false
   },
   "outputs": [
    {
     "data": {
      "text/plain": [
       "63.284716350472706"
      ]
     },
     "execution_count": 151,
     "metadata": {},
     "output_type": "execute_result"
    }
   ],
   "source": [
    "output_var_single_channel(x_opt_max['x'][0], signal_stds[0], input_noise_stds[0], output_noise_std[0])"
   ]
  },
  {
   "cell_type": "code",
   "execution_count": 152,
   "metadata": {
    "collapsed": false
   },
   "outputs": [
    {
     "data": {
      "text/plain": [
       "22.473269653018008"
      ]
     },
     "execution_count": 152,
     "metadata": {},
     "output_type": "execute_result"
    }
   ],
   "source": [
    "output_var_single_channel(x_opt_max['x'][1], signal_stds[1], input_noise_stds[1], output_noise_std[1])"
   ]
  },
  {
   "cell_type": "code",
   "execution_count": 153,
   "metadata": {
    "collapsed": false
   },
   "outputs": [
    {
     "data": {
      "text/plain": [
       "97.600766490172418"
      ]
     },
     "execution_count": 153,
     "metadata": {},
     "output_type": "execute_result"
    }
   ],
   "source": [
    "output_var_all_channels(x_opt_max['x'], signal_stds, input_noise_stds, output_noise_stds)"
   ]
  },
  {
   "cell_type": "code",
   "execution_count": 154,
   "metadata": {
    "collapsed": false
   },
   "outputs": [
    {
     "name": "stdout",
     "output_type": "stream",
     "text": [
      "[3.1665129095604838, 1.728991906796103, 0.54264358598699469, 0.080600363868038413, 0.0079634092897795591, 0.00044281909640051209, 7.6552289162316311e-09, 2.2120140519426006e-10, 1.5086024569898224e-10, 1.2288440170382445e-10]\n",
      "4.936018 bits\n"
     ]
    }
   ],
   "source": [
    "info_per_channel_max = [info_single_channel(x_opt_max['x'][i], signal_stds[i], input_noise_stds[i], output_noise_stds[i]) for i in range(len(x_opt['x']))]\n",
    "print(info_per_channel_max)\n",
    "print('%f bits' %sum(info_per_channel))"
   ]
  },
  {
   "cell_type": "code",
   "execution_count": null,
   "metadata": {
    "collapsed": true
   },
   "outputs": [],
   "source": []
  },
  {
   "cell_type": "code",
   "execution_count": 155,
   "metadata": {
    "collapsed": false
   },
   "outputs": [
    {
     "data": {
      "text/plain": [
       "<matplotlib.text.Text at 0x10ce2edd8>"
      ]
     },
     "execution_count": 155,
     "metadata": {},
     "output_type": "execute_result"
    },
    {
     "data": {
      "image/png": "[encoded data removed]",
      "text/plain": [
       "<matplotlib.figure.Figure at 0x10d212e80>"
      ]
     },
     "metadata": {},
     "output_type": "display_data"
    }
   ],
   "source": [
    "plt.plot(x_opt['x'], 'b', label='waterfilling')\n",
    "plt.plot(x_opt_max['x'], 'k', label='max info')\n",
    "plt.legend(loc='lower right')\n",
    "plt.yscale('log')\n",
    "plt.ylabel('filter weights', fontsize=18)\n",
    "plt.xlabel('channel', fontsize=18)"
   ]
  },
  {
   "cell_type": "code",
   "execution_count": 156,
   "metadata": {
    "collapsed": false
   },
   "outputs": [
    {
     "data": {
      "text/plain": [
       "<matplotlib.text.Text at 0x10d41c390>"
      ]
     },
     "execution_count": 156,
     "metadata": {},
     "output_type": "execute_result"
    },
    {
     "data": {
      "image/png": "[encoded data removed]",
      "text/plain": [
       "<matplotlib.figure.Figure at 0x10ce23cf8>"
      ]
     },
     "metadata": {},
     "output_type": "display_data"
    }
   ],
   "source": [
    "plt.plot(np.cumsum(info_per_channel), 'b', label='waterfilling')\n",
    "plt.plot(np.cumsum(info_per_channel_max), 'k', label='max info')\n",
    "plt.legend(loc='lower right')\n",
    "plt.xlabel('channel', fontsize=18)\n",
    "plt.ylabel('cumulative info (bits)', fontsize=18)"
   ]
  },
  {
   "cell_type": "code",
   "execution_count": 174,
   "metadata": {
    "collapsed": false
   },
   "outputs": [
    {
     "data": {
      "text/plain": [
       "<matplotlib.text.Text at 0x10e4169b0>"
      ]
     },
     "execution_count": 174,
     "metadata": {},
     "output_type": "execute_result"
    },
    {
     "data": {
      "image/png": "[encoded data removed]",
      "text/plain": [
       "<matplotlib.figure.Figure at 0x10db01518>"
      ]
     },
     "metadata": {},
     "output_type": "display_data"
    }
   ],
   "source": [
    "plt.plot([output_var_single_channel(x_opt['x'][i], signal_stds[i], input_noise_stds[i], output_noise_stds[i]) for i in range(len(x_opt_max['x']))], 'b', label='waterfilling')\n",
    "plt.plot([output_var_single_channel(x_opt_max['x'][i], signal_stds[i], input_noise_stds[i], output_noise_stds[i]) for i in range(len(x_opt_max['x']))], 'k', label='max info')\n",
    "plt.plot((signal_stds*x_opt['x'])**2, 'k--', label='signal var')\n",
    "plt.plot(np.array(input_noise_stds*x_opt['x'])**2 + np.array(output_noise_stds)**2, 'r', label='noise var')\n",
    "plt.legend()\n",
    "plt.xlabel('channel', fontsize=18)\n",
    "plt.ylabel('signal + noise', fontsize=18)"
   ]
  },
  {
   "cell_type": "code",
   "execution_count": null,
   "metadata": {
    "collapsed": true
   },
   "outputs": [],
   "source": []
  }
 ],
 "metadata": {
  "kernelspec": {
   "display_name": "Python 3",
   "language": "python",
   "name": "python3"
  },
  "language_info": {
   "codemirror_mode": {
    "name": "ipython",
    "version": 3
   },
   "file_extension": ".py",
   "mimetype": "text/x-python",
   "name": "python",
   "nbconvert_exporter": "python",
   "pygments_lexer": "ipython3",
   "version": "3.5.1"
  }
 },
 "nbformat": 4,
 "nbformat_minor": 0
}
