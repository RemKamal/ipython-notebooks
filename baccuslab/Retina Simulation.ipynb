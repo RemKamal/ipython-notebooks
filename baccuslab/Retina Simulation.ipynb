{
 "metadata": {
  "name": ""
 },
 "nbformat": 3,
 "nbformat_minor": 0,
 "worksheets": [
  {
   "cells": [
    {
     "cell_type": "code",
     "collapsed": false,
     "input": [
      "from numpy import *\n",
      "from scipy import *\n",
      "from matplotlib.pyplot import *\n",
      "import pdb\n",
      "\n",
      "import pylab\n",
      "import PIL\n",
      "import Image"
     ],
     "language": "python",
     "metadata": {},
     "outputs": [],
     "prompt_number": 7
    },
    {
     "cell_type": "code",
     "collapsed": false,
     "input": [
      "cd ~/retina-simulation/LNP_model_spatiotemporal/"
     ],
     "language": "python",
     "metadata": {},
     "outputs": [
      {
       "output_type": "stream",
       "stream": "stdout",
       "text": [
        "/home/lane/retina-simulation/LNP_model_spatiotemporal\n"
       ]
      }
     ],
     "prompt_number": 3
    },
    {
     "cell_type": "code",
     "collapsed": false,
     "input": [
      "ls"
     ],
     "language": "python",
     "metadata": {},
     "outputs": [
      {
       "output_type": "stream",
       "stream": "stdout",
       "text": [
        "retinaFunctions.py  retina.m  run_whiteNoise.py  visual_neuron.py\r\n"
       ]
      }
     ],
     "prompt_number": 4
    },
    {
     "cell_type": "code",
     "collapsed": false,
     "input": [
      "import visual_neuron\n",
      "import retinaFunctions"
     ],
     "language": "python",
     "metadata": {},
     "outputs": [],
     "prompt_number": 5
    },
    {
     "cell_type": "markdown",
     "metadata": {},
     "source": [
      "## run_whiteNoise.py  \n",
      "\n",
      "(test.py)"
     ]
    },
    {
     "cell_type": "code",
     "collapsed": false,
     "input": [
      "numSamples = 5000;\n",
      "sampleRate = 1./500;\n",
      "\n",
      "#stimulus = numpy.zeros((100,100,50))\n",
      "random.seed(42)\n",
      "\n",
      "side_length = 100\n",
      "stimulus = numpy.zeros((side_length,side_length,numSamples))\n",
      "for x in range(0,side_length/2,2):\n",
      "    stimulus[2*x:2*x+2,:,:] = 1\n",
      "pylab.imshow(stimulus[:,:,0], cmap = cm.Greys_r)\n",
      "pylab.show()\n",
      "    \n",
      "#pic = Image.open(\"./Natural_Images/DSC_0001.JPG\")\n",
      "#\n",
      "# crop image\n",
      "#left   = 0\n",
      "#top    = 0\n",
      "#width  = 1000\n",
      "#height = 1000\n",
      "#box    = (left, top, left+width, top+height)\n",
      "#pic    = pic.crop(box)\n",
      "\n",
      "#pixRGB = numpy.array(pic)\n",
      "#pixGS = 0.299*pixRGB[:,:,0] + 0.587*pixRGB[:,:,1] + 0.114*pixRGB[:,:,2]\n",
      "#for i in range(pixRGB.shape[0]):\n",
      "#    for j in range(pixRGB.shape[1]):\n",
      "#        pixGS[i,j] = int(0.299*pixRGB[i,j,0] + 0.587*pixRGB[i,j,1] + 0.114*pixRGB[i,j,2])\n",
      "#print pixGS.shape\n",
      "\n",
      "#stimulus = zeros([pixGS.shape[0], pixGS.shape[1], numSamples])\n",
      "#stimulus = numpy.tile(pixGS,[1,1,numSamples])\n",
      "#for z in range(stimulus.shape[2]):\n",
      "#    stimulus[:,:,z] = pixGS\n",
      "height = 16 \n",
      "width = 16 \n",
      "\n",
      "RGC = visual_neuron.RGC_layer(width=width,height=height) # specify RF, type\n",
      "print 'constructing RGC'\n",
      "stop_id = RGC.construct_layer(id_start = 0)\n",
      "print 'generating RGC spikes'\n",
      "responses = RGC.generate_spikes(stimulus,sampleRate)\n",
      "\n",
      "# save each RGC type, RF center (int space), and spiketrain time stamps\n",
      "# into a new file\n",
      "chip_height = 65\n",
      "chip_width = 64\n",
      "row_offset = int(chip_height/4-height/2)\n",
      "col_offset = int(chip_width/4-width/2)\n",
      "for i in range(len(responses)):\n",
      "    tp = responses[i][0]\n",
      "    row = responses[i][1]\n",
      "    col = responses[i][2]\n",
      "    spikes = responses[i][3]\n",
      "    dataFile = open(str(int(tp)) + '-' + str(int(row+row_offset)) + '-' + str(int(col+col_offset)) + '-' + 'rgc' + '.dat','a')\n",
      "    for j in range(len(spikes)):\n",
      "        dataFile.write(str(spikes[j]) + '\\n')\n",
      "        #print spikes[j]\n",
      "    dataFile.close()\n",
      "    #print responses[i]\n",
      "\n",
      "\n",
      "\n",
      "#LGN = visual_neuron.LGN_layer()\n",
      "#print 'constructing LGN'\n",
      "#LGN.construct_layer(id_start = stop_id)\n",
      "#print 'connecting RGC to LGN'\n",
      "#connections = LGN.connect_RGC(RGC)\n",
      "\n",
      "\n",
      "#spikes = retinaFunctions.RGCresponse(stimulus, 0.1, [0,0], 0)\n",
      "\n",
      "\n",
      "#Pe = RGC.generate_brian()\n",
      "\n",
      "#\n",
      "#centers_P_ON = numpy.array(test_P.centers)\n",
      "#centers_P_ON = centers_P.reshape(centers_P.size/2,2)\n",
      "#radii_P_ON = numpy.array(test_P.radii)\n",
      "#radii_P_ON = radii_P.reshape(radii_P.size)\n",
      "#centers_P_OFF = numpy.array(test_P.centers)\n",
      "#centers_P_OFF = centers_P.reshape(centers_P.size/2,2)\n",
      "#radii_P_OFF = numpy.array(test_P.radii)\n",
      "#radii_P_OFF = radii_P.reshape(radii_P.size)\n",
      "#\n",
      "#centers_M = numpy.array(test_M.centers)\n",
      "#centers_M = centers_M.reshape(centers_M.size/2,2)\n",
      "#radii_M = numpy.array(test_M.radii)\n",
      "#radii_M = radii_M.reshape(radii_M.size)\n",
      "#pylab.figure()\n",
      "#ax = pylab.subplot(221,aspect=1)\n",
      "#for i in range(centers_P.shape[0]):\n",
      "#    c = matplotlib.patches.Circle(centers_P[i],radii_P[i],lw=1,ec='b',fill=False)\n",
      "#    ax.add_patch(c)\n",
      "#pylab.xlim(test_P.rf_xlim)\n",
      "#pylab.ylim(test_P.rf_ylim)\n",
      "#ax = pylab.subplot(222,aspect=1)\n",
      "#for i in range(centers_M.shape[0]):\n",
      "#    c = matplotlib.patches.Circle(centers_M[i],radii_M[i],lw=1,ec='r',fill=False)\n",
      "#    ax.add_patch(c)\n",
      "#pylab.xlim(test_M.rf_xlim)\n",
      "#pylab.ylim(test_M.rf_ylim)\n",
      "#pylab.show()\n",
      "#\n",
      "#pdb.set_trace()\n"
     ],
     "language": "python",
     "metadata": {},
     "outputs": [
      {
       "metadata": {},
       "output_type": "display_data",
       "png": "[encoded data removed]",
       "text": [
        "<matplotlib.figure.Figure at 0x3d4dbd0>"
       ]
      },
      {
       "output_type": "stream",
       "stream": "stdout",
       "text": [
        "constructing RGC\n",
        "generating RGC spikes\n",
        "4985 time samples\n",
        "4985 time samples"
       ]
      },
      {
       "output_type": "stream",
       "stream": "stdout",
       "text": [
        "\n",
        "4985 time samples\n",
        "4985 time samples"
       ]
      },
      {
       "output_type": "stream",
       "stream": "stdout",
       "text": [
        "\n",
        "4985 time samples\n",
        "4985 time samples"
       ]
      },
      {
       "output_type": "stream",
       "stream": "stdout",
       "text": [
        "\n",
        "4985 time samples"
       ]
      },
      {
       "output_type": "stream",
       "stream": "stdout",
       "text": [
        "\n",
        "4985 time samples\n",
        "4985 time samples"
       ]
      },
      {
       "output_type": "stream",
       "stream": "stdout",
       "text": [
        "\n",
        "4985 time samples"
       ]
      },
      {
       "output_type": "stream",
       "stream": "stdout",
       "text": [
        "\n",
        "4985 time samples\n",
        "4985 time samples"
       ]
      },
      {
       "output_type": "stream",
       "stream": "stdout",
       "text": [
        "\n",
        "4985 time samples"
       ]
      },
      {
       "output_type": "stream",
       "stream": "stdout",
       "text": [
        "\n",
        "4985 time samples\n",
        "4985 time samples"
       ]
      },
      {
       "output_type": "stream",
       "stream": "stdout",
       "text": [
        "\n",
        "4985 time samples"
       ]
      },
      {
       "output_type": "stream",
       "stream": "stdout",
       "text": [
        "\n",
        "4985 time samples\n",
        "4985 time samples"
       ]
      },
      {
       "output_type": "stream",
       "stream": "stdout",
       "text": [
        "\n",
        "4985 time samples"
       ]
      },
      {
       "output_type": "stream",
       "stream": "stdout",
       "text": [
        "\n",
        "4985 time samples\n",
        "4985 time samples"
       ]
      },
      {
       "output_type": "stream",
       "stream": "stdout",
       "text": [
        "\n",
        "4985 time samples"
       ]
      },
      {
       "output_type": "stream",
       "stream": "stdout",
       "text": [
        "\n",
        "4985 time samples\n",
        "4985 time samples"
       ]
      },
      {
       "output_type": "stream",
       "stream": "stdout",
       "text": [
        "\n",
        "4985 time samples"
       ]
      },
      {
       "output_type": "stream",
       "stream": "stdout",
       "text": [
        "\n",
        "4985 time samples\n",
        "4985 time samples"
       ]
      },
      {
       "output_type": "stream",
       "stream": "stdout",
       "text": [
        "\n",
        "4985 time samples"
       ]
      },
      {
       "output_type": "stream",
       "stream": "stdout",
       "text": [
        "\n",
        "4985 time samples\n",
        "4985 time samples"
       ]
      },
      {
       "output_type": "stream",
       "stream": "stdout",
       "text": [
        "\n",
        "4985 time samples"
       ]
      },
      {
       "output_type": "stream",
       "stream": "stdout",
       "text": [
        "\n",
        "4985 time samples\n",
        "4985 time samples"
       ]
      },
      {
       "output_type": "stream",
       "stream": "stdout",
       "text": [
        "\n",
        "4985 time samples"
       ]
      },
      {
       "output_type": "stream",
       "stream": "stdout",
       "text": [
        "\n",
        "4985 time samples\n",
        "4985 time samples"
       ]
      },
      {
       "output_type": "stream",
       "stream": "stdout",
       "text": [
        "\n",
        "4985 time samples\n",
        "4985 time samples"
       ]
      },
      {
       "output_type": "stream",
       "stream": "stdout",
       "text": [
        "\n",
        "4985 time samples"
       ]
      },
      {
       "output_type": "stream",
       "stream": "stdout",
       "text": [
        "\n",
        "4985 time samples\n",
        "4985 time samples"
       ]
      },
      {
       "output_type": "stream",
       "stream": "stdout",
       "text": [
        "\n",
        "4985 time samples"
       ]
      },
      {
       "output_type": "stream",
       "stream": "stdout",
       "text": [
        "\n",
        "4985 time samples\n",
        "4985 time samples"
       ]
      },
      {
       "output_type": "stream",
       "stream": "stdout",
       "text": [
        "\n",
        "4985 time samples"
       ]
      },
      {
       "output_type": "stream",
       "stream": "stdout",
       "text": [
        "\n",
        "4985 time samples"
       ]
      },
      {
       "output_type": "stream",
       "stream": "stdout",
       "text": [
        "\n",
        "4985 time samples\n",
        "4985 time samples"
       ]
      },
      {
       "output_type": "stream",
       "stream": "stdout",
       "text": [
        "\n",
        "4985 time samples\n",
        "4985 time samples"
       ]
      },
      {
       "output_type": "stream",
       "stream": "stdout",
       "text": [
        "\n",
        "4985 time samples"
       ]
      },
      {
       "output_type": "stream",
       "stream": "stdout",
       "text": [
        "\n",
        "4985 time samples\n",
        "4985 time samples"
       ]
      },
      {
       "output_type": "stream",
       "stream": "stdout",
       "text": [
        "\n",
        "4985 time samples"
       ]
      },
      {
       "output_type": "stream",
       "stream": "stdout",
       "text": [
        "\n",
        "4985 time samples\n",
        "4985 time samples"
       ]
      },
      {
       "output_type": "stream",
       "stream": "stdout",
       "text": [
        "\n",
        "4985 time samples"
       ]
      },
      {
       "output_type": "stream",
       "stream": "stdout",
       "text": [
        "\n",
        "4985 time samples\n",
        "4985 time samples"
       ]
      },
      {
       "output_type": "stream",
       "stream": "stdout",
       "text": [
        "\n",
        "4985 time samples"
       ]
      },
      {
       "output_type": "stream",
       "stream": "stdout",
       "text": [
        "\n",
        "4985 time samples\n",
        "4985 time samples"
       ]
      },
      {
       "output_type": "stream",
       "stream": "stdout",
       "text": [
        "\n",
        "4985 time samples"
       ]
      },
      {
       "output_type": "stream",
       "stream": "stdout",
       "text": [
        "\n",
        "4985 time samples\n",
        "4985 time samples"
       ]
      },
      {
       "output_type": "stream",
       "stream": "stdout",
       "text": [
        "\n",
        "4985 time samples"
       ]
      },
      {
       "output_type": "stream",
       "stream": "stdout",
       "text": [
        "\n",
        "4985 time samples\n",
        "4985 time samples"
       ]
      },
      {
       "output_type": "stream",
       "stream": "stdout",
       "text": [
        "\n",
        "4985 time samples"
       ]
      },
      {
       "output_type": "stream",
       "stream": "stdout",
       "text": [
        "\n",
        "4985 time samples\n",
        "4985 time samples"
       ]
      },
      {
       "output_type": "stream",
       "stream": "stdout",
       "text": [
        "\n",
        "4985 time samples\n",
        "4985 time samples"
       ]
      },
      {
       "output_type": "stream",
       "stream": "stdout",
       "text": [
        "\n",
        "4985 time samples"
       ]
      },
      {
       "output_type": "stream",
       "stream": "stdout",
       "text": [
        "\n",
        "4985 time samples"
       ]
      },
      {
       "output_type": "stream",
       "stream": "stdout",
       "text": [
        "\n",
        "4985 time samples\n",
        "4985 time samples"
       ]
      },
      {
       "output_type": "stream",
       "stream": "stdout",
       "text": [
        "\n",
        "4985 time samples"
       ]
      },
      {
       "output_type": "stream",
       "stream": "stdout",
       "text": [
        "\n",
        "4985 time samples\n",
        "4985 time samples"
       ]
      },
      {
       "output_type": "stream",
       "stream": "stdout",
       "text": [
        "\n",
        "4985 time samples\n",
        "4985 time samples"
       ]
      },
      {
       "output_type": "stream",
       "stream": "stdout",
       "text": [
        "\n",
        "4985 time samples"
       ]
      },
      {
       "output_type": "stream",
       "stream": "stdout",
       "text": [
        "\n",
        "4985 time samples\n",
        "4985 time samples"
       ]
      },
      {
       "output_type": "stream",
       "stream": "stdout",
       "text": [
        "\n",
        "4985 time samples"
       ]
      },
      {
       "output_type": "stream",
       "stream": "stdout",
       "text": [
        "\n",
        "4985 time samples"
       ]
      },
      {
       "output_type": "stream",
       "stream": "stdout",
       "text": [
        "\n",
        "4985 time samples\n",
        "4985 time samples"
       ]
      },
      {
       "output_type": "stream",
       "stream": "stdout",
       "text": [
        "\n",
        "4985 time samples\n",
        "4985 time samples"
       ]
      },
      {
       "output_type": "stream",
       "stream": "stdout",
       "text": [
        "\n",
        "4985 time samples"
       ]
      },
      {
       "output_type": "stream",
       "stream": "stdout",
       "text": [
        "\n",
        "4985 time samples\n",
        "4985 time samples"
       ]
      },
      {
       "output_type": "stream",
       "stream": "stdout",
       "text": [
        "\n",
        "4985 time samples"
       ]
      },
      {
       "output_type": "stream",
       "stream": "stdout",
       "text": [
        "\n",
        "4985 time samples\n",
        "4985 time samples"
       ]
      },
      {
       "output_type": "stream",
       "stream": "stdout",
       "text": [
        "\n",
        "4985 time samples"
       ]
      },
      {
       "output_type": "stream",
       "stream": "stdout",
       "text": [
        "\n",
        "4985 time samples\n",
        "4985 time samples"
       ]
      },
      {
       "output_type": "stream",
       "stream": "stdout",
       "text": [
        "\n",
        "4985 time samples"
       ]
      },
      {
       "output_type": "stream",
       "stream": "stdout",
       "text": [
        "\n",
        "4985 time samples\n",
        "4985 time samples"
       ]
      },
      {
       "output_type": "stream",
       "stream": "stdout",
       "text": [
        "\n",
        "4985 time samples\n",
        "4985 time samples"
       ]
      },
      {
       "output_type": "stream",
       "stream": "stdout",
       "text": [
        "\n",
        "4985 time samples"
       ]
      },
      {
       "output_type": "stream",
       "stream": "stdout",
       "text": [
        "\n",
        "4985 time samples"
       ]
      },
      {
       "output_type": "stream",
       "stream": "stdout",
       "text": [
        "\n",
        "4985 time samples\n",
        "4985 time samples"
       ]
      },
      {
       "output_type": "stream",
       "stream": "stdout",
       "text": [
        "\n",
        "4985 time samples\n",
        "4985 time samples"
       ]
      },
      {
       "output_type": "stream",
       "stream": "stdout",
       "text": [
        "\n",
        "4985 time samples"
       ]
      },
      {
       "output_type": "stream",
       "stream": "stdout",
       "text": [
        "\n",
        "4985 time samples\n",
        "4985 time samples"
       ]
      },
      {
       "output_type": "stream",
       "stream": "stdout",
       "text": [
        "\n",
        "4985 time samples"
       ]
      },
      {
       "output_type": "stream",
       "stream": "stdout",
       "text": [
        "\n",
        "4985 time samples\n",
        "4985 time samples"
       ]
      },
      {
       "output_type": "stream",
       "stream": "stdout",
       "text": [
        "\n",
        "4985 time samples"
       ]
      },
      {
       "output_type": "stream",
       "stream": "stdout",
       "text": [
        "\n",
        "4985 time samples\n",
        "4985 time samples"
       ]
      },
      {
       "output_type": "stream",
       "stream": "stdout",
       "text": [
        "\n",
        "4985 time samples"
       ]
      },
      {
       "output_type": "stream",
       "stream": "stdout",
       "text": [
        "\n",
        "4985 time samples"
       ]
      },
      {
       "output_type": "stream",
       "stream": "stdout",
       "text": [
        "\n",
        "4985 time samples\n",
        "4985 time samples"
       ]
      },
      {
       "output_type": "stream",
       "stream": "stdout",
       "text": [
        "\n",
        "4985 time samples\n",
        "4985 time samples"
       ]
      },
      {
       "output_type": "stream",
       "stream": "stdout",
       "text": [
        "\n",
        "4985 time samples"
       ]
      },
      {
       "output_type": "stream",
       "stream": "stdout",
       "text": [
        "\n",
        "4985 time samples\n",
        "4985 time samples"
       ]
      },
      {
       "output_type": "stream",
       "stream": "stdout",
       "text": [
        "\n",
        "4985 time samples"
       ]
      },
      {
       "output_type": "stream",
       "stream": "stdout",
       "text": [
        "\n",
        "4985 time samples\n",
        "4985 time samples"
       ]
      },
      {
       "output_type": "stream",
       "stream": "stdout",
       "text": [
        "\n",
        "4985 time samples"
       ]
      },
      {
       "output_type": "stream",
       "stream": "stdout",
       "text": [
        "\n",
        "4985 time samples\n",
        "4985 time samples"
       ]
      },
      {
       "output_type": "stream",
       "stream": "stdout",
       "text": [
        "\n",
        "4985 time samples\n",
        "4985 time samples"
       ]
      },
      {
       "output_type": "stream",
       "stream": "stdout",
       "text": [
        "\n",
        "4985 time samples"
       ]
      },
      {
       "output_type": "stream",
       "stream": "stdout",
       "text": [
        "\n",
        "4985 time samples"
       ]
      },
      {
       "output_type": "stream",
       "stream": "stdout",
       "text": [
        "\n",
        "4985 time samples\n",
        "4985 time samples"
       ]
      },
      {
       "output_type": "stream",
       "stream": "stdout",
       "text": [
        "\n",
        "4985 time samples\n",
        "4985 time samples"
       ]
      },
      {
       "output_type": "stream",
       "stream": "stdout",
       "text": [
        "\n",
        "4985 time samples"
       ]
      },
      {
       "output_type": "stream",
       "stream": "stdout",
       "text": [
        "\n",
        "4985 time samples\n",
        "4985 time samples"
       ]
      },
      {
       "output_type": "stream",
       "stream": "stdout",
       "text": [
        "\n",
        "4985 time samples"
       ]
      },
      {
       "output_type": "stream",
       "stream": "stdout",
       "text": [
        "\n",
        "4985 time samples\n",
        "4985 time samples"
       ]
      },
      {
       "output_type": "stream",
       "stream": "stdout",
       "text": [
        "\n",
        "4985 time samples"
       ]
      },
      {
       "output_type": "stream",
       "stream": "stdout",
       "text": [
        "\n",
        "4985 time samples\n",
        "4985 time samples"
       ]
      },
      {
       "output_type": "stream",
       "stream": "stdout",
       "text": [
        "\n",
        "4985 time samples"
       ]
      },
      {
       "output_type": "stream",
       "stream": "stdout",
       "text": [
        "\n",
        "4985 time samples\n",
        "4985 time samples"
       ]
      },
      {
       "output_type": "stream",
       "stream": "stdout",
       "text": [
        "\n",
        "4985 time samples"
       ]
      },
      {
       "output_type": "stream",
       "stream": "stdout",
       "text": [
        "\n",
        "4985 time samples\n",
        "4985 time samples"
       ]
      },
      {
       "output_type": "stream",
       "stream": "stdout",
       "text": [
        "\n",
        "4985 time samples"
       ]
      },
      {
       "output_type": "stream",
       "stream": "stdout",
       "text": [
        "\n",
        "4985 time samples\n",
        "4985 time samples"
       ]
      },
      {
       "output_type": "stream",
       "stream": "stdout",
       "text": [
        "\n",
        "4985 time samples"
       ]
      },
      {
       "output_type": "stream",
       "stream": "stdout",
       "text": [
        "\n",
        "4985 time samples\n",
        "4985 time samples"
       ]
      },
      {
       "output_type": "stream",
       "stream": "stdout",
       "text": [
        "\n",
        "4985 time samples"
       ]
      },
      {
       "output_type": "stream",
       "stream": "stdout",
       "text": [
        "\n",
        "4985 time samples\n",
        "4985 time samples"
       ]
      },
      {
       "output_type": "stream",
       "stream": "stdout",
       "text": [
        "\n",
        "4985 time samples\n",
        "4985 time samples"
       ]
      },
      {
       "output_type": "stream",
       "stream": "stdout",
       "text": [
        "\n",
        "4985 time samples"
       ]
      },
      {
       "output_type": "stream",
       "stream": "stdout",
       "text": [
        "\n",
        "4985 time samples\n",
        "4985 time samples"
       ]
      },
      {
       "output_type": "stream",
       "stream": "stdout",
       "text": [
        "\n",
        "4985 time samples"
       ]
      },
      {
       "output_type": "stream",
       "stream": "stdout",
       "text": [
        "\n",
        "4985 time samples\n",
        "4985 time samples"
       ]
      },
      {
       "output_type": "stream",
       "stream": "stdout",
       "text": [
        "\n",
        "4985 time samples"
       ]
      },
      {
       "output_type": "stream",
       "stream": "stdout",
       "text": [
        "\n",
        "4985 time samples\n",
        "4985 time samples"
       ]
      },
      {
       "output_type": "stream",
       "stream": "stdout",
       "text": [
        "\n",
        "4985 time samples"
       ]
      },
      {
       "output_type": "stream",
       "stream": "stdout",
       "text": [
        "\n",
        "4985 time samples\n",
        "4985 time samples"
       ]
      },
      {
       "output_type": "stream",
       "stream": "stdout",
       "text": [
        "\n",
        "4985 time samples"
       ]
      },
      {
       "output_type": "stream",
       "stream": "stdout",
       "text": [
        "\n",
        "4985 time samples\n",
        "4985 time samples"
       ]
      },
      {
       "output_type": "stream",
       "stream": "stdout",
       "text": [
        "\n",
        "4985 time samples"
       ]
      },
      {
       "output_type": "stream",
       "stream": "stdout",
       "text": [
        "\n",
        "4985 time samples\n",
        "4985 time samples"
       ]
      },
      {
       "output_type": "stream",
       "stream": "stdout",
       "text": [
        "\n",
        "4985 time samples"
       ]
      },
      {
       "output_type": "stream",
       "stream": "stdout",
       "text": [
        "\n",
        "4985 time samples\n",
        "4985 time samples"
       ]
      },
      {
       "output_type": "stream",
       "stream": "stdout",
       "text": [
        "\n",
        "4985 time samples"
       ]
      },
      {
       "output_type": "stream",
       "stream": "stdout",
       "text": [
        "\n",
        "4985 time samples\n",
        "4985 time samples"
       ]
      },
      {
       "output_type": "stream",
       "stream": "stdout",
       "text": [
        "\n",
        "4985 time samples"
       ]
      },
      {
       "output_type": "stream",
       "stream": "stdout",
       "text": [
        "\n",
        "4985 time samples\n",
        "4985 time samples"
       ]
      },
      {
       "output_type": "stream",
       "stream": "stdout",
       "text": [
        "\n",
        "4985 time samples"
       ]
      },
      {
       "output_type": "stream",
       "stream": "stdout",
       "text": [
        "\n",
        "4985 time samples\n",
        "4985 time samples"
       ]
      },
      {
       "output_type": "stream",
       "stream": "stdout",
       "text": [
        "\n",
        "4985 time samples"
       ]
      },
      {
       "output_type": "stream",
       "stream": "stdout",
       "text": [
        "\n",
        "4985 time samples\n",
        "4985 time samples"
       ]
      },
      {
       "output_type": "stream",
       "stream": "stdout",
       "text": [
        "\n",
        "4985 time samples\n",
        "4985 time samples"
       ]
      },
      {
       "output_type": "stream",
       "stream": "stdout",
       "text": [
        "\n",
        "4985 time samples"
       ]
      },
      {
       "output_type": "stream",
       "stream": "stdout",
       "text": [
        "\n",
        "4985 time samples\n",
        "4985 time samples"
       ]
      },
      {
       "output_type": "stream",
       "stream": "stdout",
       "text": [
        "\n",
        "4985 time samples"
       ]
      },
      {
       "output_type": "stream",
       "stream": "stdout",
       "text": [
        "\n",
        "4985 time samples\n",
        "4985 time samples"
       ]
      },
      {
       "output_type": "stream",
       "stream": "stdout",
       "text": [
        "\n",
        "4985 time samples"
       ]
      },
      {
       "output_type": "stream",
       "stream": "stdout",
       "text": [
        "\n",
        "4985 time samples\n",
        "4985 time samples"
       ]
      },
      {
       "output_type": "stream",
       "stream": "stdout",
       "text": [
        "\n",
        "4985 time samples"
       ]
      },
      {
       "output_type": "stream",
       "stream": "stdout",
       "text": [
        "\n",
        "4985 time samples\n",
        "4985 time samples"
       ]
      },
      {
       "output_type": "stream",
       "stream": "stdout",
       "text": [
        "\n",
        "4985 time samples"
       ]
      },
      {
       "output_type": "stream",
       "stream": "stdout",
       "text": [
        "\n",
        "4985 time samples\n",
        "4985 time samples"
       ]
      },
      {
       "output_type": "stream",
       "stream": "stdout",
       "text": [
        "\n",
        "4985 time samples"
       ]
      },
      {
       "output_type": "stream",
       "stream": "stdout",
       "text": [
        "\n",
        "4985 time samples\n",
        "4985 time samples"
       ]
      },
      {
       "output_type": "stream",
       "stream": "stdout",
       "text": [
        "\n",
        "4985 time samples"
       ]
      },
      {
       "output_type": "stream",
       "stream": "stdout",
       "text": [
        "\n",
        "4985 time samples\n",
        "4985 time samples"
       ]
      },
      {
       "output_type": "stream",
       "stream": "stdout",
       "text": [
        "\n",
        "4985 time samples"
       ]
      },
      {
       "output_type": "stream",
       "stream": "stdout",
       "text": [
        "\n",
        "4985 time samples\n",
        "4985 time samples"
       ]
      },
      {
       "output_type": "stream",
       "stream": "stdout",
       "text": [
        "\n",
        "4985 time samples\n",
        "4985 time samples"
       ]
      },
      {
       "output_type": "stream",
       "stream": "stdout",
       "text": [
        "\n",
        "4985 time samples"
       ]
      },
      {
       "output_type": "stream",
       "stream": "stdout",
       "text": [
        "\n",
        "4985 time samples\n",
        "4985 time samples"
       ]
      },
      {
       "output_type": "stream",
       "stream": "stdout",
       "text": [
        "\n",
        "4985 time samples"
       ]
      },
      {
       "output_type": "stream",
       "stream": "stdout",
       "text": [
        "\n",
        "4985 time samples\n",
        "4985 time samples"
       ]
      },
      {
       "output_type": "stream",
       "stream": "stdout",
       "text": [
        "\n",
        "4985 time samples"
       ]
      },
      {
       "output_type": "stream",
       "stream": "stdout",
       "text": [
        "\n",
        "4985 time samples\n",
        "4985 time samples"
       ]
      },
      {
       "output_type": "stream",
       "stream": "stdout",
       "text": [
        "\n",
        "4985 time samples"
       ]
      },
      {
       "output_type": "stream",
       "stream": "stdout",
       "text": [
        "\n",
        "4985 time samples\n",
        "4985 time samples"
       ]
      },
      {
       "output_type": "stream",
       "stream": "stdout",
       "text": [
        "\n",
        "4985 time samples"
       ]
      },
      {
       "output_type": "stream",
       "stream": "stdout",
       "text": [
        "\n",
        "4985 time samples\n",
        "4985 time samples"
       ]
      },
      {
       "output_type": "stream",
       "stream": "stdout",
       "text": [
        "\n",
        "4985 time samples"
       ]
      },
      {
       "output_type": "stream",
       "stream": "stdout",
       "text": [
        "\n",
        "4985 time samples\n",
        "4985 time samples"
       ]
      },
      {
       "output_type": "stream",
       "stream": "stdout",
       "text": [
        "\n",
        "4985 time samples"
       ]
      },
      {
       "output_type": "stream",
       "stream": "stdout",
       "text": [
        "\n",
        "4985 time samples\n",
        "4985 time samples"
       ]
      },
      {
       "output_type": "stream",
       "stream": "stdout",
       "text": [
        "\n",
        "4985 time samples"
       ]
      },
      {
       "output_type": "stream",
       "stream": "stdout",
       "text": [
        "\n",
        "4985 time samples\n",
        "4985 time samples"
       ]
      },
      {
       "output_type": "stream",
       "stream": "stdout",
       "text": [
        "\n",
        "4985 time samples"
       ]
      },
      {
       "output_type": "stream",
       "stream": "stdout",
       "text": [
        "\n",
        "4985 time samples\n",
        "4985 time samples"
       ]
      },
      {
       "output_type": "stream",
       "stream": "stdout",
       "text": [
        "\n",
        "4985 time samples"
       ]
      },
      {
       "output_type": "stream",
       "stream": "stdout",
       "text": [
        "\n",
        "4985 time samples"
       ]
      },
      {
       "output_type": "stream",
       "stream": "stdout",
       "text": [
        "\n",
        "4985 time samples"
       ]
      },
      {
       "output_type": "stream",
       "stream": "stdout",
       "text": [
        "\n",
        "4985 time samples"
       ]
      },
      {
       "output_type": "stream",
       "stream": "stdout",
       "text": [
        "\n",
        "4985 time samples"
       ]
      },
      {
       "output_type": "stream",
       "stream": "stdout",
       "text": [
        "\n",
        "4985 time samples"
       ]
      },
      {
       "output_type": "stream",
       "stream": "stdout",
       "text": [
        "\n",
        "4985 time samples"
       ]
      },
      {
       "output_type": "stream",
       "stream": "stdout",
       "text": [
        "\n",
        "4985 time samples"
       ]
      },
      {
       "output_type": "stream",
       "stream": "stdout",
       "text": [
        "\n",
        "4985 time samples"
       ]
      },
      {
       "output_type": "stream",
       "stream": "stdout",
       "text": [
        "\n",
        "4985 time samples"
       ]
      },
      {
       "output_type": "stream",
       "stream": "stdout",
       "text": [
        "\n",
        "4985 time samples"
       ]
      },
      {
       "output_type": "stream",
       "stream": "stdout",
       "text": [
        "\n",
        "4985 time samples"
       ]
      },
      {
       "output_type": "stream",
       "stream": "stdout",
       "text": [
        "\n",
        "4985 time samples"
       ]
      },
      {
       "output_type": "stream",
       "stream": "stdout",
       "text": [
        "\n",
        "4985 time samples"
       ]
      },
      {
       "output_type": "stream",
       "stream": "stdout",
       "text": [
        "\n",
        "4985 time samples"
       ]
      },
      {
       "output_type": "stream",
       "stream": "stdout",
       "text": [
        "\n",
        "4985 time samples"
       ]
      },
      {
       "output_type": "stream",
       "stream": "stdout",
       "text": [
        "\n",
        "4985 time samples"
       ]
      },
      {
       "output_type": "stream",
       "stream": "stdout",
       "text": [
        "\n",
        "4985 time samples"
       ]
      },
      {
       "output_type": "stream",
       "stream": "stdout",
       "text": [
        "\n",
        "4985 time samples"
       ]
      },
      {
       "output_type": "stream",
       "stream": "stdout",
       "text": [
        "\n",
        "4985 time samples"
       ]
      },
      {
       "output_type": "stream",
       "stream": "stdout",
       "text": [
        "\n",
        "4985 time samples"
       ]
      },
      {
       "output_type": "stream",
       "stream": "stdout",
       "text": [
        "\n",
        "4985 time samples"
       ]
      },
      {
       "output_type": "stream",
       "stream": "stdout",
       "text": [
        "\n",
        "4985 time samples"
       ]
      },
      {
       "output_type": "stream",
       "stream": "stdout",
       "text": [
        "\n",
        "4985 time samples"
       ]
      },
      {
       "output_type": "stream",
       "stream": "stdout",
       "text": [
        "\n",
        "4985 time samples"
       ]
      },
      {
       "output_type": "stream",
       "stream": "stdout",
       "text": [
        "\n",
        "4985 time samples"
       ]
      },
      {
       "output_type": "stream",
       "stream": "stdout",
       "text": [
        "\n",
        "4985 time samples"
       ]
      },
      {
       "output_type": "stream",
       "stream": "stdout",
       "text": [
        "\n",
        "4985 time samples"
       ]
      },
      {
       "output_type": "stream",
       "stream": "stdout",
       "text": [
        "\n",
        "4985 time samples"
       ]
      },
      {
       "output_type": "stream",
       "stream": "stdout",
       "text": [
        "\n",
        "4985 time samples"
       ]
      },
      {
       "output_type": "stream",
       "stream": "stdout",
       "text": [
        "\n",
        "4985 time samples"
       ]
      },
      {
       "output_type": "stream",
       "stream": "stdout",
       "text": [
        "\n",
        "4985 time samples\n",
        "4985 time samples"
       ]
      },
      {
       "output_type": "stream",
       "stream": "stdout",
       "text": [
        "\n",
        "4985 time samples"
       ]
      },
      {
       "output_type": "stream",
       "stream": "stdout",
       "text": [
        "\n",
        "4985 time samples"
       ]
      },
      {
       "output_type": "stream",
       "stream": "stdout",
       "text": [
        "\n",
        "4985 time samples"
       ]
      },
      {
       "output_type": "stream",
       "stream": "stdout",
       "text": [
        "\n",
        "4985 time samples"
       ]
      },
      {
       "output_type": "stream",
       "stream": "stdout",
       "text": [
        "\n",
        "4985 time samples"
       ]
      },
      {
       "output_type": "stream",
       "stream": "stdout",
       "text": [
        "\n",
        "4985 time samples"
       ]
      },
      {
       "output_type": "stream",
       "stream": "stdout",
       "text": [
        "\n",
        "4985 time samples"
       ]
      },
      {
       "output_type": "stream",
       "stream": "stdout",
       "text": [
        "\n",
        "4985 time samples"
       ]
      },
      {
       "output_type": "stream",
       "stream": "stdout",
       "text": [
        "\n",
        "4985 time samples"
       ]
      },
      {
       "output_type": "stream",
       "stream": "stdout",
       "text": [
        "\n",
        "4985 time samples"
       ]
      },
      {
       "output_type": "stream",
       "stream": "stdout",
       "text": [
        "\n",
        "4985 time samples"
       ]
      },
      {
       "output_type": "stream",
       "stream": "stdout",
       "text": [
        "\n",
        "4985 time samples"
       ]
      },
      {
       "output_type": "stream",
       "stream": "stdout",
       "text": [
        "\n",
        "4985 time samples"
       ]
      },
      {
       "output_type": "stream",
       "stream": "stdout",
       "text": [
        "\n",
        "4985 time samples"
       ]
      },
      {
       "output_type": "stream",
       "stream": "stdout",
       "text": [
        "\n",
        "4985 time samples"
       ]
      },
      {
       "output_type": "stream",
       "stream": "stdout",
       "text": [
        "\n",
        "4985 time samples"
       ]
      },
      {
       "output_type": "stream",
       "stream": "stdout",
       "text": [
        "\n",
        "4985 time samples"
       ]
      },
      {
       "output_type": "stream",
       "stream": "stdout",
       "text": [
        "\n",
        "4985 time samples"
       ]
      },
      {
       "output_type": "stream",
       "stream": "stdout",
       "text": [
        "\n",
        "4985 time samples"
       ]
      },
      {
       "output_type": "stream",
       "stream": "stdout",
       "text": [
        "\n",
        "4985 time samples"
       ]
      },
      {
       "output_type": "stream",
       "stream": "stdout",
       "text": [
        "\n",
        "4985 time samples"
       ]
      },
      {
       "output_type": "stream",
       "stream": "stdout",
       "text": [
        "\n",
        "4985 time samples"
       ]
      },
      {
       "output_type": "stream",
       "stream": "stdout",
       "text": [
        "\n",
        "4985 time samples"
       ]
      },
      {
       "output_type": "stream",
       "stream": "stdout",
       "text": [
        "\n",
        "4985 time samples"
       ]
      },
      {
       "output_type": "stream",
       "stream": "stdout",
       "text": [
        "\n",
        "4985 time samples"
       ]
      },
      {
       "output_type": "stream",
       "stream": "stdout",
       "text": [
        "\n",
        "4985 time samples"
       ]
      },
      {
       "output_type": "stream",
       "stream": "stdout",
       "text": [
        "\n",
        "4985 time samples"
       ]
      },
      {
       "output_type": "stream",
       "stream": "stdout",
       "text": [
        "\n",
        "4985 time samples"
       ]
      },
      {
       "output_type": "stream",
       "stream": "stdout",
       "text": [
        "\n",
        "4985 time samples"
       ]
      },
      {
       "output_type": "stream",
       "stream": "stdout",
       "text": [
        "\n",
        "4985 time samples"
       ]
      },
      {
       "output_type": "stream",
       "stream": "stdout",
       "text": [
        "\n",
        "4985 time samples\n",
        "4985 time samples"
       ]
      },
      {
       "output_type": "stream",
       "stream": "stdout",
       "text": [
        "\n",
        "4985 time samples"
       ]
      },
      {
       "output_type": "stream",
       "stream": "stdout",
       "text": [
        "\n",
        "4985 time samples"
       ]
      },
      {
       "output_type": "stream",
       "stream": "stdout",
       "text": [
        "\n",
        "4985 time samples"
       ]
      },
      {
       "output_type": "stream",
       "stream": "stdout",
       "text": [
        "\n",
        "4985 time samples"
       ]
      },
      {
       "output_type": "stream",
       "stream": "stdout",
       "text": [
        "\n",
        "4985 time samples"
       ]
      },
      {
       "output_type": "stream",
       "stream": "stdout",
       "text": [
        "\n",
        "4985 time samples"
       ]
      },
      {
       "output_type": "stream",
       "stream": "stdout",
       "text": [
        "\n",
        "4985 time samples"
       ]
      },
      {
       "output_type": "stream",
       "stream": "stdout",
       "text": [
        "\n",
        "4985 time samples"
       ]
      },
      {
       "output_type": "stream",
       "stream": "stdout",
       "text": [
        "\n",
        "4985 time samples"
       ]
      },
      {
       "output_type": "stream",
       "stream": "stdout",
       "text": [
        "\n",
        "4985 time samples"
       ]
      },
      {
       "output_type": "stream",
       "stream": "stdout",
       "text": [
        "\n",
        "4985 time samples"
       ]
      },
      {
       "output_type": "stream",
       "stream": "stdout",
       "text": [
        "\n",
        "4985 time samples"
       ]
      },
      {
       "output_type": "stream",
       "stream": "stdout",
       "text": [
        "\n",
        "4985 time samples"
       ]
      },
      {
       "output_type": "stream",
       "stream": "stdout",
       "text": [
        "\n",
        "4985 time samples"
       ]
      },
      {
       "output_type": "stream",
       "stream": "stdout",
       "text": [
        "\n",
        "4985 time samples"
       ]
      },
      {
       "output_type": "stream",
       "stream": "stdout",
       "text": [
        "\n",
        "4985 time samples"
       ]
      },
      {
       "output_type": "stream",
       "stream": "stdout",
       "text": [
        "\n",
        "4985 time samples"
       ]
      },
      {
       "output_type": "stream",
       "stream": "stdout",
       "text": [
        "\n",
        "4985 time samples"
       ]
      },
      {
       "output_type": "stream",
       "stream": "stdout",
       "text": [
        "\n",
        "4985 time samples"
       ]
      },
      {
       "output_type": "stream",
       "stream": "stdout",
       "text": [
        "\n",
        "4985 time samples"
       ]
      },
      {
       "output_type": "stream",
       "stream": "stdout",
       "text": [
        "\n",
        "4985 time samples"
       ]
      },
      {
       "output_type": "stream",
       "stream": "stdout",
       "text": [
        "\n",
        "4985 time samples"
       ]
      },
      {
       "output_type": "stream",
       "stream": "stdout",
       "text": [
        "\n",
        "4985 time samples"
       ]
      },
      {
       "output_type": "stream",
       "stream": "stdout",
       "text": [
        "\n",
        "4985 time samples"
       ]
      },
      {
       "output_type": "stream",
       "stream": "stdout",
       "text": [
        "\n",
        "4985 time samples"
       ]
      },
      {
       "output_type": "stream",
       "stream": "stdout",
       "text": [
        "\n",
        "4985 time samples"
       ]
      },
      {
       "output_type": "stream",
       "stream": "stdout",
       "text": [
        "\n",
        "4985 time samples"
       ]
      },
      {
       "output_type": "stream",
       "stream": "stdout",
       "text": [
        "\n",
        "4985 time samples"
       ]
      },
      {
       "output_type": "stream",
       "stream": "stdout",
       "text": [
        "\n",
        "4985 time samples"
       ]
      },
      {
       "output_type": "stream",
       "stream": "stdout",
       "text": [
        "\n",
        "4985 time samples"
       ]
      },
      {
       "output_type": "stream",
       "stream": "stdout",
       "text": [
        "\n",
        "4985 time samples\n",
        "4985 time samples"
       ]
      },
      {
       "output_type": "stream",
       "stream": "stdout",
       "text": [
        "\n",
        "4985 time samples"
       ]
      },
      {
       "output_type": "stream",
       "stream": "stdout",
       "text": [
        "\n",
        "4985 time samples"
       ]
      },
      {
       "output_type": "stream",
       "stream": "stdout",
       "text": [
        "\n",
        "4985 time samples"
       ]
      },
      {
       "output_type": "stream",
       "stream": "stdout",
       "text": [
        "\n",
        "4985 time samples"
       ]
      },
      {
       "output_type": "stream",
       "stream": "stdout",
       "text": [
        "\n",
        "4985 time samples"
       ]
      },
      {
       "output_type": "stream",
       "stream": "stdout",
       "text": [
        "\n",
        "4985 time samples"
       ]
      },
      {
       "output_type": "stream",
       "stream": "stdout",
       "text": [
        "\n",
        "4985 time samples"
       ]
      },
      {
       "output_type": "stream",
       "stream": "stdout",
       "text": [
        "\n",
        "4985 time samples"
       ]
      },
      {
       "output_type": "stream",
       "stream": "stdout",
       "text": [
        "\n",
        "4985 time samples"
       ]
      },
      {
       "output_type": "stream",
       "stream": "stdout",
       "text": [
        "\n",
        "4985 time samples"
       ]
      },
      {
       "output_type": "stream",
       "stream": "stdout",
       "text": [
        "\n",
        "4985 time samples"
       ]
      },
      {
       "output_type": "stream",
       "stream": "stdout",
       "text": [
        "\n",
        "4985 time samples"
       ]
      },
      {
       "output_type": "stream",
       "stream": "stdout",
       "text": [
        "\n",
        "4985 time samples"
       ]
      },
      {
       "output_type": "stream",
       "stream": "stdout",
       "text": [
        "\n",
        "4985 time samples"
       ]
      },
      {
       "output_type": "stream",
       "stream": "stdout",
       "text": [
        "\n",
        "4985 time samples"
       ]
      },
      {
       "output_type": "stream",
       "stream": "stdout",
       "text": [
        "\n",
        "4985 time samples"
       ]
      },
      {
       "output_type": "stream",
       "stream": "stdout",
       "text": [
        "\n",
        "4985 time samples"
       ]
      },
      {
       "output_type": "stream",
       "stream": "stdout",
       "text": [
        "\n",
        "4985 time samples"
       ]
      },
      {
       "output_type": "stream",
       "stream": "stdout",
       "text": [
        "\n",
        "4985 time samples"
       ]
      },
      {
       "output_type": "stream",
       "stream": "stdout",
       "text": [
        "\n",
        "4985 time samples"
       ]
      },
      {
       "output_type": "stream",
       "stream": "stdout",
       "text": [
        "\n",
        "4985 time samples"
       ]
      },
      {
       "output_type": "stream",
       "stream": "stdout",
       "text": [
        "\n",
        "4985 time samples"
       ]
      },
      {
       "output_type": "stream",
       "stream": "stdout",
       "text": [
        "\n",
        "4985 time samples"
       ]
      },
      {
       "output_type": "stream",
       "stream": "stdout",
       "text": [
        "\n",
        "4985 time samples"
       ]
      },
      {
       "output_type": "stream",
       "stream": "stdout",
       "text": [
        "\n",
        "4985 time samples"
       ]
      },
      {
       "output_type": "stream",
       "stream": "stdout",
       "text": [
        "\n",
        "4985 time samples"
       ]
      },
      {
       "output_type": "stream",
       "stream": "stdout",
       "text": [
        "\n",
        "4985 time samples"
       ]
      },
      {
       "output_type": "stream",
       "stream": "stdout",
       "text": [
        "\n",
        "4985 time samples"
       ]
      },
      {
       "output_type": "stream",
       "stream": "stdout",
       "text": [
        "\n",
        "4985 time samples"
       ]
      },
      {
       "output_type": "stream",
       "stream": "stdout",
       "text": [
        "\n",
        "4985 time samples"
       ]
      },
      {
       "output_type": "stream",
       "stream": "stdout",
       "text": [
        "\n",
        "4985 time samples\n",
        "4985 time samples"
       ]
      },
      {
       "output_type": "stream",
       "stream": "stdout",
       "text": [
        "\n",
        "4985 time samples"
       ]
      },
      {
       "output_type": "stream",
       "stream": "stdout",
       "text": [
        "\n",
        "4985 time samples"
       ]
      },
      {
       "output_type": "stream",
       "stream": "stdout",
       "text": [
        "\n",
        "4985 time samples"
       ]
      },
      {
       "output_type": "stream",
       "stream": "stdout",
       "text": [
        "\n",
        "4985 time samples"
       ]
      },
      {
       "output_type": "stream",
       "stream": "stdout",
       "text": [
        "\n",
        "4985 time samples"
       ]
      },
      {
       "output_type": "stream",
       "stream": "stdout",
       "text": [
        "\n",
        "4985 time samples"
       ]
      },
      {
       "output_type": "stream",
       "stream": "stdout",
       "text": [
        "\n",
        "4985 time samples"
       ]
      },
      {
       "output_type": "stream",
       "stream": "stdout",
       "text": [
        "\n",
        "4985 time samples"
       ]
      },
      {
       "output_type": "stream",
       "stream": "stdout",
       "text": [
        "\n",
        "4985 time samples"
       ]
      },
      {
       "output_type": "stream",
       "stream": "stdout",
       "text": [
        "\n",
        "4985 time samples"
       ]
      },
      {
       "output_type": "stream",
       "stream": "stdout",
       "text": [
        "\n",
        "4985 time samples"
       ]
      },
      {
       "output_type": "stream",
       "stream": "stdout",
       "text": [
        "\n",
        "4985 time samples"
       ]
      },
      {
       "output_type": "stream",
       "stream": "stdout",
       "text": [
        "\n",
        "4985 time samples"
       ]
      },
      {
       "output_type": "stream",
       "stream": "stdout",
       "text": [
        "\n",
        "4985 time samples"
       ]
      },
      {
       "output_type": "stream",
       "stream": "stdout",
       "text": [
        "\n",
        "4985 time samples"
       ]
      },
      {
       "output_type": "stream",
       "stream": "stdout",
       "text": [
        "\n",
        "4985 time samples"
       ]
      },
      {
       "output_type": "stream",
       "stream": "stdout",
       "text": [
        "\n",
        "4985 time samples"
       ]
      },
      {
       "output_type": "stream",
       "stream": "stdout",
       "text": [
        "\n",
        "4985 time samples"
       ]
      },
      {
       "output_type": "stream",
       "stream": "stdout",
       "text": [
        "\n",
        "4985 time samples"
       ]
      },
      {
       "output_type": "stream",
       "stream": "stdout",
       "text": [
        "\n",
        "4985 time samples"
       ]
      },
      {
       "output_type": "stream",
       "stream": "stdout",
       "text": [
        "\n",
        "4985 time samples"
       ]
      },
      {
       "output_type": "stream",
       "stream": "stdout",
       "text": [
        "\n",
        "4985 time samples"
       ]
      },
      {
       "output_type": "stream",
       "stream": "stdout",
       "text": [
        "\n",
        "4985 time samples"
       ]
      },
      {
       "output_type": "stream",
       "stream": "stdout",
       "text": [
        "\n",
        "4985 time samples"
       ]
      },
      {
       "output_type": "stream",
       "stream": "stdout",
       "text": [
        "\n",
        "4985 time samples"
       ]
      },
      {
       "output_type": "stream",
       "stream": "stdout",
       "text": [
        "\n",
        "4985 time samples"
       ]
      },
      {
       "output_type": "stream",
       "stream": "stdout",
       "text": [
        "\n",
        "4985 time samples"
       ]
      },
      {
       "output_type": "stream",
       "stream": "stdout",
       "text": [
        "\n",
        "4985 time samples"
       ]
      },
      {
       "output_type": "stream",
       "stream": "stdout",
       "text": [
        "\n",
        "4985 time samples"
       ]
      },
      {
       "output_type": "stream",
       "stream": "stdout",
       "text": [
        "\n",
        "4985 time samples"
       ]
      },
      {
       "output_type": "stream",
       "stream": "stdout",
       "text": [
        "\n",
        "4985 time samples\n",
        "4985 time samples"
       ]
      },
      {
       "output_type": "stream",
       "stream": "stdout",
       "text": [
        "\n",
        "4985 time samples"
       ]
      },
      {
       "output_type": "stream",
       "stream": "stdout",
       "text": [
        "\n",
        "4985 time samples"
       ]
      },
      {
       "output_type": "stream",
       "stream": "stdout",
       "text": [
        "\n",
        "4985 time samples"
       ]
      },
      {
       "output_type": "stream",
       "stream": "stdout",
       "text": [
        "\n",
        "4985 time samples"
       ]
      },
      {
       "output_type": "stream",
       "stream": "stdout",
       "text": [
        "\n",
        "4985 time samples"
       ]
      },
      {
       "output_type": "stream",
       "stream": "stdout",
       "text": [
        "\n",
        "4985 time samples"
       ]
      },
      {
       "output_type": "stream",
       "stream": "stdout",
       "text": [
        "\n",
        "4985 time samples"
       ]
      },
      {
       "output_type": "stream",
       "stream": "stdout",
       "text": [
        "\n",
        "4985 time samples"
       ]
      },
      {
       "output_type": "stream",
       "stream": "stdout",
       "text": [
        "\n",
        "4985 time samples"
       ]
      },
      {
       "output_type": "stream",
       "stream": "stdout",
       "text": [
        "\n",
        "4985 time samples"
       ]
      },
      {
       "output_type": "stream",
       "stream": "stdout",
       "text": [
        "\n",
        "4985 time samples"
       ]
      },
      {
       "output_type": "stream",
       "stream": "stdout",
       "text": [
        "\n",
        "4985 time samples"
       ]
      },
      {
       "output_type": "stream",
       "stream": "stdout",
       "text": [
        "\n",
        "4985 time samples"
       ]
      },
      {
       "output_type": "stream",
       "stream": "stdout",
       "text": [
        "\n",
        "4985 time samples"
       ]
      },
      {
       "output_type": "stream",
       "stream": "stdout",
       "text": [
        "\n",
        "4985 time samples"
       ]
      },
      {
       "output_type": "stream",
       "stream": "stdout",
       "text": [
        "\n",
        "4985 time samples"
       ]
      },
      {
       "output_type": "stream",
       "stream": "stdout",
       "text": [
        "\n",
        "4985 time samples"
       ]
      },
      {
       "output_type": "stream",
       "stream": "stdout",
       "text": [
        "\n",
        "4985 time samples"
       ]
      },
      {
       "output_type": "stream",
       "stream": "stdout",
       "text": [
        "\n",
        "4985 time samples"
       ]
      },
      {
       "output_type": "stream",
       "stream": "stdout",
       "text": [
        "\n",
        "4985 time samples"
       ]
      },
      {
       "output_type": "stream",
       "stream": "stdout",
       "text": [
        "\n",
        "4985 time samples"
       ]
      },
      {
       "output_type": "stream",
       "stream": "stdout",
       "text": [
        "\n",
        "4985 time samples"
       ]
      },
      {
       "output_type": "stream",
       "stream": "stdout",
       "text": [
        "\n",
        "4985 time samples"
       ]
      },
      {
       "output_type": "stream",
       "stream": "stdout",
       "text": [
        "\n",
        "4985 time samples"
       ]
      },
      {
       "output_type": "stream",
       "stream": "stdout",
       "text": [
        "\n",
        "4985 time samples"
       ]
      },
      {
       "output_type": "stream",
       "stream": "stdout",
       "text": [
        "\n",
        "4985 time samples"
       ]
      },
      {
       "output_type": "stream",
       "stream": "stdout",
       "text": [
        "\n",
        "4985 time samples"
       ]
      },
      {
       "output_type": "stream",
       "stream": "stdout",
       "text": [
        "\n",
        "4985 time samples"
       ]
      },
      {
       "output_type": "stream",
       "stream": "stdout",
       "text": [
        "\n",
        "4985 time samples"
       ]
      },
      {
       "output_type": "stream",
       "stream": "stdout",
       "text": [
        "\n",
        "4985 time samples"
       ]
      },
      {
       "output_type": "stream",
       "stream": "stdout",
       "text": [
        "\n",
        "4985 time samples\n",
        "4985 time samples"
       ]
      },
      {
       "output_type": "stream",
       "stream": "stdout",
       "text": [
        "\n",
        "4985 time samples"
       ]
      },
      {
       "output_type": "stream",
       "stream": "stdout",
       "text": [
        "\n",
        "4985 time samples"
       ]
      },
      {
       "output_type": "stream",
       "stream": "stdout",
       "text": [
        "\n",
        "4985 time samples"
       ]
      },
      {
       "output_type": "stream",
       "stream": "stdout",
       "text": [
        "\n",
        "4985 time samples"
       ]
      },
      {
       "output_type": "stream",
       "stream": "stdout",
       "text": [
        "\n",
        "4985 time samples"
       ]
      },
      {
       "output_type": "stream",
       "stream": "stdout",
       "text": [
        "\n",
        "4985 time samples"
       ]
      },
      {
       "output_type": "stream",
       "stream": "stdout",
       "text": [
        "\n",
        "4985 time samples"
       ]
      },
      {
       "output_type": "stream",
       "stream": "stdout",
       "text": [
        "\n",
        "4985 time samples"
       ]
      },
      {
       "output_type": "stream",
       "stream": "stdout",
       "text": [
        "\n",
        "4985 time samples"
       ]
      },
      {
       "output_type": "stream",
       "stream": "stdout",
       "text": [
        "\n",
        "4985 time samples"
       ]
      },
      {
       "output_type": "stream",
       "stream": "stdout",
       "text": [
        "\n",
        "4985 time samples"
       ]
      },
      {
       "output_type": "stream",
       "stream": "stdout",
       "text": [
        "\n",
        "4985 time samples"
       ]
      },
      {
       "output_type": "stream",
       "stream": "stdout",
       "text": [
        "\n",
        "4985 time samples"
       ]
      },
      {
       "output_type": "stream",
       "stream": "stdout",
       "text": [
        "\n",
        "4985 time samples"
       ]
      },
      {
       "output_type": "stream",
       "stream": "stdout",
       "text": [
        "\n",
        "4985 time samples"
       ]
      },
      {
       "output_type": "stream",
       "stream": "stdout",
       "text": [
        "\n",
        "4985 time samples"
       ]
      },
      {
       "output_type": "stream",
       "stream": "stdout",
       "text": [
        "\n",
        "4985 time samples"
       ]
      },
      {
       "output_type": "stream",
       "stream": "stdout",
       "text": [
        "\n",
        "4985 time samples"
       ]
      },
      {
       "output_type": "stream",
       "stream": "stdout",
       "text": [
        "\n",
        "4985 time samples"
       ]
      },
      {
       "output_type": "stream",
       "stream": "stdout",
       "text": [
        "\n",
        "4985 time samples"
       ]
      },
      {
       "output_type": "stream",
       "stream": "stdout",
       "text": [
        "\n",
        "4985 time samples"
       ]
      },
      {
       "output_type": "stream",
       "stream": "stdout",
       "text": [
        "\n",
        "4985 time samples"
       ]
      },
      {
       "output_type": "stream",
       "stream": "stdout",
       "text": [
        "\n",
        "4985 time samples"
       ]
      },
      {
       "output_type": "stream",
       "stream": "stdout",
       "text": [
        "\n",
        "4985 time samples"
       ]
      },
      {
       "output_type": "stream",
       "stream": "stdout",
       "text": [
        "\n",
        "4985 time samples"
       ]
      },
      {
       "output_type": "stream",
       "stream": "stdout",
       "text": [
        "\n",
        "4985 time samples"
       ]
      },
      {
       "output_type": "stream",
       "stream": "stdout",
       "text": [
        "\n",
        "4985 time samples"
       ]
      },
      {
       "output_type": "stream",
       "stream": "stdout",
       "text": [
        "\n",
        "4985 time samples"
       ]
      },
      {
       "output_type": "stream",
       "stream": "stdout",
       "text": [
        "\n",
        "4985 time samples"
       ]
      },
      {
       "output_type": "stream",
       "stream": "stdout",
       "text": [
        "\n",
        "4985 time samples"
       ]
      },
      {
       "output_type": "stream",
       "stream": "stdout",
       "text": [
        "\n",
        "4985 time samples\n",
        "4985 time samples"
       ]
      },
      {
       "output_type": "stream",
       "stream": "stdout",
       "text": [
        "\n",
        "4985 time samples"
       ]
      },
      {
       "output_type": "stream",
       "stream": "stdout",
       "text": [
        "\n",
        "4985 time samples"
       ]
      },
      {
       "output_type": "stream",
       "stream": "stdout",
       "text": [
        "\n",
        "4985 time samples"
       ]
      },
      {
       "output_type": "stream",
       "stream": "stdout",
       "text": [
        "\n",
        "4985 time samples"
       ]
      },
      {
       "output_type": "stream",
       "stream": "stdout",
       "text": [
        "\n",
        "4985 time samples"
       ]
      },
      {
       "output_type": "stream",
       "stream": "stdout",
       "text": [
        "\n",
        "4985 time samples"
       ]
      },
      {
       "output_type": "stream",
       "stream": "stdout",
       "text": [
        "\n",
        "4985 time samples"
       ]
      },
      {
       "output_type": "stream",
       "stream": "stdout",
       "text": [
        "\n",
        "4985 time samples"
       ]
      },
      {
       "output_type": "stream",
       "stream": "stdout",
       "text": [
        "\n",
        "4985 time samples"
       ]
      },
      {
       "output_type": "stream",
       "stream": "stdout",
       "text": [
        "\n",
        "4985 time samples"
       ]
      },
      {
       "output_type": "stream",
       "stream": "stdout",
       "text": [
        "\n",
        "4985 time samples"
       ]
      },
      {
       "output_type": "stream",
       "stream": "stdout",
       "text": [
        "\n",
        "4985 time samples"
       ]
      },
      {
       "output_type": "stream",
       "stream": "stdout",
       "text": [
        "\n",
        "4985 time samples"
       ]
      },
      {
       "output_type": "stream",
       "stream": "stdout",
       "text": [
        "\n",
        "4985 time samples"
       ]
      },
      {
       "output_type": "stream",
       "stream": "stdout",
       "text": [
        "\n",
        "4985 time samples"
       ]
      },
      {
       "output_type": "stream",
       "stream": "stdout",
       "text": [
        "\n",
        "4985 time samples"
       ]
      },
      {
       "output_type": "stream",
       "stream": "stdout",
       "text": [
        "\n",
        "4985 time samples"
       ]
      },
      {
       "output_type": "stream",
       "stream": "stdout",
       "text": [
        "\n",
        "4985 time samples"
       ]
      },
      {
       "output_type": "stream",
       "stream": "stdout",
       "text": [
        "\n",
        "4985 time samples"
       ]
      },
      {
       "output_type": "stream",
       "stream": "stdout",
       "text": [
        "\n",
        "4985 time samples"
       ]
      },
      {
       "output_type": "stream",
       "stream": "stdout",
       "text": [
        "\n",
        "4985 time samples"
       ]
      },
      {
       "output_type": "stream",
       "stream": "stdout",
       "text": [
        "\n",
        "4985 time samples"
       ]
      },
      {
       "output_type": "stream",
       "stream": "stdout",
       "text": [
        "\n",
        "4985 time samples"
       ]
      },
      {
       "output_type": "stream",
       "stream": "stdout",
       "text": [
        "\n",
        "4985 time samples"
       ]
      },
      {
       "output_type": "stream",
       "stream": "stdout",
       "text": [
        "\n",
        "4985 time samples"
       ]
      },
      {
       "output_type": "stream",
       "stream": "stdout",
       "text": [
        "\n",
        "4985 time samples"
       ]
      },
      {
       "output_type": "stream",
       "stream": "stdout",
       "text": [
        "\n",
        "4985 time samples"
       ]
      },
      {
       "output_type": "stream",
       "stream": "stdout",
       "text": [
        "\n",
        "4985 time samples"
       ]
      },
      {
       "output_type": "stream",
       "stream": "stdout",
       "text": [
        "\n",
        "4985 time samples"
       ]
      },
      {
       "output_type": "stream",
       "stream": "stdout",
       "text": [
        "\n",
        "4985 time samples"
       ]
      },
      {
       "output_type": "stream",
       "stream": "stdout",
       "text": [
        "\n",
        "4985 time samples"
       ]
      },
      {
       "output_type": "stream",
       "stream": "stdout",
       "text": [
        "\n",
        "4985 time samples"
       ]
      },
      {
       "output_type": "stream",
       "stream": "stdout",
       "text": [
        "\n",
        "4985 time samples"
       ]
      },
      {
       "output_type": "stream",
       "stream": "stdout",
       "text": [
        "\n",
        "4985 time samples\n",
        "4985 time samples"
       ]
      },
      {
       "output_type": "stream",
       "stream": "stdout",
       "text": [
        "\n",
        "4985 time samples"
       ]
      },
      {
       "output_type": "stream",
       "stream": "stdout",
       "text": [
        "\n",
        "4985 time samples"
       ]
      },
      {
       "output_type": "stream",
       "stream": "stdout",
       "text": [
        "\n",
        "4985 time samples"
       ]
      },
      {
       "output_type": "stream",
       "stream": "stdout",
       "text": [
        "\n",
        "4985 time samples"
       ]
      },
      {
       "output_type": "stream",
       "stream": "stdout",
       "text": [
        "\n",
        "4985 time samples"
       ]
      },
      {
       "output_type": "stream",
       "stream": "stdout",
       "text": [
        "\n",
        "4985 time samples"
       ]
      },
      {
       "output_type": "stream",
       "stream": "stdout",
       "text": [
        "\n",
        "4985 time samples"
       ]
      },
      {
       "output_type": "stream",
       "stream": "stdout",
       "text": [
        "\n",
        "4985 time samples"
       ]
      },
      {
       "output_type": "stream",
       "stream": "stdout",
       "text": [
        "\n",
        "4985 time samples"
       ]
      },
      {
       "output_type": "stream",
       "stream": "stdout",
       "text": [
        "\n",
        "4985 time samples"
       ]
      },
      {
       "output_type": "stream",
       "stream": "stdout",
       "text": [
        "\n",
        "4985 time samples"
       ]
      },
      {
       "output_type": "stream",
       "stream": "stdout",
       "text": [
        "\n",
        "4985 time samples"
       ]
      },
      {
       "output_type": "stream",
       "stream": "stdout",
       "text": [
        "\n",
        "4985 time samples"
       ]
      },
      {
       "output_type": "stream",
       "stream": "stdout",
       "text": [
        "\n",
        "4985 time samples"
       ]
      },
      {
       "output_type": "stream",
       "stream": "stdout",
       "text": [
        "\n",
        "4985 time samples"
       ]
      },
      {
       "output_type": "stream",
       "stream": "stdout",
       "text": [
        "\n",
        "4985 time samples"
       ]
      },
      {
       "output_type": "stream",
       "stream": "stdout",
       "text": [
        "\n",
        "4985 time samples"
       ]
      },
      {
       "output_type": "stream",
       "stream": "stdout",
       "text": [
        "\n",
        "4985 time samples"
       ]
      },
      {
       "output_type": "stream",
       "stream": "stdout",
       "text": [
        "\n",
        "4985 time samples"
       ]
      },
      {
       "output_type": "stream",
       "stream": "stdout",
       "text": [
        "\n",
        "4985 time samples"
       ]
      },
      {
       "output_type": "stream",
       "stream": "stdout",
       "text": [
        "\n",
        "4985 time samples"
       ]
      },
      {
       "output_type": "stream",
       "stream": "stdout",
       "text": [
        "\n",
        "4985 time samples"
       ]
      },
      {
       "output_type": "stream",
       "stream": "stdout",
       "text": [
        "\n",
        "4985 time samples"
       ]
      },
      {
       "output_type": "stream",
       "stream": "stdout",
       "text": [
        "\n",
        "4985 time samples"
       ]
      },
      {
       "output_type": "stream",
       "stream": "stdout",
       "text": [
        "\n",
        "4985 time samples"
       ]
      },
      {
       "output_type": "stream",
       "stream": "stdout",
       "text": [
        "\n",
        "4985 time samples\n",
        "4985 time samples"
       ]
      },
      {
       "output_type": "stream",
       "stream": "stdout",
       "text": [
        "\n",
        "4985 time samples"
       ]
      },
      {
       "output_type": "stream",
       "stream": "stdout",
       "text": [
        "\n",
        "4985 time samples"
       ]
      },
      {
       "output_type": "stream",
       "stream": "stdout",
       "text": [
        "\n",
        "4985 time samples"
       ]
      },
      {
       "output_type": "stream",
       "stream": "stdout",
       "text": [
        "\n",
        "4985 time samples"
       ]
      },
      {
       "output_type": "stream",
       "stream": "stdout",
       "text": [
        "\n",
        "4985 time samples"
       ]
      },
      {
       "output_type": "stream",
       "stream": "stdout",
       "text": [
        "\n",
        "4985 time samples"
       ]
      },
      {
       "output_type": "stream",
       "stream": "stdout",
       "text": [
        "\n",
        "4985 time samples"
       ]
      },
      {
       "output_type": "stream",
       "stream": "stdout",
       "text": [
        "\n",
        "4985 time samples"
       ]
      },
      {
       "output_type": "stream",
       "stream": "stdout",
       "text": [
        "\n",
        "4985 time samples"
       ]
      },
      {
       "output_type": "stream",
       "stream": "stdout",
       "text": [
        "\n",
        "4985 time samples"
       ]
      },
      {
       "output_type": "stream",
       "stream": "stdout",
       "text": [
        "\n",
        "4985 time samples"
       ]
      },
      {
       "output_type": "stream",
       "stream": "stdout",
       "text": [
        "\n",
        "4985 time samples"
       ]
      },
      {
       "output_type": "stream",
       "stream": "stdout",
       "text": [
        "\n",
        "4985 time samples"
       ]
      },
      {
       "output_type": "stream",
       "stream": "stdout",
       "text": [
        "\n",
        "4985 time samples"
       ]
      },
      {
       "output_type": "stream",
       "stream": "stdout",
       "text": [
        "\n",
        "4985 time samples"
       ]
      },
      {
       "output_type": "stream",
       "stream": "stdout",
       "text": [
        "\n",
        "4985 time samples"
       ]
      },
      {
       "output_type": "stream",
       "stream": "stdout",
       "text": [
        "\n",
        "4985 time samples"
       ]
      },
      {
       "output_type": "stream",
       "stream": "stdout",
       "text": [
        "\n",
        "4985 time samples"
       ]
      },
      {
       "output_type": "stream",
       "stream": "stdout",
       "text": [
        "\n",
        "4985 time samples"
       ]
      },
      {
       "output_type": "stream",
       "stream": "stdout",
       "text": [
        "\n",
        "4985 time samples"
       ]
      },
      {
       "output_type": "stream",
       "stream": "stdout",
       "text": [
        "\n",
        "4985 time samples"
       ]
      },
      {
       "output_type": "stream",
       "stream": "stdout",
       "text": [
        "\n",
        "4985 time samples"
       ]
      },
      {
       "output_type": "stream",
       "stream": "stdout",
       "text": [
        "\n",
        "4985 time samples"
       ]
      },
      {
       "output_type": "stream",
       "stream": "stdout",
       "text": [
        "\n",
        "4985 time samples"
       ]
      },
      {
       "output_type": "stream",
       "stream": "stdout",
       "text": [
        "\n",
        "4985 time samples"
       ]
      },
      {
       "output_type": "stream",
       "stream": "stdout",
       "text": [
        "\n",
        "4985 time samples"
       ]
      },
      {
       "output_type": "stream",
       "stream": "stdout",
       "text": [
        "\n",
        "4985 time samples"
       ]
      },
      {
       "output_type": "stream",
       "stream": "stdout",
       "text": [
        "\n",
        "4985 time samples"
       ]
      },
      {
       "output_type": "stream",
       "stream": "stdout",
       "text": [
        "\n",
        "4985 time samples"
       ]
      },
      {
       "output_type": "stream",
       "stream": "stdout",
       "text": [
        "\n",
        "4985 time samples"
       ]
      },
      {
       "output_type": "stream",
       "stream": "stdout",
       "text": [
        "\n",
        "4985 time samples\n",
        "4985 time samples"
       ]
      },
      {
       "output_type": "stream",
       "stream": "stdout",
       "text": [
        "\n",
        "4985 time samples"
       ]
      },
      {
       "output_type": "stream",
       "stream": "stdout",
       "text": [
        "\n",
        "4985 time samples"
       ]
      },
      {
       "output_type": "stream",
       "stream": "stdout",
       "text": [
        "\n",
        "4985 time samples"
       ]
      },
      {
       "output_type": "stream",
       "stream": "stdout",
       "text": [
        "\n",
        "4985 time samples"
       ]
      },
      {
       "output_type": "stream",
       "stream": "stdout",
       "text": [
        "\n",
        "4985 time samples"
       ]
      },
      {
       "output_type": "stream",
       "stream": "stdout",
       "text": [
        "\n",
        "4985 time samples"
       ]
      },
      {
       "output_type": "stream",
       "stream": "stdout",
       "text": [
        "\n",
        "4985 time samples"
       ]
      },
      {
       "output_type": "stream",
       "stream": "stdout",
       "text": [
        "\n",
        "4985 time samples"
       ]
      },
      {
       "output_type": "stream",
       "stream": "stdout",
       "text": [
        "\n",
        "4985 time samples"
       ]
      },
      {
       "output_type": "stream",
       "stream": "stdout",
       "text": [
        "\n",
        "4985 time samples"
       ]
      },
      {
       "output_type": "stream",
       "stream": "stdout",
       "text": [
        "\n",
        "4985 time samples"
       ]
      },
      {
       "output_type": "stream",
       "stream": "stdout",
       "text": [
        "\n",
        "4985 time samples"
       ]
      },
      {
       "output_type": "stream",
       "stream": "stdout",
       "text": [
        "\n",
        "4985 time samples"
       ]
      },
      {
       "output_type": "stream",
       "stream": "stdout",
       "text": [
        "\n",
        "4985 time samples"
       ]
      },
      {
       "output_type": "stream",
       "stream": "stdout",
       "text": [
        "\n",
        "4985 time samples"
       ]
      },
      {
       "output_type": "stream",
       "stream": "stdout",
       "text": [
        "\n",
        "4985 time samples"
       ]
      },
      {
       "output_type": "stream",
       "stream": "stdout",
       "text": [
        "\n",
        "4985 time samples"
       ]
      },
      {
       "output_type": "stream",
       "stream": "stdout",
       "text": [
        "\n",
        "4985 time samples"
       ]
      },
      {
       "output_type": "stream",
       "stream": "stdout",
       "text": [
        "\n",
        "4985 time samples"
       ]
      },
      {
       "output_type": "stream",
       "stream": "stdout",
       "text": [
        "\n",
        "4985 time samples"
       ]
      },
      {
       "output_type": "stream",
       "stream": "stdout",
       "text": [
        "\n",
        "4985 time samples"
       ]
      },
      {
       "output_type": "stream",
       "stream": "stdout",
       "text": [
        "\n",
        "4985 time samples"
       ]
      },
      {
       "output_type": "stream",
       "stream": "stdout",
       "text": [
        "\n",
        "4985 time samples"
       ]
      },
      {
       "output_type": "stream",
       "stream": "stdout",
       "text": [
        "\n",
        "4985 time samples"
       ]
      },
      {
       "output_type": "stream",
       "stream": "stdout",
       "text": [
        "\n",
        "4985 time samples"
       ]
      },
      {
       "output_type": "stream",
       "stream": "stdout",
       "text": [
        "\n",
        "4985 time samples"
       ]
      },
      {
       "output_type": "stream",
       "stream": "stdout",
       "text": [
        "\n",
        "4985 time samples"
       ]
      },
      {
       "output_type": "stream",
       "stream": "stdout",
       "text": [
        "\n",
        "4985 time samples"
       ]
      },
      {
       "output_type": "stream",
       "stream": "stdout",
       "text": [
        "\n",
        "4985 time samples"
       ]
      },
      {
       "output_type": "stream",
       "stream": "stdout",
       "text": [
        "\n",
        "4985 time samples"
       ]
      },
      {
       "output_type": "stream",
       "stream": "stdout",
       "text": [
        "\n",
        "4985 time samples\n",
        "4985 time samples"
       ]
      },
      {
       "output_type": "stream",
       "stream": "stdout",
       "text": [
        "\n",
        "4985 time samples"
       ]
      },
      {
       "output_type": "stream",
       "stream": "stdout",
       "text": [
        "\n",
        "4985 time samples"
       ]
      },
      {
       "output_type": "stream",
       "stream": "stdout",
       "text": [
        "\n",
        "4985 time samples"
       ]
      },
      {
       "output_type": "stream",
       "stream": "stdout",
       "text": [
        "\n",
        "4985 time samples"
       ]
      },
      {
       "output_type": "stream",
       "stream": "stdout",
       "text": [
        "\n",
        "4985 time samples"
       ]
      },
      {
       "output_type": "stream",
       "stream": "stdout",
       "text": [
        "\n",
        "4985 time samples"
       ]
      },
      {
       "output_type": "stream",
       "stream": "stdout",
       "text": [
        "\n",
        "4985 time samples"
       ]
      },
      {
       "output_type": "stream",
       "stream": "stdout",
       "text": [
        "\n",
        "4985 time samples"
       ]
      },
      {
       "output_type": "stream",
       "stream": "stdout",
       "text": [
        "\n",
        "4985 time samples"
       ]
      },
      {
       "output_type": "stream",
       "stream": "stdout",
       "text": [
        "\n",
        "4985 time samples"
       ]
      },
      {
       "output_type": "stream",
       "stream": "stdout",
       "text": [
        "\n",
        "4985 time samples"
       ]
      },
      {
       "output_type": "stream",
       "stream": "stdout",
       "text": [
        "\n",
        "4985 time samples"
       ]
      },
      {
       "output_type": "stream",
       "stream": "stdout",
       "text": [
        "\n",
        "4985 time samples"
       ]
      },
      {
       "output_type": "stream",
       "stream": "stdout",
       "text": [
        "\n",
        "4985 time samples"
       ]
      },
      {
       "output_type": "stream",
       "stream": "stdout",
       "text": [
        "\n",
        "4985 time samples"
       ]
      },
      {
       "output_type": "stream",
       "stream": "stdout",
       "text": [
        "\n",
        "4985 time samples"
       ]
      },
      {
       "output_type": "stream",
       "stream": "stdout",
       "text": [
        "\n",
        "4985 time samples"
       ]
      },
      {
       "output_type": "stream",
       "stream": "stdout",
       "text": [
        "\n",
        "4985 time samples"
       ]
      },
      {
       "output_type": "stream",
       "stream": "stdout",
       "text": [
        "\n",
        "4985 time samples"
       ]
      },
      {
       "output_type": "stream",
       "stream": "stdout",
       "text": [
        "\n",
        "4985 time samples"
       ]
      },
      {
       "output_type": "stream",
       "stream": "stdout",
       "text": [
        "\n",
        "4985 time samples"
       ]
      },
      {
       "output_type": "stream",
       "stream": "stdout",
       "text": [
        "\n",
        "4985 time samples"
       ]
      },
      {
       "output_type": "stream",
       "stream": "stdout",
       "text": [
        "\n",
        "4985 time samples"
       ]
      },
      {
       "output_type": "stream",
       "stream": "stdout",
       "text": [
        "\n",
        "4985 time samples"
       ]
      },
      {
       "output_type": "stream",
       "stream": "stdout",
       "text": [
        "\n",
        "4985 time samples"
       ]
      },
      {
       "output_type": "stream",
       "stream": "stdout",
       "text": [
        "\n",
        "4985 time samples"
       ]
      },
      {
       "output_type": "stream",
       "stream": "stdout",
       "text": [
        "\n",
        "4985 time samples"
       ]
      },
      {
       "output_type": "stream",
       "stream": "stdout",
       "text": [
        "\n",
        "4985 time samples"
       ]
      },
      {
       "output_type": "stream",
       "stream": "stdout",
       "text": [
        "\n",
        "4985 time samples"
       ]
      },
      {
       "output_type": "stream",
       "stream": "stdout",
       "text": [
        "\n",
        "4985 time samples"
       ]
      },
      {
       "output_type": "stream",
       "stream": "stdout",
       "text": [
        "\n",
        "4985 time samples\n",
        "4985 time samples"
       ]
      },
      {
       "output_type": "stream",
       "stream": "stdout",
       "text": [
        "\n",
        "4985 time samples"
       ]
      },
      {
       "output_type": "stream",
       "stream": "stdout",
       "text": [
        "\n",
        "4985 time samples"
       ]
      },
      {
       "output_type": "stream",
       "stream": "stdout",
       "text": [
        "\n",
        "4985 time samples"
       ]
      },
      {
       "output_type": "stream",
       "stream": "stdout",
       "text": [
        "\n",
        "4985 time samples"
       ]
      },
      {
       "output_type": "stream",
       "stream": "stdout",
       "text": [
        "\n",
        "4985 time samples"
       ]
      },
      {
       "output_type": "stream",
       "stream": "stdout",
       "text": [
        "\n",
        "4985 time samples"
       ]
      },
      {
       "output_type": "stream",
       "stream": "stdout",
       "text": [
        "\n",
        "4985 time samples"
       ]
      },
      {
       "output_type": "stream",
       "stream": "stdout",
       "text": [
        "\n",
        "4985 time samples"
       ]
      },
      {
       "output_type": "stream",
       "stream": "stdout",
       "text": [
        "\n",
        "4985 time samples"
       ]
      },
      {
       "output_type": "stream",
       "stream": "stdout",
       "text": [
        "\n",
        "4985 time samples"
       ]
      },
      {
       "output_type": "stream",
       "stream": "stdout",
       "text": [
        "\n",
        "4985 time samples"
       ]
      },
      {
       "output_type": "stream",
       "stream": "stdout",
       "text": [
        "\n",
        "4985 time samples"
       ]
      },
      {
       "output_type": "stream",
       "stream": "stdout",
       "text": [
        "\n",
        "4985 time samples"
       ]
      },
      {
       "output_type": "stream",
       "stream": "stdout",
       "text": [
        "\n",
        "4985 time samples"
       ]
      },
      {
       "output_type": "stream",
       "stream": "stdout",
       "text": [
        "\n",
        "4985 time samples"
       ]
      },
      {
       "output_type": "stream",
       "stream": "stdout",
       "text": [
        "\n",
        "4985 time samples"
       ]
      },
      {
       "output_type": "stream",
       "stream": "stdout",
       "text": [
        "\n",
        "4985 time samples"
       ]
      },
      {
       "output_type": "stream",
       "stream": "stdout",
       "text": [
        "\n",
        "4985 time samples"
       ]
      },
      {
       "output_type": "stream",
       "stream": "stdout",
       "text": [
        "\n",
        "4985 time samples"
       ]
      },
      {
       "output_type": "stream",
       "stream": "stdout",
       "text": [
        "\n",
        "4985 time samples"
       ]
      },
      {
       "output_type": "stream",
       "stream": "stdout",
       "text": [
        "\n",
        "4985 time samples"
       ]
      },
      {
       "output_type": "stream",
       "stream": "stdout",
       "text": [
        "\n",
        "4985 time samples"
       ]
      },
      {
       "output_type": "stream",
       "stream": "stdout",
       "text": [
        "\n",
        "4985 time samples"
       ]
      },
      {
       "output_type": "stream",
       "stream": "stdout",
       "text": [
        "\n",
        "4985 time samples"
       ]
      },
      {
       "output_type": "stream",
       "stream": "stdout",
       "text": [
        "\n",
        "4985 time samples"
       ]
      },
      {
       "output_type": "stream",
       "stream": "stdout",
       "text": [
        "\n",
        "4985 time samples"
       ]
      },
      {
       "output_type": "stream",
       "stream": "stdout",
       "text": [
        "\n",
        "4985 time samples"
       ]
      },
      {
       "output_type": "stream",
       "stream": "stdout",
       "text": [
        "\n",
        "4985 time samples"
       ]
      },
      {
       "output_type": "stream",
       "stream": "stdout",
       "text": [
        "\n",
        "4985 time samples"
       ]
      },
      {
       "output_type": "stream",
       "stream": "stdout",
       "text": [
        "\n",
        "4985 time samples"
       ]
      },
      {
       "output_type": "stream",
       "stream": "stdout",
       "text": [
        "\n",
        "4985 time samples\n",
        "4985 time samples"
       ]
      },
      {
       "output_type": "stream",
       "stream": "stdout",
       "text": [
        "\n",
        "4985 time samples"
       ]
      },
      {
       "output_type": "stream",
       "stream": "stdout",
       "text": [
        "\n",
        "4985 time samples"
       ]
      },
      {
       "output_type": "stream",
       "stream": "stdout",
       "text": [
        "\n",
        "4985 time samples"
       ]
      },
      {
       "output_type": "stream",
       "stream": "stdout",
       "text": [
        "\n",
        "4985 time samples"
       ]
      },
      {
       "output_type": "stream",
       "stream": "stdout",
       "text": [
        "\n",
        "4985 time samples"
       ]
      },
      {
       "output_type": "stream",
       "stream": "stdout",
       "text": [
        "\n",
        "4985 time samples"
       ]
      },
      {
       "output_type": "stream",
       "stream": "stdout",
       "text": [
        "\n",
        "4985 time samples"
       ]
      },
      {
       "output_type": "stream",
       "stream": "stdout",
       "text": [
        "\n",
        "4985 time samples"
       ]
      },
      {
       "output_type": "stream",
       "stream": "stdout",
       "text": [
        "\n",
        "4985 time samples"
       ]
      },
      {
       "output_type": "stream",
       "stream": "stdout",
       "text": [
        "\n",
        "4985 time samples"
       ]
      },
      {
       "output_type": "stream",
       "stream": "stdout",
       "text": [
        "\n",
        "4985 time samples"
       ]
      },
      {
       "output_type": "stream",
       "stream": "stdout",
       "text": [
        "\n",
        "4985 time samples"
       ]
      },
      {
       "output_type": "stream",
       "stream": "stdout",
       "text": [
        "\n",
        "4985 time samples"
       ]
      },
      {
       "output_type": "stream",
       "stream": "stdout",
       "text": [
        "\n",
        "4985 time samples"
       ]
      },
      {
       "output_type": "stream",
       "stream": "stdout",
       "text": [
        "\n",
        "4985 time samples"
       ]
      },
      {
       "output_type": "stream",
       "stream": "stdout",
       "text": [
        "\n",
        "4985 time samples"
       ]
      },
      {
       "output_type": "stream",
       "stream": "stdout",
       "text": [
        "\n",
        "4985 time samples"
       ]
      },
      {
       "output_type": "stream",
       "stream": "stdout",
       "text": [
        "\n",
        "4985 time samples"
       ]
      },
      {
       "output_type": "stream",
       "stream": "stdout",
       "text": [
        "\n",
        "4985 time samples"
       ]
      },
      {
       "output_type": "stream",
       "stream": "stdout",
       "text": [
        "\n",
        "4985 time samples"
       ]
      },
      {
       "output_type": "stream",
       "stream": "stdout",
       "text": [
        "\n",
        "4985 time samples"
       ]
      },
      {
       "output_type": "stream",
       "stream": "stdout",
       "text": [
        "\n",
        "4985 time samples"
       ]
      },
      {
       "output_type": "stream",
       "stream": "stdout",
       "text": [
        "\n",
        "4985 time samples"
       ]
      },
      {
       "output_type": "stream",
       "stream": "stdout",
       "text": [
        "\n",
        "4985 time samples"
       ]
      },
      {
       "output_type": "stream",
       "stream": "stdout",
       "text": [
        "\n",
        "4985 time samples"
       ]
      },
      {
       "output_type": "stream",
       "stream": "stdout",
       "text": [
        "\n",
        "4985 time samples"
       ]
      },
      {
       "output_type": "stream",
       "stream": "stdout",
       "text": [
        "\n",
        "4985 time samples"
       ]
      },
      {
       "output_type": "stream",
       "stream": "stdout",
       "text": [
        "\n",
        "4985 time samples"
       ]
      },
      {
       "output_type": "stream",
       "stream": "stdout",
       "text": [
        "\n",
        "4985 time samples"
       ]
      },
      {
       "output_type": "stream",
       "stream": "stdout",
       "text": [
        "\n",
        "4985 time samples"
       ]
      },
      {
       "output_type": "stream",
       "stream": "stdout",
       "text": [
        "\n",
        "4985 time samples\n",
        "4985 time samples"
       ]
      },
      {
       "output_type": "stream",
       "stream": "stdout",
       "text": [
        "\n",
        "4985 time samples"
       ]
      },
      {
       "output_type": "stream",
       "stream": "stdout",
       "text": [
        "\n",
        "4985 time samples"
       ]
      },
      {
       "output_type": "stream",
       "stream": "stdout",
       "text": [
        "\n",
        "4985 time samples"
       ]
      },
      {
       "output_type": "stream",
       "stream": "stdout",
       "text": [
        "\n",
        "4985 time samples"
       ]
      },
      {
       "output_type": "stream",
       "stream": "stdout",
       "text": [
        "\n",
        "4985 time samples"
       ]
      },
      {
       "output_type": "stream",
       "stream": "stdout",
       "text": [
        "\n",
        "4985 time samples"
       ]
      },
      {
       "output_type": "stream",
       "stream": "stdout",
       "text": [
        "\n",
        "4985 time samples"
       ]
      },
      {
       "output_type": "stream",
       "stream": "stdout",
       "text": [
        "\n",
        "4985 time samples"
       ]
      },
      {
       "output_type": "stream",
       "stream": "stdout",
       "text": [
        "\n",
        "4985 time samples"
       ]
      },
      {
       "output_type": "stream",
       "stream": "stdout",
       "text": [
        "\n",
        "4985 time samples"
       ]
      },
      {
       "output_type": "stream",
       "stream": "stdout",
       "text": [
        "\n",
        "4985 time samples"
       ]
      },
      {
       "output_type": "stream",
       "stream": "stdout",
       "text": [
        "\n",
        "4985 time samples"
       ]
      },
      {
       "output_type": "stream",
       "stream": "stdout",
       "text": [
        "\n",
        "4985 time samples"
       ]
      },
      {
       "output_type": "stream",
       "stream": "stdout",
       "text": [
        "\n",
        "4985 time samples"
       ]
      },
      {
       "output_type": "stream",
       "stream": "stdout",
       "text": [
        "\n",
        "4985 time samples"
       ]
      },
      {
       "output_type": "stream",
       "stream": "stdout",
       "text": [
        "\n",
        "4985 time samples"
       ]
      },
      {
       "output_type": "stream",
       "stream": "stdout",
       "text": [
        "\n",
        "4985 time samples"
       ]
      },
      {
       "output_type": "stream",
       "stream": "stdout",
       "text": [
        "\n",
        "4985 time samples"
       ]
      },
      {
       "output_type": "stream",
       "stream": "stdout",
       "text": [
        "\n",
        "4985 time samples"
       ]
      },
      {
       "output_type": "stream",
       "stream": "stdout",
       "text": [
        "\n",
        "4985 time samples"
       ]
      },
      {
       "output_type": "stream",
       "stream": "stdout",
       "text": [
        "\n",
        "4985 time samples"
       ]
      },
      {
       "output_type": "stream",
       "stream": "stdout",
       "text": [
        "\n",
        "4985 time samples"
       ]
      },
      {
       "output_type": "stream",
       "stream": "stdout",
       "text": [
        "\n",
        "4985 time samples"
       ]
      },
      {
       "output_type": "stream",
       "stream": "stdout",
       "text": [
        "\n",
        "4985 time samples"
       ]
      },
      {
       "output_type": "stream",
       "stream": "stdout",
       "text": [
        "\n",
        "4985 time samples"
       ]
      },
      {
       "output_type": "stream",
       "stream": "stdout",
       "text": [
        "\n",
        "4985 time samples"
       ]
      },
      {
       "output_type": "stream",
       "stream": "stdout",
       "text": [
        "\n",
        "4985 time samples"
       ]
      },
      {
       "output_type": "stream",
       "stream": "stdout",
       "text": [
        "\n",
        "4985 time samples"
       ]
      },
      {
       "output_type": "stream",
       "stream": "stdout",
       "text": [
        "\n",
        "4985 time samples"
       ]
      },
      {
       "output_type": "stream",
       "stream": "stdout",
       "text": [
        "\n",
        "4985 time samples"
       ]
      },
      {
       "output_type": "stream",
       "stream": "stdout",
       "text": [
        "\n",
        "4985 time samples\n",
        "4985 time samples"
       ]
      },
      {
       "output_type": "stream",
       "stream": "stdout",
       "text": [
        "\n",
        "4985 time samples"
       ]
      },
      {
       "output_type": "stream",
       "stream": "stdout",
       "text": [
        "\n",
        "4985 time samples"
       ]
      },
      {
       "output_type": "stream",
       "stream": "stdout",
       "text": [
        "\n",
        "4985 time samples"
       ]
      },
      {
       "output_type": "stream",
       "stream": "stdout",
       "text": [
        "\n",
        "4985 time samples"
       ]
      },
      {
       "output_type": "stream",
       "stream": "stdout",
       "text": [
        "\n",
        "4985 time samples"
       ]
      },
      {
       "output_type": "stream",
       "stream": "stdout",
       "text": [
        "\n",
        "4985 time samples"
       ]
      },
      {
       "output_type": "stream",
       "stream": "stdout",
       "text": [
        "\n",
        "4985 time samples"
       ]
      },
      {
       "output_type": "stream",
       "stream": "stdout",
       "text": [
        "\n",
        "4985 time samples"
       ]
      },
      {
       "output_type": "stream",
       "stream": "stdout",
       "text": [
        "\n",
        "4985 time samples"
       ]
      },
      {
       "output_type": "stream",
       "stream": "stdout",
       "text": [
        "\n",
        "4985 time samples"
       ]
      },
      {
       "output_type": "stream",
       "stream": "stdout",
       "text": [
        "\n",
        "4985 time samples"
       ]
      },
      {
       "output_type": "stream",
       "stream": "stdout",
       "text": [
        "\n",
        "4985 time samples"
       ]
      },
      {
       "output_type": "stream",
       "stream": "stdout",
       "text": [
        "\n",
        "4985 time samples"
       ]
      },
      {
       "output_type": "stream",
       "stream": "stdout",
       "text": [
        "\n",
        "4985 time samples"
       ]
      },
      {
       "output_type": "stream",
       "stream": "stdout",
       "text": [
        "\n",
        "4985 time samples"
       ]
      },
      {
       "output_type": "stream",
       "stream": "stdout",
       "text": [
        "\n",
        "4985 time samples"
       ]
      },
      {
       "output_type": "stream",
       "stream": "stdout",
       "text": [
        "\n",
        "4985 time samples"
       ]
      },
      {
       "output_type": "stream",
       "stream": "stdout",
       "text": [
        "\n",
        "4985 time samples"
       ]
      },
      {
       "output_type": "stream",
       "stream": "stdout",
       "text": [
        "\n",
        "4985 time samples\n",
        "4985 time samples"
       ]
      },
      {
       "output_type": "stream",
       "stream": "stdout",
       "text": [
        "\n",
        "4985 time samples"
       ]
      },
      {
       "output_type": "stream",
       "stream": "stdout",
       "text": [
        "\n",
        "4985 time samples"
       ]
      },
      {
       "output_type": "stream",
       "stream": "stdout",
       "text": [
        "\n",
        "4985 time samples"
       ]
      },
      {
       "output_type": "stream",
       "stream": "stdout",
       "text": [
        "\n",
        "4985 time samples"
       ]
      },
      {
       "output_type": "stream",
       "stream": "stdout",
       "text": [
        "\n",
        "4985 time samples"
       ]
      },
      {
       "output_type": "stream",
       "stream": "stdout",
       "text": [
        "\n",
        "4985 time samples"
       ]
      },
      {
       "output_type": "stream",
       "stream": "stdout",
       "text": [
        "\n",
        "4985 time samples"
       ]
      },
      {
       "output_type": "stream",
       "stream": "stdout",
       "text": [
        "\n",
        "4985 time samples\n",
        "4985 time samples"
       ]
      },
      {
       "output_type": "stream",
       "stream": "stdout",
       "text": [
        "\n",
        "4985 time samples"
       ]
      },
      {
       "output_type": "stream",
       "stream": "stdout",
       "text": [
        "\n",
        "4985 time samples\n",
        "4985 time samples"
       ]
      },
      {
       "output_type": "stream",
       "stream": "stdout",
       "text": [
        "\n",
        "4985 time samples"
       ]
      },
      {
       "output_type": "stream",
       "stream": "stdout",
       "text": [
        "\n",
        "4985 time samples"
       ]
      },
      {
       "output_type": "stream",
       "stream": "stdout",
       "text": [
        "\n",
        "4985 time samples"
       ]
      },
      {
       "output_type": "stream",
       "stream": "stdout",
       "text": [
        "\n",
        "4985 time samples"
       ]
      },
      {
       "output_type": "stream",
       "stream": "stdout",
       "text": [
        "\n",
        "4985 time samples"
       ]
      },
      {
       "output_type": "stream",
       "stream": "stdout",
       "text": [
        "\n",
        "4985 time samples"
       ]
      },
      {
       "output_type": "stream",
       "stream": "stdout",
       "text": [
        "\n",
        "4985 time samples"
       ]
      },
      {
       "output_type": "stream",
       "stream": "stdout",
       "text": [
        "\n",
        "4985 time samples"
       ]
      },
      {
       "output_type": "stream",
       "stream": "stdout",
       "text": [
        "\n",
        "4985 time samples"
       ]
      },
      {
       "output_type": "stream",
       "stream": "stdout",
       "text": [
        "\n",
        "4985 time samples"
       ]
      },
      {
       "output_type": "stream",
       "stream": "stdout",
       "text": [
        "\n",
        "4985 time samples"
       ]
      },
      {
       "output_type": "stream",
       "stream": "stdout",
       "text": [
        "\n",
        "4985 time samples"
       ]
      },
      {
       "output_type": "stream",
       "stream": "stdout",
       "text": [
        "\n",
        "4985 time samples"
       ]
      },
      {
       "output_type": "stream",
       "stream": "stdout",
       "text": [
        "\n",
        "4985 time samples"
       ]
      },
      {
       "output_type": "stream",
       "stream": "stdout",
       "text": [
        "\n",
        "4985 time samples"
       ]
      },
      {
       "output_type": "stream",
       "stream": "stdout",
       "text": [
        "\n",
        "4985 time samples"
       ]
      },
      {
       "output_type": "stream",
       "stream": "stdout",
       "text": [
        "\n",
        "4985 time samples"
       ]
      },
      {
       "output_type": "stream",
       "stream": "stdout",
       "text": [
        "\n",
        "4985 time samples"
       ]
      },
      {
       "output_type": "stream",
       "stream": "stdout",
       "text": [
        "\n",
        "4985 time samples"
       ]
      },
      {
       "output_type": "stream",
       "stream": "stdout",
       "text": [
        "\n",
        "4985 time samples"
       ]
      },
      {
       "output_type": "stream",
       "stream": "stdout",
       "text": [
        "\n",
        "4985 time samples"
       ]
      },
      {
       "output_type": "stream",
       "stream": "stdout",
       "text": [
        "\n",
        "4985 time samples"
       ]
      },
      {
       "output_type": "stream",
       "stream": "stdout",
       "text": [
        "\n",
        "4985 time samples"
       ]
      },
      {
       "output_type": "stream",
       "stream": "stdout",
       "text": [
        "\n",
        "4985 time samples"
       ]
      },
      {
       "output_type": "stream",
       "stream": "stdout",
       "text": [
        "\n",
        "4985 time samples"
       ]
      },
      {
       "output_type": "stream",
       "stream": "stdout",
       "text": [
        "\n",
        "4985 time samples"
       ]
      },
      {
       "output_type": "stream",
       "stream": "stdout",
       "text": [
        "\n",
        "4985 time samples"
       ]
      },
      {
       "output_type": "stream",
       "stream": "stdout",
       "text": [
        "\n",
        "4985 time samples"
       ]
      },
      {
       "output_type": "stream",
       "stream": "stdout",
       "text": [
        "\n",
        "4985 time samples"
       ]
      },
      {
       "output_type": "stream",
       "stream": "stdout",
       "text": [
        "\n",
        "4985 time samples"
       ]
      },
      {
       "output_type": "stream",
       "stream": "stdout",
       "text": [
        "\n",
        "4985 time samples"
       ]
      },
      {
       "output_type": "stream",
       "stream": "stdout",
       "text": [
        "\n",
        "4985 time samples\n",
        "4985 time samples"
       ]
      },
      {
       "output_type": "stream",
       "stream": "stdout",
       "text": [
        "\n",
        "4985 time samples"
       ]
      },
      {
       "output_type": "stream",
       "stream": "stdout",
       "text": [
        "\n",
        "4985 time samples"
       ]
      },
      {
       "output_type": "stream",
       "stream": "stdout",
       "text": [
        "\n",
        "4985 time samples"
       ]
      },
      {
       "output_type": "stream",
       "stream": "stdout",
       "text": [
        "\n",
        "4985 time samples"
       ]
      },
      {
       "output_type": "stream",
       "stream": "stdout",
       "text": [
        "\n",
        "4985 time samples"
       ]
      },
      {
       "output_type": "stream",
       "stream": "stdout",
       "text": [
        "\n",
        "4985 time samples"
       ]
      },
      {
       "output_type": "stream",
       "stream": "stdout",
       "text": [
        "\n",
        "4985 time samples"
       ]
      },
      {
       "output_type": "stream",
       "stream": "stdout",
       "text": [
        "\n",
        "4985 time samples"
       ]
      },
      {
       "output_type": "stream",
       "stream": "stdout",
       "text": [
        "\n",
        "4985 time samples"
       ]
      },
      {
       "output_type": "stream",
       "stream": "stdout",
       "text": [
        "\n",
        "4985 time samples"
       ]
      },
      {
       "output_type": "stream",
       "stream": "stdout",
       "text": [
        "\n",
        "4985 time samples"
       ]
      },
      {
       "output_type": "stream",
       "stream": "stdout",
       "text": [
        "\n",
        "4985 time samples"
       ]
      },
      {
       "output_type": "stream",
       "stream": "stdout",
       "text": [
        "\n",
        "4985 time samples"
       ]
      },
      {
       "output_type": "stream",
       "stream": "stdout",
       "text": [
        "\n",
        "4985 time samples"
       ]
      },
      {
       "output_type": "stream",
       "stream": "stdout",
       "text": [
        "\n",
        "4985 time samples"
       ]
      },
      {
       "output_type": "stream",
       "stream": "stdout",
       "text": [
        "\n",
        "4985 time samples"
       ]
      },
      {
       "output_type": "stream",
       "stream": "stdout",
       "text": [
        "\n",
        "4985 time samples"
       ]
      },
      {
       "output_type": "stream",
       "stream": "stdout",
       "text": [
        "\n",
        "4985 time samples"
       ]
      },
      {
       "output_type": "stream",
       "stream": "stdout",
       "text": [
        "\n",
        "4985 time samples"
       ]
      },
      {
       "output_type": "stream",
       "stream": "stdout",
       "text": [
        "\n",
        "4985 time samples"
       ]
      },
      {
       "output_type": "stream",
       "stream": "stdout",
       "text": [
        "\n",
        "4985 time samples"
       ]
      },
      {
       "output_type": "stream",
       "stream": "stdout",
       "text": [
        "\n",
        "4985 time samples"
       ]
      },
      {
       "output_type": "stream",
       "stream": "stdout",
       "text": [
        "\n",
        "4985 time samples"
       ]
      },
      {
       "output_type": "stream",
       "stream": "stdout",
       "text": [
        "\n",
        "4985 time samples"
       ]
      },
      {
       "output_type": "stream",
       "stream": "stdout",
       "text": [
        "\n",
        "4985 time samples"
       ]
      },
      {
       "output_type": "stream",
       "stream": "stdout",
       "text": [
        "\n",
        "4985 time samples"
       ]
      },
      {
       "output_type": "stream",
       "stream": "stdout",
       "text": [
        "\n",
        "4985 time samples"
       ]
      },
      {
       "output_type": "stream",
       "stream": "stdout",
       "text": [
        "\n",
        "4985 time samples"
       ]
      },
      {
       "output_type": "stream",
       "stream": "stdout",
       "text": [
        "\n",
        "4985 time samples"
       ]
      },
      {
       "output_type": "stream",
       "stream": "stdout",
       "text": [
        "\n",
        "4985 time samples"
       ]
      },
      {
       "output_type": "stream",
       "stream": "stdout",
       "text": [
        "\n",
        "4985 time samples\n",
        "4985 time samples"
       ]
      },
      {
       "output_type": "stream",
       "stream": "stdout",
       "text": [
        "\n",
        "4985 time samples"
       ]
      },
      {
       "output_type": "stream",
       "stream": "stdout",
       "text": [
        "\n",
        "4985 time samples"
       ]
      },
      {
       "output_type": "stream",
       "stream": "stdout",
       "text": [
        "\n",
        "4985 time samples"
       ]
      },
      {
       "output_type": "stream",
       "stream": "stdout",
       "text": [
        "\n",
        "4985 time samples"
       ]
      },
      {
       "output_type": "stream",
       "stream": "stdout",
       "text": [
        "\n",
        "4985 time samples"
       ]
      },
      {
       "output_type": "stream",
       "stream": "stdout",
       "text": [
        "\n",
        "4985 time samples"
       ]
      },
      {
       "output_type": "stream",
       "stream": "stdout",
       "text": [
        "\n",
        "4985 time samples"
       ]
      },
      {
       "output_type": "stream",
       "stream": "stdout",
       "text": [
        "\n",
        "4985 time samples"
       ]
      },
      {
       "output_type": "stream",
       "stream": "stdout",
       "text": [
        "\n",
        "4985 time samples"
       ]
      },
      {
       "output_type": "stream",
       "stream": "stdout",
       "text": [
        "\n",
        "4985 time samples"
       ]
      },
      {
       "output_type": "stream",
       "stream": "stdout",
       "text": [
        "\n",
        "4985 time samples"
       ]
      },
      {
       "output_type": "stream",
       "stream": "stdout",
       "text": [
        "\n",
        "4985 time samples"
       ]
      },
      {
       "output_type": "stream",
       "stream": "stdout",
       "text": [
        "\n",
        "4985 time samples"
       ]
      },
      {
       "output_type": "stream",
       "stream": "stdout",
       "text": [
        "\n",
        "4985 time samples"
       ]
      },
      {
       "output_type": "stream",
       "stream": "stdout",
       "text": [
        "\n",
        "4985 time samples"
       ]
      },
      {
       "output_type": "stream",
       "stream": "stdout",
       "text": [
        "\n",
        "4985 time samples"
       ]
      },
      {
       "output_type": "stream",
       "stream": "stdout",
       "text": [
        "\n",
        "4985 time samples"
       ]
      },
      {
       "output_type": "stream",
       "stream": "stdout",
       "text": [
        "\n",
        "4985 time samples"
       ]
      },
      {
       "output_type": "stream",
       "stream": "stdout",
       "text": [
        "\n",
        "4985 time samples"
       ]
      },
      {
       "output_type": "stream",
       "stream": "stdout",
       "text": [
        "\n",
        "4985 time samples"
       ]
      },
      {
       "output_type": "stream",
       "stream": "stdout",
       "text": [
        "\n",
        "4985 time samples"
       ]
      },
      {
       "output_type": "stream",
       "stream": "stdout",
       "text": [
        "\n",
        "4985 time samples"
       ]
      },
      {
       "output_type": "stream",
       "stream": "stdout",
       "text": [
        "\n",
        "4985 time samples"
       ]
      },
      {
       "output_type": "stream",
       "stream": "stdout",
       "text": [
        "\n",
        "4985 time samples"
       ]
      },
      {
       "output_type": "stream",
       "stream": "stdout",
       "text": [
        "\n",
        "4985 time samples"
       ]
      },
      {
       "output_type": "stream",
       "stream": "stdout",
       "text": [
        "\n",
        "4985 time samples"
       ]
      },
      {
       "output_type": "stream",
       "stream": "stdout",
       "text": [
        "\n",
        "4985 time samples"
       ]
      },
      {
       "output_type": "stream",
       "stream": "stdout",
       "text": [
        "\n",
        "4985 time samples"
       ]
      },
      {
       "output_type": "stream",
       "stream": "stdout",
       "text": [
        "\n",
        "4985 time samples"
       ]
      },
      {
       "output_type": "stream",
       "stream": "stdout",
       "text": [
        "\n",
        "4985 time samples"
       ]
      },
      {
       "output_type": "stream",
       "stream": "stdout",
       "text": [
        "\n",
        "4985 time samples\n",
        "4985 time samples"
       ]
      },
      {
       "output_type": "stream",
       "stream": "stdout",
       "text": [
        "\n",
        "4985 time samples"
       ]
      },
      {
       "output_type": "stream",
       "stream": "stdout",
       "text": [
        "\n",
        "4985 time samples"
       ]
      },
      {
       "output_type": "stream",
       "stream": "stdout",
       "text": [
        "\n",
        "4985 time samples"
       ]
      },
      {
       "output_type": "stream",
       "stream": "stdout",
       "text": [
        "\n",
        "4985 time samples"
       ]
      },
      {
       "output_type": "stream",
       "stream": "stdout",
       "text": [
        "\n",
        "4985 time samples"
       ]
      },
      {
       "output_type": "stream",
       "stream": "stdout",
       "text": [
        "\n",
        "4985 time samples"
       ]
      },
      {
       "output_type": "stream",
       "stream": "stdout",
       "text": [
        "\n",
        "4985 time samples"
       ]
      },
      {
       "output_type": "stream",
       "stream": "stdout",
       "text": [
        "\n",
        "4985 time samples"
       ]
      },
      {
       "output_type": "stream",
       "stream": "stdout",
       "text": [
        "\n",
        "4985 time samples"
       ]
      },
      {
       "output_type": "stream",
       "stream": "stdout",
       "text": [
        "\n",
        "4985 time samples"
       ]
      },
      {
       "output_type": "stream",
       "stream": "stdout",
       "text": [
        "\n",
        "4985 time samples"
       ]
      },
      {
       "output_type": "stream",
       "stream": "stdout",
       "text": [
        "\n",
        "4985 time samples"
       ]
      },
      {
       "output_type": "stream",
       "stream": "stdout",
       "text": [
        "\n",
        "4985 time samples"
       ]
      },
      {
       "output_type": "stream",
       "stream": "stdout",
       "text": [
        "\n",
        "4985 time samples"
       ]
      },
      {
       "output_type": "stream",
       "stream": "stdout",
       "text": [
        "\n",
        "4985 time samples"
       ]
      },
      {
       "output_type": "stream",
       "stream": "stdout",
       "text": [
        "\n",
        "4985 time samples"
       ]
      },
      {
       "output_type": "stream",
       "stream": "stdout",
       "text": [
        "\n",
        "4985 time samples"
       ]
      },
      {
       "output_type": "stream",
       "stream": "stdout",
       "text": [
        "\n",
        "4985 time samples"
       ]
      },
      {
       "output_type": "stream",
       "stream": "stdout",
       "text": [
        "\n",
        "4985 time samples"
       ]
      },
      {
       "output_type": "stream",
       "stream": "stdout",
       "text": [
        "\n",
        "4985 time samples"
       ]
      },
      {
       "output_type": "stream",
       "stream": "stdout",
       "text": [
        "\n",
        "4985 time samples"
       ]
      },
      {
       "output_type": "stream",
       "stream": "stdout",
       "text": [
        "\n",
        "4985 time samples"
       ]
      },
      {
       "output_type": "stream",
       "stream": "stdout",
       "text": [
        "\n",
        "4985 time samples"
       ]
      },
      {
       "output_type": "stream",
       "stream": "stdout",
       "text": [
        "\n",
        "4985 time samples"
       ]
      },
      {
       "output_type": "stream",
       "stream": "stdout",
       "text": [
        "\n",
        "4985 time samples"
       ]
      },
      {
       "output_type": "stream",
       "stream": "stdout",
       "text": [
        "\n",
        "4985 time samples"
       ]
      },
      {
       "output_type": "stream",
       "stream": "stdout",
       "text": [
        "\n",
        "4985 time samples"
       ]
      },
      {
       "output_type": "stream",
       "stream": "stdout",
       "text": [
        "\n",
        "4985 time samples"
       ]
      },
      {
       "output_type": "stream",
       "stream": "stdout",
       "text": [
        "\n",
        "4985 time samples"
       ]
      },
      {
       "output_type": "stream",
       "stream": "stdout",
       "text": [
        "\n",
        "4985 time samples"
       ]
      },
      {
       "output_type": "stream",
       "stream": "stdout",
       "text": [
        "\n",
        "4985 time samples\n",
        "4985 time samples"
       ]
      },
      {
       "output_type": "stream",
       "stream": "stdout",
       "text": [
        "\n",
        "4985 time samples"
       ]
      },
      {
       "output_type": "stream",
       "stream": "stdout",
       "text": [
        "\n",
        "4985 time samples"
       ]
      },
      {
       "output_type": "stream",
       "stream": "stdout",
       "text": [
        "\n",
        "4985 time samples"
       ]
      },
      {
       "output_type": "stream",
       "stream": "stdout",
       "text": [
        "\n",
        "4985 time samples"
       ]
      },
      {
       "output_type": "stream",
       "stream": "stdout",
       "text": [
        "\n",
        "4985 time samples"
       ]
      },
      {
       "output_type": "stream",
       "stream": "stdout",
       "text": [
        "\n",
        "4985 time samples"
       ]
      },
      {
       "output_type": "stream",
       "stream": "stdout",
       "text": [
        "\n",
        "4985 time samples"
       ]
      },
      {
       "output_type": "stream",
       "stream": "stdout",
       "text": [
        "\n",
        "4985 time samples"
       ]
      },
      {
       "output_type": "stream",
       "stream": "stdout",
       "text": [
        "\n",
        "4985 time samples"
       ]
      },
      {
       "output_type": "stream",
       "stream": "stdout",
       "text": [
        "\n",
        "4985 time samples"
       ]
      },
      {
       "output_type": "stream",
       "stream": "stdout",
       "text": [
        "\n",
        "4985 time samples"
       ]
      },
      {
       "output_type": "stream",
       "stream": "stdout",
       "text": [
        "\n",
        "4985 time samples"
       ]
      },
      {
       "output_type": "stream",
       "stream": "stdout",
       "text": [
        "\n",
        "4985 time samples"
       ]
      },
      {
       "output_type": "stream",
       "stream": "stdout",
       "text": [
        "\n",
        "4985 time samples"
       ]
      },
      {
       "output_type": "stream",
       "stream": "stdout",
       "text": [
        "\n",
        "4985 time samples"
       ]
      },
      {
       "output_type": "stream",
       "stream": "stdout",
       "text": [
        "\n",
        "4985 time samples"
       ]
      },
      {
       "output_type": "stream",
       "stream": "stdout",
       "text": [
        "\n",
        "4985 time samples"
       ]
      },
      {
       "output_type": "stream",
       "stream": "stdout",
       "text": [
        "\n",
        "4985 time samples"
       ]
      },
      {
       "output_type": "stream",
       "stream": "stdout",
       "text": [
        "\n",
        "4985 time samples"
       ]
      },
      {
       "output_type": "stream",
       "stream": "stdout",
       "text": [
        "\n",
        "4985 time samples"
       ]
      },
      {
       "output_type": "stream",
       "stream": "stdout",
       "text": [
        "\n",
        "4985 time samples"
       ]
      },
      {
       "output_type": "stream",
       "stream": "stdout",
       "text": [
        "\n",
        "4985 time samples"
       ]
      },
      {
       "output_type": "stream",
       "stream": "stdout",
       "text": [
        "\n",
        "4985 time samples"
       ]
      },
      {
       "output_type": "stream",
       "stream": "stdout",
       "text": [
        "\n",
        "4985 time samples"
       ]
      },
      {
       "output_type": "stream",
       "stream": "stdout",
       "text": [
        "\n",
        "4985 time samples"
       ]
      },
      {
       "output_type": "stream",
       "stream": "stdout",
       "text": [
        "\n",
        "4985 time samples"
       ]
      },
      {
       "output_type": "stream",
       "stream": "stdout",
       "text": [
        "\n",
        "4985 time samples"
       ]
      },
      {
       "output_type": "stream",
       "stream": "stdout",
       "text": [
        "\n",
        "4985 time samples"
       ]
      },
      {
       "output_type": "stream",
       "stream": "stdout",
       "text": [
        "\n",
        "4985 time samples"
       ]
      },
      {
       "output_type": "stream",
       "stream": "stdout",
       "text": [
        "\n",
        "4985 time samples\n",
        "4985 time samples"
       ]
      },
      {
       "output_type": "stream",
       "stream": "stdout",
       "text": [
        "\n",
        "4985 time samples"
       ]
      },
      {
       "output_type": "stream",
       "stream": "stdout",
       "text": [
        "\n",
        "4985 time samples"
       ]
      },
      {
       "output_type": "stream",
       "stream": "stdout",
       "text": [
        "\n",
        "4985 time samples"
       ]
      },
      {
       "output_type": "stream",
       "stream": "stdout",
       "text": [
        "\n",
        "4985 time samples"
       ]
      },
      {
       "output_type": "stream",
       "stream": "stdout",
       "text": [
        "\n",
        "4985 time samples"
       ]
      },
      {
       "output_type": "stream",
       "stream": "stdout",
       "text": [
        "\n",
        "4985 time samples"
       ]
      },
      {
       "output_type": "stream",
       "stream": "stdout",
       "text": [
        "\n",
        "4985 time samples"
       ]
      },
      {
       "output_type": "stream",
       "stream": "stdout",
       "text": [
        "\n",
        "4985 time samples"
       ]
      },
      {
       "output_type": "stream",
       "stream": "stdout",
       "text": [
        "\n",
        "4985 time samples"
       ]
      },
      {
       "output_type": "stream",
       "stream": "stdout",
       "text": [
        "\n",
        "4985 time samples"
       ]
      },
      {
       "output_type": "stream",
       "stream": "stdout",
       "text": [
        "\n",
        "4985 time samples"
       ]
      },
      {
       "output_type": "stream",
       "stream": "stdout",
       "text": [
        "\n",
        "4985 time samples"
       ]
      },
      {
       "output_type": "stream",
       "stream": "stdout",
       "text": [
        "\n",
        "4985 time samples"
       ]
      },
      {
       "output_type": "stream",
       "stream": "stdout",
       "text": [
        "\n",
        "4985 time samples"
       ]
      },
      {
       "output_type": "stream",
       "stream": "stdout",
       "text": [
        "\n",
        "4985 time samples"
       ]
      },
      {
       "output_type": "stream",
       "stream": "stdout",
       "text": [
        "\n",
        "4985 time samples"
       ]
      },
      {
       "output_type": "stream",
       "stream": "stdout",
       "text": [
        "\n",
        "4985 time samples"
       ]
      },
      {
       "output_type": "stream",
       "stream": "stdout",
       "text": [
        "\n",
        "4985 time samples"
       ]
      },
      {
       "output_type": "stream",
       "stream": "stdout",
       "text": [
        "\n",
        "4985 time samples"
       ]
      },
      {
       "output_type": "stream",
       "stream": "stdout",
       "text": [
        "\n",
        "4985 time samples"
       ]
      },
      {
       "output_type": "stream",
       "stream": "stdout",
       "text": [
        "\n",
        "4985 time samples"
       ]
      },
      {
       "output_type": "stream",
       "stream": "stdout",
       "text": [
        "\n",
        "4985 time samples"
       ]
      },
      {
       "output_type": "stream",
       "stream": "stdout",
       "text": [
        "\n",
        "4985 time samples"
       ]
      },
      {
       "output_type": "stream",
       "stream": "stdout",
       "text": [
        "\n",
        "4985 time samples"
       ]
      },
      {
       "output_type": "stream",
       "stream": "stdout",
       "text": [
        "\n",
        "4985 time samples"
       ]
      },
      {
       "output_type": "stream",
       "stream": "stdout",
       "text": [
        "\n",
        "4985 time samples"
       ]
      },
      {
       "output_type": "stream",
       "stream": "stdout",
       "text": [
        "\n",
        "4985 time samples"
       ]
      },
      {
       "output_type": "stream",
       "stream": "stdout",
       "text": [
        "\n",
        "4985 time samples"
       ]
      },
      {
       "output_type": "stream",
       "stream": "stdout",
       "text": [
        "\n",
        "4985 time samples"
       ]
      },
      {
       "output_type": "stream",
       "stream": "stdout",
       "text": [
        "\n",
        "4985 time samples"
       ]
      },
      {
       "output_type": "stream",
       "stream": "stdout",
       "text": [
        "\n",
        "4985 time samples"
       ]
      },
      {
       "output_type": "stream",
       "stream": "stdout",
       "text": [
        "\n",
        "4985 time samples\n",
        "4985 time samples"
       ]
      },
      {
       "output_type": "stream",
       "stream": "stdout",
       "text": [
        "\n",
        "4985 time samples"
       ]
      },
      {
       "output_type": "stream",
       "stream": "stdout",
       "text": [
        "\n",
        "4985 time samples"
       ]
      },
      {
       "output_type": "stream",
       "stream": "stdout",
       "text": [
        "\n",
        "4985 time samples"
       ]
      },
      {
       "output_type": "stream",
       "stream": "stdout",
       "text": [
        "\n",
        "4985 time samples"
       ]
      },
      {
       "output_type": "stream",
       "stream": "stdout",
       "text": [
        "\n",
        "4985 time samples"
       ]
      },
      {
       "output_type": "stream",
       "stream": "stdout",
       "text": [
        "\n",
        "4985 time samples"
       ]
      },
      {
       "output_type": "stream",
       "stream": "stdout",
       "text": [
        "\n",
        "4985 time samples"
       ]
      },
      {
       "output_type": "stream",
       "stream": "stdout",
       "text": [
        "\n",
        "4985 time samples"
       ]
      },
      {
       "output_type": "stream",
       "stream": "stdout",
       "text": [
        "\n",
        "4985 time samples"
       ]
      },
      {
       "output_type": "stream",
       "stream": "stdout",
       "text": [
        "\n",
        "4985 time samples"
       ]
      },
      {
       "output_type": "stream",
       "stream": "stdout",
       "text": [
        "\n",
        "4985 time samples"
       ]
      },
      {
       "output_type": "stream",
       "stream": "stdout",
       "text": [
        "\n",
        "4985 time samples"
       ]
      },
      {
       "output_type": "stream",
       "stream": "stdout",
       "text": [
        "\n",
        "4985 time samples"
       ]
      },
      {
       "output_type": "stream",
       "stream": "stdout",
       "text": [
        "\n",
        "4985 time samples"
       ]
      },
      {
       "output_type": "stream",
       "stream": "stdout",
       "text": [
        "\n",
        "4985 time samples"
       ]
      },
      {
       "output_type": "stream",
       "stream": "stdout",
       "text": [
        "\n",
        "4985 time samples"
       ]
      },
      {
       "output_type": "stream",
       "stream": "stdout",
       "text": [
        "\n",
        "4985 time samples"
       ]
      },
      {
       "output_type": "stream",
       "stream": "stdout",
       "text": [
        "\n",
        "4985 time samples"
       ]
      },
      {
       "output_type": "stream",
       "stream": "stdout",
       "text": [
        "\n",
        "4985 time samples"
       ]
      },
      {
       "output_type": "stream",
       "stream": "stdout",
       "text": [
        "\n",
        "4985 time samples"
       ]
      },
      {
       "output_type": "stream",
       "stream": "stdout",
       "text": [
        "\n",
        "4985 time samples"
       ]
      },
      {
       "output_type": "stream",
       "stream": "stdout",
       "text": [
        "\n",
        "4985 time samples"
       ]
      },
      {
       "output_type": "stream",
       "stream": "stdout",
       "text": [
        "\n",
        "4985 time samples"
       ]
      },
      {
       "output_type": "stream",
       "stream": "stdout",
       "text": [
        "\n",
        "4985 time samples"
       ]
      },
      {
       "output_type": "stream",
       "stream": "stdout",
       "text": [
        "\n",
        "4985 time samples"
       ]
      },
      {
       "output_type": "stream",
       "stream": "stdout",
       "text": [
        "\n",
        "4985 time samples"
       ]
      },
      {
       "output_type": "stream",
       "stream": "stdout",
       "text": [
        "\n",
        "4985 time samples"
       ]
      },
      {
       "output_type": "stream",
       "stream": "stdout",
       "text": [
        "\n",
        "4985 time samples"
       ]
      },
      {
       "output_type": "stream",
       "stream": "stdout",
       "text": [
        "\n",
        "4985 time samples"
       ]
      },
      {
       "output_type": "stream",
       "stream": "stdout",
       "text": [
        "\n",
        "4985 time samples"
       ]
      },
      {
       "output_type": "stream",
       "stream": "stdout",
       "text": [
        "\n",
        "4985 time samples\n",
        "4985 time samples"
       ]
      },
      {
       "output_type": "stream",
       "stream": "stdout",
       "text": [
        "\n",
        "4985 time samples"
       ]
      },
      {
       "output_type": "stream",
       "stream": "stdout",
       "text": [
        "\n",
        "4985 time samples"
       ]
      },
      {
       "output_type": "stream",
       "stream": "stdout",
       "text": [
        "\n",
        "4985 time samples"
       ]
      },
      {
       "output_type": "stream",
       "stream": "stdout",
       "text": [
        "\n",
        "4985 time samples"
       ]
      },
      {
       "output_type": "stream",
       "stream": "stdout",
       "text": [
        "\n",
        "4985 time samples"
       ]
      },
      {
       "output_type": "stream",
       "stream": "stdout",
       "text": [
        "\n",
        "4985 time samples"
       ]
      },
      {
       "output_type": "stream",
       "stream": "stdout",
       "text": [
        "\n",
        "4985 time samples"
       ]
      },
      {
       "output_type": "stream",
       "stream": "stdout",
       "text": [
        "\n",
        "4985 time samples"
       ]
      },
      {
       "output_type": "stream",
       "stream": "stdout",
       "text": [
        "\n",
        "4985 time samples"
       ]
      },
      {
       "output_type": "stream",
       "stream": "stdout",
       "text": [
        "\n",
        "4985 time samples"
       ]
      },
      {
       "output_type": "stream",
       "stream": "stdout",
       "text": [
        "\n",
        "4985 time samples"
       ]
      },
      {
       "output_type": "stream",
       "stream": "stdout",
       "text": [
        "\n",
        "4985 time samples"
       ]
      },
      {
       "output_type": "stream",
       "stream": "stdout",
       "text": [
        "\n",
        "4985 time samples"
       ]
      },
      {
       "output_type": "stream",
       "stream": "stdout",
       "text": [
        "\n",
        "4985 time samples"
       ]
      },
      {
       "output_type": "stream",
       "stream": "stdout",
       "text": [
        "\n",
        "4985 time samples"
       ]
      },
      {
       "output_type": "stream",
       "stream": "stdout",
       "text": [
        "\n",
        "4985 time samples"
       ]
      },
      {
       "output_type": "stream",
       "stream": "stdout",
       "text": [
        "\n",
        "4985 time samples"
       ]
      },
      {
       "output_type": "stream",
       "stream": "stdout",
       "text": [
        "\n",
        "4985 time samples"
       ]
      },
      {
       "output_type": "stream",
       "stream": "stdout",
       "text": [
        "\n",
        "4985 time samples"
       ]
      },
      {
       "output_type": "stream",
       "stream": "stdout",
       "text": [
        "\n",
        "4985 time samples"
       ]
      },
      {
       "output_type": "stream",
       "stream": "stdout",
       "text": [
        "\n",
        "4985 time samples"
       ]
      },
      {
       "output_type": "stream",
       "stream": "stdout",
       "text": [
        "\n",
        "4985 time samples"
       ]
      },
      {
       "output_type": "stream",
       "stream": "stdout",
       "text": [
        "\n",
        "4985 time samples"
       ]
      },
      {
       "output_type": "stream",
       "stream": "stdout",
       "text": [
        "\n",
        "4985 time samples"
       ]
      },
      {
       "output_type": "stream",
       "stream": "stdout",
       "text": [
        "\n",
        "4985 time samples"
       ]
      },
      {
       "output_type": "stream",
       "stream": "stdout",
       "text": [
        "\n",
        "4985 time samples"
       ]
      },
      {
       "output_type": "stream",
       "stream": "stdout",
       "text": [
        "\n",
        "4985 time samples"
       ]
      },
      {
       "output_type": "stream",
       "stream": "stdout",
       "text": [
        "\n",
        "4985 time samples"
       ]
      },
      {
       "output_type": "stream",
       "stream": "stdout",
       "text": [
        "\n",
        "4985 time samples"
       ]
      },
      {
       "output_type": "stream",
       "stream": "stdout",
       "text": [
        "\n",
        "4985 time samples"
       ]
      },
      {
       "output_type": "stream",
       "stream": "stdout",
       "text": [
        "\n",
        "4985 time samples\n"
       ]
      }
     ],
     "prompt_number": 6
    },
    {
     "cell_type": "code",
     "collapsed": false,
     "input": [
      "ls"
     ],
     "language": "python",
     "metadata": {},
     "outputs": [
      {
       "output_type": "stream",
       "stream": "stdout",
       "text": [
        "0-10-10-rgc.dat  0-16-17-rgc.dat  0-22-8-rgc.dat   1-13-15-rgc.dat  1-19-22-rgc.dat  2-10-13-rgc.dat  2-16-20-rgc.dat  2-23-11-rgc.dat  3-13-18-rgc.dat  3-19-9-rgc.dat\r\n",
        "0-10-11-rgc.dat  0-16-18-rgc.dat  0-22-9-rgc.dat   1-13-16-rgc.dat  1-19-23-rgc.dat  2-10-14-rgc.dat  2-16-21-rgc.dat  2-23-12-rgc.dat  3-13-19-rgc.dat  3-20-10-rgc.dat\r\n",
        "0-10-12-rgc.dat  0-16-19-rgc.dat  0-23-10-rgc.dat  1-13-17-rgc.dat  1-19-8-rgc.dat   2-10-15-rgc.dat  2-16-22-rgc.dat  2-23-13-rgc.dat  3-13-20-rgc.dat  3-20-11-rgc.dat\r\n",
        "0-10-13-rgc.dat  0-16-20-rgc.dat  0-23-11-rgc.dat  1-13-18-rgc.dat  1-19-9-rgc.dat   2-10-16-rgc.dat  2-16-23-rgc.dat  2-23-14-rgc.dat  3-13-21-rgc.dat  3-20-12-rgc.dat\r\n",
        "0-10-14-rgc.dat  0-16-21-rgc.dat  0-23-12-rgc.dat  1-13-19-rgc.dat  1-20-10-rgc.dat  2-10-17-rgc.dat  2-16-8-rgc.dat   2-23-15-rgc.dat  3-13-22-rgc.dat  3-20-13-rgc.dat\r\n",
        "0-10-15-rgc.dat  0-16-22-rgc.dat  0-23-13-rgc.dat  1-13-20-rgc.dat  1-20-11-rgc.dat  2-10-18-rgc.dat  2-16-9-rgc.dat   2-23-16-rgc.dat  3-13-23-rgc.dat  3-20-14-rgc.dat\r\n",
        "0-10-16-rgc.dat  0-16-23-rgc.dat  0-23-14-rgc.dat  1-13-21-rgc.dat  1-20-12-rgc.dat  2-10-19-rgc.dat  2-17-10-rgc.dat  2-23-17-rgc.dat  3-13-8-rgc.dat   3-20-15-rgc.dat\r\n",
        "0-10-17-rgc.dat  0-16-8-rgc.dat   0-23-15-rgc.dat  1-13-22-rgc.dat  1-20-13-rgc.dat  2-10-20-rgc.dat  2-17-11-rgc.dat  2-23-18-rgc.dat  3-13-9-rgc.dat   3-20-16-rgc.dat\r\n",
        "0-10-18-rgc.dat  0-16-9-rgc.dat   0-23-16-rgc.dat  1-13-23-rgc.dat  1-20-14-rgc.dat  2-10-21-rgc.dat  2-17-12-rgc.dat  2-23-19-rgc.dat  3-14-10-rgc.dat  3-20-17-rgc.dat\r\n",
        "0-10-19-rgc.dat  0-17-10-rgc.dat  0-23-17-rgc.dat  1-13-8-rgc.dat   1-20-15-rgc.dat  2-10-22-rgc.dat  2-17-13-rgc.dat  2-23-20-rgc.dat  3-14-11-rgc.dat  3-20-18-rgc.dat\r\n",
        "0-10-20-rgc.dat  0-17-11-rgc.dat  0-23-18-rgc.dat  1-13-9-rgc.dat   1-20-16-rgc.dat  2-10-23-rgc.dat  2-17-14-rgc.dat  2-23-21-rgc.dat  3-14-12-rgc.dat  3-20-19-rgc.dat\r\n",
        "0-10-21-rgc.dat  0-17-12-rgc.dat  0-23-19-rgc.dat  1-14-10-rgc.dat  1-20-17-rgc.dat  2-10-8-rgc.dat   2-17-15-rgc.dat  2-23-22-rgc.dat  3-14-13-rgc.dat  3-20-20-rgc.dat\r\n",
        "0-10-22-rgc.dat  0-17-13-rgc.dat  0-23-20-rgc.dat  1-14-11-rgc.dat  1-20-18-rgc.dat  2-10-9-rgc.dat   2-17-16-rgc.dat  2-23-23-rgc.dat  3-14-14-rgc.dat  3-20-21-rgc.dat\r\n",
        "0-10-23-rgc.dat  0-17-14-rgc.dat  0-23-21-rgc.dat  1-14-12-rgc.dat  1-20-19-rgc.dat  2-11-10-rgc.dat  2-17-17-rgc.dat  2-23-8-rgc.dat   3-14-15-rgc.dat  3-20-22-rgc.dat\r\n",
        "0-10-8-rgc.dat   0-17-15-rgc.dat  0-23-22-rgc.dat  1-14-13-rgc.dat  1-20-20-rgc.dat  2-11-11-rgc.dat  2-17-18-rgc.dat  2-23-9-rgc.dat   3-14-16-rgc.dat  3-20-23-rgc.dat\r\n",
        "0-10-9-rgc.dat   0-17-16-rgc.dat  0-23-23-rgc.dat  1-14-14-rgc.dat  1-20-21-rgc.dat  2-11-12-rgc.dat  2-17-19-rgc.dat  2-8-10-rgc.dat   3-14-17-rgc.dat  3-20-8-rgc.dat\r\n",
        "0-11-10-rgc.dat  0-17-17-rgc.dat  0-23-8-rgc.dat   1-14-15-rgc.dat  1-20-22-rgc.dat  2-11-13-rgc.dat  2-17-20-rgc.dat  2-8-11-rgc.dat   3-14-18-rgc.dat  3-20-9-rgc.dat\r\n",
        "0-11-11-rgc.dat  0-17-18-rgc.dat  0-23-9-rgc.dat   1-14-16-rgc.dat  1-20-23-rgc.dat  2-11-14-rgc.dat  2-17-21-rgc.dat  2-8-12-rgc.dat   3-14-19-rgc.dat  3-21-10-rgc.dat\r\n",
        "0-11-12-rgc.dat  0-17-19-rgc.dat  0-8-10-rgc.dat   1-14-17-rgc.dat  1-20-8-rgc.dat   2-11-15-rgc.dat  2-17-22-rgc.dat  2-8-13-rgc.dat   3-14-20-rgc.dat  3-21-11-rgc.dat\r\n",
        "0-11-13-rgc.dat  0-17-20-rgc.dat  0-8-11-rgc.dat   1-14-18-rgc.dat  1-20-9-rgc.dat   2-11-16-rgc.dat  2-17-23-rgc.dat  2-8-14-rgc.dat   3-14-21-rgc.dat  3-21-12-rgc.dat\r\n",
        "0-11-14-rgc.dat  0-17-21-rgc.dat  0-8-12-rgc.dat   1-14-19-rgc.dat  1-21-10-rgc.dat  2-11-17-rgc.dat  2-17-8-rgc.dat   2-8-15-rgc.dat   3-14-22-rgc.dat  3-21-13-rgc.dat\r\n",
        "0-11-15-rgc.dat  0-17-22-rgc.dat  0-8-13-rgc.dat   1-14-20-rgc.dat  1-21-11-rgc.dat  2-11-18-rgc.dat  2-17-9-rgc.dat   2-8-16-rgc.dat   3-14-23-rgc.dat  3-21-14-rgc.dat\r\n",
        "0-11-16-rgc.dat  0-17-23-rgc.dat  0-8-14-rgc.dat   1-14-21-rgc.dat  1-21-12-rgc.dat  2-11-19-rgc.dat  2-18-10-rgc.dat  2-8-17-rgc.dat   3-14-8-rgc.dat   3-21-15-rgc.dat\r\n",
        "0-11-17-rgc.dat  0-17-8-rgc.dat   0-8-15-rgc.dat   1-14-22-rgc.dat  1-21-13-rgc.dat  2-11-20-rgc.dat  2-18-11-rgc.dat  2-8-18-rgc.dat   3-14-9-rgc.dat   3-21-16-rgc.dat\r\n",
        "0-11-18-rgc.dat  0-17-9-rgc.dat   0-8-16-rgc.dat   1-14-23-rgc.dat  1-21-14-rgc.dat  2-11-21-rgc.dat  2-18-12-rgc.dat  2-8-19-rgc.dat   3-15-10-rgc.dat  3-21-17-rgc.dat\r\n",
        "0-11-19-rgc.dat  0-18-10-rgc.dat  0-8-17-rgc.dat   1-14-8-rgc.dat   1-21-15-rgc.dat  2-11-22-rgc.dat  2-18-13-rgc.dat  2-8-20-rgc.dat   3-15-11-rgc.dat  3-21-18-rgc.dat\r\n",
        "0-11-20-rgc.dat  0-18-11-rgc.dat  0-8-18-rgc.dat   1-14-9-rgc.dat   1-21-16-rgc.dat  2-11-23-rgc.dat  2-18-14-rgc.dat  2-8-21-rgc.dat   3-15-12-rgc.dat  3-21-19-rgc.dat\r\n",
        "0-11-21-rgc.dat  0-18-12-rgc.dat  0-8-19-rgc.dat   1-15-10-rgc.dat  1-21-17-rgc.dat  2-11-8-rgc.dat   2-18-15-rgc.dat  2-8-22-rgc.dat   3-15-13-rgc.dat  3-21-20-rgc.dat\r\n",
        "0-11-22-rgc.dat  0-18-13-rgc.dat  0-8-20-rgc.dat   1-15-11-rgc.dat  1-21-18-rgc.dat  2-11-9-rgc.dat   2-18-16-rgc.dat  2-8-23-rgc.dat   3-15-14-rgc.dat  3-21-21-rgc.dat\r\n",
        "0-11-23-rgc.dat  0-18-14-rgc.dat  0-8-21-rgc.dat   1-15-12-rgc.dat  1-21-19-rgc.dat  2-12-10-rgc.dat  2-18-17-rgc.dat  2-8-8-rgc.dat    3-15-15-rgc.dat  3-21-22-rgc.dat\r\n",
        "0-11-8-rgc.dat   0-18-15-rgc.dat  0-8-22-rgc.dat   1-15-13-rgc.dat  1-21-20-rgc.dat  2-12-11-rgc.dat  2-18-18-rgc.dat  2-8-9-rgc.dat    3-15-16-rgc.dat  3-21-23-rgc.dat\r\n",
        "0-11-9-rgc.dat   0-18-16-rgc.dat  0-8-23-rgc.dat   1-15-14-rgc.dat  1-21-21-rgc.dat  2-12-12-rgc.dat  2-18-19-rgc.dat  2-9-10-rgc.dat   3-15-17-rgc.dat  3-21-8-rgc.dat\r\n",
        "0-12-10-rgc.dat  0-18-17-rgc.dat  0-8-8-rgc.dat    1-15-15-rgc.dat  1-21-22-rgc.dat  2-12-13-rgc.dat  2-18-20-rgc.dat  2-9-11-rgc.dat   3-15-18-rgc.dat  3-21-9-rgc.dat\r\n",
        "0-12-11-rgc.dat  0-18-18-rgc.dat  0-8-9-rgc.dat    1-15-16-rgc.dat  1-21-23-rgc.dat  2-12-14-rgc.dat  2-18-21-rgc.dat  2-9-12-rgc.dat   3-15-19-rgc.dat  3-22-10-rgc.dat\r\n",
        "0-12-12-rgc.dat  0-18-19-rgc.dat  0-9-10-rgc.dat   1-15-17-rgc.dat  1-21-8-rgc.dat   2-12-15-rgc.dat  2-18-22-rgc.dat  2-9-13-rgc.dat   3-15-20-rgc.dat  3-22-11-rgc.dat\r\n",
        "0-12-13-rgc.dat  0-18-20-rgc.dat  0-9-11-rgc.dat   1-15-18-rgc.dat  1-21-9-rgc.dat   2-12-16-rgc.dat  2-18-23-rgc.dat  2-9-14-rgc.dat   3-15-21-rgc.dat  3-22-12-rgc.dat\r\n",
        "0-12-14-rgc.dat  0-18-21-rgc.dat  0-9-12-rgc.dat   1-15-19-rgc.dat  1-22-10-rgc.dat  2-12-17-rgc.dat  2-18-8-rgc.dat   2-9-15-rgc.dat   3-15-22-rgc.dat  3-22-13-rgc.dat\r\n",
        "0-12-15-rgc.dat  0-18-22-rgc.dat  0-9-13-rgc.dat   1-15-20-rgc.dat  1-22-11-rgc.dat  2-12-18-rgc.dat  2-18-9-rgc.dat   2-9-16-rgc.dat   3-15-23-rgc.dat  3-22-14-rgc.dat\r\n",
        "0-12-16-rgc.dat  0-18-23-rgc.dat  0-9-14-rgc.dat   1-15-21-rgc.dat  1-22-12-rgc.dat  2-12-19-rgc.dat  2-19-10-rgc.dat  2-9-17-rgc.dat   3-15-8-rgc.dat   3-22-15-rgc.dat\r\n",
        "0-12-17-rgc.dat  0-18-8-rgc.dat   0-9-15-rgc.dat   1-15-22-rgc.dat  1-22-13-rgc.dat  2-12-20-rgc.dat  2-19-11-rgc.dat  2-9-18-rgc.dat   3-15-9-rgc.dat   3-22-16-rgc.dat\r\n",
        "0-12-18-rgc.dat  0-18-9-rgc.dat   0-9-16-rgc.dat   1-15-23-rgc.dat  1-22-14-rgc.dat  2-12-21-rgc.dat  2-19-12-rgc.dat  2-9-19-rgc.dat   3-16-10-rgc.dat  3-22-17-rgc.dat\r\n",
        "0-12-19-rgc.dat  0-19-10-rgc.dat  0-9-17-rgc.dat   1-15-8-rgc.dat   1-22-15-rgc.dat  2-12-22-rgc.dat  2-19-13-rgc.dat  2-9-20-rgc.dat   3-16-11-rgc.dat  3-22-18-rgc.dat\r\n",
        "0-12-20-rgc.dat  0-19-11-rgc.dat  0-9-18-rgc.dat   1-15-9-rgc.dat   1-22-16-rgc.dat  2-12-23-rgc.dat  2-19-14-rgc.dat  2-9-21-rgc.dat   3-16-12-rgc.dat  3-22-19-rgc.dat\r\n",
        "0-12-21-rgc.dat  0-19-12-rgc.dat  0-9-19-rgc.dat   1-16-10-rgc.dat  1-22-17-rgc.dat  2-12-8-rgc.dat   2-19-15-rgc.dat  2-9-22-rgc.dat   3-16-13-rgc.dat  3-22-20-rgc.dat\r\n",
        "0-12-22-rgc.dat  0-19-13-rgc.dat  0-9-20-rgc.dat   1-16-11-rgc.dat  1-22-18-rgc.dat  2-12-9-rgc.dat   2-19-16-rgc.dat  2-9-23-rgc.dat   3-16-14-rgc.dat  3-22-21-rgc.dat\r\n",
        "0-12-23-rgc.dat  0-19-14-rgc.dat  0-9-21-rgc.dat   1-16-12-rgc.dat  1-22-19-rgc.dat  2-13-10-rgc.dat  2-19-17-rgc.dat  2-9-8-rgc.dat    3-16-15-rgc.dat  3-22-22-rgc.dat\r\n",
        "0-12-8-rgc.dat   0-19-15-rgc.dat  0-9-22-rgc.dat   1-16-13-rgc.dat  1-22-20-rgc.dat  2-13-11-rgc.dat  2-19-18-rgc.dat  2-9-9-rgc.dat    3-16-16-rgc.dat  3-22-23-rgc.dat\r\n",
        "0-12-9-rgc.dat   0-19-16-rgc.dat  0-9-23-rgc.dat   1-16-14-rgc.dat  1-22-21-rgc.dat  2-13-12-rgc.dat  2-19-19-rgc.dat  3-10-10-rgc.dat  3-16-17-rgc.dat  3-22-8-rgc.dat\r\n",
        "0-13-10-rgc.dat  0-19-17-rgc.dat  0-9-8-rgc.dat    1-16-15-rgc.dat  1-22-22-rgc.dat  2-13-13-rgc.dat  2-19-20-rgc.dat  3-10-11-rgc.dat  3-16-18-rgc.dat  3-22-9-rgc.dat\r\n",
        "0-13-11-rgc.dat  0-19-18-rgc.dat  0-9-9-rgc.dat    1-16-16-rgc.dat  1-22-23-rgc.dat  2-13-14-rgc.dat  2-19-21-rgc.dat  3-10-12-rgc.dat  3-16-19-rgc.dat  3-23-10-rgc.dat\r\n",
        "0-13-12-rgc.dat  0-19-19-rgc.dat  1-10-10-rgc.dat  1-16-17-rgc.dat  1-22-8-rgc.dat   2-13-15-rgc.dat  2-19-22-rgc.dat  3-10-13-rgc.dat  3-16-20-rgc.dat  3-23-11-rgc.dat\r\n",
        "0-13-13-rgc.dat  0-19-20-rgc.dat  1-10-11-rgc.dat  1-16-18-rgc.dat  1-22-9-rgc.dat   2-13-16-rgc.dat  2-19-23-rgc.dat  3-10-14-rgc.dat  3-16-21-rgc.dat  3-23-12-rgc.dat\r\n",
        "0-13-14-rgc.dat  0-19-21-rgc.dat  1-10-12-rgc.dat  1-16-19-rgc.dat  1-23-10-rgc.dat  2-13-17-rgc.dat  2-19-8-rgc.dat   3-10-15-rgc.dat  3-16-22-rgc.dat  3-23-13-rgc.dat\r\n",
        "0-13-15-rgc.dat  0-19-22-rgc.dat  1-10-13-rgc.dat  1-16-20-rgc.dat  1-23-11-rgc.dat  2-13-18-rgc.dat  2-19-9-rgc.dat   3-10-16-rgc.dat  3-16-23-rgc.dat  3-23-14-rgc.dat\r\n",
        "0-13-16-rgc.dat  0-19-23-rgc.dat  1-10-14-rgc.dat  1-16-21-rgc.dat  1-23-12-rgc.dat  2-13-19-rgc.dat  2-20-10-rgc.dat  3-10-17-rgc.dat  3-16-8-rgc.dat   3-23-15-rgc.dat\r\n",
        "0-13-17-rgc.dat  0-19-8-rgc.dat   1-10-15-rgc.dat  1-16-22-rgc.dat  1-23-13-rgc.dat  2-13-20-rgc.dat  2-20-11-rgc.dat  3-10-18-rgc.dat  3-16-9-rgc.dat   3-23-16-rgc.dat\r\n",
        "0-13-18-rgc.dat  0-19-9-rgc.dat   1-10-16-rgc.dat  1-16-23-rgc.dat  1-23-14-rgc.dat  2-13-21-rgc.dat  2-20-12-rgc.dat  3-10-19-rgc.dat  3-17-10-rgc.dat  3-23-17-rgc.dat\r\n",
        "0-13-19-rgc.dat  0-20-10-rgc.dat  1-10-17-rgc.dat  1-16-8-rgc.dat   1-23-15-rgc.dat  2-13-22-rgc.dat  2-20-13-rgc.dat  3-10-20-rgc.dat  3-17-11-rgc.dat  3-23-18-rgc.dat\r\n",
        "0-13-20-rgc.dat  0-20-11-rgc.dat  1-10-18-rgc.dat  1-16-9-rgc.dat   1-23-16-rgc.dat  2-13-23-rgc.dat  2-20-14-rgc.dat  3-10-21-rgc.dat  3-17-12-rgc.dat  3-23-19-rgc.dat\r\n",
        "0-13-21-rgc.dat  0-20-12-rgc.dat  1-10-19-rgc.dat  1-17-10-rgc.dat  1-23-17-rgc.dat  2-13-8-rgc.dat   2-20-15-rgc.dat  3-10-22-rgc.dat  3-17-13-rgc.dat  3-23-20-rgc.dat\r\n",
        "0-13-22-rgc.dat  0-20-13-rgc.dat  1-10-20-rgc.dat  1-17-11-rgc.dat  1-23-18-rgc.dat  2-13-9-rgc.dat   2-20-16-rgc.dat  3-10-23-rgc.dat  3-17-14-rgc.dat  3-23-21-rgc.dat\r\n",
        "0-13-23-rgc.dat  0-20-14-rgc.dat  1-10-21-rgc.dat  1-17-12-rgc.dat  1-23-19-rgc.dat  2-14-10-rgc.dat  2-20-17-rgc.dat  3-10-8-rgc.dat   3-17-15-rgc.dat  3-23-22-rgc.dat\r\n",
        "0-13-8-rgc.dat   0-20-15-rgc.dat  1-10-22-rgc.dat  1-17-13-rgc.dat  1-23-20-rgc.dat  2-14-11-rgc.dat  2-20-18-rgc.dat  3-10-9-rgc.dat   3-17-16-rgc.dat  3-23-23-rgc.dat\r\n",
        "0-13-9-rgc.dat   0-20-16-rgc.dat  1-10-23-rgc.dat  1-17-14-rgc.dat  1-23-21-rgc.dat  2-14-12-rgc.dat  2-20-19-rgc.dat  3-11-10-rgc.dat  3-17-17-rgc.dat  3-23-8-rgc.dat\r\n",
        "0-14-10-rgc.dat  0-20-17-rgc.dat  1-10-8-rgc.dat   1-17-15-rgc.dat  1-23-22-rgc.dat  2-14-13-rgc.dat  2-20-20-rgc.dat  3-11-11-rgc.dat  3-17-18-rgc.dat  3-23-9-rgc.dat\r\n",
        "0-14-11-rgc.dat  0-20-18-rgc.dat  1-10-9-rgc.dat   1-17-16-rgc.dat  1-23-23-rgc.dat  2-14-14-rgc.dat  2-20-21-rgc.dat  3-11-12-rgc.dat  3-17-19-rgc.dat  3-8-10-rgc.dat\r\n",
        "0-14-12-rgc.dat  0-20-19-rgc.dat  1-11-10-rgc.dat  1-17-17-rgc.dat  1-23-8-rgc.dat   2-14-15-rgc.dat  2-20-22-rgc.dat  3-11-13-rgc.dat  3-17-20-rgc.dat  3-8-11-rgc.dat\r\n",
        "0-14-13-rgc.dat  0-20-20-rgc.dat  1-11-11-rgc.dat  1-17-18-rgc.dat  1-23-9-rgc.dat   2-14-16-rgc.dat  2-20-23-rgc.dat  3-11-14-rgc.dat  3-17-21-rgc.dat  3-8-12-rgc.dat\r\n",
        "0-14-14-rgc.dat  0-20-21-rgc.dat  1-11-12-rgc.dat  1-17-19-rgc.dat  1-8-10-rgc.dat   2-14-17-rgc.dat  2-20-8-rgc.dat   3-11-15-rgc.dat  3-17-22-rgc.dat  3-8-13-rgc.dat\r\n",
        "0-14-15-rgc.dat  0-20-22-rgc.dat  1-11-13-rgc.dat  1-17-20-rgc.dat  1-8-11-rgc.dat   2-14-18-rgc.dat  2-20-9-rgc.dat   3-11-16-rgc.dat  3-17-23-rgc.dat  3-8-14-rgc.dat\r\n",
        "0-14-16-rgc.dat  0-20-23-rgc.dat  1-11-14-rgc.dat  1-17-21-rgc.dat  1-8-12-rgc.dat   2-14-19-rgc.dat  2-21-10-rgc.dat  3-11-17-rgc.dat  3-17-8-rgc.dat   3-8-15-rgc.dat\r\n",
        "0-14-17-rgc.dat  0-20-8-rgc.dat   1-11-15-rgc.dat  1-17-22-rgc.dat  1-8-13-rgc.dat   2-14-20-rgc.dat  2-21-11-rgc.dat  3-11-18-rgc.dat  3-17-9-rgc.dat   3-8-16-rgc.dat\r\n",
        "0-14-18-rgc.dat  0-20-9-rgc.dat   1-11-16-rgc.dat  1-17-23-rgc.dat  1-8-14-rgc.dat   2-14-21-rgc.dat  2-21-12-rgc.dat  3-11-19-rgc.dat  3-18-10-rgc.dat  3-8-17-rgc.dat\r\n",
        "0-14-19-rgc.dat  0-21-10-rgc.dat  1-11-17-rgc.dat  1-17-8-rgc.dat   1-8-15-rgc.dat   2-14-22-rgc.dat  2-21-13-rgc.dat  3-11-20-rgc.dat  3-18-11-rgc.dat  3-8-18-rgc.dat\r\n",
        "0-14-20-rgc.dat  0-21-11-rgc.dat  1-11-18-rgc.dat  1-17-9-rgc.dat   1-8-16-rgc.dat   2-14-23-rgc.dat  2-21-14-rgc.dat  3-11-21-rgc.dat  3-18-12-rgc.dat  3-8-19-rgc.dat\r\n",
        "0-14-21-rgc.dat  0-21-12-rgc.dat  1-11-19-rgc.dat  1-18-10-rgc.dat  1-8-17-rgc.dat   2-14-8-rgc.dat   2-21-15-rgc.dat  3-11-22-rgc.dat  3-18-13-rgc.dat  3-8-20-rgc.dat\r\n",
        "0-14-22-rgc.dat  0-21-13-rgc.dat  1-11-20-rgc.dat  1-18-11-rgc.dat  1-8-18-rgc.dat   2-14-9-rgc.dat   2-21-16-rgc.dat  3-11-23-rgc.dat  3-18-14-rgc.dat  3-8-21-rgc.dat\r\n",
        "0-14-23-rgc.dat  0-21-14-rgc.dat  1-11-21-rgc.dat  1-18-12-rgc.dat  1-8-19-rgc.dat   2-15-10-rgc.dat  2-21-17-rgc.dat  3-11-8-rgc.dat   3-18-15-rgc.dat  3-8-22-rgc.dat\r\n",
        "0-14-8-rgc.dat   0-21-15-rgc.dat  1-11-22-rgc.dat  1-18-13-rgc.dat  1-8-20-rgc.dat   2-15-11-rgc.dat  2-21-18-rgc.dat  3-11-9-rgc.dat   3-18-16-rgc.dat  3-8-23-rgc.dat\r\n",
        "0-14-9-rgc.dat   0-21-16-rgc.dat  1-11-23-rgc.dat  1-18-14-rgc.dat  1-8-21-rgc.dat   2-15-12-rgc.dat  2-21-19-rgc.dat  3-12-10-rgc.dat  3-18-17-rgc.dat  3-8-8-rgc.dat\r\n",
        "0-15-10-rgc.dat  0-21-17-rgc.dat  1-11-8-rgc.dat   1-18-15-rgc.dat  1-8-22-rgc.dat   2-15-13-rgc.dat  2-21-20-rgc.dat  3-12-11-rgc.dat  3-18-18-rgc.dat  3-8-9-rgc.dat\r\n",
        "0-15-11-rgc.dat  0-21-18-rgc.dat  1-11-9-rgc.dat   1-18-16-rgc.dat  1-8-23-rgc.dat   2-15-14-rgc.dat  2-21-21-rgc.dat  3-12-12-rgc.dat  3-18-19-rgc.dat  3-9-10-rgc.dat\r\n",
        "0-15-12-rgc.dat  0-21-19-rgc.dat  1-12-10-rgc.dat  1-18-17-rgc.dat  1-8-8-rgc.dat    2-15-15-rgc.dat  2-21-22-rgc.dat  3-12-13-rgc.dat  3-18-20-rgc.dat  3-9-11-rgc.dat\r\n",
        "0-15-13-rgc.dat  0-21-20-rgc.dat  1-12-11-rgc.dat  1-18-18-rgc.dat  1-8-9-rgc.dat    2-15-16-rgc.dat  2-21-23-rgc.dat  3-12-14-rgc.dat  3-18-21-rgc.dat  3-9-12-rgc.dat\r\n",
        "0-15-14-rgc.dat  0-21-21-rgc.dat  1-12-12-rgc.dat  1-18-19-rgc.dat  1-9-10-rgc.dat   2-15-17-rgc.dat  2-21-8-rgc.dat   3-12-15-rgc.dat  3-18-22-rgc.dat  3-9-13-rgc.dat\r\n",
        "0-15-15-rgc.dat  0-21-22-rgc.dat  1-12-13-rgc.dat  1-18-20-rgc.dat  1-9-11-rgc.dat   2-15-18-rgc.dat  2-21-9-rgc.dat   3-12-16-rgc.dat  3-18-23-rgc.dat  3-9-14-rgc.dat\r\n",
        "0-15-16-rgc.dat  0-21-23-rgc.dat  1-12-14-rgc.dat  1-18-21-rgc.dat  1-9-12-rgc.dat   2-15-19-rgc.dat  2-22-10-rgc.dat  3-12-17-rgc.dat  3-18-8-rgc.dat   3-9-15-rgc.dat\r\n",
        "0-15-17-rgc.dat  0-21-8-rgc.dat   1-12-15-rgc.dat  1-18-22-rgc.dat  1-9-13-rgc.dat   2-15-20-rgc.dat  2-22-11-rgc.dat  3-12-18-rgc.dat  3-18-9-rgc.dat   3-9-16-rgc.dat\r\n",
        "0-15-18-rgc.dat  0-21-9-rgc.dat   1-12-16-rgc.dat  1-18-23-rgc.dat  1-9-14-rgc.dat   2-15-21-rgc.dat  2-22-12-rgc.dat  3-12-19-rgc.dat  3-19-10-rgc.dat  3-9-17-rgc.dat\r\n",
        "0-15-19-rgc.dat  0-22-10-rgc.dat  1-12-17-rgc.dat  1-18-8-rgc.dat   1-9-15-rgc.dat   2-15-22-rgc.dat  2-22-13-rgc.dat  3-12-20-rgc.dat  3-19-11-rgc.dat  3-9-18-rgc.dat\r\n",
        "0-15-20-rgc.dat  0-22-11-rgc.dat  1-12-18-rgc.dat  1-18-9-rgc.dat   1-9-16-rgc.dat   2-15-23-rgc.dat  2-22-14-rgc.dat  3-12-21-rgc.dat  3-19-12-rgc.dat  3-9-19-rgc.dat\r\n",
        "0-15-21-rgc.dat  0-22-12-rgc.dat  1-12-19-rgc.dat  1-19-10-rgc.dat  1-9-17-rgc.dat   2-15-8-rgc.dat   2-22-15-rgc.dat  3-12-22-rgc.dat  3-19-13-rgc.dat  3-9-20-rgc.dat\r\n",
        "0-15-22-rgc.dat  0-22-13-rgc.dat  1-12-20-rgc.dat  1-19-11-rgc.dat  1-9-18-rgc.dat   2-15-9-rgc.dat   2-22-16-rgc.dat  3-12-23-rgc.dat  3-19-14-rgc.dat  3-9-21-rgc.dat\r\n",
        "0-15-23-rgc.dat  0-22-14-rgc.dat  1-12-21-rgc.dat  1-19-12-rgc.dat  1-9-19-rgc.dat   2-16-10-rgc.dat  2-22-17-rgc.dat  3-12-8-rgc.dat   3-19-15-rgc.dat  3-9-22-rgc.dat\r\n",
        "0-15-8-rgc.dat   0-22-15-rgc.dat  1-12-22-rgc.dat  1-19-13-rgc.dat  1-9-20-rgc.dat   2-16-11-rgc.dat  2-22-18-rgc.dat  3-12-9-rgc.dat   3-19-16-rgc.dat  3-9-23-rgc.dat\r\n",
        "0-15-9-rgc.dat   0-22-16-rgc.dat  1-12-23-rgc.dat  1-19-14-rgc.dat  1-9-21-rgc.dat   2-16-12-rgc.dat  2-22-19-rgc.dat  3-13-10-rgc.dat  3-19-17-rgc.dat  3-9-8-rgc.dat\r\n",
        "0-16-10-rgc.dat  0-22-17-rgc.dat  1-12-8-rgc.dat   1-19-15-rgc.dat  1-9-22-rgc.dat   2-16-13-rgc.dat  2-22-20-rgc.dat  3-13-11-rgc.dat  3-19-18-rgc.dat  3-9-9-rgc.dat\r\n",
        "0-16-11-rgc.dat  0-22-18-rgc.dat  1-12-9-rgc.dat   1-19-16-rgc.dat  1-9-23-rgc.dat   2-16-14-rgc.dat  2-22-21-rgc.dat  3-13-12-rgc.dat  3-19-19-rgc.dat  retinaFunctions.py\r\n",
        "0-16-12-rgc.dat  0-22-19-rgc.dat  1-13-10-rgc.dat  1-19-17-rgc.dat  1-9-8-rgc.dat    2-16-15-rgc.dat  2-22-22-rgc.dat  3-13-13-rgc.dat  3-19-20-rgc.dat  retinaFunctions.pyc\r\n",
        "0-16-13-rgc.dat  0-22-20-rgc.dat  1-13-11-rgc.dat  1-19-18-rgc.dat  1-9-9-rgc.dat    2-16-16-rgc.dat  2-22-23-rgc.dat  3-13-14-rgc.dat  3-19-21-rgc.dat  retina.m\r\n",
        "0-16-14-rgc.dat  0-22-21-rgc.dat  1-13-12-rgc.dat  1-19-19-rgc.dat  2-10-10-rgc.dat  2-16-17-rgc.dat  2-22-8-rgc.dat   3-13-15-rgc.dat  3-19-22-rgc.dat  run_whiteNoise.py\r\n",
        "0-16-15-rgc.dat  0-22-22-rgc.dat  1-13-13-rgc.dat  1-19-20-rgc.dat  2-10-11-rgc.dat  2-16-18-rgc.dat  2-22-9-rgc.dat   3-13-16-rgc.dat  3-19-23-rgc.dat  visual_neuron.py\r\n",
        "0-16-16-rgc.dat  0-22-23-rgc.dat  1-13-14-rgc.dat  1-19-21-rgc.dat  2-10-12-rgc.dat  2-16-19-rgc.dat  2-23-10-rgc.dat  3-13-17-rgc.dat  3-19-8-rgc.dat   visual_neuron.pyc\r\n"
       ]
      }
     ],
     "prompt_number": 7
    },
    {
     "cell_type": "code",
     "collapsed": false,
     "input": [],
     "language": "python",
     "metadata": {},
     "outputs": []
    }
   ],
   "metadata": {}
  }
 ]
}