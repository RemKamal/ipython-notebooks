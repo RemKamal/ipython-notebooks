{
 "cells": [
  {
   "cell_type": "markdown",
   "metadata": {},
   "source": [
    "# Analyzing experiment from 5/31/2016"
   ]
  },
  {
   "cell_type": "code",
   "execution_count": 1,
   "metadata": {
    "collapsed": false
   },
   "outputs": [],
   "source": [
    "import numpy as np\n",
    "from sklearn.decomposition import PCA\n",
    "import scipy.io\n",
    "import itertools\n",
    "import os\n",
    "import h5py\n",
    "import pyret.visualizations as pyviz\n",
    "import pyret.filtertools as ft\n",
    "import pyret.spiketools as st\n",
    "import pyret.stimulustools as stimtools\n",
    "import jetpack\n",
    "from experiments.iotools import read_channel # from niru-analysis github\n",
    "from experiments.photodiode import find_peaks, find_start_times\n",
    "# import binary     # in igor >> recording\n",
    "import pdb\n",
    "import string\n",
    "# from jetpack.signals import peakdet\n",
    "from scipy.signal import find_peaks_cwt\n",
    "from os.path import expanduser\n",
    "\n",
    "# This is a bit of magic to make matplotlib figures appear inline in the\n",
    "# notebook rather than in a new window.\n",
    "%matplotlib inline\n",
    "import matplotlib.pyplot as plt\n",
    "from matplotlib.pyplot import plot, xlabel, ylabel, title, imshow\n",
    "\n",
    "# note that nonposx(y) for log plots will no longer work with this package\n",
    "import mpld3\n",
    "#mpld3.enable_notebook()\n",
    "\n",
    "from pylab import rcParams\n",
    "rcParams['figure.figsize'] = (10.0, 8.0) # set default size of plots\n",
    "rcParams['image.interpolation'] = 'nearest'\n",
    "rcParams['image.cmap'] = 'gray'\n",
    "\n",
    "# Some more magic so that the notebook will reload external python modules;\n",
    "# see http://stackoverflow.com/questions/1907993/autoreload-of-modules-in-ipython\n",
    "%load_ext autoreload\n",
    "%autoreload 2"
   ]
  },
  {
   "cell_type": "markdown",
   "metadata": {},
   "source": [
    "## experiment directory"
   ]
  },
  {
   "cell_type": "code",
   "execution_count": 2,
   "metadata": {
    "collapsed": true
   },
   "outputs": [],
   "source": [
    "data_dir = '/Users/lmcintosh/experiments/data/16-05-31/'\n",
    "stim_dir = '/Users/lmcintosh/experiments/data/16-05-31/stimulus/'\n",
    "stimulus_filename = '16-05-31-stimulus.h5'"
   ]
  },
  {
   "cell_type": "markdown",
   "metadata": {},
   "source": [
    "## load spikes"
   ]
  },
  {
   "cell_type": "code",
   "execution_count": 3,
   "metadata": {
    "collapsed": false
   },
   "outputs": [],
   "source": [
    "fs = sorted(os.listdir(data_dir))\n",
    "fs = [f for f in fs if f.endswith(\".txt\")]\n",
    "\n",
    "cells = []\n",
    "for f in fs:\n",
    "    text_file = open(data_dir + f, \"r\")\n",
    "    spikes = text_file.read().split('\\n')\n",
    "    cells.append([float(spike) for spike in spikes if (not (not spike)) and float(spike) > 0])\n",
    "    \n",
    "    text_file.close()"
   ]
  },
  {
   "cell_type": "code",
   "execution_count": 4,
   "metadata": {
    "collapsed": false
   },
   "outputs": [
    {
     "data": {
      "text/plain": [
       "28"
      ]
     },
     "execution_count": 4,
     "metadata": {},
     "output_type": "execute_result"
    }
   ],
   "source": [
    "len(cells)"
   ]
  },
  {
   "cell_type": "code",
   "execution_count": 5,
   "metadata": {
    "collapsed": false,
    "scrolled": false
   },
   "outputs": [
    {
     "data": {
      "image/png": "[encoded data removed]",
      "text/plain": [
       "<matplotlib.figure.Figure at 0x10aba3810>"
      ]
     },
     "metadata": {},
     "output_type": "display_data"
    },
    {
     "data": {
      "text/plain": [
       "<matplotlib.figure.Figure at 0x1125d4450>"
      ]
     },
     "metadata": {},
     "output_type": "display_data"
    }
   ],
   "source": [
    "fig = pyviz.raster(cells[0][:100], np.ones((len(cells[0][:100]),)), marker_string='|', color='k', markersize=30)"
   ]
  },
  {
   "cell_type": "markdown",
   "metadata": {},
   "source": [
    "## load stimulus"
   ]
  },
  {
   "cell_type": "code",
   "execution_count": 48,
   "metadata": {
    "collapsed": false
   },
   "outputs": [
    {
     "name": "stdout",
     "output_type": "stream",
     "text": [
      "128\n"
     ]
    },
    {
     "data": {
      "text/plain": [
       "[u'expt1',\n",
       " u'expt10',\n",
       " u'expt100',\n",
       " u'expt101',\n",
       " u'expt102',\n",
       " u'expt103',\n",
       " u'expt104',\n",
       " u'expt105',\n",
       " u'expt106',\n",
       " u'expt107',\n",
       " u'expt108',\n",
       " u'expt109',\n",
       " u'expt11',\n",
       " u'expt110',\n",
       " u'expt111',\n",
       " u'expt112',\n",
       " u'expt113',\n",
       " u'expt114',\n",
       " u'expt115',\n",
       " u'expt116',\n",
       " u'expt117',\n",
       " u'expt118',\n",
       " u'expt119',\n",
       " u'expt12',\n",
       " u'expt120',\n",
       " u'expt121',\n",
       " u'expt122',\n",
       " u'expt123',\n",
       " u'expt124',\n",
       " u'expt125',\n",
       " u'expt126',\n",
       " u'expt127',\n",
       " u'expt128',\n",
       " u'expt13',\n",
       " u'expt14',\n",
       " u'expt15',\n",
       " u'expt16',\n",
       " u'expt17',\n",
       " u'expt18',\n",
       " u'expt19',\n",
       " u'expt2',\n",
       " u'expt20',\n",
       " u'expt21',\n",
       " u'expt22',\n",
       " u'expt23',\n",
       " u'expt24',\n",
       " u'expt25',\n",
       " u'expt26',\n",
       " u'expt27',\n",
       " u'expt28',\n",
       " u'expt29',\n",
       " u'expt3',\n",
       " u'expt30',\n",
       " u'expt31',\n",
       " u'expt32',\n",
       " u'expt33',\n",
       " u'expt34',\n",
       " u'expt35',\n",
       " u'expt36',\n",
       " u'expt37',\n",
       " u'expt38',\n",
       " u'expt39',\n",
       " u'expt4',\n",
       " u'expt40',\n",
       " u'expt41',\n",
       " u'expt42',\n",
       " u'expt43',\n",
       " u'expt44',\n",
       " u'expt45',\n",
       " u'expt46',\n",
       " u'expt47',\n",
       " u'expt48',\n",
       " u'expt49',\n",
       " u'expt5',\n",
       " u'expt50',\n",
       " u'expt51',\n",
       " u'expt52',\n",
       " u'expt53',\n",
       " u'expt54',\n",
       " u'expt55',\n",
       " u'expt56',\n",
       " u'expt57',\n",
       " u'expt58',\n",
       " u'expt59',\n",
       " u'expt6',\n",
       " u'expt60',\n",
       " u'expt61',\n",
       " u'expt62',\n",
       " u'expt63',\n",
       " u'expt64',\n",
       " u'expt65',\n",
       " u'expt66',\n",
       " u'expt67',\n",
       " u'expt68',\n",
       " u'expt69',\n",
       " u'expt7',\n",
       " u'expt70',\n",
       " u'expt71',\n",
       " u'expt72',\n",
       " u'expt73',\n",
       " u'expt74',\n",
       " u'expt75',\n",
       " u'expt76',\n",
       " u'expt77',\n",
       " u'expt78',\n",
       " u'expt79',\n",
       " u'expt8',\n",
       " u'expt80',\n",
       " u'expt81',\n",
       " u'expt82',\n",
       " u'expt83',\n",
       " u'expt84',\n",
       " u'expt85',\n",
       " u'expt86',\n",
       " u'expt87',\n",
       " u'expt88',\n",
       " u'expt89',\n",
       " u'expt9',\n",
       " u'expt90',\n",
       " u'expt91',\n",
       " u'expt92',\n",
       " u'expt93',\n",
       " u'expt94',\n",
       " u'expt95',\n",
       " u'expt96',\n",
       " u'expt97',\n",
       " u'expt98',\n",
       " u'expt99']"
      ]
     },
     "execution_count": 48,
     "metadata": {},
     "output_type": "execute_result"
    }
   ],
   "source": [
    "f = h5py.File(stim_dir + stimulus_filename)\n",
    "print(len(list(f)))\n",
    "list(f)"
   ]
  },
  {
   "cell_type": "code",
   "execution_count": 7,
   "metadata": {
    "collapsed": false
   },
   "outputs": [
    {
     "data": {
      "text/plain": [
       "[u'stim', u'timestamps']"
      ]
     },
     "execution_count": 7,
     "metadata": {},
     "output_type": "execute_result"
    }
   ],
   "source": [
    "list(f['expt1'])"
   ]
  },
  {
   "cell_type": "code",
   "execution_count": 8,
   "metadata": {
    "collapsed": false
   },
   "outputs": [
    {
     "data": {
      "text/plain": [
       "((7503, 50, 50), (7503,))"
      ]
     },
     "execution_count": 8,
     "metadata": {},
     "output_type": "execute_result"
    }
   ],
   "source": [
    "(f['expt1/stim'].shape, f['expt1/timestamps'].shape)"
   ]
  },
  {
   "cell_type": "markdown",
   "metadata": {},
   "source": [
    "## find peaks in photodiode to align each experiment"
   ]
  },
  {
   "cell_type": "markdown",
   "metadata": {},
   "source": [
    "#### load photodiode"
   ]
  },
  {
   "cell_type": "code",
   "execution_count": 19,
   "metadata": {
    "collapsed": false
   },
   "outputs": [],
   "source": [
    "raw_data = h5py.File(data_dir + '16-05-31.h5')\n",
    "pd = read_channel(raw_data, channel=119)"
   ]
  },
  {
   "cell_type": "code",
   "execution_count": 21,
   "metadata": {
    "collapsed": false
   },
   "outputs": [
    {
     "data": {
      "text/plain": [
       "[<matplotlib.lines.Line2D at 0x11308a8d0>]"
      ]
     },
     "execution_count": 21,
     "metadata": {},
     "output_type": "execute_result"
    },
    {
     "data": {
      "image/png": "[encoded data removed]",
      "text/plain": [
       "<matplotlib.figure.Figure at 0x112dbb550>"
      ]
     },
     "metadata": {},
     "output_type": "display_data"
    }
   ],
   "source": [
    "plt.plot(pd[:10000])"
   ]
  },
  {
   "cell_type": "code",
   "execution_count": 26,
   "metadata": {
    "collapsed": false
   },
   "outputs": [
    {
     "data": {
      "text/plain": [
       "array([ -8.33833165e+01,   1.19928067e-02])"
      ]
     },
     "execution_count": 26,
     "metadata": {},
     "output_type": "execute_result"
    }
   ],
   "source": [
    "uniques = np.unique(pd)\n",
    "uniques"
   ]
  },
  {
   "cell_type": "code",
   "execution_count": 34,
   "metadata": {
    "collapsed": false
   },
   "outputs": [],
   "source": [
    "time = np.linspace(0, len(pd)/20000., len(pd))\n",
    "timestamps = [time[i] for i,p in enumerate(pd) if p == uniques[0]]"
   ]
  },
  {
   "cell_type": "code",
   "execution_count": 35,
   "metadata": {
    "collapsed": false
   },
   "outputs": [
    {
     "data": {
      "text/plain": [
       "25983"
      ]
     },
     "execution_count": 35,
     "metadata": {},
     "output_type": "execute_result"
    }
   ],
   "source": [
    "len(timestamps)"
   ]
  },
  {
   "cell_type": "code",
   "execution_count": 44,
   "metadata": {
    "collapsed": false
   },
   "outputs": [
    {
     "data": {
      "text/plain": [
       "666.6666666666666"
      ]
     },
     "execution_count": 44,
     "metadata": {},
     "output_type": "execute_result"
    }
   ],
   "source": [
    "estimated_peaks = 20000./30.\n",
    "estimated_peaks"
   ]
  },
  {
   "cell_type": "code",
   "execution_count": 45,
   "metadata": {
    "collapsed": false
   },
   "outputs": [
    {
     "data": {
      "text/plain": [
       "1"
      ]
     },
     "execution_count": 45,
     "metadata": {},
     "output_type": "execute_result"
    }
   ],
   "source": [
    "len([t for t in timestamps if t == timestamps[0]])"
   ]
  },
  {
   "cell_type": "code",
   "execution_count": 43,
   "metadata": {
    "collapsed": false
   },
   "outputs": [
    {
     "data": {
      "text/plain": [
       "[13.373300074016495,\n",
       " 13.373350074016772,\n",
       " 13.373400074017047,\n",
       " 13.373450074017324,\n",
       " 13.373500074017601,\n",
       " 13.373550074017878,\n",
       " 13.373600074018155,\n",
       " 13.373650074018432,\n",
       " 13.373700074018707,\n",
       " 13.373750074018984]"
      ]
     },
     "execution_count": 43,
     "metadata": {},
     "output_type": "execute_result"
    }
   ],
   "source": [
    "timestamps[:10]"
   ]
  },
  {
   "cell_type": "code",
   "execution_count": 38,
   "metadata": {
    "collapsed": false
   },
   "outputs": [
    {
     "data": {
      "text/plain": [
       "[<matplotlib.lines.Line2D at 0x112c2cb10>]"
      ]
     },
     "execution_count": 38,
     "metadata": {},
     "output_type": "execute_result"
    },
    {
     "data": {
      "image/png": "[encoded data removed]",
      "text/plain": [
       "<matplotlib.figure.Figure at 0x1126cc5d0>"
      ]
     },
     "metadata": {},
     "output_type": "display_data"
    }
   ],
   "source": [
    "plt.plot(timestamps)"
   ]
  },
  {
   "cell_type": "code",
   "execution_count": null,
   "metadata": {
    "collapsed": true
   },
   "outputs": [],
   "source": [
    "np.diff(np.un)"
   ]
  },
  {
   "cell_type": "markdown",
   "metadata": {},
   "source": [
    "#### find peaks"
   ]
  },
  {
   "cell_type": "code",
   "execution_count": 89,
   "metadata": {
    "collapsed": true
   },
   "outputs": [],
   "source": [
    "peaks = [t for i,t in enumerate(timestamps[1:]) if t > (timestamps[i]+5.0)]"
   ]
  },
  {
   "cell_type": "code",
   "execution_count": 100,
   "metadata": {
    "collapsed": true
   },
   "outputs": [],
   "source": [
    "peaks.insert(0, timestamps[0])"
   ]
  },
  {
   "cell_type": "code",
   "execution_count": 101,
   "metadata": {
    "collapsed": false
   },
   "outputs": [
    {
     "data": {
      "text/plain": [
       "128"
      ]
     },
     "execution_count": 101,
     "metadata": {},
     "output_type": "execute_result"
    }
   ],
   "source": [
    "len(peaks)"
   ]
  },
  {
   "cell_type": "code",
   "execution_count": 102,
   "metadata": {
    "collapsed": false
   },
   "outputs": [
    {
     "data": {
      "text/plain": [
       "[<matplotlib.lines.Line2D at 0x114a8ff90>]"
      ]
     },
     "execution_count": 102,
     "metadata": {},
     "output_type": "execute_result"
    },
    {
     "data": {
      "image/png": "[encoded data removed]",
      "text/plain": [
       "<matplotlib.figure.Figure at 0x114a2b650>"
      ]
     },
     "metadata": {},
     "output_type": "display_data"
    }
   ],
   "source": [
    "plt.plot(peaks)"
   ]
  },
  {
   "cell_type": "code",
   "execution_count": 103,
   "metadata": {
    "collapsed": false
   },
   "outputs": [
    {
     "data": {
      "text/plain": [
       "[13.373300074016495,\n",
       " 320.06175177142882,\n",
       " 626.59020346795558,\n",
       " 663.29685367111392,\n",
       " 700.1367038750094,\n",
       " 736.77670407779897,\n",
       " 773.52335428117863,\n",
       " 810.12340448374698,\n",
       " 846.75000468646226,\n",
       " 883.40335488932567]"
      ]
     },
     "execution_count": 103,
     "metadata": {},
     "output_type": "execute_result"
    }
   ],
   "source": [
    "peaks[:10]"
   ]
  },
  {
   "cell_type": "markdown",
   "metadata": {},
   "source": [
    "#### Go from maxtab_start_indices to start times in seconds"
   ]
  },
  {
   "cell_type": "code",
   "execution_count": 18,
   "metadata": {
    "collapsed": true
   },
   "outputs": [],
   "source": [
    "from jetpack.timepiece import hrtime"
   ]
  },
  {
   "cell_type": "code",
   "execution_count": 104,
   "metadata": {
    "collapsed": false
   },
   "outputs": [
    {
     "data": {
      "text/plain": [
       "300.0"
      ]
     },
     "execution_count": 104,
     "metadata": {},
     "output_type": "execute_result"
    }
   ],
   "source": [
    "f['expt1/timestamps'][-1]"
   ]
  },
  {
   "cell_type": "code",
   "execution_count": 105,
   "metadata": {
    "collapsed": true
   },
   "outputs": [],
   "source": [
    "start_times = peaks"
   ]
  },
  {
   "cell_type": "markdown",
   "metadata": {},
   "source": [
    "# Align spikes with each experiment"
   ]
  },
  {
   "cell_type": "code",
   "execution_count": 106,
   "metadata": {
    "collapsed": false
   },
   "outputs": [],
   "source": [
    "expt_spikes = []\n",
    "for expt_id, start in enumerate(start_times):\n",
    "    expt_spikes.append([])\n",
    "    expt_name = 'expt%d' %(expt_id+1)\n",
    "    stop = f[expt_name + '/timestamps'][-1] # last timestamp, in seconds\n",
    "    for c in cells:\n",
    "        expt_spikes[-1].append([sp-start for sp in c if sp >= start and sp <= start+stop])"
   ]
  },
  {
   "cell_type": "code",
   "execution_count": 107,
   "metadata": {
    "collapsed": true
   },
   "outputs": [],
   "source": [
    "def spikes_to_array(spikes):\n",
    "    '''\n",
    "    Converts a list of spike times to an array with labels for easy\n",
    "    pyret.visualizations.raster() use.\n",
    "    \n",
    "    INPUT:\n",
    "        spikes    list of list of spike times\n",
    "    '''\n",
    "    collapsed_spikes = []\n",
    "    collapsed_labels = []\n",
    "    nlists = len(spikes)\n",
    "    for idl, l in enumerate(spikes):\n",
    "        labels = idl * np.ones((len(l),))\n",
    "        collapsed_spikes.extend(l)\n",
    "        collapsed_labels.extend(labels)\n",
    "        \n",
    "    return np.array(collapsed_spikes), np.array(collapsed_labels)\n",
    "    "
   ]
  },
  {
   "cell_type": "code",
   "execution_count": 118,
   "metadata": {
    "collapsed": true
   },
   "outputs": [],
   "source": [
    "all_spikes, all_labels = spikes_to_array(expt_spikes[1])"
   ]
  },
  {
   "cell_type": "code",
   "execution_count": 119,
   "metadata": {
    "collapsed": false
   },
   "outputs": [
    {
     "data": {
      "image/png": "[encoded data removed]",
      "text/plain": [
       "<matplotlib.figure.Figure at 0x116571a10>"
      ]
     },
     "metadata": {},
     "output_type": "display_data"
    },
    {
     "data": {
      "text/plain": [
       "<matplotlib.figure.Figure at 0x1164bca50>"
      ]
     },
     "metadata": {},
     "output_type": "display_data"
    }
   ],
   "source": [
    "fig = pyviz.raster(all_spikes, all_labels, marker_string='|', color='k', markersize=12)"
   ]
  },
  {
   "cell_type": "markdown",
   "metadata": {},
   "source": [
    "## Look at first 8 repeats"
   ]
  },
  {
   "cell_type": "code",
   "execution_count": 214,
   "metadata": {
    "collapsed": true
   },
   "outputs": [],
   "source": [
    "c = 2\n",
    "repeat_spikes = [e[c] for e in expt_spikes[2:10]]\n",
    "all_spikes, all_labels = spikes_to_array(repeat_spikes)"
   ]
  },
  {
   "cell_type": "code",
   "execution_count": 215,
   "metadata": {
    "collapsed": false
   },
   "outputs": [
    {
     "data": {
      "image/png": "[encoded data removed]",
      "text/plain": [
       "<matplotlib.figure.Figure at 0x1159e95d0>"
      ]
     },
     "metadata": {},
     "output_type": "display_data"
    },
    {
     "data": {
      "text/plain": [
       "<matplotlib.figure.Figure at 0x11710cbd0>"
      ]
     },
     "metadata": {},
     "output_type": "display_data"
    }
   ],
   "source": [
    "fig = pyviz.raster(all_spikes, all_labels, marker_string='|', color='k', markersize=12)"
   ]
  },
  {
   "cell_type": "code",
   "execution_count": 198,
   "metadata": {
    "collapsed": false
   },
   "outputs": [],
   "source": [
    "c = 2\n",
    "repeat_spikes = [e[c] for e in expt_spikes[11:19]]\n",
    "all_spikes, all_labels = spikes_to_array(repeat_spikes)"
   ]
  },
  {
   "cell_type": "code",
   "execution_count": 199,
   "metadata": {
    "collapsed": false
   },
   "outputs": [
    {
     "data": {
      "image/png": "[encoded data removed]",
      "text/plain": [
       "<matplotlib.figure.Figure at 0x112597450>"
      ]
     },
     "metadata": {},
     "output_type": "display_data"
    },
    {
     "data": {
      "text/plain": [
       "<matplotlib.figure.Figure at 0x1163cd910>"
      ]
     },
     "metadata": {},
     "output_type": "display_data"
    }
   ],
   "source": [
    "fig = pyviz.raster(all_spikes, all_labels, marker_string='|', color='k', markersize=12)"
   ]
  },
  {
   "cell_type": "code",
   "execution_count": 190,
   "metadata": {
    "collapsed": false
   },
   "outputs": [
    {
     "data": {
      "text/plain": [
       "9034.0"
      ]
     },
     "execution_count": 190,
     "metadata": {},
     "output_type": "execute_result"
    }
   ],
   "source": [
    "len(pd)/20000."
   ]
  },
  {
   "cell_type": "code",
   "execution_count": 191,
   "metadata": {
    "collapsed": false
   },
   "outputs": [
    {
     "data": {
      "text/plain": [
       "2.5094444444444446"
      ]
     },
     "execution_count": 191,
     "metadata": {},
     "output_type": "execute_result"
    }
   ],
   "source": [
    "9034./3600"
   ]
  },
  {
   "cell_type": "markdown",
   "metadata": {},
   "source": [
    "# experiment structure"
   ]
  },
  {
   "cell_type": "code",
   "execution_count": 120,
   "metadata": {
    "collapsed": true
   },
   "outputs": [],
   "source": [
    "stimulus_seq = []\n",
    "stimulus_seq.append('whitenoise')\n",
    "# 14 single trials of 5 min each (70 min total)\n",
    "for block in range(14):\n",
    "    stimulus_seq.append('naturalscene_single')\n",
    "    # 14 * 8 = 112 repeats\n",
    "    for repeat in range(8):\n",
    "        stimulus_seq.append('naturalscene_repeat')\n",
    "stimulus_seq.append('whitenoise')"
   ]
  },
  {
   "cell_type": "code",
   "execution_count": 121,
   "metadata": {
    "collapsed": false
   },
   "outputs": [
    {
     "data": {
      "text/plain": [
       "128"
      ]
     },
     "execution_count": 121,
     "metadata": {},
     "output_type": "execute_result"
    }
   ],
   "source": [
    "len(stimulus_seq)"
   ]
  },
  {
   "cell_type": "code",
   "execution_count": 122,
   "metadata": {
    "collapsed": false
   },
   "outputs": [
    {
     "data": {
      "text/plain": [
       "128"
      ]
     },
     "execution_count": 122,
     "metadata": {},
     "output_type": "execute_result"
    }
   ],
   "source": [
    "len(expt_spikes)"
   ]
  },
  {
   "cell_type": "code",
   "execution_count": 123,
   "metadata": {
    "collapsed": false
   },
   "outputs": [
    {
     "data": {
      "text/plain": [
       "(7503, 50, 50)"
      ]
     },
     "execution_count": 123,
     "metadata": {},
     "output_type": "execute_result"
    }
   ],
   "source": [
    "f['expt1/stim'].shape"
   ]
  },
  {
   "cell_type": "markdown",
   "metadata": {},
   "source": [
    "# Check out the STAs for the 14 cells"
   ]
  },
  {
   "cell_type": "code",
   "execution_count": 125,
   "metadata": {
    "collapsed": true
   },
   "outputs": [],
   "source": [
    "from scipy.stats import zscore"
   ]
  },
  {
   "cell_type": "code",
   "execution_count": 326,
   "metadata": {
    "collapsed": false
   },
   "outputs": [],
   "source": [
    "# cell_idx = 0\n",
    "# first_trial = 7\n",
    "# num_diff_trials = 8\n",
    "# total_trials = 24\n",
    "\n",
    "with h5py.File(stim_dir + stimulus_filename) as f:\n",
    "\n",
    "    stas = []\n",
    "    filter_length = 40\n",
    "\n",
    "    # whitenoise_expts = range(0,24,8)\n",
    "    whitenoise_expts = [0]\n",
    "    # whitenoise_expts = [0, 1, 16, 17]\n",
    "    # whitenoise_expts = [0, 1, 2, 3, 6, 7, 8, 9, 10, 11, 14, 15, 16, 17, 18, 19, 22, 23]\n",
    "    for c in range(len(cells)):\n",
    "        partial_sta = np.zeros((filter_length, 50, 50))\n",
    "        for expt_id in whitenoise_expts:\n",
    "            expt_name = 'expt%d' %(expt_id+1)\n",
    "#             time = np.array(f[expt_name + '/timestamps'])\n",
    "#             time = np.arange(0, 300, 1/25.00940617)\n",
    "#             time = np.linspace(0,300, int(300*25.00940617))\n",
    "            stimulus = zscore(f[expt_name + '/stim'])\n",
    "            time = np.arange(0, stimulus.shape[0])/25.00940617\n",
    "            sta = np.zeros((filter_length, 50, 50))\n",
    "#             stimulus_upsample, time_upsample = stimtools.upsample_stim(stimulus, 4, time)\n",
    "    #         sta, tax = ft.getsta(time_upsample, stimulus_upsample, expt_spikes[expt_id][c], filter_length)\n",
    "            sta, tax = ft.getsta(time, stimulus, expt_spikes[expt_id][c], filter_length)\n",
    "#             for spk in expt_spikes[expt_id][c]:\n",
    "#                 ind = np.argmin(abs(spk - time))\n",
    "#                 if ind > filter_length/2:\n",
    "#                     if ind < len(time) - filter_length/2:\n",
    "#                         sta += stimulus[ind-filter_length/2:ind+filter_length/2]\n",
    "\n",
    "#             partial_sta += sta #/float(len(expt_spikes[expt_id][c]))\n",
    "#         partial_sta /= float(len(whitenoise_expts))\n",
    "        stas.append(sta)"
   ]
  },
  {
   "cell_type": "code",
   "execution_count": 334,
   "metadata": {
    "collapsed": true
   },
   "outputs": [],
   "source": [
    "whitenoise_expt = 0\n",
    "with h5py.File(stim_dir + stimulus_filename) as f:\n",
    "\n",
    "    stas = []\n",
    "    filter_length = 40\n",
    "    for c in range(len(cells)):\n",
    "        expt_name = 'expt%d' %(whitenoise_expt+1)\n",
    "        stimulus = zscore(f[expt_name + '/stim'])\n",
    "        time = np.arange(0, stimulus.shape[0])/25.00940617\n",
    "        stimulus_upsample, time_upsample = stimtools.upsample_stim(stimulus, 4, time)\n",
    "        sta, tax = ft.getsta(time_upsample, stimulus_upsample, expt_spikes[expt_id][c], filter_length)\n",
    "#         sta, tax = ft.getsta(time, stimulus, expt_spikes[expt_id][c], filter_length)\n",
    "        stas.append(sta)"
   ]
  },
  {
   "cell_type": "code",
   "execution_count": 335,
   "metadata": {
    "collapsed": false
   },
   "outputs": [
    {
     "data": {
      "image/png": "[encoded data removed]",
      "text/plain": [
       "<matplotlib.figure.Figure at 0x119429290>"
      ]
     },
     "metadata": {},
     "output_type": "display_data"
    }
   ],
   "source": [
    "%matplotlib inline\n",
    "num_cols = 6\n",
    "num_rows = 6\n",
    "idxs = range(num_cols)\n",
    "for y in range(num_cols):\n",
    "    for i in range(num_rows):\n",
    "        plt_idx = i * num_cols + y + 1\n",
    "        if plt_idx <= len(cells):\n",
    "            try:\n",
    "                space, temporal_filters = ft.decompose(stas[plt_idx-1] - np.mean(stas[plt_idx-1]))\n",
    "            except:\n",
    "                space = np.zeros((50,50))\n",
    "\n",
    "            plt.subplot(num_rows, num_cols, plt_idx)\n",
    "            plt.imshow(space - np.mean(space), cmap='seismic')\n",
    "            plt.axis('off')"
   ]
  },
  {
   "cell_type": "code",
   "execution_count": 336,
   "metadata": {
    "collapsed": false
   },
   "outputs": [
    {
     "data": {
      "image/png": "[encoded data removed]",
      "text/plain": [
       "<matplotlib.figure.Figure at 0x11a11f4d0>"
      ]
     },
     "metadata": {},
     "output_type": "display_data"
    }
   ],
   "source": [
    "# %matplotlib inline\n",
    "fig = plt.gcf()\n",
    "fig.set_size_inches((12,6))\n",
    "num_cols = 6\n",
    "num_rows = 6\n",
    "idxs = range(num_cols)\n",
    "for y in range(num_cols):\n",
    "    for i in range(num_rows):\n",
    "        plt_idx = i * num_cols + y + 1\n",
    "        if plt_idx <= len(cells):\n",
    "            try:\n",
    "                space, temporal_filters = ft.decompose(stas[plt_idx-1] - np.mean(stas[plt_idx-1]))\n",
    "            except:\n",
    "                temporal_filters = np.zeros((filter_length,))\n",
    "\n",
    "            plt.subplot(num_rows, num_cols, plt_idx)\n",
    "            plt.plot(temporal_filters, 'k')\n",
    "            plt.axis('off')\n",
    "# mpld3.display()"
   ]
  },
  {
   "cell_type": "markdown",
   "metadata": {},
   "source": [
    "#### save STAs"
   ]
  },
  {
   "cell_type": "code",
   "execution_count": 337,
   "metadata": {
    "collapsed": false
   },
   "outputs": [
    {
     "name": "stderr",
     "output_type": "stream",
     "text": [
      "Using gpu device 0: GeForce GT 750M (CNMeM is disabled, CuDNN not available)\n"
     ]
    }
   ],
   "source": [
    "from deepretina.visualizations import visualize_sta"
   ]
  },
  {
   "cell_type": "code",
   "execution_count": 338,
   "metadata": {
    "collapsed": false
   },
   "outputs": [],
   "source": [
    "for c in range(len(cells)):\n",
    "    try:\n",
    "        space, time = ft.decompose(stas[c] - np.mean(stas[c]))\n",
    "    except:\n",
    "        space = np.zeros((50,50))\n",
    "    plt.imshow(space - np.mean(space), cmap='seismic')\n",
    "    plt_filename = 'sta_cell_%d.png' %(c)\n",
    "    plt.savefig(plt_filename)\n",
    "    plt.close()"
   ]
  },
  {
   "cell_type": "markdown",
   "metadata": {},
   "source": [
    "# Rasters during natural movies"
   ]
  },
  {
   "cell_type": "code",
   "execution_count": 343,
   "metadata": {
    "collapsed": false
   },
   "outputs": [],
   "source": [
    "import brewer2mpl"
   ]
  },
  {
   "cell_type": "code",
   "execution_count": 352,
   "metadata": {
    "collapsed": false
   },
   "outputs": [
    {
     "data": {
      "text/plain": [
       "112"
      ]
     },
     "execution_count": 352,
     "metadata": {},
     "output_type": "execute_result"
    }
   ],
   "source": [
    "len(repeats)"
   ]
  },
  {
   "cell_type": "code",
   "execution_count": 355,
   "metadata": {
    "collapsed": false
   },
   "outputs": [
    {
     "data": {
      "text/plain": [
       "(0, 1)"
      ]
     },
     "execution_count": 355,
     "metadata": {},
     "output_type": "execute_result"
    },
    {
     "data": {
      "image/png": "[encoded data removed]",
      "text/plain": [
       "<matplotlib.figure.Figure at 0x1286466d0>"
      ]
     },
     "metadata": {},
     "output_type": "display_data"
    }
   ],
   "source": [
    "fig = plt.gcf()\n",
    "fig.set_size_inches((15,10))\n",
    "\n",
    "ax = plt.gca()\n",
    "bmap = brewer2mpl.get_map('Set1', 'Qualitative', 9, reverse=True)\n",
    "colors = bmap.mpl_colors\n",
    "\n",
    "# structured stimuli\n",
    "num_repeats = 112\n",
    "for c in range(len(cells)):\n",
    "    repeats = []\n",
    "    for t,stim_type in enumerate(stimulus_seq):\n",
    "        if stim_type == 'naturalscene_repeat':\n",
    "            repeats.append(expt_spikes[t][c])\n",
    "\n",
    "    all_spikes, all_labels = spikes_to_array(repeats)\n",
    "    all_labels += num_repeats * c\n",
    "    \n",
    "    # plot raster for this particular cell\n",
    "    which_color = c % 9\n",
    "    ax.plot(all_spikes, all_labels, '|', markersize=1, color=colors[which_color])\n",
    "\n",
    "plt.tick_params(axis='y', direction='out')\n",
    "plt.tick_params(axis='x', direction='out')\n",
    "# adjust_spines(plt.gca(), ['left', 'bottom'])\n",
    "plt.xlim([0, 1])"
   ]
  },
  {
   "cell_type": "code",
   "execution_count": null,
   "metadata": {
    "collapsed": true
   },
   "outputs": [],
   "source": []
  },
  {
   "cell_type": "markdown",
   "metadata": {},
   "source": [
    "# Save h5 files"
   ]
  },
  {
   "cell_type": "code",
   "execution_count": 41,
   "metadata": {
    "collapsed": true
   },
   "outputs": [],
   "source": [
    "import h5py\n",
    "from pyret.spiketools import binspikes"
   ]
  },
  {
   "cell_type": "markdown",
   "metadata": {},
   "source": [
    "#### expts to each stim type"
   ]
  },
  {
   "cell_type": "code",
   "execution_count": 43,
   "metadata": {
    "collapsed": true
   },
   "outputs": [],
   "source": [
    "whitenoise_train_expts = [0, 8, 16]\n",
    "whitenoise_test_expts = [1, 9, 17]\n",
    "naturalscene_train_expts = [2, 10, 18]\n",
    "naturalscene_test_expts = [3, 11, 19]\n",
    "structured_train_expts = [4, 12, 20]\n",
    "structured_test_expts = [5, 13, 21]\n",
    "naturalmovie_train_expts = [6, 14, 22]\n",
    "naturalmovie_test_expts = [7, 15, 23]"
   ]
  },
  {
   "cell_type": "markdown",
   "metadata": {},
   "source": [
    "#### whitenoise"
   ]
  },
  {
   "cell_type": "code",
   "execution_count": 44,
   "metadata": {
    "collapsed": false
   },
   "outputs": [
    {
     "data": {
      "text/plain": [
       "<HDF5 dataset \"firing_rate_5ms\": shape (14, 179970), type \"<f8\">"
      ]
     },
     "execution_count": 44,
     "metadata": {},
     "output_type": "execute_result"
    }
   ],
   "source": [
    "h = h5py.File('/Users/lmcintosh/experiments/data/16-01-08/whitenoise.h5', 'w')\n",
    "\n",
    "##### spikes #####\n",
    "ncells = len(cells)\n",
    "for idx in range(ncells):\n",
    "    h.create_dataset('spikes/cell%02d' %(idx+1), data=np.array(cells[idx]))\n",
    "\n",
    "##### train #####\n",
    "train_stimuli = []\n",
    "train_times = []\n",
    "train_response_binned = []\n",
    "train_response_5ms = []\n",
    "train_response_10ms = []\n",
    "train_response_20ms = []\n",
    "last_time = 0.0\n",
    "for idx in whitenoise_train_expts:\n",
    "    expt_name = 'expt%d' %(idx+1)\n",
    "    stim = f[expt_name + '/stim']\n",
    "    time = f[expt_name + '/timestamps']\n",
    "    stimulus_upsample, time_upsample = stimtools.upsample_stim(stim, 3, time)\n",
    "    binned_spikes = []\n",
    "    response_5ms = []\n",
    "    response_10ms = []\n",
    "    response_20ms = []\n",
    "    for c in range(len(cells)):\n",
    "        bspk, tax = binspikes(expt_spikes[idx][c], binsize=0.01, time=time_upsample)\n",
    "        binned_spikes.append(bspk)\n",
    "        r5ms = st.estfr(tax, bspk, sigma=0.005) # 5 ms Gaussian\n",
    "        r10ms = st.estfr(tax, bspk, sigma=0.01) # 10 ms Gaussian\n",
    "        r20ms = st.estfr(tax, bspk, sigma=0.02) # 20 ms Gaussian\n",
    "        response_5ms.append(r5ms)\n",
    "        response_10ms.append(r10ms)\n",
    "        response_20ms.append(r20ms)\n",
    "        \n",
    "    train_response_binned.append(np.vstack(binned_spikes))\n",
    "    train_response_5ms.append(np.vstack(response_5ms))\n",
    "    train_response_10ms.append(np.vstack(response_10ms))\n",
    "    train_response_20ms.append(np.vstack(response_20ms))\n",
    "    train_stimuli.append(stimulus_upsample[:-1])\n",
    "    train_times.append(time_upsample[:-1] + last_time)\n",
    "    last_time += time_upsample[-1]\n",
    "# create datasets\n",
    "h.create_dataset('train/stimulus', data=np.vstack(train_stimuli))\n",
    "h.create_dataset('train/time', data=np.hstack(train_times))\n",
    "h.create_dataset('train/response/binned', data=np.hstack(train_response_binned))\n",
    "h.create_dataset('train/response/firing_rate_10ms', data=np.hstack(train_response_10ms))\n",
    "h.create_dataset('train/response/firing_rate_20ms', data=np.hstack(train_response_20ms))\n",
    "h.create_dataset('train/response/firing_rate_5ms', data=np.hstack(train_response_5ms))"
   ]
  },
  {
   "cell_type": "code",
   "execution_count": 45,
   "metadata": {
    "collapsed": true
   },
   "outputs": [],
   "source": [
    "##### test #####\n",
    "test_stimuli = []\n",
    "test_times = []\n",
    "test_response_binned = []\n",
    "test_response_5ms = []\n",
    "test_response_10ms = []\n",
    "test_response_20ms = []\n",
    "test_repeats = []\n",
    "for repeat, idx in enumerate(whitenoise_test_expts):\n",
    "    expt_name = 'expt%d' %(idx+1)\n",
    "    stim = f[expt_name + '/stim']\n",
    "    time = f[expt_name + '/timestamps']\n",
    "    stimulus_upsample, time_upsample = stimtools.upsample_stim(stim, 3, time)\n",
    "    binned_spikes = []\n",
    "    response_5ms = []\n",
    "    response_10ms = []\n",
    "    response_20ms = []\n",
    "    for c in range(len(cells)):\n",
    "        bspk, tax = binspikes(expt_spikes[idx][c], binsize=0.01, time=time_upsample)\n",
    "        binned_spikes.append(bspk)\n",
    "        r5ms = st.estfr(tax, bspk, sigma=0.005) # 5 ms Gaussian\n",
    "        r10ms = st.estfr(tax, bspk, sigma=0.01) # 10 ms Gaussian\n",
    "        r20ms = st.estfr(tax, bspk, sigma=0.02) # 20 ms Gaussian\n",
    "        response_5ms.append(r5ms)\n",
    "        response_10ms.append(r10ms)\n",
    "        response_20ms.append(r20ms)\n",
    "        \n",
    "        if repeat == 0:\n",
    "            test_repeats.append([r10ms])\n",
    "        else:\n",
    "            test_repeats[c].append(r10ms)\n",
    "    test_response_binned.append(np.vstack(binned_spikes))\n",
    "    test_response_5ms.append(np.vstack(response_5ms))\n",
    "    test_response_10ms.append(np.vstack(response_10ms))\n",
    "    test_response_20ms.append(np.vstack(response_20ms))\n",
    "# create datasets\n",
    "h.create_dataset('test/stimulus', data=stimulus_upsample[:-1])\n",
    "h.create_dataset('test/time', data=time_upsample[:-1])\n",
    "h.create_dataset('test/response/binned', data=np.mean(test_response_binned, axis=0))\n",
    "h.create_dataset('test/response/firing_rate_10ms', data=np.mean(test_response_10ms, axis=0))\n",
    "h.create_dataset('test/response/firing_rate_20ms', data=np.mean(test_response_20ms, axis=0))\n",
    "h.create_dataset('test/response/firing_rate_5ms', data=np.mean(test_response_5ms, axis=0))\n",
    "for c in range(len(cells)):\n",
    "    dataset_name = 'test/repeats/cell%02d' %(c+1)\n",
    "    h.create_dataset(dataset_name, data=np.vstack(test_repeats[c]))\n",
    "\n",
    "h.close()"
   ]
  },
  {
   "cell_type": "markdown",
   "metadata": {},
   "source": [
    "#### naturalscene"
   ]
  },
  {
   "cell_type": "code",
   "execution_count": 46,
   "metadata": {
    "collapsed": true
   },
   "outputs": [],
   "source": [
    "h = h5py.File('/Users/lmcintosh/experiments/data/16-01-08/naturalscene.h5', 'w')\n",
    "\n",
    "##### spikes #####\n",
    "ncells = len(cells)\n",
    "for idx in range(ncells):\n",
    "    h.create_dataset('spikes/cell%02d' %(idx+1), data=np.array(cells[idx]))\n",
    "\n",
    "##### train #####\n",
    "train_stimuli = []\n",
    "train_times = []\n",
    "train_response_binned = []\n",
    "train_response_5ms = []\n",
    "train_response_10ms = []\n",
    "train_response_20ms = []\n",
    "last_time = 0.0\n",
    "for idx in naturalscene_train_expts:\n",
    "    expt_name = 'expt%d' %(idx+1)\n",
    "    stim = f[expt_name + '/stim']\n",
    "    time = f[expt_name + '/timestamps']\n",
    "    stimulus_upsample, time_upsample = stimtools.upsample_stim(stim, 3, time)\n",
    "    binned_spikes = []\n",
    "    response_5ms = []\n",
    "    response_10ms = []\n",
    "    response_20ms = []\n",
    "    for c in range(len(cells)):\n",
    "        bspk, tax = binspikes(expt_spikes[idx][c], binsize=0.01, time=time_upsample)\n",
    "        binned_spikes.append(bspk)\n",
    "        r5ms = st.estfr(tax, bspk, sigma=0.005) # 5 ms Gaussian\n",
    "        r10ms = st.estfr(tax, bspk, sigma=0.01) # 10 ms Gaussian\n",
    "        r20ms = st.estfr(tax, bspk, sigma=0.02) # 20 ms Gaussian\n",
    "        response_5ms.append(r5ms)\n",
    "        response_10ms.append(r10ms)\n",
    "        response_20ms.append(r20ms)\n",
    "    train_response_binned.append(np.vstack(binned_spikes))\n",
    "    train_response_5ms.append(np.vstack(response_5ms))\n",
    "    train_response_10ms.append(np.vstack(response_10ms))\n",
    "    train_response_20ms.append(np.vstack(response_20ms))\n",
    "    train_stimuli.append(stimulus_upsample[:-1])\n",
    "    train_times.append(time_upsample[:-1] + last_time)\n",
    "    last_time += time_upsample[-1]\n",
    "# create datasets\n",
    "h.create_dataset('train/stimulus', data=np.vstack(train_stimuli))\n",
    "h.create_dataset('train/time', data=np.hstack(train_times))\n",
    "h.create_dataset('train/response/binned', data=np.hstack(train_response_binned))\n",
    "h.create_dataset('train/response/firing_rate_10ms', data=np.hstack(train_response_10ms))\n",
    "h.create_dataset('train/response/firing_rate_20ms', data=np.hstack(train_response_20ms))\n",
    "h.create_dataset('train/response/firing_rate_5ms', data=np.hstack(train_response_5ms))\n",
    "\n",
    "##### test #####\n",
    "test_stimuli = []\n",
    "test_times = []\n",
    "test_response_binned = []\n",
    "test_response_5ms = []\n",
    "test_response_10ms = []\n",
    "test_response_20ms = []\n",
    "test_repeats = []\n",
    "for repeat, idx in enumerate(naturalscene_test_expts):\n",
    "    expt_name = 'expt%d' %(idx+1)\n",
    "    stim = f[expt_name + '/stim']\n",
    "    time = f[expt_name + '/timestamps']\n",
    "    stimulus_upsample, time_upsample = stimtools.upsample_stim(stim, 3, time)\n",
    "    binned_spikes = []\n",
    "    response_5ms = []\n",
    "    response_10ms = []\n",
    "    response_20ms = []\n",
    "    for c in range(len(cells)):\n",
    "        bspk, tax = binspikes(expt_spikes[idx][c], binsize=0.01, time=time_upsample)\n",
    "        binned_spikes.append(bspk)\n",
    "        r5ms = st.estfr(tax, bspk, sigma=0.005) # 5 ms Gaussian\n",
    "        r10ms = st.estfr(tax, bspk, sigma=0.01) # 10 ms Gaussian\n",
    "        r20ms = st.estfr(tax, bspk, sigma=0.02) # 20 ms Gaussian\n",
    "        response_5ms.append(r5ms)\n",
    "        response_10ms.append(r10ms)\n",
    "        response_20ms.append(r20ms)\n",
    "        if repeat == 0:\n",
    "            test_repeats.append([r10ms])\n",
    "        else:\n",
    "            test_repeats[c].append(r10ms)\n",
    "    test_response_binned.append(np.vstack(binned_spikes))\n",
    "    test_response_5ms.append(np.vstack(response_5ms))\n",
    "    test_response_10ms.append(np.vstack(response_10ms))\n",
    "    test_response_20ms.append(np.vstack(response_20ms))\n",
    "# create datasets\n",
    "h.create_dataset('test/stimulus', data=stimulus_upsample[:-1])\n",
    "h.create_dataset('test/time', data=time_upsample[:-1])\n",
    "h.create_dataset('test/response/binned', data=np.mean(test_response_binned, axis=0))\n",
    "h.create_dataset('test/response/firing_rate_10ms', data=np.mean(test_response_10ms, axis=0))\n",
    "h.create_dataset('test/response/firing_rate_20ms', data=np.mean(test_response_20ms, axis=0))\n",
    "h.create_dataset('test/response/firing_rate_5ms', data=np.mean(test_response_5ms, axis=0))\n",
    "for c in range(len(cells)):\n",
    "    dataset_name = 'test/repeats/cell%02d' %(c+1)\n",
    "    h.create_dataset(dataset_name, data=np.vstack(test_repeats[c]))\n",
    "\n",
    "h.close()"
   ]
  },
  {
   "cell_type": "markdown",
   "metadata": {},
   "source": [
    "#### structured"
   ]
  },
  {
   "cell_type": "code",
   "execution_count": 47,
   "metadata": {
    "collapsed": true
   },
   "outputs": [],
   "source": [
    "h = h5py.File('/Users/lmcintosh/experiments/data/16-01-08/structured.h5', 'w')\n",
    "\n",
    "##### spikes #####\n",
    "ncells = len(cells)\n",
    "for idx in range(ncells):\n",
    "    h.create_dataset('spikes/cell%02d' %(idx+1), data=np.array(cells[idx]))\n",
    "\n",
    "##### train #####\n",
    "train_stimuli = []\n",
    "train_times = []\n",
    "train_response_binned = []\n",
    "train_response_5ms = []\n",
    "train_response_10ms = []\n",
    "train_response_20ms = []\n",
    "last_time = 0.0\n",
    "for idx in structured_train_expts:\n",
    "    expt_name = 'expt%d' %(idx+1)\n",
    "    stim = f[expt_name + '/stim']\n",
    "    time = f[expt_name + '/timestamps']\n",
    "    stimulus_upsample, time_upsample = stimtools.upsample_stim(stim, 3, time)\n",
    "    binned_spikes = []\n",
    "    response_5ms = []\n",
    "    response_10ms = []\n",
    "    response_20ms = []\n",
    "    for c in range(len(cells)):\n",
    "        bspk, tax = binspikes(expt_spikes[idx][c], binsize=0.01, time=time_upsample)\n",
    "        binned_spikes.append(bspk)\n",
    "        r5ms = st.estfr(tax, bspk, sigma=0.005) # 5 ms Gaussian\n",
    "        r10ms = st.estfr(tax, bspk, sigma=0.01) # 10 ms Gaussian\n",
    "        r20ms = st.estfr(tax, bspk, sigma=0.02) # 20 ms Gaussian\n",
    "        response_5ms.append(r5ms)\n",
    "        response_10ms.append(r10ms)\n",
    "        response_20ms.append(r20ms)\n",
    "    train_response_binned.append(np.vstack(binned_spikes))\n",
    "    train_response_5ms.append(np.vstack(response_5ms))\n",
    "    train_response_10ms.append(np.vstack(response_10ms))\n",
    "    train_response_20ms.append(np.vstack(response_20ms))\n",
    "    train_stimuli.append(stimulus_upsample[:-1])\n",
    "    train_times.append(time_upsample[:-1] + last_time)\n",
    "    last_time += time_upsample[-1]\n",
    "# create datasets\n",
    "h.create_dataset('train/stimulus', data=np.vstack(train_stimuli))\n",
    "h.create_dataset('train/time', data=np.hstack(train_times))\n",
    "h.create_dataset('train/response/binned', data=np.hstack(train_response_binned))\n",
    "h.create_dataset('train/response/firing_rate_10ms', data=np.hstack(train_response_10ms))\n",
    "h.create_dataset('train/response/firing_rate_20ms', data=np.hstack(train_response_20ms))\n",
    "h.create_dataset('train/response/firing_rate_5ms', data=np.hstack(train_response_5ms))\n",
    "\n",
    "##### test #####\n",
    "test_stimuli = []\n",
    "test_times = []\n",
    "test_response_binned = []\n",
    "test_response_5ms = []\n",
    "test_response_10ms = []\n",
    "test_response_20ms = []\n",
    "test_repeats = []\n",
    "for repeat, idx in enumerate(structured_test_expts):\n",
    "    expt_name = 'expt%d' %(idx+1)\n",
    "    stim = f[expt_name + '/stim']\n",
    "    time = f[expt_name + '/timestamps']\n",
    "    stimulus_upsample, time_upsample = stimtools.upsample_stim(stim, 3, time)\n",
    "    binned_spikes = []\n",
    "    response_5ms = []\n",
    "    response_10ms = []\n",
    "    response_20ms = []\n",
    "    for c in range(len(cells)):\n",
    "        bspk, tax = binspikes(expt_spikes[idx][c], binsize=0.01, time=time_upsample)\n",
    "        binned_spikes.append(bspk)\n",
    "        r5ms = st.estfr(tax, bspk, sigma=0.005) # 5 ms Gaussian\n",
    "        r10ms = st.estfr(tax, bspk, sigma=0.01) # 10 ms Gaussian\n",
    "        r20ms = st.estfr(tax, bspk, sigma=0.02) # 20 ms Gaussian\n",
    "        response_5ms.append(r5ms)\n",
    "        response_10ms.append(r10ms)\n",
    "        response_20ms.append(r20ms)\n",
    "        if repeat == 0:\n",
    "            test_repeats.append([r10ms])\n",
    "        else:\n",
    "            test_repeats[c].append(r10ms)\n",
    "    test_response_binned.append(np.vstack(binned_spikes))\n",
    "    test_response_5ms.append(np.vstack(response_5ms))\n",
    "    test_response_10ms.append(np.vstack(response_10ms))\n",
    "    test_response_20ms.append(np.vstack(response_20ms))\n",
    "# create datasets\n",
    "h.create_dataset('test/stimulus', data=stimulus_upsample[:-1])\n",
    "h.create_dataset('test/time', data=time_upsample[:-1])\n",
    "h.create_dataset('test/response/binned', data=np.mean(test_response_binned, axis=0))\n",
    "h.create_dataset('test/response/firing_rate_10ms', data=np.mean(test_response_10ms, axis=0))\n",
    "h.create_dataset('test/response/firing_rate_20ms', data=np.mean(test_response_20ms, axis=0))\n",
    "h.create_dataset('test/response/firing_rate_5ms', data=np.mean(test_response_5ms, axis=0))\n",
    "for c in range(len(cells)):\n",
    "    dataset_name = 'test/repeats/cell%02d' %(c+1)\n",
    "    h.create_dataset(dataset_name, data=np.vstack(test_repeats[c]))\n",
    "\n",
    "h.close()"
   ]
  },
  {
   "cell_type": "markdown",
   "metadata": {},
   "source": [
    "#### naturalmovie"
   ]
  },
  {
   "cell_type": "code",
   "execution_count": 48,
   "metadata": {
    "collapsed": true
   },
   "outputs": [],
   "source": [
    "h = h5py.File('/Users/lmcintosh/experiments/data/16-01-08/naturalmovie.h5', 'w')\n",
    "\n",
    "##### spikes #####\n",
    "ncells = len(cells)\n",
    "for idx in range(ncells):\n",
    "    h.create_dataset('spikes/cell%02d' %(idx+1), data=np.array(cells[idx]))\n",
    "\n",
    "##### train #####\n",
    "train_stimuli = []\n",
    "train_times = []\n",
    "train_response_binned = []\n",
    "train_response_5ms = []\n",
    "train_response_10ms = []\n",
    "train_response_20ms = []\n",
    "last_time = 0.0\n",
    "for idx in naturalmovie_train_expts:\n",
    "    expt_name = 'expt%d' %(idx+1)\n",
    "    stim = f[expt_name + '/stim']\n",
    "    time = f[expt_name + '/timestamps']\n",
    "    stimulus_upsample, time_upsample = stimtools.upsample_stim(stim, 3, time)\n",
    "    binned_spikes = []\n",
    "    response_5ms = []\n",
    "    response_10ms = []\n",
    "    response_20ms = []\n",
    "    for c in range(len(cells)):\n",
    "        bspk, tax = binspikes(expt_spikes[idx][c], binsize=0.01, time=time_upsample)\n",
    "        binned_spikes.append(bspk)\n",
    "        r5ms = st.estfr(tax, bspk, sigma=0.005) # 5 ms Gaussian\n",
    "        r10ms = st.estfr(tax, bspk, sigma=0.01) # 10 ms Gaussian\n",
    "        r20ms = st.estfr(tax, bspk, sigma=0.02) # 20 ms Gaussian\n",
    "        response_5ms.append(r5ms)\n",
    "        response_10ms.append(r10ms)\n",
    "        response_20ms.append(r20ms)\n",
    "    train_response_binned.append(np.vstack(binned_spikes))\n",
    "    train_response_5ms.append(np.vstack(response_5ms))\n",
    "    train_response_10ms.append(np.vstack(response_10ms))\n",
    "    train_response_20ms.append(np.vstack(response_20ms))\n",
    "    train_stimuli.append(stimulus_upsample[:-1])\n",
    "    train_times.append(time_upsample[:-1] + last_time)\n",
    "    last_time += time_upsample[-1]\n",
    "# create datasets\n",
    "h.create_dataset('train/stimulus', data=np.vstack(train_stimuli))\n",
    "h.create_dataset('train/time', data=np.hstack(train_times))\n",
    "h.create_dataset('train/response/binned', data=np.hstack(train_response_binned))\n",
    "h.create_dataset('train/response/firing_rate_10ms', data=np.hstack(train_response_10ms))\n",
    "h.create_dataset('train/response/firing_rate_20ms', data=np.hstack(train_response_20ms))\n",
    "h.create_dataset('train/response/firing_rate_5ms', data=np.hstack(train_response_5ms))\n",
    "\n",
    "##### test #####\n",
    "test_stimuli = []\n",
    "test_times = []\n",
    "test_response_binned = []\n",
    "test_response_5ms = []\n",
    "test_response_10ms = []\n",
    "test_response_20ms = []\n",
    "test_repeats = []\n",
    "for repeat, idx in enumerate(naturalmovie_test_expts):\n",
    "    expt_name = 'expt%d' %(idx+1)\n",
    "    stim = f[expt_name + '/stim']\n",
    "    time = f[expt_name + '/timestamps']\n",
    "    stimulus_upsample, time_upsample = stimtools.upsample_stim(stim, 3, time)\n",
    "    binned_spikes = []\n",
    "    response_5ms = []\n",
    "    response_10ms = []\n",
    "    response_20ms = []\n",
    "    for c in range(len(cells)):\n",
    "        bspk, tax = binspikes(expt_spikes[idx][c], binsize=0.01, time=time_upsample)\n",
    "        binned_spikes.append(bspk)\n",
    "        r5ms = st.estfr(tax, bspk, sigma=0.005) # 5 ms Gaussian\n",
    "        r10ms = st.estfr(tax, bspk, sigma=0.01) # 10 ms Gaussian\n",
    "        r20ms = st.estfr(tax, bspk, sigma=0.02) # 20 ms Gaussian\n",
    "        response_5ms.append(r5ms)\n",
    "        response_10ms.append(r10ms)\n",
    "        response_20ms.append(r20ms)\n",
    "        if repeat == 0:\n",
    "            test_repeats.append([r10ms])\n",
    "        else:\n",
    "            test_repeats[c].append(r10ms)\n",
    "    test_response_binned.append(np.vstack(binned_spikes))\n",
    "    test_response_5ms.append(np.vstack(response_5ms))\n",
    "    test_response_10ms.append(np.vstack(response_10ms))\n",
    "    test_response_20ms.append(np.vstack(response_20ms))\n",
    "# create datasets\n",
    "h.create_dataset('test/stimulus', data=stimulus_upsample[:-1])\n",
    "h.create_dataset('test/time', data=time_upsample[:-1])\n",
    "h.create_dataset('test/response/binned', data=np.mean(test_response_binned, axis=0))\n",
    "h.create_dataset('test/response/firing_rate_10ms', data=np.mean(test_response_10ms, axis=0))\n",
    "h.create_dataset('test/response/firing_rate_20ms', data=np.mean(test_response_20ms, axis=0))\n",
    "h.create_dataset('test/response/firing_rate_5ms', data=np.mean(test_response_5ms, axis=0))\n",
    "for c in range(len(cells)):\n",
    "    dataset_name = 'test/repeats/cell%02d' %(c+1)\n",
    "    h.create_dataset(dataset_name, data=np.vstack(test_repeats[c]))\n",
    "\n",
    "h.close()"
   ]
  },
  {
   "cell_type": "code",
   "execution_count": null,
   "metadata": {
    "collapsed": true
   },
   "outputs": [],
   "source": []
  },
  {
   "cell_type": "markdown",
   "metadata": {},
   "source": [
    "# After training models on this experiment, it seems like train and test data are on different scales"
   ]
  },
  {
   "cell_type": "code",
   "execution_count": 49,
   "metadata": {
    "collapsed": true
   },
   "outputs": [],
   "source": [
    "f = h5py.File('/Users/lmcintosh/experiments/data/16-01-08/whitenoise.h5', 'r')"
   ]
  },
  {
   "cell_type": "code",
   "execution_count": 50,
   "metadata": {
    "collapsed": false
   },
   "outputs": [
    {
     "data": {
      "text/plain": [
       "[u'spikes', u'test', u'train']"
      ]
     },
     "execution_count": 50,
     "metadata": {},
     "output_type": "execute_result"
    }
   ],
   "source": [
    "list(f)"
   ]
  },
  {
   "cell_type": "code",
   "execution_count": 51,
   "metadata": {
    "collapsed": false
   },
   "outputs": [
    {
     "data": {
      "text/plain": [
       "[u'repeats', u'response', u'stimulus', u'time']"
      ]
     },
     "execution_count": 51,
     "metadata": {},
     "output_type": "execute_result"
    }
   ],
   "source": [
    "list(f['test'])"
   ]
  },
  {
   "cell_type": "code",
   "execution_count": 52,
   "metadata": {
    "collapsed": false
   },
   "outputs": [
    {
     "data": {
      "text/plain": [
       "[u'response', u'stimulus', u'time']"
      ]
     },
     "execution_count": 52,
     "metadata": {},
     "output_type": "execute_result"
    }
   ],
   "source": [
    "list(f['train'])"
   ]
  },
  {
   "cell_type": "code",
   "execution_count": 53,
   "metadata": {
    "collapsed": false
   },
   "outputs": [
    {
     "data": {
      "text/plain": [
       "[u'binned', u'firing_rate_10ms', u'firing_rate_20ms', u'firing_rate_5ms']"
      ]
     },
     "execution_count": 53,
     "metadata": {},
     "output_type": "execute_result"
    }
   ],
   "source": [
    "list(f['test/response'])"
   ]
  },
  {
   "cell_type": "code",
   "execution_count": 54,
   "metadata": {
    "collapsed": false
   },
   "outputs": [
    {
     "data": {
      "text/plain": [
       "[<matplotlib.lines.Line2D at 0x126edec50>]"
      ]
     },
     "execution_count": 54,
     "metadata": {},
     "output_type": "execute_result"
    },
    {
     "data": {
      "image/png": "[encoded data removed]",
      "text/plain": [
       "<matplotlib.figure.Figure at 0x126e82750>"
      ]
     },
     "metadata": {},
     "output_type": "display_data"
    }
   ],
   "source": [
    "test_segment = np.array(f['test/response/firing_rate_10ms'])\n",
    "train_segment = np.array(f['train/response/firing_rate_10ms'])\n",
    "\n",
    "plt.plot(test_segment[0,:100], 'r')\n",
    "plt.plot(train_segment[0,:100], 'k')"
   ]
  },
  {
   "cell_type": "code",
   "execution_count": 55,
   "metadata": {
    "collapsed": true
   },
   "outputs": [],
   "source": [
    "f.close()"
   ]
  },
  {
   "cell_type": "markdown",
   "metadata": {},
   "source": [
    "#### and now it's fixed!"
   ]
  },
  {
   "cell_type": "code",
   "execution_count": null,
   "metadata": {
    "collapsed": true
   },
   "outputs": [],
   "source": []
  }
 ],
 "metadata": {
  "kernelspec": {
   "display_name": "Python 2",
   "language": "python",
   "name": "python2"
  },
  "language_info": {
   "codemirror_mode": {
    "name": "ipython",
    "version": 2
   },
   "file_extension": ".py",
   "mimetype": "text/x-python",
   "name": "python",
   "nbconvert_exporter": "python",
   "pygments_lexer": "ipython2",
   "version": "2.7.11"
  }
 },
 "nbformat": 4,
 "nbformat_minor": 0
}
