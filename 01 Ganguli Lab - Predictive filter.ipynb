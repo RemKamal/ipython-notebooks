{
 "metadata": {
  "name": ""
 },
 "nbformat": 3,
 "nbformat_minor": 0,
 "worksheets": [
  {
   "cells": [
    {
     "cell_type": "markdown",
     "metadata": {},
     "source": [
      "# Finding predictive linear systems  \n",
      "\n",
      "Many systems, in particular neural systems, process data by convolving it with a filter.  This step is often followed by a nonlinear processing step, but here we will just consider the case where the system linearly transforms data to keep as much information about the future as possible, while discarding as much information as possible about the past."
     ]
    },
    {
     "cell_type": "code",
     "collapsed": false,
     "input": [
      "import numpy as np\n",
      "import random"
     ],
     "language": "python",
     "metadata": {},
     "outputs": [],
     "prompt_number": 1
    },
    {
     "cell_type": "code",
     "collapsed": false,
     "input": [
      "cd ~/information-theory-toolbox/"
     ],
     "language": "python",
     "metadata": {},
     "outputs": [
      {
       "output_type": "stream",
       "stream": "stdout",
       "text": [
        "/home/lane/information-theory-toolbox\n"
       ]
      },
      {
       "output_type": "stream",
       "stream": "stdout",
       "text": [
        "\n",
        "Caching the list of root modules, please wait!\n",
        "(This will only be done once - type '%rehashx' to reset cache!)\n",
        "\n"
       ]
      }
     ],
     "prompt_number": 5
    },
    {
     "cell_type": "code",
     "collapsed": false,
     "input": [
      "from info_theory_functions import *"
     ],
     "language": "python",
     "metadata": {},
     "outputs": [],
     "prompt_number": 7
    },
    {
     "cell_type": "markdown",
     "metadata": {},
     "source": [
      "### Background  \n",
      "\n",
      "The retina is one such system where there is lots of pressure to discard information about the past while keeping information about the future.  In particular, all of the photons captured by our 100 million or so photoreceptors must be compressed down to the digital spikes of only rougly 1.5 million retinal ganglion cells, which carry all of our visual knowledge along the optic nerve to our brain.  \n",
      "\n",
      "If we show spatio-temporal white noise to a vertebrate retina while recording the output of the retinal ganglion cells on a multielectrode array, we can capture a movie of what the stimulus looked like right before each spike.  At a given time point close to the spike, this filter looks like concentric circles of varying shades - the classic center-surround filter.  Taking just a central pixel and playing it through time, our 1-d filter is biphasic, and often looks like the following filter."
     ]
    },
    {
     "cell_type": "code",
     "collapsed": false,
     "input": [
      "def linearKernel(frequency,phase,variance,resolution):\n",
      "    # linearKernel generates the linear filter of an LN model typical of the retina\n",
      "    # This filter is the dot product of a sinusoid and a gaussian pdf.\n",
      "    # INPUTS: frequency (of the sinusoid), phase (of the sinusoid), variance (of the gaussian), resolution (how many samples do you want?)\n",
      "    # OUTPUTS: row vector of the kernel\n",
      "\n",
      "    x = linspace(0,2*pi,resolution);\n",
      "\n",
      "    sinusoid = sin(frequency*x + phase);\n",
      "    samples  = sqrt(variance)*randn(10e3,1);\n",
      "    gauss    = np.histogram(samples,resolution);\n",
      "\n",
      "    kernel = sinusoid*gauss[0];\n",
      "    kernel = kernel/max(kernel);\n",
      "    \n",
      "    return kernel\n",
      "\n",
      "ONkernel = linearKernel(1.5,-1,10,40)\n",
      "time     = np.linspace(0,0.25,40)\n",
      "plot(time,ONkernel)\n",
      "title('Filter for ON retinal ganglion cell', fontsize=16)\n",
      "xlabel('Time before spike (ms)', fontsize=14)\n",
      "ylabel('Filtered intensity', fontsize=14)"
     ],
     "language": "python",
     "metadata": {},
     "outputs": [
      {
       "metadata": {},
       "output_type": "pyout",
       "prompt_number": 10,
       "text": [
        "<matplotlib.text.Text at 0x2fe11d0>"
       ]
      },
      {
       "metadata": {},
       "output_type": "display_data",
       "png": "[encoded data removed]",
       "text": [
        "<matplotlib.figure.Figure at 0x2ec2cd0>"
       ]
      }
     ],
     "prompt_number": 10
    },
    {
     "cell_type": "code",
     "collapsed": false,
     "input": [
      "def IBerror(coeff,beta):\n",
      "    # Xp and Xf\n",
      "    T      = 1000\n",
      "    x_t    = np.random.randn(T)\n",
      "    x_f    = np.fft.rfft(x_t)[:len(x_t)/2]\n",
      "    f      = linspace(1,T/2,len(x_f))\n",
      "    fi     = 1./f\n",
      "    pink_f = x_f*fi\n",
      "    pink   = (np.fft.ifft(pink_f)).real\n",
      "    Xp     = pink[:T/4]\n",
      "    Xf     = pink[T/4:]\n",
      "    \n",
      "    # freq = 1.5, phase = -1, variance = 10, resolution = 40\n",
      "    kernel = coeff #linearKernel(abs(coeff[0])+0.1,coeff[1],10,40)\n",
      "    Y      = np.convolve(Xp,kernel,'same')\n",
      "    \n",
      "    # normalize variance because variance increases entropy\n",
      "    Xp = Xp/var(Xp)\n",
      "    Xf = Xf/var(Xf)\n",
      "    Y  = Y/var(Y)\n",
      "    \n",
      "    nBins    = 500\n",
      "    Imem  = nnInfo(Xp, Y)\n",
      "    Ipred = nnInfo(Y,  Xf)\n",
      "    \n",
      "    return Imem - beta*Ipred"
     ],
     "language": "python",
     "metadata": {},
     "outputs": [],
     "prompt_number": 11
    },
    {
     "cell_type": "markdown",
     "metadata": {},
     "source": [
      "#### The random generation of the stimulus is what contributes the most to the variability in the information calculation.  We should fix a set number of training and testing examples, then run the optimization over that training/testing set."
     ]
    },
    {
     "cell_type": "code",
     "collapsed": false,
     "input": [
      "IBerror(linearKernel(1.5,-1,10,40),1)"
     ],
     "language": "python",
     "metadata": {},
     "outputs": [
      {
       "metadata": {},
       "output_type": "pyout",
       "prompt_number": 12,
       "text": [
        "0.086921959487925804"
       ]
      }
     ],
     "prompt_number": 12
    },
    {
     "cell_type": "code",
     "collapsed": false,
     "input": [
      "IBerror(ONkernel,.1)"
     ],
     "language": "python",
     "metadata": {},
     "outputs": [
      {
       "metadata": {},
       "output_type": "pyout",
       "prompt_number": 21,
       "text": [
        "0.58684311317518711"
       ]
      }
     ],
     "prompt_number": 21
    },
    {
     "cell_type": "code",
     "collapsed": false,
     "input": [
      "roger = [IBerror(exp(-np.linspace(0,10,40)),.1) for i in xrange(1000)]"
     ],
     "language": "python",
     "metadata": {},
     "outputs": [],
     "prompt_number": 26
    },
    {
     "cell_type": "code",
     "collapsed": false,
     "input": [
      "ben   = [IBerror(ONkernel,.1) for i in xrange(1000)]"
     ],
     "language": "python",
     "metadata": {},
     "outputs": [],
     "prompt_number": 27
    },
    {
     "cell_type": "code",
     "collapsed": false,
     "input": [
      "mean(ben)"
     ],
     "language": "python",
     "metadata": {},
     "outputs": [
      {
       "metadata": {},
       "output_type": "pyout",
       "prompt_number": 28,
       "text": [
        "0.65057447358409892"
       ]
      }
     ],
     "prompt_number": 28
    },
    {
     "cell_type": "code",
     "collapsed": false,
     "input": [
      "mean(roger)"
     ],
     "language": "python",
     "metadata": {},
     "outputs": [
      {
       "metadata": {},
       "output_type": "pyout",
       "prompt_number": 29,
       "text": [
        "0.73645224700555234"
       ]
      }
     ],
     "prompt_number": 29
    },
    {
     "cell_type": "code",
     "collapsed": false,
     "input": [],
     "language": "python",
     "metadata": {},
     "outputs": []
    }
   ],
   "metadata": {}
  }
 ]
}