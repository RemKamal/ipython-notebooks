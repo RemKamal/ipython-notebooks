{
 "metadata": {
  "name": ""
 },
 "nbformat": 3,
 "nbformat_minor": 0,
 "worksheets": [
  {
   "cells": [
    {
     "cell_type": "code",
     "collapsed": false,
     "input": [
      "import smtplib"
     ],
     "language": "python",
     "metadata": {},
     "outputs": [],
     "prompt_number": 1
    },
    {
     "cell_type": "code",
     "collapsed": false,
     "input": [
      "to = 'lanemcintosh@gmail.com' #insert reciever email address (can be same as sender)\n",
      "gmail_user = 'mcintoshlane@gmail.com' #your gmail sender address\n",
      "gmail_pwd = 'hansolo8chewy' #your gmail password\n",
      "smtpserver = smtplib.SMTP(\"smtp.gmail.com\",587) #the technical stuff\n",
      "smtpserver.ehlo() #the technical stuff\n",
      "smtpserver.starttls() #the technical stuff\n",
      "smtpserver.ehlo #the technical stuff\n",
      "smtpserver.login(gmail_user, gmail_pwd) #the technical stuff\n",
      "header = 'To:' + to + '\\n' + 'From: ' + gmail_user + '\\n' + 'Subject:Master\\'s Thesis iPython Notebook \\n'\n",
      "msg = header + '\\n' + 'Your Python Script has now Completed!' #The completion message\n",
      "smtpserver.sendmail(gmail_user, to, msg) #Sending the mail\n",
      "smtpserver.close() #closing the mailserver connection"
     ],
     "language": "python",
     "metadata": {},
     "outputs": [],
     "prompt_number": 2
    },
    {
     "cell_type": "code",
     "collapsed": false,
     "input": [],
     "language": "python",
     "metadata": {},
     "outputs": []
    }
   ],
   "metadata": {}
  }
 ]
}