{
 "metadata": {
  "name": ""
 },
 "nbformat": 3,
 "nbformat_minor": 0,
 "worksheets": [
  {
   "cells": [
    {
     "cell_type": "markdown",
     "metadata": {},
     "source": [
      "# Varying speed of the periphery\n",
      "\n",
      "My idea:  Start with Palmer\u2019s sentiment that, \u201cin a world where objects move, motion detection is an efficient way of encoding the external world.\u201d  Then would we predict that motion that isn\u2019t dominant in the world would be poorly encoded.  I.e., circuits of the retina would be designed for efficiently representing speeds it actually encounters.  These speeds could be represented by a bimodal distribution peaked at object motion (which is captured by OMS cells) and saccadic eye movements (captured by Pablo\u2019s gating result).\n",
      "\n",
      "Hypothesis: We would have more spikes in between these two modes than we\u2019d expect, because there is a regime where we aren\u2019t suppressing predictable signals and so have to poorly encode the signal.\n",
      "\n",
      "Pablo\u2019s Experiment: \n",
      "Conditions: \n",
      "Saccading (square grating motion in periphery), \n",
      "Object only (periphery constant, object moving according to OMS protocol), \n",
      "G0 (periphery moving in phase and at same speed as object; also in OMS protocol), \n",
      "G1 (periphery moving 2x as fast as object)\n",
      "G2 (periphery moving 4x)\n",
      "G3 (periphery moving 6x)\n",
      "\n",
      "Note about OMS cells: they are the ones that spike a lot in object-only condition but are completely suppressed in global motion condition (G0)."
     ]
    },
    {
     "cell_type": "code",
     "collapsed": false,
     "input": [
      "cd ~/00_Baccus/"
     ],
     "language": "python",
     "metadata": {},
     "outputs": [
      {
       "output_type": "stream",
       "stream": "stdout",
       "text": [
        "/home/lane/00_Baccus\n"
       ]
      }
     ],
     "prompt_number": 1
    },
    {
     "cell_type": "markdown",
     "metadata": {},
     "source": [
      "Import data from Matlab"
     ]
    },
    {
     "cell_type": "code",
     "collapsed": false,
     "input": [
      "import scipy.io\n",
      "mat = scipy.io.loadmat('110413data.mat')"
     ],
     "language": "python",
     "metadata": {},
     "outputs": [],
     "prompt_number": 3
    },
    {
     "cell_type": "code",
     "collapsed": false,
     "input": [
      "mat.keys()"
     ],
     "language": "python",
     "metadata": {},
     "outputs": [
      {
       "metadata": {},
       "output_type": "pyout",
       "prompt_number": 12,
       "text": [
        "['framesN',\n",
        " '__function_workspace__',\n",
        " 'globalFlag',\n",
        " 'frame',\n",
        " 'period',\n",
        " 'offsetCenter',\n",
        " 'peripheryStep',\n",
        " 'rate',\n",
        " 'seed',\n",
        " 'ans',\n",
        " 'duration',\n",
        " 'newSeed',\n",
        " 'times',\n",
        " 'yoda',\n",
        " 'stimulus_center',\n",
        " 'centerStep',\n",
        " 'rates',\n",
        " '__version__',\n",
        " 'conditions',\n",
        " 'peripheryFrame',\n",
        " 'None',\n",
        " 'FEMPeriphery',\n",
        " 'waitframes',\n",
        " 'PIXELS_PER_100_MICRONS',\n",
        " 'startTime',\n",
        " 'checkersSize',\n",
        " 'offsetPeriphery',\n",
        " 'c',\n",
        " 'repeats',\n",
        " 'FEMcenter',\n",
        " 'i',\n",
        " 'cells',\n",
        " '__header__',\n",
        " '__globals__',\n",
        " 'r',\n",
        " 't',\n",
        " 'presentationLength',\n",
        " 'endTime',\n",
        " 'stimulus_periph']"
       ]
      }
     ],
     "prompt_number": 12
    },
    {
     "cell_type": "code",
     "collapsed": false,
     "input": [
      "stimulus_center = mat['stimulus_center']\n",
      "stimulus_periph = mat['stimulus_periph']\n",
      "spikes          = mat['cells']\n",
      "conditions      = mat['conditions']\n",
      "startTime       = mat['startTime']\n",
      "endTime         = mat['endTime']\n",
      "duration        = mat['duration']\n",
      "repeats         = mat['repeats']"
     ],
     "language": "python",
     "metadata": {},
     "outputs": [],
     "prompt_number": 40
    },
    {
     "cell_type": "code",
     "collapsed": false,
     "input": [
      "stimulus_center.shape"
     ],
     "language": "python",
     "metadata": {},
     "outputs": [
      {
       "metadata": {},
       "output_type": "pyout",
       "prompt_number": 20,
       "text": [
        "(10, 1000)"
       ]
      }
     ],
     "prompt_number": 20
    },
    {
     "cell_type": "markdown",
     "metadata": {},
     "source": [
      "#### Preprocessing"
     ]
    },
    {
     "cell_type": "code",
     "collapsed": false,
     "input": [
      "whole_expt_center = np.zeros((10,10*1000))  # repeats x conditions*time\n",
      "whole_expt_periph = np.zeros((10,10*1000))\n",
      "stimulus_center_v = stimulus_center.reshape((1,10*1000))\n",
      "stimulus_periph_v = stimulus_periph.reshape((1,10*1000))\n",
      "times             = np.linspace(startTime[0][0],endTime[0][0],size(whole_expt_periph))\n",
      "#times             = times.reshape((10,10*1000))\n",
      "\n",
      "for i in xrange(10):\n",
      "    whole_expt_center[i,:] = stimulus_center_v\n",
      "    whole_expt_periph[i,:] = stimulus_periph_v\n",
      "    "
     ],
     "language": "python",
     "metadata": {},
     "outputs": [],
     "prompt_number": 132
    },
    {
     "cell_type": "code",
     "collapsed": false,
     "input": [
      "allneurons        = []\n",
      "\n",
      "for n in xrange(len(spikes)):\n",
      "    subsampled_spikes = np.zeros(times.shape)  # repeats x subsampled time\n",
      "    for i in xrange(size(times)-1):\n",
      "        tmp = spikes[n][0][where(spikes[n][0] < times[i+1])]\n",
      "        tmp = tmp[where(times[i] <= tmp)]\n",
      "        subsampled_spikes[i] = len(tmp)\n",
      "    \n",
      "    subsampled_spikes = subsampled_spikes.reshape((10,10*1000))\n",
      "    allneurons.append(subsampled_spikes)\n",
      "        "
     ],
     "language": "python",
     "metadata": {},
     "outputs": [],
     "prompt_number": 133
    },
    {
     "cell_type": "code",
     "collapsed": false,
     "input": [],
     "language": "python",
     "metadata": {},
     "outputs": [
      {
       "metadata": {},
       "output_type": "pyout",
       "prompt_number": 139,
       "text": [
        "1.0"
       ]
      }
     ],
     "prompt_number": 139
    },
    {
     "cell_type": "code",
     "collapsed": false,
     "input": [
      "size(times)"
     ],
     "language": "python",
     "metadata": {},
     "outputs": [
      {
       "metadata": {},
       "output_type": "pyout",
       "prompt_number": 130,
       "text": [
        "100000"
       ]
      },
      {
       "metadata": {},
       "output_type": "pyout",
       "prompt_number": 131,
       "text": [
        "100000"
       ]
      }
     ],
     "prompt_number": 131
    },
    {
     "cell_type": "code",
     "collapsed": false,
     "input": [
      "a = stimulus_center.reshape((1,10*1000))\n",
      "b = stimulus_periph.reshape((1,10*1000))"
     ],
     "language": "python",
     "metadata": {},
     "outputs": [],
     "prompt_number": 89
    },
    {
     "cell_type": "code",
     "collapsed": false,
     "input": [
      "d = plot(b[0])"
     ],
     "language": "python",
     "metadata": {},
     "outputs": [
      {
       "metadata": {},
       "output_type": "display_data",
       "png": "[encoded data removed]",
       "text": [
        "<matplotlib.figure.Figure at 0x2426c9d0>"
       ]
      }
     ],
     "prompt_number": 90
    }
   ],
   "metadata": {}
  }
 ]
}