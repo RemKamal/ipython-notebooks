{
 "metadata": {
  "name": "",
  "signature": "sha256:b01769df33a1be2ab3e80206268c59137ccf21a91499972cd806f6025824b0ae"
 },
 "nbformat": 3,
 "nbformat_minor": 0,
 "worksheets": [
  {
   "cells": [
    {
     "cell_type": "code",
     "collapsed": false,
     "input": [
      "import numpy as np\n",
      "import brewer2mpl\n",
      "from math import tanh\n",
      "from scipy.optimize import minimize\n",
      "import time"
     ],
     "language": "python",
     "metadata": {},
     "outputs": [],
     "prompt_number": 1
    },
    {
     "cell_type": "code",
     "collapsed": false,
     "input": [
      "cd .."
     ],
     "language": "python",
     "metadata": {},
     "outputs": [
      {
       "output_type": "stream",
       "stream": "stdout",
       "text": [
        "/home/lane\n"
       ]
      }
     ],
     "prompt_number": 2
    },
    {
     "cell_type": "code",
     "collapsed": false,
     "input": [
      "cd information-theory-toolbox/"
     ],
     "language": "python",
     "metadata": {},
     "outputs": [
      {
       "output_type": "stream",
       "stream": "stdout",
       "text": [
        "/home/lane/information-theory-toolbox\n"
       ]
      }
     ],
     "prompt_number": 3
    },
    {
     "cell_type": "code",
     "collapsed": false,
     "input": [
      "from info_theory_functions import *"
     ],
     "language": "python",
     "metadata": {},
     "outputs": [],
     "prompt_number": 4
    },
    {
     "cell_type": "code",
     "collapsed": false,
     "input": [
      "cd .."
     ],
     "language": "python",
     "metadata": {},
     "outputs": [
      {
       "output_type": "stream",
       "stream": "stdout",
       "text": [
        "/home/lane\n"
       ]
      }
     ],
     "prompt_number": 5
    },
    {
     "cell_type": "code",
     "collapsed": false,
     "input": [
      "cd iPython_notebooks/"
     ],
     "language": "python",
     "metadata": {},
     "outputs": [
      {
       "output_type": "stream",
       "stream": "stdout",
       "text": [
        "/home/lane/iPython_notebooks\n"
       ]
      }
     ],
     "prompt_number": 6
    },
    {
     "cell_type": "markdown",
     "metadata": {},
     "source": [
      "# Functions"
     ]
    },
    {
     "cell_type": "code",
     "collapsed": false,
     "input": [
      "def pinkNoise(duration):\n",
      "    x_t    = np.random.randn(2*duration)\n",
      "    x_f    = np.fft.rfft(x_t)[:len(x_t)/2]\n",
      "    f      = linspace(1,duration,len(x_f))\n",
      "    fi     = 1./f\n",
      "    pink_f = x_f*fi\n",
      "\n",
      "    return real(np.fft.ifft(pink_f))"
     ],
     "language": "python",
     "metadata": {},
     "outputs": [],
     "prompt_number": 7
    },
    {
     "cell_type": "code",
     "collapsed": false,
     "input": [
      "def nonlinearity(x,K=1.,g=1.,theta=0.,mode='sigmoid',normalized=False):\n",
      "    if normalized:\n",
      "        if mode == 'sigmoid':\n",
      "            n = K/(1+np.exp(-g*(x - theta)))\n",
      "        elif mode == 'tanh':\n",
      "            if type(x)==list or type(x)==numpy.ndarray:\n",
      "                n = [g*tanh(a-theta) + K - g for a in x]\n",
      "            else:\n",
      "                n = g*tanh(x-theta) + K - g\n",
      "        return np.array(n)/np.sqrt(np.var(np.array(n)))\n",
      "    else:\n",
      "        if mode == 'sigmoid':\n",
      "            return K/(1+np.exp(-g*(x - theta)))\n",
      "        elif mode == 'tanh':\n",
      "            if type(x)==list or type(x)==numpy.ndarray:\n",
      "                return [g*tanh(a-theta) + K - g for a in x]\n",
      "            else:\n",
      "                return g*tanh(x-theta) + K - g"
     ],
     "language": "python",
     "metadata": {},
     "outputs": [],
     "prompt_number": 8
    },
    {
     "cell_type": "code",
     "collapsed": false,
     "input": [
      "# Space\n",
      "def spatial_filter(xs=np.linspace(-5,5,50),sigma_c=1.,sigma_s=2.,mu_c=0.,mu_s=0.,a=2.):\n",
      "    if isinstance(xs,numpy.ndarray):\n",
      "        X = [(1./(2.*pi*sigma_c**2))*np.exp((-(x-mu_c)**2.)/(2.*sigma_c**2)) \n",
      "             - (a/(2*pi*sigma_s**2))*np.exp((-(x-mu_s)**2)/(2*sigma_s**2)) for x in xs]\n",
      "        return np.array(X)\n",
      "    else:\n",
      "        return (1./(2.*pi*sigma_c**2))*np.exp((-(xs-mu_c)**2.)/(2.*sigma_c**2)) - (a/(2*pi*sigma_s**2))*np.exp((-(xs-mu_s)**2)/(2*sigma_s**2))\n",
      "\n",
      "def temporal_filter(ts=np.linspace(0,40,50),tau_1=2.,tau_2=5.,n_1=1.,n_2=.8,b=2.):\n",
      "    if isinstance(ts,numpy.ndarray):\n",
      "        T = [(t/tau_1)**n_1 * np.exp(-n_1*(t/tau_1 - 1))\n",
      "             - b*(t/tau_2)**n_2 * np.exp(-n_2*(t/tau_2 - 1)) for t in ts]\n",
      "        return np.array(T)\n",
      "    else:\n",
      "        return (ts/tau_1)**n_1 * np.exp(-n_1*(ts/tau_1 - 1)) - b*(ts/tau_2)**n_2 * np.exp(-n_2*(ts/tau_2 - 1))\n",
      "    \n",
      "def spatial_filter_2d(xs2=np.linspace(-5,5,50),sigma_c2=1.,sigma_s2=2.,mu_c2=0.,mu_s2=0.,a2=2.):\n",
      "    X_1d = spatial_filter(xs=xs2,sigma_c=sigma_c2,sigma_s=sigma_s2,mu_c=mu_c2,mu_s=mu_s2,a=a2)\n",
      "    X_2d = zeros((len(X_1d),len(X_1d)))\n",
      "    for idx,x in enumerate(xs2):\n",
      "        for idy,y in enumerate(xs2):\n",
      "            X_2d[idx,idy] = X_1d[np.min([int(np.sqrt((idx-np.floor(len(xs2)/2.))**2 \n",
      "                                                     + (idy-np.floor(len(xs2)/2.))**2) + np.floor(len(xs2)/2.)), len(xs2)-1])]\n",
      "    return X_2d"
     ],
     "language": "python",
     "metadata": {},
     "outputs": [],
     "prompt_number": 40
    },
    {
     "cell_type": "code",
     "collapsed": false,
     "input": [
      "def spatial_filter_2d_simplified(ratio=0.5,surround_width=2.,xs_size=16):\n",
      "    ''' ratio is center_width/surround_width'''\n",
      "    return spatial_filter_2d(xs2=np.linspace(-5,5,xs_size),sigma_c2=ratio*surround_width,sigma_s2=surround_width,mu_c2=0.,mu_s2=0.,a2=2.)"
     ],
     "language": "python",
     "metadata": {},
     "outputs": [],
     "prompt_number": 72
    },
    {
     "cell_type": "markdown",
     "metadata": {},
     "source": [
      "#### It seems from the interaction below that we can just fix the ratio for the time being, and then verify later that scale doesn't affect the results."
     ]
    },
    {
     "cell_type": "code",
     "collapsed": false,
     "input": [
      "from IPython.html.widgets import interact, interactive, fixed\n",
      "from IPython.html import widgets\n",
      "\n",
      "bmap = brewer2mpl.get_map('Greys','sequential',8,reverse=True).mpl_colormap\n",
      "def f(x,y):\n",
      "    fig = gcf()\n",
      "    fig.set_size_inches((10,3))\n",
      "    \n",
      "    subplot(1,2,1)\n",
      "    X_2d = spatial_filter_2d_simplified(x,y)\n",
      "    imshow(X_2d,cmap=bmap,interpolation='nearest')\n",
      "    colorbar()\n",
      "    \n",
      "    subplot(1,2,2)\n",
      "    plot(X_2d[len(X_2d)/2,:],'k')\n",
      "\n",
      "blah = interact(f,x=0.5,y=2.)"
     ],
     "language": "python",
     "metadata": {},
     "outputs": [
      {
       "metadata": {},
       "output_type": "display_data",
       "png": "[encoded data removed]",
       "text": [
        "<matplotlib.figure.Figure at 0x8071110>"
       ]
      }
     ],
     "prompt_number": 73
    },
    {
     "cell_type": "code",
     "collapsed": false,
     "input": [
      "def linear_prediction(stimulus,spatial_filter,temporal_filter,posx=0):\n",
      "    '''stimulus is space x time\n",
      "       full_filter is space x time\n",
      "    '''\n",
      "    if shape(stimulus)[0] > shape(spatial_filter)[0]:\n",
      "        padded_spatial_filter = zeros((shape(stimulus)[0],))\n",
      "        if posx > shape(stimulus)[0]:\n",
      "            print('posx is larger than spatial extent of stimulus')\n",
      "        remainder = np.min([shape(stimulus)[0] - posx, shape(spatial_filter)[0]])\n",
      "        padded_spatial_filter[posx:posx+remainder] = spatial_filter[:remainder]\n",
      "        spatial_filter = padded_spatial_filter\n",
      "\n",
      "    r_matrix = zeros(shape(stimulus))\n",
      "    r = zeros((shape(stimulus)[1],))\n",
      "    for idx in xrange(shape(stimulus)[0]):\n",
      "        r_matrix[idx,:] = np.convolve(stimulus[idx,:],temporal_filter,'same')\n",
      "        for idt in xrange(shape(stimulus)[1]):\n",
      "            r[idt] = r[idt] + spatial_filter[idx]*r_matrix[idx,idt]\n",
      "\n",
      "    return r"
     ],
     "language": "python",
     "metadata": {},
     "outputs": [],
     "prompt_number": 10
    },
    {
     "cell_type": "markdown",
     "metadata": {},
     "source": [
      "## Natural images"
     ]
    },
    {
     "cell_type": "code",
     "collapsed": false,
     "input": [
      "import array\n",
      "from PIL import Image\n",
      "import glob, os"
     ],
     "language": "python",
     "metadata": {},
     "outputs": [],
     "prompt_number": 56
    },
    {
     "cell_type": "code",
     "collapsed": false,
     "input": [
      "cd ~/Natural_images/imc"
     ],
     "language": "python",
     "metadata": {},
     "outputs": [
      {
       "output_type": "stream",
       "stream": "stdout",
       "text": [
        "/home/lane/Natural_images/imc\n"
       ]
      }
     ],
     "prompt_number": 57
    },
    {
     "cell_type": "code",
     "collapsed": false,
     "input": [
      "fin = open( 'imk00017.imc', 'rb' )\n",
      "s = fin.read()\n",
      "fin.close()\n",
      "arr = array.array('H', s)\n",
      "arr.byteswap()\n",
      "img = numpy.array(arr, dtype='uint16').reshape(1024,1536)"
     ],
     "language": "python",
     "metadata": {},
     "outputs": [],
     "prompt_number": 58
    },
    {
     "cell_type": "code",
     "collapsed": false,
     "input": [
      "patch_size = 16\n",
      "img_center = [shape(img)[0]/2,shape(img)[1]/2]\n",
      "img_patch = img[img_center[0]:img_center[0]+patch_size,img_center[1]:img_center[1]+patch_size]\n",
      "\n",
      "fig = gcf()\n",
      "fig.set_size_inches((16,10))\n",
      "bmap = brewer2mpl.get_map('Greys','sequential',8,reverse=True).mpl_colormap\n",
      "imshow(img_patch,cmap=bmap,interpolation='nearest')"
     ],
     "language": "python",
     "metadata": {},
     "outputs": [
      {
       "metadata": {},
       "output_type": "pyout",
       "prompt_number": 59,
       "text": [
        "<matplotlib.image.AxesImage at 0x7ec3150>"
       ]
      },
      {
       "metadata": {},
       "output_type": "display_data",
       "png": "[encoded data removed]",
       "text": [
        "<matplotlib.figure.Figure at 0x7eca2d0>"
       ]
      }
     ],
     "prompt_number": 59
    },
    {
     "cell_type": "code",
     "collapsed": false,
     "input": [
      "def linear_prediction_natural(stimulus,sfilter,posx=0,posy=0):\n",
      "    '''stimulus is space x 1 or space x space\n",
      "       full_filter is space x time\n",
      "    '''\n",
      "    if shape(stimulus)[0] > shape(sfilter)[0]:\n",
      "        padded_spatial_filter = zeros((shape(stimulus)[0],shape(stimulus)[1]))\n",
      "        if posx > shape(stimulus)[0]:\n",
      "            print('posx is larger than spatial extent of stimulus')\n",
      "        if posy > shape(stimulus)[1]:\n",
      "            print('posy is larger than spatial extent of stimulus')\n",
      "        remainder_x = np.min([shape(stimulus)[0] - posx, shape(sfilter)[0]])\n",
      "        remainder_y = np.min([shape(stimulus)[1] - posy, shape(sfilter)[1]])\n",
      "        padded_spatial_filter[posx:posx+remainder_x,posy:posy+remainder_y] = sfilter[0:remainder_x,0:remainder_y]\n",
      "        sfilter = padded_spatial_filter\n",
      "\n",
      "    if shape(stimulus)[0] < shape(sfilter)[0]:\n",
      "        msg = 'Filter is too large; stim shape is (%d,%d), filter shape is (%d,%d)' % (shape(stimulus)[0],shape(stimulus)[1],\n",
      "                                                                                       shape(sfilter)[0],shape(sfilter)[1])\n",
      "        print(msg)\n",
      "\n",
      "    return np.sum(stimulus*sfilter)"
     ],
     "language": "python",
     "metadata": {},
     "outputs": [],
     "prompt_number": 70
    },
    {
     "cell_type": "code",
     "collapsed": false,
     "input": [
      "def linear_prediction_natural_oned(stimulus,sfilter,posx=0):\n",
      "    '''stimulus is space x 1 or space x space\n",
      "       full_filter is space x time\n",
      "    '''\n",
      "    if shape(stimulus)[0] > shape(sfilter)[0]:\n",
      "        padded_spatial_filter = zeros((shape(stimulus)[0],))\n",
      "        if posx > shape(stimulus)[0]:\n",
      "            print('posx is larger than spatial extent of stimulus')\n",
      "        remainder_x = np.min([shape(stimulus)[0] - posx, shape(sfilter)[0]])\n",
      "        padded_spatial_filter[posx:posx+remainder_x] = sfilter[0:remainder_x]\n",
      "        sfilter = padded_spatial_filter\n",
      "\n",
      "    if shape(stimulus)[0] < shape(spatial_filter)[0]:\n",
      "        print('Filter is too large')\n",
      "\n",
      "\n",
      "    return np.sum(stimulus*sfilter)"
     ],
     "language": "python",
     "metadata": {},
     "outputs": [],
     "prompt_number": 63
    },
    {
     "cell_type": "code",
     "collapsed": false,
     "input": [
      "def lnl_natural(stimulus,ratio1=0.5,ratio2=0.5,surround_width1=2.,surround_width2=2.,numSubunits=5,\n",
      "        nonlinearity_params=[0.1,100.,0.01],\n",
      "        noise_model='after-nonlinearity',\n",
      "        xs_size1=10,xs_size2=10):\n",
      "    SNR = 100.\n",
      "    maximum,gain,threshold = nonlinearity_params\n",
      "    \n",
      "    # make filters given parameters\n",
      "    X_2d1 = spatial_filter_2d_simplified(ratio=ratio1,surround_width=surround_width1,xs_size=xs_size1)\n",
      "    X_2d2 = spatial_filter_2d_simplified(ratio=ratio2,surround_width=surround_width2,xs_size=xs_size2)\n",
      "    \n",
      "    # control for mean and variance of the filter\n",
      "    X_2d1 = X_2d1/np.sqrt(np.var(X_2d1))\n",
      "    X_2d2 = X_2d2/np.sqrt(np.var(X_2d2))\n",
      "    X_2d1 = X_2d1 - np.mean(X_2d1)\n",
      "    X_2d2 = X_2d2 - np.mean(X_2d2)\n",
      "    \n",
      "    spacing_x = np.linspace(0,shape(stimulus)[0],numSubunits+2)\n",
      "    spacing_x = spacing_x[1:-1].astype(int)\n",
      "    spacing_y = np.linspace(0,shape(stimulus)[1],numSubunits+2)\n",
      "    spacing_y = spacing_y[1:-1].astype(int)\n",
      "\n",
      "    ls = [linear_prediction_natural(stimulus,sfilter=X_2d1,posx=i,posy=j) for i in spacing_x for j in spacing_y]\n",
      "    if noise_model == 'after-nonlinearity':\n",
      "        ns = [nonlinearity(l,K=maximum,g=gain,theta=threshold,normalized=False) + np.sqrt(1./SNR)*randn(1) for l in ls]\n",
      "    else:\n",
      "        ns = [nonlinearity(l,K=maximum,g=gain,theta=threshold,normalized=False) for l in ls]\n",
      "    rs = linear_prediction_natural(np.array(ns),sfilter=X_2d2,posx=0,posy=0)\n",
      "    \n",
      "    return ls,ns,rs"
     ],
     "language": "python",
     "metadata": {},
     "outputs": [],
     "prompt_number": 112
    },
    {
     "cell_type": "code",
     "collapsed": false,
     "input": [
      "x1start = -5\n",
      "x1end   = 5\n",
      "xs1 = np.linspace(x1start,x1end,patch_size)\n",
      "spatial_filter1 = spatial_filter(xs1,sigma_c=1.,sigma_s=2.,mu_c=0.,mu_s=0.,a=2.)\n",
      "r = linear_prediction_natural(img_patch,sfilter=spatial_filter1,posx=0,posy=0)"
     ],
     "language": "python",
     "metadata": {},
     "outputs": [],
     "prompt_number": 66
    },
    {
     "cell_type": "code",
     "collapsed": false,
     "input": [
      "r"
     ],
     "language": "python",
     "metadata": {},
     "outputs": [
      {
       "metadata": {},
       "output_type": "pyout",
       "prompt_number": 67,
       "text": [
        "296.27733791280093"
       ]
      }
     ],
     "prompt_number": 67
    },
    {
     "cell_type": "markdown",
     "metadata": {},
     "source": [
      "Changed linear_prediction_natural to output a scalar, consistent with linearly weighting pixels"
     ]
    },
    {
     "cell_type": "code",
     "collapsed": false,
     "input": [
      "ls,ns,rs = lnl_natural(img_patch,0.5,0.5,2,2,5,nonlinearity_params=[0.1,100.,0.01],noise_model='after-nonlinearity')"
     ],
     "language": "python",
     "metadata": {},
     "outputs": [],
     "prompt_number": 94
    },
    {
     "cell_type": "code",
     "collapsed": false,
     "input": [
      "plot(ls,'k')\n",
      "plot([n*100000. for n in ns],'k--')"
     ],
     "language": "python",
     "metadata": {},
     "outputs": [
      {
       "metadata": {},
       "output_type": "pyout",
       "prompt_number": 105,
       "text": [
        "[<matplotlib.lines.Line2D at 0x6c98310>]"
       ]
      },
      {
       "metadata": {},
       "output_type": "display_data",
       "png": "[encoded data removed]",
       "text": [
        "<matplotlib.figure.Figure at 0x7eeac90>"
       ]
      }
     ],
     "prompt_number": 105
    },
    {
     "cell_type": "code",
     "collapsed": false,
     "input": [
      "rs"
     ],
     "language": "python",
     "metadata": {},
     "outputs": [
      {
       "metadata": {},
       "output_type": "pyout",
       "prompt_number": 106,
       "text": [
        "0.58131066687918009"
       ]
      }
     ],
     "prompt_number": 106
    },
    {
     "cell_type": "markdown",
     "metadata": {},
     "source": [
      "## Investigate parameter space for natural images"
     ]
    },
    {
     "cell_type": "code",
     "collapsed": false,
     "input": [
      "surround_strengths = np.linspace(0.5,5.,20)\n",
      "#ratios = np.linspace(0.1,4.,20)"
     ],
     "language": "python",
     "metadata": {},
     "outputs": [],
     "prompt_number": 114
    },
    {
     "cell_type": "code",
     "collapsed": false,
     "input": [
      "'imk0000%d.imc' % (0)"
     ],
     "language": "python",
     "metadata": {},
     "outputs": [
      {
       "metadata": {},
       "output_type": "pyout",
       "prompt_number": 115,
       "text": [
        "'imk00000.imc'"
       ]
      }
     ],
     "prompt_number": 115
    },
    {
     "cell_type": "code",
     "collapsed": false,
     "input": [
      "numImages = 9\n",
      "names = []\n",
      "for im in xrange(1,numImages):\n",
      "    name = 'imk0000%d.imc' % (im)\n",
      "    names.append(name)\n",
      "\n",
      "I = zeros((len(surround_strengths),len(surround_strengths)))\n",
      "H_rs = zeros((len(surround_strengths),len(surround_strengths)))\n",
      "H_r_s_avg = zeros((len(surround_strengths),len(surround_strengths)))\n",
      "rss = []\n",
      "for idp,p in enumerate(surround_strengths):\n",
      "    for idq,q in enumerate(surround_strengths):\n",
      "        iterations = 100\n",
      "        output     = zeros((numImages,iterations))\n",
      "        \n",
      "        for idi,im in enumerate(names):\n",
      "        \n",
      "            fin = open( im, 'rb' )\n",
      "            s = fin.read()\n",
      "            fin.close()\n",
      "            arr = array.array('H', s)\n",
      "            arr.byteswap()\n",
      "            img = numpy.array(arr, dtype='uint16').reshape(1024,1536)\n",
      "            patch_size = 16\n",
      "            img_center = [shape(img)[0]/2,shape(img)[1]/2]\n",
      "            img_patch = img[img_center[0]:img_center[0]+patch_size,img_center[1]:img_center[1]+patch_size]\n",
      "            img_patch = img_patch/np.sqrt(np.var(img_patch))\n",
      "            img_patch = img_patch - np.mean(img_patch)\n",
      "\n",
      "            for it in xrange(iterations):\n",
      "                ls,ns,output[idi,it] = lnl_natural(img_patch,surround_width1=p,surround_width2=q,numSubunits=5)\n",
      "                            \n",
      "        nBins = 10\n",
      "        binning = np.linspace(np.min(output),np.max(output),nBins+1)\n",
      "\n",
      "        H_r = entropy(output.flat,Bins=[binning])\n",
      "        H_r_s = []\n",
      "        for s in xrange(int(numImages)):\n",
      "            H_r_s.append(entropy(output[s,:],Bins=[binning]))\n",
      "        I[idp,idq] = H_r - np.mean(H_r_s)\n",
      "        H_rs[idp,idq] = H_r\n",
      "        H_r_s_avg[idp,idq] = np.mean(H_r_s)\n",
      "        \n",
      "        msg = 'Current sweep is (%d,%d) of (%d,%d)' % (idp,idq,len(surround_strengths)-1,len(surround_strengths)-1)\n",
      "        print(msg)\n",
      "        "
     ],
     "language": "python",
     "metadata": {},
     "outputs": [
      {
       "output_type": "stream",
       "stream": "stdout",
       "text": [
        "Current sweep is (0,0) of (19,19)\n",
        "Current sweep is (0,1) of (19,19)"
       ]
      },
      {
       "output_type": "stream",
       "stream": "stdout",
       "text": [
        "\n",
        "Current sweep is (0,2) of (19,19)"
       ]
      },
      {
       "output_type": "stream",
       "stream": "stdout",
       "text": [
        "\n",
        "Current sweep is (0,3) of (19,19)"
       ]
      },
      {
       "output_type": "stream",
       "stream": "stdout",
       "text": [
        "\n",
        "Current sweep is (0,4) of (19,19)"
       ]
      },
      {
       "output_type": "stream",
       "stream": "stdout",
       "text": [
        "\n",
        "Current sweep is (0,5) of (19,19)"
       ]
      },
      {
       "output_type": "stream",
       "stream": "stdout",
       "text": [
        "\n",
        "Current sweep is (0,6) of (19,19)"
       ]
      },
      {
       "output_type": "stream",
       "stream": "stdout",
       "text": [
        "\n",
        "Current sweep is (0,7) of (19,19)"
       ]
      },
      {
       "output_type": "stream",
       "stream": "stdout",
       "text": [
        "\n",
        "Current sweep is (0,8) of (19,19)"
       ]
      },
      {
       "output_type": "stream",
       "stream": "stdout",
       "text": [
        "\n",
        "Current sweep is (0,9) of (19,19)"
       ]
      },
      {
       "output_type": "stream",
       "stream": "stdout",
       "text": [
        "\n",
        "Current sweep is (0,10) of (19,19)"
       ]
      },
      {
       "output_type": "stream",
       "stream": "stdout",
       "text": [
        "\n",
        "Current sweep is (0,11) of (19,19)"
       ]
      },
      {
       "output_type": "stream",
       "stream": "stdout",
       "text": [
        "\n",
        "Current sweep is (0,12) of (19,19)"
       ]
      },
      {
       "output_type": "stream",
       "stream": "stdout",
       "text": [
        "\n",
        "Current sweep is (0,13) of (19,19)"
       ]
      },
      {
       "output_type": "stream",
       "stream": "stdout",
       "text": [
        "\n",
        "Current sweep is (0,14) of (19,19)"
       ]
      },
      {
       "output_type": "stream",
       "stream": "stdout",
       "text": [
        "\n",
        "Current sweep is (0,15) of (19,19)"
       ]
      },
      {
       "output_type": "stream",
       "stream": "stdout",
       "text": [
        "\n",
        "Current sweep is (0,16) of (19,19)"
       ]
      },
      {
       "output_type": "stream",
       "stream": "stdout",
       "text": [
        "\n",
        "Current sweep is (0,17) of (19,19)"
       ]
      },
      {
       "output_type": "stream",
       "stream": "stdout",
       "text": [
        "\n",
        "Current sweep is (0,18) of (19,19)"
       ]
      },
      {
       "output_type": "stream",
       "stream": "stdout",
       "text": [
        "\n",
        "Current sweep is (0,19) of (19,19)"
       ]
      },
      {
       "output_type": "stream",
       "stream": "stdout",
       "text": [
        "\n",
        "Current sweep is (1,0) of (19,19)"
       ]
      },
      {
       "output_type": "stream",
       "stream": "stdout",
       "text": [
        "\n",
        "Current sweep is (1,1) of (19,19)"
       ]
      },
      {
       "output_type": "stream",
       "stream": "stdout",
       "text": [
        "\n",
        "Current sweep is (1,2) of (19,19)"
       ]
      },
      {
       "output_type": "stream",
       "stream": "stdout",
       "text": [
        "\n",
        "Current sweep is (1,3) of (19,19)"
       ]
      },
      {
       "output_type": "stream",
       "stream": "stdout",
       "text": [
        "\n",
        "Current sweep is (1,4) of (19,19)"
       ]
      },
      {
       "output_type": "stream",
       "stream": "stdout",
       "text": [
        "\n",
        "Current sweep is (1,5) of (19,19)"
       ]
      },
      {
       "output_type": "stream",
       "stream": "stdout",
       "text": [
        "\n",
        "Current sweep is (1,6) of (19,19)"
       ]
      },
      {
       "output_type": "stream",
       "stream": "stdout",
       "text": [
        "\n",
        "Current sweep is (1,7) of (19,19)"
       ]
      },
      {
       "output_type": "stream",
       "stream": "stdout",
       "text": [
        "\n",
        "Current sweep is (1,8) of (19,19)"
       ]
      },
      {
       "output_type": "stream",
       "stream": "stdout",
       "text": [
        "\n",
        "Current sweep is (1,9) of (19,19)"
       ]
      },
      {
       "output_type": "stream",
       "stream": "stdout",
       "text": [
        "\n",
        "Current sweep is (1,10) of (19,19)"
       ]
      },
      {
       "output_type": "stream",
       "stream": "stdout",
       "text": [
        "\n",
        "Current sweep is (1,11) of (19,19)"
       ]
      },
      {
       "output_type": "stream",
       "stream": "stdout",
       "text": [
        "\n",
        "Current sweep is (1,12) of (19,19)"
       ]
      },
      {
       "output_type": "stream",
       "stream": "stdout",
       "text": [
        "\n",
        "Current sweep is (1,13) of (19,19)"
       ]
      },
      {
       "output_type": "stream",
       "stream": "stdout",
       "text": [
        "\n",
        "Current sweep is (1,14) of (19,19)"
       ]
      },
      {
       "output_type": "stream",
       "stream": "stdout",
       "text": [
        "\n",
        "Current sweep is (1,15) of (19,19)"
       ]
      },
      {
       "output_type": "stream",
       "stream": "stdout",
       "text": [
        "\n",
        "Current sweep is (1,16) of (19,19)"
       ]
      },
      {
       "output_type": "stream",
       "stream": "stdout",
       "text": [
        "\n",
        "Current sweep is (1,17) of (19,19)"
       ]
      },
      {
       "output_type": "stream",
       "stream": "stdout",
       "text": [
        "\n",
        "Current sweep is (1,18) of (19,19)"
       ]
      },
      {
       "output_type": "stream",
       "stream": "stdout",
       "text": [
        "\n",
        "Current sweep is (1,19) of (19,19)"
       ]
      },
      {
       "output_type": "stream",
       "stream": "stdout",
       "text": [
        "\n",
        "Current sweep is (2,0) of (19,19)"
       ]
      },
      {
       "output_type": "stream",
       "stream": "stdout",
       "text": [
        "\n",
        "Current sweep is (2,1) of (19,19)"
       ]
      },
      {
       "output_type": "stream",
       "stream": "stdout",
       "text": [
        "\n",
        "Current sweep is (2,2) of (19,19)"
       ]
      },
      {
       "output_type": "stream",
       "stream": "stdout",
       "text": [
        "\n",
        "Current sweep is (2,3) of (19,19)"
       ]
      },
      {
       "output_type": "stream",
       "stream": "stdout",
       "text": [
        "\n",
        "Current sweep is (2,4) of (19,19)"
       ]
      },
      {
       "output_type": "stream",
       "stream": "stdout",
       "text": [
        "\n",
        "Current sweep is (2,5) of (19,19)"
       ]
      },
      {
       "output_type": "stream",
       "stream": "stdout",
       "text": [
        "\n",
        "Current sweep is (2,6) of (19,19)"
       ]
      },
      {
       "output_type": "stream",
       "stream": "stdout",
       "text": [
        "\n",
        "Current sweep is (2,7) of (19,19)"
       ]
      },
      {
       "output_type": "stream",
       "stream": "stdout",
       "text": [
        "\n",
        "Current sweep is (2,8) of (19,19)"
       ]
      },
      {
       "output_type": "stream",
       "stream": "stdout",
       "text": [
        "\n",
        "Current sweep is (2,9) of (19,19)"
       ]
      },
      {
       "output_type": "stream",
       "stream": "stdout",
       "text": [
        "\n",
        "Current sweep is (2,10) of (19,19)"
       ]
      },
      {
       "output_type": "stream",
       "stream": "stdout",
       "text": [
        "\n",
        "Current sweep is (2,11) of (19,19)"
       ]
      },
      {
       "output_type": "stream",
       "stream": "stdout",
       "text": [
        "\n",
        "Current sweep is (2,12) of (19,19)"
       ]
      },
      {
       "output_type": "stream",
       "stream": "stdout",
       "text": [
        "\n",
        "Current sweep is (2,13) of (19,19)"
       ]
      },
      {
       "output_type": "stream",
       "stream": "stdout",
       "text": [
        "\n",
        "Current sweep is (2,14) of (19,19)"
       ]
      },
      {
       "output_type": "stream",
       "stream": "stdout",
       "text": [
        "\n",
        "Current sweep is (2,15) of (19,19)"
       ]
      },
      {
       "output_type": "stream",
       "stream": "stdout",
       "text": [
        "\n",
        "Current sweep is (2,16) of (19,19)"
       ]
      },
      {
       "output_type": "stream",
       "stream": "stdout",
       "text": [
        "\n",
        "Current sweep is (2,17) of (19,19)"
       ]
      },
      {
       "output_type": "stream",
       "stream": "stdout",
       "text": [
        "\n",
        "Current sweep is (2,18) of (19,19)"
       ]
      },
      {
       "output_type": "stream",
       "stream": "stdout",
       "text": [
        "\n",
        "Current sweep is (2,19) of (19,19)"
       ]
      },
      {
       "output_type": "stream",
       "stream": "stdout",
       "text": [
        "\n",
        "Current sweep is (3,0) of (19,19)"
       ]
      },
      {
       "output_type": "stream",
       "stream": "stdout",
       "text": [
        "\n",
        "Current sweep is (3,1) of (19,19)"
       ]
      },
      {
       "output_type": "stream",
       "stream": "stdout",
       "text": [
        "\n",
        "Current sweep is (3,2) of (19,19)"
       ]
      },
      {
       "output_type": "stream",
       "stream": "stdout",
       "text": [
        "\n",
        "Current sweep is (3,3) of (19,19)"
       ]
      },
      {
       "output_type": "stream",
       "stream": "stdout",
       "text": [
        "\n",
        "Current sweep is (3,4) of (19,19)"
       ]
      },
      {
       "output_type": "stream",
       "stream": "stdout",
       "text": [
        "\n",
        "Current sweep is (3,5) of (19,19)"
       ]
      },
      {
       "output_type": "stream",
       "stream": "stdout",
       "text": [
        "\n",
        "Current sweep is (3,6) of (19,19)"
       ]
      },
      {
       "output_type": "stream",
       "stream": "stdout",
       "text": [
        "\n",
        "Current sweep is (3,7) of (19,19)"
       ]
      },
      {
       "output_type": "stream",
       "stream": "stdout",
       "text": [
        "\n",
        "Current sweep is (3,8) of (19,19)"
       ]
      },
      {
       "output_type": "stream",
       "stream": "stdout",
       "text": [
        "\n",
        "Current sweep is (3,9) of (19,19)"
       ]
      },
      {
       "output_type": "stream",
       "stream": "stdout",
       "text": [
        "\n",
        "Current sweep is (3,10) of (19,19)"
       ]
      },
      {
       "output_type": "stream",
       "stream": "stdout",
       "text": [
        "\n",
        "Current sweep is (3,11) of (19,19)"
       ]
      },
      {
       "output_type": "stream",
       "stream": "stdout",
       "text": [
        "\n",
        "Current sweep is (3,12) of (19,19)"
       ]
      },
      {
       "output_type": "stream",
       "stream": "stdout",
       "text": [
        "\n",
        "Current sweep is (3,13) of (19,19)"
       ]
      },
      {
       "output_type": "stream",
       "stream": "stdout",
       "text": [
        "\n",
        "Current sweep is (3,14) of (19,19)"
       ]
      },
      {
       "output_type": "stream",
       "stream": "stdout",
       "text": [
        "\n",
        "Current sweep is (3,15) of (19,19)"
       ]
      },
      {
       "output_type": "stream",
       "stream": "stdout",
       "text": [
        "\n",
        "Current sweep is (3,16) of (19,19)"
       ]
      },
      {
       "output_type": "stream",
       "stream": "stdout",
       "text": [
        "\n",
        "Current sweep is (3,17) of (19,19)"
       ]
      },
      {
       "output_type": "stream",
       "stream": "stdout",
       "text": [
        "\n",
        "Current sweep is (3,18) of (19,19)"
       ]
      },
      {
       "output_type": "stream",
       "stream": "stdout",
       "text": [
        "\n",
        "Current sweep is (3,19) of (19,19)"
       ]
      },
      {
       "output_type": "stream",
       "stream": "stdout",
       "text": [
        "\n",
        "Current sweep is (4,0) of (19,19)"
       ]
      },
      {
       "output_type": "stream",
       "stream": "stdout",
       "text": [
        "\n",
        "Current sweep is (4,1) of (19,19)"
       ]
      },
      {
       "output_type": "stream",
       "stream": "stdout",
       "text": [
        "\n",
        "Current sweep is (4,2) of (19,19)"
       ]
      },
      {
       "output_type": "stream",
       "stream": "stdout",
       "text": [
        "\n",
        "Current sweep is (4,3) of (19,19)"
       ]
      },
      {
       "output_type": "stream",
       "stream": "stdout",
       "text": [
        "\n",
        "Current sweep is (4,4) of (19,19)"
       ]
      },
      {
       "output_type": "stream",
       "stream": "stdout",
       "text": [
        "\n",
        "Current sweep is (4,5) of (19,19)"
       ]
      },
      {
       "output_type": "stream",
       "stream": "stdout",
       "text": [
        "\n",
        "Current sweep is (4,6) of (19,19)"
       ]
      },
      {
       "output_type": "stream",
       "stream": "stdout",
       "text": [
        "\n",
        "Current sweep is (4,7) of (19,19)"
       ]
      },
      {
       "output_type": "stream",
       "stream": "stdout",
       "text": [
        "\n",
        "Current sweep is (4,8) of (19,19)"
       ]
      },
      {
       "output_type": "stream",
       "stream": "stdout",
       "text": [
        "\n",
        "Current sweep is (4,9) of (19,19)"
       ]
      },
      {
       "output_type": "stream",
       "stream": "stdout",
       "text": [
        "\n",
        "Current sweep is (4,10) of (19,19)"
       ]
      },
      {
       "output_type": "stream",
       "stream": "stdout",
       "text": [
        "\n",
        "Current sweep is (4,11) of (19,19)"
       ]
      },
      {
       "output_type": "stream",
       "stream": "stdout",
       "text": [
        "\n",
        "Current sweep is (4,12) of (19,19)"
       ]
      },
      {
       "output_type": "stream",
       "stream": "stdout",
       "text": [
        "\n",
        "Current sweep is (4,13) of (19,19)"
       ]
      },
      {
       "output_type": "stream",
       "stream": "stdout",
       "text": [
        "\n",
        "Current sweep is (4,14) of (19,19)"
       ]
      },
      {
       "output_type": "stream",
       "stream": "stdout",
       "text": [
        "\n",
        "Current sweep is (4,15) of (19,19)"
       ]
      },
      {
       "output_type": "stream",
       "stream": "stdout",
       "text": [
        "\n",
        "Current sweep is (4,16) of (19,19)"
       ]
      },
      {
       "output_type": "stream",
       "stream": "stdout",
       "text": [
        "\n",
        "Current sweep is (4,17) of (19,19)"
       ]
      },
      {
       "output_type": "stream",
       "stream": "stdout",
       "text": [
        "\n",
        "Current sweep is (4,18) of (19,19)"
       ]
      },
      {
       "output_type": "stream",
       "stream": "stdout",
       "text": [
        "\n",
        "Current sweep is (4,19) of (19,19)"
       ]
      },
      {
       "output_type": "stream",
       "stream": "stdout",
       "text": [
        "\n",
        "Current sweep is (5,0) of (19,19)"
       ]
      },
      {
       "output_type": "stream",
       "stream": "stdout",
       "text": [
        "\n",
        "Current sweep is (5,1) of (19,19)"
       ]
      },
      {
       "output_type": "stream",
       "stream": "stdout",
       "text": [
        "\n",
        "Current sweep is (5,2) of (19,19)"
       ]
      },
      {
       "output_type": "stream",
       "stream": "stdout",
       "text": [
        "\n",
        "Current sweep is (5,3) of (19,19)"
       ]
      },
      {
       "output_type": "stream",
       "stream": "stdout",
       "text": [
        "\n",
        "Current sweep is (5,4) of (19,19)"
       ]
      },
      {
       "output_type": "stream",
       "stream": "stdout",
       "text": [
        "\n",
        "Current sweep is (5,5) of (19,19)"
       ]
      },
      {
       "output_type": "stream",
       "stream": "stdout",
       "text": [
        "\n",
        "Current sweep is (5,6) of (19,19)"
       ]
      },
      {
       "output_type": "stream",
       "stream": "stdout",
       "text": [
        "\n",
        "Current sweep is (5,7) of (19,19)"
       ]
      },
      {
       "output_type": "stream",
       "stream": "stdout",
       "text": [
        "\n",
        "Current sweep is (5,8) of (19,19)"
       ]
      },
      {
       "output_type": "stream",
       "stream": "stdout",
       "text": [
        "\n",
        "Current sweep is (5,9) of (19,19)"
       ]
      },
      {
       "output_type": "stream",
       "stream": "stdout",
       "text": [
        "\n",
        "Current sweep is (5,10) of (19,19)"
       ]
      },
      {
       "output_type": "stream",
       "stream": "stdout",
       "text": [
        "\n",
        "Current sweep is (5,11) of (19,19)"
       ]
      },
      {
       "output_type": "stream",
       "stream": "stdout",
       "text": [
        "\n",
        "Current sweep is (5,12) of (19,19)"
       ]
      },
      {
       "output_type": "stream",
       "stream": "stdout",
       "text": [
        "\n",
        "Current sweep is (5,13) of (19,19)"
       ]
      },
      {
       "output_type": "stream",
       "stream": "stdout",
       "text": [
        "\n",
        "Current sweep is (5,14) of (19,19)"
       ]
      },
      {
       "output_type": "stream",
       "stream": "stdout",
       "text": [
        "\n",
        "Current sweep is (5,15) of (19,19)"
       ]
      },
      {
       "output_type": "stream",
       "stream": "stdout",
       "text": [
        "\n",
        "Current sweep is (5,16) of (19,19)"
       ]
      },
      {
       "output_type": "stream",
       "stream": "stdout",
       "text": [
        "\n",
        "Current sweep is (5,17) of (19,19)"
       ]
      },
      {
       "output_type": "stream",
       "stream": "stdout",
       "text": [
        "\n",
        "Current sweep is (5,18) of (19,19)"
       ]
      },
      {
       "output_type": "stream",
       "stream": "stdout",
       "text": [
        "\n",
        "Current sweep is (5,19) of (19,19)"
       ]
      },
      {
       "output_type": "stream",
       "stream": "stdout",
       "text": [
        "\n",
        "Current sweep is (6,0) of (19,19)"
       ]
      },
      {
       "output_type": "stream",
       "stream": "stdout",
       "text": [
        "\n",
        "Current sweep is (6,1) of (19,19)"
       ]
      },
      {
       "output_type": "stream",
       "stream": "stdout",
       "text": [
        "\n",
        "Current sweep is (6,2) of (19,19)"
       ]
      },
      {
       "output_type": "stream",
       "stream": "stdout",
       "text": [
        "\n",
        "Current sweep is (6,3) of (19,19)"
       ]
      },
      {
       "output_type": "stream",
       "stream": "stdout",
       "text": [
        "\n",
        "Current sweep is (6,4) of (19,19)"
       ]
      },
      {
       "output_type": "stream",
       "stream": "stdout",
       "text": [
        "\n",
        "Current sweep is (6,5) of (19,19)"
       ]
      },
      {
       "output_type": "stream",
       "stream": "stdout",
       "text": [
        "\n",
        "Current sweep is (6,6) of (19,19)"
       ]
      },
      {
       "output_type": "stream",
       "stream": "stdout",
       "text": [
        "\n",
        "Current sweep is (6,7) of (19,19)"
       ]
      },
      {
       "output_type": "stream",
       "stream": "stdout",
       "text": [
        "\n",
        "Current sweep is (6,8) of (19,19)"
       ]
      },
      {
       "output_type": "stream",
       "stream": "stdout",
       "text": [
        "\n",
        "Current sweep is (6,9) of (19,19)"
       ]
      },
      {
       "output_type": "stream",
       "stream": "stdout",
       "text": [
        "\n",
        "Current sweep is (6,10) of (19,19)"
       ]
      },
      {
       "output_type": "stream",
       "stream": "stdout",
       "text": [
        "\n",
        "Current sweep is (6,11) of (19,19)"
       ]
      },
      {
       "output_type": "stream",
       "stream": "stdout",
       "text": [
        "\n",
        "Current sweep is (6,12) of (19,19)"
       ]
      },
      {
       "output_type": "stream",
       "stream": "stdout",
       "text": [
        "\n",
        "Current sweep is (6,13) of (19,19)"
       ]
      },
      {
       "output_type": "stream",
       "stream": "stdout",
       "text": [
        "\n",
        "Current sweep is (6,14) of (19,19)"
       ]
      },
      {
       "output_type": "stream",
       "stream": "stdout",
       "text": [
        "\n",
        "Current sweep is (6,15) of (19,19)"
       ]
      },
      {
       "output_type": "stream",
       "stream": "stdout",
       "text": [
        "\n",
        "Current sweep is (6,16) of (19,19)"
       ]
      },
      {
       "output_type": "stream",
       "stream": "stdout",
       "text": [
        "\n",
        "Current sweep is (6,17) of (19,19)"
       ]
      },
      {
       "output_type": "stream",
       "stream": "stdout",
       "text": [
        "\n",
        "Current sweep is (6,18) of (19,19)"
       ]
      },
      {
       "output_type": "stream",
       "stream": "stdout",
       "text": [
        "\n",
        "Current sweep is (6,19) of (19,19)"
       ]
      },
      {
       "output_type": "stream",
       "stream": "stdout",
       "text": [
        "\n",
        "Current sweep is (7,0) of (19,19)"
       ]
      },
      {
       "output_type": "stream",
       "stream": "stdout",
       "text": [
        "\n",
        "Current sweep is (7,1) of (19,19)"
       ]
      },
      {
       "output_type": "stream",
       "stream": "stdout",
       "text": [
        "\n",
        "Current sweep is (7,2) of (19,19)"
       ]
      },
      {
       "output_type": "stream",
       "stream": "stdout",
       "text": [
        "\n",
        "Current sweep is (7,3) of (19,19)"
       ]
      },
      {
       "output_type": "stream",
       "stream": "stdout",
       "text": [
        "\n",
        "Current sweep is (7,4) of (19,19)"
       ]
      },
      {
       "output_type": "stream",
       "stream": "stdout",
       "text": [
        "\n",
        "Current sweep is (7,5) of (19,19)"
       ]
      },
      {
       "output_type": "stream",
       "stream": "stdout",
       "text": [
        "\n",
        "Current sweep is (7,6) of (19,19)"
       ]
      },
      {
       "output_type": "stream",
       "stream": "stdout",
       "text": [
        "\n",
        "Current sweep is (7,7) of (19,19)"
       ]
      },
      {
       "output_type": "stream",
       "stream": "stdout",
       "text": [
        "\n",
        "Current sweep is (7,8) of (19,19)"
       ]
      },
      {
       "output_type": "stream",
       "stream": "stdout",
       "text": [
        "\n",
        "Current sweep is (7,9) of (19,19)"
       ]
      },
      {
       "output_type": "stream",
       "stream": "stdout",
       "text": [
        "\n",
        "Current sweep is (7,10) of (19,19)"
       ]
      },
      {
       "output_type": "stream",
       "stream": "stdout",
       "text": [
        "\n",
        "Current sweep is (7,11) of (19,19)"
       ]
      },
      {
       "output_type": "stream",
       "stream": "stdout",
       "text": [
        "\n",
        "Current sweep is (7,12) of (19,19)"
       ]
      },
      {
       "output_type": "stream",
       "stream": "stdout",
       "text": [
        "\n",
        "Current sweep is (7,13) of (19,19)"
       ]
      },
      {
       "output_type": "stream",
       "stream": "stdout",
       "text": [
        "\n",
        "Current sweep is (7,14) of (19,19)"
       ]
      },
      {
       "output_type": "stream",
       "stream": "stdout",
       "text": [
        "\n",
        "Current sweep is (7,15) of (19,19)"
       ]
      },
      {
       "output_type": "stream",
       "stream": "stdout",
       "text": [
        "\n",
        "Current sweep is (7,16) of (19,19)"
       ]
      },
      {
       "output_type": "stream",
       "stream": "stdout",
       "text": [
        "\n",
        "Current sweep is (7,17) of (19,19)"
       ]
      },
      {
       "output_type": "stream",
       "stream": "stdout",
       "text": [
        "\n",
        "Current sweep is (7,18) of (19,19)"
       ]
      },
      {
       "output_type": "stream",
       "stream": "stdout",
       "text": [
        "\n",
        "Current sweep is (7,19) of (19,19)"
       ]
      },
      {
       "output_type": "stream",
       "stream": "stdout",
       "text": [
        "\n",
        "Current sweep is (8,0) of (19,19)"
       ]
      },
      {
       "output_type": "stream",
       "stream": "stdout",
       "text": [
        "\n",
        "Current sweep is (8,1) of (19,19)"
       ]
      },
      {
       "output_type": "stream",
       "stream": "stdout",
       "text": [
        "\n",
        "Current sweep is (8,2) of (19,19)"
       ]
      },
      {
       "output_type": "stream",
       "stream": "stdout",
       "text": [
        "\n",
        "Current sweep is (8,3) of (19,19)"
       ]
      },
      {
       "output_type": "stream",
       "stream": "stdout",
       "text": [
        "\n",
        "Current sweep is (8,4) of (19,19)"
       ]
      },
      {
       "output_type": "stream",
       "stream": "stdout",
       "text": [
        "\n",
        "Current sweep is (8,5) of (19,19)"
       ]
      },
      {
       "output_type": "stream",
       "stream": "stdout",
       "text": [
        "\n",
        "Current sweep is (8,6) of (19,19)"
       ]
      },
      {
       "output_type": "stream",
       "stream": "stdout",
       "text": [
        "\n",
        "Current sweep is (8,7) of (19,19)"
       ]
      },
      {
       "output_type": "stream",
       "stream": "stdout",
       "text": [
        "\n",
        "Current sweep is (8,8) of (19,19)"
       ]
      },
      {
       "output_type": "stream",
       "stream": "stdout",
       "text": [
        "\n",
        "Current sweep is (8,9) of (19,19)"
       ]
      },
      {
       "output_type": "stream",
       "stream": "stdout",
       "text": [
        "\n",
        "Current sweep is (8,10) of (19,19)"
       ]
      },
      {
       "output_type": "stream",
       "stream": "stdout",
       "text": [
        "\n",
        "Current sweep is (8,11) of (19,19)"
       ]
      },
      {
       "output_type": "stream",
       "stream": "stdout",
       "text": [
        "\n",
        "Current sweep is (8,12) of (19,19)"
       ]
      },
      {
       "output_type": "stream",
       "stream": "stdout",
       "text": [
        "\n",
        "Current sweep is (8,13) of (19,19)"
       ]
      },
      {
       "output_type": "stream",
       "stream": "stdout",
       "text": [
        "\n",
        "Current sweep is (8,14) of (19,19)"
       ]
      },
      {
       "output_type": "stream",
       "stream": "stdout",
       "text": [
        "\n",
        "Current sweep is (8,15) of (19,19)"
       ]
      },
      {
       "output_type": "stream",
       "stream": "stdout",
       "text": [
        "\n",
        "Current sweep is (8,16) of (19,19)"
       ]
      },
      {
       "output_type": "stream",
       "stream": "stdout",
       "text": [
        "\n",
        "Current sweep is (8,17) of (19,19)"
       ]
      },
      {
       "output_type": "stream",
       "stream": "stdout",
       "text": [
        "\n",
        "Current sweep is (8,18) of (19,19)"
       ]
      },
      {
       "output_type": "stream",
       "stream": "stdout",
       "text": [
        "\n",
        "Current sweep is (8,19) of (19,19)"
       ]
      },
      {
       "output_type": "stream",
       "stream": "stdout",
       "text": [
        "\n",
        "Current sweep is (9,0) of (19,19)"
       ]
      },
      {
       "output_type": "stream",
       "stream": "stdout",
       "text": [
        "\n",
        "Current sweep is (9,1) of (19,19)"
       ]
      },
      {
       "output_type": "stream",
       "stream": "stdout",
       "text": [
        "\n",
        "Current sweep is (9,2) of (19,19)"
       ]
      },
      {
       "output_type": "stream",
       "stream": "stdout",
       "text": [
        "\n",
        "Current sweep is (9,3) of (19,19)"
       ]
      },
      {
       "output_type": "stream",
       "stream": "stdout",
       "text": [
        "\n",
        "Current sweep is (9,4) of (19,19)"
       ]
      },
      {
       "output_type": "stream",
       "stream": "stdout",
       "text": [
        "\n",
        "Current sweep is (9,5) of (19,19)"
       ]
      },
      {
       "output_type": "stream",
       "stream": "stdout",
       "text": [
        "\n",
        "Current sweep is (9,6) of (19,19)"
       ]
      },
      {
       "output_type": "stream",
       "stream": "stdout",
       "text": [
        "\n",
        "Current sweep is (9,7) of (19,19)"
       ]
      },
      {
       "output_type": "stream",
       "stream": "stdout",
       "text": [
        "\n",
        "Current sweep is (9,8) of (19,19)"
       ]
      },
      {
       "output_type": "stream",
       "stream": "stdout",
       "text": [
        "\n",
        "Current sweep is (9,9) of (19,19)"
       ]
      },
      {
       "output_type": "stream",
       "stream": "stdout",
       "text": [
        "\n",
        "Current sweep is (9,10) of (19,19)"
       ]
      },
      {
       "output_type": "stream",
       "stream": "stdout",
       "text": [
        "\n",
        "Current sweep is (9,11) of (19,19)"
       ]
      },
      {
       "output_type": "stream",
       "stream": "stdout",
       "text": [
        "\n",
        "Current sweep is (9,12) of (19,19)"
       ]
      },
      {
       "output_type": "stream",
       "stream": "stdout",
       "text": [
        "\n",
        "Current sweep is (9,13) of (19,19)"
       ]
      },
      {
       "output_type": "stream",
       "stream": "stdout",
       "text": [
        "\n",
        "Current sweep is (9,14) of (19,19)"
       ]
      },
      {
       "output_type": "stream",
       "stream": "stdout",
       "text": [
        "\n",
        "Current sweep is (9,15) of (19,19)"
       ]
      },
      {
       "output_type": "stream",
       "stream": "stdout",
       "text": [
        "\n",
        "Current sweep is (9,16) of (19,19)"
       ]
      },
      {
       "output_type": "stream",
       "stream": "stdout",
       "text": [
        "\n",
        "Current sweep is (9,17) of (19,19)"
       ]
      },
      {
       "output_type": "stream",
       "stream": "stdout",
       "text": [
        "\n",
        "Current sweep is (9,18) of (19,19)"
       ]
      },
      {
       "output_type": "stream",
       "stream": "stdout",
       "text": [
        "\n",
        "Current sweep is (9,19) of (19,19)"
       ]
      },
      {
       "output_type": "stream",
       "stream": "stdout",
       "text": [
        "\n",
        "Current sweep is (10,0) of (19,19)"
       ]
      },
      {
       "output_type": "stream",
       "stream": "stdout",
       "text": [
        "\n",
        "Current sweep is (10,1) of (19,19)"
       ]
      },
      {
       "output_type": "stream",
       "stream": "stdout",
       "text": [
        "\n",
        "Current sweep is (10,2) of (19,19)"
       ]
      },
      {
       "output_type": "stream",
       "stream": "stdout",
       "text": [
        "\n",
        "Current sweep is (10,3) of (19,19)"
       ]
      },
      {
       "output_type": "stream",
       "stream": "stdout",
       "text": [
        "\n",
        "Current sweep is (10,4) of (19,19)"
       ]
      },
      {
       "output_type": "stream",
       "stream": "stdout",
       "text": [
        "\n",
        "Current sweep is (10,5) of (19,19)"
       ]
      },
      {
       "output_type": "stream",
       "stream": "stdout",
       "text": [
        "\n",
        "Current sweep is (10,6) of (19,19)"
       ]
      },
      {
       "output_type": "stream",
       "stream": "stdout",
       "text": [
        "\n",
        "Current sweep is (10,7) of (19,19)"
       ]
      },
      {
       "output_type": "stream",
       "stream": "stdout",
       "text": [
        "\n",
        "Current sweep is (10,8) of (19,19)"
       ]
      },
      {
       "output_type": "stream",
       "stream": "stdout",
       "text": [
        "\n",
        "Current sweep is (10,9) of (19,19)"
       ]
      },
      {
       "output_type": "stream",
       "stream": "stdout",
       "text": [
        "\n",
        "Current sweep is (10,10) of (19,19)"
       ]
      },
      {
       "output_type": "stream",
       "stream": "stdout",
       "text": [
        "\n",
        "Current sweep is (10,11) of (19,19)"
       ]
      },
      {
       "output_type": "stream",
       "stream": "stdout",
       "text": [
        "\n",
        "Current sweep is (10,12) of (19,19)"
       ]
      },
      {
       "output_type": "stream",
       "stream": "stdout",
       "text": [
        "\n",
        "Current sweep is (10,13) of (19,19)"
       ]
      },
      {
       "output_type": "stream",
       "stream": "stdout",
       "text": [
        "\n",
        "Current sweep is (10,14) of (19,19)"
       ]
      },
      {
       "output_type": "stream",
       "stream": "stdout",
       "text": [
        "\n",
        "Current sweep is (10,15) of (19,19)"
       ]
      },
      {
       "output_type": "stream",
       "stream": "stdout",
       "text": [
        "\n",
        "Current sweep is (10,16) of (19,19)"
       ]
      },
      {
       "output_type": "stream",
       "stream": "stdout",
       "text": [
        "\n",
        "Current sweep is (10,17) of (19,19)"
       ]
      },
      {
       "output_type": "stream",
       "stream": "stdout",
       "text": [
        "\n",
        "Current sweep is (10,18) of (19,19)"
       ]
      },
      {
       "output_type": "stream",
       "stream": "stdout",
       "text": [
        "\n",
        "Current sweep is (10,19) of (19,19)"
       ]
      },
      {
       "output_type": "stream",
       "stream": "stdout",
       "text": [
        "\n",
        "Current sweep is (11,0) of (19,19)"
       ]
      },
      {
       "output_type": "stream",
       "stream": "stdout",
       "text": [
        "\n",
        "Current sweep is (11,1) of (19,19)"
       ]
      },
      {
       "output_type": "stream",
       "stream": "stdout",
       "text": [
        "\n",
        "Current sweep is (11,2) of (19,19)"
       ]
      },
      {
       "output_type": "stream",
       "stream": "stdout",
       "text": [
        "\n",
        "Current sweep is (11,3) of (19,19)"
       ]
      },
      {
       "output_type": "stream",
       "stream": "stdout",
       "text": [
        "\n",
        "Current sweep is (11,4) of (19,19)"
       ]
      },
      {
       "output_type": "stream",
       "stream": "stdout",
       "text": [
        "\n",
        "Current sweep is (11,5) of (19,19)"
       ]
      },
      {
       "output_type": "stream",
       "stream": "stdout",
       "text": [
        "\n",
        "Current sweep is (11,6) of (19,19)"
       ]
      },
      {
       "output_type": "stream",
       "stream": "stdout",
       "text": [
        "\n",
        "Current sweep is (11,7) of (19,19)"
       ]
      },
      {
       "output_type": "stream",
       "stream": "stdout",
       "text": [
        "\n",
        "Current sweep is (11,8) of (19,19)"
       ]
      },
      {
       "output_type": "stream",
       "stream": "stdout",
       "text": [
        "\n",
        "Current sweep is (11,9) of (19,19)"
       ]
      },
      {
       "output_type": "stream",
       "stream": "stdout",
       "text": [
        "\n",
        "Current sweep is (11,10) of (19,19)"
       ]
      },
      {
       "output_type": "stream",
       "stream": "stdout",
       "text": [
        "\n",
        "Current sweep is (11,11) of (19,19)"
       ]
      },
      {
       "output_type": "stream",
       "stream": "stdout",
       "text": [
        "\n",
        "Current sweep is (11,12) of (19,19)"
       ]
      },
      {
       "output_type": "stream",
       "stream": "stdout",
       "text": [
        "\n",
        "Current sweep is (11,13) of (19,19)"
       ]
      },
      {
       "output_type": "stream",
       "stream": "stdout",
       "text": [
        "\n",
        "Current sweep is (11,14) of (19,19)"
       ]
      },
      {
       "output_type": "stream",
       "stream": "stdout",
       "text": [
        "\n",
        "Current sweep is (11,15) of (19,19)"
       ]
      },
      {
       "output_type": "stream",
       "stream": "stdout",
       "text": [
        "\n",
        "Current sweep is (11,16) of (19,19)"
       ]
      },
      {
       "output_type": "stream",
       "stream": "stdout",
       "text": [
        "\n",
        "Current sweep is (11,17) of (19,19)"
       ]
      },
      {
       "output_type": "stream",
       "stream": "stdout",
       "text": [
        "\n",
        "Current sweep is (11,18) of (19,19)"
       ]
      },
      {
       "output_type": "stream",
       "stream": "stdout",
       "text": [
        "\n",
        "Current sweep is (11,19) of (19,19)"
       ]
      },
      {
       "output_type": "stream",
       "stream": "stdout",
       "text": [
        "\n",
        "Current sweep is (12,0) of (19,19)"
       ]
      },
      {
       "output_type": "stream",
       "stream": "stdout",
       "text": [
        "\n",
        "Current sweep is (12,1) of (19,19)"
       ]
      },
      {
       "output_type": "stream",
       "stream": "stdout",
       "text": [
        "\n",
        "Current sweep is (12,2) of (19,19)"
       ]
      },
      {
       "output_type": "stream",
       "stream": "stdout",
       "text": [
        "\n",
        "Current sweep is (12,3) of (19,19)"
       ]
      },
      {
       "output_type": "stream",
       "stream": "stdout",
       "text": [
        "\n",
        "Current sweep is (12,4) of (19,19)"
       ]
      },
      {
       "output_type": "stream",
       "stream": "stdout",
       "text": [
        "\n",
        "Current sweep is (12,5) of (19,19)"
       ]
      },
      {
       "output_type": "stream",
       "stream": "stdout",
       "text": [
        "\n",
        "Current sweep is (12,6) of (19,19)"
       ]
      },
      {
       "output_type": "stream",
       "stream": "stdout",
       "text": [
        "\n",
        "Current sweep is (12,7) of (19,19)"
       ]
      },
      {
       "output_type": "stream",
       "stream": "stdout",
       "text": [
        "\n",
        "Current sweep is (12,8) of (19,19)"
       ]
      },
      {
       "output_type": "stream",
       "stream": "stdout",
       "text": [
        "\n",
        "Current sweep is (12,9) of (19,19)"
       ]
      },
      {
       "output_type": "stream",
       "stream": "stdout",
       "text": [
        "\n",
        "Current sweep is (12,10) of (19,19)"
       ]
      },
      {
       "output_type": "stream",
       "stream": "stdout",
       "text": [
        "\n",
        "Current sweep is (12,11) of (19,19)"
       ]
      },
      {
       "output_type": "stream",
       "stream": "stdout",
       "text": [
        "\n",
        "Current sweep is (12,12) of (19,19)"
       ]
      },
      {
       "output_type": "stream",
       "stream": "stdout",
       "text": [
        "\n",
        "Current sweep is (12,13) of (19,19)"
       ]
      },
      {
       "output_type": "stream",
       "stream": "stdout",
       "text": [
        "\n",
        "Current sweep is (12,14) of (19,19)"
       ]
      },
      {
       "output_type": "stream",
       "stream": "stdout",
       "text": [
        "\n",
        "Current sweep is (12,15) of (19,19)"
       ]
      },
      {
       "output_type": "stream",
       "stream": "stdout",
       "text": [
        "\n",
        "Current sweep is (12,16) of (19,19)"
       ]
      },
      {
       "output_type": "stream",
       "stream": "stdout",
       "text": [
        "\n",
        "Current sweep is (12,17) of (19,19)"
       ]
      },
      {
       "output_type": "stream",
       "stream": "stdout",
       "text": [
        "\n",
        "Current sweep is (12,18) of (19,19)"
       ]
      },
      {
       "output_type": "stream",
       "stream": "stdout",
       "text": [
        "\n",
        "Current sweep is (12,19) of (19,19)"
       ]
      },
      {
       "output_type": "stream",
       "stream": "stdout",
       "text": [
        "\n",
        "Current sweep is (13,0) of (19,19)"
       ]
      },
      {
       "output_type": "stream",
       "stream": "stdout",
       "text": [
        "\n",
        "Current sweep is (13,1) of (19,19)"
       ]
      },
      {
       "output_type": "stream",
       "stream": "stdout",
       "text": [
        "\n",
        "Current sweep is (13,2) of (19,19)"
       ]
      },
      {
       "output_type": "stream",
       "stream": "stdout",
       "text": [
        "\n",
        "Current sweep is (13,3) of (19,19)"
       ]
      },
      {
       "output_type": "stream",
       "stream": "stdout",
       "text": [
        "\n",
        "Current sweep is (13,4) of (19,19)"
       ]
      },
      {
       "output_type": "stream",
       "stream": "stdout",
       "text": [
        "\n",
        "Current sweep is (13,5) of (19,19)"
       ]
      },
      {
       "output_type": "stream",
       "stream": "stdout",
       "text": [
        "\n",
        "Current sweep is (13,6) of (19,19)"
       ]
      },
      {
       "output_type": "stream",
       "stream": "stdout",
       "text": [
        "\n",
        "Current sweep is (13,7) of (19,19)"
       ]
      },
      {
       "output_type": "stream",
       "stream": "stdout",
       "text": [
        "\n",
        "Current sweep is (13,8) of (19,19)"
       ]
      },
      {
       "output_type": "stream",
       "stream": "stdout",
       "text": [
        "\n",
        "Current sweep is (13,9) of (19,19)"
       ]
      },
      {
       "output_type": "stream",
       "stream": "stdout",
       "text": [
        "\n",
        "Current sweep is (13,10) of (19,19)"
       ]
      },
      {
       "output_type": "stream",
       "stream": "stdout",
       "text": [
        "\n",
        "Current sweep is (13,11) of (19,19)"
       ]
      },
      {
       "output_type": "stream",
       "stream": "stdout",
       "text": [
        "\n",
        "Current sweep is (13,12) of (19,19)"
       ]
      },
      {
       "output_type": "stream",
       "stream": "stdout",
       "text": [
        "\n",
        "Current sweep is (13,13) of (19,19)"
       ]
      },
      {
       "output_type": "stream",
       "stream": "stdout",
       "text": [
        "\n",
        "Current sweep is (13,14) of (19,19)"
       ]
      },
      {
       "output_type": "stream",
       "stream": "stdout",
       "text": [
        "\n",
        "Current sweep is (13,15) of (19,19)"
       ]
      },
      {
       "output_type": "stream",
       "stream": "stdout",
       "text": [
        "\n",
        "Current sweep is (13,16) of (19,19)"
       ]
      },
      {
       "output_type": "stream",
       "stream": "stdout",
       "text": [
        "\n",
        "Current sweep is (13,17) of (19,19)"
       ]
      },
      {
       "output_type": "stream",
       "stream": "stdout",
       "text": [
        "\n",
        "Current sweep is (13,18) of (19,19)"
       ]
      },
      {
       "output_type": "stream",
       "stream": "stdout",
       "text": [
        "\n",
        "Current sweep is (13,19) of (19,19)"
       ]
      },
      {
       "output_type": "stream",
       "stream": "stdout",
       "text": [
        "\n",
        "Current sweep is (14,0) of (19,19)"
       ]
      },
      {
       "output_type": "stream",
       "stream": "stdout",
       "text": [
        "\n",
        "Current sweep is (14,1) of (19,19)"
       ]
      },
      {
       "output_type": "stream",
       "stream": "stdout",
       "text": [
        "\n",
        "Current sweep is (14,2) of (19,19)"
       ]
      },
      {
       "output_type": "stream",
       "stream": "stdout",
       "text": [
        "\n",
        "Current sweep is (14,3) of (19,19)"
       ]
      },
      {
       "output_type": "stream",
       "stream": "stdout",
       "text": [
        "\n",
        "Current sweep is (14,4) of (19,19)"
       ]
      },
      {
       "output_type": "stream",
       "stream": "stdout",
       "text": [
        "\n",
        "Current sweep is (14,5) of (19,19)"
       ]
      },
      {
       "output_type": "stream",
       "stream": "stdout",
       "text": [
        "\n",
        "Current sweep is (14,6) of (19,19)"
       ]
      },
      {
       "output_type": "stream",
       "stream": "stdout",
       "text": [
        "\n",
        "Current sweep is (14,7) of (19,19)"
       ]
      },
      {
       "output_type": "stream",
       "stream": "stdout",
       "text": [
        "\n",
        "Current sweep is (14,8) of (19,19)"
       ]
      },
      {
       "output_type": "stream",
       "stream": "stdout",
       "text": [
        "\n",
        "Current sweep is (14,9) of (19,19)"
       ]
      },
      {
       "output_type": "stream",
       "stream": "stdout",
       "text": [
        "\n",
        "Current sweep is (14,10) of (19,19)"
       ]
      },
      {
       "output_type": "stream",
       "stream": "stdout",
       "text": [
        "\n",
        "Current sweep is (14,11) of (19,19)"
       ]
      },
      {
       "output_type": "stream",
       "stream": "stdout",
       "text": [
        "\n",
        "Current sweep is (14,12) of (19,19)"
       ]
      },
      {
       "output_type": "stream",
       "stream": "stdout",
       "text": [
        "\n",
        "Current sweep is (14,13) of (19,19)"
       ]
      },
      {
       "output_type": "stream",
       "stream": "stdout",
       "text": [
        "\n",
        "Current sweep is (14,14) of (19,19)"
       ]
      },
      {
       "output_type": "stream",
       "stream": "stdout",
       "text": [
        "\n",
        "Current sweep is (14,15) of (19,19)"
       ]
      },
      {
       "output_type": "stream",
       "stream": "stdout",
       "text": [
        "\n",
        "Current sweep is (14,16) of (19,19)"
       ]
      },
      {
       "output_type": "stream",
       "stream": "stdout",
       "text": [
        "\n",
        "Current sweep is (14,17) of (19,19)"
       ]
      },
      {
       "output_type": "stream",
       "stream": "stdout",
       "text": [
        "\n",
        "Current sweep is (14,18) of (19,19)"
       ]
      },
      {
       "output_type": "stream",
       "stream": "stdout",
       "text": [
        "\n",
        "Current sweep is (14,19) of (19,19)"
       ]
      },
      {
       "output_type": "stream",
       "stream": "stdout",
       "text": [
        "\n",
        "Current sweep is (15,0) of (19,19)"
       ]
      },
      {
       "output_type": "stream",
       "stream": "stdout",
       "text": [
        "\n",
        "Current sweep is (15,1) of (19,19)"
       ]
      },
      {
       "output_type": "stream",
       "stream": "stdout",
       "text": [
        "\n",
        "Current sweep is (15,2) of (19,19)"
       ]
      },
      {
       "output_type": "stream",
       "stream": "stdout",
       "text": [
        "\n",
        "Current sweep is (15,3) of (19,19)"
       ]
      },
      {
       "output_type": "stream",
       "stream": "stdout",
       "text": [
        "\n",
        "Current sweep is (15,4) of (19,19)"
       ]
      },
      {
       "output_type": "stream",
       "stream": "stdout",
       "text": [
        "\n",
        "Current sweep is (15,5) of (19,19)"
       ]
      },
      {
       "output_type": "stream",
       "stream": "stdout",
       "text": [
        "\n",
        "Current sweep is (15,6) of (19,19)"
       ]
      },
      {
       "output_type": "stream",
       "stream": "stdout",
       "text": [
        "\n",
        "Current sweep is (15,7) of (19,19)"
       ]
      },
      {
       "output_type": "stream",
       "stream": "stdout",
       "text": [
        "\n",
        "Current sweep is (15,8) of (19,19)"
       ]
      },
      {
       "output_type": "stream",
       "stream": "stdout",
       "text": [
        "\n",
        "Current sweep is (15,9) of (19,19)"
       ]
      },
      {
       "output_type": "stream",
       "stream": "stdout",
       "text": [
        "\n",
        "Current sweep is (15,10) of (19,19)"
       ]
      },
      {
       "output_type": "stream",
       "stream": "stdout",
       "text": [
        "\n",
        "Current sweep is (15,11) of (19,19)"
       ]
      },
      {
       "output_type": "stream",
       "stream": "stdout",
       "text": [
        "\n",
        "Current sweep is (15,12) of (19,19)"
       ]
      },
      {
       "output_type": "stream",
       "stream": "stdout",
       "text": [
        "\n",
        "Current sweep is (15,13) of (19,19)"
       ]
      },
      {
       "output_type": "stream",
       "stream": "stdout",
       "text": [
        "\n",
        "Current sweep is (15,14) of (19,19)"
       ]
      },
      {
       "output_type": "stream",
       "stream": "stdout",
       "text": [
        "\n",
        "Current sweep is (15,15) of (19,19)"
       ]
      },
      {
       "output_type": "stream",
       "stream": "stdout",
       "text": [
        "\n",
        "Current sweep is (15,16) of (19,19)"
       ]
      },
      {
       "output_type": "stream",
       "stream": "stdout",
       "text": [
        "\n",
        "Current sweep is (15,17) of (19,19)"
       ]
      },
      {
       "output_type": "stream",
       "stream": "stdout",
       "text": [
        "\n",
        "Current sweep is (15,18) of (19,19)"
       ]
      },
      {
       "output_type": "stream",
       "stream": "stdout",
       "text": [
        "\n",
        "Current sweep is (15,19) of (19,19)"
       ]
      },
      {
       "output_type": "stream",
       "stream": "stdout",
       "text": [
        "\n",
        "Current sweep is (16,0) of (19,19)"
       ]
      },
      {
       "output_type": "stream",
       "stream": "stdout",
       "text": [
        "\n",
        "Current sweep is (16,1) of (19,19)"
       ]
      },
      {
       "output_type": "stream",
       "stream": "stdout",
       "text": [
        "\n",
        "Current sweep is (16,2) of (19,19)"
       ]
      },
      {
       "output_type": "stream",
       "stream": "stdout",
       "text": [
        "\n",
        "Current sweep is (16,3) of (19,19)"
       ]
      },
      {
       "output_type": "stream",
       "stream": "stdout",
       "text": [
        "\n",
        "Current sweep is (16,4) of (19,19)"
       ]
      },
      {
       "output_type": "stream",
       "stream": "stdout",
       "text": [
        "\n",
        "Current sweep is (16,5) of (19,19)"
       ]
      },
      {
       "output_type": "stream",
       "stream": "stdout",
       "text": [
        "\n",
        "Current sweep is (16,6) of (19,19)"
       ]
      },
      {
       "output_type": "stream",
       "stream": "stdout",
       "text": [
        "\n",
        "Current sweep is (16,7) of (19,19)"
       ]
      },
      {
       "output_type": "stream",
       "stream": "stdout",
       "text": [
        "\n",
        "Current sweep is (16,8) of (19,19)"
       ]
      },
      {
       "output_type": "stream",
       "stream": "stdout",
       "text": [
        "\n",
        "Current sweep is (16,9) of (19,19)"
       ]
      },
      {
       "output_type": "stream",
       "stream": "stdout",
       "text": [
        "\n",
        "Current sweep is (16,10) of (19,19)"
       ]
      },
      {
       "output_type": "stream",
       "stream": "stdout",
       "text": [
        "\n",
        "Current sweep is (16,11) of (19,19)"
       ]
      },
      {
       "output_type": "stream",
       "stream": "stdout",
       "text": [
        "\n",
        "Current sweep is (16,12) of (19,19)"
       ]
      },
      {
       "output_type": "stream",
       "stream": "stdout",
       "text": [
        "\n",
        "Current sweep is (16,13) of (19,19)"
       ]
      },
      {
       "output_type": "stream",
       "stream": "stdout",
       "text": [
        "\n",
        "Current sweep is (16,14) of (19,19)"
       ]
      },
      {
       "output_type": "stream",
       "stream": "stdout",
       "text": [
        "\n",
        "Current sweep is (16,15) of (19,19)"
       ]
      },
      {
       "output_type": "stream",
       "stream": "stdout",
       "text": [
        "\n",
        "Current sweep is (16,16) of (19,19)"
       ]
      },
      {
       "output_type": "stream",
       "stream": "stdout",
       "text": [
        "\n",
        "Current sweep is (16,17) of (19,19)"
       ]
      },
      {
       "output_type": "stream",
       "stream": "stdout",
       "text": [
        "\n",
        "Current sweep is (16,18) of (19,19)"
       ]
      },
      {
       "output_type": "stream",
       "stream": "stdout",
       "text": [
        "\n",
        "Current sweep is (16,19) of (19,19)"
       ]
      },
      {
       "output_type": "stream",
       "stream": "stdout",
       "text": [
        "\n",
        "Current sweep is (17,0) of (19,19)"
       ]
      },
      {
       "output_type": "stream",
       "stream": "stdout",
       "text": [
        "\n",
        "Current sweep is (17,1) of (19,19)"
       ]
      },
      {
       "output_type": "stream",
       "stream": "stdout",
       "text": [
        "\n",
        "Current sweep is (17,2) of (19,19)"
       ]
      },
      {
       "output_type": "stream",
       "stream": "stdout",
       "text": [
        "\n",
        "Current sweep is (17,3) of (19,19)"
       ]
      },
      {
       "output_type": "stream",
       "stream": "stdout",
       "text": [
        "\n",
        "Current sweep is (17,4) of (19,19)"
       ]
      },
      {
       "output_type": "stream",
       "stream": "stdout",
       "text": [
        "\n",
        "Current sweep is (17,5) of (19,19)"
       ]
      },
      {
       "output_type": "stream",
       "stream": "stdout",
       "text": [
        "\n",
        "Current sweep is (17,6) of (19,19)"
       ]
      },
      {
       "output_type": "stream",
       "stream": "stdout",
       "text": [
        "\n",
        "Current sweep is (17,7) of (19,19)"
       ]
      },
      {
       "output_type": "stream",
       "stream": "stdout",
       "text": [
        "\n",
        "Current sweep is (17,8) of (19,19)"
       ]
      },
      {
       "output_type": "stream",
       "stream": "stdout",
       "text": [
        "\n",
        "Current sweep is (17,9) of (19,19)"
       ]
      },
      {
       "output_type": "stream",
       "stream": "stdout",
       "text": [
        "\n",
        "Current sweep is (17,10) of (19,19)"
       ]
      },
      {
       "output_type": "stream",
       "stream": "stdout",
       "text": [
        "\n",
        "Current sweep is (17,11) of (19,19)"
       ]
      },
      {
       "output_type": "stream",
       "stream": "stdout",
       "text": [
        "\n",
        "Current sweep is (17,12) of (19,19)"
       ]
      },
      {
       "output_type": "stream",
       "stream": "stdout",
       "text": [
        "\n",
        "Current sweep is (17,13) of (19,19)"
       ]
      },
      {
       "output_type": "stream",
       "stream": "stdout",
       "text": [
        "\n",
        "Current sweep is (17,14) of (19,19)"
       ]
      },
      {
       "output_type": "stream",
       "stream": "stdout",
       "text": [
        "\n",
        "Current sweep is (17,15) of (19,19)"
       ]
      },
      {
       "output_type": "stream",
       "stream": "stdout",
       "text": [
        "\n",
        "Current sweep is (17,16) of (19,19)"
       ]
      },
      {
       "output_type": "stream",
       "stream": "stdout",
       "text": [
        "\n",
        "Current sweep is (17,17) of (19,19)"
       ]
      },
      {
       "output_type": "stream",
       "stream": "stdout",
       "text": [
        "\n",
        "Current sweep is (17,18) of (19,19)"
       ]
      },
      {
       "output_type": "stream",
       "stream": "stdout",
       "text": [
        "\n",
        "Current sweep is (17,19) of (19,19)"
       ]
      },
      {
       "output_type": "stream",
       "stream": "stdout",
       "text": [
        "\n",
        "Current sweep is (18,0) of (19,19)"
       ]
      },
      {
       "output_type": "stream",
       "stream": "stdout",
       "text": [
        "\n",
        "Current sweep is (18,1) of (19,19)"
       ]
      },
      {
       "output_type": "stream",
       "stream": "stdout",
       "text": [
        "\n",
        "Current sweep is (18,2) of (19,19)"
       ]
      },
      {
       "output_type": "stream",
       "stream": "stdout",
       "text": [
        "\n",
        "Current sweep is (18,3) of (19,19)"
       ]
      },
      {
       "output_type": "stream",
       "stream": "stdout",
       "text": [
        "\n",
        "Current sweep is (18,4) of (19,19)"
       ]
      },
      {
       "output_type": "stream",
       "stream": "stdout",
       "text": [
        "\n",
        "Current sweep is (18,5) of (19,19)"
       ]
      },
      {
       "output_type": "stream",
       "stream": "stdout",
       "text": [
        "\n",
        "Current sweep is (18,6) of (19,19)"
       ]
      },
      {
       "output_type": "stream",
       "stream": "stdout",
       "text": [
        "\n",
        "Current sweep is (18,7) of (19,19)"
       ]
      },
      {
       "output_type": "stream",
       "stream": "stdout",
       "text": [
        "\n",
        "Current sweep is (18,8) of (19,19)"
       ]
      },
      {
       "output_type": "stream",
       "stream": "stdout",
       "text": [
        "\n",
        "Current sweep is (18,9) of (19,19)"
       ]
      },
      {
       "output_type": "stream",
       "stream": "stdout",
       "text": [
        "\n",
        "Current sweep is (18,10) of (19,19)"
       ]
      },
      {
       "output_type": "stream",
       "stream": "stdout",
       "text": [
        "\n",
        "Current sweep is (18,11) of (19,19)"
       ]
      },
      {
       "output_type": "stream",
       "stream": "stdout",
       "text": [
        "\n",
        "Current sweep is (18,12) of (19,19)"
       ]
      },
      {
       "output_type": "stream",
       "stream": "stdout",
       "text": [
        "\n",
        "Current sweep is (18,13) of (19,19)"
       ]
      },
      {
       "output_type": "stream",
       "stream": "stdout",
       "text": [
        "\n",
        "Current sweep is (18,14) of (19,19)"
       ]
      },
      {
       "output_type": "stream",
       "stream": "stdout",
       "text": [
        "\n",
        "Current sweep is (18,15) of (19,19)"
       ]
      },
      {
       "output_type": "stream",
       "stream": "stdout",
       "text": [
        "\n",
        "Current sweep is (18,16) of (19,19)"
       ]
      },
      {
       "output_type": "stream",
       "stream": "stdout",
       "text": [
        "\n",
        "Current sweep is (18,17) of (19,19)"
       ]
      },
      {
       "output_type": "stream",
       "stream": "stdout",
       "text": [
        "\n",
        "Current sweep is (18,18) of (19,19)"
       ]
      },
      {
       "output_type": "stream",
       "stream": "stdout",
       "text": [
        "\n",
        "Current sweep is (18,19) of (19,19)"
       ]
      },
      {
       "output_type": "stream",
       "stream": "stdout",
       "text": [
        "\n",
        "Current sweep is (19,0) of (19,19)"
       ]
      },
      {
       "output_type": "stream",
       "stream": "stdout",
       "text": [
        "\n",
        "Current sweep is (19,1) of (19,19)"
       ]
      },
      {
       "output_type": "stream",
       "stream": "stdout",
       "text": [
        "\n",
        "Current sweep is (19,2) of (19,19)"
       ]
      },
      {
       "output_type": "stream",
       "stream": "stdout",
       "text": [
        "\n",
        "Current sweep is (19,3) of (19,19)"
       ]
      },
      {
       "output_type": "stream",
       "stream": "stdout",
       "text": [
        "\n",
        "Current sweep is (19,4) of (19,19)"
       ]
      },
      {
       "output_type": "stream",
       "stream": "stdout",
       "text": [
        "\n",
        "Current sweep is (19,5) of (19,19)"
       ]
      },
      {
       "output_type": "stream",
       "stream": "stdout",
       "text": [
        "\n",
        "Current sweep is (19,6) of (19,19)"
       ]
      },
      {
       "output_type": "stream",
       "stream": "stdout",
       "text": [
        "\n",
        "Current sweep is (19,7) of (19,19)"
       ]
      },
      {
       "output_type": "stream",
       "stream": "stdout",
       "text": [
        "\n",
        "Current sweep is (19,8) of (19,19)"
       ]
      },
      {
       "output_type": "stream",
       "stream": "stdout",
       "text": [
        "\n",
        "Current sweep is (19,9) of (19,19)"
       ]
      },
      {
       "output_type": "stream",
       "stream": "stdout",
       "text": [
        "\n",
        "Current sweep is (19,10) of (19,19)"
       ]
      },
      {
       "output_type": "stream",
       "stream": "stdout",
       "text": [
        "\n",
        "Current sweep is (19,11) of (19,19)"
       ]
      },
      {
       "output_type": "stream",
       "stream": "stdout",
       "text": [
        "\n",
        "Current sweep is (19,12) of (19,19)"
       ]
      },
      {
       "output_type": "stream",
       "stream": "stdout",
       "text": [
        "\n",
        "Current sweep is (19,13) of (19,19)"
       ]
      },
      {
       "output_type": "stream",
       "stream": "stdout",
       "text": [
        "\n",
        "Current sweep is (19,14) of (19,19)"
       ]
      },
      {
       "output_type": "stream",
       "stream": "stdout",
       "text": [
        "\n",
        "Current sweep is (19,15) of (19,19)"
       ]
      },
      {
       "output_type": "stream",
       "stream": "stdout",
       "text": [
        "\n",
        "Current sweep is (19,16) of (19,19)"
       ]
      },
      {
       "output_type": "stream",
       "stream": "stdout",
       "text": [
        "\n",
        "Current sweep is (19,17) of (19,19)"
       ]
      },
      {
       "output_type": "stream",
       "stream": "stdout",
       "text": [
        "\n",
        "Current sweep is (19,18) of (19,19)"
       ]
      },
      {
       "output_type": "stream",
       "stream": "stdout",
       "text": [
        "\n",
        "Current sweep is (19,19) of (19,19)"
       ]
      },
      {
       "output_type": "stream",
       "stream": "stdout",
       "text": [
        "\n"
       ]
      }
     ],
     "prompt_number": 116
    },
    {
     "cell_type": "code",
     "collapsed": false,
     "input": [
      "I3 = I"
     ],
     "language": "python",
     "metadata": {},
     "outputs": [],
     "prompt_number": 117
    },
    {
     "cell_type": "code",
     "collapsed": false,
     "input": [
      "fig = gcf()\n",
      "fig.set_size_inches((16,10))\n",
      "\n",
      "bmap = brewer2mpl.get_map('RdYlBu','diverging',8,reverse=True).mpl_colormap\n",
      "imshow(I[:,::-1],interpolation='nearest',cmap=bmap)\n",
      "colorbar()\n",
      "xlabel('small - Filter 1 size - large',fontsize=14)\n",
      "ylabel('small - Filter 2 size - large',fontsize=14)"
     ],
     "language": "python",
     "metadata": {},
     "outputs": [
      {
       "metadata": {},
       "output_type": "pyout",
       "prompt_number": 121,
       "text": [
        "<matplotlib.text.Text at 0x9365e10>"
       ]
      },
      {
       "metadata": {},
       "output_type": "display_data",
       "png": "[encoded data removed]",
       "text": [
        "<matplotlib.figure.Figure at 0x8d60b10>"
       ]
      }
     ],
     "prompt_number": 121
    },
    {
     "cell_type": "code",
     "collapsed": false,
     "input": [
      "fig = gcf()\n",
      "fig.set_size_inches((16,10))\n",
      "\n",
      "bmap = brewer2mpl.get_map('RdYlBu','diverging',8,reverse=True).mpl_colormap\n",
      "\n",
      "subplot(1,2,1)\n",
      "imshow(H_rs[:,::-1],interpolation='nearest',cmap=bmap)\n",
      "colorbar()\n",
      "xlabel('small - Filter 1 size - large',fontsize=14)\n",
      "ylabel('small - Filter 2 size - large',fontsize=14)\n",
      "\n",
      "subplot(1,2,2)\n",
      "imshow(H_r_s_avg[:,::-1],interpolation='nearest',cmap=bmap)\n",
      "colorbar()\n",
      "xlabel('small - Filter 1 size - large',fontsize=14)\n",
      "ylabel('small - Filter 2 size - large',fontsize=14)"
     ],
     "language": "python",
     "metadata": {},
     "outputs": [
      {
       "metadata": {},
       "output_type": "pyout",
       "prompt_number": 126,
       "text": [
        "<matplotlib.text.Text at 0xae6df90>"
       ]
      },
      {
       "metadata": {},
       "output_type": "display_data",
       "png": "[encoded data removed]",
       "text": [
        "<matplotlib.figure.Figure at 0xa29d610>"
       ]
      }
     ],
     "prompt_number": 126
    },
    {
     "cell_type": "code",
     "collapsed": false,
     "input": [
      "fig = gcf()\n",
      "fig.set_size_inches((15,8))\n",
      "\n",
      "subplot(3,2,1)\n",
      "optimum2 = spatial_filter_2d_simplified(ratio=0.5,surround_width=surround_strengths[13],xs_size=10)\n",
      "plot(optimum2[len(optimum2)/2,:],'k')\n",
      "title('Optimal Second Filter',fontsize=14)\n",
      "\n",
      "subplot(3,2,2)\n",
      "optimum1 = spatial_filter_2d_simplified(ratio=0.5,surround_width=surround_strengths[-3],xs_size=10)\n",
      "plot(optimum1[len(optimum1)/2,:],'k')\n",
      "title('One of Many Optimal First Filters',fontsize=14)\n",
      "\n",
      "subplot(3,2,3)\n",
      "plot(optimum2[len(optimum2)/2,:],'k')\n",
      "title('Optimal Second Filter',fontsize=14)\n",
      "\n",
      "subplot(3,2,4)\n",
      "optimum12 = spatial_filter_2d_simplified(ratio=0.5,surround_width=surround_strengths[0],xs_size=10)\n",
      "plot(optimum12[len(optimum12)/2,:],'k')\n",
      "title('One of Many Optimal First Filters',fontsize=14)\n",
      "\n",
      "subplot(3,2,5)\n",
      "plot(optimum2[len(optimum2)/2,:],'k')\n",
      "title('Optimal Second Filter',fontsize=14)\n",
      "\n",
      "subplot(3,2,6)\n",
      "optimum13 = spatial_filter_2d_simplified(ratio=0.5,surround_width=surround_strengths[13],xs_size=10)\n",
      "plot(optimum13[len(optimum13)/2,:],'k')\n",
      "title('One of Many Optimal First Filters',fontsize=14)\n",
      "\n",
      "\n",
      "tight_layout()"
     ],
     "language": "python",
     "metadata": {},
     "outputs": [
      {
       "metadata": {},
       "output_type": "display_data",
       "png": "[encoded data removed]",
       "text": [
        "<matplotlib.figure.Figure at 0xe3d1b10>"
       ]
      }
     ],
     "prompt_number": 145
    },
    {
     "cell_type": "code",
     "collapsed": false,
     "input": [],
     "language": "python",
     "metadata": {},
     "outputs": []
    }
   ],
   "metadata": {}
  }
 ]
}