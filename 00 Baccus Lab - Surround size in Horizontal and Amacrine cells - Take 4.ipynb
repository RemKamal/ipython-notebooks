{
 "metadata": {
  "name": "",
  "signature": "sha256:15605e99a95c05ecb90a71f4e89ec13106e00653182c00862633fb4bc82a1a16"
 },
 "nbformat": 3,
 "nbformat_minor": 0,
 "worksheets": [
  {
   "cells": [
    {
     "cell_type": "code",
     "collapsed": false,
     "input": [
      "import numpy as np\n",
      "import brewer2mpl\n",
      "from math import tanh\n",
      "from scipy.optimize import minimize\n",
      "import time"
     ],
     "language": "python",
     "metadata": {},
     "outputs": [],
     "prompt_number": 1
    },
    {
     "cell_type": "code",
     "collapsed": false,
     "input": [
      "cd .."
     ],
     "language": "python",
     "metadata": {},
     "outputs": [
      {
       "output_type": "stream",
       "stream": "stdout",
       "text": [
        "/home/lane\n"
       ]
      }
     ],
     "prompt_number": 2
    },
    {
     "cell_type": "code",
     "collapsed": false,
     "input": [
      "cd information-theory-toolbox/"
     ],
     "language": "python",
     "metadata": {},
     "outputs": [
      {
       "output_type": "stream",
       "stream": "stdout",
       "text": [
        "/home/lane/information-theory-toolbox\n"
       ]
      }
     ],
     "prompt_number": 3
    },
    {
     "cell_type": "code",
     "collapsed": false,
     "input": [
      "from info_theory_functions import *"
     ],
     "language": "python",
     "metadata": {},
     "outputs": [],
     "prompt_number": 4
    },
    {
     "cell_type": "code",
     "collapsed": false,
     "input": [
      "cd .."
     ],
     "language": "python",
     "metadata": {},
     "outputs": [
      {
       "output_type": "stream",
       "stream": "stdout",
       "text": [
        "/home/lane\n"
       ]
      }
     ],
     "prompt_number": 5
    },
    {
     "cell_type": "code",
     "collapsed": false,
     "input": [
      "cd iPython_notebooks/"
     ],
     "language": "python",
     "metadata": {},
     "outputs": [
      {
       "output_type": "stream",
       "stream": "stdout",
       "text": [
        "/home/lane/iPython_notebooks\n"
       ]
      }
     ],
     "prompt_number": 6
    },
    {
     "cell_type": "markdown",
     "metadata": {},
     "source": [
      "# Functions"
     ]
    },
    {
     "cell_type": "code",
     "collapsed": false,
     "input": [
      "def pinkNoise(duration):\n",
      "    x_t    = np.random.randn(2*duration)\n",
      "    x_f    = np.fft.rfft(x_t)[:len(x_t)/2]\n",
      "    f      = linspace(1,duration,len(x_f))\n",
      "    fi     = 1./f\n",
      "    pink_f = x_f*fi\n",
      "\n",
      "    return real(np.fft.ifft(pink_f))"
     ],
     "language": "python",
     "metadata": {},
     "outputs": [],
     "prompt_number": 7
    },
    {
     "cell_type": "code",
     "collapsed": false,
     "input": [
      "def nonlinearity(x,K=1.,g=1.,theta=0.,mode='sigmoid',normalized=False):\n",
      "    if normalized:\n",
      "        if mode == 'sigmoid':\n",
      "            n = K/(1+np.exp(-g*(x - theta)))\n",
      "        elif mode == 'tanh':\n",
      "            if type(x)==list or type(x)==numpy.ndarray:\n",
      "                n = [g*tanh(a-theta) + K - g for a in x]\n",
      "            else:\n",
      "                n = g*tanh(x-theta) + K - g\n",
      "        return np.array(n)/np.sqrt(np.var(np.array(n)))\n",
      "    else:\n",
      "        if mode == 'sigmoid':\n",
      "            return K/(1+np.exp(-g*(x - theta)))\n",
      "        elif mode == 'tanh':\n",
      "            if type(x)==list or type(x)==numpy.ndarray:\n",
      "                return [g*tanh(a-theta) + K - g for a in x]\n",
      "            else:\n",
      "                return g*tanh(x-theta) + K - g"
     ],
     "language": "python",
     "metadata": {},
     "outputs": [],
     "prompt_number": 8
    },
    {
     "cell_type": "code",
     "collapsed": false,
     "input": [
      "# Space\n",
      "def spatial_filter(xs=np.linspace(-5,5,50),sigma_c=1.,sigma_s=2.,mu_c=0.,mu_s=0.,a=2.):\n",
      "    if isinstance(xs,numpy.ndarray):\n",
      "        X = [(1./(2.*pi*sigma_c**2))*np.exp((-(x-mu_c)**2.)/(2.*sigma_c**2)) \n",
      "             - (a/(2*pi*sigma_s**2))*np.exp((-(x-mu_s)**2)/(2*sigma_s**2)) for x in xs]\n",
      "        return np.array(X)\n",
      "    else:\n",
      "        return (1./(2.*pi*sigma_c**2))*np.exp((-(xs-mu_c)**2.)/(2.*sigma_c**2)) - (a/(2*pi*sigma_s**2))*np.exp((-(xs-mu_s)**2)/(2*sigma_s**2))\n",
      "\n",
      "def temporal_filter(ts=np.linspace(0,40,50),tau_1=2.,tau_2=5.,n_1=1.,n_2=.8,b=2.):\n",
      "    if isinstance(ts,numpy.ndarray):\n",
      "        T = [(t/tau_1)**n_1 * np.exp(-n_1*(t/tau_1 - 1))\n",
      "             - b*(t/tau_2)**n_2 * np.exp(-n_2*(t/tau_2 - 1)) for t in ts]\n",
      "        return np.array(T)\n",
      "    else:\n",
      "        return (ts/tau_1)**n_1 * np.exp(-n_1*(ts/tau_1 - 1)) - b*(ts/tau_2)**n_2 * np.exp(-n_2*(ts/tau_2 - 1))\n",
      "    \n",
      "def spatial_filter_2d(xs2=np.linspace(-5,5,50),sigma_c2=1.,sigma_s2=2.,mu_c2=0.,mu_s2=0.,a2=2.):\n",
      "    X_1d = spatial_filter(xs=xs2,sigma_c=sigma_c2,sigma_s=sigma_s2,mu_c=mu_c2,mu_s=mu_s2,a=a2)\n",
      "    X_2d = zeros((len(X_1d),len(X_1d)))\n",
      "    for idx,x in enumerate(xs2):\n",
      "        for idy,y in enumerate(xs2):\n",
      "            X_2d[idx,idy] = X_1d[np.min([int(np.sqrt((idx-np.floor(len(xs2)/2.))**2 \n",
      "                                                     + (idy-np.floor(len(xs2)/2.))**2) + np.floor(len(xs2)/2.)), len(xs2)-1])]\n",
      "    return X_2d"
     ],
     "language": "python",
     "metadata": {},
     "outputs": [],
     "prompt_number": 40
    },
    {
     "cell_type": "code",
     "collapsed": false,
     "input": [
      "def linear_prediction(stimulus,spatial_filter,temporal_filter,posx=0):\n",
      "    '''stimulus is space x time\n",
      "       full_filter is space x time\n",
      "    '''\n",
      "    if shape(stimulus)[0] > shape(spatial_filter)[0]:\n",
      "        padded_spatial_filter = zeros((shape(stimulus)[0],))\n",
      "        if posx > shape(stimulus)[0]:\n",
      "            print('posx is larger than spatial extent of stimulus')\n",
      "        remainder = np.min([shape(stimulus)[0] - posx, shape(spatial_filter)[0]])\n",
      "        padded_spatial_filter[posx:posx+remainder] = spatial_filter[:remainder]\n",
      "        spatial_filter = padded_spatial_filter\n",
      "\n",
      "    r_matrix = zeros(shape(stimulus))\n",
      "    r = zeros((shape(stimulus)[1],))\n",
      "    for idx in xrange(shape(stimulus)[0]):\n",
      "        r_matrix[idx,:] = np.convolve(stimulus[idx,:],temporal_filter,'same')\n",
      "        for idt in xrange(shape(stimulus)[1]):\n",
      "            r[idt] = r[idt] + spatial_filter[idx]*r_matrix[idx,idt]\n",
      "\n",
      "    return r"
     ],
     "language": "python",
     "metadata": {},
     "outputs": [],
     "prompt_number": 10
    },
    {
     "cell_type": "code",
     "collapsed": false,
     "input": [
      "def lnl(stimulus,width1,width2,numSubunits,\n",
      "        nonlinearity_params=[0.1,100.,0.01],\n",
      "        noise_model='after-nonlinearity'):\n",
      "    SNR = 100.\n",
      "    maximum,gain,threshold = nonlinearity_params\n",
      "    \n",
      "    # read out variable_params\n",
      "    x1start = -width1/2.\n",
      "    x2start = -width2/2.\n",
      "    x1end   = width1/2.\n",
      "    x2end   = width2/2.\n",
      "    \n",
      "    # define linear filters\n",
      "    # the idea is you have a fixed photoreceptor range, but can adjust the weights as you please\n",
      "    # even though the number of photoreceptors/subunits pooled over is fixed, the width parameter varies\n",
      "    # the participation weights, since larger width => delta function, smaller width => uniform distribution\n",
      "    \n",
      "    xs1 = np.linspace(x1start,x1end,50) \n",
      "    xs2 = np.linspace(x2start,x2end,numSubunits)\n",
      "    ts = np.linspace(0,40,50) # note if you ask for negative values, you get NaNs only in default regime\n",
      "    spatial_filter1 = spatial_filter(xs1,sigma_c=1.,sigma_s=2.,mu_c=0.,mu_s=0.,a=2.)\n",
      "    spatial_filter2 = spatial_filter(xs2,sigma_c=1.,sigma_s=2.,mu_c=0.,mu_s=0.,a=2.)\n",
      "    tfilter  = temporal_filter(ts,tau_1=15.,tau_2=10.,n_1=3.5,n_2=5.,b=2.)\n",
      "    \n",
      "    spacing = np.linspace(0,shape(stimulus)[0],numSubunits+2)\n",
      "    spacing = spacing[1:-1].astype(int)\n",
      "    \n",
      "    rs = [linear_prediction(stim,spatial_filter=spatial_filter1,temporal_filter=tfilter,posx=n) for n in spacing]\n",
      "    if noise_model == 'after-nonlinearity':\n",
      "        ns = [nonlinearity(r,K=maximum,g=gain,theta=threshold,normalized=True) + np.sqrt(1./SNR)*randn(len(r)) for r in rs]\n",
      "    else:\n",
      "        ns = [nonlinearity(r,K=maximum,g=gain,theta=threshold,normalized=True) for r in rs]\n",
      "    ls = linear_prediction(np.array(ns),spatial_filter=spatial_filter2,temporal_filter=tfilter,posx=0)\n",
      "    return rs,ns,ls\n"
     ],
     "language": "python",
     "metadata": {},
     "outputs": [],
     "prompt_number": 11
    },
    {
     "cell_type": "markdown",
     "metadata": {},
     "source": [
      "# Run model for stimuli set"
     ]
    },
    {
     "cell_type": "code",
     "collapsed": false,
     "input": [
      "iterations = 1\n",
      "duration = 10e4\n",
      "space    = 100\n",
      "output   = zeros((duration,iterations))\n",
      "for it in xrange(iterations):\n",
      "    # model with noise\n",
      "    stim     = zeros((space,duration))\n",
      "    for x in xrange(space):\n",
      "        stim[x,:] = pinkNoise(duration)\n",
      "    for t in xrange(int(duration)):\n",
      "        stim[:,t] = np.convolve(stim[:,t],np.exp(-np.linspace(0,5,10)),'same')\n",
      "    stim   = stim/np.sqrt(np.var(stim)) # make unit variance\n",
      "    stim   = stim - np.mean(stim)       # make zero mean\n",
      "\n",
      "    output[:,it] = lnl(stim,width1=10,width2=10,step=2,numSubunits=5)"
     ],
     "language": "python",
     "metadata": {},
     "outputs": [
      {
       "output_type": "stream",
       "stream": "stdout",
       "text": [
        "Variance of nonlinearity output is 0.000330\n"
       ]
      },
      {
       "metadata": {},
       "output_type": "display_data",
       "png": "[encoded data removed]",
       "text": [
        "<matplotlib.figure.Figure at 0x3756210>"
       ]
      }
     ]
    },
    {
     "cell_type": "code",
     "collapsed": false,
     "input": [
      "shape(stimulus)"
     ],
     "language": "python",
     "metadata": {},
     "outputs": []
    },
    {
     "cell_type": "code",
     "collapsed": false,
     "input": [
      "duration = 10e3\n",
      "space    = 200\n",
      "stim     = zeros((space,duration))\n",
      "for x in xrange(space):\n",
      "    stim[x,:] = pinkNoise(duration)\n",
      "for t in xrange(int(duration)):\n",
      "    stim[:,t] = np.convolve(stim[:,t],np.exp(-np.linspace(0,5,10)),'same')\n",
      "stim   = stim/np.sqrt(np.var(stim)) # make unit variance\n",
      "stim   = stim - np.mean(stim)       # make zero mean\n",
      "\n",
      "#ns,output = lnl(stim,width1=10,width2=10,step=2,numSubunits=5)"
     ],
     "language": "python",
     "metadata": {},
     "outputs": [],
     "prompt_number": 34
    },
    {
     "cell_type": "code",
     "collapsed": false,
     "input": [
      "rs,ns,output = lnl(stim,width1=10,width2=10,numSubunits=5)"
     ],
     "language": "python",
     "metadata": {},
     "outputs": [],
     "prompt_number": 105
    },
    {
     "cell_type": "code",
     "collapsed": false,
     "input": [
      "type(rs)"
     ],
     "language": "python",
     "metadata": {},
     "outputs": [
      {
       "metadata": {},
       "output_type": "pyout",
       "prompt_number": 106,
       "text": [
        "list"
       ]
      }
     ],
     "prompt_number": 106
    },
    {
     "cell_type": "code",
     "collapsed": false,
     "input": [
      "len(rs)"
     ],
     "language": "python",
     "metadata": {},
     "outputs": [
      {
       "metadata": {},
       "output_type": "pyout",
       "prompt_number": 107,
       "text": [
        "5"
       ]
      }
     ],
     "prompt_number": 107
    },
    {
     "cell_type": "code",
     "collapsed": false,
     "input": [
      "yoda = nonlinearity(rs[0],K=0.1,g=100.,theta=0.01,normalized=True)"
     ],
     "language": "python",
     "metadata": {},
     "outputs": [],
     "prompt_number": 93
    },
    {
     "cell_type": "code",
     "collapsed": false,
     "input": [
      "plot(yoda[0:100],'k')"
     ],
     "language": "python",
     "metadata": {},
     "outputs": [
      {
       "metadata": {},
       "output_type": "pyout",
       "prompt_number": 96,
       "text": [
        "[<matplotlib.lines.Line2D at 0x1a1b8e10>]"
       ]
      },
      {
       "metadata": {},
       "output_type": "display_data",
       "png": "[encoded data removed]",
       "text": [
        "<matplotlib.figure.Figure at 0x1a195a50>"
       ]
      }
     ],
     "prompt_number": 96
    },
    {
     "cell_type": "code",
     "collapsed": false,
     "input": [
      "np.var(yoda)"
     ],
     "language": "python",
     "metadata": {},
     "outputs": [
      {
       "metadata": {},
       "output_type": "pyout",
       "prompt_number": 95,
       "text": [
        "1.0000000000003322"
       ]
      }
     ],
     "prompt_number": 95
    },
    {
     "cell_type": "code",
     "collapsed": false,
     "input": [
      "len(ns)"
     ],
     "language": "python",
     "metadata": {},
     "outputs": [
      {
       "metadata": {},
       "output_type": "pyout",
       "prompt_number": 101,
       "text": [
        "5"
       ]
      }
     ],
     "prompt_number": 101
    },
    {
     "cell_type": "code",
     "collapsed": false,
     "input": [
      "plot(ns[0],'k')"
     ],
     "language": "python",
     "metadata": {},
     "outputs": [
      {
       "metadata": {},
       "output_type": "pyout",
       "prompt_number": 108,
       "text": [
        "[<matplotlib.lines.Line2D at 0x1c443190>]"
       ]
      },
      {
       "metadata": {},
       "output_type": "display_data",
       "png": "[encoded data removed]",
       "text": [
        "<matplotlib.figure.Figure at 0x1b35d550>"
       ]
      }
     ],
     "prompt_number": 108
    },
    {
     "cell_type": "code",
     "collapsed": false,
     "input": [
      "plot(output,'k')"
     ],
     "language": "python",
     "metadata": {},
     "outputs": [
      {
       "metadata": {},
       "output_type": "pyout",
       "prompt_number": 110,
       "text": [
        "[<matplotlib.lines.Line2D at 0x1cbe1310>]"
       ]
      },
      {
       "metadata": {},
       "output_type": "display_data",
       "png": "[encoded data removed]",
       "text": [
        "<matplotlib.figure.Figure at 0x196e7610>"
       ]
      }
     ],
     "prompt_number": 110
    },
    {
     "cell_type": "markdown",
     "metadata": {},
     "source": [
      "## To implement Jonathan's suggestions, can do one of two things:  \n",
      "1) Generate output $r(t)$ many times for same stimuli, then consider each $s_i$ as a separate 'image', where you compute $H(r)$ and $\\langle H(r|s_i) \\rangle$  \n",
      "2) Alternatively, forget all temporal aspects, draw from a natural image database, and compute a single scalar $r(s_i)$ where each $s_i$ is another image"
     ]
    },
    {
     "cell_type": "code",
     "collapsed": false,
     "input": [
      "# Fix stimulus\n",
      "duration = 10e3\n",
      "space    = 100\n",
      "stim     = zeros((space,duration))\n",
      "for x in xrange(space):\n",
      "    stim[x,:] = pinkNoise(duration)\n",
      "for t in xrange(int(duration)):\n",
      "    stim[:,t] = np.convolve(stim[:,t],np.exp(-np.linspace(0,5,10)),'same')\n",
      "stim   = stim/np.sqrt(np.var(stim)) # make unit variance\n",
      "stim   = stim - np.mean(stim)       # make zero mean"
     ],
     "language": "python",
     "metadata": {},
     "outputs": [],
     "prompt_number": 301
    },
    {
     "cell_type": "code",
     "collapsed": false,
     "input": [
      "fig = gcf()\n",
      "fig.set_size_inches((16,10))\n",
      "\n",
      "bmap = brewer2mpl.get_map('Greys','sequential',8,reverse=True).mpl_colormap\n",
      "imshow(stim[:,100].reshape((10,10)),interpolation='nearest',cmap=bmap)"
     ],
     "language": "python",
     "metadata": {},
     "outputs": [
      {
       "metadata": {},
       "output_type": "pyout",
       "prompt_number": 310,
       "text": [
        "<matplotlib.image.AxesImage at 0x18086d50>"
       ]
      },
      {
       "metadata": {},
       "output_type": "display_data",
       "png": "[encoded data removed]",
       "text": [
        "<matplotlib.figure.Figure at 0x1794f4d0>"
       ]
      }
     ],
     "prompt_number": 310
    },
    {
     "cell_type": "code",
     "collapsed": false,
     "input": [
      "# Generate many outputs to the same spatiotemporal stimulus\n",
      "iterations = 100\n",
      "output     = zeros((duration,iterations))\n",
      "for it in xrange(iterations):\n",
      "    rs,ns,output[:,it] = lnl(stim,width1=10,width2=10,numSubunits=5)"
     ],
     "language": "python",
     "metadata": {},
     "outputs": []
    },
    {
     "cell_type": "code",
     "collapsed": false,
     "input": [
      "nBins = 10\n",
      "binning = np.linspace(np.min(output),np.max(output),nBins+1)\n",
      "\n",
      "H_r = entropy(output.flat,Bins=[binning])\n",
      "H_r_s = []\n",
      "for s in xrange(int(duration)):\n",
      "    H_r_s.append(entropy(output[s,:],Bins=[binning]))\n",
      "I = H_r - np.mean(H_r_s)"
     ],
     "language": "python",
     "metadata": {},
     "outputs": [],
     "prompt_number": 141
    },
    {
     "cell_type": "code",
     "collapsed": false,
     "input": [
      "I"
     ],
     "language": "python",
     "metadata": {},
     "outputs": [
      {
       "metadata": {},
       "output_type": "pyout",
       "prompt_number": 142,
       "text": [
        "2.1820667786660293"
       ]
      }
     ],
     "prompt_number": 142
    },
    {
     "cell_type": "code",
     "collapsed": false,
     "input": [
      "H_r"
     ],
     "language": "python",
     "metadata": {},
     "outputs": [
      {
       "metadata": {},
       "output_type": "pyout",
       "prompt_number": 143,
       "text": [
        "2.3134909135155599"
       ]
      }
     ],
     "prompt_number": 143
    },
    {
     "cell_type": "code",
     "collapsed": false,
     "input": [
      "np.mean(H_r_s)"
     ],
     "language": "python",
     "metadata": {},
     "outputs": [
      {
       "metadata": {},
       "output_type": "pyout",
       "prompt_number": 144,
       "text": [
        "0.13142413484953064"
       ]
      }
     ],
     "prompt_number": 144
    },
    {
     "cell_type": "code",
     "collapsed": false,
     "input": [
      "entropy(output[0,:],Bins=[binning])"
     ],
     "language": "python",
     "metadata": {},
     "outputs": [
      {
       "metadata": {},
       "output_type": "pyout",
       "prompt_number": 146,
       "text": [
        "0.43646981706410287"
       ]
      }
     ],
     "prompt_number": 146
    },
    {
     "cell_type": "markdown",
     "metadata": {},
     "source": [
      "## Sweep parameter space"
     ]
    },
    {
     "cell_type": "code",
     "collapsed": false,
     "input": [
      "from emailing import *"
     ],
     "language": "python",
     "metadata": {},
     "outputs": [],
     "prompt_number": 158
    },
    {
     "cell_type": "code",
     "collapsed": false,
     "input": [
      "emailWhenDone()"
     ],
     "language": "python",
     "metadata": {},
     "outputs": [],
     "prompt_number": 159
    },
    {
     "cell_type": "code",
     "collapsed": false,
     "input": [
      "parameter_space = exp(np.linspace(-5,5,10))"
     ],
     "language": "python",
     "metadata": {},
     "outputs": [],
     "prompt_number": 157
    },
    {
     "cell_type": "code",
     "collapsed": false,
     "input": [
      "I = zeros((len(parameter_space),len(parameter_space)))\n",
      "H_rs = zeros((len(parameter_space),len(parameter_space)))\n",
      "H_r_s_avg = zeros((len(parameter_space),len(parameter_space)))\n",
      "for idp,p in enumerate(parameter_space):\n",
      "    for idq,q in enumerate(parameter_space):\n",
      "        iterations = 100\n",
      "        output     = zeros((duration,iterations))\n",
      "        for it in xrange(iterations):\n",
      "            rs,ns,output[:,it] = lnl(stim,width1=p,width2=q,numSubunits=5)\n",
      "            \n",
      "        nBins = 10\n",
      "        binning = np.linspace(np.min(output),np.max(output),nBins+1)\n",
      "\n",
      "        H_r = entropy(output.flat,Bins=[binning])\n",
      "        H_r_s = []\n",
      "        for s in xrange(int(duration)):\n",
      "            H_r_s.append(entropy(output[s,:],Bins=[binning]))\n",
      "        I[idp,idq] = H_r - np.mean(H_r_s)\n",
      "        H_rs[idp,idq] = H_r\n",
      "        H_r_s_avg[idp,idq] = np.mean(H_r_s)\n",
      "        \n",
      "        \n",
      "        \n",
      "emailWhenDone()"
     ],
     "language": "python",
     "metadata": {},
     "outputs": []
    },
    {
     "cell_type": "code",
     "collapsed": false,
     "input": [],
     "language": "python",
     "metadata": {},
     "outputs": []
    },
    {
     "cell_type": "markdown",
     "metadata": {},
     "source": [
      "## Test automated output"
     ]
    },
    {
     "cell_type": "code",
     "collapsed": false,
     "input": [
      "import brewer2mpl"
     ],
     "language": "python",
     "metadata": {},
     "outputs": [],
     "prompt_number": 23
    },
    {
     "cell_type": "code",
     "collapsed": false,
     "input": [
      "x = zeros((10,10))\n",
      "count = 0.\n",
      "for i in xrange(10):\n",
      "    for j in xrange(10):\n",
      "        x[i,j] = count\n",
      "        count = count + 1."
     ],
     "language": "python",
     "metadata": {},
     "outputs": [],
     "prompt_number": 4
    },
    {
     "cell_type": "code",
     "collapsed": false,
     "input": [
      "parameter_space = np.exp(np.linspace(0,10,10))"
     ],
     "language": "python",
     "metadata": {},
     "outputs": [],
     "prompt_number": 10
    },
    {
     "cell_type": "code",
     "collapsed": false,
     "input": [
      "x_upright = np.copy(x[::-1,:])\n",
      "\n",
      "fig = gcf()\n",
      "fig.set_size_inches((10,10))\n",
      "ax = gca()\n",
      "bmap = brewer2mpl.get_map('RdYlBu','diverging',8,reverse=True).mpl_colormap\n",
      "cax  = ax.imshow(x_upright,interpolation='nearest',cmap=bmap)\n",
      "#ax.set_xticks(range(0,10,3),[parameter_space[d] for d in range(0,10,3)]) #,fontsize=14\n",
      "#ax.set_yticks(range(0,10,3),[parameter_space[d] for d in range(0,10,3)])\n",
      "colorbar(cax)\n",
      "\n",
      "savefig('brosef.eps')"
     ],
     "language": "python",
     "metadata": {},
     "outputs": [
      {
       "metadata": {},
       "output_type": "display_data",
       "png": "[encoded data removed]",
       "text": [
        "<matplotlib.figure.Figure at 0x107c5dd90>"
       ]
      }
     ],
     "prompt_number": 30
    },
    {
     "cell_type": "code",
     "collapsed": false,
     "input": [
      "? colorbar()"
     ],
     "language": "python",
     "metadata": {},
     "outputs": [],
     "prompt_number": 26
    },
    {
     "cell_type": "markdown",
     "metadata": {},
     "source": [
      "## Natural images"
     ]
    },
    {
     "cell_type": "code",
     "collapsed": false,
     "input": [
      "import array\n",
      "from PIL import Image\n",
      "import glob, os"
     ],
     "language": "python",
     "metadata": {},
     "outputs": [],
     "prompt_number": 12
    },
    {
     "cell_type": "code",
     "collapsed": false,
     "input": [
      "cd ~/Natural_images/imc"
     ],
     "language": "python",
     "metadata": {},
     "outputs": [
      {
       "output_type": "stream",
       "stream": "stdout",
       "text": [
        "/home/lane/Natural_images/imc\n"
       ]
      }
     ],
     "prompt_number": 13
    },
    {
     "cell_type": "code",
     "collapsed": false,
     "input": [
      "fin = open( 'imk00017.imc', 'rb' )\n",
      "s = fin.read()\n",
      "fin.close()\n",
      "arr = array.array('H', s)\n",
      "arr.byteswap()\n",
      "img = numpy.array(arr, dtype='uint16').reshape(1024,1536)"
     ],
     "language": "python",
     "metadata": {},
     "outputs": [],
     "prompt_number": 297
    },
    {
     "cell_type": "code",
     "collapsed": false,
     "input": [
      "patch_size = 16\n",
      "img_center = [shape(img)[0]/2,shape(img)[1]/2]\n",
      "img_patch = img[img_center[0]:img_center[0]+patch_size,img_center[1]:img_center[1]+patch_size]\n",
      "\n",
      "fig = gcf()\n",
      "fig.set_size_inches((16,10))\n",
      "bmap = brewer2mpl.get_map('Greys','sequential',8,reverse=True).mpl_colormap\n",
      "imshow(img_patch,cmap=bmap,interpolation='nearest')"
     ],
     "language": "python",
     "metadata": {},
     "outputs": [
      {
       "metadata": {},
       "output_type": "pyout",
       "prompt_number": 298,
       "text": [
        "<matplotlib.image.AxesImage at 0x1418ad90>"
       ]
      },
      {
       "metadata": {},
       "output_type": "display_data",
       "png": "[encoded data removed]",
       "text": [
        "<matplotlib.figure.Figure at 0x141696d0>"
       ]
      }
     ],
     "prompt_number": 298
    },
    {
     "cell_type": "code",
     "collapsed": false,
     "input": [
      "def linear_prediction_natural(stimulus,sfilter,posx=0,posy=0):\n",
      "    '''stimulus is space x 1 or space x space\n",
      "       full_filter is space x time\n",
      "    '''\n",
      "    if shape(stimulus)[0] > shape(sfilter)[0]:\n",
      "        padded_spatial_filter = zeros((shape(stimulus)[0],shape(stimulus)[1]))\n",
      "        if posx > shape(stimulus)[0]:\n",
      "            print('posx is larger than spatial extent of stimulus')\n",
      "        if posy > shape(stimulus)[1]:\n",
      "            print('posy is larger than spatial extent of stimulus')\n",
      "        remainder_x = np.min([shape(stimulus)[0] - posx, shape(sfilter)[0]])\n",
      "        remainder_y = np.min([shape(stimulus)[1] - posy, shape(sfilter)[1]])\n",
      "        padded_spatial_filter[posx:posx+remainder_x,posy:posy+remainder_y] = sfilter[0:remainder_x,0:remainder_y]\n",
      "        sfilter = padded_spatial_filter\n",
      "\n",
      "    if shape(stimulus)[0] < shape(sfilter)[0]:\n",
      "        print('Filter is too large')\n",
      "\n",
      "\n",
      "    return np.sum(stimulus*sfilter)"
     ],
     "language": "python",
     "metadata": {},
     "outputs": [],
     "prompt_number": 178
    },
    {
     "cell_type": "code",
     "collapsed": false,
     "input": [
      "def linear_prediction_natural_oned(stimulus,sfilter,posx=0):\n",
      "    '''stimulus is space x 1 or space x space\n",
      "       full_filter is space x time\n",
      "    '''\n",
      "    if shape(stimulus)[0] > shape(sfilter)[0]:\n",
      "        padded_spatial_filter = zeros((shape(stimulus)[0],))\n",
      "        if posx > shape(stimulus)[0]:\n",
      "            print('posx is larger than spatial extent of stimulus')\n",
      "        remainder_x = np.min([shape(stimulus)[0] - posx, shape(sfilter)[0]])\n",
      "        padded_spatial_filter[posx:posx+remainder_x] = sfilter[0:remainder_x]\n",
      "        sfilter = padded_spatial_filter\n",
      "\n",
      "    if shape(stimulus)[0] < shape(spatial_filter)[0]:\n",
      "        print('Filter is too large')\n",
      "\n",
      "\n",
      "    return np.sum(stimulus*sfilter)"
     ],
     "language": "python",
     "metadata": {},
     "outputs": [],
     "prompt_number": 179
    },
    {
     "cell_type": "code",
     "collapsed": false,
     "input": [
      "def lnl_natural(stimulus,width1,width2,numSubunits,\n",
      "        nonlinearity_params=[0.1,100.,0.01],\n",
      "        noise_model='after-nonlinearity'):\n",
      "    SNR = 100.\n",
      "    maximum,gain,threshold = nonlinearity_params\n",
      "    \n",
      "    # read out variable_params\n",
      "    x1start = -width1/2.\n",
      "    x2start = -width2/2.\n",
      "    x1end   = width1/2.\n",
      "    x2end   = width2/2.\n",
      "    \n",
      "    # define linear filters\n",
      "    # the idea is you have a fixed photoreceptor range, but can adjust the weights as you please\n",
      "    # even though the number of photoreceptors/subunits pooled over is fixed, the width parameter varies\n",
      "    # the participation weights, since larger width => delta function, smaller width => uniform distribution\n",
      "    \n",
      "    xs1 = np.linspace(x1start,x1end,10) \n",
      "    xs2 = np.linspace(x2start,x2end,numSubunits)\n",
      "    spatial_filter1 = spatial_filter(xs1,sigma_c=1.,sigma_s=2.,mu_c=0.,mu_s=0.,a=2.)\n",
      "    spatial_filter2 = spatial_filter(xs2,sigma_c=1.,sigma_s=2.,mu_c=0.,mu_s=0.,a=2.)\n",
      "    \n",
      "    X_2d1 = zeros((len(spatial_filter1),len(spatial_filter1)))\n",
      "    X_2d2 = zeros((len(spatial_filter2),len(spatial_filter2)))\n",
      "    mu_x1 = len(xs1)/2.\n",
      "    mu_x2 = len(xs2)/2. - 1.\n",
      "    for idx,x in enumerate(xs1):\n",
      "        for idy,y in enumerate(xs1):\n",
      "            X_2d1[idx,idy] = spatial_filter1[np.min([int(np.sqrt((idx-np.floor(len(xs1)/2.))**2 \n",
      "                                                                 + (idy-np.floor(len(xs1)/2.))**2)\n",
      "                                                         +np.floor(len(xs1)/2.)), len(xs1)-1])]\n",
      "    for idx,x in enumerate(xs2):\n",
      "        for idy,y in enumerate(xs2):\n",
      "            X_2d2[idx,idy] = spatial_filter2[np.min([int(np.sqrt((idx-np.floor(len(xs2)/2.))**2 \n",
      "                                                                 + (idy-np.floor(len(xs2)/2.))**2)\n",
      "                                                         +np.floor(len(xs2)/2.)), len(xs2)-1])]\n",
      "    \n",
      "    # control for mean of the filter\n",
      "    X_2d1 = X_2d1/np.sqrt(np.var(X_2d1))\n",
      "    X_2d2 = X_2d2/np.sqrt(np.var(X_2d2))\n",
      "    X_2d1 = X_2d1 - np.mean(X_2d1)\n",
      "    X_2d2 = X_2d2 - np.mean(X_2d2)\n",
      "    \n",
      "    spacing_x = np.linspace(0,shape(stimulus)[0],numSubunits+2)\n",
      "    spacing_x = spacing_x[1:-1].astype(int)\n",
      "    spacing_y = np.linspace(0,shape(stimulus)[1],numSubunits+2)\n",
      "    spacing_y = spacing_y[1:-1].astype(int)\n",
      "\n",
      "    rs = [linear_prediction_natural(stimulus,sfilter=X_2d1,posx=i,posy=j) for i in spacing_x for j in spacing_y]\n",
      "    if noise_model == 'after-nonlinearity':\n",
      "        ns = [nonlinearity(r,K=maximum,g=gain,theta=threshold,normalized=False) + np.sqrt(1./SNR)*randn(1) for r in rs]\n",
      "    else:\n",
      "        ns = [nonlinearity(r,K=maximum,g=gain,theta=threshold,normalized=False) for r in rs]\n",
      "    ls = linear_prediction_natural(np.array(ns),sfilter=X_2d2,posx=0,posy=0)\n",
      "    \n",
      "    return rs,ns,ls\n",
      "\n"
     ],
     "language": "python",
     "metadata": {},
     "outputs": []
    },
    {
     "cell_type": "code",
     "collapsed": false,
     "input": [
      "x1start = -5\n",
      "x1end   = 5\n",
      "xs1 = np.linspace(x1start,x1end,patch_size)\n",
      "spatial_filter1 = spatial_filter(xs1,sigma_c=1.,sigma_s=2.,mu_c=0.,mu_s=0.,a=2.)\n",
      "r = linear_prediction_natural(img_patch,spatial_filter=spatial_filter1,posx=0,posy=0)"
     ],
     "language": "python",
     "metadata": {},
     "outputs": [],
     "prompt_number": 50
    },
    {
     "cell_type": "code",
     "collapsed": false,
     "input": [
      "shape(r)"
     ],
     "language": "python",
     "metadata": {},
     "outputs": [
      {
       "metadata": {},
       "output_type": "pyout",
       "prompt_number": 51,
       "text": [
        "()"
       ]
      }
     ],
     "prompt_number": 51
    },
    {
     "cell_type": "markdown",
     "metadata": {},
     "source": [
      "#### Back when $r$ was a matrix.  Now it's a scalar"
     ]
    },
    {
     "cell_type": "code",
     "collapsed": false,
     "input": [
      "imshow(r,interpolation='nearest')"
     ],
     "language": "python",
     "metadata": {},
     "outputs": [
      {
       "metadata": {},
       "output_type": "pyout",
       "prompt_number": 48,
       "text": [
        "<matplotlib.image.AxesImage at 0x5a0cad0>"
       ]
      },
      {
       "metadata": {},
       "output_type": "display_data",
       "png": "[encoded data removed]",
       "text": [
        "<matplotlib.figure.Figure at 0x4a22450>"
       ]
      }
     ],
     "prompt_number": 48
    },
    {
     "cell_type": "code",
     "collapsed": false,
     "input": [
      "r"
     ],
     "language": "python",
     "metadata": {},
     "outputs": [
      {
       "metadata": {},
       "output_type": "pyout",
       "prompt_number": 52,
       "text": [
        "211.81780264261778"
       ]
      }
     ],
     "prompt_number": 52
    },
    {
     "cell_type": "markdown",
     "metadata": {},
     "source": [
      "Changed linear_prediction_natural to output a scalar, consistent with linearly weighting pixels"
     ]
    },
    {
     "cell_type": "code",
     "collapsed": false,
     "input": [
      "ls,ns,rs = lnl_natural(img_patch,10,10,5,nonlinearity_params=[0.1,100.,0.01],noise_model='after-nonlinearity')"
     ],
     "language": "python",
     "metadata": {},
     "outputs": [],
     "prompt_number": 199
    },
    {
     "cell_type": "markdown",
     "metadata": {},
     "source": [
      "#### Verifying that the 2d filters are accurate"
     ]
    },
    {
     "cell_type": "code",
     "collapsed": false,
     "input": [
      "X_2d1 = zeros((len(spatial_filter1),len(spatial_filter1)))\n",
      "X_2d2 = zeros((len(spatial_filter2),len(spatial_filter2)))\n",
      "mu_x1 = len(xs1)/2.\n",
      "mu_x2 = len(xs2)/2. - 1.\n",
      "for idx,x in enumerate(xs1):\n",
      "    for idy,y in enumerate(xs1):\n",
      "        X_2d1[idx,idy] = spatial_filter1[np.min([int(np.sqrt((idx-np.floor(len(xs1)/2.))**2 \n",
      "                                                             + (idy-np.floor(len(xs1)/2.))**2)\n",
      "                                                     +np.floor(len(xs1)/2.)), len(xs1)-1])]\n",
      "for idx,x in enumerate(xs2):\n",
      "    for idy,y in enumerate(xs2):\n",
      "        X_2d2[idx,idy] = spatial_filter2[np.min([int(np.sqrt((idx-np.floor(len(xs2)/2.))**2 \n",
      "                                                             + (idy-np.floor(len(xs2)/2.))**2)\n",
      "                                                     +np.floor(len(xs2)/2.)), len(xs2)-1])]\n",
      "        "
     ],
     "language": "python",
     "metadata": {},
     "outputs": [],
     "prompt_number": 172
    },
    {
     "cell_type": "code",
     "collapsed": false,
     "input": [
      "imshow(X_2d2,interpolation='nearest')\n",
      "colorbar()"
     ],
     "language": "python",
     "metadata": {},
     "outputs": [
      {
       "metadata": {},
       "output_type": "pyout",
       "prompt_number": 173,
       "text": [
        "<matplotlib.colorbar.Colorbar instance at 0x9c13e18>"
       ]
      },
      {
       "metadata": {},
       "output_type": "display_data",
       "png": "[encoded data removed]",
       "text": [
        "<matplotlib.figure.Figure at 0x951bc90>"
       ]
      }
     ],
     "prompt_number": 173
    },
    {
     "cell_type": "code",
     "collapsed": false,
     "input": [
      "imshow(X_2d1,interpolation='nearest')\n",
      "colorbar()"
     ],
     "language": "python",
     "metadata": {},
     "outputs": [
      {
       "metadata": {},
       "output_type": "pyout",
       "prompt_number": 174,
       "text": [
        "<matplotlib.colorbar.Colorbar instance at 0xa1928c0>"
       ]
      },
      {
       "metadata": {},
       "output_type": "display_data",
       "png": "[encoded data removed]",
       "text": [
        "<matplotlib.figure.Figure at 0x9515490>"
       ]
      }
     ],
     "prompt_number": 174
    },
    {
     "cell_type": "code",
     "collapsed": false,
     "input": [],
     "language": "python",
     "metadata": {},
     "outputs": []
    },
    {
     "cell_type": "markdown",
     "metadata": {},
     "source": [
      "## Investigate parameter space for natural images"
     ]
    },
    {
     "cell_type": "code",
     "collapsed": false,
     "input": [
      "parameter_space = exp(np.linspace(-5,5,4))"
     ],
     "language": "python",
     "metadata": {},
     "outputs": [],
     "prompt_number": 200
    },
    {
     "cell_type": "code",
     "collapsed": false,
     "input": [
      "parameter_space"
     ],
     "language": "python",
     "metadata": {},
     "outputs": [
      {
       "metadata": {},
       "output_type": "pyout",
       "prompt_number": 201,
       "text": [
        "array([  6.73794700e-03,   1.88875603e-01,   5.29449005e+00,\n",
        "         1.48413159e+02])"
       ]
      }
     ],
     "prompt_number": 201
    },
    {
     "cell_type": "code",
     "collapsed": false,
     "input": [
      "parameter_space = np.array([0.1,5,7,10,100])"
     ],
     "language": "python",
     "metadata": {},
     "outputs": [],
     "prompt_number": 282
    },
    {
     "cell_type": "markdown",
     "metadata": {},
     "source": [
      "#### What the filter's will look like"
     ]
    },
    {
     "cell_type": "code",
     "collapsed": false,
     "input": [
      "width1 = parameter_space[3]\n",
      "width2 = parameter_space[3]\n",
      "\n",
      "# read out variable_params\n",
      "x1start = -width1/2.\n",
      "x2start = -width2/2.\n",
      "x1end   = width1/2.\n",
      "x2end   = width2/2.\n",
      "\n",
      "# define linear filters\n",
      "# the idea is you have a fixed photoreceptor range, but can adjust the weights as you please\n",
      "# even though the number of photoreceptors/subunits pooled over is fixed, the width parameter varies\n",
      "# the participation weights, since larger width => delta function, smaller width => uniform distribution\n",
      "\n",
      "xs1 = np.linspace(x1start,x1end,10) \n",
      "xs2 = np.linspace(x2start,x2end,numSubunits)\n",
      "spatial_filter1 = spatial_filter(xs1,sigma_c=1.,sigma_s=2.,mu_c=0.,mu_s=0.,a=2.)\n",
      "spatial_filter2 = spatial_filter(xs2,sigma_c=1.,sigma_s=2.,mu_c=0.,mu_s=0.,a=2.)\n",
      "\n",
      "X_2d1 = zeros((len(spatial_filter1),len(spatial_filter1)))\n",
      "X_2d2 = zeros((len(spatial_filter2),len(spatial_filter2)))\n",
      "mu_x1 = len(xs1)/2.\n",
      "mu_x2 = len(xs2)/2. - 1.\n",
      "for idx,x in enumerate(xs1):\n",
      "    for idy,y in enumerate(xs1):\n",
      "        X_2d1[idx,idy] = spatial_filter1[np.min([int(np.sqrt((idx-np.floor(len(xs1)/2.))**2 \n",
      "                                                             + (idy-np.floor(len(xs1)/2.))**2)\n",
      "                                                     +np.floor(len(xs1)/2.)), len(xs1)-1])]\n",
      "for idx,x in enumerate(xs2):\n",
      "    for idy,y in enumerate(xs2):\n",
      "        X_2d2[idx,idy] = spatial_filter2[np.min([int(np.sqrt((idx-np.floor(len(xs2)/2.))**2 \n",
      "                                                             + (idy-np.floor(len(xs2)/2.))**2)\n",
      "                                                     +np.floor(len(xs2)/2.)), len(xs2)-1])]\n",
      "        \n",
      "# control for mean of the filter\n",
      "X_2d1 = X_2d1/np.sqrt(np.var(X_2d1))\n",
      "X_2d2 = X_2d2/np.sqrt(np.var(X_2d2))\n",
      "X_2d1 = X_2d1 - np.mean(X_2d1)\n",
      "X_2d2 = X_2d2 - np.mean(X_2d2)\n",
      "\n",
      "imshow(X_2d1,interpolation='nearest')\n",
      "colorbar()"
     ],
     "language": "python",
     "metadata": {},
     "outputs": [
      {
       "metadata": {},
       "output_type": "pyout",
       "prompt_number": 287,
       "text": [
        "<matplotlib.colorbar.Colorbar instance at 0x128b74d0>"
       ]
      },
      {
       "metadata": {},
       "output_type": "display_data",
       "png": "[encoded data removed]",
       "text": [
        "<matplotlib.figure.Figure at 0x127a8a90>"
       ]
      }
     ],
     "prompt_number": 287
    },
    {
     "cell_type": "code",
     "collapsed": false,
     "input": [
      "np.mean(X_2d1)"
     ],
     "language": "python",
     "metadata": {},
     "outputs": [
      {
       "metadata": {},
       "output_type": "pyout",
       "prompt_number": 288,
       "text": [
        "2.6645352591003756e-17"
       ]
      }
     ],
     "prompt_number": 288
    },
    {
     "cell_type": "code",
     "collapsed": false,
     "input": [
      "plot(X_2d1[5,:],'k')"
     ],
     "language": "python",
     "metadata": {},
     "outputs": [
      {
       "metadata": {},
       "output_type": "pyout",
       "prompt_number": 289,
       "text": [
        "[<matplotlib.lines.Line2D at 0x12b2c650>]"
       ]
      },
      {
       "metadata": {},
       "output_type": "display_data",
       "png": "[encoded data removed]",
       "text": [
        "<matplotlib.figure.Figure at 0x12375710>"
       ]
      }
     ],
     "prompt_number": 289
    },
    {
     "cell_type": "code",
     "collapsed": false,
     "input": [
      "'imk0000%d.imc' % (0)"
     ],
     "language": "python",
     "metadata": {},
     "outputs": [
      {
       "metadata": {},
       "output_type": "pyout",
       "prompt_number": 290,
       "text": [
        "'imk00000.imc'"
       ]
      }
     ],
     "prompt_number": 290
    },
    {
     "cell_type": "code",
     "collapsed": false,
     "input": [
      "numImages = 9\n",
      "names = []\n",
      "for im in xrange(1,numImages):\n",
      "    name = 'imk0000%d.imc' % (im)\n",
      "    names.append(name)\n",
      "\n",
      "I = zeros((len(parameter_space),len(parameter_space)))\n",
      "H_rs = zeros((len(parameter_space),len(parameter_space)))\n",
      "H_r_s_avg = zeros((len(parameter_space),len(parameter_space)))\n",
      "for idp,p in enumerate(parameter_space):\n",
      "    for idq,q in enumerate(parameter_space):\n",
      "        iterations = 100\n",
      "        output     = zeros((numImages,iterations))\n",
      "        \n",
      "        for idi,im in enumerate(names):\n",
      "        \n",
      "            fin = open( im, 'rb' )\n",
      "            s = fin.read()\n",
      "            fin.close()\n",
      "            arr = array.array('H', s)\n",
      "            arr.byteswap()\n",
      "            img = numpy.array(arr, dtype='uint16').reshape(1024,1536)\n",
      "            patch_size = 16\n",
      "            img_center = [shape(img)[0]/2,shape(img)[1]/2]\n",
      "            img_patch = img[img_center[0]:img_center[0]+patch_size,img_center[1]:img_center[1]+patch_size]\n",
      "            img_patch = img_patch/np.sqrt(np.var(img_patch))\n",
      "            img_patch = img_patch - np.mean(img_patch)\n",
      "\n",
      "            for it in xrange(iterations):\n",
      "                rs,ns,output[idi,it] = lnl_natural(img_patch,width1=p,width2=q,numSubunits=5)\n",
      "            \n",
      "        nBins = 10\n",
      "        binning = np.linspace(np.min(output),np.max(output),nBins+1)\n",
      "\n",
      "        H_r = entropy(output.flat,Bins=[binning])\n",
      "        H_r_s = []\n",
      "        for s in xrange(int(numImages)):\n",
      "            H_r_s.append(entropy(output[s,:],Bins=[binning]))\n",
      "        I[idp,idq] = H_r - np.mean(H_r_s)\n",
      "        H_rs[idp,idq] = H_r\n",
      "        H_r_s_avg[idp,idq] = np.mean(H_r_s)\n",
      "        \n",
      "        msg = 'Current sweep is (%d,%d) of (%d,%d)' % (idp,idq,len(parameter_space)-1,len(parameter_space)-1)\n",
      "        print(msg)\n",
      "        "
     ],
     "language": "python",
     "metadata": {},
     "outputs": [
      {
       "output_type": "stream",
       "stream": "stdout",
       "text": [
        "Current sweep is (0,0) of (4,4)\n",
        "Current sweep is (0,1) of (4,4)"
       ]
      },
      {
       "output_type": "stream",
       "stream": "stdout",
       "text": [
        "\n",
        "Current sweep is (0,2) of (4,4)"
       ]
      },
      {
       "output_type": "stream",
       "stream": "stdout",
       "text": [
        "\n",
        "Current sweep is (0,3) of (4,4)"
       ]
      },
      {
       "output_type": "stream",
       "stream": "stdout",
       "text": [
        "\n",
        "Current sweep is (0,4) of (4,4)"
       ]
      },
      {
       "output_type": "stream",
       "stream": "stdout",
       "text": [
        "\n",
        "Current sweep is (1,0) of (4,4)"
       ]
      },
      {
       "output_type": "stream",
       "stream": "stdout",
       "text": [
        "\n",
        "Current sweep is (1,1) of (4,4)"
       ]
      },
      {
       "output_type": "stream",
       "stream": "stdout",
       "text": [
        "\n",
        "Current sweep is (1,2) of (4,4)"
       ]
      },
      {
       "output_type": "stream",
       "stream": "stdout",
       "text": [
        "\n",
        "Current sweep is (1,3) of (4,4)"
       ]
      },
      {
       "output_type": "stream",
       "stream": "stdout",
       "text": [
        "\n",
        "Current sweep is (1,4) of (4,4)"
       ]
      },
      {
       "output_type": "stream",
       "stream": "stdout",
       "text": [
        "\n",
        "Current sweep is (2,0) of (4,4)"
       ]
      },
      {
       "output_type": "stream",
       "stream": "stdout",
       "text": [
        "\n",
        "Current sweep is (2,1) of (4,4)"
       ]
      },
      {
       "output_type": "stream",
       "stream": "stdout",
       "text": [
        "\n",
        "Current sweep is (2,2) of (4,4)"
       ]
      },
      {
       "output_type": "stream",
       "stream": "stdout",
       "text": [
        "\n",
        "Current sweep is (2,3) of (4,4)"
       ]
      },
      {
       "output_type": "stream",
       "stream": "stdout",
       "text": [
        "\n",
        "Current sweep is (2,4) of (4,4)"
       ]
      },
      {
       "output_type": "stream",
       "stream": "stdout",
       "text": [
        "\n",
        "Current sweep is (3,0) of (4,4)"
       ]
      },
      {
       "output_type": "stream",
       "stream": "stdout",
       "text": [
        "\n",
        "Current sweep is (3,1) of (4,4)"
       ]
      },
      {
       "output_type": "stream",
       "stream": "stdout",
       "text": [
        "\n",
        "Current sweep is (3,2) of (4,4)"
       ]
      },
      {
       "output_type": "stream",
       "stream": "stdout",
       "text": [
        "\n",
        "Current sweep is (3,3) of (4,4)"
       ]
      },
      {
       "output_type": "stream",
       "stream": "stdout",
       "text": [
        "\n",
        "Current sweep is (3,4) of (4,4)"
       ]
      },
      {
       "output_type": "stream",
       "stream": "stdout",
       "text": [
        "\n",
        "Current sweep is (4,0) of (4,4)"
       ]
      },
      {
       "output_type": "stream",
       "stream": "stdout",
       "text": [
        "\n",
        "Current sweep is (4,1) of (4,4)"
       ]
      },
      {
       "output_type": "stream",
       "stream": "stdout",
       "text": [
        "\n",
        "Current sweep is (4,2) of (4,4)"
       ]
      },
      {
       "output_type": "stream",
       "stream": "stdout",
       "text": [
        "\n",
        "Current sweep is (4,3) of (4,4)"
       ]
      },
      {
       "output_type": "stream",
       "stream": "stdout",
       "text": [
        "\n",
        "Current sweep is (4,4) of (4,4)"
       ]
      },
      {
       "output_type": "stream",
       "stream": "stdout",
       "text": [
        "\n"
       ]
      }
     ],
     "prompt_number": 291
    },
    {
     "cell_type": "code",
     "collapsed": false,
     "input": [
      "I3 = I"
     ],
     "language": "python",
     "metadata": {},
     "outputs": [],
     "prompt_number": 311
    },
    {
     "cell_type": "code",
     "collapsed": false,
     "input": [
      "fig = gcf()\n",
      "fig.set_size_inches((16,10))\n",
      "\n",
      "bmap = brewer2mpl.get_map('RdYlBu','diverging',8,reverse=True).mpl_colormap\n",
      "imshow(I[:,::-1],interpolation='nearest',cmap=bmap)\n",
      "colorbar()"
     ],
     "language": "python",
     "metadata": {},
     "outputs": [
      {
       "metadata": {},
       "output_type": "pyout",
       "prompt_number": 314,
       "text": [
        "<matplotlib.colorbar.Colorbar instance at 0x18e067e8>"
       ]
      },
      {
       "metadata": {},
       "output_type": "display_data",
       "png": "[encoded data removed]",
       "text": [
        "<matplotlib.figure.Figure at 0x184b5d50>"
       ]
      }
     ],
     "prompt_number": 314
    },
    {
     "cell_type": "code",
     "collapsed": false,
     "input": [
      "bmap = brewer2mpl.get_map('RdYlBu','diverging',8,reverse=True).mpl_colormap\n",
      "imshow(I,interpolation='nearest',cmap=bmap)\n",
      "colorbar()"
     ],
     "language": "python",
     "metadata": {},
     "outputs": [
      {
       "metadata": {},
       "output_type": "pyout",
       "prompt_number": 243,
       "text": [
        "<matplotlib.colorbar.Colorbar instance at 0xe43cdd0>"
       ]
      },
      {
       "metadata": {},
       "output_type": "display_data",
       "png": "[encoded data removed]",
       "text": [
        "<matplotlib.figure.Figure at 0xe23c510>"
       ]
      }
     ],
     "prompt_number": 243
    },
    {
     "cell_type": "code",
     "collapsed": false,
     "input": [
      "I"
     ],
     "language": "python",
     "metadata": {},
     "outputs": [
      {
       "metadata": {},
       "output_type": "pyout",
       "prompt_number": 244,
       "text": [
        "array([[ 0.44998405,  0.45875881,  0.46217801,  0.49231325],\n",
        "       [ 0.49080269,  0.44589926,  0.46823502,  0.45534463],\n",
        "       [ 0.38133363,  0.42004559,  0.42154837,  0.36607662],\n",
        "       [ 0.23044761,  0.32124008,  0.2564244 ,  0.24671557]])"
       ]
      }
     ],
     "prompt_number": 244
    },
    {
     "cell_type": "code",
     "collapsed": false,
     "input": [
      "I2 = I"
     ],
     "language": "python",
     "metadata": {},
     "outputs": [],
     "prompt_number": 245
    },
    {
     "cell_type": "code",
     "collapsed": false,
     "input": [
      "H_rs"
     ],
     "language": "python",
     "metadata": {},
     "outputs": [
      {
       "metadata": {},
       "output_type": "pyout",
       "prompt_number": 258,
       "text": [
        "array([[ 2.68164971,  2.73091953,  2.85555374,  2.80576842],\n",
        "       [ 2.74964577,  2.83515291,  2.52274065,  2.75670296],\n",
        "       [ 2.66617012,  2.71199908,  2.88729372,  2.70914848],\n",
        "       [ 2.38211721,  2.71676513,  2.54648775,  2.46975895]])"
       ]
      }
     ],
     "prompt_number": 258
    },
    {
     "cell_type": "code",
     "collapsed": false,
     "input": [
      "H_r_s_avg"
     ],
     "language": "python",
     "metadata": {},
     "outputs": [
      {
       "metadata": {},
       "output_type": "pyout",
       "prompt_number": 257,
       "text": [
        "array([[ 2.23166565,  2.27216072,  2.39337573,  2.31345517],\n",
        "       [ 2.25884308,  2.38925365,  2.05450563,  2.30135833],\n",
        "       [ 2.28483649,  2.29195349,  2.46574535,  2.34307186],\n",
        "       [ 2.1516696 ,  2.39552506,  2.29006335,  2.22304338]])"
       ]
      }
     ],
     "prompt_number": 257
    },
    {
     "cell_type": "code",
     "collapsed": false,
     "input": [
      "zed = spatial_filter(xs=np.linspace(-5,5,50),sigma_c=1.,sigma_s=1.5,mu_c=0.,mu_s=0.,a=2.)\n",
      "plot(zed,'k')"
     ],
     "language": "python",
     "metadata": {},
     "outputs": [
      {
       "metadata": {},
       "output_type": "pyout",
       "prompt_number": 39,
       "text": [
        "[<matplotlib.lines.Line2D at 0x6c6a610>]"
       ]
      },
      {
       "metadata": {},
       "output_type": "display_data",
       "png": "[encoded data removed]",
       "text": [
        "<matplotlib.figure.Figure at 0x651dd90>"
       ]
      }
     ],
     "prompt_number": 39
    },
    {
     "cell_type": "code",
     "collapsed": false,
     "input": [],
     "language": "python",
     "metadata": {},
     "outputs": []
    }
   ],
   "metadata": {}
  }
 ]
}