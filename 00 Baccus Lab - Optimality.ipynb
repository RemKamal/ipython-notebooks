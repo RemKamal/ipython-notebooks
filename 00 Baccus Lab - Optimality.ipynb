{
 "metadata": {
  "name": ""
 },
 "nbformat": 3,
 "nbformat_minor": 0,
 "worksheets": [
  {
   "cells": [
    {
     "cell_type": "markdown",
     "metadata": {},
     "source": [
      "# Tradeoffs between Optimality Principles  \n",
      "---  \n",
      "## Introduction  \n",
      "As a student in the Neurosciences PhD program, I am interested in general principles of how the brain extracts meaning from sensory information. Neural circuits must make use of this information to predict what will happen next in their surroundings and how best to act under changing circumstances. Using microelectrode arrays to record from the stereotyped, accessible circuitry of salamander and mouse retinas, I hope to resolve discrepancies between seemingly disparate phenomena under a single framework of optimal prediction. In particular, adaptation to a particular distribution of signals is commonly cited as efficient coding, whereas sensitization when switching from high to low signal-to-noise environments is considered to be consistent with optimal predictive inference. But how does the retina tradeoff between these different optimality arguments? The answers to these questions will only come with a tight integration of experimental and theoretical expertise and a structured training that stretches me beyond a single traditional discipline. The MBC program provides a unique opportunity to combine the aspects of cross-disciplinary collaboration and training that are critical to my success.  \n",
      "\n",
      "## Research Proposal  \n",
      "Two of the most successful proposed principles of neural function are Barlow\u2019s efficient coding principle (Bar- low, 1961; Laughlin, 1981; Atick and Redlich, 1992) and the Bayesian brain hypothesis (Helmholtz, 1866; Jaynes, 1988; Knill and Richards, 1996; Stocker and Simoncelli, 2006). Efficient coding is a \u201cbottom-up\u201d statement that neurons use their limited dynamic range to encode a signal in a way that maximizes the mutual information between the signal and the neuron\u2019s output (Laughlin, 1981; Bell and Sejnowski, 1995; Clifford et al., 2007). On the other hand, the Bayesian brain hypothesis is a \u201ctop-down\u201d assertion that neural circuits perform optimal Bayesian inference by adjusting internal models of a given signal\u2019s prior distribution and computing the maximum likelihood estimate that a signal has occurred given its prior and the observed data (Clifford et al., 2007). The retina is a unique battleground for these two general principles, since phenomena have been observed that support one or the other principle. Specifically, adaptation (Laughlin, 1981; Brenner et al., 2000; Baccus and Meister, 2002) and sensitization (Kastner and Baccus, 2011; Kastner and Baccus, 2013) appear to support efficient coding and optimal predictive inference, respectively.  \n",
      "\n",
      "\n",
      "A particular problem with optimality arguments however, is that they are \u201cdoomed to success.\u201d Given any experimental observation, we can always show that it is optimal given some clever choice of cost func- tion. To avoid this pitfall, it helps if the normative statement in question can successfully predict other phenomena. An experiment where this might indeed be the case is dynamic predictive coding in the retina (Hosoya et al., 2005). Dynamic predictive coding is the idea that, for a given image point, neural circuits use nearby points in space and time to predict the local intensity and then adapt to that prediction. A consequence of this is that a given retinal ganglion cell will adapt to different spatiotemporal patterns, even when the light intensity in the cell\u2019s receptive field remains the same. But what happens if we were to explore regimes of changing signal-to-noise? Would we then expect predict-and-supply (sensitization) rather than predict-and-subtract (adaptation)? In other words, how do we use competing optimality arguments to make predictions about experiments where the outcome is uncertain? One might expect that at a lower level of signal-to-noise, the retina would rely less on current evidence, and more on past measurements. We predict that this may switch the retina from a regime where it adapts to the current environment to one where it sensitizes to the previous environment. I hope to pursue these research questions in Stephen Baccus\u2019 neurobiology laboratory for visual processing in neural circuits of the retina, with the help of Surya Ganguli for additional theoretical expertise.  "
     ]
    },
    {
     "cell_type": "markdown",
     "metadata": {},
     "source": [
      "#### Jonathan Pillow talks at MBI Workshop 6: Sensory Coding about connection between Efficient coding and Bayesian estimation"
     ]
    },
    {
     "cell_type": "code",
     "collapsed": false,
     "input": [
      "from IPython.display import HTML\n",
      "HTML('<iframe src=https://beta.mbi.ohio-state.edu/video/player/?id=2633&title=Optimality+and+neural+codes%3A+Bayesian+inference+meets+Barlow%26%23039%3Bs+efficient+coding+hypothesis width=700 height=350></iframe>')"
     ],
     "language": "python",
     "metadata": {},
     "outputs": [
      {
       "html": [
        "<iframe src=https://beta.mbi.ohio-state.edu/video/player/?id=2633&title=Optimality+and+neural+codes%3A+Bayesian+inference+meets+Barlow%26%23039%3Bs+efficient+coding+hypothesis width=700 height=350></iframe>"
       ],
       "metadata": {},
       "output_type": "pyout",
       "prompt_number": 3,
       "text": [
        "<IPython.core.display.HTML at 0x432c650>"
       ]
      }
     ],
     "prompt_number": 3
    },
    {
     "cell_type": "markdown",
     "metadata": {},
     "source": [
      "#### Sophie Deneve"
     ]
    },
    {
     "cell_type": "code",
     "collapsed": false,
     "input": [
      "from IPython.display import HTML\n",
      "HTML('<iframe src=https://beta.mbi.ohio-state.edu/video/player/?id=1581&title=Balanced+spiking+networks+can+implement+dynamical+systems+with+predictive+coding width=700 height=350></iframe>')"
     ],
     "language": "python",
     "metadata": {},
     "outputs": [
      {
       "html": [
        "<iframe src=https://beta.mbi.ohio-state.edu/video/player/?id=1581&title=Balanced+spiking+networks+can+implement+dynamical+systems+with+predictive+coding width=700 height=350></iframe>"
       ],
       "metadata": {},
       "output_type": "pyout",
       "prompt_number": 4,
       "text": [
        "<IPython.core.display.HTML at 0x432c450>"
       ]
      }
     ],
     "prompt_number": 4
    },
    {
     "cell_type": "markdown",
     "metadata": {},
     "source": [
      "#### Stephanie Palmer's Predictive Information in the retina"
     ]
    },
    {
     "cell_type": "code",
     "collapsed": false,
     "input": [
      "from IPython.display import HTML\n",
      "HTML('<iframe src=http://arxiv.org/abs/1307.0225 width=700 height=350></iframe>')"
     ],
     "language": "python",
     "metadata": {},
     "outputs": [
      {
       "html": [
        "<iframe src=http://arxiv.org/abs/1307.0225 width=700 height=350></iframe>"
       ],
       "metadata": {},
       "output_type": "pyout",
       "prompt_number": 5,
       "text": [
        "<IPython.core.display.HTML at 0x432c390>"
       ]
      }
     ],
     "prompt_number": 5
    },
    {
     "cell_type": "code",
     "collapsed": false,
     "input": [],
     "language": "python",
     "metadata": {},
     "outputs": []
    }
   ],
   "metadata": {}
  }
 ]
}