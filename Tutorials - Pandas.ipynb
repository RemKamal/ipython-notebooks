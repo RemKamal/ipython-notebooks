{
 "metadata": {
  "name": "",
  "signature": "sha256:e61b7bcbbb75f3068761fd64eff6676d0a99bc8b1d4faae7ee762f93733f7ee1"
 },
 "nbformat": 3,
 "nbformat_minor": 0,
 "worksheets": [
  {
   "cells": [
    {
     "cell_type": "code",
     "collapsed": false,
     "input": [
      "import pandas as pd\n",
      "import numpy as np"
     ],
     "language": "python",
     "metadata": {},
     "outputs": [],
     "prompt_number": 1
    },
    {
     "cell_type": "code",
     "collapsed": false,
     "input": [
      "s = pd.Series([1,3,5,np.nan,6,8])"
     ],
     "language": "python",
     "metadata": {},
     "outputs": [],
     "prompt_number": 2
    },
    {
     "cell_type": "code",
     "collapsed": true,
     "input": [
      "s"
     ],
     "language": "python",
     "metadata": {},
     "outputs": [
      {
       "metadata": {},
       "output_type": "pyout",
       "prompt_number": 3,
       "text": [
        "0     1\n",
        "1     3\n",
        "2     5\n",
        "3   NaN\n",
        "4     6\n",
        "5     8\n",
        "dtype: float64"
       ]
      }
     ],
     "prompt_number": 3
    },
    {
     "cell_type": "code",
     "collapsed": false,
     "input": [
      "dates = pd.date_range('20140403',periods=6)"
     ],
     "language": "python",
     "metadata": {},
     "outputs": [],
     "prompt_number": 4
    },
    {
     "cell_type": "code",
     "collapsed": false,
     "input": [
      "dates"
     ],
     "language": "python",
     "metadata": {},
     "outputs": [
      {
       "metadata": {},
       "output_type": "pyout",
       "prompt_number": 5,
       "text": [
        "<class 'pandas.tseries.index.DatetimeIndex'>\n",
        "[2014-04-03 00:00:00, ..., 2014-04-08 00:00:00]\n",
        "Length: 6, Freq: D, Timezone: None"
       ]
      }
     ],
     "prompt_number": 5
    },
    {
     "cell_type": "code",
     "collapsed": false,
     "input": [
      "df = pd.DataFrame(np.random.randn(6,4),index=dates,columns=list('ABCD'))"
     ],
     "language": "python",
     "metadata": {},
     "outputs": [],
     "prompt_number": 6
    },
    {
     "cell_type": "code",
     "collapsed": true,
     "input": [
      "df"
     ],
     "language": "python",
     "metadata": {},
     "outputs": [
      {
       "html": [
        "<div style=\"max-height:1000px;max-width:1500px;overflow:auto;\">\n",
        "<table border=\"1\" class=\"dataframe\">\n",
        "  <thead>\n",
        "    <tr style=\"text-align: right;\">\n",
        "      <th></th>\n",
        "      <th>A</th>\n",
        "      <th>B</th>\n",
        "      <th>C</th>\n",
        "      <th>D</th>\n",
        "    </tr>\n",
        "  </thead>\n",
        "  <tbody>\n",
        "    <tr>\n",
        "      <th>2014-04-03</th>\n",
        "      <td> 0.625064</td>\n",
        "      <td>-1.053165</td>\n",
        "      <td> 1.911978</td>\n",
        "      <td> 0.672905</td>\n",
        "    </tr>\n",
        "    <tr>\n",
        "      <th>2014-04-04</th>\n",
        "      <td> 0.666955</td>\n",
        "      <td> 1.493654</td>\n",
        "      <td> 1.200809</td>\n",
        "      <td>-0.429713</td>\n",
        "    </tr>\n",
        "    <tr>\n",
        "      <th>2014-04-05</th>\n",
        "      <td> 0.705873</td>\n",
        "      <td> 0.064551</td>\n",
        "      <td> 1.727865</td>\n",
        "      <td>-1.210997</td>\n",
        "    </tr>\n",
        "    <tr>\n",
        "      <th>2014-04-06</th>\n",
        "      <td>-0.732950</td>\n",
        "      <td>-0.266424</td>\n",
        "      <td>-0.037563</td>\n",
        "      <td> 0.726014</td>\n",
        "    </tr>\n",
        "    <tr>\n",
        "      <th>2014-04-07</th>\n",
        "      <td> 0.171762</td>\n",
        "      <td> 0.732858</td>\n",
        "      <td>-0.789366</td>\n",
        "      <td>-0.929231</td>\n",
        "    </tr>\n",
        "    <tr>\n",
        "      <th>2014-04-08</th>\n",
        "      <td> 0.677596</td>\n",
        "      <td> 0.440404</td>\n",
        "      <td>-0.405770</td>\n",
        "      <td> 1.477853</td>\n",
        "    </tr>\n",
        "  </tbody>\n",
        "</table>\n",
        "</div>"
       ],
       "metadata": {},
       "output_type": "pyout",
       "prompt_number": 7,
       "text": [
        "                   A         B         C         D\n",
        "2014-04-03  0.625064 -1.053165  1.911978  0.672905\n",
        "2014-04-04  0.666955  1.493654  1.200809 -0.429713\n",
        "2014-04-05  0.705873  0.064551  1.727865 -1.210997\n",
        "2014-04-06 -0.732950 -0.266424 -0.037563  0.726014\n",
        "2014-04-07  0.171762  0.732858 -0.789366 -0.929231\n",
        "2014-04-08  0.677596  0.440404 -0.405770  1.477853"
       ]
      }
     ],
     "prompt_number": 7
    },
    {
     "cell_type": "code",
     "collapsed": false,
     "input": [
      "df2 = pd.DataFrame({ 'A' : 1.,\n",
      "                    'B' : pd.Timestamp('20140403'), \n",
      "                    'C' : pd.Series(1,index=list(range(4)),dtype='float32'), \n",
      "                    'D' : np.array([3] * 4, dtype='int32'),\n",
      "                    'E' : 'foo'})"
     ],
     "language": "python",
     "metadata": {},
     "outputs": [],
     "prompt_number": 9
    },
    {
     "cell_type": "code",
     "collapsed": true,
     "input": [
      "df2"
     ],
     "language": "python",
     "metadata": {},
     "outputs": [
      {
       "html": [
        "<div style=\"max-height:1000px;max-width:1500px;overflow:auto;\">\n",
        "<table border=\"1\" class=\"dataframe\">\n",
        "  <thead>\n",
        "    <tr style=\"text-align: right;\">\n",
        "      <th></th>\n",
        "      <th>A</th>\n",
        "      <th>B</th>\n",
        "      <th>C</th>\n",
        "      <th>D</th>\n",
        "      <th>E</th>\n",
        "    </tr>\n",
        "  </thead>\n",
        "  <tbody>\n",
        "    <tr>\n",
        "      <th>0</th>\n",
        "      <td> 1</td>\n",
        "      <td>2014-04-03 00:00:00</td>\n",
        "      <td> 1</td>\n",
        "      <td> 3</td>\n",
        "      <td> foo</td>\n",
        "    </tr>\n",
        "    <tr>\n",
        "      <th>1</th>\n",
        "      <td> 1</td>\n",
        "      <td>2014-04-03 00:00:00</td>\n",
        "      <td> 1</td>\n",
        "      <td> 3</td>\n",
        "      <td> foo</td>\n",
        "    </tr>\n",
        "    <tr>\n",
        "      <th>2</th>\n",
        "      <td> 1</td>\n",
        "      <td>2014-04-03 00:00:00</td>\n",
        "      <td> 1</td>\n",
        "      <td> 3</td>\n",
        "      <td> foo</td>\n",
        "    </tr>\n",
        "    <tr>\n",
        "      <th>3</th>\n",
        "      <td> 1</td>\n",
        "      <td>2014-04-03 00:00:00</td>\n",
        "      <td> 1</td>\n",
        "      <td> 3</td>\n",
        "      <td> foo</td>\n",
        "    </tr>\n",
        "  </tbody>\n",
        "</table>\n",
        "</div>"
       ],
       "metadata": {},
       "output_type": "pyout",
       "prompt_number": 10,
       "text": [
        "   A                   B  C  D    E\n",
        "0  1 2014-04-03 00:00:00  1  3  foo\n",
        "1  1 2014-04-03 00:00:00  1  3  foo\n",
        "2  1 2014-04-03 00:00:00  1  3  foo\n",
        "3  1 2014-04-03 00:00:00  1  3  foo"
       ]
      }
     ],
     "prompt_number": 10
    },
    {
     "cell_type": "code",
     "collapsed": false,
     "input": [
      "df2.dtypes"
     ],
     "language": "python",
     "metadata": {},
     "outputs": [
      {
       "metadata": {},
       "output_type": "pyout",
       "prompt_number": 11,
       "text": [
        "A           float64\n",
        "B    datetime64[ns]\n",
        "C           float32\n",
        "D             int32\n",
        "E            object\n",
        "dtype: object"
       ]
      }
     ],
     "prompt_number": 11
    },
    {
     "cell_type": "code",
     "collapsed": false,
     "input": [
      "df2.E"
     ],
     "language": "python",
     "metadata": {},
     "outputs": [
      {
       "metadata": {},
       "output_type": "pyout",
       "prompt_number": 15,
       "text": [
        "0    foo\n",
        "1    foo\n",
        "2    foo\n",
        "3    foo\n",
        "Name: E, dtype: object"
       ]
      }
     ],
     "prompt_number": 15
    },
    {
     "cell_type": "code",
     "collapsed": false,
     "input": [
      "df.head(2)"
     ],
     "language": "python",
     "metadata": {},
     "outputs": [
      {
       "html": [
        "<div style=\"max-height:1000px;max-width:1500px;overflow:auto;\">\n",
        "<table border=\"1\" class=\"dataframe\">\n",
        "  <thead>\n",
        "    <tr style=\"text-align: right;\">\n",
        "      <th></th>\n",
        "      <th>A</th>\n",
        "      <th>B</th>\n",
        "      <th>C</th>\n",
        "      <th>D</th>\n",
        "    </tr>\n",
        "  </thead>\n",
        "  <tbody>\n",
        "    <tr>\n",
        "      <th>2014-04-03</th>\n",
        "      <td> 0.625064</td>\n",
        "      <td>-1.053165</td>\n",
        "      <td> 1.911978</td>\n",
        "      <td> 0.672905</td>\n",
        "    </tr>\n",
        "    <tr>\n",
        "      <th>2014-04-04</th>\n",
        "      <td> 0.666955</td>\n",
        "      <td> 1.493654</td>\n",
        "      <td> 1.200809</td>\n",
        "      <td>-0.429713</td>\n",
        "    </tr>\n",
        "  </tbody>\n",
        "</table>\n",
        "</div>"
       ],
       "metadata": {},
       "output_type": "pyout",
       "prompt_number": 18,
       "text": [
        "                   A         B         C         D\n",
        "2014-04-03  0.625064 -1.053165  1.911978  0.672905\n",
        "2014-04-04  0.666955  1.493654  1.200809 -0.429713"
       ]
      }
     ],
     "prompt_number": 18
    },
    {
     "cell_type": "code",
     "collapsed": false,
     "input": [
      "df.tail(3)"
     ],
     "language": "python",
     "metadata": {},
     "outputs": [
      {
       "html": [
        "<div style=\"max-height:1000px;max-width:1500px;overflow:auto;\">\n",
        "<table border=\"1\" class=\"dataframe\">\n",
        "  <thead>\n",
        "    <tr style=\"text-align: right;\">\n",
        "      <th></th>\n",
        "      <th>A</th>\n",
        "      <th>B</th>\n",
        "      <th>C</th>\n",
        "      <th>D</th>\n",
        "    </tr>\n",
        "  </thead>\n",
        "  <tbody>\n",
        "    <tr>\n",
        "      <th>2014-04-06</th>\n",
        "      <td>-0.732950</td>\n",
        "      <td>-0.266424</td>\n",
        "      <td>-0.037563</td>\n",
        "      <td> 0.726014</td>\n",
        "    </tr>\n",
        "    <tr>\n",
        "      <th>2014-04-07</th>\n",
        "      <td> 0.171762</td>\n",
        "      <td> 0.732858</td>\n",
        "      <td>-0.789366</td>\n",
        "      <td>-0.929231</td>\n",
        "    </tr>\n",
        "    <tr>\n",
        "      <th>2014-04-08</th>\n",
        "      <td> 0.677596</td>\n",
        "      <td> 0.440404</td>\n",
        "      <td>-0.405770</td>\n",
        "      <td> 1.477853</td>\n",
        "    </tr>\n",
        "  </tbody>\n",
        "</table>\n",
        "</div>"
       ],
       "metadata": {},
       "output_type": "pyout",
       "prompt_number": 17,
       "text": [
        "                   A         B         C         D\n",
        "2014-04-06 -0.732950 -0.266424 -0.037563  0.726014\n",
        "2014-04-07  0.171762  0.732858 -0.789366 -0.929231\n",
        "2014-04-08  0.677596  0.440404 -0.405770  1.477853"
       ]
      }
     ],
     "prompt_number": 17
    },
    {
     "cell_type": "code",
     "collapsed": false,
     "input": [
      "df.index"
     ],
     "language": "python",
     "metadata": {},
     "outputs": [
      {
       "metadata": {},
       "output_type": "pyout",
       "prompt_number": 19,
       "text": [
        "<class 'pandas.tseries.index.DatetimeIndex'>\n",
        "[2014-04-03 00:00:00, ..., 2014-04-08 00:00:00]\n",
        "Length: 6, Freq: D, Timezone: None"
       ]
      }
     ],
     "prompt_number": 19
    },
    {
     "cell_type": "code",
     "collapsed": false,
     "input": [
      "df.columns"
     ],
     "language": "python",
     "metadata": {},
     "outputs": [
      {
       "metadata": {},
       "output_type": "pyout",
       "prompt_number": 20,
       "text": [
        "Index([u'A', u'B', u'C', u'D'], dtype=object)"
       ]
      }
     ],
     "prompt_number": 20
    },
    {
     "cell_type": "code",
     "collapsed": false,
     "input": [
      "df.values"
     ],
     "language": "python",
     "metadata": {},
     "outputs": [
      {
       "metadata": {},
       "output_type": "pyout",
       "prompt_number": 21,
       "text": [
        "array([[ 0.62506385, -1.05316457,  1.91197754,  0.67290493],\n",
        "       [ 0.66695534,  1.49365424,  1.20080901, -0.42971287],\n",
        "       [ 0.70587337,  0.06455079,  1.7278646 , -1.21099716],\n",
        "       [-0.73294962, -0.26642395, -0.0375629 ,  0.72601441],\n",
        "       [ 0.17176176,  0.73285768, -0.78936587, -0.92923063],\n",
        "       [ 0.67759602,  0.4404042 , -0.4057704 ,  1.4778528 ]])"
       ]
      }
     ],
     "prompt_number": 21
    },
    {
     "cell_type": "code",
     "collapsed": false,
     "input": [
      "df.describe()"
     ],
     "language": "python",
     "metadata": {},
     "outputs": [
      {
       "html": [
        "<div style=\"max-height:1000px;max-width:1500px;overflow:auto;\">\n",
        "<table border=\"1\" class=\"dataframe\">\n",
        "  <thead>\n",
        "    <tr style=\"text-align: right;\">\n",
        "      <th></th>\n",
        "      <th>A</th>\n",
        "      <th>B</th>\n",
        "      <th>C</th>\n",
        "      <th>D</th>\n",
        "    </tr>\n",
        "  </thead>\n",
        "  <tbody>\n",
        "    <tr>\n",
        "      <th>count</th>\n",
        "      <td> 6.000000</td>\n",
        "      <td> 6.000000</td>\n",
        "      <td> 6.000000</td>\n",
        "      <td> 6.000000</td>\n",
        "    </tr>\n",
        "    <tr>\n",
        "      <th>mean</th>\n",
        "      <td> 0.352383</td>\n",
        "      <td> 0.235313</td>\n",
        "      <td> 0.601325</td>\n",
        "      <td> 0.051139</td>\n",
        "    </tr>\n",
        "    <tr>\n",
        "      <th>std</th>\n",
        "      <td> 0.568261</td>\n",
        "      <td> 0.873397</td>\n",
        "      <td> 1.157819</td>\n",
        "      <td> 1.064227</td>\n",
        "    </tr>\n",
        "    <tr>\n",
        "      <th>min</th>\n",
        "      <td>-0.732950</td>\n",
        "      <td>-1.053165</td>\n",
        "      <td>-0.789366</td>\n",
        "      <td>-1.210997</td>\n",
        "    </tr>\n",
        "    <tr>\n",
        "      <th>25%</th>\n",
        "      <td> 0.285087</td>\n",
        "      <td>-0.183680</td>\n",
        "      <td>-0.313719</td>\n",
        "      <td>-0.804351</td>\n",
        "    </tr>\n",
        "    <tr>\n",
        "      <th>50%</th>\n",
        "      <td> 0.646010</td>\n",
        "      <td> 0.252477</td>\n",
        "      <td> 0.581623</td>\n",
        "      <td> 0.121596</td>\n",
        "    </tr>\n",
        "    <tr>\n",
        "      <th>75%</th>\n",
        "      <td> 0.674936</td>\n",
        "      <td> 0.659744</td>\n",
        "      <td> 1.596101</td>\n",
        "      <td> 0.712737</td>\n",
        "    </tr>\n",
        "    <tr>\n",
        "      <th>max</th>\n",
        "      <td> 0.705873</td>\n",
        "      <td> 1.493654</td>\n",
        "      <td> 1.911978</td>\n",
        "      <td> 1.477853</td>\n",
        "    </tr>\n",
        "  </tbody>\n",
        "</table>\n",
        "</div>"
       ],
       "metadata": {},
       "output_type": "pyout",
       "prompt_number": 22,
       "text": [
        "              A         B         C         D\n",
        "count  6.000000  6.000000  6.000000  6.000000\n",
        "mean   0.352383  0.235313  0.601325  0.051139\n",
        "std    0.568261  0.873397  1.157819  1.064227\n",
        "min   -0.732950 -1.053165 -0.789366 -1.210997\n",
        "25%    0.285087 -0.183680 -0.313719 -0.804351\n",
        "50%    0.646010  0.252477  0.581623  0.121596\n",
        "75%    0.674936  0.659744  1.596101  0.712737\n",
        "max    0.705873  1.493654  1.911978  1.477853"
       ]
      }
     ],
     "prompt_number": 22
    },
    {
     "cell_type": "code",
     "collapsed": false,
     "input": [
      "df.T"
     ],
     "language": "python",
     "metadata": {},
     "outputs": [
      {
       "html": [
        "<div style=\"max-height:1000px;max-width:1500px;overflow:auto;\">\n",
        "<table border=\"1\" class=\"dataframe\">\n",
        "  <thead>\n",
        "    <tr style=\"text-align: right;\">\n",
        "      <th></th>\n",
        "      <th>2014-04-03 00:00:00</th>\n",
        "      <th>2014-04-04 00:00:00</th>\n",
        "      <th>2014-04-05 00:00:00</th>\n",
        "      <th>2014-04-06 00:00:00</th>\n",
        "      <th>2014-04-07 00:00:00</th>\n",
        "      <th>2014-04-08 00:00:00</th>\n",
        "    </tr>\n",
        "  </thead>\n",
        "  <tbody>\n",
        "    <tr>\n",
        "      <th>A</th>\n",
        "      <td> 0.625064</td>\n",
        "      <td> 0.666955</td>\n",
        "      <td> 0.705873</td>\n",
        "      <td>-0.732950</td>\n",
        "      <td> 0.171762</td>\n",
        "      <td> 0.677596</td>\n",
        "    </tr>\n",
        "    <tr>\n",
        "      <th>B</th>\n",
        "      <td>-1.053165</td>\n",
        "      <td> 1.493654</td>\n",
        "      <td> 0.064551</td>\n",
        "      <td>-0.266424</td>\n",
        "      <td> 0.732858</td>\n",
        "      <td> 0.440404</td>\n",
        "    </tr>\n",
        "    <tr>\n",
        "      <th>C</th>\n",
        "      <td> 1.911978</td>\n",
        "      <td> 1.200809</td>\n",
        "      <td> 1.727865</td>\n",
        "      <td>-0.037563</td>\n",
        "      <td>-0.789366</td>\n",
        "      <td>-0.405770</td>\n",
        "    </tr>\n",
        "    <tr>\n",
        "      <th>D</th>\n",
        "      <td> 0.672905</td>\n",
        "      <td>-0.429713</td>\n",
        "      <td>-1.210997</td>\n",
        "      <td> 0.726014</td>\n",
        "      <td>-0.929231</td>\n",
        "      <td> 1.477853</td>\n",
        "    </tr>\n",
        "  </tbody>\n",
        "</table>\n",
        "</div>"
       ],
       "metadata": {},
       "output_type": "pyout",
       "prompt_number": 24,
       "text": [
        "   2014-04-03  2014-04-04  2014-04-05  2014-04-06  2014-04-07  2014-04-08\n",
        "A    0.625064    0.666955    0.705873   -0.732950    0.171762    0.677596\n",
        "B   -1.053165    1.493654    0.064551   -0.266424    0.732858    0.440404\n",
        "C    1.911978    1.200809    1.727865   -0.037563   -0.789366   -0.405770\n",
        "D    0.672905   -0.429713   -1.210997    0.726014   -0.929231    1.477853"
       ]
      }
     ],
     "prompt_number": 24
    },
    {
     "cell_type": "code",
     "collapsed": false,
     "input": [
      "df.sort_index(axis=1, ascending=False)"
     ],
     "language": "python",
     "metadata": {},
     "outputs": [
      {
       "html": [
        "<div style=\"max-height:1000px;max-width:1500px;overflow:auto;\">\n",
        "<table border=\"1\" class=\"dataframe\">\n",
        "  <thead>\n",
        "    <tr style=\"text-align: right;\">\n",
        "      <th></th>\n",
        "      <th>D</th>\n",
        "      <th>C</th>\n",
        "      <th>B</th>\n",
        "      <th>A</th>\n",
        "    </tr>\n",
        "  </thead>\n",
        "  <tbody>\n",
        "    <tr>\n",
        "      <th>2014-04-03</th>\n",
        "      <td> 0.672905</td>\n",
        "      <td> 1.911978</td>\n",
        "      <td>-1.053165</td>\n",
        "      <td> 0.625064</td>\n",
        "    </tr>\n",
        "    <tr>\n",
        "      <th>2014-04-04</th>\n",
        "      <td>-0.429713</td>\n",
        "      <td> 1.200809</td>\n",
        "      <td> 1.493654</td>\n",
        "      <td> 0.666955</td>\n",
        "    </tr>\n",
        "    <tr>\n",
        "      <th>2014-04-05</th>\n",
        "      <td>-1.210997</td>\n",
        "      <td> 1.727865</td>\n",
        "      <td> 0.064551</td>\n",
        "      <td> 0.705873</td>\n",
        "    </tr>\n",
        "    <tr>\n",
        "      <th>2014-04-06</th>\n",
        "      <td> 0.726014</td>\n",
        "      <td>-0.037563</td>\n",
        "      <td>-0.266424</td>\n",
        "      <td>-0.732950</td>\n",
        "    </tr>\n",
        "    <tr>\n",
        "      <th>2014-04-07</th>\n",
        "      <td>-0.929231</td>\n",
        "      <td>-0.789366</td>\n",
        "      <td> 0.732858</td>\n",
        "      <td> 0.171762</td>\n",
        "    </tr>\n",
        "    <tr>\n",
        "      <th>2014-04-08</th>\n",
        "      <td> 1.477853</td>\n",
        "      <td>-0.405770</td>\n",
        "      <td> 0.440404</td>\n",
        "      <td> 0.677596</td>\n",
        "    </tr>\n",
        "  </tbody>\n",
        "</table>\n",
        "</div>"
       ],
       "metadata": {},
       "output_type": "pyout",
       "prompt_number": 27,
       "text": [
        "                   D         C         B         A\n",
        "2014-04-03  0.672905  1.911978 -1.053165  0.625064\n",
        "2014-04-04 -0.429713  1.200809  1.493654  0.666955\n",
        "2014-04-05 -1.210997  1.727865  0.064551  0.705873\n",
        "2014-04-06  0.726014 -0.037563 -0.266424 -0.732950\n",
        "2014-04-07 -0.929231 -0.789366  0.732858  0.171762\n",
        "2014-04-08  1.477853 -0.405770  0.440404  0.677596"
       ]
      }
     ],
     "prompt_number": 27
    },
    {
     "cell_type": "code",
     "collapsed": false,
     "input": [
      "df.sort(columns='B')"
     ],
     "language": "python",
     "metadata": {},
     "outputs": [
      {
       "html": [
        "<div style=\"max-height:1000px;max-width:1500px;overflow:auto;\">\n",
        "<table border=\"1\" class=\"dataframe\">\n",
        "  <thead>\n",
        "    <tr style=\"text-align: right;\">\n",
        "      <th></th>\n",
        "      <th>A</th>\n",
        "      <th>B</th>\n",
        "      <th>C</th>\n",
        "      <th>D</th>\n",
        "    </tr>\n",
        "  </thead>\n",
        "  <tbody>\n",
        "    <tr>\n",
        "      <th>2014-04-03</th>\n",
        "      <td> 0.625064</td>\n",
        "      <td>-1.053165</td>\n",
        "      <td> 1.911978</td>\n",
        "      <td> 0.672905</td>\n",
        "    </tr>\n",
        "    <tr>\n",
        "      <th>2014-04-06</th>\n",
        "      <td>-0.732950</td>\n",
        "      <td>-0.266424</td>\n",
        "      <td>-0.037563</td>\n",
        "      <td> 0.726014</td>\n",
        "    </tr>\n",
        "    <tr>\n",
        "      <th>2014-04-05</th>\n",
        "      <td> 0.705873</td>\n",
        "      <td> 0.064551</td>\n",
        "      <td> 1.727865</td>\n",
        "      <td>-1.210997</td>\n",
        "    </tr>\n",
        "    <tr>\n",
        "      <th>2014-04-08</th>\n",
        "      <td> 0.677596</td>\n",
        "      <td> 0.440404</td>\n",
        "      <td>-0.405770</td>\n",
        "      <td> 1.477853</td>\n",
        "    </tr>\n",
        "    <tr>\n",
        "      <th>2014-04-07</th>\n",
        "      <td> 0.171762</td>\n",
        "      <td> 0.732858</td>\n",
        "      <td>-0.789366</td>\n",
        "      <td>-0.929231</td>\n",
        "    </tr>\n",
        "    <tr>\n",
        "      <th>2014-04-04</th>\n",
        "      <td> 0.666955</td>\n",
        "      <td> 1.493654</td>\n",
        "      <td> 1.200809</td>\n",
        "      <td>-0.429713</td>\n",
        "    </tr>\n",
        "  </tbody>\n",
        "</table>\n",
        "</div>"
       ],
       "metadata": {},
       "output_type": "pyout",
       "prompt_number": 28,
       "text": [
        "                   A         B         C         D\n",
        "2014-04-03  0.625064 -1.053165  1.911978  0.672905\n",
        "2014-04-06 -0.732950 -0.266424 -0.037563  0.726014\n",
        "2014-04-05  0.705873  0.064551  1.727865 -1.210997\n",
        "2014-04-08  0.677596  0.440404 -0.405770  1.477853\n",
        "2014-04-07  0.171762  0.732858 -0.789366 -0.929231\n",
        "2014-04-04  0.666955  1.493654  1.200809 -0.429713"
       ]
      }
     ],
     "prompt_number": 28
    },
    {
     "cell_type": "code",
     "collapsed": false,
     "input": [],
     "language": "python",
     "metadata": {},
     "outputs": []
    }
   ],
   "metadata": {}
  }
 ]
}