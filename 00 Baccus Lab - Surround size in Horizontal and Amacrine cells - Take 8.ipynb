{
 "metadata": {
  "name": "",
  "signature": "sha256:95188a8a6d541280a62f2a07d17c6a9788845434c552e7ccb0850d9ea35ebb53"
 },
 "nbformat": 3,
 "nbformat_minor": 0,
 "worksheets": [
  {
   "cells": [
    {
     "cell_type": "markdown",
     "metadata": {},
     "source": [
      "# Prototype independent python code"
     ]
    },
    {
     "cell_type": "code",
     "collapsed": false,
     "input": [
      "import numpy as np\n",
      "from math import tanh\n",
      "from scipy.interpolate import interp1d\n",
      "from scipy.signal import fftconvolve\n",
      "from PIL import Image\n",
      "from os import listdir\n",
      "from os.path import isfile, join\n",
      "from array import array\n",
      "import time\n",
      "import brewer2mpl"
     ],
     "language": "python",
     "metadata": {},
     "outputs": [],
     "prompt_number": 1
    },
    {
     "cell_type": "code",
     "collapsed": false,
     "input": [
      "import imp\n",
      "info = imp.load_source('info_theory_functions', '/home/lane/information-theory-toolbox/info_theory_functions.py')"
     ],
     "language": "python",
     "metadata": {},
     "outputs": [],
     "prompt_number": 5
    },
    {
     "cell_type": "code",
     "collapsed": false,
     "input": [
      "# path to van Hateren Natural Image Database\n",
      "#im_path = '/Users/lmcintosh/Dropbox/Stanford University/CS 229 Machine Learning/Project/Natural_Images'\n",
      "im_path = '/home/lane/Natural_images/imc'"
     ],
     "language": "python",
     "metadata": {},
     "outputs": [],
     "prompt_number": 7
    },
    {
     "cell_type": "markdown",
     "metadata": {},
     "source": [
      "## Functions"
     ]
    },
    {
     "cell_type": "code",
     "collapsed": false,
     "input": [
      "def nonlinearity(x,K=1.,g=1.,theta=0.,mode='sigmoid',normalized=False):\n",
      "    if normalized:\n",
      "        if mode == 'sigmoid':\n",
      "            n = K/(1+np.exp(-g*(x - theta)))\n",
      "        elif mode == 'tanh':\n",
      "            if type(x)==list or type(x)==numpy.ndarray:\n",
      "                n = [g*tanh(a-theta) + K - g for a in x]\n",
      "            else:\n",
      "                n = g*tanh(x-theta) + K - g\n",
      "        return np.array(n)/np.sqrt(np.var(np.array(n)))\n",
      "    else:\n",
      "        if mode == 'sigmoid':\n",
      "            return K/(1+np.exp(-g*(x - theta)))\n",
      "        elif mode == 'tanh':\n",
      "            if type(x)==list or type(x)==numpy.ndarray:\n",
      "                return [g*tanh(a-theta) + K - g for a in x]\n",
      "            else:\n",
      "                return g*tanh(x-theta) + K - g\n",
      "\n",
      "# return the shape of a Gaussian\n",
      "def gaussian(x=np.linspace(-5,5,50),sigma=1.,mu=0.):\n",
      "     return np.array([(1./(2.*pi*sigma**2))*np.exp((-(x-mu)**2.)/(2.*sigma**2)) for xi in x])\n",
      "\n",
      "# return a 2d difference of Gaussians with zero mean and unit variance\n",
      "def spatial_filter_2d(c_width=1.,s_width=2.,xs_num=50):\n",
      "    xs = np.linspace(-5,5,xs_num)\n",
      "    S = gaussian(x=xs, sigma=s_width)\n",
      "    C = gaussian(x=xs, sigma=c_width)\n",
      "    S = S/np.sum(S)\n",
      "    C = C/np.sum(C)\n",
      "    S_2d = zeros((len(S),len(S)))\n",
      "    C_2d = zeros((len(C),len(C)))\n",
      "    for idx,x in enumerate(xs):\n",
      "        for idy,y in enumerate(xs):\n",
      "            S_2d[idx,idy] = S[np.min([int(np.sqrt((idx-np.floor(len(xs)/2.))**2 \n",
      "                                                     + (idy-np.floor(len(xs)/2.))**2) + np.floor(len(xs)/2.)), len(xs)-1])]\n",
      "            C_2d[idx,idy] = C[np.min([int(np.sqrt((idx-np.floor(len(xs)/2.))**2 \n",
      "                                                     + (idy-np.floor(len(xs)/2.))**2) + np.floor(len(xs)/2.)), len(xs)-1])]\n",
      "    # Make all surrounds have same peak sensitivity of 1.\n",
      "    S_2d = S_2d/np.max(S_2d)\n",
      "    # Make center have same integral as surround\n",
      "    C_2d = (np.sum(S_2d)/np.sum(C_2d))*C_2d\n",
      "    X = C_2d - S_2d\n",
      "    \n",
      "    return X/np.sqrt(np.var(X))"
     ],
     "language": "python",
     "metadata": {},
     "outputs": [],
     "prompt_number": 16
    },
    {
     "cell_type": "code",
     "collapsed": false,
     "input": [
      "# return image patches\n",
      "def load_images(path, numImages, patchSize):\n",
      "    allfiles = [f for f in listdir(path) if isfile(join(path,f)) and '.imc' in f]\n",
      "    names    = allfiles[:numImages]\n",
      "    patches  = []\n",
      "\n",
      "    for im in names:\n",
      "        fin = open(path+'/'+im, 'rb')\n",
      "        s   = fin.read()\n",
      "        fin.close()\n",
      "        arr = array('H', s)\n",
      "        arr.byteswap()\n",
      "        img = np.array(arr, dtype='uint16').reshape(1024,1536)\n",
      "        img_center = [shape(img)[0]/2,shape(img)[1]/2]\n",
      "        img        = img[img_center[0]:img_center[0]+patchSize,img_center[1]:img_center[1]+patchSize]\n",
      "        img        = img/np.sqrt(np.var(img))\n",
      "        patches.append(img - np.mean(img))\n",
      "\n",
      "    return patches\n",
      "\n",
      "# plot information\n",
      "def print_matrix(M, min_x, max_x, min_y, max_y, title, x_label='size of filter 2', y_label='size of filter 1'):\n",
      "    fig = gcf()\n",
      "    fig.set_size_inches((16,10))\n",
      "    bmap = brewer2mpl.get_map('RdYlBu','diverging',8,reverse=True).mpl_colormap\n",
      "    \n",
      "    imshow(M[::-1,:],interpolation='nearest',cmap=bmap, extent=[min_x,max_x,min_y,max_y])\n",
      "    colorbar()\n",
      "    ylabel(y_label,fontsize=14)\n",
      "    xlabel(x_label,fontsize=14)\n",
      "    title('Information transmission in LNL model',fontsize=16)\n",
      "\n",
      "    savefig(time.strftime(\"%Y-%m-%d %H-%M-%S\") + '.eps')\n"
     ],
     "language": "python",
     "metadata": {},
     "outputs": [],
     "prompt_number": 9
    },
    {
     "cell_type": "code",
     "collapsed": false,
     "input": [
      "# return subsampled array\n",
      "def subsample(a, shape, padding = 0):\n",
      "    if a.shape[0] == a.shape[1]:\n",
      "        spacing = np.linspace(padding,a.shape[0]-padding,shape[0]).astype(int)\n",
      "        return a[[[s] for s in spacing],spacing]\n",
      "    else:\n",
      "        spacing_x = np.linspace(padding,a.shape[0]-padding,shape[0])\n",
      "        spacing_y = np.linspace(padding,a.shape[1]-padding,shape[1])\n",
      "        return a[[[s] for s in spacing_x],spacing_y]\n",
      "\n",
      "\n",
      "# return a linear prediction given the filter and an image\n",
      "def linear_output(stimulus,sfilter,numSubunits,borderDist=0):\n",
      "    '''stimulus is space x space\n",
      "       sfilter is space x space\n",
      "       numSubunits is number of LN subunits across a single dimension\n",
      "    '''\n",
      "    output = fftconvolve(stimulus, sfilter, mode='same')\n",
      "    return subsample(output, (numSubunits, numSubunits), padding=borderDist)\n"
     ],
     "language": "python",
     "metadata": {},
     "outputs": [],
     "prompt_number": 10
    },
    {
     "cell_type": "code",
     "collapsed": false,
     "input": [
      "# return the output of the full LNL model\n",
      "def lnl_output(stimulus,filter1,filter2=0.,nonlinearThreshold=1.,nonlinearGain=0.25,numSubunits=16,SNR=1000.,signalVariance=0.,key=3):\n",
      "    ''' key = 0 for L\n",
      "        key = 1 for L-N\n",
      "        key = 2 for L-N + L\n",
      "        key = 3 for L-N-L\n",
      "    '''\n",
      "    # NO NEED TO NORMALIZE STIMULUS (happens in load_images())\n",
      "    \n",
      "    # GET OUTPUT OF FIRST LINEAR STAGE\n",
      "    if key < 3:\n",
      "        ls = linear_output(stimulus,filter1,1,borderDist=stimulus.shape[0]//2)\n",
      "        if key == 0:\n",
      "            return ls\n",
      "        else:\n",
      "            ns = nonlinearity(ls,g=nonlinearGain,theta=nonlinearThreshold)\n",
      "            if key == 1:\n",
      "                return ns\n",
      "            elif key == 2:\n",
      "                return ns + linear_output(stimulus,filter2,numSubunits,borderDist=0)\n",
      "    elif key == 3:\n",
      "        ls = linear_output(stimulus,filter1,numSubunits,borderDist=0)\n",
      "        ns = np.array([nonlinearity(l,g=nonlinearGain,theta=nonlinearThreshold) for l in ls]).reshape((numSubunits,numSubunits))\n",
      "        return linear_output(ns,filter2,1,borderDist=numSubunits//2) + np.sqrt(signalVariance/SNR)*randn(1)\n",
      "    \n",
      "    if key < 0 or key > 3:\n",
      "        raise Exception('Key not recognized.  Must be 0-3')\n",
      "   \n",
      "\n",
      "def get_threshold(stimuli,filter1):\n",
      "    return np.sqrt(np.var(np.array([lnl_output(s,filter1,key=0) for s in stimuli]).flat))\n",
      "\n",
      "def get_signal_variance(stimuli,filter1,filter2,threshold,subunits=16,key=3):\n",
      "    return np.var([lnl_output(s,filter1,filter2,nonlinearThreshold=threshold,numSubunits=subunits,key=key) for s in stimuli])"
     ],
     "language": "python",
     "metadata": {},
     "outputs": [],
     "prompt_number": 11
    },
    {
     "cell_type": "markdown",
     "metadata": {},
     "source": [
      "## Define Parameters"
     ]
    },
    {
     "cell_type": "code",
     "collapsed": false,
     "input": [
      "# PARAMETERS\n",
      "numPhotoreceptors  = 16\n",
      "numSubunits        = 16\n",
      "nonlinearGain      = 0.25\n",
      "fixed_center_width = 0.25\n",
      "s_widths           = np.linspace(0.3,6,10)\n",
      "SNR                = 1000\n",
      "iterations         = 80\n",
      "nBins              = 10\n",
      "numImages          = 20\n",
      "eps                = 10e-5"
     ],
     "language": "python",
     "metadata": {},
     "outputs": [],
     "prompt_number": 12
    },
    {
     "cell_type": "markdown",
     "metadata": {},
     "source": [
      "## Get Data"
     ]
    },
    {
     "cell_type": "code",
     "collapsed": false,
     "input": [
      "# GET DATA\n",
      "patches   = load_images(path=im_path, numImages=numImages, patchSize=32)"
     ],
     "language": "python",
     "metadata": {},
     "outputs": [],
     "prompt_number": 13
    },
    {
     "cell_type": "markdown",
     "metadata": {},
     "source": [
      "## Initialize Arrays"
     ]
    },
    {
     "cell_type": "code",
     "collapsed": false,
     "input": [
      "# INITIALIZE INFORMATION ARRAYS\n",
      "I = zeros((len(s_widths),len(s_widths)))\n",
      "H_rs = zeros((len(s_widths),len(s_widths)))\n",
      "H_r_s_avg = zeros((len(s_widths),len(s_widths)))"
     ],
     "language": "python",
     "metadata": {},
     "outputs": [],
     "prompt_number": 14
    },
    {
     "cell_type": "markdown",
     "metadata": {},
     "source": [
      "## Main Loop"
     ]
    },
    {
     "cell_type": "code",
     "collapsed": false,
     "input": [
      "for ids1,s1 in enumerate(s_widths):\n",
      "    for ids2,s2 in enumerate(s_widths):\n",
      "        start = time.time() \n",
      "\n",
      "        # Make filters\n",
      "        X_2d1 = spatial_filter_2d(c_width=fixed_center_width,s_width=s1,xs_num=numPhotoreceptors)\n",
      "        X_2d2 = spatial_filter_2d(c_width=fixed_center_width,s_width=s2,xs_num=numSubunits)\n",
      "\n",
      "        # Get model threshold and output variance\n",
      "        threshold = get_threshold(patches, X_2d1)\n",
      "        signalVar = get_signal_variance(patches, X_2d1, X_2d2, threshold=threshold, subunits=numSubunits)\n",
      "\n",
      "\n",
      "        output     = zeros((numImages,iterations))\n",
      "        for idi in xrange(numImages):\n",
      "            for it in xrange(iterations):\n",
      "                output[idi,it] = lnl_output(patches[idi],filter1=X_2d1,filter2=X_2d2,nonlinearThreshold=threshold,nonlinearGain=nonlinearGain,signalVariance=signalVar,numSubunits=numSubunits,SNR=SNR,key=3)\n",
      "\n",
      "        # pad binning in off-chance that output has zero entropy\n",
      "        binning = np.linspace(np.min(output)-eps,np.max(output)+eps,nBins+1)\n",
      "\n",
      "        H_r = entropy(output.flat,Bins=[binning])\n",
      "        H_r_s = []\n",
      "        for s in xrange(int(numImages)):\n",
      "            H_r_s.append(entropy(output[s,:],Bins=[binning]))\n",
      "        I[ids1,ids2] = H_r - np.mean(H_r_s)\n",
      "        H_rs[ids1,ids2] = H_r\n",
      "        H_r_s_avg[ids1,ids2] = np.mean(H_r_s)\n",
      "\n",
      "        msg = 'Current sweep is (%d,%d) of (%d,%d).' % (ids1,ids2,len(s_widths)-1,len(s_widths)-1)\n",
      "        print msg,' It took', time.time()-start, 'seconds.' "
     ],
     "language": "python",
     "metadata": {},
     "outputs": [
      {
       "ename": "ValueError",
       "evalue": "setting an array element with a sequence.",
       "output_type": "pyerr",
       "traceback": [
        "\u001b[1;31m---------------------------------------------------------------------------\u001b[0m\n\u001b[1;31mValueError\u001b[0m                                Traceback (most recent call last)",
        "\u001b[1;32m<ipython-input-17-e7f8566eb22a>\u001b[0m in \u001b[0;36m<module>\u001b[1;34m()\u001b[0m\n\u001b[0;32m      4\u001b[0m \u001b[1;33m\u001b[0m\u001b[0m\n\u001b[0;32m      5\u001b[0m         \u001b[1;31m# Make filters\u001b[0m\u001b[1;33m\u001b[0m\u001b[1;33m\u001b[0m\u001b[0m\n\u001b[1;32m----> 6\u001b[1;33m         \u001b[0mX_2d1\u001b[0m \u001b[1;33m=\u001b[0m \u001b[0mspatial_filter_2d\u001b[0m\u001b[1;33m(\u001b[0m\u001b[0mc_width\u001b[0m\u001b[1;33m=\u001b[0m\u001b[0mfixed_center_width\u001b[0m\u001b[1;33m,\u001b[0m\u001b[0ms_width\u001b[0m\u001b[1;33m=\u001b[0m\u001b[0ms1\u001b[0m\u001b[1;33m,\u001b[0m\u001b[0mxs_num\u001b[0m\u001b[1;33m=\u001b[0m\u001b[0mnumPhotoreceptors\u001b[0m\u001b[1;33m)\u001b[0m\u001b[1;33m\u001b[0m\u001b[0m\n\u001b[0m\u001b[0;32m      7\u001b[0m         \u001b[0mX_2d2\u001b[0m \u001b[1;33m=\u001b[0m \u001b[0mspatial_filter_2d\u001b[0m\u001b[1;33m(\u001b[0m\u001b[0mc_width\u001b[0m\u001b[1;33m=\u001b[0m\u001b[0mfixed_center_width\u001b[0m\u001b[1;33m,\u001b[0m\u001b[0ms_width\u001b[0m\u001b[1;33m=\u001b[0m\u001b[0ms2\u001b[0m\u001b[1;33m,\u001b[0m\u001b[0mxs_num\u001b[0m\u001b[1;33m=\u001b[0m\u001b[0mnumSubunits\u001b[0m\u001b[1;33m)\u001b[0m\u001b[1;33m\u001b[0m\u001b[0m\n\u001b[0;32m      8\u001b[0m \u001b[1;33m\u001b[0m\u001b[0m\n",
        "\u001b[1;32m<ipython-input-16-820ae7f6e02b>\u001b[0m in \u001b[0;36mspatial_filter_2d\u001b[1;34m(c_width, s_width, xs_num)\u001b[0m\n\u001b[0;32m     34\u001b[0m         \u001b[1;32mfor\u001b[0m \u001b[0midy\u001b[0m\u001b[1;33m,\u001b[0m\u001b[0my\u001b[0m \u001b[1;32min\u001b[0m \u001b[0menumerate\u001b[0m\u001b[1;33m(\u001b[0m\u001b[0mxs\u001b[0m\u001b[1;33m)\u001b[0m\u001b[1;33m:\u001b[0m\u001b[1;33m\u001b[0m\u001b[0m\n\u001b[0;32m     35\u001b[0m             S_2d[idx,idy] = S[np.min([int(np.sqrt((idx-np.floor(len(xs)/2.))**2 \n\u001b[1;32m---> 36\u001b[1;33m                                                      + (idy-np.floor(len(xs)/2.))**2) + np.floor(len(xs)/2.)), len(xs)-1])]\n\u001b[0m\u001b[0;32m     37\u001b[0m             C_2d[idx,idy] = C[np.min([int(np.sqrt((idx-np.floor(len(xs)/2.))**2 \n\u001b[0;32m     38\u001b[0m                                                      + (idy-np.floor(len(xs)/2.))**2) + np.floor(len(xs)/2.)), len(xs)-1])]\n",
        "\u001b[1;31mValueError\u001b[0m: setting an array element with a sequence."
       ]
      }
     ],
     "prompt_number": 17
    },
    {
     "cell_type": "code",
     "collapsed": false,
     "input": [],
     "language": "python",
     "metadata": {},
     "outputs": []
    }
   ],
   "metadata": {}
  }
 ]
}